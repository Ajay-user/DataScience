{
  "nbformat": 4,
  "nbformat_minor": 0,
  "metadata": {
    "colab": {
      "name": "Titanic classification problem.ipynb",
      "provenance": [],
      "toc_visible": true,
      "authorship_tag": "ABX9TyMFbXhDbzw+xOk/I9r7QP/t",
      "include_colab_link": true
    },
    "kernelspec": {
      "name": "python3",
      "display_name": "Python 3"
    },
    "language_info": {
      "name": "python"
    }
  },
  "cells": [
    {
      "cell_type": "markdown",
      "metadata": {
        "id": "view-in-github",
        "colab_type": "text"
      },
      "source": [
        "<a href=\"https://colab.research.google.com/github/Ajay-user/ML-DL-RL-repo/blob/master/Classification%20Problems/Titanic_classification_problem.ipynb\" target=\"_parent\"><img src=\"https://colab.research.google.com/assets/colab-badge.svg\" alt=\"Open In Colab\"/></a>"
      ]
    },
    {
      "cell_type": "code",
      "metadata": {
        "id": "iojn_VyEcU7i"
      },
      "source": [
        "import tensorflow as tf\n",
        "import pandas as pd\n",
        "import numpy as np\n",
        "import matplotlib.pyplot as plt\n",
        "import seaborn as sns"
      ],
      "execution_count": 1,
      "outputs": []
    },
    {
      "cell_type": "markdown",
      "metadata": {
        "id": "ehuATMnQcwrc"
      },
      "source": [
        "## Importing data"
      ]
    },
    {
      "cell_type": "code",
      "metadata": {
        "id": "42AgINZab5gm"
      },
      "source": [
        "# https://www.kaggle.com/c/titanic/data\n",
        "url = 'https://raw.githubusercontent.com/Ajay-user/ML-DL-RL-repo/master/Classification%20Problems/Dataset/titanic.csv'"
      ],
      "execution_count": 2,
      "outputs": []
    },
    {
      "cell_type": "code",
      "metadata": {
        "colab": {
          "base_uri": "https://localhost:8080/",
          "height": 193
        },
        "id": "eq5X_8bHcO6h",
        "outputId": "d3088daa-9b6f-4521-ec89-a5528d2f81b6"
      },
      "source": [
        "titanic_df = pd.read_csv(url)\n",
        "titanic_df.head(3)"
      ],
      "execution_count": 3,
      "outputs": [
        {
          "output_type": "execute_result",
          "data": {
            "text/html": [
              "<div>\n",
              "<style scoped>\n",
              "    .dataframe tbody tr th:only-of-type {\n",
              "        vertical-align: middle;\n",
              "    }\n",
              "\n",
              "    .dataframe tbody tr th {\n",
              "        vertical-align: top;\n",
              "    }\n",
              "\n",
              "    .dataframe thead th {\n",
              "        text-align: right;\n",
              "    }\n",
              "</style>\n",
              "<table border=\"1\" class=\"dataframe\">\n",
              "  <thead>\n",
              "    <tr style=\"text-align: right;\">\n",
              "      <th></th>\n",
              "      <th>PassengerId</th>\n",
              "      <th>Survived</th>\n",
              "      <th>Pclass</th>\n",
              "      <th>Name</th>\n",
              "      <th>Sex</th>\n",
              "      <th>Age</th>\n",
              "      <th>SibSp</th>\n",
              "      <th>Parch</th>\n",
              "      <th>Ticket</th>\n",
              "      <th>Fare</th>\n",
              "      <th>Cabin</th>\n",
              "      <th>Embarked</th>\n",
              "    </tr>\n",
              "  </thead>\n",
              "  <tbody>\n",
              "    <tr>\n",
              "      <th>0</th>\n",
              "      <td>1</td>\n",
              "      <td>0</td>\n",
              "      <td>3</td>\n",
              "      <td>Braund, Mr. Owen Harris</td>\n",
              "      <td>male</td>\n",
              "      <td>22.0</td>\n",
              "      <td>1</td>\n",
              "      <td>0</td>\n",
              "      <td>A/5 21171</td>\n",
              "      <td>7.2500</td>\n",
              "      <td>NaN</td>\n",
              "      <td>S</td>\n",
              "    </tr>\n",
              "    <tr>\n",
              "      <th>1</th>\n",
              "      <td>2</td>\n",
              "      <td>1</td>\n",
              "      <td>1</td>\n",
              "      <td>Cumings, Mrs. John Bradley (Florence Briggs Th...</td>\n",
              "      <td>female</td>\n",
              "      <td>38.0</td>\n",
              "      <td>1</td>\n",
              "      <td>0</td>\n",
              "      <td>PC 17599</td>\n",
              "      <td>71.2833</td>\n",
              "      <td>C85</td>\n",
              "      <td>C</td>\n",
              "    </tr>\n",
              "    <tr>\n",
              "      <th>2</th>\n",
              "      <td>3</td>\n",
              "      <td>1</td>\n",
              "      <td>3</td>\n",
              "      <td>Heikkinen, Miss. Laina</td>\n",
              "      <td>female</td>\n",
              "      <td>26.0</td>\n",
              "      <td>0</td>\n",
              "      <td>0</td>\n",
              "      <td>STON/O2. 3101282</td>\n",
              "      <td>7.9250</td>\n",
              "      <td>NaN</td>\n",
              "      <td>S</td>\n",
              "    </tr>\n",
              "  </tbody>\n",
              "</table>\n",
              "</div>"
            ],
            "text/plain": [
              "   PassengerId  Survived  Pclass  ...     Fare Cabin  Embarked\n",
              "0            1         0       3  ...   7.2500   NaN         S\n",
              "1            2         1       1  ...  71.2833   C85         C\n",
              "2            3         1       3  ...   7.9250   NaN         S\n",
              "\n",
              "[3 rows x 12 columns]"
            ]
          },
          "metadata": {},
          "execution_count": 3
        }
      ]
    },
    {
      "cell_type": "markdown",
      "metadata": {
        "id": "ZfYQ8YzEddR8"
      },
      "source": [
        "## Explore the data"
      ]
    },
    {
      "cell_type": "code",
      "metadata": {
        "colab": {
          "base_uri": "https://localhost:8080/",
          "height": 142
        },
        "id": "Epkp2dvQcoMw",
        "outputId": "5315eef5-28c6-434b-a549-7c58bef53497"
      },
      "source": [
        "(titanic_df.describe()).iloc[:3,:]"
      ],
      "execution_count": 4,
      "outputs": [
        {
          "output_type": "execute_result",
          "data": {
            "text/html": [
              "<div>\n",
              "<style scoped>\n",
              "    .dataframe tbody tr th:only-of-type {\n",
              "        vertical-align: middle;\n",
              "    }\n",
              "\n",
              "    .dataframe tbody tr th {\n",
              "        vertical-align: top;\n",
              "    }\n",
              "\n",
              "    .dataframe thead th {\n",
              "        text-align: right;\n",
              "    }\n",
              "</style>\n",
              "<table border=\"1\" class=\"dataframe\">\n",
              "  <thead>\n",
              "    <tr style=\"text-align: right;\">\n",
              "      <th></th>\n",
              "      <th>PassengerId</th>\n",
              "      <th>Survived</th>\n",
              "      <th>Pclass</th>\n",
              "      <th>Age</th>\n",
              "      <th>SibSp</th>\n",
              "      <th>Parch</th>\n",
              "      <th>Fare</th>\n",
              "    </tr>\n",
              "  </thead>\n",
              "  <tbody>\n",
              "    <tr>\n",
              "      <th>count</th>\n",
              "      <td>891.000000</td>\n",
              "      <td>891.000000</td>\n",
              "      <td>891.000000</td>\n",
              "      <td>714.000000</td>\n",
              "      <td>891.000000</td>\n",
              "      <td>891.000000</td>\n",
              "      <td>891.000000</td>\n",
              "    </tr>\n",
              "    <tr>\n",
              "      <th>mean</th>\n",
              "      <td>446.000000</td>\n",
              "      <td>0.383838</td>\n",
              "      <td>2.308642</td>\n",
              "      <td>29.699118</td>\n",
              "      <td>0.523008</td>\n",
              "      <td>0.381594</td>\n",
              "      <td>32.204208</td>\n",
              "    </tr>\n",
              "    <tr>\n",
              "      <th>std</th>\n",
              "      <td>257.353842</td>\n",
              "      <td>0.486592</td>\n",
              "      <td>0.836071</td>\n",
              "      <td>14.526497</td>\n",
              "      <td>1.102743</td>\n",
              "      <td>0.806057</td>\n",
              "      <td>49.693429</td>\n",
              "    </tr>\n",
              "  </tbody>\n",
              "</table>\n",
              "</div>"
            ],
            "text/plain": [
              "       PassengerId    Survived      Pclass  ...       SibSp       Parch        Fare\n",
              "count   891.000000  891.000000  891.000000  ...  891.000000  891.000000  891.000000\n",
              "mean    446.000000    0.383838    2.308642  ...    0.523008    0.381594   32.204208\n",
              "std     257.353842    0.486592    0.836071  ...    1.102743    0.806057   49.693429\n",
              "\n",
              "[3 rows x 7 columns]"
            ]
          },
          "metadata": {},
          "execution_count": 4
        }
      ]
    },
    {
      "cell_type": "code",
      "metadata": {
        "colab": {
          "base_uri": "https://localhost:8080/"
        },
        "id": "UiLQ5PQGc-Lu",
        "outputId": "c3817983-bf0d-4f38-d2fc-b59788b0525d"
      },
      "source": [
        "# check for null/missing data\n",
        "titanic_df.isna().sum()"
      ],
      "execution_count": 5,
      "outputs": [
        {
          "output_type": "execute_result",
          "data": {
            "text/plain": [
              "PassengerId      0\n",
              "Survived         0\n",
              "Pclass           0\n",
              "Name             0\n",
              "Sex              0\n",
              "Age            177\n",
              "SibSp            0\n",
              "Parch            0\n",
              "Ticket           0\n",
              "Fare             0\n",
              "Cabin          687\n",
              "Embarked         2\n",
              "dtype: int64"
            ]
          },
          "metadata": {},
          "execution_count": 5
        }
      ]
    },
    {
      "cell_type": "code",
      "metadata": {
        "colab": {
          "base_uri": "https://localhost:8080/"
        },
        "id": "7KRGeZyEdll2",
        "outputId": "2b35a7b6-1a45-4dda-e70a-7471f3aa0174"
      },
      "source": [
        "# data type\n",
        "titanic_df.info()"
      ],
      "execution_count": 6,
      "outputs": [
        {
          "output_type": "stream",
          "name": "stdout",
          "text": [
            "<class 'pandas.core.frame.DataFrame'>\n",
            "RangeIndex: 891 entries, 0 to 890\n",
            "Data columns (total 12 columns):\n",
            " #   Column       Non-Null Count  Dtype  \n",
            "---  ------       --------------  -----  \n",
            " 0   PassengerId  891 non-null    int64  \n",
            " 1   Survived     891 non-null    int64  \n",
            " 2   Pclass       891 non-null    int64  \n",
            " 3   Name         891 non-null    object \n",
            " 4   Sex          891 non-null    object \n",
            " 5   Age          714 non-null    float64\n",
            " 6   SibSp        891 non-null    int64  \n",
            " 7   Parch        891 non-null    int64  \n",
            " 8   Ticket       891 non-null    object \n",
            " 9   Fare         891 non-null    float64\n",
            " 10  Cabin        204 non-null    object \n",
            " 11  Embarked     889 non-null    object \n",
            "dtypes: float64(2), int64(5), object(5)\n",
            "memory usage: 83.7+ KB\n"
          ]
        }
      ]
    },
    {
      "cell_type": "markdown",
      "metadata": {
        "id": "57ODIL9GoPMu"
      },
      "source": [
        "## Baseline predictions\n",
        "This is a classification problem, here we are predicting whether a person survived or not using the features such as `PassengerId`,\t`Pclass`,\t`Age`,\t`SibSp`,\t`Parch`,\t`Fare` \n",
        "\n",
        "By studying the data we can see that if 'Sex' is Female then the survival rate is 74% , so we can think of a model that predict survived if the sex field is female. Such a naive model can be set as the basline and let see if we can break this "
      ]
    },
    {
      "cell_type": "code",
      "metadata": {
        "colab": {
          "base_uri": "https://localhost:8080/"
        },
        "id": "MMOk1ub6hEBW",
        "outputId": "a809bf3c-58ce-4a54-fc91-8500785625c1"
      },
      "source": [
        "total_passengers = len(titanic_df)\n",
        "print('Total number of rows in the dataframe',total_passengers)\n",
        "\n",
        "percentage_not_survived, percentage_survived=titanic_df['Survived'].value_counts(normalize=True)\n",
        "print(f'Percentage Survived {percentage_survived :.2f}% Percentage not survived {percentage_not_survived :.2f}%')\n",
        "\n",
        "male,female = titanic_df['Sex'].value_counts()\n",
        "print('Male passenger',male)\n",
        "print('Female passenger',female)\n",
        "\n",
        "male_survived = titanic_df[(titanic_df['Sex']=='male')&(titanic_df['Survived']==1)]['Sex'].value_counts()['male']\n",
        "female_survived = titanic_df[(titanic_df['Sex']=='female')&(titanic_df['Survived']==1)]['Sex'].value_counts()['female']\n",
        "print(f'Male survived {male_survived} male survival rate {(male_survived/male)*100 :.2f}%')\n",
        "print(f'Female survived {female_survived} female survival rate {(female_survived/female)*100 :.2f}%')\n"
      ],
      "execution_count": 7,
      "outputs": [
        {
          "output_type": "stream",
          "name": "stdout",
          "text": [
            "Total number of rows in the dataframe 891\n",
            "Percentage Survived 0.38% Percentage not survived 0.62%\n",
            "Male passenger 577\n",
            "Female passenger 314\n",
            "Male survived 109 male survival rate 18.89%\n",
            "Female survived 233 female survival rate 74.20%\n"
          ]
        }
      ]
    },
    {
      "cell_type": "markdown",
      "metadata": {
        "id": "Im-TIgIqqiYD"
      },
      "source": [
        "## Visualize the data"
      ]
    },
    {
      "cell_type": "code",
      "metadata": {
        "colab": {
          "base_uri": "https://localhost:8080/",
          "height": 334
        },
        "id": "4kaDQLRNdurW",
        "outputId": "10ede2bf-b053-4820-dfd3-626c741ae348"
      },
      "source": [
        "plt.figure(figsize=(12,5))\n",
        "plt.subplot(1,2,1)\n",
        "sns.barplot(x='Sex', y='Survived', data=titanic_df ,palette='coolwarm')\n",
        "plt.subplot(1,2,2)\n",
        "sns.countplot(x='Sex', data=titanic_df, hue='Survived', palette='inferno')\n",
        "plt.show()"
      ],
      "execution_count": 8,
      "outputs": [
        {
          "output_type": "display_data",
          "data": {
            "image/png": "[encoded data removed]",
            "text/plain": [
              "<Figure size 864x360 with 2 Axes>"
            ]
          },
          "metadata": {
            "needs_background": "light"
          }
        }
      ]
    },
    {
      "cell_type": "markdown",
      "metadata": {
        "id": "U8RzB7g-qsBo"
      },
      "source": [
        "## Build a Model using Sklearn"
      ]
    },
    {
      "cell_type": "code",
      "metadata": {
        "id": "xHiOfWY2q35M"
      },
      "source": [
        "\n",
        "# impute missing values using SimpleImputer\n",
        "from sklearn.impute import SimpleImputer\n",
        "# Standardize numerical inputs \n",
        "from sklearn.preprocessing import StandardScaler\n",
        "from sklearn.preprocessing import OneHotEncoder\n",
        "# apply transformation using ColumnTransformer\n",
        "from sklearn.compose import ColumnTransformer\n",
        "# Build ML pipeline using Pipeline\n",
        "from sklearn.pipeline import Pipeline\n",
        "# cross-validation\n",
        "from sklearn.model_selection import cross_val_score\n",
        "# Grid search for hyperparameter tuning\n",
        "from sklearn.model_selection import GridSearchCV\n",
        "\n",
        "\n",
        "# models\n",
        "from sklearn.ensemble import RandomForestClassifier\n",
        "from sklearn.ensemble import GradientBoostingClassifier\n",
        "from sklearn.linear_model import LogisticRegression\n",
        "from sklearn.linear_model import SGDClassifier\n",
        "from sklearn.svm import SVC\n",
        "from xgboost import XGBClassifier"
      ],
      "execution_count": 9,
      "outputs": []
    },
    {
      "cell_type": "markdown",
      "metadata": {
        "id": "3Z1WI1K-riN6"
      },
      "source": [
        "### Features and Transformations"
      ]
    },
    {
      "cell_type": "code",
      "metadata": {
        "colab": {
          "base_uri": "https://localhost:8080/"
        },
        "id": "cbYOjEXVeKeE",
        "outputId": "340dbb87-1e16-4508-84db-4421fb0b3362"
      },
      "source": [
        "unique_val = titanic_df.nunique()\n",
        "for key in titanic_df.columns:\n",
        "  print(f'{key :15s} data-type {titanic_df[key].dtype !s:10} number of unique values {unique_val[key] :2} ')"
      ],
      "execution_count": 10,
      "outputs": [
        {
          "output_type": "stream",
          "name": "stdout",
          "text": [
            "PassengerId     data-type int64      number of unique values 891 \n",
            "Survived        data-type int64      number of unique values  2 \n",
            "Pclass          data-type int64      number of unique values  3 \n",
            "Name            data-type object     number of unique values 891 \n",
            "Sex             data-type object     number of unique values  2 \n",
            "Age             data-type float64    number of unique values 88 \n",
            "SibSp           data-type int64      number of unique values  7 \n",
            "Parch           data-type int64      number of unique values  7 \n",
            "Ticket          data-type object     number of unique values 681 \n",
            "Fare            data-type float64    number of unique values 248 \n",
            "Cabin           data-type object     number of unique values 147 \n",
            "Embarked        data-type object     number of unique values  3 \n"
          ]
        }
      ]
    },
    {
      "cell_type": "code",
      "metadata": {
        "id": "CdRPjzTwr4nt"
      },
      "source": [
        "# FLOAT COLUMNS / CONTINUES NUMERIC \n",
        "numeric_cols = ['Age', 'Fare']\n",
        "numeric_transformer = Pipeline(steps=[('impute',SimpleImputer(strategy='mean')),('scale',StandardScaler())])\n",
        "\n",
        "# STRING CATEGORY \n",
        "str_cat = ['Sex','Cabin','Embarked']\n",
        "str_cat_transformer = Pipeline(steps=[('impute',SimpleImputer(strategy='most_frequent')), ('one_hot',OneHotEncoder(handle_unknown='ignore'))])\n",
        "\n",
        "# INTEGER CATEGORY\n",
        "int_cat = ['Pclass','SibSp','Parch']\n",
        "int_cat_transformer = Pipeline(steps=[('impute',SimpleImputer(strategy='median')),('scale',StandardScaler())])"
      ],
      "execution_count": 11,
      "outputs": []
    },
    {
      "cell_type": "markdown",
      "metadata": {
        "id": "4nWR-eNOyeOG"
      },
      "source": [
        "### Preprocessing and Modeling Pipeline"
      ]
    },
    {
      "cell_type": "code",
      "metadata": {
        "id": "PQAHb2hxtloH"
      },
      "source": [
        "preprocessing = ColumnTransformer(transformers=[\n",
        "                                                ('numeric', numeric_transformer, numeric_cols), \\\n",
        "                                                ('string', str_cat_transformer, str_cat), \\\n",
        "                                                ('integer', int_cat_transformer, int_cat) \\\n",
        "])"
      ],
      "execution_count": 12,
      "outputs": []
    },
    {
      "cell_type": "code",
      "metadata": {
        "id": "SPIi0uqtzH9j"
      },
      "source": [
        "# combine preprocessing and modeling\n",
        "def build_model(model,preprocess=preprocessing):\n",
        "  return Pipeline(steps=[('preprocessing', preprocess), ('modeling', model)])"
      ],
      "execution_count": 13,
      "outputs": []
    },
    {
      "cell_type": "code",
      "metadata": {
        "id": "CyZD9f3IzwtQ"
      },
      "source": [
        "# build a model pipeline \n",
        "def model_training(model,X,y):\n",
        "  pipe = build_model(model)\n",
        "  return cross_val_score(pipe, X, y)"
      ],
      "execution_count": 14,
      "outputs": []
    },
    {
      "cell_type": "code",
      "metadata": {
        "id": "WhhVB0xm03z8"
      },
      "source": [
        "# list of classification models\n",
        "models = [('RandomForest',RandomForestClassifier()), \\\n",
        "          ('LogisticRegression',LogisticRegression()), \\\n",
        "          ('GradientBoosting',GradientBoostingClassifier()), \\\n",
        "          ('SVC',SVC()), \\\n",
        "          ('SGDClassifier',SGDClassifier()), \\\n",
        "          ('XGBClassifier',XGBClassifier(use_label_encoder=False, eval_metric='logloss')) \\\n",
        "         ]"
      ],
      "execution_count": 15,
      "outputs": []
    },
    {
      "cell_type": "markdown",
      "metadata": {
        "id": "29euh29f4GpM"
      },
      "source": [
        "### Model comparison"
      ]
    },
    {
      "cell_type": "code",
      "metadata": {
        "colab": {
          "base_uri": "https://localhost:8080/"
        },
        "id": "l0PEptwy1Ieb",
        "outputId": "1dcbafff-667f-41f4-92e8-2de66c333923"
      },
      "source": [
        "# TRAINING\n",
        "\n",
        "# Feature variable\n",
        "X = titanic_df.drop(columns=['Survived'])\n",
        "# labels\n",
        "y = titanic_df['Survived']\n",
        "\n",
        "\n",
        "for name,model in models:\n",
        "  cv_scores = model_training(model,X,y)\n",
        "  print(f'Model {name :20s} score: {cv_scores.mean()}')\n"
      ],
      "execution_count": 16,
      "outputs": [
        {
          "output_type": "stream",
          "name": "stdout",
          "text": [
            "Model RandomForest         score: 0.8069675475488042\n",
            "Model LogisticRegression   score: 0.7968551879982425\n",
            "Model GradientBoosting     score: 0.8204632477559475\n",
            "Model SVC                  score: 0.8237900947837549\n",
            "Model SGDClassifier        score: 0.760962902517105\n",
            "Model XGBClassifier        score: 0.8238152030632101\n"
          ]
        }
      ]
    },
    {
      "cell_type": "markdown",
      "metadata": {
        "id": "aMO8ktxL35Oa"
      },
      "source": [
        "### Hyperparameter tuning"
      ]
    },
    {
      "cell_type": "code",
      "metadata": {
        "id": "qX1PZm2v2nfX"
      },
      "source": [
        "# Model list with tuning parameters \n",
        "\n",
        "models = [('RandomForest', \\\n",
        "           RandomForestClassifier(), \\\n",
        "           {'modeling__max_depth':[i for i in range(4,12)]}), \\\n",
        "          \n",
        "          ('LogisticRegression', \\\n",
        "           LogisticRegression(), \\\n",
        "           {'modeling__C':[i*0.1 for i in range(10,15)]}), \\\n",
        "          \n",
        "          ('GradientBoosting', \\\n",
        "           GradientBoostingClassifier(), \\\n",
        "           {'modeling__n_estimators':[i for i in range(100,300,50)]}), \\\n",
        "          \n",
        "          ('SVC', \\\n",
        "           SVC(), \\\n",
        "           {'modeling__C':[i for i in range(1,10)]}), \\\n",
        "          \n",
        "          ('SGDClassifier',SGDClassifier(), \\\n",
        "           {'modeling__warm_start':[True,False], \\\n",
        "            'modeling__early_stopping':[True,False], \\\n",
        "            'modeling__average':[True,False]}), \\\n",
        "          \n",
        "          ('XGBClassifier', \\\n",
        "           XGBClassifier(use_label_encoder=False, eval_metric='logloss'), \\\n",
        "           {'modeling__colsample_bytree':[0.7], \\\n",
        "            'modeling__colsample_bylevel':[0.5], \\\n",
        "            'modeling__colsample_bynode':[0.7], \\\n",
        "            'modeling__subsample':[0.6,0.7]}) \\\n",
        "         ]\n"
      ],
      "execution_count": 17,
      "outputs": []
    },
    {
      "cell_type": "code",
      "metadata": {
        "colab": {
          "base_uri": "https://localhost:8080/"
        },
        "id": "XTF4jsy74f6-",
        "outputId": "7afe37c9-49af-4129-8a0a-fbfe912d57e1"
      },
      "source": [
        "# Tuning the model\n",
        "for name, model, param_grid in models:\n",
        "    pipe = build_model(model)\n",
        "    gs = GridSearchCV(pipe, param_grid)\n",
        "    gs.fit(X,y)\n",
        "    print(f'{name :20} {gs.best_score_}')"
      ],
      "execution_count": 18,
      "outputs": [
        {
          "output_type": "stream",
          "name": "stdout",
          "text": [
            "RandomForest         0.8249199673592367\n",
            "LogisticRegression   0.7979787835038604\n",
            "GradientBoosting     0.8193333751804659\n",
            "SVC                  0.8338899001945892\n",
            "SGDClassifier        0.7991023790094784\n",
            "XGBClassifier        0.8238340342728014\n"
          ]
        }
      ]
    },
    {
      "cell_type": "markdown",
      "metadata": {
        "id": "HOZ6_UyH5M-5"
      },
      "source": [
        "## Build a model using Tensorflow"
      ]
    },
    {
      "cell_type": "code",
      "metadata": {
        "colab": {
          "base_uri": "https://localhost:8080/"
        },
        "id": "2mmBkIO047jl",
        "outputId": "c8342170-fe0d-427d-ce95-dc16cf67b1b0"
      },
      "source": [
        "# Features and feature types \n",
        "\n",
        "features = [*numeric_cols, *int_cat, *str_cat]\n",
        "feature_types = {feat:titanic_df[feat].dtype for feat in features}\n",
        "feature_types"
      ],
      "execution_count": 19,
      "outputs": [
        {
          "output_type": "execute_result",
          "data": {
            "text/plain": [
              "{'Age': dtype('float64'),\n",
              " 'Cabin': dtype('O'),\n",
              " 'Embarked': dtype('O'),\n",
              " 'Fare': dtype('float64'),\n",
              " 'Parch': dtype('int64'),\n",
              " 'Pclass': dtype('int64'),\n",
              " 'Sex': dtype('O'),\n",
              " 'SibSp': dtype('int64')}"
            ]
          },
          "metadata": {},
          "execution_count": 19
        }
      ]
    },
    {
      "cell_type": "code",
      "metadata": {
        "colab": {
          "base_uri": "https://localhost:8080/"
        },
        "id": "z1YSU4or5yZm",
        "outputId": "e0705a9b-46a1-4803-b43b-7d3f58e864ea"
      },
      "source": [
        "# Input features\n",
        "inputs = {}\n",
        "for k,v in feature_types.items():\n",
        "  inputs[k]=tf.keras.Input(shape=(1,), dtype=v, name=k)\n",
        "inputs"
      ],
      "execution_count": 44,
      "outputs": [
        {
          "output_type": "execute_result",
          "data": {
            "text/plain": [
              "{'Age': <KerasTensor: shape=(None, 1) dtype=float64 (created by layer 'Age')>,\n",
              " 'Cabin': <KerasTensor: shape=(None, 1) dtype=string (created by layer 'Cabin')>,\n",
              " 'Embarked': <KerasTensor: shape=(None, 1) dtype=string (created by layer 'Embarked')>,\n",
              " 'Fare': <KerasTensor: shape=(None, 1) dtype=float64 (created by layer 'Fare')>,\n",
              " 'Parch': <KerasTensor: shape=(None, 1) dtype=int64 (created by layer 'Parch')>,\n",
              " 'Pclass': <KerasTensor: shape=(None, 1) dtype=int64 (created by layer 'Pclass')>,\n",
              " 'Sex': <KerasTensor: shape=(None, 1) dtype=string (created by layer 'Sex')>,\n",
              " 'SibSp': <KerasTensor: shape=(None, 1) dtype=int64 (created by layer 'SibSp')>}"
            ]
          },
          "metadata": {},
          "execution_count": 44
        }
      ]
    },
    {
      "cell_type": "markdown",
      "metadata": {
        "id": "4P2GAN9I62eJ"
      },
      "source": [
        "It you're passing a heterogenous DataFrame to Keras, each column may need unique preprocessing. You could do this preprocessing directly in the DataFrame, but for a model to work correctly, inputs always need to be preprocessed the same way. So, the best approach is to build the preprocessing into the model.\n",
        "\n",
        "\n",
        "Note: If you have many features that need identical preprocessing it's more efficient to concatenate them together befofre applying the preprocessing."
      ]
    },
    {
      "cell_type": "markdown",
      "metadata": {
        "id": "ueqGYWlJ-EqQ"
      },
      "source": [
        "### Encoding"
      ]
    },
    {
      "cell_type": "code",
      "metadata": {
        "id": "FhfCsKrQ6pO1"
      },
      "source": [
        "# preprocessing \n",
        "\n",
        "def stack_features(df,cols):\n",
        "  feat=[]\n",
        "  for k in sorted(df.keys()):\n",
        "    if k in cols:\n",
        "      feat.append(k)\n",
        "  return df[feat]\n",
        "\n",
        "def transformer(name,transformer,cols,df):\n",
        "  df = stack_features(df, cols)\n",
        "  transformer = ColumnTransformer([(name,transformer,cols)])\n",
        "  return transformer.fit_transform(df)\n",
        "\n",
        "def numerical_encoding(features, df):\n",
        "  transformed_df = transformer('numeric', SimpleImputer(strategy='mean'), numeric_cols, df)\n",
        "  normalizer = tf.keras.layers.Normalization()\n",
        "  normalizer.adapt(transformed_df)\n",
        "  return normalizer(features)\n",
        "\n",
        "def integer_cat_encoding(features, df):\n",
        "  transformed_df = transformer('int_cat', SimpleImputer(strategy='median'), int_cat, df)\n",
        "  lookup = tf.keras.layers.experimental.preprocessing.IntegerLookup()\n",
        "  lookup.adapt(transformed_df)\n",
        "  cat_encode = tf.keras.layers.experimental.preprocessing.CategoryEncoding(num_tokens=lookup.vocabulary_size())\n",
        "  return cat_encode(lookup(features))\n",
        "\n",
        "def string_cat_encoding(features, df):\n",
        "  transformed_df = transformer('str_cat', SimpleImputer(strategy='most_frequent'), str_cat, df)\n",
        "  lookup = tf.keras.layers.experimental.preprocessing.StringLookup()\n",
        "  lookup.adapt(transformed_df)\n",
        "  cat_encode = tf.keras.layers.experimental.preprocessing.CategoryEncoding(num_tokens=lookup.vocabulary_size())\n",
        "  return cat_encode(lookup(features))"
      ],
      "execution_count": 45,
      "outputs": []
    },
    {
      "cell_type": "code",
      "metadata": {
        "colab": {
          "base_uri": "https://localhost:8080/"
        },
        "id": "pPV89RyZ98RK",
        "outputId": "da1e321e-b825-4ea9-eaf5-92de06dad155"
      },
      "source": [
        "all_encoded=[]\n",
        "\n",
        "# Numerical encoding\n",
        "feature_input = [inputs[feat] for feat in sorted(numeric_cols)]\n",
        "numerical_features = tf.keras.layers.concatenate(feature_input)\n",
        "encoding = numerical_encoding(numerical_features, titanic_df)\n",
        "all_encoded.append(encoding)\n",
        "encoding\n"
      ],
      "execution_count": 46,
      "outputs": [
        {
          "output_type": "execute_result",
          "data": {
            "text/plain": [
              "<KerasTensor: shape=(None, 2) dtype=float32 (created by layer 'normalization_8')>"
            ]
          },
          "metadata": {},
          "execution_count": 46
        }
      ]
    },
    {
      "cell_type": "code",
      "metadata": {
        "colab": {
          "base_uri": "https://localhost:8080/"
        },
        "id": "GvX24Zbj_SWY",
        "outputId": "d4a2d119-79b3-4206-f440-2cf020db7a55"
      },
      "source": [
        "# Category encoding \n",
        "\n",
        "# integer category\n",
        "feature_input = [inputs[feat] for feat in sorted(int_cat)]\n",
        "integer_features = tf.keras.layers.concatenate(feature_input)\n",
        "all_encoded.append(integer_cat_encoding(integer_features,titanic_df)) \n",
        "\n",
        "# string category\n",
        "feature_input = [inputs[feat] for feat in sorted(str_cat)]\n",
        "string_features = tf.keras.layers.concatenate(feature_input)\n",
        "all_encoded.append(string_cat_encoding(string_features,titanic_df))\n",
        "\n",
        "all_encoded"
      ],
      "execution_count": 47,
      "outputs": [
        {
          "output_type": "execute_result",
          "data": {
            "text/plain": [
              "[<KerasTensor: shape=(None, 2) dtype=float32 (created by layer 'normalization_8')>,\n",
              " <KerasTensor: shape=(None, 9) dtype=float32 (created by layer 'category_encoding_4')>,\n",
              " <KerasTensor: shape=(None, 153) dtype=float32 (created by layer 'category_encoding_5')>]"
            ]
          },
          "metadata": {},
          "execution_count": 47
        }
      ]
    },
    {
      "cell_type": "markdown",
      "metadata": {
        "id": "2KG_2KgA96Mw"
      },
      "source": [
        "### Building the model"
      ]
    },
    {
      "cell_type": "code",
      "metadata": {
        "colab": {
          "base_uri": "https://localhost:8080/",
          "height": 502
        },
        "id": "L3mAiw45_pYn",
        "outputId": "fc285129-1a87-4dd1-8f97-8495fb13d135"
      },
      "source": [
        "# keras preprocessing head\n",
        "\n",
        "feature_prep = tf.keras.layers.concatenate(all_encoded)\n",
        "titanic_preprocessor = tf.keras.Model(inputs, feature_prep)\n",
        "\n",
        "tf.keras.utils.plot_model(titanic_preprocessor, show_shapes=True, rankdir='LR')\n"
      ],
      "execution_count": 48,
      "outputs": [
        {
          "output_type": "execute_result",
          "data": {
            "image/png": "[encoded data removed]",
            "text/plain": [
              "<IPython.core.display.Image object>"
            ]
          },
          "metadata": {},
          "execution_count": 48
        }
      ]
    },
    {
      "cell_type": "code",
      "metadata": {
        "id": "6tDecYoSASJA"
      },
      "source": [
        "# Tensorflow Sequential model\n",
        "fully_connected = tf.keras.Sequential([\n",
        "                                       tf.keras.layers.Dense(32,'relu'),\n",
        "                                       tf.keras.layers.Dense(16,'relu'),\n",
        "                                       tf.keras.layers.Dense(1)\n",
        "])"
      ],
      "execution_count": 49,
      "outputs": []
    },
    {
      "cell_type": "code",
      "metadata": {
        "id": "s121xymiN6-8"
      },
      "source": [
        "def build_tf_model(inputs, preprocessor, sequential):\n",
        "  prep = preprocessor(inputs)\n",
        "  results = sequential(prep)\n",
        "  model = tf.keras.Model(inputs, results)\n",
        "\n",
        "  # compile the model\n",
        "  model.compile(loss=tf.keras.losses.BinaryCrossentropy(from_logits=True), \\\n",
        "                optimizer='adam', \\\n",
        "                metrics=['accuracy'])\n",
        "  return model"
      ],
      "execution_count": 50,
      "outputs": []
    },
    {
      "cell_type": "code",
      "metadata": {
        "id": "JZ02dhR0O1Ei"
      },
      "source": [
        "tf_model = build_tf_model(inputs, \\\n",
        "                          titanic_preprocessor, \\\n",
        "                          fully_connected)"
      ],
      "execution_count": 51,
      "outputs": []
    },
    {
      "cell_type": "code",
      "metadata": {
        "id": "bw8mE9_QPAnq"
      },
      "source": [
        "# TRAINING DATA\n",
        "training_data={}\n",
        "for k,v in feature_types.items():\n",
        "  na_impute = 'missing' if v=='object' else -1\n",
        "  vals = titanic_df[k].fillna(na_impute)\n",
        "  training_data[k]= np.array(vals)\n",
        "\n",
        "training_label=titanic_df['Survived']\n"
      ],
      "execution_count": 52,
      "outputs": []
    },
    {
      "cell_type": "markdown",
      "metadata": {
        "id": "zj8ieKwT9vEd"
      },
      "source": [
        "### Training the model"
      ]
    },
    {
      "cell_type": "code",
      "metadata": {
        "colab": {
          "base_uri": "https://localhost:8080/"
        },
        "id": "IzKjT2B2PTbL",
        "outputId": "65b127d4-a2e4-4ac7-a018-18aa1a5a6f06"
      },
      "source": [
        "history = tf_model.fit(training_data, training_label, epochs=10)"
      ],
      "execution_count": 54,
      "outputs": [
        {
          "output_type": "stream",
          "name": "stdout",
          "text": [
            "Epoch 1/10\n",
            "28/28 [==============================] - 1s 3ms/step - loss: 0.6465 - accuracy: 0.6162\n",
            "Epoch 2/10\n",
            "28/28 [==============================] - 0s 3ms/step - loss: 0.5791 - accuracy: 0.6341\n",
            "Epoch 3/10\n",
            "28/28 [==============================] - 0s 2ms/step - loss: 0.5102 - accuracy: 0.7464\n",
            "Epoch 4/10\n",
            "28/28 [==============================] - 0s 3ms/step - loss: 0.4649 - accuracy: 0.7856\n",
            "Epoch 5/10\n",
            "28/28 [==============================] - 0s 3ms/step - loss: 0.4427 - accuracy: 0.7991\n",
            "Epoch 6/10\n",
            "28/28 [==============================] - 0s 2ms/step - loss: 0.4337 - accuracy: 0.8148\n",
            "Epoch 7/10\n",
            "28/28 [==============================] - 0s 3ms/step - loss: 0.4231 - accuracy: 0.8137\n",
            "Epoch 8/10\n",
            "28/28 [==============================] - 0s 2ms/step - loss: 0.4146 - accuracy: 0.8159\n",
            "Epoch 9/10\n",
            "28/28 [==============================] - 0s 3ms/step - loss: 0.4078 - accuracy: 0.8193\n",
            "Epoch 10/10\n",
            "28/28 [==============================] - 0s 2ms/step - loss: 0.4016 - accuracy: 0.8361\n"
          ]
        }
      ]
    },
    {
      "cell_type": "code",
      "metadata": {
        "id": "1e1zMlmBSiPM",
        "colab": {
          "base_uri": "https://localhost:8080/",
          "height": 350
        },
        "outputId": "aa9025e1-0065-44aa-e368-7d7ff2010fe3"
      },
      "source": [
        "plt.figure(figsize=(12,5))\n",
        "plt.subplot(1,2,1)\n",
        "plt.plot(history.history['accuracy'],color='green')\n",
        "plt.title(\"MODEL ACCURACY\")\n",
        "plt.xlabel('Epochs')\n",
        "plt.subplot(1,2,2)\n",
        "plt.plot(history.history['loss'],color='salmon')\n",
        "plt.title(\"MODEL LOSS\")\n",
        "plt.xlabel('Epochs')\n",
        "plt.show()"
      ],
      "execution_count": 67,
      "outputs": [
        {
          "output_type": "display_data",
          "data": {
            "image/png": "[encoded data removed]",
            "text/plain": [
              "<Figure size 864x360 with 2 Axes>"
            ]
          },
          "metadata": {
            "needs_background": "light"
          }
        }
      ]
    },
    {
      "cell_type": "code",
      "metadata": {
        "colab": {
          "base_uri": "https://localhost:8080/",
          "height": 35
        },
        "id": "kmpLG4Jj7wPX",
        "outputId": "33fcfa7f-8e35-45aa-89d8-05d77687d3d0"
      },
      "source": [
        "loss"
      ],
      "execution_count": 58,
      "outputs": [
        {
          "output_type": "execute_result",
          "data": {
            "application/vnd.google.colaboratory.intrinsic+json": {
              "type": "string"
            },
            "text/plain": [
              "'accuracy'"
            ]
          },
          "metadata": {},
          "execution_count": 58
        }
      ]
    },
    {
      "cell_type": "code",
      "metadata": {
        "id": "cUkZcYHW7-QR"
      },
      "source": [
        ""
      ],
      "execution_count": null,
      "outputs": []
    }
  ]
}