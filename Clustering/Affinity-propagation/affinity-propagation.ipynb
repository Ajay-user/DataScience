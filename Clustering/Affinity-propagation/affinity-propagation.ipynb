{
 "cells": [
  {
   "attachments": {},
   "cell_type": "markdown",
   "metadata": {},
   "source": [
    "## affinity propagation clustering algorithm\n",
    "\n",
    "Affinity Propagation can be interesting as it chooses the number of clusters based on the data provided. \n",
    "\n",
    "AffinityPropagation creates clusters by sending messages between pairs of samples until convergence.\n",
    "The messages sent between points belong to one of two categories. \n",
    "* The first is the responsibility `r(i, k)` \n",
    "    * which is the accumulated evidence that sample `k` should be the exemplar for sample  `i`\n",
    "* The second is the availability `a(i, k)`\n",
    "    * which is the accumulated evidence that sample `i` should choose sample `k` to be its exemplar \n",
    "\n",
    "The messages sent between pairs represent the suitability for one sample to be the exemplar of the other, which is updated in response to the values from other pairs. \n",
    "<div style='color : seagreen'>\n",
    "<h3>In this way, exemplars are chosen by samples</h3>  \n",
    "<li>If they are similar enough to many samples</li> \n",
    "<li>If they are chosen by many samples to be representative of themselves.</li> \n",
    "</div>\n",
    "\n",
    "This updating happens iteratively until convergence, at which point the final exemplars are chosen, and hence the final clustering is given.\n",
    "\n",
    "A dataset is then described using a small number of exemplars, which are identified as those most representative of other samples.\n",
    "\n",
    "\n",
    "The two important parameters are \n",
    "* `preference` <br>which controls how many exemplars are used\n",
    "    * Preferences for each point \n",
    "        * points with larger values of preferences are more likely to be chosen as exemplars. \n",
    "    * The number of exemplars, ie of clusters, is influenced by the input preferences value. \n",
    "    * If the preferences are not passed as arguments, they will be set to the `median` of the input similarities.\n",
    "*  `damping factor` <br>which damps the responsibility and availability messages to avoid numerical oscillations when updating these messages.\n",
    "    * Damping factor in the range `[0.5, 1.0`)` is the extent to which the current value is maintained relative to incoming values \n",
    "    * This in order to avoid numerical oscillations when updating these values (messages).\n",
    "\n",
    "#### **The main drawback of Affinity Propagation is its complexity.** \n",
    "* This makes Affinity Propagation most appropriate for small to medium sized datasets."
   ]
  },
  {
   "cell_type": "code",
   "execution_count": 1,
   "metadata": {},
   "outputs": [],
   "source": [
    "import numpy as np\n",
    "\n",
    "from sklearn.cluster import AffinityPropagation\n",
    "from sklearn import metrics\n",
    "from sklearn.datasets import make_blobs\n",
    "\n",
    "import matplotlib.pyplot as plt\n",
    "\n",
    "from sklearn.metrics import homogeneity_score\n",
    "from sklearn.metrics import completeness_score\n",
    "from sklearn.metrics import v_measure_score\n",
    "from sklearn.metrics import adjusted_rand_score\n",
    "from sklearn.metrics import adjusted_mutual_info_score\n",
    "from sklearn.metrics import silhouette_score\n"
   ]
  },
  {
   "attachments": {},
   "cell_type": "markdown",
   "metadata": {},
   "source": [
    "### Data"
   ]
  },
  {
   "cell_type": "code",
   "execution_count": 28,
   "metadata": {},
   "outputs": [],
   "source": [
    "centers = [[1, 1], [-1, -1], [1, -1]]\n",
    "X, labels_true = make_blobs(\n",
    "    n_samples=300, centers=centers, cluster_std=0.5, random_state=0\n",
    ")\n",
    "plt.scatter(X[:, 0], X[:, 1], c=labels_true);\n",
    "plt.title('Data');"
   ]
  },
  {
   "attachments": {},
   "cell_type": "markdown",
   "metadata": {},
   "source": [
    "<img src='./plots/data.png'>"
   ]
  },
  {
   "cell_type": "code",
   "execution_count": 8,
   "metadata": {},
   "outputs": [],
   "source": [
    "af = AffinityPropagation(preference=-50 ,random_state=0).fit(X)"
   ]
  },
  {
   "cell_type": "code",
   "execution_count": 9,
   "metadata": {},
   "outputs": [],
   "source": [
    "def evaluate_clustering(data, labels, y_preds):\n",
    "    clustering_metrics = {\n",
    "        \"homogeneity_score\" : homogeneity_score(labels, y_preds),\n",
    "        \"completeness_score\" : completeness_score(labels, y_preds),\n",
    "        \"v_measure_score\" : v_measure_score(labels, y_preds),\n",
    "        \"adjusted_rand_score\"  : adjusted_rand_score(labels, y_preds),\n",
    "        \"adjusted_mutual_info_score\" : adjusted_mutual_info_score(labels, y_preds),\n",
    "        \"silhouette_score\" : silhouette_score(data, y_preds)\n",
    "    }\n",
    "    return clustering_metrics"
   ]
  },
  {
   "cell_type": "code",
   "execution_count": 5,
   "metadata": {},
   "outputs": [
    {
     "data": {
      "text/plain": [
       "{'homogeneity_score': 0.8715595298385134,\n",
       " 'completeness_score': 0.8715859753374195,\n",
       " 'v_measure_score': 0.8715727523873623,\n",
       " 'adjusted_rand_score': 0.9119626080431966,\n",
       " 'adjusted_mutual_info_score': 0.8707815164449694,\n",
       " 'silhouette_score': 0.5575114103770364}"
      ]
     },
     "execution_count": 5,
     "metadata": {},
     "output_type": "execute_result"
    }
   ],
   "source": [
    "evaluate_clustering(X, labels_true, af.labels_)"
   ]
  },
  {
   "attachments": {},
   "cell_type": "markdown",
   "metadata": {},
   "source": [
    "### Results"
   ]
  },
  {
   "cell_type": "code",
   "execution_count": 10,
   "metadata": {},
   "outputs": [],
   "source": [
    "cluster_center_indices = af.cluster_centers_indices_\n",
    "labels = af.labels_"
   ]
  },
  {
   "cell_type": "code",
   "execution_count": 24,
   "metadata": {},
   "outputs": [],
   "source": [
    "\n",
    "plt.scatter(X[:, 0], X[:, 1], c=af.labels_, alpha=0.7);\n",
    "plt.scatter(X[cluster_center_indices][:, 0], X[cluster_center_indices][:, 1], marker='o', s=250, c='k');\n",
    "\n",
    "for c in range(3):\n",
    "    cluster_members = X[labels == c]\n",
    "    xx, yy = X[cluster_center_indices[c]]\n",
    "\n",
    "    for x,y in cluster_members:\n",
    "        plt.plot([xx, x], [yy, y], alpha=0.5)\n",
    "\n",
    "plt.title(f\"Estimated numbers of clusters :{len(cluster_center_indices)}\");"
   ]
  },
  {
   "attachments": {},
   "cell_type": "markdown",
   "metadata": {},
   "source": [
    "<img src='./plots/affinity-propagation-clusters.png'>"
   ]
  },
  {
   "cell_type": "code",
   "execution_count": null,
   "metadata": {},
   "outputs": [],
   "source": []
  },
  {
   "cell_type": "code",
   "execution_count": null,
   "metadata": {},
   "outputs": [],
   "source": []
  }
 ],
 "metadata": {
  "kernelspec": {
   "display_name": "datascience_env",
   "language": "python",
   "name": "python3"
  },
  "language_info": {
   "codemirror_mode": {
    "name": "ipython",
    "version": 3
   },
   "file_extension": ".py",
   "mimetype": "text/x-python",
   "name": "python",
   "nbconvert_exporter": "python",
   "pygments_lexer": "ipython3",
   "version": "3.10.8"
  },
  "orig_nbformat": 4,
  "vscode": {
   "interpreter": {
    "hash": "9dd57416d08487125cddc31714a1d5a29ab9aaf930e8420812b05ce6347e3520"
   }
  }
 },
 "nbformat": 4,
 "nbformat_minor": 2
}
