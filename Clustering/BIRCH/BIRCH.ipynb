{
 "cells": [
  {
   "attachments": {},
   "cell_type": "markdown",
   "metadata": {},
   "source": [
    "## Balanced Iterative Reducing and Clustering using Hierarchies\n",
    "\n",
    "**BIRCH and CHAMELEON both can be categorized under hierarchical clustering.**\n",
    "\n",
    "BIRCH is used for large dataset that can't fit into the memory<br>\n",
    "**BIRCH scales linearly : finds a good clustering with a single scan and improves the quality with a few additional scans**\n",
    "\n",
    "**The Idea :** is to create a tree structure called **CLUSTERING FEATURE TREE**\n",
    "* Incrementally construct a CF-Tree holding information for rough heirarchical-clustering and fine-clustering\n",
    "\n",
    "\n",
    "**Clustering Feature (CF)**\n",
    "BIRCH attempts to minimize the memory requirements of large datasets by summarizing the information contained in dense regions as Clustering Feature (CF) entries.\n",
    "* In simple terms CF is a set of summary statistics that can be used to build a CF tree\n",
    "\n",
    "\n",
    "**Phases in BIRCH**\n",
    "* Phase - 1\n",
    "    * Scan the DB to build an initial in-memory CF tree  [ *`hierarchical clustering`* ]\n",
    "    * The leaf nodes of CF-tree holds many small and tight clusters  [ *`Data reduction & clustering`* ]\n",
    "* Phase - 2\n",
    "    * Use other clustering algorithms to cluster small and tight clusters\n",
    "    * Merge dense clusters\n",
    "    * and/or remove outliers\n",
    "\n",
    "\n"
   ]
  },
  {
   "attachments": {},
   "cell_type": "markdown",
   "metadata": {},
   "source": [
    "## Clustering Feature vector in BIRCH\n",
    "\n",
    "CF = ( N , LS , SS )\n",
    "* L\n",
    "    * Number of data points\n",
    "* LS\n",
    "    * Linear sum of `N` points\n",
    "* SS\n",
    "    * Square sum of `N` points\n",
    "\n",
    "<img src='./notes/notes-1.jpg'>"
   ]
  },
  {
   "attachments": {},
   "cell_type": "markdown",
   "metadata": {},
   "source": [
    "<img src='./notes/notes-2.jpg'>"
   ]
  },
  {
   "attachments": {},
   "cell_type": "markdown",
   "metadata": {},
   "source": [
    "## CF TREE\n",
    "\n",
    "The CF-tree is a very compact representation of the dataset because each entry in a leaf node is not a single data point but a subcluster. Each nonleaf node contains at most B entries. \n",
    "* CF-Tree hold CF-vector but no raw data\n",
    "\n",
    "**Hyper-parameters**\n",
    "* `T` : cluster diameter, Threshold for leaf entry\n",
    "* `B` : Braching factor , length of an internal node\n",
    "* `L` : Length of a leaf node\n",
    "\n",
    "<img src='./notes/notes-3.jpg'>"
   ]
  },
  {
   "cell_type": "code",
   "execution_count": 44,
   "metadata": {},
   "outputs": [],
   "source": [
    "from itertools import cycle\n",
    "\n",
    "import numpy as np\n",
    "from matplotlib import pyplot as plt\n",
    "import matplotlib.colors as colors\n",
    "\n",
    "from sklearn.datasets import make_blobs\n",
    "from sklearn.cluster import Birch"
   ]
  },
  {
   "attachments": {},
   "cell_type": "markdown",
   "metadata": {},
   "source": [
    "#### Generate some data"
   ]
  },
  {
   "cell_type": "code",
   "execution_count": 17,
   "metadata": {},
   "outputs": [],
   "source": [
    "X, labels = make_blobs(n_samples=500, n_features=2, centers=6, cluster_std=0.7, random_state=0)\n",
    "plt.scatter(X[:, 0], X[:, 1]);"
   ]
  },
  {
   "attachments": {},
   "cell_type": "markdown",
   "metadata": {},
   "source": [
    "<img src='./plots/sample-data.png'>"
   ]
  },
  {
   "attachments": {},
   "cell_type": "markdown",
   "metadata": {},
   "source": [
    "**BIRCH**\n",
    "\n",
    "\n",
    "* threshold\n",
    "    * The radius of the subcluster obtained by merging a new sample and the closest subcluster should be lesser than the threshold. Otherwise a new subcluster is started.\n",
    "    * `default=0.5`\n",
    "* branching_factor\n",
    "    * Maximum number of CF subclusters in each node.\n",
    "    * If a new samples enters such that the number of subclusters exceed the branching_factor then that node is split into two nodes with the subclusters redistributed in each.\n",
    "    * `default=50`\n",
    "* n_clusters\n",
    "    * Number of clusters after the final clustering step, which treats the subclusters from the leaves as new samples.\n",
    "    * If you give `None` for n_clusters then the final clustering step is not performed and the subclusters are returned as they are.\n",
    "    * If a model is provided, the model is fit treating the subclusters as new samples and the initial data is mapped to the label of the closest subcluster.\n",
    "    * If you give an interger as input then the model fit is AgglomerativeClustering with n_clusters set to be equal to the integer.\n",
    "    * `default=3` :  AgglomerativeClustering with n_clusters set to `3`\n"
   ]
  },
  {
   "cell_type": "code",
   "execution_count": 18,
   "metadata": {},
   "outputs": [
    {
     "data": {
      "text/html": [
       "<style>#sk-container-id-2 {color: black;background-color: white;}#sk-container-id-2 pre{padding: 0;}#sk-container-id-2 div.sk-toggleable {background-color: white;}#sk-container-id-2 label.sk-toggleable__label {cursor: pointer;display: block;width: 100%;margin-bottom: 0;padding: 0.3em;box-sizing: border-box;text-align: center;}#sk-container-id-2 label.sk-toggleable__label-arrow:before {content: \"▸\";float: left;margin-right: 0.25em;color: #696969;}#sk-container-id-2 label.sk-toggleable__label-arrow:hover:before {color: black;}#sk-container-id-2 div.sk-estimator:hover label.sk-toggleable__label-arrow:before {color: black;}#sk-container-id-2 div.sk-toggleable__content {max-height: 0;max-width: 0;overflow: hidden;text-align: left;background-color: #f0f8ff;}#sk-container-id-2 div.sk-toggleable__content pre {margin: 0.2em;color: black;border-radius: 0.25em;background-color: #f0f8ff;}#sk-container-id-2 input.sk-toggleable__control:checked~div.sk-toggleable__content {max-height: 200px;max-width: 100%;overflow: auto;}#sk-container-id-2 input.sk-toggleable__control:checked~label.sk-toggleable__label-arrow:before {content: \"▾\";}#sk-container-id-2 div.sk-estimator input.sk-toggleable__control:checked~label.sk-toggleable__label {background-color: #d4ebff;}#sk-container-id-2 div.sk-label input.sk-toggleable__control:checked~label.sk-toggleable__label {background-color: #d4ebff;}#sk-container-id-2 input.sk-hidden--visually {border: 0;clip: rect(1px 1px 1px 1px);clip: rect(1px, 1px, 1px, 1px);height: 1px;margin: -1px;overflow: hidden;padding: 0;position: absolute;width: 1px;}#sk-container-id-2 div.sk-estimator {font-family: monospace;background-color: #f0f8ff;border: 1px dotted black;border-radius: 0.25em;box-sizing: border-box;margin-bottom: 0.5em;}#sk-container-id-2 div.sk-estimator:hover {background-color: #d4ebff;}#sk-container-id-2 div.sk-parallel-item::after {content: \"\";width: 100%;border-bottom: 1px solid gray;flex-grow: 1;}#sk-container-id-2 div.sk-label:hover label.sk-toggleable__label {background-color: #d4ebff;}#sk-container-id-2 div.sk-serial::before {content: \"\";position: absolute;border-left: 1px solid gray;box-sizing: border-box;top: 0;bottom: 0;left: 50%;z-index: 0;}#sk-container-id-2 div.sk-serial {display: flex;flex-direction: column;align-items: center;background-color: white;padding-right: 0.2em;padding-left: 0.2em;position: relative;}#sk-container-id-2 div.sk-item {position: relative;z-index: 1;}#sk-container-id-2 div.sk-parallel {display: flex;align-items: stretch;justify-content: center;background-color: white;position: relative;}#sk-container-id-2 div.sk-item::before, #sk-container-id-2 div.sk-parallel-item::before {content: \"\";position: absolute;border-left: 1px solid gray;box-sizing: border-box;top: 0;bottom: 0;left: 50%;z-index: -1;}#sk-container-id-2 div.sk-parallel-item {display: flex;flex-direction: column;z-index: 1;position: relative;background-color: white;}#sk-container-id-2 div.sk-parallel-item:first-child::after {align-self: flex-end;width: 50%;}#sk-container-id-2 div.sk-parallel-item:last-child::after {align-self: flex-start;width: 50%;}#sk-container-id-2 div.sk-parallel-item:only-child::after {width: 0;}#sk-container-id-2 div.sk-dashed-wrapped {border: 1px dashed gray;margin: 0 0.4em 0.5em 0.4em;box-sizing: border-box;padding-bottom: 0.4em;background-color: white;}#sk-container-id-2 div.sk-label label {font-family: monospace;font-weight: bold;display: inline-block;line-height: 1.2em;}#sk-container-id-2 div.sk-label-container {text-align: center;}#sk-container-id-2 div.sk-container {/* jupyter's `normalize.less` sets `[hidden] { display: none; }` but bootstrap.min.css set `[hidden] { display: none !important; }` so we also need the `!important` here to be able to override the default hidden behavior on the sphinx rendered scikit-learn.org. See: https://github.com/scikit-learn/scikit-learn/issues/21755 */display: inline-block !important;position: relative;}#sk-container-id-2 div.sk-text-repr-fallback {display: none;}</style><div id=\"sk-container-id-2\" class=\"sk-top-container\"><div class=\"sk-text-repr-fallback\"><pre>Birch(n_clusters=6)</pre><b>In a Jupyter environment, please rerun this cell to show the HTML representation or trust the notebook. <br />On GitHub, the HTML representation is unable to render, please try loading this page with nbviewer.org.</b></div><div class=\"sk-container\" hidden><div class=\"sk-item\"><div class=\"sk-estimator sk-toggleable\"><input class=\"sk-toggleable__control sk-hidden--visually\" id=\"sk-estimator-id-2\" type=\"checkbox\" checked><label for=\"sk-estimator-id-2\" class=\"sk-toggleable__label sk-toggleable__label-arrow\">Birch</label><div class=\"sk-toggleable__content\"><pre>Birch(n_clusters=6)</pre></div></div></div></div></div>"
      ],
      "text/plain": [
       "Birch(n_clusters=6)"
      ]
     },
     "execution_count": 18,
     "metadata": {},
     "output_type": "execute_result"
    }
   ],
   "source": [
    "birch = Birch(threshold=0.5, branching_factor=50, n_clusters=6)\n",
    "birch.fit(X)\n",
    "plt.scatter(X[:, 0], X[:, 1], c=birch.labels_);"
   ]
  },
  {
   "attachments": {},
   "cell_type": "markdown",
   "metadata": {},
   "source": [
    "<img src='./plots/sample-data-clustering.png'>"
   ]
  },
  {
   "attachments": {},
   "cell_type": "markdown",
   "metadata": {},
   "source": [
    "* BIRCH provides a clustering method for very large datasets. \n",
    "* It makes a large clustering problem plausible by concentrating on densely occupied regions, and creating a compact summary. \n",
    "* BIRCH can work with any given amount of memory, and the I/O complexity is a little more than one scan of data. \n",
    "* Other clustering algorithms can be applied to the subclusters produced by BIRCH.\n",
    "\n",
    "<img src='./notes/notes-7.jpg'>"
   ]
  }
 ],
 "metadata": {
  "kernelspec": {
   "display_name": "datascience_env",
   "language": "python",
   "name": "python3"
  },
  "language_info": {
   "codemirror_mode": {
    "name": "ipython",
    "version": 3
   },
   "file_extension": ".py",
   "mimetype": "text/x-python",
   "name": "python",
   "nbconvert_exporter": "python",
   "pygments_lexer": "ipython3",
   "version": "3.10.8"
  },
  "orig_nbformat": 4,
  "vscode": {
   "interpreter": {
    "hash": "9dd57416d08487125cddc31714a1d5a29ab9aaf930e8420812b05ce6347e3520"
   }
  }
 },
 "nbformat": 4,
 "nbformat_minor": 2
}
