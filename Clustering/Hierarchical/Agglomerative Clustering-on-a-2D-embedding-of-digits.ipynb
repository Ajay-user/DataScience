{
 "cells": [
  {
   "attachments": {},
   "cell_type": "markdown",
   "metadata": {},
   "source": [
    "#### Agglomerative clustering tends to create uneven cluster sizes\n",
    "* What this example shows us is the behavior “rich getting richer” of agglomerative clustering that tends to create uneven cluster sizes.\n",
    "\n",
    "* This behavior is pronounced for the average linkage and complete linkage strategy, that ends up with a couple of clusters with few datapoints.\n",
    "\n",
    "* The case of single linkage is we can see a very large cluster covering most digits, an intermediate size (clean) cluster with most zero digits and all other clusters being drawn from noise points around the fringes.\n",
    "\n",
    "The ward linkage lead to more evenly distributed clusters that are therefore likely to be less sensible to a random resampling of the dataset."
   ]
  },
  {
   "cell_type": "code",
   "execution_count": 38,
   "metadata": {},
   "outputs": [],
   "source": [
    "import numpy as np\n",
    "from matplotlib import pyplot as plt\n",
    "\n",
    "from sklearn import manifold, datasets, cluster"
   ]
  },
  {
   "attachments": {},
   "cell_type": "markdown",
   "metadata": {},
   "source": [
    "### Data"
   ]
  },
  {
   "cell_type": "code",
   "execution_count": 39,
   "metadata": {},
   "outputs": [
    {
     "name": "stdout",
     "output_type": "stream",
     "text": [
      "Number of samples is 1797 and number of features is 64\n"
     ]
    }
   ],
   "source": [
    "digits = datasets.load_digits()\n",
    "X, y = digits.data, digits.target\n",
    "n_samples, n_features = X.shape\n",
    "print(f'Number of samples is {n_samples} and number of features is {n_features}')"
   ]
  },
  {
   "attachments": {},
   "cell_type": "markdown",
   "metadata": {},
   "source": [
    "#### Manifold learning\n",
    "* Manifold learning is an approach to non-linear dimensionality reduction.\n",
    "* Manifold learning is  based on the idea that the dimensionality of many data sets is only artificially high.\n",
    "\n",
    "#### Spectral Embedding\n",
    "* Project the sample on the first eigenvectors of the graph Laplacian.\n",
    "* The adjacency matrix is used to compute a normalized graph Laplacian whose spectrum (especially the eigenvectors associated to the smallest eigenvalues) has an interpretation in terms of minimal number of cuts necessary to split the graph into comparably sized components.\n",
    "* This embedding can also 'work' even if the adjacency variable is not strictly the adjacency matrix of a graph but more generally an affinity or similarity matrix between samples\n",
    "\n",
    "**However care must taken to always make the affinity matrix symmetric so that the eigenvector decomposition works as expected.**\n",
    "\n"
   ]
  },
  {
   "cell_type": "code",
   "execution_count": 40,
   "metadata": {},
   "outputs": [
    {
     "name": "stdout",
     "output_type": "stream",
     "text": [
      "Shape of reduced X (1797, 2)\n"
     ]
    }
   ],
   "source": [
    "X_reduced = manifold.SpectralEmbedding(n_components=2).fit_transform(X)\n",
    "print('Shape of reduced X', X_reduced.shape)"
   ]
  },
  {
   "attachments": {},
   "cell_type": "markdown",
   "metadata": {},
   "source": [
    "### Agglomerative Clustering on a 2D embedding of digits"
   ]
  },
  {
   "cell_type": "code",
   "execution_count": 41,
   "metadata": {},
   "outputs": [],
   "source": [
    "def agglomerative_clustering(linkage='ward', metric='euclidean', n_clusters=10):\n",
    "    agglomerative = cluster.AgglomerativeClustering(n_clusters=n_clusters, linkage=linkage, metric=metric)\n",
    "    agglomerative.fit(X_reduced, y)\n",
    "    return agglomerative"
   ]
  },
  {
   "cell_type": "code",
   "execution_count": 42,
   "metadata": {},
   "outputs": [],
   "source": [
    "\n",
    "def get_colors(agglomerative):\n",
    "    colors= plt.cm.nipy_spectral(agglomerative.labels_.astype('float')/10)\n",
    "    return colors\n"
   ]
  },
  {
   "cell_type": "code",
   "execution_count": 45,
   "metadata": {},
   "outputs": [],
   "source": [
    "def plot_results(agglomerative, color, linkage, metric):\n",
    "    plt.figure(figsize=(15,10))\n",
    "    for label in np.unique(agglomerative.labels_):\n",
    "        mask = agglomerative.labels_ == label\n",
    "\n",
    "        plt.scatter(X_reduced[mask, 0], X_reduced[mask, 1], marker=f\"${label}$\", color=color[mask], s=50)\n",
    "    plt.title(f'Agglomerative Clustering | linkage:{linkage} | Metric:{metric}')"
   ]
  },
  {
   "cell_type": "code",
   "execution_count": 44,
   "metadata": {},
   "outputs": [],
   "source": [
    "def cluster_digits(linkage='ward', metric='euclidean', n_clusters=10):\n",
    "    agglomerative = agglomerative_clustering(linkage, metric, n_clusters)\n",
    "    colors = get_colors(agglomerative)\n",
    "    plot_results(agglomerative, colors, linkage, metric)\n"
   ]
  },
  {
   "attachments": {},
   "cell_type": "markdown",
   "metadata": {},
   "source": [
    "#### Single Linkage | uses the minimum of the distances between all observations of the two sets."
   ]
  },
  {
   "cell_type": "code",
   "execution_count": 55,
   "metadata": {},
   "outputs": [],
   "source": [
    "cluster_digits(linkage='single')"
   ]
  },
  {
   "attachments": {},
   "cell_type": "markdown",
   "metadata": {},
   "source": [
    "<img src='./plots/single-linkage-digits-dataset.png'>"
   ]
  },
  {
   "attachments": {},
   "cell_type": "markdown",
   "metadata": {},
   "source": [
    "#### Complete linkage | uses the maximum distances between all observations of the two sets"
   ]
  },
  {
   "cell_type": "code",
   "execution_count": 56,
   "metadata": {},
   "outputs": [],
   "source": [
    "cluster_digits(linkage='complete')"
   ]
  },
  {
   "attachments": {},
   "cell_type": "markdown",
   "metadata": {},
   "source": [
    "<img src='./plots/complete-linkage-digits-dataset.png'>"
   ]
  },
  {
   "attachments": {},
   "cell_type": "markdown",
   "metadata": {},
   "source": [
    "#### Average linkage | uses the average of the distances of each observation of the two sets"
   ]
  },
  {
   "cell_type": "code",
   "execution_count": 57,
   "metadata": {},
   "outputs": [],
   "source": [
    "cluster_digits(linkage='average')"
   ]
  },
  {
   "attachments": {},
   "cell_type": "markdown",
   "metadata": {},
   "source": [
    "<img src='./plots/average-linkage-digits-dataset.png'>"
   ]
  },
  {
   "attachments": {},
   "cell_type": "markdown",
   "metadata": {},
   "source": [
    "#### Ward linkage | minimizes the variance of the clusters being merged."
   ]
  },
  {
   "cell_type": "code",
   "execution_count": 58,
   "metadata": {},
   "outputs": [],
   "source": [
    "cluster_digits(linkage='ward')"
   ]
  },
  {
   "attachments": {},
   "cell_type": "markdown",
   "metadata": {},
   "source": [
    "<img src='./plots/ward-linkage-digits-dataset.png'>"
   ]
  },
  {
   "cell_type": "code",
   "execution_count": null,
   "metadata": {},
   "outputs": [],
   "source": []
  }
 ],
 "metadata": {
  "kernelspec": {
   "display_name": "datascience_env",
   "language": "python",
   "name": "python3"
  },
  "language_info": {
   "codemirror_mode": {
    "name": "ipython",
    "version": 3
   },
   "file_extension": ".py",
   "mimetype": "text/x-python",
   "name": "python",
   "nbconvert_exporter": "python",
   "pygments_lexer": "ipython3",
   "version": "3.10.8"
  },
  "orig_nbformat": 4,
  "vscode": {
   "interpreter": {
    "hash": "9dd57416d08487125cddc31714a1d5a29ab9aaf930e8420812b05ce6347e3520"
   }
  }
 },
 "nbformat": 4,
 "nbformat_minor": 2
}
