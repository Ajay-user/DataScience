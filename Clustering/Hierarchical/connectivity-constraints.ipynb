{
 "cells": [
  {
   "attachments": {},
   "cell_type": "markdown",
   "metadata": {},
   "source": [
    "#### Adding connectivity constraints\n",
    "* An interesting aspect of AgglomerativeClustering is that connectivity constraints can be added to this algorithm \n",
    "* Connectivity constraints implies that only adjacent clusters can be merged together\n",
    "* We can impose connectivity constraints through a connectivity matrix that defines for each sample the neighboring samples following a given structure of the data. \n",
    "* These constraint are useful to impose a certain local structure, but they also make the algorithm faster, especially when the number of the samples is high.\n",
    "\n",
    "**The connectivity constraints are imposed via an connectivity matrix: a scipy sparse matrix that has elements only at the intersection of a row and a column with indices of the dataset that should be connected.**\n",
    "\n",
    "* This matrix can be constructed from a-priori information:<br> for instance, you may wish to cluster web pages by only merging pages with a link pointing from one to another. \n",
    "* It can also be learned from the data <br> for instance \n",
    "    * using `sklearn.neighbors.kneighbors_graph` to restrict merging to nearest neighbors \n",
    "    * using `sklearn.feature_extraction.image.grid_to_graph` to enable only merging of neighboring pixels on an image.\n",
    "\n",
    "\n",
    "**For instance, in the swiss-roll example below, the connectivity constraints forbid the merging of points that are not adjacent on the swiss roll, and thus avoid forming clusters that extend across overlapping folds of the roll.**"
   ]
  },
  {
   "cell_type": "code",
   "execution_count": 4,
   "metadata": {},
   "outputs": [],
   "source": [
    "import matplotlib.pyplot as plt\n",
    "from sklearn.neighbors import kneighbors_graph\n",
    "from sklearn.cluster import AgglomerativeClustering\n",
    "from sklearn.datasets import make_swiss_roll"
   ]
  },
  {
   "attachments": {},
   "cell_type": "markdown",
   "metadata": {},
   "source": [
    "#### Swiss Roll dataset"
   ]
  },
  {
   "cell_type": "code",
   "execution_count": 9,
   "metadata": {},
   "outputs": [
    {
     "name": "stdout",
     "output_type": "stream",
     "text": [
      "Shape of X : (1500, 3)\n"
     ]
    }
   ],
   "source": [
    "# The Swiss Roll dataset.\n",
    "\n",
    "from sklearn.datasets import make_swiss_roll\n",
    "\n",
    "n_samples = 1500\n",
    "noise = 0.05\n",
    "X, _ = make_swiss_roll(n_samples, noise=noise)\n",
    "# Make it thinner\n",
    "X[:, 1] *= 0.5\n",
    "print('Shape of X :',X.shape)"
   ]
  },
  {
   "attachments": {},
   "cell_type": "markdown",
   "metadata": {},
   "source": [
    "#### Clustering without any connectivity constraints"
   ]
  },
  {
   "cell_type": "code",
   "execution_count": 36,
   "metadata": {},
   "outputs": [],
   "source": [
    "agglomerative = AgglomerativeClustering(n_clusters=6, linkage='ward', metric='euclidean')\n",
    "agglomerative.fit(X)\n",
    "labels_without_connectivity = agglomerative.labels_"
   ]
  },
  {
   "cell_type": "code",
   "execution_count": 38,
   "metadata": {},
   "outputs": [],
   "source": [
    "plt.figure(figsize=(10,10))\n",
    "ax = plt.subplot(projection='3d', elev=7, azim=-80)\n",
    "for i in range(6):\n",
    "    ax.scatter(\n",
    "        X[agglomerative.labels_==i, 0],\n",
    "        X[agglomerative.labels_==i, 1],\n",
    "        X[agglomerative.labels_==i, 2],\n",
    "        edgecolors='k'\n",
    "        )\n",
    "\n",
    "plt.title('Agglomerative clustering without connectivity constraints');\n"
   ]
  },
  {
   "attachments": {},
   "cell_type": "markdown",
   "metadata": {},
   "source": [
    "<img src='./plots/Agglomerative-clustering-without-connectivity-constraints.png'>"
   ]
  },
  {
   "attachments": {},
   "cell_type": "markdown",
   "metadata": {},
   "source": [
    "#### Clustering with connectivity constraints"
   ]
  },
  {
   "cell_type": "code",
   "execution_count": 31,
   "metadata": {},
   "outputs": [
    {
     "name": "stdout",
     "output_type": "stream",
     "text": [
      "Shape of connectivity : (1500, 1500)\n"
     ]
    }
   ],
   "source": [
    "# k-Nearest Neighbors with 10 neighbors\n",
    "connectivity = kneighbors_graph(X, p=2, metric='minkowski', mode='connectivity', n_neighbors=10)\n",
    "print('Shape of connectivity :',connectivity.shape)"
   ]
  },
  {
   "cell_type": "code",
   "execution_count": 32,
   "metadata": {},
   "outputs": [],
   "source": [
    "agglomerative = AgglomerativeClustering(n_clusters=6, linkage='ward', metric='euclidean', connectivity=connectivity)\n",
    "agglomerative.fit(X)\n",
    "labels_connectivity = agglomerative.labels_"
   ]
  },
  {
   "cell_type": "code",
   "execution_count": 39,
   "metadata": {},
   "outputs": [],
   "source": [
    "plt.figure(figsize=(10,10))\n",
    "ax = plt.subplot(projection='3d', elev=7, azim=-80)\n",
    "for i in range(6):\n",
    "    ax.scatter(\n",
    "        X[agglomerative.labels_==i, 0],\n",
    "        X[agglomerative.labels_==i, 1],\n",
    "        X[agglomerative.labels_==i, 2],\n",
    "        edgecolors='k'\n",
    "        )\n",
    "plt.title('Agglomerative clustering with connectivity constraints');"
   ]
  },
  {
   "attachments": {},
   "cell_type": "markdown",
   "metadata": {},
   "source": [
    "<img src='./plots/Agglomerative-clustering-with-connectivity-constraints.png'>"
   ]
  },
  {
   "cell_type": "code",
   "execution_count": null,
   "metadata": {},
   "outputs": [],
   "source": []
  }
 ],
 "metadata": {
  "kernelspec": {
   "display_name": "datascience_env",
   "language": "python",
   "name": "python3"
  },
  "language_info": {
   "codemirror_mode": {
    "name": "ipython",
    "version": 3
   },
   "file_extension": ".py",
   "mimetype": "text/x-python",
   "name": "python",
   "nbconvert_exporter": "python",
   "pygments_lexer": "ipython3",
   "version": "3.10.8"
  },
  "orig_nbformat": 4,
  "vscode": {
   "interpreter": {
    "hash": "9dd57416d08487125cddc31714a1d5a29ab9aaf930e8420812b05ce6347e3520"
   }
  }
 },
 "nbformat": 4,
 "nbformat_minor": 2
}
