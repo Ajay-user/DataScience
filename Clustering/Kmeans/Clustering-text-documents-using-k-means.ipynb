{
 "cells": [
  {
   "cell_type": "code",
   "execution_count": 87,
   "metadata": {},
   "outputs": [],
   "source": [
    "import numpy as np\n",
    "import matplotlib.pyplot as plt\n",
    "\n",
    "from sklearn.feature_extraction.text import CountVectorizer, HashingVectorizer, TfidfVectorizer, TfidfTransformer\n",
    "from sklearn.cluster import KMeans, MiniBatchKMeans\n",
    "from sklearn.decomposition import PCA, TruncatedSVD\n",
    "from sklearn.preprocessing import StandardScaler, Normalizer\n",
    "from sklearn.pipeline import make_pipeline\n",
    "\n",
    "from sklearn.datasets import fetch_20newsgroups\n",
    "\n",
    "\n",
    "from sklearn.metrics import homogeneity_score\n",
    "from sklearn.metrics import completeness_score\n",
    "from sklearn.metrics import v_measure_score\n",
    "from sklearn.metrics import adjusted_rand_score\n",
    "from sklearn.metrics import adjusted_mutual_info_score\n",
    "from sklearn.metrics import silhouette_score"
   ]
  },
  {
   "attachments": {},
   "cell_type": "markdown",
   "metadata": {},
   "source": [
    "## Loading text data"
   ]
  },
  {
   "cell_type": "code",
   "execution_count": 74,
   "metadata": {},
   "outputs": [],
   "source": [
    "def load_dataset():\n",
    "    categories = [\n",
    "    \"alt.atheism\",\n",
    "    \"talk.religion.misc\",\n",
    "    \"comp.graphics\",\n",
    "    \"sci.space\",\n",
    "    ]\n",
    "\n",
    "    dataset = fetch_20newsgroups(\n",
    "    remove=(\"headers\", \"footers\", \"quotes\"),\n",
    "    subset=\"all\",\n",
    "    categories=categories,\n",
    "    shuffle=True,\n",
    "    random_state=42,\n",
    "    )\n",
    "    return dataset"
   ]
  },
  {
   "cell_type": "code",
   "execution_count": 75,
   "metadata": {},
   "outputs": [
    {
     "name": "stdout",
     "output_type": "stream",
     "text": [
      "3387 documents - 4 categories\n"
     ]
    }
   ],
   "source": [
    "\n",
    "dataset = load_dataset()\n",
    "\n",
    "labels = dataset.target\n",
    "unique_labels, category_sizes = np.unique(labels, return_counts=True)\n",
    "true_k = unique_labels.shape[0]\n",
    "\n",
    "print(f\"{len(dataset.data)} documents - {true_k} categories\")"
   ]
  },
  {
   "cell_type": "code",
   "execution_count": 10,
   "metadata": {},
   "outputs": [
    {
     "data": {
      "text/plain": [
       "\"My point is that you set up your views as the only way to believe.  Saying \\nthat all eveil in this world is caused by atheism is ridiculous and \\ncounterproductive to dialogue in this newsgroups.  I see in your posts a \\nspirit of condemnation of the atheists in this newsgroup bacause they don'\\nt believe exactly as you do.  If you're here to try to convert the atheists \\nhere, you're failing miserably.  Who wants to be in position of constantly \\ndefending themselves agaist insulting attacks, like you seem to like to do?!\\nI'm sorry you're so blind that you didn't get the messgae in the quote, \\neveryone else has seemed to.\""
      ]
     },
     "execution_count": 10,
     "metadata": {},
     "output_type": "execute_result"
    }
   ],
   "source": [
    "# samle data\n",
    "sample = dataset.data[0]\n",
    "sample"
   ]
  },
  {
   "attachments": {},
   "cell_type": "markdown",
   "metadata": {},
   "source": [
    "## Vectorizer"
   ]
  },
  {
   "attachments": {},
   "cell_type": "markdown",
   "metadata": {},
   "source": [
    "#### HashingVectorizer\n",
    "This strategy has several advantages:\n",
    "\n",
    "* it is very low memory scalable to large datasets as there is no need to store a vocabulary dictionary in memory.\n",
    "\n",
    "* it is fast to pickle and un-pickle as it holds no state besides the constructor parameters.\n",
    "\n",
    "* it can be used in a streaming (partial fit) or parallel pipeline as there is no state computed during fit.\n",
    "\n",
    "There are also a couple of cons (vs using a CountVectorizer with an in-memory vocabulary):\n",
    "\n",
    "* there is no way to compute the inverse transform (from feature indices to string feature names) which can be a problem when trying to introspect which features are most important to a model.\n",
    "\n",
    "* there can be collisions: distinct tokens can be mapped to the same feature index. However in practice this is rarely an issue if n_features is large enough (e.g. 2 ** 18 for text classification problems).\n",
    "\n",
    "* no IDF weighting as this would render the transformer stateful."
   ]
  },
  {
   "cell_type": "code",
   "execution_count": 56,
   "metadata": {},
   "outputs": [
    {
     "name": "stdout",
     "output_type": "stream",
     "text": [
      "shape : (3387, 262144)\n",
      "unique terms :  31742\n",
      "Sparsity : 0.12108612060546875\n"
     ]
    }
   ],
   "source": [
    "# Convert a collection of text documents to a matrix of token occurrences.\n",
    "hash_vec = HashingVectorizer(n_features=2**18)\n",
    "hash_feat = hash_vec.fit_transform(dataset.data)\n",
    "\n",
    "print('shape :', hash_feat.shape)\n",
    "row, col = np.nonzero(hash_feat)\n",
    "distinct_feat = np.unique(col)\n",
    "print('unique terms : ', len(distinct_feat))\n",
    "\n",
    "sparsity = len(distinct_feat) / hash_feat.shape[1]\n",
    "print('Sparsity :',sparsity)"
   ]
  },
  {
   "attachments": {},
   "cell_type": "markdown",
   "metadata": {},
   "source": [
    "#### TfidfVectorizer\n",
    "\n",
    "* ignore the terms that appear in more than 50% of the documents (as set by max_df=0.5) \n",
    "* ignore the terms that are not present in at least 5 documents (set by min_df=5)\n"
   ]
  },
  {
   "cell_type": "code",
   "execution_count": 18,
   "metadata": {},
   "outputs": [
    {
     "name": "stdout",
     "output_type": "stream",
     "text": [
      "Shape :  (3387, 7929)\n"
     ]
    }
   ],
   "source": [
    "tf_idf = TfidfVectorizer(min_df=5, max_df=0.5, stop_words='english')\n",
    "feat_tf_id = tf_idf.fit_transform(dataset.data)\n",
    "print('Shape : ',feat_tf_id.todense().shape)"
   ]
  },
  {
   "attachments": {},
   "cell_type": "markdown",
   "metadata": {},
   "source": [
    "* the resulting number of unique terms n_features is around 8,000. \n",
    "* We can additionally quantify the sparsity of the X_tfidf matrix as the fraction of non-zero entries devided by the total number of elements.\n",
    "* We find that around 0.7% of the entries of the X_tfidf matrix are non-zero.\n",
    "\n"
   ]
  },
  {
   "cell_type": "code",
   "execution_count": 55,
   "metadata": {},
   "outputs": [
    {
     "name": "stdout",
     "output_type": "stream",
     "text": [
      "Sparsity : 0.006944679498515073\n"
     ]
    }
   ],
   "source": [
    "# sparsity = total non-zero elements divided by total elements\n",
    "sparsity = feat_tf_id.nnz  / (feat_tf_id.shape[0] * feat_tf_id.shape[1])\n",
    "print('Sparsity :', sparsity)"
   ]
  },
  {
   "attachments": {},
   "cell_type": "markdown",
   "metadata": {},
   "source": [
    "### Why is sparsity important when working with kmeans clustering?\n",
    "####  On sparse high-dimensional data such as text vectorized using the Bag of Words approach, k-means can initialize centroids on extremely isolated data points. Those data points can stay their own centroids all along.\n",
    "\n",
    "#### As both KMeans and MiniBatchKMeans optimize a non-convex objective function, their clustering is not guaranteed to be optimal for a given random init. So on sparse high dimensional data we have to increase the `init` param to avoid convergence to a local minimum.\n",
    "\n",
    "#### the more sparse and high-dimensional the problem is, the higher is the need to run the algorithm with different centroid seeds to ensure a global minimal inertia."
   ]
  },
  {
   "cell_type": "code",
   "execution_count": 62,
   "metadata": {},
   "outputs": [
    {
     "name": "stdout",
     "output_type": "stream",
     "text": [
      "cluster assignment : [   1    1 3384    1]\n",
      "cluster assignment : [1597  732  233  825]\n",
      "cluster assignment : [2004  446  646  291]\n",
      "cluster assignment : [1695  649  446  597]\n",
      "cluster assignment : [ 254 2117  459  557]\n",
      "True cluster assignment : [799 973 987 628]\n"
     ]
    }
   ],
   "source": [
    "\n",
    "for seed in range(5):\n",
    "    kmeans = KMeans(n_clusters=true_k, n_init='auto', random_state=seed)\n",
    "    kmeans.fit(feat_tf_id)\n",
    "    cluster_id, cluster_size = np.unique(kmeans.labels_, return_counts=True)\n",
    "    print('cluster assignment :',cluster_size)\n",
    "\n",
    "true_cluster_id, true_cluster_size = np.unique(dataset.target, return_counts=True)\n",
    "print('True cluster assignment :', true_cluster_size)\n"
   ]
  },
  {
   "attachments": {},
   "cell_type": "markdown",
   "metadata": {},
   "source": [
    "**To avoid this problem, one possibility is to increase the number of runs with independent random initiations `n_init`. In such case the clustering with the best inertia (objective function of k-means) is chosen.**"
   ]
  },
  {
   "attachments": {},
   "cell_type": "markdown",
   "metadata": {},
   "source": [
    "**Keep in mind that the class labels may not reflect accurately the document topics and therefore metrics that use labels are not necessarily the best to evaluate the quality of our clustering pipeline.**\n",
    "\n",
    "### Quantifying the quality of clustering\n",
    "\n",
    "Clustering algorithms are fundamentally unsupervised learning methods. However, since we happen to have class labels for this specific dataset, it is possible to use evaluation metrics that leverage this “supervised” ground truth information to quantify the quality of the resulting clusters. Examples of such metrics are the following:\n",
    "\n",
    "* `homogeneity` --> which quantifies how much clusters contain only members of a single class;\n",
    "\n",
    "* `completeness` --> which quantifies how much members of a given class are assigned to the same clusters;\n",
    "\n",
    "* `V-measure` --> the harmonic mean of completeness and homogeneity;\n",
    "\n",
    "* `Rand-Index` --> which measures how frequently pairs of data points are grouped consistently according to the result of the clustering algorithm and the ground truth class assignment;\n",
    "\n",
    "* `Adjusted Rand-Index` --> a chance-adjusted Rand-Index such that random cluster assignment have an ARI of 0.0 in expectation. Adjusted Rand-Index close to 0.0 correspond to a random labeling\n",
    "\n",
    "* If the ground truth labels are not known, evaluation can only be performed using the model results itself. In that case, the `Silhouette Coefficient` comes in handy."
   ]
  },
  {
   "cell_type": "code",
   "execution_count": 19,
   "metadata": {},
   "outputs": [],
   "source": [
    "def evaluate_clustering(kmeans, data, n_runs=5):\n",
    "\n",
    "    for seed in range(5):\n",
    "        kmeans.fit(data)\n",
    "        clustering_metrics = {\n",
    "        \"homogeneity_score\" : homogeneity_score(labels, kmeans.labels_),\n",
    "        \"completeness_score\" : completeness_score(labels, kmeans.labels_),\n",
    "        \"v_measure_score\" : v_measure_score(labels, kmeans.labels_),\n",
    "        \"adjusted_rand_score\"  : adjusted_rand_score(labels, kmeans.labels_),\n",
    "        \"adjusted_mutual_info_score\" : adjusted_mutual_info_score(labels, kmeans.labels_),\n",
    "        \"silhouette_score\" : silhouette_score(data, kmeans.labels_, sample_size=3000)\n",
    "        }\n",
    "\n",
    "    return clustering_metrics\n",
    "\n",
    "# **Keep in mind that the class labels may not reflect accurately the document topics \n",
    "# and therefore metrics that use labels are not necessarily the best to evaluate \n",
    "# the quality of our clustering pipeline.**"
   ]
  },
  {
   "cell_type": "code",
   "execution_count": 20,
   "metadata": {},
   "outputs": [],
   "source": [
    "kmeans = KMeans(n_clusters=true_k, n_init='auto' , random_state=42)\n",
    "\n",
    "kmeans_tf_idf = evaluate_clustering(kmeans, feat_tf_id)"
   ]
  },
  {
   "cell_type": "code",
   "execution_count": 93,
   "metadata": {},
   "outputs": [],
   "source": [
    "def plot_performance(result_dict, title):\n",
    "    plt.barh(list(result_dict.keys()), list(result_dict.values()));\n",
    "    plt.title(f'kmeans clustering using : {title}')\n",
    "\n",
    "plot_performance(kmeans_tf_idf, 'TF-IDF features')"
   ]
  },
  {
   "attachments": {},
   "cell_type": "markdown",
   "metadata": {},
   "source": [
    "<img src='./plots/kmeans-clustering-using-tfidf-features-performance.png'>"
   ]
  },
  {
   "attachments": {},
   "cell_type": "markdown",
   "metadata": {},
   "source": [
    "* Keep in mind that the class labels may not reflect accurately the document topics and therefore metrics that use labels are not necessarily the best to evaluate the quality of our clustering pipeline.\n",
    "\n",
    "#### Can we improve our clustering ?\n",
    "\n",
    "### Latent Semantic Analysis (LSA)\n",
    "* A `n_init=1` can still be used as long as the dimension of the vectorized space is reduced first to make k-means more stable.\n",
    "* For such purpose we use TruncatedSVD, which works on term count/tf-idf matrices. \n",
    "* Since SVD results are not normalized, we redo the normalization to improve the KMeans result. \n",
    "* Using SVD to reduce the dimensionality of TF-IDF document vectors is often known as latent semantic analysis "
   ]
  },
  {
   "cell_type": "code",
   "execution_count": 26,
   "metadata": {},
   "outputs": [],
   "source": [
    "# Singular Value Decomposition\n",
    "svd = TruncatedSVD(n_components=100)\n",
    "# Normalize samples individually to unit norm.\n",
    "norm = Normalizer(copy=False)"
   ]
  },
  {
   "cell_type": "code",
   "execution_count": 27,
   "metadata": {},
   "outputs": [],
   "source": [
    "# Latent Semantic Analysis (LSA)\n",
    "lsa = make_pipeline(svd, norm)\n",
    "\n",
    "X_lsa = lsa.fit_transform(feat_tf_id)"
   ]
  },
  {
   "cell_type": "code",
   "execution_count": 28,
   "metadata": {},
   "outputs": [
    {
     "name": "stdout",
     "output_type": "stream",
     "text": [
      "Shape of LSA features : (3387, 100)\n"
     ]
    }
   ],
   "source": [
    "print('Shape of LSA features :',X_lsa.shape)"
   ]
  },
  {
   "attachments": {},
   "cell_type": "markdown",
   "metadata": {},
   "source": [
    "#### Percentage of variance explained by each of the selected components."
   ]
  },
  {
   "cell_type": "code",
   "execution_count": 20,
   "metadata": {},
   "outputs": [],
   "source": [
    "plt.bar(range(100) ,lsa[0].explained_variance_ratio_);\n",
    "plt.title(f'Explained variance of the SVD step: {lsa[0].explained_variance_ratio_.sum()*100 :0.2f}%');"
   ]
  },
  {
   "attachments": {},
   "cell_type": "markdown",
   "metadata": {},
   "source": [
    "<img src='./plots/Explained-variance-of-the-SVD-step.png'>"
   ]
  },
  {
   "cell_type": "code",
   "execution_count": 29,
   "metadata": {},
   "outputs": [],
   "source": [
    "kmeans = KMeans(n_clusters=true_k, n_init=1, random_state=42)\n",
    "kmeans_lsa = evaluate_clustering(kmeans, X_lsa)"
   ]
  },
  {
   "cell_type": "code",
   "execution_count": null,
   "metadata": {},
   "outputs": [],
   "source": [
    "plot_performance(kmeans_lsa, 'LSA features')"
   ]
  },
  {
   "attachments": {},
   "cell_type": "markdown",
   "metadata": {},
   "source": [
    "<img src='./plots/kmeans-clustering-using-LSA-features-performance.png'>"
   ]
  },
  {
   "attachments": {},
   "cell_type": "markdown",
   "metadata": {},
   "source": [
    "* We can observe that clustering on the LSA representation of the document is significantly faster \n",
    "    * both because of `n_init=1` and because the dimensionality of the LSA feature space is much smaller. \n",
    "* Furthermore, all the clustering evaluation metrics have improved.\n",
    "\n",
    "\n",
    "### Lets repeat the experiment with MiniBatchKMeans."
   ]
  },
  {
   "cell_type": "code",
   "execution_count": 40,
   "metadata": {},
   "outputs": [],
   "source": [
    "mini_kmeans = MiniBatchKMeans(n_clusters=true_k, n_init=1, batch_size=1024, init_size=1024)\n",
    "mini_kmeans_lsa = evaluate_clustering(mini_kmeans, X_lsa)\n",
    "\n",
    "plot_performance(mini_kmeans_lsa, 'LSA features and mini batching')"
   ]
  },
  {
   "attachments": {},
   "cell_type": "markdown",
   "metadata": {},
   "source": [
    "<img src='./plots/kmeans-clustering-using-LSA-features-MiniBatchKmeans-performance.png'>"
   ]
  },
  {
   "attachments": {},
   "cell_type": "markdown",
   "metadata": {},
   "source": [
    "### Top terms per cluster\n",
    "Since both `TruncatedSVD` and `TfidfVectorizer` can be inverted we can identify the cluster centers, which provide an intuition of the most influential words for each cluster. \n",
    "\n",
    "* `inverse_transform(X)` : Transform X back to its original space."
   ]
  },
  {
   "cell_type": "code",
   "execution_count": 80,
   "metadata": {},
   "outputs": [
    {
     "name": "stdout",
     "output_type": "stream",
     "text": [
      "Shape of orignal space centroids : (4, 7929)\n"
     ]
    }
   ],
   "source": [
    "# dataset\n",
    "dataset = load_dataset()\n",
    "\n",
    "# pipeline\n",
    "lsa = make_pipeline(\n",
    "    TfidfVectorizer(min_df=5, max_df=0.95, stop_words='english'),\n",
    "    TruncatedSVD(n_components=100, random_state=42), \n",
    "    Normalizer(copy=False), \n",
    "    KMeans(n_clusters=true_k, n_init=1, random_state=42))\n",
    "\n",
    "# fit using raw data\n",
    "lsa.fit(dataset.data)\n",
    "\n",
    "cluster_centers = lsa[-1].cluster_centers_\n",
    "original_space_centroid = lsa[1].inverse_transform(cluster_centers)\n",
    "\n",
    "print('Shape of orignal space centroids :',original_space_centroid.shape)"
   ]
  },
  {
   "cell_type": "code",
   "execution_count": 81,
   "metadata": {},
   "outputs": [],
   "source": [
    "## slicing from 1st to last in steps of 1 in reverse order\n",
    "order_centroid = original_space_centroid.argsort()[:, ::-1]"
   ]
  },
  {
   "cell_type": "code",
   "execution_count": 82,
   "metadata": {},
   "outputs": [],
   "source": [
    "# terms : vocab \n",
    "terms = lsa[0].get_feature_names_out()"
   ]
  },
  {
   "attachments": {},
   "cell_type": "markdown",
   "metadata": {},
   "source": [
    "#### Words assigned to cluster"
   ]
  },
  {
   "cell_type": "code",
   "execution_count": 83,
   "metadata": {},
   "outputs": [
    {
     "name": "stdout",
     "output_type": "stream",
     "text": [
      "Cluster : 0\n",
      "graphics thanks image program file files know looking help format \n",
      "Cluster : 1\n",
      "space launch orbit shuttle nasa earth moon like mission just \n",
      "Cluster : 2\n",
      "god people jesus bible believe don think religion say christian \n",
      "Cluster : 3\n",
      "just don think like know time ve say does good \n"
     ]
    }
   ],
   "source": [
    "for i in range(true_k):\n",
    "    print('Cluster :',i)\n",
    "    for order in order_centroid[i, :10]:\n",
    "        print(terms[order], end=' ')\n",
    "    print()\n",
    "    \n",
    "        "
   ]
  },
  {
   "attachments": {},
   "cell_type": "markdown",
   "metadata": {},
   "source": [
    "## HashingVectorizer\n",
    "\n",
    "* A HashingVectorizer  does not provide IDF weighting as this is a stateless model (the fit method does nothing). \n",
    "* When IDF weighting is needed it can be added by pipelining the HashingVectorizer output to a TfidfTransformer instance. \n",
    "* Add LSA in to the pipeline for reducing the dimensionality and sparcity of the hashed vector space."
   ]
  },
  {
   "cell_type": "code",
   "execution_count": 89,
   "metadata": {},
   "outputs": [],
   "source": [
    "hash_pipe = make_pipeline(\n",
    "    HashingVectorizer(n_features=2**18, stop_words='english'),\n",
    "    TfidfTransformer(), # TF-IDF transfomer \n",
    "    TruncatedSVD(n_components=100),\n",
    "    Normalizer(copy=False)\n",
    ")\n",
    "\n",
    "X_hashed_lsa = hash_pipe.fit_transform(dataset.data)"
   ]
  },
  {
   "cell_type": "code",
   "execution_count": 94,
   "metadata": {},
   "outputs": [],
   "source": [
    "kmeans = KMeans(n_clusters=true_k, n_init='auto', random_state=42)\n",
    "X_hashed_lsa_score = evaluate_clustering(kmeans, X_hashed_lsa)"
   ]
  },
  {
   "cell_type": "code",
   "execution_count": 95,
   "metadata": {},
   "outputs": [
    {
     "data": {
      "image/png": "[encoded data removed]",
      "text/plain": [
       "<Figure size 640x480 with 1 Axes>"
      ]
     },
     "metadata": {},
     "output_type": "display_data"
    }
   ],
   "source": [
    "plot_performance(X_hashed_lsa_score, 'hash vectorizer')"
   ]
  },
  {
   "cell_type": "code",
   "execution_count": null,
   "metadata": {},
   "outputs": [],
   "source": []
  }
 ],
 "metadata": {
  "kernelspec": {
   "display_name": "datascience_env",
   "language": "python",
   "name": "python3"
  },
  "language_info": {
   "codemirror_mode": {
    "name": "ipython",
    "version": 3
   },
   "file_extension": ".py",
   "mimetype": "text/x-python",
   "name": "python",
   "nbconvert_exporter": "python",
   "pygments_lexer": "ipython3",
   "version": "3.10.8"
  },
  "orig_nbformat": 4,
  "vscode": {
   "interpreter": {
    "hash": "9dd57416d08487125cddc31714a1d5a29ab9aaf930e8420812b05ce6347e3520"
   }
  }
 },
 "nbformat": 4,
 "nbformat_minor": 2
}
