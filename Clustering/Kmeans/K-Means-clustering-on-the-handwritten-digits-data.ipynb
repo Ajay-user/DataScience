{
 "cells": [
  {
   "attachments": {},
   "cell_type": "markdown",
   "metadata": {},
   "source": [
    "## K-Means clustering on the handwritten digits data"
   ]
  },
  {
   "cell_type": "code",
   "execution_count": 1,
   "metadata": {},
   "outputs": [],
   "source": [
    "import numpy as np\n",
    "import matplotlib.pyplot as plt\n",
    "\n",
    "from sklearn.cluster import kmeans_plusplus, KMeans\n",
    "from sklearn.decomposition import PCA\n",
    "from sklearn.preprocessing import StandardScaler\n",
    "from sklearn.pipeline import make_pipeline\n",
    "\n",
    "from sklearn.datasets import load_digits\n",
    "\n",
    "from sklearn.metrics import homogeneity_score\n",
    "from sklearn.metrics import completeness_score\n",
    "from sklearn.metrics import v_measure_score\n",
    "from sklearn.metrics import adjusted_rand_score\n",
    "from sklearn.metrics import adjusted_mutual_info_score\n",
    "from sklearn.metrics import silhouette_score\n",
    "\n",
    "from sklearn.inspection import DecisionBoundaryDisplay\n"
   ]
  },
  {
   "attachments": {},
   "cell_type": "markdown",
   "metadata": {},
   "source": [
    "### Digits data"
   ]
  },
  {
   "cell_type": "code",
   "execution_count": 2,
   "metadata": {},
   "outputs": [
    {
     "name": "stdout",
     "output_type": "stream",
     "text": [
      "# digits: 10; # samples: 1797; # features 64\n"
     ]
    }
   ],
   "source": [
    "data, labels = load_digits(return_X_y=True)\n",
    "(n_samples, n_features), n_digits = data.shape, np.unique(labels).size\n",
    "\n",
    "print(f\"# digits: {n_digits}; # samples: {n_samples}; # features {n_features}\")"
   ]
  },
  {
   "attachments": {},
   "cell_type": "markdown",
   "metadata": {},
   "source": [
    "### Pipeline\n",
    "\n",
    "\n",
    "#### Quantifying the quality of clustering\n",
    "\n",
    "Clustering algorithms are fundamentally unsupervised learning methods. However, since we happen to have class labels for this specific dataset, it is possible to use evaluation metrics that leverage this “supervised” ground truth information to quantify the quality of the resulting clusters. Examples of such metrics are the following:\n",
    "\n",
    "* `homogeneity` --> which quantifies how much clusters contain only members of a single class;\n",
    "\n",
    "* `completeness` --> which quantifies how much members of a given class are assigned to the same clusters;\n",
    "\n",
    "* `V-measure` --> the harmonic mean of completeness and homogeneity;\n",
    "\n",
    "* `Rand-Index` --> which measures how frequently pairs of data points are grouped consistently according to the result of the clustering algorithm and the ground truth class assignment;\n",
    "\n",
    "* `Adjusted Rand-Index` --> a chance-adjusted Rand-Index such that random cluster assignment have an ARI of 0.0 in expectation.\n",
    "\n",
    "* If the ground truth labels are not known, evaluation can only be performed using the model results itself. In that case, the `Silhouette Coefficient` comes in handy."
   ]
  },
  {
   "cell_type": "code",
   "execution_count": 3,
   "metadata": {},
   "outputs": [],
   "source": [
    "def clustering_pipe(kmeans, data, labels):\n",
    "    return make_pipeline(StandardScaler(), kmeans).fit(data, labels)\n",
    "\n",
    "def evaluate_pipe(pipe, data, labels):\n",
    "    y_preds = pipe.predict(data)\n",
    "    clustering_metrics = {\n",
    "        \"homogeneity_score\" : homogeneity_score(labels, y_preds),\n",
    "        \"completeness_score\" : completeness_score(labels, y_preds),\n",
    "        \"v_measure_score\" : v_measure_score(labels, y_preds),\n",
    "        \"adjusted_rand_score\"  : adjusted_rand_score(labels, y_preds),\n",
    "        \"adjusted_mutual_info_score\" : adjusted_mutual_info_score(labels, y_preds),\n",
    "        \"silhouette_score\" : silhouette_score(data, y_preds, sample_size=300)\n",
    "    }\n",
    "    return clustering_metrics\n",
    "\n",
    "def get_metrics(kmeans, data, labels):\n",
    "    pipe = clustering_pipe(kmeans, data, labels)\n",
    "    score = evaluate_pipe(pipe, data, labels)\n",
    "    return score\n"
   ]
  },
  {
   "attachments": {},
   "cell_type": "markdown",
   "metadata": {},
   "source": [
    "### Initialization using kmeans++"
   ]
  },
  {
   "cell_type": "code",
   "execution_count": 22,
   "metadata": {},
   "outputs": [
    {
     "data": {
      "text/plain": [
       "{'homogeneity_score': 0.6721166793340757,\n",
       " 'completeness_score': 0.7121728331760259,\n",
       " 'v_measure_score': 0.6915652187211354,\n",
       " 'adjusted_rand_score': 0.5605454087153037,\n",
       " 'adjusted_mutual_info_score': 0.6883549507488198,\n",
       " 'silhouette_score': 0.17881389351435184}"
      ]
     },
     "execution_count": 22,
     "metadata": {},
     "output_type": "execute_result"
    }
   ],
   "source": [
    "kmeans = KMeans(n_clusters=n_digits, init='k-means++', n_init='auto', random_state=42)\n",
    "score = get_metrics(kmeans, data, labels)\n",
    "score"
   ]
  },
  {
   "attachments": {},
   "cell_type": "markdown",
   "metadata": {},
   "source": [
    "### Initialization using random"
   ]
  },
  {
   "cell_type": "code",
   "execution_count": 23,
   "metadata": {},
   "outputs": [
    {
     "data": {
      "text/plain": [
       "{'homogeneity_score': 0.6051268981426549,\n",
       " 'completeness_score': 0.6522560665144466,\n",
       " 'v_measure_score': 0.6278082357068572,\n",
       " 'adjusted_rand_score': 0.47514610892960074,\n",
       " 'adjusted_mutual_info_score': 0.6238985039446038,\n",
       " 'silhouette_score': 0.16625854318074065}"
      ]
     },
     "execution_count": 23,
     "metadata": {},
     "output_type": "execute_result"
    }
   ],
   "source": [
    "kmeans = KMeans(n_clusters=n_digits, init='random', n_init='auto', random_state=42)\n",
    "score = get_metrics(kmeans, data, labels)\n",
    "score"
   ]
  },
  {
   "attachments": {},
   "cell_type": "markdown",
   "metadata": {},
   "source": [
    "### Initialization based on a PCA projection\n",
    "* we will use the components of the PCA to initialize KMeans.\n",
    "* This method is deterministic and a single initialization suffice.\n"
   ]
  },
  {
   "cell_type": "code",
   "execution_count": 28,
   "metadata": {},
   "outputs": [
    {
     "data": {
      "text/plain": [
       "{'homogeneity_score': 0.6362365471308777,\n",
       " 'completeness_score': 0.6581481429829975,\n",
       " 'v_measure_score': 0.6470068831782342,\n",
       " 'adjusted_rand_score': 0.520613805758503,\n",
       " 'adjusted_mutual_info_score': 0.6434066473153481,\n",
       " 'silhouette_score': 0.14568312706080327}"
      ]
     },
     "execution_count": 28,
     "metadata": {},
     "output_type": "execute_result"
    }
   ],
   "source": [
    "pca = PCA(n_components=n_digits).fit(data)\n",
    "#  we will use the components of the PCA to initialize KMeans. \n",
    "kmeans = KMeans(n_clusters=n_digits, init=pca.components_, n_init=1, random_state=42)\n",
    "score = get_metrics(kmeans, data, labels)\n",
    "score"
   ]
  },
  {
   "attachments": {},
   "cell_type": "markdown",
   "metadata": {},
   "source": [
    "### Visualize the results on PCA-reduced data\n",
    "* PCA allows to project the data from the original 64-dimensional space into a lower dimensional space. \n",
    "*  we can use PCA to project into a 2-dimensional space and plot the data and the clusters in this new space."
   ]
  },
  {
   "cell_type": "code",
   "execution_count": 5,
   "metadata": {},
   "outputs": [],
   "source": [
    "pca = PCA(n_components=2).fit(data)\n",
    "reduced_data = pca.transform(data)\n",
    "plt.plot(reduced_data[:, 0], reduced_data[:, 1], marker='.', linestyle='')"
   ]
  },
  {
   "attachments": {},
   "cell_type": "markdown",
   "metadata": {},
   "source": [
    "<img src='./plots/dimensionality-reduction.png'>"
   ]
  },
  {
   "attachments": {},
   "cell_type": "markdown",
   "metadata": {},
   "source": [
    "* Use `kmeans` to cluster the data"
   ]
  },
  {
   "cell_type": "code",
   "execution_count": 6,
   "metadata": {},
   "outputs": [],
   "source": [
    "kmeans = KMeans(n_clusters=n_digits, n_init='auto', random_state=42)\n",
    "y_preds = kmeans.fit_predict(reduced_data)"
   ]
  },
  {
   "cell_type": "code",
   "execution_count": 116,
   "metadata": {},
   "outputs": [],
   "source": [
    "colors = plt.cm.nipy_spectral(y_preds.astype('float')/n_digits)\n",
    "plt.scatter(reduced_data[:, 0], reduced_data[:, 1], c=colors);"
   ]
  },
  {
   "attachments": {},
   "cell_type": "markdown",
   "metadata": {},
   "source": [
    "<img src='./plots/kmeans-clustering-and-pca.png'>"
   ]
  },
  {
   "attachments": {},
   "cell_type": "markdown",
   "metadata": {},
   "source": [
    "### Plot the decision boundary"
   ]
  },
  {
   "cell_type": "code",
   "execution_count": 7,
   "metadata": {},
   "outputs": [],
   "source": [
    "# meshgrid\n",
    "x_min, x_max = reduced_data[:, 0].min()-1, reduced_data[:, 0].max()+1\n",
    "y_min, y_max = reduced_data[:, 1].min()-1, reduced_data[:, 1].max()+1\n",
    "\n",
    "xx, yy = np.meshgrid(np.arange(x_min, x_max, 0.02), np.arange(y_min, y_max, 0.02))\n",
    "\n",
    "# predictions\n",
    "z = kmeans.predict(np.c_[xx.ravel(), yy.ravel()])\n",
    "z = z.reshape(xx.shape)"
   ]
  },
  {
   "cell_type": "code",
   "execution_count": 37,
   "metadata": {},
   "outputs": [],
   "source": [
    "plt.imshow(\n",
    "    z,\n",
    "    interpolation=\"nearest\",\n",
    "    extent=(xx.min(), xx.max(), yy.min(), yy.max()),\n",
    "    cmap=plt.cm.Paired,\n",
    "    aspect=\"auto\",\n",
    "    origin=\"lower\",)\n",
    "\n",
    "plt.scatter(reduced_data[:, 0], reduced_data[:, 1], c='k', edgecolors='k', alpha=0.5, s=4);\n",
    "\n",
    "centroids = kmeans.cluster_centers_\n",
    "plt.scatter(\n",
    "    centroids[:, 0],\n",
    "    centroids[:, 1],\n",
    "    marker=\"x\",\n",
    "    s=169,\n",
    "    linewidths=3,\n",
    "    color=\"w\",\n",
    "    zorder=10,\n",
    ");"
   ]
  },
  {
   "attachments": {},
   "cell_type": "markdown",
   "metadata": {},
   "source": [
    "<img src='./plots/plot-decision-boundary-for-kmeans-cluster.png'>"
   ]
  },
  {
   "cell_type": "code",
   "execution_count": 115,
   "metadata": {},
   "outputs": [],
   "source": [
    "display = DecisionBoundaryDisplay(xx0=xx, xx1=yy, response=z)\n",
    "display.plot()\n",
    "plt.scatter(reduced_data[:,0], reduced_data[:,1], marker='.', c='k', alpha=0.5 );\n",
    "centroids = kmeans.cluster_centers_\n",
    "plt.scatter(\n",
    "    centroids[:, 0],\n",
    "    centroids[:, 1],\n",
    "    marker=\"x\",\n",
    "    s=169,\n",
    "    linewidths=3,\n",
    "    color=\"w\",\n",
    "    zorder=10,\n",
    ");\n"
   ]
  },
  {
   "attachments": {},
   "cell_type": "markdown",
   "metadata": {},
   "source": [
    "<img src='./plots/decision_boundary.png'>"
   ]
  },
  {
   "cell_type": "code",
   "execution_count": null,
   "metadata": {},
   "outputs": [],
   "source": []
  }
 ],
 "metadata": {
  "kernelspec": {
   "display_name": "datascience_env",
   "language": "python",
   "name": "python3"
  },
  "language_info": {
   "codemirror_mode": {
    "name": "ipython",
    "version": 3
   },
   "file_extension": ".py",
   "mimetype": "text/x-python",
   "name": "python",
   "nbconvert_exporter": "python",
   "pygments_lexer": "ipython3",
   "version": "3.10.8 (tags/v3.10.8:aaaf517, Oct 11 2022, 16:50:30) [MSC v.1933 64 bit (AMD64)]"
  },
  "orig_nbformat": 4,
  "vscode": {
   "interpreter": {
    "hash": "9dd57416d08487125cddc31714a1d5a29ab9aaf930e8420812b05ce6347e3520"
   }
  }
 },
 "nbformat": 4,
 "nbformat_minor": 2
}
