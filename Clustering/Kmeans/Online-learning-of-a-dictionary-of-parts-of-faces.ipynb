{
 "cells": [
  {
   "attachments": {},
   "cell_type": "markdown",
   "metadata": {},
   "source": [
    "## How to process a very large dataset by chunks. \n",
    "\n",
    "* The way we proceed is that we load an image at a time and extract randomly 50 patches from this image. \n",
    "* Once we have accumulated 500 of these patches (using 10 images)\n",
    "* we run the partial_fit method of the online KMeans object, MiniBatchKMeans.\n",
    "* The verbose setting on the MiniBatchKMeans enables us to see that some clusters are reassigned during the successive calls to partial-fit. \n",
    "* This is because the number of patches that they represent has become too low, and it is better to choose a random new cluster."
   ]
  },
  {
   "cell_type": "code",
   "execution_count": 52,
   "metadata": {},
   "outputs": [],
   "source": [
    "import numpy as np\n",
    "import matplotlib.pyplot as plt\n",
    "\n",
    "from sklearn import datasets\n",
    "from sklearn.preprocessing import Normalizer, StandardScaler\n",
    "from sklearn.cluster import KMeans, MiniBatchKMeans\n",
    "from sklearn.feature_extraction.image import extract_patches_2d"
   ]
  },
  {
   "attachments": {},
   "cell_type": "markdown",
   "metadata": {},
   "source": [
    "### Load the data\n",
    "* dataset of faces to learn a set of 20 x 20 images patches that constitute faces."
   ]
  },
  {
   "cell_type": "code",
   "execution_count": 53,
   "metadata": {},
   "outputs": [],
   "source": [
    "faces = datasets.fetch_olivetti_faces()"
   ]
  },
  {
   "cell_type": "code",
   "execution_count": 54,
   "metadata": {},
   "outputs": [
    {
     "data": {
      "image/png": "[encoded data removed]",
      "text/plain": [
       "<Figure size 640x480 with 1 Axes>"
      ]
     },
     "metadata": {},
     "output_type": "display_data"
    }
   ],
   "source": [
    "plt.title(f'{faces[\"images\"].shape}')\n",
    "plt.imshow(faces['images'][0]);"
   ]
  },
  {
   "cell_type": "code",
   "execution_count": 57,
   "metadata": {},
   "outputs": [],
   "source": [
    "rng = np.random.RandomState(seed=42)\n",
    "kmeans = MiniBatchKMeans(n_clusters=81, random_state=rng, n_init='auto', verbose=True)\n",
    "patch_size = (20,20)\n",
    "buffer = []\n",
    "total_images = len(faces.images)"
   ]
  },
  {
   "attachments": {},
   "cell_type": "markdown",
   "metadata": {},
   "source": [
    "### The online learning part: cycle over the whole dataset 6 times"
   ]
  },
  {
   "cell_type": "code",
   "execution_count": 58,
   "metadata": {},
   "outputs": [
    {
     "name": "stdout",
     "output_type": "stream",
     "text": [
      "Learning the dictionary... \n",
      "[MiniBatchKMeans] Reassigning 9 cluster centers.\n",
      "[MiniBatchKMeans] Reassigning 8 cluster centers.\n",
      "Partial fit of 100 out of 2400\n",
      "[MiniBatchKMeans] Reassigning 5 cluster centers.\n",
      "[MiniBatchKMeans] Reassigning 2 cluster centers.\n",
      "Partial fit of 200 out of 2400\n",
      "[MiniBatchKMeans] Reassigning 3 cluster centers.\n",
      "[MiniBatchKMeans] Reassigning 1 cluster centers.\n",
      "Partial fit of 300 out of 2400\n",
      "[MiniBatchKMeans] Reassigning 3 cluster centers.\n",
      "Partial fit of 400 out of 2400\n",
      "Partial fit of 500 out of 2400\n",
      "Partial fit of 600 out of 2400\n",
      "Partial fit of 700 out of 2400\n",
      "Partial fit of 800 out of 2400\n",
      "Partial fit of 900 out of 2400\n",
      "[MiniBatchKMeans] Reassigning 1 cluster centers.\n",
      "Partial fit of 1000 out of 2400\n",
      "Partial fit of 1100 out of 2400\n",
      "Partial fit of 1200 out of 2400\n",
      "Partial fit of 1300 out of 2400\n",
      "Partial fit of 1400 out of 2400\n",
      "Partial fit of 1500 out of 2400\n",
      "Partial fit of 1600 out of 2400\n",
      "Partial fit of 1700 out of 2400\n",
      "Partial fit of 1800 out of 2400\n",
      "Partial fit of 1900 out of 2400\n",
      "Partial fit of 2000 out of 2400\n",
      "Partial fit of 2100 out of 2400\n",
      "Partial fit of 2200 out of 2400\n",
      "Partial fit of 2300 out of 2400\n",
      "Partial fit of 2400 out of 2400\n"
     ]
    }
   ],
   "source": [
    "index = 0\n",
    "\n",
    "print(\"Learning the dictionary... \")\n",
    "for i in range(6):\n",
    "    for img in faces.images:\n",
    "        # extract #50 [20 x 20] patch  -- output (50, 20, 20) \n",
    "        patches = extract_patches_2d(img, patch_size=(20,20), max_patches=50, random_state=rng)\n",
    "        # reshape (50, 20, 20)  --> (50, 400)\n",
    "        patches = np.reshape(patches, (50, -1))\n",
    "        # save the patches\n",
    "        buffer.append(patches)\n",
    "        # increment index\n",
    "        index +=1\n",
    "\n",
    "        # Once we have accumulated 500 of these patches (using 10 images) --> partial fit\n",
    "        if index % 10 == 0:\n",
    "            data = np.concatenate(buffer, axis=0)\n",
    "            # standardize\n",
    "            data = StandardScaler().fit_transform(data)\n",
    "            # mean = np.mean(data, axis=0)\n",
    "            # std = np.std(data, axis=0)\n",
    "            # data = (data - mean) / std\n",
    "            \n",
    "            # partial fit\n",
    "            kmeans.partial_fit(data)\n",
    "            buffer = []\n",
    "        if index % 100 == 0:\n",
    "            print(f'Partial fit of {index} out of {6*total_images}')\n",
    "            \n",
    "\n",
    "    "
   ]
  },
  {
   "attachments": {},
   "cell_type": "markdown",
   "metadata": {},
   "source": [
    "## Cluster center"
   ]
  },
  {
   "cell_type": "code",
   "execution_count": 61,
   "metadata": {},
   "outputs": [
    {
     "name": "stdout",
     "output_type": "stream",
     "text": [
      "Shape of cluster centers array : (81, 400)\n"
     ]
    }
   ],
   "source": [
    "print('Shape of cluster centers array :',kmeans.cluster_centers_.shape)"
   ]
  },
  {
   "cell_type": "code",
   "execution_count": 69,
   "metadata": {},
   "outputs": [],
   "source": [
    "fig, ax = plt.subplots(nrows=9, ncols=9, figsize=(5,5))\n",
    "ax = ax.ravel()\n",
    "for i, patch in enumerate(kmeans.cluster_centers_):\n",
    "    # reshape [400] --> [20 x 20]\n",
    "    patch = np.reshape(patch, patch_size)\n",
    "    # plot\n",
    "    ax[i].imshow(patch, cmap=plt.cm.gray)\n",
    "    ax[i].axis('off')\n",
    "fig.suptitle('Patches of Face')"
   ]
  },
  {
   "attachments": {},
   "cell_type": "markdown",
   "metadata": {},
   "source": [
    "<img src='./plots/patches-of-face.png'>"
   ]
  },
  {
   "cell_type": "code",
   "execution_count": null,
   "metadata": {},
   "outputs": [],
   "source": []
  }
 ],
 "metadata": {
  "kernelspec": {
   "display_name": "datascience_env",
   "language": "python",
   "name": "python3"
  },
  "language_info": {
   "codemirror_mode": {
    "name": "ipython",
    "version": 3
   },
   "file_extension": ".py",
   "mimetype": "text/x-python",
   "name": "python",
   "nbconvert_exporter": "python",
   "pygments_lexer": "ipython3",
   "version": "3.10.8"
  },
  "orig_nbformat": 4,
  "vscode": {
   "interpreter": {
    "hash": "9dd57416d08487125cddc31714a1d5a29ab9aaf930e8420812b05ce6347e3520"
   }
  }
 },
 "nbformat": 4,
 "nbformat_minor": 2
}
