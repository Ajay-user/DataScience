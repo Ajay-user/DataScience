{
 "cells": [
  {
   "attachments": {},
   "cell_type": "markdown",
   "metadata": {},
   "source": [
    "## Ordering Points To Identify Cluster Structure\n",
    "\n",
    "This technique does not segregate the data into clusters. It produces a reachablity distance plot\n",
    "\n",
    "OPTICS draws inspiration from DBSCAN\n",
    "* DBSCAN assumes constant density of cluster\n",
    "* OPTICS allows varying cluster density \n",
    "\n",
    "DBSCAN works based on two important parameters\n",
    "* Radius of neighbourhood (R)<br>\n",
    "The radius,`\"R\"`, defines an area that if included enough number of points within, we call it a dense area\n",
    "* Minimum number of neighbours (M) <br>\n",
    "The `\"M\"` define the minimum number of points we want in a neighbourhood to define a cluster\n",
    "\n",
    "OPTICS adds two more parameters \n",
    "* **Core Distance**\n",
    "* **Reachability Distance**\n",
    "\n",
    "**Core Distance**\n",
    "* The minimum value of radius required to classify a given point as a core-point\n",
    "* If a given point is not a core-point then its core-distance is undefined\n",
    "* Core distance of a data-point `p` is the smallest value `epsilon` such that the `epsilon neighbourhood` of point `p` still has atleast `min_samples` number of points \n",
    "* In simple terms : **It's the minimum value of radius required to classify a point as core-point**\n",
    "\n",
    "Lets understand core-distance using this example:\n",
    "* In order to classify point `p` as a core-point we need atleast `5# points` in it's neighbourhood. The epsilon (radius of neighbourhood around the point of interest) is set to to `6mm`.\n",
    "* To classify point `p` as a core-point the minimum value of epsilon required is only `3mm`.\n",
    "* Hence the core-distance is `3mm` \n",
    "\n",
    "<img src='./notes/OPTICS - core-distance.PNG'>\n",
    "\n",
    "**Reachability Distance**\n",
    "\n",
    "* Reachability Distance between two core-points `p` & `q` is the maximum of two values\n",
    "    * `core-distance(p)`\n",
    "        * Minimum value `epsilon` such that the epsilon neighbourhood of `p` still contains the `min_sample` other points that makes `p` a qualified core-point\n",
    "    * `distance_between(p, q)`\n",
    "        * We can use any distance metric : [ `euclidean`, `cosine`, `Manhattan`, ...] to compute distance betweem points.\n",
    "\n",
    "Let's understand the reachability-distance using an example:\n",
    "* In order to classify point `p` as a core-point we need atleast `5# points` in it's neighbourhood. The epsilon (radius of neighbourhood around the point of interest) is set to to `6mm`.\n",
    "* To classify point `p` as a core-point the minimum value of epsilon required is only `3mm`.\n",
    "* Hence the core-distance is `3mm` \n",
    "* The Euclidean distance between point `p` and `q` is calculated : `2mm`\n",
    "* The Reachability distance between `(p, q)` is `maximum( core-distance(p), distance(p, q))`\n",
    "    * In this examples we've `#3` points `p,q,r`\n",
    "    * Hence `Reachability-distance( p, q )` = `7mm` which is the `max(3mm, 7mm)`\n",
    "    * Hence `Reachability-distance( p, r )` = `3mm` which is the `max(3mm, 2mm)`\n",
    "\n",
    "<img src='./notes/OPTICS - reachability-distance.PNG'>\n",
    "\n",
    "\n",
    "\n",
    "The OPTICS algorithm shares many similarities with the DBSCAN algorithm, and can be considered a generalization of DBSCAN that relaxes the `eps` requirement from a single value to a value range.\n",
    "\n",
    "* The key difference between DBSCAN and OPTICS is that the OPTICS algorithm builds a reachability graph, which assigns each sample both a `reachability_` distance, and a spot within the `cluster ordering_` attribute;\n",
    "* These two attributes [ `reachability_` distance &  `cluster ordering_` ] are assigned when the model is fitted, and are used to determine cluster membership.\n",
    "* If OPTICS is run with the default value of `inf` set for `max_eps` parameter, then DBSCAN style cluster extraction can be performed repeatedly in linear time for any given `eps` value using the `cluster_optics_dbscan method`.\n"
   ]
  },
  {
   "cell_type": "code",
   "execution_count": 2,
   "metadata": {},
   "outputs": [],
   "source": [
    "from sklearn.cluster import OPTICS, cluster_optics_dbscan\n",
    "import matplotlib.gridspec as gridspec\n",
    "import matplotlib.pyplot as plt\n",
    "import numpy as np"
   ]
  },
  {
   "attachments": {},
   "cell_type": "markdown",
   "metadata": {},
   "source": [
    "#### Generate sample data"
   ]
  },
  {
   "cell_type": "code",
   "execution_count": 63,
   "metadata": {},
   "outputs": [
    {
     "name": "stdout",
     "output_type": "stream",
     "text": [
      "Shape of X : (1500, 2)\n"
     ]
    }
   ],
   "source": [
    "np.random.seed(0)\n",
    "n_points_per_cluster = 250\n",
    "\n",
    "C1 = [-5, -2] + 0.8 * np.random.randn(n_points_per_cluster, 2)\n",
    "C2 = [4, -1] + 0.1 * np.random.randn(n_points_per_cluster, 2)\n",
    "C3 = [1, -2] + 0.2 * np.random.randn(n_points_per_cluster, 2)\n",
    "C4 = [-2, 3] + 0.3 * np.random.randn(n_points_per_cluster, 2)\n",
    "C5 = [3, -2] + 1.6 * np.random.randn(n_points_per_cluster, 2)\n",
    "C6 = [5, 6] + 2 * np.random.randn(n_points_per_cluster, 2)\n",
    "X = np.vstack((C1, C2, C3, C4, C5, C6))\n",
    "\n",
    "print('Shape of X :',X.shape)\n",
    "plt.scatter(X[:, 0], X[:, 1]);"
   ]
  },
  {
   "attachments": {},
   "cell_type": "markdown",
   "metadata": {},
   "source": [
    "<img src='./plots/data-for-clustering.png'>"
   ]
  },
  {
   "attachments": {},
   "cell_type": "markdown",
   "metadata": {},
   "source": [
    "#### OPTICS\n",
    "The default cluster extraction with OPTICS looks at the steep slopes within the graph to find clusters, and the user can define what counts as a steep slope using the parameter `xi`. \n",
    "\n",
    "* cluster_method    \n",
    "    * The extraction method used to extract clusters using the calculated reachability and ordering. \n",
    "    * Possible values are `“xi”` and `“dbscan”`.\n",
    "    * `default=’xi’`\n",
    "* xi\n",
    "    * Determines the minimum steepness on the reachability plot that constitutes a cluster boundary. \n",
    "    * float between 0 and 1, \n",
    "    * default=0.05\n",
    "    * For example, an upwards point in the reachability plot is defined by the ratio from one point to its successor being at most `1-xi`. \n",
    "    * Used only when `cluster_method='xi'`.\n",
    "* min_cluster_size\n",
    "    * Minimum number of samples in an OPTICS cluster \n",
    "    * Expressed as an absolute number or a fraction of the number of samples (rounded to be at least 2).\n",
    "    * int > 1 or float between 0 and 1, \n",
    "    * default=None\n",
    "    * If `None`, the value of `min_samples` is used instead. \n",
    "    * Used only when `cluster_method='xi'`.\n",
    "* min_samples\n",
    "    * The number of samples in a neighborhood for a point to be considered as a core point.\n",
    "    * Also, up and down steep regions can’t have more than `min_samples` consecutive non-steep points.\n",
    "    * Expressed as an absolute number or a fraction of the number of samples (rounded to be at least 2). \n",
    "    * int > 1 or float between 0 and 1\n",
    "    * default=5"
   ]
  },
  {
   "cell_type": "code",
   "execution_count": 17,
   "metadata": {},
   "outputs": [],
   "source": [
    "optics = OPTICS(cluster_method='xi', min_cluster_size=0.05, xi=0.05, max_eps=np.inf, min_samples=50)"
   ]
  },
  {
   "attachments": {},
   "cell_type": "markdown",
   "metadata": {},
   "source": [
    "* If OPTICS is run with the default value of `inf` set for `max_eps` parameter, then DBSCAN style cluster extraction can be performed repeatedly in linear time for any given `eps` value using the `cluster_optics_dbscan method`."
   ]
  },
  {
   "cell_type": "code",
   "execution_count": 18,
   "metadata": {},
   "outputs": [
    {
     "data": {
      "text/html": [
       "<style>#sk-container-id-2 {color: black;background-color: white;}#sk-container-id-2 pre{padding: 0;}#sk-container-id-2 div.sk-toggleable {background-color: white;}#sk-container-id-2 label.sk-toggleable__label {cursor: pointer;display: block;width: 100%;margin-bottom: 0;padding: 0.3em;box-sizing: border-box;text-align: center;}#sk-container-id-2 label.sk-toggleable__label-arrow:before {content: \"▸\";float: left;margin-right: 0.25em;color: #696969;}#sk-container-id-2 label.sk-toggleable__label-arrow:hover:before {color: black;}#sk-container-id-2 div.sk-estimator:hover label.sk-toggleable__label-arrow:before {color: black;}#sk-container-id-2 div.sk-toggleable__content {max-height: 0;max-width: 0;overflow: hidden;text-align: left;background-color: #f0f8ff;}#sk-container-id-2 div.sk-toggleable__content pre {margin: 0.2em;color: black;border-radius: 0.25em;background-color: #f0f8ff;}#sk-container-id-2 input.sk-toggleable__control:checked~div.sk-toggleable__content {max-height: 200px;max-width: 100%;overflow: auto;}#sk-container-id-2 input.sk-toggleable__control:checked~label.sk-toggleable__label-arrow:before {content: \"▾\";}#sk-container-id-2 div.sk-estimator input.sk-toggleable__control:checked~label.sk-toggleable__label {background-color: #d4ebff;}#sk-container-id-2 div.sk-label input.sk-toggleable__control:checked~label.sk-toggleable__label {background-color: #d4ebff;}#sk-container-id-2 input.sk-hidden--visually {border: 0;clip: rect(1px 1px 1px 1px);clip: rect(1px, 1px, 1px, 1px);height: 1px;margin: -1px;overflow: hidden;padding: 0;position: absolute;width: 1px;}#sk-container-id-2 div.sk-estimator {font-family: monospace;background-color: #f0f8ff;border: 1px dotted black;border-radius: 0.25em;box-sizing: border-box;margin-bottom: 0.5em;}#sk-container-id-2 div.sk-estimator:hover {background-color: #d4ebff;}#sk-container-id-2 div.sk-parallel-item::after {content: \"\";width: 100%;border-bottom: 1px solid gray;flex-grow: 1;}#sk-container-id-2 div.sk-label:hover label.sk-toggleable__label {background-color: #d4ebff;}#sk-container-id-2 div.sk-serial::before {content: \"\";position: absolute;border-left: 1px solid gray;box-sizing: border-box;top: 0;bottom: 0;left: 50%;z-index: 0;}#sk-container-id-2 div.sk-serial {display: flex;flex-direction: column;align-items: center;background-color: white;padding-right: 0.2em;padding-left: 0.2em;position: relative;}#sk-container-id-2 div.sk-item {position: relative;z-index: 1;}#sk-container-id-2 div.sk-parallel {display: flex;align-items: stretch;justify-content: center;background-color: white;position: relative;}#sk-container-id-2 div.sk-item::before, #sk-container-id-2 div.sk-parallel-item::before {content: \"\";position: absolute;border-left: 1px solid gray;box-sizing: border-box;top: 0;bottom: 0;left: 50%;z-index: -1;}#sk-container-id-2 div.sk-parallel-item {display: flex;flex-direction: column;z-index: 1;position: relative;background-color: white;}#sk-container-id-2 div.sk-parallel-item:first-child::after {align-self: flex-end;width: 50%;}#sk-container-id-2 div.sk-parallel-item:last-child::after {align-self: flex-start;width: 50%;}#sk-container-id-2 div.sk-parallel-item:only-child::after {width: 0;}#sk-container-id-2 div.sk-dashed-wrapped {border: 1px dashed gray;margin: 0 0.4em 0.5em 0.4em;box-sizing: border-box;padding-bottom: 0.4em;background-color: white;}#sk-container-id-2 div.sk-label label {font-family: monospace;font-weight: bold;display: inline-block;line-height: 1.2em;}#sk-container-id-2 div.sk-label-container {text-align: center;}#sk-container-id-2 div.sk-container {/* jupyter's `normalize.less` sets `[hidden] { display: none; }` but bootstrap.min.css set `[hidden] { display: none !important; }` so we also need the `!important` here to be able to override the default hidden behavior on the sphinx rendered scikit-learn.org. See: https://github.com/scikit-learn/scikit-learn/issues/21755 */display: inline-block !important;position: relative;}#sk-container-id-2 div.sk-text-repr-fallback {display: none;}</style><div id=\"sk-container-id-2\" class=\"sk-top-container\"><div class=\"sk-text-repr-fallback\"><pre>OPTICS(min_cluster_size=0.05, min_samples=50)</pre><b>In a Jupyter environment, please rerun this cell to show the HTML representation or trust the notebook. <br />On GitHub, the HTML representation is unable to render, please try loading this page with nbviewer.org.</b></div><div class=\"sk-container\" hidden><div class=\"sk-item\"><div class=\"sk-estimator sk-toggleable\"><input class=\"sk-toggleable__control sk-hidden--visually\" id=\"sk-estimator-id-2\" type=\"checkbox\" checked><label for=\"sk-estimator-id-2\" class=\"sk-toggleable__label sk-toggleable__label-arrow\">OPTICS</label><div class=\"sk-toggleable__content\"><pre>OPTICS(min_cluster_size=0.05, min_samples=50)</pre></div></div></div></div></div>"
      ],
      "text/plain": [
       "OPTICS(min_cluster_size=0.05, min_samples=50)"
      ]
     },
     "execution_count": 18,
     "metadata": {},
     "output_type": "execute_result"
    }
   ],
   "source": [
    "optics.fit(X)"
   ]
  },
  {
   "attachments": {},
   "cell_type": "markdown",
   "metadata": {},
   "source": [
    "#### `sklearn.cluster.cluster_optics_dbscan`\n",
    "\n",
    "Perform DBSCAN extraction for an arbitrary epsilon.\n",
    "\n",
    "Extracting the clusters runs in linear time. \n",
    "* Returns : The estimated labels. `labels_` array of shape `(n_samples,)`\n",
    "* Note that this results in `labels_` which are close to a DBSCAN with similar settings and `eps`, only if `eps` is close to `max_eps`.\n",
    "\n"
   ]
  },
  {
   "cell_type": "code",
   "execution_count": 64,
   "metadata": {},
   "outputs": [],
   "source": [
    "labels_050 = cluster_optics_dbscan(\n",
    "    reachability=optics.reachability_,\n",
    "    core_distances=optics.core_distances_,\n",
    "    ordering=optics.ordering_,\n",
    "    eps=0.5)\n",
    "\n",
    "\n",
    "labels_200 = cluster_optics_dbscan(\n",
    "    reachability=optics.reachability_,\n",
    "    core_distances=optics.core_distances_,\n",
    "    ordering=optics.ordering_,\n",
    "    eps=2)"
   ]
  },
  {
   "cell_type": "code",
   "execution_count": 65,
   "metadata": {},
   "outputs": [],
   "source": [
    "space = np.arange(len(X))\n",
    "reachability = optics.reachability_[optics.ordering_]\n",
    "labels = optics.labels_[optics.ordering_]"
   ]
  },
  {
   "cell_type": "code",
   "execution_count": 67,
   "metadata": {},
   "outputs": [],
   "source": [
    "plt.figure(figsize=(10,7))\n",
    "G = gridspec.GridSpec(nrows=2, ncols=3)\n",
    "ax1 = plt.subplot(G[0, :])\n",
    "ax2 = plt.subplot(G[1, 0])\n",
    "ax3 = plt.subplot(G[1, 1])\n",
    "ax4 = plt.subplot(G[1, 2])\n",
    "\n",
    "\n",
    "\n",
    "# Reachability plot\n",
    "colors = [\"g\", \"r\", \"b\", \"y\", \"c\"]\n",
    "for cls, color in zip(range(5), colors):\n",
    "    x = space[cls==labels]\n",
    "    y = reachability[cls==labels]\n",
    "    ax1.plot(x, y, linestyle='', marker='o',  c=color, alpha=0.3)\n",
    "\n",
    "# reachability of noise\n",
    "x_noise = space[labels==-1]\n",
    "y_noise = reachability[labels==-1]\n",
    "ax1.plot(x_noise, y_noise, c='k', linestyle='', marker='.',  alpha=0.3)\n",
    "\n",
    "# minimum steepness on reachability-graph that constitute a cluster-boundart \n",
    "ax1.plot(space, np.full_like(space, fill_value=2.0, dtype=np.float32), c='k', linestyle='--', alpha=0.5)\n",
    "ax1.plot(space, np.full_like(space, fill_value=0.5, dtype=np.float32), c='k', linestyle='--', alpha=0.5)\n",
    "\n",
    "ax1.set(title='Reachability plot', ylabel='reachability (epsilon distance)', xlabel='cluster ordering')\n",
    "\n",
    "\n",
    "# CLUSTERING -- OPTICS\n",
    "for cls, color in zip(range(5), colors):\n",
    "    x = X[optics.labels_==cls]\n",
    "    ax2.plot(x[:, 0], x[:, 1], c=color, linestyle='', marker='.', alpha=0.3)\n",
    "# plot noise\n",
    "x_noise = X[optics.labels_ == -1]\n",
    "ax2.plot(x_noise[:, 0], x_noise[:, 1], c='k', linestyle='', marker='+', alpha=0.2)\n",
    "ax2.set(title='Automatic Clustering OPTICS')\n",
    "\n",
    "\n",
    "\n",
    "# CLUSTERING -- DBSCAN eps = 0.5\n",
    "colors = [\"g\", \"r\", \"b\",  \"c\"]\n",
    "for cls, color in zip(range(4), colors):\n",
    "    x = X[labels_050==cls]\n",
    "    ax3.plot(x[:, 0], x[:, 1], c=color, linestyle='', marker='.', alpha=0.3)\n",
    "# plot noise\n",
    "x_noise = X[labels_050 == -1]\n",
    "ax3.plot(x_noise[:, 0], x_noise[:, 1], c='k', linestyle='', marker='+', alpha=0.2)\n",
    "ax3.set(title='Clustering at 0.5 epsilon cut DBSCAN')\n",
    "\n",
    "# CLUSTERING -- DBSCAN eps = 2.0\n",
    "colors = [\"g\", \"m\", \"y\",  \"c\"]\n",
    "for cls, color in zip(range(4), colors):\n",
    "    x = X[labels_200==cls]\n",
    "    ax4.plot(x[:, 0], x[:, 1], c=color, linestyle='', marker='.', alpha=0.3)\n",
    "# plot noise\n",
    "x_noise = X[labels_200 == -1]\n",
    "ax4.plot(x_noise[:, 0], x_noise[:, 1], c='k', linestyle='', marker='+', alpha=0.2)\n",
    "ax4.set(title='Clustering at 2.0 epsilon cut DBSCAN')\n",
    "\n",
    "plt.tight_layout()"
   ]
  },
  {
   "attachments": {},
   "cell_type": "markdown",
   "metadata": {},
   "source": [
    "<img src='./plots/OPTICS-reachability-and-clustering.png'>"
   ]
  },
  {
   "cell_type": "code",
   "execution_count": null,
   "metadata": {},
   "outputs": [],
   "source": []
  }
 ],
 "metadata": {
  "kernelspec": {
   "display_name": "datascience_env",
   "language": "python",
   "name": "python3"
  },
  "language_info": {
   "codemirror_mode": {
    "name": "ipython",
    "version": 3
   },
   "file_extension": ".py",
   "mimetype": "text/x-python",
   "name": "python",
   "nbconvert_exporter": "python",
   "pygments_lexer": "ipython3",
   "version": "3.10.8 (tags/v3.10.8:aaaf517, Oct 11 2022, 16:50:30) [MSC v.1933 64 bit (AMD64)]"
  },
  "orig_nbformat": 4,
  "vscode": {
   "interpreter": {
    "hash": "9dd57416d08487125cddc31714a1d5a29ab9aaf930e8420812b05ce6347e3520"
   }
  }
 },
 "nbformat": 4,
 "nbformat_minor": 2
}
