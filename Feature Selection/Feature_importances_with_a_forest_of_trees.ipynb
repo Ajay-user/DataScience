{
  "nbformat": 4,
  "nbformat_minor": 0,
  "metadata": {
    "colab": {
      "name": "Feature importances with a forest of trees.ipynb",
      "provenance": [],
      "authorship_tag": "ABX9TyPYV1fPz+zBtb3Mt59uH3Gq",
      "include_colab_link": true
    },
    "kernelspec": {
      "name": "python3",
      "display_name": "Python 3"
    },
    "language_info": {
      "name": "python"
    }
  },
  "cells": [
    {
      "cell_type": "markdown",
      "metadata": {
        "id": "view-in-github",
        "colab_type": "text"
      },
      "source": [
        "<a href=\"https://colab.research.google.com/github/Ajay-user/ML-DL-RL-repo/blob/master/Feature%20Selection/Feature_importances_with_a_forest_of_trees.ipynb\" target=\"_parent\"><img src=\"https://colab.research.google.com/assets/colab-badge.svg\" alt=\"Open In Colab\"/></a>"
      ]
    },
    {
      "cell_type": "code",
      "source": [
        "import numpy as np\n",
        "import matplotlib.pyplot as plt\n"
      ],
      "metadata": {
        "id": "vM5mbEWhd-Xm"
      },
      "execution_count": 3,
      "outputs": []
    },
    {
      "cell_type": "markdown",
      "source": [
        "Feature importance based on mean decrease in impurity are computed as the mean and standard deviation of accumulation of the impurity decrease within each tree.\n",
        "\n",
        "Impurity-based feature importances have a bias toward high-cardinality features\n",
        "\n",
        "Permutation feature importance as an alternative. It overcomes limitations of the impurity-based feature importance: they do not have a bias toward high-cardinality features and can be computed on a left-out test set.\n",
        "\n",
        "MDI is less likely than permutation importance to fully omit a feature."
      ],
      "metadata": {
        "id": "Ed07vAF-cqna"
      }
    },
    {
      "cell_type": "markdown",
      "source": [
        "## Data generation\n",
        "\n",
        "* Generate a synthetic dataset with only 3 informative features.\n",
        "* The dataset is not shuffled to ensure that the informative features will correspond to the three first columns of X. \n",
        "* Split our dataset into training and testing subsets."
      ],
      "metadata": {
        "id": "c0MfKhRVcrPA"
      }
    },
    {
      "cell_type": "code",
      "execution_count": 1,
      "metadata": {
        "id": "Jtqrq0N5ZfDe"
      },
      "outputs": [],
      "source": [
        "\n",
        "from sklearn.datasets import make_classification\n",
        "from sklearn.model_selection import train_test_split\n",
        "\n",
        "X, y = make_classification(\n",
        "    n_samples=1000,\n",
        "    n_features=10,\n",
        "    n_informative=3,\n",
        "    n_redundant=0,\n",
        "    n_repeated=0,\n",
        "    n_classes=2,\n",
        "    random_state=0,\n",
        "    shuffle=False,\n",
        ")\n",
        "X_train, X_test, y_train, y_test = train_test_split(X, y, stratify=y, random_state=42)"
      ]
    },
    {
      "cell_type": "code",
      "source": [
        "feature_names = [f'feature_{i}' for i in range(10)]"
      ],
      "metadata": {
        "id": "qUexK9o6eOfF"
      },
      "execution_count": 7,
      "outputs": []
    },
    {
      "cell_type": "markdown",
      "source": [
        "## Feature importance based on mean decrease in impurity\n",
        "\n",
        "* `feature_importances_`  are computed as the mean and standard deviation of accumulation of the impurity decrease within each tree.\n",
        "\n",
        "*  Impurity-based feature importances can be misleading for high cardinality features\n"
      ],
      "metadata": {
        "id": "zSvLpP_qdVvH"
      }
    },
    {
      "cell_type": "code",
      "source": [
        "from sklearn.ensemble import RandomForestClassifier\n",
        "\n",
        "rf = RandomForestClassifier()\n",
        "rf.fit(X,y)\n",
        "importance = rf.feature_importances_\n",
        "std = np.std([tree.feature_importances_ for tree in rf.estimators_], axis=0)"
      ],
      "metadata": {
        "id": "TcyePKa6c0TJ"
      },
      "execution_count": 4,
      "outputs": []
    },
    {
      "cell_type": "code",
      "source": [
        "def plot_util(x,y,err,title,ylabel):\n",
        "  plt.bar(x,y, yerr=err)\n",
        "  plt.title(title)\n",
        "  plt.ylabel(ylabel)\n",
        "  plt.xticks(rotation=60);\n",
        "\n",
        "\n",
        "plot_util(x = feature_names,\n",
        "          y = importance,\n",
        "          err = std,\n",
        "          title = \"Feature importances using MDI\",\n",
        "          ylabel = \"Mean decrease in impurity\")"
      ],
      "metadata": {
        "colab": {
          "base_uri": "https://localhost:8080/",
          "height": 318
        },
        "id": "1We6pu5Fdm8C",
        "outputId": "2baa0339-9d22-4965-97ca-5d957748f782"
      },
      "execution_count": 13,
      "outputs": [
        {
          "output_type": "display_data",
          "data": {
            "text/plain": [
              "<Figure size 432x288 with 1 Axes>"
            ],
            "image/png": "[encoded data removed]"
          },
          "metadata": {
            "needs_background": "light"
          }
        }
      ]
    },
    {
      "cell_type": "markdown",
      "source": [
        "## Feature importance based on feature permutation\n",
        "\n",
        "**Permutation feature importance overcomes limitations of the impurity-based feature importance:**\n",
        "* they do not have a bias toward high-cardinality features \n",
        "* they can be computed on a left-out test set.\n",
        "\n",
        "**`from sklearn.inspection import permutation_importance`**\n",
        "* The estimator is required to be a fitted estimator.\n",
        "* X can be the data set used to train the estimator or a hold-out set.\n",
        "\n",
        "The permutation importance of a feature is calculated as follows.\n",
        "* First, a baseline metric, defined by scoring, is evaluated on a (potentially different) dataset defined by the X. \n",
        "* Next, a feature column from the validation set is permuted and the metric is evaluated again. \n",
        "* The permutation importance is defined to be the difference between the baseline metric and metric from permutating the feature column."
      ],
      "metadata": {
        "id": "HNTIlHowgBQP"
      }
    },
    {
      "cell_type": "code",
      "source": [
        "from sklearn.inspection import permutation_importance\n",
        "\n",
        "result = permutation_importance(rf, X_test, y_test, scoring='accuracy', n_repeats=10)"
      ],
      "metadata": {
        "id": "4Iqdbcaaeeuf"
      },
      "execution_count": 16,
      "outputs": []
    },
    {
      "cell_type": "code",
      "source": [
        "plot_util(x = feature_names,\n",
        "          y = result.importances_mean,\n",
        "          err = result.importances_std,\n",
        "          title = \"Feature importances using permutation\",\n",
        "          ylabel = \"Mean accuracy decrease\")"
      ],
      "metadata": {
        "colab": {
          "base_uri": "https://localhost:8080/",
          "height": 318
        },
        "id": "qcysS0FMgezj",
        "outputId": "2583cb9f-2b02-4a7d-c7b3-116e9a531e43"
      },
      "execution_count": 17,
      "outputs": [
        {
          "output_type": "display_data",
          "data": {
            "text/plain": [
              "<Figure size 432x288 with 1 Axes>"
            ],
            "image/png": "[encoded data removed]"
          },
          "metadata": {
            "needs_background": "light"
          }
        }
      ]
    },
    {
      "cell_type": "code",
      "source": [
        ""
      ],
      "metadata": {
        "id": "o75tMvRZiG7G"
      },
      "execution_count": null,
      "outputs": []
    }
  ]
}