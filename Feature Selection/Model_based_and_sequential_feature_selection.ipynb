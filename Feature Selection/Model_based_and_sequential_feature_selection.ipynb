{
  "nbformat": 4,
  "nbformat_minor": 0,
  "metadata": {
    "colab": {
      "name": "Model-based and sequential feature selection.ipynb",
      "provenance": [],
      "authorship_tag": "ABX9TyMcK85AsN6hRbET46KagIhA",
      "include_colab_link": true
    },
    "kernelspec": {
      "name": "python3",
      "display_name": "Python 3"
    },
    "language_info": {
      "name": "python"
    }
  },
  "cells": [
    {
      "cell_type": "markdown",
      "metadata": {
        "id": "view-in-github",
        "colab_type": "text"
      },
      "source": [
        "<a href=\"https://colab.research.google.com/github/Ajay-user/ML-DL-RL-repo/blob/master/Feature%20Selection/Model_based_and_sequential_feature_selection.ipynb\" target=\"_parent\"><img src=\"https://colab.research.google.com/assets/colab-badge.svg\" alt=\"Open In Colab\"/></a>"
      ]
    },
    {
      "cell_type": "code",
      "execution_count": 13,
      "metadata": {
        "id": "J1qTjAlFNvZg"
      },
      "outputs": [],
      "source": [
        "import pandas as pd\n",
        "import numpy as np\n",
        "import matplotlib.pyplot as plt\n",
        "\n",
        "from sklearn.datasets import load_diabetes\n",
        "from sklearn.feature_selection import SelectFromModel # based on an estimator that provide feature importance in the form of coef_ or feature_importance\n",
        "from sklearn.feature_selection import SequentialFeatureSelector  # based on greedy approach\n",
        "from sklearn.linear_model import RidgeCV\n"
      ]
    },
    {
      "cell_type": "markdown",
      "source": [
        "## Introduction\n",
        "\n",
        "Lets compares two approaches for feature selection: `SelectFromModel` which is based on feature importance, and `SequentialFeatureSelection` which relies on a greedy approach.\n",
        "\n",
        "We use the Diabetes dataset, which consists of 10 features collected from 442 diabetes patients."
      ],
      "metadata": {
        "id": "wXHwA4YEN4dy"
      }
    },
    {
      "cell_type": "markdown",
      "source": [
        "## Load the data"
      ],
      "metadata": {
        "id": "6snmfj2KPBpd"
      }
    },
    {
      "cell_type": "code",
      "source": [
        "diabetes = load_diabetes()\n",
        "\n",
        "X = diabetes.data\n",
        "y = diabetes.target"
      ],
      "metadata": {
        "id": "UoO8Iq5AN6kk"
      },
      "execution_count": 4,
      "outputs": []
    },
    {
      "cell_type": "code",
      "source": [
        "print(diabetes.DESCR)"
      ],
      "metadata": {
        "colab": {
          "base_uri": "https://localhost:8080/"
        },
        "id": "8ZZFKJ5YOnC6",
        "outputId": "951030f8-998d-4bba-bd68-675c3049d877"
      },
      "execution_count": 7,
      "outputs": [
        {
          "output_type": "stream",
          "name": "stdout",
          "text": [
            ".. _diabetes_dataset:\n",
            "\n",
            "Diabetes dataset\n",
            "----------------\n",
            "\n",
            "Ten baseline variables, age, sex, body mass index, average blood\n",
            "pressure, and six blood serum measurements were obtained for each of n =\n",
            "442 diabetes patients, as well as the response of interest, a\n",
            "quantitative measure of disease progression one year after baseline.\n",
            "\n",
            "**Data Set Characteristics:**\n",
            "\n",
            "  :Number of Instances: 442\n",
            "\n",
            "  :Number of Attributes: First 10 columns are numeric predictive values\n",
            "\n",
            "  :Target: Column 11 is a quantitative measure of disease progression one year after baseline\n",
            "\n",
            "  :Attribute Information:\n",
            "      - age     age in years\n",
            "      - sex\n",
            "      - bmi     body mass index\n",
            "      - bp      average blood pressure\n",
            "      - s1      tc, total serum cholesterol\n",
            "      - s2      ldl, low-density lipoproteins\n",
            "      - s3      hdl, high-density lipoproteins\n",
            "      - s4      tch, total cholesterol / HDL\n",
            "      - s5      ltg, possibly log of serum triglycerides level\n",
            "      - s6      glu, blood sugar level\n",
            "\n",
            "Note: Each of these 10 feature variables have been mean centered and scaled by the standard deviation times `n_samples` (i.e. the sum of squares of each column totals 1).\n",
            "\n",
            "Source URL:\n",
            "https://www4.stat.ncsu.edu/~boos/var.select/diabetes.html\n",
            "\n",
            "For more information see:\n",
            "Bradley Efron, Trevor Hastie, Iain Johnstone and Robert Tibshirani (2004) \"Least Angle Regression,\" Annals of Statistics (with discussion), 407-499.\n",
            "(https://web.stanford.edu/~hastie/Papers/LARS/LeastAngle_2002.pdf)\n"
          ]
        }
      ]
    },
    {
      "cell_type": "markdown",
      "source": [
        "## Feature importance from coefficients\n",
        "\n",
        "To get an idea of the importance of the features, we are going to use the `RidgeCV` estimator. \n",
        "\n",
        "The features with the highest absolute coef_ value are considered the most important.\n",
        "\n",
        "We can observe the coefficients directly without needing to scale them because from the description above, we know that the features were already standardized. "
      ],
      "metadata": {
        "id": "Dvc52lL8PK-k"
      }
    },
    {
      "cell_type": "code",
      "source": [
        "alphas = np.logspace(-10,10,20)\n",
        "ridge = RidgeCV(alphas=alphas)\n",
        "ridge.fit(X,y)"
      ],
      "metadata": {
        "colab": {
          "base_uri": "https://localhost:8080/"
        },
        "id": "tw7lOcgTOuXR",
        "outputId": "1d549ba8-4e20-4e31-8464-b0f77ab970d9"
      },
      "execution_count": 19,
      "outputs": [
        {
          "output_type": "execute_result",
          "data": {
            "text/plain": [
              "RidgeCV(alphas=array([1.00000000e-10, 1.12883789e-09, 1.27427499e-08, 1.43844989e-07,\n",
              "       1.62377674e-06, 1.83298071e-05, 2.06913808e-04, 2.33572147e-03,\n",
              "       2.63665090e-02, 2.97635144e-01, 3.35981829e+00, 3.79269019e+01,\n",
              "       4.28133240e+02, 4.83293024e+03, 5.45559478e+04, 6.15848211e+05,\n",
              "       6.95192796e+06, 7.84759970e+07, 8.85866790e+08, 1.00000000e+10]))"
            ]
          },
          "metadata": {},
          "execution_count": 19
        }
      ]
    },
    {
      "cell_type": "code",
      "source": [
        "abs_coef = np.abs(ridge.coef_)\n",
        "plt.bar(diabetes.feature_names, abs_coef);\n",
        "plt.xlabel('features')\n",
        "plt.ylabel('absolute coef');"
      ],
      "metadata": {
        "colab": {
          "base_uri": "https://localhost:8080/",
          "height": 279
        },
        "id": "9qcnV32zPqdv",
        "outputId": "f867d1a3-19cf-4daa-938a-82de42c04a84"
      },
      "execution_count": 20,
      "outputs": [
        {
          "output_type": "display_data",
          "data": {
            "text/plain": [
              "<Figure size 432x288 with 1 Axes>"
            ],
            "image/png": "[encoded data removed]"
          },
          "metadata": {
            "needs_background": "light"
          }
        }
      ]
    },
    {
      "cell_type": "markdown",
      "source": [
        "## Selecting features based on importance\n",
        "Now we want to select the two features which are the most important according to the coefficients. The SelectFromModel is meant just for that. SelectFromModel accepts a threshold parameter and will select the features whose importance (defined by the coefficients) are above this threshold.\n",
        "\n",
        "Since we want to select only 2 features, we will set this threshold slightly above the coefficient of third most important feature."
      ],
      "metadata": {
        "id": "lWyFQ-ELQ8Cf"
      }
    },
    {
      "cell_type": "code",
      "source": [
        "threshold = np.sort(abs_coef)[-3]"
      ],
      "metadata": {
        "id": "hSAs5vn4Pwg9"
      },
      "execution_count": 21,
      "outputs": []
    },
    {
      "cell_type": "code",
      "source": [
        "selector = SelectFromModel(estimator=ridge, threshold=threshold, max_features=2)\n",
        "selector.fit(X,y)"
      ],
      "metadata": {
        "colab": {
          "base_uri": "https://localhost:8080/"
        },
        "id": "6kgHfsVqRk3Q",
        "outputId": "7c8ad179-4273-4bf9-e5cb-2f4ce255cea1"
      },
      "execution_count": 23,
      "outputs": [
        {
          "output_type": "execute_result",
          "data": {
            "text/plain": [
              "SelectFromModel(estimator=RidgeCV(alphas=array([1.00000000e-10, 1.12883789e-09, 1.27427499e-08, 1.43844989e-07,\n",
              "       1.62377674e-06, 1.83298071e-05, 2.06913808e-04, 2.33572147e-03,\n",
              "       2.63665090e-02, 2.97635144e-01, 3.35981829e+00, 3.79269019e+01,\n",
              "       4.28133240e+02, 4.83293024e+03, 5.45559478e+04, 6.15848211e+05,\n",
              "       6.95192796e+06, 7.84759970e+07, 8.85866790e+08, 1.00000000e+10])),\n",
              "                max_features=2, threshold=520.7972288352063)"
            ]
          },
          "metadata": {},
          "execution_count": 23
        }
      ]
    },
    {
      "cell_type": "code",
      "source": [
        "# lets see which features are selected\n",
        "print(f\"Features selected by SelectFromModel: { [diabetes.feature_names[i]  for i,j in enumerate(selector.get_support()) if j==True]}\")\n"
      ],
      "metadata": {
        "colab": {
          "base_uri": "https://localhost:8080/"
        },
        "id": "GxVHLNRARmpA",
        "outputId": "2ff252fa-0801-4099-e236-722cbac3def8"
      },
      "execution_count": 38,
      "outputs": [
        {
          "output_type": "stream",
          "name": "stdout",
          "text": [
            "Features selected by SelectFromModel: ['s1', 's5']\n"
          ]
        }
      ]
    },
    {
      "cell_type": "markdown",
      "source": [
        "## Selecting features with Sequential Feature Selection\n",
        "\n",
        "Another way of selecting features is to use SequentialFeatureSelector (SFS). SFS is a greedy procedure where, at each iteration, we choose the best new feature to add to our selected features based on the cross-validation score.\n",
        "\n",
        "We start with 0 features and choose the best single feature with the highest score. The procedure is repeated until we reach the desired number of selected features.\n",
        "\n",
        "We can also go in the reverse direction (backward SFS), i.e. start with all the features and greedily choose features to remove one by one. "
      ],
      "metadata": {
        "id": "qMOXx72jTgMX"
      }
    },
    {
      "cell_type": "code",
      "source": [
        "%%time\n",
        "\n",
        "forward = SequentialFeatureSelector(estimator=ridge, n_features_to_select=2, direction='forward')\n",
        "forward.fit(X,y)"
      ],
      "metadata": {
        "colab": {
          "base_uri": "https://localhost:8080/"
        },
        "id": "3e_coX8iSDKW",
        "outputId": "38f59dca-82c0-4df3-a30e-f29dce7e4ccc"
      },
      "execution_count": 39,
      "outputs": [
        {
          "output_type": "stream",
          "name": "stdout",
          "text": [
            "CPU times: user 451 ms, sys: 0 ns, total: 451 ms\n",
            "Wall time: 463 ms\n"
          ]
        }
      ]
    },
    {
      "cell_type": "code",
      "source": [
        "%%time\n",
        "\n",
        "backward = SequentialFeatureSelector(estimator=ridge, n_features_to_select=2, direction='backward')\n",
        "backward.fit(X,y)"
      ],
      "metadata": {
        "colab": {
          "base_uri": "https://localhost:8080/"
        },
        "id": "QK62SgtxUDRA",
        "outputId": "31a7440e-5f77-4c32-8c10-ca2b4e126897"
      },
      "execution_count": 40,
      "outputs": [
        {
          "output_type": "stream",
          "name": "stdout",
          "text": [
            "CPU times: user 1.35 s, sys: 0 ns, total: 1.35 s\n",
            "Wall time: 1.4 s\n"
          ]
        }
      ]
    },
    {
      "cell_type": "code",
      "source": [
        "# lets see which features are selected by Sequential feature selection [ forward ]\n",
        "print(f\"Features selected by Sequential feature selection [ forward ]: { [diabetes.feature_names[i]  for i,j in enumerate(forward.support_) if j==True]}\")"
      ],
      "metadata": {
        "colab": {
          "base_uri": "https://localhost:8080/"
        },
        "id": "gS6CCJ6vUOj3",
        "outputId": "48bbf42a-1b99-4d81-daa4-ee144e60099d"
      },
      "execution_count": 43,
      "outputs": [
        {
          "output_type": "stream",
          "name": "stdout",
          "text": [
            "Features selected by Sequential feature selection [ forward ]: ['bmi', 's5']\n"
          ]
        }
      ]
    },
    {
      "cell_type": "code",
      "source": [
        "# lets see which features are selected by Sequential feature selection [ backward ]\n",
        "print(f\"Features selected by Sequential feature selection [ backward ]: { [diabetes.feature_names[i]  for i,j in enumerate(backward.support_) if j==True]}\")"
      ],
      "metadata": {
        "colab": {
          "base_uri": "https://localhost:8080/"
        },
        "id": "KrM8LmQwUgJ4",
        "outputId": "db81f0c1-fd5f-4a60-bace-9740760f1037"
      },
      "execution_count": 44,
      "outputs": [
        {
          "output_type": "stream",
          "name": "stdout",
          "text": [
            "Features selected by Sequential feature selection [ backward ]: ['bmi', 's5']\n"
          ]
        }
      ]
    },
    {
      "cell_type": "markdown",
      "source": [
        "Interestingly, forward and backward selection have selected the same set of features. In general, this isn’t the case and the two methods would lead to different results.\n",
        "\n",
        "We also note that the features selected by SFS differ from those selected by feature importance: SFS selects bmi instead of s1. This does sound reasonable though, since bmi corresponds to the third most important feature according to the coefficients. It is quite remarkable considering that SFS makes no use of the coefficients at all.\n",
        "\n",
        "To finish with, we should note that SelectFromModel is significantly faster than SFS. Indeed, SelectFromModel only needs to fit a model once, while SFS needs to cross-validate many different models for each of the iterations. SFS however works with any model, while SelectFromModel requires the underlying estimator to expose a coef_ attribute or a feature_importances_ attribute. The forward SFS is faster than the backward SFS because it only needs to perform n_features_to_select = 2 iterations, while the backward SFS needs to perform n_features - n_features_to_select = 8 iterations."
      ],
      "metadata": {
        "id": "egF-Yt6_VIaK"
      }
    }
  ]
}