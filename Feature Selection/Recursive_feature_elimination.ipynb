{
  "nbformat": 4,
  "nbformat_minor": 0,
  "metadata": {
    "colab": {
      "name": "Recursive feature elimination.ipynb",
      "provenance": [],
      "authorship_tag": "ABX9TyPWajxhqBjJQi/RHsz0PV1a",
      "include_colab_link": true
    },
    "kernelspec": {
      "name": "python3",
      "display_name": "Python 3"
    },
    "language_info": {
      "name": "python"
    }
  },
  "cells": [
    {
      "cell_type": "markdown",
      "metadata": {
        "id": "view-in-github",
        "colab_type": "text"
      },
      "source": [
        "<a href=\"https://colab.research.google.com/github/Ajay-user/ML-DL-RL-repo/blob/master/Feature%20Selection/Recursive_feature_elimination.ipynb\" target=\"_parent\"><img src=\"https://colab.research.google.com/assets/colab-badge.svg\" alt=\"Open In Colab\"/></a>"
      ]
    },
    {
      "cell_type": "code",
      "source": [
        "from sklearn.svm import SVC\n",
        "from sklearn.datasets import load_digits\n",
        "from sklearn.feature_selection import RFE\n",
        "from sklearn.model_selection import StratifiedKFold\n",
        "from sklearn.feature_selection import RFECV\n",
        "from sklearn.datasets import make_classification\n",
        "import matplotlib.pyplot as plt\n",
        "import seaborn as sns"
      ],
      "metadata": {
        "id": "FOh3SG-DGjuQ"
      },
      "execution_count": 1,
      "outputs": []
    },
    {
      "cell_type": "markdown",
      "source": [
        "## Introduction\n",
        "\n",
        "Given an external estimator that assigns weights to features (e.g., the coefficients of a linear model), the goal of recursive feature elimination (RFE) is to select features by recursively considering smaller and smaller sets of features. \n",
        "\n",
        "First, the estimator is trained on the initial set of features and the importance of each feature is obtained either through any specific attribute (such as coef_, feature_importances_) or callable.\n",
        "\n",
        "Then, the least important features are pruned from current set of features. That procedure is recursively repeated on the pruned set until the desired number of features to select is eventually reached.\n",
        "\n",
        "RFECV performs RFE in a cross-validation loop to find the optimal number of features.\n",
        "\n",
        "\n"
      ],
      "metadata": {
        "id": "QxiRzGp4FwyK"
      }
    },
    {
      "cell_type": "markdown",
      "source": [
        "## Load the data"
      ],
      "metadata": {
        "id": "VwNAb3bWGl5u"
      }
    },
    {
      "cell_type": "code",
      "execution_count": 2,
      "metadata": {
        "id": "pHRfYRfrFuW6"
      },
      "outputs": [],
      "source": [
        "digits = load_digits()\n",
        "\n",
        "X = digits.data\n",
        "y = digits.target"
      ]
    },
    {
      "cell_type": "code",
      "source": [
        "print('Shape of feature set', X.shape , 'Shape of target set',y.shape)"
      ],
      "metadata": {
        "colab": {
          "base_uri": "https://localhost:8080/"
        },
        "id": "ZjRuqEUfG5Sp",
        "outputId": "36e1bcdd-3b3a-45d8-b1cc-5d43f9f2c1fd"
      },
      "execution_count": 3,
      "outputs": [
        {
          "output_type": "stream",
          "name": "stdout",
          "text": [
            "Shape of feature set (1797, 64) Shape of target set (1797,)\n"
          ]
        }
      ]
    },
    {
      "cell_type": "markdown",
      "source": [
        "## RFE\n",
        "\n",
        "A recursive feature elimination example showing the relevance of pixels in a digit classification task."
      ],
      "metadata": {
        "id": "Biu7RY4HHPFD"
      }
    },
    {
      "cell_type": "code",
      "source": [
        "# Estimator\n",
        "svc = SVC(kernel='linear')\n",
        "\n",
        "rfe = RFE(estimator=svc, n_features_to_select=32)\n",
        "rfe.fit(X,y)"
      ],
      "metadata": {
        "colab": {
          "base_uri": "https://localhost:8080/"
        },
        "id": "rYAXFks1HHSW",
        "outputId": "3ad38d51-2ea5-4a67-dcac-8b5574b15eb4"
      },
      "execution_count": 4,
      "outputs": [
        {
          "output_type": "execute_result",
          "data": {
            "text/plain": [
              "RFE(estimator=SVC(kernel='linear'), n_features_to_select=32)"
            ]
          },
          "metadata": {},
          "execution_count": 4
        }
      ]
    },
    {
      "cell_type": "code",
      "source": [
        "plt.figure(figsize=(15,5))\n",
        "ax1 = plt.subplot(121)\n",
        "sns.heatmap(rfe.ranking_.reshape(digits.images.shape[1:]), annot=True, ax=ax1)\n",
        "ax2 = plt.subplot(122)\n",
        "sns.heatmap(rfe.support_.reshape(digits.images.shape[1:]), ax=ax2);"
      ],
      "metadata": {
        "colab": {
          "base_uri": "https://localhost:8080/",
          "height": 324
        },
        "id": "4NFDdT-rIORt",
        "outputId": "a5f1f90d-5957-4ee6-d0e3-996477108fbd"
      },
      "execution_count": 5,
      "outputs": [
        {
          "output_type": "display_data",
          "data": {
            "text/plain": [
              "<Figure size 1080x360 with 4 Axes>"
            ],
            "image/png": "[encoded data removed]"
          },
          "metadata": {
            "needs_background": "light"
          }
        }
      ]
    },
    {
      "cell_type": "code",
      "source": [
        "plt.subplot(121)\n",
        "plt.imshow(digits.images[2], cmap=plt.cm.Greys)\n",
        "plt.title('Digit')\n",
        "plt.subplot(122)\n",
        "plt.imshow(rfe.support_.reshape(digits.images.shape[1:]), alpha=0.4, cmap=plt.cm.Greys)\n",
        "plt.title('Feature selection');"
      ],
      "metadata": {
        "colab": {
          "base_uri": "https://localhost:8080/",
          "height": 216
        },
        "id": "6qs6rkto9xNM",
        "outputId": "fa07cde0-f369-430f-f172-f3d5883d3bc0"
      },
      "execution_count": 51,
      "outputs": [
        {
          "output_type": "display_data",
          "data": {
            "text/plain": [
              "<Figure size 432x288 with 2 Axes>"
            ],
            "image/png": "[encoded data removed]"
          },
          "metadata": {
            "needs_background": "light"
          }
        }
      ]
    },
    {
      "cell_type": "markdown",
      "source": [
        "## RFECV\n",
        "\n",
        "Recursive feature elimination with cross-validation to select the number of features."
      ],
      "metadata": {
        "id": "PstR1a58NZbx"
      }
    },
    {
      "cell_type": "markdown",
      "source": [
        "## Create some data"
      ],
      "metadata": {
        "id": "Iw-XwKPzNjav"
      }
    },
    {
      "cell_type": "code",
      "source": [
        "# Build a classification task using 3 informative features\n",
        "X, y = make_classification(\n",
        "    n_samples=1000,\n",
        "    n_features=25,\n",
        "    n_informative=3,\n",
        "    n_redundant=2,\n",
        "    n_repeated=0,\n",
        "    n_classes=8,\n",
        "    n_clusters_per_class=1,\n",
        "    random_state=0,\n",
        ")"
      ],
      "metadata": {
        "id": "GRF8IBwkNg6r"
      },
      "execution_count": 6,
      "outputs": []
    },
    {
      "cell_type": "code",
      "source": [
        "# estimator\n",
        "svc = SVC(kernel=\"linear\")\n",
        "\n",
        "# RFECV\n",
        "rfecv = RFECV(estimator=svc, cv = StratifiedKFold(), scoring='accuracy',  min_features_to_select=1)\n",
        "rfecv.fit(X,y)"
      ],
      "metadata": {
        "colab": {
          "base_uri": "https://localhost:8080/"
        },
        "id": "IQCfLLFvNxMq",
        "outputId": "f58031f1-73b6-4d22-ca83-bd4a69cbc6ce"
      },
      "execution_count": 7,
      "outputs": [
        {
          "output_type": "execute_result",
          "data": {
            "text/plain": [
              "RFECV(cv=StratifiedKFold(n_splits=5, random_state=None, shuffle=False),\n",
              "      estimator=SVC(kernel='linear'), scoring='accuracy')"
            ]
          },
          "metadata": {},
          "execution_count": 7
        }
      ]
    },
    {
      "cell_type": "code",
      "source": [
        "rfecv.ranking_"
      ],
      "metadata": {
        "colab": {
          "base_uri": "https://localhost:8080/"
        },
        "id": "VH3hA7ykOmdI",
        "outputId": "a71110e6-f9a3-467f-fd9c-c28dadd861f1"
      },
      "execution_count": 8,
      "outputs": [
        {
          "output_type": "execute_result",
          "data": {
            "text/plain": [
              "array([ 3,  1, 10, 17, 13,  4, 15,  1,  1, 19, 21,  9, 14,  8, 11, 20,  6,\n",
              "       12,  1, 18,  5,  7,  1,  2, 16])"
            ]
          },
          "metadata": {},
          "execution_count": 8
        }
      ]
    },
    {
      "cell_type": "code",
      "source": [
        "rfecv.n_features_"
      ],
      "metadata": {
        "colab": {
          "base_uri": "https://localhost:8080/"
        },
        "id": "RLqVvO3hPRh6",
        "outputId": "47961298-ecd6-472c-8f81-f94953c2e213"
      },
      "execution_count": 9,
      "outputs": [
        {
          "output_type": "execute_result",
          "data": {
            "text/plain": [
              "5"
            ]
          },
          "metadata": {},
          "execution_count": 9
        }
      ]
    },
    {
      "cell_type": "code",
      "source": [
        "rfecv.cv_results_"
      ],
      "metadata": {
        "colab": {
          "base_uri": "https://localhost:8080/"
        },
        "id": "o7XcpoJGO33X",
        "outputId": "252663ad-f080-4095-d017-cfec86ab5dbe"
      },
      "execution_count": 10,
      "outputs": [
        {
          "output_type": "execute_result",
          "data": {
            "text/plain": [
              "{'mean_test_score': array([0.257, 0.51 , 0.81 , 0.816, 0.817, 0.806, 0.793, 0.794, 0.792,\n",
              "        0.791, 0.791, 0.783, 0.778, 0.771, 0.765, 0.774, 0.776, 0.763,\n",
              "        0.764, 0.768, 0.755, 0.761, 0.768, 0.752, 0.749]),\n",
              " 'split0_test_score': array([0.25 , 0.475, 0.82 , 0.84 , 0.84 , 0.825, 0.81 , 0.805, 0.815,\n",
              "        0.8  , 0.81 , 0.805, 0.78 , 0.795, 0.775, 0.78 , 0.805, 0.795,\n",
              "        0.79 , 0.785, 0.765, 0.77 , 0.775, 0.78 , 0.77 ]),\n",
              " 'split1_test_score': array([0.305, 0.54 , 0.81 , 0.805, 0.805, 0.785, 0.79 , 0.79 , 0.775,\n",
              "        0.78 , 0.78 , 0.77 , 0.795, 0.78 , 0.79 , 0.795, 0.78 , 0.79 ,\n",
              "        0.78 , 0.785, 0.765, 0.755, 0.775, 0.755, 0.765]),\n",
              " 'split2_test_score': array([0.235, 0.565, 0.79 , 0.795, 0.8  , 0.805, 0.775, 0.775, 0.79 ,\n",
              "        0.805, 0.8  , 0.795, 0.78 , 0.76 , 0.735, 0.735, 0.73 , 0.735,\n",
              "        0.735, 0.74 , 0.745, 0.775, 0.765, 0.735, 0.72 ]),\n",
              " 'split3_test_score': array([0.265, 0.51 , 0.84 , 0.845, 0.845, 0.84 , 0.83 , 0.845, 0.835,\n",
              "        0.825, 0.815, 0.825, 0.81 , 0.81 , 0.795, 0.815, 0.815, 0.81 ,\n",
              "        0.805, 0.82 , 0.805, 0.805, 0.82 , 0.805, 0.81 ]),\n",
              " 'split4_test_score': array([0.23 , 0.46 , 0.79 , 0.795, 0.795, 0.775, 0.76 , 0.755, 0.745,\n",
              "        0.745, 0.75 , 0.72 , 0.725, 0.71 , 0.73 , 0.745, 0.75 , 0.685,\n",
              "        0.71 , 0.71 , 0.695, 0.7  , 0.705, 0.685, 0.68 ]),\n",
              " 'std_test_score': array([0.02694439, 0.03911521, 0.01897367, 0.022     , 0.02111871,\n",
              "        0.02416609, 0.02481935, 0.03039737, 0.031241  , 0.02709243,\n",
              "        0.02374868, 0.03613862, 0.02874022, 0.0346987 , 0.02738613,\n",
              "        0.03006659, 0.03215587, 0.04654031, 0.03569314, 0.03854867,\n",
              "        0.03577709, 0.03455431, 0.03682391, 0.04093898, 0.04476606])}"
            ]
          },
          "metadata": {},
          "execution_count": 10
        }
      ]
    },
    {
      "cell_type": "code",
      "source": [
        "plt.plot(rfecv.cv_results_['mean_test_score'])\n",
        "plt.ylabel('Accuracy')\n",
        "plt.xlabel('Number of features selected');"
      ],
      "metadata": {
        "id": "VbWypnQSO8r3",
        "colab": {
          "base_uri": "https://localhost:8080/",
          "height": 279
        },
        "outputId": "73b7211c-4b51-410a-8477-9b2ba5098abd"
      },
      "execution_count": 55,
      "outputs": [
        {
          "output_type": "display_data",
          "data": {
            "text/plain": [
              "<Figure size 432x288 with 1 Axes>"
            ],
            "image/png": "[encoded data removed]"
          },
          "metadata": {
            "needs_background": "light"
          }
        }
      ]
    },
    {
      "cell_type": "code",
      "source": [
        ""
      ],
      "metadata": {
        "id": "ddCGQDpJAube"
      },
      "execution_count": null,
      "outputs": []
    }
  ]
}