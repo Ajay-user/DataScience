{
  "nbformat": 4,
  "nbformat_minor": 0,
  "metadata": {
    "colab": {
      "name": "Univariate Feature Selection.ipynb",
      "provenance": [],
      "authorship_tag": "ABX9TyNK2fkQRVfuF+f5851S6Eq/",
      "include_colab_link": true
    },
    "kernelspec": {
      "name": "python3",
      "display_name": "Python 3"
    },
    "language_info": {
      "name": "python"
    }
  },
  "cells": [
    {
      "cell_type": "markdown",
      "metadata": {
        "id": "view-in-github",
        "colab_type": "text"
      },
      "source": [
        "<a href=\"https://colab.research.google.com/github/Ajay-user/ML-DL-RL-repo/blob/master/Feature%20Selection/Univariate_Feature_Selection.ipynb\" target=\"_parent\"><img src=\"https://colab.research.google.com/assets/colab-badge.svg\" alt=\"Open In Colab\"/></a>"
      ]
    },
    {
      "cell_type": "code",
      "source": [
        "import numpy as np\n",
        "import pandas as pd\n",
        "import matplotlib.pyplot as plt\n",
        "from sklearn.datasets import load_iris\n",
        "from sklearn.model_selection import train_test_split\n",
        "from sklearn.pipeline import make_pipeline\n",
        "from sklearn.preprocessing import MinMaxScaler\n",
        "from sklearn.svm import LinearSVC"
      ],
      "metadata": {
        "id": "FKT4PRv5D9kv"
      },
      "execution_count": 50,
      "outputs": []
    },
    {
      "cell_type": "markdown",
      "source": [
        "## Introduction\n",
        "\n",
        "* Noisy (non informative) features are added to the iris dataset. \n",
        "\n",
        "* Support vector machine (SVM) is used to classify the dataset both before and after applying univariate feature selection. \n",
        "\n",
        "* Compare model accuracy and examine the impact of univariate feature selection on model weights."
      ],
      "metadata": {
        "id": "YceW2SSQDeUI"
      }
    },
    {
      "cell_type": "markdown",
      "source": [
        "## Load the data"
      ],
      "metadata": {
        "id": "DFbY9x6qDxa-"
      }
    },
    {
      "cell_type": "code",
      "execution_count": 14,
      "metadata": {
        "colab": {
          "base_uri": "https://localhost:8080/"
        },
        "id": "YVQ1m9USCxGi",
        "outputId": "98c87e5c-cfcb-4ac9-f886-a73409f9f8f3"
      },
      "outputs": [
        {
          "output_type": "stream",
          "name": "stdout",
          "text": [
            "Shape of feature set (150, 4)\n"
          ]
        }
      ],
      "source": [
        "iris = load_iris()\n",
        "\n",
        "X = iris.data\n",
        "y = iris.target\n",
        "print('Shape of feature set', X.shape)"
      ]
    },
    {
      "cell_type": "markdown",
      "source": [
        "## Add Noise"
      ],
      "metadata": {
        "id": "xvvY34qkEPp3"
      }
    },
    {
      "cell_type": "code",
      "source": [
        "np.random.seed(42)\n",
        "\n",
        "noise = np.random.uniform(low=0.0, high=0.1, size=(X.shape[0],20))"
      ],
      "metadata": {
        "id": "Atj-ULnBD7Ly"
      },
      "execution_count": 10,
      "outputs": []
    },
    {
      "cell_type": "code",
      "source": [
        "X_aug = np.hstack([X, noise])\n",
        "print('Shape of new feature set', X_aug.shape)"
      ],
      "metadata": {
        "colab": {
          "base_uri": "https://localhost:8080/"
        },
        "id": "SUWEKveEEWjQ",
        "outputId": "f0fc03a8-a897-47d3-83d2-1d37754c0380"
      },
      "execution_count": 13,
      "outputs": [
        {
          "output_type": "stream",
          "name": "stdout",
          "text": [
            "Shape of new feature set (150, 24)\n"
          ]
        }
      ]
    },
    {
      "cell_type": "code",
      "source": [
        "# train - test split\n",
        "X_train, X_test, y_train, y_test = train_test_split(X_aug, y, stratify=y, random_state=42)"
      ],
      "metadata": {
        "id": "zFtu_nDYKkvR"
      },
      "execution_count": 53,
      "outputs": []
    },
    {
      "cell_type": "markdown",
      "source": [
        "## Univariate feature selection\n",
        "Univariate feature selection with F-test for feature scoring. We use the default selection function to select the four most significant features.\n",
        "\n",
        "\n",
        "* For regression: `f_regression`, `mutual_info_regression`\n",
        "\n",
        "* For classification: `chi2`, `f_classif`, `mutual_info_classif`\n",
        "\n",
        "\n",
        "The methods based on F-test estimate the degree of linear dependency between two random variables. On the other hand, mutual information methods can capture any kind of statistical dependency, but being nonparametric, they require more samples for accurate estimation."
      ],
      "metadata": {
        "id": "OdV-jep5FIOr"
      }
    },
    {
      "cell_type": "code",
      "source": [
        "from numpy.core.numeric import indices\n",
        "from sklearn import feature_selection\n",
        "from sklearn.feature_selection import SelectKBest, f_classif\n",
        "\n",
        "# selecting 4 best features\n",
        "kBest = SelectKBest(f_classif, k=4)\n",
        "kBest.fit(X_aug, y)\n",
        "\n",
        "feature_names = iris.feature_names+[\"noise\"+str(i) for i in range(20)]\n",
        "pvalues = pd.DataFrame(data=kBest.pvalues_, index=feature_names, columns=['pvalue'])\n",
        "scores = pd.DataFrame(data=kBest.scores_, index=feature_names, columns=['score'])"
      ],
      "metadata": {
        "id": "JNfERJPqExa-"
      },
      "execution_count": 37,
      "outputs": []
    },
    {
      "cell_type": "code",
      "source": [
        "# lets plot p-values\n",
        "plt.figure(figsize=(12,6))\n",
        "ax1 = plt.subplot(1,2,1)\n",
        "scores.plot(kind='barh', ax=ax1)\n",
        "ax2 = plt.subplot(1,2,2)\n",
        "pvalues.plot(kind='barh', ax=ax2);\n",
        "plt.subplots_adjust(wspace=0.5)"
      ],
      "metadata": {
        "colab": {
          "base_uri": "https://localhost:8080/",
          "height": 374
        },
        "id": "pAqaE0qVF3Fb",
        "outputId": "69b7b89a-3234-4308-8271-2e888f2adafe"
      },
      "execution_count": 48,
      "outputs": [
        {
          "output_type": "display_data",
          "data": {
            "text/plain": [
              "<Figure size 864x432 with 2 Axes>"
            ],
            "image/png": "[encoded data removed]"
          },
          "metadata": {
            "needs_background": "light"
          }
        }
      ]
    },
    {
      "cell_type": "markdown",
      "source": [
        "## Compare with SVMs"
      ],
      "metadata": {
        "id": "-8Hefh_eJ1uT"
      }
    },
    {
      "cell_type": "code",
      "source": [
        "# without univariate feature selection\n",
        "pipe = make_pipeline(MinMaxScaler(), LinearSVC())\n",
        "pipe.fit(X_train, y_train)"
      ],
      "metadata": {
        "colab": {
          "base_uri": "https://localhost:8080/"
        },
        "id": "gEZx8iRQIHzk",
        "outputId": "a790007d-07cc-4dbf-9423-fd3a4bad8299"
      },
      "execution_count": 54,
      "outputs": [
        {
          "output_type": "execute_result",
          "data": {
            "text/plain": [
              "Pipeline(steps=[('minmaxscaler', MinMaxScaler()), ('linearsvc', LinearSVC())])"
            ]
          },
          "metadata": {},
          "execution_count": 54
        }
      ]
    },
    {
      "cell_type": "code",
      "source": [
        "score_without_feature_selection = pipe.score(X_test, y_test)\n",
        "print('SVM score without univariate feature selection',pipe.score(X_test, y_test))"
      ],
      "metadata": {
        "colab": {
          "base_uri": "https://localhost:8080/"
        },
        "id": "yPPPSCqqKTvd",
        "outputId": "4af2a322-dd91-4b56-babb-9803e3693717"
      },
      "execution_count": 56,
      "outputs": [
        {
          "output_type": "stream",
          "name": "stdout",
          "text": [
            "SVM score without univariate feature selection 0.7105263157894737\n"
          ]
        }
      ]
    },
    {
      "cell_type": "code",
      "source": [
        "# with feature selection \n",
        "pipe_with_feature_selection = make_pipeline(SelectKBest(f_classif, k=4) ,MinMaxScaler(), LinearSVC())\n",
        "pipe_with_feature_selection.fit(X_train, y_train)"
      ],
      "metadata": {
        "colab": {
          "base_uri": "https://localhost:8080/"
        },
        "id": "_mxp3UcCLFb6",
        "outputId": "97ebf44a-b7c2-4df2-fafe-19999d3ad832"
      },
      "execution_count": 57,
      "outputs": [
        {
          "output_type": "execute_result",
          "data": {
            "text/plain": [
              "Pipeline(steps=[('selectkbest', SelectKBest(k=4)),\n",
              "                ('minmaxscaler', MinMaxScaler()), ('linearsvc', LinearSVC())])"
            ]
          },
          "metadata": {},
          "execution_count": 57
        }
      ]
    },
    {
      "cell_type": "code",
      "source": [
        "score_with_feature_selection = pipe_with_feature_selection .score(X_test, y_test)\n",
        "print('SVM score without univariate feature selection',pipe_with_feature_selection .score(X_test, y_test))"
      ],
      "metadata": {
        "colab": {
          "base_uri": "https://localhost:8080/"
        },
        "id": "tDg7eLJnLkuA",
        "outputId": "4a28fc05-16cb-4b66-8cb8-17e407edef28"
      },
      "execution_count": 58,
      "outputs": [
        {
          "output_type": "stream",
          "name": "stdout",
          "text": [
            "SVM score without univariate feature selection 0.8421052631578947\n"
          ]
        }
      ]
    },
    {
      "cell_type": "code",
      "source": [
        "# comparison\n",
        "plt.bar([1,2], [score_without_feature_selection, score_with_feature_selection], tick_label=['score without feature selection', 'score with feature selection']);"
      ],
      "metadata": {
        "colab": {
          "base_uri": "https://localhost:8080/",
          "height": 265
        },
        "id": "CAJYJlBzLr_H",
        "outputId": "1f83dede-0e31-4874-fc73-3fbb3bc824a6"
      },
      "execution_count": 63,
      "outputs": [
        {
          "output_type": "display_data",
          "data": {
            "text/plain": [
              "<Figure size 432x288 with 1 Axes>"
            ],
            "image/png": "[encoded data removed]"
          },
          "metadata": {
            "needs_background": "light"
          }
        }
      ]
    }
  ]
}