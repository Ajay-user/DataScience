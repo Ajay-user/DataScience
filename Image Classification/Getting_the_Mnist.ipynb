{
  "nbformat": 4,
  "nbformat_minor": 0,
  "metadata": {
    "colab": {
      "name": "Getting the Mnist.ipynb",
      "provenance": [],
      "collapsed_sections": [],
      "toc_visible": true,
      "authorship_tag": "ABX9TyOTMrkr/Y1zshFCYEqEWNEc",
      "include_colab_link": true
    },
    "kernelspec": {
      "name": "python3",
      "display_name": "Python 3"
    },
    "language_info": {
      "name": "python"
    }
  },
  "cells": [
    {
      "cell_type": "markdown",
      "metadata": {
        "id": "view-in-github",
        "colab_type": "text"
      },
      "source": [
        "<a href=\"https://colab.research.google.com/github/Ajay-user/ML-DL-RL-repo/blob/master/Image%20Classification/Getting_the_Mnist.ipynb\" target=\"_parent\"><img src=\"https://colab.research.google.com/assets/colab-badge.svg\" alt=\"Open In Colab\"/></a>"
      ]
    },
    {
      "cell_type": "code",
      "execution_count": 1,
      "metadata": {
        "id": "IfyNVHt_AvNN"
      },
      "outputs": [],
      "source": [
        "import tensorflow as tf\n",
        "import pandas as pd\n",
        "import numpy as np \n",
        "import matplotlib.pyplot as plt"
      ]
    },
    {
      "cell_type": "markdown",
      "source": [
        "## Loading mnist data"
      ],
      "metadata": {
        "id": "77k4QhrGBUhx"
      }
    },
    {
      "cell_type": "code",
      "source": [
        "(x_train,y_train),(x_test,y_test) = tf.keras.datasets.mnist.load_data()"
      ],
      "metadata": {
        "colab": {
          "base_uri": "https://localhost:8080/"
        },
        "id": "MxoA4sy9BAuK",
        "outputId": "3305a6e2-b212-498a-bb7b-20145d32c952"
      },
      "execution_count": 2,
      "outputs": [
        {
          "output_type": "stream",
          "name": "stdout",
          "text": [
            "Downloading data from https://storage.googleapis.com/tensorflow/tf-keras-datasets/mnist.npz\n",
            "11493376/11490434 [==============================] - 0s 0us/step\n",
            "11501568/11490434 [==============================] - 0s 0us/step\n"
          ]
        }
      ]
    },
    {
      "cell_type": "markdown",
      "source": [
        "## Model parameters"
      ],
      "metadata": {
        "id": "WXZNn-flFwmT"
      }
    },
    {
      "cell_type": "code",
      "source": [
        "BATCH_SIZE = 128\n",
        "EPOCHS = 10\n",
        "STEP_PER_EPOCH = 60000//BATCH_SIZE  # 60,000 items in this dataset"
      ],
      "metadata": {
        "id": "mOvuPExPF3Z3"
      },
      "execution_count": 3,
      "outputs": []
    },
    {
      "cell_type": "markdown",
      "source": [
        "## Preprocessing and ploting utils"
      ],
      "metadata": {
        "id": "aGUIwMC9BXv-"
      }
    },
    {
      "cell_type": "code",
      "source": [
        "# scaling\n",
        "X_train = x_train/255.0\n",
        "X_test = x_test/255.0\n",
        "\n",
        "\n",
        "# create an utility for training dataset\n",
        "def create_training_ds(X,y,batch_size=BATCH_SIZE):\n",
        "  ds = tf.data.Dataset.from_tensor_slices((X,y))\n",
        "  # this small dataset can be entirely cached in RAM\n",
        "  ds = ds.cache()\n",
        "  # training set should be well shuffled\n",
        "  ds = ds.shuffle(buffer_size=5000)\n",
        "  # repeat the dataset\n",
        "  ds = ds.repeat()\n",
        "  # create batches\n",
        "  ds = ds.batch(batch_size=batch_size, drop_remainder=True)\n",
        "  # fetch next batches while training on the current one \n",
        "  ds = ds.prefetch(buffer_size=tf.data.AUTOTUNE)\n",
        "  return ds\n",
        "\n",
        "# create an utility for evaluation dataset\n",
        "def create_eval_ds(X,y,batch_size=BATCH_SIZE):\n",
        "  ds = tf.data.Dataset.from_tensor_slices((X,y))\n",
        "  # this small dataset can be entirely cached in RAM\n",
        "  ds = ds.cache()\n",
        "  # repeat the dataset\n",
        "  ds = ds.repeat()\n",
        "  # create batches\n",
        "  ds = ds.batch(batch_size=batch_size, drop_remainder=True)\n",
        "  return ds\n",
        "\n",
        "# create an util for plotting \n",
        "def plot_model(history):\n",
        "  for i, metric in enumerate(['loss', 'accuracy']):\n",
        "    ax = plt.subplot(2,2,i+1)\n",
        "    ax.plot(history.history[metric])\n",
        "    plt.title(metric)\n",
        "\n",
        "    ax = plt.subplot(2,2,i+3)\n",
        "    ax.plot(history.history['val_'+metric])\n",
        "    plt.title('val_'+metric)\n",
        "\n",
        "  plt.subplots_adjust(wspace=0.4,hspace=0.5)\n",
        "  plt.show()"
      ],
      "metadata": {
        "id": "UiFAm4I4BQkS"
      },
      "execution_count": 51,
      "outputs": []
    },
    {
      "cell_type": "markdown",
      "source": [
        "Training and evaluation dataset"
      ],
      "metadata": {
        "id": "NwUnbfyQFR91"
      }
    },
    {
      "cell_type": "code",
      "source": [
        "train_ds = create_training_ds(X_train, y_train)\n",
        "eval_ds = create_eval_ds(X_test, y_test)"
      ],
      "metadata": {
        "id": "-KLKy8lPFKsu"
      },
      "execution_count": 5,
      "outputs": []
    },
    {
      "cell_type": "markdown",
      "source": [
        "## Model-1 : Single layer with 10 units"
      ],
      "metadata": {
        "id": "zwt2quWUGuew"
      }
    },
    {
      "cell_type": "code",
      "source": [
        "model_1 = tf.keras.Sequential([\n",
        "                               tf.keras.layers.Flatten(),\n",
        "                               tf.keras.layers.Dense(units=10, activation='softmax')\n",
        "])\n",
        "\n",
        "model_1.compile(optimizer='adam', loss='sparse_categorical_crossentropy', metrics=['accuracy'])"
      ],
      "metadata": {
        "id": "A6At5_1NGK09"
      },
      "execution_count": 15,
      "outputs": []
    },
    {
      "cell_type": "code",
      "source": [
        "history = model_1.fit(train_ds, steps_per_epoch=STEP_PER_EPOCH, epochs=EPOCHS, validation_data=eval_ds, validation_steps=100)"
      ],
      "metadata": {
        "colab": {
          "base_uri": "https://localhost:8080/"
        },
        "id": "QSLTYGgXIcyO",
        "outputId": "df2b1df5-faa5-4959-8033-c496dbdb6625"
      },
      "execution_count": 16,
      "outputs": [
        {
          "output_type": "stream",
          "name": "stdout",
          "text": [
            "Epoch 1/10\n",
            "468/468 [==============================] - 2s 3ms/step - loss: 0.6945 - accuracy: 0.8277 - val_loss: 0.4071 - val_accuracy: 0.8913\n",
            "Epoch 2/10\n",
            "468/468 [==============================] - 2s 3ms/step - loss: 0.3644 - accuracy: 0.9019 - val_loss: 0.3410 - val_accuracy: 0.9039\n",
            "Epoch 3/10\n",
            "468/468 [==============================] - 2s 4ms/step - loss: 0.3212 - accuracy: 0.9118 - val_loss: 0.3169 - val_accuracy: 0.9096\n",
            "Epoch 4/10\n",
            "468/468 [==============================] - 2s 4ms/step - loss: 0.3006 - accuracy: 0.9166 - val_loss: 0.3044 - val_accuracy: 0.9148\n",
            "Epoch 5/10\n",
            "468/468 [==============================] - 2s 4ms/step - loss: 0.2893 - accuracy: 0.9201 - val_loss: 0.2974 - val_accuracy: 0.9182\n",
            "Epoch 6/10\n",
            "468/468 [==============================] - 2s 4ms/step - loss: 0.2799 - accuracy: 0.9223 - val_loss: 0.2906 - val_accuracy: 0.9180\n",
            "Epoch 7/10\n",
            "468/468 [==============================] - 2s 4ms/step - loss: 0.2737 - accuracy: 0.9236 - val_loss: 0.2881 - val_accuracy: 0.9202\n",
            "Epoch 8/10\n",
            "468/468 [==============================] - 2s 4ms/step - loss: 0.2694 - accuracy: 0.9248 - val_loss: 0.2856 - val_accuracy: 0.9192\n",
            "Epoch 9/10\n",
            "468/468 [==============================] - 2s 4ms/step - loss: 0.2665 - accuracy: 0.9258 - val_loss: 0.2822 - val_accuracy: 0.9208\n",
            "Epoch 10/10\n",
            "468/468 [==============================] - 2s 4ms/step - loss: 0.2620 - accuracy: 0.9273 - val_loss: 0.2831 - val_accuracy: 0.9203\n"
          ]
        }
      ]
    },
    {
      "cell_type": "markdown",
      "source": [
        "## Evaluate the model"
      ],
      "metadata": {
        "id": "kId4QYC6LFn3"
      }
    },
    {
      "cell_type": "code",
      "source": [
        "loss, accuracy = model_1.evaluate(eval_ds, steps=100)\n",
        "print('Loss',loss)\n",
        "print('Accuracy',accuracy)"
      ],
      "metadata": {
        "colab": {
          "base_uri": "https://localhost:8080/"
        },
        "id": "5OkKI4hgLIqy",
        "outputId": "ae5b8b61-8d9d-4fbd-ab27-767ea4643ddf"
      },
      "execution_count": 17,
      "outputs": [
        {
          "output_type": "stream",
          "name": "stdout",
          "text": [
            "100/100 [==============================] - 0s 3ms/step - loss: 0.2831 - accuracy: 0.9203\n",
            "Loss 0.28309887647628784\n",
            "Accuracy 0.9203125238418579\n"
          ]
        }
      ]
    },
    {
      "cell_type": "code",
      "source": [
        "# lets plot the model\n",
        "plot_model(history)"
      ],
      "metadata": {
        "colab": {
          "base_uri": "https://localhost:8080/",
          "height": 281
        },
        "id": "E5G2dhkNKKfC",
        "outputId": "641d499e-bc5c-411a-9357-a9ab2321d3b1"
      },
      "execution_count": 52,
      "outputs": [
        {
          "output_type": "display_data",
          "data": {
            "image/png": "[encoded data removed]",
            "text/plain": [
              "<Figure size 432x288 with 4 Axes>"
            ]
          },
          "metadata": {
            "needs_background": "light"
          }
        }
      ]
    },
    {
      "cell_type": "markdown",
      "source": [
        "## Model-2 : Multilayer Neural network"
      ],
      "metadata": {
        "id": "Z1lf5s6HRA7B"
      }
    },
    {
      "cell_type": "code",
      "source": [
        "model_2 = tf.keras.Sequential([\n",
        "                               tf.keras.layers.Flatten(),\n",
        "                               tf.keras.layers.Dense(units=128, activation='relu'),\n",
        "                               tf.keras.layers.Dense(units=64, activation='relu'),\n",
        "                               tf.keras.layers.Dense(units=32, activation='relu'),\n",
        "                               tf.keras.layers.Dense(units=10, activation='softmax')\n",
        "])\n",
        "\n",
        "model_2.compile(optimizer='adam', loss='sparse_categorical_crossentropy', metrics=['accuracy'])"
      ],
      "metadata": {
        "id": "7qbYCZWKL0-i"
      },
      "execution_count": 48,
      "outputs": []
    },
    {
      "cell_type": "code",
      "source": [
        "history_2 = model_2.fit(train_ds, epochs=EPOCHS, steps_per_epoch=STEP_PER_EPOCH, validation_data=eval_ds, validation_steps=100)"
      ],
      "metadata": {
        "colab": {
          "base_uri": "https://localhost:8080/"
        },
        "id": "8nkXKJgaRgV8",
        "outputId": "a7bba7c9-c58a-4761-807b-b48b686fb01c"
      },
      "execution_count": 49,
      "outputs": [
        {
          "output_type": "stream",
          "name": "stdout",
          "text": [
            "Epoch 1/10\n",
            "468/468 [==============================] - 4s 6ms/step - loss: 0.3477 - accuracy: 0.8996 - val_loss: 0.1758 - val_accuracy: 0.9496\n",
            "Epoch 2/10\n",
            "468/468 [==============================] - 3s 6ms/step - loss: 0.1343 - accuracy: 0.9602 - val_loss: 0.1204 - val_accuracy: 0.9648\n",
            "Epoch 3/10\n",
            "468/468 [==============================] - 3s 6ms/step - loss: 0.0932 - accuracy: 0.9720 - val_loss: 0.1029 - val_accuracy: 0.9699\n",
            "Epoch 4/10\n",
            "468/468 [==============================] - 3s 6ms/step - loss: 0.0708 - accuracy: 0.9783 - val_loss: 0.0957 - val_accuracy: 0.9709\n",
            "Epoch 5/10\n",
            "468/468 [==============================] - 3s 7ms/step - loss: 0.0544 - accuracy: 0.9831 - val_loss: 0.0917 - val_accuracy: 0.9726\n",
            "Epoch 6/10\n",
            "468/468 [==============================] - 3s 6ms/step - loss: 0.0451 - accuracy: 0.9861 - val_loss: 0.0933 - val_accuracy: 0.9725\n",
            "Epoch 7/10\n",
            "468/468 [==============================] - 3s 7ms/step - loss: 0.0381 - accuracy: 0.9882 - val_loss: 0.0971 - val_accuracy: 0.9729\n",
            "Epoch 8/10\n",
            "468/468 [==============================] - 3s 7ms/step - loss: 0.0307 - accuracy: 0.9902 - val_loss: 0.0934 - val_accuracy: 0.9748\n",
            "Epoch 9/10\n",
            "468/468 [==============================] - 3s 7ms/step - loss: 0.0257 - accuracy: 0.9916 - val_loss: 0.1146 - val_accuracy: 0.9695\n",
            "Epoch 10/10\n",
            "468/468 [==============================] - 4s 8ms/step - loss: 0.0211 - accuracy: 0.9932 - val_loss: 0.0939 - val_accuracy: 0.9773\n"
          ]
        }
      ]
    },
    {
      "cell_type": "code",
      "source": [
        "# let's check the performance on eval ds\n",
        "loss,accuracy = model_2.evaluate(eval_ds, steps=100)\n",
        "print('Loss',loss)\n",
        "print('Accuracy',accuracy)"
      ],
      "metadata": {
        "colab": {
          "base_uri": "https://localhost:8080/"
        },
        "id": "R19ryQbaR3nl",
        "outputId": "1d2c0dd5-5ced-4d59-9197-00e90dd69757"
      },
      "execution_count": 50,
      "outputs": [
        {
          "output_type": "stream",
          "name": "stdout",
          "text": [
            "100/100 [==============================] - 0s 3ms/step - loss: 0.0939 - accuracy: 0.9773\n",
            "Loss 0.09393960237503052\n",
            "Accuracy 0.977343738079071\n"
          ]
        }
      ]
    },
    {
      "cell_type": "markdown",
      "source": [
        "Training accuracy around 99% and validation around 97% <br>\n",
        "Are we overfitting the training data? \n"
      ],
      "metadata": {
        "id": "PUQbZintS6Aq"
      }
    },
    {
      "cell_type": "code",
      "source": [
        "# let plot the learning \n",
        "plot_model(history_2)"
      ],
      "metadata": {
        "colab": {
          "base_uri": "https://localhost:8080/",
          "height": 281
        },
        "id": "tU2uY4ywST9R",
        "outputId": "a5ddea91-3dac-4c45-db0f-ef13bc386313"
      },
      "execution_count": 53,
      "outputs": [
        {
          "output_type": "display_data",
          "data": {
            "image/png": "[encoded data removed]",
            "text/plain": [
              "<Figure size 432x288 with 4 Axes>"
            ]
          },
          "metadata": {
            "needs_background": "light"
          }
        }
      ]
    },
    {
      "cell_type": "markdown",
      "source": [
        "We are overfitting the trainig data \n",
        "\n",
        "How can we make our model more general ?\n",
        "* use Dropout\n",
        "* use weight regularization techniques like L1 and L2\n",
        "* use a Simple model\n",
        "* Reduce the learing rate\n",
        "* Early stopping\n",
        "\n",
        "Let's use Dropout and a decaying learning rate"
      ],
      "metadata": {
        "id": "8UmHIvFpTMnN"
      }
    },
    {
      "cell_type": "markdown",
      "source": [
        "## Model-3 : Multiple layers with dropout regularization & decaying learing rate"
      ],
      "metadata": {
        "id": "zpgpf0S2UD2B"
      }
    },
    {
      "cell_type": "code",
      "source": [
        "model_3 = tf.keras.Sequential([\n",
        "                               tf.keras.layers.Flatten(),\n",
        "                               tf.keras.layers.Dense(units=128, activation='relu'),\n",
        "                               tf.keras.layers.Dropout(rate=0.2),\n",
        "\n",
        "                               tf.keras.layers.Dense(units=64, activation='relu'),\n",
        "                               tf.keras.layers.Dropout(rate=0.2),\n",
        "\n",
        "                               tf.keras.layers.Dense(units=32, activation='relu'),\n",
        "                               tf.keras.layers.Dropout(rate=0.2),\n",
        "\n",
        "                               tf.keras.layers.Dense(units=10, activation='softmax')\n",
        "])\n",
        "\n",
        "model_3.compile(optimizer='adam', loss='sparse_categorical_crossentropy', metrics=['accuracy'])"
      ],
      "metadata": {
        "id": "yKOA74a-THTN"
      },
      "execution_count": 54,
      "outputs": []
    },
    {
      "cell_type": "code",
      "source": [
        "import math\n",
        "# decaying learing rate\n",
        "def decay_lr(epoch):\n",
        "  return 0.01*math.pow(0.6,epoch)\n",
        "\n",
        "# lets view the decay\n",
        "decay = []\n",
        "for epoch in range(EPOCHS):\n",
        "  decay.append(decay_lr(epoch))\n",
        "\n",
        "plt.figure(figsize=(15,5))\n",
        "plt.subplot(1,2,1)\n",
        "plt.plot(decay);\n",
        "plt.xlabel('Epochs')\n",
        "plt.ylabel('Learing rate')\n",
        "plt.suptitle('Decaying learing rate');\n",
        "plt.subplot(1,2,2)\n",
        "plt.step(range(len(decay)), decay)\n",
        "plt.xlabel('Epochs')"
      ],
      "metadata": {
        "colab": {
          "base_uri": "https://localhost:8080/",
          "height": 387
        },
        "id": "gmIwKkIEUww2",
        "outputId": "4fec3651-17a6-4645-92f7-e4ee685c0cc5"
      },
      "execution_count": 75,
      "outputs": [
        {
          "output_type": "execute_result",
          "data": {
            "text/plain": [
              "Text(0.5, 0, 'Epochs')"
            ]
          },
          "metadata": {},
          "execution_count": 75
        },
        {
          "output_type": "display_data",
          "data": {
            "image/png": "[encoded data removed]",
            "text/plain": [
              "<Figure size 1080x360 with 2 Axes>"
            ]
          },
          "metadata": {
            "needs_background": "light"
          }
        }
      ]
    },
    {
      "cell_type": "code",
      "source": [
        "from gc import callbacks\n",
        "# lets use these to train our model\n",
        "lr = tf.keras.callbacks.LearningRateScheduler(decay_lr)\n",
        "history_3 = model_3.fit(train_ds,\n",
        "                        epochs=EPOCHS,\n",
        "                        steps_per_epoch=STEP_PER_EPOCH,\n",
        "                        validation_data=eval_ds,\n",
        "                        validation_steps=100,\n",
        "                        callbacks=[lr])"
      ],
      "metadata": {
        "colab": {
          "base_uri": "https://localhost:8080/"
        },
        "id": "RQU31YXoVbSn",
        "outputId": "7a1416ee-3448-4e3b-b17d-a43da02210a1"
      },
      "execution_count": 62,
      "outputs": [
        {
          "output_type": "stream",
          "name": "stdout",
          "text": [
            "Epoch 1/10\n",
            "468/468 [==============================] - 4s 9ms/step - loss: 0.3654 - accuracy: 0.8984 - val_loss: 0.1966 - val_accuracy: 0.9452 - lr: 0.0100\n",
            "Epoch 2/10\n",
            "468/468 [==============================] - 4s 8ms/step - loss: 0.2092 - accuracy: 0.9429 - val_loss: 0.1513 - val_accuracy: 0.9578 - lr: 0.0060\n",
            "Epoch 3/10\n",
            "468/468 [==============================] - 3s 7ms/step - loss: 0.1548 - accuracy: 0.9584 - val_loss: 0.1307 - val_accuracy: 0.9656 - lr: 0.0036\n",
            "Epoch 4/10\n",
            "468/468 [==============================] - 3s 7ms/step - loss: 0.1252 - accuracy: 0.9652 - val_loss: 0.1148 - val_accuracy: 0.9703 - lr: 0.0022\n",
            "Epoch 5/10\n",
            "468/468 [==============================] - 3s 6ms/step - loss: 0.1057 - accuracy: 0.9705 - val_loss: 0.1096 - val_accuracy: 0.9707 - lr: 0.0013\n",
            "Epoch 6/10\n",
            "468/468 [==============================] - 3s 7ms/step - loss: 0.0936 - accuracy: 0.9736 - val_loss: 0.1057 - val_accuracy: 0.9735 - lr: 7.7760e-04\n",
            "Epoch 7/10\n",
            "468/468 [==============================] - 3s 7ms/step - loss: 0.0884 - accuracy: 0.9753 - val_loss: 0.1010 - val_accuracy: 0.9735 - lr: 4.6656e-04\n",
            "Epoch 8/10\n",
            "468/468 [==============================] - 3s 6ms/step - loss: 0.0824 - accuracy: 0.9763 - val_loss: 0.1022 - val_accuracy: 0.9734 - lr: 2.7994e-04\n",
            "Epoch 9/10\n",
            "468/468 [==============================] - 3s 7ms/step - loss: 0.0809 - accuracy: 0.9764 - val_loss: 0.1016 - val_accuracy: 0.9742 - lr: 1.6796e-04\n",
            "Epoch 10/10\n",
            "468/468 [==============================] - 3s 7ms/step - loss: 0.0772 - accuracy: 0.9777 - val_loss: 0.1021 - val_accuracy: 0.9738 - lr: 1.0078e-04\n"
          ]
        }
      ]
    },
    {
      "cell_type": "code",
      "source": [
        "# lets evaluate\n",
        "loss, accuracy = model_3.evaluate(eval_ds, steps=100)\n",
        "print('Loss',loss)\n",
        "print('Accuracy', accuracy)"
      ],
      "metadata": {
        "colab": {
          "base_uri": "https://localhost:8080/"
        },
        "id": "_GUTxj1AWxSC",
        "outputId": "52d33950-cfe7-4628-92a8-41e8c0443224"
      },
      "execution_count": 64,
      "outputs": [
        {
          "output_type": "stream",
          "name": "stdout",
          "text": [
            "100/100 [==============================] - 0s 4ms/step - loss: 0.1021 - accuracy: 0.9738\n",
            "Loss 0.10210952907800674\n",
            "Accuracy 0.973828136920929\n"
          ]
        }
      ]
    },
    {
      "cell_type": "code",
      "source": [
        "# lets plot the model \n",
        "plot_model(history_3)"
      ],
      "metadata": {
        "colab": {
          "base_uri": "https://localhost:8080/",
          "height": 281
        },
        "id": "zHxLhVIAcsNi",
        "outputId": "27086577-637d-4c4e-b14c-fe5bfefe0d79"
      },
      "execution_count": 87,
      "outputs": [
        {
          "output_type": "display_data",
          "data": {
            "image/png": "[encoded data removed]",
            "text/plain": [
              "<Figure size 432x288 with 4 Axes>"
            ]
          },
          "metadata": {
            "needs_background": "light"
          }
        }
      ]
    },
    {
      "cell_type": "markdown",
      "source": [
        "In Image domain we've CNN.\n",
        "Convolutional neural networks are excellent feature extractors. Can we use CNN here to get more powerful results?\n",
        "\n",
        "## Model-4 : Convolutional Neural Nets"
      ],
      "metadata": {
        "id": "TZiJ6rXwZH0_"
      }
    },
    {
      "cell_type": "code",
      "source": [
        "model_4 = tf.keras.Sequential([\n",
        "    tf.keras.layers.Reshape(target_shape=(28,28,1)),\n",
        "    tf.keras.layers.Conv2D(filters=12, kernel_size=3, strides=1, padding='same'),\n",
        "    tf.keras.layers.Conv2D(filters=24, kernel_size=6, strides=2, padding='same'),\n",
        "    tf.keras.layers.Conv2D(filters=32, kernel_size=6, strides=2, padding='same'),\n",
        "    \n",
        "    tf.keras.layers.Flatten(),\n",
        "    tf.keras.layers.Dense(units=32, activation='relu'),\n",
        "    tf.keras.layers.Dense(units=10, activation='softmax')                        \n",
        "])\n",
        "\n",
        "model_4.compile(optimizer='adam', loss='sparse_categorical_crossentropy', metrics=['accuracy'])"
      ],
      "metadata": {
        "id": "8_DwZEIqXlam"
      },
      "execution_count": 86,
      "outputs": []
    },
    {
      "cell_type": "code",
      "source": [
        "history_4 = model_4.fit(train_ds,\n",
        "                        epochs=EPOCHS,\n",
        "                        steps_per_epoch=STEP_PER_EPOCH,\n",
        "                        validation_data=eval_ds,\n",
        "                        validation_steps=100\n",
        "                        )"
      ],
      "metadata": {
        "colab": {
          "base_uri": "https://localhost:8080/"
        },
        "id": "NQhBmvfdbumu",
        "outputId": "203a2771-4600-4f6b-e760-d51ed2459f44"
      },
      "execution_count": 88,
      "outputs": [
        {
          "output_type": "stream",
          "name": "stdout",
          "text": [
            "Epoch 1/10\n",
            "468/468 [==============================] - 70s 148ms/step - loss: 0.2953 - accuracy: 0.9138 - val_loss: 0.1975 - val_accuracy: 0.9455\n",
            "Epoch 2/10\n",
            "468/468 [==============================] - 70s 150ms/step - loss: 0.1640 - accuracy: 0.9512 - val_loss: 0.1520 - val_accuracy: 0.9551\n",
            "Epoch 3/10\n",
            "468/468 [==============================] - 69s 147ms/step - loss: 0.1362 - accuracy: 0.9600 - val_loss: 0.1531 - val_accuracy: 0.9566\n",
            "Epoch 4/10\n",
            "468/468 [==============================] - 68s 146ms/step - loss: 0.1226 - accuracy: 0.9630 - val_loss: 0.1358 - val_accuracy: 0.9613\n",
            "Epoch 5/10\n",
            "468/468 [==============================] - 68s 146ms/step - loss: 0.1120 - accuracy: 0.9662 - val_loss: 0.1245 - val_accuracy: 0.9652\n",
            "Epoch 6/10\n",
            "468/468 [==============================] - 68s 146ms/step - loss: 0.1013 - accuracy: 0.9694 - val_loss: 0.1269 - val_accuracy: 0.9635\n",
            "Epoch 7/10\n",
            "468/468 [==============================] - 68s 145ms/step - loss: 0.0969 - accuracy: 0.9710 - val_loss: 0.1298 - val_accuracy: 0.9620\n",
            "Epoch 8/10\n",
            "468/468 [==============================] - 68s 146ms/step - loss: 0.0913 - accuracy: 0.9723 - val_loss: 0.1297 - val_accuracy: 0.9644\n",
            "Epoch 9/10\n",
            "468/468 [==============================] - 68s 146ms/step - loss: 0.0847 - accuracy: 0.9743 - val_loss: 0.1343 - val_accuracy: 0.9611\n",
            "Epoch 10/10\n",
            "468/468 [==============================] - 68s 146ms/step - loss: 0.0800 - accuracy: 0.9757 - val_loss: 0.1333 - val_accuracy: 0.9621\n"
          ]
        }
      ]
    },
    {
      "cell_type": "code",
      "source": [
        "# lets evaluate\n",
        "loss, accuracy = model_4.evaluate(eval_ds, steps=100)\n",
        "print('Loss',loss)\n",
        "print('Accuracy',accuracy)"
      ],
      "metadata": {
        "colab": {
          "base_uri": "https://localhost:8080/"
        },
        "id": "NC9kfMupgawx",
        "outputId": "a9be0d6d-d2ee-4bab-b3ec-2c6733ceccc7"
      },
      "execution_count": 91,
      "outputs": [
        {
          "output_type": "stream",
          "name": "stdout",
          "text": [
            "100/100 [==============================] - 4s 44ms/step - loss: 0.1333 - accuracy: 0.9621\n",
            "Loss 0.13333970308303833\n",
            "Accuracy 0.962109386920929\n"
          ]
        }
      ]
    },
    {
      "cell_type": "markdown",
      "source": [
        "Why did the CNN model perform worse than MLP ?\n",
        "\n",
        "Deep Neural Nets are plagued by many problems like\n",
        "* Internal Covariate Shift\n",
        "* Vanishing Gradient\n",
        "* Expolding Gradient\n",
        "* Slow training \n",
        "\n",
        "etc.. to name a few.\n",
        "\n",
        "Now lets improve our CNN model by incorporating BatchNormalization\n",
        "\n",
        "## Model-5 : CNN model with Batch normalization\n",
        "\n",
        "Changes:\n",
        "* Use Batch normalization\n",
        "* Use 'relu' activation\n",
        "* Use dropout layers\n",
        "* Use a decaying learning rate\n"
      ],
      "metadata": {
        "id": "LT-b2jFWgvWP"
      }
    },
    {
      "cell_type": "code",
      "source": [
        "model_5 = tf.keras.Sequential([\n",
        "    tf.keras.layers.Reshape(target_shape=(28,28,1)),\n",
        "\n",
        "    tf.keras.layers.Conv2D(filters=12, kernel_size=3, strides=1, padding='same'),\n",
        "    tf.keras.layers.BatchNormalization(),\n",
        "    tf.keras.layers.Activation('relu'),\n",
        "\n",
        "    tf.keras.layers.Conv2D(filters=24, kernel_size=6, strides=2, padding='same'),\n",
        "    tf.keras.layers.BatchNormalization(),\n",
        "    tf.keras.layers.Activation('relu'),\n",
        "\n",
        "    tf.keras.layers.Conv2D(filters=32, kernel_size=6, strides=2, padding='same'),\n",
        "    tf.keras.layers.BatchNormalization(),\n",
        "    tf.keras.layers.Activation('relu'),\n",
        "    \n",
        "    tf.keras.layers.Flatten(),\n",
        "    tf.keras.layers.Dense(units=128),\n",
        "    tf.keras.layers.BatchNormalization(),\n",
        "    tf.keras.layers.Activation('relu'),\n",
        "\n",
        "    tf.keras.layers.Dropout(rate=0.2),\n",
        "    tf.keras.layers.Dense(units=10, activation='softmax')                        \n",
        "])\n",
        "\n",
        "model_5.compile(optimizer='adam', loss='sparse_categorical_crossentropy', metrics=['accuracy'])"
      ],
      "metadata": {
        "id": "Zz0WE0ICganf"
      },
      "execution_count": 92,
      "outputs": []
    },
    {
      "cell_type": "code",
      "source": [
        "# lets use a decaying learning rate\n",
        "lr = tf.keras.callbacks.LearningRateScheduler(decay_lr)\n",
        "\n",
        "history_5 = model_5.fit(train_ds,\n",
        "                        epochs=EPOCHS,\n",
        "                        steps_per_epoch=STEP_PER_EPOCH,\n",
        "                        validation_data=eval_ds,\n",
        "                        validation_steps=100,\n",
        "                        callbacks=[lr])"
      ],
      "metadata": {
        "colab": {
          "base_uri": "https://localhost:8080/"
        },
        "id": "DadvbH-ujOfl",
        "outputId": "3a5fe264-f59f-4aa5-d1b0-ce90e6a7951a"
      },
      "execution_count": 94,
      "outputs": [
        {
          "output_type": "stream",
          "name": "stdout",
          "text": [
            "Epoch 1/10\n",
            "468/468 [==============================] - 89s 188ms/step - loss: 0.1176 - accuracy: 0.9642 - val_loss: 0.6530 - val_accuracy: 0.7771 - lr: 0.0100\n",
            "Epoch 2/10\n",
            "468/468 [==============================] - 87s 186ms/step - loss: 0.0383 - accuracy: 0.9884 - val_loss: 0.0558 - val_accuracy: 0.9824 - lr: 0.0060\n",
            "Epoch 3/10\n",
            "468/468 [==============================] - 87s 185ms/step - loss: 0.0231 - accuracy: 0.9929 - val_loss: 0.0311 - val_accuracy: 0.9896 - lr: 0.0036\n",
            "Epoch 4/10\n",
            "468/468 [==============================] - 87s 186ms/step - loss: 0.0132 - accuracy: 0.9959 - val_loss: 0.0288 - val_accuracy: 0.9912 - lr: 0.0022\n",
            "Epoch 5/10\n",
            "468/468 [==============================] - 88s 188ms/step - loss: 0.0089 - accuracy: 0.9975 - val_loss: 0.0259 - val_accuracy: 0.9928 - lr: 0.0013\n",
            "Epoch 6/10\n",
            "468/468 [==============================] - 87s 186ms/step - loss: 0.0056 - accuracy: 0.9985 - val_loss: 0.0230 - val_accuracy: 0.9930 - lr: 7.7760e-04\n",
            "Epoch 7/10\n",
            "468/468 [==============================] - 87s 187ms/step - loss: 0.0041 - accuracy: 0.9990 - val_loss: 0.0232 - val_accuracy: 0.9936 - lr: 4.6656e-04\n",
            "Epoch 8/10\n",
            "468/468 [==============================] - 87s 187ms/step - loss: 0.0039 - accuracy: 0.9991 - val_loss: 0.0227 - val_accuracy: 0.9937 - lr: 2.7994e-04\n",
            "Epoch 9/10\n",
            "468/468 [==============================] - 87s 185ms/step - loss: 0.0031 - accuracy: 0.9993 - val_loss: 0.0227 - val_accuracy: 0.9937 - lr: 1.6796e-04\n",
            "Epoch 10/10\n",
            "468/468 [==============================] - 87s 185ms/step - loss: 0.0027 - accuracy: 0.9995 - val_loss: 0.0225 - val_accuracy: 0.9939 - lr: 1.0078e-04\n"
          ]
        }
      ]
    },
    {
      "cell_type": "code",
      "source": [
        "# lets evaluate\n",
        "loss, accuracy = model_5.evaluate(eval_ds, steps=100)\n",
        "print('Loss',loss)\n",
        "print('Accuracy',accuracy)"
      ],
      "metadata": {
        "colab": {
          "base_uri": "https://localhost:8080/"
        },
        "id": "Ubyy3sZsj6Oe",
        "outputId": "7dc6b360-8a01-4ea1-f90e-8bd1140d1c30"
      },
      "execution_count": 95,
      "outputs": [
        {
          "output_type": "stream",
          "name": "stdout",
          "text": [
            "100/100 [==============================] - 6s 56ms/step - loss: 0.0225 - accuracy: 0.9939\n",
            "Loss 0.022463375702500343\n",
            "Accuracy 0.9939062595367432\n"
          ]
        }
      ]
    },
    {
      "cell_type": "markdown",
      "source": [
        "AWESOME!!! <br>\n",
        "we trained a CNN model acheived training accuracy around 99% and also evaluation accuracy around 99%\n",
        "\n",
        "lets plot the model learning"
      ],
      "metadata": {
        "id": "VRo4d-6dnHDx"
      }
    },
    {
      "cell_type": "code",
      "source": [
        "plot_model(history_5)"
      ],
      "metadata": {
        "colab": {
          "base_uri": "https://localhost:8080/",
          "height": 281
        },
        "id": "51Jto7AHnDdP",
        "outputId": "cedf5a70-57aa-4c5e-c18c-c9cdf2c9f63a"
      },
      "execution_count": 96,
      "outputs": [
        {
          "output_type": "display_data",
          "data": {
            "image/png": "[encoded data removed]",
            "text/plain": [
              "<Figure size 432x288 with 4 Axes>"
            ]
          },
          "metadata": {
            "needs_background": "light"
          }
        }
      ]
    },
    {
      "cell_type": "code",
      "source": [
        ""
      ],
      "metadata": {
        "id": "G1Hr2yosnrAY"
      },
      "execution_count": null,
      "outputs": []
    }
  ]
}