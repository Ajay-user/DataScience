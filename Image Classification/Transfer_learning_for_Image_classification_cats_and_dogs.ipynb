{
  "nbformat": 4,
  "nbformat_minor": 0,
  "metadata": {
    "colab": {
      "name": "Transfer learning for Image classification cats and dogs.ipynb",
      "provenance": [],
      "collapsed_sections": [],
      "toc_visible": true,
      "authorship_tag": "ABX9TyO4ePI1Y2RqKfOYWbF3vXGL",
      "include_colab_link": true
    },
    "kernelspec": {
      "name": "python3",
      "display_name": "Python 3"
    },
    "language_info": {
      "name": "python"
    }
  },
  "cells": [
    {
      "cell_type": "markdown",
      "metadata": {
        "id": "view-in-github",
        "colab_type": "text"
      },
      "source": [
        "<a href=\"https://colab.research.google.com/github/Ajay-user/DataScience/blob/master/Image%20Classification/Transfer_learning_for_Image_classification_cats_and_dogs.ipynb\" target=\"_parent\"><img src=\"https://colab.research.google.com/assets/colab-badge.svg\" alt=\"Open In Colab\"/></a>"
      ]
    },
    {
      "cell_type": "code",
      "metadata": {
        "id": "EGbpOgrfi-Q2"
      },
      "source": [
        "import tensorflow as tf\n",
        "import pathlib\n",
        "import numpy as np\n",
        "import matplotlib.pyplot as plt"
      ],
      "execution_count": 1,
      "outputs": []
    },
    {
      "cell_type": "markdown",
      "metadata": {
        "id": "91NKl26ijJRh"
      },
      "source": [
        "## Download the dataset"
      ]
    },
    {
      "cell_type": "code",
      "metadata": {
        "colab": {
          "base_uri": "https://localhost:8080/"
        },
        "id": "JLbpFARQj2Ww",
        "outputId": "6a519288-c73c-4189-d414-6a10cc3587ad"
      },
      "source": [
        "URL = 'https://storage.googleapis.com/mledu-datasets/cats_and_dogs_filtered.zip'\n",
        "\n",
        "dataset = tf.keras.utils.get_file('cats_and_dogs', URL, extract=True, cache_dir='.', cache_subdir='')"
      ],
      "execution_count": 2,
      "outputs": [
        {
          "output_type": "stream",
          "text": [
            "Downloading data from https://storage.googleapis.com/mledu-datasets/cats_and_dogs_filtered.zip\n",
            "68608000/68606236 [==============================] - 1s 0us/step\n"
          ],
          "name": "stdout"
        }
      ]
    },
    {
      "cell_type": "code",
      "metadata": {
        "colab": {
          "base_uri": "https://localhost:8080/"
        },
        "id": "jcnawJXZnKJW",
        "outputId": "54aed124-a37e-48a1-c111-77ac88ea1e5c"
      },
      "source": [
        "parent_dir = pathlib.Path(dataset).parent\n",
        "print('Parent directory : ',parent_dir)\n",
        "print('\\n'.join(['Sub directory : '+str(dir) for dir in parent_dir.iterdir()]))\n",
        "\n",
        "cats_and_dogs = parent_dir/'cats_and_dogs_filtered'\n",
        "\n",
        "print('\\n'.join(['Work directory : '+str(dir) for dir in cats_and_dogs.iterdir()]))\n",
        "\n",
        "train_dir = cats_and_dogs/'train'\n",
        "val_dir = cats_and_dogs/'validation'"
      ],
      "execution_count": 3,
      "outputs": [
        {
          "output_type": "stream",
          "text": [
            "Parent directory :  .\n",
            "Sub directory : .config\n",
            "Sub directory : cats_and_dogs_filtered\n",
            "Sub directory : cats_and_dogs\n",
            "Sub directory : sample_data\n",
            "Work directory : cats_and_dogs_filtered/validation\n",
            "Work directory : cats_and_dogs_filtered/vectorize.py\n",
            "Work directory : cats_and_dogs_filtered/train\n"
          ],
          "name": "stdout"
        }
      ]
    },
    {
      "cell_type": "code",
      "metadata": {
        "colab": {
          "base_uri": "https://localhost:8080/"
        },
        "id": "RDUGyMNPoS0B",
        "outputId": "be25fa1e-2ddd-47c5-9ae8-6e0752b2400c"
      },
      "source": [
        "# create train, validation and test directory\n",
        "\n",
        "raw_train_ds = tf.keras.preprocessing.image_dataset_from_directory(train_dir, image_size=(160,160), batch_size=32, shuffle=True)\n",
        "raw_val_ds = tf.keras.preprocessing.image_dataset_from_directory(val_dir, image_size=(160,160), batch_size=32, shuffle=True)"
      ],
      "execution_count": 4,
      "outputs": [
        {
          "output_type": "stream",
          "text": [
            "Found 2000 files belonging to 2 classes.\n",
            "Found 1000 files belonging to 2 classes.\n"
          ],
          "name": "stdout"
        }
      ]
    },
    {
      "cell_type": "code",
      "metadata": {
        "colab": {
          "base_uri": "https://localhost:8080/"
        },
        "id": "_iAdI5A_pZDV",
        "outputId": "55ef246b-c033-48a1-e4f2-2c10f3d952b9"
      },
      "source": [
        "print('Number of Batched in Validation set',raw_val_ds.cardinality().numpy())\n",
        "print('Create test set from validation set')\n",
        "raw_test_ds = raw_val_ds.take(32//5)\n",
        "raw_val_ds = raw_val_ds.skip(32//5)\n",
        "print('Number of Batched in Validation set',raw_val_ds.cardinality().numpy())\n",
        "print('Number of Batched in Test set',raw_test_ds.cardinality().numpy())"
      ],
      "execution_count": 5,
      "outputs": [
        {
          "output_type": "stream",
          "text": [
            "Number of Batched in Validation set 32\n",
            "Create test set from validation set\n",
            "Number of Batched in Validation set 26\n",
            "Number of Batched in Test set 6\n"
          ],
          "name": "stdout"
        }
      ]
    },
    {
      "cell_type": "markdown",
      "metadata": {
        "id": "v_1B4Q4Ap_UL"
      },
      "source": [
        "## Optimize for performance"
      ]
    },
    {
      "cell_type": "code",
      "metadata": {
        "id": "moDJ3rfdpkod"
      },
      "source": [
        "# create buffered prefetch\n",
        "train_ds = raw_train_ds.prefetch(tf.data.AUTOTUNE)\n",
        "val_ds = raw_val_ds.prefetch(tf.data.AUTOTUNE)\n",
        "test_ds = raw_test_ds.prefetch(tf.data.AUTOTUNE)"
      ],
      "execution_count": 6,
      "outputs": []
    },
    {
      "cell_type": "markdown",
      "metadata": {
        "id": "bRc8KlC6qO5V"
      },
      "source": [
        "## Data augmentation"
      ]
    },
    {
      "cell_type": "code",
      "metadata": {
        "id": "crRAY-YlqN7B"
      },
      "source": [
        "random_flip = tf.keras.layers.experimental.preprocessing.RandomFlip('horizontal_and_vertical')\n",
        "random_rotation = tf.keras.layers.experimental.preprocessing.RandomRotation(factor=0.1)\n",
        "\n",
        "data_augmentation = tf.keras.Sequential([random_flip, random_rotation])"
      ],
      "execution_count": 7,
      "outputs": []
    },
    {
      "cell_type": "markdown",
      "metadata": {
        "id": "vudJ3sM0q6kr"
      },
      "source": [
        "## Rescaling"
      ]
    },
    {
      "cell_type": "code",
      "metadata": {
        "id": "l7jZFyNHq5Qw"
      },
      "source": [
        "# we can use the preprocess_input method that comes with the model or create a rescaling layer\n",
        "resale_layer = tf.keras.layers.experimental.preprocessing.Rescaling(scale=1.0/127.5, offset=-1)\n",
        "\n",
        "preprocess_input = tf.keras.applications.mobilenet_v2.preprocess_input"
      ],
      "execution_count": 8,
      "outputs": []
    },
    {
      "cell_type": "markdown",
      "metadata": {
        "id": "TGDmRLC3rjh4"
      },
      "source": [
        "## Global average pooling "
      ]
    },
    {
      "cell_type": "code",
      "metadata": {
        "id": "5nL23vVGriCh"
      },
      "source": [
        "global_avg_pool = tf.keras.layers.GlobalAveragePooling2D()"
      ],
      "execution_count": 9,
      "outputs": []
    },
    {
      "cell_type": "markdown",
      "metadata": {
        "id": "ipLkXZyTr4Ia"
      },
      "source": [
        "## Classification layer"
      ]
    },
    {
      "cell_type": "code",
      "metadata": {
        "id": "jKtgDzgRr2gT"
      },
      "source": [
        "prediction_layer = tf.keras.layers.Dense(1)"
      ],
      "execution_count": 10,
      "outputs": []
    },
    {
      "cell_type": "markdown",
      "metadata": {
        "id": "gn1copFrswZf"
      },
      "source": [
        "## Convolutional base : MobileNetV2"
      ]
    },
    {
      "cell_type": "code",
      "metadata": {
        "colab": {
          "base_uri": "https://localhost:8080/"
        },
        "id": "ObQeSw5nsv4u",
        "outputId": "250d7510-0b55-4738-e855-ecb2d2e0af34"
      },
      "source": [
        "base_model = tf.keras.applications.MobileNetV2(input_shape=(160,160,3), include_top=False, weights='imagenet')"
      ],
      "execution_count": 11,
      "outputs": [
        {
          "output_type": "stream",
          "text": [
            "Downloading data from https://storage.googleapis.com/tensorflow/keras-applications/mobilenet_v2/mobilenet_v2_weights_tf_dim_ordering_tf_kernels_1.0_160_no_top.h5\n",
            "9412608/9406464 [==============================] - 0s 0us/step\n"
          ],
          "name": "stdout"
        }
      ]
    },
    {
      "cell_type": "code",
      "metadata": {
        "id": "e9j9PtvktQt9"
      },
      "source": [
        "# freeze the convolution base\n",
        "base_model.trainable = False"
      ],
      "execution_count": 12,
      "outputs": []
    },
    {
      "cell_type": "markdown",
      "metadata": {
        "id": "bW5PhzZ9sKt7"
      },
      "source": [
        "### Build a model "
      ]
    },
    {
      "cell_type": "code",
      "metadata": {
        "id": "hP81MwMSsE3n"
      },
      "source": [
        "# input\n",
        "inputs = tf.keras.Input(shape=(160,160,3))\n",
        "# data-augmentation\n",
        "x = data_augmentation(inputs)\n",
        "# preprocessing \n",
        "x = preprocess_input(x)\n",
        "# mobile net v2 -- inference mode\n",
        "x = base_model(x, training=False)\n",
        "# global average pooling\n",
        "x = global_avg_pool(x)\n",
        "# drop-out\n",
        "x = tf.keras.layers.Dropout(0.2)(x)\n",
        "# classification\n",
        "outputs = prediction_layer(x)\n",
        "\n",
        "mobile_net_model = tf.keras.Model(inputs, outputs)"
      ],
      "execution_count": 13,
      "outputs": []
    },
    {
      "cell_type": "markdown",
      "metadata": {
        "id": "kgS6WxmJuV8b"
      },
      "source": [
        "### Compile the model"
      ]
    },
    {
      "cell_type": "code",
      "metadata": {
        "id": "4y5IZPwVt9dZ"
      },
      "source": [
        "# compile\n",
        "mobile_net_model.compile(optimizer=tf.keras.optimizers.Adam(learning_rate=0.0001),\n",
        "                         loss=tf.keras.losses.BinaryCrossentropy(from_logits=True),\n",
        "                         metrics=['accuracy'])"
      ],
      "execution_count": 14,
      "outputs": []
    },
    {
      "cell_type": "code",
      "metadata": {
        "colab": {
          "base_uri": "https://localhost:8080/"
        },
        "id": "dABjFnSCu8Ri",
        "outputId": "a144ce63-1c65-49d7-e7b3-dbd8f48542e1"
      },
      "source": [
        "mobile_net_model.summary()"
      ],
      "execution_count": 15,
      "outputs": [
        {
          "output_type": "stream",
          "text": [
            "Model: \"model\"\n",
            "_________________________________________________________________\n",
            "Layer (type)                 Output Shape              Param #   \n",
            "=================================================================\n",
            "input_2 (InputLayer)         [(None, 160, 160, 3)]     0         \n",
            "_________________________________________________________________\n",
            "sequential (Sequential)      (None, 160, 160, 3)       0         \n",
            "_________________________________________________________________\n",
            "tf.math.truediv (TFOpLambda) (None, 160, 160, 3)       0         \n",
            "_________________________________________________________________\n",
            "tf.math.subtract (TFOpLambda (None, 160, 160, 3)       0         \n",
            "_________________________________________________________________\n",
            "mobilenetv2_1.00_160 (Functi (None, 5, 5, 1280)        2257984   \n",
            "_________________________________________________________________\n",
            "global_average_pooling2d (Gl (None, 1280)              0         \n",
            "_________________________________________________________________\n",
            "dropout (Dropout)            (None, 1280)              0         \n",
            "_________________________________________________________________\n",
            "dense (Dense)                (None, 1)                 1281      \n",
            "=================================================================\n",
            "Total params: 2,259,265\n",
            "Trainable params: 1,281\n",
            "Non-trainable params: 2,257,984\n",
            "_________________________________________________________________\n"
          ],
          "name": "stdout"
        }
      ]
    },
    {
      "cell_type": "markdown",
      "metadata": {
        "id": "NvvN1KfcvNyJ"
      },
      "source": [
        "### Model Training"
      ]
    },
    {
      "cell_type": "code",
      "metadata": {
        "colab": {
          "base_uri": "https://localhost:8080/"
        },
        "id": "oVC4tgEIu-sy",
        "outputId": "3d4aa8d8-3012-44ac-e12b-0c4a7a884c7e"
      },
      "source": [
        "history = mobile_net_model.fit(train_ds, epochs=10, validation_data=val_ds)"
      ],
      "execution_count": 16,
      "outputs": [
        {
          "output_type": "stream",
          "text": [
            "Epoch 1/10\n",
            "63/63 [==============================] - 55s 812ms/step - loss: 0.6988 - accuracy: 0.5870 - val_loss: 0.5126 - val_accuracy: 0.7104\n",
            "Epoch 2/10\n",
            "63/63 [==============================] - 49s 782ms/step - loss: 0.5773 - accuracy: 0.6845 - val_loss: 0.3990 - val_accuracy: 0.7933\n",
            "Epoch 3/10\n",
            "63/63 [==============================] - 50s 798ms/step - loss: 0.4973 - accuracy: 0.7435 - val_loss: 0.3192 - val_accuracy: 0.8478\n",
            "Epoch 4/10\n",
            "63/63 [==============================] - 50s 789ms/step - loss: 0.4249 - accuracy: 0.7835 - val_loss: 0.2685 - val_accuracy: 0.8787\n",
            "Epoch 5/10\n",
            "63/63 [==============================] - 50s 798ms/step - loss: 0.3801 - accuracy: 0.8090 - val_loss: 0.2342 - val_accuracy: 0.8985\n",
            "Epoch 6/10\n",
            "63/63 [==============================] - 51s 808ms/step - loss: 0.3455 - accuracy: 0.8415 - val_loss: 0.2061 - val_accuracy: 0.9146\n",
            "Epoch 7/10\n",
            "63/63 [==============================] - 51s 809ms/step - loss: 0.3335 - accuracy: 0.8470 - val_loss: 0.1856 - val_accuracy: 0.9344\n",
            "Epoch 8/10\n",
            "63/63 [==============================] - 52s 826ms/step - loss: 0.3128 - accuracy: 0.8560 - val_loss: 0.1746 - val_accuracy: 0.9319\n",
            "Epoch 9/10\n",
            "63/63 [==============================] - 51s 802ms/step - loss: 0.3044 - accuracy: 0.8580 - val_loss: 0.1537 - val_accuracy: 0.9418\n",
            "Epoch 10/10\n",
            "63/63 [==============================] - 52s 822ms/step - loss: 0.2810 - accuracy: 0.8730 - val_loss: 0.1481 - val_accuracy: 0.9480\n"
          ],
          "name": "stdout"
        }
      ]
    },
    {
      "cell_type": "markdown",
      "metadata": {
        "id": "46avgIQ2jJLu"
      },
      "source": [
        "### Evaluation"
      ]
    },
    {
      "cell_type": "code",
      "metadata": {
        "colab": {
          "base_uri": "https://localhost:8080/"
        },
        "id": "rqIYInyBg9fm",
        "outputId": "dc469734-dd28-40e4-a03a-25ef72a9221d"
      },
      "source": [
        "loss, accuracy = mobile_net_model.evaluate(test_ds)\n",
        "print('Loss', loss)\n",
        "print('Accuracy', accuracy)"
      ],
      "execution_count": 17,
      "outputs": [
        {
          "output_type": "stream",
          "text": [
            "6/6 [==============================] - 4s 575ms/step - loss: 0.1760 - accuracy: 0.9323\n",
            "Loss 0.17604148387908936\n",
            "Accuracy 0.9322916865348816\n"
          ],
          "name": "stdout"
        }
      ]
    },
    {
      "cell_type": "markdown",
      "metadata": {
        "id": "3kMsDo8AxIQI"
      },
      "source": [
        "### Fine tuning the model"
      ]
    },
    {
      "cell_type": "code",
      "metadata": {
        "id": "FiWObQNHvpcr"
      },
      "source": [
        "# unfreeze the pre-trained model\n",
        "base_model.trainable = True"
      ],
      "execution_count": 18,
      "outputs": []
    },
    {
      "cell_type": "code",
      "metadata": {
        "colab": {
          "base_uri": "https://localhost:8080/"
        },
        "id": "S2mROhwS0t7g",
        "outputId": "afdb0a1d-ba22-45a7-8b8e-b1ed40eda84a"
      },
      "source": [
        "print('Number of layers in Pre-trained model', len(base_model.layers))"
      ],
      "execution_count": 19,
      "outputs": [
        {
          "output_type": "stream",
          "text": [
            "Number of layers in Pre-trained model 154\n"
          ],
          "name": "stdout"
        }
      ]
    },
    {
      "cell_type": "code",
      "metadata": {
        "id": "0grEUJLa0fkn"
      },
      "source": [
        "# set the bottom layers to be un-trainable\n",
        "fine_tune = 100\n",
        "\n",
        "for layer in base_model.layers[:fine_tune]:\n",
        "  layer.trainable = False"
      ],
      "execution_count": 20,
      "outputs": []
    },
    {
      "cell_type": "markdown",
      "metadata": {
        "id": "nvDHULo01zul"
      },
      "source": [
        "### Compile the model"
      ]
    },
    {
      "cell_type": "code",
      "metadata": {
        "id": "Lz1giyMO1y3C"
      },
      "source": [
        "mobile_net_model.compile(optimizer=tf.keras.optimizers.Adam(learning_rate=0.00001),\n",
        "                         loss = tf.keras.losses.BinaryCrossentropy(from_logits=True),\n",
        "                         metrics=['accuracy'])"
      ],
      "execution_count": 21,
      "outputs": []
    },
    {
      "cell_type": "code",
      "metadata": {
        "colab": {
          "base_uri": "https://localhost:8080/"
        },
        "id": "-M0BsRM42F-2",
        "outputId": "ca561b6e-81be-47c5-c8f6-7e9d4f3bca5a"
      },
      "source": [
        "mobile_net_model.summary()"
      ],
      "execution_count": 22,
      "outputs": [
        {
          "output_type": "stream",
          "text": [
            "Model: \"model\"\n",
            "_________________________________________________________________\n",
            "Layer (type)                 Output Shape              Param #   \n",
            "=================================================================\n",
            "input_2 (InputLayer)         [(None, 160, 160, 3)]     0         \n",
            "_________________________________________________________________\n",
            "sequential (Sequential)      (None, 160, 160, 3)       0         \n",
            "_________________________________________________________________\n",
            "tf.math.truediv (TFOpLambda) (None, 160, 160, 3)       0         \n",
            "_________________________________________________________________\n",
            "tf.math.subtract (TFOpLambda (None, 160, 160, 3)       0         \n",
            "_________________________________________________________________\n",
            "mobilenetv2_1.00_160 (Functi (None, 5, 5, 1280)        2257984   \n",
            "_________________________________________________________________\n",
            "global_average_pooling2d (Gl (None, 1280)              0         \n",
            "_________________________________________________________________\n",
            "dropout (Dropout)            (None, 1280)              0         \n",
            "_________________________________________________________________\n",
            "dense (Dense)                (None, 1)                 1281      \n",
            "=================================================================\n",
            "Total params: 2,259,265\n",
            "Trainable params: 1,862,721\n",
            "Non-trainable params: 396,544\n",
            "_________________________________________________________________\n"
          ],
          "name": "stdout"
        }
      ]
    },
    {
      "cell_type": "markdown",
      "metadata": {
        "id": "caCOmJ072Q1u"
      },
      "source": [
        "### Training -- fine tuning"
      ]
    },
    {
      "cell_type": "code",
      "metadata": {
        "colab": {
          "base_uri": "https://localhost:8080/"
        },
        "id": "sgJzQlh02KnQ",
        "outputId": "63175fc8-5658-4fc9-adc5-e9653f3e727d"
      },
      "source": [
        "fine_tune_history = mobile_net_model.fit(train_ds, epochs=20, initial_epoch=history.epoch[-1], validation_data=val_ds)"
      ],
      "execution_count": 23,
      "outputs": [
        {
          "output_type": "stream",
          "text": [
            "Epoch 10/20\n",
            "63/63 [==============================] - 82s 1s/step - loss: 0.2174 - accuracy: 0.9100 - val_loss: 0.0711 - val_accuracy: 0.9827\n",
            "Epoch 11/20\n",
            "63/63 [==============================] - 76s 1s/step - loss: 0.1689 - accuracy: 0.9325 - val_loss: 0.0683 - val_accuracy: 0.9740\n",
            "Epoch 12/20\n",
            "63/63 [==============================] - 76s 1s/step - loss: 0.1363 - accuracy: 0.9415 - val_loss: 0.0497 - val_accuracy: 0.9851\n",
            "Epoch 13/20\n",
            "63/63 [==============================] - 76s 1s/step - loss: 0.1328 - accuracy: 0.9475 - val_loss: 0.0560 - val_accuracy: 0.9790\n",
            "Epoch 14/20\n",
            "63/63 [==============================] - 74s 1s/step - loss: 0.1204 - accuracy: 0.9510 - val_loss: 0.0506 - val_accuracy: 0.9802\n",
            "Epoch 15/20\n",
            "63/63 [==============================] - 75s 1s/step - loss: 0.1036 - accuracy: 0.9575 - val_loss: 0.0481 - val_accuracy: 0.9814\n",
            "Epoch 16/20\n",
            "63/63 [==============================] - 74s 1s/step - loss: 0.1218 - accuracy: 0.9530 - val_loss: 0.0461 - val_accuracy: 0.9864\n",
            "Epoch 17/20\n",
            "63/63 [==============================] - 74s 1s/step - loss: 0.0986 - accuracy: 0.9545 - val_loss: 0.0542 - val_accuracy: 0.9851\n",
            "Epoch 18/20\n",
            "63/63 [==============================] - 75s 1s/step - loss: 0.0874 - accuracy: 0.9650 - val_loss: 0.0480 - val_accuracy: 0.9802\n",
            "Epoch 19/20\n",
            "63/63 [==============================] - 74s 1s/step - loss: 0.0743 - accuracy: 0.9715 - val_loss: 0.0569 - val_accuracy: 0.9802\n",
            "Epoch 20/20\n",
            "63/63 [==============================] - 73s 1s/step - loss: 0.0788 - accuracy: 0.9695 - val_loss: 0.0405 - val_accuracy: 0.9876\n"
          ],
          "name": "stdout"
        }
      ]
    },
    {
      "cell_type": "markdown",
      "metadata": {
        "id": "9mRMypysp4G5"
      },
      "source": [
        "### Evaluation"
      ]
    },
    {
      "cell_type": "code",
      "metadata": {
        "colab": {
          "base_uri": "https://localhost:8080/"
        },
        "id": "-NVl04PBp32v",
        "outputId": "d8525991-7e09-49e9-a220-d90ed94c335d"
      },
      "source": [
        "loss, accuracy = mobile_net_model.evaluate(test_ds)\n",
        "print('Loss', loss)\n",
        "print('Accuracy', accuracy)"
      ],
      "execution_count": 24,
      "outputs": [
        {
          "output_type": "stream",
          "text": [
            "6/6 [==============================] - 3s 519ms/step - loss: 0.0425 - accuracy: 0.9844\n",
            "Loss 0.04253436625003815\n",
            "Accuracy 0.984375\n"
          ],
          "name": "stdout"
        }
      ]
    },
    {
      "cell_type": "markdown",
      "metadata": {
        "id": "sPBd65CNpsKW"
      },
      "source": [
        "### Learning curves"
      ]
    },
    {
      "cell_type": "code",
      "metadata": {
        "id": "pm8jGE_K2oze",
        "colab": {
          "base_uri": "https://localhost:8080/",
          "height": 294
        },
        "outputId": "017e08ec-49b1-427c-b4c9-0462d7e77198"
      },
      "source": [
        "# model before fine tuning\n",
        "plt.figure(figsize=(14,4))\n",
        "\n",
        "plt.subplot(1,4,1)\n",
        "plt.plot(range(10), history.history['loss'], label='loss')\n",
        "plt.plot(range(10), history.history['val_loss'], label='val loss')\n",
        "plt.legend()\n",
        "plt.subplot(1,4,2)\n",
        "plt.plot(range(10), history.history['accuracy'], label='accuracy')\n",
        "plt.plot(range(10), history.history['val_accuracy'], label='val accuracy')\n",
        "plt.legend()\n",
        "# model after fine tuning\n",
        "plt.subplot(1,4,3)\n",
        "plt.plot(range(21), (history.history['loss']+fine_tune_history.history['loss']), label='loss')\n",
        "plt.plot(range(21), (history.history['val_loss']+fine_tune_history.history['loss']), label='val loss')\n",
        "plt.legend(title='Fine tuned')\n",
        "plt.subplot(1,4,4)\n",
        "plt.plot(range(21), (history.history['accuracy']+fine_tune_history.history['accuracy']), label='accuracy')\n",
        "plt.plot(range(21), (history.history['val_accuracy']+fine_tune_history.history['val_accuracy']), label='val accuracy')\n",
        "plt.legend(title='Fine tuned')\n",
        "\n",
        "\n",
        "plt.suptitle('Transfer learning and Fine-tuning')\n",
        "\n",
        "plt.show()"
      ],
      "execution_count": 59,
      "outputs": [
        {
          "output_type": "display_data",
          "data": {
            "image/png": "[encoded data removed]",
            "text/plain": [
              "<Figure size 1008x288 with 4 Axes>"
            ]
          },
          "metadata": {
            "tags": [],
            "needs_background": "light"
          }
        }
      ]
    },
    {
      "cell_type": "markdown",
      "metadata": {
        "id": "xXSogB6dvb8t"
      },
      "source": [
        "## Convolution base Xception"
      ]
    },
    {
      "cell_type": "code",
      "metadata": {
        "colab": {
          "base_uri": "https://localhost:8080/"
        },
        "id": "08u7E6Nsq0x7",
        "outputId": "724a9464-1d6b-4633-cc9a-0f5d08b42f6f"
      },
      "source": [
        "conv_base = tf.keras.applications.Xception(include_top=False,\n",
        "                                           weights='imagenet',\n",
        "                                           input_shape=(160,160,3))"
      ],
      "execution_count": 60,
      "outputs": [
        {
          "output_type": "stream",
          "text": [
            "Downloading data from https://storage.googleapis.com/tensorflow/keras-applications/xception/xception_weights_tf_dim_ordering_tf_kernels_notop.h5\n",
            "83689472/83683744 [==============================] - 1s 0us/step\n"
          ],
          "name": "stdout"
        }
      ]
    },
    {
      "cell_type": "code",
      "metadata": {
        "id": "37FkKPevxseJ"
      },
      "source": [
        "# freeze the pretrained model\n",
        "conv_base.trainable = False"
      ],
      "execution_count": 67,
      "outputs": []
    },
    {
      "cell_type": "code",
      "metadata": {
        "id": "3Br-5nHZsj9S"
      },
      "source": [
        "# we can use the preprocess_input method that comes with the model for rescaling  \n",
        "conv_preprocess = tf.keras.applications.xception.preprocess_input"
      ],
      "execution_count": 68,
      "outputs": []
    },
    {
      "cell_type": "markdown",
      "metadata": {
        "id": "JzKGlD9awKO8"
      },
      "source": [
        "### Build a model"
      ]
    },
    {
      "cell_type": "code",
      "metadata": {
        "id": "Y9DZRBKWwIxl"
      },
      "source": [
        "# input layer\n",
        "inputs = tf.keras.layers.Input(shape=(160,160,3))\n",
        "# data-augmentation\n",
        "x = data_augmentation(inputs)\n",
        "# preprocessing\n",
        "x = conv_preprocess(x)\n",
        "# xception model -- inference mode\n",
        "x = conv_base(x, training=False)\n",
        "# global-average-pooling\n",
        "x = global_avg_pool(x)\n",
        "# dropout layer\n",
        "x = tf.keras.layers.Dropout(0.2)(x)\n",
        "# classification layer\n",
        "outputs = tf.keras.layers.Dense(1)(x)\n",
        "\n",
        "xception_model = tf.keras.Model(inputs, outputs)"
      ],
      "execution_count": 69,
      "outputs": []
    },
    {
      "cell_type": "markdown",
      "metadata": {
        "id": "1Ndep4NUxR13"
      },
      "source": [
        "### Compile the model"
      ]
    },
    {
      "cell_type": "code",
      "metadata": {
        "id": "gVgxdh8Mw82B"
      },
      "source": [
        "xception_model.compile(optimizer=tf.keras.optimizers.Adam(learning_rate=0.0001),\n",
        "                       loss=tf.keras.losses.BinaryCrossentropy(from_logits=True),\n",
        "                       metrics=['accuracy'])"
      ],
      "execution_count": 70,
      "outputs": []
    },
    {
      "cell_type": "code",
      "metadata": {
        "colab": {
          "base_uri": "https://localhost:8080/"
        },
        "id": "xQtGmrA6xj_J",
        "outputId": "41539d33-0f31-4849-bab9-cd737f58ba01"
      },
      "source": [
        "xception_model.summary()"
      ],
      "execution_count": 71,
      "outputs": [
        {
          "output_type": "stream",
          "text": [
            "Model: \"model_2\"\n",
            "_________________________________________________________________\n",
            "Layer (type)                 Output Shape              Param #   \n",
            "=================================================================\n",
            "input_7 (InputLayer)         [(None, 160, 160, 3)]     0         \n",
            "_________________________________________________________________\n",
            "sequential (Sequential)      (None, 160, 160, 3)       0         \n",
            "_________________________________________________________________\n",
            "tf.math.truediv_4 (TFOpLambd (None, 160, 160, 3)       0         \n",
            "_________________________________________________________________\n",
            "tf.math.subtract_4 (TFOpLamb (None, 160, 160, 3)       0         \n",
            "_________________________________________________________________\n",
            "xception (Functional)        (None, 5, 5, 2048)        20861480  \n",
            "_________________________________________________________________\n",
            "global_average_pooling2d (Gl multiple                  0         \n",
            "_________________________________________________________________\n",
            "dropout_4 (Dropout)          (None, 2048)              0         \n",
            "_________________________________________________________________\n",
            "dense_2 (Dense)              (None, 1)                 2049      \n",
            "=================================================================\n",
            "Total params: 20,863,529\n",
            "Trainable params: 2,049\n",
            "Non-trainable params: 20,861,480\n",
            "_________________________________________________________________\n"
          ],
          "name": "stdout"
        }
      ]
    },
    {
      "cell_type": "code",
      "metadata": {
        "id": "tiV33QBpynB6"
      },
      "source": [
        "# Early stopping callback\n",
        "\n",
        "early_stopping = tf.keras.callbacks.EarlyStopping(monitor='val_loss', patience=1)"
      ],
      "execution_count": 72,
      "outputs": []
    },
    {
      "cell_type": "markdown",
      "metadata": {
        "id": "6JSScXiCyW1q"
      },
      "source": [
        "### Model training"
      ]
    },
    {
      "cell_type": "code",
      "metadata": {
        "colab": {
          "base_uri": "https://localhost:8080/"
        },
        "id": "6lpAOPeAxnI5",
        "outputId": "99899560-1e0e-4985-a64a-48bf53fc6aab"
      },
      "source": [
        "xception_history = xception_model.fit(train_ds,\n",
        "                                      epochs=10,\n",
        "                                      validation_data=val_ds,\n",
        "                                      callbacks=[early_stopping])"
      ],
      "execution_count": 73,
      "outputs": [
        {
          "output_type": "stream",
          "text": [
            "Epoch 1/10\n",
            "63/63 [==============================] - 269s 4s/step - loss: 0.6454 - accuracy: 0.6175 - val_loss: 0.4777 - val_accuracy: 0.7958\n",
            "Epoch 2/10\n",
            "63/63 [==============================] - 264s 4s/step - loss: 0.5055 - accuracy: 0.7490 - val_loss: 0.3354 - val_accuracy: 0.8762\n",
            "Epoch 3/10\n",
            "63/63 [==============================] - 264s 4s/step - loss: 0.4182 - accuracy: 0.8085 - val_loss: 0.2599 - val_accuracy: 0.9171\n",
            "Epoch 4/10\n",
            "63/63 [==============================] - 264s 4s/step - loss: 0.3766 - accuracy: 0.8260 - val_loss: 0.2199 - val_accuracy: 0.9295\n",
            "Epoch 5/10\n",
            "63/63 [==============================] - 263s 4s/step - loss: 0.3414 - accuracy: 0.8535 - val_loss: 0.1883 - val_accuracy: 0.9443\n",
            "Epoch 6/10\n",
            "63/63 [==============================] - 262s 4s/step - loss: 0.3279 - accuracy: 0.8505 - val_loss: 0.1660 - val_accuracy: 0.9530\n",
            "Epoch 7/10\n",
            "63/63 [==============================] - 263s 4s/step - loss: 0.2990 - accuracy: 0.8680 - val_loss: 0.1511 - val_accuracy: 0.9517\n",
            "Epoch 8/10\n",
            "63/63 [==============================] - 263s 4s/step - loss: 0.2931 - accuracy: 0.8795 - val_loss: 0.1371 - val_accuracy: 0.9616\n",
            "Epoch 9/10\n",
            "63/63 [==============================] - 264s 4s/step - loss: 0.2788 - accuracy: 0.8770 - val_loss: 0.1318 - val_accuracy: 0.9579\n",
            "Epoch 10/10\n",
            "63/63 [==============================] - 263s 4s/step - loss: 0.2702 - accuracy: 0.8780 - val_loss: 0.1227 - val_accuracy: 0.9604\n"
          ],
          "name": "stdout"
        }
      ]
    },
    {
      "cell_type": "markdown",
      "metadata": {
        "id": "Iz_MlhX0AIGk"
      },
      "source": [
        "### Evaluation"
      ]
    },
    {
      "cell_type": "code",
      "metadata": {
        "colab": {
          "base_uri": "https://localhost:8080/"
        },
        "id": "A6tfRzuty9Ly",
        "outputId": "ceb7bdce-a02c-47a4-f3fd-bd0bee4a6072"
      },
      "source": [
        "loss, accuracy = xception_model.evaluate(test_ds)\n",
        "print('Loss', loss)\n",
        "print('Accuracy', accuracy)"
      ],
      "execution_count": 74,
      "outputs": [
        {
          "output_type": "stream",
          "text": [
            "6/6 [==============================] - 18s 3s/step - loss: 0.1391 - accuracy: 0.9479\n",
            "Loss 0.13907913863658905\n",
            "Accuracy 0.9479166865348816\n"
          ],
          "name": "stdout"
        }
      ]
    },
    {
      "cell_type": "markdown",
      "metadata": {
        "id": "KBx7XcvZANBc"
      },
      "source": [
        "### Fine tuning"
      ]
    },
    {
      "cell_type": "code",
      "metadata": {
        "colab": {
          "base_uri": "https://localhost:8080/"
        },
        "id": "aCgPqzgH_hXw",
        "outputId": "bca9bfb6-c704-459e-f7a3-930d13ec1cef"
      },
      "source": [
        "# unfreeze the pre-trained model\n",
        "conv_base.trainable = True\n",
        "\n",
        "print('Number of layers in Xception model',len(conv_base.layers))"
      ],
      "execution_count": 77,
      "outputs": [
        {
          "output_type": "stream",
          "text": [
            "Number of layers in Xception model 132\n"
          ],
          "name": "stdout"
        }
      ]
    },
    {
      "cell_type": "code",
      "metadata": {
        "id": "tGJWGMZlAXom"
      },
      "source": [
        "# we only want the top layers to adapt not the whole pre-trained model\n",
        "fine_tune = 100\n",
        "for layer in conv_base.layers[:fine_tune]:\n",
        "  layer.trainable = False"
      ],
      "execution_count": 78,
      "outputs": []
    },
    {
      "cell_type": "markdown",
      "metadata": {
        "id": "8dDZoCesBFos"
      },
      "source": [
        "### Compile the model"
      ]
    },
    {
      "cell_type": "code",
      "metadata": {
        "id": "8rsTk-TOBCdU"
      },
      "source": [
        "xception_model.compile(optimizer=tf.keras.optimizers.Adam(learning_rate=0.00001),\n",
        "                       loss=tf.keras.losses.BinaryCrossentropy(from_logits=True),\n",
        "                       metrics=['accuracy'])"
      ],
      "execution_count": 79,
      "outputs": []
    },
    {
      "cell_type": "code",
      "metadata": {
        "colab": {
          "base_uri": "https://localhost:8080/"
        },
        "id": "UJxFwP72Bp9b",
        "outputId": "75065ca1-8297-414d-9ff4-578e1637def3"
      },
      "source": [
        "xception_model.summary()"
      ],
      "execution_count": 80,
      "outputs": [
        {
          "output_type": "stream",
          "text": [
            "Model: \"model_2\"\n",
            "_________________________________________________________________\n",
            "Layer (type)                 Output Shape              Param #   \n",
            "=================================================================\n",
            "input_7 (InputLayer)         [(None, 160, 160, 3)]     0         \n",
            "_________________________________________________________________\n",
            "sequential (Sequential)      (None, 160, 160, 3)       0         \n",
            "_________________________________________________________________\n",
            "tf.math.truediv_4 (TFOpLambd (None, 160, 160, 3)       0         \n",
            "_________________________________________________________________\n",
            "tf.math.subtract_4 (TFOpLamb (None, 160, 160, 3)       0         \n",
            "_________________________________________________________________\n",
            "xception (Functional)        (None, 5, 5, 2048)        20861480  \n",
            "_________________________________________________________________\n",
            "global_average_pooling2d (Gl multiple                  0         \n",
            "_________________________________________________________________\n",
            "dropout_4 (Dropout)          (None, 2048)              0         \n",
            "_________________________________________________________________\n",
            "dense_2 (Dense)              (None, 1)                 2049      \n",
            "=================================================================\n",
            "Total params: 20,863,529\n",
            "Trainable params: 9,480,393\n",
            "Non-trainable params: 11,383,136\n",
            "_________________________________________________________________\n"
          ],
          "name": "stdout"
        }
      ]
    },
    {
      "cell_type": "code",
      "metadata": {
        "colab": {
          "base_uri": "https://localhost:8080/"
        },
        "id": "0yXooCedBrpb",
        "outputId": "e62542ba-1057-42be-9051-f89dd6a3b3f1"
      },
      "source": [
        "xception_fine_tune_history = xception_model.fit(train_ds,\n",
        "                                                epochs=20,\n",
        "                                                validation_data=val_ds,\n",
        "                                                initial_epoch=xception_history.epoch[-1],\n",
        "                                                callbacks=[early_stopping])"
      ],
      "execution_count": 81,
      "outputs": [
        {
          "output_type": "stream",
          "text": [
            "Epoch 10/20\n",
            "63/63 [==============================] - 406s 6s/step - loss: 0.2576 - accuracy: 0.8805 - val_loss: 0.0894 - val_accuracy: 0.9604\n",
            "Epoch 11/20\n",
            "63/63 [==============================] - 405s 6s/step - loss: 0.2082 - accuracy: 0.9090 - val_loss: 0.0741 - val_accuracy: 0.9629\n",
            "Epoch 12/20\n",
            "63/63 [==============================] - 404s 6s/step - loss: 0.1760 - accuracy: 0.9295 - val_loss: 0.0635 - val_accuracy: 0.9703\n",
            "Epoch 13/20\n",
            "63/63 [==============================] - 403s 6s/step - loss: 0.1493 - accuracy: 0.9365 - val_loss: 0.0667 - val_accuracy: 0.9678\n"
          ],
          "name": "stdout"
        }
      ]
    },
    {
      "cell_type": "code",
      "metadata": {
        "colab": {
          "base_uri": "https://localhost:8080/"
        },
        "id": "Htcagg0yJIx_",
        "outputId": "4c94a81c-b0c9-4f79-c690-8a1213390520"
      },
      "source": [
        "loss, accuracy = xception_model.evaluate(test_ds)\n",
        "print('Loss', loss)\n",
        "print('Accuracy', accuracy)"
      ],
      "execution_count": 82,
      "outputs": [
        {
          "output_type": "stream",
          "text": [
            "6/6 [==============================] - 18s 3s/step - loss: 0.0932 - accuracy: 0.9427\n",
            "Loss 0.09321192651987076\n",
            "Accuracy 0.9427083134651184\n"
          ],
          "name": "stdout"
        }
      ]
    },
    {
      "cell_type": "markdown",
      "metadata": {
        "id": "uYAow459JrPb"
      },
      "source": [
        "### Learning curves"
      ]
    },
    {
      "cell_type": "code",
      "metadata": {
        "colab": {
          "base_uri": "https://localhost:8080/",
          "height": 294
        },
        "id": "HPXTL9YmJR0f",
        "outputId": "799b5ac7-414f-4f21-c472-0d05245c5e57"
      },
      "source": [
        "# model before fine tuning\n",
        "plt.figure(figsize=(14,4))\n",
        "\n",
        "plt.subplot(1,4,1)\n",
        "plt.plot(range(10), xception_history.history['loss'], label='loss')\n",
        "plt.plot(range(10), xception_history.history['val_loss'], label='val loss')\n",
        "plt.legend()\n",
        "plt.subplot(1,4,2)\n",
        "plt.plot(range(10), xception_history.history['accuracy'], label='accuracy')\n",
        "plt.plot(range(10), xception_history.history['val_accuracy'], label='val accuracy')\n",
        "plt.legend()\n",
        "# model after fine tuning\n",
        "plt.subplot(1,4,3)\n",
        "plt.plot(range(14), (xception_history.history['loss']+xception_fine_tune_history.history['loss']), label='loss')\n",
        "plt.plot(range(14), (xception_history.history['val_loss']+xception_fine_tune_history.history['loss']), label='val loss')\n",
        "plt.legend(title='Fine tuned')\n",
        "plt.subplot(1,4,4)\n",
        "plt.plot(range(14), (xception_history.history['accuracy']+xception_fine_tune_history.history['accuracy']), label='accuracy')\n",
        "plt.plot(range(14), (xception_history.history['val_accuracy']+xception_fine_tune_history.history['val_accuracy']), label='val accuracy')\n",
        "plt.legend(title='Fine tuned')\n",
        "\n",
        "\n",
        "plt.suptitle('Transfer learning and Fine-tuning')\n",
        "\n",
        "plt.show()"
      ],
      "execution_count": 85,
      "outputs": [
        {
          "output_type": "display_data",
          "data": {
            "image/png": "[encoded data removed]",
            "text/plain": [
              "<Figure size 1008x288 with 4 Axes>"
            ]
          },
          "metadata": {
            "tags": [],
            "needs_background": "light"
          }
        }
      ]
    },
    {
      "cell_type": "code",
      "metadata": {
        "id": "oYwLnDJPKd-I"
      },
      "source": [
        ""
      ],
      "execution_count": null,
      "outputs": []
    }
  ]
}