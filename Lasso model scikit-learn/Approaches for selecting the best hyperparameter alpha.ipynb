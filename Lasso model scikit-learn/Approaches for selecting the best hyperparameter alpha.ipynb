{
 "cells": [
  {
   "cell_type": "markdown",
   "id": "c4952f0a",
   "metadata": {},
   "source": [
    "Two approaches for selecting the best hyperparameter alpha:\n",
    "* one strategy finds the optimal value of alpha by only using the training set and some information criterion \n",
    "    * LassoLarsIC\n",
    "* another strategy is based on cross-validation.\n",
    "    * LassoCV\n",
    "    * LassoLarsCV\n",
    "    \n",
    "    \n",
    "    \n",
    "Lars computes a solution path only for each kink in the path. As a result, it is very efficient when there are only of few kinks, which is the case if there are few features or samples.Also, it is able to compute the full path without setting any hyperparameter.\n",
    "\n",
    "On the opposite, coordinate descent computes the path points on a pre-specified grid (here we can use the default). Thus it is more efficient if the number of grid points is smaller than the number of kinks in the path. Such a strategy can be interesting if the number of features is really large and there are enough samples to be selected in each of the cross-validation fold.\n",
    "\n",
    "In terms of numerical errors, for heavily correlated variables, Lars will accumulate more errors, while the coordinate descent algorithm will only sample the path on a grid.\n",
    "\n",
    "Note how the optimal value of alpha varies for each fold. This illustrates why nested-cross validation is a good strategy when trying to evaluate the performance of a method for which a parameter is chosen by cross-validation: this choice of parameter may not be optimal for a final evaluation on unseen test set only.\n",
    "\n",
    "\n",
    "The in-sample hyperparameter selection (LassoLarsIC) shows its efficacy in terms of computational performance. `However, it can only be used when the number of samples is large enough compared to the number of features`.\n",
    "\n",
    "That’s why hyperparameter optimization via cross-validation is a safe strategy: it works in different settings."
   ]
  }
 ],
 "metadata": {
  "kernelspec": {
   "display_name": "Python 3 (ipykernel)",
   "language": "python",
   "name": "python3"
  },
  "language_info": {
   "codemirror_mode": {
    "name": "ipython",
    "version": 3
   },
   "file_extension": ".py",
   "mimetype": "text/x-python",
   "name": "python",
   "nbconvert_exporter": "python",
   "pygments_lexer": "ipython3",
   "version": "3.9.12"
  }
 },
 "nbformat": 4,
 "nbformat_minor": 5
}
