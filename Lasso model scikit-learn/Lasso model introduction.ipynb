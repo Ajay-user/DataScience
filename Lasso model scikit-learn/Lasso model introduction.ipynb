{
 "cells": [
  {
   "cell_type": "markdown",
   "id": "f2e1d4bf",
   "metadata": {},
   "source": [
    "## Lasso\n",
    "The Lasso is a linear model that estimates sparse coefficients. It is useful in some contexts due to its tendency to prefer solutions with fewer non-zero coefficients, effectively reducing the number of features upon which the given solution is dependent. \n",
    "\n",
    "### Setting regularization parameter\n",
    "* The alpha parameter controls the degree of sparsity of the estimated coefficients.\n",
    "\n",
    "### Using cross-validation\n",
    "* scikit-learn exposes objects that set the Lasso alpha parameter by cross-validation: LassoCV and LassoLarsCV.\n",
    "* LassoLarsCV is based on the Least Angle Regression algorithm .\n",
    "\n",
    "* For high-dimensional datasets with many collinear features, LassoCV is most often preferable.\n",
    "* However, LassoLarsCV has the advantage of exploring more relevant values of alpha parameter, and if the number of samples is very small compared to the number of features, it is often faster than LassoCV.\n",
    "\n",
    "\n",
    "### Information-criteria based model selection\n",
    "* The estimator LassoLarsIC proposes to use the Akaike information criterion (AIC) and the Bayes Information criterion (BIC).\n",
    "* It is a computationally cheaper alternative to find the optimal value of alpha as the regularization path is computed only once instead of k+1 times when using k-fold cross-validation.\n",
    "\n",
    "Indeed, these criteria are computed on the in-sample training set. In short, they penalize the over-optimistic scores of the different Lasso models by their flexibility.\n",
    "They has a tendency to break when the problem is badly conditioned (e.g. more features than samples).\n",
    "\n",
    "**The AIC criterion is defined as:**\n",
    "\n",
    "AIC = -2log(L-hat) + 2d\n",
    "\n",
    "\n",
    "where `L-hat`\n",
    " is the maximum likelihood of the model and `d`  is the number of parameters (as well referred to as degrees of freedom).\n",
    " \n",
    " \n",
    " **The BIC criterion is defined as:**\n",
    " \n",
    "BIC = -2log(L-hat) + log(N)d\n",
    "\n",
    "where `N`  is the number of samples.\n",
    "\n",
    "\n",
    "**For a linear Gaussian model, the maximum log-likelihood is defined as:**\n",
    "\n",
    "\n",
    " ` log(L-hat) = -n/2 * log(2pi) - n/2 ln(σ^2) - ( Σ(y-yhat)^2 ) / 2*σ^2 `\n",
    "\n",
    "where `σ` is an estimate of the noise variance,  and `y` and `y-hat`\n",
    " are respectively the true and predicted targets, and `n` is the number of samples.\n",
    " \n",
    " \n",
    " Plugging the maximum log-likelihood in the AIC formula yields:\n",
    " \n",
    " \n",
    " `-2 * ( -n/2 * log(2pi) - n/2 ln(σ^2) - ( Σ(y-yhat)^2 ) / 2*σ^2 ) + 2d`\n",
    " \n",
    " `log(ab) = log(a)+log(b)`\n",
    " \n",
    "AIC =  `nlog(2 pi σ^2) - ( Σ(y-yhat)^2 ) / σ^2 ) + 2d`\n",
    " \n",
    " \n",
    " \n",
    " The first term of the above expression is sometimes discarded since it is a constant when `σ` is provided\n",
    " \n",
    "`σ^2` is an estimate of the noise variance. In LassoLarsIC when the parameter noise_variance is not provided (default), the noise variance is estimated via the unbiased estimator\n",
    "\n",
    "σ^2 = `( Σ(y-yhat)^2 ) / n - P )`\n",
    "\n",
    "where `P` is the number of features and `yhat` is the predicted target using an ordinary least squares regression. Note, that this formula is valid only when` n_samples > n_features`   (ie n > P)."
   ]
  },
  {
   "cell_type": "code",
   "execution_count": 1,
   "id": "138c97cc",
   "metadata": {},
   "outputs": [
    {
     "data": {
      "text/html": [
       "<div>\n",
       "<style scoped>\n",
       "    .dataframe tbody tr th:only-of-type {\n",
       "        vertical-align: middle;\n",
       "    }\n",
       "\n",
       "    .dataframe tbody tr th {\n",
       "        vertical-align: top;\n",
       "    }\n",
       "\n",
       "    .dataframe thead th {\n",
       "        text-align: right;\n",
       "    }\n",
       "</style>\n",
       "<table border=\"1\" class=\"dataframe\">\n",
       "  <thead>\n",
       "    <tr style=\"text-align: right;\">\n",
       "      <th></th>\n",
       "      <th>age</th>\n",
       "      <th>sex</th>\n",
       "      <th>bmi</th>\n",
       "      <th>bp</th>\n",
       "      <th>s1</th>\n",
       "      <th>s2</th>\n",
       "      <th>s3</th>\n",
       "      <th>s4</th>\n",
       "      <th>s5</th>\n",
       "      <th>s6</th>\n",
       "      <th>...</th>\n",
       "      <th>random-4</th>\n",
       "      <th>random-5</th>\n",
       "      <th>random-6</th>\n",
       "      <th>random-7</th>\n",
       "      <th>random-8</th>\n",
       "      <th>random-9</th>\n",
       "      <th>random-10</th>\n",
       "      <th>random-11</th>\n",
       "      <th>random-12</th>\n",
       "      <th>random-13</th>\n",
       "    </tr>\n",
       "  </thead>\n",
       "  <tbody>\n",
       "    <tr>\n",
       "      <th>0</th>\n",
       "      <td>0.038076</td>\n",
       "      <td>0.050680</td>\n",
       "      <td>0.061696</td>\n",
       "      <td>0.021872</td>\n",
       "      <td>-0.044223</td>\n",
       "      <td>-0.034821</td>\n",
       "      <td>-0.043401</td>\n",
       "      <td>-0.002592</td>\n",
       "      <td>0.019907</td>\n",
       "      <td>-0.017646</td>\n",
       "      <td>...</td>\n",
       "      <td>-0.234153</td>\n",
       "      <td>-0.234137</td>\n",
       "      <td>1.579213</td>\n",
       "      <td>0.767435</td>\n",
       "      <td>-0.469474</td>\n",
       "      <td>0.542560</td>\n",
       "      <td>-0.463418</td>\n",
       "      <td>-0.465730</td>\n",
       "      <td>0.241962</td>\n",
       "      <td>-1.913280</td>\n",
       "    </tr>\n",
       "    <tr>\n",
       "      <th>1</th>\n",
       "      <td>-0.001882</td>\n",
       "      <td>-0.044642</td>\n",
       "      <td>-0.051474</td>\n",
       "      <td>-0.026328</td>\n",
       "      <td>-0.008449</td>\n",
       "      <td>-0.019163</td>\n",
       "      <td>0.074412</td>\n",
       "      <td>-0.039493</td>\n",
       "      <td>-0.068332</td>\n",
       "      <td>-0.092204</td>\n",
       "      <td>...</td>\n",
       "      <td>-0.908024</td>\n",
       "      <td>-1.412304</td>\n",
       "      <td>1.465649</td>\n",
       "      <td>-0.225776</td>\n",
       "      <td>0.067528</td>\n",
       "      <td>-1.424748</td>\n",
       "      <td>-0.544383</td>\n",
       "      <td>0.110923</td>\n",
       "      <td>-1.150994</td>\n",
       "      <td>0.375698</td>\n",
       "    </tr>\n",
       "    <tr>\n",
       "      <th>2</th>\n",
       "      <td>0.085299</td>\n",
       "      <td>0.050680</td>\n",
       "      <td>0.044451</td>\n",
       "      <td>-0.005670</td>\n",
       "      <td>-0.045599</td>\n",
       "      <td>-0.034194</td>\n",
       "      <td>-0.032356</td>\n",
       "      <td>-0.002592</td>\n",
       "      <td>0.002861</td>\n",
       "      <td>-0.025930</td>\n",
       "      <td>...</td>\n",
       "      <td>-0.013497</td>\n",
       "      <td>-1.057711</td>\n",
       "      <td>0.822545</td>\n",
       "      <td>-1.220844</td>\n",
       "      <td>0.208864</td>\n",
       "      <td>-1.959670</td>\n",
       "      <td>-1.328186</td>\n",
       "      <td>0.196861</td>\n",
       "      <td>0.738467</td>\n",
       "      <td>0.171368</td>\n",
       "    </tr>\n",
       "    <tr>\n",
       "      <th>3</th>\n",
       "      <td>-0.089063</td>\n",
       "      <td>-0.044642</td>\n",
       "      <td>-0.011595</td>\n",
       "      <td>-0.036656</td>\n",
       "      <td>0.012191</td>\n",
       "      <td>0.024991</td>\n",
       "      <td>-0.036038</td>\n",
       "      <td>0.034309</td>\n",
       "      <td>0.022688</td>\n",
       "      <td>-0.009362</td>\n",
       "      <td>...</td>\n",
       "      <td>-0.460639</td>\n",
       "      <td>1.057122</td>\n",
       "      <td>0.343618</td>\n",
       "      <td>-1.763040</td>\n",
       "      <td>0.324084</td>\n",
       "      <td>-0.385082</td>\n",
       "      <td>-0.676922</td>\n",
       "      <td>0.611676</td>\n",
       "      <td>1.031000</td>\n",
       "      <td>0.931280</td>\n",
       "    </tr>\n",
       "    <tr>\n",
       "      <th>4</th>\n",
       "      <td>0.005383</td>\n",
       "      <td>-0.044642</td>\n",
       "      <td>-0.036385</td>\n",
       "      <td>0.021872</td>\n",
       "      <td>0.003935</td>\n",
       "      <td>0.015596</td>\n",
       "      <td>0.008142</td>\n",
       "      <td>-0.002592</td>\n",
       "      <td>-0.031988</td>\n",
       "      <td>-0.046641</td>\n",
       "      <td>...</td>\n",
       "      <td>-0.479174</td>\n",
       "      <td>-0.185659</td>\n",
       "      <td>-1.106335</td>\n",
       "      <td>-1.196207</td>\n",
       "      <td>0.812526</td>\n",
       "      <td>1.356240</td>\n",
       "      <td>-0.072010</td>\n",
       "      <td>1.003533</td>\n",
       "      <td>0.361636</td>\n",
       "      <td>-0.645120</td>\n",
       "    </tr>\n",
       "  </tbody>\n",
       "</table>\n",
       "<p>5 rows × 24 columns</p>\n",
       "</div>"
      ],
      "text/plain": [
       "        age       sex       bmi        bp        s1        s2        s3  \\\n",
       "0  0.038076  0.050680  0.061696  0.021872 -0.044223 -0.034821 -0.043401   \n",
       "1 -0.001882 -0.044642 -0.051474 -0.026328 -0.008449 -0.019163  0.074412   \n",
       "2  0.085299  0.050680  0.044451 -0.005670 -0.045599 -0.034194 -0.032356   \n",
       "3 -0.089063 -0.044642 -0.011595 -0.036656  0.012191  0.024991 -0.036038   \n",
       "4  0.005383 -0.044642 -0.036385  0.021872  0.003935  0.015596  0.008142   \n",
       "\n",
       "         s4        s5        s6  ...  random-4  random-5  random-6  random-7  \\\n",
       "0 -0.002592  0.019907 -0.017646  ... -0.234153 -0.234137  1.579213  0.767435   \n",
       "1 -0.039493 -0.068332 -0.092204  ... -0.908024 -1.412304  1.465649 -0.225776   \n",
       "2 -0.002592  0.002861 -0.025930  ... -0.013497 -1.057711  0.822545 -1.220844   \n",
       "3  0.034309  0.022688 -0.009362  ... -0.460639  1.057122  0.343618 -1.763040   \n",
       "4 -0.002592 -0.031988 -0.046641  ... -0.479174 -0.185659 -1.106335 -1.196207   \n",
       "\n",
       "   random-8  random-9  random-10  random-11  random-12  random-13  \n",
       "0 -0.469474  0.542560  -0.463418  -0.465730   0.241962  -1.913280  \n",
       "1  0.067528 -1.424748  -0.544383   0.110923  -1.150994   0.375698  \n",
       "2  0.208864 -1.959670  -1.328186   0.196861   0.738467   0.171368  \n",
       "3  0.324084 -0.385082  -0.676922   0.611676   1.031000   0.931280  \n",
       "4  0.812526  1.356240  -0.072010   1.003533   0.361636  -0.645120  \n",
       "\n",
       "[5 rows x 24 columns]"
      ]
     },
     "execution_count": 1,
     "metadata": {},
     "output_type": "execute_result"
    }
   ],
   "source": [
    "from sklearn.datasets import load_diabetes\n",
    "\n",
    "X, y = load_diabetes(return_X_y=True, as_frame=True)\n",
    "\n",
    "\n",
    "import numpy as np\n",
    "import pandas as pd\n",
    "\n",
    "# add some random features to the original data to better illustrate the feature selection performed by the Lasso model.\n",
    "rng = np.random.RandomState(42)\n",
    "num_random_features = 14\n",
    "#  floating-point samples from the standard normal distribution\n",
    "X_random = pd.DataFrame(data=rng.randn(X.shape[0], num_random_features),\n",
    "                        columns=[f'random-{i}' for i in range(num_random_features)])\n",
    "# X_random.shape --> (442, 14)\n",
    "X = pd.concat([X, X_random], axis=1)\n",
    "X.head()"
   ]
  },
  {
   "cell_type": "code",
   "execution_count": 3,
   "id": "702f8dac",
   "metadata": {},
   "outputs": [],
   "source": [
    "from sklearn.pipeline import make_pipeline\n",
    "from sklearn.linear_model import LassoLarsIC\n",
    "from sklearn.preprocessing import StandardScaler"
   ]
  },
  {
   "cell_type": "code",
   "execution_count": 4,
   "id": "16442991",
   "metadata": {},
   "outputs": [
    {
     "name": "stdout",
     "output_type": "stream",
     "text": [
      "CPU times: total: 15.6 ms\n",
      "Wall time: 15.6 ms\n"
     ]
    },
    {
     "data": {
      "text/html": [
       "<style>#sk-container-id-1 {color: black;background-color: white;}#sk-container-id-1 pre{padding: 0;}#sk-container-id-1 div.sk-toggleable {background-color: white;}#sk-container-id-1 label.sk-toggleable__label {cursor: pointer;display: block;width: 100%;margin-bottom: 0;padding: 0.3em;box-sizing: border-box;text-align: center;}#sk-container-id-1 label.sk-toggleable__label-arrow:before {content: \"▸\";float: left;margin-right: 0.25em;color: #696969;}#sk-container-id-1 label.sk-toggleable__label-arrow:hover:before {color: black;}#sk-container-id-1 div.sk-estimator:hover label.sk-toggleable__label-arrow:before {color: black;}#sk-container-id-1 div.sk-toggleable__content {max-height: 0;max-width: 0;overflow: hidden;text-align: left;background-color: #f0f8ff;}#sk-container-id-1 div.sk-toggleable__content pre {margin: 0.2em;color: black;border-radius: 0.25em;background-color: #f0f8ff;}#sk-container-id-1 input.sk-toggleable__control:checked~div.sk-toggleable__content {max-height: 200px;max-width: 100%;overflow: auto;}#sk-container-id-1 input.sk-toggleable__control:checked~label.sk-toggleable__label-arrow:before {content: \"▾\";}#sk-container-id-1 div.sk-estimator input.sk-toggleable__control:checked~label.sk-toggleable__label {background-color: #d4ebff;}#sk-container-id-1 div.sk-label input.sk-toggleable__control:checked~label.sk-toggleable__label {background-color: #d4ebff;}#sk-container-id-1 input.sk-hidden--visually {border: 0;clip: rect(1px 1px 1px 1px);clip: rect(1px, 1px, 1px, 1px);height: 1px;margin: -1px;overflow: hidden;padding: 0;position: absolute;width: 1px;}#sk-container-id-1 div.sk-estimator {font-family: monospace;background-color: #f0f8ff;border: 1px dotted black;border-radius: 0.25em;box-sizing: border-box;margin-bottom: 0.5em;}#sk-container-id-1 div.sk-estimator:hover {background-color: #d4ebff;}#sk-container-id-1 div.sk-parallel-item::after {content: \"\";width: 100%;border-bottom: 1px solid gray;flex-grow: 1;}#sk-container-id-1 div.sk-label:hover label.sk-toggleable__label {background-color: #d4ebff;}#sk-container-id-1 div.sk-serial::before {content: \"\";position: absolute;border-left: 1px solid gray;box-sizing: border-box;top: 0;bottom: 0;left: 50%;z-index: 0;}#sk-container-id-1 div.sk-serial {display: flex;flex-direction: column;align-items: center;background-color: white;padding-right: 0.2em;padding-left: 0.2em;position: relative;}#sk-container-id-1 div.sk-item {position: relative;z-index: 1;}#sk-container-id-1 div.sk-parallel {display: flex;align-items: stretch;justify-content: center;background-color: white;position: relative;}#sk-container-id-1 div.sk-item::before, #sk-container-id-1 div.sk-parallel-item::before {content: \"\";position: absolute;border-left: 1px solid gray;box-sizing: border-box;top: 0;bottom: 0;left: 50%;z-index: -1;}#sk-container-id-1 div.sk-parallel-item {display: flex;flex-direction: column;z-index: 1;position: relative;background-color: white;}#sk-container-id-1 div.sk-parallel-item:first-child::after {align-self: flex-end;width: 50%;}#sk-container-id-1 div.sk-parallel-item:last-child::after {align-self: flex-start;width: 50%;}#sk-container-id-1 div.sk-parallel-item:only-child::after {width: 0;}#sk-container-id-1 div.sk-dashed-wrapped {border: 1px dashed gray;margin: 0 0.4em 0.5em 0.4em;box-sizing: border-box;padding-bottom: 0.4em;background-color: white;}#sk-container-id-1 div.sk-label label {font-family: monospace;font-weight: bold;display: inline-block;line-height: 1.2em;}#sk-container-id-1 div.sk-label-container {text-align: center;}#sk-container-id-1 div.sk-container {/* jupyter's `normalize.less` sets `[hidden] { display: none; }` but bootstrap.min.css set `[hidden] { display: none !important; }` so we also need the `!important` here to be able to override the default hidden behavior on the sphinx rendered scikit-learn.org. See: https://github.com/scikit-learn/scikit-learn/issues/21755 */display: inline-block !important;position: relative;}#sk-container-id-1 div.sk-text-repr-fallback {display: none;}</style><div id=\"sk-container-id-1\" class=\"sk-top-container\"><div class=\"sk-text-repr-fallback\"><pre>Pipeline(steps=[(&#x27;standardscaler&#x27;, StandardScaler()),\n",
       "                (&#x27;lassolarsic&#x27;, LassoLarsIC(normalize=False))])</pre><b>In a Jupyter environment, please rerun this cell to show the HTML representation or trust the notebook. <br />On GitHub, the HTML representation is unable to render, please try loading this page with nbviewer.org.</b></div><div class=\"sk-container\" hidden><div class=\"sk-item sk-dashed-wrapped\"><div class=\"sk-label-container\"><div class=\"sk-label sk-toggleable\"><input class=\"sk-toggleable__control sk-hidden--visually\" id=\"sk-estimator-id-1\" type=\"checkbox\" ><label for=\"sk-estimator-id-1\" class=\"sk-toggleable__label sk-toggleable__label-arrow\">Pipeline</label><div class=\"sk-toggleable__content\"><pre>Pipeline(steps=[(&#x27;standardscaler&#x27;, StandardScaler()),\n",
       "                (&#x27;lassolarsic&#x27;, LassoLarsIC(normalize=False))])</pre></div></div></div><div class=\"sk-serial\"><div class=\"sk-item\"><div class=\"sk-estimator sk-toggleable\"><input class=\"sk-toggleable__control sk-hidden--visually\" id=\"sk-estimator-id-2\" type=\"checkbox\" ><label for=\"sk-estimator-id-2\" class=\"sk-toggleable__label sk-toggleable__label-arrow\">StandardScaler</label><div class=\"sk-toggleable__content\"><pre>StandardScaler()</pre></div></div></div><div class=\"sk-item\"><div class=\"sk-estimator sk-toggleable\"><input class=\"sk-toggleable__control sk-hidden--visually\" id=\"sk-estimator-id-3\" type=\"checkbox\" ><label for=\"sk-estimator-id-3\" class=\"sk-toggleable__label sk-toggleable__label-arrow\">LassoLarsIC</label><div class=\"sk-toggleable__content\"><pre>LassoLarsIC(normalize=False)</pre></div></div></div></div></div></div></div>"
      ],
      "text/plain": [
       "Pipeline(steps=[('standardscaler', StandardScaler()),\n",
       "                ('lassolarsic', LassoLarsIC(normalize=False))])"
      ]
     },
     "execution_count": 4,
     "metadata": {},
     "output_type": "execute_result"
    }
   ],
   "source": [
    "%%time\n",
    "pipe = make_pipeline(StandardScaler(), LassoLarsIC(criterion='aic', normalize=False))\n",
    "pipe.fit(X,y)"
   ]
  },
  {
   "cell_type": "markdown",
   "id": "3fde92c7",
   "metadata": {},
   "source": [
    "### The value of the information criteria (‘aic’, ‘bic’) across all alphas."
   ]
  },
  {
   "cell_type": "code",
   "execution_count": 5,
   "id": "45d995a8",
   "metadata": {},
   "outputs": [
    {
     "data": {
      "text/plain": [
       "0.5867979213449432"
      ]
     },
     "execution_count": 5,
     "metadata": {},
     "output_type": "execute_result"
    }
   ],
   "source": [
    "pipe[-1].alpha_"
   ]
  },
  {
   "cell_type": "markdown",
   "id": "f508a7ce",
   "metadata": {},
   "source": [
    "### The alpha which has the smallest information criterion is chosen"
   ]
  },
  {
   "cell_type": "code",
   "execution_count": 7,
   "id": "b886f367",
   "metadata": {},
   "outputs": [],
   "source": [
    "result = pd.DataFrame(data={'alphas':pipe[-1].alphas_, 'AIC':pipe[-1].criterion_}).set_index('alphas')"
   ]
  },
  {
   "cell_type": "code",
   "execution_count": 8,
   "id": "160d414f",
   "metadata": {},
   "outputs": [],
   "source": [
    "def higlight(result):\n",
    "    min_val = result.min()\n",
    "    return ['color:red' if val==min_val else 'color:grey' for val in result]"
   ]
  },
  {
   "cell_type": "code",
   "execution_count": 9,
   "id": "47833993",
   "metadata": {},
   "outputs": [
    {
     "data": {
      "text/html": [
       "<style type=\"text/css\">\n",
       "#T_12501_row0_col0, #T_12501_row1_col0, #T_12501_row2_col0, #T_12501_row3_col0, #T_12501_row4_col0, #T_12501_row5_col0, #T_12501_row6_col0, #T_12501_row7_col0, #T_12501_row8_col0, #T_12501_row9_col0, #T_12501_row10_col0, #T_12501_row11_col0, #T_12501_row12_col0, #T_12501_row13_col0, #T_12501_row14_col0, #T_12501_row15_col0, #T_12501_row16_col0, #T_12501_row17_col0, #T_12501_row18_col0, #T_12501_row19_col0, #T_12501_row20_col0, #T_12501_row22_col0, #T_12501_row23_col0, #T_12501_row24_col0, #T_12501_row25_col0, #T_12501_row26_col0 {\n",
       "  color: grey;\n",
       "}\n",
       "#T_12501_row21_col0 {\n",
       "  color: red;\n",
       "}\n",
       "</style>\n",
       "<table id=\"T_12501\">\n",
       "  <thead>\n",
       "    <tr>\n",
       "      <th class=\"blank level0\" >&nbsp;</th>\n",
       "      <th id=\"T_12501_level0_col0\" class=\"col_heading level0 col0\" >AIC</th>\n",
       "    </tr>\n",
       "    <tr>\n",
       "      <th class=\"index_name level0\" >alphas</th>\n",
       "      <th class=\"blank col0\" >&nbsp;</th>\n",
       "    </tr>\n",
       "  </thead>\n",
       "  <tbody>\n",
       "    <tr>\n",
       "      <th id=\"T_12501_level0_row0\" class=\"row_heading level0 row0\" >45.160030</th>\n",
       "      <td id=\"T_12501_row0_col0\" class=\"data row0 col0\" >5244.764779</td>\n",
       "    </tr>\n",
       "    <tr>\n",
       "      <th id=\"T_12501_level0_row1\" class=\"row_heading level0 row1\" >42.300343</th>\n",
       "      <td id=\"T_12501_row1_col0\" class=\"data row1 col0\" >5208.250639</td>\n",
       "    </tr>\n",
       "    <tr>\n",
       "      <th id=\"T_12501_level0_row2\" class=\"row_heading level0 row2\" >21.542052</th>\n",
       "      <td id=\"T_12501_row2_col0\" class=\"data row2 col0\" >4928.018900</td>\n",
       "    </tr>\n",
       "    <tr>\n",
       "      <th id=\"T_12501_level0_row3\" class=\"row_heading level0 row3\" >15.034077</th>\n",
       "      <td id=\"T_12501_row3_col0\" class=\"data row3 col0\" >4869.678359</td>\n",
       "    </tr>\n",
       "    <tr>\n",
       "      <th id=\"T_12501_level0_row4\" class=\"row_heading level0 row4\" >6.189631</th>\n",
       "      <td id=\"T_12501_row4_col0\" class=\"data row4 col0\" >4815.437362</td>\n",
       "    </tr>\n",
       "    <tr>\n",
       "      <th id=\"T_12501_level0_row5\" class=\"row_heading level0 row5\" >5.329616</th>\n",
       "      <td id=\"T_12501_row5_col0\" class=\"data row5 col0\" >4810.423641</td>\n",
       "    </tr>\n",
       "    <tr>\n",
       "      <th id=\"T_12501_level0_row6\" class=\"row_heading level0 row6\" >4.306012</th>\n",
       "      <td id=\"T_12501_row6_col0\" class=\"data row6 col0\" >4803.573491</td>\n",
       "    </tr>\n",
       "    <tr>\n",
       "      <th id=\"T_12501_level0_row7\" class=\"row_heading level0 row7\" >4.124225</th>\n",
       "      <td id=\"T_12501_row7_col0\" class=\"data row7 col0\" >4804.126502</td>\n",
       "    </tr>\n",
       "    <tr>\n",
       "      <th id=\"T_12501_level0_row8\" class=\"row_heading level0 row8\" >3.820705</th>\n",
       "      <td id=\"T_12501_row8_col0\" class=\"data row8 col0\" >4803.621645</td>\n",
       "    </tr>\n",
       "    <tr>\n",
       "      <th id=\"T_12501_level0_row9\" class=\"row_heading level0 row9\" >3.750389</th>\n",
       "      <td id=\"T_12501_row9_col0\" class=\"data row9 col0\" >4805.012521</td>\n",
       "    </tr>\n",
       "    <tr>\n",
       "      <th id=\"T_12501_level0_row10\" class=\"row_heading level0 row10\" >3.570655</th>\n",
       "      <td id=\"T_12501_row10_col0\" class=\"data row10 col0\" >4805.290075</td>\n",
       "    </tr>\n",
       "    <tr>\n",
       "      <th id=\"T_12501_level0_row11\" class=\"row_heading level0 row11\" >3.550213</th>\n",
       "      <td id=\"T_12501_row11_col0\" class=\"data row11 col0\" >4807.075887</td>\n",
       "    </tr>\n",
       "    <tr>\n",
       "      <th id=\"T_12501_level0_row12\" class=\"row_heading level0 row12\" >3.358295</th>\n",
       "      <td id=\"T_12501_row12_col0\" class=\"data row12 col0\" >4806.878051</td>\n",
       "    </tr>\n",
       "    <tr>\n",
       "      <th id=\"T_12501_level0_row13\" class=\"row_heading level0 row13\" >3.259297</th>\n",
       "      <td id=\"T_12501_row13_col0\" class=\"data row13 col0\" >4807.706026</td>\n",
       "    </tr>\n",
       "    <tr>\n",
       "      <th id=\"T_12501_level0_row14\" class=\"row_heading level0 row14\" >3.237703</th>\n",
       "      <td id=\"T_12501_row14_col0\" class=\"data row14 col0\" >4809.440409</td>\n",
       "    </tr>\n",
       "    <tr>\n",
       "      <th id=\"T_12501_level0_row15\" class=\"row_heading level0 row15\" >2.850031</th>\n",
       "      <td id=\"T_12501_row15_col0\" class=\"data row15 col0\" >4805.989341</td>\n",
       "    </tr>\n",
       "    <tr>\n",
       "      <th id=\"T_12501_level0_row16\" class=\"row_heading level0 row16\" >2.384338</th>\n",
       "      <td id=\"T_12501_row16_col0\" class=\"data row16 col0\" >4801.702266</td>\n",
       "    </tr>\n",
       "    <tr>\n",
       "      <th id=\"T_12501_level0_row17\" class=\"row_heading level0 row17\" >2.296575</th>\n",
       "      <td id=\"T_12501_row17_col0\" class=\"data row17 col0\" >4802.594754</td>\n",
       "    </tr>\n",
       "    <tr>\n",
       "      <th id=\"T_12501_level0_row18\" class=\"row_heading level0 row18\" >2.031555</th>\n",
       "      <td id=\"T_12501_row18_col0\" class=\"data row18 col0\" >4801.236720</td>\n",
       "    </tr>\n",
       "    <tr>\n",
       "      <th id=\"T_12501_level0_row19\" class=\"row_heading level0 row19\" >1.618263</th>\n",
       "      <td id=\"T_12501_row19_col0\" class=\"data row19 col0\" >4798.484109</td>\n",
       "    </tr>\n",
       "    <tr>\n",
       "      <th id=\"T_12501_level0_row20\" class=\"row_heading level0 row20\" >1.526599</th>\n",
       "      <td id=\"T_12501_row20_col0\" class=\"data row20 col0\" >4799.543841</td>\n",
       "    </tr>\n",
       "    <tr>\n",
       "      <th id=\"T_12501_level0_row21\" class=\"row_heading level0 row21\" >0.586798</th>\n",
       "      <td id=\"T_12501_row21_col0\" class=\"data row21 col0\" >4794.238744</td>\n",
       "    </tr>\n",
       "    <tr>\n",
       "      <th id=\"T_12501_level0_row22\" class=\"row_heading level0 row22\" >0.445978</th>\n",
       "      <td id=\"T_12501_row22_col0\" class=\"data row22 col0\" >4795.589715</td>\n",
       "    </tr>\n",
       "    <tr>\n",
       "      <th id=\"T_12501_level0_row23\" class=\"row_heading level0 row23\" >0.259031</th>\n",
       "      <td id=\"T_12501_row23_col0\" class=\"data row23 col0\" >4796.966981</td>\n",
       "    </tr>\n",
       "    <tr>\n",
       "      <th id=\"T_12501_level0_row24\" class=\"row_heading level0 row24\" >0.032179</th>\n",
       "      <td id=\"T_12501_row24_col0\" class=\"data row24 col0\" >4794.662409</td>\n",
       "    </tr>\n",
       "    <tr>\n",
       "      <th id=\"T_12501_level0_row25\" class=\"row_heading level0 row25\" >0.019069</th>\n",
       "      <td id=\"T_12501_row25_col0\" class=\"data row25 col0\" >4794.652739</td>\n",
       "    </tr>\n",
       "    <tr>\n",
       "      <th id=\"T_12501_level0_row26\" class=\"row_heading level0 row26\" >0.000000</th>\n",
       "      <td id=\"T_12501_row26_col0\" class=\"data row26 col0\" >4796.626286</td>\n",
       "    </tr>\n",
       "  </tbody>\n",
       "</table>\n"
      ],
      "text/plain": [
       "<pandas.io.formats.style.Styler at 0x16ec098f700>"
      ]
     },
     "execution_count": 9,
     "metadata": {},
     "output_type": "execute_result"
    }
   ],
   "source": [
    "result.style.apply(higlight)"
   ]
  },
  {
   "cell_type": "markdown",
   "id": "469ed016",
   "metadata": {},
   "source": [
    "## Noise variance\n",
    "\n",
    "noise_variance =  summation(y - yhat) / n - p <br>\n",
    "n = number of a samples<br>\n",
    "p = number of features<br>"
   ]
  },
  {
   "cell_type": "code",
   "execution_count": 10,
   "id": "1fc875ce",
   "metadata": {},
   "outputs": [
    {
     "data": {
      "text/plain": [
       "2870.3303455996593"
      ]
     },
     "execution_count": 10,
     "metadata": {},
     "output_type": "execute_result"
    }
   ],
   "source": [
    "pipe[-1].noise_variance_"
   ]
  },
  {
   "cell_type": "code",
   "execution_count": 28,
   "id": "d7c29ac8",
   "metadata": {},
   "outputs": [],
   "source": [
    "\n",
    "y_hat = pipe.predict(X)\n",
    "n = X.shape[0]\n",
    "p = X.shape[1]\n",
    "\n",
    "est_noise_variance = np.sum( np.power(y-y_hat, 2) ) / (n-p)"
   ]
  },
  {
   "cell_type": "code",
   "execution_count": 29,
   "id": "dc68f2ac",
   "metadata": {},
   "outputs": [
    {
     "data": {
      "text/plain": [
       "2888.2696215888777"
      ]
     },
     "execution_count": 29,
     "metadata": {},
     "output_type": "execute_result"
    }
   ],
   "source": [
    "est_noise_variance"
   ]
  },
  {
   "cell_type": "markdown",
   "id": "e1a7a219",
   "metadata": {},
   "source": [
    "https://direct.mit.edu/neco/article-abstract/15/7/1691/6752/Comparison-of-Model-Selection-for-Regression?redirectedFrom=fulltext"
   ]
  },
  {
   "cell_type": "code",
   "execution_count": null,
   "id": "5617ec77",
   "metadata": {},
   "outputs": [],
   "source": []
  }
 ],
 "metadata": {
  "kernelspec": {
   "display_name": "Python 3 (ipykernel)",
   "language": "python",
   "name": "python3"
  },
  "language_info": {
   "codemirror_mode": {
    "name": "ipython",
    "version": 3
   },
   "file_extension": ".py",
   "mimetype": "text/x-python",
   "name": "python",
   "nbconvert_exporter": "python",
   "pygments_lexer": "ipython3",
   "version": "3.9.12"
  }
 },
 "nbformat": 4,
 "nbformat_minor": 5
}
