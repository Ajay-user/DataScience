{
 "cells": [
  {
   "attachments": {},
   "cell_type": "markdown",
   "metadata": {},
   "source": [
    "<img src='./notes/LSA - 1.png'>"
   ]
  },
  {
   "cell_type": "code",
   "execution_count": 99,
   "metadata": {},
   "outputs": [],
   "source": [
    "import re\n",
    "import numpy as np\n",
    "import pandas as pd\n",
    "import seaborn as sns\n",
    "import matplotlib.pyplot as plt\n",
    "\n",
    "from sklearn.decomposition import TruncatedSVD\n",
    "from sklearn.feature_extraction.text import CountVectorizer, TfidfVectorizer\n",
    "\n",
    "\n",
    "from wordcloud import WordCloud, STOPWORDS\n",
    "from nltk.corpus import stopwords\n",
    "from nltk.stem import WordNetLemmatizer, PorterStemmer"
   ]
  },
  {
   "attachments": {},
   "cell_type": "markdown",
   "metadata": {},
   "source": [
    "## STEP 1 : Raw Text Data"
   ]
  },
  {
   "cell_type": "code",
   "execution_count": 1,
   "metadata": {},
   "outputs": [],
   "source": [
    "data = [\n",
    "    'the quick brown fox',\n",
    "    'the slow brown dog',\n",
    "    'the quick red dog',\n",
    "    'the lazy yellow fox'\n",
    "]"
   ]
  },
  {
   "attachments": {},
   "cell_type": "markdown",
   "metadata": {},
   "source": [
    "## Document Term Matrix\n",
    "* ### We can use `CountVectorizer` to create document term matrix"
   ]
  },
  {
   "cell_type": "code",
   "execution_count": 2,
   "metadata": {},
   "outputs": [
    {
     "data": {
      "text/plain": [
       "matrix([[1, 0, 1, 0, 1, 0, 0, 1, 0],\n",
       "        [1, 1, 0, 0, 0, 0, 1, 1, 0],\n",
       "        [0, 1, 0, 0, 1, 1, 0, 1, 0],\n",
       "        [0, 0, 1, 1, 0, 0, 0, 1, 1]], dtype=int64)"
      ]
     },
     "execution_count": 2,
     "metadata": {},
     "output_type": "execute_result"
    }
   ],
   "source": [
    "from sklearn.feature_extraction.text import CountVectorizer\n",
    "\n",
    "vectorizer = CountVectorizer()\n",
    "\n",
    "dtm = vectorizer.fit_transform(data)\n",
    "dtm.todense()"
   ]
  },
  {
   "attachments": {},
   "cell_type": "markdown",
   "metadata": {},
   "source": [
    "## Singular Value Decomposition\n",
    "* The word truncated refers to fact that we are not going to get back as many vectors as we started with.\n",
    "* This process transforms the original data into topic encoded data "
   ]
  },
  {
   "cell_type": "code",
   "execution_count": 3,
   "metadata": {},
   "outputs": [],
   "source": [
    "from sklearn.decomposition import TruncatedSVD\n",
    "\n",
    "svd = TruncatedSVD(n_components=2)\n",
    "\n",
    "encoding = svd.fit_transform(dtm)"
   ]
  },
  {
   "attachments": {},
   "cell_type": "markdown",
   "metadata": {},
   "source": [
    "## Topic encoded data "
   ]
  },
  {
   "cell_type": "code",
   "execution_count": 4,
   "metadata": {},
   "outputs": [
    {
     "data": {
      "text/plain": [
       "array([[ 1.69490493,  0.29952405],\n",
       "       [ 1.51585111, -0.76911037],\n",
       "       [ 1.51585111, -0.76911037],\n",
       "       [ 1.26618606,  1.44058513]])"
      ]
     },
     "execution_count": 4,
     "metadata": {},
     "output_type": "execute_result"
    }
   ],
   "source": [
    "encoding"
   ]
  },
  {
   "attachments": {},
   "cell_type": "markdown",
   "metadata": {},
   "source": [
    "* Each row is indexed by its original text value\n",
    "* The data now consists of two columns of data, representing each of the two topics used to encode the data\n",
    "* This value of 2 was passed as an argument to `TruncatedSVD`"
   ]
  },
  {
   "cell_type": "code",
   "execution_count": 5,
   "metadata": {},
   "outputs": [
    {
     "data": {
      "text/html": [
       "<div>\n",
       "<style scoped>\n",
       "    .dataframe tbody tr th:only-of-type {\n",
       "        vertical-align: middle;\n",
       "    }\n",
       "\n",
       "    .dataframe tbody tr th {\n",
       "        vertical-align: top;\n",
       "    }\n",
       "\n",
       "    .dataframe thead th {\n",
       "        text-align: right;\n",
       "    }\n",
       "</style>\n",
       "<table border=\"1\" class=\"dataframe\">\n",
       "  <thead>\n",
       "    <tr style=\"text-align: right;\">\n",
       "      <th></th>\n",
       "      <th>Data</th>\n",
       "      <th>Topic-1</th>\n",
       "      <th>Topic-2</th>\n",
       "    </tr>\n",
       "  </thead>\n",
       "  <tbody>\n",
       "    <tr>\n",
       "      <th>0</th>\n",
       "      <td>the quick brown fox</td>\n",
       "      <td>1.694905</td>\n",
       "      <td>0.299524</td>\n",
       "    </tr>\n",
       "    <tr>\n",
       "      <th>1</th>\n",
       "      <td>the slow brown dog</td>\n",
       "      <td>1.515851</td>\n",
       "      <td>-0.769110</td>\n",
       "    </tr>\n",
       "    <tr>\n",
       "      <th>2</th>\n",
       "      <td>the quick red dog</td>\n",
       "      <td>1.515851</td>\n",
       "      <td>-0.769110</td>\n",
       "    </tr>\n",
       "    <tr>\n",
       "      <th>3</th>\n",
       "      <td>the lazy yellow fox</td>\n",
       "      <td>1.266186</td>\n",
       "      <td>1.440585</td>\n",
       "    </tr>\n",
       "  </tbody>\n",
       "</table>\n",
       "</div>"
      ],
      "text/plain": [
       "                  Data   Topic-1   Topic-2\n",
       "0  the quick brown fox  1.694905  0.299524\n",
       "1   the slow brown dog  1.515851 -0.769110\n",
       "2    the quick red dog  1.515851 -0.769110\n",
       "3  the lazy yellow fox  1.266186  1.440585"
      ]
     },
     "execution_count": 5,
     "metadata": {},
     "output_type": "execute_result"
    }
   ],
   "source": [
    "import pandas as pd\n",
    "\n",
    "encoding_df = pd.DataFrame(data=encoding, columns=['Topic-1', 'Topic-2'])\n",
    "encoding_df['Data'] = data\n",
    "encoding_df[['Data','Topic-1', 'Topic-2']]"
   ]
  },
  {
   "attachments": {},
   "cell_type": "markdown",
   "metadata": {},
   "source": [
    "* All four text are strong in topic-1\n",
    "* In topic-2 we have negative values for text at index {1,2} \n",
    "* If we look at the data its very intutive \n",
    "    *  text at index {1,2} talks about dog\n",
    "    *  text at index {0,3} talks about fox\n",
    "\n",
    "\n",
    "## Lets understand the topics further\n",
    "\n",
    "\n",
    "#### `vectorizer.get_feature_names_out()` will output tall the words in our vocabulary"
   ]
  },
  {
   "cell_type": "code",
   "execution_count": 6,
   "metadata": {},
   "outputs": [],
   "source": [
    "vocab = vectorizer.get_feature_names_out()"
   ]
  },
  {
   "attachments": {},
   "cell_type": "markdown",
   "metadata": {},
   "source": [
    "### The Encoding matrix\n",
    "The Encoding matrix is composed of `components_` stored as an attribute of a fit TruncatedSVD.\n",
    "* We can examine this matrix to gain an understanding of the topics latent to the text"
   ]
  },
  {
   "cell_type": "code",
   "execution_count": 7,
   "metadata": {},
   "outputs": [
    {
     "data": {
      "text/plain": [
       "array([[ 0.3539373 ,  0.33419932,  0.3264155 ,  0.13957787,  0.3539373 ,\n",
       "         0.16709966,  0.16709966,  0.66061483,  0.13957787],\n",
       "       [-0.14025617, -0.4594362 ,  0.5197363 ,  0.43027437, -0.14025617,\n",
       "        -0.2297181 , -0.2297181 ,  0.0603001 ,  0.43027437]])"
      ]
     },
     "execution_count": 7,
     "metadata": {},
     "output_type": "execute_result"
    }
   ],
   "source": [
    "svd.components_"
   ]
  },
  {
   "cell_type": "code",
   "execution_count": 8,
   "metadata": {},
   "outputs": [
    {
     "data": {
      "text/html": [
       "<div>\n",
       "<style scoped>\n",
       "    .dataframe tbody tr th:only-of-type {\n",
       "        vertical-align: middle;\n",
       "    }\n",
       "\n",
       "    .dataframe tbody tr th {\n",
       "        vertical-align: top;\n",
       "    }\n",
       "\n",
       "    .dataframe thead th {\n",
       "        text-align: right;\n",
       "    }\n",
       "</style>\n",
       "<table border=\"1\" class=\"dataframe\">\n",
       "  <thead>\n",
       "    <tr style=\"text-align: right;\">\n",
       "      <th></th>\n",
       "      <th>Topic-1</th>\n",
       "      <th>Topic-2</th>\n",
       "    </tr>\n",
       "  </thead>\n",
       "  <tbody>\n",
       "    <tr>\n",
       "      <th>brown</th>\n",
       "      <td>0.353937</td>\n",
       "      <td>-0.140256</td>\n",
       "    </tr>\n",
       "    <tr>\n",
       "      <th>dog</th>\n",
       "      <td>0.334199</td>\n",
       "      <td>-0.459436</td>\n",
       "    </tr>\n",
       "    <tr>\n",
       "      <th>fox</th>\n",
       "      <td>0.326416</td>\n",
       "      <td>0.519736</td>\n",
       "    </tr>\n",
       "    <tr>\n",
       "      <th>lazy</th>\n",
       "      <td>0.139578</td>\n",
       "      <td>0.430274</td>\n",
       "    </tr>\n",
       "    <tr>\n",
       "      <th>quick</th>\n",
       "      <td>0.353937</td>\n",
       "      <td>-0.140256</td>\n",
       "    </tr>\n",
       "    <tr>\n",
       "      <th>red</th>\n",
       "      <td>0.167100</td>\n",
       "      <td>-0.229718</td>\n",
       "    </tr>\n",
       "    <tr>\n",
       "      <th>slow</th>\n",
       "      <td>0.167100</td>\n",
       "      <td>-0.229718</td>\n",
       "    </tr>\n",
       "    <tr>\n",
       "      <th>the</th>\n",
       "      <td>0.660615</td>\n",
       "      <td>0.060300</td>\n",
       "    </tr>\n",
       "    <tr>\n",
       "      <th>yellow</th>\n",
       "      <td>0.139578</td>\n",
       "      <td>0.430274</td>\n",
       "    </tr>\n",
       "  </tbody>\n",
       "</table>\n",
       "</div>"
      ],
      "text/plain": [
       "         Topic-1   Topic-2\n",
       "brown   0.353937 -0.140256\n",
       "dog     0.334199 -0.459436\n",
       "fox     0.326416  0.519736\n",
       "lazy    0.139578  0.430274\n",
       "quick   0.353937 -0.140256\n",
       "red     0.167100 -0.229718\n",
       "slow    0.167100 -0.229718\n",
       "the     0.660615  0.060300\n",
       "yellow  0.139578  0.430274"
      ]
     },
     "execution_count": 8,
     "metadata": {},
     "output_type": "execute_result"
    }
   ],
   "source": [
    "encoding_matix = pd.DataFrame(data = svd.components_, index=['Topic-1', 'Topic-2'], columns=vocab).T\n",
    "encoding_matix"
   ]
  },
  {
   "attachments": {},
   "cell_type": "markdown",
   "metadata": {},
   "source": [
    "## Interpret The Encoding Matrix\n",
    "\n",
    "#### What are the top words for each topic ?\n",
    "#### What dimension in word space explain most of the variance in data?\n",
    "\n",
    "* To analyse this we need to look at the absolute value of the expression of each word in the topic \n",
    "* The word that has a strong negative representation is as important as a word that has a strong positive representation"
   ]
  },
  {
   "cell_type": "code",
   "execution_count": 12,
   "metadata": {},
   "outputs": [
    {
     "data": {
      "text/html": [
       "<div>\n",
       "<style scoped>\n",
       "    .dataframe tbody tr th:only-of-type {\n",
       "        vertical-align: middle;\n",
       "    }\n",
       "\n",
       "    .dataframe tbody tr th {\n",
       "        vertical-align: top;\n",
       "    }\n",
       "\n",
       "    .dataframe thead th {\n",
       "        text-align: right;\n",
       "    }\n",
       "</style>\n",
       "<table border=\"1\" class=\"dataframe\">\n",
       "  <thead>\n",
       "    <tr style=\"text-align: right;\">\n",
       "      <th></th>\n",
       "      <th>Topic-1</th>\n",
       "      <th>Topic-2</th>\n",
       "      <th>Abs-topic-1</th>\n",
       "    </tr>\n",
       "  </thead>\n",
       "  <tbody>\n",
       "    <tr>\n",
       "      <th>the</th>\n",
       "      <td>0.660615</td>\n",
       "      <td>0.060300</td>\n",
       "      <td>0.660615</td>\n",
       "    </tr>\n",
       "    <tr>\n",
       "      <th>brown</th>\n",
       "      <td>0.353937</td>\n",
       "      <td>-0.140256</td>\n",
       "      <td>0.353937</td>\n",
       "    </tr>\n",
       "    <tr>\n",
       "      <th>quick</th>\n",
       "      <td>0.353937</td>\n",
       "      <td>-0.140256</td>\n",
       "      <td>0.353937</td>\n",
       "    </tr>\n",
       "    <tr>\n",
       "      <th>dog</th>\n",
       "      <td>0.334199</td>\n",
       "      <td>-0.459436</td>\n",
       "      <td>0.334199</td>\n",
       "    </tr>\n",
       "    <tr>\n",
       "      <th>fox</th>\n",
       "      <td>0.326416</td>\n",
       "      <td>0.519736</td>\n",
       "      <td>0.326416</td>\n",
       "    </tr>\n",
       "    <tr>\n",
       "      <th>slow</th>\n",
       "      <td>0.167100</td>\n",
       "      <td>-0.229718</td>\n",
       "      <td>0.167100</td>\n",
       "    </tr>\n",
       "    <tr>\n",
       "      <th>red</th>\n",
       "      <td>0.167100</td>\n",
       "      <td>-0.229718</td>\n",
       "      <td>0.167100</td>\n",
       "    </tr>\n",
       "    <tr>\n",
       "      <th>lazy</th>\n",
       "      <td>0.139578</td>\n",
       "      <td>0.430274</td>\n",
       "      <td>0.139578</td>\n",
       "    </tr>\n",
       "    <tr>\n",
       "      <th>yellow</th>\n",
       "      <td>0.139578</td>\n",
       "      <td>0.430274</td>\n",
       "      <td>0.139578</td>\n",
       "    </tr>\n",
       "  </tbody>\n",
       "</table>\n",
       "</div>"
      ],
      "text/plain": [
       "         Topic-1   Topic-2  Abs-topic-1\n",
       "the     0.660615  0.060300     0.660615\n",
       "brown   0.353937 -0.140256     0.353937\n",
       "quick   0.353937 -0.140256     0.353937\n",
       "dog     0.334199 -0.459436     0.334199\n",
       "fox     0.326416  0.519736     0.326416\n",
       "slow    0.167100 -0.229718     0.167100\n",
       "red     0.167100 -0.229718     0.167100\n",
       "lazy    0.139578  0.430274     0.139578\n",
       "yellow  0.139578  0.430274     0.139578"
      ]
     },
     "execution_count": 12,
     "metadata": {},
     "output_type": "execute_result"
    }
   ],
   "source": [
    "encoding_matix['Abs-topic-1'] = np.abs(encoding_matix['Topic-1'])\n",
    "\n",
    "encoding_matix.sort_values(by='Abs-topic-1', ascending=False)"
   ]
  },
  {
   "attachments": {},
   "cell_type": "markdown",
   "metadata": {},
   "source": [
    "* The most important word according to topic-1 is `\"the\"` then `\"brown\"`\n",
    "* In a large text corpus, some words appear with higher frequency `(e.g. “the”, “a”, “is” in English)` and do not carry meaningful information about the actual contents of a document. \n",
    "\n",
    "* If we were to feed the word count data directly to a classifier, those very common terms would shadow the frequencies of rarer yet more informative terms. "
   ]
  },
  {
   "cell_type": "code",
   "execution_count": 13,
   "metadata": {},
   "outputs": [
    {
     "data": {
      "text/html": [
       "<div>\n",
       "<style scoped>\n",
       "    .dataframe tbody tr th:only-of-type {\n",
       "        vertical-align: middle;\n",
       "    }\n",
       "\n",
       "    .dataframe tbody tr th {\n",
       "        vertical-align: top;\n",
       "    }\n",
       "\n",
       "    .dataframe thead th {\n",
       "        text-align: right;\n",
       "    }\n",
       "</style>\n",
       "<table border=\"1\" class=\"dataframe\">\n",
       "  <thead>\n",
       "    <tr style=\"text-align: right;\">\n",
       "      <th></th>\n",
       "      <th>Topic-1</th>\n",
       "      <th>Topic-2</th>\n",
       "      <th>Abs-topic-1</th>\n",
       "      <th>Abs-topic-2</th>\n",
       "    </tr>\n",
       "  </thead>\n",
       "  <tbody>\n",
       "    <tr>\n",
       "      <th>fox</th>\n",
       "      <td>0.326416</td>\n",
       "      <td>0.519736</td>\n",
       "      <td>0.326416</td>\n",
       "      <td>0.519736</td>\n",
       "    </tr>\n",
       "    <tr>\n",
       "      <th>lazy</th>\n",
       "      <td>0.139578</td>\n",
       "      <td>0.430274</td>\n",
       "      <td>0.139578</td>\n",
       "      <td>0.430274</td>\n",
       "    </tr>\n",
       "    <tr>\n",
       "      <th>yellow</th>\n",
       "      <td>0.139578</td>\n",
       "      <td>0.430274</td>\n",
       "      <td>0.139578</td>\n",
       "      <td>0.430274</td>\n",
       "    </tr>\n",
       "    <tr>\n",
       "      <th>the</th>\n",
       "      <td>0.660615</td>\n",
       "      <td>0.060300</td>\n",
       "      <td>0.660615</td>\n",
       "      <td>0.060300</td>\n",
       "    </tr>\n",
       "    <tr>\n",
       "      <th>brown</th>\n",
       "      <td>0.353937</td>\n",
       "      <td>-0.140256</td>\n",
       "      <td>0.353937</td>\n",
       "      <td>0.140256</td>\n",
       "    </tr>\n",
       "    <tr>\n",
       "      <th>quick</th>\n",
       "      <td>0.353937</td>\n",
       "      <td>-0.140256</td>\n",
       "      <td>0.353937</td>\n",
       "      <td>0.140256</td>\n",
       "    </tr>\n",
       "    <tr>\n",
       "      <th>slow</th>\n",
       "      <td>0.167100</td>\n",
       "      <td>-0.229718</td>\n",
       "      <td>0.167100</td>\n",
       "      <td>0.229718</td>\n",
       "    </tr>\n",
       "    <tr>\n",
       "      <th>red</th>\n",
       "      <td>0.167100</td>\n",
       "      <td>-0.229718</td>\n",
       "      <td>0.167100</td>\n",
       "      <td>0.229718</td>\n",
       "    </tr>\n",
       "    <tr>\n",
       "      <th>dog</th>\n",
       "      <td>0.334199</td>\n",
       "      <td>-0.459436</td>\n",
       "      <td>0.334199</td>\n",
       "      <td>0.459436</td>\n",
       "    </tr>\n",
       "  </tbody>\n",
       "</table>\n",
       "</div>"
      ],
      "text/plain": [
       "         Topic-1   Topic-2  Abs-topic-1  Abs-topic-2\n",
       "fox     0.326416  0.519736     0.326416     0.519736\n",
       "lazy    0.139578  0.430274     0.139578     0.430274\n",
       "yellow  0.139578  0.430274     0.139578     0.430274\n",
       "the     0.660615  0.060300     0.660615     0.060300\n",
       "brown   0.353937 -0.140256     0.353937     0.140256\n",
       "quick   0.353937 -0.140256     0.353937     0.140256\n",
       "slow    0.167100 -0.229718     0.167100     0.229718\n",
       "red     0.167100 -0.229718     0.167100     0.229718\n",
       "dog     0.334199 -0.459436     0.334199     0.459436"
      ]
     },
     "execution_count": 13,
     "metadata": {},
     "output_type": "execute_result"
    }
   ],
   "source": [
    "encoding_matix['Abs-topic-2'] = np.abs(encoding_matix['Topic-2'])\n",
    "\n",
    "encoding_matix.sort_values(by='Topic-2', ascending=False)"
   ]
  },
  {
   "attachments": {},
   "cell_type": "markdown",
   "metadata": {},
   "source": [
    "* The two most important word according to topic-2 is `\"fox\"` & `\"lazy\"`\n",
    "* The word `\"fox\"` is very strongly positive and the word `\"dog\"` is very strongly negative\n",
    "* This tells us that topic-2 is great at representing the document. \n",
    "* `topic-2` can be used to represent whether that document was about \"dogs\" or \"fox\"\n",
    "* We can say that, the `topic-2` is a measure of a documents foxiness"
   ]
  },
  {
   "attachments": {},
   "cell_type": "markdown",
   "metadata": {},
   "source": [
    "## Real world example \n",
    "## `SPAM` or `HAM` : SMS -- TEXT classifiation\n",
    "\n",
    "#### Load the data"
   ]
  },
  {
   "cell_type": "code",
   "execution_count": 2,
   "metadata": {},
   "outputs": [
    {
     "data": {
      "text/html": [
       "<div>\n",
       "<style scoped>\n",
       "    .dataframe tbody tr th:only-of-type {\n",
       "        vertical-align: middle;\n",
       "    }\n",
       "\n",
       "    .dataframe tbody tr th {\n",
       "        vertical-align: top;\n",
       "    }\n",
       "\n",
       "    .dataframe thead th {\n",
       "        text-align: right;\n",
       "    }\n",
       "</style>\n",
       "<table border=\"1\" class=\"dataframe\">\n",
       "  <thead>\n",
       "    <tr style=\"text-align: right;\">\n",
       "      <th></th>\n",
       "      <th>label</th>\n",
       "      <th>message</th>\n",
       "    </tr>\n",
       "  </thead>\n",
       "  <tbody>\n",
       "    <tr>\n",
       "      <th>0</th>\n",
       "      <td>ham</td>\n",
       "      <td>Go until jurong point, crazy.. Available only ...</td>\n",
       "    </tr>\n",
       "    <tr>\n",
       "      <th>1</th>\n",
       "      <td>ham</td>\n",
       "      <td>Ok lar... Joking wif u oni...</td>\n",
       "    </tr>\n",
       "    <tr>\n",
       "      <th>2</th>\n",
       "      <td>spam</td>\n",
       "      <td>Free entry in 2 a wkly comp to win FA Cup fina...</td>\n",
       "    </tr>\n",
       "    <tr>\n",
       "      <th>3</th>\n",
       "      <td>ham</td>\n",
       "      <td>U dun say so early hor... U c already then say...</td>\n",
       "    </tr>\n",
       "    <tr>\n",
       "      <th>4</th>\n",
       "      <td>ham</td>\n",
       "      <td>Nah I don't think he goes to usf, he lives aro...</td>\n",
       "    </tr>\n",
       "  </tbody>\n",
       "</table>\n",
       "</div>"
      ],
      "text/plain": [
       "  label                                            message\n",
       "0   ham  Go until jurong point, crazy.. Available only ...\n",
       "1   ham                      Ok lar... Joking wif u oni...\n",
       "2  spam  Free entry in 2 a wkly comp to win FA Cup fina...\n",
       "3   ham  U dun say so early hor... U c already then say...\n",
       "4   ham  Nah I don't think he goes to usf, he lives aro..."
      ]
     },
     "execution_count": 2,
     "metadata": {},
     "output_type": "execute_result"
    }
   ],
   "source": [
    "url = 'https://raw.githubusercontent.com/justmarkham/pycon-2016-tutorial/master/data/sms.tsv'\n",
    "df = pd.read_table(url, header=None, names=['label', 'message'])\n",
    "df.head()"
   ]
  },
  {
   "attachments": {},
   "cell_type": "markdown",
   "metadata": {},
   "source": [
    "## Document Term Matrix\n",
    "\n",
    "\n",
    "#### Tuning the vectorizer\n",
    "*  Remove the `stop_words`\n",
    "\n",
    "Words like `(“the”, “a”, “is” in English)` appear with high frequency in all documents and do not carry meaningful information about the actual contents of a document. \n",
    "\n",
    "* When building the vocabulary\n",
    "    * ignore terms that have a document frequency strictly higher than the given threshold `max_df`\n",
    "    * ignore terms that have a document frequency strictly lower than the given threshold `min_df`"
   ]
  },
  {
   "cell_type": "code",
   "execution_count": 94,
   "metadata": {},
   "outputs": [
    {
     "name": "stdout",
     "output_type": "stream",
     "text": [
      "Shape of df  (5572, 2)\n",
      "Shape of word-vector  (5572, 1603)\n"
     ]
    }
   ],
   "source": [
    "count_vec = CountVectorizer(min_df=5, max_df=.9, stop_words='english')\n",
    "word_vectors = count_vec.fit_transform(df['message'])\n",
    "print('Shape of df ', df.shape)\n",
    "print('Shape of word-vector ',word_vectors.shape)"
   ]
  },
  {
   "attachments": {},
   "cell_type": "markdown",
   "metadata": {},
   "source": [
    "## Singular Value Decomposition"
   ]
  },
  {
   "cell_type": "code",
   "execution_count": 95,
   "metadata": {},
   "outputs": [],
   "source": [
    "svd = TruncatedSVD(n_components=2)\n",
    "transformed = svd.fit_transform(word_vectors)"
   ]
  },
  {
   "attachments": {},
   "cell_type": "markdown",
   "metadata": {},
   "source": [
    "## Topic Encoded Data"
   ]
  },
  {
   "cell_type": "code",
   "execution_count": 96,
   "metadata": {},
   "outputs": [
    {
     "data": {
      "text/html": [
       "<div>\n",
       "<style scoped>\n",
       "    .dataframe tbody tr th:only-of-type {\n",
       "        vertical-align: middle;\n",
       "    }\n",
       "\n",
       "    .dataframe tbody tr th {\n",
       "        vertical-align: top;\n",
       "    }\n",
       "\n",
       "    .dataframe thead th {\n",
       "        text-align: right;\n",
       "    }\n",
       "</style>\n",
       "<table border=\"1\" class=\"dataframe\">\n",
       "  <thead>\n",
       "    <tr style=\"text-align: right;\">\n",
       "      <th></th>\n",
       "      <th>label</th>\n",
       "      <th>message</th>\n",
       "      <th>Topic-1</th>\n",
       "      <th>Topic-2</th>\n",
       "    </tr>\n",
       "  </thead>\n",
       "  <tbody>\n",
       "    <tr>\n",
       "      <th>0</th>\n",
       "      <td>ham</td>\n",
       "      <td>Go until jurong point, crazy.. Available only ...</td>\n",
       "      <td>0.058991</td>\n",
       "      <td>0.173953</td>\n",
       "    </tr>\n",
       "    <tr>\n",
       "      <th>1</th>\n",
       "      <td>ham</td>\n",
       "      <td>Ok lar... Joking wif u oni...</td>\n",
       "      <td>0.018558</td>\n",
       "      <td>0.098049</td>\n",
       "    </tr>\n",
       "    <tr>\n",
       "      <th>2</th>\n",
       "      <td>spam</td>\n",
       "      <td>Free entry in 2 a wkly comp to win FA Cup fina...</td>\n",
       "      <td>0.084440</td>\n",
       "      <td>0.858518</td>\n",
       "    </tr>\n",
       "    <tr>\n",
       "      <th>3</th>\n",
       "      <td>ham</td>\n",
       "      <td>U dun say so early hor... U c already then say...</td>\n",
       "      <td>0.018854</td>\n",
       "      <td>0.081471</td>\n",
       "    </tr>\n",
       "    <tr>\n",
       "      <th>4</th>\n",
       "      <td>ham</td>\n",
       "      <td>Nah I don't think he goes to usf, he lives aro...</td>\n",
       "      <td>0.040884</td>\n",
       "      <td>0.103220</td>\n",
       "    </tr>\n",
       "  </tbody>\n",
       "</table>\n",
       "</div>"
      ],
      "text/plain": [
       "  label                                            message   Topic-1   Topic-2\n",
       "0   ham  Go until jurong point, crazy.. Available only ...  0.058991  0.173953\n",
       "1   ham                      Ok lar... Joking wif u oni...  0.018558  0.098049\n",
       "2  spam  Free entry in 2 a wkly comp to win FA Cup fina...  0.084440  0.858518\n",
       "3   ham  U dun say so early hor... U c already then say...  0.018854  0.081471\n",
       "4   ham  Nah I don't think he goes to usf, he lives aro...  0.040884  0.103220"
      ]
     },
     "execution_count": 96,
     "metadata": {},
     "output_type": "execute_result"
    }
   ],
   "source": [
    "df['Topic-1'] = transformed[:, 0]\n",
    "df['Topic-2'] = transformed[:, 1]\n",
    "\n",
    "df.head()"
   ]
  },
  {
   "attachments": {},
   "cell_type": "markdown",
   "metadata": {},
   "source": [
    "#### We can see that the abs( Topic-1 encoding) is small for spam messages"
   ]
  },
  {
   "cell_type": "code",
   "execution_count": 97,
   "metadata": {},
   "outputs": [
    {
     "data": {
      "text/html": [
       "<div>\n",
       "<style scoped>\n",
       "    .dataframe tbody tr th:only-of-type {\n",
       "        vertical-align: middle;\n",
       "    }\n",
       "\n",
       "    .dataframe tbody tr th {\n",
       "        vertical-align: top;\n",
       "    }\n",
       "\n",
       "    .dataframe thead th {\n",
       "        text-align: right;\n",
       "    }\n",
       "</style>\n",
       "<table border=\"1\" class=\"dataframe\">\n",
       "  <thead>\n",
       "    <tr style=\"text-align: right;\">\n",
       "      <th></th>\n",
       "      <th>label</th>\n",
       "      <th>message</th>\n",
       "      <th>Topic-1</th>\n",
       "      <th>Topic-2</th>\n",
       "    </tr>\n",
       "  </thead>\n",
       "  <tbody>\n",
       "    <tr>\n",
       "      <th>2</th>\n",
       "      <td>spam</td>\n",
       "      <td>Free entry in 2 a wkly comp to win FA Cup fina...</td>\n",
       "      <td>0.084440</td>\n",
       "      <td>0.858518</td>\n",
       "    </tr>\n",
       "    <tr>\n",
       "      <th>5</th>\n",
       "      <td>spam</td>\n",
       "      <td>FreeMsg Hey there darling it's been 3 week's n...</td>\n",
       "      <td>0.117999</td>\n",
       "      <td>0.525932</td>\n",
       "    </tr>\n",
       "    <tr>\n",
       "      <th>8</th>\n",
       "      <td>spam</td>\n",
       "      <td>WINNER!! As a valued network customer you have...</td>\n",
       "      <td>0.023365</td>\n",
       "      <td>0.248263</td>\n",
       "    </tr>\n",
       "    <tr>\n",
       "      <th>9</th>\n",
       "      <td>spam</td>\n",
       "      <td>Had your mobile 11 months or more? U R entitle...</td>\n",
       "      <td>0.108866</td>\n",
       "      <td>1.024962</td>\n",
       "    </tr>\n",
       "    <tr>\n",
       "      <th>11</th>\n",
       "      <td>spam</td>\n",
       "      <td>SIX chances to win CASH! From 100 to 20,000 po...</td>\n",
       "      <td>0.149399</td>\n",
       "      <td>0.961592</td>\n",
       "    </tr>\n",
       "  </tbody>\n",
       "</table>\n",
       "</div>"
      ],
      "text/plain": [
       "   label                                            message   Topic-1  \\\n",
       "2   spam  Free entry in 2 a wkly comp to win FA Cup fina...  0.084440   \n",
       "5   spam  FreeMsg Hey there darling it's been 3 week's n...  0.117999   \n",
       "8   spam  WINNER!! As a valued network customer you have...  0.023365   \n",
       "9   spam  Had your mobile 11 months or more? U R entitle...  0.108866   \n",
       "11  spam  SIX chances to win CASH! From 100 to 20,000 po...  0.149399   \n",
       "\n",
       "     Topic-2  \n",
       "2   0.858518  \n",
       "5   0.525932  \n",
       "8   0.248263  \n",
       "9   1.024962  \n",
       "11  0.961592  "
      ]
     },
     "execution_count": 97,
     "metadata": {},
     "output_type": "execute_result"
    }
   ],
   "source": [
    "df.query('label==\"spam\"').head()"
   ]
  },
  {
   "attachments": {},
   "cell_type": "markdown",
   "metadata": {},
   "source": [
    "## Encoding Matrix"
   ]
  },
  {
   "cell_type": "code",
   "execution_count": 56,
   "metadata": {},
   "outputs": [],
   "source": [
    "encoding_matix = pd.DataFrame(data=svd.components_, index=['Topic-1', 'Topic-2'],\n",
    " columns=count_vec.get_feature_names_out()).T\n",
    "\n",
    "encoding_matix['Abs-Topic-1'] = np.abs(encoding_matix['Topic-1'])\n",
    "encoding_matix['Abs-Topic-2'] = np.abs(encoding_matix['Topic-2'])"
   ]
  },
  {
   "attachments": {},
   "cell_type": "markdown",
   "metadata": {},
   "source": [
    "### Interpretation of the Encoded-topics\n",
    "\n",
    "* We can see that the words `\"happy\" , \"good\" , \"day\" , \"like\" etc...` are important for topic - 1"
   ]
  },
  {
   "cell_type": "code",
   "execution_count": 61,
   "metadata": {},
   "outputs": [
    {
     "data": {
      "text/html": [
       "<div>\n",
       "<style scoped>\n",
       "    .dataframe tbody tr th:only-of-type {\n",
       "        vertical-align: middle;\n",
       "    }\n",
       "\n",
       "    .dataframe tbody tr th {\n",
       "        vertical-align: top;\n",
       "    }\n",
       "\n",
       "    .dataframe thead th {\n",
       "        text-align: right;\n",
       "    }\n",
       "</style>\n",
       "<table border=\"1\" class=\"dataframe\">\n",
       "  <thead>\n",
       "    <tr style=\"text-align: right;\">\n",
       "      <th></th>\n",
       "      <th>Topic-1</th>\n",
       "      <th>Topic-2</th>\n",
       "      <th>Abs-Topic-1</th>\n",
       "      <th>Abs-Topic-2</th>\n",
       "    </tr>\n",
       "  </thead>\n",
       "  <tbody>\n",
       "    <tr>\n",
       "      <th>gt</th>\n",
       "      <td>0.687896</td>\n",
       "      <td>-0.109659</td>\n",
       "      <td>0.687896</td>\n",
       "      <td>0.109659</td>\n",
       "    </tr>\n",
       "    <tr>\n",
       "      <th>lt</th>\n",
       "      <td>0.684977</td>\n",
       "      <td>-0.112748</td>\n",
       "      <td>0.684977</td>\n",
       "      <td>0.112748</td>\n",
       "    </tr>\n",
       "    <tr>\n",
       "      <th>happy</th>\n",
       "      <td>0.079935</td>\n",
       "      <td>0.044680</td>\n",
       "      <td>0.079935</td>\n",
       "      <td>0.044680</td>\n",
       "    </tr>\n",
       "    <tr>\n",
       "      <th>good</th>\n",
       "      <td>0.060668</td>\n",
       "      <td>0.098238</td>\n",
       "      <td>0.060668</td>\n",
       "      <td>0.098238</td>\n",
       "    </tr>\n",
       "    <tr>\n",
       "      <th>ur</th>\n",
       "      <td>0.058282</td>\n",
       "      <td>0.603945</td>\n",
       "      <td>0.058282</td>\n",
       "      <td>0.603945</td>\n",
       "    </tr>\n",
       "    <tr>\n",
       "      <th>day</th>\n",
       "      <td>0.050301</td>\n",
       "      <td>0.117940</td>\n",
       "      <td>0.050301</td>\n",
       "      <td>0.117940</td>\n",
       "    </tr>\n",
       "    <tr>\n",
       "      <th>make</th>\n",
       "      <td>0.045083</td>\n",
       "      <td>0.028229</td>\n",
       "      <td>0.045083</td>\n",
       "      <td>0.028229</td>\n",
       "    </tr>\n",
       "    <tr>\n",
       "      <th>like</th>\n",
       "      <td>0.040805</td>\n",
       "      <td>0.072523</td>\n",
       "      <td>0.040805</td>\n",
       "      <td>0.072523</td>\n",
       "    </tr>\n",
       "    <tr>\n",
       "      <th>need</th>\n",
       "      <td>0.040496</td>\n",
       "      <td>0.053423</td>\n",
       "      <td>0.040496</td>\n",
       "      <td>0.053423</td>\n",
       "    </tr>\n",
       "    <tr>\n",
       "      <th>ll</th>\n",
       "      <td>0.039025</td>\n",
       "      <td>0.073699</td>\n",
       "      <td>0.039025</td>\n",
       "      <td>0.073699</td>\n",
       "    </tr>\n",
       "    <tr>\n",
       "      <th>know</th>\n",
       "      <td>0.037532</td>\n",
       "      <td>0.089275</td>\n",
       "      <td>0.037532</td>\n",
       "      <td>0.089275</td>\n",
       "    </tr>\n",
       "    <tr>\n",
       "      <th>decimal</th>\n",
       "      <td>0.036861</td>\n",
       "      <td>-0.006197</td>\n",
       "      <td>0.036861</td>\n",
       "      <td>0.006197</td>\n",
       "    </tr>\n",
       "    <tr>\n",
       "      <th>just</th>\n",
       "      <td>0.035827</td>\n",
       "      <td>0.221222</td>\n",
       "      <td>0.035827</td>\n",
       "      <td>0.221222</td>\n",
       "    </tr>\n",
       "    <tr>\n",
       "      <th>time</th>\n",
       "      <td>0.035490</td>\n",
       "      <td>0.065680</td>\n",
       "      <td>0.035490</td>\n",
       "      <td>0.065680</td>\n",
       "    </tr>\n",
       "    <tr>\n",
       "      <th>rs</th>\n",
       "      <td>0.034236</td>\n",
       "      <td>-0.008144</td>\n",
       "      <td>0.034236</td>\n",
       "      <td>0.008144</td>\n",
       "    </tr>\n",
       "  </tbody>\n",
       "</table>\n",
       "</div>"
      ],
      "text/plain": [
       "          Topic-1   Topic-2  Abs-Topic-1  Abs-Topic-2\n",
       "gt       0.687896 -0.109659     0.687896     0.109659\n",
       "lt       0.684977 -0.112748     0.684977     0.112748\n",
       "happy    0.079935  0.044680     0.079935     0.044680\n",
       "good     0.060668  0.098238     0.060668     0.098238\n",
       "ur       0.058282  0.603945     0.058282     0.603945\n",
       "day      0.050301  0.117940     0.050301     0.117940\n",
       "make     0.045083  0.028229     0.045083     0.028229\n",
       "like     0.040805  0.072523     0.040805     0.072523\n",
       "need     0.040496  0.053423     0.040496     0.053423\n",
       "ll       0.039025  0.073699     0.039025     0.073699\n",
       "know     0.037532  0.089275     0.037532     0.089275\n",
       "decimal  0.036861 -0.006197     0.036861     0.006197\n",
       "just     0.035827  0.221222     0.035827     0.221222\n",
       "time     0.035490  0.065680     0.035490     0.065680\n",
       "rs       0.034236 -0.008144     0.034236     0.008144"
      ]
     },
     "execution_count": 61,
     "metadata": {},
     "output_type": "execute_result"
    }
   ],
   "source": [
    "encoding_matix.sort_values(by='Abs-Topic-1',  ascending=False).head(15)"
   ]
  },
  {
   "attachments": {},
   "cell_type": "markdown",
   "metadata": {},
   "source": [
    "* We can see that the words `\"free\" , \"mobile\" , \"text\" , \"tone\" etc...` are important for topic - 2"
   ]
  },
  {
   "cell_type": "code",
   "execution_count": 62,
   "metadata": {},
   "outputs": [
    {
     "data": {
      "text/html": [
       "<div>\n",
       "<style scoped>\n",
       "    .dataframe tbody tr th:only-of-type {\n",
       "        vertical-align: middle;\n",
       "    }\n",
       "\n",
       "    .dataframe tbody tr th {\n",
       "        vertical-align: top;\n",
       "    }\n",
       "\n",
       "    .dataframe thead th {\n",
       "        text-align: right;\n",
       "    }\n",
       "</style>\n",
       "<table border=\"1\" class=\"dataframe\">\n",
       "  <thead>\n",
       "    <tr style=\"text-align: right;\">\n",
       "      <th></th>\n",
       "      <th>Topic-1</th>\n",
       "      <th>Topic-2</th>\n",
       "      <th>Abs-Topic-1</th>\n",
       "      <th>Abs-Topic-2</th>\n",
       "    </tr>\n",
       "  </thead>\n",
       "  <tbody>\n",
       "    <tr>\n",
       "      <th>ur</th>\n",
       "      <td>0.058282</td>\n",
       "      <td>0.603945</td>\n",
       "      <td>0.058282</td>\n",
       "      <td>0.603945</td>\n",
       "    </tr>\n",
       "    <tr>\n",
       "      <th>free</th>\n",
       "      <td>0.031773</td>\n",
       "      <td>0.314106</td>\n",
       "      <td>0.031773</td>\n",
       "      <td>0.314106</td>\n",
       "    </tr>\n",
       "    <tr>\n",
       "      <th>just</th>\n",
       "      <td>0.035827</td>\n",
       "      <td>0.221222</td>\n",
       "      <td>0.035827</td>\n",
       "      <td>0.221222</td>\n",
       "    </tr>\n",
       "    <tr>\n",
       "      <th>txt</th>\n",
       "      <td>0.012252</td>\n",
       "      <td>0.194906</td>\n",
       "      <td>0.012252</td>\n",
       "      <td>0.194906</td>\n",
       "    </tr>\n",
       "    <tr>\n",
       "      <th>text</th>\n",
       "      <td>0.014697</td>\n",
       "      <td>0.132116</td>\n",
       "      <td>0.014697</td>\n",
       "      <td>0.132116</td>\n",
       "    </tr>\n",
       "    <tr>\n",
       "      <th>mobile</th>\n",
       "      <td>0.015737</td>\n",
       "      <td>0.123214</td>\n",
       "      <td>0.015737</td>\n",
       "      <td>0.123214</td>\n",
       "    </tr>\n",
       "    <tr>\n",
       "      <th>tone</th>\n",
       "      <td>0.006959</td>\n",
       "      <td>0.122659</td>\n",
       "      <td>0.006959</td>\n",
       "      <td>0.122659</td>\n",
       "    </tr>\n",
       "    <tr>\n",
       "      <th>reply</th>\n",
       "      <td>0.021212</td>\n",
       "      <td>0.120258</td>\n",
       "      <td>0.021212</td>\n",
       "      <td>0.120258</td>\n",
       "    </tr>\n",
       "    <tr>\n",
       "      <th>week</th>\n",
       "      <td>0.013860</td>\n",
       "      <td>0.119307</td>\n",
       "      <td>0.013860</td>\n",
       "      <td>0.119307</td>\n",
       "    </tr>\n",
       "    <tr>\n",
       "      <th>send</th>\n",
       "      <td>0.031439</td>\n",
       "      <td>0.118278</td>\n",
       "      <td>0.031439</td>\n",
       "      <td>0.118278</td>\n",
       "    </tr>\n",
       "    <tr>\n",
       "      <th>day</th>\n",
       "      <td>0.050301</td>\n",
       "      <td>0.117940</td>\n",
       "      <td>0.050301</td>\n",
       "      <td>0.117940</td>\n",
       "    </tr>\n",
       "    <tr>\n",
       "      <th>stop</th>\n",
       "      <td>0.011423</td>\n",
       "      <td>0.114896</td>\n",
       "      <td>0.011423</td>\n",
       "      <td>0.114896</td>\n",
       "    </tr>\n",
       "    <tr>\n",
       "      <th>lt</th>\n",
       "      <td>0.684977</td>\n",
       "      <td>-0.112748</td>\n",
       "      <td>0.684977</td>\n",
       "      <td>0.112748</td>\n",
       "    </tr>\n",
       "    <tr>\n",
       "      <th>gt</th>\n",
       "      <td>0.687896</td>\n",
       "      <td>-0.109659</td>\n",
       "      <td>0.687896</td>\n",
       "      <td>0.109659</td>\n",
       "    </tr>\n",
       "    <tr>\n",
       "      <th>love</th>\n",
       "      <td>0.023755</td>\n",
       "      <td>0.106963</td>\n",
       "      <td>0.023755</td>\n",
       "      <td>0.106963</td>\n",
       "    </tr>\n",
       "  </tbody>\n",
       "</table>\n",
       "</div>"
      ],
      "text/plain": [
       "         Topic-1   Topic-2  Abs-Topic-1  Abs-Topic-2\n",
       "ur      0.058282  0.603945     0.058282     0.603945\n",
       "free    0.031773  0.314106     0.031773     0.314106\n",
       "just    0.035827  0.221222     0.035827     0.221222\n",
       "txt     0.012252  0.194906     0.012252     0.194906\n",
       "text    0.014697  0.132116     0.014697     0.132116\n",
       "mobile  0.015737  0.123214     0.015737     0.123214\n",
       "tone    0.006959  0.122659     0.006959     0.122659\n",
       "reply   0.021212  0.120258     0.021212     0.120258\n",
       "week    0.013860  0.119307     0.013860     0.119307\n",
       "send    0.031439  0.118278     0.031439     0.118278\n",
       "day     0.050301  0.117940     0.050301     0.117940\n",
       "stop    0.011423  0.114896     0.011423     0.114896\n",
       "lt      0.684977 -0.112748     0.684977     0.112748\n",
       "gt      0.687896 -0.109659     0.687896     0.109659\n",
       "love    0.023755  0.106963     0.023755     0.106963"
      ]
     },
     "execution_count": 62,
     "metadata": {},
     "output_type": "execute_result"
    }
   ],
   "source": [
    "encoding_matix.sort_values(by='Abs-Topic-2',  ascending=False).head(15)"
   ]
  },
  {
   "attachments": {},
   "cell_type": "markdown",
   "metadata": {},
   "source": [
    "## Word cloud : spam text"
   ]
  },
  {
   "cell_type": "code",
   "execution_count": 93,
   "metadata": {},
   "outputs": [],
   "source": [
    "def display_wordcloud_spam_text():\n",
    "    stopwords = set(STOPWORDS)\n",
    "    comment_words = ''\n",
    "\n",
    "    for msg in df.query(\"label=='spam'\")['message']:\n",
    "        # create word tokens\n",
    "        tokens = msg.lower().split()\n",
    "        # Join\n",
    "        comment_words += ' '.join(tokens)+' '\n",
    "\n",
    "\n",
    "    wordcloud = WordCloud(width = 800, height = 800,\n",
    "                    background_color ='white',\n",
    "                    stopwords = stopwords,\n",
    "                    min_font_size = 10).generate(comment_words)\n",
    "\n",
    "\n",
    "    # plot the WordCloud image                      \n",
    "    plt.figure(figsize = (8, 8), facecolor = None)\n",
    "    plt.imshow(wordcloud)\n",
    "    plt.axis(\"off\")\n",
    "    plt.tight_layout(pad = 0)\n",
    "    \n",
    "    plt.show()"
   ]
  },
  {
   "cell_type": "code",
   "execution_count": 195,
   "metadata": {},
   "outputs": [],
   "source": [
    "display_wordcloud_spam_text()"
   ]
  },
  {
   "attachments": {},
   "cell_type": "markdown",
   "metadata": {},
   "source": [
    "<img src='./plots/word-cloud-spam-text.png'>"
   ]
  },
  {
   "attachments": {},
   "cell_type": "markdown",
   "metadata": {},
   "source": [
    "### Lets visualize the embedding"
   ]
  },
  {
   "cell_type": "code",
   "execution_count": 120,
   "metadata": {},
   "outputs": [],
   "source": [
    "temp = df.query('label==\"ham\"')\n",
    "plt.scatter(temp['Topic-1'], temp['Topic-2'], c='seagreen', label='HAM', alpha=0.5)\n",
    "\n",
    "temp = df.query('label==\"spam\"')\n",
    "plt.scatter(temp['Topic-1'], temp['Topic-2'], c='salmon', label='SPAM', alpha=0.5)\n",
    "\n",
    "plt.xlabel('Topic - 2')\n",
    "plt.ylabel('Topic - 1')\n",
    "plt.legend()"
   ]
  },
  {
   "attachments": {},
   "cell_type": "markdown",
   "metadata": {},
   "source": [
    "<img src='./plots/Ham-vs-Spam.png'>"
   ]
  },
  {
   "attachments": {},
   "cell_type": "markdown",
   "metadata": {},
   "source": [
    "## Can we do better ?\n",
    "* Topic - 2 represent messages that are not spam\n",
    "* `Topic-1` along with Topic-2 can be used to represent whether that document was about \"Ham\" or \"Spam\"\n",
    "* can we can improve this with TF-IDF "
   ]
  },
  {
   "attachments": {},
   "cell_type": "markdown",
   "metadata": {},
   "source": [
    "## TF - IDF\n",
    "* CountVectorizer computes the term frequency\n",
    "* TF-IDF weight the term frequency by inverse document frequency\n",
    "* TF-IDF penalize the term frequency if it shows up in many documents\n",
    "* If a word keeps appearing in most of the documents, it doesn't carry any special information\n",
    "* Inverse Document Frequency is a numerical measurement of how much information a term provides\n",
    "* TF-IDF helps to reflect the importance of the term in the document.\n",
    "\n",
    "\n",
    "### Generate Document Term Matric Using TF-IDF\n"
   ]
  },
  {
   "cell_type": "code",
   "execution_count": 125,
   "metadata": {},
   "outputs": [],
   "source": [
    "df = df[['message','label']]"
   ]
  },
  {
   "cell_type": "code",
   "execution_count": 126,
   "metadata": {},
   "outputs": [
    {
     "name": "stdout",
     "output_type": "stream",
     "text": [
      "Shape of df  (5572, 2)\n",
      "Shape of word-vector  (5572, 1603)\n"
     ]
    }
   ],
   "source": [
    "tf_idf = TfidfVectorizer(stop_words='english', min_df=5,  max_df=0.95)\n",
    "dtm = tf_idf.fit_transform(df['message'])\n",
    "\n",
    "print('Shape of df ', df.shape)\n",
    "print('Shape of word-vector ',word_vectors.shape)"
   ]
  },
  {
   "attachments": {},
   "cell_type": "markdown",
   "metadata": {},
   "source": [
    "### Singular Value Decomposition"
   ]
  },
  {
   "cell_type": "code",
   "execution_count": 131,
   "metadata": {},
   "outputs": [
    {
     "data": {
      "text/html": [
       "<div>\n",
       "<style scoped>\n",
       "    .dataframe tbody tr th:only-of-type {\n",
       "        vertical-align: middle;\n",
       "    }\n",
       "\n",
       "    .dataframe tbody tr th {\n",
       "        vertical-align: top;\n",
       "    }\n",
       "\n",
       "    .dataframe thead th {\n",
       "        text-align: right;\n",
       "    }\n",
       "</style>\n",
       "<table border=\"1\" class=\"dataframe\">\n",
       "  <thead>\n",
       "    <tr style=\"text-align: right;\">\n",
       "      <th></th>\n",
       "      <th>message</th>\n",
       "      <th>label</th>\n",
       "      <th>Topic-1</th>\n",
       "      <th>Topic-2</th>\n",
       "    </tr>\n",
       "  </thead>\n",
       "  <tbody>\n",
       "    <tr>\n",
       "      <th>0</th>\n",
       "      <td>Go until jurong point, crazy.. Available only ...</td>\n",
       "      <td>ham</td>\n",
       "      <td>0.056811</td>\n",
       "      <td>-0.012617</td>\n",
       "    </tr>\n",
       "    <tr>\n",
       "      <th>1</th>\n",
       "      <td>Ok lar... Joking wif u oni...</td>\n",
       "      <td>ham</td>\n",
       "      <td>0.186475</td>\n",
       "      <td>0.257513</td>\n",
       "    </tr>\n",
       "    <tr>\n",
       "      <th>2</th>\n",
       "      <td>Free entry in 2 a wkly comp to win FA Cup fina...</td>\n",
       "      <td>spam</td>\n",
       "      <td>0.043811</td>\n",
       "      <td>-0.017073</td>\n",
       "    </tr>\n",
       "    <tr>\n",
       "      <th>3</th>\n",
       "      <td>U dun say so early hor... U c already then say...</td>\n",
       "      <td>ham</td>\n",
       "      <td>0.045728</td>\n",
       "      <td>-0.000204</td>\n",
       "    </tr>\n",
       "    <tr>\n",
       "      <th>4</th>\n",
       "      <td>Nah I don't think he goes to usf, he lives aro...</td>\n",
       "      <td>ham</td>\n",
       "      <td>0.052388</td>\n",
       "      <td>-0.018954</td>\n",
       "    </tr>\n",
       "  </tbody>\n",
       "</table>\n",
       "</div>"
      ],
      "text/plain": [
       "                                             message label   Topic-1   Topic-2\n",
       "0  Go until jurong point, crazy.. Available only ...   ham  0.056811 -0.012617\n",
       "1                      Ok lar... Joking wif u oni...   ham  0.186475  0.257513\n",
       "2  Free entry in 2 a wkly comp to win FA Cup fina...  spam  0.043811 -0.017073\n",
       "3  U dun say so early hor... U c already then say...   ham  0.045728 -0.000204\n",
       "4  Nah I don't think he goes to usf, he lives aro...   ham  0.052388 -0.018954"
      ]
     },
     "execution_count": 131,
     "metadata": {},
     "output_type": "execute_result"
    }
   ],
   "source": [
    "svd = TruncatedSVD(n_components=2)\n",
    "transformed = svd.fit_transform(dtm)\n",
    "\n",
    "df['Topic-1'] = transformed[:, 0]\n",
    "df['Topic-2'] = transformed[:, 1]\n",
    "\n",
    "df.head()"
   ]
  },
  {
   "cell_type": "code",
   "execution_count": 132,
   "metadata": {},
   "outputs": [
    {
     "data": {
      "text/html": [
       "<div>\n",
       "<style scoped>\n",
       "    .dataframe tbody tr th:only-of-type {\n",
       "        vertical-align: middle;\n",
       "    }\n",
       "\n",
       "    .dataframe tbody tr th {\n",
       "        vertical-align: top;\n",
       "    }\n",
       "\n",
       "    .dataframe thead th {\n",
       "        text-align: right;\n",
       "    }\n",
       "</style>\n",
       "<table border=\"1\" class=\"dataframe\">\n",
       "  <thead>\n",
       "    <tr style=\"text-align: right;\">\n",
       "      <th></th>\n",
       "      <th>message</th>\n",
       "      <th>label</th>\n",
       "      <th>Topic-1</th>\n",
       "      <th>Topic-2</th>\n",
       "    </tr>\n",
       "  </thead>\n",
       "  <tbody>\n",
       "    <tr>\n",
       "      <th>2</th>\n",
       "      <td>Free entry in 2 a wkly comp to win FA Cup fina...</td>\n",
       "      <td>spam</td>\n",
       "      <td>0.043811</td>\n",
       "      <td>-0.017073</td>\n",
       "    </tr>\n",
       "    <tr>\n",
       "      <th>5</th>\n",
       "      <td>FreeMsg Hey there darling it's been 3 week's n...</td>\n",
       "      <td>spam</td>\n",
       "      <td>0.184703</td>\n",
       "      <td>0.128517</td>\n",
       "    </tr>\n",
       "    <tr>\n",
       "      <th>8</th>\n",
       "      <td>WINNER!! As a valued network customer you have...</td>\n",
       "      <td>spam</td>\n",
       "      <td>0.019244</td>\n",
       "      <td>-0.008738</td>\n",
       "    </tr>\n",
       "    <tr>\n",
       "      <th>9</th>\n",
       "      <td>Had your mobile 11 months or more? U R entitle...</td>\n",
       "      <td>spam</td>\n",
       "      <td>0.040855</td>\n",
       "      <td>-0.015496</td>\n",
       "    </tr>\n",
       "    <tr>\n",
       "      <th>11</th>\n",
       "      <td>SIX chances to win CASH! From 100 to 20,000 po...</td>\n",
       "      <td>spam</td>\n",
       "      <td>0.065790</td>\n",
       "      <td>-0.024949</td>\n",
       "    </tr>\n",
       "  </tbody>\n",
       "</table>\n",
       "</div>"
      ],
      "text/plain": [
       "                                              message label   Topic-1  \\\n",
       "2   Free entry in 2 a wkly comp to win FA Cup fina...  spam  0.043811   \n",
       "5   FreeMsg Hey there darling it's been 3 week's n...  spam  0.184703   \n",
       "8   WINNER!! As a valued network customer you have...  spam  0.019244   \n",
       "9   Had your mobile 11 months or more? U R entitle...  spam  0.040855   \n",
       "11  SIX chances to win CASH! From 100 to 20,000 po...  spam  0.065790   \n",
       "\n",
       "     Topic-2  \n",
       "2  -0.017073  \n",
       "5   0.128517  \n",
       "8  -0.008738  \n",
       "9  -0.015496  \n",
       "11 -0.024949  "
      ]
     },
     "execution_count": 132,
     "metadata": {},
     "output_type": "execute_result"
    }
   ],
   "source": [
    "df.query('label==\"spam\"').head()"
   ]
  },
  {
   "attachments": {},
   "cell_type": "markdown",
   "metadata": {},
   "source": [
    "### Encoding matrix"
   ]
  },
  {
   "cell_type": "code",
   "execution_count": 148,
   "metadata": {},
   "outputs": [],
   "source": [
    "encoding_matix = pd.DataFrame(data=svd.components_, index=['Topic-1', 'Topic-2'], \n",
    "columns=tf_idf.get_feature_names_out()).T\n",
    "\n",
    "encoding_matix['Abs-Topic-1'] = np.abs(encoding_matix['Topic-1'])\n",
    "encoding_matix['Abs-Topic-2'] = np.abs(encoding_matix['Topic-2'])"
   ]
  },
  {
   "attachments": {},
   "cell_type": "markdown",
   "metadata": {},
   "source": [
    "### Interpretation of Encoding"
   ]
  },
  {
   "cell_type": "code",
   "execution_count": 191,
   "metadata": {},
   "outputs": [
    {
     "data": {
      "text/html": [
       "<div>\n",
       "<style scoped>\n",
       "    .dataframe tbody tr th:only-of-type {\n",
       "        vertical-align: middle;\n",
       "    }\n",
       "\n",
       "    .dataframe tbody tr th {\n",
       "        vertical-align: top;\n",
       "    }\n",
       "\n",
       "    .dataframe thead th {\n",
       "        text-align: right;\n",
       "    }\n",
       "</style>\n",
       "<table border=\"1\" class=\"dataframe\">\n",
       "  <thead>\n",
       "    <tr style=\"text-align: right;\">\n",
       "      <th></th>\n",
       "      <th>Topic-1</th>\n",
       "      <th>Topic-2</th>\n",
       "      <th>Abs-Topic-1</th>\n",
       "      <th>Abs-Topic-2</th>\n",
       "    </tr>\n",
       "  </thead>\n",
       "  <tbody>\n",
       "    <tr>\n",
       "      <th>callers</th>\n",
       "      <td>0.000198</td>\n",
       "      <td>-0.000154</td>\n",
       "      <td>0.000198</td>\n",
       "      <td>0.000154</td>\n",
       "    </tr>\n",
       "    <tr>\n",
       "      <th>quoting</th>\n",
       "      <td>0.000213</td>\n",
       "      <td>-0.000008</td>\n",
       "      <td>0.000213</td>\n",
       "      <td>0.000008</td>\n",
       "    </tr>\n",
       "    <tr>\n",
       "      <th>voda</th>\n",
       "      <td>0.000213</td>\n",
       "      <td>-0.000008</td>\n",
       "      <td>0.000213</td>\n",
       "      <td>0.000008</td>\n",
       "    </tr>\n",
       "    <tr>\n",
       "      <th>pobox334</th>\n",
       "      <td>0.000284</td>\n",
       "      <td>-0.000142</td>\n",
       "      <td>0.000284</td>\n",
       "      <td>0.000142</td>\n",
       "    </tr>\n",
       "    <tr>\n",
       "      <th>max10mins</th>\n",
       "      <td>0.000284</td>\n",
       "      <td>-0.000142</td>\n",
       "      <td>0.000284</td>\n",
       "      <td>0.000142</td>\n",
       "    </tr>\n",
       "  </tbody>\n",
       "</table>\n",
       "</div>"
      ],
      "text/plain": [
       "            Topic-1   Topic-2  Abs-Topic-1  Abs-Topic-2\n",
       "callers    0.000198 -0.000154     0.000198     0.000154\n",
       "quoting    0.000213 -0.000008     0.000213     0.000008\n",
       "voda       0.000213 -0.000008     0.000213     0.000008\n",
       "pobox334   0.000284 -0.000142     0.000284     0.000142\n",
       "max10mins  0.000284 -0.000142     0.000284     0.000142"
      ]
     },
     "execution_count": 191,
     "metadata": {},
     "output_type": "execute_result"
    }
   ],
   "source": [
    "# sorted ascending\n",
    "encoding_matix.sort_values(by='Abs-Topic-1').head(5)"
   ]
  },
  {
   "attachments": {},
   "cell_type": "markdown",
   "metadata": {},
   "source": [
    "* For spam messages the abs(encoding) tends to be very small\n",
    "* For Topic-1 the important words are { \"callers\" \"quoting\", \"max10mins\", ...} they seems to be very much present in spam messages "
   ]
  },
  {
   "cell_type": "code",
   "execution_count": 190,
   "metadata": {},
   "outputs": [
    {
     "data": {
      "text/html": [
       "<div>\n",
       "<style scoped>\n",
       "    .dataframe tbody tr th:only-of-type {\n",
       "        vertical-align: middle;\n",
       "    }\n",
       "\n",
       "    .dataframe tbody tr th {\n",
       "        vertical-align: top;\n",
       "    }\n",
       "\n",
       "    .dataframe thead th {\n",
       "        text-align: right;\n",
       "    }\n",
       "</style>\n",
       "<table border=\"1\" class=\"dataframe\">\n",
       "  <thead>\n",
       "    <tr style=\"text-align: right;\">\n",
       "      <th></th>\n",
       "      <th>Topic-1</th>\n",
       "      <th>Topic-2</th>\n",
       "      <th>Abs-Topic-1</th>\n",
       "      <th>Abs-Topic-2</th>\n",
       "    </tr>\n",
       "  </thead>\n",
       "  <tbody>\n",
       "    <tr>\n",
       "      <th>3rd</th>\n",
       "      <td>0.001595</td>\n",
       "      <td>-0.000003</td>\n",
       "      <td>0.001595</td>\n",
       "      <td>0.000003</td>\n",
       "    </tr>\n",
       "    <tr>\n",
       "      <th>yogasana</th>\n",
       "      <td>0.001392</td>\n",
       "      <td>0.000006</td>\n",
       "      <td>0.001392</td>\n",
       "      <td>0.000006</td>\n",
       "    </tr>\n",
       "    <tr>\n",
       "      <th>std</th>\n",
       "      <td>0.002618</td>\n",
       "      <td>-0.000007</td>\n",
       "      <td>0.002618</td>\n",
       "      <td>0.000007</td>\n",
       "    </tr>\n",
       "    <tr>\n",
       "      <th>voda</th>\n",
       "      <td>0.000213</td>\n",
       "      <td>-0.000008</td>\n",
       "      <td>0.000213</td>\n",
       "      <td>0.000008</td>\n",
       "    </tr>\n",
       "    <tr>\n",
       "      <th>quoting</th>\n",
       "      <td>0.000213</td>\n",
       "      <td>-0.000008</td>\n",
       "      <td>0.000213</td>\n",
       "      <td>0.000008</td>\n",
       "    </tr>\n",
       "  </tbody>\n",
       "</table>\n",
       "</div>"
      ],
      "text/plain": [
       "           Topic-1   Topic-2  Abs-Topic-1  Abs-Topic-2\n",
       "3rd       0.001595 -0.000003     0.001595     0.000003\n",
       "yogasana  0.001392  0.000006     0.001392     0.000006\n",
       "std       0.002618 -0.000007     0.002618     0.000007\n",
       "voda      0.000213 -0.000008     0.000213     0.000008\n",
       "quoting   0.000213 -0.000008     0.000213     0.000008"
      ]
     },
     "execution_count": 190,
     "metadata": {},
     "output_type": "execute_result"
    }
   ],
   "source": [
    "# sorted ascending\n",
    "encoding_matix.sort_values(by='Abs-Topic-2').head(5)"
   ]
  },
  {
   "attachments": {},
   "cell_type": "markdown",
   "metadata": {},
   "source": [
    "## Word cloud : spam text"
   ]
  },
  {
   "cell_type": "code",
   "execution_count": 184,
   "metadata": {},
   "outputs": [],
   "source": [
    "display_wordcloud_spam_text()"
   ]
  },
  {
   "attachments": {},
   "cell_type": "markdown",
   "metadata": {},
   "source": [
    "<img src='./plots/word-cloud-spam-text.png'>"
   ]
  },
  {
   "attachments": {},
   "cell_type": "markdown",
   "metadata": {},
   "source": [
    "## Plot the encoding"
   ]
  },
  {
   "cell_type": "code",
   "execution_count": 196,
   "metadata": {},
   "outputs": [],
   "source": [
    "plt.figure(figsize=(15,6))\n",
    "temp = df.query('label==\"ham\"')\n",
    "plt.scatter(temp['Topic-1'], temp['Topic-2'], c='seagreen', label='HAM', alpha=0.5)\n",
    "\n",
    "temp = df.query('label==\"spam\"')\n",
    "plt.scatter(temp['Topic-1'], temp['Topic-2'], c='salmon', label='SPAM', alpha=0.5)\n",
    "\n",
    "plt.xlabel('Topic - 2')\n",
    "plt.ylabel('Topic - 1')\n",
    "plt.legend()"
   ]
  },
  {
   "attachments": {},
   "cell_type": "markdown",
   "metadata": {},
   "source": [
    "<img src='./plots/Ham-vs-Spam-tfidf.png'>"
   ]
  },
  {
   "cell_type": "code",
   "execution_count": 198,
   "metadata": {},
   "outputs": [],
   "source": [
    "plt.figure(figsize=(15,6))\n",
    "plt.subplot(121)\n",
    "temp = df.query('label==\"ham\"')\n",
    "plt.scatter(temp['Topic-1'], temp['Topic-2'], c='seagreen', label='HAM', alpha=0.5)\n",
    "plt.subplot(122)\n",
    "temp = df.query('label==\"spam\"')\n",
    "plt.scatter(temp['Topic-1'], temp['Topic-2'], c='salmon', label='SPAM', alpha=0.5)"
   ]
  },
  {
   "attachments": {},
   "cell_type": "markdown",
   "metadata": {},
   "source": [
    "<img src='./plots/Ham-vs-Spam-tfidf-seperate-plots.png'>"
   ]
  },
  {
   "attachments": {},
   "cell_type": "markdown",
   "metadata": {},
   "source": [
    "## Text preprocessing "
   ]
  },
  {
   "cell_type": "code",
   "execution_count": 69,
   "metadata": {},
   "outputs": [
    {
     "data": {
      "text/html": [
       "<div>\n",
       "<style scoped>\n",
       "    .dataframe tbody tr th:only-of-type {\n",
       "        vertical-align: middle;\n",
       "    }\n",
       "\n",
       "    .dataframe tbody tr th {\n",
       "        vertical-align: top;\n",
       "    }\n",
       "\n",
       "    .dataframe thead th {\n",
       "        text-align: right;\n",
       "    }\n",
       "</style>\n",
       "<table border=\"1\" class=\"dataframe\">\n",
       "  <thead>\n",
       "    <tr style=\"text-align: right;\">\n",
       "      <th></th>\n",
       "      <th>label</th>\n",
       "      <th>message</th>\n",
       "    </tr>\n",
       "  </thead>\n",
       "  <tbody>\n",
       "    <tr>\n",
       "      <th>926</th>\n",
       "      <td>ham</td>\n",
       "      <td>K, wait chikku..il send aftr  &amp;lt;#&amp;gt; mins</td>\n",
       "    </tr>\n",
       "    <tr>\n",
       "      <th>2649</th>\n",
       "      <td>ham</td>\n",
       "      <td>Hi, can i please get a  &amp;lt;#&amp;gt;  dollar loan...</td>\n",
       "    </tr>\n",
       "    <tr>\n",
       "      <th>4944</th>\n",
       "      <td>ham</td>\n",
       "      <td>Check mail.i have mailed varma and kept copy t...</td>\n",
       "    </tr>\n",
       "    <tr>\n",
       "      <th>4663</th>\n",
       "      <td>ham</td>\n",
       "      <td>Ladies first and genus second k .</td>\n",
       "    </tr>\n",
       "    <tr>\n",
       "      <th>2897</th>\n",
       "      <td>spam</td>\n",
       "      <td>pdate_Now - Double mins and 1000 txts on Orang...</td>\n",
       "    </tr>\n",
       "    <tr>\n",
       "      <th>1027</th>\n",
       "      <td>ham</td>\n",
       "      <td>Yes da. Any plm at ur office</td>\n",
       "    </tr>\n",
       "    <tr>\n",
       "      <th>4584</th>\n",
       "      <td>spam</td>\n",
       "      <td>For ur chance to win a £250 wkly shopping spre...</td>\n",
       "    </tr>\n",
       "    <tr>\n",
       "      <th>208</th>\n",
       "      <td>ham</td>\n",
       "      <td>Aight yo, dats straight dogg</td>\n",
       "    </tr>\n",
       "    <tr>\n",
       "      <th>3780</th>\n",
       "      <td>spam</td>\n",
       "      <td>Claim a 200 shopping spree, just call 08717895...</td>\n",
       "    </tr>\n",
       "    <tr>\n",
       "      <th>2406</th>\n",
       "      <td>ham</td>\n",
       "      <td>I'm meeting Darren...</td>\n",
       "    </tr>\n",
       "  </tbody>\n",
       "</table>\n",
       "</div>"
      ],
      "text/plain": [
       "     label                                            message\n",
       "926    ham       K, wait chikku..il send aftr  &lt;#&gt; mins\n",
       "2649   ham  Hi, can i please get a  &lt;#&gt;  dollar loan...\n",
       "4944   ham  Check mail.i have mailed varma and kept copy t...\n",
       "4663   ham                  Ladies first and genus second k .\n",
       "2897  spam  pdate_Now - Double mins and 1000 txts on Orang...\n",
       "1027   ham                       Yes da. Any plm at ur office\n",
       "4584  spam  For ur chance to win a £250 wkly shopping spre...\n",
       "208    ham                       Aight yo, dats straight dogg\n",
       "3780  spam  Claim a 200 shopping spree, just call 08717895...\n",
       "2406   ham                              I'm meeting Darren..."
      ]
     },
     "execution_count": 69,
     "metadata": {},
     "output_type": "execute_result"
    }
   ],
   "source": [
    "sample = df.sample(n=10)\n",
    "sample.head(10)"
   ]
  },
  {
   "attachments": {},
   "cell_type": "markdown",
   "metadata": {},
   "source": [
    "## Stemming\n",
    "Stemming is the process of reducing a word to its word stem that affixes to suffixes and prefixes or to the roots of words known as a lemma. Stemming is important in natural language understanding (NLU) and natural language processing (NLP).\n",
    "\n",
    "Both sentence convey the same meaning \n",
    "* Ex 1: \" I was taking a ride in the car \"\n",
    "* Ex 2: \" I was riding in the car\"\n",
    "\n",
    "Word tokenizer will keep both --- ride , riding --\n",
    "\n"
   ]
  },
  {
   "cell_type": "code",
   "execution_count": 56,
   "metadata": {},
   "outputs": [
    {
     "name": "stdout",
     "output_type": "stream",
     "text": [
      "ride --- ride --- ride --- Stemming reduce the word to its word stem\n"
     ]
    }
   ],
   "source": [
    "stemmer = PorterStemmer()\n",
    "words = ['ride', 'riding', 'rides']\n",
    "for w in words:\n",
    "    print(stemmer.stem(w), '---', end=' ')\n",
    "print('Stemming reduce the word to its word stem')"
   ]
  },
  {
   "attachments": {},
   "cell_type": "markdown",
   "metadata": {},
   "source": [
    "## Lemmatization\n",
    "Lemmatization is the process of grouping together the different inflected forms of a word so they can be analyzed as a single item. Lemmatization is similar to stemming but it brings context to the words. So it links words with similar meanings to one word.\n",
    "\n",
    "Examples of lemmatization:\n",
    "\n",
    "* rocks : rock\n",
    "* corpora : corpus\n",
    "* better : good\n",
    "\n",
    "\n",
    "#### One major difference with stemming is that lemmatize takes a part of speech parameter, “pos” If not supplied, the default is “noun.”\n",
    "* param `pos`: The Part Of Speech tag.\n",
    "    *  Valid options are \n",
    "        * \"n\" for nouns\n",
    "        *  \"v\" for verbs\n",
    "        * \"a\" for adjectives\n",
    "        * \"r\" for adverbs \n",
    "        * \"s\" for satellite adjectives.\n",
    "\n",
    "**lemmatization is preferred over Stemming because lemmatization does morphological analysis of the words.**"
   ]
  },
  {
   "cell_type": "code",
   "execution_count": 46,
   "metadata": {},
   "outputs": [
    {
     "name": "stdout",
     "output_type": "stream",
     "text": [
      "word : dogs, lemmatization : dog\n",
      "word : cats, lemmatization : cat\n",
      "word : animals, lemmatization : animal\n"
     ]
    }
   ],
   "source": [
    "from nltk.stem import WordNetLemmatizer\n",
    "\n",
    "lemmatizer = WordNetLemmatizer()\n",
    "\n",
    "for w in ['dogs', 'cats', 'animals']:\n",
    "    print(f'word : {w}, lemmatization :',lemmatizer.lemmatize(w))"
   ]
  },
  {
   "cell_type": "code",
   "execution_count": 48,
   "metadata": {},
   "outputs": [
    {
     "name": "stdout",
     "output_type": "stream",
     "text": [
      "well\n"
     ]
    }
   ],
   "source": [
    "# adverbs\n",
    "print(lemmatizer.lemmatize('better', pos='r'))"
   ]
  },
  {
   "cell_type": "code",
   "execution_count": 49,
   "metadata": {},
   "outputs": [
    {
     "name": "stdout",
     "output_type": "stream",
     "text": [
      "good\n"
     ]
    }
   ],
   "source": [
    "# adjective\n",
    "print(lemmatizer.lemmatize('better', pos='a'))"
   ]
  },
  {
   "attachments": {},
   "cell_type": "markdown",
   "metadata": {},
   "source": [
    "### Lets preprocess the text messages"
   ]
  },
  {
   "cell_type": "code",
   "execution_count": 70,
   "metadata": {},
   "outputs": [
    {
     "data": {
      "text/html": [
       "<div>\n",
       "<style scoped>\n",
       "    .dataframe tbody tr th:only-of-type {\n",
       "        vertical-align: middle;\n",
       "    }\n",
       "\n",
       "    .dataframe tbody tr th {\n",
       "        vertical-align: top;\n",
       "    }\n",
       "\n",
       "    .dataframe thead th {\n",
       "        text-align: right;\n",
       "    }\n",
       "</style>\n",
       "<table border=\"1\" class=\"dataframe\">\n",
       "  <thead>\n",
       "    <tr style=\"text-align: right;\">\n",
       "      <th></th>\n",
       "      <th>message</th>\n",
       "      <th>lemmatized</th>\n",
       "      <th>stem</th>\n",
       "    </tr>\n",
       "  </thead>\n",
       "  <tbody>\n",
       "    <tr>\n",
       "      <th>926</th>\n",
       "      <td>K, wait chikku..il send aftr  &amp;lt;#&amp;gt; mins</td>\n",
       "      <td>k, wait chikku..il send aftr &amp;lt;#&amp;gt; min</td>\n",
       "      <td>k, wait chikku..il send aftr &amp;lt;#&amp;gt; min</td>\n",
       "    </tr>\n",
       "    <tr>\n",
       "      <th>2649</th>\n",
       "      <td>Hi, can i please get a  &amp;lt;#&amp;gt;  dollar loan...</td>\n",
       "      <td>hi, please get &amp;lt;#&amp;gt; dollar loan you. i.ll...</td>\n",
       "      <td>hi, pleas get &amp;lt;#&amp;gt; dollar loan you. i.ll ...</td>\n",
       "    </tr>\n",
       "    <tr>\n",
       "      <th>4944</th>\n",
       "      <td>Check mail.i have mailed varma and kept copy t...</td>\n",
       "      <td>check mail.i mailed varma kept copy regarding ...</td>\n",
       "      <td>check mail.i mail varma kept copi regard membe...</td>\n",
       "    </tr>\n",
       "    <tr>\n",
       "      <th>4663</th>\n",
       "      <td>Ladies first and genus second k .</td>\n",
       "      <td>lady first genus second k .</td>\n",
       "      <td>ladi first genu second k .</td>\n",
       "    </tr>\n",
       "    <tr>\n",
       "      <th>2897</th>\n",
       "      <td>pdate_Now - Double mins and 1000 txts on Orang...</td>\n",
       "      <td>pdate_now - double min txts orange tariffs. la...</td>\n",
       "      <td>pdate_now - doubl min txt orang tariffs. lates...</td>\n",
       "    </tr>\n",
       "    <tr>\n",
       "      <th>1027</th>\n",
       "      <td>Yes da. Any plm at ur office</td>\n",
       "      <td>yes da. plm ur office</td>\n",
       "      <td>ye da. plm ur offic</td>\n",
       "    </tr>\n",
       "    <tr>\n",
       "      <th>4584</th>\n",
       "      <td>For ur chance to win a £250 wkly shopping spre...</td>\n",
       "      <td>ur chance win £ wkly shopping spree txt: shop ...</td>\n",
       "      <td>ur chanc win £ wkli shop spree txt: shop . t's...</td>\n",
       "    </tr>\n",
       "    <tr>\n",
       "      <th>208</th>\n",
       "      <td>Aight yo, dats straight dogg</td>\n",
       "      <td>aight yo, dat straight dogg</td>\n",
       "      <td>aight yo, dat straight dogg</td>\n",
       "    </tr>\n",
       "    <tr>\n",
       "      <th>3780</th>\n",
       "      <td>Claim a 200 shopping spree, just call 08717895...</td>\n",
       "      <td>claim shopping spree, call now! won! mobstoreq...</td>\n",
       "      <td>claim shop spree, call now! won! mobstorequizppm</td>\n",
       "    </tr>\n",
       "    <tr>\n",
       "      <th>2406</th>\n",
       "      <td>I'm meeting Darren...</td>\n",
       "      <td>i'm meeting darren...</td>\n",
       "      <td>i'm meet darren...</td>\n",
       "    </tr>\n",
       "  </tbody>\n",
       "</table>\n",
       "</div>"
      ],
      "text/plain": [
       "                                                message  \\\n",
       "926        K, wait chikku..il send aftr  &lt;#&gt; mins   \n",
       "2649  Hi, can i please get a  &lt;#&gt;  dollar loan...   \n",
       "4944  Check mail.i have mailed varma and kept copy t...   \n",
       "4663                  Ladies first and genus second k .   \n",
       "2897  pdate_Now - Double mins and 1000 txts on Orang...   \n",
       "1027                       Yes da. Any plm at ur office   \n",
       "4584  For ur chance to win a £250 wkly shopping spre...   \n",
       "208                        Aight yo, dats straight dogg   \n",
       "3780  Claim a 200 shopping spree, just call 08717895...   \n",
       "2406                              I'm meeting Darren...   \n",
       "\n",
       "                                             lemmatized  \\\n",
       "926          k, wait chikku..il send aftr &lt;#&gt; min   \n",
       "2649  hi, please get &lt;#&gt; dollar loan you. i.ll...   \n",
       "4944  check mail.i mailed varma kept copy regarding ...   \n",
       "4663                        lady first genus second k .   \n",
       "2897  pdate_now - double min txts orange tariffs. la...   \n",
       "1027                              yes da. plm ur office   \n",
       "4584  ur chance win £ wkly shopping spree txt: shop ...   \n",
       "208                         aight yo, dat straight dogg   \n",
       "3780  claim shopping spree, call now! won! mobstoreq...   \n",
       "2406                              i'm meeting darren...   \n",
       "\n",
       "                                                   stem  \n",
       "926          k, wait chikku..il send aftr &lt;#&gt; min  \n",
       "2649  hi, pleas get &lt;#&gt; dollar loan you. i.ll ...  \n",
       "4944  check mail.i mail varma kept copi regard membe...  \n",
       "4663                         ladi first genu second k .  \n",
       "2897  pdate_now - doubl min txt orang tariffs. lates...  \n",
       "1027                                ye da. plm ur offic  \n",
       "4584  ur chanc win £ wkli shop spree txt: shop . t's...  \n",
       "208                         aight yo, dat straight dogg  \n",
       "3780   claim shop spree, call now! won! mobstorequizppm  \n",
       "2406                                 i'm meet darren...  "
      ]
     },
     "execution_count": 70,
     "metadata": {},
     "output_type": "execute_result"
    }
   ],
   "source": [
    "stop_words = set(stopwords.words('english'))\n",
    "lemmatizer = WordNetLemmatizer()\n",
    "stemmer = PorterStemmer()\n",
    "\n",
    "sample['lowercase'] = sample['message'].apply(lambda x : x.lower())\n",
    "sample['lowercase-and-stripped-off-digits'] =  sample['lowercase'].apply(lambda x : re.sub('[\\d]+', '', x))\n",
    "\n",
    "sample['lemmatized'] = (sample['lowercase-and-stripped-off-digits']\n",
    "    .apply(lambda x : ' '.join([lemmatizer.lemmatize(w) for w in x.split() if w not in stop_words])))\n",
    "sample['stem'] = (sample['lowercase-and-stripped-off-digits']\n",
    "    .apply(lambda x : ' '.join([stemmer.stem(w) for w in x.split() if w not in stop_words])))\n",
    "\n",
    "\n",
    "sample.loc[:, ['message', 'lemmatized', 'stem']]"
   ]
  },
  {
   "cell_type": "code",
   "execution_count": 73,
   "metadata": {},
   "outputs": [],
   "source": [
    "preprocessed_msg = (df.loc[:,'message']\n",
    "    .apply(lambda x : x.lower())\n",
    "    .apply(lambda x : re.sub('[\\d]+', '', x))\n",
    "    .apply(lambda x : ' '.join([lemmatizer.lemmatize(w) for w in x.split() if w not in stop_words]))\n",
    "    )"
   ]
  },
  {
   "attachments": {},
   "cell_type": "markdown",
   "metadata": {},
   "source": [
    "### Document Term Matrix"
   ]
  },
  {
   "cell_type": "code",
   "execution_count": 79,
   "metadata": {},
   "outputs": [
    {
     "name": "stdout",
     "output_type": "stream",
     "text": [
      "Shape of tf-idf vectors : (5572, 1467)\n"
     ]
    }
   ],
   "source": [
    "tf_idf = TfidfVectorizer(min_df=5, max_df=0.95, stop_words='english')\n",
    "dtm = tf_idf.fit_transform(preprocessed_msg)\n",
    "print('Shape of tf-idf vectors :',dtm.shape)"
   ]
  },
  {
   "attachments": {},
   "cell_type": "markdown",
   "metadata": {},
   "source": [
    "### Singular Value Decomposition"
   ]
  },
  {
   "cell_type": "code",
   "execution_count": 83,
   "metadata": {},
   "outputs": [
    {
     "data": {
      "text/html": [
       "<div>\n",
       "<style scoped>\n",
       "    .dataframe tbody tr th:only-of-type {\n",
       "        vertical-align: middle;\n",
       "    }\n",
       "\n",
       "    .dataframe tbody tr th {\n",
       "        vertical-align: top;\n",
       "    }\n",
       "\n",
       "    .dataframe thead th {\n",
       "        text-align: right;\n",
       "    }\n",
       "</style>\n",
       "<table border=\"1\" class=\"dataframe\">\n",
       "  <thead>\n",
       "    <tr style=\"text-align: right;\">\n",
       "      <th></th>\n",
       "      <th>label</th>\n",
       "      <th>message</th>\n",
       "      <th>Topic-1</th>\n",
       "      <th>Topic-2</th>\n",
       "    </tr>\n",
       "  </thead>\n",
       "  <tbody>\n",
       "    <tr>\n",
       "      <th>0</th>\n",
       "      <td>ham</td>\n",
       "      <td>Go until jurong point, crazy.. Available only ...</td>\n",
       "      <td>0.056750</td>\n",
       "      <td>-0.013035</td>\n",
       "    </tr>\n",
       "    <tr>\n",
       "      <th>1</th>\n",
       "      <td>ham</td>\n",
       "      <td>Ok lar... Joking wif u oni...</td>\n",
       "      <td>0.190607</td>\n",
       "      <td>0.250928</td>\n",
       "    </tr>\n",
       "    <tr>\n",
       "      <th>2</th>\n",
       "      <td>spam</td>\n",
       "      <td>Free entry in 2 a wkly comp to win FA Cup fina...</td>\n",
       "      <td>0.051768</td>\n",
       "      <td>-0.016586</td>\n",
       "    </tr>\n",
       "    <tr>\n",
       "      <th>3</th>\n",
       "      <td>ham</td>\n",
       "      <td>U dun say so early hor... U c already then say...</td>\n",
       "      <td>0.057829</td>\n",
       "      <td>-0.011530</td>\n",
       "    </tr>\n",
       "    <tr>\n",
       "      <th>4</th>\n",
       "      <td>ham</td>\n",
       "      <td>Nah I don't think he goes to usf, he lives aro...</td>\n",
       "      <td>0.036736</td>\n",
       "      <td>-0.012663</td>\n",
       "    </tr>\n",
       "  </tbody>\n",
       "</table>\n",
       "</div>"
      ],
      "text/plain": [
       "  label                                            message   Topic-1   Topic-2\n",
       "0   ham  Go until jurong point, crazy.. Available only ...  0.056750 -0.013035\n",
       "1   ham                      Ok lar... Joking wif u oni...  0.190607  0.250928\n",
       "2  spam  Free entry in 2 a wkly comp to win FA Cup fina...  0.051768 -0.016586\n",
       "3   ham  U dun say so early hor... U c already then say...  0.057829 -0.011530\n",
       "4   ham  Nah I don't think he goes to usf, he lives aro...  0.036736 -0.012663"
      ]
     },
     "execution_count": 83,
     "metadata": {},
     "output_type": "execute_result"
    }
   ],
   "source": [
    "svd = TruncatedSVD(n_components=2)\n",
    "transformed = svd.fit_transform(dtm)\n",
    "\n",
    "df['Topic-1'] = transformed[:, 0]\n",
    "df['Topic-2'] = transformed[:, 1]\n",
    "\n",
    "df.head()"
   ]
  },
  {
   "attachments": {},
   "cell_type": "markdown",
   "metadata": {},
   "source": [
    "### Encoding Matrix"
   ]
  },
  {
   "cell_type": "code",
   "execution_count": 86,
   "metadata": {},
   "outputs": [],
   "source": [
    "encoding_matix = pd.DataFrame(data=svd.components_, \n",
    "    columns=tf_idf.get_feature_names_out(), index=['Topic-1','Topic-2']).T\n",
    "\n",
    "\n",
    "encoding_matix['Abs-Topic-1'] = np.abs(encoding_matix['Topic-1'])\n",
    "encoding_matix['Abs-Topic-2'] = np.abs(encoding_matix['Topic-2'])"
   ]
  },
  {
   "attachments": {},
   "cell_type": "markdown",
   "metadata": {},
   "source": [
    "### Interpretation of Encoding"
   ]
  },
  {
   "cell_type": "code",
   "execution_count": 90,
   "metadata": {},
   "outputs": [
    {
     "data": {
      "text/html": [
       "<div>\n",
       "<style scoped>\n",
       "    .dataframe tbody tr th:only-of-type {\n",
       "        vertical-align: middle;\n",
       "    }\n",
       "\n",
       "    .dataframe tbody tr th {\n",
       "        vertical-align: top;\n",
       "    }\n",
       "\n",
       "    .dataframe thead th {\n",
       "        text-align: right;\n",
       "    }\n",
       "</style>\n",
       "<table border=\"1\" class=\"dataframe\">\n",
       "  <thead>\n",
       "    <tr style=\"text-align: right;\">\n",
       "      <th></th>\n",
       "      <th>Topic-1</th>\n",
       "      <th>Topic-2</th>\n",
       "      <th>Abs-Topic-1</th>\n",
       "      <th>Abs-Topic-2</th>\n",
       "    </tr>\n",
       "  </thead>\n",
       "  <tbody>\n",
       "    <tr>\n",
       "      <th>callers</th>\n",
       "      <td>0.000288</td>\n",
       "      <td>-0.000209</td>\n",
       "      <td>0.000288</td>\n",
       "      <td>0.000209</td>\n",
       "    </tr>\n",
       "    <tr>\n",
       "      <th>stockport</th>\n",
       "      <td>0.000293</td>\n",
       "      <td>-0.000146</td>\n",
       "      <td>0.000293</td>\n",
       "      <td>0.000146</td>\n",
       "    </tr>\n",
       "    <tr>\n",
       "      <th>toclaim</th>\n",
       "      <td>0.000293</td>\n",
       "      <td>-0.000146</td>\n",
       "      <td>0.000293</td>\n",
       "      <td>0.000146</td>\n",
       "    </tr>\n",
       "    <tr>\n",
       "      <th>maxmins</th>\n",
       "      <td>0.000293</td>\n",
       "      <td>-0.000146</td>\n",
       "      <td>0.000293</td>\n",
       "      <td>0.000146</td>\n",
       "    </tr>\n",
       "    <tr>\n",
       "      <th>piece</th>\n",
       "      <td>0.000344</td>\n",
       "      <td>-0.000044</td>\n",
       "      <td>0.000344</td>\n",
       "      <td>0.000044</td>\n",
       "    </tr>\n",
       "    <tr>\n",
       "      <th>costa</th>\n",
       "      <td>0.000356</td>\n",
       "      <td>-0.000185</td>\n",
       "      <td>0.000356</td>\n",
       "      <td>0.000185</td>\n",
       "    </tr>\n",
       "    <tr>\n",
       "      <th>sol</th>\n",
       "      <td>0.000356</td>\n",
       "      <td>-0.000185</td>\n",
       "      <td>0.000356</td>\n",
       "      <td>0.000185</td>\n",
       "    </tr>\n",
       "    <tr>\n",
       "      <th>skxh</th>\n",
       "      <td>0.000398</td>\n",
       "      <td>-0.000177</td>\n",
       "      <td>0.000398</td>\n",
       "      <td>0.000177</td>\n",
       "    </tr>\n",
       "    <tr>\n",
       "      <th>redeemed</th>\n",
       "      <td>0.000429</td>\n",
       "      <td>-0.000469</td>\n",
       "      <td>0.000429</td>\n",
       "      <td>0.000469</td>\n",
       "    </tr>\n",
       "    <tr>\n",
       "      <th>nights</th>\n",
       "      <td>0.000460</td>\n",
       "      <td>-0.000252</td>\n",
       "      <td>0.000460</td>\n",
       "      <td>0.000252</td>\n",
       "    </tr>\n",
       "  </tbody>\n",
       "</table>\n",
       "</div>"
      ],
      "text/plain": [
       "            Topic-1   Topic-2  Abs-Topic-1  Abs-Topic-2\n",
       "callers    0.000288 -0.000209     0.000288     0.000209\n",
       "stockport  0.000293 -0.000146     0.000293     0.000146\n",
       "toclaim    0.000293 -0.000146     0.000293     0.000146\n",
       "maxmins    0.000293 -0.000146     0.000293     0.000146\n",
       "piece      0.000344 -0.000044     0.000344     0.000044\n",
       "costa      0.000356 -0.000185     0.000356     0.000185\n",
       "sol        0.000356 -0.000185     0.000356     0.000185\n",
       "skxh       0.000398 -0.000177     0.000398     0.000177\n",
       "redeemed   0.000429 -0.000469     0.000429     0.000469\n",
       "nights     0.000460 -0.000252     0.000460     0.000252"
      ]
     },
     "execution_count": 90,
     "metadata": {},
     "output_type": "execute_result"
    }
   ],
   "source": [
    "# sort ascending\n",
    "encoding_matix.sort_values(by='Abs-Topic-1').head(10)"
   ]
  },
  {
   "cell_type": "code",
   "execution_count": 91,
   "metadata": {},
   "outputs": [
    {
     "data": {
      "text/html": [
       "<div>\n",
       "<style scoped>\n",
       "    .dataframe tbody tr th:only-of-type {\n",
       "        vertical-align: middle;\n",
       "    }\n",
       "\n",
       "    .dataframe tbody tr th {\n",
       "        vertical-align: top;\n",
       "    }\n",
       "\n",
       "    .dataframe thead th {\n",
       "        text-align: right;\n",
       "    }\n",
       "</style>\n",
       "<table border=\"1\" class=\"dataframe\">\n",
       "  <thead>\n",
       "    <tr style=\"text-align: right;\">\n",
       "      <th></th>\n",
       "      <th>Topic-1</th>\n",
       "      <th>Topic-2</th>\n",
       "      <th>Abs-Topic-1</th>\n",
       "      <th>Abs-Topic-2</th>\n",
       "    </tr>\n",
       "  </thead>\n",
       "  <tbody>\n",
       "    <tr>\n",
       "      <th>days</th>\n",
       "      <td>0.005386</td>\n",
       "      <td>0.000005</td>\n",
       "      <td>0.005386</td>\n",
       "      <td>0.000005</td>\n",
       "    </tr>\n",
       "    <tr>\n",
       "      <th>yest</th>\n",
       "      <td>0.002328</td>\n",
       "      <td>-0.000005</td>\n",
       "      <td>0.002328</td>\n",
       "      <td>0.000005</td>\n",
       "    </tr>\n",
       "    <tr>\n",
       "      <th>paper</th>\n",
       "      <td>0.003965</td>\n",
       "      <td>0.000006</td>\n",
       "      <td>0.003965</td>\n",
       "      <td>0.000006</td>\n",
       "    </tr>\n",
       "    <tr>\n",
       "      <th>cup</th>\n",
       "      <td>0.002934</td>\n",
       "      <td>0.000018</td>\n",
       "      <td>0.002934</td>\n",
       "      <td>0.000018</td>\n",
       "    </tr>\n",
       "    <tr>\n",
       "      <th>eve</th>\n",
       "      <td>0.007025</td>\n",
       "      <td>0.000019</td>\n",
       "      <td>0.007025</td>\n",
       "      <td>0.000019</td>\n",
       "    </tr>\n",
       "    <tr>\n",
       "      <th>screaming</th>\n",
       "      <td>0.000986</td>\n",
       "      <td>-0.000020</td>\n",
       "      <td>0.000986</td>\n",
       "      <td>0.000020</td>\n",
       "    </tr>\n",
       "    <tr>\n",
       "      <th>wear</th>\n",
       "      <td>0.002183</td>\n",
       "      <td>0.000023</td>\n",
       "      <td>0.002183</td>\n",
       "      <td>0.000023</td>\n",
       "    </tr>\n",
       "    <tr>\n",
       "      <th>italian</th>\n",
       "      <td>0.001667</td>\n",
       "      <td>-0.000026</td>\n",
       "      <td>0.001667</td>\n",
       "      <td>0.000026</td>\n",
       "    </tr>\n",
       "    <tr>\n",
       "      <th>woman</th>\n",
       "      <td>0.003097</td>\n",
       "      <td>0.000027</td>\n",
       "      <td>0.003097</td>\n",
       "      <td>0.000027</td>\n",
       "    </tr>\n",
       "    <tr>\n",
       "      <th>angry</th>\n",
       "      <td>0.006603</td>\n",
       "      <td>-0.000034</td>\n",
       "      <td>0.006603</td>\n",
       "      <td>0.000034</td>\n",
       "    </tr>\n",
       "  </tbody>\n",
       "</table>\n",
       "</div>"
      ],
      "text/plain": [
       "            Topic-1   Topic-2  Abs-Topic-1  Abs-Topic-2\n",
       "days       0.005386  0.000005     0.005386     0.000005\n",
       "yest       0.002328 -0.000005     0.002328     0.000005\n",
       "paper      0.003965  0.000006     0.003965     0.000006\n",
       "cup        0.002934  0.000018     0.002934     0.000018\n",
       "eve        0.007025  0.000019     0.007025     0.000019\n",
       "screaming  0.000986 -0.000020     0.000986     0.000020\n",
       "wear       0.002183  0.000023     0.002183     0.000023\n",
       "italian    0.001667 -0.000026     0.001667     0.000026\n",
       "woman      0.003097  0.000027     0.003097     0.000027\n",
       "angry      0.006603 -0.000034     0.006603     0.000034"
      ]
     },
     "execution_count": 91,
     "metadata": {},
     "output_type": "execute_result"
    }
   ],
   "source": [
    "encoding_matix.sort_values(by='Abs-Topic-2').head(10)"
   ]
  },
  {
   "cell_type": "code",
   "execution_count": 94,
   "metadata": {},
   "outputs": [
    {
     "data": {
      "image/png": "[encoded data removed]",
      "text/plain": [
       "<Figure size 800x800 with 1 Axes>"
      ]
     },
     "metadata": {},
     "output_type": "display_data"
    }
   ],
   "source": [
    "display_wordcloud_spam_text()"
   ]
  },
  {
   "cell_type": "code",
   "execution_count": 97,
   "metadata": {},
   "outputs": [
    {
     "data": {
      "text/html": [
       "<div>\n",
       "<style scoped>\n",
       "    .dataframe tbody tr th:only-of-type {\n",
       "        vertical-align: middle;\n",
       "    }\n",
       "\n",
       "    .dataframe tbody tr th {\n",
       "        vertical-align: top;\n",
       "    }\n",
       "\n",
       "    .dataframe thead th {\n",
       "        text-align: right;\n",
       "    }\n",
       "</style>\n",
       "<table border=\"1\" class=\"dataframe\">\n",
       "  <thead>\n",
       "    <tr style=\"text-align: right;\">\n",
       "      <th></th>\n",
       "      <th>label</th>\n",
       "      <th>message</th>\n",
       "      <th>Topic-1</th>\n",
       "      <th>Topic-2</th>\n",
       "    </tr>\n",
       "  </thead>\n",
       "  <tbody>\n",
       "    <tr>\n",
       "      <th>0</th>\n",
       "      <td>ham</td>\n",
       "      <td>Go until jurong point, crazy.. Available only ...</td>\n",
       "      <td>0.056750</td>\n",
       "      <td>-0.013035</td>\n",
       "    </tr>\n",
       "    <tr>\n",
       "      <th>1</th>\n",
       "      <td>ham</td>\n",
       "      <td>Ok lar... Joking wif u oni...</td>\n",
       "      <td>0.190607</td>\n",
       "      <td>0.250928</td>\n",
       "    </tr>\n",
       "    <tr>\n",
       "      <th>2</th>\n",
       "      <td>spam</td>\n",
       "      <td>Free entry in 2 a wkly comp to win FA Cup fina...</td>\n",
       "      <td>0.051768</td>\n",
       "      <td>-0.016586</td>\n",
       "    </tr>\n",
       "    <tr>\n",
       "      <th>3</th>\n",
       "      <td>ham</td>\n",
       "      <td>U dun say so early hor... U c already then say...</td>\n",
       "      <td>0.057829</td>\n",
       "      <td>-0.011530</td>\n",
       "    </tr>\n",
       "    <tr>\n",
       "      <th>4</th>\n",
       "      <td>ham</td>\n",
       "      <td>Nah I don't think he goes to usf, he lives aro...</td>\n",
       "      <td>0.036736</td>\n",
       "      <td>-0.012663</td>\n",
       "    </tr>\n",
       "  </tbody>\n",
       "</table>\n",
       "</div>"
      ],
      "text/plain": [
       "  label                                            message   Topic-1   Topic-2\n",
       "0   ham  Go until jurong point, crazy.. Available only ...  0.056750 -0.013035\n",
       "1   ham                      Ok lar... Joking wif u oni...  0.190607  0.250928\n",
       "2  spam  Free entry in 2 a wkly comp to win FA Cup fina...  0.051768 -0.016586\n",
       "3   ham  U dun say so early hor... U c already then say...  0.057829 -0.011530\n",
       "4   ham  Nah I don't think he goes to usf, he lives aro...  0.036736 -0.012663"
      ]
     },
     "execution_count": 97,
     "metadata": {},
     "output_type": "execute_result"
    }
   ],
   "source": [
    "df.head()"
   ]
  },
  {
   "attachments": {},
   "cell_type": "markdown",
   "metadata": {},
   "source": [
    "## Plot the encoding"
   ]
  },
  {
   "cell_type": "code",
   "execution_count": 109,
   "metadata": {},
   "outputs": [],
   "source": [
    "plt.figure(figsize=(15,6))\n",
    "temp = df.query('label==\"ham\"')\n",
    "plt.scatter(temp['Topic-1'], temp['Topic-2'], c='seagreen', label='HAM', alpha=0.5)\n",
    "\n",
    "temp = df.query('label==\"spam\"')\n",
    "plt.scatter(temp['Topic-1'], temp['Topic-2'], c='salmon', label='SPAM', alpha=0.5)\n",
    "\n",
    "plt.xlabel('Topic - 2')\n",
    "plt.ylabel('Topic - 1')\n",
    "plt.legend()"
   ]
  },
  {
   "attachments": {},
   "cell_type": "markdown",
   "metadata": {},
   "source": [
    "<img src='./plots/Ham-vs-Spam-tfidf-NLTK-processing.png'>"
   ]
  },
  {
   "cell_type": "code",
   "execution_count": 110,
   "metadata": {},
   "outputs": [],
   "source": [
    "plt.figure(figsize=(15,6))\n",
    "fig, ax = plt.subplots(nrows=1, ncols=2, figsize=(15,6), constrained_layout=True, sharey=True)\n",
    "\n",
    "temp = df.query('label==\"ham\"')\n",
    "ax[0].scatter(temp['Topic-1'], temp['Topic-2'], c='seagreen', label='HAM', alpha=0.5)\n",
    "\n",
    "temp = df.query('label==\"spam\"')\n",
    "ax[1].scatter(temp['Topic-1'], temp['Topic-2'], c='salmon', label='SPAM', alpha=0.5);"
   ]
  },
  {
   "attachments": {},
   "cell_type": "markdown",
   "metadata": {},
   "source": [
    "<img src='./plots/Ham-vs-Spam-tfidf-NLTK-processing-seperate-plots.png'>"
   ]
  },
  {
   "cell_type": "code",
   "execution_count": null,
   "metadata": {},
   "outputs": [],
   "source": []
  }
 ],
 "metadata": {
  "kernelspec": {
   "display_name": "datascience_env",
   "language": "python",
   "name": "python3"
  },
  "language_info": {
   "codemirror_mode": {
    "name": "ipython",
    "version": 3
   },
   "file_extension": ".py",
   "mimetype": "text/x-python",
   "name": "python",
   "nbconvert_exporter": "python",
   "pygments_lexer": "ipython3",
   "version": "3.10.8"
  },
  "orig_nbformat": 4,
  "vscode": {
   "interpreter": {
    "hash": "9dd57416d08487125cddc31714a1d5a29ab9aaf930e8420812b05ce6347e3520"
   }
  }
 },
 "nbformat": 4,
 "nbformat_minor": 2
}
