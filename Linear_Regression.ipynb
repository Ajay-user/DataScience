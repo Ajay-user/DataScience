{
  "nbformat": 4,
  "nbformat_minor": 0,
  "metadata": {
    "colab": {
      "name": "Linear Regression.ipynb",
      "provenance": [],
      "collapsed_sections": [],
      "toc_visible": true,
      "authorship_tag": "ABX9TyPNa4Ai3je5LSTSRbIhhkqW",
      "include_colab_link": true
    },
    "kernelspec": {
      "name": "python3",
      "display_name": "Python 3"
    },
    "language_info": {
      "name": "python"
    }
  },
  "cells": [
    {
      "cell_type": "markdown",
      "metadata": {
        "id": "view-in-github",
        "colab_type": "text"
      },
      "source": [
        "<a href=\"https://colab.research.google.com/github/Ajay-user/DataScience/blob/master/Linear_Regression.ipynb\" target=\"_parent\"><img src=\"https://colab.research.google.com/assets/colab-badge.svg\" alt=\"Open In Colab\"/></a>"
      ]
    },
    {
      "cell_type": "code",
      "metadata": {
        "id": "pAP5m3xZSDmk"
      },
      "source": [
        "import pandas as pd\n",
        "import numpy as np\n",
        "import matplotlib.pyplot as plt\n"
      ],
      "execution_count": 764,
      "outputs": []
    },
    {
      "cell_type": "markdown",
      "metadata": {
        "id": "N7QJQ4TQPiYW"
      },
      "source": [
        "## Linear Regression \n",
        "\n",
        "y = WX+ b\n",
        "\n",
        "W = Weights \n",
        "X = Features\n",
        "b = bais"
      ]
    },
    {
      "cell_type": "markdown",
      "metadata": {
        "id": "S3sBczfBSJ5X"
      },
      "source": [
        "## Generate the data"
      ]
    },
    {
      "cell_type": "code",
      "metadata": {
        "id": "eZrlJHndO29l"
      },
      "source": [
        "from sklearn.datasets import make_regression\n",
        "\n",
        "X, y, coef = make_regression(n_samples=100, n_features=1, n_informative=1, noise=10.0, bias=1.0, coef=True,random_state=42)"
      ],
      "execution_count": 765,
      "outputs": []
    },
    {
      "cell_type": "code",
      "metadata": {
        "colab": {
          "base_uri": "https://localhost:8080/",
          "height": 269
        },
        "id": "2ppVOKwuSCUN",
        "outputId": "821b1260-0a8b-45d8-ad1d-838d50f148ac"
      },
      "source": [
        "# plot the data\n",
        "plt.scatter(X, y, marker='+', c='salmon');"
      ],
      "execution_count": 766,
      "outputs": [
        {
          "output_type": "display_data",
          "data": {
            "image/png": "[encoded data removed]",
            "text/plain": [
              "<Figure size 432x288 with 1 Axes>"
            ]
          },
          "metadata": {
            "tags": [],
            "needs_background": "light"
          }
        }
      ]
    },
    {
      "cell_type": "code",
      "metadata": {
        "colab": {
          "base_uri": "https://localhost:8080/",
          "height": 204
        },
        "id": "GdQVaf0YSnIX",
        "outputId": "e5587a52-0472-4c3d-d352-0233d46c923d"
      },
      "source": [
        "pd.DataFrame(data={'feature':X.reshape((100,)), 'target':y, 'weight':coef, 'bias':1.0}).head()"
      ],
      "execution_count": 767,
      "outputs": [
        {
          "output_type": "execute_result",
          "data": {
            "text/html": [
              "<div>\n",
              "<style scoped>\n",
              "    .dataframe tbody tr th:only-of-type {\n",
              "        vertical-align: middle;\n",
              "    }\n",
              "\n",
              "    .dataframe tbody tr th {\n",
              "        vertical-align: top;\n",
              "    }\n",
              "\n",
              "    .dataframe thead th {\n",
              "        text-align: right;\n",
              "    }\n",
              "</style>\n",
              "<table border=\"1\" class=\"dataframe\">\n",
              "  <thead>\n",
              "    <tr style=\"text-align: right;\">\n",
              "      <th></th>\n",
              "      <th>feature</th>\n",
              "      <th>target</th>\n",
              "      <th>weight</th>\n",
              "      <th>bias</th>\n",
              "    </tr>\n",
              "  </thead>\n",
              "  <tbody>\n",
              "    <tr>\n",
              "      <th>0</th>\n",
              "      <td>0.931280</td>\n",
              "      <td>51.779929</td>\n",
              "      <td>41.7411</td>\n",
              "      <td>1.0</td>\n",
              "    </tr>\n",
              "    <tr>\n",
              "      <th>1</th>\n",
              "      <td>0.087047</td>\n",
              "      <td>-9.065270</td>\n",
              "      <td>41.7411</td>\n",
              "      <td>1.0</td>\n",
              "    </tr>\n",
              "    <tr>\n",
              "      <th>2</th>\n",
              "      <td>-1.057711</td>\n",
              "      <td>-33.918392</td>\n",
              "      <td>41.7411</td>\n",
              "      <td>1.0</td>\n",
              "    </tr>\n",
              "    <tr>\n",
              "      <th>3</th>\n",
              "      <td>0.314247</td>\n",
              "      <td>11.526743</td>\n",
              "      <td>41.7411</td>\n",
              "      <td>1.0</td>\n",
              "    </tr>\n",
              "    <tr>\n",
              "      <th>4</th>\n",
              "      <td>-0.479174</td>\n",
              "      <td>-16.738377</td>\n",
              "      <td>41.7411</td>\n",
              "      <td>1.0</td>\n",
              "    </tr>\n",
              "  </tbody>\n",
              "</table>\n",
              "</div>"
            ],
            "text/plain": [
              "    feature     target   weight  bias\n",
              "0  0.931280  51.779929  41.7411   1.0\n",
              "1  0.087047  -9.065270  41.7411   1.0\n",
              "2 -1.057711 -33.918392  41.7411   1.0\n",
              "3  0.314247  11.526743  41.7411   1.0\n",
              "4 -0.479174 -16.738377  41.7411   1.0"
            ]
          },
          "metadata": {
            "tags": []
          },
          "execution_count": 767
        }
      ]
    },
    {
      "cell_type": "code",
      "metadata": {
        "colab": {
          "base_uri": "https://localhost:8080/"
        },
        "id": "DVukk0J3UWXo",
        "outputId": "d9ad046f-f87f-45a9-a4e5-4e85d015426e"
      },
      "source": [
        "## split the data \n",
        "from sklearn.model_selection import train_test_split\n",
        "\n",
        "X_train, X_test, y_train, y_test = train_test_split(X, y, test_size=0.2, random_state=42)\n",
        "\n",
        "X_train.shape, y_train.shape, X_test.shape, y_test.shape"
      ],
      "execution_count": 768,
      "outputs": [
        {
          "output_type": "execute_result",
          "data": {
            "text/plain": [
              "((80, 1), (80,), (20, 1), (20,))"
            ]
          },
          "metadata": {
            "tags": []
          },
          "execution_count": 768
        }
      ]
    },
    {
      "cell_type": "markdown",
      "metadata": {
        "id": "NHevl5HJiefY"
      },
      "source": [
        "## Weigth matrix  and Bias"
      ]
    },
    {
      "cell_type": "code",
      "metadata": {
        "id": "I_DDOfjwVzej",
        "colab": {
          "base_uri": "https://localhost:8080/"
        },
        "outputId": "28853532-2c1b-4a4d-b481-ef47b9d4d9c1"
      },
      "source": [
        "INPUT_DIM = X_train.shape[1]\n",
        "OUTPUT_DIM = 1\n",
        "\n",
        "Weights = np.random.rand(INPUT_DIM, OUTPUT_DIM)\n",
        "\n",
        "Bias = 0.01*np.random.rand(INPUT_DIM, OUTPUT_DIM)\n",
        "\n",
        "X_train.shape, Weights.shape,Bias.shape"
      ],
      "execution_count": 769,
      "outputs": [
        {
          "output_type": "execute_result",
          "data": {
            "text/plain": [
              "((80, 1), (1, 1), (1, 1))"
            ]
          },
          "metadata": {
            "tags": []
          },
          "execution_count": 769
        }
      ]
    },
    {
      "cell_type": "code",
      "metadata": {
        "colab": {
          "base_uri": "https://localhost:8080/"
        },
        "id": "ATPnx-8Thoih",
        "outputId": "eac17ff0-07e3-4168-f8b3-668f0a20556f"
      },
      "source": [
        "# output shape after linear operation y = Wx+b\n",
        "(X_train@Weights+Bias).shape"
      ],
      "execution_count": 770,
      "outputs": [
        {
          "output_type": "execute_result",
          "data": {
            "text/plain": [
              "(80, 1)"
            ]
          },
          "metadata": {
            "tags": []
          },
          "execution_count": 770
        }
      ]
    },
    {
      "cell_type": "markdown",
      "metadata": {
        "id": "gQYH76saonOF"
      },
      "source": [
        "## Create a linear model\n",
        "Linear Model from scratch using python\n",
        "\n",
        "y = Wx+B\n",
        "\n",
        "`W = weight`, `x = feature`, `B = bias`"
      ]
    },
    {
      "cell_type": "code",
      "metadata": {
        "id": "Dof_rWufkNrl"
      },
      "source": [
        "def Linear_model(features, weights=Weights, bias=Bias, output_shape=y_train.shape):\n",
        "  y_hat = np.matmul(features, weights)+bias\n",
        "  return y_hat.reshape(output_shape)"
      ],
      "execution_count": 771,
      "outputs": []
    },
    {
      "cell_type": "code",
      "metadata": {
        "colab": {
          "base_uri": "https://localhost:8080/"
        },
        "id": "oPygsx8Onmw7",
        "outputId": "3a7cc34c-2bbd-488f-f59a-e49a4fcfc6d0"
      },
      "source": [
        "# get predictions\n",
        "y_preds = Linear_model(X_train, Weights, Bias)\n",
        "y_preds.shape"
      ],
      "execution_count": 772,
      "outputs": [
        {
          "output_type": "execute_result",
          "data": {
            "text/plain": [
              "(80,)"
            ]
          },
          "metadata": {
            "tags": []
          },
          "execution_count": 772
        }
      ]
    },
    {
      "cell_type": "markdown",
      "metadata": {
        "id": "XV6xbrrZp5Z8"
      },
      "source": [
        "## Loss function\n",
        "Mean squared error => mean of (y_true - y_preds)**2"
      ]
    },
    {
      "cell_type": "code",
      "metadata": {
        "id": "3AQz1hF1ptE1"
      },
      "source": [
        "def Loss_fn(ground_truth, predictions):\n",
        "  # return np.mean(np.square(ground_truth-predictions))\n",
        "  return (1/len(ground_truth))*np.sum((ground_truth - predictions)**2)"
      ],
      "execution_count": 773,
      "outputs": []
    },
    {
      "cell_type": "code",
      "metadata": {
        "colab": {
          "base_uri": "https://localhost:8080/"
        },
        "id": "qOorwpFEqi_R",
        "outputId": "1db78c67-8223-416b-bda7-e45a06540325"
      },
      "source": [
        "# lets compute the loss \n",
        "Loss_fn(y_train, y_preds)"
      ],
      "execution_count": 774,
      "outputs": [
        {
          "output_type": "execute_result",
          "data": {
            "text/plain": [
              "1688.3886087648689"
            ]
          },
          "metadata": {
            "tags": []
          },
          "execution_count": 774
        }
      ]
    },
    {
      "cell_type": "markdown",
      "metadata": {
        "id": "gmi5s3VotKLP"
      },
      "source": [
        "## Gradient Descent \n",
        "Gradient descent is a first-order iterative optimization algorithm for finding a local minimum of a differentiable function.\n",
        "\n",
        "Loss function => mean squared error\n",
        "\n",
        "1/N * (y_true - y_pred)**2\n",
        "\n",
        "y_pred = Wx+b\n",
        "\n",
        "derivative with respect to Weights = -2/N * (y_true - Wx+b) * x\n",
        "\n",
        "derivative with respect to bias = -2/N * (y_true - Wx+b) * 1\n",
        "\n",
        "We want to move in the negative direction of the gradient\n",
        "\n",
        "### Updating weights and bias\n",
        "\n",
        "W<sup>k+1</sup> = W<sup>k</sup> - Learning_rate * Gradient\n",
        "\n",
        "B<sup>k+1</sup> = B<sup>k</sup> - Learning_rate * Gradient\n",
        "\n",
        "\n",
        "\n"
      ]
    },
    {
      "cell_type": "code",
      "metadata": {
        "id": "4c1R2EISqmry"
      },
      "source": [
        "def optimize_model_param(features, ground_truth, predictions, weights=Weights, bias=Bias, learning_rate=1e-3):\n",
        "  # number of observations\n",
        "  N = len(ground_truth)\n",
        "\n",
        "  # compute the gradient\n",
        "  difference = ground_truth-predictions\n",
        "  difference = difference.reshape(features.shape)\n",
        "  dW = -(2/N)*np.sum(difference * features)\n",
        "  db = -(2/N)*np.sum(difference * 1)\n",
        "\n",
        "  # update\n",
        "  W = weights + learning_rate*-dW\n",
        "  b = bias + learning_rate*-db\n",
        "\n",
        "  return W,b\n",
        "  "
      ],
      "execution_count": 775,
      "outputs": []
    },
    {
      "cell_type": "markdown",
      "metadata": {
        "id": "qZVNs2yJ1-Tl"
      },
      "source": [
        "## Training a Linear model\n"
      ]
    },
    {
      "cell_type": "code",
      "metadata": {
        "id": "DtmCWLx7zUMF"
      },
      "source": [
        "def model_training(epochs,W,b):\n",
        "  for i in range(epochs):\n",
        "    # get predictions\n",
        "    model_predictions = Linear_model(X_train, weights=W, bias=b)\n",
        "    # compute loss\n",
        "    loss = Loss_fn(y_train, model_predictions)\n",
        "    # print the loss\n",
        "    print('epoch:',i,' loss:',loss)\n",
        "    # optimize the model parameters \n",
        "    W, b = optimize_model_param(X_train, y_train, model_predictions, weights=W, bias=b)\n"
      ],
      "execution_count": 776,
      "outputs": []
    },
    {
      "cell_type": "code",
      "metadata": {
        "colab": {
          "base_uri": "https://localhost:8080/"
        },
        "id": "Dsva2dsi1kXQ",
        "outputId": "8771204c-fbf1-476b-e86d-b6bab0c2321c"
      },
      "source": [
        "NUM_EPOCHS = 10\n",
        "W = Weights\n",
        "b = Bias\n",
        "\n",
        "\n",
        "model_training(NUM_EPOCHS,W,b)"
      ],
      "execution_count": 777,
      "outputs": [
        {
          "output_type": "stream",
          "text": [
            "epoch: 0  loss: 1688.3886087648689\n",
            "epoch: 1  loss: 1682.921541929511\n",
            "epoch: 2  loss: 1677.4734521023552\n",
            "epoch: 3  loss: 1672.044271576876\n",
            "epoch: 4  loss: 1666.6339328950178\n",
            "epoch: 5  loss: 1661.242368846253\n",
            "epoch: 6  loss: 1655.8695124666517\n",
            "epoch: 7  loss: 1650.5152970379504\n",
            "epoch: 8  loss: 1645.1796560866258\n",
            "epoch: 9  loss: 1639.8625233829728\n"
          ],
          "name": "stdout"
        }
      ]
    },
    {
      "cell_type": "markdown",
      "metadata": {
        "id": "OXObJZcEMObX"
      },
      "source": [
        "## Complete Linear model from scratch"
      ]
    },
    {
      "cell_type": "code",
      "metadata": {
        "id": "hoxmdnvu4a7y"
      },
      "source": [
        "class Linear_reg:\n",
        "  def __init__(self, learning_rate=1e-3):\n",
        "    self.learning_rate = learning_rate\n",
        "  \n",
        "  def set_weight_and_bias(self, INPUT_DIM, OUTPUT_DIM):\n",
        "    # Weights = np.random.rand(INPUT_DIM, OUTPUT_DIM)\n",
        "    # Bias = 0.01*np.random.rand(INPUT_DIM, OUTPUT_DIM)\n",
        "    self.weights, self.bias = Weights.copy(), Bias.copy()\n",
        "  \n",
        "  def linear_regression(self, features):\n",
        "    return np.matmul(features,self.weights)+self.bias\n",
        "\n",
        "  def loss_fn(self, ground_truth, predictions):\n",
        "    return np.mean(np.square((ground_truth-predictions)))\n",
        "\n",
        "  def gradient_descent(self, features, ground_truth, predictions):\n",
        "    NUM = len(ground_truth)\n",
        "    difference = ground_truth - predictions\n",
        "    difference = difference.reshape(features.shape)\n",
        "    dW = -(2/NUM)*np.sum((difference * features))\n",
        "    db = -(2/NUM)*np.sum(difference)\n",
        "    return dW,db\n",
        "  \n",
        "  def optimize_model_parametes(self, features, ground_truth, predictions):\n",
        "    dW, db = self.gradient_descent(features, ground_truth, predictions)\n",
        "    self.weights += self.learning_rate * -dW\n",
        "    self.bias += self.learning_rate * -db\n",
        "\n",
        "  def fit(self, features, ground_truth, epochs=10, to_print=False):\n",
        "    INPUT_DIM = features.shape[1]\n",
        "    OUTPUT_DIM = 1\n",
        "    self.set_weight_and_bias(INPUT_DIM, OUTPUT_DIM)\n",
        "    \n",
        "    mse=[]\n",
        "\n",
        "    for epoch in range(epochs):\n",
        "      predictions = self.linear_regression(features)\n",
        "      predictions = predictions.reshape(ground_truth.shape)\n",
        "      loss = self.loss_fn(ground_truth, predictions)\n",
        "      self.optimize_model_parametes(features, ground_truth, predictions)\n",
        "      if to_print:\n",
        "        print('epoch:',epoch,'loss:',loss)\n",
        "      mse.append(loss)\n",
        "    return {'loss':mse}\n",
        "    \n",
        "  def predict(self ,test_features):\n",
        "    y_hat = self.linear_regression(test_features)\n",
        "    return y_hat\n",
        "      \n",
        "  def get_model_coef(self):\n",
        "    return self.weights, self.bias\n",
        "\n",
        "    \n",
        "    \n",
        "    "
      ],
      "execution_count": 809,
      "outputs": []
    },
    {
      "cell_type": "code",
      "metadata": {
        "id": "OX9OVdYZNklt"
      },
      "source": [
        "reg = Linear_reg(learning_rate=0.01)\n",
        "\n",
        "history = reg.fit(X_train, y_train, epochs=150)"
      ],
      "execution_count": 831,
      "outputs": []
    },
    {
      "cell_type": "markdown",
      "metadata": {
        "id": "jsSXT2UvRYOl"
      },
      "source": [
        "### Learning curve"
      ]
    },
    {
      "cell_type": "code",
      "metadata": {
        "colab": {
          "base_uri": "https://localhost:8080/",
          "height": 295
        },
        "id": "rUG_IUEoQW7N",
        "outputId": "c7ae8557-fe1a-4c70-e168-4d69336a0a71"
      },
      "source": [
        "plt.plot(history['loss']);\n",
        "plt.title('Learning curve')\n",
        "plt.xlabel('Epochs')\n",
        "plt.ylabel('Mean absolute error')\n",
        "plt.show()"
      ],
      "execution_count": 832,
      "outputs": [
        {
          "output_type": "display_data",
          "data": {
            "image/png": "[encoded data removed]",
            "text/plain": [
              "<Figure size 432x288 with 1 Axes>"
            ]
          },
          "metadata": {
            "tags": [],
            "needs_background": "light"
          }
        }
      ]
    },
    {
      "cell_type": "code",
      "metadata": {
        "id": "JrktNGrRRnyN"
      },
      "source": [
        "# best parameters learned by the model\n",
        "model_coef = reg.get_model_coef()"
      ],
      "execution_count": 833,
      "outputs": []
    },
    {
      "cell_type": "code",
      "metadata": {
        "colab": {
          "base_uri": "https://localhost:8080/"
        },
        "id": "IdybbU9qVK_M",
        "outputId": "af756073-7c10-4ff0-daf0-0d17c79c30f4"
      },
      "source": [
        "model_coef"
      ],
      "execution_count": 834,
      "outputs": [
        {
          "output_type": "execute_result",
          "data": {
            "text/plain": [
              "(array([[40.4450545]]), array([[-0.07751129]]))"
            ]
          },
          "metadata": {
            "tags": []
          },
          "execution_count": 834
        }
      ]
    },
    {
      "cell_type": "code",
      "metadata": {
        "colab": {
          "base_uri": "https://localhost:8080/",
          "height": 265
        },
        "id": "HR_xvW52YB6s",
        "outputId": "4c744f3c-5968-4ac3-9ae8-3b347cabcb0c"
      },
      "source": [
        "model_predictions = reg.predict(X_test)\n",
        "\n",
        "plt.scatter(X_test, y_test, marker='*', color='skyblue')\n",
        "plt.scatter(X_test,model_predictions, marker='+', color='salmon')\n",
        "plt.show()"
      ],
      "execution_count": 839,
      "outputs": [
        {
          "output_type": "display_data",
          "data": {
            "image/png": "[encoded data removed]",
            "text/plain": [
              "<Figure size 432x288 with 1 Axes>"
            ]
          },
          "metadata": {
            "tags": [],
            "needs_background": "light"
          }
        }
      ]
    },
    {
      "cell_type": "code",
      "metadata": {
        "colab": {
          "base_uri": "https://localhost:8080/"
        },
        "id": "oNXCNvFkVn8Z",
        "outputId": "6f9bce53-4084-4a09-bcef-bff21017de8c"
      },
      "source": [
        "# standardize the data\n",
        "feature_mean, feature_std = X_train.mean(), X_train.std()\n",
        "label_mean, label_std = y_train.mean(), y_train.std()\n",
        "\n",
        "scaled_X_train = (X_train-feature_mean)/feature_std\n",
        "scaled_y_train = (y_train-label_mean)/label_std\n",
        "scaled_X_test = (X_test-feature_mean)/feature_std\n",
        "scled_y_test = (y_test-label_mean)/label_std\n",
        "\n",
        "print('Training data  Mean',scaled_X_train.mean(),'Standard deviation',scaled_X_train.std())\n",
        "print('Testing data  Mean',scaled_X_test.mean(),'Standard deviation',scaled_X_test.std())"
      ],
      "execution_count": 841,
      "outputs": [
        {
          "output_type": "stream",
          "text": [
            "Training data  Mean -5.551115123125783e-18 Standard deviation 1.0\n",
            "Testing data  Mean 0.13716335543386246 Standard deviation 0.9885161555058851\n"
          ],
          "name": "stdout"
        }
      ]
    },
    {
      "cell_type": "code",
      "metadata": {
        "id": "vj8pRF70YA20"
      },
      "source": [
        "reg_scaled = Linear_reg(learning_rate=0.01)\n",
        "\n",
        "history = reg_scaled.fit(X_train_scaled,y_train_scaled, epochs=25)"
      ],
      "execution_count": 848,
      "outputs": []
    },
    {
      "cell_type": "code",
      "metadata": {
        "colab": {
          "base_uri": "https://localhost:8080/"
        },
        "id": "r2xTafLGavkn",
        "outputId": "77ada4c7-4280-4074-bf57-74b67464469f"
      },
      "source": [
        "model_coef = reg_scaled.get_model_coef()\n",
        "model_coef"
      ],
      "execution_count": 849,
      "outputs": [
        {
          "output_type": "execute_result",
          "data": {
            "text/plain": [
              "(array([[0.44185454]]), array([[0.00513233]]))"
            ]
          },
          "metadata": {
            "tags": []
          },
          "execution_count": 849
        }
      ]
    }
  ]
}