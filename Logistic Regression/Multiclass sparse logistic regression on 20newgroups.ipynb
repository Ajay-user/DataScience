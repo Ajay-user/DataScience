{
 "cells": [
  {
   "cell_type": "code",
   "execution_count": 11,
   "id": "85f9d92e",
   "metadata": {},
   "outputs": [],
   "source": [
    "import matplotlib.pyplot as plt\n",
    "import numpy as np\n",
    "import pandas as pd\n",
    "import seaborn as sns\n",
    "\n",
    "from sklearn.datasets import fetch_20newsgroups_vectorized\n",
    "from sklearn.linear_model import LogisticRegression\n",
    "from sklearn.model_selection import train_test_split\n",
    "from sklearn.metrics import accuracy_score"
   ]
  },
  {
   "cell_type": "code",
   "execution_count": 13,
   "id": "50a129e7",
   "metadata": {},
   "outputs": [],
   "source": [
    "import warnings\n",
    "\n",
    "warnings.filterwarnings('ignore')"
   ]
  },
  {
   "cell_type": "markdown",
   "id": "a521d9c2",
   "metadata": {},
   "source": [
    "## Data"
   ]
  },
  {
   "cell_type": "code",
   "execution_count": 2,
   "id": "cba835a6",
   "metadata": {},
   "outputs": [],
   "source": [
    "X, y = fetch_20newsgroups_vectorized(subset=\"all\", return_X_y=True)"
   ]
  },
  {
   "cell_type": "code",
   "execution_count": 3,
   "id": "d403b21b",
   "metadata": {},
   "outputs": [],
   "source": [
    "# Turn down for faster run time\n",
    "n_samples = 5000\n",
    "X = X[:n_samples]\n",
    "y = y[:n_samples]"
   ]
  },
  {
   "cell_type": "code",
   "execution_count": 4,
   "id": "273e5f8b",
   "metadata": {},
   "outputs": [
    {
     "name": "stdout",
     "output_type": "stream",
     "text": [
      "Shape of X (5000, 130107)\n",
      "Shape of y (5000,)\n"
     ]
    }
   ],
   "source": [
    "print('Shape of X',X.shape)\n",
    "print('Shape of y',y.shape)"
   ]
  },
  {
   "cell_type": "code",
   "execution_count": 5,
   "id": "3a58f11f",
   "metadata": {},
   "outputs": [],
   "source": [
    "# We use SAGA solver\n",
    "solver = \"saga\"\n",
    "# Saga solver support l1 and l2 regularization \n",
    "# Saga solver support multinomial and OVR"
   ]
  },
  {
   "cell_type": "code",
   "execution_count": 6,
   "id": "10fe472e",
   "metadata": {},
   "outputs": [],
   "source": [
    "X_train, X_test, y_train, y_test = train_test_split(\n",
    "    X, y, random_state=42, stratify=y, test_size=0.1\n",
    ")"
   ]
  },
  {
   "cell_type": "code",
   "execution_count": 7,
   "id": "e0ffa592",
   "metadata": {},
   "outputs": [
    {
     "name": "stdout",
     "output_type": "stream",
     "text": [
      "Train samples : 4500\n",
      "Train features : 130107\n",
      "Classes : 20\n"
     ]
    }
   ],
   "source": [
    "train_samples, n_features = X_train.shape\n",
    "n_classes = np.unique(y).shape[0]\n",
    "print('Train samples :',train_samples)\n",
    "print('Train features :',n_features)\n",
    "print('Classes :',n_classes)"
   ]
  },
  {
   "cell_type": "markdown",
   "id": "b7ea1f8d",
   "metadata": {},
   "source": [
    "## Logistic Regression -- One vs Rest  -- SAGA solver with l1 penalty"
   ]
  },
  {
   "cell_type": "code",
   "execution_count": 18,
   "id": "00e37a84",
   "metadata": {},
   "outputs": [
    {
     "name": "stdout",
     "output_type": "stream",
     "text": [
      "Model Logistic regression - One vs Rest - Solver: Saga \n",
      "max_iter:1 Accuracy score 0.558\n",
      "max_iter:2 Accuracy score 0.576\n",
      "max_iter:3 Accuracy score 0.634\n",
      "max_iter:5 Accuracy score 0.632\n"
     ]
    }
   ],
   "source": [
    "print(f'Model Logistic regression - One vs Rest - Solver: Saga ')\n",
    "\n",
    "for i in [1, 2, 3, 5]:\n",
    "    lr_ovr = LogisticRegression(solver='saga', multi_class='ovr', penalty='l1', max_iter=i).fit(X_train, y_train)\n",
    "\n",
    "    y_pred = lr_ovr.predict(X_test)\n",
    "    \n",
    "    acc = accuracy_score(y_test, y_pred)\n",
    "    \n",
    "    print(f'max_iter:{i} Accuracy score {acc}')"
   ]
  },
  {
   "cell_type": "markdown",
   "id": "d648b3d8",
   "metadata": {},
   "source": [
    "## Logistic Regression -- multinomial (multiclass) model  -- SAGA solver  with l1 penalty"
   ]
  },
  {
   "cell_type": "code",
   "execution_count": 21,
   "id": "0ac34cca",
   "metadata": {},
   "outputs": [
    {
     "name": "stdout",
     "output_type": "stream",
     "text": [
      "Model Logistic regression - multinomial (multiclass) model - Solver: Saga \n",
      "max_iter:1 Accuracy score 0.446\n",
      "max_iter:2 Accuracy score 0.582\n",
      "max_iter:3 Accuracy score 0.59\n",
      "max_iter:5 Accuracy score 0.634\n"
     ]
    }
   ],
   "source": [
    "print(f'Model Logistic regression - multinomial (multiclass) model - Solver: Saga ')\n",
    "\n",
    "for i in [1, 2, 3, 5]:\n",
    "    lr_ovr = LogisticRegression(solver='saga', multi_class='multinomial', penalty='l1', max_iter=i).fit(X_train, y_train)\n",
    "\n",
    "    y_pred = lr_ovr.predict(X_test)\n",
    "    \n",
    "    acc = accuracy_score(y_test, y_pred)\n",
    "    \n",
    "    print(f'max_iter:{i} Accuracy score {acc}')"
   ]
  },
  {
   "cell_type": "code",
   "execution_count": null,
   "id": "9ab5f9c3",
   "metadata": {},
   "outputs": [],
   "source": []
  }
 ],
 "metadata": {
  "kernelspec": {
   "display_name": "Python 3 (ipykernel)",
   "language": "python",
   "name": "python3"
  },
  "language_info": {
   "codemirror_mode": {
    "name": "ipython",
    "version": 3
   },
   "file_extension": ".py",
   "mimetype": "text/x-python",
   "name": "python",
   "nbconvert_exporter": "python",
   "pygments_lexer": "ipython3",
   "version": "3.9.12"
  }
 },
 "nbformat": 4,
 "nbformat_minor": 5
}
