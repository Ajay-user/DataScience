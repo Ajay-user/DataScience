{
  "nbformat": 4,
  "nbformat_minor": 0,
  "metadata": {
    "colab": {
      "name": "Logistic_Regression Tensorflow.ipynb",
      "provenance": [],
      "collapsed_sections": [],
      "toc_visible": true,
      "authorship_tag": "ABX9TyMnZ4QGYcx6OtlQEmIV58Xa",
      "include_colab_link": true
    },
    "kernelspec": {
      "name": "python3",
      "display_name": "Python 3"
    },
    "language_info": {
      "name": "python"
    },
    "widgets": {
      "application/vnd.jupyter.widget-state+json": {
        "ea7fcd883d05487e8b43ea520d316a3f": {
          "model_module": "@jupyter-widgets/controls",
          "model_name": "HBoxModel",
          "state": {
            "_view_name": "HBoxView",
            "_dom_classes": [],
            "_model_name": "HBoxModel",
            "_view_module": "@jupyter-widgets/controls",
            "_model_module_version": "1.5.0",
            "_view_count": null,
            "_view_module_version": "1.5.0",
            "box_style": "",
            "layout": "IPY_MODEL_c90b0b53d6f7462cb17842f70f3c1fe9",
            "_model_module": "@jupyter-widgets/controls",
            "children": [
              "IPY_MODEL_14f7e9ae9ff448f38d30724884615c8d",
              "IPY_MODEL_48aaa027182c42298e51362beb9317be"
            ]
          }
        },
        "c90b0b53d6f7462cb17842f70f3c1fe9": {
          "model_module": "@jupyter-widgets/base",
          "model_name": "LayoutModel",
          "state": {
            "_view_name": "LayoutView",
            "grid_template_rows": null,
            "right": null,
            "justify_content": null,
            "_view_module": "@jupyter-widgets/base",
            "overflow": null,
            "_model_module_version": "1.2.0",
            "_view_count": null,
            "flex_flow": null,
            "width": null,
            "min_width": null,
            "border": null,
            "align_items": null,
            "bottom": null,
            "_model_module": "@jupyter-widgets/base",
            "top": null,
            "grid_column": null,
            "overflow_y": null,
            "overflow_x": null,
            "grid_auto_flow": null,
            "grid_area": null,
            "grid_template_columns": null,
            "flex": null,
            "_model_name": "LayoutModel",
            "justify_items": null,
            "grid_row": null,
            "max_height": null,
            "align_content": null,
            "visibility": null,
            "align_self": null,
            "height": null,
            "min_height": null,
            "padding": null,
            "grid_auto_rows": null,
            "grid_gap": null,
            "max_width": null,
            "order": null,
            "_view_module_version": "1.2.0",
            "grid_template_areas": null,
            "object_position": null,
            "object_fit": null,
            "grid_auto_columns": null,
            "margin": null,
            "display": null,
            "left": null
          }
        },
        "14f7e9ae9ff448f38d30724884615c8d": {
          "model_module": "@jupyter-widgets/controls",
          "model_name": "FloatProgressModel",
          "state": {
            "_view_name": "ProgressView",
            "style": "IPY_MODEL_720135c3c8894502ab4a8917f959e911",
            "_dom_classes": [],
            "description": "100%",
            "_model_name": "FloatProgressModel",
            "bar_style": "success",
            "max": 1875,
            "_view_module": "@jupyter-widgets/controls",
            "_model_module_version": "1.5.0",
            "value": 1875,
            "_view_count": null,
            "_view_module_version": "1.5.0",
            "orientation": "horizontal",
            "min": 0,
            "description_tooltip": null,
            "_model_module": "@jupyter-widgets/controls",
            "layout": "IPY_MODEL_bb6dff35d6f74a24a0d30b63bce7f1f0"
          }
        },
        "48aaa027182c42298e51362beb9317be": {
          "model_module": "@jupyter-widgets/controls",
          "model_name": "HTMLModel",
          "state": {
            "_view_name": "HTMLView",
            "style": "IPY_MODEL_7439e819d4844aa4a1b1f4457ad0d5a9",
            "_dom_classes": [],
            "description": "",
            "_model_name": "HTMLModel",
            "placeholder": "​",
            "_view_module": "@jupyter-widgets/controls",
            "_model_module_version": "1.5.0",
            "value": " 1875/1875 [00:39&lt;00:00, 47.70it/s]",
            "_view_count": null,
            "_view_module_version": "1.5.0",
            "description_tooltip": null,
            "_model_module": "@jupyter-widgets/controls",
            "layout": "IPY_MODEL_4823d009dd3a4b77baf7dc88efbd8c5c"
          }
        },
        "720135c3c8894502ab4a8917f959e911": {
          "model_module": "@jupyter-widgets/controls",
          "model_name": "ProgressStyleModel",
          "state": {
            "_view_name": "StyleView",
            "_model_name": "ProgressStyleModel",
            "description_width": "initial",
            "_view_module": "@jupyter-widgets/base",
            "_model_module_version": "1.5.0",
            "_view_count": null,
            "_view_module_version": "1.2.0",
            "bar_color": null,
            "_model_module": "@jupyter-widgets/controls"
          }
        },
        "bb6dff35d6f74a24a0d30b63bce7f1f0": {
          "model_module": "@jupyter-widgets/base",
          "model_name": "LayoutModel",
          "state": {
            "_view_name": "LayoutView",
            "grid_template_rows": null,
            "right": null,
            "justify_content": null,
            "_view_module": "@jupyter-widgets/base",
            "overflow": null,
            "_model_module_version": "1.2.0",
            "_view_count": null,
            "flex_flow": null,
            "width": null,
            "min_width": null,
            "border": null,
            "align_items": null,
            "bottom": null,
            "_model_module": "@jupyter-widgets/base",
            "top": null,
            "grid_column": null,
            "overflow_y": null,
            "overflow_x": null,
            "grid_auto_flow": null,
            "grid_area": null,
            "grid_template_columns": null,
            "flex": null,
            "_model_name": "LayoutModel",
            "justify_items": null,
            "grid_row": null,
            "max_height": null,
            "align_content": null,
            "visibility": null,
            "align_self": null,
            "height": null,
            "min_height": null,
            "padding": null,
            "grid_auto_rows": null,
            "grid_gap": null,
            "max_width": null,
            "order": null,
            "_view_module_version": "1.2.0",
            "grid_template_areas": null,
            "object_position": null,
            "object_fit": null,
            "grid_auto_columns": null,
            "margin": null,
            "display": null,
            "left": null
          }
        },
        "7439e819d4844aa4a1b1f4457ad0d5a9": {
          "model_module": "@jupyter-widgets/controls",
          "model_name": "DescriptionStyleModel",
          "state": {
            "_view_name": "StyleView",
            "_model_name": "DescriptionStyleModel",
            "description_width": "",
            "_view_module": "@jupyter-widgets/base",
            "_model_module_version": "1.5.0",
            "_view_count": null,
            "_view_module_version": "1.2.0",
            "_model_module": "@jupyter-widgets/controls"
          }
        },
        "4823d009dd3a4b77baf7dc88efbd8c5c": {
          "model_module": "@jupyter-widgets/base",
          "model_name": "LayoutModel",
          "state": {
            "_view_name": "LayoutView",
            "grid_template_rows": null,
            "right": null,
            "justify_content": null,
            "_view_module": "@jupyter-widgets/base",
            "overflow": null,
            "_model_module_version": "1.2.0",
            "_view_count": null,
            "flex_flow": null,
            "width": null,
            "min_width": null,
            "border": null,
            "align_items": null,
            "bottom": null,
            "_model_module": "@jupyter-widgets/base",
            "top": null,
            "grid_column": null,
            "overflow_y": null,
            "overflow_x": null,
            "grid_auto_flow": null,
            "grid_area": null,
            "grid_template_columns": null,
            "flex": null,
            "_model_name": "LayoutModel",
            "justify_items": null,
            "grid_row": null,
            "max_height": null,
            "align_content": null,
            "visibility": null,
            "align_self": null,
            "height": null,
            "min_height": null,
            "padding": null,
            "grid_auto_rows": null,
            "grid_gap": null,
            "max_width": null,
            "order": null,
            "_view_module_version": "1.2.0",
            "grid_template_areas": null,
            "object_position": null,
            "object_fit": null,
            "grid_auto_columns": null,
            "margin": null,
            "display": null,
            "left": null
          }
        },
        "3c91a237ce4a46289d054a880b1ad3b4": {
          "model_module": "@jupyter-widgets/controls",
          "model_name": "HBoxModel",
          "state": {
            "_view_name": "HBoxView",
            "_dom_classes": [],
            "_model_name": "HBoxModel",
            "_view_module": "@jupyter-widgets/controls",
            "_model_module_version": "1.5.0",
            "_view_count": null,
            "_view_module_version": "1.5.0",
            "box_style": "",
            "layout": "IPY_MODEL_59e1e499c2414fa981e405e139bc1f8b",
            "_model_module": "@jupyter-widgets/controls",
            "children": [
              "IPY_MODEL_6bb59be0b54d40fd8278ea6e696a5c62",
              "IPY_MODEL_c92211c4417e4c498fa0b8f731f710c4"
            ]
          }
        },
        "59e1e499c2414fa981e405e139bc1f8b": {
          "model_module": "@jupyter-widgets/base",
          "model_name": "LayoutModel",
          "state": {
            "_view_name": "LayoutView",
            "grid_template_rows": null,
            "right": null,
            "justify_content": null,
            "_view_module": "@jupyter-widgets/base",
            "overflow": null,
            "_model_module_version": "1.2.0",
            "_view_count": null,
            "flex_flow": null,
            "width": null,
            "min_width": null,
            "border": null,
            "align_items": null,
            "bottom": null,
            "_model_module": "@jupyter-widgets/base",
            "top": null,
            "grid_column": null,
            "overflow_y": null,
            "overflow_x": null,
            "grid_auto_flow": null,
            "grid_area": null,
            "grid_template_columns": null,
            "flex": null,
            "_model_name": "LayoutModel",
            "justify_items": null,
            "grid_row": null,
            "max_height": null,
            "align_content": null,
            "visibility": null,
            "align_self": null,
            "height": null,
            "min_height": null,
            "padding": null,
            "grid_auto_rows": null,
            "grid_gap": null,
            "max_width": null,
            "order": null,
            "_view_module_version": "1.2.0",
            "grid_template_areas": null,
            "object_position": null,
            "object_fit": null,
            "grid_auto_columns": null,
            "margin": null,
            "display": null,
            "left": null
          }
        },
        "6bb59be0b54d40fd8278ea6e696a5c62": {
          "model_module": "@jupyter-widgets/controls",
          "model_name": "FloatProgressModel",
          "state": {
            "_view_name": "ProgressView",
            "style": "IPY_MODEL_65f2194c37634959a1d34df217fc2317",
            "_dom_classes": [],
            "description": "100%",
            "_model_name": "FloatProgressModel",
            "bar_style": "success",
            "max": 313,
            "_view_module": "@jupyter-widgets/controls",
            "_model_module_version": "1.5.0",
            "value": 313,
            "_view_count": null,
            "_view_module_version": "1.5.0",
            "orientation": "horizontal",
            "min": 0,
            "description_tooltip": null,
            "_model_module": "@jupyter-widgets/controls",
            "layout": "IPY_MODEL_3b7408c728a448f1ab5a4bdd60c5710d"
          }
        },
        "c92211c4417e4c498fa0b8f731f710c4": {
          "model_module": "@jupyter-widgets/controls",
          "model_name": "HTMLModel",
          "state": {
            "_view_name": "HTMLView",
            "style": "IPY_MODEL_b14ba123c25b4302a896efaf9ef4acbc",
            "_dom_classes": [],
            "description": "",
            "_model_name": "HTMLModel",
            "placeholder": "​",
            "_view_module": "@jupyter-widgets/controls",
            "_model_module_version": "1.5.0",
            "value": " 313/313 [02:06&lt;00:00,  2.47it/s]",
            "_view_count": null,
            "_view_module_version": "1.5.0",
            "description_tooltip": null,
            "_model_module": "@jupyter-widgets/controls",
            "layout": "IPY_MODEL_9080048634c34a7698ab5e5e4a0810f3"
          }
        },
        "65f2194c37634959a1d34df217fc2317": {
          "model_module": "@jupyter-widgets/controls",
          "model_name": "ProgressStyleModel",
          "state": {
            "_view_name": "StyleView",
            "_model_name": "ProgressStyleModel",
            "description_width": "initial",
            "_view_module": "@jupyter-widgets/base",
            "_model_module_version": "1.5.0",
            "_view_count": null,
            "_view_module_version": "1.2.0",
            "bar_color": null,
            "_model_module": "@jupyter-widgets/controls"
          }
        },
        "3b7408c728a448f1ab5a4bdd60c5710d": {
          "model_module": "@jupyter-widgets/base",
          "model_name": "LayoutModel",
          "state": {
            "_view_name": "LayoutView",
            "grid_template_rows": null,
            "right": null,
            "justify_content": null,
            "_view_module": "@jupyter-widgets/base",
            "overflow": null,
            "_model_module_version": "1.2.0",
            "_view_count": null,
            "flex_flow": null,
            "width": null,
            "min_width": null,
            "border": null,
            "align_items": null,
            "bottom": null,
            "_model_module": "@jupyter-widgets/base",
            "top": null,
            "grid_column": null,
            "overflow_y": null,
            "overflow_x": null,
            "grid_auto_flow": null,
            "grid_area": null,
            "grid_template_columns": null,
            "flex": null,
            "_model_name": "LayoutModel",
            "justify_items": null,
            "grid_row": null,
            "max_height": null,
            "align_content": null,
            "visibility": null,
            "align_self": null,
            "height": null,
            "min_height": null,
            "padding": null,
            "grid_auto_rows": null,
            "grid_gap": null,
            "max_width": null,
            "order": null,
            "_view_module_version": "1.2.0",
            "grid_template_areas": null,
            "object_position": null,
            "object_fit": null,
            "grid_auto_columns": null,
            "margin": null,
            "display": null,
            "left": null
          }
        },
        "b14ba123c25b4302a896efaf9ef4acbc": {
          "model_module": "@jupyter-widgets/controls",
          "model_name": "DescriptionStyleModel",
          "state": {
            "_view_name": "StyleView",
            "_model_name": "DescriptionStyleModel",
            "description_width": "",
            "_view_module": "@jupyter-widgets/base",
            "_model_module_version": "1.5.0",
            "_view_count": null,
            "_view_module_version": "1.2.0",
            "_model_module": "@jupyter-widgets/controls"
          }
        },
        "9080048634c34a7698ab5e5e4a0810f3": {
          "model_module": "@jupyter-widgets/base",
          "model_name": "LayoutModel",
          "state": {
            "_view_name": "LayoutView",
            "grid_template_rows": null,
            "right": null,
            "justify_content": null,
            "_view_module": "@jupyter-widgets/base",
            "overflow": null,
            "_model_module_version": "1.2.0",
            "_view_count": null,
            "flex_flow": null,
            "width": null,
            "min_width": null,
            "border": null,
            "align_items": null,
            "bottom": null,
            "_model_module": "@jupyter-widgets/base",
            "top": null,
            "grid_column": null,
            "overflow_y": null,
            "overflow_x": null,
            "grid_auto_flow": null,
            "grid_area": null,
            "grid_template_columns": null,
            "flex": null,
            "_model_name": "LayoutModel",
            "justify_items": null,
            "grid_row": null,
            "max_height": null,
            "align_content": null,
            "visibility": null,
            "align_self": null,
            "height": null,
            "min_height": null,
            "padding": null,
            "grid_auto_rows": null,
            "grid_gap": null,
            "max_width": null,
            "order": null,
            "_view_module_version": "1.2.0",
            "grid_template_areas": null,
            "object_position": null,
            "object_fit": null,
            "grid_auto_columns": null,
            "margin": null,
            "display": null,
            "left": null
          }
        },
        "4914c9721a064a5192023ce875857d51": {
          "model_module": "@jupyter-widgets/controls",
          "model_name": "HBoxModel",
          "state": {
            "_view_name": "HBoxView",
            "_dom_classes": [],
            "_model_name": "HBoxModel",
            "_view_module": "@jupyter-widgets/controls",
            "_model_module_version": "1.5.0",
            "_view_count": null,
            "_view_module_version": "1.5.0",
            "box_style": "",
            "layout": "IPY_MODEL_d1cb816ca1834995843c869f16323917",
            "_model_module": "@jupyter-widgets/controls",
            "children": [
              "IPY_MODEL_12b0c02a5d8a4fc693ede1ee4a591b43",
              "IPY_MODEL_18eed75dc5f34513bf9665c98173c679"
            ]
          }
        },
        "d1cb816ca1834995843c869f16323917": {
          "model_module": "@jupyter-widgets/base",
          "model_name": "LayoutModel",
          "state": {
            "_view_name": "LayoutView",
            "grid_template_rows": null,
            "right": null,
            "justify_content": null,
            "_view_module": "@jupyter-widgets/base",
            "overflow": null,
            "_model_module_version": "1.2.0",
            "_view_count": null,
            "flex_flow": null,
            "width": null,
            "min_width": null,
            "border": null,
            "align_items": null,
            "bottom": null,
            "_model_module": "@jupyter-widgets/base",
            "top": null,
            "grid_column": null,
            "overflow_y": null,
            "overflow_x": null,
            "grid_auto_flow": null,
            "grid_area": null,
            "grid_template_columns": null,
            "flex": null,
            "_model_name": "LayoutModel",
            "justify_items": null,
            "grid_row": null,
            "max_height": null,
            "align_content": null,
            "visibility": null,
            "align_self": null,
            "height": null,
            "min_height": null,
            "padding": null,
            "grid_auto_rows": null,
            "grid_gap": null,
            "max_width": null,
            "order": null,
            "_view_module_version": "1.2.0",
            "grid_template_areas": null,
            "object_position": null,
            "object_fit": null,
            "grid_auto_columns": null,
            "margin": null,
            "display": null,
            "left": null
          }
        },
        "12b0c02a5d8a4fc693ede1ee4a591b43": {
          "model_module": "@jupyter-widgets/controls",
          "model_name": "FloatProgressModel",
          "state": {
            "_view_name": "ProgressView",
            "style": "IPY_MODEL_8617d99e27454247b39952c0d9f75a97",
            "_dom_classes": [],
            "description": "100%",
            "_model_name": "FloatProgressModel",
            "bar_style": "success",
            "max": 1875,
            "_view_module": "@jupyter-widgets/controls",
            "_model_module_version": "1.5.0",
            "value": 1875,
            "_view_count": null,
            "_view_module_version": "1.5.0",
            "orientation": "horizontal",
            "min": 0,
            "description_tooltip": null,
            "_model_module": "@jupyter-widgets/controls",
            "layout": "IPY_MODEL_ad566bd39f99407db58ac8bf2a8b451e"
          }
        },
        "18eed75dc5f34513bf9665c98173c679": {
          "model_module": "@jupyter-widgets/controls",
          "model_name": "HTMLModel",
          "state": {
            "_view_name": "HTMLView",
            "style": "IPY_MODEL_a87a9f100e9b46b3bae59cde95e10457",
            "_dom_classes": [],
            "description": "",
            "_model_name": "HTMLModel",
            "placeholder": "​",
            "_view_module": "@jupyter-widgets/controls",
            "_model_module_version": "1.5.0",
            "value": " 1875/1875 [00:55&lt;00:00, 33.66it/s]",
            "_view_count": null,
            "_view_module_version": "1.5.0",
            "description_tooltip": null,
            "_model_module": "@jupyter-widgets/controls",
            "layout": "IPY_MODEL_7616b2cbac284efbb03897e7e0ef87cc"
          }
        },
        "8617d99e27454247b39952c0d9f75a97": {
          "model_module": "@jupyter-widgets/controls",
          "model_name": "ProgressStyleModel",
          "state": {
            "_view_name": "StyleView",
            "_model_name": "ProgressStyleModel",
            "description_width": "initial",
            "_view_module": "@jupyter-widgets/base",
            "_model_module_version": "1.5.0",
            "_view_count": null,
            "_view_module_version": "1.2.0",
            "bar_color": null,
            "_model_module": "@jupyter-widgets/controls"
          }
        },
        "ad566bd39f99407db58ac8bf2a8b451e": {
          "model_module": "@jupyter-widgets/base",
          "model_name": "LayoutModel",
          "state": {
            "_view_name": "LayoutView",
            "grid_template_rows": null,
            "right": null,
            "justify_content": null,
            "_view_module": "@jupyter-widgets/base",
            "overflow": null,
            "_model_module_version": "1.2.0",
            "_view_count": null,
            "flex_flow": null,
            "width": null,
            "min_width": null,
            "border": null,
            "align_items": null,
            "bottom": null,
            "_model_module": "@jupyter-widgets/base",
            "top": null,
            "grid_column": null,
            "overflow_y": null,
            "overflow_x": null,
            "grid_auto_flow": null,
            "grid_area": null,
            "grid_template_columns": null,
            "flex": null,
            "_model_name": "LayoutModel",
            "justify_items": null,
            "grid_row": null,
            "max_height": null,
            "align_content": null,
            "visibility": null,
            "align_self": null,
            "height": null,
            "min_height": null,
            "padding": null,
            "grid_auto_rows": null,
            "grid_gap": null,
            "max_width": null,
            "order": null,
            "_view_module_version": "1.2.0",
            "grid_template_areas": null,
            "object_position": null,
            "object_fit": null,
            "grid_auto_columns": null,
            "margin": null,
            "display": null,
            "left": null
          }
        },
        "a87a9f100e9b46b3bae59cde95e10457": {
          "model_module": "@jupyter-widgets/controls",
          "model_name": "DescriptionStyleModel",
          "state": {
            "_view_name": "StyleView",
            "_model_name": "DescriptionStyleModel",
            "description_width": "",
            "_view_module": "@jupyter-widgets/base",
            "_model_module_version": "1.5.0",
            "_view_count": null,
            "_view_module_version": "1.2.0",
            "_model_module": "@jupyter-widgets/controls"
          }
        },
        "7616b2cbac284efbb03897e7e0ef87cc": {
          "model_module": "@jupyter-widgets/base",
          "model_name": "LayoutModel",
          "state": {
            "_view_name": "LayoutView",
            "grid_template_rows": null,
            "right": null,
            "justify_content": null,
            "_view_module": "@jupyter-widgets/base",
            "overflow": null,
            "_model_module_version": "1.2.0",
            "_view_count": null,
            "flex_flow": null,
            "width": null,
            "min_width": null,
            "border": null,
            "align_items": null,
            "bottom": null,
            "_model_module": "@jupyter-widgets/base",
            "top": null,
            "grid_column": null,
            "overflow_y": null,
            "overflow_x": null,
            "grid_auto_flow": null,
            "grid_area": null,
            "grid_template_columns": null,
            "flex": null,
            "_model_name": "LayoutModel",
            "justify_items": null,
            "grid_row": null,
            "max_height": null,
            "align_content": null,
            "visibility": null,
            "align_self": null,
            "height": null,
            "min_height": null,
            "padding": null,
            "grid_auto_rows": null,
            "grid_gap": null,
            "max_width": null,
            "order": null,
            "_view_module_version": "1.2.0",
            "grid_template_areas": null,
            "object_position": null,
            "object_fit": null,
            "grid_auto_columns": null,
            "margin": null,
            "display": null,
            "left": null
          }
        },
        "085a7ba2cc8240569486641c4f938aec": {
          "model_module": "@jupyter-widgets/controls",
          "model_name": "HBoxModel",
          "state": {
            "_view_name": "HBoxView",
            "_dom_classes": [],
            "_model_name": "HBoxModel",
            "_view_module": "@jupyter-widgets/controls",
            "_model_module_version": "1.5.0",
            "_view_count": null,
            "_view_module_version": "1.5.0",
            "box_style": "",
            "layout": "IPY_MODEL_2d1b68e50a504c63a9a850813b2d75e2",
            "_model_module": "@jupyter-widgets/controls",
            "children": [
              "IPY_MODEL_2ddd7f12f8fc4acd85520a14c0704138",
              "IPY_MODEL_8578e14dff8a4efdb1d1e840098b397e"
            ]
          }
        },
        "2d1b68e50a504c63a9a850813b2d75e2": {
          "model_module": "@jupyter-widgets/base",
          "model_name": "LayoutModel",
          "state": {
            "_view_name": "LayoutView",
            "grid_template_rows": null,
            "right": null,
            "justify_content": null,
            "_view_module": "@jupyter-widgets/base",
            "overflow": null,
            "_model_module_version": "1.2.0",
            "_view_count": null,
            "flex_flow": null,
            "width": null,
            "min_width": null,
            "border": null,
            "align_items": null,
            "bottom": null,
            "_model_module": "@jupyter-widgets/base",
            "top": null,
            "grid_column": null,
            "overflow_y": null,
            "overflow_x": null,
            "grid_auto_flow": null,
            "grid_area": null,
            "grid_template_columns": null,
            "flex": null,
            "_model_name": "LayoutModel",
            "justify_items": null,
            "grid_row": null,
            "max_height": null,
            "align_content": null,
            "visibility": null,
            "align_self": null,
            "height": null,
            "min_height": null,
            "padding": null,
            "grid_auto_rows": null,
            "grid_gap": null,
            "max_width": null,
            "order": null,
            "_view_module_version": "1.2.0",
            "grid_template_areas": null,
            "object_position": null,
            "object_fit": null,
            "grid_auto_columns": null,
            "margin": null,
            "display": null,
            "left": null
          }
        },
        "2ddd7f12f8fc4acd85520a14c0704138": {
          "model_module": "@jupyter-widgets/controls",
          "model_name": "FloatProgressModel",
          "state": {
            "_view_name": "ProgressView",
            "style": "IPY_MODEL_4de26fef743c4c7db61034ba0120dd69",
            "_dom_classes": [],
            "description": "100%",
            "_model_name": "FloatProgressModel",
            "bar_style": "success",
            "max": 313,
            "_view_module": "@jupyter-widgets/controls",
            "_model_module_version": "1.5.0",
            "value": 313,
            "_view_count": null,
            "_view_module_version": "1.5.0",
            "orientation": "horizontal",
            "min": 0,
            "description_tooltip": null,
            "_model_module": "@jupyter-widgets/controls",
            "layout": "IPY_MODEL_822418781acc4d3e8f8afee00067c94d"
          }
        },
        "8578e14dff8a4efdb1d1e840098b397e": {
          "model_module": "@jupyter-widgets/controls",
          "model_name": "HTMLModel",
          "state": {
            "_view_name": "HTMLView",
            "style": "IPY_MODEL_d480e37e97f4414e84e303210d7891db",
            "_dom_classes": [],
            "description": "",
            "_model_name": "HTMLModel",
            "placeholder": "​",
            "_view_module": "@jupyter-widgets/controls",
            "_model_module_version": "1.5.0",
            "value": " 313/313 [02:05&lt;00:00,  2.50it/s]",
            "_view_count": null,
            "_view_module_version": "1.5.0",
            "description_tooltip": null,
            "_model_module": "@jupyter-widgets/controls",
            "layout": "IPY_MODEL_dc0d77224eda49eb87abe44fd15766af"
          }
        },
        "4de26fef743c4c7db61034ba0120dd69": {
          "model_module": "@jupyter-widgets/controls",
          "model_name": "ProgressStyleModel",
          "state": {
            "_view_name": "StyleView",
            "_model_name": "ProgressStyleModel",
            "description_width": "initial",
            "_view_module": "@jupyter-widgets/base",
            "_model_module_version": "1.5.0",
            "_view_count": null,
            "_view_module_version": "1.2.0",
            "bar_color": null,
            "_model_module": "@jupyter-widgets/controls"
          }
        },
        "822418781acc4d3e8f8afee00067c94d": {
          "model_module": "@jupyter-widgets/base",
          "model_name": "LayoutModel",
          "state": {
            "_view_name": "LayoutView",
            "grid_template_rows": null,
            "right": null,
            "justify_content": null,
            "_view_module": "@jupyter-widgets/base",
            "overflow": null,
            "_model_module_version": "1.2.0",
            "_view_count": null,
            "flex_flow": null,
            "width": null,
            "min_width": null,
            "border": null,
            "align_items": null,
            "bottom": null,
            "_model_module": "@jupyter-widgets/base",
            "top": null,
            "grid_column": null,
            "overflow_y": null,
            "overflow_x": null,
            "grid_auto_flow": null,
            "grid_area": null,
            "grid_template_columns": null,
            "flex": null,
            "_model_name": "LayoutModel",
            "justify_items": null,
            "grid_row": null,
            "max_height": null,
            "align_content": null,
            "visibility": null,
            "align_self": null,
            "height": null,
            "min_height": null,
            "padding": null,
            "grid_auto_rows": null,
            "grid_gap": null,
            "max_width": null,
            "order": null,
            "_view_module_version": "1.2.0",
            "grid_template_areas": null,
            "object_position": null,
            "object_fit": null,
            "grid_auto_columns": null,
            "margin": null,
            "display": null,
            "left": null
          }
        },
        "d480e37e97f4414e84e303210d7891db": {
          "model_module": "@jupyter-widgets/controls",
          "model_name": "DescriptionStyleModel",
          "state": {
            "_view_name": "StyleView",
            "_model_name": "DescriptionStyleModel",
            "description_width": "",
            "_view_module": "@jupyter-widgets/base",
            "_model_module_version": "1.5.0",
            "_view_count": null,
            "_view_module_version": "1.2.0",
            "_model_module": "@jupyter-widgets/controls"
          }
        },
        "dc0d77224eda49eb87abe44fd15766af": {
          "model_module": "@jupyter-widgets/base",
          "model_name": "LayoutModel",
          "state": {
            "_view_name": "LayoutView",
            "grid_template_rows": null,
            "right": null,
            "justify_content": null,
            "_view_module": "@jupyter-widgets/base",
            "overflow": null,
            "_model_module_version": "1.2.0",
            "_view_count": null,
            "flex_flow": null,
            "width": null,
            "min_width": null,
            "border": null,
            "align_items": null,
            "bottom": null,
            "_model_module": "@jupyter-widgets/base",
            "top": null,
            "grid_column": null,
            "overflow_y": null,
            "overflow_x": null,
            "grid_auto_flow": null,
            "grid_area": null,
            "grid_template_columns": null,
            "flex": null,
            "_model_name": "LayoutModel",
            "justify_items": null,
            "grid_row": null,
            "max_height": null,
            "align_content": null,
            "visibility": null,
            "align_self": null,
            "height": null,
            "min_height": null,
            "padding": null,
            "grid_auto_rows": null,
            "grid_gap": null,
            "max_width": null,
            "order": null,
            "_view_module_version": "1.2.0",
            "grid_template_areas": null,
            "object_position": null,
            "object_fit": null,
            "grid_auto_columns": null,
            "margin": null,
            "display": null,
            "left": null
          }
        }
      }
    }
  },
  "cells": [
    {
      "cell_type": "markdown",
      "metadata": {
        "id": "view-in-github",
        "colab_type": "text"
      },
      "source": [
        "<a href=\"https://colab.research.google.com/github/Ajay-user/DataScience/blob/master/Logistic_Regression_Tensorflow.ipynb\" target=\"_parent\"><img src=\"https://colab.research.google.com/assets/colab-badge.svg\" alt=\"Open In Colab\"/></a>"
      ]
    },
    {
      "cell_type": "code",
      "metadata": {
        "id": "5ntP6I6BwOJg"
      },
      "source": [
        "import tensorflow as tf\n",
        "import numpy as np\n",
        "import matplotlib.pyplot as plt\n",
        "%matplotlib inline"
      ],
      "execution_count": 1,
      "outputs": []
    },
    {
      "cell_type": "markdown",
      "metadata": {
        "id": "q3gscRkRySoy"
      },
      "source": [
        "## Import data"
      ]
    },
    {
      "cell_type": "code",
      "metadata": {
        "id": "m4pqsLbRwjcT"
      },
      "source": [
        "(x_train, y_train), (x_test, y_test) = tf.keras.datasets.mnist.load_data()"
      ],
      "execution_count": 2,
      "outputs": []
    },
    {
      "cell_type": "markdown",
      "metadata": {
        "id": "ENiiaUuMxNuH"
      },
      "source": [
        "The MNIST dataset is very popular machine learning dataset, consisting of 70000 grayscale images of handwritten digits, of dimensions 28x28."
      ]
    },
    {
      "cell_type": "code",
      "metadata": {
        "colab": {
          "base_uri": "https://localhost:8080/"
        },
        "id": "bHPe3Nhmw-tK",
        "outputId": "713c0d49-4f95-4f11-e917-d6ff539789dc"
      },
      "source": [
        "print('training image set shape',x_train.shape)\n",
        "print('training label set shape',y_train.shape)\n",
        "print('testing image set shape',x_test.shape)\n",
        "print('testing label set shape',y_test.shape)\n"
      ],
      "execution_count": 3,
      "outputs": [
        {
          "output_type": "stream",
          "text": [
            "training image set shape (60000, 28, 28)\n",
            "training label set shape (60000,)\n",
            "testing image set shape (10000, 28, 28)\n",
            "testing label set shape (10000,)\n"
          ],
          "name": "stdout"
        }
      ]
    },
    {
      "cell_type": "markdown",
      "metadata": {
        "id": "wHE1knkAyO-I"
      },
      "source": [
        "## Preprocessing "
      ]
    },
    {
      "cell_type": "code",
      "metadata": {
        "colab": {
          "base_uri": "https://localhost:8080/"
        },
        "id": "C8mqdNSDxGCt",
        "outputId": "d556d4e4-47d0-45c1-e781-d7b5626bfd4b"
      },
      "source": [
        "# adding channel info\n",
        "x_train = x_train[..., tf.newaxis].astype('float32')\n",
        "x_test = x_test[...,tf.newaxis].astype('float32')\n",
        "\n",
        "print('training image set shape',x_train.shape)\n",
        "print('testing image set shape',x_test.shape)"
      ],
      "execution_count": 4,
      "outputs": [
        {
          "output_type": "stream",
          "text": [
            "training image set shape (60000, 28, 28, 1)\n",
            "testing image set shape (10000, 28, 28, 1)\n"
          ],
          "name": "stdout"
        }
      ]
    },
    {
      "cell_type": "markdown",
      "metadata": {
        "id": "GHRUKdhmzbEc"
      },
      "source": [
        "### Use tf.data to batch and shuffle the dataset"
      ]
    },
    {
      "cell_type": "code",
      "metadata": {
        "colab": {
          "base_uri": "https://localhost:8080/"
        },
        "id": "gcT647QjzRHS",
        "outputId": "eb849ed4-8aab-41ef-b4e1-937f8bba2a05"
      },
      "source": [
        "# shuffling and batching\n",
        "train_ds = tf.data.Dataset.from_tensor_slices((x_train,y_train)).shuffle(60000).batch(32)\n",
        "test_ds = tf.data.Dataset.from_tensor_slices((x_test,y_test)).batch(32)\n",
        "\n",
        "print('training dataset ',train_ds.element_spec)\n",
        "print('testing dataset', test_ds.element_spec)"
      ],
      "execution_count": 5,
      "outputs": [
        {
          "output_type": "stream",
          "text": [
            "training dataset  (TensorSpec(shape=(None, 28, 28, 1), dtype=tf.float32, name=None), TensorSpec(shape=(None,), dtype=tf.uint8, name=None))\n",
            "testing dataset (TensorSpec(shape=(None, 28, 28, 1), dtype=tf.float32, name=None), TensorSpec(shape=(None,), dtype=tf.uint8, name=None))\n"
          ],
          "name": "stdout"
        }
      ]
    },
    {
      "cell_type": "markdown",
      "metadata": {
        "id": "0OdZ11eo0TxZ"
      },
      "source": [
        "## Visualize the training data"
      ]
    },
    {
      "cell_type": "code",
      "metadata": {
        "colab": {
          "base_uri": "https://localhost:8080/",
          "height": 237
        },
        "id": "GzCnIMoL0ALM",
        "outputId": "31f49ead-30a3-4991-f301-7ab7b605f036"
      },
      "source": [
        "images , labels = next(iter(train_ds))\n",
        "index = 0\n",
        "for image in images:\n",
        "  index +=1\n",
        "  plt.subplot(4,8,index)\n",
        "  plt.imshow(image.numpy().reshape(28,28), cmap=plt.cm.binary)\n",
        "  plt.axis('off')"
      ],
      "execution_count": 6,
      "outputs": [
        {
          "output_type": "display_data",
          "data": {
            "image/png": "[encoded data removed]",
            "text/plain": [
              "<Figure size 432x288 with 32 Axes>"
            ]
          },
          "metadata": {
            "tags": [],
            "needs_background": "light"
          }
        }
      ]
    },
    {
      "cell_type": "markdown",
      "metadata": {
        "id": "Um5x-0qx2qkU"
      },
      "source": [
        "While our data inputs (which we'll call x) are images (i.e. 2-dimensional), MNIST digits are pretty small, and the model we're using is very simple.\n",
        "\n",
        "Thus, we're going to be treating the input as flat vectors.\n",
        "\n",
        "we can use tf.reshape for accomplishing this "
      ]
    },
    {
      "cell_type": "code",
      "metadata": {
        "colab": {
          "base_uri": "https://localhost:8080/"
        },
        "id": "FTc_-LOd020h",
        "outputId": "92228fcd-5e6c-4ef3-8cb8-73e15d4fed63"
      },
      "source": [
        "# input data\n",
        "x = tf.reshape(images, shape=[-1, 28*28])\n",
        "print('shape of input ',x.shape)"
      ],
      "execution_count": 7,
      "outputs": [
        {
          "output_type": "stream",
          "text": [
            "shape of input  (32, 784)\n"
          ],
          "name": "stdout"
        }
      ]
    },
    {
      "cell_type": "markdown",
      "metadata": {
        "id": "7BnaFPGz4CV8"
      },
      "source": [
        "\n",
        "To get our predicted probabilities of each digit, let's first start with the probability of a digit for eg: let digit = 1\n",
        "\n",
        " For our simple model, we can start by applying a linear transformation.\n",
        " \n",
        " That is, we multiply each pixel $x_i$ of the input row vector by a weight $w_{i,1}$, sum them all together, and then add a bias $b_1$. This is equivalent to a dot product between the class \"1\" weights and the input:\n",
        "\n",
        "$$\\begin{align}\n",
        "y_1 = \\sum_i x_i w_{i,1} + b_1\n",
        "\\end{align}$$\n",
        "\n",
        "The magnitude of this result $y_1$, we'll take as being correlated to our belief in how likely we think the input digit was a 1. The higher the value of $y_1$, the more likely we think the input image $x$ was a 1 (i.e., we'd hope we'd get a relatively large value for $y_1$ for the above image). Remember though, our original goal was to identify all 10 digits, so we actually have:\n",
        "\n",
        "$$\\begin{align*}\n",
        "y_0 = \\sum_i x_i w_{i,0} + b_0 \\\\\n",
        "y_1 = \\sum_i x_i w_{i,1} + b_1 \\\\\n",
        "y_2 = \\sum_i x_i w_{i,2} + b_2 \\\\\n",
        "y_3 = \\sum_i x_i w_{i,3} + b_3 \\\\\n",
        "y_4 = \\sum_i x_i w_{i,4} + b_4 \\\\\n",
        "y_5 = \\sum_i x_i w_{i,5} + b_5 \\\\\n",
        "y_6 = \\sum_i x_i w_{i,6} + b_6 \\\\\n",
        "y_7 = \\sum_i x_i w_{i,7} + b_7 \\\\\n",
        "y_8 = \\sum_i x_i w_{i,8} + b_8 \\\\\n",
        "y_9 = \\sum_i x_i w_{i,9} + b_9\n",
        "\\end{align*}$$\n",
        "We can express this in matrix form as:\n",
        "\n",
        "$$\\begin{align}\n",
        "y = x W + b \n",
        "\\end{align}$$\n",
        "To take advantage of parallel computation, we commonly process multiple inputs $x$ at once, in a minibatch. We can stack each input $x$ into a matrix $X$, giving us\n",
        "\n",
        "$$\\begin{align}\n",
        "Y = X W + b \n",
        "\\end{align}$$\n",
        "\n",
        "In our specific example, the minibatch size $m$ is $32$, the dimension of the data is $28 \\times 28=784$, and the number of classes $c$ is $10$. While $X$ and $Y$ are matrices due to the batching, conventionally, they are often given lowercase variable names, as if they were for a single example. We will use x and y throughout.\n",
        "\n",
        "\n",
        "\n",
        "`The weight 𝑊 and bias 𝑏 make up the parameters of this model. When we say that we want to \"learn the model,\" what we're really trying to do is find good values for every element in 𝑊 and 𝑏 . Before we begin learning, we need to initialize our parameters to some value, as a starting point. Here, we don't really know what the best values are, so we going to initialize 𝑊 randomly (using something called glorot initialization), and set 𝑏 to a vector of zeros.`"
      ]
    },
    {
      "cell_type": "markdown",
      "metadata": {
        "id": "6PiR9qWr5wVj"
      },
      "source": [
        "## Weight and bias"
      ]
    },
    {
      "cell_type": "code",
      "metadata": {
        "colab": {
          "base_uri": "https://localhost:8080/"
        },
        "id": "wzgC3Yds3p1R",
        "outputId": "5244ef06-a08b-48ad-eeb3-000cc73978cf"
      },
      "source": [
        "# Randomly initialize weights W\n",
        "initializer = tf.keras.initializers.GlorotUniform()\n",
        "values = initializer(shape=(784,10))\n",
        "W = tf.Variable(initial_value=values, trainable=True, name='Weight matrix')\n",
        "W"
      ],
      "execution_count": 8,
      "outputs": [
        {
          "output_type": "execute_result",
          "data": {
            "text/plain": [
              "<tf.Variable 'Weight matrix:0' shape=(784, 10) dtype=float32, numpy=\n",
              "array([[-0.07497184, -0.0104222 , -0.05938705, ..., -0.05212446,\n",
              "        -0.01464131,  0.0158154 ],\n",
              "       [ 0.01998486, -0.04123537,  0.00597461, ...,  0.02336224,\n",
              "         0.0230143 , -0.08053989],\n",
              "       [-0.02881853, -0.00373884, -0.00394925, ...,  0.05332046,\n",
              "         0.05392396,  0.07506866],\n",
              "       ...,\n",
              "       [-0.06237372,  0.01338241,  0.05482716, ...,  0.00322207,\n",
              "        -0.06408623,  0.02508795],\n",
              "       [-0.08154108, -0.00711457,  0.07368211, ...,  0.05013929,\n",
              "         0.06218601,  0.01826372],\n",
              "       [ 0.03182149,  0.0503198 , -0.0795769 , ...,  0.01782169,\n",
              "        -0.05829192, -0.07600254]], dtype=float32)>"
            ]
          },
          "metadata": {
            "tags": []
          },
          "execution_count": 8
        }
      ]
    },
    {
      "cell_type": "code",
      "metadata": {
        "colab": {
          "base_uri": "https://localhost:8080/"
        },
        "id": "idA7ITV77yRs",
        "outputId": "f073f588-f615-4296-c6dc-77322576b446"
      },
      "source": [
        "# Initialize bias b as 0s\n",
        "b = tf.Variable(initial_value=tf.zeros(shape=[10]), trainable=True, name='Bias')\n",
        "b"
      ],
      "execution_count": 9,
      "outputs": [
        {
          "output_type": "execute_result",
          "data": {
            "text/plain": [
              "<tf.Variable 'Bias:0' shape=(10,) dtype=float32, numpy=array([0., 0., 0., 0., 0., 0., 0., 0., 0., 0.], dtype=float32)>"
            ]
          },
          "metadata": {
            "tags": []
          },
          "execution_count": 9
        }
      ]
    },
    {
      "cell_type": "code",
      "metadata": {
        "id": "uM9GiaVz8C-U"
      },
      "source": [
        "# Linear transformation with W and b\n",
        "\n",
        "y = tf.matmul(x, W) + b"
      ],
      "execution_count": 10,
      "outputs": []
    },
    {
      "cell_type": "code",
      "metadata": {
        "colab": {
          "base_uri": "https://localhost:8080/"
        },
        "id": "ImNac6mE82L8",
        "outputId": "5563b360-f49c-441b-f63b-8af368e3be23"
      },
      "source": [
        "print('shape of linear transformation ',y.shape)"
      ],
      "execution_count": 11,
      "outputs": [
        {
          "output_type": "stream",
          "text": [
            "shape of linear transformation  (32, 10)\n"
          ],
          "name": "stdout"
        }
      ]
    },
    {
      "cell_type": "markdown",
      "metadata": {
        "id": "rmhtVECu9E8L"
      },
      "source": [
        "\n",
        "We can see for example what the predictions look like for the first example in our minibatch. Remember, the bigger the number, the more the model thinks the input $x$ is of that class."
      ]
    },
    {
      "cell_type": "code",
      "metadata": {
        "colab": {
          "base_uri": "https://localhost:8080/"
        },
        "id": "-ZSx26gr824d",
        "outputId": "80e3e8d4-3b9b-4c6a-9d91-bc16a4e01c69"
      },
      "source": [
        "print('output for first sample in the batch', y[0,:])"
      ],
      "execution_count": 12,
      "outputs": [
        {
          "output_type": "stream",
          "text": [
            "output for first sample in the batch tf.Tensor(\n",
            "[ 176.26572   105.57518  -104.07212    42.281826 -107.02426   -14.817807\n",
            "  -85.78006    21.707232  -34.027843 -172.88087 ], shape=(10,), dtype=float32)\n"
          ],
          "name": "stdout"
        }
      ]
    },
    {
      "cell_type": "markdown",
      "metadata": {
        "id": "Q6RxI_-89g5a"
      },
      "source": [
        "We can interpret these values (aka logits) 𝑦 as probabilities if we normalize them to be positive and add up to 1. In logistic regression, we do this with a softmax:\n",
        "\n",
        "$$\\begin{align}\n",
        "p(y_i) = \\text{softmax}(y_i) = \\frac{\\text{exp}(y_i)}{\\sum_j\\text{exp}(y_j)}\n",
        "\\end{align}$$\n",
        "Notice that because the range of the exponential function is always non-negative, and since we're normalizing by the sum, the softmax achieves the desired property of producing values between 0 and 1 that sum to 1. If we look at the case with only 2 classes, we see that the softmax is the multi-class extension of the binary sigmoid function:"
      ]
    },
    {
      "cell_type": "code",
      "metadata": {
        "colab": {
          "base_uri": "https://localhost:8080/"
        },
        "id": "10ix_GDN9Oys",
        "outputId": "dce0913d-b7ab-47cb-d8a5-fc257339551b"
      },
      "source": [
        "print('output probablity scores for the first sample is', tf.nn.softmax(y[0,:]))\n",
        "print('Model predict class label ', tf.argmax(tf.nn.softmax(y[0,:])).numpy())\n",
        "print('Actual class label',labels[0].numpy())"
      ],
      "execution_count": 13,
      "outputs": [
        {
          "output_type": "stream",
          "text": [
            "output probablity scores for the first sample is tf.Tensor(\n",
            "[1.000000e+00 1.992921e-31 0.000000e+00 0.000000e+00 0.000000e+00\n",
            " 0.000000e+00 0.000000e+00 0.000000e+00 0.000000e+00 0.000000e+00], shape=(10,), dtype=float32)\n",
            "Model predict class label  0\n",
            "Actual class label 2\n"
          ],
          "name": "stdout"
        }
      ]
    },
    {
      "cell_type": "markdown",
      "metadata": {
        "id": "h3djhA58PSMV"
      },
      "source": [
        "\n",
        "We've now defined the forward pass of our model: given an input image, the graph returns the probabilities the model thinks the input is each of the 10 classes. Are we done?\n",
        "\n",
        "No !!!\n",
        "\n",
        "## The cross-entropy loss\n",
        "We don't know the values of $W$ and $b$ yet!\n",
        "\n",
        "Remember how we initialized them randomly?\n",
        "\n",
        "Before we adjust any of the weights, we need a way to measure how the model is doing.\n",
        "\n",
        "Specifically, we're going to measure how badly the model is doing. We do this with a loss function, which takes the model's prediction and returns a single number (i.e. a scalar) summarizing model performance. This loss will inform how we adjust the parameters of the model.\n",
        "\n",
        "The loss we commonly use in classification is cross-entropy, a concept from information theory.\n",
        "\n",
        "Cross-entropy - a way of quantifying how far apart one distribution $y'$ is from another $y$.\n",
        "\n",
        "$$\\begin{align}\n",
        "H_{y'}(y)=-\\sum_i y'_i \\text{log}(y_i)\n",
        "\\end{align}$$\n",
        "In our case, $y$ is the set of probabilities predicted by the model and  $y'$ is the target distribution.\n",
        "\n",
        "What is the target distribution?\n",
        "\n",
        "It's the true label, which is what we wanted the model to predict.\n",
        "\n",
        "Cross-entropy not only captures how correct (max probability corresponds to the right answer) the model's answers are, it also accounts for how confident (high confidence in correct answers) they are. This encourages the model to produce very high probabilities for correct answers while driving down the probabilities for the wrong answers, instead of merely being satisfied with it being the argmax."
      ]
    },
    {
      "cell_type": "code",
      "metadata": {
        "id": "QFtr5fLP9uCu",
        "colab": {
          "base_uri": "https://localhost:8080/"
        },
        "outputId": "ee506b98-f930-4e73-c4e3-49bc0a6c8c3f"
      },
      "source": [
        "# loss-function\n",
        "loss_fn = tf.keras.losses.SparseCategoricalCrossentropy(from_logits=True)\n",
        "\n",
        "cross_entropy_loss = loss_fn(y_true=labels, y_pred=y)\n",
        "\n",
        "print('cross entropy loss', cross_entropy_loss.numpy())"
      ],
      "execution_count": 14,
      "outputs": [
        {
          "output_type": "stream",
          "text": [
            "cross entropy loss 242.80344\n"
          ],
          "name": "stdout"
        }
      ]
    },
    {
      "cell_type": "markdown",
      "metadata": {
        "id": "z5zD4UqRTk37"
      },
      "source": [
        "\n",
        "## The backwards pass : backpropagation\n",
        "Now that we have the loss as a way of quantifying how badly the model is doing, we can improve our model by changing the parameters in a way that minimizes the loss. For neural networks, the common way of doing this is with backpropagation: we take the gradient of the loss with respect to $W$ and $b$ and take a step in the direction that reduces our loss.\n",
        "\n",
        "First, we need to create an optimizer. There are many choices, but since logistic regression is fairly simple, we'll use standard stochastic gradient descent (SGD), which makes the following update:\n",
        "\n",
        "$$\\begin{align}\n",
        "\\theta_{t+1} = \\theta_t - \\alpha \\nabla_\\theta \\mathcal{L}\n",
        "\\end{align}$$\n",
        "where $\\theta$ is a parameter, $\\alpha$ is our learning rate (step size), and $\\nabla_\\theta \\mathcal{L}$ is the gradient of our loss with respect to $\\theta$."
      ]
    },
    {
      "cell_type": "code",
      "metadata": {
        "colab": {
          "base_uri": "https://localhost:8080/"
        },
        "id": "7d0RW1-MSHgt",
        "outputId": "1f39776a-cf70-4bb9-aafe-1387945dba26"
      },
      "source": [
        "with tf.GradientTape() as tape:\n",
        "  y = tf.matmul(x, W) + b\n",
        "  loss = loss_fn(y_true=labels, y_pred=y)\n",
        "gradient = tape.gradient(loss,[W,b])\n",
        "gradient"
      ],
      "execution_count": 15,
      "outputs": [
        {
          "output_type": "execute_result",
          "data": {
            "text/plain": [
              "[<tf.Tensor: shape=(784, 10), dtype=float32, numpy=\n",
              " array([[0., 0., 0., ..., 0., 0., 0.],\n",
              "        [0., 0., 0., ..., 0., 0., 0.],\n",
              "        [0., 0., 0., ..., 0., 0., 0.],\n",
              "        ...,\n",
              "        [0., 0., 0., ..., 0., 0., 0.],\n",
              "        [0., 0., 0., ..., 0., 0., 0.],\n",
              "        [0., 0., 0., ..., 0., 0., 0.]], dtype=float32)>,\n",
              " <tf.Tensor: shape=(10,), dtype=float32, numpy=\n",
              " array([ 8.4824860e-06,  5.8335471e-01, -1.5625000e-01, -8.4039219e-02,\n",
              "        -1.2500849e-01,  3.1531639e-02, -3.0877644e-02,  3.1280495e-02,\n",
              "        -1.2500000e-01, -1.2500000e-01], dtype=float32)>]"
            ]
          },
          "metadata": {
            "tags": []
          },
          "execution_count": 15
        }
      ]
    },
    {
      "cell_type": "code",
      "metadata": {
        "colab": {
          "base_uri": "https://localhost:8080/"
        },
        "id": "-xbgEULcjSgv",
        "outputId": "d60405a6-78c1-4fc4-b6b9-3e2088871a6a"
      },
      "source": [
        "# optimizer \n",
        "optimizer = tf.keras.optimizers.SGD(learning_rate=0.1)\n",
        "\n",
        "optimizer.apply_gradients(zip(gradient,[W,b]))\n"
      ],
      "execution_count": 16,
      "outputs": [
        {
          "output_type": "execute_result",
          "data": {
            "text/plain": [
              "<tf.Variable 'UnreadVariable' shape=() dtype=int64, numpy=1>"
            ]
          },
          "metadata": {
            "tags": []
          },
          "execution_count": 16
        }
      ]
    },
    {
      "cell_type": "code",
      "metadata": {
        "colab": {
          "base_uri": "https://localhost:8080/"
        },
        "id": "s0-Xny1Ck2z-",
        "outputId": "c1c34478-9728-4a8f-fcea-0e54a8e25776"
      },
      "source": [
        "# weights after applying gradients\n",
        "W"
      ],
      "execution_count": 17,
      "outputs": [
        {
          "output_type": "execute_result",
          "data": {
            "text/plain": [
              "<tf.Variable 'Weight matrix:0' shape=(784, 10) dtype=float32, numpy=\n",
              "array([[-0.07497184, -0.0104222 , -0.05938705, ..., -0.05212446,\n",
              "        -0.01464131,  0.0158154 ],\n",
              "       [ 0.01998486, -0.04123537,  0.00597461, ...,  0.02336224,\n",
              "         0.0230143 , -0.08053989],\n",
              "       [-0.02881853, -0.00373884, -0.00394925, ...,  0.05332046,\n",
              "         0.05392396,  0.07506866],\n",
              "       ...,\n",
              "       [-0.06237372,  0.01338241,  0.05482716, ...,  0.00322207,\n",
              "        -0.06408623,  0.02508795],\n",
              "       [-0.08154108, -0.00711457,  0.07368211, ...,  0.05013929,\n",
              "         0.06218601,  0.01826372],\n",
              "       [ 0.03182149,  0.0503198 , -0.0795769 , ...,  0.01782169,\n",
              "        -0.05829192, -0.07600254]], dtype=float32)>"
            ]
          },
          "metadata": {
            "tags": []
          },
          "execution_count": 17
        }
      ]
    },
    {
      "cell_type": "code",
      "metadata": {
        "colab": {
          "base_uri": "https://localhost:8080/"
        },
        "id": "hCy2yR6Zj2Vl",
        "outputId": "0c5870b1-3bcf-4984-81e3-be9124dc42b4"
      },
      "source": [
        "# bias after applying gradients\n",
        "b"
      ],
      "execution_count": 18,
      "outputs": [
        {
          "output_type": "execute_result",
          "data": {
            "text/plain": [
              "<tf.Variable 'Bias:0' shape=(10,) dtype=float32, numpy=\n",
              "array([-8.4824859e-07, -5.8335472e-02,  1.5625000e-02,  8.4039224e-03,\n",
              "        1.2500850e-02, -3.1531639e-03,  3.0877644e-03, -3.1280497e-03,\n",
              "        1.2500000e-02,  1.2500000e-02], dtype=float32)>"
            ]
          },
          "metadata": {
            "tags": []
          },
          "execution_count": 18
        }
      ]
    },
    {
      "cell_type": "markdown",
      "metadata": {
        "id": "AHVuCefqklJD"
      },
      "source": [
        "We've now successfully trained on a minibatch! However, one minibatch probably isn't enough. At this point, we've trained the model on 100 examples out of the 60000 in the training set. We're going to need to repeat this process, for more of the data.\n",
        "\n",
        "\n",
        "## Model Training\n",
        "To train the model, we just need repeat what we just did for more minibatches from the training set. As a recap, the steps were:\n",
        "\n",
        "* Draw a minibatch\n",
        "* Perform the forward pass (compute prediction, calculate loss)\n",
        "* Perform the backward pass (compute gradients, perform SGD step)\n",
        "\n",
        "Going through the entire dataset once is referred to as an epoch. In many cases, we train neural networks for multiple epochs, but here, a single epoch is enough."
      ]
    },
    {
      "cell_type": "code",
      "metadata": {
        "colab": {
          "base_uri": "https://localhost:8080/",
          "height": 66,
          "referenced_widgets": [
            "ea7fcd883d05487e8b43ea520d316a3f",
            "c90b0b53d6f7462cb17842f70f3c1fe9",
            "14f7e9ae9ff448f38d30724884615c8d",
            "48aaa027182c42298e51362beb9317be",
            "720135c3c8894502ab4a8917f959e911",
            "bb6dff35d6f74a24a0d30b63bce7f1f0",
            "7439e819d4844aa4a1b1f4457ad0d5a9",
            "4823d009dd3a4b77baf7dc88efbd8c5c"
          ]
        },
        "id": "-k9VRkS7kJMv",
        "outputId": "f588fd2c-41ad-4fdc-915d-ba7ed376ee55"
      },
      "source": [
        "from tqdm.notebook import tqdm\n",
        "\n",
        "for images, labels in tqdm(train_ds):\n",
        "\n",
        "  # flatten the input\n",
        "  x = tf.reshape(images, shape=[-1,28*28])\n",
        "  \n",
        "  with tf.GradientTape() as tape:\n",
        "    # forward pass\n",
        "    y = tf.matmul(x, W) + b\n",
        "    # compute the loss\n",
        "    loss = loss_fn(labels, y)\n",
        "  \n",
        "  # backward pass\n",
        "  gradient = tape.gradient(loss, [W,b])\n",
        "  optimizer.apply_gradients(zip(gradient,[W,b]))\n",
        "\n",
        "  "
      ],
      "execution_count": 19,
      "outputs": [
        {
          "output_type": "display_data",
          "data": {
            "application/vnd.jupyter.widget-view+json": {
              "model_id": "ea7fcd883d05487e8b43ea520d316a3f",
              "version_minor": 0,
              "version_major": 2
            },
            "text/plain": [
              "HBox(children=(FloatProgress(value=0.0, max=1875.0), HTML(value='')))"
            ]
          },
          "metadata": {
            "tags": []
          }
        },
        {
          "output_type": "stream",
          "text": [
            "\n"
          ],
          "name": "stdout"
        }
      ]
    },
    {
      "cell_type": "markdown",
      "metadata": {
        "id": "lqfANB-Rn0FR"
      },
      "source": [
        "Now let's see how we did! For every image in our test set, we run the data through the model, and take the digit in which we have the highest confidence as our answer. We then compute an accuracy by seeing how many we got correct."
      ]
    },
    {
      "cell_type": "code",
      "metadata": {
        "colab": {
          "base_uri": "https://localhost:8080/",
          "height": 83,
          "referenced_widgets": [
            "3c91a237ce4a46289d054a880b1ad3b4",
            "59e1e499c2414fa981e405e139bc1f8b",
            "6bb59be0b54d40fd8278ea6e696a5c62",
            "c92211c4417e4c498fa0b8f731f710c4",
            "65f2194c37634959a1d34df217fc2317",
            "3b7408c728a448f1ab5a4bdd60c5710d",
            "b14ba123c25b4302a896efaf9ef4acbc",
            "9080048634c34a7698ab5e5e4a0810f3"
          ]
        },
        "id": "8ytD-G-fnCiJ",
        "outputId": "25bda11f-a7b7-4ff4-a2b0-dcdf0e4a4609"
      },
      "source": [
        "correct = 0\n",
        "total = len(x_test)\n",
        "\n",
        "for images, labels in tqdm(test_ds):\n",
        "  # flatten the image\n",
        "  x = tf.reshape(images, shape=[-1,28*28])\n",
        "  # forward-pass\n",
        "  y = tf.matmul(x, W)+b\n",
        "\n",
        "  predictions = tf.argmax(y, axis=1)\n",
        "\n",
        "  correct += np.sum(predictions==labels.numpy())\n",
        "\n",
        "print('Test Accuracy is',correct/total)"
      ],
      "execution_count": 23,
      "outputs": [
        {
          "output_type": "display_data",
          "data": {
            "application/vnd.jupyter.widget-view+json": {
              "model_id": "3c91a237ce4a46289d054a880b1ad3b4",
              "version_minor": 0,
              "version_major": 2
            },
            "text/plain": [
              "HBox(children=(FloatProgress(value=0.0, max=313.0), HTML(value='')))"
            ]
          },
          "metadata": {
            "tags": []
          }
        },
        {
          "output_type": "stream",
          "text": [
            "\n",
            "Test Accuracy is 0.8945\n"
          ],
          "name": "stdout"
        }
      ]
    },
    {
      "cell_type": "markdown",
      "metadata": {
        "id": "hrMRA7gWu3Sw"
      },
      "source": [
        "\n",
        "Not bad for a simple model and a few lines of code. Before we conclude this example, there's one more interesting thing we can do. Normally, it can be difficult to inspect exactly what the filters in a model are doing, but since this model is so simple, and the weights transform the data directly to their logits, we can actually visualize what the model's learning by simply plotting the weights. The results look pretty reasonable:"
      ]
    },
    {
      "cell_type": "markdown",
      "metadata": {
        "id": "KS7nIYVvSlCg"
      },
      "source": [
        "## Visualize learning"
      ]
    },
    {
      "cell_type": "code",
      "metadata": {
        "colab": {
          "base_uri": "https://localhost:8080/",
          "height": 107
        },
        "id": "YI1Vb_IAscNj",
        "outputId": "34276fad-33fa-445a-d28d-d18f66f02671"
      },
      "source": [
        "fig, ax = plt.subplots(nrows=1, ncols=10, figsize=(20,2))\n",
        "\n",
        "for digit in range(10):\n",
        "  img = tf.reshape(W[:,digit],shape=[28,28])\n",
        "  ax[digit].imshow(img, cmap=plt.cm.binary)\n",
        "  ax[digit].axis('off')"
      ],
      "execution_count": 36,
      "outputs": [
        {
          "output_type": "display_data",
          "data": {
            "image/png": "[encoded data removed]",
            "text/plain": [
              "<Figure size 1440x144 with 10 Axes>"
            ]
          },
          "metadata": {
            "tags": [],
            "needs_background": "light"
          }
        }
      ]
    },
    {
      "cell_type": "markdown",
      "metadata": {
        "id": "obf3e-dA1hDr"
      },
      "source": [
        "## Object-oriented Refactorization\n",
        "\n",
        "Most of the time, we do find ourselves repeating the same fairly standard lines of code, which can slow us down. Worse, it clutters up our code unnecessarily and introduces room for bugs and typos. And finally, as researchers or engineers, we would like to spend most of our time thinking on the highest levels of abstractions: I want to add a convolution layer here, then a fully-connected there, etc. Having to code all the small details are distractions that can detract from our ability to translate ideas into code. For this reason,Tensorflow has higher level abstractions to help speed up implementation and improve model organization. \n",
        " \n"
      ]
    },
    {
      "cell_type": "code",
      "metadata": {
        "id": "-oVrhZq7vnBV"
      },
      "source": [
        "class ForwardPass:\n",
        "  def __init__(self, in_dim, out_dim):\n",
        "    initializer = tf.initializers.glorot_uniform(seed=0)\n",
        "    values = initializer(shape=(in_dim, out_dim))\n",
        "    self.weights = tf.Variable(initial_value=values, trainable=True, name='Weight matrix', dtype='float32')\n",
        "    self.bias = tf.Variable(initial_value=tf.zeros(shape=(out_dim)), name='Bias', dtype='float32')\n",
        "  \n",
        "  def forward(self, x):\n",
        "    return tf.matmul(x, self.weights)+self.bias\n",
        "\n"
      ],
      "execution_count": 54,
      "outputs": []
    },
    {
      "cell_type": "code",
      "metadata": {
        "colab": {
          "base_uri": "https://localhost:8080/"
        },
        "id": "k-N0pFC_6wOf",
        "outputId": "7f945218-0b31-4632-b24c-8863b19953c6"
      },
      "source": [
        "linear = ForwardPass(784,10)\n",
        "\n",
        "print('Shape of Weight matrix', linear.weights.shape)\n",
        "print('Shape of bias',linear.bias.shape)"
      ],
      "execution_count": 55,
      "outputs": [
        {
          "output_type": "stream",
          "text": [
            "Shape of Weight matrix (784, 10)\n",
            "Shape of bias (10,)\n"
          ],
          "name": "stdout"
        }
      ]
    },
    {
      "cell_type": "code",
      "metadata": {
        "colab": {
          "base_uri": "https://localhost:8080/"
        },
        "id": "6-MhHUky6zfy",
        "outputId": "f8c21c31-7f96-46b4-9c7d-fb1cd17ecc23"
      },
      "source": [
        "# test with a random input\n",
        "random_input = tf.random.uniform(shape=(1, 784))\n",
        "\n",
        "y = linear.forward(random_input)\n",
        "print('Output shape ',y.shape)"
      ],
      "execution_count": 56,
      "outputs": [
        {
          "output_type": "stream",
          "text": [
            "Output shape  (1, 10)\n"
          ],
          "name": "stdout"
        }
      ]
    },
    {
      "cell_type": "markdown",
      "metadata": {
        "id": "9HU7YJ7TRgy1"
      },
      "source": [
        "**Object-oriented Refactorization**\n",
        "\n",
        "It often makes sense for us to code our models in an object-oriented manner. To understand why, let's look back at the linear transformation $y = xW + b$ that we used for logistic regression. We can see that while the operation consisted of a matrix multiplication and addition, also associated with this operation was the instantiation of two parameters W and b, and these two parameters conceptually belong to the transform. As such, it would make sense to bundle up the instantiation of the two parameters with the actual transformation:"
      ]
    },
    {
      "cell_type": "code",
      "metadata": {
        "id": "mKcAEmFBBX8a"
      },
      "source": [
        "class MnistModel:\n",
        "  def __init__(self, in_dim, out_dim):\n",
        "    initializer = tf.initializers.glorot_uniform(seed=0)\n",
        "    values = initializer(shape=(in_dim, out_dim))\n",
        "    self.weights = tf.Variable(initial_value=values, trainable=True, name='Weight matrix', dtype='float32')\n",
        "    self.bias = tf.Variable(initial_value=tf.zeros(shape=(out_dim)), name='Bias', dtype='float32')\n",
        "\n",
        "  def forward(self, x):\n",
        "    y = tf.matmul(x, self.weights)+self.bias\n",
        "    return y"
      ],
      "execution_count": 122,
      "outputs": []
    },
    {
      "cell_type": "code",
      "metadata": {
        "colab": {
          "base_uri": "https://localhost:8080/"
        },
        "id": "KOmNgP7vFE6S",
        "outputId": "668391d9-5138-4c48-9209-b49719078770"
      },
      "source": [
        "# initialize the model\n",
        "model = MnistModel(784,10)\n",
        "\n",
        "print('Weight matrix',model.weights)\n",
        "print('Bias',model.bias)"
      ],
      "execution_count": 123,
      "outputs": [
        {
          "output_type": "stream",
          "text": [
            "Weight matrix <tf.Variable 'Weight matrix:0' shape=(784, 10) dtype=float32, numpy=\n",
            "array([[-0.05024235,  0.03581654,  0.0521685 , ..., -0.05268933,\n",
            "         0.0607236 ,  0.00698493],\n",
            "       [-0.06326963, -0.06759664,  0.04295988, ..., -0.05020069,\n",
            "        -0.04909785, -0.05931706],\n",
            "       [-0.05842348,  0.08647356, -0.01511052, ..., -0.05360998,\n",
            "        -0.07873911,  0.03152344],\n",
            "       ...,\n",
            "       [ 0.00217336,  0.00802324, -0.03122882, ...,  0.05058137,\n",
            "         0.07929847, -0.00046643],\n",
            "       [ 0.00296357,  0.02763945,  0.02533332, ...,  0.02024429,\n",
            "         0.0655615 , -0.03219784],\n",
            "       [-0.07119273, -0.07016047, -0.08450471, ..., -0.06330177,\n",
            "        -0.04424631, -0.08362049]], dtype=float32)>\n",
            "Bias <tf.Variable 'Bias:0' shape=(10,) dtype=float32, numpy=array([0., 0., 0., 0., 0., 0., 0., 0., 0., 0.], dtype=float32)>\n"
          ],
          "name": "stdout"
        }
      ]
    },
    {
      "cell_type": "code",
      "metadata": {
        "id": "6JDwPEK0FwJC"
      },
      "source": [
        "# loss function and optimizer\n",
        "loss_fn = tf.keras.losses.SparseCategoricalCrossentropy(from_logits=True)\n",
        "optimizer = tf.keras.optimizers.SGD(learning_rate=0.1)"
      ],
      "execution_count": 124,
      "outputs": []
    },
    {
      "cell_type": "code",
      "metadata": {
        "colab": {
          "base_uri": "https://localhost:8080/",
          "height": 66,
          "referenced_widgets": [
            "4914c9721a064a5192023ce875857d51",
            "d1cb816ca1834995843c869f16323917",
            "12b0c02a5d8a4fc693ede1ee4a591b43",
            "18eed75dc5f34513bf9665c98173c679",
            "8617d99e27454247b39952c0d9f75a97",
            "ad566bd39f99407db58ac8bf2a8b451e",
            "a87a9f100e9b46b3bae59cde95e10457",
            "7616b2cbac284efbb03897e7e0ef87cc"
          ]
        },
        "id": "o7bx_OKCGC_G",
        "outputId": "ec3a2744-5d84-451d-a27d-8f0027ab4467"
      },
      "source": [
        "# training the model just for one epoch\n",
        "\n",
        "for images, labels in tqdm(train_ds):\n",
        "  # flatten the image\n",
        "  x = tf.reshape(images, shape=[-1,28*28])\n",
        "  # forward-pass\n",
        "  with tf.GradientTape() as tape:\n",
        "    y = model.forward(x)\n",
        "    # loss\n",
        "    loss = loss_fn(labels, y)\n",
        "  # compute the gradients\n",
        "  gradient = tape.gradient(loss,[model.weights, model.bias])\n",
        "  # update model parameters\n",
        "  optimizer.apply_gradients(zip(gradient,[model.weights,model.bias]))\n"
      ],
      "execution_count": 125,
      "outputs": [
        {
          "output_type": "display_data",
          "data": {
            "application/vnd.jupyter.widget-view+json": {
              "model_id": "4914c9721a064a5192023ce875857d51",
              "version_minor": 0,
              "version_major": 2
            },
            "text/plain": [
              "HBox(children=(FloatProgress(value=0.0, max=1875.0), HTML(value='')))"
            ]
          },
          "metadata": {
            "tags": []
          }
        },
        {
          "output_type": "stream",
          "text": [
            "\n"
          ],
          "name": "stdout"
        }
      ]
    },
    {
      "cell_type": "code",
      "metadata": {
        "colab": {
          "base_uri": "https://localhost:8080/",
          "height": 83,
          "referenced_widgets": [
            "085a7ba2cc8240569486641c4f938aec",
            "2d1b68e50a504c63a9a850813b2d75e2",
            "2ddd7f12f8fc4acd85520a14c0704138",
            "8578e14dff8a4efdb1d1e840098b397e",
            "4de26fef743c4c7db61034ba0120dd69",
            "822418781acc4d3e8f8afee00067c94d",
            "d480e37e97f4414e84e303210d7891db",
            "dc0d77224eda49eb87abe44fd15766af"
          ]
        },
        "id": "XinAJcV3Rkyj",
        "outputId": "9cb7e35a-a9ee-4fa3-943d-aefe4d153e53"
      },
      "source": [
        "# testing the model\n",
        "correct = 0\n",
        "total = len(x_test)\n",
        "\n",
        "for images, labels in tqdm(test_ds):\n",
        "  # flatten the image\n",
        "  x = tf.reshape(images, shape=[-1,28*28])\n",
        "  # forward-pass\n",
        "  y = model.forward(x)\n",
        "  # model prediction\n",
        "  predictions = tf.argmax(y, axis=1)\n",
        "  correct += np.sum(predictions==labels.numpy())\n",
        "\n",
        "print('Test Accuracy',correct/total)\n",
        "\n",
        "\n"
      ],
      "execution_count": 127,
      "outputs": [
        {
          "output_type": "display_data",
          "data": {
            "application/vnd.jupyter.widget-view+json": {
              "model_id": "085a7ba2cc8240569486641c4f938aec",
              "version_minor": 0,
              "version_major": 2
            },
            "text/plain": [
              "HBox(children=(FloatProgress(value=0.0, max=313.0), HTML(value='')))"
            ]
          },
          "metadata": {
            "tags": []
          }
        },
        {
          "output_type": "stream",
          "text": [
            "\n",
            "Test Accuracy 0.8679\n"
          ],
          "name": "stdout"
        }
      ]
    },
    {
      "cell_type": "code",
      "metadata": {
        "colab": {
          "base_uri": "https://localhost:8080/",
          "height": 107
        },
        "id": "DIb0_743SZej",
        "outputId": "05a268b3-dfe4-4b90-8c8d-bbc254598550"
      },
      "source": [
        "fig, ax = plt.subplots(nrows=1, ncols=10, figsize=(20,2))\n",
        "\n",
        "# weight matrix\n",
        "W = model.weights\n",
        "\n",
        "for digit in range(10):\n",
        "  img = tf.reshape(W[:,digit],shape=[28,28])\n",
        "  ax[digit].imshow(img, cmap=plt.cm.binary)\n",
        "  ax[digit].axis('off')"
      ],
      "execution_count": 128,
      "outputs": [
        {
          "output_type": "display_data",
          "data": {
            "image/png": "[encoded data removed]",
            "text/plain": [
              "<Figure size 1440x144 with 10 Axes>"
            ]
          },
          "metadata": {
            "tags": [],
            "needs_background": "light"
          }
        }
      ]
    },
    {
      "cell_type": "code",
      "metadata": {
        "id": "PX4cg6C8S9wY"
      },
      "source": [
        ""
      ],
      "execution_count": null,
      "outputs": []
    }
  ]
}
