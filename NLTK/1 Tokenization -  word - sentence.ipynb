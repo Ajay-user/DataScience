{
 "cells": [
  {
   "cell_type": "code",
   "execution_count": 1,
   "id": "6547d6fe",
   "metadata": {},
   "outputs": [],
   "source": [
    "from nltk import word_tokenize, sent_tokenize"
   ]
  },
  {
   "cell_type": "code",
   "execution_count": 2,
   "id": "fbb2073a",
   "metadata": {},
   "outputs": [],
   "source": [
    "example_txt = '''\n",
    "\n",
    "From Bondi to Berlin and Copenhagen to Cornwall, swimming pools – particularly outdoor ones – are always in demand.\n",
    "Dominic Lutyens dives in and explores the pool's past, present and future.\n",
    "The golden age of lidos in the UK was in the 1930s, when outdoor swimming became popular, and 169 were built across the country as recreational facilities. This continued into the 1940s and 50s. \"Their designs were grand, and developed a strong sense of place for the communities,\" says Wood.\n",
    "\"But, from the 1960s, fewer people flocked to lidos, due partly to the 1960 Wolfenden report on sport and community, which recommended that public pools be housed indoors.\n",
    "A 1968 Sports Council report, Planning for Sport, stressed the seasonal nature of lidos, deeming them poor value for money.\n",
    "By the 1960s, outdoor pools received less funding and were falling into disrepair.\"\n",
    "\n",
    "'''"
   ]
  },
  {
   "cell_type": "code",
   "execution_count": 3,
   "id": "e8b9313c",
   "metadata": {},
   "outputs": [
    {
     "name": "stdout",
     "output_type": "stream",
     "text": [
      "['\\n\\nFrom Bondi to Berlin and Copenhagen to Cornwall, swimming pools – particularly outdoor ones – are always in demand.', \"Dominic Lutyens dives in and explores the pool's past, present and future.\", 'The golden age of lidos in the UK was in the 1930s, when outdoor swimming became popular, and 169 were built across the country as recreational facilities.', 'This continued into the 1940s and 50s.', '\"Their designs were grand, and developed a strong sense of place for the communities,\" says Wood.', '\"But, from the 1960s, fewer people flocked to lidos, due partly to the 1960 Wolfenden report on sport and community, which recommended that public pools be housed indoors.', 'A 1968 Sports Council report, Planning for Sport, stressed the seasonal nature of lidos, deeming them poor value for money.', 'By the 1960s, outdoor pools received less funding and were falling into disrepair.\"']\n"
     ]
    }
   ],
   "source": [
    "print(sent_tokenize(example_txt))"
   ]
  },
  {
   "cell_type": "code",
   "execution_count": 4,
   "id": "56c707db",
   "metadata": {},
   "outputs": [
    {
     "name": "stdout",
     "output_type": "stream",
     "text": [
      "['From', 'Bondi', 'to', 'Berlin', 'and', 'Copenhagen', 'to', 'Cornwall', ',', 'swimming', 'pools', '–', 'particularly', 'outdoor', 'ones', '–', 'are', 'always', 'in', 'demand', '.', 'Dominic', 'Lutyens', 'dives', 'in', 'and', 'explores', 'the', 'pool', \"'s\", 'past', ',', 'present', 'and', 'future', '.', 'The', 'golden', 'age', 'of', 'lidos', 'in', 'the', 'UK', 'was', 'in', 'the', '1930s', ',', 'when', 'outdoor', 'swimming', 'became', 'popular', ',', 'and', '169', 'were', 'built', 'across', 'the', 'country', 'as', 'recreational', 'facilities', '.', 'This', 'continued', 'into', 'the', '1940s', 'and', '50s', '.', '``', 'Their', 'designs', 'were', 'grand', ',', 'and', 'developed', 'a', 'strong', 'sense', 'of', 'place', 'for', 'the', 'communities', ',', \"''\", 'says', 'Wood', '.', '``', 'But', ',', 'from', 'the', '1960s', ',', 'fewer', 'people', 'flocked', 'to', 'lidos', ',', 'due', 'partly', 'to', 'the', '1960', 'Wolfenden', 'report', 'on', 'sport', 'and', 'community', ',', 'which', 'recommended', 'that', 'public', 'pools', 'be', 'housed', 'indoors', '.', 'A', '1968', 'Sports', 'Council', 'report', ',', 'Planning', 'for', 'Sport', ',', 'stressed', 'the', 'seasonal', 'nature', 'of', 'lidos', ',', 'deeming', 'them', 'poor', 'value', 'for', 'money', '.', 'By', 'the', '1960s', ',', 'outdoor', 'pools', 'received', 'less', 'funding', 'and', 'were', 'falling', 'into', 'disrepair', '.', \"''\"]\n"
     ]
    }
   ],
   "source": [
    "print(word_tokenize(example_txt))"
   ]
  },
  {
   "cell_type": "code",
   "execution_count": null,
   "id": "3071f648",
   "metadata": {},
   "outputs": [],
   "source": []
  }
 ],
 "metadata": {
  "kernelspec": {
   "display_name": "Python 3 (ipykernel)",
   "language": "python",
   "name": "python3"
  },
  "language_info": {
   "codemirror_mode": {
    "name": "ipython",
    "version": 3
   },
   "file_extension": ".py",
   "mimetype": "text/x-python",
   "name": "python",
   "nbconvert_exporter": "python",
   "pygments_lexer": "ipython3",
   "version": "3.9.12"
  }
 },
 "nbformat": 4,
 "nbformat_minor": 5
}
