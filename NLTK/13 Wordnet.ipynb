{
 "cells": [
  {
   "cell_type": "markdown",
   "id": "178c91d4",
   "metadata": {},
   "source": [
    "### Synonyms, Antonyms, Semantic-similarity"
   ]
  },
  {
   "cell_type": "code",
   "execution_count": 1,
   "id": "340bc52f",
   "metadata": {},
   "outputs": [],
   "source": [
    "from nltk.corpus import wordnet"
   ]
  },
  {
   "cell_type": "markdown",
   "id": "dd25e6f3",
   "metadata": {},
   "source": [
    "### synonym"
   ]
  },
  {
   "cell_type": "code",
   "execution_count": 3,
   "id": "0bba855c",
   "metadata": {},
   "outputs": [
    {
     "data": {
      "text/plain": [
       "[Synset('plan.n.01'),\n",
       " Synset('program.n.02'),\n",
       " Synset('broadcast.n.02'),\n",
       " Synset('platform.n.02'),\n",
       " Synset('program.n.05'),\n",
       " Synset('course_of_study.n.01'),\n",
       " Synset('program.n.07'),\n",
       " Synset('program.n.08'),\n",
       " Synset('program.v.01'),\n",
       " Synset('program.v.02')]"
      ]
     },
     "execution_count": 3,
     "metadata": {},
     "output_type": "execute_result"
    }
   ],
   "source": [
    "wordnet.synsets('program')"
   ]
  },
  {
   "cell_type": "code",
   "execution_count": 5,
   "id": "6b2ac4cd",
   "metadata": {},
   "outputs": [
    {
     "data": {
      "text/plain": [
       "'plan.n.01'"
      ]
     },
     "execution_count": 5,
     "metadata": {},
     "output_type": "execute_result"
    }
   ],
   "source": [
    "s = wordnet.synsets('program')\n",
    "s[0].name()"
   ]
  },
  {
   "cell_type": "code",
   "execution_count": 6,
   "id": "d35f650e",
   "metadata": {},
   "outputs": [
    {
     "data": {
      "text/plain": [
       "[Lemma('plan.n.01.plan'),\n",
       " Lemma('plan.n.01.program'),\n",
       " Lemma('plan.n.01.programme')]"
      ]
     },
     "execution_count": 6,
     "metadata": {},
     "output_type": "execute_result"
    }
   ],
   "source": [
    "s[0].lemmas()"
   ]
  },
  {
   "cell_type": "code",
   "execution_count": 7,
   "id": "fdff2174",
   "metadata": {},
   "outputs": [
    {
     "data": {
      "text/plain": [
       "['plan', 'program', 'programme']"
      ]
     },
     "execution_count": 7,
     "metadata": {},
     "output_type": "execute_result"
    }
   ],
   "source": [
    "s[0].lemma_names()"
   ]
  },
  {
   "cell_type": "code",
   "execution_count": 9,
   "id": "a5617dfc",
   "metadata": {},
   "outputs": [
    {
     "data": {
      "text/plain": [
       "'plan'"
      ]
     },
     "execution_count": 9,
     "metadata": {},
     "output_type": "execute_result"
    }
   ],
   "source": [
    "s[0].lemmas()[0].name()"
   ]
  },
  {
   "cell_type": "code",
   "execution_count": 11,
   "id": "64087575",
   "metadata": {},
   "outputs": [
    {
     "data": {
      "text/plain": [
       "'a series of steps to be carried out or goals to be accomplished'"
      ]
     },
     "execution_count": 11,
     "metadata": {},
     "output_type": "execute_result"
    }
   ],
   "source": [
    "# this will give us a definition\n",
    "s[0].definition()"
   ]
  },
  {
   "cell_type": "code",
   "execution_count": 13,
   "id": "34708c2b",
   "metadata": {},
   "outputs": [
    {
     "data": {
      "text/plain": [
       "['they drew up a six-step plan', 'they discussed plans for a new bond issue']"
      ]
     },
     "execution_count": 13,
     "metadata": {},
     "output_type": "execute_result"
    }
   ],
   "source": [
    "# this will give us similar examples\n",
    "s[0].examples()"
   ]
  },
  {
   "cell_type": "code",
   "execution_count": 59,
   "id": "2bb148a9",
   "metadata": {},
   "outputs": [
    {
     "data": {
      "text/plain": [
       "[]"
      ]
     },
     "execution_count": 59,
     "metadata": {},
     "output_type": "execute_result"
    }
   ],
   "source": [
    "# this will give us antonyms if there exists\n",
    "s[0].lemmas()[0].antonyms()"
   ]
  },
  {
   "cell_type": "markdown",
   "id": "13ac0914",
   "metadata": {},
   "source": [
    "### Antonyms"
   ]
  },
  {
   "cell_type": "code",
   "execution_count": 57,
   "id": "0d19eb10",
   "metadata": {},
   "outputs": [
    {
     "data": {
      "text/plain": [
       "'bad'"
      ]
     },
     "execution_count": 57,
     "metadata": {},
     "output_type": "execute_result"
    }
   ],
   "source": [
    "# give us back antonyms if there are any\n",
    "ex = wordnet.synsets('goodness')\n",
    "ex[0].lemmas()[0].antonyms()[0].name()"
   ]
  },
  {
   "cell_type": "markdown",
   "id": "cb58819d",
   "metadata": {},
   "source": [
    "### Create a list of synonyms and antonyms for an input word"
   ]
  },
  {
   "cell_type": "code",
   "execution_count": 47,
   "id": "50261de7",
   "metadata": {},
   "outputs": [],
   "source": [
    "inp = 'good'\n",
    "\n",
    "synonyms = []\n",
    "antonyms = []\n",
    "for syno in wordnet.synsets(inp):\n",
    "    for l in syno.lemmas():\n",
    "        synonyms.append(l.name())\n",
    "        if l.antonyms():\n",
    "            antonyms.append(l.antonyms()[0].name())\n",
    "    "
   ]
  },
  {
   "cell_type": "code",
   "execution_count": 48,
   "id": "ac81077f",
   "metadata": {},
   "outputs": [
    {
     "name": "stdout",
     "output_type": "stream",
     "text": [
      "['good', 'good', 'goodness', 'good', 'goodness', 'commodity', 'trade_good', 'good', 'good', 'full', 'good', 'good', 'estimable', 'good', 'honorable', 'respectable', 'beneficial', 'good', 'good', 'good', 'just', 'upright', 'adept', 'expert', 'good', 'practiced', 'proficient', 'skillful', 'skilful', 'good', 'dear', 'good', 'near', 'dependable', 'good', 'safe', 'secure', 'good', 'right', 'ripe', 'good', 'well', 'effective', 'good', 'in_effect', 'in_force', 'good', 'good', 'serious', 'good', 'sound', 'good', 'salutary', 'good', 'honest', 'good', 'undecomposed', 'unspoiled', 'unspoilt', 'good', 'well', 'good', 'thoroughly', 'soundly', 'good']\n"
     ]
    }
   ],
   "source": [
    "print(synonyms)"
   ]
  },
  {
   "cell_type": "code",
   "execution_count": 49,
   "id": "c402fa60",
   "metadata": {},
   "outputs": [
    {
     "name": "stdout",
     "output_type": "stream",
     "text": [
      "['evil', 'evilness', 'bad', 'badness', 'bad', 'evil', 'ill']\n"
     ]
    }
   ],
   "source": [
    "print(antonyms)"
   ]
  },
  {
   "cell_type": "markdown",
   "id": "3e68665c",
   "metadata": {},
   "source": [
    "### Semantic similarity"
   ]
  },
  {
   "cell_type": "code",
   "execution_count": 63,
   "id": "2b2f566a",
   "metadata": {},
   "outputs": [
    {
     "name": "stdout",
     "output_type": "stream",
     "text": [
      "Similarity score : 0.9090909090909091\n"
     ]
    }
   ],
   "source": [
    "                  # ship.noun.01                      \n",
    "W1 = wordnet.synset('ship.n.01')\n",
    "                  # boat.noun.01       \n",
    "W2 = wordnet.synset('boat.n.01')\n",
    "\n",
    "print('Similarity score :',W1.wup_similarity(W2))"
   ]
  },
  {
   "cell_type": "code",
   "execution_count": 64,
   "id": "0812470f",
   "metadata": {},
   "outputs": [],
   "source": [
    "def compare_words(W1,W2):\n",
    "                      # ship.noun.01                      \n",
    "    W1 = wordnet.synset(f'{W1}.n.01')\n",
    "                      # boat.noun.01       \n",
    "    W2 = wordnet.synset(f'{W2}.n.01')\n",
    "\n",
    "    print('Similarity score :',W1.wup_similarity(W2))"
   ]
  },
  {
   "cell_type": "code",
   "execution_count": 65,
   "id": "0aff6c5d",
   "metadata": {},
   "outputs": [
    {
     "name": "stdout",
     "output_type": "stream",
     "text": [
      "Similarity score : 0.8888888888888888\n"
     ]
    }
   ],
   "source": [
    "compare_words('pen','pencil')"
   ]
  },
  {
   "cell_type": "code",
   "execution_count": 66,
   "id": "37604875",
   "metadata": {},
   "outputs": [
    {
     "name": "stdout",
     "output_type": "stream",
     "text": [
      "Similarity score : 0.8235294117647058\n"
     ]
    }
   ],
   "source": [
    "compare_words('bird','animal')"
   ]
  },
  {
   "cell_type": "code",
   "execution_count": 67,
   "id": "8e6a2953",
   "metadata": {},
   "outputs": [
    {
     "name": "stdout",
     "output_type": "stream",
     "text": [
      "Similarity score : 0.6666666666666666\n"
     ]
    }
   ],
   "source": [
    "compare_words('man','woman')"
   ]
  },
  {
   "cell_type": "code",
   "execution_count": 68,
   "id": "e98c116a",
   "metadata": {},
   "outputs": [
    {
     "name": "stdout",
     "output_type": "stream",
     "text": [
      "Similarity score : 0.631578947368421\n"
     ]
    }
   ],
   "source": [
    "compare_words('boy','girl')"
   ]
  },
  {
   "cell_type": "code",
   "execution_count": null,
   "id": "1347d253",
   "metadata": {},
   "outputs": [],
   "source": []
  }
 ],
 "metadata": {
  "kernelspec": {
   "display_name": "Python 3 (ipykernel)",
   "language": "python",
   "name": "python3"
  },
  "language_info": {
   "codemirror_mode": {
    "name": "ipython",
    "version": 3
   },
   "file_extension": ".py",
   "mimetype": "text/x-python",
   "name": "python",
   "nbconvert_exporter": "python",
   "pygments_lexer": "ipython3",
   "version": "3.9.12"
  }
 },
 "nbformat": 4,
 "nbformat_minor": 5
}
