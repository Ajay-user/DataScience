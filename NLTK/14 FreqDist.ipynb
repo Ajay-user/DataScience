{
 "cells": [
  {
   "cell_type": "code",
   "execution_count": 3,
   "id": "39995d44",
   "metadata": {},
   "outputs": [],
   "source": [
    "import nltk\n",
    "from nltk.corpus import movie_reviews"
   ]
  },
  {
   "cell_type": "code",
   "execution_count": 2,
   "id": "3ef59885",
   "metadata": {},
   "outputs": [
    {
     "data": {
      "text/plain": [
       "['plot', ':', 'two', 'teen', 'couples']"
      ]
     },
     "execution_count": 2,
     "metadata": {},
     "output_type": "execute_result"
    }
   ],
   "source": [
    "all_words = movie_reviews.words()\n",
    "all_words[:5]"
   ]
  },
  {
   "cell_type": "markdown",
   "id": "1e879ead",
   "metadata": {},
   "source": [
    "## Frequency distribution"
   ]
  },
  {
   "cell_type": "code",
   "execution_count": 4,
   "id": "7cd757d1",
   "metadata": {},
   "outputs": [],
   "source": [
    "dist = nltk.FreqDist(all_words)"
   ]
  },
  {
   "cell_type": "code",
   "execution_count": 6,
   "id": "8166a468",
   "metadata": {},
   "outputs": [
    {
     "data": {
      "text/plain": [
       "[(',', 77717),\n",
       " ('the', 76529),\n",
       " ('.', 65876),\n",
       " ('a', 38106),\n",
       " ('and', 35576),\n",
       " ('of', 34123),\n",
       " ('to', 31937),\n",
       " (\"'\", 30585),\n",
       " ('is', 25195),\n",
       " ('in', 21822)]"
      ]
     },
     "execution_count": 6,
     "metadata": {},
     "output_type": "execute_result"
    }
   ],
   "source": [
    "# most common\n",
    "dist.most_common()[:10]"
   ]
  },
  {
   "cell_type": "code",
   "execution_count": 8,
   "id": "222cc560",
   "metadata": {},
   "outputs": [
    {
     "data": {
      "text/plain": [
       "','"
      ]
     },
     "execution_count": 8,
     "metadata": {},
     "output_type": "execute_result"
    }
   ],
   "source": [
    "# the most common \n",
    "dist.max()"
   ]
  },
  {
   "cell_type": "code",
   "execution_count": 10,
   "id": "dc51d676",
   "metadata": {},
   "outputs": [
    {
     "data": {
      "text/plain": [
       "219"
      ]
     },
     "execution_count": 10,
     "metadata": {},
     "output_type": "execute_result"
    }
   ],
   "source": [
    "# In movie reviews data, how many times the word 'poor' appears\n",
    "dist['poor']"
   ]
  },
  {
   "cell_type": "code",
   "execution_count": 11,
   "id": "03feaaf6",
   "metadata": {},
   "outputs": [
    {
     "data": {
      "text/plain": [
       "1148"
      ]
     },
     "execution_count": 11,
     "metadata": {},
     "output_type": "execute_result"
    }
   ],
   "source": [
    "# In movie reviews data, how many times the word 'great' appears\n",
    "dist['great']"
   ]
  },
  {
   "cell_type": "code",
   "execution_count": 12,
   "id": "d0ca8c54",
   "metadata": {},
   "outputs": [
    {
     "data": {
      "text/plain": [
       "2411"
      ]
     },
     "execution_count": 12,
     "metadata": {},
     "output_type": "execute_result"
    }
   ],
   "source": [
    "# In movie reviews data, how many times the word 'good' appears\n",
    "dist['good']"
   ]
  },
  {
   "cell_type": "code",
   "execution_count": 13,
   "id": "38da7081",
   "metadata": {},
   "outputs": [
    {
     "data": {
      "text/plain": [
       "308"
      ]
     },
     "execution_count": 13,
     "metadata": {},
     "output_type": "execute_result"
    }
   ],
   "source": [
    "# In movie reviews data, how many times the word 'worst' appears\n",
    "dist['worst']"
   ]
  },
  {
   "cell_type": "code",
   "execution_count": 14,
   "id": "ef49724c",
   "metadata": {},
   "outputs": [
    {
     "data": {
      "text/plain": [
       "35"
      ]
     },
     "execution_count": 14,
     "metadata": {},
     "output_type": "execute_result"
    }
   ],
   "source": [
    "# In movie reviews data, how many times the word 'awesome' appears\n",
    "dist['awesome']"
   ]
  },
  {
   "cell_type": "code",
   "execution_count": 15,
   "id": "0c83ac14",
   "metadata": {},
   "outputs": [
    {
     "data": {
      "text/plain": [
       "253"
      ]
     },
     "execution_count": 15,
     "metadata": {},
     "output_type": "execute_result"
    }
   ],
   "source": [
    "# In movie reviews data, how many times the word 'stupid' appears\n",
    "dist['stupid']"
   ]
  },
  {
   "cell_type": "code",
   "execution_count": null,
   "id": "05ef7a65",
   "metadata": {},
   "outputs": [],
   "source": []
  }
 ],
 "metadata": {
  "kernelspec": {
   "display_name": "Python 3 (ipykernel)",
   "language": "python",
   "name": "python3"
  },
  "language_info": {
   "codemirror_mode": {
    "name": "ipython",
    "version": 3
   },
   "file_extension": ".py",
   "mimetype": "text/x-python",
   "name": "python",
   "nbconvert_exporter": "python",
   "pygments_lexer": "ipython3",
   "version": "3.9.12"
  }
 },
 "nbformat": 4,
 "nbformat_minor": 5
}
