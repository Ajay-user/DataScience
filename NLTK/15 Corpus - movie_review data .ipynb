{
 "cells": [
  {
   "cell_type": "code",
   "execution_count": 1,
   "id": "1fdaa0f9",
   "metadata": {},
   "outputs": [],
   "source": [
    "from nltk.corpus import movie_reviews"
   ]
  },
  {
   "cell_type": "code",
   "execution_count": 4,
   "id": "52d857fe",
   "metadata": {},
   "outputs": [
    {
     "data": {
      "text/plain": [
       "['neg', 'pos']"
      ]
     },
     "execution_count": 4,
     "metadata": {},
     "output_type": "execute_result"
    }
   ],
   "source": [
    "# what are the categories ?\n",
    "movie_reviews.categories()"
   ]
  },
  {
   "cell_type": "code",
   "execution_count": 8,
   "id": "36777dbd",
   "metadata": {},
   "outputs": [
    {
     "data": {
      "text/plain": [
       "['neg/cv000_29416.txt',\n",
       " 'neg/cv001_19502.txt',\n",
       " 'neg/cv002_17424.txt',\n",
       " 'neg/cv003_12683.txt',\n",
       " 'neg/cv004_12641.txt']"
      ]
     },
     "execution_count": 8,
     "metadata": {},
     "output_type": "execute_result"
    }
   ],
   "source": [
    "# what are the file ids ?\n",
    "movie_reviews.fileids()[:5]"
   ]
  },
  {
   "cell_type": "code",
   "execution_count": 26,
   "id": "2f50ce94",
   "metadata": {},
   "outputs": [
    {
     "data": {
      "text/plain": [
       "['plot', ':', 'two', 'teen', 'couples']"
      ]
     },
     "execution_count": 26,
     "metadata": {},
     "output_type": "execute_result"
    }
   ],
   "source": [
    "# how to get all the words?\n",
    "\n",
    "words = movie_reviews.words()\n",
    "words[:5]"
   ]
  },
  {
   "cell_type": "code",
   "execution_count": 28,
   "id": "2b23c3a5",
   "metadata": {},
   "outputs": [
    {
     "data": {
      "text/plain": [
       "['plot',\n",
       " ':',\n",
       " 'two',\n",
       " 'teen',\n",
       " 'couples',\n",
       " 'go',\n",
       " 'to',\n",
       " 'a',\n",
       " 'church',\n",
       " 'party',\n",
       " ',',\n",
       " 'drink',\n",
       " 'and',\n",
       " 'then',\n",
       " 'drive',\n",
       " '.']"
      ]
     },
     "execution_count": 28,
     "metadata": {},
     "output_type": "execute_result"
    }
   ],
   "source": [
    "# how to get all the words in every paragraph ?\n",
    "\n",
    "para = movie_reviews.paras()\n",
    "# displaying first para of first \n",
    "para[0][0]"
   ]
  },
  {
   "cell_type": "code",
   "execution_count": 16,
   "id": "c481b92b",
   "metadata": {},
   "outputs": [
    {
     "data": {
      "text/plain": [
       "'plot : two teen couples go to a church party , drink and then drive . \\nthey get into an accident . \\none of the guys dies , but his girlfriend continues to see him in her life , and has nightmares . \\nwhat\\'s the deal ? \\nwatch the movie and \" sorta \" find out . . . \\ncritique : a mind-fuck movie for the teen generation that touches on a very cool idea , but presents it in a very bad package . \\nwhich is what makes this review an even harder one to write , since i generally applaud films which attempt to break the mold , mess with your head and such ( lost highway & memento ) , but there are good and bad ways of making all types of films , and these folks just didn\\'t snag this one correctly . \\nthey seem to have taken this pretty neat concept , but executed it terribly . \\nso what are the problems with the movie ? \\nwell , its main problem is that it\\'s simply too jumbled . \\nit starts off \" normal \" but then downshifts into this \" fantasy \" world in which you , as an audience member , have no idea what\\'s going on . \\nthere are dreams , there are characters coming back from the dead , there are others who look like the dead , there are strange apparitions , there are disappearances , there are a looooot of chase scenes , there are tons of weird things that happen , and most of it is simply not explained . \\nnow i personally don\\'t mind trying to unravel a film every now and then , but when all it does is give me the same clue over and over again , i get kind of fed up after a while , which is this film\\'s biggest problem . \\nit\\'s obviously got this big secret to hide , but it seems to want to hide it completely until its final five minutes . \\nand do they make things entertaining , thrilling or even engaging , in the meantime ? \\nnot really . \\nthe sad part is that the arrow and i both dig on flicks like this , so we actually figured most of it out by the half-way point , so all of the strangeness after that did start to make a little bit of sense , but it still didn\\'t the make the film all that more entertaining . \\ni guess the bottom line with movies like this is that you should always make sure that the audience is \" into it \" even before they are given the secret password to enter your world of understanding . \\ni mean , showing melissa sagemiller running away from visions for about 20 minutes throughout the movie is just plain lazy ! ! \\nokay , we get it . . . there \\nare people chasing her and we don\\'t know who they are . \\ndo we really need to see it over and over again ? \\nhow about giving us different scenes offering further insight into all of the strangeness going down in the movie ? \\napparently , the studio took this film away from its director and chopped it up themselves , and it shows . \\nthere might\\'ve been a pretty decent teen mind-fuck movie in here somewhere , but i guess \" the suits \" decided that turning it into a music video with little edge , would make more sense . \\nthe actors are pretty good for the most part , although wes bentley just seemed to be playing the exact same character that he did in american beauty , only in a new neighborhood . \\nbut my biggest kudos go out to sagemiller , who holds her own throughout the entire film , and actually has you feeling her character\\'s unraveling . \\noverall , the film doesn\\'t stick because it doesn\\'t entertain , it\\'s confusing , it rarely excites and it feels pretty redundant for most of its runtime , despite a pretty cool ending and explanation to all of the craziness that came before it . \\noh , and by the way , this is not a horror or teen slasher flick . . . it\\'s \\njust packaged to look that way because someone is apparently assuming that the genre is still hot with the kids . \\nit also wrapped production two years ago and has been sitting on the shelves ever since . \\nwhatever . . . skip \\nit ! \\nwhere\\'s joblo coming from ? \\na nightmare of elm street 3 ( 7/10 ) - blair witch 2 ( 7/10 ) - the crow ( 9/10 ) - the crow : salvation ( 4/10 ) - lost highway ( 10/10 ) - memento ( 10/10 ) - the others ( 9/10 ) - stir of echoes ( 8/10 ) \\n'"
      ]
     },
     "execution_count": 16,
     "metadata": {},
     "output_type": "execute_result"
    }
   ],
   "source": [
    "# how to get raw text ?\n",
    "\n",
    "\n",
    "                    # 'neg/cv000_29416.txt'\n",
    "movie_reviews.raw(movie_reviews.fileids()[0])  # this movie review is negative"
   ]
  },
  {
   "cell_type": "code",
   "execution_count": 24,
   "id": "1d694a8b",
   "metadata": {},
   "outputs": [
    {
     "data": {
      "text/plain": [
       "('neg/cv000_29416.txt', 'neg/cv999_14636.txt')"
      ]
     },
     "execution_count": 24,
     "metadata": {},
     "output_type": "execute_result"
    }
   ],
   "source": [
    "# how to get all negative reviews\n",
    "\n",
    "negative = movie_reviews.fileids(categories='neg')\n",
    "\n",
    "# we have 1000 negative reviews\n",
    "negative[0], negative[-1]"
   ]
  },
  {
   "cell_type": "code",
   "execution_count": 25,
   "id": "feefdf22",
   "metadata": {},
   "outputs": [
    {
     "data": {
      "text/plain": [
       "('pos/cv000_29590.txt', 'pos/cv999_13106.txt')"
      ]
     },
     "execution_count": 25,
     "metadata": {},
     "output_type": "execute_result"
    }
   ],
   "source": [
    "# how to get all positive reviews\n",
    "\n",
    "positive = movie_reviews.fileids(categories='pos')\n",
    "\n",
    "# we have 1000 negative reviews\n",
    "positive[0], positive[-1]"
   ]
  },
  {
   "cell_type": "code",
   "execution_count": 19,
   "id": "acb36558",
   "metadata": {},
   "outputs": [
    {
     "data": {
      "text/plain": [
       "['Sentiment Polarity Dataset Version 2.0',\n",
       " 'Bo Pang and Lillian Lee',\n",
       " '',\n",
       " 'http://www.cs.cornell.edu/people/pabo/movie-review-data/',\n",
       " '',\n",
       " 'Distributed with NLTK with permission from the authors.',\n",
       " '',\n",
       " '=======',\n",
       " '',\n",
       " 'Introduction',\n",
       " '',\n",
       " 'This README v2.0 (June, 2004) for the v2.0 polarity dataset comes from',\n",
       " 'the URL http://www.cs.cornell.edu/people/pabo/movie-review-data .',\n",
       " '',\n",
       " '=======',\n",
       " '',\n",
       " \"What's New -- June, 2004\",\n",
       " '',\n",
       " 'This dataset represents an enhancement of the review corpus v1.0',\n",
       " 'described in README v1.1: it contains more reviews, and labels were',\n",
       " 'created with an improved rating-extraction system.',\n",
       " '',\n",
       " '=======',\n",
       " '',\n",
       " 'Citation Info ',\n",
       " '',\n",
       " 'This data was first used in Bo Pang and Lillian Lee,',\n",
       " '``A Sentimental Education: Sentiment Analysis Using Subjectivity Summarization ',\n",
       " \"Based on Minimum Cuts'',  Proceedings of the ACL, 2004.\",\n",
       " '',\n",
       " '@InProceedings{Pang+Lee:04a,',\n",
       " '  author =       {Bo Pang and Lillian Lee},',\n",
       " '  title =        {A Sentimental Education: Sentiment Analysis Using Subjectivity Summarization Based on Minimum Cuts},',\n",
       " '  booktitle =    \"Proceedings of the ACL\",',\n",
       " '  year =         2004',\n",
       " '}',\n",
       " '',\n",
       " '=======',\n",
       " '',\n",
       " 'Data Format Summary ',\n",
       " '',\n",
       " '- review_polarity.tar.gz: contains this readme and  data used in',\n",
       " '  the experiments described in Pang/Lee ACL 2004.',\n",
       " '',\n",
       " '  Specifically:',\n",
       " '',\n",
       " '  Within the folder \"txt_sentoken\" are the 2000 processed down-cased',\n",
       " '  text files used in Pang/Lee ACL 2004; the names of the two',\n",
       " '  subdirectories in that folder, \"pos\" and \"neg\", indicate the true',\n",
       " '  classification (sentiment) of the component files according to our',\n",
       " '  automatic rating classifier (see section \"Rating Decision\" below).',\n",
       " '',\n",
       " '  File names consist of a cross-validation tag plus the name of the',\n",
       " \"  original html file.  The ten folds used in the Pang/Lee ACL 2004 paper's\",\n",
       " '  experiments were:',\n",
       " '',\n",
       " '     fold 1: files tagged cv000 through cv099, in numerical order',\n",
       " '     fold 2: files tagged cv100 through cv199, in numerical order     ',\n",
       " '     ...',\n",
       " '     fold 10: files tagged cv900 through cv999, in numerical order',\n",
       " '',\n",
       " '  Hence, the file neg/cv114_19501.txt, for example, was labeled as',\n",
       " '  negative, served as a member of fold 2, and was extracted from the',\n",
       " '  file 19501.html in polarity_html.zip (see below).',\n",
       " '',\n",
       " '  Each line in each text file corresponds to a single sentence, as',\n",
       " \"  determined by Adwait Ratnaparkhi's sentence boundary detector\",\n",
       " '  MXTERMINATOR.',\n",
       " ' ',\n",
       " '  Preliminary steps were taken to remove rating information from the',\n",
       " '  text files, but only the rating information upon which the rating',\n",
       " '  decision was based is guaranteed to have been removed. Thus, if the',\n",
       " '  original review contains several instances of rating information,',\n",
       " '  potentially given in different forms, those not recognized as valid',\n",
       " '  ratings remain part of the review text.',\n",
       " '\\t',\n",
       " '- polarity_html.zip: The original source files from which the',\n",
       " '  processed, labeled, and (randomly) selected data in',\n",
       " '  review_polarity.tar.gz was derived.',\n",
       " '',\n",
       " '  Specifically:  ',\n",
       " '',\n",
       " '  This data consists of unprocessed, unlabeled html files from the',\n",
       " '  IMDb archive of the rec.arts.movies.reviews newsgroup,',\n",
       " '  http://reviews.imdb.com/Reviews. The files in review_polarity.tar.gz',\n",
       " '  represent a processed subset of these files. ',\n",
       " '',\n",
       " '=======',\n",
       " '',\n",
       " 'Rating Decision (Appendix A)',\n",
       " '',\n",
       " 'This section describes how we determined whether a review was positive',\n",
       " 'or negative.',\n",
       " '',\n",
       " 'The original html files do not have consistent formats -- a review may',\n",
       " \"not have the author's rating with it, and when it does, the rating can\",\n",
       " 'appear at different places in the file in different forms.  We only',\n",
       " 'recognize some of the more explicit ratings, which are extracted via a',\n",
       " \"set of ad-hoc rules.  In essence, a file's classification is determined\",\n",
       " 'based on the first rating we were able to identify.',\n",
       " '',\n",
       " '',\n",
       " '- In order to obtain more accurate rating decisions, the maximum',\n",
       " '\\trating must be specified explicitly, both for numerical ratings',\n",
       " '\\tand star ratings.  (\"8/10\", \"four out of five\", and \"OUT OF',\n",
       " '\\t****: ***\" are examples of rating indications we recognize.)',\n",
       " '',\n",
       " '- With a five-star system (or compatible number systems):',\n",
       " '\\tthree-and-a-half stars and up are considered positive, ',\n",
       " '\\ttwo stars and below are considered negative.',\n",
       " '- With a four-star system (or compatible number system):',\n",
       " '\\tthree stars and up are considered positive, ',\n",
       " '\\tone-and-a-half stars and below are considered negative.  ',\n",
       " '- With a letter grade system:',\n",
       " '\\tB or above is considered positive,',\n",
       " '\\tC- or below is considered negative.',\n",
       " '',\n",
       " 'We attempted to recognize half stars, but they are specified in an',\n",
       " 'especially free way, which makes them difficult to recognize.  Hence,',\n",
       " 'we may lose a half star very occasionally; but this only results in 2.5',\n",
       " 'stars in five star system being categorized as negative, which is ',\n",
       " 'still reasonable.',\n",
       " '',\n",
       " '',\n",
       " '']"
      ]
     },
     "execution_count": 19,
     "metadata": {},
     "output_type": "execute_result"
    }
   ],
   "source": [
    "# Readme\n",
    "\n",
    "movie_reviews.readme().split('\\n')"
   ]
  },
  {
   "cell_type": "code",
   "execution_count": null,
   "id": "1a8e213d",
   "metadata": {},
   "outputs": [],
   "source": []
  }
 ],
 "metadata": {
  "kernelspec": {
   "display_name": "Python 3 (ipykernel)",
   "language": "python",
   "name": "python3"
  },
  "language_info": {
   "codemirror_mode": {
    "name": "ipython",
    "version": 3
   },
   "file_extension": ".py",
   "mimetype": "text/x-python",
   "name": "python",
   "nbconvert_exporter": "python",
   "pygments_lexer": "ipython3",
   "version": "3.9.12"
  }
 },
 "nbformat": 4,
 "nbformat_minor": 5
}
