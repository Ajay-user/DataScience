{
 "cells": [
  {
   "cell_type": "code",
   "execution_count": 1,
   "id": "c2dd1ee6",
   "metadata": {},
   "outputs": [],
   "source": [
    "from nltk.corpus import stopwords\n",
    "from nltk.tokenize import word_tokenize"
   ]
  },
  {
   "cell_type": "code",
   "execution_count": 5,
   "id": "bb099f0f",
   "metadata": {},
   "outputs": [],
   "source": [
    "stop_words = set(stopwords.words('english'))"
   ]
  },
  {
   "cell_type": "code",
   "execution_count": 7,
   "id": "66f64e57",
   "metadata": {},
   "outputs": [
    {
     "data": {
      "text/plain": [
       "['an',\n",
       " 'wasn',\n",
       " 'then',\n",
       " 'was',\n",
       " \"haven't\",\n",
       " 'most',\n",
       " 'in',\n",
       " \"couldn't\",\n",
       " 'having',\n",
       " 'can']"
      ]
     },
     "execution_count": 7,
     "metadata": {},
     "output_type": "execute_result"
    }
   ],
   "source": [
    "list(stop_words)[:10]"
   ]
  },
  {
   "cell_type": "code",
   "execution_count": 8,
   "id": "16aa58d6",
   "metadata": {},
   "outputs": [],
   "source": [
    "example_text = '''\n",
    "Ellie Cardwell sinks her shot, screaming and clapping to encourage her team.\n",
    "That is more like the England we have become accustomed to seeing - fired up, up for it.\n",
    "\n",
    "There are four minutes left on the clock, can England close the gap enough to set up an exciting final quarter?\n",
    "'''"
   ]
  },
  {
   "cell_type": "code",
   "execution_count": 10,
   "id": "240fbe41",
   "metadata": {},
   "outputs": [],
   "source": [
    "# tokenization\n",
    "\n",
    "words = word_tokenize(example_text)\n"
   ]
  },
  {
   "cell_type": "code",
   "execution_count": 11,
   "id": "df7d5d07",
   "metadata": {},
   "outputs": [],
   "source": [
    "# filtering stop words \n",
    "\n",
    "filtered_words = [word for word in words if word not in stop_words]"
   ]
  },
  {
   "cell_type": "code",
   "execution_count": 14,
   "id": "b1165f1e",
   "metadata": {},
   "outputs": [
    {
     "data": {
      "text/plain": [
       "'Ellie Cardwell sinks shot , screaming clapping encourage team . That like England become accustomed seeing - fired , . There four minutes left clock , England close gap enough set exciting final quarter ?'"
      ]
     },
     "execution_count": 14,
     "metadata": {},
     "output_type": "execute_result"
    }
   ],
   "source": [
    "' '.join(filtered_words)"
   ]
  },
  {
   "cell_type": "code",
   "execution_count": null,
   "id": "8417726b",
   "metadata": {},
   "outputs": [],
   "source": []
  }
 ],
 "metadata": {
  "kernelspec": {
   "display_name": "Python 3 (ipykernel)",
   "language": "python",
   "name": "python3"
  },
  "language_info": {
   "codemirror_mode": {
    "name": "ipython",
    "version": 3
   },
   "file_extension": ".py",
   "mimetype": "text/x-python",
   "name": "python",
   "nbconvert_exporter": "python",
   "pygments_lexer": "ipython3",
   "version": "3.9.12"
  }
 },
 "nbformat": 4,
 "nbformat_minor": 5
}
