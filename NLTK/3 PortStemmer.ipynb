{
 "cells": [
  {
   "cell_type": "code",
   "execution_count": 1,
   "id": "87b5eaf2",
   "metadata": {},
   "outputs": [],
   "source": [
    "from nltk.stem import PorterStemmer\n",
    "from nltk.tokenize import word_tokenize"
   ]
  },
  {
   "cell_type": "markdown",
   "id": "a0c6d7f5",
   "metadata": {},
   "source": [
    "Ex 1: \" I was taking a ride in the car \"\n",
    "\n",
    "Ex 2: \" I was riding in the car\"\n",
    "\n",
    "Both sentence convey the same meaning\n",
    "\n",
    "Word tokenizer will keep both --- ride , riding -- \n",
    "\n",
    "\n",
    "Stemming is the process of reducing a word to its word stem that affixes to suffixes and prefixes or to the roots of words known as a lemma. Stemming is important in natural language understanding (NLU) and natural language processing (NLP)."
   ]
  },
  {
   "cell_type": "code",
   "execution_count": 14,
   "id": "da41c019",
   "metadata": {},
   "outputs": [
    {
     "data": {
      "text/plain": [
       "['ride', 'ride', 'ride', 'ridden']"
      ]
     },
     "execution_count": 14,
     "metadata": {},
     "output_type": "execute_result"
    }
   ],
   "source": [
    "example = ['ride', \"rides\", 'riding', 'ridden']\n",
    "stemmer = PorterStemmer()\n",
    "[stemmer.stem(word) for word in example]"
   ]
  },
  {
   "cell_type": "code",
   "execution_count": 3,
   "id": "3f301742",
   "metadata": {},
   "outputs": [],
   "source": [
    "example_text = '''\n",
    "Surreal to be watching the road race from the streets of my hometown Warwick,\n",
    "every single person is absolutely loving it - fantastic way to finish off a brilliant games.\n",
    "'''"
   ]
  },
  {
   "cell_type": "code",
   "execution_count": 5,
   "id": "f96e44cf",
   "metadata": {},
   "outputs": [],
   "source": [
    "stemmer = PorterStemmer()\n",
    "words = word_tokenize(example_text)"
   ]
  },
  {
   "cell_type": "code",
   "execution_count": 7,
   "id": "cddacf92",
   "metadata": {},
   "outputs": [],
   "source": [
    "output = [stemmer.stem(word) for word in words]"
   ]
  },
  {
   "cell_type": "code",
   "execution_count": 10,
   "id": "cf80723a",
   "metadata": {},
   "outputs": [
    {
     "data": {
      "text/plain": [
       "'surreal to be watch the road race from the street of my hometown warwick , everi singl person is absolut love it - fantast way to finish off a brilliant game .'"
      ]
     },
     "execution_count": 10,
     "metadata": {},
     "output_type": "execute_result"
    }
   ],
   "source": [
    "' '.join(output)"
   ]
  },
  {
   "cell_type": "code",
   "execution_count": null,
   "id": "17d3b40c",
   "metadata": {},
   "outputs": [],
   "source": []
  }
 ],
 "metadata": {
  "kernelspec": {
   "display_name": "Python 3 (ipykernel)",
   "language": "python",
   "name": "python3"
  },
  "language_info": {
   "codemirror_mode": {
    "name": "ipython",
    "version": 3
   },
   "file_extension": ".py",
   "mimetype": "text/x-python",
   "name": "python",
   "nbconvert_exporter": "python",
   "pygments_lexer": "ipython3",
   "version": "3.9.12"
  }
 },
 "nbformat": 4,
 "nbformat_minor": 5
}
