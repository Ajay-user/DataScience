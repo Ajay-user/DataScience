{
 "cells": [
  {
   "cell_type": "code",
   "execution_count": 11,
   "id": "28a5a0ac",
   "metadata": {},
   "outputs": [],
   "source": [
    "import nltk.data\n",
    "from nltk.tokenize import PunktSentenceTokenizer"
   ]
  },
  {
   "cell_type": "code",
   "execution_count": 12,
   "id": "f94b0b57",
   "metadata": {},
   "outputs": [],
   "source": [
    "sent_detector = nltk.data.load('tokenizers/punkt/english.pickle')"
   ]
  },
  {
   "cell_type": "code",
   "execution_count": 17,
   "id": "e92c0cfb",
   "metadata": {},
   "outputs": [],
   "source": [
    "example_1 = '''\n",
    "\n",
    "PunktSentenceTokenizer is the abstract class for the default sentence tokenizer, i.e. sent_tokenize(), provided in NLTK.\n",
    "It is an implmentation of Unsupervised Multilingual Sentence Boundary Detection (Kiss and Strunk (2005). \n",
    "\n",
    "Punkt knows that the periods in names donot mark sentence boundaries, i.e. Periods in Mr. Smith and Johann S. Bach do not mark sentence boundaries.\n",
    "\n",
    "And sometimes sentences can start with non-capitalized words.\n",
    "\n",
    "'''"
   ]
  },
  {
   "cell_type": "code",
   "execution_count": 18,
   "id": "1c6fc7c4",
   "metadata": {},
   "outputs": [
    {
     "data": {
      "text/plain": [
       "['\\n\\nPunktSentenceTokenizer is the abstract class for the default sentence tokenizer, i.e.',\n",
       " 'sent_tokenize(), provided in NLTK.',\n",
       " 'It is an implmentation of Unsupervised Multilingual Sentence Boundary Detection (Kiss and Strunk (2005).',\n",
       " 'Punkt knows that the periods in names donot mark sentence boundaries, i.e.',\n",
       " 'Periods in Mr. Smith and Johann S. Bach do not mark sentence boundaries.',\n",
       " 'And sometimes sentences can start with non-capitalized words.']"
      ]
     },
     "execution_count": 18,
     "metadata": {},
     "output_type": "execute_result"
    }
   ],
   "source": [
    "sent_detector.tokenize(example_1)"
   ]
  },
  {
   "cell_type": "code",
   "execution_count": 15,
   "id": "69d1f6a1",
   "metadata": {},
   "outputs": [],
   "source": [
    "example_2 = '''\n",
    "\n",
    "(How does it deal with this parenthesis?)  \"It should be part of the\n",
    "previous sentence.\" \"(And the same with this one.)\" ('And this one!')\n",
    "\"('(And (this)) '?)\" [(and this. )]\n",
    "\n",
    " '''"
   ]
  },
  {
   "cell_type": "code",
   "execution_count": 16,
   "id": "01dfc4a7",
   "metadata": {},
   "outputs": [
    {
     "data": {
      "text/plain": [
       "['\\n\\n(How does it deal with this parenthesis?)',\n",
       " '\"It should be part of the\\nprevious sentence.\"',\n",
       " '\"(And the same with this one.)\"',\n",
       " \"('And this one!')\",\n",
       " '\"(\\'(And (this)) \\'?)\"',\n",
       " '[(and this. )]']"
      ]
     },
     "execution_count": 16,
     "metadata": {},
     "output_type": "execute_result"
    }
   ],
   "source": [
    "sent_detector.tokenize(example_2)"
   ]
  },
  {
   "cell_type": "code",
   "execution_count": null,
   "id": "29a34b4d",
   "metadata": {},
   "outputs": [],
   "source": []
  }
 ],
 "metadata": {
  "kernelspec": {
   "display_name": "Python 3 (ipykernel)",
   "language": "python",
   "name": "python3"
  },
  "language_info": {
   "codemirror_mode": {
    "name": "ipython",
    "version": 3
   },
   "file_extension": ".py",
   "mimetype": "text/x-python",
   "name": "python",
   "nbconvert_exporter": "python",
   "pygments_lexer": "ipython3",
   "version": "3.9.12"
  }
 },
 "nbformat": 4,
 "nbformat_minor": 5
}
