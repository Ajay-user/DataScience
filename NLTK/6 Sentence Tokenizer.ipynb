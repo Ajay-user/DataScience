{
 "cells": [
  {
   "cell_type": "code",
   "execution_count": 1,
   "id": "10a78ca7",
   "metadata": {},
   "outputs": [],
   "source": [
    "from nltk.tokenize import sent_tokenize"
   ]
  },
  {
   "cell_type": "markdown",
   "id": "cd980b2f",
   "metadata": {},
   "source": [
    "## English"
   ]
  },
  {
   "cell_type": "code",
   "execution_count": 11,
   "id": "624413e2",
   "metadata": {},
   "outputs": [],
   "source": [
    "english_text = 'Hello Mr. Smith. How is the work going?'"
   ]
  },
  {
   "cell_type": "code",
   "execution_count": 12,
   "id": "d6923b3a",
   "metadata": {},
   "outputs": [
    {
     "data": {
      "text/plain": [
       "['Hello Mr. Smith.', 'How is the work going?']"
      ]
     },
     "execution_count": 12,
     "metadata": {},
     "output_type": "execute_result"
    }
   ],
   "source": [
    "sent_tokenize(example)"
   ]
  },
  {
   "cell_type": "markdown",
   "id": "94a64c9d",
   "metadata": {},
   "source": [
    "## German"
   ]
  },
  {
   "cell_type": "code",
   "execution_count": 9,
   "id": "e62aee56",
   "metadata": {},
   "outputs": [],
   "source": [
    "german_text = 'Hallo Herr Schmidt. Wie läuft die Arbeit.'"
   ]
  },
  {
   "cell_type": "code",
   "execution_count": 10,
   "id": "a56dade8",
   "metadata": {},
   "outputs": [
    {
     "data": {
      "text/plain": [
       "['Hallo Herr Schmidt.', 'Wie läuft die Arbeit.']"
      ]
     },
     "execution_count": 10,
     "metadata": {},
     "output_type": "execute_result"
    }
   ],
   "source": [
    "sent_tokenize(germen_text, language='german')"
   ]
  },
  {
   "cell_type": "markdown",
   "id": "61651b08",
   "metadata": {},
   "source": [
    "## List of available languages\n",
    "\n",
    "`czech.pickle     finnish.pickle  norwegian.pickle   slovene.pickle\n",
    "danish.pickle    french.pickle   polish.pickle      spanish.pickle\n",
    "dutch.pickle     german.pickle   portuguese.pickle  swedish.pickle\n",
    "english.pickle   greek.pickle    PY3                turkish.pickle\n",
    "estonian.pickle  italian.pickle`"
   ]
  },
  {
   "cell_type": "code",
   "execution_count": 14,
   "id": "92a5a458",
   "metadata": {},
   "outputs": [],
   "source": [
    "# resource : https://stackoverflow.com/questions/35275001/use-of-punktsentencetokenizer-in-nltk"
   ]
  }
 ],
 "metadata": {
  "kernelspec": {
   "display_name": "Python 3 (ipykernel)",
   "language": "python",
   "name": "python3"
  },
  "language_info": {
   "codemirror_mode": {
    "name": "ipython",
    "version": 3
   },
   "file_extension": ".py",
   "mimetype": "text/x-python",
   "name": "python",
   "nbconvert_exporter": "python",
   "pygments_lexer": "ipython3",
   "version": "3.9.12"
  }
 },
 "nbformat": 4,
 "nbformat_minor": 5
}
