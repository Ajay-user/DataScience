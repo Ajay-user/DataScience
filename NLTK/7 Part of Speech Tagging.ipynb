{
 "cells": [
  {
   "cell_type": "code",
   "execution_count": 1,
   "id": "0be5b769",
   "metadata": {},
   "outputs": [],
   "source": [
    "from nltk.tokenize import word_tokenize\n",
    "from nltk.tag import pos_tag"
   ]
  },
  {
   "cell_type": "markdown",
   "id": "1efa80df",
   "metadata": {},
   "source": [
    "##  Parts of speech in the English language\n",
    "\n",
    "\n",
    "There are eight parts of speech in the English language:\n",
    "\n",
    "`noun, pronoun, verb,\n",
    "adjective, adverb, preposition,\n",
    "conjunction, and interjection`\n",
    "\n",
    "\n",
    "https://www.grammarly.com/blog/parts-of-speech/?gclid=Cj0KCQjwxb2XBhDBARIsAOjDZ36Tsx7Pz7dqIG-DgN2KLbLlwC1bdJEXj6gTZCpErz0sL2scaH0r67caAjneEALw_wcB&gclsrc=aw.ds\n"
   ]
  },
  {
   "cell_type": "code",
   "execution_count": 2,
   "id": "3200d053",
   "metadata": {},
   "outputs": [],
   "source": [
    "true_labels = '''\n",
    "\n",
    "I went to work         (work -- noun). \n",
    "I work in the garden   (work -- verb).\n",
    "\n",
    "'''\n",
    "\n",
    "test = '''\n",
    "\n",
    "I went to work. \n",
    "I work in the garden.\n",
    "\n",
    "'''"
   ]
  },
  {
   "cell_type": "code",
   "execution_count": 17,
   "id": "3eb3c845",
   "metadata": {},
   "outputs": [
    {
     "data": {
      "text/plain": [
       "['I', 'went', 'to', 'work', '.', 'I', 'work', 'in', 'the', 'garden', '.']"
      ]
     },
     "execution_count": 17,
     "metadata": {},
     "output_type": "execute_result"
    }
   ],
   "source": [
    "words = word_tokenize(test)\n",
    "words"
   ]
  },
  {
   "cell_type": "code",
   "execution_count": 18,
   "id": "f2b30a64",
   "metadata": {},
   "outputs": [
    {
     "data": {
      "text/plain": [
       "[('I', 'PRP'),\n",
       " ('went', 'VBD'),\n",
       " ('to', 'TO'),\n",
       " ('work', 'VB'),\n",
       " ('.', '.'),\n",
       " ('I', 'PRP'),\n",
       " ('work', 'VBP'),\n",
       " ('in', 'IN'),\n",
       " ('the', 'DT'),\n",
       " ('garden', 'NN'),\n",
       " ('.', '.')]"
      ]
     },
     "execution_count": 18,
     "metadata": {},
     "output_type": "execute_result"
    }
   ],
   "source": [
    "pos_tag(words)"
   ]
  },
  {
   "cell_type": "markdown",
   "id": "808a337a",
   "metadata": {},
   "source": [
    "## POS tag list:\n",
    "`\n",
    "CC coordinating conjunction\n",
    "CD cardinal digit\n",
    "DT determiner\n",
    "EX existential there (like: \"there is\" ... think of it like \"there exists\")\n",
    "FW foreign word\n",
    "IN preposition/subordinating conjunction\n",
    "JJ adjective 'big'\n",
    "JJR adjective, comparative 'bigger'\n",
    "JJS adjective, superlative 'biggest'\n",
    "LS list marker 1)\n",
    "MD modal could, will\n",
    "NN noun, singular 'desk'\n",
    "NNS noun plural 'desks'\n",
    "NNP proper noun, singular 'Harrison'\n",
    "NNPS proper noun, plural 'Americans'\n",
    "PDT predeterminer 'all the kids'\n",
    "POS possessive ending parent's\n",
    "PRP personal pronoun I, he, she\n",
    "PRP$ possessive pronoun my, his, hers\n",
    "RB adverb very, silently,\n",
    "RBR adverb, comparative better\n",
    "RBS adverb, superlative best\n",
    "RP particle give up\n",
    "TO to go 'to' the store.\n",
    "UH interjection errrrrrrrm\n",
    "VB verb, base form take\n",
    "VBD verb, past tense took\n",
    "VBG verb, gerund/present participle taking\n",
    "VBN verb, past participle taken\n",
    "VBP verb, sing. present, non-3d take\n",
    "VBZ verb, 3rd person sing. present takes\n",
    "WDT wh-determiner which\n",
    "WP wh-pronoun who, what\n",
    "WP$ possessive wh-pronoun whose\n",
    "WRB wh-abverb where, when`"
   ]
  },
  {
   "cell_type": "markdown",
   "id": "26c855cc",
   "metadata": {},
   "source": [
    "## Example 2"
   ]
  },
  {
   "cell_type": "code",
   "execution_count": 4,
   "id": "95381a91",
   "metadata": {},
   "outputs": [],
   "source": [
    "true_labels = '''\n",
    "\n",
    "She paints very well              (well -- adverb).\n",
    "He’s well-liked in his community  (well -- adjective).\n",
    "I dropped a penny in the well     (well -- noun).\n",
    "\n",
    "'''\n",
    "\n",
    "test = '''\n",
    "\n",
    "She paints very well.\n",
    "He’s well-liked in his community.\n",
    "I dropped a penny in the well.\n",
    "\n",
    "'''"
   ]
  },
  {
   "cell_type": "code",
   "execution_count": 5,
   "id": "77280839",
   "metadata": {},
   "outputs": [
    {
     "data": {
      "text/plain": [
       "['She',\n",
       " 'paints',\n",
       " 'very',\n",
       " 'well',\n",
       " '.',\n",
       " 'He',\n",
       " '’',\n",
       " 's',\n",
       " 'well-liked',\n",
       " 'in',\n",
       " 'his',\n",
       " 'community',\n",
       " '.',\n",
       " 'I',\n",
       " 'dropped',\n",
       " 'a',\n",
       " 'penny',\n",
       " 'in',\n",
       " 'the',\n",
       " 'well',\n",
       " '.']"
      ]
     },
     "execution_count": 5,
     "metadata": {},
     "output_type": "execute_result"
    }
   ],
   "source": [
    "words = word_tokenize(test)\n",
    "words"
   ]
  },
  {
   "cell_type": "code",
   "execution_count": 6,
   "id": "0634bf86",
   "metadata": {},
   "outputs": [
    {
     "data": {
      "text/plain": [
       "[('She', 'PRP'),\n",
       " ('paints', 'VBZ'),\n",
       " ('very', 'RB'),\n",
       " ('well', 'RB'),\n",
       " ('.', '.'),\n",
       " ('He', 'PRP'),\n",
       " ('’', 'VBD'),\n",
       " ('s', 'JJ'),\n",
       " ('well-liked', 'JJ'),\n",
       " ('in', 'IN'),\n",
       " ('his', 'PRP$'),\n",
       " ('community', 'NN'),\n",
       " ('.', '.'),\n",
       " ('I', 'PRP'),\n",
       " ('dropped', 'VBD'),\n",
       " ('a', 'DT'),\n",
       " ('penny', 'NN'),\n",
       " ('in', 'IN'),\n",
       " ('the', 'DT'),\n",
       " ('well', 'NN'),\n",
       " ('.', '.')]"
      ]
     },
     "execution_count": 6,
     "metadata": {},
     "output_type": "execute_result"
    }
   ],
   "source": [
    "pos_tag(words)"
   ]
  },
  {
   "cell_type": "markdown",
   "id": "9ba5d56d",
   "metadata": {},
   "source": [
    "## Example 3"
   ]
  },
  {
   "cell_type": "code",
   "execution_count": 7,
   "id": "c5cffed1",
   "metadata": {},
   "outputs": [],
   "source": [
    "true_labels = '''\n",
    "\n",
    "I cooked breakfast and lunch, but Steve cooked dinner   (but -- conjunction).\n",
    "I brought everything but the pens you asked for         (but -- preposition).\n",
    "\n",
    "'''\n",
    "\n",
    "test = '''\n",
    "\n",
    "I cooked breakfast and lunch, but Steve cooked dinner.\n",
    "I brought everything but the pens you asked for.\n",
    "\n",
    "'''"
   ]
  },
  {
   "cell_type": "code",
   "execution_count": 8,
   "id": "402c4afd",
   "metadata": {},
   "outputs": [
    {
     "data": {
      "text/plain": [
       "['I',\n",
       " 'cooked',\n",
       " 'breakfast',\n",
       " 'and',\n",
       " 'lunch',\n",
       " ',',\n",
       " 'but',\n",
       " 'Steve',\n",
       " 'cooked',\n",
       " 'dinner',\n",
       " '.',\n",
       " 'I',\n",
       " 'brought',\n",
       " 'everything',\n",
       " 'but',\n",
       " 'the',\n",
       " 'pens',\n",
       " 'you',\n",
       " 'asked',\n",
       " 'for',\n",
       " '.']"
      ]
     },
     "execution_count": 8,
     "metadata": {},
     "output_type": "execute_result"
    }
   ],
   "source": [
    "words = word_tokenize(test)\n",
    "words"
   ]
  },
  {
   "cell_type": "code",
   "execution_count": 9,
   "id": "ff357cdb",
   "metadata": {},
   "outputs": [
    {
     "data": {
      "text/plain": [
       "[('I', 'PRP'),\n",
       " ('cooked', 'VBD'),\n",
       " ('breakfast', 'NN'),\n",
       " ('and', 'CC'),\n",
       " ('lunch', 'NN'),\n",
       " (',', ','),\n",
       " ('but', 'CC'),\n",
       " ('Steve', 'NNP'),\n",
       " ('cooked', 'VBD'),\n",
       " ('dinner', 'NN'),\n",
       " ('.', '.'),\n",
       " ('I', 'PRP'),\n",
       " ('brought', 'VBD'),\n",
       " ('everything', 'NN'),\n",
       " ('but', 'CC'),\n",
       " ('the', 'DT'),\n",
       " ('pens', 'NNS'),\n",
       " ('you', 'PRP'),\n",
       " ('asked', 'VBD'),\n",
       " ('for', 'IN'),\n",
       " ('.', '.')]"
      ]
     },
     "execution_count": 9,
     "metadata": {},
     "output_type": "execute_result"
    }
   ],
   "source": [
    "pos_tag(words)"
   ]
  },
  {
   "cell_type": "code",
   "execution_count": null,
   "id": "bcdde47c",
   "metadata": {},
   "outputs": [],
   "source": []
  }
 ],
 "metadata": {
  "kernelspec": {
   "display_name": "Python 3 (ipykernel)",
   "language": "python",
   "name": "python3"
  },
  "language_info": {
   "codemirror_mode": {
    "name": "ipython",
    "version": 3
   },
   "file_extension": ".py",
   "mimetype": "text/x-python",
   "name": "python",
   "nbconvert_exporter": "python",
   "pygments_lexer": "ipython3",
   "version": "3.9.12"
  }
 },
 "nbformat": 4,
 "nbformat_minor": 5
}
