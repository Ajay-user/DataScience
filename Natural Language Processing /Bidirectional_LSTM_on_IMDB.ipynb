{
  "nbformat": 4,
  "nbformat_minor": 0,
  "metadata": {
    "colab": {
      "name": "Bidirectional LSTM on IMDB.ipynb",
      "provenance": [],
      "authorship_tag": "ABX9TyMH70mJtS68+k9HvfMds02a",
      "include_colab_link": true
    },
    "kernelspec": {
      "name": "python3",
      "display_name": "Python 3"
    },
    "language_info": {
      "name": "python"
    }
  },
  "cells": [
    {
      "cell_type": "markdown",
      "metadata": {
        "id": "view-in-github",
        "colab_type": "text"
      },
      "source": [
        "<a href=\"https://colab.research.google.com/github/Ajay-user/DataScience/blob/master/Natural%20Language%20Processing%20/Bidirectional_LSTM_on_IMDB.ipynb\" target=\"_parent\"><img src=\"https://colab.research.google.com/assets/colab-badge.svg\" alt=\"Open In Colab\"/></a>"
      ]
    },
    {
      "cell_type": "code",
      "metadata": {
        "id": "AbTN85PjbO9w"
      },
      "source": [
        "import numpy as np\n",
        "import tensorflow as tf"
      ],
      "execution_count": 1,
      "outputs": []
    },
    {
      "cell_type": "markdown",
      "metadata": {
        "id": "CuPpnfcebf1B"
      },
      "source": [
        "## Constants"
      ]
    },
    {
      "cell_type": "code",
      "metadata": {
        "id": "NSVIyS7ybZn7"
      },
      "source": [
        "\n",
        "max_features = 20000  # Only consider the top 20k words\n",
        "maxlen = 200  # Only consider the first 200 words of each movie review"
      ],
      "execution_count": 2,
      "outputs": []
    },
    {
      "cell_type": "markdown",
      "metadata": {
        "id": "vMrL4MdFbxG-"
      },
      "source": [
        "## Build the model"
      ]
    },
    {
      "cell_type": "code",
      "metadata": {
        "colab": {
          "base_uri": "https://localhost:8080/"
        },
        "id": "uNyZyI_wbh3F",
        "outputId": "1b5f5cc2-0b7f-49a2-d2fc-d0edecdd520d"
      },
      "source": [
        "# Input for variable-length sequences of integers\n",
        "inputs = tf.keras.layers.Input(shape=(None,), dtype='int32')\n",
        "# Embed each integer in a 128-dimensional vector\n",
        "embedding = tf.keras.layers.Embedding(max_features+1, 128)(inputs)\n",
        "# add two bidirectional lstm\n",
        "bidirectional_lstm = tf.keras.layers.Bidirectional(tf.keras.layers.LSTM(64, return_sequences=True))(embedding)\n",
        "bidirectional_lstm = tf.keras.layers.Bidirectional(tf.keras.layers.LSTM(64))(bidirectional_lstm)\n",
        "# add output classifier\n",
        "outputs = tf.keras.layers.Dense(1, activation='sigmoid')(bidirectional_lstm)\n",
        "\n",
        "model = tf.keras.Model(inputs, outputs)\n",
        "\n",
        "model.summary()"
      ],
      "execution_count": 3,
      "outputs": [
        {
          "output_type": "stream",
          "text": [
            "Model: \"model\"\n",
            "_________________________________________________________________\n",
            "Layer (type)                 Output Shape              Param #   \n",
            "=================================================================\n",
            "input_1 (InputLayer)         [(None, None)]            0         \n",
            "_________________________________________________________________\n",
            "embedding (Embedding)        (None, None, 128)         2560128   \n",
            "_________________________________________________________________\n",
            "bidirectional (Bidirectional (None, None, 128)         98816     \n",
            "_________________________________________________________________\n",
            "bidirectional_1 (Bidirection (None, 128)               98816     \n",
            "_________________________________________________________________\n",
            "dense (Dense)                (None, 1)                 129       \n",
            "=================================================================\n",
            "Total params: 2,757,889\n",
            "Trainable params: 2,757,889\n",
            "Non-trainable params: 0\n",
            "_________________________________________________________________\n"
          ],
          "name": "stdout"
        }
      ]
    },
    {
      "cell_type": "markdown",
      "metadata": {
        "id": "qPBmYweGeDsw"
      },
      "source": [
        "\n",
        "## Load the IMDB movie review sentiment data\n",
        "https://keras.io/api/datasets/imdb/\n",
        "\n",
        "This is a dataset of 25,000 movies reviews from IMDB, labeled by sentiment (positive/negative). Reviews have been preprocessed, and each review is encoded as a list of word indexes (integers). For convenience, words are indexed by overall frequency in the dataset, so that for instance the integer \"3\" encodes the 3rd most frequent word in the data. This allows for quick filtering operations such as: \"only consider the top 10,000 most common words, but eliminate the top 20 most common words\".\n",
        "\n",
        "As a convention, \"0\" does not stand for a specific word, but instead is used to encode any unknown word.\n",
        "\n",
        "*arguments<br>\n",
        "* maxlen: int or None. Maximum sequence length. Any longer sequence will be truncated. Defaults to None, which means no truncation.\n",
        "\n",
        "* num_words: integer or None. Words are ranked by how often they occur (in the training set) and only the num_words most frequent words are kept. Any less frequent word will appear as oov_char value in the sequence data. If None, all words are kept. Defaults to None, so all words are kept."
      ]
    },
    {
      "cell_type": "code",
      "metadata": {
        "colab": {
          "base_uri": "https://localhost:8080/"
        },
        "id": "PB_iTBmncBT9",
        "outputId": "f9a1bd49-49f5-4bec-8e6d-b0b94bc988eb"
      },
      "source": [
        "(X_train, y_train),(X_test, y_test) = tf.keras.datasets.imdb.load_data(num_words=max_features)"
      ],
      "execution_count": 4,
      "outputs": [
        {
          "output_type": "stream",
          "text": [
            "Downloading data from https://storage.googleapis.com/tensorflow/tf-keras-datasets/imdb.npz\n",
            "17465344/17464789 [==============================] - 0s 0us/step\n"
          ],
          "name": "stdout"
        },
        {
          "output_type": "stream",
          "text": [
            "<string>:6: VisibleDeprecationWarning: Creating an ndarray from ragged nested sequences (which is a list-or-tuple of lists-or-tuples-or ndarrays with different lengths or shapes) is deprecated. If you meant to do this, you must specify 'dtype=object' when creating the ndarray\n",
            "/usr/local/lib/python3.7/dist-packages/tensorflow/python/keras/datasets/imdb.py:155: VisibleDeprecationWarning: Creating an ndarray from ragged nested sequences (which is a list-or-tuple of lists-or-tuples-or ndarrays with different lengths or shapes) is deprecated. If you meant to do this, you must specify 'dtype=object' when creating the ndarray\n",
            "  x_train, y_train = np.array(xs[:idx]), np.array(labels[:idx])\n",
            "/usr/local/lib/python3.7/dist-packages/tensorflow/python/keras/datasets/imdb.py:156: VisibleDeprecationWarning: Creating an ndarray from ragged nested sequences (which is a list-or-tuple of lists-or-tuples-or ndarrays with different lengths or shapes) is deprecated. If you meant to do this, you must specify 'dtype=object' when creating the ndarray\n",
            "  x_test, y_test = np.array(xs[idx:]), np.array(labels[idx:])\n"
          ],
          "name": "stderr"
        }
      ]
    },
    {
      "cell_type": "code",
      "metadata": {
        "colab": {
          "base_uri": "https://localhost:8080/"
        },
        "id": "k_kskdIYePiM",
        "outputId": "8200b917-84e6-468a-fea8-4c5205651f8b"
      },
      "source": [
        "print('Shape of training data', X_train.shape)\n",
        "print('Shape of training label', y_train.shape)\n",
        "print('Shape of testing data', X_test.shape)\n",
        "print('Shape of testing label', y_test.shape)"
      ],
      "execution_count": 5,
      "outputs": [
        {
          "output_type": "stream",
          "text": [
            "Shape of training data (25000,)\n",
            "Shape of training label (25000,)\n",
            "Shape of testing data (25000,)\n",
            "Shape of testing label (25000,)\n"
          ],
          "name": "stdout"
        }
      ]
    },
    {
      "cell_type": "code",
      "metadata": {
        "id": "VOMnGJOfhh8L"
      },
      "source": [
        "X_train = tf.keras.preprocessing.sequence.pad_sequences(X_train, maxlen)\n",
        "X_test = tf.keras.preprocessing.sequence.pad_sequences(X_test, maxlen)"
      ],
      "execution_count": 6,
      "outputs": []
    },
    {
      "cell_type": "markdown",
      "metadata": {
        "id": "lNHGMNOsexgy"
      },
      "source": [
        "## Train and evaluate the model"
      ]
    },
    {
      "cell_type": "code",
      "metadata": {
        "colab": {
          "base_uri": "https://localhost:8080/"
        },
        "id": "q6fEKjJQeWAQ",
        "outputId": "f64a47b9-89ec-4f9b-ebad-8a76328aa347"
      },
      "source": [
        "model.compile(optimizer='adam', loss ='binary_crossentropy', metrics=['accuracy'])\n",
        "\n",
        "model.fit(X_train, y_train, epochs=1, batch_size=32, validation_data=(X_test, y_test))"
      ],
      "execution_count": 7,
      "outputs": [
        {
          "output_type": "stream",
          "text": [
            "782/782 [==============================] - 418s 526ms/step - loss: 0.3943 - accuracy: 0.8217 - val_loss: 0.3512 - val_accuracy: 0.8559\n"
          ],
          "name": "stdout"
        },
        {
          "output_type": "execute_result",
          "data": {
            "text/plain": [
              "<tensorflow.python.keras.callbacks.History at 0x7f4a85a5a850>"
            ]
          },
          "metadata": {
            "tags": []
          },
          "execution_count": 7
        }
      ]
    },
    {
      "cell_type": "code",
      "metadata": {
        "colab": {
          "base_uri": "https://localhost:8080/"
        },
        "id": "6jO4GllAfWC1",
        "outputId": "e782fcc3-cb12-4094-f2d7-9e2578ed7c3f"
      },
      "source": [
        "# model evaluation\n",
        "loss, accuracy = model.evaluate(X_test, y_test)\n",
        "print('Loss', loss)\n",
        "print('Accracy',accuracy)"
      ],
      "execution_count": 8,
      "outputs": [
        {
          "output_type": "stream",
          "text": [
            "782/782 [==============================] - 70s 90ms/step - loss: 0.3512 - accuracy: 0.8559\n",
            "Loss 0.35116586089134216\n",
            "Accracy 0.8559200167655945\n"
          ],
          "name": "stdout"
        }
      ]
    },
    {
      "cell_type": "code",
      "metadata": {
        "id": "Lr414IqcFtgE"
      },
      "source": [
        ""
      ],
      "execution_count": null,
      "outputs": []
    }
  ]
}