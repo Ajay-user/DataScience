{
  "nbformat": 4,
  "nbformat_minor": 0,
  "metadata": {
    "colab": {
      "name": "Convolutional neural network for text processing .ipynb",
      "provenance": [],
      "toc_visible": true,
      "authorship_tag": "ABX9TyORBPtlD3l1X4jD5tFD7a8+",
      "include_colab_link": true
    },
    "kernelspec": {
      "name": "python3",
      "display_name": "Python 3"
    },
    "language_info": {
      "name": "python"
    }
  },
  "cells": [
    {
      "cell_type": "markdown",
      "metadata": {
        "id": "view-in-github",
        "colab_type": "text"
      },
      "source": [
        "<a href=\"https://colab.research.google.com/github/Ajay-user/ML-DL-RL-repo/blob/master/Natural%20Language%20Processing/Convolutional_neural_network_for_text_processing_.ipynb\" target=\"_parent\"><img src=\"https://colab.research.google.com/assets/colab-badge.svg\" alt=\"Open In Colab\"/></a>"
      ]
    },
    {
      "cell_type": "code",
      "execution_count": null,
      "metadata": {
        "id": "--KKdKGeD_KL"
      },
      "outputs": [],
      "source": [
        "# pip install \"tensorflow-text==2.8.*\""
      ]
    },
    {
      "cell_type": "code",
      "source": [
        "import collections\n",
        "import pathlib\n",
        "import tensorflow as tf\n",
        "import matplotlib.pyplot as plt\n",
        "import numpy as np"
      ],
      "metadata": {
        "id": "EIVEDwZMFIuO"
      },
      "execution_count": 1,
      "outputs": []
    },
    {
      "cell_type": "markdown",
      "source": [
        "## Example 1: Predict the tag for a Stack Overflow question"
      ],
      "metadata": {
        "id": "YEgZX0nCFWkW"
      }
    },
    {
      "cell_type": "markdown",
      "source": [
        "### Download the data"
      ],
      "metadata": {
        "id": "YM0AcsIEFc60"
      }
    },
    {
      "cell_type": "code",
      "source": [
        "data_url = 'https://storage.googleapis.com/download.tensorflow.org/data/stack_overflow_16k.tar.gz'\n",
        "\n",
        "data_dir = tf.keras.utils.get_file(origin=data_url, cache_dir='stackoverflow',cache_subdir='', untar=True)\n",
        "print(data_dir)"
      ],
      "metadata": {
        "colab": {
          "base_uri": "https://localhost:8080/"
        },
        "id": "wE0skPu5FRbc",
        "outputId": "1bfc06b3-544e-44ff-a44c-ad3e5e43324f"
      },
      "execution_count": 2,
      "outputs": [
        {
          "output_type": "stream",
          "name": "stdout",
          "text": [
            "Downloading data from https://storage.googleapis.com/download.tensorflow.org/data/stack_overflow_16k.tar.gz\n",
            "6053888/6053168 [==============================] - 0s 0us/step\n",
            "6062080/6053168 [==============================] - 0s 0us/step\n",
            "/tmp/.keras/stack_overflow_16k\n"
          ]
        }
      ]
    },
    {
      "cell_type": "code",
      "source": [
        "parent_dir = pathlib.Path(data_dir).parent\n",
        "list(parent_dir.iterdir())"
      ],
      "metadata": {
        "colab": {
          "base_uri": "https://localhost:8080/"
        },
        "id": "U3dcdq2LGDLx",
        "outputId": "395c542d-f5b4-4d02-fef8-8799144eaada"
      },
      "execution_count": 3,
      "outputs": [
        {
          "output_type": "execute_result",
          "data": {
            "text/plain": [
              "[PosixPath('/tmp/.keras/train'),\n",
              " PosixPath('/tmp/.keras/stack_overflow_16k.tar.gz'),\n",
              " PosixPath('/tmp/.keras/test'),\n",
              " PosixPath('/tmp/.keras/README.md')]"
            ]
          },
          "metadata": {},
          "execution_count": 3
        }
      ]
    },
    {
      "cell_type": "code",
      "source": [
        "train_dir = pathlib.Path(parent_dir/'train')\n",
        "list(train_dir.iterdir())"
      ],
      "metadata": {
        "colab": {
          "base_uri": "https://localhost:8080/"
        },
        "id": "SbCf3yPIGXaW",
        "outputId": "2283c6db-3ea0-4cf4-be01-8ab15917ffd4"
      },
      "execution_count": 4,
      "outputs": [
        {
          "output_type": "execute_result",
          "data": {
            "text/plain": [
              "[PosixPath('/tmp/.keras/train/java'),\n",
              " PosixPath('/tmp/.keras/train/csharp'),\n",
              " PosixPath('/tmp/.keras/train/javascript'),\n",
              " PosixPath('/tmp/.keras/train/python')]"
            ]
          },
          "metadata": {},
          "execution_count": 4
        }
      ]
    },
    {
      "cell_type": "code",
      "source": [
        "test_dir = pathlib.Path(parent_dir/'test')\n",
        "list(train_dir.iterdir())"
      ],
      "metadata": {
        "colab": {
          "base_uri": "https://localhost:8080/"
        },
        "id": "wntsjDEwHAR1",
        "outputId": "d34bd185-5a8b-4dfd-b68b-c685c6f20691"
      },
      "execution_count": 5,
      "outputs": [
        {
          "output_type": "execute_result",
          "data": {
            "text/plain": [
              "[PosixPath('/tmp/.keras/train/java'),\n",
              " PosixPath('/tmp/.keras/train/csharp'),\n",
              " PosixPath('/tmp/.keras/train/javascript'),\n",
              " PosixPath('/tmp/.keras/train/python')]"
            ]
          },
          "metadata": {},
          "execution_count": 5
        }
      ]
    },
    {
      "cell_type": "markdown",
      "source": [
        "###Load the dataset"
      ],
      "metadata": {
        "id": "erUnIStJHS-z"
      }
    },
    {
      "cell_type": "code",
      "source": [
        "raw_train_ds = tf.keras.utils.text_dataset_from_directory(directory=train_dir, batch_size=32, seed=42, validation_split=0.2, subset='training')\n",
        "raw_val_ds = tf.keras.utils.text_dataset_from_directory(directory=train_dir, batch_size=32, seed=42, validation_split=0.2, subset='validation')\n",
        "raw_test_ds = tf.keras.utils.text_dataset_from_directory(directory=test_dir, batch_size=32)"
      ],
      "metadata": {
        "colab": {
          "base_uri": "https://localhost:8080/"
        },
        "id": "Mdt5PCeeHHKb",
        "outputId": "bdcf6589-2bc1-41be-f86b-9b7fdef019b3"
      },
      "execution_count": 6,
      "outputs": [
        {
          "output_type": "stream",
          "name": "stdout",
          "text": [
            "Found 8000 files belonging to 4 classes.\n",
            "Using 6400 files for training.\n",
            "Found 8000 files belonging to 4 classes.\n",
            "Using 1600 files for validation.\n",
            "Found 8000 files belonging to 4 classes.\n"
          ]
        }
      ]
    },
    {
      "cell_type": "code",
      "source": [
        "classes = [name for name in raw_train_ds.class_names]\n",
        "num_classes = len(classes)\n",
        "print(classes)"
      ],
      "metadata": {
        "colab": {
          "base_uri": "https://localhost:8080/"
        },
        "id": "e6BqlLweOrFd",
        "outputId": "c3a1b7b9-2ed1-4d88-955a-e11a4b8bc4b0"
      },
      "execution_count": 7,
      "outputs": [
        {
          "output_type": "stream",
          "name": "stdout",
          "text": [
            "['csharp', 'java', 'javascript', 'python']\n"
          ]
        }
      ]
    },
    {
      "cell_type": "markdown",
      "source": [
        "### Prepare the dataset for training"
      ],
      "metadata": {
        "id": "Zggsa1vrIig9"
      }
    },
    {
      "cell_type": "code",
      "source": [
        "VOCAB_SIZE = 10000\n",
        "MAX_SEQUENCE_LENGTH = 250"
      ],
      "metadata": {
        "id": "jGKaVVkJJQ5A"
      },
      "execution_count": 8,
      "outputs": []
    },
    {
      "cell_type": "markdown",
      "source": [
        "standardize, tokenize, and vectorize the data"
      ],
      "metadata": {
        "id": "3tWboDJqJwnO"
      }
    },
    {
      "cell_type": "code",
      "source": [
        "stackoverflow_vectorizer = tf.keras.layers.TextVectorization(max_tokens=VOCAB_SIZE, output_sequence_length=MAX_SEQUENCE_LENGTH)"
      ],
      "metadata": {
        "id": "5P3aZvJBILIo"
      },
      "execution_count": 9,
      "outputs": []
    },
    {
      "cell_type": "markdown",
      "source": [
        "create a text only dataset to adap the vectorizer"
      ],
      "metadata": {
        "id": "eGrJ8CkDJzu0"
      }
    },
    {
      "cell_type": "code",
      "source": [
        "train_text =  raw_train_ds.map(lambda x,y:x, num_parallel_calls=tf.data.AUTOTUNE)"
      ],
      "metadata": {
        "id": "0CvbLrgdJy2J"
      },
      "execution_count": 10,
      "outputs": []
    },
    {
      "cell_type": "code",
      "source": [
        "stackoverflow_vectorizer.adapt(train_text)"
      ],
      "metadata": {
        "id": "5784QoPRKJe-"
      },
      "execution_count": 11,
      "outputs": []
    },
    {
      "cell_type": "markdown",
      "source": [
        "utility to standardize, tokenize, and vectorize the data"
      ],
      "metadata": {
        "id": "OUCzurOPKrpE"
      }
    },
    {
      "cell_type": "code",
      "source": [
        "def vectorize_text(text,label):\n",
        "  text = tf.expand_dims(text,-1)\n",
        "  return stackoverflow_vectorizer(text), label"
      ],
      "metadata": {
        "id": "seYVOF_bKS6b"
      },
      "execution_count": 12,
      "outputs": []
    },
    {
      "cell_type": "markdown",
      "source": [
        "utility to configure the dataset for performance"
      ],
      "metadata": {
        "id": "5aE4Z1pnLLvV"
      }
    },
    {
      "cell_type": "code",
      "source": [
        "def configure_ds(ds):\n",
        "  ds = ds.cache().prefetch(tf.data.AUTOTUNE)\n",
        "  return ds"
      ],
      "metadata": {
        "id": "3J5dDz5ZLGhu"
      },
      "execution_count": 13,
      "outputs": []
    },
    {
      "cell_type": "markdown",
      "source": [
        "preprocessed dataset"
      ],
      "metadata": {
        "id": "0MrJEcNVLULt"
      }
    },
    {
      "cell_type": "code",
      "source": [
        "train_ds = raw_train_ds.map(vectorize_text)\n",
        "val_ds = raw_val_ds.map(vectorize_text)\n",
        "test_ds = raw_test_ds.map(vectorize_text)"
      ],
      "metadata": {
        "id": "IfzpJi3yLM8Q"
      },
      "execution_count": 14,
      "outputs": []
    },
    {
      "cell_type": "code",
      "source": [
        "# cache and prefetch\n",
        "train_ds = configure_ds(train_ds)\n",
        "val_ds = configure_ds(val_ds)\n",
        "test_ds = configure_ds(test_ds)"
      ],
      "metadata": {
        "id": "7x7nqFBKMbCX"
      },
      "execution_count": 15,
      "outputs": []
    },
    {
      "cell_type": "markdown",
      "source": [
        "### Model"
      ],
      "metadata": {
        "id": "sHFykvdfNCZR"
      }
    },
    {
      "cell_type": "code",
      "source": [
        "stackoverflow_model = tf.keras.Sequential([\n",
        "      tf.keras.layers.Embedding(input_dim=VOCAB_SIZE+1, output_dim=64, mask_zero=True),\n",
        "      tf.keras.layers.Conv1D(filters=32, kernel_size=3, strides=1),\n",
        "      tf.keras.layers.GlobalAveragePooling1D(),\n",
        "      tf.keras.layers.Dense(num_classes)\n",
        "])\n",
        "\n",
        "stackoverflow_model.compile(optimizer='adam',\n",
        "                    loss=tf.keras.losses.SparseCategoricalCrossentropy(from_logits=True),\n",
        "                    metrics=['accuracy'])\n",
        "\n",
        "stackoverflow_history1 = stackoverflow_model.fit(train_ds, epochs=5, validation_data=val_ds)"
      ],
      "metadata": {
        "colab": {
          "base_uri": "https://localhost:8080/"
        },
        "id": "iLEsJNR2Mssf",
        "outputId": "0bf0176d-8292-41dc-81eb-f5bb49dbd915"
      },
      "execution_count": 16,
      "outputs": [
        {
          "output_type": "stream",
          "name": "stdout",
          "text": [
            "Epoch 1/5\n",
            "200/200 [==============================] - 8s 35ms/step - loss: 1.2839 - accuracy: 0.4275 - val_loss: 1.0187 - val_accuracy: 0.6538\n",
            "Epoch 2/5\n",
            "200/200 [==============================] - 5s 23ms/step - loss: 0.7953 - accuracy: 0.7184 - val_loss: 0.6519 - val_accuracy: 0.7525\n",
            "Epoch 3/5\n",
            "200/200 [==============================] - 5s 23ms/step - loss: 0.5158 - accuracy: 0.8253 - val_loss: 0.5412 - val_accuracy: 0.7937\n",
            "Epoch 4/5\n",
            "200/200 [==============================] - 5s 23ms/step - loss: 0.3620 - accuracy: 0.8897 - val_loss: 0.5051 - val_accuracy: 0.8025\n",
            "Epoch 5/5\n",
            "200/200 [==============================] - 5s 23ms/step - loss: 0.2629 - accuracy: 0.9241 - val_loss: 0.5083 - val_accuracy: 0.8094\n"
          ]
        }
      ]
    },
    {
      "cell_type": "markdown",
      "source": [
        "Clear indication of overfitting "
      ],
      "metadata": {
        "id": "fH2_qWfRSfj1"
      }
    },
    {
      "cell_type": "code",
      "source": [
        "plt.subplot(1,2,1)\n",
        "plt.plot(stackoverflow_history1.history['loss'])\n",
        "plt.plot(stackoverflow_history1.history['val_loss'])\n",
        "plt.xlabel('epochs')\n",
        "plt.legend(['train','val'])\n",
        "plt.title('Loss')\n",
        "plt.subplot(1,2,2)\n",
        "plt.plot(stackoverflow_history1.history['accuracy'])\n",
        "plt.plot(stackoverflow_history1.history['val_accuracy'])\n",
        "plt.title('Accuracy')\n",
        "plt.xlabel('epochs')\n",
        "plt.legend(['train','val'])\n",
        "\n",
        "plt.show()"
      ],
      "metadata": {
        "colab": {
          "base_uri": "https://localhost:8080/",
          "height": 295
        },
        "id": "PqLvbD0QRdyE",
        "outputId": "13a273c5-0e6a-4ea4-c0d1-14a476ed560d"
      },
      "execution_count": 17,
      "outputs": [
        {
          "output_type": "display_data",
          "data": {
            "image/png": "[encoded data removed]",
            "text/plain": [
              "<Figure size 432x288 with 2 Axes>"
            ]
          },
          "metadata": {
            "needs_background": "light"
          }
        }
      ]
    },
    {
      "cell_type": "code",
      "source": [
        "tf.keras.utils.plot_model(stackoverflow_model)"
      ],
      "metadata": {
        "colab": {
          "base_uri": "https://localhost:8080/",
          "height": 466
        },
        "id": "TKOaADSYAVOM",
        "outputId": "bd02484e-80da-48cd-e1ae-fd37fccb7b0f"
      },
      "execution_count": 24,
      "outputs": [
        {
          "output_type": "execute_result",
          "data": {
            "image/png": "[encoded data removed]",
            "text/plain": [
              "<IPython.core.display.Image object>"
            ]
          },
          "metadata": {},
          "execution_count": 24
        }
      ]
    },
    {
      "cell_type": "markdown",
      "source": [
        "Improve the model "
      ],
      "metadata": {
        "id": "fxnj2D_5T8Nv"
      }
    },
    {
      "cell_type": "code",
      "source": [
        "import math\n",
        "# decaying learing rate\n",
        "def decay_lr(epoch):\n",
        "  return 0.01*math.pow(0.6,epoch)\n",
        "\n",
        "# visualize the decaying rate\n",
        "decay = []\n",
        "for i in range(1,11):\n",
        "  decay.append(decay_lr(i))\n",
        "plt.figure(figsize=(12,4))\n",
        "plt.subplot(1,2,1)\n",
        "plt.plot(decay);\n",
        "plt.subplot(1,2,2)\n",
        "plt.step(range(1,11),decay);\n",
        "plt.suptitle('Decaying learning rate');\n"
      ],
      "metadata": {
        "colab": {
          "base_uri": "https://localhost:8080/",
          "height": 294
        },
        "id": "bX6wsYcjVKuV",
        "outputId": "dc5c38ba-018b-4ded-e636-88e505f7e936"
      },
      "execution_count": 18,
      "outputs": [
        {
          "output_type": "display_data",
          "data": {
            "image/png": "[encoded data removed]",
            "text/plain": [
              "<Figure size 864x288 with 2 Axes>"
            ]
          },
          "metadata": {
            "needs_background": "light"
          }
        }
      ]
    },
    {
      "cell_type": "code",
      "source": [
        "stackoverflow_model_improved = tf.keras.Sequential([\n",
        "      tf.keras.layers.Embedding(input_dim=VOCAB_SIZE+1, output_dim=64, mask_zero=True),\n",
        "      tf.keras.layers.Conv1D(filters=32, kernel_size=3, strides=1),\n",
        "      tf.keras.layers.GlobalMaxPool1D(),\n",
        "      tf.keras.layers.Dropout(rate=0.4),\n",
        "      tf.keras.layers.Dense(num_classes)\n",
        "])\n",
        "\n",
        "stackoverflow_model_improved.compile(optimizer='adam',\n",
        "                    loss=tf.keras.losses.SparseCategoricalCrossentropy(from_logits=True),\n",
        "                    metrics=['accuracy'])\n",
        "\n",
        "lr = tf.keras.callbacks.LearningRateScheduler(decay_lr)\n",
        "early_stop = tf.keras.callbacks.EarlyStopping()\n",
        "\n",
        "stackoverflow_history2 = stackoverflow_model_improved.fit(train_ds,\n",
        "                                                          epochs=10,\n",
        "                                                          validation_data=val_ds,\n",
        "                                                          callbacks=[lr,early_stop])"
      ],
      "metadata": {
        "colab": {
          "base_uri": "https://localhost:8080/"
        },
        "id": "0kUDM7v0SzRn",
        "outputId": "6a1f30d3-2c04-4453-c1a0-da6a91b42c0c"
      },
      "execution_count": 19,
      "outputs": [
        {
          "output_type": "stream",
          "name": "stdout",
          "text": [
            "Epoch 1/10\n",
            "200/200 [==============================] - 6s 25ms/step - loss: 0.9074 - accuracy: 0.6003 - val_loss: 0.5695 - val_accuracy: 0.7788 - lr: 0.0100\n",
            "Epoch 2/10\n",
            "200/200 [==============================] - 5s 25ms/step - loss: 0.4894 - accuracy: 0.8059 - val_loss: 0.5453 - val_accuracy: 0.7881 - lr: 0.0060\n"
          ]
        }
      ]
    },
    {
      "cell_type": "code",
      "source": [
        "# evaluate the performance \n",
        "loss, accuracy = stackoverflow_model_improved.evaluate(test_ds)\n",
        "print('Loss',loss)\n",
        "print('Accuracy',accuracy)"
      ],
      "metadata": {
        "colab": {
          "base_uri": "https://localhost:8080/"
        },
        "id": "Ti2LEkrxYRAI",
        "outputId": "bed966dd-da68-451d-d315-adea45246ff6"
      },
      "execution_count": 20,
      "outputs": [
        {
          "output_type": "stream",
          "name": "stdout",
          "text": [
            "250/250 [==============================] - 4s 16ms/step - loss: 0.5369 - accuracy: 0.7874\n",
            "Loss 0.5368944406509399\n",
            "Accuracy 0.7873749732971191\n"
          ]
        }
      ]
    },
    {
      "cell_type": "code",
      "source": [
        "tf.keras.utils.plot_model(stackoverflow_model_improved)"
      ],
      "metadata": {
        "colab": {
          "base_uri": "https://localhost:8080/",
          "height": 564
        },
        "id": "sp8qWXvuBo91",
        "outputId": "f51e4db4-7de1-4be4-cf45-4f41f6f83cc0"
      },
      "execution_count": 25,
      "outputs": [
        {
          "output_type": "execute_result",
          "data": {
            "image/png": "[encoded data removed]",
            "text/plain": [
              "<IPython.core.display.Image object>"
            ]
          },
          "metadata": {},
          "execution_count": 25
        }
      ]
    },
    {
      "cell_type": "markdown",
      "source": [
        "## Example 2: Predict the author of Iliad translations"
      ],
      "metadata": {
        "id": "bNyw9AH6dqbL"
      }
    },
    {
      "cell_type": "markdown",
      "source": [
        "### Load the data"
      ],
      "metadata": {
        "id": "DWn1AmalduxV"
      }
    },
    {
      "cell_type": "code",
      "source": [
        "DIRECTORY_URL = 'https://storage.googleapis.com/download.tensorflow.org/data/illiad/'\n",
        "FILE_NAMES = ['cowper.txt', 'derby.txt', 'butler.txt']\n",
        "\n",
        "for name in FILE_NAMES:\n",
        "  text_dir = tf.keras.utils.get_file(fname=name, origin=DIRECTORY_URL+name)\n",
        "\n",
        "parent_dir = pathlib.Path(text_dir).parent\n",
        "list(parent_dir.iterdir()) "
      ],
      "metadata": {
        "colab": {
          "base_uri": "https://localhost:8080/"
        },
        "id": "dMxL_JeTZhii",
        "outputId": "f820fcdf-8de1-4297-a9d5-0d36ca821c5c"
      },
      "execution_count": null,
      "outputs": [
        {
          "output_type": "execute_result",
          "data": {
            "text/plain": [
              "[PosixPath('/root/.keras/datasets/cowper.txt'),\n",
              " PosixPath('/root/.keras/datasets/derby.txt'),\n",
              " PosixPath('/root/.keras/datasets/imdb.tar.gz'),\n",
              " PosixPath('/root/.keras/datasets/butler.txt'),\n",
              " PosixPath('/root/.keras/datasets/imdb')]"
            ]
          },
          "metadata": {},
          "execution_count": 197
        }
      ]
    },
    {
      "cell_type": "code",
      "source": [
        "# utility for creating (example,label) pair\n",
        "def labeler(sample, i):\n",
        "  return sample, tf.cast(i, tf.int64)\n",
        "\n",
        "labeled_dataset = []\n",
        "\n",
        "for i, name in enumerate(FILE_NAMES):\n",
        "  text = tf.data.TextLineDataset(parent_dir/name)\n",
        "  pair = text.map(lambda text: labeler(text,i))\n",
        "  labeled_dataset.append(pair)"
      ],
      "metadata": {
        "id": "GEnD70ure1iq"
      },
      "execution_count": null,
      "outputs": []
    },
    {
      "cell_type": "code",
      "source": [
        "all_labeled_ds = labeled_dataset[0]\n",
        "for data in labeled_dataset[1:]:\n",
        "  all_labeled_ds = all_labeled_ds.concatenate(data)"
      ],
      "metadata": {
        "id": "vi_-CshwgFfg"
      },
      "execution_count": null,
      "outputs": []
    },
    {
      "cell_type": "markdown",
      "source": [
        "shuffle the data "
      ],
      "metadata": {
        "id": "g4I_qPzghx0G"
      }
    },
    {
      "cell_type": "code",
      "source": [
        "BUFFER_SIZE = 50000\n",
        "\n",
        "all_labeled_ds = all_labeled_ds.shuffle(buffer_size=BUFFER_SIZE, reshuffle_each_iteration=False)"
      ],
      "metadata": {
        "id": "Z3O8kiTNhiWQ"
      },
      "execution_count": null,
      "outputs": []
    },
    {
      "cell_type": "markdown",
      "source": [
        "### Prepare the dataset for training"
      ],
      "metadata": {
        "id": "ZsM73pjTivl9"
      }
    },
    {
      "cell_type": "code",
      "source": [
        "import tensorflow_text as tf_text\n",
        "\n",
        "# lets use unicode script tokenizer \n",
        "tokenizer =tf_text.UnicodeScriptTokenizer()\n",
        "\n",
        "# Lets create an utility for tokenization\n",
        "def tokenize(line, label):\n",
        "  lower = tf_text.case_fold_utf8(line)\n",
        "  return tokenizer.tokenize(lower)"
      ],
      "metadata": {
        "id": "2F9Vs5rNil1u"
      },
      "execution_count": null,
      "outputs": []
    },
    {
      "cell_type": "markdown",
      "source": [
        "Apply the tokenization to the dataset."
      ],
      "metadata": {
        "id": "G9kyaToXlO6d"
      }
    },
    {
      "cell_type": "code",
      "source": [
        "tokenized_ds = all_labeled_ds.map(tokenize)"
      ],
      "metadata": {
        "id": "elVDGe7Ckp3v"
      },
      "execution_count": null,
      "outputs": []
    },
    {
      "cell_type": "markdown",
      "source": [
        "Create a vocabulary using the tokens"
      ],
      "metadata": {
        "id": "4HLGM11bl4O6"
      }
    },
    {
      "cell_type": "code",
      "source": [
        "vocab_dict = collections.defaultdict(lambda : 0)\n",
        "\n",
        "# iterate through the tokenized_ds and create a vocab\n",
        "for tokens in tokenized_ds:\n",
        "  for token in tokens.numpy():\n",
        "    vocab_dict[token]+=1\n",
        "\n",
        "# order by count decending   \n",
        "vocab = sorted(vocab_dict.items(), key=lambda x:x[1], reverse=True)\n",
        "# create a list of tokens \n",
        "vocab = [key for key, count in vocab]\n",
        "# keep only VOCABSIZE tokens\n",
        "VOCAB_SIZE=10000\n",
        "vocab = vocab[:VOCAB_SIZE]"
      ],
      "metadata": {
        "id": "opTEyWQtlBfg"
      },
      "execution_count": null,
      "outputs": []
    },
    {
      "cell_type": "code",
      "source": [
        "print('The length of vocabulary',len(vocab))"
      ],
      "metadata": {
        "colab": {
          "base_uri": "https://localhost:8080/"
        },
        "id": "vXU7la6ClV5G",
        "outputId": "4b2910a3-14f5-444c-db66-3b10d5b70c60"
      },
      "execution_count": null,
      "outputs": [
        {
          "output_type": "stream",
          "name": "stdout",
          "text": [
            "The length of vocabulary 10000\n"
          ]
        }
      ]
    },
    {
      "cell_type": "markdown",
      "source": [
        "Converting tokens to integers <br>\n",
        "0 is reserved for padding <br>\n",
        "1 is reserved for Unkown <br>\n"
      ],
      "metadata": {
        "id": "qjQmvOuPqP3W"
      }
    },
    {
      "cell_type": "code",
      "source": [
        "init = tf.lookup.KeyValueTensorInitializer(keys=vocab,\n",
        "                                           values=range(2,VOCAB_SIZE+2),\n",
        "                                           key_dtype=tf.string,\n",
        "                                           value_dtype=tf.int64)\n",
        "\n",
        "lookup_table = tf.lookup.StaticVocabularyTable(initializer=init, num_oov_buckets=1)"
      ],
      "metadata": {
        "id": "C39fQgSIpylc"
      },
      "execution_count": null,
      "outputs": []
    },
    {
      "cell_type": "markdown",
      "source": [
        "Create an utility to standardize, tokenize and vectorize the dataset using the tokenizer and lookup table:"
      ],
      "metadata": {
        "id": "x6CkYMF9rqvz"
      }
    },
    {
      "cell_type": "code",
      "source": [
        "def preprocess_text(text,label):\n",
        "  lowercase = tf_text.case_fold_utf8(text)\n",
        "  tokenized = tokenizer.tokenize(lowercase)\n",
        "  return lookup_table.lookup(tokenized), label  "
      ],
      "metadata": {
        "id": "Ish7-CRirVIT"
      },
      "execution_count": null,
      "outputs": []
    },
    {
      "cell_type": "markdown",
      "source": [
        " standardize, tokenize and vectorize the dataset"
      ],
      "metadata": {
        "id": "6xmzdPGPtEHD"
      }
    },
    {
      "cell_type": "code",
      "source": [
        "all_encoded_ds = all_labeled_ds.map(preprocess_text, num_parallel_calls=tf.data.AUTOTUNE)"
      ],
      "metadata": {
        "id": "cqW-6rpssf06"
      },
      "execution_count": null,
      "outputs": []
    },
    {
      "cell_type": "markdown",
      "source": [
        "Create training and validation split"
      ],
      "metadata": {
        "id": "BPR_Bg1ctHW7"
      }
    },
    {
      "cell_type": "code",
      "source": [
        "VALIDATION_SIZE = 5000\n",
        "BUFFER_SIZE = 50000\n",
        "\n",
        "train_ds = all_encoded_ds.skip(VALIDATION_SIZE).shuffle(BUFFER_SIZE)\n",
        "val_ds = all_encoded_ds.take(VALIDATION_SIZE)"
      ],
      "metadata": {
        "id": "12nAlrHTtAw0"
      },
      "execution_count": null,
      "outputs": []
    },
    {
      "cell_type": "markdown",
      "source": [
        "The examples in these datasets are not all the same size—each line of text has a different number of words.**Padding is required here because the examples inside of a batch need to be the same size and shape**"
      ],
      "metadata": {
        "id": "BLuwwNzat6nf"
      }
    },
    {
      "cell_type": "code",
      "source": [
        "BATCH_SIZE = 64\n",
        "\n",
        "train_ds = train_ds.padded_batch(BATCH_SIZE)\n",
        "val_ds = val_ds.padded_batch(BATCH_SIZE)"
      ],
      "metadata": {
        "id": "JsK1kFf3t2AN"
      },
      "execution_count": null,
      "outputs": []
    },
    {
      "cell_type": "code",
      "source": [
        "# util to configure the dataset for performance\n",
        "def configure_ds(ds):\n",
        "  ds = ds.cache().prefetch(tf.data.AUTOTUNE)\n",
        "  return ds"
      ],
      "metadata": {
        "id": "kb3e2spbvNuJ"
      },
      "execution_count": null,
      "outputs": []
    },
    {
      "cell_type": "code",
      "source": [
        "train_ds = configure_ds(train_ds)\n",
        "val_ds = configure_ds(val_ds)"
      ],
      "metadata": {
        "id": "U8nFAfpJvpY7"
      },
      "execution_count": null,
      "outputs": []
    },
    {
      "cell_type": "markdown",
      "source": [
        "### Model"
      ],
      "metadata": {
        "id": "voUnQVLbv51P"
      }
    },
    {
      "cell_type": "code",
      "source": [
        "iliad_model = tf.keras.Sequential([\n",
        "      tf.keras.layers.Embedding(input_dim=VOCAB_SIZE+2, output_dim=64, mask_zero=True),\n",
        "      tf.keras.layers.Conv1D(filters=32, kernel_size=3, strides=1),\n",
        "      tf.keras.layers.Dropout(rate=0.3),\n",
        "      tf.keras.layers.GlobalMaxPool1D(),\n",
        "      tf.keras.layers.Dropout(rate=0.3),\n",
        "      tf.keras.layers.Dense(3)\n",
        "])\n",
        "\n",
        "iliad_model.compile(optimizer='adam',\n",
        "                    loss=tf.keras.losses.SparseCategoricalCrossentropy(from_logits=True),\n",
        "                    metrics=['accuracy'])\n",
        "\n",
        "lr = tf.keras.callbacks.LearningRateScheduler(decay_lr)\n",
        "early_stop = tf.keras.callbacks.EarlyStopping()\n",
        "\n",
        "iliad_model_history1 = iliad_model.fit(train_ds,\n",
        "                                       epochs=10,\n",
        "                                       validation_data=val_ds,\n",
        "                                       callbacks=[lr,early_stop])"
      ],
      "metadata": {
        "colab": {
          "base_uri": "https://localhost:8080/"
        },
        "id": "aFKRTAOovyfD",
        "outputId": "8dbef0af-10f9-42f1-e35d-b4dae00d25af"
      },
      "execution_count": null,
      "outputs": [
        {
          "output_type": "stream",
          "name": "stdout",
          "text": [
            "Epoch 1/10\n",
            "697/697 [==============================] - 35s 22ms/step - loss: 0.5656 - accuracy: 0.7446 - val_loss: 0.4277 - val_accuracy: 0.8172 - lr: 0.0100\n",
            "Epoch 2/10\n",
            "697/697 [==============================] - 9s 13ms/step - loss: 0.3744 - accuracy: 0.8458 - val_loss: 0.4271 - val_accuracy: 0.8264 - lr: 0.0060\n"
          ]
        }
      ]
    },
    {
      "cell_type": "code",
      "source": [
        "# evaluate the model\n",
        "loss,acc = iliad_model.evaluate(val_ds)\n",
        "print('Loss',loss)\n",
        "print('Accuracy',acc)"
      ],
      "metadata": {
        "colab": {
          "base_uri": "https://localhost:8080/"
        },
        "id": "8INIvvswBqpw",
        "outputId": "b7c4d3ff-4879-4282-bfe0-a78a08aa26c8"
      },
      "execution_count": null,
      "outputs": [
        {
          "output_type": "stream",
          "name": "stdout",
          "text": [
            "79/79 [==============================] - 2s 4ms/step - loss: 0.4271 - accuracy: 0.8264\n",
            "Loss 0.4271393418312073\n",
            "Accuracy 0.8263999819755554\n"
          ]
        }
      ]
    },
    {
      "cell_type": "markdown",
      "source": [
        "## Example 3: Sentiment classification IMDb movies"
      ],
      "metadata": {
        "id": "d32Z4X0ox-hi"
      }
    },
    {
      "cell_type": "code",
      "source": [
        "data_url = 'https://ai.stanford.edu/~amaas/data/sentiment/aclImdb_v1.tar.gz'\n",
        "\n",
        "data_dir = tf.keras.utils.get_file(origin=data_url, untar=True, cache_dir='.', cache_subdir='')"
      ],
      "metadata": {
        "colab": {
          "base_uri": "https://localhost:8080/"
        },
        "id": "Ekyt_43awSuK",
        "outputId": "b32a0a82-f274-4b05-9316-280ae232d911"
      },
      "execution_count": null,
      "outputs": [
        {
          "output_type": "stream",
          "name": "stdout",
          "text": [
            "Downloading data from https://ai.stanford.edu/~amaas/data/sentiment/aclImdb_v1.tar.gz\n",
            "84131840/84125825 [==============================] - 5s 0us/step\n",
            "84140032/84125825 [==============================] - 5s 0us/step\n"
          ]
        }
      ]
    },
    {
      "cell_type": "code",
      "source": [
        "parent_dir = pathlib.Path(data_dir).parent\n",
        "\n",
        "list(parent_dir.iterdir())"
      ],
      "metadata": {
        "colab": {
          "base_uri": "https://localhost:8080/"
        },
        "id": "AvqJRiodyObQ",
        "outputId": "d3ee1d1b-09cb-4bac-9f71-8df4aca373f5"
      },
      "execution_count": null,
      "outputs": [
        {
          "output_type": "execute_result",
          "data": {
            "text/plain": [
              "[PosixPath('.config'),\n",
              " PosixPath('aclImdb_v1.tar.gz'),\n",
              " PosixPath('aclImdb'),\n",
              " PosixPath('sample_data')]"
            ]
          },
          "metadata": {},
          "execution_count": 151
        }
      ]
    },
    {
      "cell_type": "code",
      "source": [
        "imdb_movies = parent_dir/'aclImdb'\n",
        "list(imdb_movies.iterdir())"
      ],
      "metadata": {
        "colab": {
          "base_uri": "https://localhost:8080/"
        },
        "id": "tVT8hk78z00K",
        "outputId": "9243dcf8-ed9b-4163-923a-4e96f1314469"
      },
      "execution_count": null,
      "outputs": [
        {
          "output_type": "execute_result",
          "data": {
            "text/plain": [
              "[PosixPath('aclImdb/train'),\n",
              " PosixPath('aclImdb/test'),\n",
              " PosixPath('aclImdb/README'),\n",
              " PosixPath('aclImdb/imdbEr.txt'),\n",
              " PosixPath('aclImdb/imdb.vocab')]"
            ]
          },
          "metadata": {},
          "execution_count": 152
        }
      ]
    },
    {
      "cell_type": "code",
      "source": [
        "train_dir = imdb_movies/'train'\n",
        "test_dir = imdb_movies/'test'"
      ],
      "metadata": {
        "id": "rPCdVQiM0ieU"
      },
      "execution_count": null,
      "outputs": []
    },
    {
      "cell_type": "code",
      "source": [
        "[item for item in train_dir.iterdir() if item.is_dir()]"
      ],
      "metadata": {
        "colab": {
          "base_uri": "https://localhost:8080/"
        },
        "id": "fVv-2vA319oQ",
        "outputId": "4e147ebf-47fe-45f2-b2dd-fda2962a4905"
      },
      "execution_count": null,
      "outputs": [
        {
          "output_type": "execute_result",
          "data": {
            "text/plain": [
              "[PosixPath('aclImdb/train/neg'),\n",
              " PosixPath('aclImdb/train/pos'),\n",
              " PosixPath('aclImdb/train/unsup')]"
            ]
          },
          "metadata": {},
          "execution_count": 157
        }
      ]
    },
    {
      "cell_type": "code",
      "source": [
        "[item for item in test_dir.iterdir() if item.is_dir()]"
      ],
      "metadata": {
        "colab": {
          "base_uri": "https://localhost:8080/"
        },
        "id": "OFhSo9lp2Azp",
        "outputId": "539eccc7-8f33-48e8-def3-477f1b218422"
      },
      "execution_count": null,
      "outputs": [
        {
          "output_type": "execute_result",
          "data": {
            "text/plain": [
              "[PosixPath('aclImdb/test/neg'), PosixPath('aclImdb/test/pos')]"
            ]
          },
          "metadata": {},
          "execution_count": 158
        }
      ]
    },
    {
      "cell_type": "markdown",
      "source": [
        "The train directory has an additional folder which should be removed before creating training dataset using `tf.keras.utils.text_dataset_from_directory`"
      ],
      "metadata": {
        "id": "pbBB-fJL3tXz"
      }
    },
    {
      "cell_type": "code",
      "source": [
        "import shutil\n",
        "\n",
        "dir_to_remove = train_dir/'unsup'\n",
        "shutil.rmtree(dir_to_remove)"
      ],
      "metadata": {
        "id": "OwKC4lgZ2DMD"
      },
      "execution_count": null,
      "outputs": []
    },
    {
      "cell_type": "code",
      "source": [
        "[item for item in train_dir.iterdir() if item.is_dir()]"
      ],
      "metadata": {
        "colab": {
          "base_uri": "https://localhost:8080/"
        },
        "id": "6QQ00lGD2JCx",
        "outputId": "1da3b73d-0fcc-408f-c059-ebd391250e48"
      },
      "execution_count": null,
      "outputs": [
        {
          "output_type": "execute_result",
          "data": {
            "text/plain": [
              "[PosixPath('aclImdb/train/neg'), PosixPath('aclImdb/train/pos')]"
            ]
          },
          "metadata": {},
          "execution_count": 160
        }
      ]
    },
    {
      "cell_type": "markdown",
      "source": [
        "### Prepare the dataset for training"
      ],
      "metadata": {
        "id": "K1X-U42D4OWQ"
      }
    },
    {
      "cell_type": "code",
      "source": [
        "BATCH_SIZE = 1024\n",
        "SEED = 42\n",
        "\n",
        "raw_train_ds = tf.keras.utils.text_dataset_from_directory(directory=train_dir,\n",
        "                                                          batch_size=BATCH_SIZE,\n",
        "                                                          seed=SEED,\n",
        "                                                          validation_split=0.2,\n",
        "                                                          subset='training')\n",
        "raw_val_ds = tf.keras.utils.text_dataset_from_directory(directory=train_dir,\n",
        "                                                          batch_size=BATCH_SIZE,\n",
        "                                                          seed=SEED,\n",
        "                                                          validation_split=0.2,\n",
        "                                                          subset='validation')\n",
        "raw_test_ds = tf.keras.utils.text_dataset_from_directory(directory=test_dir,\n",
        "                                                          batch_size=BATCH_SIZE)"
      ],
      "metadata": {
        "colab": {
          "base_uri": "https://localhost:8080/"
        },
        "id": "z3CBmE4H4KO5",
        "outputId": "c83547c2-264a-4f06-a9e5-7406f6d40911"
      },
      "execution_count": null,
      "outputs": [
        {
          "output_type": "stream",
          "name": "stdout",
          "text": [
            "Found 25000 files belonging to 2 classes.\n",
            "Using 20000 files for training.\n",
            "Found 25000 files belonging to 2 classes.\n",
            "Using 5000 files for validation.\n",
            "Found 25000 files belonging to 2 classes.\n"
          ]
        }
      ]
    },
    {
      "cell_type": "code",
      "source": [
        "classes = [name for name in raw_train_ds.class_names]\n",
        "num_classes = len(classes)\n",
        "print(classes)"
      ],
      "metadata": {
        "colab": {
          "base_uri": "https://localhost:8080/"
        },
        "id": "5R2LHNgb5USk",
        "outputId": "9a7f5e82-ef5d-4e66-e6ec-af07bda78887"
      },
      "execution_count": null,
      "outputs": [
        {
          "output_type": "stream",
          "name": "stdout",
          "text": [
            "['neg', 'pos']\n"
          ]
        }
      ]
    },
    {
      "cell_type": "markdown",
      "source": [
        "standardize, tokenize, and vectorize the data"
      ],
      "metadata": {
        "id": "qVJ0kErW-Kbo"
      }
    },
    {
      "cell_type": "code",
      "source": [
        "VOCAB_SIZE = 10000\n",
        "MAX_SEQUENCE_LENGTH = 100"
      ],
      "metadata": {
        "id": "Z60w_Te8-pby"
      },
      "execution_count": null,
      "outputs": []
    },
    {
      "cell_type": "code",
      "source": [
        "import re\n",
        "import string\n",
        "\n",
        "# create util for standardization\n",
        "def custom_standardizer(data):\n",
        "  lower = tf.strings.lower(data)\n",
        "  strip_html = tf.strings.regex_replace(lower,\"<[^>]+>\",' ')\n",
        "  return tf.strings.regex_replace(strip_html, '[{0}]'.format(re.escape(string.punctuation)), '')"
      ],
      "metadata": {
        "id": "Pq9jIiF75o7y"
      },
      "execution_count": null,
      "outputs": []
    },
    {
      "cell_type": "code",
      "source": [
        "imdb_vectorizer = tf.keras.layers.TextVectorization(max_tokens=VOCAB_SIZE,\n",
        "                                                    output_sequence_length=MAX_SEQUENCE_LENGTH,\n",
        "                                                    standardize=custom_standardizer)"
      ],
      "metadata": {
        "id": "77tbIbCV74oY"
      },
      "execution_count": null,
      "outputs": []
    },
    {
      "cell_type": "markdown",
      "source": [
        "Create a text only dataset to adapt the vectorizer"
      ],
      "metadata": {
        "id": "eGRx_YMG-_BB"
      }
    },
    {
      "cell_type": "code",
      "source": [
        "train_text = raw_train_ds.map(lambda text,label:text)\n",
        "imdb_vectorizer.adapt(train_text)\n",
        "print('Length of vocabulary is',imdb_vectorizer.vocabulary_size())"
      ],
      "metadata": {
        "colab": {
          "base_uri": "https://localhost:8080/"
        },
        "id": "shaBQOya-96E",
        "outputId": "23f8f732-ddef-48a0-9ee7-638a7193d377"
      },
      "execution_count": null,
      "outputs": [
        {
          "output_type": "stream",
          "name": "stdout",
          "text": [
            "Length of vocabulary is 10000\n"
          ]
        }
      ]
    },
    {
      "cell_type": "code",
      "source": [
        "# util for vectorization\n",
        "def vectorize(text,label):\n",
        "  text = tf.expand_dims(text,-1)\n",
        "  return imdb_vectorizer(text), label"
      ],
      "metadata": {
        "id": "swgN9uMd_Yze"
      },
      "execution_count": null,
      "outputs": []
    },
    {
      "cell_type": "code",
      "source": [
        "train_ds = raw_train_ds.map(vectorize, num_parallel_calls=tf.data.AUTOTUNE)\n",
        "val_ds = raw_val_ds.map(vectorize, num_parallel_calls=tf.data.AUTOTUNE)\n",
        "test_ds = raw_test_ds.map(vectorize, num_parallel_calls=tf.data.AUTOTUNE)"
      ],
      "metadata": {
        "id": "ig8WllzZ_H_h"
      },
      "execution_count": null,
      "outputs": []
    },
    {
      "cell_type": "markdown",
      "source": [
        "Configure the dataset for performance"
      ],
      "metadata": {
        "id": "gK9W2bv0_ddm"
      }
    },
    {
      "cell_type": "code",
      "source": [
        "def configure_ds(ds):\n",
        "  ds = ds.cache().prefetch(tf.data.AUTOTUNE)\n",
        "  return ds"
      ],
      "metadata": {
        "id": "bWbzxm72_azJ"
      },
      "execution_count": null,
      "outputs": []
    },
    {
      "cell_type": "code",
      "source": [
        "train_ds = configure_ds(train_ds)\n",
        "val_ds = configure_ds(val_ds)\n",
        "test_ds = configure_ds(test_ds)"
      ],
      "metadata": {
        "id": "2AokIVSj_lP4"
      },
      "execution_count": null,
      "outputs": []
    },
    {
      "cell_type": "markdown",
      "source": [
        "### Model"
      ],
      "metadata": {
        "id": "t15EJ9q2_zGm"
      }
    },
    {
      "cell_type": "code",
      "source": [
        "imdb_model = tf.keras.Sequential([\n",
        "      tf.keras.layers.Embedding(input_dim=VOCAB_SIZE+1, output_dim=64, mask_zero=True),\n",
        "      tf.keras.layers.Conv1D(filters=32, kernel_size=3, strides=1),\n",
        "      tf.keras.layers.Dropout(rate=0.3),\n",
        "      tf.keras.layers.GlobalMaxPool1D(),\n",
        "      tf.keras.layers.Dropout(rate=0.3),\n",
        "      tf.keras.layers.Dense(3)\n",
        "])\n",
        "\n",
        "imdb_model.compile(optimizer='adam',\n",
        "                    loss=tf.keras.losses.SparseCategoricalCrossentropy(from_logits=True),\n",
        "                    metrics=['accuracy'])\n",
        "\n",
        "lr = tf.keras.callbacks.LearningRateScheduler(decay_lr)\n",
        "early_stop = tf.keras.callbacks.EarlyStopping()\n",
        "\n",
        "imdb_model_history1 = imdb_model.fit(train_ds,\n",
        "                                       epochs=10,\n",
        "                                       validation_data=val_ds,\n",
        "                                       callbacks=[lr,early_stop])"
      ],
      "metadata": {
        "colab": {
          "base_uri": "https://localhost:8080/"
        },
        "id": "4LwozQRa_uC5",
        "outputId": "fa2d4bd5-37d6-4f28-b849-aa2a1210bf5c"
      },
      "execution_count": null,
      "outputs": [
        {
          "output_type": "stream",
          "name": "stdout",
          "text": [
            "Epoch 1/10\n",
            "20/20 [==============================] - 15s 539ms/step - loss: 0.6948 - accuracy: 0.6019 - val_loss: 0.4949 - val_accuracy: 0.7708 - lr: 0.0100\n",
            "Epoch 2/10\n",
            "20/20 [==============================] - 4s 200ms/step - loss: 0.4481 - accuracy: 0.7962 - val_loss: 0.4366 - val_accuracy: 0.8038 - lr: 0.0060\n"
          ]
        }
      ]
    },
    {
      "cell_type": "code",
      "source": [
        "loss,acc = imdb_model.evaluate(test_ds)\n",
        "print('Loss',loss)\n",
        "print('Accuracy',acc)"
      ],
      "metadata": {
        "colab": {
          "base_uri": "https://localhost:8080/"
        },
        "id": "wncqgmEyAAFr",
        "outputId": "8514a24b-6555-4d5b-bad5-9de11cc27376"
      },
      "execution_count": null,
      "outputs": [
        {
          "output_type": "stream",
          "name": "stdout",
          "text": [
            "25/25 [==============================] - 11s 319ms/step - loss: 0.4482 - accuracy: 0.7944\n",
            "Loss 0.44819721579551697\n",
            "Accuracy 0.794439971446991\n"
          ]
        }
      ]
    }
  ]
}