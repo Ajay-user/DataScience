{
  "nbformat": 4,
  "nbformat_minor": 0,
  "metadata": {
    "colab": {
      "name": "Learn the Alphabet with LSTM .ipynb",
      "provenance": [],
      "toc_visible": true,
      "authorship_tag": "ABX9TyNVxiHTA6Lu8q02wQfow3YE",
      "include_colab_link": true
    },
    "kernelspec": {
      "name": "python3",
      "display_name": "Python 3"
    },
    "language_info": {
      "name": "python"
    }
  },
  "cells": [
    {
      "cell_type": "markdown",
      "metadata": {
        "id": "view-in-github",
        "colab_type": "text"
      },
      "source": [
        "<a href=\"https://colab.research.google.com/github/Ajay-user/ML-DL-RL-repo/blob/master/Natural%20Language%20Processing/Learn_the_Alphabet_with_LSTM_.ipynb\" target=\"_parent\"><img src=\"https://colab.research.google.com/assets/colab-badge.svg\" alt=\"Open In Colab\"/></a>"
      ]
    },
    {
      "cell_type": "code",
      "execution_count": 1,
      "metadata": {
        "id": "JVYxH3Rm4U0s"
      },
      "outputs": [],
      "source": [
        "import numpy as np\n",
        "import matplotlib.pyplot as plt\n",
        "import tensorflow as tf"
      ]
    },
    {
      "cell_type": "markdown",
      "source": [
        "## Dummy data and utils\n",
        "Our goal is to have a model that can predict the next letter of the alphabet given the previous letter"
      ],
      "metadata": {
        "id": "E5MjnB2553kN"
      }
    },
    {
      "cell_type": "code",
      "source": [
        "alphabets = 'ABCDEFGHIJKLMNOPQRSTUVWXYZ'\n",
        "\n",
        "# mapping functions\n",
        "int_to_char = {k:v for k, v in enumerate(alphabets)}\n",
        "char_to_int = {k:v for v, k in enumerate(alphabets)}"
      ],
      "metadata": {
        "id": "IeEGxnAK6Ez6"
      },
      "execution_count": 2,
      "outputs": []
    },
    {
      "cell_type": "markdown",
      "source": [
        "### Utility function for ploting\n"
      ],
      "metadata": {
        "id": "TbA0Z9Ht758M"
      }
    },
    {
      "cell_type": "code",
      "source": [
        "def plot_util(history):\n",
        "  loss, acc = history['loss'], history['accuracy']\n",
        "  fig, ax = plt.subplots(nrows=1, ncols=2, figsize=(10,5))\n",
        "  ax[0].plot(loss)\n",
        "  ax[0].set(title='Loss', xlabel='Epochs')\n",
        "  ax[1].plot(acc)\n",
        "  ax[1].set(title='Accuracy', xlabel='Epochs')\n",
        "  plt.show()"
      ],
      "metadata": {
        "id": "xVn5fNQE7MBA"
      },
      "execution_count": 3,
      "outputs": []
    },
    {
      "cell_type": "markdown",
      "source": [
        "### Utility function for preparing data"
      ],
      "metadata": {
        "id": "rYXOJnKnB_PY"
      }
    },
    {
      "cell_type": "code",
      "source": [
        "def get_data(seq_len=1):\n",
        "  dataX = []\n",
        "  dataY= []\n",
        "  for i in range(0, len(alphabets)- seq_len):\n",
        "    seq_in = alphabets[i:i+seq_len]\n",
        "    seq_out = alphabets[i+seq_len]\n",
        "    dataX.append([char_to_int[i] for i in seq_in])\n",
        "    dataY.append([char_to_int[i] for i in seq_out])\n",
        "\n",
        "  return dataX, dataY"
      ],
      "metadata": {
        "id": "HPIqaZB771oG"
      },
      "execution_count": 4,
      "outputs": []
    },
    {
      "cell_type": "markdown",
      "source": [
        "### Utility for working with sequences"
      ],
      "metadata": {
        "id": "Wfl5SVqaCTR3"
      }
    },
    {
      "cell_type": "code",
      "source": [
        "def get_X_y(seq_len, timesteps, feature_dim):\n",
        "  X,y = get_data(seq_len)\n",
        "\n",
        "  # lets add dimensions [ samples , timestep, features]\n",
        "  X = np.array(X).reshape(len(X), timesteps, feature_dim)\n",
        "  y = tf.keras.utils.to_categorical(y)\n",
        "\n",
        "  # normalize the input integers to the range 0-to-1\n",
        "  X = X/len(alphabets)\n",
        "\n",
        "  print('Shape of input',X.shape)\n",
        "  print('Shape of label',y.shape)\n",
        "  return X, y"
      ],
      "metadata": {
        "id": "FKV3mXK0AFnl"
      },
      "execution_count": 5,
      "outputs": []
    },
    {
      "cell_type": "markdown",
      "source": [
        "### Utility for making prediction"
      ],
      "metadata": {
        "id": "0hfOai88e6tE"
      }
    },
    {
      "cell_type": "code",
      "source": [
        "def make_prediction(model, seq_len, timesteps, feature_dim):\n",
        "  # Making predictions\n",
        "  data,true_y = get_data(seq_len)\n",
        "  for seq in data:\n",
        "    X_ = np.array(seq).reshape(1, timesteps, feature_dim)\n",
        "    X_ = X_/len(alphabets)\n",
        "    y_ = model.predict(X_)\n",
        "    idx = np.argmax(y_)\n",
        "    print([int_to_char[i] for i in seq],'-->',int_to_char[idx])"
      ],
      "metadata": {
        "id": "BOD88rzzfCx6"
      },
      "execution_count": 6,
      "outputs": []
    },
    {
      "cell_type": "markdown",
      "source": [
        "### Utility for building model"
      ],
      "metadata": {
        "id": "HVMAAtPYhfic"
      }
    },
    {
      "cell_type": "code",
      "source": [
        "def build_model(input_shape,lstm_units=32,dense_units=26):\n",
        "  model = tf.keras.Sequential([\n",
        "      tf.keras.layers.LSTM(units=lstm_units, input_shape=input_shape),\n",
        "      tf.keras.layers.Dense(units=dense_units)\n",
        "  ])\n",
        "\n",
        "  model.compile(optimizer='adam', \n",
        "                loss=tf.keras.losses.CategoricalCrossentropy(from_logits=True), \n",
        "                metrics=['accuracy'])\n",
        "\n",
        "  return model"
      ],
      "metadata": {
        "id": "Vhg5xxdyhfKu"
      },
      "execution_count": 7,
      "outputs": []
    },
    {
      "cell_type": "markdown",
      "source": [
        "### Utility for evaluating model"
      ],
      "metadata": {
        "id": "i1qY85wwj0BG"
      }
    },
    {
      "cell_type": "code",
      "source": [
        "def evaluate_model(model,X,y):\n",
        "  loss, acc = model.evaluate(X,y,verbose=0)\n",
        "  print(f'loss :{loss}\\naccuracy :{acc}')"
      ],
      "metadata": {
        "id": "XVoxVxOIjzsj"
      },
      "execution_count": 8,
      "outputs": []
    },
    {
      "cell_type": "markdown",
      "source": [
        "## Learning One-Char to One-Char Mapping"
      ],
      "metadata": {
        "id": "_VfmcHGhELP7"
      }
    },
    {
      "cell_type": "code",
      "source": [
        "X, y = get_X_y(seq_len=1, timesteps=1, feature_dim=1)"
      ],
      "metadata": {
        "colab": {
          "base_uri": "https://localhost:8080/"
        },
        "id": "guzaDCnbee_v",
        "outputId": "dd9f3cc2-07a6-42cc-dba2-1620d5769db5"
      },
      "execution_count": 9,
      "outputs": [
        {
          "output_type": "stream",
          "name": "stdout",
          "text": [
            "Shape of input (25, 1, 1)\n",
            "Shape of label (25, 26)\n"
          ]
        }
      ]
    },
    {
      "cell_type": "code",
      "source": [
        "# modeling\n",
        "one_to_one = build_model(input_shape=(X.shape[1],X.shape[2]))\n",
        "# training\n",
        "history_one_to_one = one_to_one.fit(X,y,batch_size=1,epochs=500, verbose=0)"
      ],
      "metadata": {
        "id": "588yH2GfCc9H"
      },
      "execution_count": 10,
      "outputs": []
    },
    {
      "cell_type": "code",
      "source": [
        "# visualize the learning\n",
        "plot_util(history_one_to_one.history)"
      ],
      "metadata": {
        "colab": {
          "base_uri": "https://localhost:8080/",
          "height": 350
        },
        "id": "6tWQzHGWFXJN",
        "outputId": "33c534a2-fc4c-47c1-c2b4-0d9da6da9ff0"
      },
      "execution_count": 11,
      "outputs": [
        {
          "output_type": "display_data",
          "data": {
            "text/plain": [
              "<Figure size 720x360 with 2 Axes>"
            ],
            "image/png": "[encoded data removed]"
          },
          "metadata": {
            "needs_background": "light"
          }
        }
      ]
    },
    {
      "cell_type": "code",
      "source": [
        "# evaluation\n",
        "evaluate_model(one_to_one,X,y)"
      ],
      "metadata": {
        "colab": {
          "base_uri": "https://localhost:8080/"
        },
        "id": "ZQeRV9ANjwmc",
        "outputId": "14f41fb4-e628-4bab-ac20-3571740f050c"
      },
      "execution_count": 12,
      "outputs": [
        {
          "output_type": "stream",
          "name": "stdout",
          "text": [
            "loss :1.6720811128616333\n",
            "accuracy :0.800000011920929\n"
          ]
        }
      ]
    },
    {
      "cell_type": "code",
      "source": [
        "# making prediction\n",
        "make_prediction(model=one_to_one, seq_len=1, timesteps=1, feature_dim=1)"
      ],
      "metadata": {
        "colab": {
          "base_uri": "https://localhost:8080/"
        },
        "id": "9y1OW_DTGBJH",
        "outputId": "4f71e8f3-8837-43aa-fb01-295758df1042"
      },
      "execution_count": 13,
      "outputs": [
        {
          "output_type": "stream",
          "name": "stdout",
          "text": [
            "['A'] --> B\n",
            "['B'] --> B\n",
            "['C'] --> D\n",
            "['D'] --> E\n",
            "['E'] --> F\n",
            "['F'] --> G\n",
            "['G'] --> H\n",
            "['H'] --> I\n",
            "['I'] --> J\n",
            "['J'] --> K\n",
            "['K'] --> L\n",
            "['L'] --> M\n",
            "['M'] --> N\n",
            "['N'] --> O\n",
            "['O'] --> P\n",
            "['P'] --> Q\n",
            "['Q'] --> R\n",
            "['R'] --> S\n",
            "['S'] --> T\n",
            "['T'] --> U\n",
            "['U'] --> W\n",
            "['V'] --> X\n",
            "['W'] --> Z\n",
            "['X'] --> Z\n",
            "['Y'] --> Z\n"
          ]
        }
      ]
    },
    {
      "cell_type": "markdown",
      "source": [
        "**Reason for weak performance : poor framing of the problem**<br>\n",
        "Input shape `[batch, timestep, features]`.<br>\n",
        "We use a batch size of one, timestep of one event and feature_dimension of one\n",
        "\n",
        "Here the LSTM units do not have any context to work with. \n",
        "\n",
        "Each input-output pattern is shown to the network in a random order and the state of the network is reset after each batch"
      ],
      "metadata": {
        "id": "qIYluMO_bcqx"
      }
    },
    {
      "cell_type": "markdown",
      "source": [
        "## Three-Char Feature Window to One-Char Mapping"
      ],
      "metadata": {
        "id": "ZS36eMbZc5a9"
      }
    },
    {
      "cell_type": "code",
      "source": [
        "X, y = get_X_y(seq_len=3, timesteps=1, feature_dim=3)"
      ],
      "metadata": {
        "colab": {
          "base_uri": "https://localhost:8080/"
        },
        "id": "FwYEhlUlGDLD",
        "outputId": "3300757c-216f-48d4-cbd5-a2fbe89ff9d8"
      },
      "execution_count": 14,
      "outputs": [
        {
          "output_type": "stream",
          "name": "stdout",
          "text": [
            "Shape of input (23, 1, 3)\n",
            "Shape of label (23, 26)\n"
          ]
        }
      ]
    },
    {
      "cell_type": "code",
      "source": [
        "# modeling\n",
        "three_char_feature_window = build_model(input_shape=(X.shape[1],X.shape[2]))\n",
        "# training\n",
        "three_char_feature_window_history = three_char_feature_window.fit(X, y, epochs=500, batch_size=1, verbose=0)"
      ],
      "metadata": {
        "id": "x9WpTfBuf3g_"
      },
      "execution_count": 15,
      "outputs": []
    },
    {
      "cell_type": "code",
      "source": [
        "# visualize\n",
        "plot_util(three_char_feature_window_history.history)"
      ],
      "metadata": {
        "colab": {
          "base_uri": "https://localhost:8080/",
          "height": 350
        },
        "id": "lU6AxYwchAEQ",
        "outputId": "a1a8e3ff-bdd2-4468-dc6c-fc253a995a5d"
      },
      "execution_count": 16,
      "outputs": [
        {
          "output_type": "display_data",
          "data": {
            "text/plain": [
              "<Figure size 720x360 with 2 Axes>"
            ],
            "image/png": "[encoded data removed]"
          },
          "metadata": {
            "needs_background": "light"
          }
        }
      ]
    },
    {
      "cell_type": "code",
      "source": [
        "# evalaute the model\n",
        "evaluate_model(three_char_feature_window, X, y)"
      ],
      "metadata": {
        "colab": {
          "base_uri": "https://localhost:8080/"
        },
        "id": "0pWqmAWEklhJ",
        "outputId": "2158de61-b651-486e-8f22-e6cf7d7e02e7"
      },
      "execution_count": 17,
      "outputs": [
        {
          "output_type": "stream",
          "name": "stdout",
          "text": [
            "loss :1.5860562324523926\n",
            "accuracy :0.8695651888847351\n"
          ]
        }
      ]
    },
    {
      "cell_type": "code",
      "source": [
        "# make predictions\n",
        "make_prediction(model=three_char_feature_window, seq_len=3, timesteps=1, feature_dim=3)"
      ],
      "metadata": {
        "colab": {
          "base_uri": "https://localhost:8080/"
        },
        "id": "abFYySPzkusx",
        "outputId": "27e6708b-6107-42a7-ec9d-497a09f4debd"
      },
      "execution_count": 18,
      "outputs": [
        {
          "output_type": "stream",
          "name": "stdout",
          "text": [
            "['A', 'B', 'C'] --> D\n",
            "['B', 'C', 'D'] --> E\n",
            "['C', 'D', 'E'] --> F\n",
            "['D', 'E', 'F'] --> G\n",
            "['E', 'F', 'G'] --> H\n",
            "['F', 'G', 'H'] --> I\n",
            "['G', 'H', 'I'] --> J\n",
            "['H', 'I', 'J'] --> K\n",
            "['I', 'J', 'K'] --> L\n",
            "['J', 'K', 'L'] --> M\n",
            "['K', 'L', 'M'] --> N\n",
            "['L', 'M', 'N'] --> O\n",
            "['M', 'N', 'O'] --> P\n",
            "['N', 'O', 'P'] --> Q\n",
            "['O', 'P', 'Q'] --> R\n",
            "['P', 'Q', 'R'] --> S\n",
            "['Q', 'R', 'S'] --> T\n",
            "['R', 'S', 'T'] --> U\n",
            "['S', 'T', 'U'] --> V\n",
            "['T', 'U', 'V'] --> Y\n",
            "['U', 'V', 'W'] --> Z\n",
            "['V', 'W', 'X'] --> Z\n",
            "['W', 'X', 'Y'] --> Z\n"
          ]
        }
      ]
    },
    {
      "cell_type": "markdown",
      "source": [
        "**Reason for weak performance : poor framing of the problem**<br>\n",
        "Input shape `[batch, timestep, features]`.<br>\n",
        "We use a batch size of one, where we have a window of three features (3 characters) but in one timestep\n",
        "\n",
        "Here the LSTM units have context to work with ,but not more sequence as it expected.\n",
        "\n",
        "Each input-output pattern is shown to the network in a random order and the state of the network is reset after each batch\n",
        "\n",
        "**The intended use of LSTMs is to provide context in the form of time steps, rather than windowed features**\n",
        "\n",
        "We need to reshape the input data as a time step sequence of one feature, rather than a single time step of multiple features."
      ],
      "metadata": {
        "id": "xf8hRdIV1qbn"
      }
    },
    {
      "cell_type": "markdown",
      "source": [
        "## Three-Char Time Step Window to One-Char Mapping"
      ],
      "metadata": {
        "id": "e96aQxBX3hR2"
      }
    },
    {
      "cell_type": "code",
      "source": [
        "# get sequence \n",
        "X, y = get_X_y(seq_len=3, timesteps=3, feature_dim=1) "
      ],
      "metadata": {
        "id": "xPwyiosFl2DU",
        "colab": {
          "base_uri": "https://localhost:8080/"
        },
        "outputId": "de682a88-1d9d-436e-9bf8-f66806b59f4d"
      },
      "execution_count": 19,
      "outputs": [
        {
          "output_type": "stream",
          "name": "stdout",
          "text": [
            "Shape of input (23, 3, 1)\n",
            "Shape of label (23, 26)\n"
          ]
        }
      ]
    },
    {
      "cell_type": "code",
      "source": [
        "# modeling\n",
        "three_char_timestep_window = build_model(input_shape=(X.shape[1],X.shape[2]))\n",
        "# training\n",
        "three_char_timestep_window_history = three_char_timestep_window.fit(X, y, epochs=500, batch_size=1, verbose=0)"
      ],
      "metadata": {
        "id": "hJoXZeCJ4WXf"
      },
      "execution_count": 20,
      "outputs": []
    },
    {
      "cell_type": "code",
      "source": [
        "# visualize performance\n",
        "plot_util(three_char_timestep_window_history.history)"
      ],
      "metadata": {
        "colab": {
          "base_uri": "https://localhost:8080/",
          "height": 350
        },
        "id": "hXAxaOx25Lk_",
        "outputId": "3fd42b4e-0ff3-414f-89e6-59ae700a7a06"
      },
      "execution_count": 22,
      "outputs": [
        {
          "output_type": "display_data",
          "data": {
            "text/plain": [
              "<Figure size 720x360 with 2 Axes>"
            ],
            "image/png": "[encoded data removed]"
          },
          "metadata": {
            "needs_background": "light"
          }
        }
      ]
    },
    {
      "cell_type": "code",
      "source": [
        "# evaluation\n",
        "evaluate_model(three_char_timestep_window, X, y)"
      ],
      "metadata": {
        "colab": {
          "base_uri": "https://localhost:8080/"
        },
        "id": "KUhaNake4p0W",
        "outputId": "c8bf6569-3f49-426f-a654-f52b1e7fadcb"
      },
      "execution_count": 21,
      "outputs": [
        {
          "output_type": "stream",
          "name": "stdout",
          "text": [
            "loss :0.1965232491493225\n",
            "accuracy :1.0\n"
          ]
        }
      ]
    },
    {
      "cell_type": "code",
      "source": [
        "# prediction\n",
        "make_prediction(three_char_timestep_window, seq_len=3, timesteps=3, feature_dim=1)"
      ],
      "metadata": {
        "colab": {
          "base_uri": "https://localhost:8080/"
        },
        "id": "2ZTanIXB5ZU7",
        "outputId": "5c20e971-f013-4f4a-bcd6-2bea93c538bf"
      },
      "execution_count": 23,
      "outputs": [
        {
          "output_type": "stream",
          "name": "stdout",
          "text": [
            "['A', 'B', 'C'] --> D\n",
            "['B', 'C', 'D'] --> E\n",
            "['C', 'D', 'E'] --> F\n",
            "['D', 'E', 'F'] --> G\n",
            "['E', 'F', 'G'] --> H\n",
            "['F', 'G', 'H'] --> I\n",
            "['G', 'H', 'I'] --> J\n",
            "['H', 'I', 'J'] --> K\n",
            "['I', 'J', 'K'] --> L\n",
            "['J', 'K', 'L'] --> M\n",
            "['K', 'L', 'M'] --> N\n",
            "['L', 'M', 'N'] --> O\n",
            "['M', 'N', 'O'] --> P\n",
            "['N', 'O', 'P'] --> Q\n",
            "['O', 'P', 'Q'] --> R\n",
            "['P', 'Q', 'R'] --> S\n",
            "['Q', 'R', 'S'] --> T\n",
            "['R', 'S', 'T'] --> U\n",
            "['S', 'T', 'U'] --> V\n",
            "['T', 'U', 'V'] --> W\n",
            "['U', 'V', 'W'] --> X\n",
            "['V', 'W', 'X'] --> Y\n",
            "['W', 'X', 'Y'] --> Z\n"
          ]
        }
      ]
    },
    {
      "cell_type": "markdown",
      "source": [
        "The LSTM networks are stateful. They should be able to learn the whole alphabet sequence, but by default the Keras implementation resets the network state after each training batch.\n",
        "\n",
        "This suggests that if we had a batch size large enough to hold all input patterns and if all the input patterns were ordered sequentially, that the LSTM could use the context of the sequence within the batch to better learn the sequence.\n",
        "\n",
        "Additionally, Keras shuffles the training dataset before each training epoch. To ensure the training data patterns remain sequential, we can disable this shuffling."
      ],
      "metadata": {
        "id": "sEB4riZREwHV"
      }
    },
    {
      "cell_type": "markdown",
      "source": [
        "## Learn from the Batch"
      ],
      "metadata": {
        "id": "Pzz3EHbyGCa6"
      }
    },
    {
      "cell_type": "code",
      "source": [
        "X, y = get_X_y(seq_len=3, timesteps=3, feature_dim=1)"
      ],
      "metadata": {
        "colab": {
          "base_uri": "https://localhost:8080/"
        },
        "id": "KuQ8wgTs5x4X",
        "outputId": "eff590bc-83d8-4e8b-aac5-97d9ca6554b6"
      },
      "execution_count": 24,
      "outputs": [
        {
          "output_type": "stream",
          "name": "stdout",
          "text": [
            "Shape of input (23, 3, 1)\n",
            "Shape of label (23, 26)\n"
          ]
        }
      ]
    },
    {
      "cell_type": "code",
      "source": [
        "# model\n",
        "learn_from_the_batch = build_model(input_shape=(X.shape[1],X.shape[2]))\n",
        "# training\n",
        "learn_from_the_batch_history = learn_from_the_batch.fit(X, y, epochs=1000, batch_size=len(X), shuffle=False, verbose=0)"
      ],
      "metadata": {
        "id": "gMqQcqoeGRQH"
      },
      "execution_count": 48,
      "outputs": []
    },
    {
      "cell_type": "code",
      "source": [
        "# visualize\n",
        "plot_util(learn_from_the_batch_history.history)"
      ],
      "metadata": {
        "colab": {
          "base_uri": "https://localhost:8080/",
          "height": 350
        },
        "id": "0mJ3UsrCHO9x",
        "outputId": "8ff1476a-df28-4ced-b217-175eb483f307"
      },
      "execution_count": 49,
      "outputs": [
        {
          "output_type": "display_data",
          "data": {
            "text/plain": [
              "<Figure size 720x360 with 2 Axes>"
            ],
            "image/png": "[encoded data removed]"
          },
          "metadata": {
            "needs_background": "light"
          }
        }
      ]
    },
    {
      "cell_type": "code",
      "source": [
        "# evalaute\n",
        "evaluate_model(learn_from_the_batch, X ,y)"
      ],
      "metadata": {
        "colab": {
          "base_uri": "https://localhost:8080/"
        },
        "id": "IhdSZlnfG8Zq",
        "outputId": "b1bafa81-7ad6-49a9-c883-469e02f0dc4b"
      },
      "execution_count": 50,
      "outputs": [
        {
          "output_type": "stream",
          "name": "stdout",
          "text": [
            "loss :0.2382931113243103\n",
            "accuracy :1.0\n"
          ]
        }
      ]
    },
    {
      "cell_type": "code",
      "source": [
        "# prediction\n",
        "make_prediction(learn_from_the_batch, seq_len=3, timesteps=3, feature_dim=1)"
      ],
      "metadata": {
        "colab": {
          "base_uri": "https://localhost:8080/"
        },
        "id": "BUedjRoPHmcR",
        "outputId": "3f55917c-6da9-4a8e-b505-c60a44bc77dc"
      },
      "execution_count": 51,
      "outputs": [
        {
          "output_type": "stream",
          "name": "stdout",
          "text": [
            "['A', 'B', 'C'] --> D\n",
            "['B', 'C', 'D'] --> E\n",
            "['C', 'D', 'E'] --> F\n",
            "['D', 'E', 'F'] --> G\n",
            "['E', 'F', 'G'] --> H\n",
            "['F', 'G', 'H'] --> I\n",
            "['G', 'H', 'I'] --> J\n",
            "['H', 'I', 'J'] --> K\n",
            "['I', 'J', 'K'] --> L\n",
            "['J', 'K', 'L'] --> M\n",
            "['K', 'L', 'M'] --> N\n",
            "['L', 'M', 'N'] --> O\n",
            "['M', 'N', 'O'] --> P\n",
            "['N', 'O', 'P'] --> Q\n",
            "['O', 'P', 'Q'] --> R\n",
            "['P', 'Q', 'R'] --> S\n",
            "['Q', 'R', 'S'] --> T\n",
            "['R', 'S', 'T'] --> U\n",
            "['S', 'T', 'U'] --> V\n",
            "['T', 'U', 'V'] --> W\n",
            "['U', 'V', 'W'] --> X\n",
            "['V', 'W', 'X'] --> Y\n",
            "['W', 'X', 'Y'] --> Z\n"
          ]
        }
      ]
    },
    {
      "cell_type": "code",
      "source": [
        "# random prediction\n",
        "X_test, y_test = get_data(seq_len=3)\n",
        "# pick any at random \n",
        "randomX = X_test[10]\n",
        "# preprocess\n",
        "randomX = np.array(randomX).reshape(1,3,1)/len(alphabets)\n",
        "prediction = learn_from_the_batch.predict(randomX)\n",
        "idx = np.argmax(prediction)\n",
        "\n",
        "print([int_to_char[i] for i in X_test[10]],'--->',int_to_char[idx])"
      ],
      "metadata": {
        "colab": {
          "base_uri": "https://localhost:8080/"
        },
        "id": "2R3qHqVkII-B",
        "outputId": "3cbdf2c0-42f5-4789-d0ae-19ffd085e642"
      },
      "execution_count": 52,
      "outputs": [
        {
          "output_type": "stream",
          "name": "stdout",
          "text": [
            "['K', 'L', 'M'] ---> N\n"
          ]
        }
      ]
    },
    {
      "cell_type": "markdown",
      "source": [
        "## Variable-Length Input to One-Char mapping\n",
        "\n",
        "Firstly, we are changing the framing of the problem. To simplify we will define a maximum input sequence length and set it to a small value like 5 to speed up training. This defines the maximum length of subsequences of the alphabet which will be drawn for training.\n",
        "\n",
        "We also need to define the number of random sequences to create, in this case lets go with 1000. "
      ],
      "metadata": {
        "id": "iMOS8YdkQglm"
      }
    },
    {
      "cell_type": "code",
      "source": [
        "# prepare the dataset of input to output pairs encoded as integers\n",
        "\n",
        "num_samples = 1000\n",
        "max_len = 5\n",
        "dataX=[]\n",
        "dataY=[]\n",
        "for i in range(num_samples):\n",
        "  start = np.random.randint(0, len(alphabets)-2)\n",
        "  stop = np.random.randint(start, min(len(alphabets)-1, start+max_len))\n",
        "  seq_in = alphabets[start:stop+1]\n",
        "  seq_out = alphabets[stop+1]\n",
        "  dataX.append([char_to_int[i] for i in seq_in])\n",
        "  dataY.append([char_to_int[i] for i in seq_out])"
      ],
      "metadata": {
        "id": "NeSzBzoKOVgX"
      },
      "execution_count": 88,
      "outputs": []
    },
    {
      "cell_type": "code",
      "source": [
        "# lets see the variable lenght inputs\n",
        "for i in range(5):\n",
        "  print([int_to_char[j] for j in dataX[i]], '--'*10, [int_to_char[j] for j in dataY[i]])"
      ],
      "metadata": {
        "colab": {
          "base_uri": "https://localhost:8080/"
        },
        "id": "rjJ4AprJRA5m",
        "outputId": "fa0e7c8d-dff6-45ba-a131-e889873309c6"
      },
      "execution_count": 89,
      "outputs": [
        {
          "output_type": "stream",
          "name": "stdout",
          "text": [
            "['L', 'M', 'N'] -------------------- ['O']\n",
            "['T', 'U', 'V', 'W', 'X'] -------------------- ['Y']\n",
            "['L', 'M'] -------------------- ['N']\n",
            "['V', 'W'] -------------------- ['X']\n",
            "['A', 'B'] -------------------- ['C']\n"
          ]
        }
      ]
    },
    {
      "cell_type": "code",
      "source": [
        "# preprocessing\n",
        "\n",
        "# padding\n",
        "X = tf.keras.preprocessing.sequence.pad_sequences(dataX, maxlen=max_len, dtype='float32')\n",
        "# scale\n",
        "X = X/len(alphabets)\n",
        "\n",
        "# one hot encoding of targets \n",
        "y = tf.keras.utils.to_categorical(dataY)"
      ],
      "metadata": {
        "id": "BXqRuAzJVbjM"
      },
      "execution_count": 91,
      "outputs": []
    },
    {
      "cell_type": "code",
      "source": [
        "# reshape the data [ batch , timestep, feature]\n",
        "X = np.reshape(X, (num_samples, max_len, 1))"
      ],
      "metadata": {
        "id": "HGHivJSFXOhx"
      },
      "execution_count": 96,
      "outputs": []
    },
    {
      "cell_type": "code",
      "source": [
        "# lets build a model\n",
        "variable_len_seq = build_model(input_shape=(X.shape[1], X.shape[2]))\n",
        "\n",
        "# training\n",
        "variable_len_seq_history = variable_len_seq.fit(X, y, epochs=500, batch_size=1, verbose=0)"
      ],
      "metadata": {
        "id": "PfBWbM1nTHXS"
      },
      "execution_count": 99,
      "outputs": []
    },
    {
      "cell_type": "code",
      "source": [
        "# visualize the performance\n",
        "plot_util(variable_len_seq_history.history)"
      ],
      "metadata": {
        "colab": {
          "base_uri": "https://localhost:8080/",
          "height": 350
        },
        "id": "s0PVIUFgX86F",
        "outputId": "d0a72a1a-f329-478f-f1c5-9a0f6963bcfe"
      },
      "execution_count": 100,
      "outputs": [
        {
          "output_type": "display_data",
          "data": {
            "text/plain": [
              "<Figure size 720x360 with 2 Axes>"
            ],
            "image/png": "[encoded data removed]"
          },
          "metadata": {
            "needs_background": "light"
          }
        }
      ]
    },
    {
      "cell_type": "code",
      "source": [
        "# evaluate the model\n",
        "evaluate_model(variable_len_seq, X, y)"
      ],
      "metadata": {
        "colab": {
          "base_uri": "https://localhost:8080/"
        },
        "id": "AIHyZFOrWTVf",
        "outputId": "6c8089b4-e5f9-40f2-e48d-23ac76916c0d"
      },
      "execution_count": 101,
      "outputs": [
        {
          "output_type": "stream",
          "name": "stdout",
          "text": [
            "loss :0.3304470479488373\n",
            "accuracy :0.9369999766349792\n"
          ]
        }
      ]
    },
    {
      "cell_type": "code",
      "source": [
        "# make predictions by generating random test data\n",
        "\n",
        "for i in range(20):\n",
        "  index = np.random.randint(0, num_samples)\n",
        "  test = dataX[index]\n",
        "  # zero padding\n",
        "  X_ = tf.keras.preprocessing.sequence.pad_sequences([test], max_len)\n",
        "  # reshaping\n",
        "  X_ = np.reshape(X_,(1,max_len,1))\n",
        "  # prediction\n",
        "  pred = variable_len_seq.predict(X_)\n",
        "  idx = np.argmax(idx)\n",
        "  print([int_to_char[j] for j in test],'--------->',[int_to_char[j] for j in dataY[index]])\n"
      ],
      "metadata": {
        "colab": {
          "base_uri": "https://localhost:8080/"
        },
        "id": "cKe-__tCW-Gr",
        "outputId": "2e8c4231-998e-4bfc-b536-1632fe599033"
      },
      "execution_count": 110,
      "outputs": [
        {
          "output_type": "stream",
          "name": "stdout",
          "text": [
            "['P', 'Q', 'R', 'S', 'T'] ---------> ['U']\n",
            "['D', 'E', 'F'] ---------> ['G']\n",
            "['H', 'I', 'J', 'K'] ---------> ['L']\n",
            "['V', 'W', 'X', 'Y'] ---------> ['Z']\n",
            "['X'] ---------> ['Y']\n",
            "['Q'] ---------> ['R']\n",
            "['E', 'F', 'G'] ---------> ['H']\n",
            "['J', 'K'] ---------> ['L']\n",
            "['H', 'I', 'J'] ---------> ['K']\n",
            "['J'] ---------> ['K']\n",
            "['B', 'C', 'D', 'E', 'F'] ---------> ['G']\n",
            "['B'] ---------> ['C']\n",
            "['H', 'I'] ---------> ['J']\n",
            "['T'] ---------> ['U']\n",
            "['U', 'V', 'W'] ---------> ['X']\n",
            "['M', 'N', 'O'] ---------> ['P']\n",
            "['F', 'G', 'H', 'I', 'J'] ---------> ['K']\n",
            "['C'] ---------> ['D']\n",
            "['C', 'D', 'E'] ---------> ['F']\n",
            "['D', 'E', 'F'] ---------> ['G']\n"
          ]
        }
      ]
    },
    {
      "cell_type": "code",
      "source": [
        ""
      ],
      "metadata": {
        "id": "rpMOVow1d7Z7"
      },
      "execution_count": null,
      "outputs": []
    }
  ]
}