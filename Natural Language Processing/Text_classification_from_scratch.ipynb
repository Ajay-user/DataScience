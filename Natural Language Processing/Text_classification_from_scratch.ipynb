{
  "nbformat": 4,
  "nbformat_minor": 0,
  "metadata": {
    "colab": {
      "name": "Text classification from scratch.ipynb",
      "provenance": [],
      "toc_visible": true,
      "authorship_tag": "ABX9TyP8E3qecgAb5RBw1XAIeI9t",
      "include_colab_link": true
    },
    "kernelspec": {
      "name": "python3",
      "display_name": "Python 3"
    },
    "language_info": {
      "name": "python"
    }
  },
  "cells": [
    {
      "cell_type": "markdown",
      "metadata": {
        "id": "view-in-github",
        "colab_type": "text"
      },
      "source": [
        "<a href=\"https://colab.research.google.com/github/Ajay-user/DataScience/blob/master/Natural%20Language%20Processing/Text_classification_from_scratch.ipynb\" target=\"_parent\"><img src=\"https://colab.research.google.com/assets/colab-badge.svg\" alt=\"Open In Colab\"/></a>"
      ]
    },
    {
      "cell_type": "code",
      "metadata": {
        "id": "V-z3MiFg-j40"
      },
      "source": [
        "import tensorflow as tf\n",
        "import pathlib\n",
        "import shutil\n",
        "import string\n",
        "import re\n",
        "import pandas as pd\n",
        "import matplotlib.pyplot as plt"
      ],
      "execution_count": 1,
      "outputs": []
    },
    {
      "cell_type": "markdown",
      "metadata": {
        "id": "ZNlAb4mj-QEK"
      },
      "source": [
        "## Sentiment analysis\n",
        "This notebook trains a sentiment analysis model to classify movie reviews as positive or negative, based on the text of the review. This is an example of binary—or two-class—classification, an important and widely applicable kind of machine learning problem.\n",
        "\n",
        "You'll use the Large Movie Review Dataset that contains the text of 50,000 movie reviews from the Internet Movie Database. These are split into 25,000 reviews for training and 25,000 reviews for testing. The training and testing sets are balanced, meaning they contain an equal number of positive and negative reviews.\n",
        "\n",
        "**Download and explore the IMDB dataset**"
      ]
    },
    {
      "cell_type": "code",
      "metadata": {
        "colab": {
          "base_uri": "https://localhost:8080/"
        },
        "id": "tIAxAVKm9yt9",
        "outputId": "4e362f74-4336-483a-de78-f7913c5423f9"
      },
      "source": [
        "url = \"https://ai.stanford.edu/~amaas/data/sentiment/aclImdb_v1.tar.gz\"\n",
        "\n",
        "dataset_dir = tf.keras.utils.get_file('aclImdb', url, untar=True, cache_dir='.', cache_subdir='')"
      ],
      "execution_count": 2,
      "outputs": [
        {
          "output_type": "stream",
          "name": "stdout",
          "text": [
            "Downloading data from https://ai.stanford.edu/~amaas/data/sentiment/aclImdb_v1.tar.gz\n",
            "84131840/84125825 [==============================] - 2s 0us/step\n",
            "84140032/84125825 [==============================] - 2s 0us/step\n"
          ]
        }
      ]
    },
    {
      "cell_type": "code",
      "metadata": {
        "colab": {
          "base_uri": "https://localhost:8080/"
        },
        "id": "t4OG0Gbg-875",
        "outputId": "23fb44dc-78bf-491d-cf95-12a96962f4c8"
      },
      "source": [
        "parent_dir = pathlib.Path(dataset_dir).parent\n",
        "print('parent directory :',parent_dir)\n",
        "\n",
        "# list all directory in parent dir\n",
        "print('\\n list all folders in parent directory')\n",
        "for item in parent_dir.iterdir():\n",
        "  print(item)\n",
        "\n",
        "# movie review dataset\n",
        "print('\\n list all folders in movie review dataset directory')\n",
        "movie_review_dir = parent_dir/'aclImdb'\n",
        "for item in movie_review_dir.iterdir():\n",
        "  if item.is_dir():\n",
        "    print(item)\n",
        "\n",
        "# training dataset\n",
        "print('\\n list all folders in training directory')\n",
        "train_dir = movie_review_dir/'train'\n",
        "for item in train_dir.iterdir():\n",
        "  if item.is_dir():\n",
        "    print(item)\n",
        "\n",
        "# testing dataset\n",
        "print('\\n list all folders in testing directory')\n",
        "test_dir = movie_review_dir/'test'\n",
        "for item in test_dir.iterdir():\n",
        "  if item.is_dir():\n",
        "    print(item)"
      ],
      "execution_count": 3,
      "outputs": [
        {
          "output_type": "stream",
          "name": "stdout",
          "text": [
            "parent directory : .\n",
            "\n",
            " list all folders in parent directory\n",
            ".config\n",
            "aclImdb.tar.gz\n",
            "aclImdb\n",
            "sample_data\n",
            "\n",
            " list all folders in movie review dataset directory\n",
            "aclImdb/train\n",
            "aclImdb/test\n",
            "\n",
            " list all folders in training directory\n",
            "aclImdb/train/neg\n",
            "aclImdb/train/pos\n",
            "aclImdb/train/unsup\n",
            "\n",
            " list all folders in testing directory\n",
            "aclImdb/test/neg\n",
            "aclImdb/test/pos\n"
          ]
        }
      ]
    },
    {
      "cell_type": "markdown",
      "metadata": {
        "id": "uIrggboTCWmX"
      },
      "source": [
        "Load the dataset\n",
        "Next, you will load the data off disk and prepare it into a format suitable for training. To do so, you will use the helpful text_dataset_from_directory utility, which expects a directory structure as follows.\n",
        "\n",
        "<br>\n",
        "main_directory/<br>\n",
        "...class_a/<br>\n",
        "......a_text_1.txt<br>\n",
        "......a_text_2.txt<br>\n",
        "...class_b/<br>\n",
        "......b_text_1.txt<br>\n",
        "......b_text_2.txt<br>\n",
        "<br>\n",
        "To prepare a dataset for binary classification, you will need two folders on disk, corresponding to class_a and class_b. These will be the positive and negative movie reviews, which can be found in aclImdb/train/pos and aclImdb/train/neg. As the IMDB dataset contains additional folders, you will remove them before using this utility."
      ]
    },
    {
      "cell_type": "code",
      "metadata": {
        "colab": {
          "base_uri": "https://localhost:8080/"
        },
        "id": "BmjUYuPu_Xuz",
        "outputId": "cc05e141-f488-4144-b8f8-668366a63bf8"
      },
      "source": [
        "remove_dir = train_dir/'unsup'\n",
        "print('Directory to remove:', remove_dir)"
      ],
      "execution_count": 4,
      "outputs": [
        {
          "output_type": "stream",
          "name": "stdout",
          "text": [
            "Directory to remove: aclImdb/train/unsup\n"
          ]
        }
      ]
    },
    {
      "cell_type": "code",
      "metadata": {
        "id": "0SimudJTCxEq"
      },
      "source": [
        "shutil.rmtree(remove_dir)"
      ],
      "execution_count": 5,
      "outputs": []
    },
    {
      "cell_type": "code",
      "metadata": {
        "colab": {
          "base_uri": "https://localhost:8080/"
        },
        "id": "MjBFJdRbDInJ",
        "outputId": "d5817a79-2655-41ac-8187-fade43a66bbe"
      },
      "source": [
        "# training dataset\n",
        "print('\\n list all folders in training directory')\n",
        "train_dir = movie_review_dir/'train'\n",
        "for item in train_dir.iterdir():\n",
        "  if item.is_dir():\n",
        "    print(item)"
      ],
      "execution_count": 6,
      "outputs": [
        {
          "output_type": "stream",
          "name": "stdout",
          "text": [
            "\n",
            " list all folders in training directory\n",
            "aclImdb/train/neg\n",
            "aclImdb/train/pos\n"
          ]
        }
      ]
    },
    {
      "cell_type": "markdown",
      "metadata": {
        "id": "jrggvsdQDzJu"
      },
      "source": [
        "Use the utility `tf.keras.preprocessing.text_dataset_from_directory` to generate a labeled `tf.data.Dataset` object from a set of text files on disk filed into class-specific folders.\n",
        "\n",
        "Let's use it to generate the training, validation, and test datasets. The validation and training datasets are generated from two subsets of the train directory, with 20% of samples going to the validation dataset and 80% going to the training dataset.\n",
        "\n",
        "Having a validation dataset in addition to the test dataset is useful for tuning hyperparameters, such as the model architecture, for which the test dataset should not be used.\n",
        "\n",
        "Before putting the model out into the real world however, it should be retrained using all available training data (without creating a validation dataset), so its performance is maximized.\n",
        "\n",
        "When using the `validation_split` & `subset` arguments, make sure to either specify a `random seed`, or to pass `shuffle=False`, so that the validation & training splits you get have no overlap."
      ]
    },
    {
      "cell_type": "markdown",
      "metadata": {
        "id": "Q5MZ7g0GEWiw"
      },
      "source": [
        "## Constants"
      ]
    },
    {
      "cell_type": "code",
      "metadata": {
        "id": "YX8SOReRESug"
      },
      "source": [
        "# constants\n",
        "BATCH_SIZE = 32\n",
        "RANDOM_SEED = 42\n",
        "# Model constants.\n",
        "max_features = 10000\n",
        "embedding_dim = 16\n",
        "sequence_length = 250"
      ],
      "execution_count": 7,
      "outputs": []
    },
    {
      "cell_type": "code",
      "metadata": {
        "colab": {
          "base_uri": "https://localhost:8080/"
        },
        "id": "3rPemWcWDLiL",
        "outputId": "4baeafcd-fc77-48fe-d561-9f0fafd1cd80"
      },
      "source": [
        "raw_train_ds = tf.keras.preprocessing.text_dataset_from_directory(train_dir,\n",
        "                                                                  batch_size=BATCH_SIZE,\n",
        "                                                                  seed=RANDOM_SEED,\n",
        "                                                                  validation_split=0.2,\n",
        "                                                                  subset='training')\n",
        "\n",
        "raw_val_ds = tf.keras.preprocessing.text_dataset_from_directory(train_dir,\n",
        "                                                                batch_size=BATCH_SIZE,\n",
        "                                                                seed=RANDOM_SEED,\n",
        "                                                                validation_split=0.2,\n",
        "                                                                subset='validation')\n",
        "\n",
        "raw_test_ds = tf.keras.preprocessing.text_dataset_from_directory(test_dir,\n",
        "                                                                  batch_size=BATCH_SIZE,\n",
        "                                                                 )"
      ],
      "execution_count": 8,
      "outputs": [
        {
          "output_type": "stream",
          "name": "stdout",
          "text": [
            "Found 25000 files belonging to 2 classes.\n",
            "Using 20000 files for training.\n",
            "Found 25000 files belonging to 2 classes.\n",
            "Using 5000 files for validation.\n",
            "Found 25000 files belonging to 2 classes.\n"
          ]
        }
      ]
    },
    {
      "cell_type": "code",
      "metadata": {
        "colab": {
          "base_uri": "https://localhost:8080/"
        },
        "id": "svCI9u0SICv1",
        "outputId": "51942122-c691-45ee-83a9-35fa0d21b4ed"
      },
      "source": [
        "print('Train',tf.data.experimental.cardinality(raw_train_ds))\n",
        "print('Validation',tf.data.experimental.cardinality(raw_val_ds))\n",
        "print('Test',tf.data.experimental.cardinality(raw_test_ds))"
      ],
      "execution_count": 9,
      "outputs": [
        {
          "output_type": "stream",
          "name": "stdout",
          "text": [
            "Train tf.Tensor(625, shape=(), dtype=int64)\n",
            "Validation tf.Tensor(157, shape=(), dtype=int64)\n",
            "Test tf.Tensor(782, shape=(), dtype=int64)\n"
          ]
        }
      ]
    },
    {
      "cell_type": "markdown",
      "metadata": {
        "id": "nQ6Q6sqBJOB7"
      },
      "source": [
        "## Prepare the data\n",
        "using `preprocessing.TextVectorization` layer.\n",
        "* Standardize \n",
        "* Tokenize\n",
        "* Vectorize  \n",
        "\n",
        "Standardization refers to preprocessing the text, typically to remove punctuation or HTML elements to simplify the dataset. Tokenization refers to splitting strings into tokens (for example, splitting a sentence into individual words, by splitting on whitespace). Vectorization refers to converting tokens into numbers so they can be fed into a neural network. All of these tasks can be accomplished with this layer.\n",
        "\n",
        "The reviews contain various HTML tags like <br />. These tags will not be removed by the default standardizer in the TextVectorization layer (which converts text to lowercase and strips punctuation by default, but doesn't strip HTML). You will write a custom standardization function to remove the HTML.\n",
        "\n",
        "\n"
      ]
    },
    {
      "cell_type": "code",
      "metadata": {
        "id": "GEibMlgEIFbU"
      },
      "source": [
        "def custom_standardizer(text):\n",
        "  lowercase = tf.strings.lower(text)\n",
        "  stripped_html = tf.strings.regex_replace(lowercase, \"<[^>]+>\", \" \")\n",
        "  return tf.strings.regex_replace(stripped_html, '[%s]' % re.escape(string.punctuation), \"\")"
      ],
      "execution_count": 10,
      "outputs": []
    },
    {
      "cell_type": "code",
      "metadata": {
        "colab": {
          "base_uri": "https://localhost:8080/"
        },
        "id": "YywRo7L9JHk-",
        "outputId": "1031703b-e6c2-4db3-c7c8-af8998bb1348"
      },
      "source": [
        "# eg: working of custom standardization\n",
        "sample_text_batch, sample_label_batch = next(iter(raw_train_ds))\n",
        "print('Sample text ', sample_text_batch[0].numpy())\n",
        "print('Sample after standardization', custom_standardizer(sample_text_batch[0]).numpy())"
      ],
      "execution_count": 11,
      "outputs": [
        {
          "output_type": "stream",
          "name": "stdout",
          "text": [
            "Sample text  b'\"Pandemonium\" is a horror movie spoof that comes off more stupid than funny. Believe me when I tell you, I love comedies. Especially comedy spoofs. \"Airplane\", \"The Naked Gun\" trilogy, \"Blazing Saddles\", \"High Anxiety\", and \"Spaceballs\" are some of my favorite comedies that spoof a particular genre. \"Pandemonium\" is not up there with those films. Most of the scenes in this movie had me sitting there in stunned silence because the movie wasn\\'t all that funny. There are a few laughs in the film, but when you watch a comedy, you expect to laugh a lot more than a few times and that\\'s all this film has going for it. Geez, \"Scream\" had more laughs than this film and that was more of a horror film. How bizarre is that?<br /><br />*1/2 (out of four)'\n",
            "Sample after standardization b'pandemonium is a horror movie spoof that comes off more stupid than funny believe me when i tell you i love comedies especially comedy spoofs airplane the naked gun trilogy blazing saddles high anxiety and spaceballs are some of my favorite comedies that spoof a particular genre pandemonium is not up there with those films most of the scenes in this movie had me sitting there in stunned silence because the movie wasnt all that funny there are a few laughs in the film but when you watch a comedy you expect to laugh a lot more than a few times and thats all this film has going for it geez scream had more laughs than this film and that was more of a horror film how bizarre is that  12 out of four'\n"
          ]
        }
      ]
    },
    {
      "cell_type": "markdown",
      "metadata": {
        "id": "WKWrNLPGNJsS"
      },
      "source": [
        "Now that we have our custom standardization, we can instantiate our text vectorization layer. We are using this layer to normalize, split, and map strings to integers, so we set our 'output_mode' to 'int'.\n",
        "\n",
        "Note that we're using the default split function,\n",
        "and the custom standardization defined above.\n",
        "We also set an explicit maximum sequence length, since the CNNs later in our\n",
        "model won't support ragged sequences."
      ]
    },
    {
      "cell_type": "code",
      "metadata": {
        "id": "-TV7v9SMLMXS"
      },
      "source": [
        "vectorize_layer = tf.keras.layers.experimental.preprocessing.TextVectorization(max_tokens = max_features,\n",
        "                                                                               standardize = custom_standardizer,\n",
        "                                                                               output_mode='int',\n",
        "                                                                               output_sequence_length = sequence_length)"
      ],
      "execution_count": 12,
      "outputs": []
    },
    {
      "cell_type": "markdown",
      "metadata": {
        "id": "e672XfE0PSUw"
      },
      "source": [
        "Note: it's important to only use your training data when calling adapt (using the test set would leak information)."
      ]
    },
    {
      "cell_type": "code",
      "metadata": {
        "id": "fshVD5DNOSFL"
      },
      "source": [
        "# call adapt on a text only dataset\n",
        "# Note: it's important to only use your training data when calling adapt (using the test set would leak information).\n",
        "text_ds = raw_train_ds.map(lambda text, label:text)\n",
        "vectorize_layer.adapt(text_ds)"
      ],
      "execution_count": 13,
      "outputs": []
    },
    {
      "cell_type": "markdown",
      "metadata": {
        "id": "N5RjlYDgOx3E"
      },
      "source": [
        "## Two options to vectorize the data\n",
        "There are 2 ways we can use our text vectorization layer:\n",
        "\n",
        "* Option 1: Make it part of the model, so as to obtain a model that processes raw strings, like this:\n",
        "\n",
        "<br>\n",
        "text_input = tf.keras.Input(shape=(1,), dtype=tf.string, name='text')<br>\n",
        "x = vectorize_layer(text_input)<br>\n",
        "x = layers.Embedding(max_features + 1, embedding_dim)(x)<br>\n",
        "...<br>\n",
        "<br>\n",
        "\n",
        "* Option 2: Apply it to the text dataset to obtain a dataset of word indices, then feed it into a model that expects integer sequences as inputs.\n",
        "\n",
        "\n",
        "An important difference between the two is that option 2 enables you to do asynchronous CPU processing and buffering of your data when training on GPU. So if you're training the model on GPU, you probably want to go with this option to get the best performance. This is what we will do below.\n",
        "\n",
        "If we were to export our model to production, we'd ship a model that accepts raw strings as input, like in the code snippet for option 1 above. This can be done after training."
      ]
    },
    {
      "cell_type": "code",
      "metadata": {
        "id": "NmIFfKqqOwlz"
      },
      "source": [
        "def vectorize_text(text, label):\n",
        "  text = tf.expand_dims(text, -1)\n",
        "  return vectorize_layer(text), label"
      ],
      "execution_count": 14,
      "outputs": []
    },
    {
      "cell_type": "code",
      "metadata": {
        "id": "nyr9tdMLOkRW"
      },
      "source": [
        "train_ds = raw_train_ds.map(vectorize_text)\n",
        "val_ds = raw_val_ds.map(vectorize_text)\n",
        "test_ds = raw_test_ds.map(vectorize_text)"
      ],
      "execution_count": 15,
      "outputs": []
    },
    {
      "cell_type": "markdown",
      "metadata": {
        "id": "Chw3v9fqQcAX"
      },
      "source": [
        "Do async prefetching / buffering of the data for best performance on GPU."
      ]
    },
    {
      "cell_type": "code",
      "metadata": {
        "id": "5aRT8bB3QTA1"
      },
      "source": [
        "def config_for_performance(ds):\n",
        "  ds = ds.cache()\n",
        "  ds = ds.prefetch(tf.data.AUTOTUNE)\n",
        "  return ds\n",
        "\n",
        "train_ds = config_for_performance(train_ds)\n",
        "val_ds = config_for_performance(val_ds)\n",
        "test_ds = config_for_performance(test_ds)"
      ],
      "execution_count": 16,
      "outputs": []
    },
    {
      "cell_type": "markdown",
      "metadata": {
        "id": "vCi2JhSXRGaO"
      },
      "source": [
        "## Create the model"
      ]
    },
    {
      "cell_type": "markdown",
      "metadata": {
        "id": "LtU43NavSrkQ"
      },
      "source": [
        "The first layer is an Embedding layer. This layer takes the integer-encoded reviews and looks up an embedding vector for each word-index. These vectors are learned as the model trains. The vectors add a dimension to the output array. The resulting dimensions are: (batch, sequence, embedding)\n",
        "\n",
        "GlobalAveragePooling1D layer returns a fixed-length output vector for each example by averaging over the sequence dimension. This allows the model to handle input of variable length, in the simplest way possible.\n",
        "\n",
        "When given a batch of sequences as input, an embedding layer returns a 3D floating point tensor, of shape (samples, sequence_length, embedding_dimensionality). To convert from this sequence of variable length to a fixed representation there are a variety of standard approaches. You could use an RNN, Attention, or pooling layer before passing it to a Dense layer."
      ]
    },
    {
      "cell_type": "code",
      "metadata": {
        "colab": {
          "base_uri": "https://localhost:8080/"
        },
        "id": "RP5E_tEXQwUT",
        "outputId": "ebf43dcb-5963-47bc-c7fb-f19102f83571"
      },
      "source": [
        "# model 1\n",
        "# A GlobalAveragePooling1D layer returns a fixed-length output vector for each example by averaging over the sequence dimension.\n",
        "# This allows the model to handle input of variable length, in the simplest way possible.\n",
        "\n",
        "model_1 = tf.keras.Sequential([\n",
        "                             tf.keras.layers.Embedding(max_features, embedding_dim),\n",
        "                             tf.keras.layers.Dropout(0.5),\n",
        "                             tf.keras.layers.GlobalAveragePooling1D(),\n",
        "                             tf.keras.layers.Dropout(0.5),\n",
        "                             tf.keras.layers.Dense(1)\n",
        "])\n",
        "\n",
        "model_1.summary()"
      ],
      "execution_count": 17,
      "outputs": [
        {
          "output_type": "stream",
          "name": "stdout",
          "text": [
            "Model: \"sequential\"\n",
            "_________________________________________________________________\n",
            "Layer (type)                 Output Shape              Param #   \n",
            "=================================================================\n",
            "embedding (Embedding)        (None, None, 16)          160000    \n",
            "_________________________________________________________________\n",
            "dropout (Dropout)            (None, None, 16)          0         \n",
            "_________________________________________________________________\n",
            "global_average_pooling1d (Gl (None, 16)                0         \n",
            "_________________________________________________________________\n",
            "dropout_1 (Dropout)          (None, 16)                0         \n",
            "_________________________________________________________________\n",
            "dense (Dense)                (None, 1)                 17        \n",
            "=================================================================\n",
            "Total params: 160,017\n",
            "Trainable params: 160,017\n",
            "Non-trainable params: 0\n",
            "_________________________________________________________________\n"
          ]
        }
      ]
    },
    {
      "cell_type": "code",
      "metadata": {
        "colab": {
          "base_uri": "https://localhost:8080/"
        },
        "id": "MnUwYqeCSLr-",
        "outputId": "fc38f50b-91b5-420a-bebc-43a8a298ae5d"
      },
      "source": [
        "# model 2 using conv1d\n",
        "\n",
        "# A integer input for vocab indices.\n",
        "inputs = tf.keras.layers.Input((None,))\n",
        "\n",
        "# embedding layer\n",
        "embedding = tf.keras.layers.Embedding(max_features+1, embedding_dim)(inputs)\n",
        "dropout = tf.keras.layers.Dropout(0.5)(embedding)\n",
        "\n",
        "# convolution\n",
        "conv = tf.keras.layers.Conv1D(64, 5, strides=3)(dropout)\n",
        "# pooling\n",
        "pool = tf.keras.layers.GlobalAveragePooling1D()(conv)\n",
        "dropout = tf.keras.layers.Dropout(0.5)(pool)\n",
        "\n",
        "# dense\n",
        "outputs = tf.keras.layers.Dense(1)(dropout)\n",
        "\n",
        "model_2 = tf.keras.Model(inputs, outputs, name='model_2')\n",
        "\n",
        "model_2.summary()"
      ],
      "execution_count": 18,
      "outputs": [
        {
          "output_type": "stream",
          "name": "stdout",
          "text": [
            "Model: \"model_2\"\n",
            "_________________________________________________________________\n",
            "Layer (type)                 Output Shape              Param #   \n",
            "=================================================================\n",
            "input_1 (InputLayer)         [(None, None)]            0         \n",
            "_________________________________________________________________\n",
            "embedding_1 (Embedding)      (None, None, 16)          160016    \n",
            "_________________________________________________________________\n",
            "dropout_2 (Dropout)          (None, None, 16)          0         \n",
            "_________________________________________________________________\n",
            "conv1d (Conv1D)              (None, None, 64)          5184      \n",
            "_________________________________________________________________\n",
            "global_average_pooling1d_1 ( (None, 64)                0         \n",
            "_________________________________________________________________\n",
            "dropout_3 (Dropout)          (None, 64)                0         \n",
            "_________________________________________________________________\n",
            "dense_1 (Dense)              (None, 1)                 65        \n",
            "=================================================================\n",
            "Total params: 165,265\n",
            "Trainable params: 165,265\n",
            "Non-trainable params: 0\n",
            "_________________________________________________________________\n"
          ]
        }
      ]
    },
    {
      "cell_type": "markdown",
      "metadata": {
        "id": "OJDarobsVdqe"
      },
      "source": [
        "## Training the model"
      ]
    },
    {
      "cell_type": "code",
      "metadata": {
        "colab": {
          "base_uri": "https://localhost:8080/"
        },
        "id": "-AnowbwnVFoM",
        "outputId": "4e57cd39-c545-4a61-ca8e-6e6e752621d5"
      },
      "source": [
        "model_1.compile(optimizer='adam',\n",
        "                loss=tf.keras.losses.BinaryCrossentropy(from_logits=True),\n",
        "                metrics=tf.keras.metrics.BinaryAccuracy(threshold=0.0))\n",
        "\n",
        "early_stopping = tf.keras.callbacks.EarlyStopping(monitor='val_loss', patience=1)\n",
        "\n",
        "history = model_1.fit(train_ds, epochs=25, validation_data=val_ds, callbacks=[early_stopping])"
      ],
      "execution_count": 19,
      "outputs": [
        {
          "output_type": "stream",
          "name": "stdout",
          "text": [
            "Epoch 1/25\n",
            "625/625 [==============================] - 12s 17ms/step - loss: 0.6759 - binary_accuracy: 0.6586 - val_loss: 0.6432 - val_binary_accuracy: 0.7596\n",
            "Epoch 2/25\n",
            "625/625 [==============================] - 4s 6ms/step - loss: 0.5929 - binary_accuracy: 0.7763 - val_loss: 0.5475 - val_binary_accuracy: 0.8030\n",
            "Epoch 3/25\n",
            "625/625 [==============================] - 4s 6ms/step - loss: 0.5032 - binary_accuracy: 0.8171 - val_loss: 0.4700 - val_binary_accuracy: 0.8290\n",
            "Epoch 4/25\n",
            "625/625 [==============================] - 4s 6ms/step - loss: 0.4364 - binary_accuracy: 0.8426 - val_loss: 0.4169 - val_binary_accuracy: 0.8490\n",
            "Epoch 5/25\n",
            "625/625 [==============================] - 4s 6ms/step - loss: 0.3914 - binary_accuracy: 0.8595 - val_loss: 0.3816 - val_binary_accuracy: 0.8596\n",
            "Epoch 6/25\n",
            "625/625 [==============================] - 4s 7ms/step - loss: 0.3591 - binary_accuracy: 0.8712 - val_loss: 0.3569 - val_binary_accuracy: 0.8636\n",
            "Epoch 7/25\n",
            "625/625 [==============================] - 4s 7ms/step - loss: 0.3355 - binary_accuracy: 0.8774 - val_loss: 0.3391 - val_binary_accuracy: 0.8694\n",
            "Epoch 8/25\n",
            "625/625 [==============================] - 4s 7ms/step - loss: 0.3142 - binary_accuracy: 0.8846 - val_loss: 0.3255 - val_binary_accuracy: 0.8714\n",
            "Epoch 9/25\n",
            "625/625 [==============================] - 4s 6ms/step - loss: 0.2979 - binary_accuracy: 0.8909 - val_loss: 0.3154 - val_binary_accuracy: 0.8724\n",
            "Epoch 10/25\n",
            "625/625 [==============================] - 4s 7ms/step - loss: 0.2846 - binary_accuracy: 0.8940 - val_loss: 0.3073 - val_binary_accuracy: 0.8738\n",
            "Epoch 11/25\n",
            "625/625 [==============================] - 4s 7ms/step - loss: 0.2745 - binary_accuracy: 0.8984 - val_loss: 0.3014 - val_binary_accuracy: 0.8768\n",
            "Epoch 12/25\n",
            "625/625 [==============================] - 5s 8ms/step - loss: 0.2611 - binary_accuracy: 0.9046 - val_loss: 0.2961 - val_binary_accuracy: 0.8788\n",
            "Epoch 13/25\n",
            "625/625 [==============================] - 4s 6ms/step - loss: 0.2495 - binary_accuracy: 0.9101 - val_loss: 0.2923 - val_binary_accuracy: 0.8794\n",
            "Epoch 14/25\n",
            "625/625 [==============================] - 4s 6ms/step - loss: 0.2421 - binary_accuracy: 0.9104 - val_loss: 0.2889 - val_binary_accuracy: 0.8806\n",
            "Epoch 15/25\n",
            "625/625 [==============================] - 5s 7ms/step - loss: 0.2360 - binary_accuracy: 0.9148 - val_loss: 0.2870 - val_binary_accuracy: 0.8830\n",
            "Epoch 16/25\n",
            "625/625 [==============================] - 4s 6ms/step - loss: 0.2289 - binary_accuracy: 0.9162 - val_loss: 0.2852 - val_binary_accuracy: 0.8842\n",
            "Epoch 17/25\n",
            "625/625 [==============================] - 4s 6ms/step - loss: 0.2218 - binary_accuracy: 0.9207 - val_loss: 0.2846 - val_binary_accuracy: 0.8830\n",
            "Epoch 18/25\n",
            "625/625 [==============================] - 4s 6ms/step - loss: 0.2171 - binary_accuracy: 0.9226 - val_loss: 0.2834 - val_binary_accuracy: 0.8840\n",
            "Epoch 19/25\n",
            "625/625 [==============================] - 4s 6ms/step - loss: 0.2098 - binary_accuracy: 0.9247 - val_loss: 0.2828 - val_binary_accuracy: 0.8852\n",
            "Epoch 20/25\n",
            "625/625 [==============================] - 4s 6ms/step - loss: 0.2023 - binary_accuracy: 0.9268 - val_loss: 0.2835 - val_binary_accuracy: 0.8864\n"
          ]
        }
      ]
    },
    {
      "cell_type": "code",
      "metadata": {
        "id": "8EnbT1N-YTnB"
      },
      "source": [
        "model_1_training = pd.DataFrame(history.history)"
      ],
      "execution_count": 20,
      "outputs": []
    },
    {
      "cell_type": "code",
      "metadata": {
        "colab": {
          "base_uri": "https://localhost:8080/"
        },
        "id": "4rJwdKf9X6R5",
        "outputId": "156a0a15-9316-48c7-ed71-4f2c75b5c1f3"
      },
      "source": [
        "model_2.compile(optimizer='adam',\n",
        "                loss=tf.keras.losses.BinaryCrossentropy(from_logits=True),\n",
        "                metrics=tf.keras.metrics.BinaryAccuracy(threshold=0.0))\n",
        "\n",
        "early_stopping = tf.keras.callbacks.EarlyStopping(monitor='val_loss', patience=1)\n",
        "\n",
        "history = model_2.fit(train_ds, epochs=25, validation_data=val_ds, callbacks=[early_stopping])"
      ],
      "execution_count": 21,
      "outputs": [
        {
          "output_type": "stream",
          "name": "stdout",
          "text": [
            "Epoch 1/25\n",
            "625/625 [==============================] - 7s 10ms/step - loss: 0.4808 - binary_accuracy: 0.7558 - val_loss: 0.3361 - val_binary_accuracy: 0.8520\n",
            "Epoch 2/25\n",
            "625/625 [==============================] - 6s 10ms/step - loss: 0.2697 - binary_accuracy: 0.8914 - val_loss: 0.3377 - val_binary_accuracy: 0.8512\n"
          ]
        }
      ]
    },
    {
      "cell_type": "code",
      "metadata": {
        "id": "rVyD73OmZCjC"
      },
      "source": [
        "model_2_training = pd.DataFrame(history.history)"
      ],
      "execution_count": 22,
      "outputs": []
    },
    {
      "cell_type": "code",
      "metadata": {
        "colab": {
          "base_uri": "https://localhost:8080/",
          "height": 320
        },
        "id": "77G250CsbcYO",
        "outputId": "399aa3be-fd09-4681-f774-b8658cde8e3e"
      },
      "source": [
        "fig, ax = plt.subplots(nrows=1, ncols=2, figsize=(16,5))\n",
        "model_1_training.plot(ax=ax[0]);\n",
        "model_2_training.plot(ax=ax[1]);"
      ],
      "execution_count": 23,
      "outputs": [
        {
          "output_type": "display_data",
          "data": {
            "image/png": "[encoded data removed]",
            "text/plain": [
              "<Figure size 1152x360 with 2 Axes>"
            ]
          },
          "metadata": {
            "needs_background": "light"
          }
        }
      ]
    },
    {
      "cell_type": "markdown",
      "metadata": {
        "id": "7H3-6KdPc7Q8"
      },
      "source": [
        "## Evaluation\n"
      ]
    },
    {
      "cell_type": "code",
      "metadata": {
        "colab": {
          "base_uri": "https://localhost:8080/"
        },
        "id": "55D8BwhYb3JF",
        "outputId": "f8fb1ba0-3fbe-48ac-856f-3ab9bc44faca"
      },
      "source": [
        "loss , accuracy = model_1.evaluate(test_ds)\n",
        "print('Model 1')\n",
        "print(f'Loss :{loss} and Accuracy :{accuracy}')\n",
        "\n",
        "loss , accuracy = model_2.evaluate(test_ds)\n",
        "print('Model 2')\n",
        "print(f'Loss :{loss} and Accuracy :{accuracy}')"
      ],
      "execution_count": 24,
      "outputs": [
        {
          "output_type": "stream",
          "name": "stdout",
          "text": [
            "782/782 [==============================] - 9s 11ms/step - loss: 0.3091 - binary_accuracy: 0.8738\n",
            "Model 1\n",
            "Loss :0.30906954407691956 and Accuracy :0.8737599849700928\n",
            "782/782 [==============================] - 2s 2ms/step - loss: 0.3681 - binary_accuracy: 0.8398\n",
            "Model 2\n",
            "Loss :0.3681453466415405 and Accuracy :0.8397600054740906\n"
          ]
        }
      ]
    },
    {
      "cell_type": "markdown",
      "metadata": {
        "id": "AMlYQ5qwd6kJ"
      },
      "source": [
        "## Export the model\n",
        "In the code above, you applied the TextVectorization layer to the dataset before feeding text to the model. If you want to make your model capable of processing raw strings (for example, to simplify deploying it), you can include the TextVectorization layer inside your model. To do so, you can create a new model using the weights you just trained."
      ]
    },
    {
      "cell_type": "code",
      "metadata": {
        "id": "dn8tN4Ondq4q"
      },
      "source": [
        "export_model = tf.keras.Sequential([\n",
        "                                    vectorize_layer,\n",
        "                                    model_1,\n",
        "                                    tf.keras.layers.Activation('sigmoid')\n",
        "                                    ])\n",
        "\n",
        "export_model.compile(optimizer='adam',\n",
        "                     loss = tf.keras.losses.BinaryCrossentropy(from_logits=False),\n",
        "                     metrics=['accuracy'])"
      ],
      "execution_count": 25,
      "outputs": []
    },
    {
      "cell_type": "markdown",
      "metadata": {
        "id": "Y9F49tDYfFWu"
      },
      "source": [
        "Test it with `raw_test_ds`, which yields raw strings"
      ]
    },
    {
      "cell_type": "code",
      "metadata": {
        "colab": {
          "base_uri": "https://localhost:8080/"
        },
        "id": "-KUpjgx1eNNm",
        "outputId": "5bff66d4-8947-41ee-fc92-feb6fbf58024"
      },
      "source": [
        "loss , accuracy = export_model.evaluate(raw_test_ds)\n",
        "print('Model 2')\n",
        "print(f'Loss :{loss} and Accuracy :{accuracy}')"
      ],
      "execution_count": 26,
      "outputs": [
        {
          "output_type": "stream",
          "name": "stdout",
          "text": [
            "782/782 [==============================] - 9s 11ms/step - loss: 0.3091 - accuracy: 0.8738\n",
            "Model 2\n",
            "Loss :0.3090698719024658 and Accuracy :0.8737599849700928\n"
          ]
        }
      ]
    },
    {
      "cell_type": "markdown",
      "metadata": {
        "id": "t_G5o5HQfISU"
      },
      "source": [
        "## Inference on new data"
      ]
    },
    {
      "cell_type": "code",
      "metadata": {
        "id": "DTaoHfd_elqX"
      },
      "source": [
        "examples = [\n",
        "  \"The movie was great!\",\n",
        "  \"The movie was okay.\",\n",
        "  \"The movie was terrible...\"\n",
        "]"
      ],
      "execution_count": 27,
      "outputs": []
    },
    {
      "cell_type": "code",
      "metadata": {
        "id": "0kEHrW4dfRs4"
      },
      "source": [
        "preds = export_model.predict(examples)"
      ],
      "execution_count": 28,
      "outputs": []
    },
    {
      "cell_type": "code",
      "metadata": {
        "colab": {
          "base_uri": "https://localhost:8080/"
        },
        "id": "Hc8ya_ESfV9O",
        "outputId": "b5e2ef5a-1924-47d4-ad0e-06b9c87a267a"
      },
      "source": [
        "for review, pred in zip(examples, preds):\n",
        "  print('Review', review, '\\nConfidence',pred,'\\n')"
      ],
      "execution_count": 31,
      "outputs": [
        {
          "output_type": "stream",
          "name": "stdout",
          "text": [
            "Review The movie was great! \n",
            "Confidence [0.6212433] \n",
            "\n",
            "Review The movie was okay. \n",
            "Confidence [0.41879982] \n",
            "\n",
            "Review The movie was terrible... \n",
            "Confidence [0.31771207] \n",
            "\n"
          ]
        }
      ]
    },
    {
      "cell_type": "code",
      "metadata": {
        "id": "T7DAxJnEZ67M"
      },
      "source": [
        ""
      ],
      "execution_count": null,
      "outputs": []
    }
  ]
}