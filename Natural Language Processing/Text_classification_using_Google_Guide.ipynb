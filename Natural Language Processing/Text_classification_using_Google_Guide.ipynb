{
  "nbformat": 4,
  "nbformat_minor": 0,
  "metadata": {
    "colab": {
      "name": "Text classification using Google Guide.ipynb",
      "provenance": [],
      "collapsed_sections": [],
      "toc_visible": true,
      "authorship_tag": "ABX9TyNx75JOnHUkCxZ6iBS1g4Zy",
      "include_colab_link": true
    },
    "kernelspec": {
      "name": "python3",
      "display_name": "Python 3"
    },
    "language_info": {
      "name": "python"
    }
  },
  "cells": [
    {
      "cell_type": "markdown",
      "metadata": {
        "id": "view-in-github",
        "colab_type": "text"
      },
      "source": [
        "<a href=\"https://colab.research.google.com/github/Ajay-user/DataScience/blob/master/Natural%20Language%20Processing/Text_classification_using_Google_Guide.ipynb\" target=\"_parent\"><img src=\"https://colab.research.google.com/assets/colab-badge.svg\" alt=\"Open In Colab\"/></a>"
      ]
    },
    {
      "cell_type": "markdown",
      "metadata": {
        "id": "EOmzr3SVYsVr"
      },
      "source": [
        "google guide : https://developers.google.com/machine-learning/guides/text-classification\n",
        "\n",
        "this guide use the Internet Movie Database (IMDb) movie reviews dataset to illustrate the workflow. This dataset contains movie reviews posted by people on the IMDb website, as well as the corresponding labels (“positive” or “negative”) indicating whether the reviewer liked the movie or not. This is a classic example of a sentiment analysis problem.\n",
        "\n",
        "## Text Classification Workflow\n",
        "Here’s a high-level overview of the workflow used to solve machine learning problems:\n",
        "\n",
        "* Step 1: Gather Data\n",
        "* Step 2: Explore Your Data\n",
        "* Step 2.5: Choose a Model*\n",
        "* Step 3: Prepare Your Data\n",
        "* Step 4: Build, Train, and Evaluate Your Model\n",
        "* Step 5: Tune Hyperparameters\n",
        "* Step 6: Deploy Your Model\n",
        "\n",
        "<img src='https://developers.google.com/machine-learning/guides/text-classification/images/Workflow.png'/>"
      ]
    },
    {
      "cell_type": "code",
      "metadata": {
        "id": "8UrEkSdhd1SY"
      },
      "source": [
        "# imports\n",
        "import tensorflow as tf\n",
        "import tensorflow_hub as hub\n",
        "import shutil\n",
        "import os\n",
        "import random\n",
        "import matplotlib.pyplot as plt\n",
        "%matplotlib inline\n",
        "import numpy as np\n",
        "import collections\n",
        "\n",
        "\n",
        "import scipy\n",
        "\n",
        "from sklearn.feature_extraction.text import TfidfVectorizer\n",
        "from sklearn.feature_selection import SelectKBest\n",
        "from sklearn.feature_selection import f_classif"
      ],
      "execution_count": 1,
      "outputs": []
    },
    {
      "cell_type": "markdown",
      "metadata": {
        "id": "Md7QWsEsaSPk"
      },
      "source": [
        "## Gather Data"
      ]
    },
    {
      "cell_type": "code",
      "metadata": {
        "colab": {
          "base_uri": "https://localhost:8080/"
        },
        "id": "XM5FwN5CYa2m",
        "outputId": "82d4767e-c8c4-4f59-9774-b94b55fd5712"
      },
      "source": [
        "data_dir = tf.keras.utils.get_file(fname='aclImbd',\n",
        "                                   origin=\"https://ai.stanford.edu/~amaas/data/sentiment/aclImdb_v1.tar.gz\",\n",
        "                                   cache_dir='.',\n",
        "                                   cache_subdir='',\n",
        "                                   untar=True)"
      ],
      "execution_count": 2,
      "outputs": [
        {
          "output_type": "stream",
          "name": "stdout",
          "text": [
            "Downloading data from https://ai.stanford.edu/~amaas/data/sentiment/aclImdb_v1.tar.gz\n",
            "84131840/84125825 [==============================] - 2s 0us/step\n",
            "84140032/84125825 [==============================] - 2s 0us/step\n"
          ]
        }
      ]
    },
    {
      "cell_type": "code",
      "metadata": {
        "colab": {
          "base_uri": "https://localhost:8080/"
        },
        "id": "NQZE3Pggaif0",
        "outputId": "7409129b-5a7c-4bdd-9d23-df98a292cec0"
      },
      "source": [
        "data_dir = os.path.join(os.path.dirname(data_dir),'aclImdb')\n",
        "print('data directory ',data_dir)"
      ],
      "execution_count": 3,
      "outputs": [
        {
          "output_type": "stream",
          "name": "stdout",
          "text": [
            "data directory  ./aclImdb\n"
          ]
        }
      ]
    },
    {
      "cell_type": "markdown",
      "metadata": {
        "id": "QIdSA4sDbv-t"
      },
      "source": [
        "## Explore the Data"
      ]
    },
    {
      "cell_type": "markdown",
      "metadata": {
        "id": "wyrvkGSsc3eB"
      },
      "source": [
        "### Create Train Test split"
      ]
    },
    {
      "cell_type": "markdown",
      "metadata": {
        "id": "uID2CssiXhE-"
      },
      "source": [
        "#### Method 1 using `text_dataset_from_directory`\n",
        "\n",
        "`text_dataset_from_directory` utility, which expects a directory structure as follows.\n",
        "\n",
        "<br>\n",
        "main_directory/<br>\n",
        "...class_a/<br>\n",
        "......a_text_1.txt<br>\n",
        "......a_text_2.txt<br>\n",
        "...class_b/<br>\n",
        "......b_text_1.txt<br>\n",
        "......b_text_2.txt<br>\n",
        "<br>\n"
      ]
    },
    {
      "cell_type": "code",
      "metadata": {
        "colab": {
          "base_uri": "https://localhost:8080/"
        },
        "id": "FIx7qOcKd9kD",
        "outputId": "6392748f-8aeb-4264-fe07-7949657b5868"
      },
      "source": [
        "#  '.'\n",
        "print('directory ',os.listdir('.'))"
      ],
      "execution_count": 4,
      "outputs": [
        {
          "output_type": "stream",
          "name": "stdout",
          "text": [
            "directory  ['.config', 'aclImdb', 'aclImbd.tar.gz', 'sample_data']\n"
          ]
        }
      ]
    },
    {
      "cell_type": "code",
      "metadata": {
        "colab": {
          "base_uri": "https://localhost:8080/"
        },
        "id": "ie74TfBRemdJ",
        "outputId": "873b6678-4027-49e9-9465-5356e49b7052"
      },
      "source": [
        "# './aclImbd'\n",
        "print('directory ',os.listdir(data_dir))"
      ],
      "execution_count": 5,
      "outputs": [
        {
          "output_type": "stream",
          "name": "stdout",
          "text": [
            "directory  ['test', 'README', 'imdbEr.txt', 'train', 'imdb.vocab']\n"
          ]
        }
      ]
    },
    {
      "cell_type": "code",
      "metadata": {
        "colab": {
          "base_uri": "https://localhost:8080/"
        },
        "id": "Lwk5F37qgknA",
        "outputId": "a4d4fa8a-75e1-443b-cb87-ec3fa9d08645"
      },
      "source": [
        "# './aclImbd\\train'\n",
        "train_dir = os.path.join(data_dir,'train')\n",
        "# './aclImbd\\test'\n",
        "test_dir = os.path.join(data_dir,'test')\n",
        "print('train directory ',os.listdir(train_dir))\n",
        "print('test directory ',os.listdir(test_dir))"
      ],
      "execution_count": 6,
      "outputs": [
        {
          "output_type": "stream",
          "name": "stdout",
          "text": [
            "train directory  ['neg', 'urls_pos.txt', 'unsupBow.feat', 'pos', 'urls_unsup.txt', 'urls_neg.txt', 'labeledBow.feat', 'unsup']\n",
            "test directory  ['neg', 'urls_pos.txt', 'pos', 'urls_neg.txt', 'labeledBow.feat']\n"
          ]
        }
      ]
    },
    {
      "cell_type": "code",
      "metadata": {
        "colab": {
          "base_uri": "https://localhost:8080/"
        },
        "id": "uiujAQmJhAVY",
        "outputId": "67e0853c-6633-4b1a-c5ed-683e70109108"
      },
      "source": [
        "remove_dir = os.path.join(train_dir, 'unsup')\n",
        "shutil.rmtree(remove_dir)\n",
        "print('train directory ',os.listdir(train_dir))"
      ],
      "execution_count": 7,
      "outputs": [
        {
          "output_type": "stream",
          "name": "stdout",
          "text": [
            "train directory  ['neg', 'urls_pos.txt', 'unsupBow.feat', 'pos', 'urls_unsup.txt', 'urls_neg.txt', 'labeledBow.feat']\n"
          ]
        }
      ]
    },
    {
      "cell_type": "code",
      "metadata": {
        "colab": {
          "base_uri": "https://localhost:8080/"
        },
        "id": "mvkPv0h_bh6L",
        "outputId": "4fb74023-ffcb-43ab-abc1-88a7bfd151fd"
      },
      "source": [
        "# method 1  using 'tf.keras.preprocessing.text_dataset_from_directory'\n",
        "\n",
        "raw_train_ds = tf.keras.preprocessing.text_dataset_from_directory(directory=train_dir,seed=42,validation_split=0.2,subset='training')\n",
        "raw_val_ds = tf.keras.preprocessing.text_dataset_from_directory(directory=train_dir,seed=42,validation_split=0.2,subset='validation')\n",
        "raw_test_ds = tf.keras.preprocessing.text_dataset_from_directory(directory=test_dir,seed=42)"
      ],
      "execution_count": 8,
      "outputs": [
        {
          "output_type": "stream",
          "name": "stdout",
          "text": [
            "Found 25000 files belonging to 2 classes.\n",
            "Using 20000 files for training.\n",
            "Found 25000 files belonging to 2 classes.\n",
            "Using 5000 files for validation.\n",
            "Found 25000 files belonging to 2 classes.\n"
          ]
        }
      ]
    },
    {
      "cell_type": "markdown",
      "metadata": {
        "id": "siYE-tk_XuFe"
      },
      "source": [
        "#### Method 2 from scratch using python"
      ]
    },
    {
      "cell_type": "code",
      "metadata": {
        "id": "n3yQUDJQiEeD"
      },
      "source": [
        "# method 2  from scratch using python\n",
        "\n",
        "def train_test_split(data_dir):\n",
        "\n",
        "  train_dir = os.path.join(data_dir,'train')\n",
        "  test_dir = os.path.join(data_dir,'test')\n",
        "\n",
        "  train_data = []\n",
        "  train_labels = []\n",
        "  for review in ['pos', 'neg']:\n",
        "    data_files = os.path.join(train_dir, review)\n",
        "    for fname in sorted(os.listdir(data_files)):\n",
        "      # file directory\n",
        "      f_dir = os.path.join(data_files,fname)\n",
        "      # read the file and append \n",
        "      with open(f_dir) as f:\n",
        "        train_data.append(f.read())\n",
        "      # append the corresponding label\n",
        "      train_labels.append(0 if review == 'neg' else 1)\n",
        "\n",
        "  test_data = []\n",
        "  test_labels = []\n",
        "  for review in ['pos', 'neg']:\n",
        "    data_files = os.path.join(test_dir, review)\n",
        "    for fname in sorted(os.listdir(data_files)):\n",
        "      # file directory\n",
        "      f_dir = os.path.join(data_files,fname)\n",
        "      # read the file and append \n",
        "      with open(f_dir) as f:\n",
        "        test_data.append(f.read())\n",
        "      # append the corresponding label\n",
        "      test_labels.append(0 if review == 'neg' else 1)\n",
        "\n",
        "  # Shuffle the training data and labels.\n",
        "  seed = 42\n",
        "  random.seed(seed)\n",
        "  random.shuffle(train_data)\n",
        "  random.seed(seed)\n",
        "  random.shuffle(train_labels)\n",
        "\n",
        "  return ((train_data, np.array(train_labels)),(test_data, np.array(test_labels)))\n",
        "\n",
        "\n",
        "\n",
        "# create validtion split from train split\n",
        "def val_split(train_data, train_labels, split_size):\n",
        "  # create validation-set from training-set\n",
        "  split = round(len(train_data)*0.2)\n",
        "  val_data = train_data[:split]\n",
        "  val_labels = train_labels[:split]\n",
        "  train_data = train_data[split:]\n",
        "  train_labels = train_labels[split:]\n",
        "  return ((train_data, train_labels),(val_data, val_labels))\n"
      ],
      "execution_count": 9,
      "outputs": []
    },
    {
      "cell_type": "code",
      "metadata": {
        "colab": {
          "base_uri": "https://localhost:8080/"
        },
        "id": "JNrB3VKXiqKB",
        "outputId": "c0a4849c-1a29-479d-e822-f66d0f365b11"
      },
      "source": [
        "(train_data, train_labels),(test_data, test_labels) = train_test_split(data_dir)\n",
        "print('Size of training data',len(train_data))\n",
        "print('Size of training labels',len(train_labels))\n",
        "print('Size of testing data',len(test_data))\n",
        "print('Size of testing labels',len(test_labels))\n",
        "\n",
        "print('Create Validation data from training data')\n",
        "(train_data, train_labels),(val_data, val_labels) = val_split(train_data, train_labels, split_size=0.2)\n",
        "print('Size of training data',len(train_data))\n",
        "print('Size of training labels',len(train_labels))\n",
        "print('Size of validation data',len(val_data))\n",
        "print('Size of validation labels',len(val_labels))"
      ],
      "execution_count": 10,
      "outputs": [
        {
          "output_type": "stream",
          "name": "stdout",
          "text": [
            "Size of training data 25000\n",
            "Size of training labels 25000\n",
            "Size of testing data 25000\n",
            "Size of testing labels 25000\n",
            "Create Validation data from training data\n",
            "Size of training data 20000\n",
            "Size of training labels 20000\n",
            "Size of validation data 5000\n",
            "Size of validation labels 5000\n"
          ]
        }
      ]
    },
    {
      "cell_type": "markdown",
      "metadata": {
        "id": "4uplVsLLum2_"
      },
      "source": [
        "### Collect Key Metrics\n",
        "Collect the following important metrics that can help characterize your text classification problem:\n",
        "\n",
        "* Number of samples: Total number of examples you have in the data.\n",
        "\n",
        "* Number of classes: Total number of topics or categories in the data.\n",
        "\n",
        "* Number of samples per class: Number of samples per class (topic/category). In a balanced dataset, all classes will have a similar number of samples; in an imbalanced dataset, the number of samples in each class will vary widely.\n",
        "\n",
        "* Number of words per sample: Median number of words in one sample.\n",
        "\n",
        "* Frequency distribution of words: Distribution showing the frequency (number of occurrences) of each word in the dataset.\n",
        "\n",
        "* Distribution of sample length: Distribution showing the number of words per sample in the dataset."
      ]
    },
    {
      "cell_type": "markdown",
      "metadata": {
        "id": "wByPrPlW00Ah"
      },
      "source": [
        "Total number of examples you have in the data."
      ]
    },
    {
      "cell_type": "code",
      "metadata": {
        "colab": {
          "base_uri": "https://localhost:8080/"
        },
        "id": "DIpWlW0ZlfJx",
        "outputId": "8b2b5677-97ae-4d45-a033-cc90cc1f6bd3"
      },
      "source": [
        "number_of_samples = len(train_data)\n",
        "print('Number of samples', number_of_samples)"
      ],
      "execution_count": 11,
      "outputs": [
        {
          "output_type": "stream",
          "name": "stdout",
          "text": [
            "Number of samples 20000\n"
          ]
        }
      ]
    },
    {
      "cell_type": "markdown",
      "metadata": {
        "id": "GcmKhMR102fE"
      },
      "source": [
        "Total number of topics or categories in the data"
      ]
    },
    {
      "cell_type": "code",
      "metadata": {
        "colab": {
          "base_uri": "https://localhost:8080/"
        },
        "id": "StIfVPBZvcvZ",
        "outputId": "1c504958-9314-44e4-ff83-76e731e04a62"
      },
      "source": [
        "number_of_classes = len(np.unique(train_labels))\n",
        "print('Number of classes', number_of_classes)"
      ],
      "execution_count": 12,
      "outputs": [
        {
          "output_type": "stream",
          "name": "stdout",
          "text": [
            "Number of classes 2\n"
          ]
        }
      ]
    },
    {
      "cell_type": "markdown",
      "metadata": {
        "id": "5-CCVysX077c"
      },
      "source": [
        "In a balanced dataset, all classes will have a similar number of samples; in an imbalanced dataset, the number of samples in each class will vary widely."
      ]
    },
    {
      "cell_type": "code",
      "metadata": {
        "colab": {
          "base_uri": "https://localhost:8080/"
        },
        "id": "1r5SxUBIwF5o",
        "outputId": "4945debd-f0a2-4462-da61-17f2470c10df"
      },
      "source": [
        "number_of_samples_per_class = {label:count for label,count in zip(*np.unique(train_labels, return_counts=True))}\n",
        "print('Number of Samples per class', number_of_samples_per_class)"
      ],
      "execution_count": 13,
      "outputs": [
        {
          "output_type": "stream",
          "name": "stdout",
          "text": [
            "Number of Samples per class {0: 10011, 1: 9989}\n"
          ]
        }
      ]
    },
    {
      "cell_type": "markdown",
      "metadata": {
        "id": "gWaHPZIG1AkR"
      },
      "source": [
        "Number of words per sample: Median number of words"
      ]
    },
    {
      "cell_type": "code",
      "metadata": {
        "colab": {
          "base_uri": "https://localhost:8080/"
        },
        "id": "VVkwQvOpxVPA",
        "outputId": "913eb715-42bd-4114-be3d-8a2e05b008eb"
      },
      "source": [
        "number_of_words_per_sample = [len(sample.split()) for sample in train_data]\n",
        "median_words_per_sample = int(np.median(number_of_words_per_sample))\n",
        "print('Number of words per sample',median_words_per_sample)"
      ],
      "execution_count": 14,
      "outputs": [
        {
          "output_type": "stream",
          "name": "stdout",
          "text": [
            "Number of words per sample 174\n"
          ]
        }
      ]
    },
    {
      "cell_type": "markdown",
      "metadata": {
        "id": "bTr1e8WK1LWI"
      },
      "source": [
        "Distribution showing the frequency (number of occurrences) of each word in the dataset."
      ]
    },
    {
      "cell_type": "code",
      "metadata": {
        "id": "02NHEAJuyXl7"
      },
      "source": [
        "# Frequency distrubution of words\n",
        "vocab = collections.defaultdict(lambda : 0)\n",
        "for sample in train_data:\n",
        "  for token in sample.split():\n",
        "    vocab[token] += 1"
      ],
      "execution_count": 15,
      "outputs": []
    },
    {
      "cell_type": "code",
      "metadata": {
        "id": "jkkhDzrtyZKQ"
      },
      "source": [
        "# sort the tokens based on frequency\n",
        "vocab_sorted = sorted(vocab.items(), key=lambda x:x[1], reverse=True)"
      ],
      "execution_count": 16,
      "outputs": []
    },
    {
      "cell_type": "code",
      "metadata": {
        "colab": {
          "base_uri": "https://localhost:8080/",
          "height": 295
        },
        "id": "vGXjmTwY2NT0",
        "outputId": "4aa6373e-4453-4789-b41b-4b62b767accd"
      },
      "source": [
        "x, height = [key for key, val in vocab_sorted[:10]],[val for key, val in vocab_sorted[:10]]\n",
        "plt.bar(x, height);\n",
        "plt.xlabel('N grams')\n",
        "plt.ylabel('Frequency')\n",
        "plt.title('Frequency distribution of n-grams');"
      ],
      "execution_count": 17,
      "outputs": [
        {
          "output_type": "display_data",
          "data": {
            "image/png": "[encoded data removed]",
            "text/plain": [
              "<Figure size 432x288 with 1 Axes>"
            ]
          },
          "metadata": {
            "needs_background": "light"
          }
        }
      ]
    },
    {
      "cell_type": "markdown",
      "metadata": {
        "id": "3nL_egM5CZu_"
      },
      "source": [
        "Distribution of sample length:"
      ]
    },
    {
      "cell_type": "code",
      "metadata": {
        "colab": {
          "base_uri": "https://localhost:8080/",
          "height": 295
        },
        "id": "T2EFoyCN3KE_",
        "outputId": "2aa4a1b8-5a81-465c-98e4-d4a6b0df3b97"
      },
      "source": [
        "plt.hist([len(sample) for sample in train_data],bins=50);\n",
        "plt.xlabel('Length of a sample')\n",
        "plt.ylabel('Number of samples')\n",
        "plt.title('Sample length distribution');"
      ],
      "execution_count": 18,
      "outputs": [
        {
          "output_type": "display_data",
          "data": {
            "image/png": "[encoded data removed]",
            "text/plain": [
              "<Figure size 432x288 with 1 Axes>"
            ]
          },
          "metadata": {
            "needs_background": "light"
          }
        }
      ]
    },
    {
      "cell_type": "markdown",
      "metadata": {
        "id": "4vcK2RG-Dc9E"
      },
      "source": [
        "## Choose a model\n",
        "<img src='https://developers.google.com/machine-learning/guides/text-classification/images/TextClassificationFlowchart.png'>"
      ]
    },
    {
      "cell_type": "markdown",
      "metadata": {
        "id": "x765zzmbGgz8"
      },
      "source": [
        "The ratio of “number of samples” (S) to “number of words per sample” (W) correlates with which model performs well."
      ]
    },
    {
      "cell_type": "code",
      "metadata": {
        "id": "kbemcnRH-LDb",
        "colab": {
          "base_uri": "https://localhost:8080/"
        },
        "outputId": "186562c9-cf73-40e0-ea6c-dce6e99c1ded"
      },
      "source": [
        "ratio = number_of_samples / median_words_per_sample\n",
        "print('The ratio of “number of samples” (S) to “number of words per sample” (W) is', ratio)"
      ],
      "execution_count": 19,
      "outputs": [
        {
          "output_type": "stream",
          "name": "stdout",
          "text": [
            "The ratio of “number of samples” (S) to “number of words per sample” (W) is 114.94252873563218\n"
          ]
        }
      ]
    },
    {
      "cell_type": "markdown",
      "metadata": {
        "id": "8oY3E40OIAQv"
      },
      "source": [
        "\n",
        " \n",
        "When the value for this ratio is small (less than 1500) use a sequence model small multi-layer perceptrons that take n-grams as input perform better or at least as well as sequence models. \n",
        " \n",
        "MLPs are simple to define and understand, and they take much less compute time than sequence models.\n",
        "\n",
        "When the value for this ratio is large (>= 1500), use a sequence model"
      ]
    },
    {
      "cell_type": "markdown",
      "metadata": {
        "id": "O8vsLpK1JB1f"
      },
      "source": [
        "## Prepare your Data"
      ]
    },
    {
      "cell_type": "markdown",
      "metadata": {
        "id": "RITI9iINOsCx"
      },
      "source": [
        "### N-grams\n",
        "\n",
        "* Tokenize text samples into word `uni+bigrams`,\n",
        "* Vectorize using `tf-idf` encoding,\n",
        "* Select only the top 20,000 features from the vector of tokens by discarding\n",
        " tokens that appear fewer than 2 times and using `f_classif` to calculate feature importance."
      ]
    },
    {
      "cell_type": "markdown",
      "metadata": {
        "id": "uN6-FB-xXFDv"
      },
      "source": [
        "#### Method 1 using Tensorflow `tf.keras.layers.TextVectorization`\n",
        "`tf.keras.layers.experimental.preprocessing.TextVectorization`"
      ]
    },
    {
      "cell_type": "code",
      "metadata": {
        "id": "UkhE4K_KGwT3"
      },
      "source": [
        "# method 1 using 'tf.keras.layers.experimental.preprocessing.TextVectorization'\n",
        "\n",
        "tf_n_grams = tf.keras.layers.experimental.preprocessing.TextVectorization(max_tokens=20000,\n",
        "                                                                          ngrams=(1, 2),\n",
        "                                                                          output_mode='tf_idf',\n",
        "                                                                          pad_to_max_tokens=True)\n",
        "\n",
        "# create a text only dataset and call adapt on it\n",
        "text_ds = raw_train_ds.map(lambda text,label:text)\n",
        "# learn the vocabulary\n",
        "tf_n_grams.adapt(text_ds)"
      ],
      "execution_count": 20,
      "outputs": []
    },
    {
      "cell_type": "code",
      "metadata": {
        "id": "O0-rmGN2UtWD"
      },
      "source": [
        "# utility that standardize, tokenize and vectorize\n",
        "def tf_vectorize_n_grams(text, label):\n",
        "  text = tf.expand_dims(text, -1)\n",
        "  return tf_n_grams(text), label"
      ],
      "execution_count": 21,
      "outputs": []
    },
    {
      "cell_type": "code",
      "metadata": {
        "id": "87QfM5xYTRcq"
      },
      "source": [
        "# standardize, tokenize and vectorize the dataset\n",
        "n_grams_train_ds = raw_train_ds.map(tf_vectorize_n_grams)\n",
        "n_grams_val_ds = raw_val_ds.map(tf_vectorize_n_grams)\n",
        "n_grams_test_ds = raw_test_ds.map(tf_vectorize_n_grams)"
      ],
      "execution_count": 22,
      "outputs": []
    },
    {
      "cell_type": "markdown",
      "metadata": {
        "id": "1F-w16xNXWIg"
      },
      "source": [
        "#### Method 2 using Sklearn `sklearn.feature_extraction.text.TfidfVectorizer`"
      ]
    },
    {
      "cell_type": "code",
      "metadata": {
        "id": "vNTpckvMW5qL"
      },
      "source": [
        "def sklearn_vectorize_n_grams(train_data, train_labels, val_data, test_data):\n",
        "  # initialize TfidfVectorizer\n",
        "  tf_idf = TfidfVectorizer(decode_error='replace',\n",
        "                           strip_accents='unicode',\n",
        "                           analyzer='word',\n",
        "                           ngram_range=(1, 2),\n",
        "                           min_df=2,\n",
        "                           )\n",
        "  # Learn vocabulary from training texts and vectorize training texts.                         \n",
        "  train_text = tf_idf.fit_transform(train_data)\n",
        "  # vectorize validation and test texts.\n",
        "  val_text = tf_idf.transform(val_data)\n",
        "  test_text = tf_idf.transform(test_data)\n",
        "\n",
        "\n",
        "  # Select top 'k' of the vectorized features.\n",
        "  top_k = SelectKBest(f_classif, k=min(20000, train_text.shape[1]))\n",
        "  train_text = top_k.fit_transform(train_text, train_labels)\n",
        "  val_text = top_k.transform(val_text)\n",
        "  test_text = top_k.transform(test_text)\n",
        "\n",
        "  return train_text, val_text, test_text"
      ],
      "execution_count": 23,
      "outputs": []
    },
    {
      "cell_type": "code",
      "metadata": {
        "id": "u9xzB2lucY8X"
      },
      "source": [
        "# Convert a collection of raw documents to a matrix of TF-IDF features.\n",
        "n_grams_train_data, n_grams_val_data, n_grams_test_data = sklearn_vectorize_n_grams(train_data, train_labels, val_data, test_data)"
      ],
      "execution_count": 24,
      "outputs": []
    },
    {
      "cell_type": "markdown",
      "metadata": {
        "id": "k0OwVdExdPuG"
      },
      "source": [
        "With n-gram vector representation, we discard a lot of information about word order and grammar (at best, we can maintain some partial ordering information when n > 1).\n",
        "\n",
        "This is called a bag-of-words approach. This representation is used in conjunction with models that don’t take ordering into account, such as logistic regression, multi-layer perceptrons, gradient boosting machines, support vector machines."
      ]
    },
    {
      "cell_type": "markdown",
      "metadata": {
        "id": "71cHFhCTR08W"
      },
      "source": [
        "### Sequence Vector\n",
        "\n",
        "For some text samples, word order is critical to the text’s meaning. For example, the sentences, “I used to hate my commute. My new bike changed that completely” can be understood only when read in order. Models such as CNNs/RNNs can infer meaning from the order of words in a sample. For these models, we represent the text as a sequence of tokens, preserving order.\n",
        "\n",
        "**Tokenization**<br>\n",
        "Text can be represented as either a sequence of characters, or a sequence of words. We have found that using word-level representation provides better performance than character tokens. This is also the general norm that is followed by industry. Using character tokens makes sense only if texts have lots of typos, which isn’t normally the case.\n",
        "\n",
        "**Vectorization**<br>\n",
        "Once we have converted our text samples into sequences of words, we need to turn these sequences into numerical vectors.There are two options available to vectorize the token sequences:\n",
        "* One Hot Encoding<br>\n",
        "Sequences are represented using word vectors in n- dimensional space where n = size of vocabulary. This representation works great when we are tokenizing as characters, and the vocabulary is therefore small. When we are tokenizing as words, the vocabulary will usually have tens of thousands of tokens, making the one-hot vectors very sparse and inefficient.\n",
        "* Word Embedding<br>\n",
        "Words have meaning(s) associated with them. As a result, we can represent word tokens in a dense vector space (~few hundred real numbers), where the location and distance between words indicates how similar they are semantically\n",
        "\n",
        "Sequence models often have such an embedding layer as their first layer. This layer learns to turn word index sequences into word embedding vectors during the training process, such that each word index gets mapped to a dense vector of real values representing that word’s location in semantic space\n",
        "\n",
        "Not all words in our data contribute to label predictions. We can optimize our learning process by discarding rare or irrelevant words from our vocabulary. In fact, we observe that using the most frequent 20,000 features is generally sufficient. This holds true for n-gram models as well \n",
        "\n",
        "steps:<br>\n",
        "* Tokenizes the texts into words\n",
        "* Creates a vocabulary using the top 20,000 tokens\n",
        "* Converts the tokens into sequence vectors\n",
        "* Pads the sequences to a fixed sequence length"
      ]
    },
    {
      "cell_type": "markdown",
      "metadata": {
        "id": "SjvO2db7VQgg"
      },
      "source": [
        "#### Method 1 using `tf.keras.layers.TextVectorization`"
      ]
    },
    {
      "cell_type": "code",
      "metadata": {
        "id": "SgvqZKmMSdyz"
      },
      "source": [
        "tf_text_vectorize = tf.keras.layers.TextVectorization(max_tokens=20000,\n",
        "                                                               output_mode='int',\n",
        "                                                               output_sequence_length=500)"
      ],
      "execution_count": 25,
      "outputs": []
    },
    {
      "cell_type": "code",
      "metadata": {
        "id": "Y2o_f_KqSdvz"
      },
      "source": [
        "# create a text only dataset and call adapt\n",
        "text_ds = raw_train_ds.map(lambda text,label:text)\n",
        "\n",
        "# learn the vocab\n",
        "tf_text_vectorize.adapt(text_ds)"
      ],
      "execution_count": 26,
      "outputs": []
    },
    {
      "cell_type": "code",
      "metadata": {
        "id": "dTgaTtJ6dF88"
      },
      "source": [
        "# utitliy fn for standardize , tokenize , vectorize\n",
        "def tf_vectorize_text_to_sequence(text, label):\n",
        "  text = tf.expand_dims(text, -1)\n",
        "  return tf_text_vectorize(text), label"
      ],
      "execution_count": 27,
      "outputs": []
    },
    {
      "cell_type": "code",
      "metadata": {
        "id": "ZX0YkzXIdb03"
      },
      "source": [
        "# standardize, tokenize and vectorize the dataset\n",
        "sequence_train_ds = raw_train_ds.map(tf_vectorize_text_to_sequence, num_parallel_calls=tf.data.AUTOTUNE)\n",
        "sequence_val_ds = raw_val_ds.map(tf_vectorize_text_to_sequence, num_parallel_calls=tf.data.AUTOTUNE)\n",
        "sequence_test_ds = raw_test_ds.map(tf_vectorize_text_to_sequence, num_parallel_calls=tf.data.AUTOTUNE)"
      ],
      "execution_count": 28,
      "outputs": []
    },
    {
      "cell_type": "markdown",
      "metadata": {
        "id": "JVu6ZywTaZhA"
      },
      "source": [
        "#### Method 2 using `tf.keras.preprocessing`\n",
        "\n",
        "`text_to_word_sequence(...)`: Converts a text to a sequence of words (or tokens).\n",
        "\n",
        "`pad_sequences(...)`: Pads sequences to the same length.\n",
        "\n"
      ]
    },
    {
      "cell_type": "code",
      "metadata": {
        "id": "hsFomtTcXtmc"
      },
      "source": [
        "def tf_preprocess_text(train_data, val_data, test_data):\n",
        "  # initialize a tokenizer\n",
        "  tokenizer = tf.keras.preprocessing.text.Tokenizer(num_words=20000)\n",
        "  # learn the vocab\n",
        "  tokenizer.fit_on_texts(train_data)\n",
        "  # Vectorize training, validation and testing texts.\n",
        "  train_text = tokenizer.texts_to_sequences(train_data)\n",
        "  val_text = tokenizer.texts_to_sequences(val_data)\n",
        "  test_text = tokenizer.texts_to_sequences(test_data)\n",
        "  # get max length\n",
        "  max_len = len(max(train_text, key=len))\n",
        "  if max_len > 500:\n",
        "    max_len = 500\n",
        "  \n",
        "  # Fix sequence length to max value. Sequences shorter than the length are\n",
        "  # padded in the beginning and sequences longer are truncated\n",
        "  # at the beginning.\n",
        "  train_text = tf.keras.preprocessing.sequence.pad_sequences(train_text, maxlen=max_len)\n",
        "  val_text = tf.keras.preprocessing.sequence.pad_sequences(val_text, maxlen=max_len)\n",
        "  test_text = tf.keras.preprocessing.sequence.pad_sequences(test_text, maxlen=max_len)\n",
        "\n",
        "  return train_text, val_text, test_text"
      ],
      "execution_count": 29,
      "outputs": []
    },
    {
      "cell_type": "code",
      "metadata": {
        "id": "X0nisH9MgeKt"
      },
      "source": [
        "# preprocessing text to convert into sequence of word indices\n",
        "sequence_train_data, sequence_val_data, sequence_test_data = tf_preprocess_text(train_data, val_data, test_data)"
      ],
      "execution_count": 30,
      "outputs": []
    },
    {
      "cell_type": "markdown",
      "metadata": {
        "id": "hezCNgrtiD1l"
      },
      "source": [
        "## Build, Train, and Evaluate Your Model\n",
        "\n",
        "The input layer and the intermediate layers will be constructed differently, depending on whether we’re building an n-gram or a sequence model. But irrespective of model type, the last layer will be the same for a given problem.\n",
        "\n",
        "<img src='https://developers.google.com/machine-learning/guides/text-classification/images/LastLayer.png'>"
      ]
    },
    {
      "cell_type": "code",
      "metadata": {
        "id": "d1Zegsrlhc_T"
      },
      "source": [
        "def get_last_layer_units_and_activation(num_class):\n",
        "  if num_class == 2:\n",
        "    units = 1\n",
        "    activation = 'sigmoid'\n",
        "  else:\n",
        "    units = num_class \n",
        "    activation = 'softmax'\n",
        "  \n",
        "  return units, activation"
      ],
      "execution_count": 31,
      "outputs": []
    },
    {
      "cell_type": "markdown",
      "metadata": {
        "id": "D-0k_hAvkZb_"
      },
      "source": [
        "When the S/W ratio is small, we’ve found that n-gram models perform better than sequence models. Sequence models are better when there are a large number of small, dense vectors. This is because embedding relationships are learned in dense space, and this happens best over many samples."
      ]
    },
    {
      "cell_type": "markdown",
      "metadata": {
        "id": "vG7dOB3IoGXF"
      },
      "source": [
        "### N-gram Model"
      ]
    },
    {
      "cell_type": "code",
      "metadata": {
        "id": "ry76mDZwhqgi"
      },
      "source": [
        "def mlp(units, activation, layers, dropout_rate, num_class, input_shape):\n",
        "  # last-layer units & activation\n",
        "  op_units, op_activation = get_last_layer_units_and_activation(num_class)\n",
        "  # sequential model\n",
        "  model = tf.keras.Sequential()\n",
        "  # model.add(tf.keras.layers.Dropout(rate=dropout_rate, input_shape=input_shape))\n",
        "  for layer in range(layers-1):\n",
        "    model.add(tf.keras.layers.Dense(units=units, activation=activation, input_shape=input_shape))\n",
        "    model.add(tf.keras.layers.Dropout(rate=dropout_rate))\n",
        "  # last-layer\n",
        "  model.add(tf.keras.layers.Dense(op_units))\n",
        "  return model"
      ],
      "execution_count": 32,
      "outputs": []
    },
    {
      "cell_type": "code",
      "metadata": {
        "id": "1LWpZycRklwb"
      },
      "source": [
        "# early stopping callback\n",
        "early_stopping = tf.keras.callbacks.EarlyStopping(monitor='val_loss', patience=1)"
      ],
      "execution_count": 33,
      "outputs": []
    },
    {
      "cell_type": "markdown",
      "metadata": {
        "id": "11VvVYOji6Qc"
      },
      "source": [
        "#### MLP model using data preprocessed with TF TextVectorization (Method 1)"
      ]
    },
    {
      "cell_type": "code",
      "metadata": {
        "id": "yxDghNyTi56f"
      },
      "source": [
        "# create an instance of MLP model\n",
        "mlp_model_1 = mlp(units=32,\n",
        "                activation='relu',\n",
        "                layers=2,\n",
        "                dropout_rate=0.5,\n",
        "                num_class=number_of_classes,\n",
        "                input_shape=n_grams_train_data.shape[1:])"
      ],
      "execution_count": 34,
      "outputs": []
    },
    {
      "cell_type": "code",
      "metadata": {
        "colab": {
          "base_uri": "https://localhost:8080/"
        },
        "id": "Fe9Ea7T_jaYN",
        "outputId": "8d5d19fd-e868-4e3b-828d-260b515fbac8"
      },
      "source": [
        "mlp_model_1.summary()"
      ],
      "execution_count": 35,
      "outputs": [
        {
          "output_type": "stream",
          "name": "stdout",
          "text": [
            "Model: \"sequential\"\n",
            "_________________________________________________________________\n",
            "Layer (type)                 Output Shape              Param #   \n",
            "=================================================================\n",
            "dense (Dense)                (None, 32)                640032    \n",
            "_________________________________________________________________\n",
            "dropout (Dropout)            (None, 32)                0         \n",
            "_________________________________________________________________\n",
            "dense_1 (Dense)              (None, 1)                 33        \n",
            "=================================================================\n",
            "Total params: 640,065\n",
            "Trainable params: 640,065\n",
            "Non-trainable params: 0\n",
            "_________________________________________________________________\n"
          ]
        }
      ]
    },
    {
      "cell_type": "code",
      "metadata": {
        "id": "IUQK6wecjZ-R"
      },
      "source": [
        "# compile the model\n",
        "mlp_model_1.compile(optimizer='adam',\n",
        "                    loss=tf.keras.losses.BinaryCrossentropy(from_logits=True),\n",
        "                    metrics=['accuracy'])"
      ],
      "execution_count": 36,
      "outputs": []
    },
    {
      "cell_type": "code",
      "metadata": {
        "colab": {
          "base_uri": "https://localhost:8080/"
        },
        "id": "kNv8fDzRjZ4r",
        "outputId": "28dffacd-2f9b-4a22-cfe5-7c4c19536382"
      },
      "source": [
        "# training\n",
        "mlp_model_1_history = mlp_model_1.fit(n_grams_train_ds,\n",
        "                                      epochs=5,\n",
        "                                      callbacks=[early_stopping],\n",
        "                                      validation_data=n_grams_val_ds )"
      ],
      "execution_count": 37,
      "outputs": [
        {
          "output_type": "stream",
          "name": "stdout",
          "text": [
            "Epoch 1/5\n",
            "625/625 [==============================] - 14s 21ms/step - loss: 0.4512 - accuracy: 0.7828 - val_loss: 0.3033 - val_accuracy: 0.8428\n",
            "Epoch 2/5\n",
            "625/625 [==============================] - 13s 20ms/step - loss: 0.2395 - accuracy: 0.8907 - val_loss: 0.2537 - val_accuracy: 0.8998\n",
            "Epoch 3/5\n",
            "625/625 [==============================] - 13s 20ms/step - loss: 0.1820 - accuracy: 0.9144 - val_loss: 0.2803 - val_accuracy: 0.8952\n"
          ]
        }
      ]
    },
    {
      "cell_type": "code",
      "metadata": {
        "colab": {
          "base_uri": "https://localhost:8080/"
        },
        "id": "oCCe4zBdmVxY",
        "outputId": "c432b980-bdd8-4842-8877-8393e244f7b9"
      },
      "source": [
        "loss, accuracy = mlp_model_1.evaluate(n_grams_test_ds)\n",
        "print('Loss is ',loss)\n",
        "print('Accuracy is',accuracy)"
      ],
      "execution_count": 38,
      "outputs": [
        {
          "output_type": "stream",
          "name": "stdout",
          "text": [
            "782/782 [==============================] - 10s 12ms/step - loss: 0.2984 - accuracy: 0.8842\n",
            "Loss is  0.29843515157699585\n",
            "Accuracy is 0.8841999769210815\n"
          ]
        }
      ]
    },
    {
      "cell_type": "markdown",
      "metadata": {
        "id": "LmfMPm_WiojM"
      },
      "source": [
        "#### MLP model using data preprocessed with Sklearn (method 2)"
      ]
    },
    {
      "cell_type": "code",
      "metadata": {
        "id": "wFosD2sJkHSi"
      },
      "source": [
        "# create an instance of MLP model\n",
        "mlp_model = mlp(units=32,\n",
        "                activation='relu',\n",
        "                layers=2,\n",
        "                dropout_rate=0.5,\n",
        "                num_class=number_of_classes,\n",
        "                input_shape=n_grams_train_data.shape[1:])"
      ],
      "execution_count": 64,
      "outputs": []
    },
    {
      "cell_type": "code",
      "metadata": {
        "colab": {
          "base_uri": "https://localhost:8080/"
        },
        "id": "uFm_tIYVnLbh",
        "outputId": "9faa4341-23cb-46bc-b307-fa3246a371f2"
      },
      "source": [
        "# model summary\n",
        "mlp_model.summary()"
      ],
      "execution_count": 65,
      "outputs": [
        {
          "output_type": "stream",
          "name": "stdout",
          "text": [
            "Model: \"sequential_6\"\n",
            "_________________________________________________________________\n",
            "Layer (type)                 Output Shape              Param #   \n",
            "=================================================================\n",
            "dense_12 (Dense)             (None, 32)                640032    \n",
            "_________________________________________________________________\n",
            "dropout_6 (Dropout)          (None, 32)                0         \n",
            "_________________________________________________________________\n",
            "dense_13 (Dense)             (None, 1)                 33        \n",
            "=================================================================\n",
            "Total params: 640,065\n",
            "Trainable params: 640,065\n",
            "Non-trainable params: 0\n",
            "_________________________________________________________________\n"
          ]
        }
      ]
    },
    {
      "cell_type": "code",
      "metadata": {
        "id": "DkJYHiPCnNCD"
      },
      "source": [
        "# compile the model\n",
        "mlp_model.compile(optimizer='adam',\n",
        "                  loss=tf.keras.losses.BinaryCrossentropy(from_logits=True),\n",
        "                  metrics=['accuracy'])"
      ],
      "execution_count": 66,
      "outputs": []
    },
    {
      "cell_type": "code",
      "metadata": {
        "id": "DtX92MUIp0LW"
      },
      "source": [
        "# early stopping callback\n",
        "early_stopping = tf.keras.callbacks.EarlyStopping(monitor='val_loss', patience=1)"
      ],
      "execution_count": 67,
      "outputs": []
    },
    {
      "cell_type": "markdown",
      "metadata": {
        "id": "IYBKUo4xz2LG"
      },
      "source": [
        "By convention, indices should be sorted in row-major order (or equivalently lexicographic order on the tuples indices[i]). This is not enforced when SparseTensor objects are constructed, but most ops assume correct ordering. If the ordering of sparse tensor st is wrong, a fixed version can be obtained by calling `tf.sparse.reorder(st)`. or `scipy.sparse.csr_matrix.sort_indices`\n",
        "\n",
        "`csr_matrix.sort_indices()`\n",
        "Sort the indices of this matrix in place"
      ]
    },
    {
      "cell_type": "code",
      "metadata": {
        "id": "EB5yTcWFztwy"
      },
      "source": [
        "# First you convert the matrix to COO format.\n",
        "#  Then you extract the indices, values, and shape and pass those directly to the SparseTensor constructor.\n",
        "def convert_sparse_matrix_to_tf_sparse(sparse):\n",
        "  coo = sparse.tocoo()\n",
        "  indices = np.mat([coo.row, coo.col]).transpose()\n",
        "  return tf.sparse.reorder(tf.SparseTensor(indices=indices, values=coo.data, dense_shape=coo.shape))\n",
        "\n",
        "n_grams_train_data_tf = convert_sparse_matrix_to_tf_sparse(n_grams_train_data)\n",
        "n_grams_val_data_tf = convert_sparse_matrix_to_tf_sparse(n_grams_val_data)\n",
        "n_grams_test_data_tf = convert_sparse_matrix_to_tf_sparse(n_grams_test_data)"
      ],
      "execution_count": 43,
      "outputs": []
    },
    {
      "cell_type": "code",
      "metadata": {
        "colab": {
          "base_uri": "https://localhost:8080/"
        },
        "id": "G173d9v8piOI",
        "outputId": "396e18d5-6613-4e10-b096-c28ea1ffcb84"
      },
      "source": [
        "# train the mlp\n",
        "mlp_history = mlp_model.fit(x=n_grams_train_data_tf,\n",
        "              y=train_labels,\n",
        "              batch_size=128,\n",
        "              epochs=5,\n",
        "              callbacks=[early_stopping],\n",
        "              validation_data=(n_grams_val_data_tf, val_labels) \n",
        "              )"
      ],
      "execution_count": 68,
      "outputs": [
        {
          "output_type": "stream",
          "name": "stdout",
          "text": [
            "Epoch 1/5\n"
          ]
        },
        {
          "output_type": "stream",
          "name": "stderr",
          "text": [
            "/usr/local/lib/python3.7/dist-packages/tensorflow/python/framework/indexed_slices.py:449: UserWarning: Converting sparse IndexedSlices(IndexedSlices(indices=Tensor(\"gradient_tape/sequential_6/dense_12/embedding_lookup_sparse/Reshape_1:0\", shape=(None,), dtype=int32), values=Tensor(\"gradient_tape/sequential_6/dense_12/embedding_lookup_sparse/Reshape:0\", shape=(None, 32), dtype=float32), dense_shape=Tensor(\"gradient_tape/sequential_6/dense_12/embedding_lookup_sparse/Cast:0\", shape=(2,), dtype=int32))) to a dense Tensor of unknown shape. This may consume a large amount of memory.\n",
            "  \"shape. This may consume a large amount of memory.\" % value)\n"
          ]
        },
        {
          "output_type": "stream",
          "name": "stdout",
          "text": [
            "157/157 [==============================] - 4s 20ms/step - loss: 0.5750 - accuracy: 0.6138 - val_loss: 0.4451 - val_accuracy: 0.8156\n",
            "Epoch 2/5\n",
            "157/157 [==============================] - 3s 17ms/step - loss: 0.3483 - accuracy: 0.8694 - val_loss: 0.3127 - val_accuracy: 0.8724\n",
            "Epoch 3/5\n",
            "157/157 [==============================] - 3s 19ms/step - loss: 0.2466 - accuracy: 0.9117 - val_loss: 0.2652 - val_accuracy: 0.8904\n",
            "Epoch 4/5\n",
            "157/157 [==============================] - 3s 18ms/step - loss: 0.1948 - accuracy: 0.9316 - val_loss: 0.2434 - val_accuracy: 0.8966\n",
            "Epoch 5/5\n",
            "157/157 [==============================] - 3s 17ms/step - loss: 0.1624 - accuracy: 0.9448 - val_loss: 0.2329 - val_accuracy: 0.9014\n"
          ]
        }
      ]
    },
    {
      "cell_type": "code",
      "metadata": {
        "id": "VuAiTpbcrRgB",
        "colab": {
          "base_uri": "https://localhost:8080/"
        },
        "outputId": "a5651f33-40f6-45b4-8389-682cd6bef2c2"
      },
      "source": [
        "loss, accuracy = mlp_model.evaluate(n_grams_test_data_tf, test_labels)\n",
        "print('Loss is ',loss)\n",
        "print('Accuracy is',accuracy)"
      ],
      "execution_count": 69,
      "outputs": [
        {
          "output_type": "stream",
          "name": "stdout",
          "text": [
            "782/782 [==============================] - 2s 3ms/step - loss: 0.2400 - accuracy: 0.8940\n",
            "Loss is  0.23997484147548676\n",
            "Accuracy is 0.8939599990844727\n"
          ]
        }
      ]
    },
    {
      "cell_type": "markdown",
      "metadata": {
        "id": "sNVOgtmXdPxE"
      },
      "source": [
        "### Sequence Model\n",
        "Models that can learn from the adjacency of tokens as sequence models. This includes CNN and RNN classes of models. Data is pre-processed as sequence vectors for these models. \n",
        "\n",
        "sepCNNs, a convolutional network variant that is often more data-efficient and compute-efficient, perform better than the other models.\n",
        "\n",
        "Sequence models generally have a larger number of parameters to learn. The first layer in these models is an embedding layer, which learns the relationship between the words in a dense vector space. Learning word relationships works best over many samples.\n",
        "\n",
        "Words in a given dataset are most likely not unique to that dataset. We can thus learn the relationship between the words in our dataset using other dataset(s). To do so, we can transfer an embedding learned from another dataset into our embedding layer. These embeddings are referred to as pre-trained embeddings. \n",
        "\n",
        "Fine-tuned embeddings yield better accuracy. However, this comes at the expense of increased compute power required to train the network. Given a sufficient number of samples, we could do just as well learning an embedding from scratch. We observed that for S/W > 15K, starting from scratch effectively yields about the same accuracy as using fine-tuned embedding."
      ]
    },
    {
      "cell_type": "markdown",
      "metadata": {
        "id": "-ZtB8bakr5G5"
      },
      "source": [
        "#### Model using pre-trained embedding\n",
        "Using a pre-trained embedding gives the model a head start in the learning process.\n",
        "\n",
        "* nnlm-en-dim50\n",
        "* Token based text embedding trained on English Google News 7B corpus.\n",
        "\n",
        "* The module takes a batch of sentences in a 1-D tensor of strings as input.\n",
        "* The module preprocesses its input by splitting on spaces.\n",
        "* Note that no matter the length of the input text,\n",
        "* the output shape of the embeddings is: (num_examples, embedding_dimension)."
      ]
    },
    {
      "cell_type": "code",
      "metadata": {
        "id": "lKAPRQqfv9pR"
      },
      "source": [
        "# nnlm-en-dim50\n",
        "# Token based text embedding trained on English Google News 7B corpus.\n",
        "embedding = \"https://tfhub.dev/google/nnlm-en-dim50/2\"\n",
        "# The module takes a batch of sentences in a 1-D tensor of strings as input.\n",
        "# The module preprocesses its input by splitting on spaces.\n",
        "# Note that no matter the length of the input text,\n",
        "# the output shape of the embeddings is: (num_examples, embedding_dimension)."
      ],
      "execution_count": 70,
      "outputs": []
    },
    {
      "cell_type": "markdown",
      "metadata": {
        "id": "Y39p8gUy7RsL"
      },
      "source": [
        "Pre-trained embedding -- we froze the weights of pre-trained embedding "
      ]
    },
    {
      "cell_type": "code",
      "metadata": {
        "id": "w1rm2GF4qoGT"
      },
      "source": [
        "hub_layer = hub.KerasLayer(handle=embedding, trainable=False, dtype=tf.string)"
      ],
      "execution_count": 79,
      "outputs": []
    },
    {
      "cell_type": "markdown",
      "metadata": {
        "id": "bH2BtqxT-SJk"
      },
      "source": [
        "A simple model that uses pretrained embedding "
      ]
    },
    {
      "cell_type": "code",
      "metadata": {
        "id": "29o_wkST2ffO"
      },
      "source": [
        "inputs = tf.keras.Input(shape=[],dtype=tf.string)\n",
        "# embedding layer\n",
        "x = hub_layer(inputs, training=False)\n",
        "# drop out layer\n",
        "x = tf.keras.layers.Dropout(0.2)(x)\n",
        "# dense layer\n",
        "x = tf.keras.layers.Dense(units=32, activation='relu')(x)\n",
        "# drop out layer\n",
        "x = tf.keras.layers.Dropout(0.2)(x)\n",
        "# classifier\n",
        "outputs = tf.keras.layers.Dense(units=1)(x)\n",
        "# Model using pre-trained embedding\n",
        "pre_trained_embedding_model = tf.keras.Model(inputs, outputs)"
      ],
      "execution_count": 80,
      "outputs": []
    },
    {
      "cell_type": "code",
      "metadata": {
        "id": "4j2DLaFK7PIe"
      },
      "source": [
        "# compile the model\n",
        "pre_trained_embedding_model.compile(optimizer='adam',\n",
        "                                    loss=tf.keras.losses.BinaryCrossentropy(from_logits=True),\n",
        "                                    metrics=['accuracy'])"
      ],
      "execution_count": 81,
      "outputs": []
    },
    {
      "cell_type": "code",
      "metadata": {
        "colab": {
          "base_uri": "https://localhost:8080/"
        },
        "id": "4kBc6OA4-tLO",
        "outputId": "15511da8-ef9a-4aeb-c17d-8e67d59cb647"
      },
      "source": [
        "# model summary\n",
        "pre_trained_embedding_model.summary()"
      ],
      "execution_count": 82,
      "outputs": [
        {
          "output_type": "stream",
          "name": "stdout",
          "text": [
            "Model: \"model_2\"\n",
            "_________________________________________________________________\n",
            "Layer (type)                 Output Shape              Param #   \n",
            "=================================================================\n",
            "input_3 (InputLayer)         [(None,)]                 0         \n",
            "_________________________________________________________________\n",
            "keras_layer_1 (KerasLayer)   (None, 50)                48190600  \n",
            "_________________________________________________________________\n",
            "dropout_9 (Dropout)          (None, 50)                0         \n",
            "_________________________________________________________________\n",
            "dense_18 (Dense)             (None, 32)                1632      \n",
            "_________________________________________________________________\n",
            "dropout_10 (Dropout)         (None, 32)                0         \n",
            "_________________________________________________________________\n",
            "dense_19 (Dense)             (None, 1)                 33        \n",
            "=================================================================\n",
            "Total params: 48,192,265\n",
            "Trainable params: 1,665\n",
            "Non-trainable params: 48,190,600\n",
            "_________________________________________________________________\n"
          ]
        }
      ]
    },
    {
      "cell_type": "code",
      "metadata": {
        "colab": {
          "base_uri": "https://localhost:8080/"
        },
        "id": "8JBnVO4A-04f",
        "outputId": "ae52b5af-1f96-458a-9f5a-6ff19417413d"
      },
      "source": [
        "# training the model\n",
        "\n",
        "pre_trained_embedding_model.fit(x=train_data,\n",
        "                                y=train_labels.tolist(),\n",
        "                                batch_size=32,\n",
        "                                epochs=10,\n",
        "                                validation_data=(val_data, val_labels.tolist()),\n",
        "                                callbacks=[early_stopping])"
      ],
      "execution_count": 83,
      "outputs": [
        {
          "output_type": "stream",
          "name": "stdout",
          "text": [
            "Epoch 1/10\n",
            "625/625 [==============================] - 4s 5ms/step - loss: 0.6331 - accuracy: 0.6016 - val_loss: 0.5682 - val_accuracy: 0.6650\n",
            "Epoch 2/10\n",
            "625/625 [==============================] - 3s 4ms/step - loss: 0.5998 - accuracy: 0.6560 - val_loss: 0.5563 - val_accuracy: 0.6782\n",
            "Epoch 3/10\n",
            "625/625 [==============================] - 3s 4ms/step - loss: 0.5933 - accuracy: 0.6619 - val_loss: 0.5543 - val_accuracy: 0.6770\n",
            "Epoch 4/10\n",
            "625/625 [==============================] - 3s 4ms/step - loss: 0.5940 - accuracy: 0.6567 - val_loss: 0.5558 - val_accuracy: 0.7004\n"
          ]
        },
        {
          "output_type": "execute_result",
          "data": {
            "text/plain": [
              "<keras.callbacks.History at 0x7f55ae0a7150>"
            ]
          },
          "metadata": {},
          "execution_count": 83
        }
      ]
    },
    {
      "cell_type": "markdown",
      "metadata": {
        "id": "rDomPn7mrQ77"
      },
      "source": [
        "if we froze the weights of the pre-trained embeddings and trained just the rest of the network, the models did not perform well. \n",
        "\n",
        "This could be because the context in which the embedding layer was trained might have been different from the context in which we were using it.\n"
      ]
    },
    {
      "cell_type": "code",
      "metadata": {
        "id": "sZtG-qeA_osy",
        "colab": {
          "base_uri": "https://localhost:8080/"
        },
        "outputId": "755dbd84-0648-4a6b-bcbd-b2b146e7ce5f"
      },
      "source": [
        "loss, accuracy = pre_trained_embedding_model.evaluate(test_data, test_labels.tolist())\n",
        "print('Loss ',loss)\n",
        "print('Accuracy ',accuracy)"
      ],
      "execution_count": 84,
      "outputs": [
        {
          "output_type": "stream",
          "name": "stdout",
          "text": [
            "782/782 [==============================] - 3s 3ms/step - loss: 0.5625 - accuracy: 0.6890\n",
            "Loss  0.5625265836715698\n",
            "Accuracy  0.6890400052070618\n"
          ]
        }
      ]
    },
    {
      "cell_type": "markdown",
      "metadata": {
        "id": "oxKzm4ikrr6w"
      },
      "source": [
        "The data embeddings trained on may not align with the language patterns in our IMDb dataset. The relationships inferred may need some updation  —i.e., the embedding weights may need contextual tuning. We do this in two stages:\n",
        "\n",
        "* In the first run, with the embedding layer weights frozen, we allow the rest of the network to learn.\n",
        "\n",
        "* In the second run, we allow the embedding layer to also learn, making fine adjustments to all weights in the network. We refer to this process as using a fine-tuned embedding."
      ]
    },
    {
      "cell_type": "code",
      "metadata": {
        "id": "o93uce7trjHy"
      },
      "source": [
        "# un-froze the weights of embedding layer\n",
        "hub_layer.trainable = True"
      ],
      "execution_count": 85,
      "outputs": []
    },
    {
      "cell_type": "markdown",
      "metadata": {
        "id": "o7UInjbQscy0"
      },
      "source": [
        "It's important to recompile your model after you make any changes to the `trainable` attribute of any inner layer, so that your changes are take into account"
      ]
    },
    {
      "cell_type": "code",
      "metadata": {
        "id": "0K67wm1esMID"
      },
      "source": [
        "# recompile the model\n",
        "pre_trained_embedding_model.compile(optimizer='adam',\n",
        "                                    loss=tf.keras.losses.BinaryCrossentropy(from_logits=True),\n",
        "                                    metrics=['accuracy']) "
      ],
      "execution_count": 86,
      "outputs": []
    },
    {
      "cell_type": "code",
      "metadata": {
        "colab": {
          "base_uri": "https://localhost:8080/"
        },
        "id": "t7jOseUDs386",
        "outputId": "27241ae6-8ba7-4eaf-8e59-cfb8d6c69bd8"
      },
      "source": [
        "# train\n",
        "pre_trained_embedding_model.fit(x=train_data,\n",
        "                                y=train_labels.tolist(),\n",
        "                                batch_size=32,\n",
        "                                epochs=10,\n",
        "                                validation_data=(val_data, val_labels.tolist()),\n",
        "                                callbacks=[early_stopping])"
      ],
      "execution_count": 87,
      "outputs": [
        {
          "output_type": "stream",
          "name": "stdout",
          "text": [
            "Epoch 1/10\n",
            "625/625 [==============================] - 302s 482ms/step - loss: 0.4066 - accuracy: 0.8033 - val_loss: 0.3060 - val_accuracy: 0.8690\n",
            "Epoch 2/10\n",
            "625/625 [==============================] - 319s 511ms/step - loss: 0.2106 - accuracy: 0.9153 - val_loss: 0.3230 - val_accuracy: 0.8726\n"
          ]
        },
        {
          "output_type": "execute_result",
          "data": {
            "text/plain": [
              "<keras.callbacks.History at 0x7f55ae07f890>"
            ]
          },
          "metadata": {},
          "execution_count": 87
        }
      ]
    },
    {
      "cell_type": "code",
      "metadata": {
        "colab": {
          "base_uri": "https://localhost:8080/"
        },
        "id": "rbSw7DwJtLXH",
        "outputId": "5ee97119-a2c8-4868-932c-df6203215b27"
      },
      "source": [
        "loss, accuracy = pre_trained_embedding_model.evaluate(test_data, test_labels.tolist())\n",
        "print('Loss ',loss)\n",
        "print('Accuracy ',accuracy)"
      ],
      "execution_count": 88,
      "outputs": [
        {
          "output_type": "stream",
          "name": "stdout",
          "text": [
            "782/782 [==============================] - 42s 53ms/step - loss: 0.3376 - accuracy: 0.8697\n",
            "Loss  0.3375718295574188\n",
            "Accuracy  0.8697199821472168\n"
          ]
        }
      ]
    },
    {
      "cell_type": "markdown",
      "metadata": {
        "id": "XrjqUQYxxdsm"
      },
      "source": [
        "Fine-tuned embeddings yield better accuracy. However, this comes at the expense of increased compute power required to train the network. Given a sufficient number of samples, we could do just as well learning an embedding from scratch. We observed that for S/W > 15K, starting from scratch effectively yields about the same accuracy as using fine-tuned embedding."
      ]
    },
    {
      "cell_type": "markdown",
      "metadata": {
        "id": "4Rq_eMksxAsz"
      },
      "source": [
        "#### Model learning an embedding from scratch"
      ]
    },
    {
      "cell_type": "code",
      "metadata": {
        "id": "5raIl1Skwqz0"
      },
      "source": [
        "def sequence_model(in_dim, out_dim, num_blocks, num_filters, kernel_size, pool_size, dropout_rate, num_class):\n",
        "  model = tf.keras.Sequential()\n",
        "  model.add(tf.keras.layers.Embedding(input_dim=in_dim, output_dim=out_dim))\n",
        "\n",
        "  for block in range(num_blocks-1):\n",
        "    model.add(tf.keras.layers.SeparableConv1D(filters=num_filters, kernel_size=kernel_size, activation='relu', padding='same'))\n",
        "\n",
        "  model.add(tf.keras.layers.GlobalAveragePooling1D())\n",
        "  model.add(tf.keras.layers.Dropout(rate=dropout_rate))\n",
        "\n",
        "  op_units, op_activation = get_last_layer_units_and_activation(num_class)\n",
        "  model.add(tf.keras.layers.Dense(units=op_units))\n",
        "\n",
        "  return model"
      ],
      "execution_count": 108,
      "outputs": []
    },
    {
      "cell_type": "code",
      "metadata": {
        "id": "2kKvi7kVCdwp"
      },
      "source": [
        "# create an instance of sequence model\n",
        "seq_model = sequence_model(in_dim=20000,\n",
        "                           out_dim=16,\n",
        "                           num_blocks=2,\n",
        "                           num_filters=32,\n",
        "                           kernel_size=3,\n",
        "                           pool_size=3,\n",
        "                           dropout_rate=0.2,\n",
        "                           num_class=2)"
      ],
      "execution_count": 109,
      "outputs": []
    },
    {
      "cell_type": "code",
      "metadata": {
        "id": "_CYeEcquCTAm"
      },
      "source": [
        "# compile the model\n",
        "seq_model.compile(optimizer='adam',\n",
        "                 loss= tf.keras.losses.BinaryCrossentropy(from_logits=True),\n",
        "                 metrics=['accuracy'])"
      ],
      "execution_count": 110,
      "outputs": []
    },
    {
      "cell_type": "code",
      "metadata": {
        "colab": {
          "base_uri": "https://localhost:8080/"
        },
        "id": "RGI1G_naCSz5",
        "outputId": "33e80b28-e1aa-4483-a5cc-029df770ef07"
      },
      "source": [
        "# Train the model\n",
        "# input to the model -- sequence of word indices  (Sequence vectors created using method 1 or method 2 ) here we are using data preprocessed by method-1\n",
        "seq_model.fit(sequence_train_ds,\n",
        "              epochs=10,\n",
        "              validation_data=sequence_val_ds,\n",
        "              callbacks=[early_stopping])"
      ],
      "execution_count": 113,
      "outputs": [
        {
          "output_type": "stream",
          "name": "stdout",
          "text": [
            "Epoch 1/10\n",
            "625/625 [==============================] - 16s 25ms/step - loss: 0.6024 - accuracy: 0.5954 - val_loss: 0.3906 - val_accuracy: 0.8188\n",
            "Epoch 2/10\n",
            "625/625 [==============================] - 16s 25ms/step - loss: 0.3240 - accuracy: 0.8619 - val_loss: 0.2890 - val_accuracy: 0.8784\n",
            "Epoch 3/10\n",
            "625/625 [==============================] - 16s 25ms/step - loss: 0.2450 - accuracy: 0.9054 - val_loss: 0.2660 - val_accuracy: 0.8868\n",
            "Epoch 4/10\n",
            "625/625 [==============================] - 16s 25ms/step - loss: 0.1954 - accuracy: 0.9250 - val_loss: 0.2578 - val_accuracy: 0.8902\n",
            "Epoch 5/10\n",
            "625/625 [==============================] - 16s 26ms/step - loss: 0.1614 - accuracy: 0.9386 - val_loss: 0.2606 - val_accuracy: 0.8914\n"
          ]
        },
        {
          "output_type": "execute_result",
          "data": {
            "text/plain": [
              "<keras.callbacks.History at 0x7f55b768a2d0>"
            ]
          },
          "metadata": {},
          "execution_count": 113
        }
      ]
    },
    {
      "cell_type": "code",
      "metadata": {
        "colab": {
          "base_uri": "https://localhost:8080/"
        },
        "id": "Sl3ziHBU54w0",
        "outputId": "8e79d89e-ebf6-4106-f2d8-e4f3ce3eb05e"
      },
      "source": [
        "loss, accuracy = seq_model.evaluate(sequence_test_ds)\n",
        "print('Loss ',loss)\n",
        "print('Accuracy ',accuracy)"
      ],
      "execution_count": 114,
      "outputs": [
        {
          "output_type": "stream",
          "name": "stdout",
          "text": [
            "782/782 [==============================] - 10s 12ms/step - loss: 0.2926 - accuracy: 0.8783\n",
            "Loss  0.29260843992233276\n",
            "Accuracy  0.8783199787139893\n"
          ]
        }
      ]
    },
    {
      "cell_type": "code",
      "metadata": {
        "id": "ihFKujeJD8uo"
      },
      "source": [
        ""
      ],
      "execution_count": null,
      "outputs": []
    }
  ]
}