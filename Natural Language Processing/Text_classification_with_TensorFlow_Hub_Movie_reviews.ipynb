{
  "nbformat": 4,
  "nbformat_minor": 0,
  "metadata": {
    "colab": {
      "name": "Text classification with TensorFlow Hub: Movie reviews.ipynb",
      "provenance": [],
      "authorship_tag": "ABX9TyNB+UlD1Mfb8GG1hMvaU3OP",
      "include_colab_link": true
    },
    "kernelspec": {
      "name": "python3",
      "display_name": "Python 3"
    },
    "language_info": {
      "name": "python"
    },
    "accelerator": "GPU"
  },
  "cells": [
    {
      "cell_type": "markdown",
      "metadata": {
        "id": "view-in-github",
        "colab_type": "text"
      },
      "source": [
        "<a href=\"https://colab.research.google.com/github/Ajay-user/DataScience/blob/master/Natural%20Language%20Processing/Text_classification_with_TensorFlow_Hub_Movie_reviews.ipynb\" target=\"_parent\"><img src=\"https://colab.research.google.com/assets/colab-badge.svg\" alt=\"Open In Colab\"/></a>"
      ]
    },
    {
      "cell_type": "code",
      "metadata": {
        "id": "0wwN_B26RBsL"
      },
      "source": [
        "import tensorflow as tf\n",
        "import tensorflow_hub as hub\n",
        "import tensorflow_datasets as tfds\n",
        "import matplotlib.pyplot as plt"
      ],
      "execution_count": 31,
      "outputs": []
    },
    {
      "cell_type": "code",
      "metadata": {
        "colab": {
          "base_uri": "https://localhost:8080/"
        },
        "id": "11Xoouy_Rf06",
        "outputId": "430fcbaf-ac8a-4b75-c0d3-4f0a8207a0cb"
      },
      "source": [
        "print('TF version',tf.__version__)\n",
        "print('Eager mode',tf.executing_eagerly())\n",
        "print('Hub version',hub.__version__)\n",
        "print('GPU available' if tf.config.list_physical_devices('GPU') else 'GPU not available')"
      ],
      "execution_count": 8,
      "outputs": [
        {
          "output_type": "stream",
          "text": [
            "TF version 2.5.0\n",
            "Eager mode True\n",
            "Hub version 0.12.0\n",
            "GPU available\n"
          ],
          "name": "stdout"
        }
      ]
    },
    {
      "cell_type": "markdown",
      "metadata": {
        "id": "T4sOE54uSiNX"
      },
      "source": [
        "## Download the IMDB dataset"
      ]
    },
    {
      "cell_type": "code",
      "metadata": {
        "id": "GnywU5E8RxTc"
      },
      "source": [
        "(train_ds, val_ds, test_ds),metadata = tfds.load(name=\"imdb_reviews\",\n",
        "                                                 split=['train[:60%]', 'train[60%:]', 'test'],\n",
        "                                                 as_supervised=True,\n",
        "                                                 with_info=True)"
      ],
      "execution_count": 10,
      "outputs": []
    },
    {
      "cell_type": "markdown",
      "metadata": {
        "id": "SFzSaKKbTdyW"
      },
      "source": [
        "## Build the model\n",
        "The neural network is created by stacking layers—this requires three main architectural decisions:\n",
        "\n",
        "* How to represent the text?\n",
        "* How many layers to use in the model?\n",
        "* How many hidden units to use for each layer?\n",
        "\n",
        "**One way to represent the text is to convert sentences into embeddings vectors**.\n",
        "\n",
        " Use a pre-trained text embedding as the first layer, which will have three advantages:\n",
        "* You don't have to worry about text preprocessing,\n",
        "* Benefit from transfer learning,\n",
        "* the embedding has a fixed size, so it's simpler to process.\n",
        "\n",
        "\n",
        "For example use a pre-trained text embedding model from TensorFlow Hub called `google/nnlm-en-dim50/2`.\n",
        "\n",
        "There are many other pre-trained text embeddings from TFHub that can be used for creating an embedding layer\n",
        "\n",
        "* `google/nnlm-en-dim128/2` - trained with the same NNLM architecture on the same data as `google/nnlm-en-dim50/2`, but with a larger embedding dimension. Larger dimensional embeddings can improve on your task but it may take longer to train your model.\n",
        "\n",
        "* `google/nnlm-en-dim128-with-normalization/2` - the same as `google/nnlm-en-dim128/2`, but with additional text normalization such as removing punctuation. This can help if the text in your task contains additional characters or punctuation.\n",
        "\n",
        "* `google/universal-sentence-encoder/4` - a much larger model yielding 512 dimensional embeddings trained with a deep averaging network (DAN) encoder.\n",
        "\n",
        "\n",
        "Create a Keras layer that uses a TensorFlow Hub model to embed the sentences,  Note that no matter the length of the input text, the output shape of the embeddings is: `(num_examples, embedding_dimension)`."
      ]
    },
    {
      "cell_type": "code",
      "metadata": {
        "id": "Y1UmzJr9TC1Z"
      },
      "source": [
        "from tensorflow.python.keras.engine.sequential import relax_input_shape\n",
        "embedding = \"https://tfhub.dev/google/nnlm-en-dim50/2\"\n",
        "\n",
        "hub_layer = hub.KerasLayer(embedding, input_shape=[], dtype=tf.string, trainable=True)"
      ],
      "execution_count": 12,
      "outputs": []
    },
    {
      "cell_type": "code",
      "metadata": {
        "colab": {
          "base_uri": "https://localhost:8080/"
        },
        "id": "GjxN57cjWT93",
        "outputId": "05e12d66-b001-480e-dc7e-aeaf7af2a496"
      },
      "source": [
        "train_text , train_label = next(iter(train_ds))\n",
        "\n",
        "print('Text : ',train_text)\n",
        "print('Label : ',train_label)\n",
        "\n",
        "encoding = hub_layer(tf.expand_dims(train_text,-1))\n",
        "\n",
        "print('Encoding : ', encoding)"
      ],
      "execution_count": 14,
      "outputs": [
        {
          "output_type": "stream",
          "text": [
            "Text :  tf.Tensor(b\"This was an absolutely terrible movie. Don't be lured in by Christopher Walken or Michael Ironside. Both are great actors, but this must simply be their worst role in history. Even their great acting could not redeem this movie's ridiculous storyline. This movie is an early nineties US propaganda piece. The most pathetic scenes were those when the Columbian rebels were making their cases for revolutions. Maria Conchita Alonso appeared phony, and her pseudo-love affair with Walken was nothing but a pathetic emotional plug in a movie that was devoid of any real meaning. I am disappointed that there are movies like this, ruining actor's like Christopher Walken's good name. I could barely sit through it.\", shape=(), dtype=string)\n",
            "Label :  tf.Tensor(0, shape=(), dtype=int64)\n",
            "Encoding :  tf.Tensor(\n",
            "[[ 0.5423195  -0.0119017   0.06337538  0.06862972 -0.16776837 -0.10581174\n",
            "   0.16865303 -0.04998824 -0.31148055  0.07910346  0.15442263  0.01488662\n",
            "   0.03930153  0.19772711 -0.12215476 -0.04120981 -0.2704109  -0.21922152\n",
            "   0.26517662 -0.80739075  0.25833532 -0.3100421   0.28683215  0.1943387\n",
            "  -0.29036492  0.03862849 -0.7844411  -0.0479324   0.4110299  -0.36388892\n",
            "  -0.58034706  0.30269456  0.3630897  -0.15227164 -0.44391504  0.19462997\n",
            "   0.19528408  0.05666234  0.2890704  -0.28468323 -0.00531206  0.0571938\n",
            "  -0.3201318  -0.04418665 -0.08550783 -0.55847436 -0.23336391 -0.20782952\n",
            "  -0.03543064 -0.17533456]], shape=(1, 50), dtype=float32)\n"
          ],
          "name": "stdout"
        }
      ]
    },
    {
      "cell_type": "code",
      "metadata": {
        "colab": {
          "base_uri": "https://localhost:8080/"
        },
        "id": "o0MV-PcqW5UN",
        "outputId": "8a6125ab-ff75-4818-c0a0-4bea7042e43e"
      },
      "source": [
        "\n",
        "# model\n",
        "model = tf.keras.Sequential([\n",
        "                             hub_layer,\n",
        "                             tf.keras.layers.Dropout(0.1),\n",
        "                             tf.keras.layers.Dense(1)\n",
        "])\n",
        "\n",
        "# compile the model\n",
        "model.compile(optimizer='adam', loss=tf.keras.losses.BinaryCrossentropy(from_logits=True), metrics=['accuracy'])\n",
        "\n",
        "# model summary\n",
        "model.summary()"
      ],
      "execution_count": 17,
      "outputs": [
        {
          "output_type": "stream",
          "text": [
            "Model: \"sequential_1\"\n",
            "_________________________________________________________________\n",
            "Layer (type)                 Output Shape              Param #   \n",
            "=================================================================\n",
            "keras_layer (KerasLayer)     (None, 50)                48190600  \n",
            "_________________________________________________________________\n",
            "dropout_1 (Dropout)          (None, 50)                0         \n",
            "_________________________________________________________________\n",
            "dense_1 (Dense)              (None, 1)                 51        \n",
            "=================================================================\n",
            "Total params: 48,190,651\n",
            "Trainable params: 48,190,651\n",
            "Non-trainable params: 0\n",
            "_________________________________________________________________\n"
          ],
          "name": "stdout"
        }
      ]
    },
    {
      "cell_type": "markdown",
      "metadata": {
        "id": "2sdlxsxuYQzQ"
      },
      "source": [
        "* The first layer is a TensorFlow Hub layer. This layer uses a pre-trained Saved Model to map a sentence into its embedding vector. The pre-trained text embedding model that you are using (`google/nnlm-en-dim50/2`) splits the sentence into tokens, embeds each token and then combines the embedding. The resulting dimensions are: (`num_examples, embedding_dimension`). For this NNLM model, the embedding_dimension is 50.\n",
        "\n",
        "* A model needs a loss function and an optimizer for training. Since this is a binary classification problem and the model outputs logits (a single-unit layer with a linear activation),  use the `binary_crossentropy` loss function.\n",
        "\n",
        "* This isn't the only choice for a loss function, you could, for instance, choose `mean_squared_error`. But, generally,** `binary_crossentropy` is better for dealing with probabilities—it measures the \"distance\" between probability distributions**, or in our case, between the ground-truth distribution and the predictions.\n",
        "\n",
        "*  when you are exploring regression problems (say, to predict the price of a house), you'll use another loss function called `mean squared error`.\n",
        "\n",
        "## Optimize the data \n",
        "Important methods you should use when loading data to make sure that I/O does not become blocking.\n",
        "\n",
        "`.cache()` keeps data in memory after it's loaded off disk. This will ensure the dataset does not become a bottleneck while training your model. If your dataset is too large to fit into memory, you can also use this method to create a performant on-disk cache, which is more efficient to read than many small files.\n",
        "\n",
        "`.prefetch()` overlaps data preprocessing and model execution while training.\n"
      ]
    },
    {
      "cell_type": "code",
      "metadata": {
        "id": "2M1BQnOuXogz"
      },
      "source": [
        "def config_for_performance(ds, train=False):\n",
        "  if train:\n",
        "    ds = ds.shuffle(10000)\n",
        "  ds = ds.batch(512)\n",
        "  ds = ds.prefetch(tf.data.AUTOTUNE)\n",
        "  return ds"
      ],
      "execution_count": 18,
      "outputs": []
    },
    {
      "cell_type": "code",
      "metadata": {
        "id": "w5IBr6c5aBtO"
      },
      "source": [
        "train_ds = config_for_performance(train_ds)\n",
        "val_ds = config_for_performance(val_ds)\n",
        "test_ds = config_for_performance(test_ds)"
      ],
      "execution_count": 19,
      "outputs": []
    },
    {
      "cell_type": "markdown",
      "metadata": {
        "id": "5XaF-OHXaSuT"
      },
      "source": [
        "## Training"
      ]
    },
    {
      "cell_type": "code",
      "metadata": {
        "colab": {
          "base_uri": "https://localhost:8080/"
        },
        "id": "CERzaVveaQgH",
        "outputId": "e75ffb15-d020-41c2-cb13-4adf6a788e3e"
      },
      "source": [
        "early_stop = tf.keras.callbacks.EarlyStopping(monitor='val_loss', patience=1, restore_best_weights=True)\n",
        "\n",
        "history = model.fit(train_ds, epochs=10, validation_data=val_ds, callbacks=[early_stop])"
      ],
      "execution_count": 21,
      "outputs": [
        {
          "output_type": "stream",
          "text": [
            "Epoch 1/10\n",
            "30/30 [==============================] - 7s 143ms/step - loss: 0.6854 - accuracy: 0.5074 - val_loss: 0.6368 - val_accuracy: 0.5425\n",
            "Epoch 2/10\n",
            "30/30 [==============================] - 4s 134ms/step - loss: 0.5902 - accuracy: 0.6158 - val_loss: 0.5683 - val_accuracy: 0.6391\n",
            "Epoch 3/10\n",
            "30/30 [==============================] - 4s 136ms/step - loss: 0.5132 - accuracy: 0.7221 - val_loss: 0.5068 - val_accuracy: 0.7307\n",
            "Epoch 4/10\n",
            "30/30 [==============================] - 4s 135ms/step - loss: 0.4407 - accuracy: 0.7979 - val_loss: 0.4535 - val_accuracy: 0.7843\n",
            "Epoch 5/10\n",
            "30/30 [==============================] - 4s 135ms/step - loss: 0.3770 - accuracy: 0.8445 - val_loss: 0.4109 - val_accuracy: 0.8140\n",
            "Epoch 6/10\n",
            "30/30 [==============================] - 5s 155ms/step - loss: 0.3237 - accuracy: 0.8789 - val_loss: 0.3790 - val_accuracy: 0.8281\n",
            "Epoch 7/10\n",
            "30/30 [==============================] - 4s 138ms/step - loss: 0.2817 - accuracy: 0.8999 - val_loss: 0.3556 - val_accuracy: 0.8413\n",
            "Epoch 8/10\n",
            "30/30 [==============================] - 4s 133ms/step - loss: 0.2469 - accuracy: 0.9166 - val_loss: 0.3387 - val_accuracy: 0.8465\n",
            "Epoch 9/10\n",
            "30/30 [==============================] - 4s 135ms/step - loss: 0.2172 - accuracy: 0.9301 - val_loss: 0.3263 - val_accuracy: 0.8527\n",
            "Epoch 10/10\n",
            "30/30 [==============================] - 4s 132ms/step - loss: 0.1921 - accuracy: 0.9430 - val_loss: 0.3170 - val_accuracy: 0.8567\n"
          ],
          "name": "stdout"
        }
      ]
    },
    {
      "cell_type": "markdown",
      "metadata": {
        "id": "DgjHYRulbJcj"
      },
      "source": [
        "## Evaluation\n"
      ]
    },
    {
      "cell_type": "code",
      "metadata": {
        "colab": {
          "base_uri": "https://localhost:8080/"
        },
        "id": "KC5xbX9naqyG",
        "outputId": "2ad127c9-9205-48a8-9d72-8b14e0d78bf3"
      },
      "source": [
        "# evaluation\n",
        "\n",
        "loss, accuracy = model.evaluate(test_ds)\n",
        "print('Loss', loss)\n",
        "print('Accuracy', accuracy)"
      ],
      "execution_count": 22,
      "outputs": [
        {
          "output_type": "stream",
          "text": [
            "49/49 [==============================] - 5s 98ms/step - loss: 0.3327 - accuracy: 0.8430\n",
            "Loss 0.332743763923645\n",
            "Accuracy 0.842960000038147\n"
          ],
          "name": "stdout"
        }
      ]
    },
    {
      "cell_type": "markdown",
      "metadata": {
        "id": "NeC1qG8IbiHS"
      },
      "source": [
        "## Learning Curves"
      ]
    },
    {
      "cell_type": "code",
      "metadata": {
        "colab": {
          "base_uri": "https://localhost:8080/",
          "height": 265
        },
        "id": "xD7O_6XubcUx",
        "outputId": "827a7db9-6542-4efb-a24d-d209e8e402a5"
      },
      "source": [
        "plt.subplot(1,2,1)\n",
        "plt.plot(history.epoch, history.history['loss'],label='loss')\n",
        "plt.plot(history.epoch, history.history['val_loss'],label='val_loss')\n",
        "plt.legend()\n",
        "plt.subplot(1,2,2)\n",
        "plt.plot(history.epoch, history.history['accuracy'],label='accuracy')\n",
        "plt.plot(history.epoch, history.history['val_accuracy'],label='val_accuracy')\n",
        "plt.legend()\n",
        "plt.show()"
      ],
      "execution_count": 33,
      "outputs": [
        {
          "output_type": "display_data",
          "data": {
            "image/png": "[encoded data removed]",
            "text/plain": [
              "<Figure size 432x288 with 2 Axes>"
            ]
          },
          "metadata": {
            "tags": [],
            "needs_background": "light"
          }
        }
      ]
    },
    {
      "cell_type": "code",
      "metadata": {
        "id": "K58wAOY2cwN1"
      },
      "source": [
        ""
      ],
      "execution_count": null,
      "outputs": []
    }
  ]
}