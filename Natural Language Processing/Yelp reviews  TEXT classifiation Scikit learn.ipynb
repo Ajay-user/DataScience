{
 "cells": [
  {
   "cell_type": "code",
   "execution_count": 31,
   "metadata": {},
   "outputs": [],
   "source": [
    "import pandas as pd\n",
    "import numpy as np\n",
    "import matplotlib.pyplot as plt\n",
    "\n",
    "from sklearn.model_selection import train_test_split\n",
    "from sklearn.model_selection import GridSearchCV\n",
    "from sklearn.model_selection import cross_val_score\n",
    "from sklearn.compose import ColumnTransformer\n",
    "from sklearn.pipeline import Pipeline\n",
    "from sklearn.feature_extraction.text import CountVectorizer\n",
    "\n",
    "from sklearn.metrics import classification_report\n",
    "from sklearn.metrics import confusion_matrix\n",
    "from sklearn.metrics import plot_confusion_matrix\n",
    "\n",
    "from sklearn.naive_bayes import MultinomialNB"
   ]
  },
  {
   "cell_type": "markdown",
   "metadata": {},
   "source": [
    "## Data \n",
    "\n",
    "https://github.com/justmarkham/pycon-2016-tutorial"
   ]
  },
  {
   "cell_type": "code",
   "execution_count": 4,
   "metadata": {},
   "outputs": [
    {
     "data": {
      "text/html": [
       "<div>\n",
       "<style scoped>\n",
       "    .dataframe tbody tr th:only-of-type {\n",
       "        vertical-align: middle;\n",
       "    }\n",
       "\n",
       "    .dataframe tbody tr th {\n",
       "        vertical-align: top;\n",
       "    }\n",
       "\n",
       "    .dataframe thead th {\n",
       "        text-align: right;\n",
       "    }\n",
       "</style>\n",
       "<table border=\"1\" class=\"dataframe\">\n",
       "  <thead>\n",
       "    <tr style=\"text-align: right;\">\n",
       "      <th></th>\n",
       "      <th>business_id</th>\n",
       "      <th>date</th>\n",
       "      <th>review_id</th>\n",
       "      <th>stars</th>\n",
       "      <th>text</th>\n",
       "      <th>type</th>\n",
       "      <th>user_id</th>\n",
       "      <th>cool</th>\n",
       "      <th>useful</th>\n",
       "      <th>funny</th>\n",
       "    </tr>\n",
       "  </thead>\n",
       "  <tbody>\n",
       "    <tr>\n",
       "      <th>0</th>\n",
       "      <td>9yKzy9PApeiPPOUJEtnvkg</td>\n",
       "      <td>2011-01-26</td>\n",
       "      <td>fWKvX83p0-ka4JS3dc6E5A</td>\n",
       "      <td>5</td>\n",
       "      <td>My wife took me here on my birthday for breakf...</td>\n",
       "      <td>review</td>\n",
       "      <td>rLtl8ZkDX5vH5nAx9C3q5Q</td>\n",
       "      <td>2</td>\n",
       "      <td>5</td>\n",
       "      <td>0</td>\n",
       "    </tr>\n",
       "    <tr>\n",
       "      <th>1</th>\n",
       "      <td>ZRJwVLyzEJq1VAihDhYiow</td>\n",
       "      <td>2011-07-27</td>\n",
       "      <td>IjZ33sJrzXqU-0X6U8NwyA</td>\n",
       "      <td>5</td>\n",
       "      <td>I have no idea why some people give bad review...</td>\n",
       "      <td>review</td>\n",
       "      <td>0a2KyEL0d3Yb1V6aivbIuQ</td>\n",
       "      <td>0</td>\n",
       "      <td>0</td>\n",
       "      <td>0</td>\n",
       "    </tr>\n",
       "    <tr>\n",
       "      <th>2</th>\n",
       "      <td>6oRAC4uyJCsJl1X0WZpVSA</td>\n",
       "      <td>2012-06-14</td>\n",
       "      <td>IESLBzqUCLdSzSqm0eCSxQ</td>\n",
       "      <td>4</td>\n",
       "      <td>love the gyro plate. Rice is so good and I als...</td>\n",
       "      <td>review</td>\n",
       "      <td>0hT2KtfLiobPvh6cDC8JQg</td>\n",
       "      <td>0</td>\n",
       "      <td>1</td>\n",
       "      <td>0</td>\n",
       "    </tr>\n",
       "    <tr>\n",
       "      <th>3</th>\n",
       "      <td>_1QQZuf4zZOyFCvXc0o6Vg</td>\n",
       "      <td>2010-05-27</td>\n",
       "      <td>G-WvGaISbqqaMHlNnByodA</td>\n",
       "      <td>5</td>\n",
       "      <td>Rosie, Dakota, and I LOVE Chaparral Dog Park!!...</td>\n",
       "      <td>review</td>\n",
       "      <td>uZetl9T0NcROGOyFfughhg</td>\n",
       "      <td>1</td>\n",
       "      <td>2</td>\n",
       "      <td>0</td>\n",
       "    </tr>\n",
       "    <tr>\n",
       "      <th>4</th>\n",
       "      <td>6ozycU1RpktNG2-1BroVtw</td>\n",
       "      <td>2012-01-05</td>\n",
       "      <td>1uJFq2r5QfJG_6ExMRCaGw</td>\n",
       "      <td>5</td>\n",
       "      <td>General Manager Scott Petello is a good egg!!!...</td>\n",
       "      <td>review</td>\n",
       "      <td>vYmM4KTsC8ZfQBg-j5MWkw</td>\n",
       "      <td>0</td>\n",
       "      <td>0</td>\n",
       "      <td>0</td>\n",
       "    </tr>\n",
       "  </tbody>\n",
       "</table>\n",
       "</div>"
      ],
      "text/plain": [
       "              business_id        date               review_id  stars  \\\n",
       "0  9yKzy9PApeiPPOUJEtnvkg  2011-01-26  fWKvX83p0-ka4JS3dc6E5A      5   \n",
       "1  ZRJwVLyzEJq1VAihDhYiow  2011-07-27  IjZ33sJrzXqU-0X6U8NwyA      5   \n",
       "2  6oRAC4uyJCsJl1X0WZpVSA  2012-06-14  IESLBzqUCLdSzSqm0eCSxQ      4   \n",
       "3  _1QQZuf4zZOyFCvXc0o6Vg  2010-05-27  G-WvGaISbqqaMHlNnByodA      5   \n",
       "4  6ozycU1RpktNG2-1BroVtw  2012-01-05  1uJFq2r5QfJG_6ExMRCaGw      5   \n",
       "\n",
       "                                                text    type  \\\n",
       "0  My wife took me here on my birthday for breakf...  review   \n",
       "1  I have no idea why some people give bad review...  review   \n",
       "2  love the gyro plate. Rice is so good and I als...  review   \n",
       "3  Rosie, Dakota, and I LOVE Chaparral Dog Park!!...  review   \n",
       "4  General Manager Scott Petello is a good egg!!!...  review   \n",
       "\n",
       "                  user_id  cool  useful  funny  \n",
       "0  rLtl8ZkDX5vH5nAx9C3q5Q     2       5      0  \n",
       "1  0a2KyEL0d3Yb1V6aivbIuQ     0       0      0  \n",
       "2  0hT2KtfLiobPvh6cDC8JQg     0       1      0  \n",
       "3  uZetl9T0NcROGOyFfughhg     1       2      0  \n",
       "4  vYmM4KTsC8ZfQBg-j5MWkw     0       0      0  "
      ]
     },
     "execution_count": 4,
     "metadata": {},
     "output_type": "execute_result"
    }
   ],
   "source": [
    "url = 'https://raw.githubusercontent.com/justmarkham/pycon-2016-tutorial/master/data/yelp.csv'\n",
    "df = pd.read_csv(url)\n",
    "df.head()"
   ]
  },
  {
   "cell_type": "markdown",
   "metadata": {},
   "source": [
    "Check for null values"
   ]
  },
  {
   "cell_type": "code",
   "execution_count": 5,
   "metadata": {},
   "outputs": [
    {
     "data": {
      "text/plain": [
       "business_id    0\n",
       "date           0\n",
       "review_id      0\n",
       "stars          0\n",
       "text           0\n",
       "type           0\n",
       "user_id        0\n",
       "cool           0\n",
       "useful         0\n",
       "funny          0\n",
       "dtype: int64"
      ]
     },
     "execution_count": 5,
     "metadata": {},
     "output_type": "execute_result"
    }
   ],
   "source": [
    "# check for null values\n",
    "df.isna().sum()"
   ]
  },
  {
   "cell_type": "markdown",
   "metadata": {},
   "source": [
    "Examine the class distribution"
   ]
  },
  {
   "cell_type": "code",
   "execution_count": 6,
   "metadata": {},
   "outputs": [
    {
     "data": {
      "text/plain": [
       "4    3526\n",
       "5    3337\n",
       "3    1461\n",
       "2     927\n",
       "1     749\n",
       "Name: stars, dtype: int64"
      ]
     },
     "execution_count": 6,
     "metadata": {},
     "output_type": "execute_result"
    }
   ],
   "source": [
    "# examine the class distribution\n",
    "df.stars.value_counts()"
   ]
  },
  {
   "cell_type": "markdown",
   "metadata": {},
   "source": [
    "## Create a new DataFrame that only contains the 5-star and 1-star reviews.\n",
    "\n",
    "frame this as a binary classification problem"
   ]
  },
  {
   "cell_type": "code",
   "execution_count": 13,
   "metadata": {},
   "outputs": [
    {
     "data": {
      "text/plain": [
       "5    3337\n",
       "1     749\n",
       "Name: stars, dtype: int64"
      ]
     },
     "execution_count": 13,
     "metadata": {},
     "output_type": "execute_result"
    }
   ],
   "source": [
    "df_best_worst = df.loc[(df['stars']==1)|(df['stars']==5)]\n",
    "\n",
    "# class distribution check\n",
    "df_best_worst.stars.value_counts()"
   ]
  },
  {
   "cell_type": "code",
   "execution_count": 14,
   "metadata": {},
   "outputs": [
    {
     "data": {
      "text/plain": [
       "(4086, 10)"
      ]
     },
     "execution_count": 14,
     "metadata": {},
     "output_type": "execute_result"
    }
   ],
   "source": [
    "# shape of dataframe\n",
    "df_best_worst.shape"
   ]
  },
  {
   "cell_type": "markdown",
   "metadata": {},
   "source": [
    "## Features and labels"
   ]
  },
  {
   "cell_type": "code",
   "execution_count": 15,
   "metadata": {},
   "outputs": [],
   "source": [
    "X = df_best_worst.drop(columns=['stars'])\n",
    "y = df_best_worst.stars"
   ]
  },
  {
   "cell_type": "code",
   "execution_count": 16,
   "metadata": {},
   "outputs": [
    {
     "name": "stdout",
     "output_type": "stream",
     "text": [
      "shape of features (4086, 9)\n",
      "shape of labels (4086,)\n"
     ]
    }
   ],
   "source": [
    "print('shape of features',X.shape)\n",
    "print('shape of labels',y.shape)"
   ]
  },
  {
   "cell_type": "markdown",
   "metadata": {},
   "source": [
    "## Train - Test split"
   ]
  },
  {
   "cell_type": "code",
   "execution_count": 23,
   "metadata": {},
   "outputs": [],
   "source": [
    "X_train, X_test, y_train, y_test = train_test_split(X, y, random_state=42)"
   ]
  },
  {
   "cell_type": "code",
   "execution_count": 25,
   "metadata": {},
   "outputs": [
    {
     "name": "stdout",
     "output_type": "stream",
     "text": [
      "Shape of training data (3064, 9)\n",
      "Shape of training labels (3064,)\n",
      "Shape of testing data (1022, 9)\n",
      "Shape of testing labels (1022,)\n"
     ]
    }
   ],
   "source": [
    "print('Shape of training data',X_train.shape)\n",
    "print('Shape of training labels',y_train.shape)\n",
    "print('Shape of testing data',X_test.shape)\n",
    "print('Shape of testing labels',y_test.shape)"
   ]
  },
  {
   "cell_type": "markdown",
   "metadata": {},
   "source": [
    "## Pipeline "
   ]
  },
  {
   "cell_type": "code",
   "execution_count": 28,
   "metadata": {},
   "outputs": [],
   "source": [
    "text_feature = 'text'\n",
    "text_transformer = CountVectorizer()\n",
    "\n",
    "preprocessing = ColumnTransformer(transformers=[('text_prep', text_transformer, text_feature)], remainder='drop')\n",
    "\n",
    "model_pipe = Pipeline(steps=[('preprocess', preprocessing), ('model', MultinomialNB())])"
   ]
  },
  {
   "cell_type": "markdown",
   "metadata": {},
   "source": [
    "## Training"
   ]
  },
  {
   "cell_type": "code",
   "execution_count": 29,
   "metadata": {},
   "outputs": [
    {
     "data": {
      "text/plain": [
       "Pipeline(steps=[('preprocess',\n",
       "                 ColumnTransformer(transformers=[('text_prep',\n",
       "                                                  CountVectorizer(),\n",
       "                                                  'text')])),\n",
       "                ('model', MultinomialNB())])"
      ]
     },
     "execution_count": 29,
     "metadata": {},
     "output_type": "execute_result"
    }
   ],
   "source": [
    "# train\n",
    "model_pipe.fit(X_train, y_train)"
   ]
  },
  {
   "cell_type": "code",
   "execution_count": 30,
   "metadata": {},
   "outputs": [
    {
     "data": {
      "text/plain": [
       "0.9080234833659491"
      ]
     },
     "execution_count": 30,
     "metadata": {},
     "output_type": "execute_result"
    }
   ],
   "source": [
    "# score\n",
    "model_pipe.score(X_test, y_test)"
   ]
  },
  {
   "cell_type": "code",
   "execution_count": 47,
   "metadata": {},
   "outputs": [],
   "source": [
    "# predictions\n",
    "y_preds = model_pipe.predict(X_test)"
   ]
  },
  {
   "cell_type": "code",
   "execution_count": 35,
   "metadata": {},
   "outputs": [
    {
     "name": "stdout",
     "output_type": "stream",
     "text": [
      "Cross validation training mean score 0.9200348654959537\n"
     ]
    }
   ],
   "source": [
    "# Cross validation\n",
    "cv_score = cross_val_score(model_pipe, X_train, y_train)\n",
    "print('Cross validation training mean score', cv_score.mean())"
   ]
  },
  {
   "cell_type": "markdown",
   "metadata": {},
   "source": [
    "## Confusion matrix"
   ]
  },
  {
   "cell_type": "code",
   "execution_count": 38,
   "metadata": {},
   "outputs": [
    {
     "data": {
      "image/png": "[encoded data removed]",
      "text/plain": [
       "<Figure size 432x288 with 2 Axes>"
      ]
     },
     "metadata": {
      "needs_background": "light"
     },
     "output_type": "display_data"
    }
   ],
   "source": [
    "plot_confusion_matrix(model_pipe, X_test, y_test);"
   ]
  },
  {
   "cell_type": "code",
   "execution_count": 81,
   "metadata": {},
   "outputs": [
    {
     "data": {
      "text/html": [
       "<div>\n",
       "<style scoped>\n",
       "    .dataframe tbody tr th:only-of-type {\n",
       "        vertical-align: middle;\n",
       "    }\n",
       "\n",
       "    .dataframe tbody tr th {\n",
       "        vertical-align: top;\n",
       "    }\n",
       "\n",
       "    .dataframe thead th {\n",
       "        text-align: right;\n",
       "    }\n",
       "</style>\n",
       "<table border=\"1\" class=\"dataframe\">\n",
       "  <thead>\n",
       "    <tr style=\"text-align: right;\">\n",
       "      <th></th>\n",
       "      <th>text</th>\n",
       "    </tr>\n",
       "  </thead>\n",
       "  <tbody>\n",
       "    <tr>\n",
       "      <th>1406</th>\n",
       "      <td>From my door, it's a five minute stroll throug...</td>\n",
       "    </tr>\n",
       "    <tr>\n",
       "      <th>389</th>\n",
       "      <td>I really don't get why everyone is raving this...</td>\n",
       "    </tr>\n",
       "    <tr>\n",
       "      <th>2060</th>\n",
       "      <td>This place is closed.  Good riddance.</td>\n",
       "    </tr>\n",
       "    <tr>\n",
       "      <th>715</th>\n",
       "      <td>What's with the cheese?  It isn't even Velveta...</td>\n",
       "    </tr>\n",
       "    <tr>\n",
       "      <th>2839</th>\n",
       "      <td>Never Again,\\nI brought my Mountain Bike in (w...</td>\n",
       "    </tr>\n",
       "  </tbody>\n",
       "</table>\n",
       "</div>"
      ],
      "text/plain": [
       "                                                   text\n",
       "1406  From my door, it's a five minute stroll throug...\n",
       "389   I really don't get why everyone is raving this...\n",
       "2060              This place is closed.  Good riddance.\n",
       "715   What's with the cheese?  It isn't even Velveta...\n",
       "2839  Never Again,\\nI brought my Mountain Bike in (w..."
      ]
     },
     "execution_count": 81,
     "metadata": {},
     "output_type": "execute_result"
    }
   ],
   "source": [
    "# false positives  model say 5 stars but actually 1 star\n",
    "X_test.loc[(y_test==1)&(y_preds==5), ['text']].head()"
   ]
  },
  {
   "cell_type": "code",
   "execution_count": 82,
   "metadata": {},
   "outputs": [
    {
     "data": {
      "text/html": [
       "<div>\n",
       "<style scoped>\n",
       "    .dataframe tbody tr th:only-of-type {\n",
       "        vertical-align: middle;\n",
       "    }\n",
       "\n",
       "    .dataframe tbody tr th {\n",
       "        vertical-align: top;\n",
       "    }\n",
       "\n",
       "    .dataframe thead th {\n",
       "        text-align: right;\n",
       "    }\n",
       "</style>\n",
       "<table border=\"1\" class=\"dataframe\">\n",
       "  <thead>\n",
       "    <tr style=\"text-align: right;\">\n",
       "      <th></th>\n",
       "      <th>text</th>\n",
       "    </tr>\n",
       "  </thead>\n",
       "  <tbody>\n",
       "    <tr>\n",
       "      <th>2504</th>\n",
       "      <td>I've passed by prestige nails in walmart 100s ...</td>\n",
       "    </tr>\n",
       "    <tr>\n",
       "      <th>354</th>\n",
       "      <td>We happened upon this location when meeting a ...</td>\n",
       "    </tr>\n",
       "    <tr>\n",
       "      <th>750</th>\n",
       "      <td>This store has the most pleasant employees of ...</td>\n",
       "    </tr>\n",
       "    <tr>\n",
       "      <th>2127</th>\n",
       "      <td>This place is great!  I called at 8:30 am to m...</td>\n",
       "    </tr>\n",
       "    <tr>\n",
       "      <th>5736</th>\n",
       "      <td>Thank goodness for Sue at Mill Avenue Travel. ...</td>\n",
       "    </tr>\n",
       "  </tbody>\n",
       "</table>\n",
       "</div>"
      ],
      "text/plain": [
       "                                                   text\n",
       "2504  I've passed by prestige nails in walmart 100s ...\n",
       "354   We happened upon this location when meeting a ...\n",
       "750   This store has the most pleasant employees of ...\n",
       "2127  This place is great!  I called at 8:30 am to m...\n",
       "5736  Thank goodness for Sue at Mill Avenue Travel. ..."
      ]
     },
     "execution_count": 82,
     "metadata": {},
     "output_type": "execute_result"
    }
   ],
   "source": [
    "# false Negative  model say 1 star but actually 5 star\n",
    "\n",
    "X_test.loc[(y_test==5)&(y_preds==1), ['text']].head()"
   ]
  },
  {
   "cell_type": "markdown",
   "metadata": {},
   "source": [
    "## Check Null Accuracy\n",
    "the classification accuracy that could be achieved by always predicting the most frequent class."
   ]
  },
  {
   "cell_type": "code",
   "execution_count": 39,
   "metadata": {},
   "outputs": [
    {
     "data": {
      "text/plain": [
       "5    823\n",
       "1    199\n",
       "Name: stars, dtype: int64"
      ]
     },
     "execution_count": 39,
     "metadata": {},
     "output_type": "execute_result"
    }
   ],
   "source": [
    "y_test.value_counts()"
   ]
  },
  {
   "cell_type": "code",
   "execution_count": 45,
   "metadata": {},
   "outputs": [
    {
     "name": "stdout",
     "output_type": "stream",
     "text": [
      "Null accuracy  0.8052837573385518\n"
     ]
    }
   ],
   "source": [
    "neu = y_test.value_counts()[5]\n",
    "deno = y_test.value_counts().sum()\n",
    "\n",
    "print('Null accuracy ',neu/deno)"
   ]
  },
  {
   "cell_type": "markdown",
   "metadata": {},
   "source": [
    "## Predictors\n",
    "\n",
    "Calculate which 10 tokens are the most predictive of 5-star reviews, and which 10 tokens are the most predictive of 1-star reviews.\n",
    "\n",
    "Hint: Naive Bayes automatically counts the number of times each token appears in each class, as well as the number of observations in each class. You can access these counts via the `feature_count_` and `class_count_` attributes of the Naive Bayes model object."
   ]
  },
  {
   "cell_type": "code",
   "execution_count": 132,
   "metadata": {},
   "outputs": [
    {
     "data": {
      "text/plain": [
       "array([ 550., 2514.])"
      ]
     },
     "execution_count": 132,
     "metadata": {},
     "output_type": "execute_result"
    }
   ],
   "source": [
    "# first number is one-star reviews, second number is five-star reviews\n",
    "model_pipe['model'].class_count_"
   ]
  },
  {
   "cell_type": "code",
   "execution_count": 89,
   "metadata": {},
   "outputs": [
    {
     "name": "stdout",
     "output_type": "stream",
     "text": [
      "Token count \n",
      " [[28.  4.  1. ...  0.  0.  0.]\n",
      " [38.  5.  0. ...  1.  1.  1.]]\n",
      "One star count [28.  4.  1. ...  0.  0.  0.]\n",
      "Five star count [38.  5.  0. ...  1.  1.  1.]\n"
     ]
    }
   ],
   "source": [
    "# first row is one-star reviews, second row is five-star reviews\n",
    "print('Token count \\n', model_pipe['model'].feature_count_)\n",
    "\n",
    "one_star_token_count = model_pipe['model'].feature_count_[0]\n",
    "five_star_token_count = model_pipe['model'].feature_count_[1]\n",
    "\n",
    "print('One star count', one_star_token_count)\n",
    "print('Five star count', five_star_token_count)"
   ]
  },
  {
   "cell_type": "code",
   "execution_count": 106,
   "metadata": {},
   "outputs": [
    {
     "name": "stdout",
     "output_type": "stream",
     "text": [
      "length of vocab 16712\n"
     ]
    }
   ],
   "source": [
    "# tokens\n",
    "train_vocab = model_pipe['preprocess'].get_feature_names()\n",
    "print('length of vocab',len(train_vocab))"
   ]
  },
  {
   "cell_type": "code",
   "execution_count": 129,
   "metadata": {},
   "outputs": [],
   "source": [
    "# create a DataFrame of tokens with their separate one-star and five-star counts\n",
    "\n",
    "tokens = pd.DataFrame(data={'Token':train_vocab, 'One star':one_star_token_count, 'Five star':five_star_token_count})"
   ]
  },
  {
   "cell_type": "code",
   "execution_count": 130,
   "metadata": {},
   "outputs": [],
   "source": [
    "# add 1 to one-star and five-star counts to avoid dividing by 0\n",
    "tokens['One star'] = tokens['One star']+ 1\n",
    "tokens['Five star'] = tokens['Five star']+ 1"
   ]
  },
  {
   "cell_type": "code",
   "execution_count": 139,
   "metadata": {},
   "outputs": [],
   "source": [
    "# convert the one-star and five-star counts into frequencies\n",
    "tokens['One star'] = tokens['One star'] / model_pipe['model'].class_count_[0]\n",
    "tokens['Five star'] = tokens['Five star'] / model_pipe['model'].class_count_[1]"
   ]
  },
  {
   "cell_type": "code",
   "execution_count": 142,
   "metadata": {},
   "outputs": [],
   "source": [
    "tokens['Five star ratio'] = tokens['Five star'] /  tokens['One star']"
   ]
  },
  {
   "cell_type": "code",
   "execution_count": 143,
   "metadata": {},
   "outputs": [
    {
     "data": {
      "text/html": [
       "<div>\n",
       "<style scoped>\n",
       "    .dataframe tbody tr th:only-of-type {\n",
       "        vertical-align: middle;\n",
       "    }\n",
       "\n",
       "    .dataframe tbody tr th {\n",
       "        vertical-align: top;\n",
       "    }\n",
       "\n",
       "    .dataframe thead th {\n",
       "        text-align: right;\n",
       "    }\n",
       "</style>\n",
       "<table border=\"1\" class=\"dataframe\">\n",
       "  <thead>\n",
       "    <tr style=\"text-align: right;\">\n",
       "      <th></th>\n",
       "      <th>Token</th>\n",
       "      <th>One star</th>\n",
       "      <th>Five star</th>\n",
       "      <th>Five star ratio</th>\n",
       "    </tr>\n",
       "  </thead>\n",
       "  <tbody>\n",
       "    <tr>\n",
       "      <th>14025</th>\n",
       "      <td>text_prep__staffperson</td>\n",
       "      <td>0.030909</td>\n",
       "      <td>0.000398</td>\n",
       "      <td>0.012869</td>\n",
       "    </tr>\n",
       "    <tr>\n",
       "      <th>15514</th>\n",
       "      <td>text_prep__ugh</td>\n",
       "      <td>0.025455</td>\n",
       "      <td>0.000398</td>\n",
       "      <td>0.015627</td>\n",
       "    </tr>\n",
       "    <tr>\n",
       "      <th>16627</th>\n",
       "      <td>text_prep__yuck</td>\n",
       "      <td>0.025455</td>\n",
       "      <td>0.000398</td>\n",
       "      <td>0.015627</td>\n",
       "    </tr>\n",
       "    <tr>\n",
       "      <th>5843</th>\n",
       "      <td>text_prep__flavorless</td>\n",
       "      <td>0.021818</td>\n",
       "      <td>0.000398</td>\n",
       "      <td>0.018231</td>\n",
       "    </tr>\n",
       "    <tr>\n",
       "      <th>4524</th>\n",
       "      <td>text_prep__disgusting</td>\n",
       "      <td>0.041818</td>\n",
       "      <td>0.000796</td>\n",
       "      <td>0.019024</td>\n",
       "    </tr>\n",
       "    <tr>\n",
       "      <th>...</th>\n",
       "      <td>...</td>\n",
       "      <td>...</td>\n",
       "      <td>...</td>\n",
       "      <td>...</td>\n",
       "    </tr>\n",
       "    <tr>\n",
       "      <th>5606</th>\n",
       "      <td>text_prep__favorite</td>\n",
       "      <td>0.009091</td>\n",
       "      <td>0.122514</td>\n",
       "      <td>13.476531</td>\n",
       "    </tr>\n",
       "    <tr>\n",
       "      <th>16632</th>\n",
       "      <td>text_prep__yum</td>\n",
       "      <td>0.001818</td>\n",
       "      <td>0.024662</td>\n",
       "      <td>13.564041</td>\n",
       "    </tr>\n",
       "    <tr>\n",
       "      <th>5492</th>\n",
       "      <td>text_prep__fabulous</td>\n",
       "      <td>0.001818</td>\n",
       "      <td>0.031424</td>\n",
       "      <td>17.283214</td>\n",
       "    </tr>\n",
       "    <tr>\n",
       "      <th>10906</th>\n",
       "      <td>text_prep__perfect</td>\n",
       "      <td>0.005455</td>\n",
       "      <td>0.097056</td>\n",
       "      <td>17.793689</td>\n",
       "    </tr>\n",
       "    <tr>\n",
       "      <th>5560</th>\n",
       "      <td>text_prep__fantastic</td>\n",
       "      <td>0.001818</td>\n",
       "      <td>0.077566</td>\n",
       "      <td>42.661098</td>\n",
       "    </tr>\n",
       "  </tbody>\n",
       "</table>\n",
       "<p>16712 rows × 4 columns</p>\n",
       "</div>"
      ],
      "text/plain": [
       "                        Token  One star  Five star  Five star ratio\n",
       "14025  text_prep__staffperson  0.030909   0.000398         0.012869\n",
       "15514          text_prep__ugh  0.025455   0.000398         0.015627\n",
       "16627         text_prep__yuck  0.025455   0.000398         0.015627\n",
       "5843    text_prep__flavorless  0.021818   0.000398         0.018231\n",
       "4524    text_prep__disgusting  0.041818   0.000796         0.019024\n",
       "...                       ...       ...        ...              ...\n",
       "5606      text_prep__favorite  0.009091   0.122514        13.476531\n",
       "16632          text_prep__yum  0.001818   0.024662        13.564041\n",
       "5492      text_prep__fabulous  0.001818   0.031424        17.283214\n",
       "10906      text_prep__perfect  0.005455   0.097056        17.793689\n",
       "5560     text_prep__fantastic  0.001818   0.077566        42.661098\n",
       "\n",
       "[16712 rows x 4 columns]"
      ]
     },
     "execution_count": 143,
     "metadata": {},
     "output_type": "execute_result"
    }
   ],
   "source": [
    "# sorting\n",
    "tokens.sort_values(by=['Five star ratio'])"
   ]
  },
  {
   "cell_type": "markdown",
   "metadata": {},
   "source": [
    "## Classification - five class\n",
    "let's repeat the model building process using all reviews, which makes this a 5-class classification problem."
   ]
  },
  {
   "cell_type": "code",
   "execution_count": 149,
   "metadata": {},
   "outputs": [
    {
     "name": "stdout",
     "output_type": "stream",
     "text": [
      "Shape of Features (10000, 9)\n",
      "Shape of Labels (10000,)\n",
      "Shape of X_train  (7500, 9)\n",
      "Shape of y_train  (7500,)\n",
      "Shape of X_test  (2500, 9)\n",
      "Shape of y_test  (2500,)\n"
     ]
    }
   ],
   "source": [
    "# FEATURES\n",
    "X = df.drop(columns=['stars'])\n",
    "y = df['stars']\n",
    "\n",
    "print('Shape of Features',X.shape)\n",
    "print('Shape of Labels',y.shape)\n",
    "\n",
    "# Train - Test Split\n",
    "X_train, X_test, y_train, y_test = train_test_split(X, y, random_state=42)\n",
    "print('Shape of X_train ',X_train.shape)\n",
    "print('Shape of y_train ',y_train.shape)\n",
    "print('Shape of X_test ',X_test.shape)\n",
    "print('Shape of y_test ',y_test.shape)"
   ]
  },
  {
   "cell_type": "markdown",
   "metadata": {},
   "source": [
    "## Pipeline"
   ]
  },
  {
   "cell_type": "code",
   "execution_count": 150,
   "metadata": {},
   "outputs": [],
   "source": [
    "# Feature\n",
    "text_feature = 'text'\n",
    "# Transformer\n",
    "text_transformer = CountVectorizer()\n",
    "\n",
    "# Preprocessing\n",
    "preprocessing = ColumnTransformer(transformers=[('text', text_transformer, text_feature)], remainder='drop')\n",
    "\n",
    "# Model building\n",
    "pipe = Pipeline(steps=[('preprocess', preprocessing), ('model', MultinomialNB())])"
   ]
  },
  {
   "cell_type": "markdown",
   "metadata": {},
   "source": [
    "## Training "
   ]
  },
  {
   "cell_type": "code",
   "execution_count": 151,
   "metadata": {},
   "outputs": [
    {
     "data": {
      "text/plain": [
       "0.4932"
      ]
     },
     "execution_count": 151,
     "metadata": {},
     "output_type": "execute_result"
    }
   ],
   "source": [
    "# train\n",
    "pipe.fit(X_train, y_train)\n",
    "# score\n",
    "pipe.score(X_test, y_test)"
   ]
  },
  {
   "cell_type": "code",
   "execution_count": 159,
   "metadata": {},
   "outputs": [],
   "source": [
    "y_preds = pipe.predict(X_test)"
   ]
  },
  {
   "cell_type": "markdown",
   "metadata": {},
   "source": [
    "## Confusion matrix"
   ]
  },
  {
   "cell_type": "code",
   "execution_count": 158,
   "metadata": {},
   "outputs": [
    {
     "data": {
      "text/plain": [
       "4    898\n",
       "5    826\n",
       "3    374\n",
       "2    221\n",
       "1    181\n",
       "Name: stars, dtype: int64"
      ]
     },
     "execution_count": 158,
     "metadata": {},
     "output_type": "execute_result"
    }
   ],
   "source": [
    "y_test.value_counts()"
   ]
  },
  {
   "cell_type": "code",
   "execution_count": 152,
   "metadata": {},
   "outputs": [
    {
     "data": {
      "image/png": "[encoded data removed]",
      "text/plain": [
       "<Figure size 432x288 with 2 Axes>"
      ]
     },
     "metadata": {
      "needs_background": "light"
     },
     "output_type": "display_data"
    }
   ],
   "source": [
    "plot_confusion_matrix(pipe, X_test, y_test);"
   ]
  },
  {
   "cell_type": "markdown",
   "metadata": {},
   "source": [
    "* Nearly all 4-star and 5-star reviews are classified as 4 or 5 stars, but they are hard for the model to distinguish between.\n",
    "* 1-star, 2-star, and 3-star reviews are most commonly classified as 4 stars, probably because it's the predominant class in the training data."
   ]
  },
  {
   "cell_type": "code",
   "execution_count": 160,
   "metadata": {},
   "outputs": [
    {
     "name": "stdout",
     "output_type": "stream",
     "text": [
      "              precision    recall  f1-score   support\n",
      "\n",
      "           1       0.60      0.28      0.38       181\n",
      "           2       0.36      0.10      0.15       221\n",
      "           3       0.36      0.11      0.17       374\n",
      "           4       0.44      0.74      0.55       898\n",
      "           5       0.60      0.56      0.58       826\n",
      "\n",
      "    accuracy                           0.49      2500\n",
      "   macro avg       0.48      0.35      0.37      2500\n",
      "weighted avg       0.49      0.49      0.46      2500\n",
      "\n"
     ]
    }
   ],
   "source": [
    "# print the classification report\n",
    "print(classification_report(y_test, y_preds))"
   ]
  },
  {
   "cell_type": "markdown",
   "metadata": {},
   "source": [
    "Precision answers the question: \"When a given class is predicted, how often are those predictions correct?\"\n",
    "\n",
    "To calculate the precision for class 1, for example, you divide 55 by the sum of the first column of the confusion matrix."
   ]
  },
  {
   "cell_type": "code",
   "execution_count": 178,
   "metadata": {},
   "outputs": [
    {
     "name": "stdout",
     "output_type": "stream",
     "text": [
      "Precision of class 1 is 0.6024096385542169\n"
     ]
    }
   ],
   "source": [
    "neu = confusion_matrix(y_test, y_preds)[0,0]\n",
    "deno = confusion_matrix(y_test, y_preds)[:,0]\n",
    "\n",
    "precision = neu / deno.sum()\n",
    "print('Precision of class 1 is', precision)"
   ]
  },
  {
   "cell_type": "markdown",
   "metadata": {},
   "source": [
    "\n",
    "Recall answers the question: \"When a given class is the true class, how often is that class predicted?\"\n",
    "\n",
    "To calculate the recall for class 1, for example, you divide 55 by the sum of the first row of the confusion matrix."
   ]
  },
  {
   "cell_type": "code",
   "execution_count": 179,
   "metadata": {},
   "outputs": [
    {
     "name": "stdout",
     "output_type": "stream",
     "text": [
      "Recall of class 1 is 0.27624309392265195\n"
     ]
    }
   ],
   "source": [
    "neu = confusion_matrix(y_test, y_preds)[0,0]\n",
    "deno = confusion_matrix(y_test, y_preds)[0,:]\n",
    "\n",
    "recall = neu / deno.sum()\n",
    "print('Recall of class 1 is', recall)"
   ]
  },
  {
   "cell_type": "markdown",
   "metadata": {},
   "source": [
    "F1 score is a weighted average of precision and recall."
   ]
  },
  {
   "cell_type": "code",
   "execution_count": 180,
   "metadata": {},
   "outputs": [
    {
     "name": "stdout",
     "output_type": "stream",
     "text": [
      "F1 score 0.3787878787878788\n"
     ]
    }
   ],
   "source": [
    "f1 = 2 * (precision * recall) / (precision + recall)\n",
    "\n",
    "print('F1 score',f1)"
   ]
  },
  {
   "cell_type": "markdown",
   "metadata": {},
   "source": [
    "Support answers the question: \"How many observations exist for which a given class is the true class?\"\n",
    "\n",
    "To calculate the support for class 1, for example, you sum the first row of the confusion matrix."
   ]
  },
  {
   "cell_type": "code",
   "execution_count": 181,
   "metadata": {},
   "outputs": [
    {
     "name": "stdout",
     "output_type": "stream",
     "text": [
      "Support for class 1 is  181\n"
     ]
    }
   ],
   "source": [
    "# support\n",
    "support = confusion_matrix(y_test, y_preds)[0,:].sum()\n",
    "print('Support for class 1 is ',support)"
   ]
  },
  {
   "cell_type": "markdown",
   "metadata": {},
   "source": [
    "## Hyper parameter tuning"
   ]
  },
  {
   "cell_type": "code",
   "execution_count": 185,
   "metadata": {},
   "outputs": [],
   "source": [
    "## utility\n",
    "\n",
    "def tuner(params, model):\n",
    "    gs = GridSearchCV(estimator=model, param_grid=params)\n",
    "    gs.fit(X, y)\n",
    "    return gs.best_score_"
   ]
  },
  {
   "cell_type": "code",
   "execution_count": 197,
   "metadata": {},
   "outputs": [
    {
     "name": "stdout",
     "output_type": "stream",
     "text": [
      "Best score  0.4848\n"
     ]
    }
   ],
   "source": [
    "# param-grid\n",
    "params = {'preprocess__text__stop_words': ['english']}\n",
    "# tuning\n",
    "print('Best score ',tuner(params, pipe))"
   ]
  },
  {
   "cell_type": "code",
   "execution_count": 198,
   "metadata": {},
   "outputs": [
    {
     "name": "stdout",
     "output_type": "stream",
     "text": [
      "Best score  0.4434\n"
     ]
    }
   ],
   "source": [
    "# param-grid\n",
    "params = {'preprocess__text__ngram_range': [(1,2)]}\n",
    "# tuning\n",
    "print('Best score ',tuner(params, pipe))"
   ]
  },
  {
   "cell_type": "code",
   "execution_count": 199,
   "metadata": {},
   "outputs": [
    {
     "name": "stdout",
     "output_type": "stream",
     "text": [
      "Best score  0.5154\n"
     ]
    }
   ],
   "source": [
    "# param-grid\n",
    "params = {'preprocess__text__min_df': [2]}\n",
    "# tuning\n",
    "print('Best score ',tuner(params, pipe))"
   ]
  },
  {
   "cell_type": "code",
   "execution_count": 206,
   "metadata": {},
   "outputs": [
    {
     "name": "stdout",
     "output_type": "stream",
     "text": [
      "Best score  0.5275000000000001\n"
     ]
    }
   ],
   "source": [
    "# param-grid\n",
    "params = {'preprocess__text__min_df': [2,4,8,16,32,64]}\n",
    "# tuning\n",
    "print('Best score ',tuner(params, pipe))"
   ]
  },
  {
   "cell_type": "code",
   "execution_count": 200,
   "metadata": {},
   "outputs": [
    {
     "name": "stdout",
     "output_type": "stream",
     "text": [
      "Best score  0.49119999999999997\n"
     ]
    }
   ],
   "source": [
    "# param-grid\n",
    "params = {'preprocess__text__max_df': [0.9]}\n",
    "# tuning\n",
    "print('Best score ',tuner(params, pipe))"
   ]
  },
  {
   "cell_type": "code",
   "execution_count": 203,
   "metadata": {},
   "outputs": [
    {
     "name": "stdout",
     "output_type": "stream",
     "text": [
      "Best score  0.5002\n"
     ]
    }
   ],
   "source": [
    "# param-grid\n",
    "params = {'preprocess__text__stop_words': ['english'],\n",
    "          'preprocess__text__min_df': [2],\n",
    "          'preprocess__text__max_df': [0.9]\n",
    "          }\n",
    "# tuning\n",
    "print('Best score ',tuner(params, pipe))"
   ]
  },
  {
   "cell_type": "code",
   "execution_count": 205,
   "metadata": {},
   "outputs": [
    {
     "name": "stdout",
     "output_type": "stream",
     "text": [
      "Best score  0.5256000000000001\n"
     ]
    }
   ],
   "source": [
    "# param-grid\n",
    "params = {'preprocess__text__stop_words': ['english'],\n",
    "          'preprocess__text__ngram_range': [(1,2)],\n",
    "          'preprocess__text__min_df': [5],\n",
    "          'preprocess__text__max_df': [0.9]\n",
    "          }\n",
    "# tuning\n",
    "print('Best score ',tuner(params, pipe))"
   ]
  },
  {
   "cell_type": "code",
   "execution_count": 208,
   "metadata": {},
   "outputs": [
    {
     "name": "stdout",
     "output_type": "stream",
     "text": [
      "Best score  0.507\n"
     ]
    }
   ],
   "source": [
    "# param-grid\n",
    "params = {'preprocess__text__stop_words': ['english'],\n",
    "          'preprocess__text__min_df': [10],\n",
    "          'preprocess__text__max_df': [0.9]\n",
    "          }\n",
    "# tuning\n",
    "print('Best score ',tuner(params, pipe))"
   ]
  },
  {
   "cell_type": "code",
   "execution_count": 209,
   "metadata": {},
   "outputs": [
    {
     "name": "stdout",
     "output_type": "stream",
     "text": [
      "Best score  0.5246000000000001\n"
     ]
    }
   ],
   "source": [
    "# param-grid\n",
    "params = {'preprocess__text__stop_words': ['english'],\n",
    "          'preprocess__text__ngram_range': [(1,2)],\n",
    "          'preprocess__text__min_df': [2,4,8,16,32],\n",
    "          'preprocess__text__max_df': [0.9]\n",
    "          }\n",
    "# tuning\n",
    "print('Best score ',tuner(params, pipe))"
   ]
  },
  {
   "cell_type": "code",
   "execution_count": null,
   "metadata": {},
   "outputs": [],
   "source": []
  }
 ],
 "metadata": {
  "kernelspec": {
   "display_name": "Python 3",
   "language": "python",
   "name": "python3"
  },
  "language_info": {
   "codemirror_mode": {
    "name": "ipython",
    "version": 3
   },
   "file_extension": ".py",
   "mimetype": "text/x-python",
   "name": "python",
   "nbconvert_exporter": "python",
   "pygments_lexer": "ipython3",
   "version": "3.7.9"
  }
 },
 "nbformat": 4,
 "nbformat_minor": 4
}
