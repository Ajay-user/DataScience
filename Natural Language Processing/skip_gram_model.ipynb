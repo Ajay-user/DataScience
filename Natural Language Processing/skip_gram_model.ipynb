{
  "nbformat": 4,
  "nbformat_minor": 0,
  "metadata": {
    "colab": {
      "provenance": [],
      "authorship_tag": "ABX9TyPaFB1KuUNHutTLjo8XO+9h",
      "include_colab_link": true
    },
    "kernelspec": {
      "name": "python3",
      "display_name": "Python 3"
    },
    "language_info": {
      "name": "python"
    }
  },
  "cells": [
    {
      "cell_type": "markdown",
      "metadata": {
        "id": "view-in-github",
        "colab_type": "text"
      },
      "source": [
        "<a href=\"https://colab.research.google.com/github/Ajay-user/ML-DL-RL-repo/blob/master/Natural%20Language%20Processing/skip_gram_model.ipynb\" target=\"_parent\"><img src=\"https://colab.research.google.com/assets/colab-badge.svg\" alt=\"Open In Colab\"/></a>"
      ]
    },
    {
      "cell_type": "markdown",
      "source": [
        "##word2vec \n",
        "word2vec is not a singular algorithm, rather, it is a family of model architectures and optimizations that can be used to learn word embeddings from large datasets. \n",
        "\n",
        "Embeddings learned through word2vec have proven to be successful on a variety of downstream natural language processing tasks..\n",
        "\n",
        "### Two methods for learning representations of words\n",
        "\n",
        "* `Continuous bag-of-words model`: predicts the middle word based on surrounding context words.\n",
        "  * a bag-of-words model predicts a word given the neighboring context\n",
        "\n",
        "* `Continuous skip-gram model`: predicts words within a certain range before and after the current word in the same sentence.\n",
        "  * a skip-gram model predicts the context (or neighbors) of a given word\n",
        "\n",
        "\n",
        "\n",
        "\n",
        "## Skip-gram and negative sampling\n",
        "\n",
        "Lets build a model that is trained on skip-grams, which are n-grams that allow tokens to be skipped. \n",
        "\n",
        "The context of a word can be represented through a set of skip-gram pairs of (target_word, context_word) where context_word appears in the neighboring context of target_word.\n",
        "\n",
        "\n",
        "* The context words for a word in a sentence is defined by a window size. \n",
        "\n",
        "* The window size determines the span of words on either side of a target_word that can be considered a context word.\n",
        "\n",
        "* A window size of `n` implies `n` words on each side of target-word , with a total window span of `2*n+1` words across a word.\n",
        "\n",
        "**sample text** <br>\n",
        "`The wide road shimmered in the hot sun.`\n",
        "\n",
        "**target-word = `shimmered`**\n",
        "\n",
        "**window size = 2** <br>\n",
        "`The [wide road shimmered in the] hot sun.`\n",
        "\n",
        "**skip-grams** <br>\n",
        "* `shimmered wide`\n",
        "* `shimmered road`\n",
        "* `shimmered in`\n",
        "* `shimmered the`\n",
        "\n",
        "\n",
        "## Model architecture\n",
        "\n",
        "<img src='https://miro.medium.com/max/720/1*fTjKtIwaRREoXh9Oj7zlyQ.webp'>\n",
        "\n",
        "## Cost function\n",
        "\n",
        "* The training objective of the skip-gram model is to maximize the probability of predicting context words given the target word. \n",
        "\n",
        "**cost function**\n",
        "\n",
        "`log(p(context-word | target-word, theta))`\n",
        "\n",
        "`theta` represent the model parameters that we have to learn\n",
        "\n",
        "we seek model parameters that optimize this cost function\n",
        "\n",
        "**The basic skip-gram formulation defines this probability using the softmax function.**\n",
        "\n",
        "<img src='https://miro.medium.com/max/720/1*DV1xvqFEB12EI776KpEPhA.webp'>\n",
        "\n",
        "## Bottle-neck\n",
        "\n",
        "<img src='https://miro.medium.com/max/720/1*rBtSsuivvRdxUVOXD7Xc_w.webp'>\n",
        "\n",
        "**Computing the denominator of this formulation involves performing a full softmax over the entire vocabulary words, which are often very large**\n",
        "\n",
        "How can we overcome this bottleneck layer?\n",
        "\n",
        "Can we approxiamte the softmax-layer? \n",
        "\n",
        "## Noise Contrastive Estimation (NCE) as loss function\n",
        "The noise contrastive estimation (NCE) loss function is an efficient approximation for a full softmax. \n",
        "\n",
        "With an objective to learn word embeddings instead of modeling the word distribution, the NCE loss can be simplified to use negative sampling.\n",
        "\n",
        "## What is negative sampling?\n",
        "\n",
        "The simplified negative sampling objective for a target word is to distinguish the context word from `num_ns` negative samples drawn from noise distribution `Pn(w)` of words. \n",
        "\n",
        "## An efficient approximation of full softmax over the vocabulary\n",
        "Pose the loss for a target word as a classification problem between the `context word` and `num_ns` negative samples.\n",
        "\n",
        "## An example of a negative-sample\n",
        "Words that does not appear in the context-window of the target word\n",
        "\n",
        "**sample text** <br>\n",
        "`The wide road shimmered in the hot sun.`\n",
        "\n",
        "**target-word = `shimmered`**\n",
        "\n",
        "**window size = 2** <br>\n",
        "`The [wide road shimmered in the] hot sun.`\n",
        "\n",
        "**negative-sample** <br>\n",
        "* `<target-word negative-sample>`\n",
        "* `shimmered The`\n",
        "* `shimmered hot`\n",
        "* `shimmered sun`\n"
      ],
      "metadata": {
        "id": "Y3HvEo5_IOLJ"
      }
    },
    {
      "cell_type": "code",
      "execution_count": 1,
      "metadata": {
        "id": "vU_xrX56IEHC"
      },
      "outputs": [],
      "source": [
        "import pathlib\n",
        "import string\n",
        "\n",
        "import tensorflow as tf\n",
        "import numpy as np"
      ]
    },
    {
      "cell_type": "markdown",
      "source": [
        "## Download text corpus 🧲"
      ],
      "metadata": {
        "id": "qcSM6Czma67K"
      }
    },
    {
      "cell_type": "code",
      "source": [
        "path_to_file = tf.keras.utils.get_file(fname='shakespeare.txt', origin='https://storage.googleapis.com/download.tensorflow.org/data/shakespeare.txt')\n",
        "\n",
        "path_to_file = pathlib.Path(path_to_file)"
      ],
      "metadata": {
        "id": "fPLypr2IazjJ"
      },
      "execution_count": 2,
      "outputs": []
    },
    {
      "cell_type": "markdown",
      "source": [
        "### Lets view sentences from the corpus 👓"
      ],
      "metadata": {
        "id": "Hc3xCjltbe5P"
      }
    },
    {
      "cell_type": "code",
      "source": [
        "raw = path_to_file.read_text(encoding='utf-8')\n",
        "lines = raw.splitlines()\n",
        "\n",
        "# print first 25 lines\n",
        "print('\\n'.join(lines[:25]))"
      ],
      "metadata": {
        "colab": {
          "base_uri": "https://localhost:8080/"
        },
        "id": "iI0UuKSKbbwY",
        "outputId": "f3c5f75c-033e-4ae9-a1eb-7066a7558ac6"
      },
      "execution_count": 3,
      "outputs": [
        {
          "output_type": "stream",
          "name": "stdout",
          "text": [
            "First Citizen:\n",
            "Before we proceed any further, hear me speak.\n",
            "\n",
            "All:\n",
            "Speak, speak.\n",
            "\n",
            "First Citizen:\n",
            "You are all resolved rather to die than to famish?\n",
            "\n",
            "All:\n",
            "Resolved. resolved.\n",
            "\n",
            "First Citizen:\n",
            "First, you know Caius Marcius is chief enemy to the people.\n",
            "\n",
            "All:\n",
            "We know't, we know't.\n",
            "\n",
            "First Citizen:\n",
            "Let us kill him, and we'll have corn at our own price.\n",
            "Is't a verdict?\n",
            "\n",
            "All:\n",
            "No more talking on't; let it be done: away, away!\n",
            "\n"
          ]
        }
      ]
    },
    {
      "cell_type": "markdown",
      "source": [
        "### Create a dataset 📘\n",
        "* Read the data\n",
        "* Split the lines\n",
        "* Filter off new-lines and whitespaces"
      ],
      "metadata": {
        "id": "1ZIamrV9cRUP"
      }
    },
    {
      "cell_type": "code",
      "source": [
        "lines_ds = tf.data.TextLineDataset(filenames=path_to_file).filter(lambda x: tf.strings.length(x)>0)\n",
        "\n",
        "for line in lines_ds.take(5):\n",
        "  print(line)"
      ],
      "metadata": {
        "colab": {
          "base_uri": "https://localhost:8080/"
        },
        "id": "jzNcnWUVbdie",
        "outputId": "6f94819f-f566-434e-c206-0007e3275cbf"
      },
      "execution_count": 4,
      "outputs": [
        {
          "output_type": "stream",
          "name": "stdout",
          "text": [
            "tf.Tensor(b'First Citizen:', shape=(), dtype=string)\n",
            "tf.Tensor(b'Before we proceed any further, hear me speak.', shape=(), dtype=string)\n",
            "tf.Tensor(b'All:', shape=(), dtype=string)\n",
            "tf.Tensor(b'Speak, speak.', shape=(), dtype=string)\n",
            "tf.Tensor(b'First Citizen:', shape=(), dtype=string)\n"
          ]
        }
      ]
    },
    {
      "cell_type": "markdown",
      "source": [
        "## Vectorize sentences from the corpus 📖\n",
        "\n",
        "* Convert the sentences to lowercase\n",
        "* Remove punctuation"
      ],
      "metadata": {
        "id": "Qt7m4A1Md-41"
      }
    },
    {
      "cell_type": "code",
      "source": [
        "def custom_standardizer(input):\n",
        "  lower = tf.strings.lower(input)\n",
        "  remove_punctuation = tf.strings.regex_replace(input=lower, pattern=f'[{string.punctuation}]', rewrite='')\n",
        "  return remove_punctuation"
      ],
      "metadata": {
        "id": "CgxxHmnOdKtW"
      },
      "execution_count": 5,
      "outputs": []
    },
    {
      "cell_type": "code",
      "source": [
        "# Define the vocabulary size and the number of words in a sequence.\n",
        "vocab_size = 4096\n",
        "sequence_length = 10"
      ],
      "metadata": {
        "id": "LZqv5IS8fbKV"
      },
      "execution_count": 6,
      "outputs": []
    },
    {
      "cell_type": "code",
      "source": [
        "vectorizer = tf.keras.layers.TextVectorization(max_tokens=vocab_size, standardize=custom_standardizer,\n",
        "                                               output_mode='int', output_sequence_length=sequence_length)"
      ],
      "metadata": {
        "id": "KNaoKWQxegIM"
      },
      "execution_count": 7,
      "outputs": []
    },
    {
      "cell_type": "markdown",
      "source": [
        "#### Call TextVectorization.adapt on the text dataset to create vocabulary."
      ],
      "metadata": {
        "id": "f33s0eyxfwAF"
      }
    },
    {
      "cell_type": "code",
      "source": [
        "vectorizer.adapt(lines_ds.batch(1024))"
      ],
      "metadata": {
        "id": "z9DjEBEBfojr"
      },
      "execution_count": 8,
      "outputs": []
    },
    {
      "cell_type": "code",
      "source": [
        "vectorizer.get_vocabulary()[:10]"
      ],
      "metadata": {
        "colab": {
          "base_uri": "https://localhost:8080/"
        },
        "id": "aDMSy50hftTi",
        "outputId": "06788d9e-09fc-4b54-d29e-9470a1bf55bc"
      },
      "execution_count": 9,
      "outputs": [
        {
          "output_type": "execute_result",
          "data": {
            "text/plain": [
              "['', '[UNK]', 'the', 'and', 'to', 'i', 'of', 'you', 'my', 'a']"
            ]
          },
          "metadata": {},
          "execution_count": 9
        }
      ]
    },
    {
      "cell_type": "markdown",
      "source": [
        "### Vectorized text"
      ],
      "metadata": {
        "id": "85zgB_wxiYz5"
      }
    },
    {
      "cell_type": "code",
      "source": [
        "vectorized_ds = lines_ds.batch(1024).prefetch(tf.data.AUTOTUNE).map(vectorizer).unbatch()"
      ],
      "metadata": {
        "id": "S273JvbtgCVp"
      },
      "execution_count": 10,
      "outputs": []
    },
    {
      "cell_type": "code",
      "source": [
        "vectorized_text = list(vectorized_ds.as_numpy_iterator())\n",
        "\n",
        "for vector in vectorized_text[:5]:\n",
        "  print(vector,'==>',[vectorizer.get_vocabulary()[i] for i in vector ])"
      ],
      "metadata": {
        "colab": {
          "base_uri": "https://localhost:8080/"
        },
        "id": "R53HJOXRiYRa",
        "outputId": "02d282d0-2d57-4fb7-9c99-686f8a1ad8d4"
      },
      "execution_count": 11,
      "outputs": [
        {
          "output_type": "stream",
          "name": "stdout",
          "text": [
            "[ 89 270   0   0   0   0   0   0   0   0] ==> ['first', 'citizen', '', '', '', '', '', '', '', '']\n",
            "[138  36 982 144 673 125  16 106   0   0] ==> ['before', 'we', 'proceed', 'any', 'further', 'hear', 'me', 'speak', '', '']\n",
            "[34  0  0  0  0  0  0  0  0  0] ==> ['all', '', '', '', '', '', '', '', '', '']\n",
            "[106 106   0   0   0   0   0   0   0   0] ==> ['speak', 'speak', '', '', '', '', '', '', '', '']\n",
            "[ 89 270   0   0   0   0   0   0   0   0] ==> ['first', 'citizen', '', '', '', '', '', '', '', '']\n"
          ]
        }
      ]
    },
    {
      "cell_type": "markdown",
      "source": [
        "## Generate skip-grams \n",
        "\n",
        "The `tf.keras.preprocessing.sequence` module provides useful functions that simplify data preparation for word2vec. \n",
        "\n",
        "\n",
        "* use the `tf.keras.preprocessing.sequence.skipgrams`\n",
        "\n",
        "### Skip-gram sampling table\n",
        "A large dataset means larger vocabulary with higher number of more frequent words such as stopwords. \n",
        "\n",
        "Training examples obtained from sampling commonly occurring words don't add much useful information for the model to learn from. \n",
        "\n",
        "It's recommended to subsampling of frequent words as a helpful practice to improve embedding quality.\n",
        "\n",
        "The `tf.keras.preprocessing.sequence.skipgrams` function accepts a sampling table argument to encode probabilities of sampling any token. \n",
        "\n",
        "You can use the `tf.keras.preprocessing.sequence.make_sampling_table` to generate a word-frequency rank based probabilistic sampling table and pass it to the skipgrams function.\n"
      ],
      "metadata": {
        "id": "lZj4uLgfiBZw"
      }
    },
    {
      "cell_type": "code",
      "source": [
        "WINDOW = 2"
      ],
      "metadata": {
        "id": "sNc0xNk9jkLo"
      },
      "execution_count": 12,
      "outputs": []
    },
    {
      "cell_type": "code",
      "source": [
        "sampling_table = tf.keras.preprocessing.sequence.make_sampling_table(size=vectorizer.vocabulary_size())"
      ],
      "metadata": {
        "id": "ULFJevIJoEQj"
      },
      "execution_count": 13,
      "outputs": []
    },
    {
      "cell_type": "markdown",
      "source": [
        "### Generate positive skip-grams from one sentence\n",
        "\n",
        "Lets to set the `negative_samples` param to `zero` to generate only postive skip-grams\n"
      ],
      "metadata": {
        "id": "Hnep5ZKUkqiW"
      }
    },
    {
      "cell_type": "code",
      "source": [
        "sentence = vectorized_text[1]\n",
        "print(sentence,'==>',[vectorizer.get_vocabulary()[i] for i in sentence ])"
      ],
      "metadata": {
        "colab": {
          "base_uri": "https://localhost:8080/"
        },
        "id": "AYFQUSMiks7f",
        "outputId": "025fb806-f526-4c9e-d94e-2b7f447b9acb"
      },
      "execution_count": 14,
      "outputs": [
        {
          "output_type": "stream",
          "name": "stdout",
          "text": [
            "[138  36 982 144 673 125  16 106   0   0] ==> ['before', 'we', 'proceed', 'any', 'further', 'hear', 'me', 'speak', '', '']\n"
          ]
        }
      ]
    },
    {
      "cell_type": "code",
      "source": [
        "positive_skip_grams, label = tf.keras.preprocessing.sequence.skipgrams(sequence=sentence, \n",
        "                                                          vocabulary_size=vectorizer.vocabulary_size(),\n",
        "                                                          window_size=WINDOW, negative_samples=0.0, \n",
        "                                                          sampling_table=sampling_table)"
      ],
      "metadata": {
        "id": "_ehoQ7OOh7ky"
      },
      "execution_count": 15,
      "outputs": []
    },
    {
      "cell_type": "markdown",
      "source": [
        "Print a few positive skip-grams:"
      ],
      "metadata": {
        "id": "ub9D9yg8l55l"
      }
    },
    {
      "cell_type": "code",
      "source": [
        "for target_word, context_word in positive_skip_grams:\n",
        "  print(f'{vectorizer.get_vocabulary()[target_word]} [{target_word}] <===> {vectorizer.get_vocabulary()[context_word]} [{context_word}]' )"
      ],
      "metadata": {
        "colab": {
          "base_uri": "https://localhost:8080/"
        },
        "id": "1RSCVn9vj--G",
        "outputId": "88172cce-fd75-40b3-c32a-ba374b2e33e4"
      },
      "execution_count": 16,
      "outputs": [
        {
          "output_type": "stream",
          "name": "stdout",
          "text": [
            "we [36] <===> before [138]\n",
            "we [36] <===> proceed [982]\n",
            "we [36] <===> any [144]\n"
          ]
        }
      ]
    },
    {
      "cell_type": "markdown",
      "source": [
        "### Negative sampling for non-context words\n",
        "\n",
        "The skipgrams function returns all positive skip-gram pairs by sliding over a given window span. \n",
        "\n",
        "**To produce additional skip-gram pairs that would serve as negative samples for training, you need to sample random words from the vocabulary.**\n",
        "\n",
        "\n",
        "* Use the `tf.random.log_uniform_candidate_sampler` function to sample `num_ns` number of negative samples for a given target word in a window. \n",
        "\n",
        "* **Key Point**: `num_ns` in the `[5, 20]` range is shown to work best for smaller datasets, while num_ns in the `[2, 5]` range suffices for larger datasets."
      ],
      "metadata": {
        "id": "dnxuzAb9pGqh"
      }
    },
    {
      "cell_type": "code",
      "source": [
        "# Get target and context words for one positive skip-gram.\n",
        "target_word, context_word = positive_skip_grams[0]\n",
        "\n",
        "# Set the number of negative samples per positive context.\n",
        "num_ns = 4"
      ],
      "metadata": {
        "id": "T5i74biqoq0h"
      },
      "execution_count": 17,
      "outputs": []
    },
    {
      "cell_type": "code",
      "source": [
        "print('TARGET WORD  :',target_word)\n",
        "print('CONTEXT WORD :',context_word)"
      ],
      "metadata": {
        "colab": {
          "base_uri": "https://localhost:8080/"
        },
        "id": "am0sg9zDqkbh",
        "outputId": "9dd029dc-8fbc-4059-a3a1-7c566f0afb71"
      },
      "execution_count": 18,
      "outputs": [
        {
          "output_type": "stream",
          "name": "stdout",
          "text": [
            "TARGET WORD  : 36\n",
            "CONTEXT WORD : 138\n"
          ]
        }
      ]
    },
    {
      "cell_type": "markdown",
      "source": [
        "`tf.random.log_uniform_candidate_sampler`\n",
        "\n",
        "* `true_classes`\tA Tensor of type int64 and shape `[batch_size,num_true]`. The target classes.\n",
        "* `num_true`\tAn int. The number of target classes per training example.\n",
        "* `num_sampled`\tAn int. The number of classes to randomly sample.\n",
        "* `unique`\tA bool. Determines whether all sampled classes in a batch are unique.\n",
        "* `range_max`\tAn int. The number of possible classes.\n",
        "* `seed`\tAn int. An operation-specific seed. Default is 0.\n",
        "* `name`\tA name for the operation (optional)."
      ],
      "metadata": {
        "id": "SZb4Lt36rDMP"
      }
    },
    {
      "cell_type": "code",
      "source": [
        "context_class = tf.constant(context_word, dtype=tf.int64)\n",
        "context_class = tf.reshape(context_class, shape=[1,1])\n",
        "\n",
        "context_class"
      ],
      "metadata": {
        "colab": {
          "base_uri": "https://localhost:8080/"
        },
        "id": "8Tl6SeSGrghI",
        "outputId": "fe7c20e1-088a-4c75-fb76-04d0445e4137"
      },
      "execution_count": 19,
      "outputs": [
        {
          "output_type": "execute_result",
          "data": {
            "text/plain": [
              "<tf.Tensor: shape=(1, 1), dtype=int64, numpy=array([[138]])>"
            ]
          },
          "metadata": {},
          "execution_count": 19
        }
      ]
    },
    {
      "cell_type": "code",
      "source": [
        "sampled_candidates,_,_=   tf.random.log_uniform_candidate_sampler(true_classes=context_class, num_true=1, \n",
        "                                                               num_sampled=num_ns,\n",
        "                                                               unique=True, \n",
        "                                                               range_max=vectorizer.vocabulary_size())"
      ],
      "metadata": {
        "id": "z3WNRe2zqr-w"
      },
      "execution_count": 20,
      "outputs": []
    },
    {
      "cell_type": "code",
      "source": [
        "sampled_candidates"
      ],
      "metadata": {
        "colab": {
          "base_uri": "https://localhost:8080/"
        },
        "id": "e24RW08VtAtm",
        "outputId": "891dd91b-193e-4e08-f69a-abc523f11d25"
      },
      "execution_count": 21,
      "outputs": [
        {
          "output_type": "execute_result",
          "data": {
            "text/plain": [
              "<tf.Tensor: shape=(4,), dtype=int64, numpy=array([  49, 1053,    8,    9])>"
            ]
          },
          "metadata": {},
          "execution_count": 21
        }
      ]
    },
    {
      "cell_type": "code",
      "source": [
        "[vectorizer.get_vocabulary()[i] for i in sampled_candidates] "
      ],
      "metadata": {
        "colab": {
          "base_uri": "https://localhost:8080/"
        },
        "id": "odExLk8mtC-N",
        "outputId": "c517303f-1b43-43c5-c36f-a7512fd0ec97"
      },
      "execution_count": 22,
      "outputs": [
        {
          "output_type": "execute_result",
          "data": {
            "text/plain": [
              "['come', 'struck', 'my', 'a']"
            ]
          },
          "metadata": {},
          "execution_count": 22
        }
      ]
    },
    {
      "cell_type": "markdown",
      "source": [
        "### Construct one training example\n",
        "\n",
        "For a given positive (target_word, context_word) skip-gram, you now also have `num_ns` negative sampled context words that do not appear in the window size neighborhood of target_word. \n",
        "\n",
        "one training example = `(target_word, [context_word, negative_samples], [labels])`"
      ],
      "metadata": {
        "id": "4LHRmCUFtfe1"
      }
    },
    {
      "cell_type": "code",
      "source": [
        "context_and_negatives = [context_word, *sampled_candidates.numpy()]\n",
        "labels = [1] + [0]*num_ns"
      ],
      "metadata": {
        "id": "sK3GvP8vtQPt"
      },
      "execution_count": 23,
      "outputs": []
    },
    {
      "cell_type": "code",
      "source": [
        "training_example = (target_word, context_and_negatives, labels)\n",
        "training_example"
      ],
      "metadata": {
        "colab": {
          "base_uri": "https://localhost:8080/"
        },
        "id": "i4vDweePvA6M",
        "outputId": "a4d8dab5-d59c-4b4e-806a-68d83bfeadba"
      },
      "execution_count": 24,
      "outputs": [
        {
          "output_type": "execute_result",
          "data": {
            "text/plain": [
              "(36, [138, 49, 1053, 8, 9], [1, 0, 0, 0, 0])"
            ]
          },
          "metadata": {},
          "execution_count": 24
        }
      ]
    },
    {
      "cell_type": "markdown",
      "source": [
        "### Skip-grams generator"
      ],
      "metadata": {
        "id": "BuNuOPIuwNHD"
      }
    },
    {
      "cell_type": "code",
      "source": [
        "\n",
        "def skip_grams_generator(inputs, vocab_size, num_ns, window_size, seed):\n",
        "  target_words, context_and_negatives, labels = [],[],[]\n",
        "  # SAMPLING TABLE\n",
        "  sampling_table = tf.keras.preprocessing.sequence.make_sampling_table(size=vocab_size)\n",
        "  for sentence_vector in inputs:\n",
        "    # POSITIVE SKIP GRAMS\n",
        "    positive_skip_grams,_ = tf.keras.preprocessing.sequence.skipgrams(sequence=sentence_vector,\n",
        "                                                                    vocabulary_size=vocab_size,\n",
        "                                                                    window_size=window_size,\n",
        "                                                                    negative_samples=0.0,\n",
        "                                                                    sampling_table=sampling_table)\n",
        "    # NEGATIVE SAMPLING\n",
        "    for target_word, context_word in positive_skip_grams:\n",
        "      context_class = tf.constant(context_word, dtype=tf.int64)\n",
        "      context_class = tf.reshape(context_class, shape=[1,1])\n",
        "      negative_samples,_,_=   tf.random.log_uniform_candidate_sampler(true_classes=context_class, num_true=1, \n",
        "                                                               num_sampled=num_ns,\n",
        "                                                               unique=True, \n",
        "                                                               range_max=vocab_size,\n",
        "                                                               seed=seed)\n",
        "\n",
        "    \n",
        "      # TARGET WORDS\n",
        "      target_words.append(target_word)\n",
        "      # CONTEXT AND NEGATIVES\n",
        "      concated = tf.concat([tf.squeeze(context_class, axis=1) ,sampled_candidates], axis=0)\n",
        "      context_and_negatives.append(concated)\n",
        "      # LABELS\n",
        "      label = tf.constant([1]+[0]*num_ns, dtype=tf.int64)\n",
        "      labels.append(label)\n",
        "\n",
        "  \n",
        "  return np.array(target_words), np.array(context_and_negatives), np.array(labels)\n",
        "    "
      ],
      "metadata": {
        "id": "12OaFbpAvOHK"
      },
      "execution_count": 25,
      "outputs": []
    },
    {
      "cell_type": "code",
      "source": [
        "target_words, context_and_negatives, labels = skip_grams_generator(vectorized_text,\n",
        "                                                                   vocab_size=vectorizer.vocabulary_size(),\n",
        "                                                                   num_ns=4,\n",
        "                                                                   window_size=2,\n",
        "                                                                   seed=42)"
      ],
      "metadata": {
        "id": "vNpvGety2gLe"
      },
      "execution_count": 26,
      "outputs": []
    },
    {
      "cell_type": "code",
      "source": [
        "print('TARGET WORDS SHAPE : ',target_words.shape)\n",
        "print('CONTEXT AND NEGATIVE SAMPLES SHAPE : ',context_and_negatives.shape)\n",
        "print('LABELS SHAPE : ',labels.shape)"
      ],
      "metadata": {
        "colab": {
          "base_uri": "https://localhost:8080/"
        },
        "id": "OZU8S2eOM4VE",
        "outputId": "f7bbf662-cb72-4b17-efd2-95d0dbc3ae6e"
      },
      "execution_count": 27,
      "outputs": [
        {
          "output_type": "stream",
          "name": "stdout",
          "text": [
            "TARGET WORDS SHAPE :  (65411,)\n",
            "CONTEXT AND NEGATIVE SAMPLES SHAPE :  (65411, 5)\n",
            "LABELS SHAPE :  (65411, 5)\n"
          ]
        }
      ]
    },
    {
      "cell_type": "code",
      "source": [
        "print('TARGET WORDS example : ',target_words[0])\n",
        "print('CONTEXT AND NEGATIVE SAMPLES example : ',context_and_negatives[0])\n",
        "print('LABELS example : ',labels[0])"
      ],
      "metadata": {
        "colab": {
          "base_uri": "https://localhost:8080/"
        },
        "id": "BIqSGnCJUCpy",
        "outputId": "7a0eccd9-35e6-4e94-e3ec-65713a309cf2"
      },
      "execution_count": 28,
      "outputs": [
        {
          "output_type": "stream",
          "name": "stdout",
          "text": [
            "TARGET WORDS example :  270\n",
            "CONTEXT AND NEGATIVE SAMPLES example :  [  89   49 1053    8    9]\n",
            "LABELS example :  [1 0 0 0 0]\n"
          ]
        }
      ]
    },
    {
      "cell_type": "markdown",
      "source": [
        "### Create a training example"
      ],
      "metadata": {
        "id": "BK9i9_WnOEIU"
      }
    },
    {
      "cell_type": "code",
      "source": [
        "BATCH_SIZE = 1024\n",
        "BUFFER_SIZE = 10000\n",
        "train_ds = tf.data.Dataset.from_tensor_slices(((target_words, context_and_negatives), labels))\n",
        "train_ds = train_ds.shuffle(BUFFER_SIZE).batch(BATCH_SIZE, drop_remainder=True)"
      ],
      "metadata": {
        "id": "-ckbM1RaOCz0"
      },
      "execution_count": 29,
      "outputs": []
    },
    {
      "cell_type": "markdown",
      "source": [
        "### Configure for performance\n",
        "* Apply Dataset.cache and Dataset.prefetch to improve performance:"
      ],
      "metadata": {
        "id": "pahUUuGTN_h1"
      }
    },
    {
      "cell_type": "code",
      "source": [
        "train_ds = train_ds.cache().prefetch(tf.data.AUTOTUNE)"
      ],
      "metadata": {
        "id": "piAQWuke0Xiu"
      },
      "execution_count": 30,
      "outputs": []
    },
    {
      "cell_type": "code",
      "source": [
        "# lets looks at a training sample\n",
        "train_batch, label_batch = next(iter(train_ds))\n",
        "\n",
        "example_target_batch, example_context_batch = train_batch\n",
        "example_target = example_target_batch[0]\n",
        "example_context = example_context_batch[0]\n",
        "example_label = label_batch[0]\n",
        "\n",
        "print('TARGET WORD example : ',example_target)\n",
        "print('CONTEXT AND NEGATIVE SAMPLEs example : ',example_context)\n",
        "print('LABELS example : ',example_label)"
      ],
      "metadata": {
        "colab": {
          "base_uri": "https://localhost:8080/"
        },
        "id": "8xRnAe-ASeT6",
        "outputId": "9e6fee33-e72f-48f8-cd8a-1d99b5f47197"
      },
      "execution_count": 31,
      "outputs": [
        {
          "output_type": "stream",
          "name": "stdout",
          "text": [
            "TARGET WORD example :  tf.Tensor(148, shape=(), dtype=int64)\n",
            "CONTEXT AND NEGATIVE SAMPLEs example :  tf.Tensor([ 225   49 1053    8    9], shape=(5,), dtype=int64)\n",
            "LABELS example :  tf.Tensor([1 0 0 0 0], shape=(5,), dtype=int64)\n"
          ]
        }
      ]
    },
    {
      "cell_type": "markdown",
      "source": [
        "## Modeling \n",
        "\n",
        "The word2vec model can be implemented as a classifier to identify the true context words from skip-grams.\n",
        "\n",
        "* a training example = `(target_word, [context_word, negative_samples], [labels])`\n",
        "\n",
        "The false context words are obtained through negative sampling. \n",
        "\n",
        "We can perform a dot product multiplication between the embeddings of target and context words to obtain predictions for labels and compute the loss function against true labels in the dataset.\n",
        "\n",
        "\n",
        "####  Use the Keras Subclassing API to define your word2vec model with the following layers:\n",
        "\n",
        "* `target_embedding`: A `tf.keras.layers.Embedding layer`, which looks up the embedding of a word \n",
        "\n",
        "* `context_embedding`: Another `tf.keras.layers.Embedding layer`, which looks up the embedding of a word\n",
        "\n",
        "* Create a layer that computes the dot product of target and context embeddings from a training pair.\n",
        "\n",
        "* `flatten`: A `tf.keras.layers.Flatten` layer to flatten the results of dots layer into logits.\n",
        "\n",
        "With the subclassed model, you can define the call() function that accepts `(target, context)` pairs which can then be passed into their corresponding embedding layer. \n",
        "\n",
        "Reshape the context_embedding to perform a dot product with target_embedding and return the flattened result.\n",
        "\n"
      ],
      "metadata": {
        "id": "vNsURKPlPnWM"
      }
    },
    {
      "cell_type": "code",
      "source": [
        "class SkipGramModel(tf.keras.Model):\n",
        "  def __init__(self, vocab_size, embedding_dim):\n",
        "    super(SkipGramModel, self).__init__()\n",
        "    self.target_embed = tf.keras.layers.Embedding(input_dim=vocab_size, output_dim=embedding_dim, name='target_embedding')\n",
        "    self.context_embed = tf.keras.layers.Embedding(input_dim=vocab_size, output_dim=embedding_dim, name='context_embedding')\n",
        "\n",
        "  # FORWARD PASS\n",
        "  def call(self, inputs):\n",
        "    target, context = inputs\n",
        "\n",
        "    # [batch, ] --> [batch, embed_dims]\n",
        "    target_embedding = self.target_embed(target)\n",
        "    # [batch, seq] --> [batch, seq, embed_dims]\n",
        "    context_embedding = self.context_embed(context)\n",
        "\n",
        "    # use dot-product to find similarity score\n",
        "    dots = tf.einsum('be,bse->bs', target_embedding, context_embedding)\n",
        "\n",
        "    return dots\n",
        "\n"
      ],
      "metadata": {
        "id": "3f3ICQhxN2wF"
      },
      "execution_count": 32,
      "outputs": []
    },
    {
      "cell_type": "code",
      "source": [
        "EMBED_DIMS = 128\n",
        "model = SkipGramModel(vocab_size=vectorizer.vocabulary_size(), embedding_dim=EMBED_DIMS)\n",
        "\n",
        "model.compile(optimizer='adam',\n",
        "              loss=tf.keras.losses.CategoricalCrossentropy(from_logits=True),\n",
        "              metrics=['accuracy'])\n"
      ],
      "metadata": {
        "id": "AFcQhRLPN2tM"
      },
      "execution_count": 33,
      "outputs": []
    },
    {
      "cell_type": "code",
      "source": [
        "history = model.fit(train_ds, epochs=10)"
      ],
      "metadata": {
        "colab": {
          "base_uri": "https://localhost:8080/"
        },
        "id": "c_tWCKARN2qd",
        "outputId": "52d02d9f-c320-44d1-8448-632e692f89b0"
      },
      "execution_count": 34,
      "outputs": [
        {
          "output_type": "stream",
          "name": "stdout",
          "text": [
            "Epoch 1/10\n",
            "63/63 [==============================] - 2s 21ms/step - loss: 1.5526 - accuracy: 0.7089\n",
            "Epoch 2/10\n",
            "63/63 [==============================] - 1s 18ms/step - loss: 0.9584 - accuracy: 0.9754\n",
            "Epoch 3/10\n",
            "63/63 [==============================] - 1s 16ms/step - loss: 0.3201 - accuracy: 0.9821\n",
            "Epoch 4/10\n",
            "63/63 [==============================] - 1s 17ms/step - loss: 0.1487 - accuracy: 0.9841\n",
            "Epoch 5/10\n",
            "63/63 [==============================] - 1s 17ms/step - loss: 0.1039 - accuracy: 0.9849\n",
            "Epoch 6/10\n",
            "63/63 [==============================] - 1s 17ms/step - loss: 0.0858 - accuracy: 0.9857\n",
            "Epoch 7/10\n",
            "63/63 [==============================] - 1s 16ms/step - loss: 0.0762 - accuracy: 0.9865\n",
            "Epoch 8/10\n",
            "63/63 [==============================] - 1s 17ms/step - loss: 0.0703 - accuracy: 0.9875\n",
            "Epoch 9/10\n",
            "63/63 [==============================] - 1s 17ms/step - loss: 0.0662 - accuracy: 0.9886\n",
            "Epoch 10/10\n",
            "63/63 [==============================] - 1s 17ms/step - loss: 0.0633 - accuracy: 0.9898\n"
          ]
        }
      ]
    },
    {
      "cell_type": "code",
      "source": [
        "import matplotlib.pyplot as plt\n",
        "\n",
        "plt.plot(history.history['loss']);\n",
        "plt.title('Loss')\n",
        "plt.xlabel('Epochs');"
      ],
      "metadata": {
        "id": "sOUc2mEqfbsp",
        "colab": {
          "base_uri": "https://localhost:8080/",
          "height": 295
        },
        "outputId": "a7636965-01d5-47a4-b16a-3ea2f6140769"
      },
      "execution_count": 41,
      "outputs": [
        {
          "output_type": "display_data",
          "data": {
            "text/plain": [
              "<Figure size 432x288 with 1 Axes>"
            ],
            "image/png": "[encoded data removed]"
          },
          "metadata": {
            "needs_background": "light"
          }
        }
      ]
    },
    {
      "cell_type": "code",
      "source": [],
      "metadata": {
        "id": "kvXhz5x7mkez"
      },
      "execution_count": null,
      "outputs": []
    },
    {
      "cell_type": "code",
      "source": [],
      "metadata": {
        "id": "fkgGMHpUmkcO"
      },
      "execution_count": null,
      "outputs": []
    },
    {
      "cell_type": "code",
      "source": [],
      "metadata": {
        "id": "I6OY-RwFmBsv"
      },
      "execution_count": null,
      "outputs": []
    }
  ]
}