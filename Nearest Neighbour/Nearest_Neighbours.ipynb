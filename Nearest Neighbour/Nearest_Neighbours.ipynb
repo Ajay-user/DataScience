{
 "cells": [
  {
   "cell_type": "code",
   "execution_count": 17,
   "metadata": {},
   "outputs": [],
   "source": [
    "import tensorflow_datasets as tf_ds\n",
    "import tensorflow as tf\n",
    "import matplotlib.pyplot as plt\n",
    "import numpy as np\n"
   ]
  },
  {
   "cell_type": "markdown",
   "metadata": {},
   "source": [
    "## Data preparation"
   ]
  },
  {
   "cell_type": "code",
   "execution_count": 32,
   "metadata": {},
   "outputs": [],
   "source": [
    "\n",
    "# download the data\n",
    "data = tf_ds.load('cifar10_1/v6', split='test')"
   ]
  },
  {
   "cell_type": "code",
   "execution_count": 34,
   "metadata": {},
   "outputs": [
    {
     "data": {
      "text/plain": [
       "<PrefetchDataset element_spec={'image': TensorSpec(shape=(32, 32, 3), dtype=tf.uint8, name=None), 'label': TensorSpec(shape=(), dtype=tf.int64, name=None)}>"
      ]
     },
     "execution_count": 34,
     "metadata": {},
     "output_type": "execute_result"
    }
   ],
   "source": [
    "data"
   ]
  },
  {
   "cell_type": "code",
   "execution_count": 41,
   "metadata": {},
   "outputs": [
    {
     "name": "stdout",
     "output_type": "stream",
     "text": [
      "Shape of image (32, 32, 3)\n",
      "Shape of label ()\n"
     ]
    }
   ],
   "source": [
    "tensor_dict = next(iter(data))\n",
    "print('Shape of image', tensor_dict['image'].shape)\n",
    "print('Shape of label', tensor_dict['label'].shape)"
   ]
  },
  {
   "cell_type": "code",
   "execution_count": 43,
   "metadata": {},
   "outputs": [],
   "source": [
    "images, labels = [], []\n",
    "\n",
    "for example in data:\n",
    "    images.append(example['image'].numpy())\n",
    "    labels.append(example['label'].numpy())\n",
    "        "
   ]
  },
  {
   "cell_type": "code",
   "execution_count": 44,
   "metadata": {},
   "outputs": [
    {
     "name": "stdout",
     "output_type": "stream",
     "text": [
      "shape of images (2000, 32, 32, 3)\n",
      "shape of labels (2000,)\n"
     ]
    }
   ],
   "source": [
    "images = np.array(images)\n",
    "labels = np.array(labels)\n",
    "\n",
    "print('shape of images',images.shape)\n",
    "print('shape of labels',labels.shape)"
   ]
  },
  {
   "cell_type": "code",
   "execution_count": 47,
   "metadata": {},
   "outputs": [],
   "source": [
    "# train test split\n",
    "\n",
    "train_images = images[:1500]\n",
    "test_images = images[1500:]\n",
    "train_labels = labels[:1500]\n",
    "test_labels = labels[1500:]\n"
   ]
  },
  {
   "cell_type": "code",
   "execution_count": 50,
   "metadata": {},
   "outputs": [
    {
     "data": {
      "text/plain": [
       "(500, 3072)"
      ]
     },
     "execution_count": 50,
     "metadata": {},
     "output_type": "execute_result"
    }
   ],
   "source": [
    "test_images.reshape(test_images.shape[0],-1).shape"
   ]
  },
  {
   "cell_type": "markdown",
   "metadata": {},
   "source": [
    "## Nearest Neighbours"
   ]
  },
  {
   "cell_type": "code",
   "execution_count": 61,
   "metadata": {},
   "outputs": [
    {
     "name": "stdout",
     "output_type": "stream",
     "text": [
      "Overwriting ./Nearest_Neighbours.py\n"
     ]
    }
   ],
   "source": [
    "%%writefile './Nearest_Neighbours.py'\n",
    "\n",
    "import numpy as np\n",
    "\n",
    "class NearestNeighbours:\n",
    "\n",
    "    def __init__(self, images, labels):\n",
    "        self.train_images = images.reshape(images.shape[0],-1)\n",
    "        self.train_labels = labels\n",
    "\n",
    "    def __call__(self, images):\n",
    "        num_images = images.shape[0]\n",
    "        test_images = images.reshape(num_images,-1)\n",
    "        preds = np.zeros(num_images, dtype=np.int32)\n",
    "\n",
    "        # find nearest training image for each of the test-images\n",
    "        # using L1-distance (sum of absolute differences)\n",
    "        for i in range(num_images):\n",
    "            L1 = np.sum(np.abs(self.train_images - test_images[i,:]), axis=1)\n",
    "            least_dist_id = np.argmin(L1)\n",
    "            preds[i]=self.train_labels[least_dist_id]\n",
    "        \n",
    "        return preds"
   ]
  },
  {
   "cell_type": "code",
   "execution_count": 53,
   "metadata": {},
   "outputs": [],
   "source": [
    "# create an instance\n",
    "neighbour = NearestNeighbours(train_images, train_labels)\n",
    "predictions = neighbour(test_images)"
   ]
  },
  {
   "cell_type": "code",
   "execution_count": 64,
   "metadata": {},
   "outputs": [
    {
     "name": "stdout",
     "output_type": "stream",
     "text": [
      "Model accuracy 0.168\n"
     ]
    }
   ],
   "source": [
    "accuracy = np.sum(predictions  == test_labels) / len(predictions)\n",
    "print('Model accuracy',accuracy)"
   ]
  },
  {
   "cell_type": "code",
   "execution_count": 65,
   "metadata": {},
   "outputs": [
    {
     "name": "stdout",
     "output_type": "stream",
     "text": [
      "Correct prediction  84\n",
      "Incorrect prediction  416\n"
     ]
    }
   ],
   "source": [
    "# correct prediction (true positives)\n",
    "t = np.sum(predictions==test_labels)\n",
    "f = len(predictions) - t\n",
    "\n",
    "print('Correct prediction ',t)\n",
    "print('Incorrect prediction ',f)"
   ]
  },
  {
   "cell_type": "code",
   "execution_count": null,
   "metadata": {},
   "outputs": [],
   "source": []
  }
 ],
 "metadata": {
  "kernelspec": {
   "display_name": "Python 3.9.13 64-bit (windows store)",
   "language": "python",
   "name": "python3"
  },
  "language_info": {
   "codemirror_mode": {
    "name": "ipython",
    "version": 3
   },
   "file_extension": ".py",
   "mimetype": "text/x-python",
   "name": "python",
   "nbconvert_exporter": "python",
   "pygments_lexer": "ipython3",
   "version": "3.9.13"
  },
  "orig_nbformat": 4,
  "vscode": {
   "interpreter": {
    "hash": "497338f01161d141240caa60efca5087225791fadc9b7c964beb65d863e046f0"
   }
  }
 },
 "nbformat": 4,
 "nbformat_minor": 2
}
