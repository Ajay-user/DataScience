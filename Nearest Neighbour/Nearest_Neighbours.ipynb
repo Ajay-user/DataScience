{
 "cells": [
  {
   "cell_type": "code",
   "execution_count": 184,
   "metadata": {},
   "outputs": [],
   "source": [
    "# util for printing\n",
    "from utils import score_fn "
   ]
  },
  {
   "cell_type": "code",
   "execution_count": 1,
   "metadata": {},
   "outputs": [],
   "source": [
    "import tensorflow_datasets as tf_ds\n",
    "import tensorflow as tf\n",
    "import matplotlib.pyplot as plt\n",
    "import numpy as np\n"
   ]
  },
  {
   "cell_type": "markdown",
   "metadata": {},
   "source": [
    "## Data preparation"
   ]
  },
  {
   "cell_type": "code",
   "execution_count": 7,
   "metadata": {},
   "outputs": [],
   "source": [
    "\n",
    "# download the data\n",
    "data = tf_ds.load('cifar10_1/v6', split='test')"
   ]
  },
  {
   "cell_type": "code",
   "execution_count": 8,
   "metadata": {},
   "outputs": [
    {
     "data": {
      "text/plain": [
       "<PrefetchDataset element_spec={'image': TensorSpec(shape=(32, 32, 3), dtype=tf.uint8, name=None), 'label': TensorSpec(shape=(), dtype=tf.int64, name=None)}>"
      ]
     },
     "execution_count": 8,
     "metadata": {},
     "output_type": "execute_result"
    }
   ],
   "source": [
    "data"
   ]
  },
  {
   "cell_type": "markdown",
   "metadata": {},
   "source": [
    "#### labels\n",
    "\n",
    "airplane : 0\n",
    "\n",
    "automobile : 1\n",
    "\n",
    "bird : 2\n",
    "\n",
    "cat : 3\n",
    "\n",
    "deer : 4\n",
    "\n",
    "dog : 5\n",
    "\n",
    "frog : 6\n",
    "\n",
    "horse : 7\n",
    "\n",
    "ship : 8\n",
    "\n",
    "truck : 9\n",
    "\n"
   ]
  },
  {
   "cell_type": "code",
   "execution_count": 9,
   "metadata": {},
   "outputs": [
    {
     "name": "stdout",
     "output_type": "stream",
     "text": [
      "Shape of image (32, 32, 3)\n",
      "Shape of label ()\n"
     ]
    }
   ],
   "source": [
    "tensor_dict = next(iter(data))\n",
    "print('Shape of image', tensor_dict['image'].shape)\n",
    "print('Shape of label', tensor_dict['label'].shape)"
   ]
  },
  {
   "cell_type": "code",
   "execution_count": 10,
   "metadata": {},
   "outputs": [],
   "source": [
    "images, labels = [], []\n",
    "\n",
    "for example in data:\n",
    "    images.append(example['image'].numpy())\n",
    "    labels.append(example['label'].numpy())\n",
    "        "
   ]
  },
  {
   "cell_type": "code",
   "execution_count": 11,
   "metadata": {},
   "outputs": [
    {
     "name": "stdout",
     "output_type": "stream",
     "text": [
      "shape of images (2000, 32, 32, 3)\n",
      "shape of labels (2000,)\n"
     ]
    }
   ],
   "source": [
    "images = np.array(images)\n",
    "labels = np.array(labels)\n",
    "\n",
    "print('shape of images',images.shape)\n",
    "print('shape of labels',labels.shape)"
   ]
  },
  {
   "cell_type": "code",
   "execution_count": 12,
   "metadata": {},
   "outputs": [],
   "source": [
    "# train test split\n",
    "\n",
    "train_images = images[:1500]\n",
    "test_images = images[1500:]\n",
    "train_labels = labels[:1500]\n",
    "test_labels = labels[1500:]\n"
   ]
  },
  {
   "cell_type": "code",
   "execution_count": 13,
   "metadata": {},
   "outputs": [
    {
     "data": {
      "text/plain": [
       "(500, 3072)"
      ]
     },
     "execution_count": 13,
     "metadata": {},
     "output_type": "execute_result"
    }
   ],
   "source": [
    "test_images.reshape(test_images.shape[0],-1).shape"
   ]
  },
  {
   "cell_type": "markdown",
   "metadata": {},
   "source": [
    "## Nearest Neighbours"
   ]
  },
  {
   "cell_type": "code",
   "execution_count": 222,
   "metadata": {},
   "outputs": [
    {
     "name": "stdout",
     "output_type": "stream",
     "text": [
      "Overwriting ./Nearest_Neighbours.py\n"
     ]
    }
   ],
   "source": [
    "%%writefile './Nearest_Neighbours.py'\n",
    "\n",
    "import numpy as np\n",
    "\n",
    "class NearestNeighbours:\n",
    "\n",
    "    def __init__(self, images, labels, norm='l1'):\n",
    "        self.train_images = images.reshape(images.shape[0],-1)\n",
    "        self.train_labels = labels\n",
    "        self.norm=norm.lower()\n",
    "    \n",
    "    def distance_measure(self, train, test, i):\n",
    "        if self.norm == 'l2':\n",
    "            return np.sum(np.sqrt( np.square( train-test[i,:] )), axis=1)\n",
    "        else:\n",
    "            return np.sum(np.abs(train - test[i,:]), axis=1)\n",
    "\n",
    "\n",
    "    def __call__(self, images):\n",
    "        num_images = images.shape[0]\n",
    "        test_images = images.reshape(num_images,-1)\n",
    "        preds = np.zeros(num_images, dtype=np.int32)\n",
    "\n",
    "        # find nearest training image for each of the test-images\n",
    "        # using L1-distance (sum of absolute differences)\n",
    "        # or     \n",
    "        # using L2-distance (sum of squared differences)\n",
    "        for i in range(num_images):\n",
    "            distance = self.distance_measure(self.train_images, test_images, i)\n",
    "            least_dist_id = np.argmin(distance)\n",
    "            preds[i]=self.train_labels[least_dist_id]\n",
    "        \n",
    "        return preds"
   ]
  },
  {
   "cell_type": "code",
   "execution_count": 223,
   "metadata": {},
   "outputs": [],
   "source": [
    "# create instances with L1 and L2 penalty \n",
    "neighbour_l1 = NearestNeighbours(train_images, train_labels,'L1')\n",
    "neighbour_l2 = NearestNeighbours(train_images, train_labels,'L2')"
   ]
  },
  {
   "cell_type": "code",
   "execution_count": 224,
   "metadata": {},
   "outputs": [
    {
     "name": "stdout",
     "output_type": "stream",
     "text": [
      "CPU times: total: 4.94 s\n",
      "Wall time: 4.97 s\n"
     ]
    }
   ],
   "source": [
    "%%time\n",
    "predictions_l1 = neighbour_l1(test_images)"
   ]
  },
  {
   "cell_type": "code",
   "execution_count": 225,
   "metadata": {},
   "outputs": [
    {
     "name": "stdout",
     "output_type": "stream",
     "text": [
      "CPU times: total: 44.9 s\n",
      "Wall time: 45.5 s\n"
     ]
    }
   ],
   "source": [
    "%%time\n",
    "predictions_l2 = neighbour_l2(test_images)"
   ]
  },
  {
   "cell_type": "code",
   "execution_count": 226,
   "metadata": {},
   "outputs": [
    {
     "name": "stdout",
     "output_type": "stream",
     "text": [
      "Nearest Neighbour classifier with L1 penalty\n",
      "Model accuracy 0.168\n",
      "Correct prediction  84\n",
      "Incorrect prediction  416\n"
     ]
    }
   ],
   "source": [
    "print('Nearest Neighbour classifier with L1 penalty')\n",
    "accuracy = np.sum(predictions_l1  == test_labels) / len(predictions_l1)\n",
    "print('Model accuracy',accuracy)\n",
    "\n",
    "# correct prediction (true positives)\n",
    "t = np.sum(predictions_l1==test_labels)\n",
    "f = len(predictions_l1) - t\n",
    "\n",
    "print('Correct prediction ',t)\n",
    "print('Incorrect prediction ',f)"
   ]
  },
  {
   "cell_type": "code",
   "execution_count": 227,
   "metadata": {},
   "outputs": [
    {
     "name": "stdout",
     "output_type": "stream",
     "text": [
      "Nearest Neighbour classifier with L2 penalty\n",
      "Model accuracy 0.162\n",
      "Correct prediction  81\n",
      "Incorrect prediction  419\n"
     ]
    }
   ],
   "source": [
    "print('Nearest Neighbour classifier with L2 penalty')\n",
    "\n",
    "score_fn(predictions_l2, test_labels)"
   ]
  },
  {
   "cell_type": "markdown",
   "metadata": {},
   "source": [
    "## K Nearest Neighbours"
   ]
  },
  {
   "cell_type": "code",
   "execution_count": 234,
   "metadata": {},
   "outputs": [
    {
     "name": "stdout",
     "output_type": "stream",
     "text": [
      "Writing K_Nearest_Neighbours.py\n"
     ]
    }
   ],
   "source": [
    "%%writefile K_Nearest_Neighbours.py\n",
    "\n",
    "import numpy as np\n",
    "from collections import Counter\n",
    "\n",
    "class KNearestNeighbours:\n",
    "\n",
    "    def __init__(self, images, labels, k=1, norm='l1'):\n",
    "        self.train_images = images.reshape(images.shape[0],-1)\n",
    "        self.train_labels = labels\n",
    "        self.norm=norm.lower()\n",
    "        self.k=k\n",
    "    \n",
    "    def distance_measure(self, train, test, i):\n",
    "        if self.norm == 'l2':\n",
    "            return np.sum(np.sqrt( np.square( train - test[i,:] )), axis=1)\n",
    "        else:\n",
    "            return np.sum(np.abs(train - test[i,:]), axis=1)\n",
    "\n",
    "\n",
    "    def __call__(self, images):\n",
    "        num_images = images.shape[0]\n",
    "        test_images = images.reshape(num_images,-1)\n",
    "        predictions = np.zeros(num_images, dtype=np.int32)\n",
    "\n",
    "        # find nearest training image for each of the test-images\n",
    "        # using L1-distance (sum of absolute differences)\n",
    "        # or     \n",
    "        # using L2-distance (sum of squared differences)\n",
    "        for i in range(num_images):\n",
    "            distance = self.distance_measure(self.train_images, test_images, i)\n",
    "            ids = np.argsort(distance)\n",
    "\n",
    "            preds = self.train_labels[ids]\n",
    "            votes = Counter(preds[:self.k])\n",
    "            winner = sorted(votes.items(), key=lambda x:x[1], reverse=True)[0]\n",
    "            \n",
    "            predictions[i] = winner[0]\n",
    "\n",
    "        return predictions"
   ]
  },
  {
   "cell_type": "code",
   "execution_count": 229,
   "metadata": {},
   "outputs": [
    {
     "name": "stdout",
     "output_type": "stream",
     "text": [
      "KNearest Neighbour classifier with L1 norm\n",
      "Model accuracy 0.196\n",
      "Correct prediction  98\n",
      "Incorrect prediction  402\n",
      "CPU times: total: 5.08 s\n",
      "Wall time: 5.21 s\n"
     ]
    }
   ],
   "source": [
    "%%time\n",
    "\n",
    "# create instances with L1 norm and k = 6\n",
    "knn_l1 = KNearestNeighbours(train_images, train_labels, k=6, norm='L1')\n",
    "\n",
    "knn_predictions_l1 = knn_l1(test_images)\n",
    "\n",
    "print('KNearest Neighbour classifier with L1 norm')\n",
    "score_fn(knn_predictions_l1, test_labels)"
   ]
  },
  {
   "cell_type": "code",
   "execution_count": 236,
   "metadata": {},
   "outputs": [
    {
     "name": "stdout",
     "output_type": "stream",
     "text": [
      "KNearest Neighbour classifier with L2 norm\n",
      "Model accuracy 0.166\n",
      "Correct prediction  83\n",
      "Incorrect prediction  417\n",
      "CPU times: total: 46.8 s\n",
      "Wall time: 51.3 s\n"
     ]
    }
   ],
   "source": [
    "%%time\n",
    "\n",
    "# create instances with L2 norm \n",
    "\n",
    "knn_l2 = KNearestNeighbours(train_images, train_labels, k=3, norm='L2')\n",
    "\n",
    "knn_predictions_l2 = knn_l2(test_images)\n",
    "\n",
    "print('KNearest Neighbour classifier with L2 norm')\n",
    "score_fn(knn_predictions_l2, test_labels)"
   ]
  },
  {
   "cell_type": "code",
   "execution_count": null,
   "metadata": {},
   "outputs": [],
   "source": []
  }
 ],
 "metadata": {
  "kernelspec": {
   "display_name": "Python 3.9.13 64-bit (windows store)",
   "language": "python",
   "name": "python3"
  },
  "language_info": {
   "codemirror_mode": {
    "name": "ipython",
    "version": 3
   },
   "file_extension": ".py",
   "mimetype": "text/x-python",
   "name": "python",
   "nbconvert_exporter": "python",
   "pygments_lexer": "ipython3",
   "version": "3.9.13"
  },
  "orig_nbformat": 4,
  "vscode": {
   "interpreter": {
    "hash": "497338f01161d141240caa60efca5087225791fadc9b7c964beb65d863e046f0"
   }
  }
 },
 "nbformat": 4,
 "nbformat_minor": 2
}
