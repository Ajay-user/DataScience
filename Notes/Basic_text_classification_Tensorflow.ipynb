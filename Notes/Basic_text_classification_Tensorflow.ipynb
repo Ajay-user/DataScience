{
  "nbformat": 4,
  "nbformat_minor": 0,
  "metadata": {
    "colab": {
      "name": "Basic text classification Tensorflow.ipynb",
      "provenance": [],
      "collapsed_sections": [],
      "toc_visible": true,
      "authorship_tag": "ABX9TyMayW//KsPWMqN4wiqTVyB8",
      "include_colab_link": true
    },
    "kernelspec": {
      "name": "python3",
      "display_name": "Python 3"
    },
    "language_info": {
      "name": "python"
    }
  },
  "cells": [
    {
      "cell_type": "markdown",
      "metadata": {
        "id": "view-in-github",
        "colab_type": "text"
      },
      "source": [
        "<a href=\"https://colab.research.google.com/github/Ajay-user/DataScience/blob/master/Notes/Basic_text_classification_Tensorflow.ipynb\" target=\"_parent\"><img src=\"https://colab.research.google.com/assets/colab-badge.svg\" alt=\"Open In Colab\"/></a>"
      ]
    },
    {
      "cell_type": "markdown",
      "metadata": {
        "id": "AFhLOjRHSHLA"
      },
      "source": [
        "##  Train a binary classifier to perform sentiment analysis on an IMDB dataset."
      ]
    },
    {
      "cell_type": "code",
      "metadata": {
        "id": "lJ6mAqzKR2Da"
      },
      "source": [
        "import matplotlib.pyplot as plt\n",
        "import os\n",
        "import re\n",
        "import shutil\n",
        "import string\n",
        "import tensorflow as tf"
      ],
      "execution_count": 1,
      "outputs": []
    },
    {
      "cell_type": "markdown",
      "metadata": {
        "id": "-mlyBG-50Fbn"
      },
      "source": [
        "## Sentiment analysis\n",
        "This notebook trains a sentiment analysis model to classify movie reviews as positive or negative, based on the text of the review. This is an example of binary—or two-class—classification, an important and widely applicable kind of machine learning problem.\n",
        "\n",
        "You'll use the Large Movie Review Dataset that contains the text of 50,000 movie reviews from the Internet Movie Database. These are split into 25,000 reviews for training and 25,000 reviews for testing. The training and testing sets are balanced, meaning they contain an equal number of positive and negative reviews.\n",
        "\n",
        "\n",
        "**Download and explore the IMDB dataset**\n",
        "\n",
        "Let's download and extract the dataset, then explore the directory structure.\n",
        "\n",
        "**`tf.keras.utils.get_file`**\n",
        "By default the file at the url origin is downloaded to the cache_dir ~/.keras, placed in the cache_subdir datasets, and given the filename fname. The final location of a file example.txt would therefore be ~/.keras/datasets/example.txt."
      ]
    },
    {
      "cell_type": "code",
      "metadata": {
        "colab": {
          "base_uri": "https://localhost:8080/"
        },
        "id": "mTyVWrUmzrpm",
        "outputId": "9c879bf5-9694-4752-cda1-ea90dd51f70a"
      },
      "source": [
        "url = \"https://ai.stanford.edu/~amaas/data/sentiment/aclImdb_v1.tar.gz\"\n",
        "\n",
        "dataset = tf.keras.utils.get_file(fname='aclImdb_v1',\n",
        "                                  origin=url,\n",
        "                                  untar=True,\n",
        "                                  cache_dir='.',\n",
        "                                  cache_subdir=''\n",
        "                                  )\n"
      ],
      "execution_count": null,
      "outputs": [
        {
          "output_type": "stream",
          "text": [
            "Downloading data from https://ai.stanford.edu/~amaas/data/sentiment/aclImdb_v1.tar.gz\n",
            "84131840/84125825 [==============================] - 3s 0us/step\n"
          ],
          "name": "stdout"
        }
      ]
    },
    {
      "cell_type": "code",
      "metadata": {
        "colab": {
          "base_uri": "https://localhost:8080/"
        },
        "id": "AlnR800E3CS0",
        "outputId": "cece1d9b-919b-4d3e-e436-340947ca96dd"
      },
      "source": [
        "print('path to downloaded file is ',dataset)"
      ],
      "execution_count": null,
      "outputs": [
        {
          "output_type": "stream",
          "text": [
            "path to downloaded file is  ./aclImdb_v1\n"
          ],
          "name": "stdout"
        }
      ]
    },
    {
      "cell_type": "code",
      "metadata": {
        "colab": {
          "base_uri": "https://localhost:8080/"
        },
        "id": "3b7O21Lb5nFv",
        "outputId": "42ffb66c-179c-4b4a-e939-a6754b1e43ba"
      },
      "source": [
        "os.listdir('.')"
      ],
      "execution_count": null,
      "outputs": [
        {
          "output_type": "execute_result",
          "data": {
            "text/plain": [
              "['.config', 'aclImdb', 'aclImdb_v1.tar.gz', 'sample_data']"
            ]
          },
          "metadata": {
            "tags": []
          },
          "execution_count": 4
        }
      ]
    },
    {
      "cell_type": "code",
      "metadata": {
        "colab": {
          "base_uri": "https://localhost:8080/"
        },
        "id": "765s3UA60sEd",
        "outputId": "7cba114d-3e7b-4c9f-ab54-1d144795fcc8"
      },
      "source": [
        "dataset_dir =  os.path.join(os.path.dirname(dataset),'aclImdb')\n",
        "print('directory ',dataset_dir)"
      ],
      "execution_count": null,
      "outputs": [
        {
          "output_type": "stream",
          "text": [
            "directory  ./aclImdb\n"
          ],
          "name": "stdout"
        }
      ]
    },
    {
      "cell_type": "code",
      "metadata": {
        "colab": {
          "base_uri": "https://localhost:8080/"
        },
        "id": "FjrRqgxF36aj",
        "outputId": "42f0e5c8-3e7a-417a-9dc2-9e984a3bd7e4"
      },
      "source": [
        "os.listdir(dataset_dir)"
      ],
      "execution_count": null,
      "outputs": [
        {
          "output_type": "execute_result",
          "data": {
            "text/plain": [
              "['imdb.vocab', 'imdbEr.txt', 'test', 'README', 'train']"
            ]
          },
          "metadata": {
            "tags": []
          },
          "execution_count": 6
        }
      ]
    },
    {
      "cell_type": "code",
      "metadata": {
        "colab": {
          "base_uri": "https://localhost:8080/"
        },
        "id": "TgXTNx6P4UhA",
        "outputId": "aadf394a-fe96-4432-a5cb-d9a76f96d253"
      },
      "source": [
        "train_dir = os.path.join(dataset_dir,'train')\n",
        "os.listdir(train_dir)"
      ],
      "execution_count": null,
      "outputs": [
        {
          "output_type": "execute_result",
          "data": {
            "text/plain": [
              "['urls_pos.txt',\n",
              " 'urls_neg.txt',\n",
              " 'labeledBow.feat',\n",
              " 'pos',\n",
              " 'neg',\n",
              " 'urls_unsup.txt',\n",
              " 'unsup',\n",
              " 'unsupBow.feat']"
            ]
          },
          "metadata": {
            "tags": []
          },
          "execution_count": 7
        }
      ]
    },
    {
      "cell_type": "markdown",
      "metadata": {
        "id": "GAueD5nb6bD-"
      },
      "source": [
        "The `aclImdb/train/pos` and `aclImdb/train/neg` directories contain many text files, each of which is a single movie review. Let's take a look at one of them."
      ]
    },
    {
      "cell_type": "code",
      "metadata": {
        "colab": {
          "base_uri": "https://localhost:8080/"
        },
        "id": "MPw4nYRo6IqW",
        "outputId": "2585d5b8-b5af-4ce8-eb7c-f38c18421834"
      },
      "source": [
        "sample_file = os.path.join(train_dir,'pos/1181_9.txt')\n",
        "with open(sample_file) as f:\n",
        "  print(f.read())"
      ],
      "execution_count": null,
      "outputs": [
        {
          "output_type": "stream",
          "text": [
            "Rachel Griffiths writes and directs this award winning short film. A heartwarming story about coping with grief and cherishing the memory of those we've loved and lost. Although, only 15 minutes long, Griffiths manages to capture so much emotion and truth onto film in the short space of time. Bud Tingwell gives a touching performance as Will, a widower struggling to cope with his wife's death. Will is confronted by the harsh reality of loneliness and helplessness as he proceeds to take care of Ruth's pet cow, Tulip. The film displays the grief and responsibility one feels for those they have loved and lost. Good cinematography, great direction, and superbly acted. It will bring tears to all those who have lost a loved one, and survived.\n"
          ],
          "name": "stdout"
        }
      ]
    },
    {
      "cell_type": "markdown",
      "metadata": {
        "id": "DhEpOnZr7TFw"
      },
      "source": [
        "## Load the dataset\n",
        "Next, you will load the data off disk and prepare it into a format suitable for training. To do so, you will use the helpful **`text_dataset_from_directory`** utility, which expects a directory structure as follows.\n",
        "\n",
        "**If your directory structure is:**\n",
        "\n",
        "main_directory/<br>\n",
        "...**class_a**/<br>\n",
        "......a_text_1.txt<br>\n",
        "......a_text_2.txt<br>\n",
        "...**class_b**/<br>\n",
        "......b_text_1.txt<br>\n",
        "......b_text_2.txt<br>\n",
        "\n",
        "Then calling text_dataset_from_directory(main_directory, labels='inferred') will return a tf.data.Dataset that yields batches of texts from the subdirectories class_a and class_b, together with labels 0 and 1 (0 corresponding to class_a and 1 corresponding to class_b).\n",
        "\n",
        "Only .txt files are supported at this time.\n",
        "\n",
        "To prepare a dataset for binary classification, you will need two folders on disk, corresponding to class_a and class_b. These will be the positive and negative movie reviews, which can be found in aclImdb/train/pos and aclImdb/train/neg. As the IMDB dataset contains additional folders, you will remove them before using this utility."
      ]
    },
    {
      "cell_type": "code",
      "metadata": {
        "colab": {
          "base_uri": "https://localhost:8080/"
        },
        "id": "pOiLt8AR7JZv",
        "outputId": "a3b5c83b-062d-4c79-e5b2-addda8fb8a77"
      },
      "source": [
        "for item in os.listdir(train_dir):\n",
        "    if os.path.isdir(os.path.join(train_dir,item)):\n",
        "      print('directory found:',item)"
      ],
      "execution_count": null,
      "outputs": [
        {
          "output_type": "stream",
          "text": [
            "directory found: pos\n",
            "directory found: neg\n",
            "directory found: unsup\n"
          ],
          "name": "stdout"
        }
      ]
    },
    {
      "cell_type": "markdown",
      "metadata": {
        "id": "LzXdY9bm-vBA"
      },
      "source": [
        "**rmdir()** method in Python is used to remove or delete a empty directory. OSError will be raised if the specified path is not an empty directory.\n",
        "\n",
        "By design, rmtree fails on folder trees containing read-only files. If you want the folder to be deleted regardless of whether it contains read-only files, then use\n",
        "\n",
        "**shutil.rmtree('/folder_name', ignore_errors=True)**\n"
      ]
    },
    {
      "cell_type": "code",
      "metadata": {
        "colab": {
          "base_uri": "https://localhost:8080/"
        },
        "id": "5HsABlov9ZAh",
        "outputId": "ed2ccb80-fbae-407e-df0a-741fd439286f"
      },
      "source": [
        "remove_dir = os.path.join(train_dir, 'unsup')\n",
        "print('directory to remove', remove_dir)"
      ],
      "execution_count": null,
      "outputs": [
        {
          "output_type": "stream",
          "text": [
            "directory to remove ./aclImdb/train/unsup\n"
          ],
          "name": "stdout"
        }
      ]
    },
    {
      "cell_type": "code",
      "metadata": {
        "id": "PURKgg4d_W84"
      },
      "source": [
        "import shutil\n",
        "\n",
        "shutil.rmtree(remove_dir)"
      ],
      "execution_count": null,
      "outputs": []
    },
    {
      "cell_type": "code",
      "metadata": {
        "colab": {
          "base_uri": "https://localhost:8080/"
        },
        "id": "T7mE1GSu_l8S",
        "outputId": "2bda5d98-e292-42e3-c1ad-7edcd595fa71"
      },
      "source": [
        "for item in os.listdir(train_dir):\n",
        "    if os.path.isdir(os.path.join(train_dir,item)):\n",
        "      print('directory found:',item)"
      ],
      "execution_count": null,
      "outputs": [
        {
          "output_type": "stream",
          "text": [
            "directory found: pos\n",
            "directory found: neg\n"
          ],
          "name": "stdout"
        }
      ]
    },
    {
      "cell_type": "markdown",
      "metadata": {
        "id": "KdFILgvz_4Ew"
      },
      "source": [
        "Next, you will use the text_dataset_from_directory utility to create a labeled tf.data.Dataset.\n",
        "\n",
        "tf.data is a powerful collection of tools for working with data.\n",
        "\n",
        "When running a machine learning experiment, it is a best practice to divide your dataset into three splits: train, validation, and test.\n",
        "\n",
        "The IMDB dataset has already been divided into train and test, but it lacks a validation set. Let's create a validation set using an 80:20 split of the training data by using the validation_split argument below."
      ]
    },
    {
      "cell_type": "code",
      "metadata": {
        "colab": {
          "base_uri": "https://localhost:8080/"
        },
        "id": "K6XuyRS5_o6x",
        "outputId": "dfd9faab-ff6f-4d6d-f942-d4f5b0af4ee3"
      },
      "source": [
        "batch_size = 32\n",
        "seed = 42\n",
        "\n",
        "raw_train_ds = tf.keras.preprocessing.text_dataset_from_directory(directory=train_dir,\n",
        "                                                                  labels='inferred',\n",
        "                                                                  batch_size=batch_size,\n",
        "                                                                  seed=seed,\n",
        "                                                                  validation_split=0.2,\n",
        "                                                                  subset='training')"
      ],
      "execution_count": null,
      "outputs": [
        {
          "output_type": "stream",
          "text": [
            "Found 25000 files belonging to 2 classes.\n",
            "Using 20000 files for training.\n"
          ],
          "name": "stdout"
        }
      ]
    },
    {
      "cell_type": "markdown",
      "metadata": {
        "id": "_SBqkqLfBNX-"
      },
      "source": [
        "As you can see above, there are 25,000 examples in the training folder, of which you will use 80% (or 20,000) for training. As you will see in a moment, you can train a model by passing a dataset directly to model.fit. If you're new to tf.data, you can also iterate over the dataset and print out a few examples as follows."
      ]
    },
    {
      "cell_type": "code",
      "metadata": {
        "colab": {
          "base_uri": "https://localhost:8080/"
        },
        "id": "g2VEjB3OBAvt",
        "outputId": "065f2279-cf9c-4e7a-c7b8-0008bbb7ce98"
      },
      "source": [
        "text_batch,label_batch = next(iter(raw_train_ds))\n",
        "\n",
        "print('Number of reviews in a batch :', len(text_batch))\n",
        "\n",
        "print('TEXT')\n",
        "for i in range(5):\n",
        "  print(text_batch[i])\n",
        "\n",
        "print('LABELS')\n",
        "for i in range(5):\n",
        "  print(label_batch[i])"
      ],
      "execution_count": null,
      "outputs": [
        {
          "output_type": "stream",
          "text": [
            "Number of reviews in a batch : 32\n",
            "TEXT\n",
            "tf.Tensor(b'\"Pandemonium\" is a horror movie spoof that comes off more stupid than funny. Believe me when I tell you, I love comedies. Especially comedy spoofs. \"Airplane\", \"The Naked Gun\" trilogy, \"Blazing Saddles\", \"High Anxiety\", and \"Spaceballs\" are some of my favorite comedies that spoof a particular genre. \"Pandemonium\" is not up there with those films. Most of the scenes in this movie had me sitting there in stunned silence because the movie wasn\\'t all that funny. There are a few laughs in the film, but when you watch a comedy, you expect to laugh a lot more than a few times and that\\'s all this film has going for it. Geez, \"Scream\" had more laughs than this film and that was more of a horror film. How bizarre is that?<br /><br />*1/2 (out of four)', shape=(), dtype=string)\n",
            "tf.Tensor(b\"David Mamet is a very interesting and a very un-equal director. His first movie 'House of Games' was the one I liked best, and it set a series of films with characters whose perspective of life changes as they get into complicated situations, and so does the perspective of the viewer.<br /><br />So is 'Homicide' which from the title tries to set the mind of the viewer to the usual crime drama. The principal characters are two cops, one Jewish and one Irish who deal with a racially charged area. The murder of an old Jewish shop owner who proves to be an ancient veteran of the Israeli Independence war triggers the Jewish identity in the mind and heart of the Jewish detective.<br /><br />This is were the flaws of the film are the more obvious. The process of awakening is theatrical and hard to believe, the group of Jewish militants is operatic, and the way the detective eventually walks to the final violent confrontation is pathetic. The end of the film itself is Mamet-like smart, but disappoints from a human emotional perspective.<br /><br />Joe Mantegna and William Macy give strong performances, but the flaws of the story are too evident to be easily compensated.\", shape=(), dtype=string)\n",
            "tf.Tensor(b'Great documentary about the lives of NY firefighters during the worst terrorist attack of all time.. That reason alone is why this should be a must see collectors item.. What shocked me was not only the attacks, but the\"High Fat Diet\" and physical appearance of some of these firefighters. I think a lot of Doctors would agree with me that,in the physical shape they were in, some of these firefighters would NOT of made it to the 79th floor carrying over 60 lbs of gear. Having said that i now have a greater respect for firefighters and i realize becoming a firefighter is a life altering job. The French have a history of making great documentary\\'s and that is what this is, a Great Documentary.....', shape=(), dtype=string)\n",
            "tf.Tensor(b\"It's boggles the mind how this movie was nominated for seven Oscars and won one. Not because it's abysmal or because given the collective credentials of the creative team behind it really ought to deserve them but because in every category it was nominated Prizzi's Honor disappoints. Some would argue that old Hollywood pioneer John Huston had lost it by this point in his career but I don't buy it. Only the previous year he signed the superb UNDER THE VOLCANO, a dark character study set in Mexico, that ranks among the finest he ever did. Prizzi's Honor on the other hand, a film loaded with star power, good intentions and a decent script, proves to be a major letdown.<br /><br />The overall tone and plot of a gangster falling in love with a female hit-man prefigures the quirky crimedies that caught Hollywood by storm in the early 90's but the script is too convoluted for its own sake, the motivations are off and on the whole the story seems unsure of what exactly it's trying to be: a romantic comedy, a crime drama, a gangster saga etc. Jack Nicholson (doing a Brooklyn accent that works perfectly for De Niro but sounds unconvincing coming from Jack) and Kathleen Turner in the leading roles seem to be in paycheck mode, just going through the motions almost sleepwalking their way through some parts. Anjelica Huston on the other hand fares better but her performance is sabotaged by her character's motivations: she starts out the victim of her bigot father's disdain, she proves to be supportive to her ex-husband, then becomes a vindictive bitch that wants his head on a plate.<br /><br />The colours of the movie have a washed-up quality like it was made in the early 70's and Huston's direction is as uninteresting as everything else. There's promise behind the story and perhaps in the hands of a director hungry to be recognized it could've been morphed to something better but what's left looks like a film nobody was really interested in making.\", shape=(), dtype=string)\n",
            "tf.Tensor(b'The concept of the legal gray area in Love Crimes contributes to about 10% of the movie\\'s appeal; the other 90% can be attributed to it\\'s flagrant bad-ness. To say that Sean Young\\'s performance as a so-called district attorney is wooden is a gross understatement. With her bland suits and superfluous hair gel, Young does a decent job at convincing the audience of her devout hatred for men. Why else would she ask her only friend to pose as a prostitute just so she can arrest cops who try to pick up on them? This hatred is also the only reason why she relentlessly pursues a perverted photographer who gives women a consensual thrill and the driving force behind this crappy movie. Watching Young go from frigid to full-frontal nudity does little to raise interest, but the temper tantrum she throws standing next to a fire by a lake does. Watching her rant and rave about her self-loathing and sexual frustration makes Love Crimes worth the rental fee, but it\\'s all downhill to and from there. Despite her urge to bring Patrick Bergin\\'s character to justice, her policing skills completely escape her in the throes of her own tired lust and passion. Patrick Bergin does a decent enough job as a slimy sociopath; if it worked in Sleeping With the Enemy it sure as hell can work in this. But I can\\'t help but wonder if the noticeable lack of energy Young brings to the film conflicts with his sliminess. I\\'m guessing it does and the result is a \"thriller\" with thrills that are thoroughly bad and yet comedic.', shape=(), dtype=string)\n",
            "LABELS\n",
            "tf.Tensor(0, shape=(), dtype=int32)\n",
            "tf.Tensor(0, shape=(), dtype=int32)\n",
            "tf.Tensor(1, shape=(), dtype=int32)\n",
            "tf.Tensor(0, shape=(), dtype=int32)\n",
            "tf.Tensor(0, shape=(), dtype=int32)\n"
          ],
          "name": "stdout"
        }
      ]
    },
    {
      "cell_type": "markdown",
      "metadata": {
        "id": "Be_zfkGqFQH7"
      },
      "source": [
        "**Notice the reviews contain raw text (with punctuation and occasional HTML tags like <br/>).**\n",
        "\n",
        "The labels are 0 or 1. To see which of these correspond to positive and negative movie reviews, you can check the **class_names** property on the dataset."
      ]
    },
    {
      "cell_type": "code",
      "metadata": {
        "colab": {
          "base_uri": "https://localhost:8080/"
        },
        "id": "W-7FUqb9BYO-",
        "outputId": "0e39a53f-bd05-4a99-ce9b-82dcc49fcc7c"
      },
      "source": [
        "print('Label 0 corresponds to ',raw_train_ds.class_names[0])\n",
        "print('Label 1 corresponds to ',raw_train_ds.class_names[1])"
      ],
      "execution_count": null,
      "outputs": [
        {
          "output_type": "stream",
          "text": [
            "Label 0 corresponds to  neg\n",
            "Label 1 corresponds to  pos\n"
          ],
          "name": "stdout"
        }
      ]
    },
    {
      "cell_type": "markdown",
      "metadata": {
        "id": "bEPs6kbmFsqD"
      },
      "source": [
        "Next, you will create a validation and test dataset. You will use the remaining 5,000 reviews from the training set for validation.\n",
        "\n",
        "**Note: When using the validation_split and subset arguments, make sure to either specify a random seed, or to pass shuffle=False, so that the validation and training splits have no overlap.**"
      ]
    },
    {
      "cell_type": "code",
      "metadata": {
        "colab": {
          "base_uri": "https://localhost:8080/"
        },
        "id": "ZlXEWsRJFlX7",
        "outputId": "b6e6736e-0377-44aa-b873-2997a1a8a193"
      },
      "source": [
        "raw_val_ds = tf.keras.preprocessing.text_dataset_from_directory(directory=train_dir,\n",
        "                                                                labels='inferred',\n",
        "                                                                batch_size=batch_size,\n",
        "                                                                seed=seed,\n",
        "                                                                validation_split=0.2,\n",
        "                                                                subset='validation')"
      ],
      "execution_count": null,
      "outputs": [
        {
          "output_type": "stream",
          "text": [
            "Found 25000 files belonging to 2 classes.\n",
            "Using 5000 files for validation.\n"
          ],
          "name": "stdout"
        }
      ]
    },
    {
      "cell_type": "code",
      "metadata": {
        "colab": {
          "base_uri": "https://localhost:8080/"
        },
        "id": "niDciswrGxez",
        "outputId": "fe702e5d-3f2e-4ff2-fc30-6fcfefbd5923"
      },
      "source": [
        "# test directory\n",
        "test_dir = os.path.join(dataset_dir,'test')\n",
        "print('directory containing test data ', test_dir)"
      ],
      "execution_count": null,
      "outputs": [
        {
          "output_type": "stream",
          "text": [
            "directory containing test data  ./aclImdb/test\n"
          ],
          "name": "stdout"
        }
      ]
    },
    {
      "cell_type": "code",
      "metadata": {
        "colab": {
          "base_uri": "https://localhost:8080/"
        },
        "id": "fujb6yD5GP-v",
        "outputId": "caedd571-3f12-41b5-ef98-b8937d7cc7f1"
      },
      "source": [
        "os.listdir(test_dir)"
      ],
      "execution_count": null,
      "outputs": [
        {
          "output_type": "execute_result",
          "data": {
            "text/plain": [
              "['urls_pos.txt', 'urls_neg.txt', 'labeledBow.feat', 'pos', 'neg']"
            ]
          },
          "metadata": {
            "tags": []
          },
          "execution_count": 18
        }
      ]
    },
    {
      "cell_type": "code",
      "metadata": {
        "colab": {
          "base_uri": "https://localhost:8080/"
        },
        "id": "-ZGaIrBQGg7N",
        "outputId": "c20d316b-511c-42f1-f2dd-085d874390d9"
      },
      "source": [
        "raw_test_ds = tf.keras.preprocessing.text_dataset_from_directory(directory=test_dir, batch_size=32)"
      ],
      "execution_count": null,
      "outputs": [
        {
          "output_type": "stream",
          "text": [
            "Found 25000 files belonging to 2 classes.\n"
          ],
          "name": "stdout"
        }
      ]
    },
    {
      "cell_type": "markdown",
      "metadata": {
        "id": "r6h8VpK3puqh"
      },
      "source": [
        "## Prepare the dataset for training\n",
        "Next, you will standardize, tokenize, and vectorize the data using the helpful preprocessing.TextVectorization layer.\n",
        "\n",
        "**Standardization** refers to preprocessing the text, typically to remove punctuation or HTML elements to simplify the dataset.\n",
        "\n",
        "**Tokenization** refers to splitting strings into tokens (for example, splitting a sentence into individual words, by splitting on whitespace). \n",
        "\n",
        "**Vectorization** refers to converting tokens into numbers so they can be fed into a neural network. All of these tasks can be accomplished with this layer.\n",
        "\n",
        "As you saw above, the reviews contain various HTML tags like ` <br />`. These tags will not be removed by the default standardizer in the TextVectorization layer (which converts text to lowercase and strips punctuation by default, but doesn't strip HTML). we have to write a custom standardization function to remove the HTML.\n",
        "\n",
        "Note: to prevent train/test skew (also know as train/serving skew), it is important to preprocess the data identically at train and test time. To facilitate this, the TextVectorization layer can be included directly inside your model.\n",
        "\n",
        "### Training-Serving Skew\n",
        "Training-serving skew is a difference between performance during training and performance during serving. This skew can be caused by:\n",
        "\n",
        "* A discrepancy between how you handle data in the training and serving pipelines.\n",
        "* A change in the data between when you train and when you serve.\n",
        "* A feedback loop between your model and your algorithm.\n"
      ]
    },
    {
      "cell_type": "code",
      "metadata": {
        "id": "dWPAk20PHR7r"
      },
      "source": [
        "# Custom standardization function to remove the HTML.\n",
        "\n",
        "import string \n",
        "import re"
      ],
      "execution_count": null,
      "outputs": []
    },
    {
      "cell_type": "code",
      "metadata": {
        "colab": {
          "base_uri": "https://localhost:8080/"
        },
        "id": "K61Z-JdbrF4c",
        "outputId": "bb9fc40c-178e-47d0-a97e-30e5f8922be6"
      },
      "source": [
        "print('Punctuations',string.punctuation)"
      ],
      "execution_count": null,
      "outputs": [
        {
          "output_type": "stream",
          "text": [
            "Punctuations !\"#$%&'()*+,-./:;<=>?@[\\]^_`{|}~\n"
          ],
          "name": "stdout"
        }
      ]
    },
    {
      "cell_type": "code",
      "metadata": {
        "colab": {
          "base_uri": "https://localhost:8080/"
        },
        "id": "v0hxEm3Jt9cO",
        "outputId": "290e7df7-3b12-4873-b18a-29e709bb9d8a"
      },
      "source": [
        "reg = '[%s]' % re.escape(string.punctuation)\n",
        "pat = re.compile(reg)\n",
        "re.findall(pat,'hello! john* ')"
      ],
      "execution_count": null,
      "outputs": [
        {
          "output_type": "execute_result",
          "data": {
            "text/plain": [
              "['!', '*']"
            ]
          },
          "metadata": {
            "tags": []
          },
          "execution_count": 45
        }
      ]
    },
    {
      "cell_type": "code",
      "metadata": {
        "colab": {
          "base_uri": "https://localhost:8080/"
        },
        "id": "jnlcL67lvbzG",
        "outputId": "5bc29817-0248-42aa-a6c1-f3ceae0bf6d2"
      },
      "source": [
        "tf.strings.regex_replace(\"Text with tags.<br /><b>contains html</b>\", \"<[^>]+>\", \" \")"
      ],
      "execution_count": null,
      "outputs": [
        {
          "output_type": "execute_result",
          "data": {
            "text/plain": [
              "<tf.Tensor: shape=(), dtype=string, numpy=b'Text with tags.  contains html '>"
            ]
          },
          "metadata": {
            "tags": []
          },
          "execution_count": 46
        }
      ]
    },
    {
      "cell_type": "code",
      "metadata": {
        "colab": {
          "base_uri": "https://localhost:8080/"
        },
        "id": "ypeQNfgs4UKI",
        "outputId": "af358ae9-f01e-4bcd-b982-e33db018778d"
      },
      "source": [
        "tf.strings.regex_replace(\"Crimes contributes to about 10% of the movie\\'s appeal; the other 90% can be attributed to it\\'s flagrant\",'[%s]'% string.punctuation, \" \")"
      ],
      "execution_count": null,
      "outputs": [
        {
          "output_type": "execute_result",
          "data": {
            "text/plain": [
              "<tf.Tensor: shape=(), dtype=string, numpy=b'Crimes contributes to about 10  of the movie s appeal  the other 90  can be attributed to it s flagrant'>"
            ]
          },
          "metadata": {
            "tags": []
          },
          "execution_count": 48
        }
      ]
    },
    {
      "cell_type": "code",
      "metadata": {
        "colab": {
          "base_uri": "https://localhost:8080/"
        },
        "id": "LIqDiT3uzi_c",
        "outputId": "5ff14f25-ddd0-423b-cd69-d937c9082623"
      },
      "source": [
        "tf.strings.regex_replace(\"Crimes contributes to about 10% of the movie\\'s appeal; the other 90% can be attributed to it\\'s flagrant\",'[%s]'% re.escape(string.punctuation), \" \")"
      ],
      "execution_count": null,
      "outputs": [
        {
          "output_type": "execute_result",
          "data": {
            "text/plain": [
              "<tf.Tensor: shape=(), dtype=string, numpy=b'Crimes contributes to about 10  of the movie s appeal  the other 90  can be attributed to it s flagrant'>"
            ]
          },
          "metadata": {
            "tags": []
          },
          "execution_count": 47
        }
      ]
    },
    {
      "cell_type": "code",
      "metadata": {
        "id": "QY-yE1fkzzaK"
      },
      "source": [
        "def custom_standardization(input_data):\n",
        "  lowercase = tf.strings.lower(input_data)\n",
        "  stripped_html = tf.strings.regex_replace(lowercase, '<br />', ' ')\n",
        "  return tf.strings.regex_replace(stripped_html, '[%s]' % re.escape(string.punctuation), '')"
      ],
      "execution_count": null,
      "outputs": []
    },
    {
      "cell_type": "code",
      "metadata": {
        "colab": {
          "base_uri": "https://localhost:8080/"
        },
        "id": "HZV1-wJd5rIo",
        "outputId": "16fd44a4-c96e-44c0-edf8-ea8b50a61bb2"
      },
      "source": [
        "# example of standardized text\n",
        "text = text_batch[0]\n",
        "print('Before standardization',text)\n",
        "print('After standardization',custom_standardization(text))"
      ],
      "execution_count": null,
      "outputs": [
        {
          "output_type": "stream",
          "text": [
            "Before standardization tf.Tensor(b'\"Pandemonium\" is a horror movie spoof that comes off more stupid than funny. Believe me when I tell you, I love comedies. Especially comedy spoofs. \"Airplane\", \"The Naked Gun\" trilogy, \"Blazing Saddles\", \"High Anxiety\", and \"Spaceballs\" are some of my favorite comedies that spoof a particular genre. \"Pandemonium\" is not up there with those films. Most of the scenes in this movie had me sitting there in stunned silence because the movie wasn\\'t all that funny. There are a few laughs in the film, but when you watch a comedy, you expect to laugh a lot more than a few times and that\\'s all this film has going for it. Geez, \"Scream\" had more laughs than this film and that was more of a horror film. How bizarre is that?<br /><br />*1/2 (out of four)', shape=(), dtype=string)\n",
            "After standardization tf.Tensor(b'pandemonium is a horror movie spoof that comes off more stupid than funny believe me when i tell you i love comedies especially comedy spoofs airplane the naked gun trilogy blazing saddles high anxiety and spaceballs are some of my favorite comedies that spoof a particular genre pandemonium is not up there with those films most of the scenes in this movie had me sitting there in stunned silence because the movie wasnt all that funny there are a few laughs in the film but when you watch a comedy you expect to laugh a lot more than a few times and thats all this film has going for it geez scream had more laughs than this film and that was more of a horror film how bizarre is that  12 out of four', shape=(), dtype=string)\n"
          ],
          "name": "stdout"
        }
      ]
    },
    {
      "cell_type": "markdown",
      "metadata": {
        "id": "1ot6H6KD-T6k"
      },
      "source": [
        "Next, you will create a **TextVectorization layer**. You will use this layer to **`standardize`**, **`tokenize`**, and **`vectorize`** our data. You set the output_mode to **int** to create unique integer indices for each token.\n",
        "\n",
        "Note that you're using the default split function, and the custom standardization function you defined above. You'll also define some constants for the model, like an explicit maximum sequence_length, which will cause the layer to pad or truncate sequences to exactly sequence_length values.\n",
        "\n",
        "**tf.keras.layers.experimental.preprocessing.TextVectorization**\n",
        "\n",
        "This layer has basic options for managing text in a Keras model. \n",
        "\n",
        "It transforms a batch of strings (one sample = one string) into either a list of token indices (one sample = 1D tensor of integer token indices) or a dense representation (one sample = 1D tensor of float values representing data about the sample's tokens).\n",
        "\n",
        "If desired, the user can call this layer's adapt() method on a dataset. When this layer is adapted, it will analyze the dataset, determine the frequency of individual string values, and create a 'vocabulary' from them. This vocabulary can have unlimited size or be capped, depending on the configuration options for this layer; if there are more unique values in the input than the maximum vocabulary size, the most frequent terms will be used to create the vocabulary.\n",
        "\n",
        "The processing of each sample contains the following steps:\n",
        "\n",
        "* standardize each sample (usually lowercasing + punctuation stripping)\n",
        "* split each sample into substrings (usually words)\n",
        "* recombine substrings into tokens (usually ngrams)\n",
        "* index tokens (associate a unique int value with each token)\n",
        "* transform each sample using this index, either into a vector of ints or a dense float vector.\n"
      ]
    },
    {
      "cell_type": "code",
      "metadata": {
        "id": "7n-72LSl8Q-x"
      },
      "source": [
        "from tensorflow.keras.layers.experimental.preprocessing import TextVectorization\n",
        "\n",
        "max_features = 10000\n",
        "sequence_length = 250\n",
        "\n",
        "vectorize_layer = TextVectorization(max_tokens=max_features,\n",
        "                                    standardize = custom_standardization,\n",
        "                                    output_mode='int',\n",
        "                                    output_sequence_length = sequence_length)"
      ],
      "execution_count": null,
      "outputs": []
    },
    {
      "cell_type": "markdown",
      "metadata": {
        "id": "UOgTlLqRAJJ3"
      },
      "source": [
        "Next, you will call adapt to fit the state of the preprocessing layer to the dataset. This will cause the model to build an index of strings to integers.\n",
        "\n",
        "Note: it's important to only use your training data when calling adapt (using the test set would leak information)."
      ]
    },
    {
      "cell_type": "code",
      "metadata": {
        "id": "YbOFOuIz_g05"
      },
      "source": [
        "# Make a text-only dataset (without labels), then call adapt\n",
        "\n",
        "train_text = raw_train_ds.map(lambda x, y: x)\n",
        "\n",
        "vectorize_layer.adapt(train_text)"
      ],
      "execution_count": null,
      "outputs": []
    },
    {
      "cell_type": "code",
      "metadata": {
        "colab": {
          "base_uri": "https://localhost:8080/"
        },
        "id": "Gx4iLltwIxST",
        "outputId": "16ceacba-f498-46bf-ce23-d34d90e04613"
      },
      "source": [
        "vectorize_layer.get_vocabulary()[:15]"
      ],
      "execution_count": null,
      "outputs": [
        {
          "output_type": "execute_result",
          "data": {
            "text/plain": [
              "['',\n",
              " '[UNK]',\n",
              " 'the',\n",
              " 'and',\n",
              " 'a',\n",
              " 'of',\n",
              " 'to',\n",
              " 'is',\n",
              " 'in',\n",
              " 'it',\n",
              " 'i',\n",
              " 'this',\n",
              " 'that',\n",
              " 'was',\n",
              " 'as']"
            ]
          },
          "metadata": {
            "tags": []
          },
          "execution_count": 81
        }
      ]
    },
    {
      "cell_type": "code",
      "metadata": {
        "colab": {
          "base_uri": "https://localhost:8080/"
        },
        "id": "03MFUY-vJPry",
        "outputId": "1f83fecd-d257-4c5f-ffe3-5176ec802236"
      },
      "source": [
        "print('length of vocabulary',len(vectorize_layer.get_vocabulary()))"
      ],
      "execution_count": null,
      "outputs": [
        {
          "output_type": "stream",
          "text": [
            "length of vocabulary 10000\n"
          ],
          "name": "stdout"
        }
      ]
    },
    {
      "cell_type": "markdown",
      "metadata": {
        "id": "0KSRbxQcGyu8"
      },
      "source": [
        "Let's create a function to see the result of using this layer to preprocess some data."
      ]
    },
    {
      "cell_type": "code",
      "metadata": {
        "id": "dV933bSSGjgA"
      },
      "source": [
        "def vectorize_text(text, label):\n",
        "  text = tf.expand_dims(text, -1)\n",
        "  return vectorize_layer(text),label"
      ],
      "execution_count": null,
      "outputs": []
    },
    {
      "cell_type": "code",
      "metadata": {
        "colab": {
          "base_uri": "https://localhost:8080/"
        },
        "id": "7m9dtdtZHJpQ",
        "outputId": "c93bd8c2-75c6-4fe9-b1fd-6ca350f36589"
      },
      "source": [
        "firstReview, firstLabel = text_batch[0], label_batch[0]\n",
        "print('Review ',firstReview)\n",
        "print('label',firstLabel)\n",
        "print('label class', raw_train_ds.class_names[firstLabel])\n",
        "print(vectorize_text(firstReview,firstLabel))"
      ],
      "execution_count": null,
      "outputs": [
        {
          "output_type": "stream",
          "text": [
            "Review  tf.Tensor(b'\"Pandemonium\" is a horror movie spoof that comes off more stupid than funny. Believe me when I tell you, I love comedies. Especially comedy spoofs. \"Airplane\", \"The Naked Gun\" trilogy, \"Blazing Saddles\", \"High Anxiety\", and \"Spaceballs\" are some of my favorite comedies that spoof a particular genre. \"Pandemonium\" is not up there with those films. Most of the scenes in this movie had me sitting there in stunned silence because the movie wasn\\'t all that funny. There are a few laughs in the film, but when you watch a comedy, you expect to laugh a lot more than a few times and that\\'s all this film has going for it. Geez, \"Scream\" had more laughs than this film and that was more of a horror film. How bizarre is that?<br /><br />*1/2 (out of four)', shape=(), dtype=string)\n",
            "label tf.Tensor(0, shape=(), dtype=int32)\n",
            "label class neg\n",
            "(<tf.Tensor: shape=(1, 250), dtype=int64, numpy=\n",
            "array([[   1,    7,    4,  191,   17, 2926,   12,  255,  127,   50,  377,\n",
            "          70,  160,  256,   69,   51,   10,  361,   22,   10,  115, 1219,\n",
            "         260,  220, 8179, 4635,    2, 1292, 1113, 2336, 8329,    1,  331,\n",
            "        8954,    3,    1,   23,   46,    5,   54,  500, 1219,   12, 2926,\n",
            "           4,  804,  503,    1,    7,   21,   56,   47,   16,  143,   94,\n",
            "          88,    5,    2,  136,    8,   11,   17,   66,   69, 1218,   47,\n",
            "           8, 4918, 3343,   84,    2,   17,  269,   30,   12,  160,   47,\n",
            "          23,    4,  166,  945,    8,    2,   19,   18,   51,   22,  103,\n",
            "           4,  220,   22,  507,    6,  472,    4,  171,   50,   70,    4,\n",
            "         166,  206,    3,  177,   30,   11,   19,   43,  168,   15,    9,\n",
            "           1, 2004,   66,   50,  945,   70,   11,   19,    3,   12,   13,\n",
            "          50,    5,    4,  191,   19,   87, 1114,    7,   12, 1105,   44,\n",
            "           5,  695,    0,    0,    0,    0,    0,    0,    0,    0,    0,\n",
            "           0,    0,    0,    0,    0,    0,    0,    0,    0,    0,    0,\n",
            "           0,    0,    0,    0,    0,    0,    0,    0,    0,    0,    0,\n",
            "           0,    0,    0,    0,    0,    0,    0,    0,    0,    0,    0,\n",
            "           0,    0,    0,    0,    0,    0,    0,    0,    0,    0,    0,\n",
            "           0,    0,    0,    0,    0,    0,    0,    0,    0,    0,    0,\n",
            "           0,    0,    0,    0,    0,    0,    0,    0,    0,    0,    0,\n",
            "           0,    0,    0,    0,    0,    0,    0,    0,    0,    0,    0,\n",
            "           0,    0,    0,    0,    0,    0,    0,    0,    0,    0,    0,\n",
            "           0,    0,    0,    0,    0,    0,    0,    0,    0,    0,    0,\n",
            "           0,    0,    0,    0,    0,    0,    0,    0]])>, <tf.Tensor: shape=(), dtype=int32, numpy=0>)\n"
          ],
          "name": "stdout"
        }
      ]
    },
    {
      "cell_type": "markdown",
      "metadata": {
        "id": "XARQDbFqIN00"
      },
      "source": [
        "As you can see above, each token has been replaced by an integer. You can lookup the token (string) that each integer corresponds to by calling .get_vocabulary() on the layer."
      ]
    },
    {
      "cell_type": "code",
      "metadata": {
        "colab": {
          "base_uri": "https://localhost:8080/",
          "height": 35
        },
        "id": "SerCc9GHHseY",
        "outputId": "026812fc-8559-410a-9cbd-651c618d13b4"
      },
      "source": [
        "vectorize_layer.get_vocabulary()[1]"
      ],
      "execution_count": null,
      "outputs": [
        {
          "output_type": "execute_result",
          "data": {
            "application/vnd.google.colaboratory.intrinsic+json": {
              "type": "string"
            },
            "text/plain": [
              "'[UNK]'"
            ]
          },
          "metadata": {
            "tags": []
          },
          "execution_count": 71
        }
      ]
    },
    {
      "cell_type": "code",
      "metadata": {
        "colab": {
          "base_uri": "https://localhost:8080/",
          "height": 35
        },
        "id": "vmVVO7XfISHu",
        "outputId": "1796fc4d-6529-4eb7-ed53-e61e4ff72842"
      },
      "source": [
        "vectorize_layer.get_vocabulary()[7]"
      ],
      "execution_count": null,
      "outputs": [
        {
          "output_type": "execute_result",
          "data": {
            "application/vnd.google.colaboratory.intrinsic+json": {
              "type": "string"
            },
            "text/plain": [
              "'is'"
            ]
          },
          "metadata": {
            "tags": []
          },
          "execution_count": 72
        }
      ]
    },
    {
      "cell_type": "code",
      "metadata": {
        "colab": {
          "base_uri": "https://localhost:8080/",
          "height": 35
        },
        "id": "mD7hZ_SeIix8",
        "outputId": "c84eee90-7470-4cfb-8595-2fab821deb42"
      },
      "source": [
        "vectorize_layer.get_vocabulary()[4]"
      ],
      "execution_count": null,
      "outputs": [
        {
          "output_type": "execute_result",
          "data": {
            "application/vnd.google.colaboratory.intrinsic+json": {
              "type": "string"
            },
            "text/plain": [
              "'a'"
            ]
          },
          "metadata": {
            "tags": []
          },
          "execution_count": 73
        }
      ]
    },
    {
      "cell_type": "code",
      "metadata": {
        "colab": {
          "base_uri": "https://localhost:8080/",
          "height": 35
        },
        "id": "2zLdosnbIj_D",
        "outputId": "4f4b2067-0c35-4adb-cc33-615a1f90bc10"
      },
      "source": [
        "vectorize_layer.get_vocabulary()[191]"
      ],
      "execution_count": null,
      "outputs": [
        {
          "output_type": "execute_result",
          "data": {
            "application/vnd.google.colaboratory.intrinsic+json": {
              "type": "string"
            },
            "text/plain": [
              "'horror'"
            ]
          },
          "metadata": {
            "tags": []
          },
          "execution_count": 74
        }
      ]
    },
    {
      "cell_type": "code",
      "metadata": {
        "colab": {
          "base_uri": "https://localhost:8080/",
          "height": 35
        },
        "id": "E4cJI0V4InLu",
        "outputId": "ba1c6e75-657c-4bc4-b426-69d86b443440"
      },
      "source": [
        "vectorize_layer.get_vocabulary()[17]"
      ],
      "execution_count": null,
      "outputs": [
        {
          "output_type": "execute_result",
          "data": {
            "application/vnd.google.colaboratory.intrinsic+json": {
              "type": "string"
            },
            "text/plain": [
              "'movie'"
            ]
          },
          "metadata": {
            "tags": []
          },
          "execution_count": 75
        }
      ]
    },
    {
      "cell_type": "markdown",
      "metadata": {
        "id": "AkvF66IvJv2V"
      },
      "source": [
        "You are nearly ready to train your model. As a final preprocessing step, you will apply the TextVectorization layer you created earlier to the train, validation, and test dataset."
      ]
    },
    {
      "cell_type": "code",
      "metadata": {
        "id": "1LKpc2J-IqRS"
      },
      "source": [
        "train_ds = raw_train_ds.map(vectorize_text)\n",
        "val_ds = raw_val_ds.map(vectorize_text)\n",
        "test_ds = raw_test_ds.map(vectorize_text)"
      ],
      "execution_count": null,
      "outputs": []
    },
    {
      "cell_type": "markdown",
      "metadata": {
        "id": "GzJd6WZeKU3f"
      },
      "source": [
        "Configure the dataset for performance\n",
        "These are two important methods you should use when loading data to make sure that I/O does not become blocking.\n",
        "\n",
        ".cache() keeps data in memory after it's loaded off disk. This will ensure the dataset does not become a bottleneck while training your model. If your dataset is too large to fit into memory, you can also use this method to create a performant on-disk cache, which is more efficient to read than many small files.\n",
        "\n",
        ".prefetch() overlaps data preprocessing and model execution while training."
      ]
    },
    {
      "cell_type": "code",
      "metadata": {
        "id": "xufiexujKCXp"
      },
      "source": [
        "# config for performance\n",
        "def config_for_performance(ds):\n",
        "  ds = ds.cache()\n",
        "  ds = ds.prefetch(tf.data.AUTOTUNE)\n",
        "  return ds\n",
        "\n",
        "train_ds = config_for_performance(train_ds)\n",
        "val_ds = config_for_performance(val_ds)\n",
        "test_ds = config_for_performance(test_ds)"
      ],
      "execution_count": null,
      "outputs": []
    },
    {
      "cell_type": "markdown",
      "metadata": {
        "id": "t47xGvvJK4BH"
      },
      "source": [
        "## Create the model\n",
        "It's time to create our neural network:\n",
        "\n",
        "**Embedding layer**\n",
        "\n",
        "tf.keras.layers.Embedding(<br>\n",
        "    input_dim,<br>\n",
        "    output_dim,<br>\n",
        "    embeddings_initializer=\"uniform\",<br>\n",
        "    embeddings_regularizer=None,<br>\n",
        "    activity_regularizer=None,<br>\n",
        "    embeddings_constraint=None,<br>\n",
        "    mask_zero=False,<br>\n",
        "    input_length=None,<br>\n",
        "    **kwargs<br>\n",
        ")<br>\n",
        "\n",
        "Turns positive integers (indexes) into dense vectors of fixed size.\n",
        "\n",
        "e.g. [[4], [20]] -> [[0.25, 0.1], [0.6, -0.2]]\n",
        "\n",
        "### This layer can only be used as the first layer in a model.\n",
        "\n",
        "**input_dim**: Integer. Size of the vocabulary, i.e.**maximum integer index + 1.**\n",
        "\n",
        "**output_dim**: Integer. Dimension of the dense embedding."
      ]
    },
    {
      "cell_type": "code",
      "metadata": {
        "colab": {
          "base_uri": "https://localhost:8080/"
        },
        "id": "YoNGz_gVK0sd",
        "outputId": "6460e3b7-4010-4a71-b849-87574b6b7dda"
      },
      "source": [
        "embedding_dim = 16\n",
        "\n",
        "model = tf.keras.Sequential([\n",
        "                             tf.keras.layers.Embedding(input_dim = max_features+1 , output_dim = embedding_dim),\n",
        "                             tf.keras.layers.Dropout(0.2),\n",
        "                             tf.keras.layers.GlobalAveragePooling1D(),\n",
        "                             tf.keras.layers.Dropout(0.2),\n",
        "                             tf.keras.layers.Dense(1)\n",
        "\n",
        "])\n",
        "\n",
        "model.summary()"
      ],
      "execution_count": null,
      "outputs": [
        {
          "output_type": "stream",
          "text": [
            "Model: \"sequential_8\"\n",
            "_________________________________________________________________\n",
            "Layer (type)                 Output Shape              Param #   \n",
            "=================================================================\n",
            "embedding_8 (Embedding)      (None, None, 16)          160016    \n",
            "_________________________________________________________________\n",
            "dropout_16 (Dropout)         (None, None, 16)          0         \n",
            "_________________________________________________________________\n",
            "global_average_pooling1d_8 ( (None, 16)                0         \n",
            "_________________________________________________________________\n",
            "dropout_17 (Dropout)         (None, 16)                0         \n",
            "_________________________________________________________________\n",
            "dense_8 (Dense)              (None, 1)                 17        \n",
            "=================================================================\n",
            "Total params: 160,033\n",
            "Trainable params: 160,033\n",
            "Non-trainable params: 0\n",
            "_________________________________________________________________\n"
          ],
          "name": "stdout"
        }
      ]
    },
    {
      "cell_type": "markdown",
      "metadata": {
        "id": "ziXPgvjURexZ"
      },
      "source": [
        "The layers are stacked sequentially to build the classifier:\n",
        "\n",
        "The first layer is an **Embedding layer**. This layer takes the integer-encoded reviews and looks up an embedding vector for each word-index. These vectors are learned as the model trains. The vectors add a dimension to the output array. The resulting dimensions are: (batch, sequence, embedding). \n",
        "\n",
        "Next, a **GlobalAveragePooling1D** layer returns a fixed-length output vector for each example by averaging over the sequence dimension. This allows the model to handle input of variable length, in the simplest way possible.\n",
        "\n",
        "This fixed-length output vector is piped through a fully-connected (Dense) layer with 16 hidden units.\n",
        "The last layer is densely connected with a single output node.\n",
        "\n",
        "## Loss function and optimizer\n",
        "A model needs a loss function and an optimizer for training. Since this is a binary classification problem and the model outputs a probability (a single-unit layer with a sigmoid activation), you'll use losses.BinaryCrossentropy loss function.\n",
        "\n",
        "Now, configure the model to use an optimizer and a loss function:\n"
      ]
    },
    {
      "cell_type": "code",
      "metadata": {
        "id": "IoOU6CRLROW1"
      },
      "source": [
        "model.compile(optimizer='Adam',\n",
        "              loss=tf.keras.losses.BinaryCrossentropy(from_logits=True),\n",
        "              metrics=tf.keras.metrics.BinaryAccuracy(threshold=0.0))"
      ],
      "execution_count": null,
      "outputs": []
    },
    {
      "cell_type": "markdown",
      "metadata": {
        "id": "4QZgB2U6VDcA"
      },
      "source": [
        "## Train the model\n",
        "You will train the model by passing the dataset object to the fit method."
      ]
    },
    {
      "cell_type": "code",
      "metadata": {
        "colab": {
          "base_uri": "https://localhost:8080/"
        },
        "id": "zLsFVLgQVCVh",
        "outputId": "4f01bc1e-cd25-44cb-8548-baa79c65c2c0"
      },
      "source": [
        "epochs = 10\n",
        "\n",
        "history = model.fit(x=train_ds,\n",
        "                    epochs=epochs,\n",
        "                    validation_data=val_ds,\n",
        "                    )"
      ],
      "execution_count": null,
      "outputs": [
        {
          "output_type": "stream",
          "text": [
            "Epoch 1/10\n",
            "625/625 [==============================] - 6s 8ms/step - loss: 0.6652 - binary_accuracy: 0.6885 - val_loss: 0.6163 - val_binary_accuracy: 0.7696\n",
            "Epoch 2/10\n",
            "625/625 [==============================] - 5s 8ms/step - loss: 0.5492 - binary_accuracy: 0.8015 - val_loss: 0.4986 - val_binary_accuracy: 0.8212\n",
            "Epoch 3/10\n",
            "625/625 [==============================] - 5s 8ms/step - loss: 0.4447 - binary_accuracy: 0.8449 - val_loss: 0.4201 - val_binary_accuracy: 0.8468\n",
            "Epoch 4/10\n",
            "625/625 [==============================] - 5s 8ms/step - loss: 0.3784 - binary_accuracy: 0.8665 - val_loss: 0.3739 - val_binary_accuracy: 0.8606\n",
            "Epoch 5/10\n",
            "625/625 [==============================] - 5s 8ms/step - loss: 0.3358 - binary_accuracy: 0.8791 - val_loss: 0.3451 - val_binary_accuracy: 0.8674\n",
            "Epoch 6/10\n",
            "625/625 [==============================] - 5s 8ms/step - loss: 0.3053 - binary_accuracy: 0.8882 - val_loss: 0.3262 - val_binary_accuracy: 0.8718\n",
            "Epoch 7/10\n",
            "625/625 [==============================] - 5s 8ms/step - loss: 0.2816 - binary_accuracy: 0.8971 - val_loss: 0.3127 - val_binary_accuracy: 0.8738\n",
            "Epoch 8/10\n",
            "625/625 [==============================] - 5s 8ms/step - loss: 0.2614 - binary_accuracy: 0.9050 - val_loss: 0.3036 - val_binary_accuracy: 0.8762\n",
            "Epoch 9/10\n",
            "625/625 [==============================] - 5s 8ms/step - loss: 0.2462 - binary_accuracy: 0.9103 - val_loss: 0.2969 - val_binary_accuracy: 0.8778\n",
            "Epoch 10/10\n",
            "625/625 [==============================] - 5s 7ms/step - loss: 0.2315 - binary_accuracy: 0.9180 - val_loss: 0.2923 - val_binary_accuracy: 0.8792\n"
          ],
          "name": "stdout"
        }
      ]
    },
    {
      "cell_type": "markdown",
      "metadata": {
        "id": "MIqP_Xk9W-pV"
      },
      "source": [
        "## Evaluate the model\n",
        "Let's see how the model performs. Two values will be returned. \n",
        "**Loss** (a number which represents our error, lower values are better), and **accuracy**."
      ]
    },
    {
      "cell_type": "code",
      "metadata": {
        "colab": {
          "base_uri": "https://localhost:8080/"
        },
        "id": "2b3YjMFrVaDD",
        "outputId": "54ac6b7c-8fea-4472-a56f-ff6f2c6366a2"
      },
      "source": [
        "loss, accuracy = model.evaluate(test_ds)"
      ],
      "execution_count": null,
      "outputs": [
        {
          "output_type": "stream",
          "text": [
            "782/782 [==============================] - 1s 2ms/step - loss: 0.3103 - binary_accuracy: 0.8730\n"
          ],
          "name": "stdout"
        }
      ]
    },
    {
      "cell_type": "code",
      "metadata": {
        "colab": {
          "base_uri": "https://localhost:8080/"
        },
        "id": "-11X-TkxXOg9",
        "outputId": "9ec3bfa8-95f8-4213-d865-3416f5984fbc"
      },
      "source": [
        "print('Model Accuracy',accuracy)\n",
        "print('Model loss',loss)"
      ],
      "execution_count": null,
      "outputs": [
        {
          "output_type": "stream",
          "text": [
            "Model Accuracy 0.8730000257492065\n",
            "Model loss 0.31029194593429565\n"
          ],
          "name": "stdout"
        }
      ]
    },
    {
      "cell_type": "markdown",
      "metadata": {
        "id": "-idP5v_JXZFJ"
      },
      "source": [
        "This fairly naive approach achieves an accuracy of about 86%.\n",
        "\n",
        "## Create a plot of accuracy and loss over time\n",
        "model.fit() returns a History object that contains a dictionary with everything that happened during training:"
      ]
    },
    {
      "cell_type": "code",
      "metadata": {
        "colab": {
          "base_uri": "https://localhost:8080/"
        },
        "id": "ZuF0bMPpXVsU",
        "outputId": "910d5681-d824-4c84-f52a-7fcb3e09254a"
      },
      "source": [
        "history_dict = history.history\n",
        "print('keys in history dict are ',history_dict.keys())"
      ],
      "execution_count": null,
      "outputs": [
        {
          "output_type": "stream",
          "text": [
            "keys in history dict are  dict_keys(['loss', 'binary_accuracy', 'val_loss', 'val_binary_accuracy'])\n"
          ],
          "name": "stdout"
        }
      ]
    },
    {
      "cell_type": "markdown",
      "metadata": {
        "id": "l302RVxIYBUY"
      },
      "source": [
        "There are four entries: one for each monitored metric during training and validation. You can use these to plot the training and validation loss for comparison, as well as the training and validation accuracy:"
      ]
    },
    {
      "cell_type": "code",
      "metadata": {
        "colab": {
          "base_uri": "https://localhost:8080/",
          "height": 621
        },
        "id": "MV8WWmg7XmEc",
        "outputId": "5b42aa77-72cd-42ba-b6b2-fc1d7f223594"
      },
      "source": [
        "acc = history_dict['binary_accuracy']\n",
        "val_acc = history_dict['val_binary_accuracy']\n",
        "loss = history_dict['loss']\n",
        "val_loss = history_dict['val_loss']\n",
        "\n",
        "epochs = range(1,11)\n",
        "\n",
        "plt.figure(figsize=(20,10))\n",
        "\n",
        "plt.subplot(1,2,1)\n",
        "plt.plot(epochs, loss, 'bo', label='training loss')\n",
        "plt.plot(epochs, val_loss, 'b', label='validation loss')\n",
        "plt.title('Training & Validation loss')\n",
        "plt.xlabel('epochs')\n",
        "plt.ylabel('loss')\n",
        "plt.legend()\n",
        "\n",
        "plt.subplot(1,2,2)\n",
        "plt.plot(epochs, acc, 'bo', label='training accuray')\n",
        "plt.plot(epochs, val_acc, 'b', label='validation accuray')\n",
        "plt.title('Training & Validation accuracy')\n",
        "plt.xlabel('epochs')\n",
        "plt.ylabel('loss')\n",
        "plt.legend()\n",
        "\n",
        "plt.show()"
      ],
      "execution_count": null,
      "outputs": [
        {
          "output_type": "display_data",
          "data": {
            "image/png": "[encoded data removed]",
            "text/plain": [
              "<Figure size 1440x720 with 2 Axes>"
            ]
          },
          "metadata": {
            "tags": [],
            "needs_background": "light"
          }
        }
      ]
    },
    {
      "cell_type": "markdown",
      "metadata": {
        "id": "S1ByaNEaalUD"
      },
      "source": [
        "In this plot, the dots represent the training loss and accuracy, and the solid lines are the validation loss and accuracy.\n",
        "\n",
        "Notice the training loss decreases with each epoch and the training accuracy increases with each epoch. This is expected when using a gradient descent optimization—it should minimize the desired quantity on every iteration.\n",
        "\n",
        "This isn't the case for the validation loss and accuracy—they seem to peak before the training accuracy. This is an example of overfitting: the model performs better on the training data than it does on data it has never seen before. After this point, the model over-optimizes and learns representations specific to the training data that do not generalize to test data.\n",
        "\n",
        "For this particular case, you could prevent overfitting by simply stopping the training when the validation accuracy is no longer increasing. One way to do so is to use the tf.keras.callbacks.EarlyStopping callback."
      ]
    },
    {
      "cell_type": "code",
      "metadata": {
        "colab": {
          "base_uri": "https://localhost:8080/"
        },
        "id": "yiZD3K7hYm59",
        "outputId": "9eeec380-6065-4cb5-de25-50bbed8fb85d"
      },
      "source": [
        "final_model = tf.keras.Sequential([\n",
        "                                   tf.keras.layers.Embedding(input_dim=max_features+1, output_dim=16),\n",
        "                                   tf.keras.layers.Dropout(0.2),\n",
        "                                   tf.keras.layers.GlobalAveragePooling1D(),\n",
        "                                   tf.keras.layers.Dropout(0.2),\n",
        "                                   tf.keras.layers.Dense(1)\n",
        "\n",
        "])\n",
        "\n",
        "final_model.compile(optimizer='Adam',\n",
        "                    loss=tf.keras.losses.BinaryCrossentropy(from_logits=True),\n",
        "                    metrics=tf.keras.metrics.BinaryAccuracy())\n",
        "\n",
        "earlyStoppingCallback = tf.keras.callbacks.EarlyStopping(monitor='val_loss', patience=1)\n",
        "\n",
        "history= final_model.fit(x=train_ds,\n",
        "                        epochs=100,\n",
        "                        validation_data=val_ds,\n",
        "                         callbacks=[earlyStoppingCallback])"
      ],
      "execution_count": null,
      "outputs": [
        {
          "output_type": "stream",
          "text": [
            "Epoch 1/100\n",
            "625/625 [==============================] - 5s 8ms/step - loss: 0.6637 - binary_accuracy: 0.5064 - val_loss: 0.6141 - val_binary_accuracy: 0.5316\n",
            "Epoch 2/100\n",
            "625/625 [==============================] - 5s 8ms/step - loss: 0.5482 - binary_accuracy: 0.6639 - val_loss: 0.4978 - val_binary_accuracy: 0.7258\n",
            "Epoch 3/100\n",
            "625/625 [==============================] - 5s 7ms/step - loss: 0.4437 - binary_accuracy: 0.7918 - val_loss: 0.4195 - val_binary_accuracy: 0.8078\n",
            "Epoch 4/100\n",
            "625/625 [==============================] - 5s 8ms/step - loss: 0.3782 - binary_accuracy: 0.8393 - val_loss: 0.3734 - val_binary_accuracy: 0.8324\n",
            "Epoch 5/100\n",
            "625/625 [==============================] - 5s 7ms/step - loss: 0.3353 - binary_accuracy: 0.8615 - val_loss: 0.3448 - val_binary_accuracy: 0.8458\n",
            "Epoch 6/100\n",
            "625/625 [==============================] - 5s 8ms/step - loss: 0.3048 - binary_accuracy: 0.8766 - val_loss: 0.3258 - val_binary_accuracy: 0.8544\n",
            "Epoch 7/100\n",
            "625/625 [==============================] - 5s 8ms/step - loss: 0.2817 - binary_accuracy: 0.8889 - val_loss: 0.3123 - val_binary_accuracy: 0.8614\n",
            "Epoch 8/100\n",
            "625/625 [==============================] - 5s 7ms/step - loss: 0.2620 - binary_accuracy: 0.8964 - val_loss: 0.3031 - val_binary_accuracy: 0.8684\n",
            "Epoch 9/100\n",
            "625/625 [==============================] - 5s 8ms/step - loss: 0.2454 - binary_accuracy: 0.9035 - val_loss: 0.2965 - val_binary_accuracy: 0.8722\n",
            "Epoch 10/100\n",
            "625/625 [==============================] - 5s 8ms/step - loss: 0.2306 - binary_accuracy: 0.9099 - val_loss: 0.2918 - val_binary_accuracy: 0.8726\n",
            "Epoch 11/100\n",
            "625/625 [==============================] - 5s 8ms/step - loss: 0.2182 - binary_accuracy: 0.9161 - val_loss: 0.2889 - val_binary_accuracy: 0.8726\n",
            "Epoch 12/100\n",
            "625/625 [==============================] - 5s 8ms/step - loss: 0.2065 - binary_accuracy: 0.9218 - val_loss: 0.2873 - val_binary_accuracy: 0.8734\n",
            "Epoch 13/100\n",
            "625/625 [==============================] - 5s 8ms/step - loss: 0.1961 - binary_accuracy: 0.9252 - val_loss: 0.2865 - val_binary_accuracy: 0.8728\n",
            "Epoch 14/100\n",
            "625/625 [==============================] - 5s 8ms/step - loss: 0.1863 - binary_accuracy: 0.9305 - val_loss: 0.2864 - val_binary_accuracy: 0.8742\n",
            "Epoch 15/100\n",
            "625/625 [==============================] - 5s 8ms/step - loss: 0.1771 - binary_accuracy: 0.9330 - val_loss: 0.2876 - val_binary_accuracy: 0.8746\n"
          ],
          "name": "stdout"
        }
      ]
    },
    {
      "cell_type": "code",
      "metadata": {
        "colab": {
          "base_uri": "https://localhost:8080/"
        },
        "id": "b4x115Vjbg1y",
        "outputId": "be34e26b-dc4c-4cd1-d8ca-deb0fbd14779"
      },
      "source": [
        "loss, accuracy = final_model.evaluate(test_ds)\n",
        "print('Model Accuracy',accuracy)\n",
        "print('Model loss',loss)"
      ],
      "execution_count": null,
      "outputs": [
        {
          "output_type": "stream",
          "text": [
            "782/782 [==============================] - 1s 2ms/step - loss: 0.3122 - binary_accuracy: 0.8650\n",
            "Model Accuracy 0.8650000095367432\n",
            "Model loss 0.31215640902519226\n"
          ],
          "name": "stdout"
        }
      ]
    },
    {
      "cell_type": "code",
      "metadata": {
        "colab": {
          "base_uri": "https://localhost:8080/",
          "height": 621
        },
        "id": "wd8Rjlxre3Zc",
        "outputId": "021c8109-b070-4e4e-c033-42e164245b36"
      },
      "source": [
        "history_dict = history.history\n",
        "\n",
        "acc = history_dict['binary_accuracy']\n",
        "val_acc = history_dict['val_binary_accuracy']\n",
        "loss = history_dict['loss']\n",
        "val_loss = history_dict['val_loss']\n",
        "\n",
        "epochs = range(1,16)\n",
        "\n",
        "plt.figure(figsize=(20,10))\n",
        "\n",
        "plt.subplot(1,2,1)\n",
        "plt.plot(epochs, loss, 'ro', label='training loss')\n",
        "plt.plot(epochs, val_loss, 'r', label='validation loss')\n",
        "plt.title('Training & Validation loss')\n",
        "plt.xlabel('epochs')\n",
        "plt.ylabel('loss')\n",
        "plt.legend()\n",
        "\n",
        "plt.subplot(1,2,2)\n",
        "plt.plot(epochs, acc, 'ro', label='training accuray')\n",
        "plt.plot(epochs, val_acc, 'r', label='validation accuray')\n",
        "plt.title('Training & Validation accuracy')\n",
        "plt.xlabel('epochs')\n",
        "plt.ylabel('loss')\n",
        "plt.legend()\n",
        "\n",
        "plt.show()"
      ],
      "execution_count": null,
      "outputs": [
        {
          "output_type": "display_data",
          "data": {
            "image/png": "[encoded data removed]",
            "text/plain": [
              "<Figure size 1440x720 with 2 Axes>"
            ]
          },
          "metadata": {
            "tags": [],
            "needs_background": "light"
          }
        }
      ]
    },
    {
      "cell_type": "markdown",
      "metadata": {
        "id": "9UVJ0t2Phx87"
      },
      "source": [
        "## Export the model\n",
        "In the code above, you applied the TextVectorization layer to the dataset before feeding text to the model. If you want to make your model capable of processing raw strings (for example, to simplify deploying it), you can include the TextVectorization layer inside your model. To do so, you can create a new model using the weights you just trained."
      ]
    },
    {
      "cell_type": "code",
      "metadata": {
        "colab": {
          "base_uri": "https://localhost:8080/"
        },
        "id": "AsQfnth_fJrn",
        "outputId": "7d906b49-87fa-4ea9-d7ef-e20ec4ed4b20"
      },
      "source": [
        "export_model = tf.keras.Sequential([\n",
        "                                  vectorize_layer,\n",
        "                                  final_model,\n",
        "                                  tf.keras.layers.Activation('sigmoid')\n",
        "])\n",
        "\n",
        "export_model.compile(optimizer='Adam',\n",
        "                     loss=tf.keras.losses.BinaryCrossentropy(from_logits=False),\n",
        "                     metrics=['accuracy']),\n",
        "\n",
        "\n",
        "# Test it with `raw_test_ds`, which yields raw strings\n",
        "\n",
        "loss, accuracy = export_model.evaluate(raw_test_ds)"
      ],
      "execution_count": null,
      "outputs": [
        {
          "output_type": "stream",
          "text": [
            "782/782 [==============================] - 11s 14ms/step - loss: 0.3122 - accuracy: 0.8731\n"
          ],
          "name": "stdout"
        }
      ]
    },
    {
      "cell_type": "code",
      "metadata": {
        "colab": {
          "base_uri": "https://localhost:8080/"
        },
        "id": "OaXL6RhJiVMn",
        "outputId": "470bfff4-b68a-47f3-a48a-feba7a013246"
      },
      "source": [
        "print('Export model Accuray', accuracy)\n",
        "print('Export model loss', loss)"
      ],
      "execution_count": null,
      "outputs": [
        {
          "output_type": "stream",
          "text": [
            "Export model Accuray 0.8730800151824951\n",
            "Export model loss 0.3121563196182251\n"
          ],
          "name": "stdout"
        }
      ]
    },
    {
      "cell_type": "markdown",
      "metadata": {
        "id": "fdCCtOkQjLm-"
      },
      "source": [
        "## Inference on new data\n",
        "To get predictions for new examples, you can simply call model.predict()."
      ]
    },
    {
      "cell_type": "code",
      "metadata": {
        "colab": {
          "base_uri": "https://localhost:8080/"
        },
        "id": "K8w0kqRFjGUE",
        "outputId": "2ea46393-fd4d-4b40-d8a3-893431ba52d4"
      },
      "source": [
        "\n",
        "examples = [\n",
        "  \"The movie was great!\",\n",
        "  \"The movie was okay.\",\n",
        "  \"The movie was terrible...\"\n",
        "]\n",
        "\n",
        "export_model.predict(examples)"
      ],
      "execution_count": null,
      "outputs": [
        {
          "output_type": "execute_result",
          "data": {
            "text/plain": [
              "array([[0.6168966 ],\n",
              "       [0.39585584],\n",
              "       [0.3008775 ]], dtype=float32)"
            ]
          },
          "metadata": {
            "tags": []
          },
          "execution_count": 138
        }
      ]
    },
    {
      "cell_type": "markdown",
      "metadata": {
        "id": "5HpK3PcskE7R"
      },
      "source": [
        "Including the text preprocessing logic inside your model enables you to export a model for production that simplifies deployment, and reduces the potential for train/test skew.\n",
        "\n",
        "There is a performance difference to keep in mind when choosing where to apply your TextVectorization layer.\n",
        "\n",
        "Using it outside of your model enables you to do asynchronous CPU processing and buffering of your data when training on GPU. \n",
        "\n",
        "So, if you're training your model on the GPU, you probably want to go with this option to get the best performance while developing your model, then switch to including the TextVectorization layer inside your model when you're ready to prepare for deployment."
      ]
    },
    {
      "cell_type": "markdown",
      "metadata": {
        "id": "bSEMYqTrxxUr"
      },
      "source": [
        "## Exercise: multi-class classification on Stack Overflow questions\n",
        "\n",
        "**Train a multi-class classifier to predict the tag of a programming question on Stack Overflow.**\n",
        "\n",
        "A dataset has been prepared for you to use containing the body of several thousand programming questions (for example, \"How can sort a dictionary by value in Python?\") posted to Stack Overflow. Each of these is labeled with exactly one tag (either Python, CSharp, JavaScript, or Java). Your task is to take a question as input, and predict the appropriate tag, in this case, Python.\n",
        "\n",
        "The dataset you will work with contains several thousand questions extracted from the much larger public Stack Overflow dataset on BigQuery, which contains more than 17 million posts.\n",
        "\n",
        "After downloading the dataset, you will find it has a similar directory structure to the IMDB dataset you worked with previously:\n",
        "\n",
        "train/<br>\n",
        "...python/<br>\n",
        "......0.txt<br>\n",
        "......1.txt<br>\n",
        "...javascript/<br>\n",
        "......0.txt<br>\n",
        "......1.txt<br>\n",
        "...csharp/<br>\n",
        "......0.txt<br>\n",
        "......1.txt<br>\n",
        "...java/<br>\n",
        "......0.txt<br>\n",
        "......1.txt<br>\n",
        "<br>\n",
        "\n",
        "Note: to increase the difficulty of the classification problem, occurrences of the words Python, CSharp, JavaScript, or Java in the programming questions have been replaced with the word blank (as many questions contain the language they're about).\n",
        "\n",
        "\n",
        "\n"
      ]
    },
    {
      "cell_type": "code",
      "metadata": {
        "id": "AnKpiQyRjkqc",
        "colab": {
          "base_uri": "https://localhost:8080/"
        },
        "outputId": "bc8abd08-1008-4aab-a275-11c01617956e"
      },
      "source": [
        "url ='http://storage.googleapis.com/download.tensorflow.org/data/stack_overflow_16k.tar.gz'\n",
        "\n",
        "dataset = tf.keras.utils.get_file(fname='stack_overflow',\n",
        "                                  origin=url,\n",
        "                                  untar=True,\n",
        "                                  cache_dir='.',\n",
        "                                  cache_subdir='')"
      ],
      "execution_count": 3,
      "outputs": [
        {
          "output_type": "stream",
          "text": [
            "Downloading data from http://storage.googleapis.com/download.tensorflow.org/data/stack_overflow_16k.tar.gz\n",
            "6053888/6053168 [==============================] - 0s 0us/step\n"
          ],
          "name": "stdout"
        }
      ]
    },
    {
      "cell_type": "code",
      "metadata": {
        "colab": {
          "base_uri": "https://localhost:8080/"
        },
        "id": "HgK5j0Mz5PX5",
        "outputId": "11ae6411-52c7-4940-fa75-4ce4ead1b043"
      },
      "source": [
        "print('path to dataset',dataset)"
      ],
      "execution_count": 5,
      "outputs": [
        {
          "output_type": "stream",
          "text": [
            "path to dataset ./stack_overflow\n"
          ],
          "name": "stdout"
        }
      ]
    },
    {
      "cell_type": "code",
      "metadata": {
        "colab": {
          "base_uri": "https://localhost:8080/"
        },
        "id": "9Cphvu265X06",
        "outputId": "c58048b0-003b-4778-8677-c0f651be8817"
      },
      "source": [
        "os.listdir('.')"
      ],
      "execution_count": 7,
      "outputs": [
        {
          "output_type": "execute_result",
          "data": {
            "text/plain": [
              "['.config',\n",
              " 'README.md',\n",
              " 'test',\n",
              " 'stack_overflow.tar.gz',\n",
              " 'train',\n",
              " 'sample_data']"
            ]
          },
          "metadata": {
            "tags": []
          },
          "execution_count": 7
        }
      ]
    },
    {
      "cell_type": "code",
      "metadata": {
        "id": "QyNQShmG5jYB"
      },
      "source": [
        "train_dir = os.path.join('.','train')\n",
        "test_dir = os.path.join('.','test')"
      ],
      "execution_count": 8,
      "outputs": []
    },
    {
      "cell_type": "code",
      "metadata": {
        "colab": {
          "base_uri": "https://localhost:8080/"
        },
        "id": "4i28urpX6WZU",
        "outputId": "7bacb5eb-e87c-463c-b018-7a10d57daee3"
      },
      "source": [
        "os.listdir(train_dir)"
      ],
      "execution_count": 9,
      "outputs": [
        {
          "output_type": "execute_result",
          "data": {
            "text/plain": [
              "['python', 'javascript', 'java', 'csharp']"
            ]
          },
          "metadata": {
            "tags": []
          },
          "execution_count": 9
        }
      ]
    },
    {
      "cell_type": "code",
      "metadata": {
        "colab": {
          "base_uri": "https://localhost:8080/"
        },
        "id": "F4H1-dR16azz",
        "outputId": "42a6daeb-331f-48f4-96ce-e0f8bc9cb39a"
      },
      "source": [
        "os.listdir(test_dir)"
      ],
      "execution_count": 11,
      "outputs": [
        {
          "output_type": "execute_result",
          "data": {
            "text/plain": [
              "['python', 'javascript', 'java', 'csharp']"
            ]
          },
          "metadata": {
            "tags": []
          },
          "execution_count": 11
        }
      ]
    },
    {
      "cell_type": "markdown",
      "metadata": {
        "id": "LpU8zeOG61pv"
      },
      "source": [
        "We will use the `text_dataset_from_directory` utility to create a labeled `tf.data.Dataset`. \n",
        "\n",
        "`tf.data` is a powerful collection of tools for working with data.\n",
        "\n",
        "When running a machine learning experiment, it is a best practice to divide your dataset into three splits: train, validation, and test.\n",
        "\n",
        "**Note: When using the validation_split and subset arguments, make sure to either specify a random seed, or to pass shuffle=False, so that the validation and training splits have no overlap.**"
      ]
    },
    {
      "cell_type": "markdown",
      "metadata": {
        "id": "V1hw0w3r8wqU"
      },
      "source": [
        "### Load the dataset"
      ]
    },
    {
      "cell_type": "code",
      "metadata": {
        "id": "b1D2SnaN6fDr"
      },
      "source": [
        "batch_size = 32\n",
        "seed = 42"
      ],
      "execution_count": 109,
      "outputs": []
    },
    {
      "cell_type": "code",
      "metadata": {
        "colab": {
          "base_uri": "https://localhost:8080/"
        },
        "id": "WEccdS8l7A6I",
        "outputId": "0bcf695d-ed9b-4009-cdb7-99ebbf907ada"
      },
      "source": [
        "raw_train_ds = tf.keras.preprocessing.text_dataset_from_directory( directory=train_dir,\n",
        "                                                                  batch_size=batch_size,\n",
        "                                                                  seed=seed,\n",
        "                                                                  validation_split=0.2,\n",
        "                                                                  subset='training')"
      ],
      "execution_count": 110,
      "outputs": [
        {
          "output_type": "stream",
          "text": [
            "Found 8000 files belonging to 4 classes.\n",
            "Using 6400 files for training.\n"
          ],
          "name": "stdout"
        }
      ]
    },
    {
      "cell_type": "code",
      "metadata": {
        "colab": {
          "base_uri": "https://localhost:8080/"
        },
        "id": "rAl3Kpxm7gIK",
        "outputId": "73165d23-27e5-4e09-81d9-ba4703b0eb2f"
      },
      "source": [
        "raw_val_ds = tf.keras.preprocessing.text_dataset_from_directory( directory=train_dir,\n",
        "                                                                batch_size=batch_size,\n",
        "                                                                seed=seed,\n",
        "                                                                validation_split=0.2,\n",
        "                                                                subset='validation')"
      ],
      "execution_count": 111,
      "outputs": [
        {
          "output_type": "stream",
          "text": [
            "Found 8000 files belonging to 4 classes.\n",
            "Using 1600 files for validation.\n"
          ],
          "name": "stdout"
        }
      ]
    },
    {
      "cell_type": "code",
      "metadata": {
        "colab": {
          "base_uri": "https://localhost:8080/"
        },
        "id": "ilvnKySv74ts",
        "outputId": "805d1d34-0649-4a55-9555-83a278683dc7"
      },
      "source": [
        "raw_test_ds = tf.keras.preprocessing.text_dataset_from_directory(directory=test_dir,\n",
        "                                                                 batch_size=batch_size,\n",
        "                                                                 seed=seed)"
      ],
      "execution_count": 112,
      "outputs": [
        {
          "output_type": "stream",
          "text": [
            "Found 8000 files belonging to 4 classes.\n"
          ],
          "name": "stdout"
        }
      ]
    },
    {
      "cell_type": "markdown",
      "metadata": {
        "id": "lvBMs_Zl8-zi"
      },
      "source": [
        "Let's iterate over the dataset and print out a few examples as follows."
      ]
    },
    {
      "cell_type": "code",
      "metadata": {
        "colab": {
          "base_uri": "https://localhost:8080/"
        },
        "id": "7n3yr2Hh8HqL",
        "outputId": "8748aa5c-0424-4228-aae6-d7156be7551e"
      },
      "source": [
        "text_batch, label_batch = next(iter(raw_train_ds))\n",
        "\n",
        "print('Text :  programming questions')\n",
        "for i in range(5):\n",
        "  print(text_batch[i])\n",
        "\n",
        "print('Label :  programming language')\n",
        "for i in range(5):\n",
        "  print(label_batch[i], 'classname ', raw_train_ds.class_names[label_batch[i].numpy()])"
      ],
      "execution_count": 113,
      "outputs": [
        {
          "output_type": "stream",
          "text": [
            "Text :  programming questions\n",
            "tf.Tensor(b'\"my tester is going to the wrong constructor i am new to programming so if i ask a question that can be easily fixed, please forgive me. my program has a tester class with a main. when i send that to my regularpolygon class, it sends it to the wrong constructor. i have two constructors. 1 without perameters..public regularpolygon().    {.       mynumsides = 5;.       mysidelength = 30;.    }//end default constructor...and my second, with perameters. ..public regularpolygon(int numsides, double sidelength).    {.        mynumsides = numsides;.        mysidelength = sidelength;.    }// end constructor...in my tester class i have these two lines:..regularpolygon shape = new regularpolygon(numsides, sidelength);.        shape.menu();...numsides and sidelength were declared and initialized earlier in the testing class...so what i want to happen, is the tester class sends numsides and sidelength to the second constructor and use it in that class. but it only uses the default constructor, which therefor ruins the whole rest of the program. can somebody help me?..for those of you who want to see more of my code: here you go..public double vertexangle().    {.        system.out.println(\"\"the vertex angle method: \"\" + mynumsides);// prints out 5.        system.out.println(\"\"the vertex angle method: \"\" + mysidelength); // prints out 30..        double vertexangle;.        vertexangle = ((mynumsides - 2.0) / mynumsides) * 180.0;.        return vertexangle;.    }//end method vertexangle..public void menu().{.    system.out.println(mynumsides); // prints out what the user puts in.    system.out.println(mysidelength); // prints out what the user puts in.    gotographic();.    calcr(mynumsides, mysidelength);.    calcr(mynumsides, mysidelength);.    print(); .}// end menu...this is my entire tester class:..public static void main(string[] arg).{.    int numsides;.    double sidelength;.    scanner keyboard = new scanner(system.in);..    system.out.println(\"\"welcome to the regular polygon program!\"\");.    system.out.println();..    system.out.print(\"\"enter the number of sides of the polygon ==&gt; \"\");.    numsides = keyboard.nextint();.    system.out.println();..    system.out.print(\"\"enter the side length of each side ==&gt; \"\");.    sidelength = keyboard.nextdouble();.    system.out.println();..    regularpolygon shape = new regularpolygon(numsides, sidelength);.    shape.menu();.}//end main...for testing it i sent it numsides 4 and sidelength 100.\"\\n', shape=(), dtype=string)\n",
            "tf.Tensor(b'\"blank code slow skin detection this code changes the color space to lab and using a threshold finds the skin area of an image. but it\\'s ridiculously slow. i don\\'t know how to make it faster ?    ..from colormath.color_objects import *..def skindetection(img, treshold=80, color=[255,20,147]):..    print img.shape.    res=img.copy().    for x in range(img.shape[0]):.        for y in range(img.shape[1]):.            rgbimg=rgbcolor(img[x,y,0],img[x,y,1],img[x,y,2]).            labimg=rgbimg.convert_to(\\'lab\\', debug=false).            if (labimg.lab_l &gt; treshold):.                res[x,y,:]=color.            else: .                res[x,y,:]=img[x,y,:]..    return res\"\\n', shape=(), dtype=string)\n",
            "tf.Tensor(b'\"option and validation in blank i want to add a new option on my system where i want to add two text files, both rental.txt and customer.txt. inside each text are id numbers of the customer, the videotape they need and the price...i want to place it as an option on my code. right now i have:...add customer.rent return.view list.search.exit...i want to add this as my sixth option. say for example i ordered a video, it would display the price and would let me confirm the price and if i am going to buy it or not...here is my current code:..  import blank.io.*;.    import blank.util.arraylist;.    import static blank.lang.system.out;..    public class rentalsystem{.    static bufferedreader input = new bufferedreader(new inputstreamreader(system.in));.    static file file = new file(\"\"file.txt\"\");.    static arraylist&lt;string&gt; list = new arraylist&lt;string&gt;();.    static int rows;..    public static void main(string[] args) throws exception{.        introduction();.        system.out.print(\"\"nn\"\");.        login();.        system.out.print(\"\"nnnnnnnnnnnnnnnnnnnnnn\"\");.        introduction();.        string repeat;.        do{.            loadfile();.            system.out.print(\"\"nwhat do you want to do?nn\"\");.            system.out.print(\"\"n                    - - - - - - - - - - - - - - - - - - - - - - -\"\");.            system.out.print(\"\"nn                    |     1. add customer    |   2. rent return |n\"\");.            system.out.print(\"\"n                    - - - - - - - - - - - - - - - - - - - - - - -\"\");.            system.out.print(\"\"nn                    |     3. view list       |   4. search      |n\"\");.            system.out.print(\"\"n                    - - - - - - - - - - - - - - - - - - - - - - -\"\");.            system.out.print(\"\"nn                                             |   5. exit        |n\"\");.            system.out.print(\"\"n                                              - - - - - - - - - -\"\");.            system.out.print(\"\"nnchoice:\"\");.            int choice = integer.parseint(input.readline());.            switch(choice){.                case 1:.                    writedata();.                    break;.                case 2:.                    rentdata();.                    break;.                case 3:.                    viewlist();.                    break;.                case 4:.                    search();.                    break;.                case 5:.                    system.out.println(\"\"goodbye!\"\");.                    system.exit(0);.                default:.                    system.out.print(\"\"invalid choice: \"\");.                    break;.            }.            system.out.print(\"\"ndo another task? [y/n] \"\");.            repeat = input.readline();.        }while(repeat.equals(\"\"y\"\"));..        if(repeat!=\"\"y\"\") system.out.println(\"\"ngoodbye!\"\");..    }..    public static void writedata() throws exception{.        system.out.print(\"\"nname: \"\");.        string cname = input.readline();.        system.out.print(\"\"address: \"\");.        string add = input.readline();.        system.out.print(\"\"phone no.: \"\");.        string pno = input.readline();.        system.out.print(\"\"rental amount: \"\");.        string ramount = input.readline();.        system.out.print(\"\"tapenumber: \"\");.        string tno = input.readline();.        system.out.print(\"\"title: \"\");.        string title = input.readline();.        system.out.print(\"\"date borrowed: \"\");.        string dborrowed = input.readline();.        system.out.print(\"\"due date: \"\");.        string ddate = input.readline();.        createline(cname, add, pno, ramount,tno, title, dborrowed, ddate);.        rentdata();.    }..    public static void createline(string name, string address, string phone , string rental, string tapenumber, string title, string borrowed, string due) throws exception{.        filewriter fw = new filewriter(file, true);.        fw.write(\"\"nname: \"\"+name + \"\"naddress: \"\" + address +\"\"nphone no.: \"\"+ phone+\"\"nrentalamount: \"\"+rental+\"\"ntape no.: \"\"+ tapenumber+\"\"ntitle: \"\"+ title+\"\"ndate borrowed: \"\"+borrowed +\"\"ndue date: \"\"+ due+\"\":rn\"\");.        fw.close();.    }..    public static void loadfile() throws exception{.        try{.            list.clear();.            fileinputstream fstream = new fileinputstream(file);.            bufferedreader br = new bufferedreader(new inputstreamreader(fstream));.            rows = 0;.            while( br.ready()).            {.                list.add(br.readline());.                rows++;.            }.            br.close();.        } catch(exception e){.            system.out.println(\"\"list not yet loaded.\"\");.        }.    }..    public static void viewlist(){.        system.out.print(\"\"n~ ~ ~ ~ ~ ~ ~ ~ ~ ~ ~\"\");.        system.out.print(\"\" |list of all costumers|\"\");.        system.out.print(\"\"~ ~ ~ ~ ~ ~ ~ ~ ~ ~ ~\"\");.        for(int i = 0; i &lt;rows; i++){.            system.out.println(list.get(i));.        }.    }.        public static void rentdata()throws exception.    {   system.out.print(\"\"n~ ~ ~ ~ ~ ~ ~ ~ ~ ~ ~\"\");.        system.out.print(\"\" |rent data list|\"\");.        system.out.print(\"\"~ ~ ~ ~ ~ ~ ~ ~ ~ ~ ~\"\");.        system.out.print(\"\"nenter customer name: \"\");.        string cname = input.readline();.        system.out.print(\"\"date borrowed: \"\");.        string dborrowed = input.readline();.        system.out.print(\"\"due date: \"\");.        string ddate = input.readline();.        system.out.print(\"\"return date: \"\");.        string rdate = input.readline();.        system.out.print(\"\"rent amount: \"\");.        string ramount = input.readline();..        system.out.print(\"\"you pay:\"\"+ramount);...    }.    public static void search()throws exception.    {   system.out.print(\"\"n~ ~ ~ ~ ~ ~ ~ ~ ~ ~ ~\"\");.        system.out.print(\"\" |search costumers|\"\");.        system.out.print(\"\"~ ~ ~ ~ ~ ~ ~ ~ ~ ~ ~\"\");.        system.out.print(\"\"nenter costumer name: \"\");.        string cname = input.readline();.        boolean found = false;..        for(int i=0; i &lt; rows; i++){.            string temp[] = list.get(i).split(\"\",\"\");..            if(cname.equals(temp[0])){.            system.out.println(\"\"search result:nyou are \"\" + temp[0] + \"\" from \"\" + temp[1] + \"\".\"\"+ temp[2] + \"\".\"\"+ temp[3] + \"\".\"\"+ temp[4] + \"\".\"\"+ temp[5] + \"\" is \"\" + temp[6] + \"\".\"\"+ temp[7] + \"\" is \"\" + temp[8] + \"\".\"\");.                found = true;.            }.        }..        if(!found){.            system.out.print(\"\"no results.\"\");.        }..    }..        public static boolean evaluate(string uname, string pass){.        if (uname.equals(\"\"admin\"\")&amp;&amp;pass.equals(\"\"12345\"\")) return true;.        else return false;.    }..    public static string login()throws exception{.        bufferedreader input=new bufferedreader(new inputstreamreader(system.in));.        int counter=0;.        do{.            system.out.print(\"\"username:\"\");.            string uname =input.readline();.            system.out.print(\"\"password:\"\");.            string pass =input.readline();..            boolean accept= evaluate(uname,pass);..            if(accept){.                break;.                }else{.                    system.out.println(\"\"incorrect username or password!\"\");.                    counter ++;.                    }.        }while(counter&lt;3);..            if(counter !=3) return \"\"login successful\"\";.            else return \"\"login failed\"\";.            }.        public static void introduction() throws exception{..        system.out.println(\"\"                  - - - - - - - - - - - - - - - - - - - - - - - - -\"\");.        system.out.println(\"\"                  !                  r e n t a l                  !\"\");.        system.out.println(\"\"                   ! ~ ~ ~ ~ ~ !  =================  ! ~ ~ ~ ~ ~ !\"\");.        system.out.println(\"\"                  !                  s y s t e m                  !\"\");.        system.out.println(\"\"                  - - - - - - - - - - - - - - - - - - - - - - - - -\"\");.        }..}\"\\n', shape=(), dtype=string)\n",
            "tf.Tensor(b'\"exception: dynamic sql generation for the updatecommand is not supported against a selectcommand that does not return any key i dont know what is the problem this my code : ..string nomtable;..datatable listeetablissementtable = new datatable();.datatable listeinteretstable = new datatable();.dataset ds = new dataset();.sqldataadapter da;.sqlcommandbuilder cmdb;..private void listeinterets_click(object sender, eventargs e).{.    nomtable = \"\"listeinteretstable\"\";.    d.cnx.open();.    da = new sqldataadapter(\"\"select nome from offices\"\", d.cnx);.    ds = new dataset();.    da.fill(ds, nomtable);.    datagridview1.datasource = ds.tables[nomtable];.}..private void sauvgarder_click(object sender, eventargs e).{.    d.cnx.open();.    cmdb = new sqlcommandbuilder(da);.    da.update(ds, nomtable);.    d.cnx.close();.}\"\\n', shape=(), dtype=string)\n",
            "tf.Tensor(b'\"parameter with question mark and super in blank, i\\'ve come across a method that is formatted like this:..public final subscription subscribe(final action1&lt;? super t&gt; onnext, final action1&lt;throwable&gt; onerror) {.}...in the first parameter, what does the question mark and super mean?\"\\n', shape=(), dtype=string)\n",
            "Label :  programming language\n",
            "tf.Tensor(1, shape=(), dtype=int32) classname  java\n",
            "tf.Tensor(3, shape=(), dtype=int32) classname  python\n",
            "tf.Tensor(1, shape=(), dtype=int32) classname  java\n",
            "tf.Tensor(0, shape=(), dtype=int32) classname  csharp\n",
            "tf.Tensor(1, shape=(), dtype=int32) classname  java\n"
          ],
          "name": "stdout"
        }
      ]
    },
    {
      "cell_type": "markdown",
      "metadata": {
        "id": "mchoLq4p-WQO"
      },
      "source": [
        "### Prepare the dataset for training\n",
        "\n",
        "we will `standardize`, `tokenize`, and `vectorize` the data using the helpful preprocessing.TextVectorization layer.\n",
        "\n",
        "**Standardization** refers to preprocessing the text, typically to remove punctuation or HTML elements to simplify the dataset.\n",
        "\n",
        "**Tokenization** refers to splitting strings into tokens (for example, splitting a sentence into individual words, by splitting on whitespace). \n",
        "\n",
        "**Vectorization** refers to converting tokens into numbers so they can be fed into a neural network. All of these tasks can be accomplished with this layer."
      ]
    },
    {
      "cell_type": "code",
      "metadata": {
        "id": "9ImbWV5s9NyT"
      },
      "source": [
        "import re\n",
        "import string\n",
        "\n",
        "#  let's write a custom standardization function\n",
        "def custom_standardization(input_data):\n",
        "  lowercase = tf.strings.lower(input_data)\n",
        "  stripped_html = tf.strings.regex_replace(lowercase,'<br />', ' ')\n",
        "  stripped_newline = tf.strings.regex_replace(stripped_html,'\\n', '')\n",
        "  stripped_dot = tf.strings.regex_replace(stripped_newline,'\\.{1}', ' ')\n",
        "  stripped_punctuations = tf.strings.regex_replace(stripped_dot, '[%s]' % re.escape(string.punctuation),' ')\n",
        "  return  tf.strings.regex_replace(stripped_punctuations,'\\s\\s+',' ')"
      ],
      "execution_count": 147,
      "outputs": []
    },
    {
      "cell_type": "code",
      "metadata": {
        "colab": {
          "base_uri": "https://localhost:8080/"
        },
        "id": "srhyAOrPGCXz",
        "outputId": "48bf78cb-eb99-4574-dbbf-1d0e7b13f68f"
      },
      "source": [
        "# eg of custom standardization\n",
        "\n",
        "text = text_batch[4]\n",
        "\n",
        "print('Before standardization')\n",
        "print(\"Programming Question\",text)\n",
        "print('After standardization')\n",
        "print(\"Programming Question\",custom_standardization(text))"
      ],
      "execution_count": 150,
      "outputs": [
        {
          "output_type": "stream",
          "text": [
            "Before standardization\n",
            "Programming Question tf.Tensor(b'\"parameter with question mark and super in blank, i\\'ve come across a method that is formatted like this:..public final subscription subscribe(final action1&lt;? super t&gt; onnext, final action1&lt;throwable&gt; onerror) {.}...in the first parameter, what does the question mark and super mean?\"\\n', shape=(), dtype=string)\n",
            "After standardization\n",
            "Programming Question tf.Tensor(b' parameter with question mark and super in blank i ve come across a method that is formatted like this public final subscription subscribe final action1 lt super t gt onnext final action1 lt throwable gt onerror in the first parameter what does the question mark and super mean ', shape=(), dtype=string)\n"
          ],
          "name": "stdout"
        }
      ]
    },
    {
      "cell_type": "markdown",
      "metadata": {
        "id": "HKPTx9MnVXEo"
      },
      "source": [
        "Note that you're using the default split function, and the custom standardization function you defined above. You'll also define some constants for the model, like an explicit maximum sequence_length, which will cause the layer to pad or truncate sequences to exactly sequence_length values."
      ]
    },
    {
      "cell_type": "code",
      "metadata": {
        "id": "26fF-VG5JLos"
      },
      "source": [
        "# create a vectorization layer\n",
        "\n",
        "max_features = 10000\n",
        "sequence_length = 250\n",
        "\n",
        "vectorization_layer = tf.keras.layers.experimental.preprocessing.TextVectorization(\n",
        "    max_tokens = max_features,\n",
        "    standardize = custom_standardization,\n",
        "    output_mode = 'int',\n",
        "    output_sequence_length = sequence_length\n",
        ") "
      ],
      "execution_count": 151,
      "outputs": []
    },
    {
      "cell_type": "markdown",
      "metadata": {
        "id": "lVw20hQNWUB9"
      },
      "source": [
        "Next, you will call adapt to fit the state of the preprocessing layer to the dataset. This will cause the model to build an index of strings to integers.\n",
        "\n",
        "Note: it's important to only use your training data when calling adapt (using the test set would leak information)."
      ]
    },
    {
      "cell_type": "code",
      "metadata": {
        "id": "-bZqGq1TGQo-"
      },
      "source": [
        "# Make a text-only dataset (without labels), then call adapt\n",
        "\n",
        "train_text = raw_train_ds.map(lambda x, y: x)\n",
        "\n",
        "vectorization_layer.adapt(train_text)"
      ],
      "execution_count": 152,
      "outputs": []
    },
    {
      "cell_type": "code",
      "metadata": {
        "colab": {
          "base_uri": "https://localhost:8080/"
        },
        "id": "XQQBFUm3WeA4",
        "outputId": "fde3044d-a8c0-4fe0-b356-d179dcdc072d"
      },
      "source": [
        "vectorization_layer.get_vocabulary()[:10]"
      ],
      "execution_count": 153,
      "outputs": [
        {
          "output_type": "execute_result",
          "data": {
            "text/plain": [
              "['', '[UNK]', 'i', 'the', 'to', 'a', 'gt', 'is', 'lt', 'in']"
            ]
          },
          "metadata": {
            "tags": []
          },
          "execution_count": 153
        }
      ]
    },
    {
      "cell_type": "code",
      "metadata": {
        "colab": {
          "base_uri": "https://localhost:8080/"
        },
        "id": "3WKt-_D4Wspw",
        "outputId": "4a9ad6c0-8c0b-40a0-9a65-6df8c45495c2"
      },
      "source": [
        "print('Length of vocabulary is',len(vectorization_layer.get_vocabulary()))"
      ],
      "execution_count": 154,
      "outputs": [
        {
          "output_type": "stream",
          "text": [
            "Length of vocabulary is 10000\n"
          ],
          "name": "stdout"
        }
      ]
    },
    {
      "cell_type": "markdown",
      "metadata": {
        "id": "sMdmD_6WXJsH"
      },
      "source": [
        "Let's create a function to see the result of using this layer to preprocess some data."
      ]
    },
    {
      "cell_type": "code",
      "metadata": {
        "id": "R_-bREm0W-1u"
      },
      "source": [
        "def vectorize_text(text, label):\n",
        "  text = tf.expand_dims(text, -1)\n",
        "  return vectorization_layer(text), label"
      ],
      "execution_count": 155,
      "outputs": []
    },
    {
      "cell_type": "code",
      "metadata": {
        "colab": {
          "base_uri": "https://localhost:8080/"
        },
        "id": "RyqNSCWZXaH5",
        "outputId": "e89c37ba-c610-40a2-befd-878cfd6f899e"
      },
      "source": [
        "text = text_batch[4]\n",
        "label = label_batch[4]\n",
        "\n",
        "print('Programming Question',text)\n",
        "print('Programming Label',label)\n",
        "print('Programming Label class',raw_train_ds.class_names[label.numpy()])\n",
        "print('Programming Question vectorized',vectorize_text(text, label))"
      ],
      "execution_count": 156,
      "outputs": [
        {
          "output_type": "stream",
          "text": [
            "Programming Question tf.Tensor(b'\"parameter with question mark and super in blank, i\\'ve come across a method that is formatted like this:..public final subscription subscribe(final action1&lt;? super t&gt; onnext, final action1&lt;throwable&gt; onerror) {.}...in the first parameter, what does the question mark and super mean?\"\\n', shape=(), dtype=string)\n",
            "Programming Label tf.Tensor(1, shape=(), dtype=int32)\n",
            "Programming Label class java\n",
            "Programming Question vectorized (<tf.Tensor: shape=(1, 250), dtype=int64, numpy=\n",
            "array([[ 468,   34,  184, 1334,   10,  715,    9,   17,    2,  241, 1035,\n",
            "        1446,    5,   83,   21,    7, 1951,   66,   12,   22,  320,    1,\n",
            "        4534,  320, 4272,    8,  715,   47,    6,    1,  320, 4272,    8,\n",
            "        4304,    6, 9668,    9,    3,  125,  468,   62,  154,    3,  184,\n",
            "        1334,   10,  715,  732,    0,    0,    0,    0,    0,    0,    0,\n",
            "           0,    0,    0,    0,    0,    0,    0,    0,    0,    0,    0,\n",
            "           0,    0,    0,    0,    0,    0,    0,    0,    0,    0,    0,\n",
            "           0,    0,    0,    0,    0,    0,    0,    0,    0,    0,    0,\n",
            "           0,    0,    0,    0,    0,    0,    0,    0,    0,    0,    0,\n",
            "           0,    0,    0,    0,    0,    0,    0,    0,    0,    0,    0,\n",
            "           0,    0,    0,    0,    0,    0,    0,    0,    0,    0,    0,\n",
            "           0,    0,    0,    0,    0,    0,    0,    0,    0,    0,    0,\n",
            "           0,    0,    0,    0,    0,    0,    0,    0,    0,    0,    0,\n",
            "           0,    0,    0,    0,    0,    0,    0,    0,    0,    0,    0,\n",
            "           0,    0,    0,    0,    0,    0,    0,    0,    0,    0,    0,\n",
            "           0,    0,    0,    0,    0,    0,    0,    0,    0,    0,    0,\n",
            "           0,    0,    0,    0,    0,    0,    0,    0,    0,    0,    0,\n",
            "           0,    0,    0,    0,    0,    0,    0,    0,    0,    0,    0,\n",
            "           0,    0,    0,    0,    0,    0,    0,    0,    0,    0,    0,\n",
            "           0,    0,    0,    0,    0,    0,    0,    0,    0,    0,    0,\n",
            "           0,    0,    0,    0,    0,    0,    0,    0,    0,    0,    0,\n",
            "           0,    0,    0,    0,    0,    0,    0,    0,    0,    0,    0,\n",
            "           0,    0,    0,    0,    0,    0,    0,    0]])>, <tf.Tensor: shape=(), dtype=int32, numpy=1>)\n"
          ],
          "name": "stdout"
        }
      ]
    },
    {
      "cell_type": "markdown",
      "metadata": {
        "id": "94XZVKs2YFwb"
      },
      "source": [
        "As you can see above, each token has been replaced by an integer. You can lookup the token (string) that each integer corresponds to by calling .get_vocabulary() on the layer."
      ]
    },
    {
      "cell_type": "code",
      "metadata": {
        "colab": {
          "base_uri": "https://localhost:8080/"
        },
        "id": "oQ7AMlOcX8dK",
        "outputId": "8775dd91-32ed-4576-dfb6-e9d566ad319c"
      },
      "source": [
        "print(vectorization_layer.get_vocabulary()[40])"
      ],
      "execution_count": 157,
      "outputs": [
        {
          "output_type": "stream",
          "text": [
            "can\n"
          ],
          "name": "stdout"
        }
      ]
    },
    {
      "cell_type": "code",
      "metadata": {
        "colab": {
          "base_uri": "https://localhost:8080/"
        },
        "id": "oLK_up-4YO_P",
        "outputId": "fd1daf4a-69a0-486f-f3c0-c8f89be76cc6"
      },
      "source": [
        "print(vectorization_layer.get_vocabulary()[2])"
      ],
      "execution_count": 158,
      "outputs": [
        {
          "output_type": "stream",
          "text": [
            "i\n"
          ],
          "name": "stdout"
        }
      ]
    },
    {
      "cell_type": "code",
      "metadata": {
        "colab": {
          "base_uri": "https://localhost:8080/"
        },
        "id": "v10TiZKtYRaS",
        "outputId": "5090ae34-b514-49e7-aa05-a96651344a93"
      },
      "source": [
        "print(vectorization_layer.get_vocabulary()[105])"
      ],
      "execution_count": 159,
      "outputs": [
        {
          "output_type": "stream",
          "text": [
            "use\n"
          ],
          "name": "stdout"
        }
      ]
    },
    {
      "cell_type": "code",
      "metadata": {
        "colab": {
          "base_uri": "https://localhost:8080/"
        },
        "id": "0r9aUC8xYTUF",
        "outputId": "00d9b456-292a-4992-c189-6a669324f250"
      },
      "source": [
        "print(vectorization_layer.get_vocabulary()[279])"
      ],
      "execution_count": 160,
      "outputs": [
        {
          "output_type": "stream",
          "text": [
            "node\n"
          ],
          "name": "stdout"
        }
      ]
    },
    {
      "cell_type": "code",
      "metadata": {
        "colab": {
          "base_uri": "https://localhost:8080/"
        },
        "id": "gne7ajFZYZzX",
        "outputId": "4c7808b4-b051-40f1-b4f1-acf47621e099"
      },
      "source": [
        "print(vectorization_layer.get_vocabulary()[2419])"
      ],
      "execution_count": 161,
      "outputs": [
        {
          "output_type": "stream",
          "text": [
            "childnodes\n"
          ],
          "name": "stdout"
        }
      ]
    },
    {
      "cell_type": "code",
      "metadata": {
        "colab": {
          "base_uri": "https://localhost:8080/"
        },
        "id": "rHxwErWxYb1U",
        "outputId": "df35f3a5-24b1-4f1d-a03b-f50592f24fb6"
      },
      "source": [
        "print(vectorization_layer.get_vocabulary()[9])"
      ],
      "execution_count": 162,
      "outputs": [
        {
          "output_type": "stream",
          "text": [
            "in\n"
          ],
          "name": "stdout"
        }
      ]
    },
    {
      "cell_type": "code",
      "metadata": {
        "colab": {
          "base_uri": "https://localhost:8080/"
        },
        "id": "JruO55E8YeqP",
        "outputId": "e184d5ad-9881-4f72-f565-449393b65650"
      },
      "source": [
        "print(vectorization_layer.get_vocabulary()[3])"
      ],
      "execution_count": 163,
      "outputs": [
        {
          "output_type": "stream",
          "text": [
            "the\n"
          ],
          "name": "stdout"
        }
      ]
    },
    {
      "cell_type": "code",
      "metadata": {
        "colab": {
          "base_uri": "https://localhost:8080/"
        },
        "id": "1W0pZat1Yf8W",
        "outputId": "232f7ac9-1d71-4f39-c5b4-b254edec4153"
      },
      "source": [
        "print(vectorization_layer.get_vocabulary()[14])"
      ],
      "execution_count": 164,
      "outputs": [
        {
          "output_type": "stream",
          "text": [
            "if\n"
          ],
          "name": "stdout"
        }
      ]
    },
    {
      "cell_type": "markdown",
      "metadata": {
        "id": "HDwx8i9AYwn9"
      },
      "source": [
        "As a final preprocessing step, you will apply the TextVectorization layer you created earlier to the train, validation, and test dataset."
      ]
    },
    {
      "cell_type": "code",
      "metadata": {
        "id": "hIjmxWF2YheW"
      },
      "source": [
        "train_ds = raw_train_ds.map(vectorize_text)\n",
        "val_ds = raw_val_ds.map(vectorize_text)\n",
        "test_ds = raw_test_ds.map(vectorize_text)"
      ],
      "execution_count": 165,
      "outputs": []
    },
    {
      "cell_type": "markdown",
      "metadata": {
        "id": "iVNYhOkmZLa3"
      },
      "source": [
        "Configure the dataset for performance\n",
        "These are two important methods you should use when loading data to make sure that I/O does not become blocking.\n",
        "\n",
        "`.cache()` keeps data in memory after it's loaded off disk. This will ensure the dataset does not become a bottleneck while training your model. If your dataset is too large to fit into memory, you can also use this method to create a performant on-disk cache, which is more efficient to read than many small files.\n",
        "\n",
        "`.prefetch()` overlaps data preprocessing and model execution while training."
      ]
    },
    {
      "cell_type": "code",
      "metadata": {
        "id": "MjH1EWV6Y-k1"
      },
      "source": [
        "def config_for_preformance(ds):\n",
        "  ds = ds.cache()\n",
        "  ds = ds.prefetch(tf.data.AUTOTUNE)\n",
        "  return ds"
      ],
      "execution_count": 166,
      "outputs": []
    },
    {
      "cell_type": "code",
      "metadata": {
        "id": "mWs_9LV-ZbHc"
      },
      "source": [
        "train_ds = config_for_preformance(train_ds)\n",
        "val_ds = config_for_preformance(val_ds)\n",
        "test_ds = config_for_preformance(test_ds)"
      ],
      "execution_count": 167,
      "outputs": []
    },
    {
      "cell_type": "markdown",
      "metadata": {
        "id": "2YOIcIibZsXH"
      },
      "source": [
        "### Create a Model\n",
        "\n",
        "Embedding layer can only be used as the first layer in a model.\n",
        "\n",
        "`input_dim`: Integer. Size of the vocabulary, i.e.maximum integer index + 1.\n",
        "\n",
        "`output_dim`: Integer. Dimension of the dense embedding.\n",
        "\n",
        "The layers are stacked sequentially to build the classifier:\n",
        "\n",
        "The Embedding layer takes the integer-encoded programming questions and looks up an embedding vector for each word-index. These vectors are learned as the model trains. The vectors add a dimension to the output array. The resulting dimensions are: (batch, sequence, embedding).\n",
        "\n",
        "Next, a GlobalAveragePooling1D layer returns a fixed-length output vector for each example by averaging over the sequence dimension. This allows the model to handle input of variable length, in the simplest way possible.\n",
        "\n",
        "Drop-out layer are added to prevent overfitting\n",
        "\n",
        "The last layer is densely connected, a Dense(4), as there are now four output classes."
      ]
    },
    {
      "cell_type": "code",
      "metadata": {
        "id": "OgKED0HCZlex"
      },
      "source": [
        "stack_overflow_model = tf.keras.Sequential([\n",
        "                                            tf.keras.layers.Embedding(input_dim = max_features+1, output_dim=16),\n",
        "                                            tf.keras.layers.Dropout(0.2),\n",
        "                                            tf.keras.layers.GlobalAveragePooling1D(),\n",
        "                                            tf.keras.layers.Dropout(0.2),\n",
        "                                            tf.keras.layers.Dense(4)\n",
        "])"
      ],
      "execution_count": 191,
      "outputs": []
    },
    {
      "cell_type": "markdown",
      "metadata": {
        "id": "2Gr9k1s2c__p"
      },
      "source": [
        "When compiling the model, the loss function to use is `tf.keras.losses.SparseCategoricalCrossentropy`. \n",
        "\n",
        "This is the correct loss function to use for a multi-class classification problem, when the labels for each class are integers (in this case, they can be 0, 1, 2, or 3).\n",
        "\n",
        "In addition, change the metrics to `metrics=['accuracy']`, since this is a multi-class classification problem\n",
        "\n",
        "(`tf.metrics.BinaryAccuracy` is only used for binary classifiers).\n",
        "\n"
      ]
    },
    {
      "cell_type": "code",
      "metadata": {
        "id": "EZSrjDr2c2c_"
      },
      "source": [
        "stack_overflow_model.compile(optimizer='Adam',\n",
        "                             loss=tf.keras.losses.SparseCategoricalCrossentropy(from_logits=True),\n",
        "                             metrics=['accuracy'])"
      ],
      "execution_count": 192,
      "outputs": []
    },
    {
      "cell_type": "code",
      "metadata": {
        "id": "zstEa1b4dy3_"
      },
      "source": [
        "earlyStoppingCallback = tf.keras.callbacks.EarlyStopping(monitor='val_loss', patience=1)"
      ],
      "execution_count": 193,
      "outputs": []
    },
    {
      "cell_type": "code",
      "metadata": {
        "colab": {
          "base_uri": "https://localhost:8080/"
        },
        "id": "H5bO2PzFdtpW",
        "outputId": "a84e9f91-0870-42f6-b063-c1a9855469c9"
      },
      "source": [
        "history = stack_overflow_model.fit(\n",
        "                x = train_ds,\n",
        "                validation_data = val_ds,\n",
        "                epochs=100,\n",
        "                callbacks = [earlyStoppingCallback]\n",
        ")"
      ],
      "execution_count": 194,
      "outputs": [
        {
          "output_type": "stream",
          "text": [
            "Epoch 1/100\n",
            "200/200 [==============================] - 2s 7ms/step - loss: 1.3692 - accuracy: 0.4278 - val_loss: 1.3446 - val_accuracy: 0.5306\n",
            "Epoch 2/100\n",
            "200/200 [==============================] - 1s 6ms/step - loss: 1.3055 - accuracy: 0.5755 - val_loss: 1.2584 - val_accuracy: 0.6431\n",
            "Epoch 3/100\n",
            "200/200 [==============================] - 1s 6ms/step - loss: 1.2002 - accuracy: 0.6656 - val_loss: 1.1421 - val_accuracy: 0.7225\n",
            "Epoch 4/100\n",
            "200/200 [==============================] - 1s 6ms/step - loss: 1.0796 - accuracy: 0.7302 - val_loss: 1.0257 - val_accuracy: 0.7500\n",
            "Epoch 5/100\n",
            "200/200 [==============================] - 1s 6ms/step - loss: 0.9650 - accuracy: 0.7683 - val_loss: 0.9245 - val_accuracy: 0.7794\n",
            "Epoch 6/100\n",
            "200/200 [==============================] - 1s 6ms/step - loss: 0.8624 - accuracy: 0.7983 - val_loss: 0.8409 - val_accuracy: 0.7894\n",
            "Epoch 7/100\n",
            "200/200 [==============================] - 1s 6ms/step - loss: 0.7823 - accuracy: 0.8117 - val_loss: 0.7735 - val_accuracy: 0.8006\n",
            "Epoch 8/100\n",
            "200/200 [==============================] - 1s 6ms/step - loss: 0.7136 - accuracy: 0.8261 - val_loss: 0.7186 - val_accuracy: 0.8056\n",
            "Epoch 9/100\n",
            "200/200 [==============================] - 1s 6ms/step - loss: 0.6569 - accuracy: 0.8386 - val_loss: 0.6735 - val_accuracy: 0.8156\n",
            "Epoch 10/100\n",
            "200/200 [==============================] - 1s 6ms/step - loss: 0.6083 - accuracy: 0.8512 - val_loss: 0.6354 - val_accuracy: 0.8138\n",
            "Epoch 11/100\n",
            "200/200 [==============================] - 1s 6ms/step - loss: 0.5679 - accuracy: 0.8598 - val_loss: 0.6043 - val_accuracy: 0.8219\n",
            "Epoch 12/100\n",
            "200/200 [==============================] - 1s 6ms/step - loss: 0.5337 - accuracy: 0.8662 - val_loss: 0.5764 - val_accuracy: 0.8325\n",
            "Epoch 13/100\n",
            "200/200 [==============================] - 1s 7ms/step - loss: 0.5028 - accuracy: 0.8761 - val_loss: 0.5528 - val_accuracy: 0.8344\n",
            "Epoch 14/100\n",
            "200/200 [==============================] - 1s 6ms/step - loss: 0.4711 - accuracy: 0.8853 - val_loss: 0.5326 - val_accuracy: 0.8406\n",
            "Epoch 15/100\n",
            "200/200 [==============================] - 1s 6ms/step - loss: 0.4501 - accuracy: 0.8900 - val_loss: 0.5142 - val_accuracy: 0.8394\n",
            "Epoch 16/100\n",
            "200/200 [==============================] - 1s 6ms/step - loss: 0.4243 - accuracy: 0.8963 - val_loss: 0.4982 - val_accuracy: 0.8487\n",
            "Epoch 17/100\n",
            "200/200 [==============================] - 1s 7ms/step - loss: 0.4013 - accuracy: 0.9027 - val_loss: 0.4840 - val_accuracy: 0.8456\n",
            "Epoch 18/100\n",
            "200/200 [==============================] - 1s 6ms/step - loss: 0.3834 - accuracy: 0.9044 - val_loss: 0.4714 - val_accuracy: 0.8475\n",
            "Epoch 19/100\n",
            "200/200 [==============================] - 1s 6ms/step - loss: 0.3671 - accuracy: 0.9083 - val_loss: 0.4601 - val_accuracy: 0.8525\n",
            "Epoch 20/100\n",
            "200/200 [==============================] - 1s 6ms/step - loss: 0.3511 - accuracy: 0.9130 - val_loss: 0.4500 - val_accuracy: 0.8531\n",
            "Epoch 21/100\n",
            "200/200 [==============================] - 1s 6ms/step - loss: 0.3354 - accuracy: 0.9162 - val_loss: 0.4413 - val_accuracy: 0.8544\n",
            "Epoch 22/100\n",
            "200/200 [==============================] - 1s 6ms/step - loss: 0.3224 - accuracy: 0.9198 - val_loss: 0.4329 - val_accuracy: 0.8544\n",
            "Epoch 23/100\n",
            "200/200 [==============================] - 1s 6ms/step - loss: 0.3082 - accuracy: 0.9269 - val_loss: 0.4261 - val_accuracy: 0.8519\n",
            "Epoch 24/100\n",
            "200/200 [==============================] - 1s 6ms/step - loss: 0.2945 - accuracy: 0.9300 - val_loss: 0.4193 - val_accuracy: 0.8525\n",
            "Epoch 25/100\n",
            "200/200 [==============================] - 1s 6ms/step - loss: 0.2841 - accuracy: 0.9287 - val_loss: 0.4133 - val_accuracy: 0.8537\n",
            "Epoch 26/100\n",
            "200/200 [==============================] - 1s 6ms/step - loss: 0.2719 - accuracy: 0.9336 - val_loss: 0.4080 - val_accuracy: 0.8556\n",
            "Epoch 27/100\n",
            "200/200 [==============================] - 1s 6ms/step - loss: 0.2627 - accuracy: 0.9358 - val_loss: 0.4032 - val_accuracy: 0.8581\n",
            "Epoch 28/100\n",
            "200/200 [==============================] - 1s 6ms/step - loss: 0.2521 - accuracy: 0.9383 - val_loss: 0.3987 - val_accuracy: 0.8581\n",
            "Epoch 29/100\n",
            "200/200 [==============================] - 1s 6ms/step - loss: 0.2419 - accuracy: 0.9423 - val_loss: 0.3950 - val_accuracy: 0.8612\n",
            "Epoch 30/100\n",
            "200/200 [==============================] - 1s 6ms/step - loss: 0.2329 - accuracy: 0.9441 - val_loss: 0.3915 - val_accuracy: 0.8631\n",
            "Epoch 31/100\n",
            "200/200 [==============================] - 1s 6ms/step - loss: 0.2256 - accuracy: 0.9472 - val_loss: 0.3882 - val_accuracy: 0.8631\n",
            "Epoch 32/100\n",
            "200/200 [==============================] - 1s 6ms/step - loss: 0.2162 - accuracy: 0.9494 - val_loss: 0.3861 - val_accuracy: 0.8612\n",
            "Epoch 33/100\n",
            "200/200 [==============================] - 1s 7ms/step - loss: 0.2081 - accuracy: 0.9502 - val_loss: 0.3835 - val_accuracy: 0.8625\n",
            "Epoch 34/100\n",
            "200/200 [==============================] - 1s 6ms/step - loss: 0.2001 - accuracy: 0.9545 - val_loss: 0.3812 - val_accuracy: 0.8637\n",
            "Epoch 35/100\n",
            "200/200 [==============================] - 1s 6ms/step - loss: 0.1917 - accuracy: 0.9573 - val_loss: 0.3797 - val_accuracy: 0.8644\n",
            "Epoch 36/100\n",
            "200/200 [==============================] - 1s 6ms/step - loss: 0.1871 - accuracy: 0.9552 - val_loss: 0.3779 - val_accuracy: 0.8644\n",
            "Epoch 37/100\n",
            "200/200 [==============================] - 1s 6ms/step - loss: 0.1809 - accuracy: 0.9588 - val_loss: 0.3772 - val_accuracy: 0.8625\n",
            "Epoch 38/100\n",
            "200/200 [==============================] - 1s 6ms/step - loss: 0.1733 - accuracy: 0.9591 - val_loss: 0.3767 - val_accuracy: 0.8625\n",
            "Epoch 39/100\n",
            "200/200 [==============================] - 1s 6ms/step - loss: 0.1679 - accuracy: 0.9622 - val_loss: 0.3759 - val_accuracy: 0.8631\n",
            "Epoch 40/100\n",
            "200/200 [==============================] - 1s 6ms/step - loss: 0.1621 - accuracy: 0.9631 - val_loss: 0.3757 - val_accuracy: 0.8637\n",
            "Epoch 41/100\n",
            "200/200 [==============================] - 1s 6ms/step - loss: 0.1539 - accuracy: 0.9681 - val_loss: 0.3752 - val_accuracy: 0.8612\n",
            "Epoch 42/100\n",
            "200/200 [==============================] - 1s 6ms/step - loss: 0.1492 - accuracy: 0.9677 - val_loss: 0.3755 - val_accuracy: 0.8625\n"
          ],
          "name": "stdout"
        }
      ]
    },
    {
      "cell_type": "markdown",
      "metadata": {
        "id": "aTGXTs1Jki4t"
      },
      "source": [
        "Let's see how the model performs. Two values will be returned. Loss (a number which represents our error, lower values are better), and accuracy."
      ]
    },
    {
      "cell_type": "code",
      "metadata": {
        "colab": {
          "base_uri": "https://localhost:8080/"
        },
        "id": "xLFl9kDGeR77",
        "outputId": "f2579313-ab34-44e4-decf-46e607ff2bfe"
      },
      "source": [
        "loss, accuracy = stack_overflow_model.evaluate(test_ds)\n",
        "\n",
        "print('Model accuracy is',accuracy)\n",
        "print('Model loss is',loss)"
      ],
      "execution_count": 195,
      "outputs": [
        {
          "output_type": "stream",
          "text": [
            "250/250 [==============================] - 0s 1ms/step - loss: 0.3943 - accuracy: 0.8526\n",
            "Model accuracy is 0.8526250123977661\n",
            "Model loss is 0.3943123519420624\n"
          ],
          "name": "stdout"
        }
      ]
    },
    {
      "cell_type": "markdown",
      "metadata": {
        "id": "VLEZnLpMkWJz"
      },
      "source": [
        "### create a plot of training accuracy & loss over time\n",
        "\n",
        "There are four entries: one for each monitored metric during training and validation. You can use these to plot the training and validation loss for comparison, as well as the training and validation accuracy:"
      ]
    },
    {
      "cell_type": "code",
      "metadata": {
        "colab": {
          "base_uri": "https://localhost:8080/"
        },
        "id": "UmOtNJjLg4_p",
        "outputId": "a7678701-c6e0-44aa-8e7d-896c420ed4d5"
      },
      "source": [
        "history_dict = history.history\n",
        "\n",
        "history_dict.keys()"
      ],
      "execution_count": 196,
      "outputs": [
        {
          "output_type": "execute_result",
          "data": {
            "text/plain": [
              "dict_keys(['loss', 'accuracy', 'val_loss', 'val_accuracy'])"
            ]
          },
          "metadata": {
            "tags": []
          },
          "execution_count": 196
        }
      ]
    },
    {
      "cell_type": "code",
      "metadata": {
        "id": "A9AAaE7Wk9sU"
      },
      "source": [
        "loss = history_dict['loss']\n",
        "accuracy = history_dict['accuracy']\n",
        "val_loss = history_dict['val_loss']\n",
        "val_accuracy = history_dict['val_accuracy']"
      ],
      "execution_count": 197,
      "outputs": []
    },
    {
      "cell_type": "code",
      "metadata": {
        "colab": {
          "base_uri": "https://localhost:8080/",
          "height": 505
        },
        "id": "U4QhijczlOAM",
        "outputId": "599e88e3-d263-4fc0-9e07-2bcb517534a9"
      },
      "source": [
        "plt.figure(figsize=(20,10))\n",
        "\n",
        "epochs = range(1, len(loss)+1)\n",
        "\n",
        "plt.subplot(1,2,1)\n",
        "plt.plot(epochs, loss, 'og', label='training loss')\n",
        "plt.plot(epochs, val_loss, 'g', label='validation loss')\n",
        "plt.title('Training & Validation loss')\n",
        "plt.xlabel('Epochs')\n",
        "plt.ylabel('Loss')\n",
        "plt.legend()\n",
        "\n",
        "plt.subplot(1,2,2)\n",
        "plt.plot(epochs, accuracy, 'og', label='training accuracy')\n",
        "plt.plot(epochs, val_accuracy, 'g', label='validation accuracy')\n",
        "plt.title('Training & Validation accuray')\n",
        "plt.xlabel('Epochs')\n",
        "plt.ylabel('Accuracy')\n",
        "plt.legend()\n",
        "\n",
        "plt.show()"
      ],
      "execution_count": 201,
      "outputs": [
        {
          "output_type": "display_data",
          "data": {
            "image/png": "[encoded data removed]",
            "text/plain": [
              "<Figure size 1440x720 with 2 Axes>"
            ]
          },
          "metadata": {
            "tags": [],
            "needs_background": "light"
          }
        }
      ]
    },
    {
      "cell_type": "code",
      "metadata": {
        "id": "CJsu8aRFmJeT"
      },
      "source": [
        ""
      ],
      "execution_count": null,
      "outputs": []
    }
  ]
}