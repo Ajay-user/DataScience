{
  "nbformat": 4,
  "nbformat_minor": 0,
  "metadata": {
    "colab": {
      "name": "Introduction to the Keras Tuner.ipynb",
      "provenance": [],
      "collapsed_sections": [],
      "authorship_tag": "ABX9TyPecAZyCM96iABKjhsJNWfH",
      "include_colab_link": true
    },
    "kernelspec": {
      "name": "python3",
      "display_name": "Python 3"
    },
    "language_info": {
      "name": "python"
    }
  },
  "cells": [
    {
      "cell_type": "markdown",
      "metadata": {
        "id": "view-in-github",
        "colab_type": "text"
      },
      "source": [
        "<a href=\"https://colab.research.google.com/github/Ajay-user/DataScience/blob/master/Notes/Introduction_to_the_Keras_Tuner.ipynb\" target=\"_parent\"><img src=\"https://colab.research.google.com/assets/colab-badge.svg\" alt=\"Open In Colab\"/></a>"
      ]
    },
    {
      "cell_type": "markdown",
      "metadata": {
        "id": "3CxJvFYjGfO1"
      },
      "source": [
        "https://www.tensorflow.org/tutorials/keras/keras_tuner#download_and_prepare_the_dataset\n",
        "\n",
        "\n",
        "Using the Keras Tuner to perform hypertuning for an image classification application."
      ]
    },
    {
      "cell_type": "code",
      "metadata": {
        "colab": {
          "base_uri": "https://localhost:8080/"
        },
        "id": "cdUIIkf3F8Sn",
        "outputId": "541b0969-79c8-48c3-cba3-62dac1d2cece"
      },
      "source": [
        "pip install keras-tuner"
      ],
      "execution_count": 1,
      "outputs": [
        {
          "output_type": "stream",
          "name": "stdout",
          "text": [
            "Collecting keras-tuner\n",
            "  Downloading keras_tuner-1.0.4-py3-none-any.whl (97 kB)\n",
            "\u001b[?25l\r\u001b[K     |███▍                            | 10 kB 24.6 MB/s eta 0:00:01\r\u001b[K     |██████▊                         | 20 kB 27.1 MB/s eta 0:00:01\r\u001b[K     |██████████                      | 30 kB 29.7 MB/s eta 0:00:01\r\u001b[K     |█████████████▍                  | 40 kB 31.0 MB/s eta 0:00:01\r\u001b[K     |████████████████▊               | 51 kB 33.0 MB/s eta 0:00:01\r\u001b[K     |████████████████████            | 61 kB 34.5 MB/s eta 0:00:01\r\u001b[K     |███████████████████████▍        | 71 kB 31.1 MB/s eta 0:00:01\r\u001b[K     |██████████████████████████▊     | 81 kB 32.9 MB/s eta 0:00:01\r\u001b[K     |██████████████████████████████▏ | 92 kB 34.9 MB/s eta 0:00:01\r\u001b[K     |████████████████████████████████| 97 kB 6.9 MB/s \n",
            "\u001b[?25hRequirement already satisfied: numpy in /usr/local/lib/python3.7/dist-packages (from keras-tuner) (1.19.5)\n",
            "Requirement already satisfied: packaging in /usr/local/lib/python3.7/dist-packages (from keras-tuner) (21.0)\n",
            "Collecting kt-legacy\n",
            "  Downloading kt_legacy-1.0.4-py3-none-any.whl (9.6 kB)\n",
            "Requirement already satisfied: scipy in /usr/local/lib/python3.7/dist-packages (from keras-tuner) (1.4.1)\n",
            "Requirement already satisfied: requests in /usr/local/lib/python3.7/dist-packages (from keras-tuner) (2.23.0)\n",
            "Requirement already satisfied: ipython in /usr/local/lib/python3.7/dist-packages (from keras-tuner) (5.5.0)\n",
            "Requirement already satisfied: tensorboard in /usr/local/lib/python3.7/dist-packages (from keras-tuner) (2.6.0)\n",
            "Requirement already satisfied: setuptools>=18.5 in /usr/local/lib/python3.7/dist-packages (from ipython->keras-tuner) (57.4.0)\n",
            "Requirement already satisfied: pickleshare in /usr/local/lib/python3.7/dist-packages (from ipython->keras-tuner) (0.7.5)\n",
            "Requirement already satisfied: simplegeneric>0.8 in /usr/local/lib/python3.7/dist-packages (from ipython->keras-tuner) (0.8.1)\n",
            "Requirement already satisfied: traitlets>=4.2 in /usr/local/lib/python3.7/dist-packages (from ipython->keras-tuner) (5.1.0)\n",
            "Requirement already satisfied: decorator in /usr/local/lib/python3.7/dist-packages (from ipython->keras-tuner) (4.4.2)\n",
            "Requirement already satisfied: pexpect in /usr/local/lib/python3.7/dist-packages (from ipython->keras-tuner) (4.8.0)\n",
            "Requirement already satisfied: prompt-toolkit<2.0.0,>=1.0.4 in /usr/local/lib/python3.7/dist-packages (from ipython->keras-tuner) (1.0.18)\n",
            "Requirement already satisfied: pygments in /usr/local/lib/python3.7/dist-packages (from ipython->keras-tuner) (2.6.1)\n",
            "Requirement already satisfied: six>=1.9.0 in /usr/local/lib/python3.7/dist-packages (from prompt-toolkit<2.0.0,>=1.0.4->ipython->keras-tuner) (1.15.0)\n",
            "Requirement already satisfied: wcwidth in /usr/local/lib/python3.7/dist-packages (from prompt-toolkit<2.0.0,>=1.0.4->ipython->keras-tuner) (0.2.5)\n",
            "Requirement already satisfied: pyparsing>=2.0.2 in /usr/local/lib/python3.7/dist-packages (from packaging->keras-tuner) (2.4.7)\n",
            "Requirement already satisfied: ptyprocess>=0.5 in /usr/local/lib/python3.7/dist-packages (from pexpect->ipython->keras-tuner) (0.7.0)\n",
            "Requirement already satisfied: chardet<4,>=3.0.2 in /usr/local/lib/python3.7/dist-packages (from requests->keras-tuner) (3.0.4)\n",
            "Requirement already satisfied: certifi>=2017.4.17 in /usr/local/lib/python3.7/dist-packages (from requests->keras-tuner) (2021.5.30)\n",
            "Requirement already satisfied: urllib3!=1.25.0,!=1.25.1,<1.26,>=1.21.1 in /usr/local/lib/python3.7/dist-packages (from requests->keras-tuner) (1.24.3)\n",
            "Requirement already satisfied: idna<3,>=2.5 in /usr/local/lib/python3.7/dist-packages (from requests->keras-tuner) (2.10)\n",
            "Requirement already satisfied: tensorboard-data-server<0.7.0,>=0.6.0 in /usr/local/lib/python3.7/dist-packages (from tensorboard->keras-tuner) (0.6.1)\n",
            "Requirement already satisfied: protobuf>=3.6.0 in /usr/local/lib/python3.7/dist-packages (from tensorboard->keras-tuner) (3.17.3)\n",
            "Requirement already satisfied: tensorboard-plugin-wit>=1.6.0 in /usr/local/lib/python3.7/dist-packages (from tensorboard->keras-tuner) (1.8.0)\n",
            "Requirement already satisfied: werkzeug>=0.11.15 in /usr/local/lib/python3.7/dist-packages (from tensorboard->keras-tuner) (1.0.1)\n",
            "Requirement already satisfied: absl-py>=0.4 in /usr/local/lib/python3.7/dist-packages (from tensorboard->keras-tuner) (0.12.0)\n",
            "Requirement already satisfied: google-auth-oauthlib<0.5,>=0.4.1 in /usr/local/lib/python3.7/dist-packages (from tensorboard->keras-tuner) (0.4.6)\n",
            "Requirement already satisfied: google-auth<2,>=1.6.3 in /usr/local/lib/python3.7/dist-packages (from tensorboard->keras-tuner) (1.35.0)\n",
            "Requirement already satisfied: markdown>=2.6.8 in /usr/local/lib/python3.7/dist-packages (from tensorboard->keras-tuner) (3.3.4)\n",
            "Requirement already satisfied: grpcio>=1.24.3 in /usr/local/lib/python3.7/dist-packages (from tensorboard->keras-tuner) (1.40.0)\n",
            "Requirement already satisfied: wheel>=0.26 in /usr/local/lib/python3.7/dist-packages (from tensorboard->keras-tuner) (0.37.0)\n",
            "Requirement already satisfied: rsa<5,>=3.1.4 in /usr/local/lib/python3.7/dist-packages (from google-auth<2,>=1.6.3->tensorboard->keras-tuner) (4.7.2)\n",
            "Requirement already satisfied: cachetools<5.0,>=2.0.0 in /usr/local/lib/python3.7/dist-packages (from google-auth<2,>=1.6.3->tensorboard->keras-tuner) (4.2.2)\n",
            "Requirement already satisfied: pyasn1-modules>=0.2.1 in /usr/local/lib/python3.7/dist-packages (from google-auth<2,>=1.6.3->tensorboard->keras-tuner) (0.2.8)\n",
            "Requirement already satisfied: requests-oauthlib>=0.7.0 in /usr/local/lib/python3.7/dist-packages (from google-auth-oauthlib<0.5,>=0.4.1->tensorboard->keras-tuner) (1.3.0)\n",
            "Requirement already satisfied: importlib-metadata in /usr/local/lib/python3.7/dist-packages (from markdown>=2.6.8->tensorboard->keras-tuner) (4.8.1)\n",
            "Requirement already satisfied: pyasn1<0.5.0,>=0.4.6 in /usr/local/lib/python3.7/dist-packages (from pyasn1-modules>=0.2.1->google-auth<2,>=1.6.3->tensorboard->keras-tuner) (0.4.8)\n",
            "Requirement already satisfied: oauthlib>=3.0.0 in /usr/local/lib/python3.7/dist-packages (from requests-oauthlib>=0.7.0->google-auth-oauthlib<0.5,>=0.4.1->tensorboard->keras-tuner) (3.1.1)\n",
            "Requirement already satisfied: typing-extensions>=3.6.4 in /usr/local/lib/python3.7/dist-packages (from importlib-metadata->markdown>=2.6.8->tensorboard->keras-tuner) (3.7.4.3)\n",
            "Requirement already satisfied: zipp>=0.5 in /usr/local/lib/python3.7/dist-packages (from importlib-metadata->markdown>=2.6.8->tensorboard->keras-tuner) (3.5.0)\n",
            "Installing collected packages: kt-legacy, keras-tuner\n",
            "Successfully installed keras-tuner-1.0.4 kt-legacy-1.0.4\n"
          ]
        }
      ]
    },
    {
      "cell_type": "code",
      "metadata": {
        "id": "NKOKfUXxGQjz"
      },
      "source": [
        "import tensorflow as tf\n",
        "import keras_tuner as kt"
      ],
      "execution_count": 2,
      "outputs": []
    },
    {
      "cell_type": "markdown",
      "metadata": {
        "id": "tBhIkGlyGdfE"
      },
      "source": [
        "The Keras Tuner is a library that helps you pick the optimal set of hyperparameters for your TensorFlow program. The process of selecting the right set of hyperparameters for your machine learning (ML) application is called hyperparameter tuning or hypertuning.\n",
        "\n",
        "**Hyperparameters are of two types:**\n",
        "\n",
        "* Model hyperparameters which influence model selection such as the number and width of hidden layers\n",
        "* Algorithm hyperparameters which influence the speed and quality of the learning algorithm such as the learning rate for Stochastic Gradient Descent (SGD) and the number of nearest neighbors for a k Nearest Neighbors (KNN) classifier"
      ]
    },
    {
      "cell_type": "markdown",
      "metadata": {
        "id": "uJVssq4zHMaX"
      },
      "source": [
        "## Download and prepare the dataset"
      ]
    },
    {
      "cell_type": "code",
      "metadata": {
        "colab": {
          "base_uri": "https://localhost:8080/"
        },
        "id": "XaoQrHL0GWA4",
        "outputId": "c6876641-8af0-4b93-d3be-b3ca827e2469"
      },
      "source": [
        "(train_images, train_labels),(test_images, test_labels) = tf.keras.datasets.fashion_mnist.load_data()"
      ],
      "execution_count": 3,
      "outputs": [
        {
          "output_type": "stream",
          "name": "stdout",
          "text": [
            "Downloading data from https://storage.googleapis.com/tensorflow/tf-keras-datasets/train-labels-idx1-ubyte.gz\n",
            "32768/29515 [=================================] - 0s 0us/step\n",
            "40960/29515 [=========================================] - 0s 0us/step\n",
            "Downloading data from https://storage.googleapis.com/tensorflow/tf-keras-datasets/train-images-idx3-ubyte.gz\n",
            "26427392/26421880 [==============================] - 0s 0us/step\n",
            "26435584/26421880 [==============================] - 0s 0us/step\n",
            "Downloading data from https://storage.googleapis.com/tensorflow/tf-keras-datasets/t10k-labels-idx1-ubyte.gz\n",
            "16384/5148 [===============================================================================================] - 0s 0us/step\n",
            "Downloading data from https://storage.googleapis.com/tensorflow/tf-keras-datasets/t10k-images-idx3-ubyte.gz\n",
            "4423680/4422102 [==============================] - 0s 0us/step\n",
            "4431872/4422102 [==============================] - 0s 0us/step\n"
          ]
        }
      ]
    },
    {
      "cell_type": "code",
      "metadata": {
        "colab": {
          "base_uri": "https://localhost:8080/"
        },
        "id": "f83J1RWKHXvr",
        "outputId": "67b60f08-b01b-4bb6-c2cd-5fb4a4e41ce9"
      },
      "source": [
        "print('Shape of training images',train_images.shape)\n",
        "print('Shape of training labels',train_labels.shape)\n",
        "print('Shape of testing images',test_images.shape)\n",
        "print('Shape of testing labels',test_labels.shape)"
      ],
      "execution_count": 4,
      "outputs": [
        {
          "output_type": "stream",
          "name": "stdout",
          "text": [
            "Shape of training images (60000, 28, 28)\n",
            "Shape of training labels (60000,)\n",
            "Shape of testing images (10000, 28, 28)\n",
            "Shape of testing labels (10000,)\n"
          ]
        }
      ]
    },
    {
      "cell_type": "markdown",
      "metadata": {
        "id": "-dWaoOiPHr9C"
      },
      "source": [
        "## Normalize pixel values between 0 and 1"
      ]
    },
    {
      "cell_type": "code",
      "metadata": {
        "id": "cFt7K7FsHiLK"
      },
      "source": [
        "train_images_norm = train_images.astype('float32')/255\n",
        "test_images_norm = test_images.astype('float32')/255"
      ],
      "execution_count": 5,
      "outputs": []
    },
    {
      "cell_type": "markdown",
      "metadata": {
        "id": "rfDDgzV9H8jq"
      },
      "source": [
        "## Model building\n",
        "\n",
        "When you build a model for hypertuning, you also define the hyperparameter search space in addition to the model architecture. The model you set up for hypertuning is called a hypermodel.\n",
        "\n",
        "You can define a hypermodel through two approaches:\n",
        "\n",
        "* By using a model builder function\n",
        "* By subclassing the HyperModel class of the Keras Tuner API\n",
        "\n",
        "We can also use two pre-defined HyperModel classes - `HyperXception` and `HyperResNet` for computer vision applications."
      ]
    },
    {
      "cell_type": "code",
      "metadata": {
        "id": "dnKLo-kJH6X4"
      },
      "source": [
        "def model_builder(hp):\n",
        "  model = tf.keras.Sequential()\n",
        "  model.add(tf.keras.layers.Flatten(input_shape=(28,28)))\n",
        "\n",
        "  # tune the number of units in the dense layer\n",
        "  # hp.int(units , ..range..) -- sample an integer from the range\n",
        "  hp_units = hp.Int('units', min_value=32, max_value=512, step=32)\n",
        "  model.add(tf.keras.layers.Dense(units=hp_units, activation='relu'))\n",
        "  model.add(tf.keras.layers.Dense(10))\n",
        "\n",
        "  # this fn returns a compiled model\n",
        "  hp_lr = hp.Choice('learning_rate', values=[1e-2,1e-3,1e-4])\n",
        "  model.compile(optimizer = tf.keras.optimizers.Adam(learning_rate=hp_lr),\n",
        "                loss=tf.keras.losses.SparseCategoricalCrossentropy(from_logits=True),\n",
        "                metrics=['accuracy'])\n",
        "  \n",
        "  return model"
      ],
      "execution_count": 6,
      "outputs": []
    },
    {
      "cell_type": "markdown",
      "metadata": {
        "id": "GjA_VOyWKQ-9"
      },
      "source": [
        "Instantiate the tuner to perform the hypertuning. The Keras Tuner has four tuners available - RandomSearch, Hyperband, BayesianOptimization, and Sklearn. \n",
        "\n",
        "To instantiate the Hyperband tuner, you must specify the hypermodel, the objective to optimize and the maximum number of epochs to train (max_epochs)."
      ]
    },
    {
      "cell_type": "code",
      "metadata": {
        "id": "kfqV_zwlKMzM"
      },
      "source": [
        "tuner = kt.Hyperband(model_builder, objective='val_accuracy', max_epochs=10, factor=3, directory='my_dir', project_name='intro_to_kt')"
      ],
      "execution_count": 7,
      "outputs": []
    },
    {
      "cell_type": "markdown",
      "metadata": {
        "id": "dix1Uil_Lh1n"
      },
      "source": [
        "The Hyperband tuning algorithm uses adaptive resource allocation and early-stopping to quickly converge on a high-performing model. This is done using a sports championship style bracket. The algorithm trains a large number of models for a few epochs and carries forward only the top-performing half of models to the next round. Hyperband determines the number of models to train in a bracket by computing 1 + logfactor(max_epochs) and rounding it up to the nearest integer."
      ]
    },
    {
      "cell_type": "code",
      "metadata": {
        "id": "fLBWAO9IKsSl"
      },
      "source": [
        "early_stopping_cb = tf.keras.callbacks.EarlyStopping(monitor='val_loss', patience=1)"
      ],
      "execution_count": 8,
      "outputs": []
    },
    {
      "cell_type": "markdown",
      "metadata": {
        "id": "VSmZtLqbLvRX"
      },
      "source": [
        "Run the hyperparameter search. The arguments for the search method are the same as those used for tf.keras.model.fit in addition to the callback above."
      ]
    },
    {
      "cell_type": "code",
      "metadata": {
        "colab": {
          "base_uri": "https://localhost:8080/"
        },
        "id": "wY9rb8MtLr-L",
        "outputId": "7792380e-96e0-4389-ca00-4a7658dfdcd8"
      },
      "source": [
        "tuner.search(train_images_norm, train_labels, epochs=50, validation_split=0.2, callbacks=[early_stopping_cb])"
      ],
      "execution_count": 9,
      "outputs": [
        {
          "output_type": "stream",
          "name": "stdout",
          "text": [
            "Trial 30 Complete [00h 00m 21s]\n",
            "val_accuracy: 0.8460833430290222\n",
            "\n",
            "Best val_accuracy So Far: 0.8829166889190674\n",
            "Total elapsed time: 00h 10m 47s\n",
            "INFO:tensorflow:Oracle triggered exit\n"
          ]
        }
      ]
    },
    {
      "cell_type": "code",
      "metadata": {
        "colab": {
          "base_uri": "https://localhost:8080/"
        },
        "id": "xSuXQBBnL98X",
        "outputId": "7c27399f-cd02-491c-f5c2-9f8869429c8a"
      },
      "source": [
        "best_hps = tuner.get_best_hyperparameters(num_trials=1)[0]\n",
        "\n",
        "\n",
        "print('Best Hyperparameters found')\n",
        "print('No: units in first hidden layer',best_hps.get('units'))\n",
        "print('Learning rate for the optimizer',best_hps.get('learning_rate'))"
      ],
      "execution_count": 10,
      "outputs": [
        {
          "output_type": "stream",
          "name": "stdout",
          "text": [
            "Best Hyperparameters found\n",
            "No: units in first hidden layer 320\n",
            "Learning rate for the optimizer 0.001\n"
          ]
        }
      ]
    },
    {
      "cell_type": "markdown",
      "metadata": {
        "id": "0eFti7_LPvlM"
      },
      "source": [
        "## Train the model\n",
        "Find the optimal number of epochs to train the model with the hyperparameters obtained from the search."
      ]
    },
    {
      "cell_type": "code",
      "metadata": {
        "colab": {
          "base_uri": "https://localhost:8080/"
        },
        "id": "oyb3MLWxPp0r",
        "outputId": "93975736-add0-4d58-9204-658e2ff1437b"
      },
      "source": [
        "model = tuner.hypermodel.build(best_hps)\n",
        "history = model.fit(train_images_norm, train_labels, validation_split=0.2, epochs=50, callbacks=[early_stopping_cb])"
      ],
      "execution_count": 12,
      "outputs": [
        {
          "output_type": "stream",
          "name": "stdout",
          "text": [
            "Epoch 1/50\n",
            "1500/1500 [==============================] - 6s 4ms/step - loss: 0.5005 - accuracy: 0.8217 - val_loss: 0.4155 - val_accuracy: 0.8472\n",
            "Epoch 2/50\n",
            "1500/1500 [==============================] - 5s 4ms/step - loss: 0.3709 - accuracy: 0.8643 - val_loss: 0.3734 - val_accuracy: 0.8658\n",
            "Epoch 3/50\n",
            "1500/1500 [==============================] - 6s 4ms/step - loss: 0.3321 - accuracy: 0.8786 - val_loss: 0.3579 - val_accuracy: 0.8721\n",
            "Epoch 4/50\n",
            "1500/1500 [==============================] - 6s 4ms/step - loss: 0.3097 - accuracy: 0.8854 - val_loss: 0.3574 - val_accuracy: 0.8758\n",
            "Epoch 5/50\n",
            "1500/1500 [==============================] - 5s 4ms/step - loss: 0.2901 - accuracy: 0.8932 - val_loss: 0.3351 - val_accuracy: 0.8792\n",
            "Epoch 6/50\n",
            "1500/1500 [==============================] - 6s 4ms/step - loss: 0.2753 - accuracy: 0.8972 - val_loss: 0.3183 - val_accuracy: 0.8840\n",
            "Epoch 7/50\n",
            "1500/1500 [==============================] - 5s 4ms/step - loss: 0.2609 - accuracy: 0.9019 - val_loss: 0.3126 - val_accuracy: 0.8887\n",
            "Epoch 8/50\n",
            "1500/1500 [==============================] - 5s 4ms/step - loss: 0.2496 - accuracy: 0.9054 - val_loss: 0.3315 - val_accuracy: 0.8849\n"
          ]
        }
      ]
    },
    {
      "cell_type": "code",
      "metadata": {
        "id": "kS5ZbytpQKBb"
      },
      "source": [
        "val_acc_per_epoch = history.history['val_accuracy']\n",
        "best_epoch = val_acc_per_epoch.index(max(val_acc_per_epoch))+1"
      ],
      "execution_count": 15,
      "outputs": []
    },
    {
      "cell_type": "code",
      "metadata": {
        "colab": {
          "base_uri": "https://localhost:8080/"
        },
        "id": "TJk_j9RaQbue",
        "outputId": "9396140c-1e2f-45b3-b8f4-2533e2dc50b1"
      },
      "source": [
        "print('best epoch',best_epoch)"
      ],
      "execution_count": 16,
      "outputs": [
        {
          "output_type": "stream",
          "name": "stdout",
          "text": [
            "best epoch 7\n"
          ]
        }
      ]
    },
    {
      "cell_type": "markdown",
      "metadata": {
        "id": "5Aa-eiroQ6EQ"
      },
      "source": [
        "Re-instantiate the hypermodel and train it with the optimal number of epochs."
      ]
    },
    {
      "cell_type": "code",
      "metadata": {
        "colab": {
          "base_uri": "https://localhost:8080/"
        },
        "id": "XqEwDPSaQ20H",
        "outputId": "ba3862a5-0c89-4e42-df1b-6b60dcdac867"
      },
      "source": [
        "hyper_model = tuner.hypermodel.build(best_hps)\n",
        "history_hm = hyper_model.fit(train_images_norm, train_labels, validation_split=0.2, epochs=best_epoch)"
      ],
      "execution_count": 17,
      "outputs": [
        {
          "output_type": "stream",
          "name": "stdout",
          "text": [
            "Epoch 1/7\n",
            "1500/1500 [==============================] - 6s 4ms/step - loss: 0.4967 - accuracy: 0.8244 - val_loss: 0.4107 - val_accuracy: 0.8486\n",
            "Epoch 2/7\n",
            "1500/1500 [==============================] - 6s 4ms/step - loss: 0.3731 - accuracy: 0.8641 - val_loss: 0.3661 - val_accuracy: 0.8686\n",
            "Epoch 3/7\n",
            "1500/1500 [==============================] - 6s 4ms/step - loss: 0.3342 - accuracy: 0.8775 - val_loss: 0.3720 - val_accuracy: 0.8694\n",
            "Epoch 4/7\n",
            "1500/1500 [==============================] - 6s 4ms/step - loss: 0.3079 - accuracy: 0.8860 - val_loss: 0.3553 - val_accuracy: 0.8742\n",
            "Epoch 5/7\n",
            "1500/1500 [==============================] - 5s 4ms/step - loss: 0.2896 - accuracy: 0.8916 - val_loss: 0.3231 - val_accuracy: 0.8851\n",
            "Epoch 6/7\n",
            "1500/1500 [==============================] - 5s 4ms/step - loss: 0.2729 - accuracy: 0.8973 - val_loss: 0.3556 - val_accuracy: 0.8687\n",
            "Epoch 7/7\n",
            "1500/1500 [==============================] - 6s 4ms/step - loss: 0.2612 - accuracy: 0.9021 - val_loss: 0.3234 - val_accuracy: 0.8852\n"
          ]
        }
      ]
    },
    {
      "cell_type": "markdown",
      "metadata": {
        "id": "8g_ZdUKNRbe-"
      },
      "source": [
        "Evaluate the hypermodel on the test data."
      ]
    },
    {
      "cell_type": "code",
      "metadata": {
        "colab": {
          "base_uri": "https://localhost:8080/"
        },
        "id": "O6occ2uhRP3A",
        "outputId": "347406ff-1e40-4768-fc4e-2fc8e13dbc25"
      },
      "source": [
        "loss, accuracy = hyper_model.evaluate(test_images_norm, test_labels)\n",
        "print('Loss', loss)\n",
        "print('Accuracy',accuracy)"
      ],
      "execution_count": 18,
      "outputs": [
        {
          "output_type": "stream",
          "name": "stdout",
          "text": [
            "313/313 [==============================] - 1s 2ms/step - loss: 0.3523 - accuracy: 0.8754\n",
            "Loss 0.3523252010345459\n",
            "Accuracy 0.8754000067710876\n"
          ]
        }
      ]
    },
    {
      "cell_type": "code",
      "metadata": {
        "id": "F_eYwhDMRotZ"
      },
      "source": [
        ""
      ],
      "execution_count": null,
      "outputs": []
    }
  ]
}