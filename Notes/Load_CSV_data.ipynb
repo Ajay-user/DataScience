{
  "nbformat": 4,
  "nbformat_minor": 0,
  "metadata": {
    "colab": {
      "name": "Load CSV data.ipynb",
      "provenance": [],
      "authorship_tag": "ABX9TyMSc80a3SU+gZn+DsMA7uZO",
      "include_colab_link": true
    },
    "kernelspec": {
      "name": "python3",
      "display_name": "Python 3"
    },
    "language_info": {
      "name": "python"
    }
  },
  "cells": [
    {
      "cell_type": "markdown",
      "metadata": {
        "id": "view-in-github",
        "colab_type": "text"
      },
      "source": [
        "<a href=\"https://colab.research.google.com/github/Ajay-user/ML-DL-RL-repo/blob/master/Notes/Load_CSV_data.ipynb\" target=\"_parent\"><img src=\"https://colab.research.google.com/assets/colab-badge.svg\" alt=\"Open In Colab\"/></a>"
      ]
    },
    {
      "cell_type": "markdown",
      "metadata": {
        "id": "1F2jHroKXsS6"
      },
      "source": [
        "https://www.tensorflow.org/tutorials/load_data/csv\n",
        "\n",
        "## Examples of how to use CSV data with TensorFlow.\n",
        "* Loading the data off disk\n",
        "* Pre-processing it into a form suitable for training.)"
      ]
    },
    {
      "cell_type": "code",
      "metadata": {
        "id": "XJk0dGDuW8jk"
      },
      "source": [
        "import pandas as pd\n",
        "import numpy as np\n",
        "import tensorflow as tf"
      ],
      "execution_count": 1,
      "outputs": []
    },
    {
      "cell_type": "markdown",
      "metadata": {
        "id": "IEQEzKTsY1UC"
      },
      "source": [
        "### In memory data\n",
        "For any small CSV dataset the simplest way to train a TensorFlow model on it is to load it into memory as a `pandas Dataframe` or a `NumPy array`.\n",
        "\n",
        "A relatively simple example is the `abalone dataset`.\n",
        "\n",
        "* The dataset is small.\n",
        "* All the input features are all limited-range floating point values."
      ]
    },
    {
      "cell_type": "markdown",
      "metadata": {
        "id": "w9Bdh2UGckKt"
      },
      "source": [
        "## Abalone Dataset"
      ]
    },
    {
      "cell_type": "code",
      "metadata": {
        "colab": {
          "base_uri": "https://localhost:8080/",
          "height": 142
        },
        "id": "qrHD0pIeYr9I",
        "outputId": "40393bf8-9fbd-4e70-a1ec-a41168ebb1d8"
      },
      "source": [
        "url = \"https://storage.googleapis.com/download.tensorflow.org/data/abalone_train.csv\"\n",
        "abalone_df = pd.read_csv(url, names=[\"Length\", \"Diameter\", \"Height\", \"Whole weight\", \"Shucked weight\",\"Viscera weight\", \"Shell weight\", \"Age\"])\n",
        "abalone_df.head(3)"
      ],
      "execution_count": 5,
      "outputs": [
        {
          "output_type": "execute_result",
          "data": {
            "text/html": [
              "<div>\n",
              "<style scoped>\n",
              "    .dataframe tbody tr th:only-of-type {\n",
              "        vertical-align: middle;\n",
              "    }\n",
              "\n",
              "    .dataframe tbody tr th {\n",
              "        vertical-align: top;\n",
              "    }\n",
              "\n",
              "    .dataframe thead th {\n",
              "        text-align: right;\n",
              "    }\n",
              "</style>\n",
              "<table border=\"1\" class=\"dataframe\">\n",
              "  <thead>\n",
              "    <tr style=\"text-align: right;\">\n",
              "      <th></th>\n",
              "      <th>Length</th>\n",
              "      <th>Diameter</th>\n",
              "      <th>Height</th>\n",
              "      <th>Whole weight</th>\n",
              "      <th>Shucked weight</th>\n",
              "      <th>Viscera weight</th>\n",
              "      <th>Shell weight</th>\n",
              "      <th>Age</th>\n",
              "    </tr>\n",
              "  </thead>\n",
              "  <tbody>\n",
              "    <tr>\n",
              "      <th>0</th>\n",
              "      <td>0.435</td>\n",
              "      <td>0.335</td>\n",
              "      <td>0.110</td>\n",
              "      <td>0.334</td>\n",
              "      <td>0.1355</td>\n",
              "      <td>0.0775</td>\n",
              "      <td>0.0965</td>\n",
              "      <td>7</td>\n",
              "    </tr>\n",
              "    <tr>\n",
              "      <th>1</th>\n",
              "      <td>0.585</td>\n",
              "      <td>0.450</td>\n",
              "      <td>0.125</td>\n",
              "      <td>0.874</td>\n",
              "      <td>0.3545</td>\n",
              "      <td>0.2075</td>\n",
              "      <td>0.2250</td>\n",
              "      <td>6</td>\n",
              "    </tr>\n",
              "    <tr>\n",
              "      <th>2</th>\n",
              "      <td>0.655</td>\n",
              "      <td>0.510</td>\n",
              "      <td>0.160</td>\n",
              "      <td>1.092</td>\n",
              "      <td>0.3960</td>\n",
              "      <td>0.2825</td>\n",
              "      <td>0.3700</td>\n",
              "      <td>14</td>\n",
              "    </tr>\n",
              "  </tbody>\n",
              "</table>\n",
              "</div>"
            ],
            "text/plain": [
              "   Length  Diameter  Height  ...  Viscera weight  Shell weight  Age\n",
              "0   0.435     0.335   0.110  ...          0.0775        0.0965    7\n",
              "1   0.585     0.450   0.125  ...          0.2075        0.2250    6\n",
              "2   0.655     0.510   0.160  ...          0.2825        0.3700   14\n",
              "\n",
              "[3 rows x 8 columns]"
            ]
          },
          "metadata": {},
          "execution_count": 5
        }
      ]
    },
    {
      "cell_type": "markdown",
      "metadata": {
        "id": "vcJcH_XVZ5Kg"
      },
      "source": [
        "The nominal task for this dataset is to predict the age from the other measurements, so separate the features and labels for training:\n",
        "\n"
      ]
    },
    {
      "cell_type": "code",
      "metadata": {
        "id": "96hxF5mUZP5M"
      },
      "source": [
        "abalone_features = abalone_df.copy()\n",
        "abalone_labels = abalone_features.pop('Age')"
      ],
      "execution_count": 6,
      "outputs": []
    },
    {
      "cell_type": "markdown",
      "metadata": {
        "id": "Nu8R4AdeaW0J"
      },
      "source": [
        "For this dataset you will treat all features identically. Pack the features into a single NumPy array."
      ]
    },
    {
      "cell_type": "code",
      "metadata": {
        "id": "0kOCh96gaPIO"
      },
      "source": [
        "abalone_features = np.array(abalone_features)"
      ],
      "execution_count": 7,
      "outputs": []
    },
    {
      "cell_type": "markdown",
      "metadata": {
        "id": "9VzRb6wjak0A"
      },
      "source": [
        "Next make a regression model predict the `age`. Since there is only a single input tensor, a `keras.Sequential model` is sufficient here."
      ]
    },
    {
      "cell_type": "code",
      "metadata": {
        "colab": {
          "base_uri": "https://localhost:8080/"
        },
        "id": "s9CxGDH9abV5",
        "outputId": "0a1542ea-d4d4-4f01-90af-5368c1c2b500"
      },
      "source": [
        "# building a model\n",
        "alabone_model = tf.keras.Sequential([\n",
        "                                     tf.keras.layers.Dense(32, 'relu'),\n",
        "                                     tf.keras.layers.Dense(1)\n",
        "])\n",
        "# compile the model\n",
        "alabone_model.compile(optimizer='adam', loss='mean_squared_error', metrics=['mse'])\n",
        "# earlt stopping callback\n",
        "early_stopping_cb = tf.keras.callbacks.EarlyStopping(monitor='val_loss', patience=1)\n",
        "# training the model\n",
        "history = alabone_model.fit(abalone_features, abalone_labels, epochs=10, validation_split=0.2, callbacks=[early_stopping_cb])"
      ],
      "execution_count": 10,
      "outputs": [
        {
          "output_type": "stream",
          "name": "stdout",
          "text": [
            "Epoch 1/10\n",
            "83/83 [==============================] - 1s 3ms/step - loss: 97.8235 - mse: 97.8235 - val_loss: 83.7489 - val_mse: 83.7489\n",
            "Epoch 2/10\n",
            "83/83 [==============================] - 0s 1ms/step - loss: 66.0444 - mse: 66.0444 - val_loss: 47.2948 - val_mse: 47.2948\n",
            "Epoch 3/10\n",
            "83/83 [==============================] - 0s 1ms/step - loss: 31.2606 - mse: 31.2606 - val_loss: 18.9639 - val_mse: 18.9639\n",
            "Epoch 4/10\n",
            "83/83 [==============================] - 0s 1ms/step - loss: 12.9971 - mse: 12.9971 - val_loss: 9.8988 - val_mse: 9.8988\n",
            "Epoch 5/10\n",
            "83/83 [==============================] - 0s 1ms/step - loss: 9.1074 - mse: 9.1074 - val_loss: 8.7558 - val_mse: 8.7558\n",
            "Epoch 6/10\n",
            "83/83 [==============================] - 0s 1ms/step - loss: 8.6445 - mse: 8.6445 - val_loss: 8.5077 - val_mse: 8.5077\n",
            "Epoch 7/10\n",
            "83/83 [==============================] - 0s 1ms/step - loss: 8.4379 - mse: 8.4379 - val_loss: 8.2976 - val_mse: 8.2976\n",
            "Epoch 8/10\n",
            "83/83 [==============================] - 0s 2ms/step - loss: 8.2465 - mse: 8.2465 - val_loss: 8.1077 - val_mse: 8.1077\n",
            "Epoch 9/10\n",
            "83/83 [==============================] - 0s 1ms/step - loss: 8.0595 - mse: 8.0595 - val_loss: 7.9209 - val_mse: 7.9209\n",
            "Epoch 10/10\n",
            "83/83 [==============================] - 0s 1ms/step - loss: 7.8831 - mse: 7.8831 - val_loss: 7.7510 - val_mse: 7.7510\n"
          ]
        }
      ]
    },
    {
      "cell_type": "markdown",
      "metadata": {
        "id": "WoBTvB3-co_4"
      },
      "source": [
        "### How to apply preprocessing to normalize numeric columns.\n",
        "It's a good practice to normalize features that have different scales and range.\n",
        "Features are multiplied by model weight so the scale of the output and the scale of the gradient are affected by the scale of the input"
      ]
    },
    {
      "cell_type": "code",
      "metadata": {
        "colab": {
          "base_uri": "https://localhost:8080/",
          "height": 297
        },
        "id": "vCOfdkeLbLf5",
        "outputId": "d7098180-bf68-42e9-a511-2e91bc491bff"
      },
      "source": [
        "abalone_df.describe()"
      ],
      "execution_count": 13,
      "outputs": [
        {
          "output_type": "execute_result",
          "data": {
            "text/html": [
              "<div>\n",
              "<style scoped>\n",
              "    .dataframe tbody tr th:only-of-type {\n",
              "        vertical-align: middle;\n",
              "    }\n",
              "\n",
              "    .dataframe tbody tr th {\n",
              "        vertical-align: top;\n",
              "    }\n",
              "\n",
              "    .dataframe thead th {\n",
              "        text-align: right;\n",
              "    }\n",
              "</style>\n",
              "<table border=\"1\" class=\"dataframe\">\n",
              "  <thead>\n",
              "    <tr style=\"text-align: right;\">\n",
              "      <th></th>\n",
              "      <th>Length</th>\n",
              "      <th>Diameter</th>\n",
              "      <th>Height</th>\n",
              "      <th>Whole weight</th>\n",
              "      <th>Shucked weight</th>\n",
              "      <th>Viscera weight</th>\n",
              "      <th>Shell weight</th>\n",
              "      <th>Age</th>\n",
              "    </tr>\n",
              "  </thead>\n",
              "  <tbody>\n",
              "    <tr>\n",
              "      <th>count</th>\n",
              "      <td>3320.000000</td>\n",
              "      <td>3320.000000</td>\n",
              "      <td>3320.000000</td>\n",
              "      <td>3320.000000</td>\n",
              "      <td>3320.000000</td>\n",
              "      <td>3320.000000</td>\n",
              "      <td>3320.000000</td>\n",
              "      <td>3320.000000</td>\n",
              "    </tr>\n",
              "    <tr>\n",
              "      <th>mean</th>\n",
              "      <td>0.522693</td>\n",
              "      <td>0.406575</td>\n",
              "      <td>0.139271</td>\n",
              "      <td>0.824734</td>\n",
              "      <td>0.357705</td>\n",
              "      <td>0.180162</td>\n",
              "      <td>0.237921</td>\n",
              "      <td>9.896988</td>\n",
              "    </tr>\n",
              "    <tr>\n",
              "      <th>std</th>\n",
              "      <td>0.121164</td>\n",
              "      <td>0.100120</td>\n",
              "      <td>0.042708</td>\n",
              "      <td>0.491182</td>\n",
              "      <td>0.222223</td>\n",
              "      <td>0.110182</td>\n",
              "      <td>0.140261</td>\n",
              "      <td>3.205654</td>\n",
              "    </tr>\n",
              "    <tr>\n",
              "      <th>min</th>\n",
              "      <td>0.075000</td>\n",
              "      <td>0.055000</td>\n",
              "      <td>0.000000</td>\n",
              "      <td>0.002000</td>\n",
              "      <td>0.001000</td>\n",
              "      <td>0.000500</td>\n",
              "      <td>0.001500</td>\n",
              "      <td>1.000000</td>\n",
              "    </tr>\n",
              "    <tr>\n",
              "      <th>25%</th>\n",
              "      <td>0.450000</td>\n",
              "      <td>0.345000</td>\n",
              "      <td>0.115000</td>\n",
              "      <td>0.436375</td>\n",
              "      <td>0.181500</td>\n",
              "      <td>0.092000</td>\n",
              "      <td>0.127375</td>\n",
              "      <td>8.000000</td>\n",
              "    </tr>\n",
              "    <tr>\n",
              "      <th>50%</th>\n",
              "      <td>0.540000</td>\n",
              "      <td>0.425000</td>\n",
              "      <td>0.140000</td>\n",
              "      <td>0.795250</td>\n",
              "      <td>0.335500</td>\n",
              "      <td>0.170750</td>\n",
              "      <td>0.230000</td>\n",
              "      <td>9.000000</td>\n",
              "    </tr>\n",
              "    <tr>\n",
              "      <th>75%</th>\n",
              "      <td>0.615000</td>\n",
              "      <td>0.480000</td>\n",
              "      <td>0.165000</td>\n",
              "      <td>1.150000</td>\n",
              "      <td>0.504500</td>\n",
              "      <td>0.253125</td>\n",
              "      <td>0.325000</td>\n",
              "      <td>11.000000</td>\n",
              "    </tr>\n",
              "    <tr>\n",
              "      <th>max</th>\n",
              "      <td>0.815000</td>\n",
              "      <td>0.650000</td>\n",
              "      <td>1.130000</td>\n",
              "      <td>2.825500</td>\n",
              "      <td>1.488000</td>\n",
              "      <td>0.760000</td>\n",
              "      <td>1.005000</td>\n",
              "      <td>27.000000</td>\n",
              "    </tr>\n",
              "  </tbody>\n",
              "</table>\n",
              "</div>"
            ],
            "text/plain": [
              "            Length     Diameter  ...  Shell weight          Age\n",
              "count  3320.000000  3320.000000  ...   3320.000000  3320.000000\n",
              "mean      0.522693     0.406575  ...      0.237921     9.896988\n",
              "std       0.121164     0.100120  ...      0.140261     3.205654\n",
              "min       0.075000     0.055000  ...      0.001500     1.000000\n",
              "25%       0.450000     0.345000  ...      0.127375     8.000000\n",
              "50%       0.540000     0.425000  ...      0.230000     9.000000\n",
              "75%       0.615000     0.480000  ...      0.325000    11.000000\n",
              "max       0.815000     0.650000  ...      1.005000    27.000000\n",
              "\n",
              "[8 rows x 8 columns]"
            ]
          },
          "metadata": {},
          "execution_count": 13
        }
      ]
    },
    {
      "cell_type": "code",
      "metadata": {
        "id": "tt6o0nYYd9-Y"
      },
      "source": [
        "normalizer = tf.keras.layers.experimental.preprocessing.Normalization()\n",
        "normalizer.adapt(abalone_features)"
      ],
      "execution_count": 14,
      "outputs": []
    },
    {
      "cell_type": "code",
      "metadata": {
        "colab": {
          "base_uri": "https://localhost:8080/"
        },
        "id": "I-iyHYfhe83v",
        "outputId": "0c128f38-48d4-4f5a-b1c9-76a637943e34"
      },
      "source": [
        "alabone_model_normalized = tf.keras.Sequential([\n",
        "                                                normalizer,\n",
        "                                                tf.keras.layers.Dense(32, 'relu'),\n",
        "                                                tf.keras.layers.Dense(1)\n",
        "])\n",
        "# compile \n",
        "alabone_model_normalized.compile(optimizer='adam', loss='mean_squared_error', metrics=['mse'])\n",
        "# train\n",
        "alabone_model_normalized_history = alabone_model_normalized.fit(abalone_features, abalone_labels, epochs=10, validation_split=0.2, callbacks=[early_stopping_cb])"
      ],
      "execution_count": 18,
      "outputs": [
        {
          "output_type": "stream",
          "name": "stdout",
          "text": [
            "Epoch 1/10\n",
            "83/83 [==============================] - 1s 3ms/step - loss: 91.0261 - mse: 91.0261 - val_loss: 72.3000 - val_mse: 72.3000\n",
            "Epoch 2/10\n",
            "83/83 [==============================] - 0s 1ms/step - loss: 58.0323 - mse: 58.0323 - val_loss: 43.8716 - val_mse: 43.8716\n",
            "Epoch 3/10\n",
            "83/83 [==============================] - 0s 2ms/step - loss: 37.9976 - mse: 37.9976 - val_loss: 31.3391 - val_mse: 31.3391\n",
            "Epoch 4/10\n",
            "83/83 [==============================] - 0s 1ms/step - loss: 30.6579 - mse: 30.6579 - val_loss: 26.6261 - val_mse: 26.6261\n",
            "Epoch 5/10\n",
            "83/83 [==============================] - 0s 2ms/step - loss: 25.9872 - mse: 25.9872 - val_loss: 22.2142 - val_mse: 22.2142\n",
            "Epoch 6/10\n",
            "83/83 [==============================] - 0s 2ms/step - loss: 20.8873 - mse: 20.8873 - val_loss: 17.2580 - val_mse: 17.2580\n",
            "Epoch 7/10\n",
            "83/83 [==============================] - 0s 1ms/step - loss: 15.6987 - mse: 15.6987 - val_loss: 12.6346 - val_mse: 12.6346\n",
            "Epoch 8/10\n",
            "83/83 [==============================] - 0s 2ms/step - loss: 11.4312 - mse: 11.4312 - val_loss: 9.2352 - val_mse: 9.2352\n",
            "Epoch 9/10\n",
            "83/83 [==============================] - 0s 1ms/step - loss: 8.6612 - mse: 8.6612 - val_loss: 7.4355 - val_mse: 7.4355\n",
            "Epoch 10/10\n",
            "83/83 [==============================] - 0s 2ms/step - loss: 7.3015 - mse: 7.3015 - val_loss: 6.6669 - val_mse: 6.6669\n"
          ]
        }
      ]
    },
    {
      "cell_type": "markdown",
      "metadata": {
        "id": "1BiNzf2tgmop"
      },
      "source": [
        "### Hyperparameter tuning"
      ]
    },
    {
      "cell_type": "code",
      "metadata": {
        "colab": {
          "base_uri": "https://localhost:8080/"
        },
        "id": "KLFNkY6dfO0w",
        "outputId": "2425a03b-462d-4b1a-abee-8915190ad47c"
      },
      "source": [
        "pip install keras-tuner"
      ],
      "execution_count": 20,
      "outputs": [
        {
          "output_type": "stream",
          "name": "stdout",
          "text": [
            "Collecting keras-tuner\n",
            "  Downloading keras_tuner-1.0.4-py3-none-any.whl (97 kB)\n",
            "\u001b[?25l\r\u001b[K     |███▍                            | 10 kB 25.4 MB/s eta 0:00:01\r\u001b[K     |██████▊                         | 20 kB 31.7 MB/s eta 0:00:01\r\u001b[K     |██████████                      | 30 kB 26.8 MB/s eta 0:00:01\r\u001b[K     |█████████████▍                  | 40 kB 20.4 MB/s eta 0:00:01\r\u001b[K     |████████████████▊               | 51 kB 8.5 MB/s eta 0:00:01\r\u001b[K     |████████████████████            | 61 kB 8.8 MB/s eta 0:00:01\r\u001b[K     |███████████████████████▍        | 71 kB 7.4 MB/s eta 0:00:01\r\u001b[K     |██████████████████████████▊     | 81 kB 8.2 MB/s eta 0:00:01\r\u001b[K     |██████████████████████████████▏ | 92 kB 8.4 MB/s eta 0:00:01\r\u001b[K     |████████████████████████████████| 97 kB 4.5 MB/s \n",
            "\u001b[?25hRequirement already satisfied: tensorboard in /usr/local/lib/python3.7/dist-packages (from keras-tuner) (2.6.0)\n",
            "Collecting kt-legacy\n",
            "  Downloading kt_legacy-1.0.4-py3-none-any.whl (9.6 kB)\n",
            "Requirement already satisfied: ipython in /usr/local/lib/python3.7/dist-packages (from keras-tuner) (5.5.0)\n",
            "Requirement already satisfied: scipy in /usr/local/lib/python3.7/dist-packages (from keras-tuner) (1.4.1)\n",
            "Requirement already satisfied: numpy in /usr/local/lib/python3.7/dist-packages (from keras-tuner) (1.19.5)\n",
            "Requirement already satisfied: packaging in /usr/local/lib/python3.7/dist-packages (from keras-tuner) (21.0)\n",
            "Requirement already satisfied: requests in /usr/local/lib/python3.7/dist-packages (from keras-tuner) (2.23.0)\n",
            "Requirement already satisfied: prompt-toolkit<2.0.0,>=1.0.4 in /usr/local/lib/python3.7/dist-packages (from ipython->keras-tuner) (1.0.18)\n",
            "Requirement already satisfied: traitlets>=4.2 in /usr/local/lib/python3.7/dist-packages (from ipython->keras-tuner) (5.1.0)\n",
            "Requirement already satisfied: decorator in /usr/local/lib/python3.7/dist-packages (from ipython->keras-tuner) (4.4.2)\n",
            "Requirement already satisfied: simplegeneric>0.8 in /usr/local/lib/python3.7/dist-packages (from ipython->keras-tuner) (0.8.1)\n",
            "Requirement already satisfied: setuptools>=18.5 in /usr/local/lib/python3.7/dist-packages (from ipython->keras-tuner) (57.4.0)\n",
            "Requirement already satisfied: pygments in /usr/local/lib/python3.7/dist-packages (from ipython->keras-tuner) (2.6.1)\n",
            "Requirement already satisfied: pexpect in /usr/local/lib/python3.7/dist-packages (from ipython->keras-tuner) (4.8.0)\n",
            "Requirement already satisfied: pickleshare in /usr/local/lib/python3.7/dist-packages (from ipython->keras-tuner) (0.7.5)\n",
            "Requirement already satisfied: wcwidth in /usr/local/lib/python3.7/dist-packages (from prompt-toolkit<2.0.0,>=1.0.4->ipython->keras-tuner) (0.2.5)\n",
            "Requirement already satisfied: six>=1.9.0 in /usr/local/lib/python3.7/dist-packages (from prompt-toolkit<2.0.0,>=1.0.4->ipython->keras-tuner) (1.15.0)\n",
            "Requirement already satisfied: pyparsing>=2.0.2 in /usr/local/lib/python3.7/dist-packages (from packaging->keras-tuner) (2.4.7)\n",
            "Requirement already satisfied: ptyprocess>=0.5 in /usr/local/lib/python3.7/dist-packages (from pexpect->ipython->keras-tuner) (0.7.0)\n",
            "Requirement already satisfied: urllib3!=1.25.0,!=1.25.1,<1.26,>=1.21.1 in /usr/local/lib/python3.7/dist-packages (from requests->keras-tuner) (1.24.3)\n",
            "Requirement already satisfied: idna<3,>=2.5 in /usr/local/lib/python3.7/dist-packages (from requests->keras-tuner) (2.10)\n",
            "Requirement already satisfied: chardet<4,>=3.0.2 in /usr/local/lib/python3.7/dist-packages (from requests->keras-tuner) (3.0.4)\n",
            "Requirement already satisfied: certifi>=2017.4.17 in /usr/local/lib/python3.7/dist-packages (from requests->keras-tuner) (2021.5.30)\n",
            "Requirement already satisfied: grpcio>=1.24.3 in /usr/local/lib/python3.7/dist-packages (from tensorboard->keras-tuner) (1.40.0)\n",
            "Requirement already satisfied: wheel>=0.26 in /usr/local/lib/python3.7/dist-packages (from tensorboard->keras-tuner) (0.37.0)\n",
            "Requirement already satisfied: tensorboard-data-server<0.7.0,>=0.6.0 in /usr/local/lib/python3.7/dist-packages (from tensorboard->keras-tuner) (0.6.1)\n",
            "Requirement already satisfied: absl-py>=0.4 in /usr/local/lib/python3.7/dist-packages (from tensorboard->keras-tuner) (0.12.0)\n",
            "Requirement already satisfied: google-auth<2,>=1.6.3 in /usr/local/lib/python3.7/dist-packages (from tensorboard->keras-tuner) (1.35.0)\n",
            "Requirement already satisfied: google-auth-oauthlib<0.5,>=0.4.1 in /usr/local/lib/python3.7/dist-packages (from tensorboard->keras-tuner) (0.4.6)\n",
            "Requirement already satisfied: protobuf>=3.6.0 in /usr/local/lib/python3.7/dist-packages (from tensorboard->keras-tuner) (3.17.3)\n",
            "Requirement already satisfied: markdown>=2.6.8 in /usr/local/lib/python3.7/dist-packages (from tensorboard->keras-tuner) (3.3.4)\n",
            "Requirement already satisfied: tensorboard-plugin-wit>=1.6.0 in /usr/local/lib/python3.7/dist-packages (from tensorboard->keras-tuner) (1.8.0)\n",
            "Requirement already satisfied: werkzeug>=0.11.15 in /usr/local/lib/python3.7/dist-packages (from tensorboard->keras-tuner) (1.0.1)\n",
            "Requirement already satisfied: rsa<5,>=3.1.4 in /usr/local/lib/python3.7/dist-packages (from google-auth<2,>=1.6.3->tensorboard->keras-tuner) (4.7.2)\n",
            "Requirement already satisfied: cachetools<5.0,>=2.0.0 in /usr/local/lib/python3.7/dist-packages (from google-auth<2,>=1.6.3->tensorboard->keras-tuner) (4.2.2)\n",
            "Requirement already satisfied: pyasn1-modules>=0.2.1 in /usr/local/lib/python3.7/dist-packages (from google-auth<2,>=1.6.3->tensorboard->keras-tuner) (0.2.8)\n",
            "Requirement already satisfied: requests-oauthlib>=0.7.0 in /usr/local/lib/python3.7/dist-packages (from google-auth-oauthlib<0.5,>=0.4.1->tensorboard->keras-tuner) (1.3.0)\n",
            "Requirement already satisfied: importlib-metadata in /usr/local/lib/python3.7/dist-packages (from markdown>=2.6.8->tensorboard->keras-tuner) (4.8.1)\n",
            "Requirement already satisfied: pyasn1<0.5.0,>=0.4.6 in /usr/local/lib/python3.7/dist-packages (from pyasn1-modules>=0.2.1->google-auth<2,>=1.6.3->tensorboard->keras-tuner) (0.4.8)\n",
            "Requirement already satisfied: oauthlib>=3.0.0 in /usr/local/lib/python3.7/dist-packages (from requests-oauthlib>=0.7.0->google-auth-oauthlib<0.5,>=0.4.1->tensorboard->keras-tuner) (3.1.1)\n",
            "Requirement already satisfied: typing-extensions>=3.6.4 in /usr/local/lib/python3.7/dist-packages (from importlib-metadata->markdown>=2.6.8->tensorboard->keras-tuner) (3.7.4.3)\n",
            "Requirement already satisfied: zipp>=0.5 in /usr/local/lib/python3.7/dist-packages (from importlib-metadata->markdown>=2.6.8->tensorboard->keras-tuner) (3.5.0)\n",
            "Installing collected packages: kt-legacy, keras-tuner\n",
            "Successfully installed keras-tuner-1.0.4 kt-legacy-1.0.4\n"
          ]
        }
      ]
    },
    {
      "cell_type": "code",
      "metadata": {
        "id": "FlBZOenGguo_"
      },
      "source": [
        "import keras_tuner as kt"
      ],
      "execution_count": 21,
      "outputs": []
    },
    {
      "cell_type": "code",
      "metadata": {
        "id": "f0GNw0e7g3D_"
      },
      "source": [
        "# hyper model building\n",
        "def build_hypermodel(hp):\n",
        "  model = tf.keras.Sequential()\n",
        "  # tune the number of units in hidden layer#1\n",
        "  hp_units = hp.Int('units', min_value=32, max_value=512, step=32)\n",
        "  model.add(tf.keras.layers.Dense(hp_units, 'relu'))\n",
        "  model.add(tf.keras.layers.Dense(1))\n",
        "  # compile\n",
        "  model.compile(optimizer='adam', loss= 'mse', metrics=['mse'])\n",
        "  # return compiled model\n",
        "  return model"
      ],
      "execution_count": 41,
      "outputs": []
    },
    {
      "cell_type": "code",
      "metadata": {
        "id": "ORJZJJNbilGH"
      },
      "source": [
        "# Instantiate the tuner and perform hypertuning\n",
        "tuner = kt.Hyperband(hypermodel=build_hypermodel, objective='val_mse', max_epochs=25, factor=3, directory='my_dir', project_name='into_to_kt', overwrite=True)"
      ],
      "execution_count": 42,
      "outputs": []
    },
    {
      "cell_type": "code",
      "metadata": {
        "id": "wgiDs5pUjxiH"
      },
      "source": [
        "# early stopping callback\n",
        "def early_stop():\n",
        "  return tf.keras.callbacks.EarlyStopping()"
      ],
      "execution_count": 39,
      "outputs": []
    },
    {
      "cell_type": "code",
      "metadata": {
        "colab": {
          "base_uri": "https://localhost:8080/"
        },
        "id": "0rsqdZgIjN60",
        "outputId": "2129f05b-e700-4ff6-f9a0-f991de72ebda"
      },
      "source": [
        "early_stop_cb = early_stop()\n",
        "tuner.search(abalone_features, abalone_labels, epochs=50, validation_split=0.2, callbacks=[early_stop_cb])"
      ],
      "execution_count": 43,
      "outputs": [
        {
          "output_type": "stream",
          "name": "stdout",
          "text": [
            "Trial 21 Complete [00h 00m 00s]\n",
            "val_mse: 19.168598175048828\n",
            "\n",
            "Best val_mse So Far: 9.020617485046387\n",
            "Total elapsed time: 00h 00m 17s\n",
            "INFO:tensorflow:Oracle triggered exit\n"
          ]
        }
      ]
    },
    {
      "cell_type": "code",
      "metadata": {
        "colab": {
          "base_uri": "https://localhost:8080/"
        },
        "id": "3zb7hm7xjk7N",
        "outputId": "95e046cf-f629-4aa2-8c99-0c8634c74c34"
      },
      "source": [
        "best_hps = tuner.get_best_hyperparameters(num_trials=1)[0]\n",
        "print('Best Hyperparameters found \\n Number of units in 1st hidden layer',best_hps.get('units'))"
      ],
      "execution_count": 44,
      "outputs": [
        {
          "output_type": "stream",
          "name": "stdout",
          "text": [
            "Best Hyperparameters found \n",
            " Number of units in 1st hidden layer 480\n"
          ]
        }
      ]
    },
    {
      "cell_type": "code",
      "metadata": {
        "id": "Qzb5Z1t5kneA"
      },
      "source": [
        "final_abalone_model = tuner.hypermodel.build(best_hps)"
      ],
      "execution_count": 45,
      "outputs": []
    },
    {
      "cell_type": "code",
      "metadata": {
        "colab": {
          "base_uri": "https://localhost:8080/"
        },
        "id": "_q9cg8Rck5LJ",
        "outputId": "9dfc6f6e-ecff-44d0-f719-3e5cebea9a7c"
      },
      "source": [
        "final_abalone_model.fit(abalone_features, abalone_labels, epochs=10, validation_split=0.2)"
      ],
      "execution_count": 47,
      "outputs": [
        {
          "output_type": "stream",
          "name": "stdout",
          "text": [
            "Epoch 1/10\n",
            "83/83 [==============================] - 0s 2ms/step - loss: 8.8153 - mse: 8.8153 - val_loss: 8.2294 - val_mse: 8.2294\n",
            "Epoch 2/10\n",
            "83/83 [==============================] - 0s 2ms/step - loss: 7.8401 - mse: 7.8401 - val_loss: 7.3939 - val_mse: 7.3939\n",
            "Epoch 3/10\n",
            "83/83 [==============================] - 0s 2ms/step - loss: 7.1174 - mse: 7.1174 - val_loss: 6.8567 - val_mse: 6.8567\n",
            "Epoch 4/10\n",
            "83/83 [==============================] - 0s 2ms/step - loss: 6.6961 - mse: 6.6961 - val_loss: 6.5326 - val_mse: 6.5326\n",
            "Epoch 5/10\n",
            "83/83 [==============================] - 0s 2ms/step - loss: 6.4432 - mse: 6.4432 - val_loss: 6.2760 - val_mse: 6.2760\n",
            "Epoch 6/10\n",
            "83/83 [==============================] - 0s 2ms/step - loss: 6.2236 - mse: 6.2236 - val_loss: 6.1691 - val_mse: 6.1691\n",
            "Epoch 7/10\n",
            "83/83 [==============================] - 0s 2ms/step - loss: 6.0184 - mse: 6.0184 - val_loss: 5.9122 - val_mse: 5.9122\n",
            "Epoch 8/10\n",
            "83/83 [==============================] - 0s 2ms/step - loss: 5.8143 - mse: 5.8143 - val_loss: 5.7235 - val_mse: 5.7235\n",
            "Epoch 9/10\n",
            "83/83 [==============================] - 0s 2ms/step - loss: 5.6668 - mse: 5.6668 - val_loss: 5.7514 - val_mse: 5.7514\n",
            "Epoch 10/10\n",
            "83/83 [==============================] - 0s 2ms/step - loss: 5.4540 - mse: 5.4540 - val_loss: 5.4332 - val_mse: 5.4332\n"
          ]
        },
        {
          "output_type": "execute_result",
          "data": {
            "text/plain": [
              "<keras.callbacks.History at 0x7f7d44c86810>"
            ]
          },
          "metadata": {},
          "execution_count": 47
        }
      ]
    },
    {
      "cell_type": "markdown",
      "metadata": {
        "id": "bRP7n_HZm8aM"
      },
      "source": [
        "## The \"Titanic\" dataset\n",
        "**Mixed data types**<br>\n",
        "The \"Titanic\" dataset contains information about the passengers on the Titanic. The nominal task on this dataset is to predict who survived."
      ]
    },
    {
      "cell_type": "code",
      "metadata": {
        "colab": {
          "base_uri": "https://localhost:8080/",
          "height": 142
        },
        "id": "_Q9YXclXlOyP",
        "outputId": "6867b6e5-2329-4114-e552-26d077c5feda"
      },
      "source": [
        "titanic = pd.read_csv(\"https://storage.googleapis.com/tf-datasets/titanic/train.csv\")\n",
        "titanic.head(3)"
      ],
      "execution_count": 48,
      "outputs": [
        {
          "output_type": "execute_result",
          "data": {
            "text/html": [
              "<div>\n",
              "<style scoped>\n",
              "    .dataframe tbody tr th:only-of-type {\n",
              "        vertical-align: middle;\n",
              "    }\n",
              "\n",
              "    .dataframe tbody tr th {\n",
              "        vertical-align: top;\n",
              "    }\n",
              "\n",
              "    .dataframe thead th {\n",
              "        text-align: right;\n",
              "    }\n",
              "</style>\n",
              "<table border=\"1\" class=\"dataframe\">\n",
              "  <thead>\n",
              "    <tr style=\"text-align: right;\">\n",
              "      <th></th>\n",
              "      <th>survived</th>\n",
              "      <th>sex</th>\n",
              "      <th>age</th>\n",
              "      <th>n_siblings_spouses</th>\n",
              "      <th>parch</th>\n",
              "      <th>fare</th>\n",
              "      <th>class</th>\n",
              "      <th>deck</th>\n",
              "      <th>embark_town</th>\n",
              "      <th>alone</th>\n",
              "    </tr>\n",
              "  </thead>\n",
              "  <tbody>\n",
              "    <tr>\n",
              "      <th>0</th>\n",
              "      <td>0</td>\n",
              "      <td>male</td>\n",
              "      <td>22.0</td>\n",
              "      <td>1</td>\n",
              "      <td>0</td>\n",
              "      <td>7.2500</td>\n",
              "      <td>Third</td>\n",
              "      <td>unknown</td>\n",
              "      <td>Southampton</td>\n",
              "      <td>n</td>\n",
              "    </tr>\n",
              "    <tr>\n",
              "      <th>1</th>\n",
              "      <td>1</td>\n",
              "      <td>female</td>\n",
              "      <td>38.0</td>\n",
              "      <td>1</td>\n",
              "      <td>0</td>\n",
              "      <td>71.2833</td>\n",
              "      <td>First</td>\n",
              "      <td>C</td>\n",
              "      <td>Cherbourg</td>\n",
              "      <td>n</td>\n",
              "    </tr>\n",
              "    <tr>\n",
              "      <th>2</th>\n",
              "      <td>1</td>\n",
              "      <td>female</td>\n",
              "      <td>26.0</td>\n",
              "      <td>0</td>\n",
              "      <td>0</td>\n",
              "      <td>7.9250</td>\n",
              "      <td>Third</td>\n",
              "      <td>unknown</td>\n",
              "      <td>Southampton</td>\n",
              "      <td>y</td>\n",
              "    </tr>\n",
              "  </tbody>\n",
              "</table>\n",
              "</div>"
            ],
            "text/plain": [
              "   survived     sex   age  ...     deck  embark_town  alone\n",
              "0         0    male  22.0  ...  unknown  Southampton      n\n",
              "1         1  female  38.0  ...        C    Cherbourg      n\n",
              "2         1  female  26.0  ...  unknown  Southampton      y\n",
              "\n",
              "[3 rows x 10 columns]"
            ]
          },
          "metadata": {},
          "execution_count": 48
        }
      ]
    },
    {
      "cell_type": "code",
      "metadata": {
        "colab": {
          "base_uri": "https://localhost:8080/"
        },
        "id": "j5xN0aiznJd5",
        "outputId": "08fa3cc7-6200-4a8c-e913-77391aa39534"
      },
      "source": [
        "# check for missing values\n",
        "titanic.isna().sum()"
      ],
      "execution_count": 49,
      "outputs": [
        {
          "output_type": "execute_result",
          "data": {
            "text/plain": [
              "survived              0\n",
              "sex                   0\n",
              "age                   0\n",
              "n_siblings_spouses    0\n",
              "parch                 0\n",
              "fare                  0\n",
              "class                 0\n",
              "deck                  0\n",
              "embark_town           0\n",
              "alone                 0\n",
              "dtype: int64"
            ]
          },
          "metadata": {},
          "execution_count": 49
        }
      ]
    },
    {
      "cell_type": "code",
      "metadata": {
        "id": "pmTKjbvsnPex"
      },
      "source": [
        "# features and labels\n",
        "titanic_features = titanic.copy()\n",
        "titanic_lables = titanic_features.pop('survived')"
      ],
      "execution_count": 50,
      "outputs": []
    },
    {
      "cell_type": "code",
      "metadata": {
        "colab": {
          "base_uri": "https://localhost:8080/",
          "height": 142
        },
        "id": "JZAwXRCtnfIi",
        "outputId": "cd83dd19-a0c4-4a21-8c02-9d3006fda8ae"
      },
      "source": [
        "titanic_features.describe().iloc[:3]"
      ],
      "execution_count": 71,
      "outputs": [
        {
          "output_type": "execute_result",
          "data": {
            "text/html": [
              "<div>\n",
              "<style scoped>\n",
              "    .dataframe tbody tr th:only-of-type {\n",
              "        vertical-align: middle;\n",
              "    }\n",
              "\n",
              "    .dataframe tbody tr th {\n",
              "        vertical-align: top;\n",
              "    }\n",
              "\n",
              "    .dataframe thead th {\n",
              "        text-align: right;\n",
              "    }\n",
              "</style>\n",
              "<table border=\"1\" class=\"dataframe\">\n",
              "  <thead>\n",
              "    <tr style=\"text-align: right;\">\n",
              "      <th></th>\n",
              "      <th>age</th>\n",
              "      <th>n_siblings_spouses</th>\n",
              "      <th>parch</th>\n",
              "      <th>fare</th>\n",
              "    </tr>\n",
              "  </thead>\n",
              "  <tbody>\n",
              "    <tr>\n",
              "      <th>count</th>\n",
              "      <td>627.000000</td>\n",
              "      <td>627.000000</td>\n",
              "      <td>627.000000</td>\n",
              "      <td>627.000000</td>\n",
              "    </tr>\n",
              "    <tr>\n",
              "      <th>mean</th>\n",
              "      <td>29.631308</td>\n",
              "      <td>0.545455</td>\n",
              "      <td>0.379585</td>\n",
              "      <td>34.385399</td>\n",
              "    </tr>\n",
              "    <tr>\n",
              "      <th>std</th>\n",
              "      <td>12.511818</td>\n",
              "      <td>1.151090</td>\n",
              "      <td>0.792999</td>\n",
              "      <td>54.597730</td>\n",
              "    </tr>\n",
              "  </tbody>\n",
              "</table>\n",
              "</div>"
            ],
            "text/plain": [
              "              age  n_siblings_spouses       parch        fare\n",
              "count  627.000000          627.000000  627.000000  627.000000\n",
              "mean    29.631308            0.545455    0.379585   34.385399\n",
              "std     12.511818            1.151090    0.792999   54.597730"
            ]
          },
          "metadata": {},
          "execution_count": 71
        }
      ]
    },
    {
      "cell_type": "code",
      "metadata": {
        "colab": {
          "base_uri": "https://localhost:8080/"
        },
        "id": "D2DwlYvgnknl",
        "outputId": "8c0ae978-7932-48e7-b48b-f13546f4ebaf"
      },
      "source": [
        "titanic_features.info()"
      ],
      "execution_count": 64,
      "outputs": [
        {
          "output_type": "stream",
          "name": "stdout",
          "text": [
            "<class 'pandas.core.frame.DataFrame'>\n",
            "RangeIndex: 627 entries, 0 to 626\n",
            "Data columns (total 9 columns):\n",
            " #   Column              Non-Null Count  Dtype  \n",
            "---  ------              --------------  -----  \n",
            " 0   sex                 627 non-null    object \n",
            " 1   age                 627 non-null    float64\n",
            " 2   n_siblings_spouses  627 non-null    int64  \n",
            " 3   parch               627 non-null    int64  \n",
            " 4   fare                627 non-null    float64\n",
            " 5   class               627 non-null    object \n",
            " 6   deck                627 non-null    object \n",
            " 7   embark_town         627 non-null    object \n",
            " 8   alone               627 non-null    object \n",
            "dtypes: float64(2), int64(2), object(5)\n",
            "memory usage: 44.2+ KB\n"
          ]
        }
      ]
    },
    {
      "cell_type": "markdown",
      "metadata": {
        "id": "3J5eYIS3pVVX"
      },
      "source": [
        "Because of the different data types and ranges you can't simply stack the features into `NumPy array` and pass it to a `keras.Sequential model`. Each column needs to be handled individually.\n",
        "\n",
        "As one option, you could preprocess your data offline (using any tool you like) to convert categorical columns to numeric columns, then pass the processed output to your TensorFlow model. The disadvantage to that approach is that if you save and export your model the preprocessing is not saved with it. The experimental.preprocessing layers avoid this problem because they're part of the model.\n",
        "\n",
        "\n",
        "The `functional API` operates on `\"symbolic\"` tensors. Normal `\"eager\"` tensors have a value. In contrast these `\"symbolic\"` tensors do not. **Instead they keep track of which operations are run on them, and build representation of the calculation, that you can run later**\n",
        "\n",
        "\n",
        "To build the preprocessing model, start by building a set of symbolic keras.Input objects, matching the names and data-types of the CSV columns.\n",
        "\n"
      ]
    },
    {
      "cell_type": "code",
      "metadata": {
        "colab": {
          "base_uri": "https://localhost:8080/"
        },
        "id": "wtFItFsSoXfM",
        "outputId": "b3da30dc-4fa0-4b77-dd20-f017cf0aafbf"
      },
      "source": [
        "inputs = {}\n",
        "\n",
        "for name, values in titanic_features.items():\n",
        "  dtype = values.dtype\n",
        "  if dtype == 'object':\n",
        "    dtype= tf.string\n",
        "  else:\n",
        "    dtype = tf.int64 if dtype=='int64' else tf.float64\n",
        "  inputs[name]=tf.keras.Input(shape=(1,), name=name, dtype=dtype)\n",
        "\n",
        "inputs"
      ],
      "execution_count": 115,
      "outputs": [
        {
          "output_type": "execute_result",
          "data": {
            "text/plain": [
              "{'age': <KerasTensor: shape=(None, 1) dtype=float64 (created by layer 'age')>,\n",
              " 'alone': <KerasTensor: shape=(None, 1) dtype=string (created by layer 'alone')>,\n",
              " 'class': <KerasTensor: shape=(None, 1) dtype=string (created by layer 'class')>,\n",
              " 'deck': <KerasTensor: shape=(None, 1) dtype=string (created by layer 'deck')>,\n",
              " 'embark_town': <KerasTensor: shape=(None, 1) dtype=string (created by layer 'embark_town')>,\n",
              " 'fare': <KerasTensor: shape=(None, 1) dtype=float64 (created by layer 'fare')>,\n",
              " 'n_siblings_spouses': <KerasTensor: shape=(None, 1) dtype=int64 (created by layer 'n_siblings_spouses')>,\n",
              " 'parch': <KerasTensor: shape=(None, 1) dtype=int64 (created by layer 'parch')>,\n",
              " 'sex': <KerasTensor: shape=(None, 1) dtype=string (created by layer 'sex')>}"
            ]
          },
          "metadata": {},
          "execution_count": 115
        }
      ]
    },
    {
      "cell_type": "markdown",
      "metadata": {
        "id": "NCx2w4rntCO8"
      },
      "source": [
        "The first step in your preprocessing logic is to concatenate the numeric inputs together, and run them through a normalization layer:"
      ]
    },
    {
      "cell_type": "code",
      "metadata": {
        "id": "knpflHnNsUDz"
      },
      "source": [
        "numerical_inputs = {k:v for k,v in inputs.items() if v.dtype==tf.float64}\n",
        "int_cat_inputs = {k:v for k,v in inputs.items() if v.dtype==tf.int64}\n",
        "str_cat_inputs = {k:v for k,v in inputs.items() if v.dtype==tf.string}"
      ],
      "execution_count": 119,
      "outputs": []
    },
    {
      "cell_type": "code",
      "metadata": {
        "id": "8NxIeoHJzcBD"
      },
      "source": [
        "# numerical input preprocessing\n",
        "\n",
        "x = tf.keras.layers.concatenate(list(numerical_inputs.values()))\n",
        "# normalzier\n",
        "titanic_norm = tf.keras.layers.experimental.preprocessing.Normalization()\n",
        "titanic_norm.adapt(titanic_features[numerical_inputs.keys()])\n",
        "# preprocessing\n",
        "all_numerical_inputs = titanic_norm(x)"
      ],
      "execution_count": 120,
      "outputs": []
    },
    {
      "cell_type": "markdown",
      "metadata": {
        "id": "Gv0BGksCvvfW"
      },
      "source": [
        "For the string inputs use the `preprocessing.StringLookup` function to map from strings to integer indices in a vocabulary. Next, use `preprocessing.CategoryEncoding` to convert the indexes into float32 data appropriate for the model.\n",
        "\n",
        "The default settings for the `preprocessing.CategoryEncoding` layer create a one-hot vector for each input. A layers.Embedding would also work"
      ]
    },
    {
      "cell_type": "code",
      "metadata": {
        "id": "jXhkjvBrvjVc"
      },
      "source": [
        "# preprocessing integer category and string category fields \n",
        "\n",
        "def cat_processing(feature_dict , df, is_string):\n",
        "  df = df.copy()\n",
        "  lookup = tf.keras.layers.experimental.preprocessing.StringLookup() if is_string else tf.keras.layers.experimental.preprocessing.IntegerLookup()\n",
        "  # learning the unique vals\n",
        "  lookup.adapt(df[feature_dict.keys()])\n",
        "  # concatenation of layers\n",
        "  layer_concat = tf.keras.layers.concatenate(list(feature_dict.values()))\n",
        "  # vocab indices\n",
        "  indices = lookup(layer_concat)\n",
        "  # onehotencode\n",
        "  return tf.keras.layers.experimental.preprocessing.CategoryEncoding(num_tokens=lookup.vocabulary_size())(indices)\n",
        "\n",
        "\n",
        "# integer category\n",
        "all_int_cat_inputs = cat_processing(int_cat_inputs, titanic_features, False)\n",
        "all_str_cat_inputs = cat_processing(str_cat_inputs, titanic_features, True)"
      ],
      "execution_count": 129,
      "outputs": []
    },
    {
      "cell_type": "code",
      "metadata": {
        "id": "xPHFE0X9tVDb"
      },
      "source": [
        "# Collect all the symbolic preprocessing results, to concatenate them later.\n",
        "preprocessed_inputs = [all_numerical_inputs, all_int_cat_inputs, all_str_cat_inputs]"
      ],
      "execution_count": 133,
      "outputs": []
    },
    {
      "cell_type": "markdown",
      "metadata": {
        "id": "hu1Xs-9y4cdk"
      },
      "source": [
        "With the collection of inputs and processed_inputs, you can concatenate all the preprocessed inputs together, and build a model that handles the preprocessing:"
      ]
    },
    {
      "cell_type": "code",
      "metadata": {
        "id": "nCU79vvZ2lHb"
      },
      "source": [
        "preprocessed_inputs_concat = tf.keras.layers.concatenate(preprocessed_inputs)\n",
        "titanic_preprocessing_model = tf.keras.Model(inputs, preprocessed_inputs_concat)"
      ],
      "execution_count": 138,
      "outputs": []
    },
    {
      "cell_type": "code",
      "metadata": {
        "colab": {
          "base_uri": "https://localhost:8080/",
          "height": 512
        },
        "id": "YRr6hQSV5Ege",
        "outputId": "1843ce29-3cd8-41c9-88a5-f84da1df7cec"
      },
      "source": [
        "# plot preprocessing\n",
        "tf.keras.utils.plot_model(titanic_preprocessing_model, show_shapes=True, rankdir='LR')"
      ],
      "execution_count": 139,
      "outputs": [
        {
          "output_type": "execute_result",
          "data": {
            "image/png": "[encoded data removed]",
            "text/plain": [
              "<IPython.core.display.Image object>"
            ]
          },
          "metadata": {},
          "execution_count": 139
        }
      ]
    },
    {
      "cell_type": "markdown",
      "metadata": {
        "id": "96QSDGUx6naq"
      },
      "source": [
        "This model just contains the input preprocessing. You can run it to see what it does to your data. Keras models don't automatically convert Pandas DataFrames because it's not clear if it should be converted to one tensor or to a dictionary of tensors. So convert it to a dictionary of tensors:"
      ]
    },
    {
      "cell_type": "code",
      "metadata": {
        "id": "dkcWJX6-54AH"
      },
      "source": [
        "titanic_features_dict = {name:np.array(value) for name, value in titanic_features.items()}\n",
        "\n",
        "feature_dict = {name:val[:1] for name, val in titanic_features_dict.items()}"
      ],
      "execution_count": 152,
      "outputs": []
    },
    {
      "cell_type": "code",
      "metadata": {
        "colab": {
          "base_uri": "https://localhost:8080/"
        },
        "id": "oL_yx3fX7D_z",
        "outputId": "db374b2a-caad-4823-886c-4089ea595f4d"
      },
      "source": [
        "feature_dict"
      ],
      "execution_count": 153,
      "outputs": [
        {
          "output_type": "execute_result",
          "data": {
            "text/plain": [
              "{'age': array([22.]),\n",
              " 'alone': array(['n'], dtype=object),\n",
              " 'class': array(['Third'], dtype=object),\n",
              " 'deck': array(['unknown'], dtype=object),\n",
              " 'embark_town': array(['Southampton'], dtype=object),\n",
              " 'fare': array([7.25]),\n",
              " 'n_siblings_spouses': array([1]),\n",
              " 'parch': array([0]),\n",
              " 'sex': array(['male'], dtype=object)}"
            ]
          },
          "metadata": {},
          "execution_count": 153
        }
      ]
    },
    {
      "cell_type": "code",
      "metadata": {
        "colab": {
          "base_uri": "https://localhost:8080/"
        },
        "id": "kj_T55hf7EYZ",
        "outputId": "1dc6579a-e366-4834-897f-bfd90007a66f"
      },
      "source": [
        "# preprocessing\n",
        "titanic_preprocessing_model(feature_dict)"
      ],
      "execution_count": 154,
      "outputs": [
        {
          "output_type": "execute_result",
          "data": {
            "text/plain": [
              "<tf.Tensor: shape=(1, 29), dtype=float32, numpy=\n",
              "array([[-0.610415 , -0.4974028,  0.       ,  1.       ,  1.       ,\n",
              "         0.       ,  0.       ,  0.       ,  0.       ,  0.       ,\n",
              "         0.       ,  1.       ,  1.       ,  1.       ,  0.       ,\n",
              "         1.       ,  1.       ,  0.       ,  0.       ,  0.       ,\n",
              "         0.       ,  0.       ,  0.       ,  0.       ,  0.       ,\n",
              "         0.       ,  0.       ,  0.       ,  0.       ]], dtype=float32)>"
            ]
          },
          "metadata": {},
          "execution_count": 154
        }
      ]
    },
    {
      "cell_type": "markdown",
      "metadata": {
        "id": "ErTRT-kp8QMc"
      },
      "source": [
        "Now build the model on top of this:"
      ]
    },
    {
      "cell_type": "code",
      "metadata": {
        "id": "8LqknOGS8Lt3"
      },
      "source": [
        "# titanic model building\n",
        "\n",
        "def titanic_model_builder(preprocessor, inputs):\n",
        "  # preprocessing\n",
        "  prep = preprocessor(inputs)\n",
        "\n",
        "  # body \n",
        "  hidden_layers =   tf.keras.Sequential([\n",
        "                       tf.keras.layers.Dense(64, 'relu'),\n",
        "                       tf.keras.layers.Dense(1)\n",
        "                      ])\n",
        "  \n",
        "  result = hidden_layers(prep)\n",
        "\n",
        "  return tf.keras.Model(inputs, result)\n",
        "  \n",
        "\n",
        "  "
      ],
      "execution_count": 160,
      "outputs": []
    },
    {
      "cell_type": "code",
      "metadata": {
        "id": "8OjibBZa8uUi"
      },
      "source": [
        "# model\n",
        "titanic_model = titanic_model_builder(titanic_preprocessing_model, inputs)\n",
        "\n",
        "# compile the model\n",
        "titanic_model.compile(optimizer='adam', loss=tf.keras.losses.BinaryCrossentropy(from_logits=True), metrics=['accuracy'])\n",
        "\n",
        "# callback\n",
        "cb = early_stop()"
      ],
      "execution_count": 168,
      "outputs": []
    },
    {
      "cell_type": "code",
      "metadata": {
        "colab": {
          "base_uri": "https://localhost:8080/"
        },
        "id": "5mUVipr5-bZ6",
        "outputId": "bf64bde7-102f-4e1a-8107-17e57fc80e92"
      },
      "source": [
        "# training\n",
        "titanic_model.fit(titanic_features_dict, titanic_lables, epochs=10, validation_split=0.2)"
      ],
      "execution_count": 169,
      "outputs": [
        {
          "output_type": "stream",
          "name": "stdout",
          "text": [
            "Epoch 1/10\n",
            "16/16 [==============================] - 1s 19ms/step - loss: 0.7779 - accuracy: 0.4830 - val_loss: 0.7100 - val_accuracy: 0.6746\n",
            "Epoch 2/10\n",
            "16/16 [==============================] - 0s 3ms/step - loss: 0.6626 - accuracy: 0.6068 - val_loss: 0.5952 - val_accuracy: 0.6905\n",
            "Epoch 3/10\n",
            "16/16 [==============================] - 0s 3ms/step - loss: 0.5997 - accuracy: 0.6188 - val_loss: 0.5257 - val_accuracy: 0.7302\n",
            "Epoch 4/10\n",
            "16/16 [==============================] - 0s 4ms/step - loss: 0.5593 - accuracy: 0.6766 - val_loss: 0.4749 - val_accuracy: 0.7857\n",
            "Epoch 5/10\n",
            "16/16 [==============================] - 0s 5ms/step - loss: 0.5291 - accuracy: 0.7046 - val_loss: 0.4374 - val_accuracy: 0.8333\n",
            "Epoch 6/10\n",
            "16/16 [==============================] - 0s 5ms/step - loss: 0.5058 - accuracy: 0.7345 - val_loss: 0.4129 - val_accuracy: 0.8413\n",
            "Epoch 7/10\n",
            "16/16 [==============================] - 0s 4ms/step - loss: 0.4856 - accuracy: 0.7465 - val_loss: 0.3927 - val_accuracy: 0.8571\n",
            "Epoch 8/10\n",
            "16/16 [==============================] - 0s 4ms/step - loss: 0.4706 - accuracy: 0.7625 - val_loss: 0.3786 - val_accuracy: 0.8651\n",
            "Epoch 9/10\n",
            "16/16 [==============================] - 0s 5ms/step - loss: 0.4588 - accuracy: 0.7764 - val_loss: 0.3711 - val_accuracy: 0.8810\n",
            "Epoch 10/10\n",
            "16/16 [==============================] - 0s 3ms/step - loss: 0.4498 - accuracy: 0.7944 - val_loss: 0.3626 - val_accuracy: 0.8810\n"
          ]
        },
        {
          "output_type": "execute_result",
          "data": {
            "text/plain": [
              "<keras.callbacks.History at 0x7f7d44aa30d0>"
            ]
          },
          "metadata": {},
          "execution_count": 169
        }
      ]
    },
    {
      "cell_type": "code",
      "metadata": {
        "id": "uwtFjEW--uG3"
      },
      "source": [
        ""
      ],
      "execution_count": null,
      "outputs": []
    }
  ]
}