{
  "nbformat": 4,
  "nbformat_minor": 0,
  "metadata": {
    "colab": {
      "name": "TensorFlow Tensors.ipynb",
      "provenance": [],
      "toc_visible": true,
      "authorship_tag": "ABX9TyOgxWA4KyutynvILRhxobxX",
      "include_colab_link": true
    },
    "kernelspec": {
      "name": "python3",
      "display_name": "Python 3"
    },
    "language_info": {
      "name": "python"
    }
  },
  "cells": [
    {
      "cell_type": "markdown",
      "metadata": {
        "id": "view-in-github",
        "colab_type": "text"
      },
      "source": [
        "<a href=\"https://colab.research.google.com/github/Ajay-user/DataScience/blob/master/Notes/TensorFlow_Tensors.ipynb\" target=\"_parent\"><img src=\"https://colab.research.google.com/assets/colab-badge.svg\" alt=\"Open In Colab\"/></a>"
      ]
    },
    {
      "cell_type": "code",
      "metadata": {
        "id": "eLn6RV3Bhfol"
      },
      "source": [
        "import numpy as np\n",
        "import tensorflow as tf\n",
        "# https://www.tensorflow.org/guide/tensor"
      ],
      "execution_count": 40,
      "outputs": []
    },
    {
      "cell_type": "markdown",
      "metadata": {
        "id": "16nIxpiAhGAX"
      },
      "source": [
        "## TensorFlow tensor\n",
        "\n",
        "* Tensors are multi-dimensional arrays with a uniform type (called a dtype).\n",
        "\n",
        "* Tensors are (kind of) like np.arrays.\n",
        "\n",
        "* All tensors are immutable like Python numbers and strings: you can never update the contents of a tensor, only create a new one."
      ]
    },
    {
      "cell_type": "code",
      "metadata": {
        "colab": {
          "base_uri": "https://localhost:8080/"
        },
        "id": "qdXFeYgqhEWr",
        "outputId": "30fb7345-cf42-4b54-b243-0a0a8e7a560e"
      },
      "source": [
        "# rank 0 tensor\n",
        "# This will be an int32 tensor by default; see \"dtypes\" below.\n",
        "rank_0_tensor = tf.constant(101)\n",
        "print(rank_0_tensor)"
      ],
      "execution_count": 4,
      "outputs": [
        {
          "output_type": "stream",
          "text": [
            "tf.Tensor(101, shape=(), dtype=int32)\n"
          ],
          "name": "stdout"
        }
      ]
    },
    {
      "cell_type": "markdown",
      "metadata": {
        "id": "7n4BYWHJhxNr"
      },
      "source": [
        "A \"vector\" or \"rank-1\" tensor is like a list of values. A vector has one axis:"
      ]
    },
    {
      "cell_type": "code",
      "metadata": {
        "colab": {
          "base_uri": "https://localhost:8080/"
        },
        "id": "X8Gim6PPhasX",
        "outputId": "07e9da49-9fc4-4749-98dd-6ed4e43464fb"
      },
      "source": [
        "# rank 1 tensor\n",
        "# list of values \n",
        "rank_1_tensor = tf.constant([1,2,3])\n",
        "print(rank_1_tensor)"
      ],
      "execution_count": 6,
      "outputs": [
        {
          "output_type": "stream",
          "text": [
            "tf.Tensor([1 2 3], shape=(3,), dtype=int32)\n"
          ],
          "name": "stdout"
        }
      ]
    },
    {
      "cell_type": "markdown",
      "metadata": {
        "id": "797_UInaiHQo"
      },
      "source": [
        "A \"matrix\" or \"rank-2\" tensor has two axes:"
      ]
    },
    {
      "cell_type": "code",
      "metadata": {
        "colab": {
          "base_uri": "https://localhost:8080/"
        },
        "id": "GrF-f526h9iK",
        "outputId": "e91a76b1-3c21-4efd-c181-6ad6c6d0c3ed"
      },
      "source": [
        "# we can be specifict about the dtype\n",
        "rank_2_tensor = tf.constant([[1,2,3],[4,5,6]], dtype='float32')\n",
        "print(rank_2_tensor)"
      ],
      "execution_count": 8,
      "outputs": [
        {
          "output_type": "stream",
          "text": [
            "tf.Tensor(\n",
            "[[1. 2. 3.]\n",
            " [4. 5. 6.]], shape=(2, 3), dtype=float32)\n"
          ],
          "name": "stdout"
        }
      ]
    },
    {
      "cell_type": "markdown",
      "metadata": {
        "id": "QzFhHFZoiuF3"
      },
      "source": [
        "Tensors may have more axes; here is a tensor with three axes:"
      ]
    },
    {
      "cell_type": "code",
      "metadata": {
        "colab": {
          "base_uri": "https://localhost:8080/"
        },
        "id": "zAhCc64pibm1",
        "outputId": "abd29036-9edc-4b4f-98f8-2144d74f7732"
      },
      "source": [
        "# there can be an arbitary number of axes (also called as dimensions)\n",
        "rank_3_tensor = tf.constant([\n",
        "  [[0, 1, 2, 3, 4],\n",
        "   [5, 6, 7, 8, 9]],\n",
        "  [[10, 11, 12, 13, 14],\n",
        "   [15, 16, 17, 18, 19]],\n",
        "  [[20, 21, 22, 23, 24],\n",
        "   [25, 26, 27, 28, 29]],])\n",
        "print(rank_3_tensor)"
      ],
      "execution_count": 9,
      "outputs": [
        {
          "output_type": "stream",
          "text": [
            "tf.Tensor(\n",
            "[[[ 0  1  2  3  4]\n",
            "  [ 5  6  7  8  9]]\n",
            "\n",
            " [[10 11 12 13 14]\n",
            "  [15 16 17 18 19]]\n",
            "\n",
            " [[20 21 22 23 24]\n",
            "  [25 26 27 28 29]]], shape=(3, 2, 5), dtype=int32)\n"
          ],
          "name": "stdout"
        }
      ]
    },
    {
      "cell_type": "markdown",
      "metadata": {
        "id": "_6Zr4jS3jW3O"
      },
      "source": [
        "There are many ways you might visualize a tensor with more than two axes.\n",
        "\n",
        "<img src=\"https://www.tensorflow.org/guide/images/tensor/3-axis_numpy.png\"/>\n",
        "<img src=\"https://www.tensorflow.org/guide/images/tensor/3-axis_front.png\"/>\n",
        "<img src=\"https://www.tensorflow.org/guide/images/tensor/3-axis_block.png\"/>\n",
        "\n",
        "You can convert a tensor to a NumPy array either using np.array or the tensor.numpy method:"
      ]
    },
    {
      "cell_type": "code",
      "metadata": {
        "colab": {
          "base_uri": "https://localhost:8080/"
        },
        "id": "AiNXZPTujSbQ",
        "outputId": "86e0aab6-0757-4aac-c892-b60f8db4db5e"
      },
      "source": [
        "print(rank_2_tensor.numpy())"
      ],
      "execution_count": 12,
      "outputs": [
        {
          "output_type": "stream",
          "text": [
            "[[1. 2. 3.]\n",
            " [4. 5. 6.]]\n"
          ],
          "name": "stdout"
        }
      ]
    },
    {
      "cell_type": "markdown",
      "metadata": {
        "id": "20ezMrsPlN1O"
      },
      "source": [
        "You can do basic math on tensors, including addition, element-wise multiplication, and matrix multiplication."
      ]
    },
    {
      "cell_type": "code",
      "metadata": {
        "colab": {
          "base_uri": "https://localhost:8080/"
        },
        "id": "okqBa6bGkLLZ",
        "outputId": "8c4a2780-aae3-4ae7-fa32-4b51f8c2359d"
      },
      "source": [
        "a = tf.ones((2,2))\n",
        "b = tf.ones((2,2))*2\n",
        "\n",
        "print('Tensor a \\n' , a)\n",
        "print('Tensor b \\n' , b)"
      ],
      "execution_count": 19,
      "outputs": [
        {
          "output_type": "stream",
          "text": [
            "Tensor a \n",
            " tf.Tensor(\n",
            "[[1. 1.]\n",
            " [1. 1.]], shape=(2, 2), dtype=float32)\n",
            "Tensor b \n",
            " tf.Tensor(\n",
            "[[2. 2.]\n",
            " [2. 2.]], shape=(2, 2), dtype=float32)\n"
          ],
          "name": "stdout"
        }
      ]
    },
    {
      "cell_type": "code",
      "metadata": {
        "colab": {
          "base_uri": "https://localhost:8080/"
        },
        "id": "obPdzMeUlTuv",
        "outputId": "91978ba3-f955-48f7-b21d-73f9f59a2539"
      },
      "source": [
        "print('addition a + b \\n', tf.add(a, b))\n",
        "print('substract a - b  \\n', tf.subtract(a, b))\n",
        "print('multiply elementwise a * b \\n', tf.multiply(a, b))\n",
        "print('matrix multiply a @ b \\n', tf.matmul(a, b))"
      ],
      "execution_count": 20,
      "outputs": [
        {
          "output_type": "stream",
          "text": [
            "addition a + b \n",
            " tf.Tensor(\n",
            "[[3. 3.]\n",
            " [3. 3.]], shape=(2, 2), dtype=float32)\n",
            "substract a - b  \n",
            " tf.Tensor(\n",
            "[[-1. -1.]\n",
            " [-1. -1.]], shape=(2, 2), dtype=float32)\n",
            "multiply elementwise a * b \n",
            " tf.Tensor(\n",
            "[[2. 2.]\n",
            " [2. 2.]], shape=(2, 2), dtype=float32)\n",
            "matrix multiply a @ b \n",
            " tf.Tensor(\n",
            "[[4. 4.]\n",
            " [4. 4.]], shape=(2, 2), dtype=float32)\n"
          ],
          "name": "stdout"
        }
      ]
    },
    {
      "cell_type": "code",
      "metadata": {
        "colab": {
          "base_uri": "https://localhost:8080/"
        },
        "id": "2LgLjYpcmWll",
        "outputId": "a58b415c-e50f-401a-bdb4-c57c534dab1c"
      },
      "source": [
        "# Tensors are used in all kinds of operations (ops).\n",
        "\n",
        "\n",
        "c = tf.constant([[4.0, 5.0], [10.0, 1.0]])\n",
        "\n",
        "# Find the largest value\n",
        "print('Find the largest value \\n',tf.reduce_max(c))\n",
        "# Find the index of the largest value\n",
        "print('Find the index of the largest value \\n',tf.argmax(c))\n",
        "# Compute the softmax\n",
        "print('Compute the softmax \\n',tf.nn.softmax(c))"
      ],
      "execution_count": 23,
      "outputs": [
        {
          "output_type": "stream",
          "text": [
            "Find the largest value \n",
            " tf.Tensor(10.0, shape=(), dtype=float32)\n",
            "Find the index of the largest value \n",
            " tf.Tensor([1 0], shape=(2,), dtype=int64)\n",
            "Compute the softmax \n",
            " tf.Tensor(\n",
            "[[2.6894143e-01 7.3105860e-01]\n",
            " [9.9987662e-01 1.2339458e-04]], shape=(2, 2), dtype=float32)\n"
          ],
          "name": "stdout"
        }
      ]
    },
    {
      "cell_type": "markdown",
      "metadata": {
        "id": "5GlfklUWnG2B"
      },
      "source": [
        "## shapes\n",
        "**Tensors have shapes**.\n",
        "\n",
        "**Shape**: The length (number of elements) of each of the axes of a tensor.\n",
        "\n",
        "**Rank**: Number of tensor axes. A scalar has rank 0, a vector has rank 1, a matrix is rank 2.\n",
        "\n",
        "**Axis or Dimension**: A particular dimension of a tensor.\n",
        "\n",
        "**Size**: The total number of items in the tensor, the product shape vector."
      ]
    },
    {
      "cell_type": "code",
      "metadata": {
        "colab": {
          "base_uri": "https://localhost:8080/"
        },
        "id": "FGwnp40DmlNW",
        "outputId": "9ef3e939-9a82-4bb3-8074-806d92ef72b7"
      },
      "source": [
        "rank_4_tensor = tf.zeros([3,2,4,5])\n",
        "\n",
        "\n",
        "print('Shape of tensor is ', rank_4_tensor.shape)\n",
        "print('Type of elements in tensor is ', rank_4_tensor.dtype)\n",
        "print('Number of axes ', rank_4_tensor.ndim)\n",
        "print('Elements along axis 0 of tensor',rank_4_tensor.shape[0])\n",
        "print('Elements along axis -1 ( last axis ) of tensor',rank_4_tensor.shape[-1])\n",
        "print('Size of tensor ( product of shape vector )', tf.size(rank_4_tensor).numpy())"
      ],
      "execution_count": 33,
      "outputs": [
        {
          "output_type": "stream",
          "text": [
            "Shape of tensor is  (3, 2, 4, 5)\n",
            "Type of elements in tensor is  <dtype: 'float32'>\n",
            "Number of axes  4\n",
            "Elements along axis 0 of tensor 3\n",
            "Elements along axis -1 ( last axis ) of tensor 5\n",
            "Size of tensor ( product of shape vector ) 120\n"
          ],
          "name": "stdout"
        }
      ]
    },
    {
      "cell_type": "markdown",
      "metadata": {
        "id": "UE6H-tGxw3UN"
      },
      "source": [
        "While axes are often referred to by their indices, you should always keep track of the meaning of each. Often axes are ordered from global to local: **The batch axis first, followed by spatial dimensions, and features for each location last**. This way feature vectors are contiguous regions of memory.\n",
        "\n",
        "<img src=\"https://www.tensorflow.org/guide/images/tensor/shape2.png\" />"
      ]
    },
    {
      "cell_type": "markdown",
      "metadata": {
        "id": "EfxG9gN4xPGj"
      },
      "source": [
        "## Indexing\n",
        "**Single-axis indexing**\n",
        "\n",
        "TensorFlow follows standard Python indexing rules, similar to indexing a list or a string in Python, and the basic rules for NumPy indexing.\n",
        "\n",
        "* indexes start at 0\n",
        "* negative indices count backwards from the end\n",
        "* colons, :, are used for slices: start:stop:step"
      ]
    },
    {
      "cell_type": "code",
      "metadata": {
        "colab": {
          "base_uri": "https://localhost:8080/"
        },
        "id": "M91yI-fBvteq",
        "outputId": "a03df0ff-d07e-4441-8856-d28f9deb73dd"
      },
      "source": [
        "rank_1_tensor = tf.constant([0, 1, 1, 2, 3, 5, 8, 13, 21, 34])\n",
        "print(rank_1_tensor.numpy())\n",
        "# Indexing with a scalar removes the axis:\n",
        "print(\"First:\", rank_1_tensor[0].numpy())\n",
        "print(\"Second:\", rank_1_tensor[1].numpy())\n",
        "print(\"Last:\", rank_1_tensor[-1].numpy())\n",
        "# Indexing with a : slice keeps the axis:\n",
        "print(\"Everything:\", rank_1_tensor[:].numpy())\n",
        "print(\"Before 4:\", rank_1_tensor[:4].numpy())\n",
        "print(\"From 4 to the end:\", rank_1_tensor[4:].numpy())\n",
        "print(\"From 2, before 7:\", rank_1_tensor[2:7].numpy())\n",
        "print(\"Every other item:\", rank_1_tensor[::2].numpy())\n",
        "print(\"Reversed:\", rank_1_tensor[::-1].numpy())"
      ],
      "execution_count": 35,
      "outputs": [
        {
          "output_type": "stream",
          "text": [
            "[ 0  1  1  2  3  5  8 13 21 34]\n",
            "First: 0\n",
            "Second: 1\n",
            "Last: 34\n",
            "Everything: [ 0  1  1  2  3  5  8 13 21 34]\n",
            "Before 4: [0 1 1 2]\n",
            "From 4 to the end: [ 3  5  8 13 21 34]\n",
            "From 2, before 7: [1 2 3 5 8]\n",
            "Every other item: [ 0  1  3  8 21]\n",
            "Reversed: [34 21 13  8  5  3  2  1  1  0]\n"
          ],
          "name": "stdout"
        }
      ]
    },
    {
      "cell_type": "markdown",
      "metadata": {
        "id": "nWighLQDx0Wh"
      },
      "source": [
        "**Multi-axis indexing**\n",
        "\n",
        "Higher rank tensors are indexed by passing multiple indices.\n",
        "\n",
        "The exact same rules as in the single-axis case apply to each axis independently."
      ]
    },
    {
      "cell_type": "code",
      "metadata": {
        "colab": {
          "base_uri": "https://localhost:8080/"
        },
        "id": "X1aVTk-Yx2AB",
        "outputId": "da4c94e2-e141-4736-ad53-b079a5b8b691"
      },
      "source": [
        "# Passing an integer for each index, the result is a scalar.\n",
        "\n",
        "print('Rank 2 tensor \\n',rank_2_tensor)\n",
        "# Pull out a single value from a 2-rank tensor\n",
        "print('Single value from a 2-rank tensor ',rank_2_tensor[1, 1].numpy())\n",
        "# You can index using any combination of integers and slices:\n",
        "# Get row and column tensors\n",
        "print(\"Second row:\", rank_2_tensor[1, :].numpy())\n",
        "print(\"Second column:\", rank_2_tensor[:, 1].numpy())\n",
        "print(\"Last row:\", rank_2_tensor[-1, :].numpy())\n",
        "print(\"First item in last column:\", rank_2_tensor[0, -1].numpy())\n",
        "print(\"Skip the first row:\")\n",
        "print(rank_2_tensor[1:, :].numpy(), \"\\n\")"
      ],
      "execution_count": 39,
      "outputs": [
        {
          "output_type": "stream",
          "text": [
            "Rank 2 tensor \n",
            " tf.Tensor(\n",
            "[[1. 2. 3.]\n",
            " [4. 5. 6.]], shape=(2, 3), dtype=float32)\n",
            "Single value from a 2-rank tensor  5.0\n",
            "Second row: [4. 5. 6.]\n",
            "Second column: [2. 5.]\n",
            "Last row: [4. 5. 6.]\n",
            "First item in last column: 3.0\n",
            "Skip the first row:\n",
            "[[4. 5. 6.]] \n",
            "\n"
          ],
          "name": "stdout"
        }
      ]
    },
    {
      "cell_type": "code",
      "metadata": {
        "colab": {
          "base_uri": "https://localhost:8080/"
        },
        "id": "VeFfFui9yfrJ",
        "outputId": "4003bd5a-21ee-46a2-e5a2-ff91bba0e95c"
      },
      "source": [
        "# Here is an example with a 3-axis tensor:\n",
        "nd_array =np.arange(30).reshape(3,2,5)\n",
        "rank_3_tensor = tf.constant(nd_array)\n",
        "print('Rank 3 tensor \\n', rank_3_tensor)"
      ],
      "execution_count": 46,
      "outputs": [
        {
          "output_type": "stream",
          "text": [
            "Rank 3 tensor \n",
            " tf.Tensor(\n",
            "[[[ 0  1  2  3  4]\n",
            "  [ 5  6  7  8  9]]\n",
            "\n",
            " [[10 11 12 13 14]\n",
            "  [15 16 17 18 19]]\n",
            "\n",
            " [[20 21 22 23 24]\n",
            "  [25 26 27 28 29]]], shape=(3, 2, 5), dtype=int64)\n"
          ],
          "name": "stdout"
        }
      ]
    },
    {
      "cell_type": "markdown",
      "metadata": {
        "id": "iKJAPKGw0MvQ"
      },
      "source": [
        "Selecting the last feature across all locations in each example in the batch\n",
        "\n",
        "<img src=\"https://www.tensorflow.org/guide/images/tensor/index1.png\" />"
      ]
    },
    {
      "cell_type": "code",
      "metadata": {
        "colab": {
          "base_uri": "https://localhost:8080/"
        },
        "id": "dm7wrEtlzdhk",
        "outputId": "261e57e6-1367-46e9-f48b-fb395825e692"
      },
      "source": [
        "# Selecting the last feature across all locations in each example in the batch\n",
        "print('Selecting the last feature across all locations in each example in the batch')\n",
        "print(rank_3_tensor[:,:,4])"
      ],
      "execution_count": 47,
      "outputs": [
        {
          "output_type": "stream",
          "text": [
            "Selecting the last feature across all locations in each example in the batch\n",
            "tf.Tensor(\n",
            "[[ 4  9]\n",
            " [14 19]\n",
            " [24 29]], shape=(3, 2), dtype=int64)\n"
          ],
          "name": "stdout"
        }
      ]
    },
    {
      "cell_type": "markdown",
      "metadata": {
        "id": "kGIJ4o5_0lpp"
      },
      "source": [
        "## Manipulating Shapes\n",
        "Reshaping a tensor is of great utility."
      ]
    },
    {
      "cell_type": "code",
      "metadata": {
        "colab": {
          "base_uri": "https://localhost:8080/"
        },
        "id": "-Ls8GuSp0IxH",
        "outputId": "c80fd69a-fcfb-4239-ba7d-5f6e314c3aab"
      },
      "source": [
        "# Shape returns a `TensorShape` object that shows the size along each axis\n",
        "x = tf.constant([[1], [2], [3]])\n",
        "print('shape of tensor',x.shape)\n",
        "# # You can convert this object into a Python list, too\n",
        "print('shape of tensor as a list',x.shape.as_list())"
      ],
      "execution_count": 49,
      "outputs": [
        {
          "output_type": "stream",
          "text": [
            "shape of tensor (3, 1)\n",
            "shape of tensor as a list [3, 1]\n"
          ],
          "name": "stdout"
        }
      ]
    },
    {
      "cell_type": "markdown",
      "metadata": {
        "id": "r3f1aglS0_PL"
      },
      "source": [
        "You can reshape a tensor into a new shape. The tf.reshape operation is fast and cheap as the underlying data does not need to be duplicated.\n",
        "\n",
        "\n"
      ]
    },
    {
      "cell_type": "code",
      "metadata": {
        "colab": {
          "base_uri": "https://localhost:8080/"
        },
        "id": "O7wEzrbV04Km",
        "outputId": "a7451fce-4f23-443c-8c59-a76675a2aa6e"
      },
      "source": [
        "# You can reshape a tensor to a new shape.\n",
        "# Note that you're passing in a list\n",
        "print('tensor before reshaping \\n\\n',x,'\\n\\nshape of tensor is ',x.shape)\n",
        "\n",
        "reshaped = tf.reshape(x, [1,3])\n",
        "print('\\ntensor after reshaping \\n\\n',reshaped,'\\n\\nshape of tensor is ',reshaped.shape)"
      ],
      "execution_count": 53,
      "outputs": [
        {
          "output_type": "stream",
          "text": [
            "tensor before reshaping \n",
            "\n",
            " tf.Tensor(\n",
            "[[1]\n",
            " [2]\n",
            " [3]], shape=(3, 1), dtype=int32) \n",
            "\n",
            "shape of tensor is  (3, 1)\n",
            "\n",
            "tensor after reshaping \n",
            "\n",
            " tf.Tensor([[1 2 3]], shape=(1, 3), dtype=int32) \n",
            "\n",
            "shape of tensor is  (1, 3)\n"
          ],
          "name": "stdout"
        }
      ]
    },
    {
      "cell_type": "markdown",
      "metadata": {
        "id": "rY5GkMXT1xqg"
      },
      "source": [
        "The data maintains its layout in memory and a new tensor is created, with the requested shape, pointing to the same data.\n",
        "\n",
        "TensorFlow uses C-style \"row-major\" memory ordering, where incrementing the rightmost index corresponds to a single step in memory\n",
        "\n",
        "If you flatten a tensor you can see what order it is laid out in memory."
      ]
    },
    {
      "cell_type": "code",
      "metadata": {
        "colab": {
          "base_uri": "https://localhost:8080/"
        },
        "id": "PtsEw4L61PZV",
        "outputId": "3227ead7-3b85-44c0-dd8a-ab2b7c7e68ab"
      },
      "source": [
        "print('3d tensor \\n\\n',rank_3_tensor.numpy())\n",
        "print('\\n3d tensor flattened \\n\\n',tf.reshape(rank_3_tensor, -1).numpy())"
      ],
      "execution_count": 54,
      "outputs": [
        {
          "output_type": "stream",
          "text": [
            "3d tensor \n",
            "\n",
            " [[[ 0  1  2  3  4]\n",
            "  [ 5  6  7  8  9]]\n",
            "\n",
            " [[10 11 12 13 14]\n",
            "  [15 16 17 18 19]]\n",
            "\n",
            " [[20 21 22 23 24]\n",
            "  [25 26 27 28 29]]]\n",
            "\n",
            "3d tensor flattened \n",
            "\n",
            " [ 0  1  2  3  4  5  6  7  8  9 10 11 12 13 14 15 16 17 18 19 20 21 22 23\n",
            " 24 25 26 27 28 29]\n"
          ],
          "name": "stdout"
        }
      ]
    },
    {
      "cell_type": "markdown",
      "metadata": {
        "id": "g0mSwcRp25T8"
      },
      "source": [
        "**Typically the only reasonable use of tf.reshape is to combine or split adjacent axes (or add/remove 1s)**.\n",
        "\n",
        "For this 3x2x5 tensor, reshaping to (3x2)x5 or 3x(2x5) are both reasonable things to do, as the slices do not mix:\n",
        "\n",
        "* Reshaping will \"work\" for any new shape with the same total number of elements, but it will not do anything useful if you do not respect the order of the axes.\n",
        "\n",
        "* Swapping axes in tf.reshape does not work; you need tf.transpose for that."
      ]
    },
    {
      "cell_type": "code",
      "metadata": {
        "colab": {
          "base_uri": "https://localhost:8080/"
        },
        "id": "anTL5_W62YMC",
        "outputId": "df2934ac-1395-4779-c9e0-7b60778309b1"
      },
      "source": [
        "print('Rank 3 Tensor \\n\\n',rank_3_tensor.numpy())\n",
        "print('\\n3x2x5 tensor, reshaping to (3x2)x5 \\n',tf.reshape(rank_3_tensor, [3*2, 5]).numpy())\n",
        "print('\\n3x2x5 tensor, reshaping to 3x(2x5) \\n',tf.reshape(rank_3_tensor, [3, 2*5]).numpy())"
      ],
      "execution_count": 57,
      "outputs": [
        {
          "output_type": "stream",
          "text": [
            "Rank 3 Tensor \n",
            "\n",
            " [[[ 0  1  2  3  4]\n",
            "  [ 5  6  7  8  9]]\n",
            "\n",
            " [[10 11 12 13 14]\n",
            "  [15 16 17 18 19]]\n",
            "\n",
            " [[20 21 22 23 24]\n",
            "  [25 26 27 28 29]]]\n",
            "\n",
            "3x2x5 tensor, reshaping to (3x2)x5 \n",
            " [[ 0  1  2  3  4]\n",
            " [ 5  6  7  8  9]\n",
            " [10 11 12 13 14]\n",
            " [15 16 17 18 19]\n",
            " [20 21 22 23 24]\n",
            " [25 26 27 28 29]]\n",
            "\n",
            "3x2x5 tensor, reshaping to 3x(2x5) \n",
            " [[ 0  1  2  3  4  5  6  7  8  9]\n",
            " [10 11 12 13 14 15 16 17 18 19]\n",
            " [20 21 22 23 24 25 26 27 28 29]]\n"
          ],
          "name": "stdout"
        }
      ]
    },
    {
      "cell_type": "markdown",
      "metadata": {
        "id": "POOiSwiv5GkY"
      },
      "source": [
        "**Some good reshapes.**<br>\n",
        "<img src='https://www.tensorflow.org/guide/images/tensor/reshape-before.png' />\n",
        "<br>\n",
        "<img src='https://www.tensorflow.org/guide/images/tensor/reshape-good1.png' />\n",
        "<br>\n",
        "<img src='https://www.tensorflow.org/guide/images/tensor/reshape-good2.png' />\n",
        "\n",
        "\n",
        "**Some bad reshapes.**<br>\n",
        "<img src='https://www.tensorflow.org/guide/images/tensor/reshape-bad.png' />\n",
        "<br>\n",
        "<img src='https://www.tensorflow.org/guide/images/tensor/reshape-bad4.png' />\n",
        "<br>\n",
        "<img src='https://www.tensorflow.org/guide/images/tensor/reshape-bad2.png' />\n",
        "<br>\n",
        "You may run across not-fully-specified shapes. Either the shape contains a None (an axis-length is unknown) or the whole shape is None (the rank of the tensor is unknown).\n",
        "\n",
        "Except for tf.RaggedTensor, such shapes will only occur in the context of TensorFlow's symbolic, graph-building APIs:\n",
        "\n",
        "##  DTypes\n",
        "To inspect a tf.Tensor's data type use the Tensor.dtype property.\n",
        "\n",
        "When creating a tf.Tensor from a Python object you may optionally specify the datatype.\n",
        "\n",
        "If you don't, TensorFlow chooses a datatype that can represent your data. TensorFlow converts Python integers to tf.int32 and Python floating point numbers to tf.float32. Otherwise TensorFlow uses the same rules NumPy uses when converting to arrays.\n",
        "\n",
        "You can cast from type to type.\n"
      ]
    },
    {
      "cell_type": "code",
      "metadata": {
        "colab": {
          "base_uri": "https://localhost:8080/"
        },
        "id": "SPYa9bGM3GdC",
        "outputId": "8585e8a8-4e26-4ece-fc4e-3a317c8b5962"
      },
      "source": [
        "the_f64_tensor = tf.constant([2.2, 3.3, 4.4], dtype=tf.float64)\n",
        "the_f16_tensor = tf.cast(the_f64_tensor, dtype=tf.float16)\n",
        "# Now, cast to an uint8 and lose the decimal precision\n",
        "the_u8_tensor = tf.cast(the_f16_tensor, dtype=tf.uint8)\n",
        "print(the_u8_tensor)"
      ],
      "execution_count": 58,
      "outputs": [
        {
          "output_type": "stream",
          "text": [
            "tf.Tensor([2 3 4], shape=(3,), dtype=uint8)\n"
          ],
          "name": "stdout"
        }
      ]
    },
    {
      "cell_type": "markdown",
      "metadata": {
        "id": "aiHbrsm_7PLh"
      },
      "source": [
        "## Broadcasting\n",
        "\n",
        "In short, under certain conditions, smaller tensors are \"stretched\" automatically to fit larger tensors when running combined operations on them.\n",
        "\n",
        "The simplest and most common case is when you attempt to multiply or add a tensor to a scalar. In that case, the scalar is broadcast to be the same shape as the other argument.\n"
      ]
    },
    {
      "cell_type": "code",
      "metadata": {
        "colab": {
          "base_uri": "https://localhost:8080/"
        },
        "id": "Gq2cysGy7A-Z",
        "outputId": "3ebebbe0-a5a2-45e1-abab-f729b89b6c95"
      },
      "source": [
        "x = tf.constant([1, 2, 3])\n",
        "\n",
        "y = tf.constant(2)\n",
        "z = tf.constant([2, 2, 2])\n",
        "# All of these are the same computation\n",
        "print(tf.multiply(x, 2))\n",
        "print(x * y)\n",
        "print(x * z)"
      ],
      "execution_count": 59,
      "outputs": [
        {
          "output_type": "stream",
          "text": [
            "tf.Tensor([2 4 6], shape=(3,), dtype=int32)\n",
            "tf.Tensor([2 4 6], shape=(3,), dtype=int32)\n",
            "tf.Tensor([2 4 6], shape=(3,), dtype=int32)\n"
          ],
          "name": "stdout"
        }
      ]
    },
    {
      "cell_type": "markdown",
      "metadata": {
        "id": "1qKCBMFZ7yfd"
      },
      "source": [
        "Likewise, axes with length 1 can be stretched out to match the other arguments. Both arguments can be stretched in the same computation.\n",
        "\n",
        "In this case a 3x1 matrix is element-wise multiplied by a 1x4 matrix to produce a 3x4 matrix. Note how the leading 1 is optional: The shape of y is [4].\n",
        "\n",
        "\n"
      ]
    },
    {
      "cell_type": "code",
      "metadata": {
        "colab": {
          "base_uri": "https://localhost:8080/"
        },
        "id": "-ywIEDre7z85",
        "outputId": "7f355e83-9e1d-409f-a08f-2d590351a393"
      },
      "source": [
        "# These are the same computations\n",
        "x = tf.reshape(x,[3,1])\n",
        "y = tf.range(1, 5)\n",
        "print(x, \"\\n\")\n",
        "print(y, \"\\n\")\n",
        "print(tf.multiply(x, y))"
      ],
      "execution_count": 60,
      "outputs": [
        {
          "output_type": "stream",
          "text": [
            "tf.Tensor(\n",
            "[[1]\n",
            " [2]\n",
            " [3]], shape=(3, 1), dtype=int32) \n",
            "\n",
            "tf.Tensor([1 2 3 4], shape=(4,), dtype=int32) \n",
            "\n",
            "tf.Tensor(\n",
            "[[ 1  2  3  4]\n",
            " [ 2  4  6  8]\n",
            " [ 3  6  9 12]], shape=(3, 4), dtype=int32)\n"
          ],
          "name": "stdout"
        }
      ]
    },
    {
      "cell_type": "markdown",
      "metadata": {
        "id": "QVwPQ5g18EoP"
      },
      "source": [
        "A broadcasted add: a `[3, 1]` times a `[1, 4]` gives a `[3,4]`\n",
        "<img src=\"https://www.tensorflow.org/guide/images/tensor/broadcasting.png\"/>"
      ]
    },
    {
      "cell_type": "code",
      "metadata": {
        "colab": {
          "base_uri": "https://localhost:8080/"
        },
        "id": "nFlulu9w776_",
        "outputId": "ee362814-0930-4dae-ec0a-c98858995b9c"
      },
      "source": [
        "x_stretch = tf.constant([[1, 1, 1, 1],\n",
        "                         [2, 2, 2, 2],\n",
        "                         [3, 3, 3, 3]])\n",
        "\n",
        "y_stretch = tf.constant([[1, 2, 3, 4],\n",
        "                         [1, 2, 3, 4],\n",
        "                         [1, 2, 3, 4]])\n",
        "\n",
        "print(x_stretch * y_stretch) "
      ],
      "execution_count": 61,
      "outputs": [
        {
          "output_type": "stream",
          "text": [
            "tf.Tensor(\n",
            "[[ 1  2  3  4]\n",
            " [ 2  4  6  8]\n",
            " [ 3  6  9 12]], shape=(3, 4), dtype=int32)\n"
          ],
          "name": "stdout"
        }
      ]
    },
    {
      "cell_type": "markdown",
      "metadata": {
        "id": "r-y9KC6k8o5W"
      },
      "source": [
        "**Most of the time, broadcasting is both time and space efficient, as the broadcast operation never materializes the expanded tensors in memory.**\n",
        "\n"
      ]
    },
    {
      "cell_type": "code",
      "metadata": {
        "colab": {
          "base_uri": "https://localhost:8080/"
        },
        "id": "0WtkogtF8Tcc",
        "outputId": "c77deada-1615-4979-95db-3a9219c8d78f"
      },
      "source": [
        "x = tf.constant([1,2,3])\n",
        "tf.broadcast_to(x, shape=[3,3])"
      ],
      "execution_count": 62,
      "outputs": [
        {
          "output_type": "execute_result",
          "data": {
            "text/plain": [
              "<tf.Tensor: shape=(3, 3), dtype=int32, numpy=\n",
              "array([[1, 2, 3],\n",
              "       [1, 2, 3],\n",
              "       [1, 2, 3]], dtype=int32)>"
            ]
          },
          "metadata": {
            "tags": []
          },
          "execution_count": 62
        }
      ]
    },
    {
      "cell_type": "markdown",
      "metadata": {
        "id": "EzIkpcQP87cM"
      },
      "source": [
        "**Unlike a mathematical op, for example, broadcast_to does nothing special to save memory. Here, you are materializing the tensor**."
      ]
    },
    {
      "cell_type": "markdown",
      "metadata": {
        "id": "eXsDpILN9ci4"
      },
      "source": [
        "**The base tf.Tensor class requires tensors to be \"rectangular\"---that is, along each axis, every element is the same size**. However, there are specialized types of tensors that can handle different shapes:\n",
        "\n",
        "* Ragged tensors \n",
        "* Sparse tensors \n",
        "\n",
        "## Ragged Tensors\n",
        "A tensor with variable numbers of elements along some axis is called \"ragged\". Use `tf.ragged.RaggedTensor` for ragged data.\n",
        "\n",
        "For example, This cannot be represented as a regular tensor:\n",
        "\n",
        "A `tf.RaggedTensor`, shape: `[4, None]`\n",
        "\n",
        "<img src='https://www.tensorflow.org/guide/images/tensor/ragged.png' />\n",
        "\n",
        "**The shape of a tf.RaggedTensor will contain some axes with unknown lengths:**"
      ]
    },
    {
      "cell_type": "code",
      "metadata": {
        "colab": {
          "base_uri": "https://localhost:8080/"
        },
        "id": "_i93m_n0826o",
        "outputId": "df8599bc-f365-4d8b-9f44-cbc6cee67aa2"
      },
      "source": [
        "ragged = tf.ragged.constant([[3, 1, 4, 1], [], [5, 9, 2], [6], []])\n",
        "print('Ragged Tensor \\n',ragged)\n",
        "print('\\nRagged Tensor shape \\n',ragged.shape)"
      ],
      "execution_count": 64,
      "outputs": [
        {
          "output_type": "stream",
          "text": [
            "Ragged Tensor \n",
            " <tf.RaggedTensor [[3, 1, 4, 1], [], [5, 9, 2], [6], []]>\n",
            "\n",
            "Ragged Tensor shape \n",
            " (5, None)\n"
          ],
          "name": "stdout"
        }
      ]
    },
    {
      "cell_type": "markdown",
      "metadata": {
        "id": "xbZAXR4ZAs7i"
      },
      "source": [
        "## String tensors\n",
        "`tf.string` is a dtype, which is to say you can represent data as strings (variable-length byte arrays) in tensors.\n",
        "\n",
        "The strings are atomic and cannot be indexed the way Python strings are. The length of the string is not one of the axes of the tensor. \n",
        "\n",
        "Here is a scalar string tensor:"
      ]
    },
    {
      "cell_type": "code",
      "metadata": {
        "colab": {
          "base_uri": "https://localhost:8080/"
        },
        "id": "SGItI2a4AcNK",
        "outputId": "951c0f03-58fb-4c34-b55a-69952dfda190"
      },
      "source": [
        "merc = tf.constant('TOTO WOLF')\n",
        "print('string tensor', merc)"
      ],
      "execution_count": 65,
      "outputs": [
        {
          "output_type": "stream",
          "text": [
            "string tensor tf.Tensor(b'TOTO WOLF', shape=(), dtype=string)\n"
          ],
          "name": "stdout"
        }
      ]
    },
    {
      "cell_type": "markdown",
      "metadata": {
        "id": "jRGVCw2RBAFV"
      },
      "source": [
        "**A vector of strings, shape: [3,]**\n",
        "<img src='https://www.tensorflow.org/guide/images/tensor/strings.png' />"
      ]
    },
    {
      "cell_type": "code",
      "metadata": {
        "colab": {
          "base_uri": "https://localhost:8080/"
        },
        "id": "NEx-MsIEA7Wz",
        "outputId": "6f319249-7748-4fda-9699-b7603a69922a"
      },
      "source": [
        "# If you have three string tensors of different lengths, this is OK.\n",
        "benz = tf.constant(['TOTO WOLF','HAMILTON','BOTTAS'])\n",
        "print('string tensor', benz)\n",
        "# SHAPE -- string length is not included\n",
        "print('shape ',benz.shape)"
      ],
      "execution_count": 74,
      "outputs": [
        {
          "output_type": "stream",
          "text": [
            "string tensor tf.Tensor([b'TOTO WOLF' b'HAMILTON' b'BOTTAS'], shape=(3,), dtype=string)\n",
            "shape  (3,)\n"
          ],
          "name": "stdout"
        }
      ]
    },
    {
      "cell_type": "markdown",
      "metadata": {
        "id": "B0LQVJt1BoYq"
      },
      "source": [
        "**the `b` prefix indicates that `tf.string` dtype is not a unicode string, but a `byte-string`.**\n"
      ]
    },
    {
      "cell_type": "code",
      "metadata": {
        "colab": {
          "base_uri": "https://localhost:8080/"
        },
        "id": "5rmrDt8CBTbP",
        "outputId": "8c7e78c7-11dd-476e-84c8-35ec4a1568d5"
      },
      "source": [
        "# If you pass unicode characters they are utf-8 encoded.\n",
        "utf = tf.constant(\"🥳👍\")\n",
        "print('utf-8 encoded',utf)"
      ],
      "execution_count": 70,
      "outputs": [
        {
          "output_type": "stream",
          "text": [
            "utf-8 encoded tf.Tensor(b'\\xf0\\x9f\\xa5\\xb3\\xf0\\x9f\\x91\\x8d', shape=(), dtype=string)\n"
          ],
          "name": "stdout"
        }
      ]
    },
    {
      "cell_type": "code",
      "metadata": {
        "colab": {
          "base_uri": "https://localhost:8080/"
        },
        "id": "CEV3GuQ0B_KZ",
        "outputId": "abd60092-e4e8-4852-d527-ba0713d8d8c8"
      },
      "source": [
        "# You can use split to split a string into a set of tensors\n",
        "print(merc)\n",
        "print(tf.strings.split(merc, sep=\" \"))"
      ],
      "execution_count": 72,
      "outputs": [
        {
          "output_type": "stream",
          "text": [
            "tf.Tensor(b'TOTO WOLF', shape=(), dtype=string)\n",
            "tf.Tensor([b'TOTO' b'WOLF'], shape=(2,), dtype=string)\n"
          ],
          "name": "stdout"
        }
      ]
    },
    {
      "cell_type": "code",
      "metadata": {
        "colab": {
          "base_uri": "https://localhost:8080/"
        },
        "id": "tksGnW5HCOvz",
        "outputId": "ec4797c8-b1e7-4585-ea6d-78f1fe5f8803"
      },
      "source": [
        "# ...but it turns into a `RaggedTensor` if you split up a tensor of strings,\n",
        "# as each string might be split into a different number of parts.\n",
        "print(tf.strings.split(benz))"
      ],
      "execution_count": 73,
      "outputs": [
        {
          "output_type": "stream",
          "text": [
            "<tf.RaggedTensor [[b'TOTO', b'WOLF'], [b'HAMILTON'], [b'BOTTAS']]>\n"
          ],
          "name": "stdout"
        }
      ]
    },
    {
      "cell_type": "markdown",
      "metadata": {
        "id": "N7dJZFjTCzl8"
      },
      "source": [
        "**Three strings split, shape: [3, None]**\n",
        "<img src='https://www.tensorflow.org/guide/images/tensor/string-split.png' />"
      ]
    },
    {
      "cell_type": "code",
      "metadata": {
        "colab": {
          "base_uri": "https://localhost:8080/"
        },
        "id": "vT8crz_9ChcC",
        "outputId": "7ad47d68-7454-413d-a9be-9361b11f5694"
      },
      "source": [
        "text = tf.constant('1 2 3')\n",
        "print('Tensor',text.numpy())\n",
        "print('Type ',text.dtype)\n",
        "split = tf.strings.split(text, sep=\" \")\n",
        "print('Tensor splited ',split.numpy())\n",
        "num = tf.strings.to_number(split)\n",
        "print('change string to number', num.numpy())\n",
        "print('type ', num.dtype)"
      ],
      "execution_count": 78,
      "outputs": [
        {
          "output_type": "stream",
          "text": [
            "Tensor b'1 2 3'\n",
            "Type  <dtype: 'string'>\n",
            "Tensor splited  [b'1' b'2' b'3']\n",
            "change string to number [1. 2. 3.]\n",
            "type  <dtype: 'float32'>\n"
          ],
          "name": "stdout"
        }
      ]
    },
    {
      "cell_type": "markdown",
      "metadata": {
        "id": "zWejjsgsD8iA"
      },
      "source": [
        "**Although you can't use tf.cast to turn a string tensor into numbers, you can convert it into bytes, and then into numbers**."
      ]
    },
    {
      "cell_type": "code",
      "metadata": {
        "colab": {
          "base_uri": "https://localhost:8080/"
        },
        "id": "JGSE7oGDDHom",
        "outputId": "32b1a18f-d52c-457f-d4ee-8259cfbb0d80"
      },
      "source": [
        "byte_strings = tf.strings.bytes_split(tf.constant(\"Duck\"))\n",
        "byte_ints = tf.io.decode_raw(tf.constant(\"Duck\"), tf.uint8)\n",
        "print(\"Byte strings:\", byte_strings)\n",
        "print(\"Bytes:\", byte_ints)"
      ],
      "execution_count": 79,
      "outputs": [
        {
          "output_type": "stream",
          "text": [
            "Byte strings: tf.Tensor([b'D' b'u' b'c' b'k'], shape=(4,), dtype=string)\n",
            "Bytes: tf.Tensor([ 68 117  99 107], shape=(4,), dtype=uint8)\n"
          ],
          "name": "stdout"
        }
      ]
    },
    {
      "cell_type": "code",
      "metadata": {
        "colab": {
          "base_uri": "https://localhost:8080/"
        },
        "id": "952mBQ96EEpS",
        "outputId": "34d2043a-54cf-4bd8-81f8-e6eaaf09a621"
      },
      "source": [
        "# Or split it up as unicode and then decode it\n",
        "unicode_bytes = tf.constant(\"アヒル 🦆\")\n",
        "unicode_char_bytes = tf.strings.unicode_split(unicode_bytes, 'UTF-8')\n",
        "unicode_vals = tf.strings.unicode_decode(unicode_char_bytes, 'UTF-8')\n",
        "print('unicode', unicode_vals)"
      ],
      "execution_count": 84,
      "outputs": [
        {
          "output_type": "stream",
          "text": [
            "unicode <tf.RaggedTensor [[12450], [12498], [12523], [32], [129414]]>\n"
          ],
          "name": "stdout"
        }
      ]
    },
    {
      "cell_type": "markdown",
      "metadata": {
        "id": "Mev0U-n6FIUr"
      },
      "source": [
        "## Sparse tensors\n",
        "Sometimes, your data is sparse, like a very wide embedding space. \n",
        "\n",
        "* use `tf.sparse.SparseTensor`  to store sparse data efficiently.\n",
        "\n",
        "A tf.SparseTensor, shape: `[3, 4]`\n",
        "\n",
        "<img src='https://www.tensorflow.org/guide/images/tensor/sparse.png' />"
      ]
    },
    {
      "cell_type": "code",
      "metadata": {
        "colab": {
          "base_uri": "https://localhost:8080/"
        },
        "id": "GjJQERqGEWk_",
        "outputId": "dc0b4b34-7741-41e6-ffe8-cc4a36217fe4"
      },
      "source": [
        "sparse = tf.sparse.SparseTensor(indices=[[0,0],[1,2]], values=[1,2], dense_shape=[3,4])\n",
        "print('sparse tensor \\n\\n',sparse)\n",
        "\n",
        "# You can convert sparse tensors to dense\n",
        "print('\\n\\nsparese to dense\\n',tf.sparse.to_dense(sparse) )"
      ],
      "execution_count": 87,
      "outputs": [
        {
          "output_type": "stream",
          "text": [
            "sparse tensor \n",
            "\n",
            " SparseTensor(indices=tf.Tensor(\n",
            "[[0 0]\n",
            " [1 2]], shape=(2, 2), dtype=int64), values=tf.Tensor([1 2], shape=(2,), dtype=int32), dense_shape=tf.Tensor([3 4], shape=(2,), dtype=int64))\n",
            "\n",
            "\n",
            "sparese to dense\n",
            " tf.Tensor(\n",
            "[[1 0 0 0]\n",
            " [0 0 2 0]\n",
            " [0 0 0 0]], shape=(3, 4), dtype=int32)\n"
          ],
          "name": "stdout"
        }
      ]
    },
    {
      "cell_type": "code",
      "metadata": {
        "id": "hUxTQZIaFq9-"
      },
      "source": [
        ""
      ],
      "execution_count": null,
      "outputs": []
    }
  ]
}