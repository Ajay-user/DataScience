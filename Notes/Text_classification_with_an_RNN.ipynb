{
  "nbformat": 4,
  "nbformat_minor": 0,
  "metadata": {
    "colab": {
      "name": "Text classification with an RNN.ipynb",
      "provenance": [],
      "authorship_tag": "ABX9TyNCsRzdke4kVm5U9PeWJZp5",
      "include_colab_link": true
    },
    "kernelspec": {
      "name": "python3",
      "display_name": "Python 3"
    },
    "language_info": {
      "name": "python"
    }
  },
  "cells": [
    {
      "cell_type": "markdown",
      "metadata": {
        "id": "view-in-github",
        "colab_type": "text"
      },
      "source": [
        "<a href=\"https://colab.research.google.com/github/Ajay-user/DataScience/blob/master/Notes/Text_classification_with_an_RNN.ipynb\" target=\"_parent\"><img src=\"https://colab.research.google.com/assets/colab-badge.svg\" alt=\"Open In Colab\"/></a>"
      ]
    },
    {
      "cell_type": "markdown",
      "metadata": {
        "id": "pQ1om1-PMq18"
      },
      "source": [
        "**Trains a recurrent neural network on the IMDB large movie review dataset for sentiment analysis.**\n"
      ]
    },
    {
      "cell_type": "code",
      "metadata": {
        "id": "XQswyDqwMkx2"
      },
      "source": [
        "import numpy as np\n",
        "import matplotlib.pyplot as plt\n",
        "import tensorflow as tf\n",
        "import tensorflow_datasets as tfds"
      ],
      "execution_count": 1,
      "outputs": []
    },
    {
      "cell_type": "markdown",
      "metadata": {
        "id": "ptnpGZO_NbSB"
      },
      "source": [
        "## Create a helper function to plot graphs"
      ]
    },
    {
      "cell_type": "code",
      "metadata": {
        "id": "PA8U76HJNEFW"
      },
      "source": [
        "def plot_graph(history, metric):\n",
        "  plt.plot(history[metric])\n",
        "  plt.plot(history['val_'+metric])\n",
        "  plt.xlabel('Epochs')\n",
        "  plt.ylabel(metric)\n",
        "  plt.legend([metric, 'val'+metric])"
      ],
      "execution_count": 2,
      "outputs": []
    },
    {
      "cell_type": "markdown",
      "metadata": {
        "id": "YOoSfeklSSoX"
      },
      "source": [
        "## Setup input pipeline\n",
        "The IMDB large movie review dataset is a binary classification dataset—all the reviews have either a positive or negative sentiment.\n",
        "\n",
        "Download the dataset using TFDS."
      ]
    },
    {
      "cell_type": "code",
      "metadata": {
        "id": "J_N8X_qFSLSM"
      },
      "source": [
        "dataset ,info = tfds.load(name='imdb_reviews', as_supervised=True, with_info=True)"
      ],
      "execution_count": 4,
      "outputs": []
    },
    {
      "cell_type": "code",
      "metadata": {
        "id": "9zdOEKXZS48F"
      },
      "source": [
        "training_dataset, testing_dataset = dataset['train'], dataset['test']"
      ],
      "execution_count": 6,
      "outputs": []
    },
    {
      "cell_type": "code",
      "metadata": {
        "colab": {
          "base_uri": "https://localhost:8080/"
        },
        "id": "m4r56u9lTbA9",
        "outputId": "22bd6868-8b3c-45b3-a1e6-761f5d42a769"
      },
      "source": [
        "print('Training dataset spec',training_dataset.element_spec)\n",
        "print('Testing dataset spec',testing_dataset.element_spec)"
      ],
      "execution_count": 7,
      "outputs": [
        {
          "output_type": "stream",
          "text": [
            "Training dataset spec (TensorSpec(shape=(), dtype=tf.string, name=None), TensorSpec(shape=(), dtype=tf.int64, name=None))\n",
            "Testing dataset spec (TensorSpec(shape=(), dtype=tf.string, name=None), TensorSpec(shape=(), dtype=tf.int64, name=None))\n"
          ],
          "name": "stdout"
        }
      ]
    },
    {
      "cell_type": "markdown",
      "metadata": {
        "id": "asgjZQnST5Tg"
      },
      "source": [
        "Initially this returns a dataset of (text, label pairs):"
      ]
    },
    {
      "cell_type": "code",
      "metadata": {
        "colab": {
          "base_uri": "https://localhost:8080/"
        },
        "id": "NbNqEnJDT0nr",
        "outputId": "727b5c95-542f-451b-c97b-4f5e35e1d8e5"
      },
      "source": [
        "for example_text, example_label in training_dataset.take(1):\n",
        "  print('Review:',example_text)\n",
        "  print('Label:',example_label)"
      ],
      "execution_count": 8,
      "outputs": [
        {
          "output_type": "stream",
          "text": [
            "Review: tf.Tensor(b\"This was an absolutely terrible movie. Don't be lured in by Christopher Walken or Michael Ironside. Both are great actors, but this must simply be their worst role in history. Even their great acting could not redeem this movie's ridiculous storyline. This movie is an early nineties US propaganda piece. The most pathetic scenes were those when the Columbian rebels were making their cases for revolutions. Maria Conchita Alonso appeared phony, and her pseudo-love affair with Walken was nothing but a pathetic emotional plug in a movie that was devoid of any real meaning. I am disappointed that there are movies like this, ruining actor's like Christopher Walken's good name. I could barely sit through it.\", shape=(), dtype=string)\n",
            "Label: tf.Tensor(0, shape=(), dtype=int64)\n"
          ],
          "name": "stdout"
        }
      ]
    },
    {
      "cell_type": "markdown",
      "metadata": {
        "id": "oyUoqh2PURZB"
      },
      "source": [
        "Next shuffle the data for training and create batches of these (text, label) pairs:"
      ]
    },
    {
      "cell_type": "code",
      "metadata": {
        "id": "L6CUOH4AUK2K"
      },
      "source": [
        "\n",
        "BUFFER_SIZE = 10000\n",
        "BATCH_SIZE = 64\n",
        "\n",
        "training_dataset = training_dataset.shuffle(BUFFER_SIZE).batch(BATCH_SIZE).prefetch(tf.data.AUTOTUNE)\n",
        "testing_dataset = testing_dataset.batch(BATCH_SIZE).prefetch(tf.data.AUTOTUNE)"
      ],
      "execution_count": 9,
      "outputs": []
    },
    {
      "cell_type": "code",
      "metadata": {
        "colab": {
          "base_uri": "https://localhost:8080/"
        },
        "id": "TcAkpI3BUnjM",
        "outputId": "71bd382c-17eb-4e86-edc2-75be43cdf2a8"
      },
      "source": [
        "example_text_batch , example_label_batch = next(iter(training_dataset))\n",
        "\n",
        "for i in range(3):\n",
        "  print('Review:', example_text_batch[i])\n",
        "  print('Label:', example_label_batch[i])"
      ],
      "execution_count": 10,
      "outputs": [
        {
          "output_type": "stream",
          "text": [
            "Review: tf.Tensor(b'This movie is very entertaining, and any critique is based on personal preferences - not the films quality. Other than the common excessive profanity in some scenes by Murphy, the film is a great vehicle for his type of humor. It has some pretty good special effects, and exciting action scenes.<br /><br />As a finder of lost children, Murphy\\'s character starts off looking for a missing girl, which leads him on the path for which others believe he was \"chosen\" - - to protect the Golden Child. The young boy is born as an enlightened one, destined to save the world from evil forces, but whose very life is in danger, if not for the help of Murphy, and his beautiful, mysterious and mystical helper/guide/protector.<br /><br />Also, there are moments of philosophical lessons to challenge the audience members who are interested in pondering deep thoughts. One such scene is where the Golden Child, that Murphy\\'s character is solicited to protect, is tested by the monks of the mountain temple. An elderly monk presents a tray of ornamental necklaces for the child to choose from, and the child is tested on his choice.<br /><br />This is a fantasy/comedy that is based on the notion that there are both good and evil forces in our world of which most people are completely unaware. As we accept this premise of the plot, we must let go of our touch with a perceived daily reality, and prepare for the earth and walls to crumble away, and reveal a realm of evil just waiting to destroy us.<br /><br />This is an excellent movie, with a good plot, fine acting, and for the most part, pretty decent dialogue combining a serious topic with a healthy balance of Martial Art fighting, and Eddie Murphy humor.', shape=(), dtype=string)\n",
            "Label: tf.Tensor(1, shape=(), dtype=int64)\n",
            "Review: tf.Tensor(b\"My friend had the idea of watching the animated LOTR after seeing the Peter Jackson Return of The King. So I finally bought it off e-bay, thinking right from the start it was going to suck. Actually, it really wasn't as bad as I thought it would be. The animation was good for its time, they used a unique method of blending live action with animation to create some interesting effects, and the guy who did the voice for Frodo sounded somewhat like Elijah Wood.<br /><br />Not the greatest adaptation of a book, but trust me, I've seen a lot worse. It skips quite a lot of things, since both Fellowship and The Two Towers are compressed into one two hour movie. Definatley worth a watch, kids might like, but still, absoutley no comparision with the Peter Jackson trilogy.\", shape=(), dtype=string)\n",
            "Label: tf.Tensor(1, shape=(), dtype=int64)\n",
            "Review: tf.Tensor(b\"Purple Rain is a great film if you are a 40-something music lover who partied to Prince music in the 1980s. The story is a much-used formula: Rising musical talent must overcome personal and professional hurdles to find his audience and self-respect. Prince is a bad actor, but his performance, especially of Purple Rain/I Would Die 4 U make it worth sitting through the film. He is himself and as a showman, as powerful on stage as Mick Jagger or Michael Jackson, circa Thriller. Apollonia Kotero, a former Prince prot\\xc3\\xa9g\\xc3\\xa9, is beautiful and shows some acting talent and chemistry with Prince, but her script doesn't let her far. Morris Day and other supporting actors provide comedic elements.\", shape=(), dtype=string)\n",
            "Label: tf.Tensor(1, shape=(), dtype=int64)\n"
          ],
          "name": "stdout"
        }
      ]
    },
    {
      "cell_type": "markdown",
      "metadata": {
        "id": "AgKZfMupVZet"
      },
      "source": [
        "## Create the text encoder\n",
        "The raw text loaded by tfds needs to be processed before it can be used in a model. The simplest way to process text for training is using the `experimental.preprocessing.TextVectorization` layer. "
      ]
    },
    {
      "cell_type": "code",
      "metadata": {
        "id": "Gqr-MOebWVPU"
      },
      "source": [
        "import re\n",
        "import string"
      ],
      "execution_count": 11,
      "outputs": []
    },
    {
      "cell_type": "code",
      "metadata": {
        "id": "aGXUHCCsVDTi"
      },
      "source": [
        "def custom_standardization(text):\n",
        "  lowercase = tf.strings.lower(text)\n",
        "  stripped_html = tf.strings.regex_replace(lowercase, \"<[^>]+>\", ' ')\n",
        "  return tf.strings.regex_replace(stripped_html,'[%s]' % re.escape(string.punctuation), '')"
      ],
      "execution_count": 16,
      "outputs": []
    },
    {
      "cell_type": "code",
      "metadata": {
        "colab": {
          "base_uri": "https://localhost:8080/"
        },
        "id": "YdNF12HQYMuM",
        "outputId": "eba3f683-70ed-4034-dc62-4f4f86fabe07"
      },
      "source": [
        "# eg: standardization\n",
        "print('Text before standardization \\n',example_text_batch[0])\n",
        "print('Text after standardization \\n',custom_standardization(example_text_batch[0]))"
      ],
      "execution_count": 17,
      "outputs": [
        {
          "output_type": "stream",
          "text": [
            "Text before standardization \n",
            " tf.Tensor(b'This movie is very entertaining, and any critique is based on personal preferences - not the films quality. Other than the common excessive profanity in some scenes by Murphy, the film is a great vehicle for his type of humor. It has some pretty good special effects, and exciting action scenes.<br /><br />As a finder of lost children, Murphy\\'s character starts off looking for a missing girl, which leads him on the path for which others believe he was \"chosen\" - - to protect the Golden Child. The young boy is born as an enlightened one, destined to save the world from evil forces, but whose very life is in danger, if not for the help of Murphy, and his beautiful, mysterious and mystical helper/guide/protector.<br /><br />Also, there are moments of philosophical lessons to challenge the audience members who are interested in pondering deep thoughts. One such scene is where the Golden Child, that Murphy\\'s character is solicited to protect, is tested by the monks of the mountain temple. An elderly monk presents a tray of ornamental necklaces for the child to choose from, and the child is tested on his choice.<br /><br />This is a fantasy/comedy that is based on the notion that there are both good and evil forces in our world of which most people are completely unaware. As we accept this premise of the plot, we must let go of our touch with a perceived daily reality, and prepare for the earth and walls to crumble away, and reveal a realm of evil just waiting to destroy us.<br /><br />This is an excellent movie, with a good plot, fine acting, and for the most part, pretty decent dialogue combining a serious topic with a healthy balance of Martial Art fighting, and Eddie Murphy humor.', shape=(), dtype=string)\n",
            "Text after standardization \n",
            " tf.Tensor(b'this movie is very entertaining and any critique is based on personal preferences  not the films quality other than the common excessive profanity in some scenes by murphy the film is a great vehicle for his type of humor it has some pretty good special effects and exciting action scenes  as a finder of lost children murphys character starts off looking for a missing girl which leads him on the path for which others believe he was chosen   to protect the golden child the young boy is born as an enlightened one destined to save the world from evil forces but whose very life is in danger if not for the help of murphy and his beautiful mysterious and mystical helperguideprotector  also there are moments of philosophical lessons to challenge the audience members who are interested in pondering deep thoughts one such scene is where the golden child that murphys character is solicited to protect is tested by the monks of the mountain temple an elderly monk presents a tray of ornamental necklaces for the child to choose from and the child is tested on his choice  this is a fantasycomedy that is based on the notion that there are both good and evil forces in our world of which most people are completely unaware as we accept this premise of the plot we must let go of our touch with a perceived daily reality and prepare for the earth and walls to crumble away and reveal a realm of evil just waiting to destroy us  this is an excellent movie with a good plot fine acting and for the most part pretty decent dialogue combining a serious topic with a healthy balance of martial art fighting and eddie murphy humor', shape=(), dtype=string)\n"
          ],
          "name": "stdout"
        }
      ]
    },
    {
      "cell_type": "markdown",
      "metadata": {
        "id": "gL3OuFzTZFN9"
      },
      "source": [
        "Text vectoriztion layer\n",
        "* standardize\n",
        "* tokenize\n",
        "* vectorize "
      ]
    },
    {
      "cell_type": "code",
      "metadata": {
        "id": "6OHSuynCYc0K"
      },
      "source": [
        "VOCAB_SIZE = 1000\n",
        "\n",
        "encoder = tf.keras.layers.experimental.preprocessing.TextVectorization(max_tokens=VOCAB_SIZE, standardize=custom_standardization)"
      ],
      "execution_count": 18,
      "outputs": []
    },
    {
      "cell_type": "code",
      "metadata": {
        "id": "VCr8OKg-Z7rB"
      },
      "source": [
        "# create a text-only dataset and call adapt on it \n",
        "text_ds = training_dataset.map(lambda text,label:text)"
      ],
      "execution_count": 19,
      "outputs": []
    },
    {
      "cell_type": "code",
      "metadata": {
        "id": "Qg1-S8_eaKKK"
      },
      "source": [
        "encoder.adapt(text_ds)"
      ],
      "execution_count": 20,
      "outputs": []
    },
    {
      "cell_type": "code",
      "metadata": {
        "colab": {
          "base_uri": "https://localhost:8080/"
        },
        "id": "aanEY0KKaOfd",
        "outputId": "47aa7905-af0c-4786-d6f7-552897ed5bcd"
      },
      "source": [
        "print('Length of vocabulary', len(encoder.get_vocabulary()))\n",
        "print('First five words of vocabulary', encoder.get_vocabulary()[:5])"
      ],
      "execution_count": 22,
      "outputs": [
        {
          "output_type": "stream",
          "text": [
            "Length of vocabulary 1000\n",
            "First five words of vocabulary ['', '[UNK]', 'the', 'and', 'a']\n"
          ],
          "name": "stdout"
        }
      ]
    },
    {
      "cell_type": "markdown",
      "metadata": {
        "id": "XeSoUlv_bGZP"
      },
      "source": [
        "Once the vocabulary is set, the layer can encode text into indices. The tensors of indices are 0-padded to the longest sequence in the batch (unless you set a fixed `output_sequence_length`):"
      ]
    },
    {
      "cell_type": "code",
      "metadata": {
        "colab": {
          "base_uri": "https://localhost:8080/"
        },
        "id": "2wJNG-OraXBc",
        "outputId": "85f7f82a-c170-4d1d-e479-48a5dd3c9838"
      },
      "source": [
        "for i in range(3):\n",
        "  print('Text before encoding \\n',example_text_batch[i])\n",
        "  print('Text after encoding \\n',encoder(example_text_batch)[i])"
      ],
      "execution_count": 27,
      "outputs": [
        {
          "output_type": "stream",
          "text": [
            "Text before encoding \n",
            " tf.Tensor(b'This movie is very entertaining, and any critique is based on personal preferences - not the films quality. Other than the common excessive profanity in some scenes by Murphy, the film is a great vehicle for his type of humor. It has some pretty good special effects, and exciting action scenes.<br /><br />As a finder of lost children, Murphy\\'s character starts off looking for a missing girl, which leads him on the path for which others believe he was \"chosen\" - - to protect the Golden Child. The young boy is born as an enlightened one, destined to save the world from evil forces, but whose very life is in danger, if not for the help of Murphy, and his beautiful, mysterious and mystical helper/guide/protector.<br /><br />Also, there are moments of philosophical lessons to challenge the audience members who are interested in pondering deep thoughts. One such scene is where the Golden Child, that Murphy\\'s character is solicited to protect, is tested by the monks of the mountain temple. An elderly monk presents a tray of ornamental necklaces for the child to choose from, and the child is tested on his choice.<br /><br />This is a fantasy/comedy that is based on the notion that there are both good and evil forces in our world of which most people are completely unaware. As we accept this premise of the plot, we must let go of our touch with a perceived daily reality, and prepare for the earth and walls to crumble away, and reveal a realm of evil just waiting to destroy us.<br /><br />This is an excellent movie, with a good plot, fine acting, and for the most part, pretty decent dialogue combining a serious topic with a healthy balance of Martial Art fighting, and Eddie Murphy humor.', shape=(), dtype=string)\n",
            "Text after encoding \n",
            " tf.Tensor(\n",
            "[ 11  17   7  52 434   3  99   1   7 451  20 932   1  21   2  95 491  79\n",
            "  70   2   1   1   1   8  46 135  32   1   2  19   7   4  84   1  15  24\n",
            " 588   5 478   9  43  46 179  49 309 301   3   1 215 135  14   4   1   5\n",
            " 407 465   1 107 501 127 282  15   4 978 245  60 791  87  20   2   1  15\n",
            "  60 371 255  27  13   1   6   1   2   1 516   2 181 442   7   1  14  33\n",
            "   1  28   1   6 583   2 183  35 433   1  18 604  52 117   7   8   1  44\n",
            "  21  15   2 326   5   1   3  24 299   1   3   1   1  77  47  23 372   5\n",
            "   1   1   6   1   2 305   1  36  23 901   8   1 942   1  28 136 132   7\n",
            " 114   2   1 516  12   1 107   7   1   6   1   7   1  32   2   1   5   2\n",
            "   1   1  33   1   1   1   4   1   5   1   1  15   2 516   6   1  35   3\n",
            "   2 516   7   1  20  24   1  11   7   4   1  12   7 451  20   2   1  12\n",
            "  47  23 190  49   3 433   1   8 253 183   5  60  88  81  23 327   1  14\n",
            "  71   1  11 834   5   2 112  71 219 377 137   5 253   1  16   4   1   1\n",
            " 631   3   1  15   2 705   3   1   6   1 239   3   1   4   1   5 433  40\n",
            "   1   6   1 167  11   7  33 312  17  16   4  49 112 468 111   3  15   2\n",
            "  88 170 179 532 405   1   4 608   1  16   4   1   1   5   1 522 996   3\n",
            "   1   1 478   0   0   0   0   0   0   0   0   0   0   0   0   0   0   0\n",
            "   0   0   0   0   0   0   0   0   0   0   0   0   0   0   0   0   0   0\n",
            "   0   0   0   0   0   0   0   0   0   0   0   0   0   0   0   0   0   0\n",
            "   0   0   0   0   0   0   0   0   0   0   0   0   0   0   0   0   0   0\n",
            "   0   0   0   0   0   0   0   0   0   0   0   0   0   0   0   0   0   0\n",
            "   0   0   0   0   0   0   0   0   0   0   0   0   0   0   0   0   0   0\n",
            "   0   0   0   0   0   0   0   0   0   0   0   0   0   0   0   0   0   0\n",
            "   0   0   0   0   0   0   0   0   0   0   0   0   0   0   0   0   0   0\n",
            "   0   0   0   0   0   0   0   0   0   0   0   0   0   0   0   0   0   0\n",
            "   0   0   0   0   0   0   0   0   0   0   0   0   0   0   0   0   0   0\n",
            "   0   0   0   0   0   0   0   0   0   0   0   0   0   0   0   0   0   0\n",
            "   0   0   0   0   0   0   0   0   0   0   0   0   0   0   0   0   0   0\n",
            "   0   0   0   0   0   0   0   0   0   0   0   0   0   0   0   0   0   0\n",
            "   0   0   0   0   0   0   0   0   0   0   0   0   0   0   0   0   0   0\n",
            "   0   0   0   0   0   0   0   0   0   0   0   0   0   0   0   0   0   0\n",
            "   0   0   0   0   0   0   0   0   0   0   0   0   0   0   0   0   0   0\n",
            "   0   0   0   0   0   0   0   0   0   0   0   0   0   0   0   0   0   0\n",
            "   0   0   0   0   0   0   0   0   0   0   0   0   0   0   0   0   0   0\n",
            "   0   0   0   0   0   0   0   0   0   0], shape=(622,), dtype=int64)\n",
            "Text before encoding \n",
            " tf.Tensor(b\"My friend had the idea of watching the animated LOTR after seeing the Peter Jackson Return of The King. So I finally bought it off e-bay, thinking right from the start it was going to suck. Actually, it really wasn't as bad as I thought it would be. The animation was good for its time, they used a unique method of blending live action with animation to create some interesting effects, and the guy who did the voice for Frodo sounded somewhat like Elijah Wood.<br /><br />Not the greatest adaptation of a book, but trust me, I've seen a lot worse. It skips quite a lot of things, since both Fellowship and The Two Towers are compressed into one two hour movie. Definatley worth a watch, kids might like, but still, absoutley no comparision with the Peter Jackson trilogy.\", shape=(), dtype=string)\n",
            "Text after encoding \n",
            " tf.Tensor(\n",
            "[ 55 463  67   2 313   5 145   2   1   1 100 308   2 799   1 943   5   2\n",
            " 681  37  10 401   1   9 127   1 526 203  35   2 366   9  13 165   6   1\n",
            " 157   9  62 268  14  80  14  10 199   9  58  26   2 731  13  49  15  29\n",
            "  59  34 335   4 930   1   5   1 417 215  16 731   6 963  46 213 301   3\n",
            "   2 230  36 116   2 577  15   1   1 623  38   1   1  21   2 804   1   5\n",
            "   4 269  18   1  69 197 106   4 169 429   9   1 176   4 169   5 178 231\n",
            " 190   1   3   2 104   1  23   1  78  28 104 558  17   1 280   4 103 324\n",
            " 228  38  18 124   1  57   1  16   2 799   1   1   0   0   0   0   0   0\n",
            "   0   0   0   0   0   0   0   0   0   0   0   0   0   0   0   0   0   0\n",
            "   0   0   0   0   0   0   0   0   0   0   0   0   0   0   0   0   0   0\n",
            "   0   0   0   0   0   0   0   0   0   0   0   0   0   0   0   0   0   0\n",
            "   0   0   0   0   0   0   0   0   0   0   0   0   0   0   0   0   0   0\n",
            "   0   0   0   0   0   0   0   0   0   0   0   0   0   0   0   0   0   0\n",
            "   0   0   0   0   0   0   0   0   0   0   0   0   0   0   0   0   0   0\n",
            "   0   0   0   0   0   0   0   0   0   0   0   0   0   0   0   0   0   0\n",
            "   0   0   0   0   0   0   0   0   0   0   0   0   0   0   0   0   0   0\n",
            "   0   0   0   0   0   0   0   0   0   0   0   0   0   0   0   0   0   0\n",
            "   0   0   0   0   0   0   0   0   0   0   0   0   0   0   0   0   0   0\n",
            "   0   0   0   0   0   0   0   0   0   0   0   0   0   0   0   0   0   0\n",
            "   0   0   0   0   0   0   0   0   0   0   0   0   0   0   0   0   0   0\n",
            "   0   0   0   0   0   0   0   0   0   0   0   0   0   0   0   0   0   0\n",
            "   0   0   0   0   0   0   0   0   0   0   0   0   0   0   0   0   0   0\n",
            "   0   0   0   0   0   0   0   0   0   0   0   0   0   0   0   0   0   0\n",
            "   0   0   0   0   0   0   0   0   0   0   0   0   0   0   0   0   0   0\n",
            "   0   0   0   0   0   0   0   0   0   0   0   0   0   0   0   0   0   0\n",
            "   0   0   0   0   0   0   0   0   0   0   0   0   0   0   0   0   0   0\n",
            "   0   0   0   0   0   0   0   0   0   0   0   0   0   0   0   0   0   0\n",
            "   0   0   0   0   0   0   0   0   0   0   0   0   0   0   0   0   0   0\n",
            "   0   0   0   0   0   0   0   0   0   0   0   0   0   0   0   0   0   0\n",
            "   0   0   0   0   0   0   0   0   0   0   0   0   0   0   0   0   0   0\n",
            "   0   0   0   0   0   0   0   0   0   0   0   0   0   0   0   0   0   0\n",
            "   0   0   0   0   0   0   0   0   0   0   0   0   0   0   0   0   0   0\n",
            "   0   0   0   0   0   0   0   0   0   0   0   0   0   0   0   0   0   0\n",
            "   0   0   0   0   0   0   0   0   0   0   0   0   0   0   0   0   0   0\n",
            "   0   0   0   0   0   0   0   0   0   0], shape=(622,), dtype=int64)\n",
            "Text before encoding \n",
            " tf.Tensor(b\"Purple Rain is a great film if you are a 40-something music lover who partied to Prince music in the 1980s. The story is a much-used formula: Rising musical talent must overcome personal and professional hurdles to find his audience and self-respect. Prince is a bad actor, but his performance, especially of Purple Rain/I Would Die 4 U make it worth sitting through the film. He is himself and as a showman, as powerful on stage as Mick Jagger or Michael Jackson, circa Thriller. Apollonia Kotero, a former Prince prot\\xc3\\xa9g\\xc3\\xa9, is beautiful and shows some acting talent and chemistry with Prince, but her script doesn't let her far. Morris Day and other supporting actors provide comedic elements.\", shape=(), dtype=string)\n",
            "Text after encoding \n",
            " tf.Tensor(\n",
            "[  1   1   7   4  84  19  44  22  23   4   1 223   1  36   1   6   1 223\n",
            "   8   2   1   2  63   7   4   1   1   1 621 665 219   1 932   3   1   1\n",
            "   6 161  24 305   3   1   1   7   4  80 287  18  24 233 260   5   1   1\n",
            "  58 833 655   1  96   9 280   1 140   2  19  27   7 300   3  14   4   1\n",
            "  14 962  20 868  14   1   1  41 489   1   1 761   1   1   4   1   1   1\n",
            "   7 299   3 262  46 111 665   3   1  16   1  18  39 224 144 377  39 234\n",
            "   1 256   3  79 677 151   1   1 766   0   0   0   0   0   0   0   0   0\n",
            "   0   0   0   0   0   0   0   0   0   0   0   0   0   0   0   0   0   0\n",
            "   0   0   0   0   0   0   0   0   0   0   0   0   0   0   0   0   0   0\n",
            "   0   0   0   0   0   0   0   0   0   0   0   0   0   0   0   0   0   0\n",
            "   0   0   0   0   0   0   0   0   0   0   0   0   0   0   0   0   0   0\n",
            "   0   0   0   0   0   0   0   0   0   0   0   0   0   0   0   0   0   0\n",
            "   0   0   0   0   0   0   0   0   0   0   0   0   0   0   0   0   0   0\n",
            "   0   0   0   0   0   0   0   0   0   0   0   0   0   0   0   0   0   0\n",
            "   0   0   0   0   0   0   0   0   0   0   0   0   0   0   0   0   0   0\n",
            "   0   0   0   0   0   0   0   0   0   0   0   0   0   0   0   0   0   0\n",
            "   0   0   0   0   0   0   0   0   0   0   0   0   0   0   0   0   0   0\n",
            "   0   0   0   0   0   0   0   0   0   0   0   0   0   0   0   0   0   0\n",
            "   0   0   0   0   0   0   0   0   0   0   0   0   0   0   0   0   0   0\n",
            "   0   0   0   0   0   0   0   0   0   0   0   0   0   0   0   0   0   0\n",
            "   0   0   0   0   0   0   0   0   0   0   0   0   0   0   0   0   0   0\n",
            "   0   0   0   0   0   0   0   0   0   0   0   0   0   0   0   0   0   0\n",
            "   0   0   0   0   0   0   0   0   0   0   0   0   0   0   0   0   0   0\n",
            "   0   0   0   0   0   0   0   0   0   0   0   0   0   0   0   0   0   0\n",
            "   0   0   0   0   0   0   0   0   0   0   0   0   0   0   0   0   0   0\n",
            "   0   0   0   0   0   0   0   0   0   0   0   0   0   0   0   0   0   0\n",
            "   0   0   0   0   0   0   0   0   0   0   0   0   0   0   0   0   0   0\n",
            "   0   0   0   0   0   0   0   0   0   0   0   0   0   0   0   0   0   0\n",
            "   0   0   0   0   0   0   0   0   0   0   0   0   0   0   0   0   0   0\n",
            "   0   0   0   0   0   0   0   0   0   0   0   0   0   0   0   0   0   0\n",
            "   0   0   0   0   0   0   0   0   0   0   0   0   0   0   0   0   0   0\n",
            "   0   0   0   0   0   0   0   0   0   0   0   0   0   0   0   0   0   0\n",
            "   0   0   0   0   0   0   0   0   0   0   0   0   0   0   0   0   0   0\n",
            "   0   0   0   0   0   0   0   0   0   0   0   0   0   0   0   0   0   0\n",
            "   0   0   0   0   0   0   0   0   0   0], shape=(622,), dtype=int64)\n"
          ],
          "name": "stdout"
        }
      ]
    },
    {
      "cell_type": "markdown",
      "metadata": {
        "id": "_TdgRKWJcQuq"
      },
      "source": [
        "With the default settings, the process is not completely reversible. There are three main reasons for that:\n",
        "\n",
        "* The default value for preprocessing.TextVectorization's standardize argument is \"lower_and_strip_punctuation\".\n",
        "* The limited vocabulary size\n",
        "* The lack of character-based fallback results in some unknown tokens."
      ]
    },
    {
      "cell_type": "code",
      "metadata": {
        "colab": {
          "base_uri": "https://localhost:8080/"
        },
        "id": "GN7Ehc7AbWbY",
        "outputId": "22665e9c-b394-436f-8427-1aaa327db2e8"
      },
      "source": [
        "vocab = np.array(encoder.get_vocabulary())\n",
        "\n",
        "for i in range(3):\n",
        "  print('Text before encoding: \\n',example_text_batch[i])\n",
        "  print('Text after encoding: \\n',encoder(example_text_batch[i]))\n",
        "  print('Reverse the encoding: \\n', ' '.join(vocab[encoder(example_text_batch[i]).numpy()]))\n",
        "  print('\\n')"
      ],
      "execution_count": 48,
      "outputs": [
        {
          "output_type": "stream",
          "text": [
            "Text before encoding: \n",
            " tf.Tensor(b'This movie is very entertaining, and any critique is based on personal preferences - not the films quality. Other than the common excessive profanity in some scenes by Murphy, the film is a great vehicle for his type of humor. It has some pretty good special effects, and exciting action scenes.<br /><br />As a finder of lost children, Murphy\\'s character starts off looking for a missing girl, which leads him on the path for which others believe he was \"chosen\" - - to protect the Golden Child. The young boy is born as an enlightened one, destined to save the world from evil forces, but whose very life is in danger, if not for the help of Murphy, and his beautiful, mysterious and mystical helper/guide/protector.<br /><br />Also, there are moments of philosophical lessons to challenge the audience members who are interested in pondering deep thoughts. One such scene is where the Golden Child, that Murphy\\'s character is solicited to protect, is tested by the monks of the mountain temple. An elderly monk presents a tray of ornamental necklaces for the child to choose from, and the child is tested on his choice.<br /><br />This is a fantasy/comedy that is based on the notion that there are both good and evil forces in our world of which most people are completely unaware. As we accept this premise of the plot, we must let go of our touch with a perceived daily reality, and prepare for the earth and walls to crumble away, and reveal a realm of evil just waiting to destroy us.<br /><br />This is an excellent movie, with a good plot, fine acting, and for the most part, pretty decent dialogue combining a serious topic with a healthy balance of Martial Art fighting, and Eddie Murphy humor.', shape=(), dtype=string)\n",
            "Text after encoding: \n",
            " tf.Tensor(\n",
            "[ 11  17   7  52 434   3  99   1   7 451  20 932   1  21   2  95 491  79\n",
            "  70   2   1   1   1   8  46 135  32   1   2  19   7   4  84   1  15  24\n",
            " 588   5 478   9  43  46 179  49 309 301   3   1 215 135  14   4   1   5\n",
            " 407 465   1 107 501 127 282  15   4 978 245  60 791  87  20   2   1  15\n",
            "  60 371 255  27  13   1   6   1   2   1 516   2 181 442   7   1  14  33\n",
            "   1  28   1   6 583   2 183  35 433   1  18 604  52 117   7   8   1  44\n",
            "  21  15   2 326   5   1   3  24 299   1   3   1   1  77  47  23 372   5\n",
            "   1   1   6   1   2 305   1  36  23 901   8   1 942   1  28 136 132   7\n",
            " 114   2   1 516  12   1 107   7   1   6   1   7   1  32   2   1   5   2\n",
            "   1   1  33   1   1   1   4   1   5   1   1  15   2 516   6   1  35   3\n",
            "   2 516   7   1  20  24   1  11   7   4   1  12   7 451  20   2   1  12\n",
            "  47  23 190  49   3 433   1   8 253 183   5  60  88  81  23 327   1  14\n",
            "  71   1  11 834   5   2 112  71 219 377 137   5 253   1  16   4   1   1\n",
            " 631   3   1  15   2 705   3   1   6   1 239   3   1   4   1   5 433  40\n",
            "   1   6   1 167  11   7  33 312  17  16   4  49 112 468 111   3  15   2\n",
            "  88 170 179 532 405   1   4 608   1  16   4   1   1   5   1 522 996   3\n",
            "   1   1 478], shape=(291,), dtype=int64)\n",
            "Reverse the encoding: \n",
            " this movie is very entertaining and any [UNK] is based on personal [UNK] not the films quality other than the [UNK] [UNK] [UNK] in some scenes by [UNK] the film is a great [UNK] for his type of humor it has some pretty good special effects and [UNK] action scenes as a [UNK] of lost children [UNK] character starts off looking for a missing girl which leads him on the [UNK] for which others believe he was [UNK] to [UNK] the [UNK] child the young boy is [UNK] as an [UNK] one [UNK] to save the world from evil [UNK] but whose very life is in [UNK] if not for the help of [UNK] and his beautiful [UNK] and [UNK] [UNK] also there are moments of [UNK] [UNK] to [UNK] the audience [UNK] who are interested in [UNK] deep [UNK] one such scene is where the [UNK] child that [UNK] character is [UNK] to [UNK] is [UNK] by the [UNK] of the [UNK] [UNK] an [UNK] [UNK] [UNK] a [UNK] of [UNK] [UNK] for the child to [UNK] from and the child is [UNK] on his [UNK] this is a [UNK] that is based on the [UNK] that there are both good and evil [UNK] in our world of which most people are completely [UNK] as we [UNK] this premise of the plot we must let go of our [UNK] with a [UNK] [UNK] reality and [UNK] for the earth and [UNK] to [UNK] away and [UNK] a [UNK] of evil just [UNK] to [UNK] us this is an excellent movie with a good plot fine acting and for the most part pretty decent dialogue [UNK] a serious [UNK] with a [UNK] [UNK] of [UNK] art fighting and [UNK] [UNK] humor\n",
            "\n",
            "\n",
            "Text before encoding: \n",
            " tf.Tensor(b\"My friend had the idea of watching the animated LOTR after seeing the Peter Jackson Return of The King. So I finally bought it off e-bay, thinking right from the start it was going to suck. Actually, it really wasn't as bad as I thought it would be. The animation was good for its time, they used a unique method of blending live action with animation to create some interesting effects, and the guy who did the voice for Frodo sounded somewhat like Elijah Wood.<br /><br />Not the greatest adaptation of a book, but trust me, I've seen a lot worse. It skips quite a lot of things, since both Fellowship and The Two Towers are compressed into one two hour movie. Definatley worth a watch, kids might like, but still, absoutley no comparision with the Peter Jackson trilogy.\", shape=(), dtype=string)\n",
            "Text after encoding: \n",
            " tf.Tensor(\n",
            "[ 55 463  67   2 313   5 145   2   1   1 100 308   2 799   1 943   5   2\n",
            " 681  37  10 401   1   9 127   1 526 203  35   2 366   9  13 165   6   1\n",
            " 157   9  62 268  14  80  14  10 199   9  58  26   2 731  13  49  15  29\n",
            "  59  34 335   4 930   1   5   1 417 215  16 731   6 963  46 213 301   3\n",
            "   2 230  36 116   2 577  15   1   1 623  38   1   1  21   2 804   1   5\n",
            "   4 269  18   1  69 197 106   4 169 429   9   1 176   4 169   5 178 231\n",
            " 190   1   3   2 104   1  23   1  78  28 104 558  17   1 280   4 103 324\n",
            " 228  38  18 124   1  57   1  16   2 799   1   1], shape=(138,), dtype=int64)\n",
            "Reverse the encoding: \n",
            " my friend had the idea of watching the [UNK] [UNK] after seeing the peter [UNK] return of the king so i finally [UNK] it off [UNK] thinking right from the start it was going to [UNK] actually it really wasnt as bad as i thought it would be the animation was good for its time they used a unique [UNK] of [UNK] live action with animation to create some interesting effects and the guy who did the voice for [UNK] [UNK] somewhat like [UNK] [UNK] not the greatest [UNK] of a book but [UNK] me ive seen a lot worse it [UNK] quite a lot of things since both [UNK] and the two [UNK] are [UNK] into one two hour movie [UNK] worth a watch kids might like but still [UNK] no [UNK] with the peter [UNK] [UNK]\n",
            "\n",
            "\n",
            "Text before encoding: \n",
            " tf.Tensor(b\"Purple Rain is a great film if you are a 40-something music lover who partied to Prince music in the 1980s. The story is a much-used formula: Rising musical talent must overcome personal and professional hurdles to find his audience and self-respect. Prince is a bad actor, but his performance, especially of Purple Rain/I Would Die 4 U make it worth sitting through the film. He is himself and as a showman, as powerful on stage as Mick Jagger or Michael Jackson, circa Thriller. Apollonia Kotero, a former Prince prot\\xc3\\xa9g\\xc3\\xa9, is beautiful and shows some acting talent and chemistry with Prince, but her script doesn't let her far. Morris Day and other supporting actors provide comedic elements.\", shape=(), dtype=string)\n",
            "Text after encoding: \n",
            " tf.Tensor(\n",
            "[  1   1   7   4  84  19  44  22  23   4   1 223   1  36   1   6   1 223\n",
            "   8   2   1   2  63   7   4   1   1   1 621 665 219   1 932   3   1   1\n",
            "   6 161  24 305   3   1   1   7   4  80 287  18  24 233 260   5   1   1\n",
            "  58 833 655   1  96   9 280   1 140   2  19  27   7 300   3  14   4   1\n",
            "  14 962  20 868  14   1   1  41 489   1   1 761   1   1   4   1   1   1\n",
            "   7 299   3 262  46 111 665   3   1  16   1  18  39 224 144 377  39 234\n",
            "   1 256   3  79 677 151   1   1 766], shape=(117,), dtype=int64)\n",
            "Reverse the encoding: \n",
            " [UNK] [UNK] is a great film if you are a [UNK] music [UNK] who [UNK] to [UNK] music in the [UNK] the story is a [UNK] [UNK] [UNK] musical talent must [UNK] personal and [UNK] [UNK] to find his audience and [UNK] [UNK] is a bad actor but his performance especially of [UNK] [UNK] would die 4 [UNK] make it worth [UNK] through the film he is himself and as a [UNK] as powerful on stage as [UNK] [UNK] or michael [UNK] [UNK] thriller [UNK] [UNK] a [UNK] [UNK] [UNK] is beautiful and shows some acting talent and [UNK] with [UNK] but her script doesnt let her far [UNK] day and other supporting actors [UNK] [UNK] elements\n",
            "\n",
            "\n"
          ],
          "name": "stdout"
        }
      ]
    },
    {
      "cell_type": "markdown",
      "metadata": {
        "id": "oZR48TCRhRBf"
      },
      "source": [
        "## Create the model\n",
        "\n",
        "<img src='https://www.tensorflow.org/text/tutorials/images/bidirectional.png'/>\n",
        "\n",
        "* This model can be build as a `tf.keras.Sequential`.\n",
        "\n",
        "* The first layer is the encoder, which converts the text to a sequence of token indices.\n",
        "\n",
        "* After the encoder is an embedding layer. An embedding layer stores one vector per word. When called, it converts the sequences of word indices to sequences of vectors. These vectors are trainable. After training (on enough data), words with similar meanings often have similar vectors.\n",
        "\n",
        "* This index-lookup is much more efficient than the equivalent operation of passing a one-hot encoded vector through a `tf.keras.layers.Dense layer`.\n",
        "\n",
        "* A recurrent neural network (RNN) processes sequence input by iterating through the elements. RNNs pass the outputs from one timestep to their input on the next timestep.\n",
        "\n",
        "* The `tf.keras.layers.Bidirectional` wrapper can also be used with an RNN layer. This propagates the input forward and backwards through the RNN layer and then concatenates the final output.\n",
        "\n",
        "* The main advantage of a bidirectional RNN is that the signal from the beginning of the input doesn't need to be processed all the way through every timestep to affect the output.\n",
        "\n",
        "* The main disadvantage of a bidirectional RNN is that you can't efficiently stream predictions as words are being added to the end.\n",
        "\n",
        "* After the RNN has converted the sequence to a single vector the two layers.Dense do some final processing, and convert from this vector representation to a single logit as the classification output."
      ]
    },
    {
      "cell_type": "code",
      "metadata": {
        "id": "4WLtlhBBftro"
      },
      "source": [
        "model = tf.keras.Sequential([\n",
        "                             encoder,\n",
        "                             tf.keras.layers.Embedding(VOCAB_SIZE+1, 64, mask_zero=True),\n",
        "                             tf.keras.layers.Bidirectional(tf.keras.layers.LSTM(64)),\n",
        "                             tf.keras.layers.Dense(64, activation='relu'),\n",
        "                             tf.keras.layers.Dense(1)\n",
        "])"
      ],
      "execution_count": 49,
      "outputs": []
    },
    {
      "cell_type": "markdown",
      "metadata": {
        "id": "tIhul6xrmCVp"
      },
      "source": [
        "Please note that Keras sequential model is used here since all the layers in the model only have single input and produce single output. In case you want to use stateful RNN layer, you might want to build your model with Keras functional API or model subclassing so that you can retrieve and reuse the RNN layer states.\n",
        "\n",
        "The embedding layer uses masking to handle the varying sequence-lengths. All the layers after the Embedding support masking:"
      ]
    },
    {
      "cell_type": "code",
      "metadata": {
        "colab": {
          "base_uri": "https://localhost:8080/"
        },
        "id": "6fMY9egylyg3",
        "outputId": "b7b14ef3-f431-4139-8ec5-123a02a0a3bb"
      },
      "source": [
        "print([layer.supports_masking for layer in model.layers])"
      ],
      "execution_count": 50,
      "outputs": [
        {
          "output_type": "stream",
          "text": [
            "[False, True, True, True, True]\n"
          ],
          "name": "stdout"
        }
      ]
    },
    {
      "cell_type": "markdown",
      "metadata": {
        "id": "vM40HM_Vnctg"
      },
      "source": [
        "To confirm that this works as expected, evaluate a sentence twice. First, alone so there's no padding to mask:"
      ]
    },
    {
      "cell_type": "code",
      "metadata": {
        "colab": {
          "base_uri": "https://localhost:8080/"
        },
        "id": "1HOHZV7ymXYS",
        "outputId": "c62bd9c0-d149-439f-9d7d-a29d4d124713"
      },
      "source": [
        "# predict on a sample text without padding.\n",
        "\n",
        "sample_text = ('The movie was cool. The animation and the graphics '\n",
        "               'were out of this world. I would recommend this movie.')\n",
        "\n",
        "predictions = model.predict([sample_text])\n",
        "print('Prediction:',predictions)"
      ],
      "execution_count": 54,
      "outputs": [
        {
          "output_type": "stream",
          "text": [
            "Prediction: [[0.00705884]]\n"
          ],
          "name": "stdout"
        }
      ]
    },
    {
      "cell_type": "markdown",
      "metadata": {
        "id": "7DipbRPWnz6H"
      },
      "source": [
        "Now, evaluate it again in a batch with a longer sentence. The result should be identical:"
      ]
    },
    {
      "cell_type": "code",
      "metadata": {
        "colab": {
          "base_uri": "https://localhost:8080/"
        },
        "id": "gX27-w9qnnEt",
        "outputId": "f6e46524-4ef9-4633-c446-ca036ef494ac"
      },
      "source": [
        "sample_padding = 'padding_test'*2000\n",
        "\n",
        "predictions = model.predict([sample_text, sample_padding])\n",
        "print('Prediction:',predictions)"
      ],
      "execution_count": 57,
      "outputs": [
        {
          "output_type": "stream",
          "text": [
            "Prediction: [[ 0.00705884]\n",
            " [-0.00571196]]\n"
          ],
          "name": "stdout"
        }
      ]
    },
    {
      "cell_type": "markdown",
      "metadata": {
        "id": "a8-N7vpFoib3"
      },
      "source": [
        "Compile the Keras model to configure the training process:"
      ]
    },
    {
      "cell_type": "code",
      "metadata": {
        "id": "Nw-ROJSgoVrT"
      },
      "source": [
        "model.compile(optimizer='adam',\n",
        "              loss=tf.keras.losses.BinaryCrossentropy(from_logits=True),\n",
        "              metrics=['accuracy'])"
      ],
      "execution_count": 58,
      "outputs": []
    },
    {
      "cell_type": "code",
      "metadata": {
        "id": "EmAjUp4yupiF"
      },
      "source": [
        "# early stopping callback\n",
        "early_stopping = tf.keras.callbacks.EarlyStopping(monitor='val_loss', patience=1)"
      ],
      "execution_count": 61,
      "outputs": []
    },
    {
      "cell_type": "markdown",
      "metadata": {
        "id": "IFoFqRDsqqm3"
      },
      "source": [
        "## Train the model"
      ]
    },
    {
      "cell_type": "code",
      "metadata": {
        "colab": {
          "base_uri": "https://localhost:8080/"
        },
        "id": "GBh0IN-0ot5q",
        "outputId": "1e062d63-bc68-42b2-a57b-628af0484416"
      },
      "source": [
        "history = model.fit(x=training_dataset,\n",
        "                    epochs=10,\n",
        "                    validation_data=testing_dataset,\n",
        "                    validation_steps=30,\n",
        "                    callbacks=[early_stopping])"
      ],
      "execution_count": 62,
      "outputs": [
        {
          "output_type": "stream",
          "text": [
            "Epoch 1/10\n",
            "391/391 [==============================] - 627s 2s/step - loss: 0.3411 - accuracy: 0.8495 - val_loss: 0.3399 - val_accuracy: 0.8370\n",
            "Epoch 2/10\n",
            "391/391 [==============================] - 627s 2s/step - loss: 0.3625 - accuracy: 0.8386 - val_loss: 0.3660 - val_accuracy: 0.8385\n"
          ],
          "name": "stdout"
        }
      ]
    },
    {
      "cell_type": "code",
      "metadata": {
        "colab": {
          "base_uri": "https://localhost:8080/"
        },
        "id": "-vJuggazrOiH",
        "outputId": "f117a991-40be-4e72-e477-303afc5e05f9"
      },
      "source": [
        "loss, accuracy = model.evaluate(testing_dataset)\n",
        "print('Loss',loss)\n",
        "print('Model accuracy',accuracy)"
      ],
      "execution_count": 63,
      "outputs": [
        {
          "output_type": "stream",
          "text": [
            "391/391 [==============================] - 141s 361ms/step - loss: 0.3503 - accuracy: 0.8503\n",
            "Loss 0.3502994179725647\n",
            "Model accuracy 0.8502799868583679\n"
          ],
          "name": "stdout"
        }
      ]
    },
    {
      "cell_type": "markdown",
      "metadata": {
        "id": "2AXwvqTb2QbD"
      },
      "source": [
        "## Run a prediction on a new sentence:\n",
        "\n",
        "If the prediction is >= 0.0, it is positive else it is negative."
      ]
    },
    {
      "cell_type": "code",
      "metadata": {
        "colab": {
          "base_uri": "https://localhost:8080/"
        },
        "id": "Luu_nkAO2OSa",
        "outputId": "7453df2a-f1c1-47b8-fe26-e8aee3c36b22"
      },
      "source": [
        "#  prediction on a new sentence\n",
        "sample_text = ('The movie was cool. The animation and the graphics '\n",
        "               'were out of this world. I would recommend this movie.')\n",
        "\n",
        "predictions = model.predict([sample_text])\n",
        "\n",
        "print('Sample :',sample_text)\n",
        "print('Prediction',predictions,'Positive'if predictions>0.0 else 'Negative')"
      ],
      "execution_count": 70,
      "outputs": [
        {
          "output_type": "stream",
          "text": [
            "Sample : The movie was cool. The animation and the graphics were out of this world. I would recommend this movie.\n",
            "Prediction [[0.09139615]] Positive\n"
          ],
          "name": "stdout"
        }
      ]
    },
    {
      "cell_type": "markdown",
      "metadata": {
        "id": "FaGeTmJI1_5U"
      },
      "source": [
        "There is a performance difference to keep in mind when choosing where to apply your TextVectorization layer. Using it outside of your model enables you to do asynchronous CPU processing and buffering of your data when training on GPU. So, if you're training your model on the GPU, you probably want to go with this option to get the best performance while developing your model, then switch to including the TextVectorization layer inside your model when you're ready to prepare for deployment."
      ]
    },
    {
      "cell_type": "code",
      "metadata": {
        "id": "iCnM6Mnb0QAb"
      },
      "source": [
        "def vectorize_text(text,label):\n",
        "  text = tf.expand_dims(text,-1)\n",
        "  return encoder(text), label"
      ],
      "execution_count": 92,
      "outputs": []
    },
    {
      "cell_type": "code",
      "metadata": {
        "id": "7zXUhG8v1ISc"
      },
      "source": [
        "encoded_train_ds = training_dataset.map(vectorize_text)\n",
        "encoded_test_ds = testing_dataset.map(vectorize_text)"
      ],
      "execution_count": 93,
      "outputs": []
    },
    {
      "cell_type": "code",
      "metadata": {
        "id": "sipCbxozG2Tv"
      },
      "source": [
        "# config for performance\n",
        "def config_for_performance(ds):\n",
        "  ds = ds.cache()\n",
        "  ds = ds.prefetch(tf.data.AUTOTUNE)\n",
        "  return ds\n",
        "\n",
        "encoded_test_ds = config_for_performance(encoded_test_ds)\n",
        "encoded_train_ds = config_for_performance(encoded_train_ds)"
      ],
      "execution_count": 94,
      "outputs": []
    },
    {
      "cell_type": "markdown",
      "metadata": {
        "id": "yCeKnlptAQfm"
      },
      "source": [
        "## Stack two or more LSTM layers\n",
        "Keras recurrent layers have two available modes that are controlled by the return_sequences constructor argument:\n",
        "\n",
        "If False it returns only the last output for each input sequence (a 2D tensor of shape (batch_size, output_features)). This is the default, used in the previous model.\n",
        "\n",
        "If True the full sequences of successive outputs for each timestep is returned (a 3D tensor of shape (batch_size, timesteps, output_features)).\n",
        "\n",
        "Here is what the flow of information looks like with return_sequences=True:\n",
        "\n",
        "<img src=\"https://www.tensorflow.org/text/tutorials/images/layered_bidirectional.png\" />"
      ]
    },
    {
      "cell_type": "code",
      "metadata": {
        "id": "rZqDpN4vAJ_g"
      },
      "source": [
        "model = tf.keras.Sequential([\n",
        "                             tf.keras.layers.Embedding(input_dim=VOCAB_SIZE+1, output_dim=64, mask_zero=True),\n",
        "                             tf.keras.layers.Bidirectional(tf.keras.layers.LSTM(64, return_sequences=True)),\n",
        "                             tf.keras.layers.Bidirectional(tf.keras.layers.LSTM(32)),\n",
        "                             tf.keras.layers.Dense(64, activation='relu'),\n",
        "                             tf.keras.layers.Dropout(0.5),\n",
        "                             tf.keras.layers.Dense(1)\n",
        "])"
      ],
      "execution_count": 95,
      "outputs": []
    },
    {
      "cell_type": "code",
      "metadata": {
        "id": "4gue4FdqNLxO"
      },
      "source": [
        "model.compile(optimizer='adam',\n",
        "              loss=tf.keras.losses.BinaryCrossentropy(from_logits=True),\n",
        "              metrics=['accuracy'])"
      ],
      "execution_count": 96,
      "outputs": []
    },
    {
      "cell_type": "code",
      "metadata": {
        "colab": {
          "base_uri": "https://localhost:8080/"
        },
        "id": "jKy0uJfeNk-j",
        "outputId": "b0eb038a-b27a-49d5-a21d-a76b4b6eeb1a"
      },
      "source": [
        "history = model.fit(x=encoded_train_ds, epochs=10, validation_data=encoded_test_ds, validation_steps=30, callbacks=[early_stopping])"
      ],
      "execution_count": 97,
      "outputs": [
        {
          "output_type": "stream",
          "text": [
            "Epoch 1/10\n",
            "391/391 [==============================] - 1251s 3s/step - loss: 0.4409 - accuracy: 0.7759 - val_loss: 0.3471 - val_accuracy: 0.8583\n",
            "Epoch 2/10\n",
            "391/391 [==============================] - 1209s 3s/step - loss: 0.3535 - accuracy: 0.8442 - val_loss: 0.3449 - val_accuracy: 0.8516\n",
            "Epoch 3/10\n",
            "391/391 [==============================] - 1200s 3s/step - loss: 0.3299 - accuracy: 0.8578 - val_loss: 0.3287 - val_accuracy: 0.8552\n",
            "Epoch 4/10\n",
            "391/391 [==============================] - 1191s 3s/step - loss: 0.3022 - accuracy: 0.8667 - val_loss: 0.3374 - val_accuracy: 0.8609\n"
          ],
          "name": "stdout"
        }
      ]
    },
    {
      "cell_type": "code",
      "metadata": {
        "colab": {
          "base_uri": "https://localhost:8080/"
        },
        "id": "wTVbwg4pUuku",
        "outputId": "d9d29cda-5ff4-4f0e-e376-696524dd26ba"
      },
      "source": [
        "loss, accuracy = model.evaluate(encoded_test_ds)\n",
        "print('Loss',loss)\n",
        "print('Model accuracy',accuracy)"
      ],
      "execution_count": 100,
      "outputs": [
        {
          "output_type": "stream",
          "text": [
            "391/391 [==============================] - 274s 700ms/step - loss: 0.3321 - accuracy: 0.8576\n",
            "Loss 0.33213895559310913\n",
            "Model accuracy 0.8575599789619446\n"
          ],
          "name": "stdout"
        }
      ]
    },
    {
      "cell_type": "code",
      "metadata": {
        "colab": {
          "base_uri": "https://localhost:8080/",
          "height": 388
        },
        "id": "XNXxTjivogmi",
        "outputId": "4632b20a-6d80-48a4-8ab5-9dd09f41f381"
      },
      "source": [
        "plt.figure(figsize=(16, 6))\n",
        "plt.subplot(1, 2, 1)\n",
        "plot_graph(history.history, 'accuracy')\n",
        "plt.subplot(1, 2, 2)\n",
        "plot_graph(history.history, 'loss')"
      ],
      "execution_count": 103,
      "outputs": [
        {
          "output_type": "display_data",
          "data": {
            "image/png": "[encoded data removed]",
            "text/plain": [
              "<Figure size 1152x432 with 2 Axes>"
            ]
          },
          "metadata": {
            "tags": [],
            "needs_background": "light"
          }
        }
      ]
    },
    {
      "cell_type": "markdown",
      "metadata": {
        "id": "KuHVl5FJyDtE"
      },
      "source": [
        "## Export model"
      ]
    },
    {
      "cell_type": "code",
      "metadata": {
        "id": "mcHLXT1GxfTm"
      },
      "source": [
        "export_model = tf.keras.Sequential([\n",
        "                                    encoder,\n",
        "                                    model,\n",
        "                                    tf.keras.layers.Activation('sigmoid')\n",
        "])"
      ],
      "execution_count": 104,
      "outputs": []
    },
    {
      "cell_type": "code",
      "metadata": {
        "id": "WcevYjSNyTLW"
      },
      "source": [
        "export_model.compile(optimizer='adam', loss=tf.keras.losses.BinaryCrossentropy(from_logits=False), metrics=['accuracy'])"
      ],
      "execution_count": 105,
      "outputs": []
    },
    {
      "cell_type": "code",
      "metadata": {
        "colab": {
          "base_uri": "https://localhost:8080/"
        },
        "id": "q1CNUSmVygGg",
        "outputId": "570b7723-511a-4c9f-c4f3-e4e32bb2e653"
      },
      "source": [
        "# predict on a sample text without padding.\n",
        "\n",
        "sample_text = ('The movie was not good. The animation and the graphics '\n",
        "               'were terrible. I would not recommend this movie.')\n",
        "predictions = export_model.predict([sample_text])\n",
        "print('Sample :',sample_text)\n",
        "print('Prediction',predictions,'Positive'if predictions>0.5 else 'Negative')"
      ],
      "execution_count": 107,
      "outputs": [
        {
          "output_type": "stream",
          "text": [
            "Sample : The movie was not good. The animation and the graphics were terrible. I would not recommend this movie.\n",
            "Prediction [[0.01567084]] Negative\n"
          ],
          "name": "stdout"
        }
      ]
    },
    {
      "cell_type": "code",
      "metadata": {
        "id": "i-LM3uGGynGc"
      },
      "source": [
        ""
      ],
      "execution_count": null,
      "outputs": []
    }
  ]
}