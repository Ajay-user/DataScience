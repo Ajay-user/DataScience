{
  "nbformat": 4,
  "nbformat_minor": 0,
  "metadata": {
    "colab": {
      "name": "Transfer learning and Fine-tuning  guide.ipynb",
      "provenance": [],
      "collapsed_sections": [],
      "toc_visible": true,
      "authorship_tag": "ABX9TyPASet8cud0jtdUg7cKW3by",
      "include_colab_link": true
    },
    "kernelspec": {
      "name": "python3",
      "display_name": "Python 3"
    },
    "language_info": {
      "name": "python"
    },
    "widgets": {
      "application/vnd.jupyter.widget-state+json": {
        "e718367d2156443196019d3d80ee3790": {
          "model_module": "@jupyter-widgets/controls",
          "model_name": "HBoxModel",
          "state": {
            "_view_name": "HBoxView",
            "_dom_classes": [],
            "_model_name": "HBoxModel",
            "_view_module": "@jupyter-widgets/controls",
            "_model_module_version": "1.5.0",
            "_view_count": null,
            "_view_module_version": "1.5.0",
            "box_style": "",
            "layout": "IPY_MODEL_d625abc4701347edb1157b67d7775b10",
            "_model_module": "@jupyter-widgets/controls",
            "children": [
              "IPY_MODEL_3111292ddce74bb5b9de96acfa0da6a7",
              "IPY_MODEL_67568d09b5b145b5a4c73c8ae3dd6f18"
            ]
          }
        },
        "d625abc4701347edb1157b67d7775b10": {
          "model_module": "@jupyter-widgets/base",
          "model_name": "LayoutModel",
          "state": {
            "_view_name": "LayoutView",
            "grid_template_rows": null,
            "right": null,
            "justify_content": null,
            "_view_module": "@jupyter-widgets/base",
            "overflow": null,
            "_model_module_version": "1.2.0",
            "_view_count": null,
            "flex_flow": null,
            "width": null,
            "min_width": null,
            "border": null,
            "align_items": null,
            "bottom": null,
            "_model_module": "@jupyter-widgets/base",
            "top": null,
            "grid_column": null,
            "overflow_y": null,
            "overflow_x": null,
            "grid_auto_flow": null,
            "grid_area": null,
            "grid_template_columns": null,
            "flex": null,
            "_model_name": "LayoutModel",
            "justify_items": null,
            "grid_row": null,
            "max_height": null,
            "align_content": null,
            "visibility": null,
            "align_self": null,
            "height": null,
            "min_height": null,
            "padding": null,
            "grid_auto_rows": null,
            "grid_gap": null,
            "max_width": null,
            "order": null,
            "_view_module_version": "1.2.0",
            "grid_template_areas": null,
            "object_position": null,
            "object_fit": null,
            "grid_auto_columns": null,
            "margin": null,
            "display": null,
            "left": null
          }
        },
        "3111292ddce74bb5b9de96acfa0da6a7": {
          "model_module": "@jupyter-widgets/controls",
          "model_name": "FloatProgressModel",
          "state": {
            "_view_name": "ProgressView",
            "style": "IPY_MODEL_8b8fd26f256a4302a2b256a25ce84b2a",
            "_dom_classes": [],
            "description": "Dl Completed...: 100%",
            "_model_name": "FloatProgressModel",
            "bar_style": "success",
            "max": 1,
            "_view_module": "@jupyter-widgets/controls",
            "_model_module_version": "1.5.0",
            "value": 1,
            "_view_count": null,
            "_view_module_version": "1.5.0",
            "orientation": "horizontal",
            "min": 0,
            "description_tooltip": null,
            "_model_module": "@jupyter-widgets/controls",
            "layout": "IPY_MODEL_2d3dcae4dabf4ca78f856654fed85b86"
          }
        },
        "67568d09b5b145b5a4c73c8ae3dd6f18": {
          "model_module": "@jupyter-widgets/controls",
          "model_name": "HTMLModel",
          "state": {
            "_view_name": "HTMLView",
            "style": "IPY_MODEL_a08f42914181464891fc13b3591a8f5c",
            "_dom_classes": [],
            "description": "",
            "_model_name": "HTMLModel",
            "placeholder": "​",
            "_view_module": "@jupyter-widgets/controls",
            "_model_module_version": "1.5.0",
            "value": " 1/1 [00:13&lt;00:00, 13.65s/ url]",
            "_view_count": null,
            "_view_module_version": "1.5.0",
            "description_tooltip": null,
            "_model_module": "@jupyter-widgets/controls",
            "layout": "IPY_MODEL_661dead5019c4364a078683bb56ee3bd"
          }
        },
        "8b8fd26f256a4302a2b256a25ce84b2a": {
          "model_module": "@jupyter-widgets/controls",
          "model_name": "ProgressStyleModel",
          "state": {
            "_view_name": "StyleView",
            "_model_name": "ProgressStyleModel",
            "description_width": "initial",
            "_view_module": "@jupyter-widgets/base",
            "_model_module_version": "1.5.0",
            "_view_count": null,
            "_view_module_version": "1.2.0",
            "bar_color": null,
            "_model_module": "@jupyter-widgets/controls"
          }
        },
        "2d3dcae4dabf4ca78f856654fed85b86": {
          "model_module": "@jupyter-widgets/base",
          "model_name": "LayoutModel",
          "state": {
            "_view_name": "LayoutView",
            "grid_template_rows": null,
            "right": null,
            "justify_content": null,
            "_view_module": "@jupyter-widgets/base",
            "overflow": null,
            "_model_module_version": "1.2.0",
            "_view_count": null,
            "flex_flow": null,
            "width": null,
            "min_width": null,
            "border": null,
            "align_items": null,
            "bottom": null,
            "_model_module": "@jupyter-widgets/base",
            "top": null,
            "grid_column": null,
            "overflow_y": null,
            "overflow_x": null,
            "grid_auto_flow": null,
            "grid_area": null,
            "grid_template_columns": null,
            "flex": null,
            "_model_name": "LayoutModel",
            "justify_items": null,
            "grid_row": null,
            "max_height": null,
            "align_content": null,
            "visibility": null,
            "align_self": null,
            "height": null,
            "min_height": null,
            "padding": null,
            "grid_auto_rows": null,
            "grid_gap": null,
            "max_width": null,
            "order": null,
            "_view_module_version": "1.2.0",
            "grid_template_areas": null,
            "object_position": null,
            "object_fit": null,
            "grid_auto_columns": null,
            "margin": null,
            "display": null,
            "left": null
          }
        },
        "a08f42914181464891fc13b3591a8f5c": {
          "model_module": "@jupyter-widgets/controls",
          "model_name": "DescriptionStyleModel",
          "state": {
            "_view_name": "StyleView",
            "_model_name": "DescriptionStyleModel",
            "description_width": "",
            "_view_module": "@jupyter-widgets/base",
            "_model_module_version": "1.5.0",
            "_view_count": null,
            "_view_module_version": "1.2.0",
            "_model_module": "@jupyter-widgets/controls"
          }
        },
        "661dead5019c4364a078683bb56ee3bd": {
          "model_module": "@jupyter-widgets/base",
          "model_name": "LayoutModel",
          "state": {
            "_view_name": "LayoutView",
            "grid_template_rows": null,
            "right": null,
            "justify_content": null,
            "_view_module": "@jupyter-widgets/base",
            "overflow": null,
            "_model_module_version": "1.2.0",
            "_view_count": null,
            "flex_flow": null,
            "width": null,
            "min_width": null,
            "border": null,
            "align_items": null,
            "bottom": null,
            "_model_module": "@jupyter-widgets/base",
            "top": null,
            "grid_column": null,
            "overflow_y": null,
            "overflow_x": null,
            "grid_auto_flow": null,
            "grid_area": null,
            "grid_template_columns": null,
            "flex": null,
            "_model_name": "LayoutModel",
            "justify_items": null,
            "grid_row": null,
            "max_height": null,
            "align_content": null,
            "visibility": null,
            "align_self": null,
            "height": null,
            "min_height": null,
            "padding": null,
            "grid_auto_rows": null,
            "grid_gap": null,
            "max_width": null,
            "order": null,
            "_view_module_version": "1.2.0",
            "grid_template_areas": null,
            "object_position": null,
            "object_fit": null,
            "grid_auto_columns": null,
            "margin": null,
            "display": null,
            "left": null
          }
        },
        "b7f40befbeae43c891ce468e33bc2b1c": {
          "model_module": "@jupyter-widgets/controls",
          "model_name": "HBoxModel",
          "state": {
            "_view_name": "HBoxView",
            "_dom_classes": [],
            "_model_name": "HBoxModel",
            "_view_module": "@jupyter-widgets/controls",
            "_model_module_version": "1.5.0",
            "_view_count": null,
            "_view_module_version": "1.5.0",
            "box_style": "",
            "layout": "IPY_MODEL_c766f95143264e459dcbe258d20aa3e3",
            "_model_module": "@jupyter-widgets/controls",
            "children": [
              "IPY_MODEL_26b80d2ef72c4a5da6ad139f6145632c",
              "IPY_MODEL_6d34976231ab4effb9e60502fbdecf26"
            ]
          }
        },
        "c766f95143264e459dcbe258d20aa3e3": {
          "model_module": "@jupyter-widgets/base",
          "model_name": "LayoutModel",
          "state": {
            "_view_name": "LayoutView",
            "grid_template_rows": null,
            "right": null,
            "justify_content": null,
            "_view_module": "@jupyter-widgets/base",
            "overflow": null,
            "_model_module_version": "1.2.0",
            "_view_count": null,
            "flex_flow": null,
            "width": null,
            "min_width": null,
            "border": null,
            "align_items": null,
            "bottom": null,
            "_model_module": "@jupyter-widgets/base",
            "top": null,
            "grid_column": null,
            "overflow_y": null,
            "overflow_x": null,
            "grid_auto_flow": null,
            "grid_area": null,
            "grid_template_columns": null,
            "flex": null,
            "_model_name": "LayoutModel",
            "justify_items": null,
            "grid_row": null,
            "max_height": null,
            "align_content": null,
            "visibility": null,
            "align_self": null,
            "height": null,
            "min_height": null,
            "padding": null,
            "grid_auto_rows": null,
            "grid_gap": null,
            "max_width": null,
            "order": null,
            "_view_module_version": "1.2.0",
            "grid_template_areas": null,
            "object_position": null,
            "object_fit": null,
            "grid_auto_columns": null,
            "margin": null,
            "display": null,
            "left": null
          }
        },
        "26b80d2ef72c4a5da6ad139f6145632c": {
          "model_module": "@jupyter-widgets/controls",
          "model_name": "FloatProgressModel",
          "state": {
            "_view_name": "ProgressView",
            "style": "IPY_MODEL_e8558ae4a69c4629845cf0198d714da5",
            "_dom_classes": [],
            "description": "Dl Size...: 100%",
            "_model_name": "FloatProgressModel",
            "bar_style": "success",
            "max": 1,
            "_view_module": "@jupyter-widgets/controls",
            "_model_module_version": "1.5.0",
            "value": 1,
            "_view_count": null,
            "_view_module_version": "1.5.0",
            "orientation": "horizontal",
            "min": 0,
            "description_tooltip": null,
            "_model_module": "@jupyter-widgets/controls",
            "layout": "IPY_MODEL_66c2cc31a52f4536a2ad3eb68b7f387c"
          }
        },
        "6d34976231ab4effb9e60502fbdecf26": {
          "model_module": "@jupyter-widgets/controls",
          "model_name": "HTMLModel",
          "state": {
            "_view_name": "HTMLView",
            "style": "IPY_MODEL_ead991b87dd241a1a5908d6a48afa3de",
            "_dom_classes": [],
            "description": "",
            "_model_name": "HTMLModel",
            "placeholder": "​",
            "_view_module": "@jupyter-widgets/controls",
            "_model_module_version": "1.5.0",
            "value": " 786/786 [00:13&lt;00:00, 57.75 MiB/s]",
            "_view_count": null,
            "_view_module_version": "1.5.0",
            "description_tooltip": null,
            "_model_module": "@jupyter-widgets/controls",
            "layout": "IPY_MODEL_9e67f418122e4e1e810db8e3916bbcf3"
          }
        },
        "e8558ae4a69c4629845cf0198d714da5": {
          "model_module": "@jupyter-widgets/controls",
          "model_name": "ProgressStyleModel",
          "state": {
            "_view_name": "StyleView",
            "_model_name": "ProgressStyleModel",
            "description_width": "initial",
            "_view_module": "@jupyter-widgets/base",
            "_model_module_version": "1.5.0",
            "_view_count": null,
            "_view_module_version": "1.2.0",
            "bar_color": null,
            "_model_module": "@jupyter-widgets/controls"
          }
        },
        "66c2cc31a52f4536a2ad3eb68b7f387c": {
          "model_module": "@jupyter-widgets/base",
          "model_name": "LayoutModel",
          "state": {
            "_view_name": "LayoutView",
            "grid_template_rows": null,
            "right": null,
            "justify_content": null,
            "_view_module": "@jupyter-widgets/base",
            "overflow": null,
            "_model_module_version": "1.2.0",
            "_view_count": null,
            "flex_flow": null,
            "width": null,
            "min_width": null,
            "border": null,
            "align_items": null,
            "bottom": null,
            "_model_module": "@jupyter-widgets/base",
            "top": null,
            "grid_column": null,
            "overflow_y": null,
            "overflow_x": null,
            "grid_auto_flow": null,
            "grid_area": null,
            "grid_template_columns": null,
            "flex": null,
            "_model_name": "LayoutModel",
            "justify_items": null,
            "grid_row": null,
            "max_height": null,
            "align_content": null,
            "visibility": null,
            "align_self": null,
            "height": null,
            "min_height": null,
            "padding": null,
            "grid_auto_rows": null,
            "grid_gap": null,
            "max_width": null,
            "order": null,
            "_view_module_version": "1.2.0",
            "grid_template_areas": null,
            "object_position": null,
            "object_fit": null,
            "grid_auto_columns": null,
            "margin": null,
            "display": null,
            "left": null
          }
        },
        "ead991b87dd241a1a5908d6a48afa3de": {
          "model_module": "@jupyter-widgets/controls",
          "model_name": "DescriptionStyleModel",
          "state": {
            "_view_name": "StyleView",
            "_model_name": "DescriptionStyleModel",
            "description_width": "",
            "_view_module": "@jupyter-widgets/base",
            "_model_module_version": "1.5.0",
            "_view_count": null,
            "_view_module_version": "1.2.0",
            "_model_module": "@jupyter-widgets/controls"
          }
        },
        "9e67f418122e4e1e810db8e3916bbcf3": {
          "model_module": "@jupyter-widgets/base",
          "model_name": "LayoutModel",
          "state": {
            "_view_name": "LayoutView",
            "grid_template_rows": null,
            "right": null,
            "justify_content": null,
            "_view_module": "@jupyter-widgets/base",
            "overflow": null,
            "_model_module_version": "1.2.0",
            "_view_count": null,
            "flex_flow": null,
            "width": null,
            "min_width": null,
            "border": null,
            "align_items": null,
            "bottom": null,
            "_model_module": "@jupyter-widgets/base",
            "top": null,
            "grid_column": null,
            "overflow_y": null,
            "overflow_x": null,
            "grid_auto_flow": null,
            "grid_area": null,
            "grid_template_columns": null,
            "flex": null,
            "_model_name": "LayoutModel",
            "justify_items": null,
            "grid_row": null,
            "max_height": null,
            "align_content": null,
            "visibility": null,
            "align_self": null,
            "height": null,
            "min_height": null,
            "padding": null,
            "grid_auto_rows": null,
            "grid_gap": null,
            "max_width": null,
            "order": null,
            "_view_module_version": "1.2.0",
            "grid_template_areas": null,
            "object_position": null,
            "object_fit": null,
            "grid_auto_columns": null,
            "margin": null,
            "display": null,
            "left": null
          }
        },
        "ce486f219f204c5898a53868bfe90d3a": {
          "model_module": "@jupyter-widgets/controls",
          "model_name": "HBoxModel",
          "state": {
            "_view_name": "HBoxView",
            "_dom_classes": [],
            "_model_name": "HBoxModel",
            "_view_module": "@jupyter-widgets/controls",
            "_model_module_version": "1.5.0",
            "_view_count": null,
            "_view_module_version": "1.5.0",
            "box_style": "",
            "layout": "IPY_MODEL_4a8da06466fd43f18211ed3dcbce46e8",
            "_model_module": "@jupyter-widgets/controls",
            "children": [
              "IPY_MODEL_221e856f4ba94269ba3beb56f321c411",
              "IPY_MODEL_a2f8a21d6ada4c8bb4f5f30647e433d5"
            ]
          }
        },
        "4a8da06466fd43f18211ed3dcbce46e8": {
          "model_module": "@jupyter-widgets/base",
          "model_name": "LayoutModel",
          "state": {
            "_view_name": "LayoutView",
            "grid_template_rows": null,
            "right": null,
            "justify_content": null,
            "_view_module": "@jupyter-widgets/base",
            "overflow": null,
            "_model_module_version": "1.2.0",
            "_view_count": null,
            "flex_flow": null,
            "width": null,
            "min_width": null,
            "border": null,
            "align_items": null,
            "bottom": null,
            "_model_module": "@jupyter-widgets/base",
            "top": null,
            "grid_column": null,
            "overflow_y": null,
            "overflow_x": null,
            "grid_auto_flow": null,
            "grid_area": null,
            "grid_template_columns": null,
            "flex": null,
            "_model_name": "LayoutModel",
            "justify_items": null,
            "grid_row": null,
            "max_height": null,
            "align_content": null,
            "visibility": null,
            "align_self": null,
            "height": null,
            "min_height": null,
            "padding": null,
            "grid_auto_rows": null,
            "grid_gap": null,
            "max_width": null,
            "order": null,
            "_view_module_version": "1.2.0",
            "grid_template_areas": null,
            "object_position": null,
            "object_fit": null,
            "grid_auto_columns": null,
            "margin": null,
            "display": null,
            "left": null
          }
        },
        "221e856f4ba94269ba3beb56f321c411": {
          "model_module": "@jupyter-widgets/controls",
          "model_name": "FloatProgressModel",
          "state": {
            "_view_name": "ProgressView",
            "style": "IPY_MODEL_8844008d4d5a461d9a1791565f9693a4",
            "_dom_classes": [],
            "description": "",
            "_model_name": "FloatProgressModel",
            "bar_style": "info",
            "max": 1,
            "_view_module": "@jupyter-widgets/controls",
            "_model_module_version": "1.5.0",
            "value": 1,
            "_view_count": null,
            "_view_module_version": "1.5.0",
            "orientation": "horizontal",
            "min": 0,
            "description_tooltip": null,
            "_model_module": "@jupyter-widgets/controls",
            "layout": "IPY_MODEL_cecaa37226de48db8f0e693e80f63cda"
          }
        },
        "a2f8a21d6ada4c8bb4f5f30647e433d5": {
          "model_module": "@jupyter-widgets/controls",
          "model_name": "HTMLModel",
          "state": {
            "_view_name": "HTMLView",
            "style": "IPY_MODEL_27449ad2ab5249d49915b31ce944a58b",
            "_dom_classes": [],
            "description": "",
            "_model_name": "HTMLModel",
            "placeholder": "​",
            "_view_module": "@jupyter-widgets/controls",
            "_model_module_version": "1.5.0",
            "value": " 23262/0 [00:14&lt;00:00, 1586.93 examples/s]",
            "_view_count": null,
            "_view_module_version": "1.5.0",
            "description_tooltip": null,
            "_model_module": "@jupyter-widgets/controls",
            "layout": "IPY_MODEL_fe5d024b9e084d90939c2243f900f9a5"
          }
        },
        "8844008d4d5a461d9a1791565f9693a4": {
          "model_module": "@jupyter-widgets/controls",
          "model_name": "ProgressStyleModel",
          "state": {
            "_view_name": "StyleView",
            "_model_name": "ProgressStyleModel",
            "description_width": "initial",
            "_view_module": "@jupyter-widgets/base",
            "_model_module_version": "1.5.0",
            "_view_count": null,
            "_view_module_version": "1.2.0",
            "bar_color": null,
            "_model_module": "@jupyter-widgets/controls"
          }
        },
        "cecaa37226de48db8f0e693e80f63cda": {
          "model_module": "@jupyter-widgets/base",
          "model_name": "LayoutModel",
          "state": {
            "_view_name": "LayoutView",
            "grid_template_rows": null,
            "right": null,
            "justify_content": null,
            "_view_module": "@jupyter-widgets/base",
            "overflow": null,
            "_model_module_version": "1.2.0",
            "_view_count": null,
            "flex_flow": null,
            "width": null,
            "min_width": null,
            "border": null,
            "align_items": null,
            "bottom": null,
            "_model_module": "@jupyter-widgets/base",
            "top": null,
            "grid_column": null,
            "overflow_y": null,
            "overflow_x": null,
            "grid_auto_flow": null,
            "grid_area": null,
            "grid_template_columns": null,
            "flex": null,
            "_model_name": "LayoutModel",
            "justify_items": null,
            "grid_row": null,
            "max_height": null,
            "align_content": null,
            "visibility": null,
            "align_self": null,
            "height": null,
            "min_height": null,
            "padding": null,
            "grid_auto_rows": null,
            "grid_gap": null,
            "max_width": null,
            "order": null,
            "_view_module_version": "1.2.0",
            "grid_template_areas": null,
            "object_position": null,
            "object_fit": null,
            "grid_auto_columns": null,
            "margin": null,
            "display": null,
            "left": null
          }
        },
        "27449ad2ab5249d49915b31ce944a58b": {
          "model_module": "@jupyter-widgets/controls",
          "model_name": "DescriptionStyleModel",
          "state": {
            "_view_name": "StyleView",
            "_model_name": "DescriptionStyleModel",
            "description_width": "",
            "_view_module": "@jupyter-widgets/base",
            "_model_module_version": "1.5.0",
            "_view_count": null,
            "_view_module_version": "1.2.0",
            "_model_module": "@jupyter-widgets/controls"
          }
        },
        "fe5d024b9e084d90939c2243f900f9a5": {
          "model_module": "@jupyter-widgets/base",
          "model_name": "LayoutModel",
          "state": {
            "_view_name": "LayoutView",
            "grid_template_rows": null,
            "right": null,
            "justify_content": null,
            "_view_module": "@jupyter-widgets/base",
            "overflow": null,
            "_model_module_version": "1.2.0",
            "_view_count": null,
            "flex_flow": null,
            "width": null,
            "min_width": null,
            "border": null,
            "align_items": null,
            "bottom": null,
            "_model_module": "@jupyter-widgets/base",
            "top": null,
            "grid_column": null,
            "overflow_y": null,
            "overflow_x": null,
            "grid_auto_flow": null,
            "grid_area": null,
            "grid_template_columns": null,
            "flex": null,
            "_model_name": "LayoutModel",
            "justify_items": null,
            "grid_row": null,
            "max_height": null,
            "align_content": null,
            "visibility": null,
            "align_self": null,
            "height": null,
            "min_height": null,
            "padding": null,
            "grid_auto_rows": null,
            "grid_gap": null,
            "max_width": null,
            "order": null,
            "_view_module_version": "1.2.0",
            "grid_template_areas": null,
            "object_position": null,
            "object_fit": null,
            "grid_auto_columns": null,
            "margin": null,
            "display": null,
            "left": null
          }
        },
        "6980f8fbe955417bb15488b207bbfc87": {
          "model_module": "@jupyter-widgets/controls",
          "model_name": "HBoxModel",
          "state": {
            "_view_name": "HBoxView",
            "_dom_classes": [],
            "_model_name": "HBoxModel",
            "_view_module": "@jupyter-widgets/controls",
            "_model_module_version": "1.5.0",
            "_view_count": null,
            "_view_module_version": "1.5.0",
            "box_style": "",
            "layout": "IPY_MODEL_dae9c0c2a39842ca9dfe4bb1fc7a5287",
            "_model_module": "@jupyter-widgets/controls",
            "children": [
              "IPY_MODEL_9f6c6baf6ce14402915cf0bfd4bc868a",
              "IPY_MODEL_84847f741a2c4ce6b5661f34e3940b32"
            ]
          }
        },
        "dae9c0c2a39842ca9dfe4bb1fc7a5287": {
          "model_module": "@jupyter-widgets/base",
          "model_name": "LayoutModel",
          "state": {
            "_view_name": "LayoutView",
            "grid_template_rows": null,
            "right": null,
            "justify_content": null,
            "_view_module": "@jupyter-widgets/base",
            "overflow": null,
            "_model_module_version": "1.2.0",
            "_view_count": null,
            "flex_flow": null,
            "width": null,
            "min_width": null,
            "border": null,
            "align_items": null,
            "bottom": null,
            "_model_module": "@jupyter-widgets/base",
            "top": null,
            "grid_column": null,
            "overflow_y": null,
            "overflow_x": null,
            "grid_auto_flow": null,
            "grid_area": null,
            "grid_template_columns": null,
            "flex": null,
            "_model_name": "LayoutModel",
            "justify_items": null,
            "grid_row": null,
            "max_height": null,
            "align_content": null,
            "visibility": null,
            "align_self": null,
            "height": null,
            "min_height": null,
            "padding": null,
            "grid_auto_rows": null,
            "grid_gap": null,
            "max_width": null,
            "order": null,
            "_view_module_version": "1.2.0",
            "grid_template_areas": null,
            "object_position": null,
            "object_fit": null,
            "grid_auto_columns": null,
            "margin": null,
            "display": null,
            "left": null
          }
        },
        "9f6c6baf6ce14402915cf0bfd4bc868a": {
          "model_module": "@jupyter-widgets/controls",
          "model_name": "FloatProgressModel",
          "state": {
            "_view_name": "ProgressView",
            "style": "IPY_MODEL_3877b722b57a4fb79000c437ec9c5c98",
            "_dom_classes": [],
            "description": " 99%",
            "_model_name": "FloatProgressModel",
            "bar_style": "danger",
            "max": 23262,
            "_view_module": "@jupyter-widgets/controls",
            "_model_module_version": "1.5.0",
            "value": 23021,
            "_view_count": null,
            "_view_module_version": "1.5.0",
            "orientation": "horizontal",
            "min": 0,
            "description_tooltip": null,
            "_model_module": "@jupyter-widgets/controls",
            "layout": "IPY_MODEL_6400763410b147449dfee093cad7f8e8"
          }
        },
        "84847f741a2c4ce6b5661f34e3940b32": {
          "model_module": "@jupyter-widgets/controls",
          "model_name": "HTMLModel",
          "state": {
            "_view_name": "HTMLView",
            "style": "IPY_MODEL_6aa72ff7416f449da1d7a3a7a6d46661",
            "_dom_classes": [],
            "description": "",
            "_model_name": "HTMLModel",
            "placeholder": "​",
            "_view_module": "@jupyter-widgets/controls",
            "_model_module_version": "1.5.0",
            "value": " 23021/23262 [00:02&lt;00:00, 7944.15 examples/s]",
            "_view_count": null,
            "_view_module_version": "1.5.0",
            "description_tooltip": null,
            "_model_module": "@jupyter-widgets/controls",
            "layout": "IPY_MODEL_1e8ef6d29742442d9d04cbc0bd8af2ce"
          }
        },
        "3877b722b57a4fb79000c437ec9c5c98": {
          "model_module": "@jupyter-widgets/controls",
          "model_name": "ProgressStyleModel",
          "state": {
            "_view_name": "StyleView",
            "_model_name": "ProgressStyleModel",
            "description_width": "initial",
            "_view_module": "@jupyter-widgets/base",
            "_model_module_version": "1.5.0",
            "_view_count": null,
            "_view_module_version": "1.2.0",
            "bar_color": null,
            "_model_module": "@jupyter-widgets/controls"
          }
        },
        "6400763410b147449dfee093cad7f8e8": {
          "model_module": "@jupyter-widgets/base",
          "model_name": "LayoutModel",
          "state": {
            "_view_name": "LayoutView",
            "grid_template_rows": null,
            "right": null,
            "justify_content": null,
            "_view_module": "@jupyter-widgets/base",
            "overflow": null,
            "_model_module_version": "1.2.0",
            "_view_count": null,
            "flex_flow": null,
            "width": null,
            "min_width": null,
            "border": null,
            "align_items": null,
            "bottom": null,
            "_model_module": "@jupyter-widgets/base",
            "top": null,
            "grid_column": null,
            "overflow_y": null,
            "overflow_x": null,
            "grid_auto_flow": null,
            "grid_area": null,
            "grid_template_columns": null,
            "flex": null,
            "_model_name": "LayoutModel",
            "justify_items": null,
            "grid_row": null,
            "max_height": null,
            "align_content": null,
            "visibility": null,
            "align_self": null,
            "height": null,
            "min_height": null,
            "padding": null,
            "grid_auto_rows": null,
            "grid_gap": null,
            "max_width": null,
            "order": null,
            "_view_module_version": "1.2.0",
            "grid_template_areas": null,
            "object_position": null,
            "object_fit": null,
            "grid_auto_columns": null,
            "margin": null,
            "display": null,
            "left": null
          }
        },
        "6aa72ff7416f449da1d7a3a7a6d46661": {
          "model_module": "@jupyter-widgets/controls",
          "model_name": "DescriptionStyleModel",
          "state": {
            "_view_name": "StyleView",
            "_model_name": "DescriptionStyleModel",
            "description_width": "",
            "_view_module": "@jupyter-widgets/base",
            "_model_module_version": "1.5.0",
            "_view_count": null,
            "_view_module_version": "1.2.0",
            "_model_module": "@jupyter-widgets/controls"
          }
        },
        "1e8ef6d29742442d9d04cbc0bd8af2ce": {
          "model_module": "@jupyter-widgets/base",
          "model_name": "LayoutModel",
          "state": {
            "_view_name": "LayoutView",
            "grid_template_rows": null,
            "right": null,
            "justify_content": null,
            "_view_module": "@jupyter-widgets/base",
            "overflow": null,
            "_model_module_version": "1.2.0",
            "_view_count": null,
            "flex_flow": null,
            "width": null,
            "min_width": null,
            "border": null,
            "align_items": null,
            "bottom": null,
            "_model_module": "@jupyter-widgets/base",
            "top": null,
            "grid_column": null,
            "overflow_y": null,
            "overflow_x": null,
            "grid_auto_flow": null,
            "grid_area": null,
            "grid_template_columns": null,
            "flex": null,
            "_model_name": "LayoutModel",
            "justify_items": null,
            "grid_row": null,
            "max_height": null,
            "align_content": null,
            "visibility": null,
            "align_self": null,
            "height": null,
            "min_height": null,
            "padding": null,
            "grid_auto_rows": null,
            "grid_gap": null,
            "max_width": null,
            "order": null,
            "_view_module_version": "1.2.0",
            "grid_template_areas": null,
            "object_position": null,
            "object_fit": null,
            "grid_auto_columns": null,
            "margin": null,
            "display": null,
            "left": null
          }
        }
      }
    }
  },
  "cells": [
    {
      "cell_type": "markdown",
      "metadata": {
        "id": "view-in-github",
        "colab_type": "text"
      },
      "source": [
        "<a href=\"https://colab.research.google.com/github/Ajay-user/DataScience/blob/master/Notes/Transfer_learning_and_Fine_tuning_guide.ipynb\" target=\"_parent\"><img src=\"https://colab.research.google.com/assets/colab-badge.svg\" alt=\"Open In Colab\"/></a>"
      ]
    },
    {
      "cell_type": "code",
      "metadata": {
        "id": "QSu9RzaZlAHS"
      },
      "source": [
        "import tensorflow as tf\n",
        "import tensorflow_datasets as tfds\n",
        "import matplotlib.pyplot as plt"
      ],
      "execution_count": 46,
      "outputs": []
    },
    {
      "cell_type": "markdown",
      "metadata": {
        "id": "ErNIWUh1sdx9"
      },
      "source": [
        "## Workflow\n",
        "https://www.tensorflow.org/guide/keras/transfer_learning#transfer_learning_fine-tuning_with_a_custom_training_loop\n",
        "\n",
        "**The typical transfer-learning workflow**\n",
        "\n",
        "\n",
        "* Instantiate a base model and load pre-trained weights into it.\n",
        "* Freeze all layers in the base model by setting `trainable = False`.\n",
        "* Create a new model on top of the pre-trained model.\n",
        "* Train your new model on your new dataset.\n",
        "\n",
        "**Note that an alternative, more lightweight workflow**\n",
        "\n",
        "* Instantiate a base model and load pre-trained weights into it.\n",
        "* Run your new dataset through it and record the output of the pre-trained model. This is called **feature extraction**.\n",
        "* Use that output as input data for a new, smaller model.\n",
        "* A key advantage of that second workflow is that you only run the base model once on your data, rather than once per epoch of training. So it's a lot faster & cheaper.\n",
        "\n",
        "* An issue with that second workflow, though, is that it doesn't allow you to dynamically modify the input data of your new model during training\n",
        "\n",
        "Data augmentationis required when dataset is small , for instance. Transfer learning is typically used for tasks when your new dataset has too little data to train a full-scale model from scratch, and in such scenarios data augmentation is very important.\n",
        "\n",
        "**Freezing layers: understanding the trainable attribute**\n",
        "\n",
        "Layers & models have three weight attributes:\n",
        "\n",
        "* `weights` is the list of all weights variables of the layer.\n",
        "* `trainable_weight`s is the list of those that are meant to be updated (via gradient descent) to minimize the loss during training.\n",
        "* `non_trainable_weights` is the list of those that aren't meant to be trained. Typically they are updated by the model during the forward pass.\n",
        "\n",
        "**The Dense layer has 2 trainable weights (kernel & bias)**\n",
        "\n",
        "\n",
        "In general, all weights are trainable weights. The only built-in layer that has non-trainable weights is the `BatchNormalization layer`. **It uses non-trainable weights to keep track of the mean and variance of its inputs during training**.\n",
        "\n",
        "**The BatchNormalization layer has 2 trainable weights and 2 non-trainable weights**\n",
        "\n",
        "Layers & models also feature a boolean attribute `trainable`. Its value can be changed. Setting layer.trainable to False moves all the layer's weights from trainable to non-trainable. This is called \"freezing\" the layer: the state of a frozen layer won't be updated during training (either when training with fit() or when training with any custom loop that relies on trainable_weights to apply gradient updates).\n",
        "\n",
        "**Recursive setting of the trainable attribute**\n",
        "\n",
        "If you set `trainable = False` on a model or on any layer that has sublayers, all children layers become non-trainable as well.\n",
        "\n",
        "When a trainable weight becomes non-trainable, its value is no longer updated during training.\n",
        "\n",
        "Do not confuse the `layer.trainable` attribute with the argument training in `layer.__call__()` (which controls whether the layer should run its forward pass in inference mode or training mode)."
      ]
    },
    {
      "cell_type": "markdown",
      "metadata": {
        "id": "IxhxCz4jmKGb"
      },
      "source": [
        "## Import the dataset"
      ]
    },
    {
      "cell_type": "code",
      "metadata": {
        "colab": {
          "base_uri": "https://localhost:8080/",
          "height": 269,
          "referenced_widgets": [
            "e718367d2156443196019d3d80ee3790",
            "d625abc4701347edb1157b67d7775b10",
            "3111292ddce74bb5b9de96acfa0da6a7",
            "67568d09b5b145b5a4c73c8ae3dd6f18",
            "8b8fd26f256a4302a2b256a25ce84b2a",
            "2d3dcae4dabf4ca78f856654fed85b86",
            "a08f42914181464891fc13b3591a8f5c",
            "661dead5019c4364a078683bb56ee3bd",
            "b7f40befbeae43c891ce468e33bc2b1c",
            "c766f95143264e459dcbe258d20aa3e3",
            "26b80d2ef72c4a5da6ad139f6145632c",
            "6d34976231ab4effb9e60502fbdecf26",
            "e8558ae4a69c4629845cf0198d714da5",
            "66c2cc31a52f4536a2ad3eb68b7f387c",
            "ead991b87dd241a1a5908d6a48afa3de",
            "9e67f418122e4e1e810db8e3916bbcf3",
            "ce486f219f204c5898a53868bfe90d3a",
            "4a8da06466fd43f18211ed3dcbce46e8",
            "221e856f4ba94269ba3beb56f321c411",
            "a2f8a21d6ada4c8bb4f5f30647e433d5",
            "8844008d4d5a461d9a1791565f9693a4",
            "cecaa37226de48db8f0e693e80f63cda",
            "27449ad2ab5249d49915b31ce944a58b",
            "fe5d024b9e084d90939c2243f900f9a5",
            "6980f8fbe955417bb15488b207bbfc87",
            "dae9c0c2a39842ca9dfe4bb1fc7a5287",
            "9f6c6baf6ce14402915cf0bfd4bc868a",
            "84847f741a2c4ce6b5661f34e3940b32",
            "3877b722b57a4fb79000c437ec9c5c98",
            "6400763410b147449dfee093cad7f8e8",
            "6aa72ff7416f449da1d7a3a7a6d46661",
            "1e8ef6d29742442d9d04cbc0bd8af2ce"
          ]
        },
        "id": "cCYXRYIekzBZ",
        "outputId": "96c5f1cd-2ad4-4c23-a495-b220d246a9ee"
      },
      "source": [
        "(raw_train_ds, raw_val_ds, raw_test_ds), metadata = tfds.load('cats_vs_dogs',\n",
        "                                                  split=['train[:40%]','train[40%:50%]','train[50%:60%]'],\n",
        "                                                  as_supervised=True,\n",
        "                                                   with_info=True)"
      ],
      "execution_count": 3,
      "outputs": [
        {
          "output_type": "stream",
          "text": [
            "\u001b[1mDownloading and preparing dataset cats_vs_dogs/4.0.0 (download: 786.68 MiB, generated: Unknown size, total: 786.68 MiB) to /root/tensorflow_datasets/cats_vs_dogs/4.0.0...\u001b[0m\n"
          ],
          "name": "stdout"
        },
        {
          "output_type": "display_data",
          "data": {
            "application/vnd.jupyter.widget-view+json": {
              "model_id": "e718367d2156443196019d3d80ee3790",
              "version_minor": 0,
              "version_major": 2
            },
            "text/plain": [
              "HBox(children=(FloatProgress(value=1.0, bar_style='info', description='Dl Completed...', max=1.0, style=Progre…"
            ]
          },
          "metadata": {
            "tags": []
          }
        },
        {
          "output_type": "display_data",
          "data": {
            "application/vnd.jupyter.widget-view+json": {
              "model_id": "b7f40befbeae43c891ce468e33bc2b1c",
              "version_minor": 0,
              "version_major": 2
            },
            "text/plain": [
              "HBox(children=(FloatProgress(value=1.0, bar_style='info', description='Dl Size...', max=1.0, style=ProgressSty…"
            ]
          },
          "metadata": {
            "tags": []
          }
        },
        {
          "output_type": "stream",
          "text": [
            "\n",
            "\n",
            "\n",
            "\n"
          ],
          "name": "stdout"
        },
        {
          "output_type": "display_data",
          "data": {
            "application/vnd.jupyter.widget-view+json": {
              "model_id": "ce486f219f204c5898a53868bfe90d3a",
              "version_minor": 0,
              "version_major": 2
            },
            "text/plain": [
              "HBox(children=(FloatProgress(value=1.0, bar_style='info', max=1.0), HTML(value='')))"
            ]
          },
          "metadata": {
            "tags": []
          }
        },
        {
          "output_type": "stream",
          "text": [
            "WARNING:absl:1738 images were corrupted and were skipped\n"
          ],
          "name": "stderr"
        },
        {
          "output_type": "stream",
          "text": [
            "\rShuffling and writing examples to /root/tensorflow_datasets/cats_vs_dogs/4.0.0.incomplete6JL37M/cats_vs_dogs-train.tfrecord\n"
          ],
          "name": "stdout"
        },
        {
          "output_type": "display_data",
          "data": {
            "application/vnd.jupyter.widget-view+json": {
              "model_id": "6980f8fbe955417bb15488b207bbfc87",
              "version_minor": 0,
              "version_major": 2
            },
            "text/plain": [
              "HBox(children=(FloatProgress(value=0.0, max=23262.0), HTML(value='')))"
            ]
          },
          "metadata": {
            "tags": []
          }
        },
        {
          "output_type": "stream",
          "text": [
            "\u001b[1mDataset cats_vs_dogs downloaded and prepared to /root/tensorflow_datasets/cats_vs_dogs/4.0.0. Subsequent calls will reuse this data.\u001b[0m\n",
            "\r"
          ],
          "name": "stdout"
        }
      ]
    },
    {
      "cell_type": "code",
      "metadata": {
        "colab": {
          "base_uri": "https://localhost:8080/"
        },
        "id": "gzdndVJUl57e",
        "outputId": "48f62dcb-006a-4773-de59-a8d4c2ab86ab"
      },
      "source": [
        "print('Number of training samples',raw_train_ds.cardinality().numpy())\n",
        "print('Number of validation samples',raw_val_ds.cardinality().numpy())\n",
        "print('Number of testing samples',raw_test_ds.cardinality().numpy())"
      ],
      "execution_count": 21,
      "outputs": [
        {
          "output_type": "stream",
          "text": [
            "Number of training samples 9305\n",
            "Number of validation samples 2326\n",
            "Number of testing samples 2326\n"
          ],
          "name": "stdout"
        }
      ]
    },
    {
      "cell_type": "markdown",
      "metadata": {
        "id": "3E_FCr09t1Sl"
      },
      "source": [
        "We Cannot batch tensors with different shapes in component 0. \n",
        "\n",
        "for eg :  First element had shape `[262,350,3]` and element 1 had shape `[409,336,3]`.\n",
        "\n",
        "Here the raw images have a variety of sizes. In addition, each pixel consists of 3 integer values between 0 and 255 (RGB level values). This isn't a great fit for feeding a neural network. We need to do 2 things:\n",
        "\n",
        "* Standardize to a fixed image size. We pick 150x150.\n",
        "* Rescale the pixel values between -1 and 1."
      ]
    },
    {
      "cell_type": "code",
      "metadata": {
        "id": "0s-INKW3t1At"
      },
      "source": [
        "train_ds = raw_train_ds.map(lambda x,y: (tf.image.resize(x, size=(150,150)),y))\n",
        "val_ds = raw_val_ds.map(lambda x,y: (tf.image.resize(x, size=(150,150)),y))\n",
        "test_ds = raw_test_ds.map(lambda x,y: (tf.image.resize(x, size=(150,150)),y))"
      ],
      "execution_count": 22,
      "outputs": []
    },
    {
      "cell_type": "markdown",
      "metadata": {
        "id": "Onf8OtXmsQJw"
      },
      "source": [
        "## Optimize the input"
      ]
    },
    {
      "cell_type": "code",
      "metadata": {
        "id": "lOjqNPgpsP-9"
      },
      "source": [
        "def config_for_optimization(ds):\n",
        "  ds = ds.batch(32)\n",
        "  ds = ds.prefetch(tf.data.AUTOTUNE)\n",
        "  return ds"
      ],
      "execution_count": 23,
      "outputs": []
    },
    {
      "cell_type": "code",
      "metadata": {
        "id": "nYKu6n4WsjS8"
      },
      "source": [
        "train_ds = config_for_optimization(train_ds)\n",
        "val_ds = config_for_optimization(val_ds)\n",
        "test_ds = config_for_optimization(test_ds)"
      ],
      "execution_count": 24,
      "outputs": []
    },
    {
      "cell_type": "markdown",
      "metadata": {
        "id": "Iz3jIJVUo7Fq"
      },
      "source": [
        "## Preprocessing"
      ]
    },
    {
      "cell_type": "code",
      "metadata": {
        "id": "CA06ESUWm-0i"
      },
      "source": [
        "resize = tf.keras.layers.experimental.preprocessing.Resizing(150,150)\n",
        "rescale = tf.keras.layers.experimental.preprocessing.Rescaling(scale=1.0/127.5, offset=-1)\n",
        "# we can use the preprocess_input method that comes with the model too\n",
        "preprocess_input = tf.keras.applications.xception.preprocess_input"
      ],
      "execution_count": 25,
      "outputs": []
    },
    {
      "cell_type": "markdown",
      "metadata": {
        "id": "P9_0LMtlpYMK"
      },
      "source": [
        "## Data-augmentation"
      ]
    },
    {
      "cell_type": "code",
      "metadata": {
        "id": "pwtTuTBMoD-F"
      },
      "source": [
        "data_augmentation = tf.keras.Sequential([\n",
        "                                         tf.keras.layers.experimental.preprocessing.RandomFlip(),\n",
        "                                         tf.keras.layers.experimental.preprocessing.RandomRotation(0.2)\n",
        "])"
      ],
      "execution_count": 26,
      "outputs": []
    },
    {
      "cell_type": "markdown",
      "metadata": {
        "id": "Hb-7p2IGq-do"
      },
      "source": [
        "## Global average pooling"
      ]
    },
    {
      "cell_type": "code",
      "metadata": {
        "id": "O4AEBtwWq-NK"
      },
      "source": [
        "global_avg = tf.keras.layers.GlobalAveragePooling2D()"
      ],
      "execution_count": 27,
      "outputs": []
    },
    {
      "cell_type": "markdown",
      "metadata": {
        "id": "nyISJHNTrIOT"
      },
      "source": [
        "## Prediction layer"
      ]
    },
    {
      "cell_type": "code",
      "metadata": {
        "id": "XWbDO8hKrH-E"
      },
      "source": [
        "prediction_layer = tf.keras.layers.Dense(1)"
      ],
      "execution_count": 28,
      "outputs": []
    },
    {
      "cell_type": "markdown",
      "metadata": {
        "id": "2T_N6YtypxWE"
      },
      "source": [
        "## Convolution base"
      ]
    },
    {
      "cell_type": "code",
      "metadata": {
        "id": "L3ui5Z4aptql"
      },
      "source": [
        "base_model = tf.keras.applications.Xception(include_top=False, weights='imagenet', input_shape=(150,150,3))"
      ],
      "execution_count": 29,
      "outputs": []
    },
    {
      "cell_type": "markdown",
      "metadata": {
        "id": "UO8WfskRqBbv"
      },
      "source": [
        "### Freeze the pre-trained model"
      ]
    },
    {
      "cell_type": "code",
      "metadata": {
        "id": "UufUof-2qAPw"
      },
      "source": [
        "base_model.trainable= False"
      ],
      "execution_count": 30,
      "outputs": []
    },
    {
      "cell_type": "markdown",
      "metadata": {
        "id": "_XYeXWivqWqx"
      },
      "source": [
        "## Build a model\n",
        "\n",
        "Make sure to pass `training=False` when calling the base model, so that it runs in inference mode, so that batchnorm statistics don't get updated even after we unfreeze the base model for fine-tuning."
      ]
    },
    {
      "cell_type": "code",
      "metadata": {
        "id": "ZQegWdgrqLS1"
      },
      "source": [
        "# input layer\n",
        "inputs = tf.keras.layers.Input(shape=(150,150,3))\n",
        "# preprocessing - rescale\n",
        "x = preprocess_input(inputs)\n",
        "# data-augmentation\n",
        "x = data_augmentation(x)\n",
        "# pretrained model -- inference mode\n",
        "x = base_model(x, training=False)\n",
        "# global-average-pooling\n",
        "x = global_avg(x)\n",
        "# drop-out-layer\n",
        "x = tf.keras.layers.Dropout(0.2)(x)\n",
        "# classifier\n",
        "outputs = prediction_layer(x)\n",
        "\n",
        "model = tf.keras.Model(inputs, outputs)"
      ],
      "execution_count": 31,
      "outputs": []
    },
    {
      "cell_type": "markdown",
      "metadata": {
        "id": "D_w5ITwlrp1k"
      },
      "source": [
        "## Compile the model"
      ]
    },
    {
      "cell_type": "code",
      "metadata": {
        "id": "w_Nxw2lprk2p"
      },
      "source": [
        "model.compile(optimizer=tf.keras.optimizers.Adam(learning_rate=0.0001),\n",
        "              loss=tf.keras.losses.BinaryCrossentropy(from_logits=True),\n",
        "              metrics=['accuracy'])"
      ],
      "execution_count": 32,
      "outputs": []
    },
    {
      "cell_type": "code",
      "metadata": {
        "colab": {
          "base_uri": "https://localhost:8080/"
        },
        "id": "jq9KCYn6r-AJ",
        "outputId": "3faa1d71-57ee-434d-e7ce-adb2c5bb3923"
      },
      "source": [
        "model.summary()"
      ],
      "execution_count": 33,
      "outputs": [
        {
          "output_type": "stream",
          "text": [
            "Model: \"model_1\"\n",
            "_________________________________________________________________\n",
            "Layer (type)                 Output Shape              Param #   \n",
            "=================================================================\n",
            "input_4 (InputLayer)         [(None, 150, 150, 3)]     0         \n",
            "_________________________________________________________________\n",
            "tf.math.truediv_1 (TFOpLambd (None, 150, 150, 3)       0         \n",
            "_________________________________________________________________\n",
            "tf.math.subtract_1 (TFOpLamb (None, 150, 150, 3)       0         \n",
            "_________________________________________________________________\n",
            "sequential_1 (Sequential)    (None, 150, 150, 3)       0         \n",
            "_________________________________________________________________\n",
            "xception (Functional)        (None, 5, 5, 2048)        20861480  \n",
            "_________________________________________________________________\n",
            "global_average_pooling2d_1 ( (None, 2048)              0         \n",
            "_________________________________________________________________\n",
            "dropout_1 (Dropout)          (None, 2048)              0         \n",
            "_________________________________________________________________\n",
            "dense_1 (Dense)              (None, 1)                 2049      \n",
            "=================================================================\n",
            "Total params: 20,863,529\n",
            "Trainable params: 2,049\n",
            "Non-trainable params: 20,861,480\n",
            "_________________________________________________________________\n"
          ],
          "name": "stdout"
        }
      ]
    },
    {
      "cell_type": "markdown",
      "metadata": {
        "id": "mVecqRgcs7fc"
      },
      "source": [
        "## Early stopping callback"
      ]
    },
    {
      "cell_type": "code",
      "metadata": {
        "id": "uBxPcfEHs7Q5"
      },
      "source": [
        "early_stopping = tf.keras.callbacks.EarlyStopping(monitor='val_loss', patience=1, restore_best_weights=True)"
      ],
      "execution_count": 34,
      "outputs": []
    },
    {
      "cell_type": "markdown",
      "metadata": {
        "id": "xkN9tts5sD3x"
      },
      "source": [
        "## Training "
      ]
    },
    {
      "cell_type": "code",
      "metadata": {
        "colab": {
          "base_uri": "https://localhost:8080/"
        },
        "id": "rLh58U-UsA4Q",
        "outputId": "dabc98d2-8767-4ee4-c646-4401092f1442"
      },
      "source": [
        "history = model.fit(train_ds,\n",
        "                    epochs=10,\n",
        "                    validation_data=val_ds,\n",
        "                    callbacks=[early_stopping])"
      ],
      "execution_count": 35,
      "outputs": [
        {
          "output_type": "stream",
          "text": [
            "Epoch 1/10\n",
            "291/291 [==============================] - 889s 3s/step - loss: 0.5440 - accuracy: 0.7006 - val_loss: 0.2428 - val_accuracy: 0.9205\n",
            "Epoch 2/10\n",
            "291/291 [==============================] - 883s 3s/step - loss: 0.3667 - accuracy: 0.8207 - val_loss: 0.1707 - val_accuracy: 0.9463\n",
            "Epoch 3/10\n",
            "291/291 [==============================] - 876s 3s/step - loss: 0.3238 - accuracy: 0.8460 - val_loss: 0.1453 - val_accuracy: 0.9527\n",
            "Epoch 4/10\n",
            "291/291 [==============================] - 882s 3s/step - loss: 0.3068 - accuracy: 0.8547 - val_loss: 0.1310 - val_accuracy: 0.9613\n",
            "Epoch 5/10\n",
            "291/291 [==============================] - 878s 3s/step - loss: 0.2887 - accuracy: 0.8678 - val_loss: 0.1229 - val_accuracy: 0.9617\n",
            "Epoch 6/10\n",
            "291/291 [==============================] - 884s 3s/step - loss: 0.2779 - accuracy: 0.8715 - val_loss: 0.1180 - val_accuracy: 0.9622\n",
            "Epoch 7/10\n",
            "291/291 [==============================] - 877s 3s/step - loss: 0.2707 - accuracy: 0.8766 - val_loss: 0.1139 - val_accuracy: 0.9626\n",
            "Epoch 8/10\n",
            "291/291 [==============================] - 881s 3s/step - loss: 0.2636 - accuracy: 0.8766 - val_loss: 0.1104 - val_accuracy: 0.9656\n",
            "Epoch 9/10\n",
            "291/291 [==============================] - 879s 3s/step - loss: 0.2702 - accuracy: 0.8751 - val_loss: 0.1089 - val_accuracy: 0.9669\n",
            "Epoch 10/10\n",
            "291/291 [==============================] - 882s 3s/step - loss: 0.2617 - accuracy: 0.8823 - val_loss: 0.1060 - val_accuracy: 0.9665\n"
          ],
          "name": "stdout"
        }
      ]
    },
    {
      "cell_type": "markdown",
      "metadata": {
        "id": "6yQ_7OuIXRDl"
      },
      "source": [
        "## Evaluation"
      ]
    },
    {
      "cell_type": "code",
      "metadata": {
        "colab": {
          "base_uri": "https://localhost:8080/"
        },
        "id": "DDJrXKWltPy1",
        "outputId": "97603feb-af09-4648-a741-62b6342aac35"
      },
      "source": [
        "loss, accuracy = model.evaluate(test_ds)\n",
        "print('Loss',loss)\n",
        "print('Accuracy',accuracy)"
      ],
      "execution_count": 36,
      "outputs": [
        {
          "output_type": "stream",
          "text": [
            "73/73 [==============================] - 173s 2s/step - loss: 0.1071 - accuracy: 0.9600\n",
            "Loss 0.10712040960788727\n",
            "Accuracy 0.960017204284668\n"
          ],
          "name": "stdout"
        }
      ]
    },
    {
      "cell_type": "markdown",
      "metadata": {
        "id": "lYNjn-VBXWIP"
      },
      "source": [
        "## Fine tuning\n",
        "\n",
        "\n",
        "* Once your model has converged on the new data, you can try to unfreeze all or part of the base model and **retrain the whole model end-to-end with a very low learning rate**.\n",
        "\n",
        "* This is an optional last step that can potentially give you incremental improvements. **It could also potentially lead to quick overfitting** -- keep that in mind.\n",
        "\n",
        "* **It is critical to only do this step after the model with frozen layers has been trained to convergence**. If you mix randomly-initialized trainable layers with trainable layers that hold pre-trained features, the randomly-initialized layers will cause very large gradient updates during training, which will destroy your pre-trained features.\n",
        "\n",
        "*  **It's also critical to use a very low learning rate at this stage**, because you are training a much larger model than in the first round of training, on a dataset that is typically very small. As a result, **you are at risk of overfitting very quickly if you apply large weight updates**. Here, you only want to readapt the pretrained weights in an incremental way.\n",
        "\n"
      ]
    },
    {
      "cell_type": "markdown",
      "metadata": {
        "id": "dsgoVfWGXbfE"
      },
      "source": [
        "### Unfreeze the pretrained model\n",
        "\n",
        "Unfreeze the base model and train the entire model end-to-end with a low learning rate.\n",
        "\n",
        "Importantly, although the base model becomes trainable, it is still running in inference mode since we passed training=False when calling it when we built the model. This means that the batch normalization layers inside won't update their batch statistics. If they did, they would wreck havoc on the representations learned by the model so far."
      ]
    },
    {
      "cell_type": "code",
      "metadata": {
        "id": "J1KSl5dGWBbO"
      },
      "source": [
        "base_model.trainable = True"
      ],
      "execution_count": 37,
      "outputs": []
    },
    {
      "cell_type": "code",
      "metadata": {
        "colab": {
          "base_uri": "https://localhost:8080/"
        },
        "id": "faw1HBiTXknI",
        "outputId": "8ce52833-2d8b-4b34-9613-5c68e4467740"
      },
      "source": [
        "print('Number of layers in pre-trained model',len(base_model.layers))"
      ],
      "execution_count": 39,
      "outputs": [
        {
          "output_type": "stream",
          "text": [
            "Number of layers in pre-trained model 132\n"
          ],
          "name": "stdout"
        }
      ]
    },
    {
      "cell_type": "code",
      "metadata": {
        "id": "BggW_o9TXldh"
      },
      "source": [
        "# we don't to train all the layers\n",
        "# we only want to train the top-level-layers to adapt dataset specific features\n",
        "\n",
        "fine_tune = 80\n",
        "\n",
        "for base_layer in base_model.layers[:fine_tune]:\n",
        "  base_layer.trainable = False"
      ],
      "execution_count": 40,
      "outputs": []
    },
    {
      "cell_type": "markdown",
      "metadata": {
        "id": "cJG8pYn4YXQx"
      },
      "source": [
        "## Compile the Model\n",
        "\n",
        "**Important note about compile() and trainable**\n",
        "\n",
        "* Calling `compile()` on a model is meant to \"freeze\" the behavior of that model. This implies that the trainable attribute values at the time the model is compiled should be preserved throughout the lifetime of that model, until compile is called again. Hence, if you change any trainable value, make sure to call `compile()` again on your model for your changes to be taken into account.\n",
        "\n",
        "**Important notes about BatchNormalization layer**\n",
        "\n",
        "* BatchNormalization contains 2 non-trainable weights that get updated during training. These are the variables tracking the mean and variance of the inputs.\n",
        "* When you set `bn_layer.trainable = False`, the BatchNormalization layer will run in inference mode, and will not update its mean & variance statistics. This is not the case for other layers in general, as weight trainability & inference/training modes are two orthogonal concepts. But the two are tied in the case of the BatchNormalization layer.\n",
        "* When you unfreeze a model that contains BatchNormalization layers in order to do fine-tuning, you should keep the BatchNormalization layers in inference mode by passing `training=False` when calling the base model. Otherwise the updates applied to the non-trainable weights will suddenly destroy what the model has learned."
      ]
    },
    {
      "cell_type": "code",
      "metadata": {
        "id": "E8qlta2zYVjO"
      },
      "source": [
        "model.compile(optimizer=tf.keras.optimizers.Adam(learning_rate=0.00001),\n",
        "              loss=tf.keras.losses.BinaryCrossentropy(from_logits=True),\n",
        "              metrics=['accuracy'])"
      ],
      "execution_count": 41,
      "outputs": []
    },
    {
      "cell_type": "code",
      "metadata": {
        "colab": {
          "base_uri": "https://localhost:8080/"
        },
        "id": "9f5_uYEHYpZN",
        "outputId": "d0ed73f8-06c6-45ca-952f-ac14c044a6d6"
      },
      "source": [
        "model.summary()"
      ],
      "execution_count": 42,
      "outputs": [
        {
          "output_type": "stream",
          "text": [
            "Model: \"model_1\"\n",
            "_________________________________________________________________\n",
            "Layer (type)                 Output Shape              Param #   \n",
            "=================================================================\n",
            "input_4 (InputLayer)         [(None, 150, 150, 3)]     0         \n",
            "_________________________________________________________________\n",
            "tf.math.truediv_1 (TFOpLambd (None, 150, 150, 3)       0         \n",
            "_________________________________________________________________\n",
            "tf.math.subtract_1 (TFOpLamb (None, 150, 150, 3)       0         \n",
            "_________________________________________________________________\n",
            "sequential_1 (Sequential)    (None, 150, 150, 3)       0         \n",
            "_________________________________________________________________\n",
            "xception (Functional)        (None, 5, 5, 2048)        20861480  \n",
            "_________________________________________________________________\n",
            "global_average_pooling2d_1 ( (None, 2048)              0         \n",
            "_________________________________________________________________\n",
            "dropout_1 (Dropout)          (None, 2048)              0         \n",
            "_________________________________________________________________\n",
            "dense_1 (Dense)              (None, 1)                 2049      \n",
            "=================================================================\n",
            "Total params: 20,863,529\n",
            "Trainable params: 12,708,345\n",
            "Non-trainable params: 8,155,184\n",
            "_________________________________________________________________\n"
          ],
          "name": "stdout"
        }
      ]
    },
    {
      "cell_type": "markdown",
      "metadata": {
        "id": "4D6U5CSoYuo8"
      },
      "source": [
        "## Training"
      ]
    },
    {
      "cell_type": "code",
      "metadata": {
        "colab": {
          "base_uri": "https://localhost:8080/"
        },
        "id": "fGN2ScqRYqf5",
        "outputId": "98115b18-5dd9-4026-fc94-bad4f4e1499d"
      },
      "source": [
        "fine_tune_history = model.fit(train_ds,\n",
        "                              epochs=20,\n",
        "                              validation_data=val_ds,\n",
        "                              initial_epoch=history.epoch[-1],\n",
        "                              callbacks=[early_stopping])"
      ],
      "execution_count": 43,
      "outputs": [
        {
          "output_type": "stream",
          "text": [
            "Epoch 10/20\n",
            "291/291 [==============================] - 1746s 6s/step - loss: 0.2306 - accuracy: 0.8979 - val_loss: 0.0786 - val_accuracy: 0.9708\n",
            "Epoch 11/20\n",
            "291/291 [==============================] - 1788s 6s/step - loss: 0.1820 - accuracy: 0.9203 - val_loss: 0.0796 - val_accuracy: 0.9708\n"
          ],
          "name": "stdout"
        }
      ]
    },
    {
      "cell_type": "markdown",
      "metadata": {
        "id": "zCfFlYBjo8nU"
      },
      "source": [
        "## Evaluation"
      ]
    },
    {
      "cell_type": "code",
      "metadata": {
        "colab": {
          "base_uri": "https://localhost:8080/"
        },
        "id": "fWFqhDdto75f",
        "outputId": "597029d2-9d3b-4974-a599-182af835fe6b"
      },
      "source": [
        "loss, accuracy = model.evaluate(test_ds)\n",
        "print('Loss',loss)\n",
        "print('Accuracy',accuracy)"
      ],
      "execution_count": 44,
      "outputs": [
        {
          "output_type": "stream",
          "text": [
            "73/73 [==============================] - 174s 2s/step - loss: 0.0879 - accuracy: 0.9635\n",
            "Loss 0.08791561424732208\n",
            "Accuracy 0.9634565711021423\n"
          ],
          "name": "stdout"
        }
      ]
    },
    {
      "cell_type": "markdown",
      "metadata": {
        "id": "2NLT9azMu-IO"
      },
      "source": [
        "## Learning curves"
      ]
    },
    {
      "cell_type": "code",
      "metadata": {
        "colab": {
          "base_uri": "https://localhost:8080/",
          "height": 294
        },
        "id": "X4WsiG56vBCn",
        "outputId": "208251e7-872b-471b-ab3e-cbc9fb01831a"
      },
      "source": [
        "plt.figure(figsize=(14,4))\n",
        "\n",
        "plt.subplot(1,4,1)\n",
        "plt.plot(range(10), history.history['loss'], label='loss')\n",
        "plt.plot(range(10), history.history['val_loss'], label='val loss')\n",
        "plt.legend()\n",
        "plt.subplot(1,4,2)\n",
        "plt.plot(range(10), history.history['accuracy'], label='accuracy')\n",
        "plt.plot(range(10), history.history['val_accuracy'], label='val accuracy')\n",
        "plt.legend()\n",
        "# model after fine tuning\n",
        "plt.subplot(1,4,3)\n",
        "plt.plot(range(12), (history.history['loss']+fine_tune_history.history['loss']), label='loss')\n",
        "plt.plot(range(12), (history.history['val_loss']+fine_tune_history.history['loss']), label='val loss')\n",
        "plt.legend(title='Fine tuned')\n",
        "plt.subplot(1,4,4)\n",
        "plt.plot(range(12), (history.history['accuracy']+fine_tune_history.history['accuracy']), label='accuracy')\n",
        "plt.plot(range(12), (history.history['val_accuracy']+fine_tune_history.history['val_accuracy']), label='val accuracy')\n",
        "plt.legend(title='Fine tuned')\n",
        "\n",
        "\n",
        "plt.suptitle('Transfer learning and Fine-tuning')\n",
        "\n",
        "plt.show()"
      ],
      "execution_count": 48,
      "outputs": [
        {
          "output_type": "display_data",
          "data": {
            "image/png": "[encoded data removed]",
            "text/plain": [
              "<Figure size 1008x288 with 4 Axes>"
            ]
          },
          "metadata": {
            "tags": [],
            "needs_background": "light"
          }
        }
      ]
    },
    {
      "cell_type": "code",
      "metadata": {
        "id": "tgA5rM7dvdyN"
      },
      "source": [
        ""
      ],
      "execution_count": null,
      "outputs": []
    }
  ]
}