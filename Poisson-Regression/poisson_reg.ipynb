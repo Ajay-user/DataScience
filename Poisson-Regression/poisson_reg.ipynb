{
 "cells": [
  {
   "cell_type": "code",
   "execution_count": 1,
   "metadata": {},
   "outputs": [],
   "source": [
    "import pandas as pd\n",
    "import numpy as np\n",
    "import seaborn as sns\n",
    "import matplotlib.pyplot as plt\n",
    "\n",
    "from feature_engine.creation import CyclicalFeatures\n",
    "from sklearn.preprocessing import OneHotEncoder, MinMaxScaler, SplineTransformer\n",
    "from sklearn.compose import ColumnTransformer\n",
    "from sklearn.pipeline import Pipeline\n",
    "\n",
    "from sklearn.linear_model import Ridge, PoissonRegressor\n",
    "from sklearn.ensemble import RandomForestRegressor\n",
    "from sklearn.ensemble import HistGradientBoostingRegressor\n",
    "\n",
    "from sklearn.model_selection import TimeSeriesSplit, cross_validate, cross_val_score\n",
    "\n",
    "from sklearn.metrics import mean_poisson_deviance, mean_squared_error\n",
    "\n",
    "from sklearn.utils import gen_even_slices"
   ]
  },
  {
   "attachments": {},
   "cell_type": "markdown",
   "metadata": {},
   "source": [
    "## Load the data\n",
    "\n",
    "link : https://www.kaggle.com/datasets/hmavrodiev/london-bike-sharing-dataset\n",
    "\n",
    "or you can use :\n",
    "\n",
    "<pre>\n",
    "from sklearn.datasets import fetch_openml\n",
    "\n",
    "bike_sharing = fetch_openml(\n",
    "    \"Bike_Sharing_Demand\", version=2, as_frame=True, parser=\"pandas\"\n",
    ")\n",
    "df = bike_sharing.frame\n",
    "</pre>\n",
    "\n",
    "\n",
    "* \"`cnt`\" - the count of a new bike shares\n",
    "* \"`t1`\" - real temperature in C\n",
    "* \"`t2`\" - temperature in C \"feels like\"\n",
    "* \"`hum`\" - humidity in percentage\n",
    "* \"`windspeed`\" - wind speed in km/h\n",
    "* \"`weathercode`\" - category of the weather\n",
    "* \"`isholiday`\" - boolean field - 1 holiday / 0 non holiday\n",
    "* \"`isweekend`\" - boolean field - 1 if the day is weekend\n",
    "* \"`season`\" - category field meteorological seasons: 0-spring ; 1-summer; 2-fall; 3-winter.\n",
    "\n",
    "#### `weathe_code`\" category description:\n",
    "* 1 = Clear ; mostly clear but have some values with haze/fog/patches of fog/ fog in vicinity \n",
    "* 2 = scattered clouds / few clouds \n",
    "* 3 = Broken clouds \n",
    "* 4 = Cloudy \n",
    "* 7 = Rain/ light Rain shower/ Light rain \n",
    "* 10 = rain with thunderstorm \n",
    "* 26 = snowfall \n",
    "* 94 = Freezing Fog\n",
    "\n",
    "\n",
    "#### **objective** : predict the future bike shares."
   ]
  },
  {
   "cell_type": "code",
   "execution_count": 2,
   "metadata": {},
   "outputs": [
    {
     "data": {
      "text/html": [
       "<div>\n",
       "<style scoped>\n",
       "    .dataframe tbody tr th:only-of-type {\n",
       "        vertical-align: middle;\n",
       "    }\n",
       "\n",
       "    .dataframe tbody tr th {\n",
       "        vertical-align: top;\n",
       "    }\n",
       "\n",
       "    .dataframe thead th {\n",
       "        text-align: right;\n",
       "    }\n",
       "</style>\n",
       "<table border=\"1\" class=\"dataframe\">\n",
       "  <thead>\n",
       "    <tr style=\"text-align: right;\">\n",
       "      <th></th>\n",
       "      <th>cnt</th>\n",
       "      <th>t1</th>\n",
       "      <th>hum</th>\n",
       "      <th>wind_speed</th>\n",
       "      <th>weather_code</th>\n",
       "      <th>is_holiday</th>\n",
       "      <th>is_weekend</th>\n",
       "      <th>season</th>\n",
       "      <th>hour</th>\n",
       "    </tr>\n",
       "  </thead>\n",
       "  <tbody>\n",
       "    <tr>\n",
       "      <th>0</th>\n",
       "      <td>182</td>\n",
       "      <td>3.0</td>\n",
       "      <td>93.0</td>\n",
       "      <td>6.0</td>\n",
       "      <td>3</td>\n",
       "      <td>0</td>\n",
       "      <td>1</td>\n",
       "      <td>3</td>\n",
       "      <td>0</td>\n",
       "    </tr>\n",
       "    <tr>\n",
       "      <th>1</th>\n",
       "      <td>138</td>\n",
       "      <td>3.0</td>\n",
       "      <td>93.0</td>\n",
       "      <td>5.0</td>\n",
       "      <td>1</td>\n",
       "      <td>0</td>\n",
       "      <td>1</td>\n",
       "      <td>3</td>\n",
       "      <td>1</td>\n",
       "    </tr>\n",
       "    <tr>\n",
       "      <th>2</th>\n",
       "      <td>134</td>\n",
       "      <td>2.5</td>\n",
       "      <td>96.5</td>\n",
       "      <td>0.0</td>\n",
       "      <td>1</td>\n",
       "      <td>0</td>\n",
       "      <td>1</td>\n",
       "      <td>3</td>\n",
       "      <td>2</td>\n",
       "    </tr>\n",
       "    <tr>\n",
       "      <th>3</th>\n",
       "      <td>72</td>\n",
       "      <td>2.0</td>\n",
       "      <td>100.0</td>\n",
       "      <td>0.0</td>\n",
       "      <td>1</td>\n",
       "      <td>0</td>\n",
       "      <td>1</td>\n",
       "      <td>3</td>\n",
       "      <td>3</td>\n",
       "    </tr>\n",
       "    <tr>\n",
       "      <th>4</th>\n",
       "      <td>47</td>\n",
       "      <td>2.0</td>\n",
       "      <td>93.0</td>\n",
       "      <td>6.5</td>\n",
       "      <td>1</td>\n",
       "      <td>0</td>\n",
       "      <td>1</td>\n",
       "      <td>3</td>\n",
       "      <td>4</td>\n",
       "    </tr>\n",
       "  </tbody>\n",
       "</table>\n",
       "</div>"
      ],
      "text/plain": [
       "   cnt   t1    hum  wind_speed  weather_code  is_holiday  is_weekend  season  \\\n",
       "0  182  3.0   93.0         6.0             3           0           1       3   \n",
       "1  138  3.0   93.0         5.0             1           0           1       3   \n",
       "2  134  2.5   96.5         0.0             1           0           1       3   \n",
       "3   72  2.0  100.0         0.0             1           0           1       3   \n",
       "4   47  2.0   93.0         6.5             1           0           1       3   \n",
       "\n",
       "   hour  \n",
       "0     0  \n",
       "1     1  \n",
       "2     2  \n",
       "3     3  \n",
       "4     4  "
      ]
     },
     "execution_count": 2,
     "metadata": {},
     "output_type": "execute_result"
    }
   ],
   "source": [
    "df = pd.read_csv('./data/london_bikes.csv')\n",
    "df.head()"
   ]
  },
  {
   "attachments": {},
   "cell_type": "markdown",
   "metadata": {},
   "source": [
    "## Feature and Target"
   ]
  },
  {
   "cell_type": "code",
   "execution_count": 3,
   "metadata": {},
   "outputs": [],
   "source": [
    "y = df.pop('cnt')\n",
    "X = df"
   ]
  },
  {
   "attachments": {},
   "cell_type": "markdown",
   "metadata": {},
   "source": [
    "## Cyclic features\n",
    "\n",
    "There are some features that are cyclic by nature. \n",
    "* For example the hours of a day or the months in a year. \n",
    "\n",
    "In these cases, the higher values of the variable are closer to the lower values. \n",
    "* For example, December `(12)` is closer to January `(1)` than to June `(6)`. \n",
    "\n",
    "By applying a cyclical transformations, that is, with the sine and cosine transformations of the original variables, we can capture the cyclic nature and obtain a better representation of the proximity between values.\n"
   ]
  },
  {
   "cell_type": "code",
   "execution_count": 19,
   "metadata": {},
   "outputs": [],
   "source": [
    "plt.figure(figsize=(15,3))\n",
    "h = df['hour'].value_counts()\n",
    "plt.bar(h.index, h.values, color='salmon')\n",
    "plt.xticks(h.index, labels=h.index);\n",
    "plt.title('Hour Feature value counts');"
   ]
  },
  {
   "attachments": {},
   "cell_type": "markdown",
   "metadata": {},
   "source": [
    "<img src='./plots/hour-val-counts.png'>"
   ]
  },
  {
   "cell_type": "code",
   "execution_count": 30,
   "metadata": {},
   "outputs": [
    {
     "data": {
      "text/html": [
       "<div>\n",
       "<style scoped>\n",
       "    .dataframe tbody tr th:only-of-type {\n",
       "        vertical-align: middle;\n",
       "    }\n",
       "\n",
       "    .dataframe tbody tr th {\n",
       "        vertical-align: top;\n",
       "    }\n",
       "\n",
       "    .dataframe thead th {\n",
       "        text-align: right;\n",
       "    }\n",
       "</style>\n",
       "<table border=\"1\" class=\"dataframe\">\n",
       "  <thead>\n",
       "    <tr style=\"text-align: right;\">\n",
       "      <th></th>\n",
       "      <th>hour_sin</th>\n",
       "      <th>hour_cos</th>\n",
       "    </tr>\n",
       "  </thead>\n",
       "  <tbody>\n",
       "    <tr>\n",
       "      <th>0</th>\n",
       "      <td>0.000000</td>\n",
       "      <td>1.000000</td>\n",
       "    </tr>\n",
       "    <tr>\n",
       "      <th>1</th>\n",
       "      <td>0.269797</td>\n",
       "      <td>0.962917</td>\n",
       "    </tr>\n",
       "    <tr>\n",
       "      <th>2</th>\n",
       "      <td>0.519584</td>\n",
       "      <td>0.854419</td>\n",
       "    </tr>\n",
       "    <tr>\n",
       "      <th>3</th>\n",
       "      <td>0.730836</td>\n",
       "      <td>0.682553</td>\n",
       "    </tr>\n",
       "    <tr>\n",
       "      <th>4</th>\n",
       "      <td>0.887885</td>\n",
       "      <td>0.460065</td>\n",
       "    </tr>\n",
       "  </tbody>\n",
       "</table>\n",
       "</div>"
      ],
      "text/plain": [
       "   hour_sin  hour_cos\n",
       "0  0.000000  1.000000\n",
       "1  0.269797  0.962917\n",
       "2  0.519584  0.854419\n",
       "3  0.730836  0.682553\n",
       "4  0.887885  0.460065"
      ]
     },
     "execution_count": 30,
     "metadata": {},
     "output_type": "execute_result"
    }
   ],
   "source": [
    "# using feature engine\n",
    "cyclic = CyclicalFeatures(drop_original=True)\n",
    "c = cyclic.fit_transform(df[['hour']])\n",
    "c.head()"
   ]
  },
  {
   "cell_type": "code",
   "execution_count": 39,
   "metadata": {},
   "outputs": [],
   "source": [
    "plt.scatter(df['hour'], c['hour_sin'], label='sine')\n",
    "plt.scatter(df['hour'], c['hour_cos'], label='cosine')\n",
    "plt.title('Cyclical Features')\n",
    "plt.legend();"
   ]
  },
  {
   "attachments": {},
   "cell_type": "markdown",
   "metadata": {},
   "source": [
    "<img src='./plots/cyclic-feat.png'>"
   ]
  },
  {
   "attachments": {},
   "cell_type": "markdown",
   "metadata": {},
   "source": [
    "\n",
    "## Periodic spline : Modeling seasonal effects\n",
    "\n",
    "* Seasonal effects can be modelled using periodic splines, which have equal function value and equal derivatives at the first and last knot.\n",
    "\n",
    "* The splines period is the distance between the first and last knot (which we specify manually, if known)\n",
    "\n",
    "* Periodic splines provide a better fit both within and outside of the range of training data given the additional information of periodicity. \n",
    "\n",
    "* Periodic splines can also be useful for naturally periodic features (such as day of the year), as the smoothness at the boundary knots prevents a jump in the transformed values (e.g. from Dec 31st to Jan 1st). \n",
    "\n",
    "* For naturally periodic features or more generally features where the period is known, it is advised to explicitly pass this information to the SplineTransformer by setting the knots manually.\n"
   ]
  },
  {
   "cell_type": "code",
   "execution_count": 90,
   "metadata": {},
   "outputs": [
    {
     "data": {
      "text/html": [
       "<div>\n",
       "<style scoped>\n",
       "    .dataframe tbody tr th:only-of-type {\n",
       "        vertical-align: middle;\n",
       "    }\n",
       "\n",
       "    .dataframe tbody tr th {\n",
       "        vertical-align: top;\n",
       "    }\n",
       "\n",
       "    .dataframe thead th {\n",
       "        text-align: right;\n",
       "    }\n",
       "</style>\n",
       "<table border=\"1\" class=\"dataframe\">\n",
       "  <thead>\n",
       "    <tr style=\"text-align: right;\">\n",
       "      <th></th>\n",
       "      <th>spline-0</th>\n",
       "      <th>spline-1</th>\n",
       "      <th>spline-2</th>\n",
       "      <th>spline-3</th>\n",
       "      <th>spline-4</th>\n",
       "      <th>spline-5</th>\n",
       "      <th>spline-6</th>\n",
       "      <th>spline-7</th>\n",
       "      <th>spline-8</th>\n",
       "      <th>spline-9</th>\n",
       "      <th>spline-10</th>\n",
       "      <th>spline-11</th>\n",
       "    </tr>\n",
       "  </thead>\n",
       "  <tbody>\n",
       "    <tr>\n",
       "      <th>0</th>\n",
       "      <td>0.166667</td>\n",
       "      <td>0.666667</td>\n",
       "      <td>0.166667</td>\n",
       "      <td>0.000000</td>\n",
       "      <td>0.000000</td>\n",
       "      <td>0.00000</td>\n",
       "      <td>0.0</td>\n",
       "      <td>0.0</td>\n",
       "      <td>0.0</td>\n",
       "      <td>0.0</td>\n",
       "      <td>0.0</td>\n",
       "      <td>0.0</td>\n",
       "    </tr>\n",
       "    <tr>\n",
       "      <th>1</th>\n",
       "      <td>0.018232</td>\n",
       "      <td>0.465467</td>\n",
       "      <td>0.492630</td>\n",
       "      <td>0.023671</td>\n",
       "      <td>0.000000</td>\n",
       "      <td>0.00000</td>\n",
       "      <td>0.0</td>\n",
       "      <td>0.0</td>\n",
       "      <td>0.0</td>\n",
       "      <td>0.0</td>\n",
       "      <td>0.0</td>\n",
       "      <td>0.0</td>\n",
       "    </tr>\n",
       "    <tr>\n",
       "      <th>2</th>\n",
       "      <td>0.000000</td>\n",
       "      <td>0.145859</td>\n",
       "      <td>0.664817</td>\n",
       "      <td>0.189310</td>\n",
       "      <td>0.000014</td>\n",
       "      <td>0.00000</td>\n",
       "      <td>0.0</td>\n",
       "      <td>0.0</td>\n",
       "      <td>0.0</td>\n",
       "      <td>0.0</td>\n",
       "      <td>0.0</td>\n",
       "      <td>0.0</td>\n",
       "    </tr>\n",
       "    <tr>\n",
       "      <th>3</th>\n",
       "      <td>0.000000</td>\n",
       "      <td>0.013698</td>\n",
       "      <td>0.437481</td>\n",
       "      <td>0.518726</td>\n",
       "      <td>0.030095</td>\n",
       "      <td>0.00000</td>\n",
       "      <td>0.0</td>\n",
       "      <td>0.0</td>\n",
       "      <td>0.0</td>\n",
       "      <td>0.0</td>\n",
       "      <td>0.0</td>\n",
       "      <td>0.0</td>\n",
       "    </tr>\n",
       "    <tr>\n",
       "      <th>4</th>\n",
       "      <td>0.000000</td>\n",
       "      <td>0.000000</td>\n",
       "      <td>0.126860</td>\n",
       "      <td>0.659434</td>\n",
       "      <td>0.213597</td>\n",
       "      <td>0.00011</td>\n",
       "      <td>0.0</td>\n",
       "      <td>0.0</td>\n",
       "      <td>0.0</td>\n",
       "      <td>0.0</td>\n",
       "      <td>0.0</td>\n",
       "      <td>0.0</td>\n",
       "    </tr>\n",
       "  </tbody>\n",
       "</table>\n",
       "</div>"
      ],
      "text/plain": [
       "   spline-0  spline-1  spline-2  spline-3  spline-4  spline-5  spline-6  \\\n",
       "0  0.166667  0.666667  0.166667  0.000000  0.000000   0.00000       0.0   \n",
       "1  0.018232  0.465467  0.492630  0.023671  0.000000   0.00000       0.0   \n",
       "2  0.000000  0.145859  0.664817  0.189310  0.000014   0.00000       0.0   \n",
       "3  0.000000  0.013698  0.437481  0.518726  0.030095   0.00000       0.0   \n",
       "4  0.000000  0.000000  0.126860  0.659434  0.213597   0.00011       0.0   \n",
       "\n",
       "   spline-7  spline-8  spline-9  spline-10  spline-11  \n",
       "0       0.0       0.0       0.0        0.0        0.0  \n",
       "1       0.0       0.0       0.0        0.0        0.0  \n",
       "2       0.0       0.0       0.0        0.0        0.0  \n",
       "3       0.0       0.0       0.0        0.0        0.0  \n",
       "4       0.0       0.0       0.0        0.0        0.0  "
      ]
     },
     "execution_count": 90,
     "metadata": {},
     "output_type": "execute_result"
    }
   ],
   "source": [
    "# using spline transformer from sklearn\n",
    "\n",
    "spline = SplineTransformer(degree=3, n_knots=13, extrapolation='periodic')\n",
    "temp_df = pd.DataFrame(data=spline.fit_transform(df[['hour']]), columns=[f'spline-{i}' for i in range(12)])\n",
    "temp_df.head()\n"
   ]
  },
  {
   "cell_type": "code",
   "execution_count": 92,
   "metadata": {},
   "outputs": [],
   "source": [
    "temp_df['hour'] = df['hour']\n",
    "temp_df.plot(x='hour', linestyle='', marker='.')\n",
    "plt.legend(bbox_to_anchor=(1.05, 1), loc='upper left', borderaxespad=0);"
   ]
  },
  {
   "attachments": {},
   "cell_type": "markdown",
   "metadata": {},
   "source": [
    "<img src='./plots/spline-feat-plot-1.png'>"
   ]
  },
  {
   "cell_type": "code",
   "execution_count": 77,
   "metadata": {},
   "outputs": [
    {
     "data": {
      "text/html": [
       "<div>\n",
       "<style scoped>\n",
       "    .dataframe tbody tr th:only-of-type {\n",
       "        vertical-align: middle;\n",
       "    }\n",
       "\n",
       "    .dataframe tbody tr th {\n",
       "        vertical-align: top;\n",
       "    }\n",
       "\n",
       "    .dataframe thead th {\n",
       "        text-align: right;\n",
       "    }\n",
       "</style>\n",
       "<table border=\"1\" class=\"dataframe\">\n",
       "  <thead>\n",
       "    <tr style=\"text-align: right;\">\n",
       "      <th></th>\n",
       "      <th>spline-0</th>\n",
       "      <th>spline-1</th>\n",
       "      <th>spline-2</th>\n",
       "      <th>spline-3</th>\n",
       "      <th>spline-4</th>\n",
       "      <th>spline-5</th>\n",
       "      <th>spline-6</th>\n",
       "      <th>spline-7</th>\n",
       "      <th>spline-8</th>\n",
       "      <th>spline-9</th>\n",
       "      <th>spline-10</th>\n",
       "      <th>spline-11</th>\n",
       "    </tr>\n",
       "  </thead>\n",
       "  <tbody>\n",
       "    <tr>\n",
       "      <th>0</th>\n",
       "      <td>0.166667</td>\n",
       "      <td>0.666667</td>\n",
       "      <td>0.166667</td>\n",
       "      <td>0.000000</td>\n",
       "      <td>0.000000</td>\n",
       "      <td>0.0</td>\n",
       "      <td>0.0</td>\n",
       "      <td>0.0</td>\n",
       "      <td>0.0</td>\n",
       "      <td>0.0</td>\n",
       "      <td>0.0</td>\n",
       "      <td>0.0</td>\n",
       "    </tr>\n",
       "    <tr>\n",
       "      <th>1</th>\n",
       "      <td>0.020833</td>\n",
       "      <td>0.479167</td>\n",
       "      <td>0.479167</td>\n",
       "      <td>0.020833</td>\n",
       "      <td>0.000000</td>\n",
       "      <td>0.0</td>\n",
       "      <td>0.0</td>\n",
       "      <td>0.0</td>\n",
       "      <td>0.0</td>\n",
       "      <td>0.0</td>\n",
       "      <td>0.0</td>\n",
       "      <td>0.0</td>\n",
       "    </tr>\n",
       "    <tr>\n",
       "      <th>2</th>\n",
       "      <td>0.000000</td>\n",
       "      <td>0.166667</td>\n",
       "      <td>0.666667</td>\n",
       "      <td>0.166667</td>\n",
       "      <td>0.000000</td>\n",
       "      <td>0.0</td>\n",
       "      <td>0.0</td>\n",
       "      <td>0.0</td>\n",
       "      <td>0.0</td>\n",
       "      <td>0.0</td>\n",
       "      <td>0.0</td>\n",
       "      <td>0.0</td>\n",
       "    </tr>\n",
       "    <tr>\n",
       "      <th>3</th>\n",
       "      <td>0.000000</td>\n",
       "      <td>0.020833</td>\n",
       "      <td>0.479167</td>\n",
       "      <td>0.479167</td>\n",
       "      <td>0.020833</td>\n",
       "      <td>0.0</td>\n",
       "      <td>0.0</td>\n",
       "      <td>0.0</td>\n",
       "      <td>0.0</td>\n",
       "      <td>0.0</td>\n",
       "      <td>0.0</td>\n",
       "      <td>0.0</td>\n",
       "    </tr>\n",
       "    <tr>\n",
       "      <th>4</th>\n",
       "      <td>0.000000</td>\n",
       "      <td>0.000000</td>\n",
       "      <td>0.166667</td>\n",
       "      <td>0.666667</td>\n",
       "      <td>0.166667</td>\n",
       "      <td>0.0</td>\n",
       "      <td>0.0</td>\n",
       "      <td>0.0</td>\n",
       "      <td>0.0</td>\n",
       "      <td>0.0</td>\n",
       "      <td>0.0</td>\n",
       "      <td>0.0</td>\n",
       "    </tr>\n",
       "  </tbody>\n",
       "</table>\n",
       "</div>"
      ],
      "text/plain": [
       "   spline-0  spline-1  spline-2  spline-3  spline-4  spline-5  spline-6  \\\n",
       "0  0.166667  0.666667  0.166667  0.000000  0.000000       0.0       0.0   \n",
       "1  0.020833  0.479167  0.479167  0.020833  0.000000       0.0       0.0   \n",
       "2  0.000000  0.166667  0.666667  0.166667  0.000000       0.0       0.0   \n",
       "3  0.000000  0.020833  0.479167  0.479167  0.020833       0.0       0.0   \n",
       "4  0.000000  0.000000  0.166667  0.666667  0.166667       0.0       0.0   \n",
       "\n",
       "   spline-7  spline-8  spline-9  spline-10  spline-11  \n",
       "0       0.0       0.0       0.0        0.0        0.0  \n",
       "1       0.0       0.0       0.0        0.0        0.0  \n",
       "2       0.0       0.0       0.0        0.0        0.0  \n",
       "3       0.0       0.0       0.0        0.0        0.0  \n",
       "4       0.0       0.0       0.0        0.0        0.0  "
      ]
     },
     "execution_count": 77,
     "metadata": {},
     "output_type": "execute_result"
    }
   ],
   "source": [
    "# if we know the periodicity we should provide that info to spline transformer\n",
    "n_knots = 13\n",
    "period = 24\n",
    "knots = (np.linspace(0, period, n_knots))[:,np.newaxis]\n",
    "spline = SplineTransformer(degree=3, n_knots=13, knots=knots, extrapolation='periodic')\n",
    "temp_df = pd.DataFrame(data=spline.fit_transform(df[['hour']]), columns=[f'spline-{i}' for i in range(12)])\n",
    "temp_df.head()"
   ]
  },
  {
   "cell_type": "code",
   "execution_count": 93,
   "metadata": {},
   "outputs": [],
   "source": [
    "for col in temp_df.columns:\n",
    "    plt.plot(df['hour'][:24], temp_df[col][:24])\n"
   ]
  },
  {
   "attachments": {},
   "cell_type": "markdown",
   "metadata": {},
   "source": [
    "<img src='./plots/spline-feat-plot-2.png'>"
   ]
  },
  {
   "attachments": {},
   "cell_type": "markdown",
   "metadata": {},
   "source": [
    "## Categorical Features"
   ]
  },
  {
   "cell_type": "code",
   "execution_count": 4,
   "metadata": {},
   "outputs": [],
   "source": [
    "cat_features = ['weather_code',\t'is_holiday','is_weekend', 'season']"
   ]
  },
  {
   "cell_type": "code",
   "execution_count": 182,
   "metadata": {},
   "outputs": [
    {
     "data": {
      "text/html": [
       "<div>\n",
       "<style scoped>\n",
       "    .dataframe tbody tr th:only-of-type {\n",
       "        vertical-align: middle;\n",
       "    }\n",
       "\n",
       "    .dataframe tbody tr th {\n",
       "        vertical-align: top;\n",
       "    }\n",
       "\n",
       "    .dataframe thead th {\n",
       "        text-align: right;\n",
       "    }\n",
       "</style>\n",
       "<table border=\"1\" class=\"dataframe\">\n",
       "  <thead>\n",
       "    <tr style=\"text-align: right;\">\n",
       "      <th></th>\n",
       "      <th>weather_code</th>\n",
       "      <th>is_holiday</th>\n",
       "      <th>is_weekend</th>\n",
       "      <th>season</th>\n",
       "    </tr>\n",
       "  </thead>\n",
       "  <tbody>\n",
       "    <tr>\n",
       "      <th>0</th>\n",
       "      <td>3</td>\n",
       "      <td>0</td>\n",
       "      <td>1</td>\n",
       "      <td>3</td>\n",
       "    </tr>\n",
       "    <tr>\n",
       "      <th>1</th>\n",
       "      <td>1</td>\n",
       "      <td>0</td>\n",
       "      <td>1</td>\n",
       "      <td>3</td>\n",
       "    </tr>\n",
       "    <tr>\n",
       "      <th>2</th>\n",
       "      <td>1</td>\n",
       "      <td>0</td>\n",
       "      <td>1</td>\n",
       "      <td>3</td>\n",
       "    </tr>\n",
       "    <tr>\n",
       "      <th>3</th>\n",
       "      <td>1</td>\n",
       "      <td>0</td>\n",
       "      <td>1</td>\n",
       "      <td>3</td>\n",
       "    </tr>\n",
       "    <tr>\n",
       "      <th>4</th>\n",
       "      <td>1</td>\n",
       "      <td>0</td>\n",
       "      <td>1</td>\n",
       "      <td>3</td>\n",
       "    </tr>\n",
       "  </tbody>\n",
       "</table>\n",
       "</div>"
      ],
      "text/plain": [
       "   weather_code  is_holiday  is_weekend  season\n",
       "0             3           0           1       3\n",
       "1             1           0           1       3\n",
       "2             1           0           1       3\n",
       "3             1           0           1       3\n",
       "4             1           0           1       3"
      ]
     },
     "execution_count": 182,
     "metadata": {},
     "output_type": "execute_result"
    }
   ],
   "source": [
    "df[cat_features].head()"
   ]
  },
  {
   "attachments": {},
   "cell_type": "markdown",
   "metadata": {},
   "source": [
    "### Let's study at the categories and decide how to encode it"
   ]
  },
  {
   "cell_type": "code",
   "execution_count": 183,
   "metadata": {},
   "outputs": [
    {
     "name": "stdout",
     "output_type": "stream",
     "text": [
      "FEATURE : weather_code\n",
      "Number of unique values : 7\n",
      "Unique values : Int64Index([1, 2, 3, 7, 4, 26, 10], dtype='int64')\n",
      "Counts : [6150 4034 3551 2141 1464   60   14]\n",
      "----------------------------------------------------------------------------------------------------\n",
      "FEATURE : is_holiday\n",
      "Number of unique values : 2\n",
      "Unique values : Int64Index([0, 1], dtype='int64')\n",
      "Counts : [17030   384]\n",
      "----------------------------------------------------------------------------------------------------\n",
      "FEATURE : is_weekend\n",
      "Number of unique values : 2\n",
      "Unique values : Int64Index([0, 1], dtype='int64')\n",
      "Counts : [12444  4970]\n",
      "----------------------------------------------------------------------------------------------------\n",
      "FEATURE : season\n",
      "Number of unique values : 4\n",
      "Unique values : Int64Index([0, 1, 3, 2], dtype='int64')\n",
      "Counts : [4394 4387 4330 4303]\n",
      "----------------------------------------------------------------------------------------------------\n"
     ]
    }
   ],
   "source": [
    "def feature_stats(name):\n",
    "    print(f'FEATURE : {name}')\n",
    "    counts = df[name].value_counts().values\n",
    "    unique_vals = df[name].value_counts().index\n",
    "    print(f'Number of unique values : {len(unique_vals)}')\n",
    "    print(f'Unique values : {unique_vals}')\n",
    "    print(f'Counts : {counts}')\n",
    "    print('-'*100)\n",
    "\n",
    "feature_stats('weather_code')\n",
    "feature_stats('is_holiday')\n",
    "feature_stats('is_weekend')\n",
    "feature_stats('season')"
   ]
  },
  {
   "attachments": {},
   "cell_type": "markdown",
   "metadata": {},
   "source": [
    "### Let's onehot encode the categorical features"
   ]
  },
  {
   "cell_type": "code",
   "execution_count": 184,
   "metadata": {},
   "outputs": [
    {
     "data": {
      "text/plain": [
       "array([[0., 0., 1., ..., 0., 0., 1.],\n",
       "       [1., 0., 0., ..., 0., 0., 1.],\n",
       "       [1., 0., 0., ..., 0., 0., 1.],\n",
       "       ...,\n",
       "       [0., 0., 0., ..., 0., 0., 1.],\n",
       "       [0., 0., 0., ..., 0., 0., 1.],\n",
       "       [0., 1., 0., ..., 0., 0., 1.]])"
      ]
     },
     "execution_count": 184,
     "metadata": {},
     "output_type": "execute_result"
    }
   ],
   "source": [
    "onehot = OneHotEncoder(handle_unknown='ignore')\n",
    "encoding = onehot.fit_transform(df[cat_features])\n",
    "encoding.toarray()"
   ]
  },
  {
   "attachments": {},
   "cell_type": "markdown",
   "metadata": {},
   "source": [
    "## The numerical features\n",
    "* `t1`\t\n",
    "* `hum`\t\n",
    "* `wind_speed`\n",
    "\n",
    "Let's scale them using `MinMaxScaler`"
   ]
  },
  {
   "cell_type": "code",
   "execution_count": 185,
   "metadata": {},
   "outputs": [],
   "source": [
    "num_features = ['t1', 'hum', 'wind_speed']"
   ]
  },
  {
   "cell_type": "code",
   "execution_count": 186,
   "metadata": {},
   "outputs": [
    {
     "data": {
      "text/html": [
       "<div>\n",
       "<style scoped>\n",
       "    .dataframe tbody tr th:only-of-type {\n",
       "        vertical-align: middle;\n",
       "    }\n",
       "\n",
       "    .dataframe tbody tr th {\n",
       "        vertical-align: top;\n",
       "    }\n",
       "\n",
       "    .dataframe thead th {\n",
       "        text-align: right;\n",
       "    }\n",
       "</style>\n",
       "<table border=\"1\" class=\"dataframe\">\n",
       "  <thead>\n",
       "    <tr style=\"text-align: right;\">\n",
       "      <th></th>\n",
       "      <th>t1</th>\n",
       "      <th>hum</th>\n",
       "      <th>wind_speed</th>\n",
       "    </tr>\n",
       "  </thead>\n",
       "  <tbody>\n",
       "    <tr>\n",
       "      <th>0</th>\n",
       "      <td>3.0</td>\n",
       "      <td>93.0</td>\n",
       "      <td>6.0</td>\n",
       "    </tr>\n",
       "    <tr>\n",
       "      <th>1</th>\n",
       "      <td>3.0</td>\n",
       "      <td>93.0</td>\n",
       "      <td>5.0</td>\n",
       "    </tr>\n",
       "    <tr>\n",
       "      <th>2</th>\n",
       "      <td>2.5</td>\n",
       "      <td>96.5</td>\n",
       "      <td>0.0</td>\n",
       "    </tr>\n",
       "    <tr>\n",
       "      <th>3</th>\n",
       "      <td>2.0</td>\n",
       "      <td>100.0</td>\n",
       "      <td>0.0</td>\n",
       "    </tr>\n",
       "    <tr>\n",
       "      <th>4</th>\n",
       "      <td>2.0</td>\n",
       "      <td>93.0</td>\n",
       "      <td>6.5</td>\n",
       "    </tr>\n",
       "  </tbody>\n",
       "</table>\n",
       "</div>"
      ],
      "text/plain": [
       "    t1    hum  wind_speed\n",
       "0  3.0   93.0         6.0\n",
       "1  3.0   93.0         5.0\n",
       "2  2.5   96.5         0.0\n",
       "3  2.0  100.0         0.0\n",
       "4  2.0   93.0         6.5"
      ]
     },
     "execution_count": 186,
     "metadata": {},
     "output_type": "execute_result"
    }
   ],
   "source": [
    "df[num_features].head()"
   ]
  },
  {
   "cell_type": "code",
   "execution_count": 187,
   "metadata": {},
   "outputs": [
    {
     "data": {
      "text/plain": [
       "array([[0.12676056, 0.91194969, 0.10619469],\n",
       "       [0.12676056, 0.91194969, 0.08849558],\n",
       "       [0.11267606, 0.95597484, 0.        ],\n",
       "       ...,\n",
       "       [0.1971831 , 0.72955975, 0.42477876],\n",
       "       [0.1971831 , 0.69811321, 0.40707965],\n",
       "       [0.18309859, 0.69811321, 0.38938053]])"
      ]
     },
     "execution_count": 187,
     "metadata": {},
     "output_type": "execute_result"
    }
   ],
   "source": [
    "scaler = MinMaxScaler()\n",
    "\n",
    "scaler.fit_transform(df[num_features])"
   ]
  },
  {
   "attachments": {},
   "cell_type": "markdown",
   "metadata": {},
   "source": [
    "## Building model pipeline"
   ]
  },
  {
   "cell_type": "code",
   "execution_count": 5,
   "metadata": {},
   "outputs": [],
   "source": [
    "preprocess = ColumnTransformer(transformers=[\n",
    "    ('cyclic-transform',SplineTransformer(n_knots=13, extrapolation='periodic') , ['hour']),  \n",
    "    ('one-hot-encode', OneHotEncoder(handle_unknown='ignore'), ['weather_code',\t'is_holiday','is_weekend', 'season']),\n",
    "], remainder=MinMaxScaler())"
   ]
  },
  {
   "cell_type": "code",
   "execution_count": 6,
   "metadata": {},
   "outputs": [],
   "source": [
    "def build_pipeline(model, preprocess):\n",
    "    pipe = Pipeline(steps=[\n",
    "    ('preprocessing', preprocess),\n",
    "    ('modeling', model)\n",
    "    ])\n",
    "    return pipe"
   ]
  },
  {
   "cell_type": "code",
   "execution_count": 190,
   "metadata": {},
   "outputs": [
    {
     "name": "stdout",
     "output_type": "stream",
     "text": [
      "Ridge pipeline score on training data: 0.7007001700388873\n",
      "Mean Cross validation score  0.6691829612247873\n"
     ]
    }
   ],
   "source": [
    "ridge_pipe = build_pipeline(model=Ridge(), preprocess=preprocess)\n",
    "\n",
    "ridge_pipe.fit(X, y)\n",
    "\n",
    "print('Ridge pipeline score on training data:',ridge_pipe.score(X, y))\n",
    "\n",
    "print('Mean Cross validation score ',cross_val_score(ridge_pipe, X, y).mean())"
   ]
  },
  {
   "cell_type": "code",
   "execution_count": 191,
   "metadata": {},
   "outputs": [
    {
     "name": "stdout",
     "output_type": "stream",
     "text": [
      "Poisson pipeline score on training data: 0.8046505299510963\n",
      "Mean Cross validation score  0.7907142156991612\n"
     ]
    }
   ],
   "source": [
    "poisson_pipe = build_pipeline(model=PoissonRegressor(max_iter=300), preprocess=preprocess)\n",
    "\n",
    "poisson_pipe.fit(X, y)\n",
    "\n",
    "print('Poisson pipeline score on training data:',poisson_pipe.score(X, y))\n",
    "print('Mean Cross validation score ',cross_val_score(poisson_pipe, X, y).mean())"
   ]
  },
  {
   "attachments": {},
   "cell_type": "markdown",
   "metadata": {},
   "source": [
    "## Cross validation"
   ]
  },
  {
   "cell_type": "code",
   "execution_count": 7,
   "metadata": {},
   "outputs": [],
   "source": [
    "def custom_metric(est, X, y):\n",
    "    y_pred = est.predict(X)\n",
    "    mask = y_pred>0\n",
    "    return {\n",
    "        'mean_poisson_deviance' : mean_poisson_deviance(y[mask], y_pred[mask]),\n",
    "        'root_mean_squared_error' : mean_squared_error(y, y_pred, squared=False)\n",
    "    }\n",
    "    "
   ]
  },
  {
   "attachments": {},
   "cell_type": "markdown",
   "metadata": {},
   "source": [
    "### Time Series cross-validator"
   ]
  },
  {
   "cell_type": "code",
   "execution_count": 8,
   "metadata": {},
   "outputs": [
    {
     "name": "stdout",
     "output_type": "stream",
     "text": [
      "Mean poisson deviance :  274.0353425299007\n",
      "Mean squared error :  594.7947793289886\n"
     ]
    }
   ],
   "source": [
    "tscv = TimeSeriesSplit(n_splits=50, max_train_size=10000, test_size=336)\n",
    "\n",
    "ridge_pipe = build_pipeline(model=Ridge(), preprocess=preprocess)\n",
    "\n",
    "ridge_cv_result = cross_validate(ridge_pipe, X, y, cv=tscv, scoring=custom_metric, return_estimator=True)\n",
    "\n",
    "print('Mean poisson deviance : ',ridge_cv_result['test_mean_poisson_deviance'].mean())\n",
    "print('Mean squared error : ',ridge_cv_result['test_root_mean_squared_error'].mean())"
   ]
  },
  {
   "cell_type": "code",
   "execution_count": 9,
   "metadata": {},
   "outputs": [],
   "source": [
    "def cross_validate_util(est):\n",
    "    tscv = TimeSeriesSplit(n_splits=50, max_train_size=10000, test_size=336)\n",
    "\n",
    "    result = cross_validate(est, X, y, cv=tscv, scoring=custom_metric, return_estimator=True)\n",
    "\n",
    "    print('Mean poisson deviance : ',result['test_mean_poisson_deviance'].mean())\n",
    "    print('Mean squared error : ',result['test_root_mean_squared_error'].mean())\n",
    "    return result \n"
   ]
  },
  {
   "attachments": {},
   "cell_type": "markdown",
   "metadata": {},
   "source": [
    "### Create a test-set using the test-id's generated by Time Series cross-validator"
   ]
  },
  {
   "cell_type": "code",
   "execution_count": 10,
   "metadata": {},
   "outputs": [],
   "source": [
    "X_test, y_test = [], []\n",
    "for train_id, test_id in tscv.split(X, y):\n",
    "    test_x = X.iloc[test_id]\n",
    "    test_y = y.iloc[test_id]\n",
    "\n",
    "    X_test.append(test_x)\n",
    "    y_test.append(test_y)\n",
    "\n",
    "\n",
    "# lets concat the y_test into one series\n",
    "y_test = pd.concat(y_test, axis=0)"
   ]
  },
  {
   "attachments": {},
   "cell_type": "markdown",
   "metadata": {},
   "source": [
    "how would we generate a prediction for the test splits ?\n",
    "* Use the estimator returned from `cross_validate( ...,  return_estimator=True)`\n",
    "* Iterate  `zip(X_test, result_obj['estimator'])`\n",
    "* make the prediction for every test-split\n",
    "* finally concatenate\n"
   ]
  },
  {
   "cell_type": "code",
   "execution_count": 11,
   "metadata": {},
   "outputs": [],
   "source": [
    "# here we generate predictions and concat the y_preds into one series\n",
    "def get_test_preds(result_obj):\n",
    "    predictions = []\n",
    "    for x, est in zip(X_test, result_obj['estimator']):\n",
    "        y_pred = est.predict(x)\n",
    "        predictions.append(y_pred)\n",
    "    \n",
    "    return np.concatenate(predictions, axis=0)"
   ]
  },
  {
   "cell_type": "code",
   "execution_count": 12,
   "metadata": {},
   "outputs": [],
   "source": [
    "# utility that build, cross-validate & test \n",
    "def evaluate(model, preprocess):\n",
    "    pipe = build_pipeline(model, preprocess)\n",
    "    result = cross_validate_util(pipe)\n",
    "    y_preds = get_test_preds(result)\n",
    "    return {**result, 'test_prediction':y_preds}"
   ]
  },
  {
   "attachments": {},
   "cell_type": "markdown",
   "metadata": {},
   "source": [
    "## Ridge Regression"
   ]
  },
  {
   "cell_type": "code",
   "execution_count": 14,
   "metadata": {},
   "outputs": [
    {
     "name": "stdout",
     "output_type": "stream",
     "text": [
      "Mean poisson deviance :  274.0353425299007\n",
      "Mean squared error :  594.7947793289886\n"
     ]
    }
   ],
   "source": [
    "ridge_result = evaluate(Ridge(), preprocess)"
   ]
  },
  {
   "cell_type": "code",
   "execution_count": 209,
   "metadata": {},
   "outputs": [
    {
     "data": {
      "text/plain": [
       "dict_keys(['fit_time', 'score_time', 'estimator', 'test_mean_poisson_deviance', 'test_root_mean_squared_error', 'test_prediction'])"
      ]
     },
     "execution_count": 209,
     "metadata": {},
     "output_type": "execute_result"
    }
   ],
   "source": [
    "ridge_result.keys()"
   ]
  },
  {
   "cell_type": "code",
   "execution_count": 263,
   "metadata": {},
   "outputs": [],
   "source": [
    "plt.figure(figsize=(15,4))\n",
    "plt.subplot(121)\n",
    "sns.swarmplot(x=ridge_result['test_mean_poisson_deviance'] , color=\".25\" )\n",
    "sns.boxplot(ridge_result['test_mean_poisson_deviance'], orient='h', color='lightblue');\n",
    "plt.title('mean_poisson_deviance')\n",
    "plt.subplot(122)\n",
    "sns.swarmplot(x=ridge_result['test_root_mean_squared_error'] , color=\".25\" )\n",
    "sns.boxplot(ridge_result['test_root_mean_squared_error'], orient='h', color='lightblue');\n",
    "plt.title('root_mean_squared_error')\n",
    "\n",
    "plt.suptitle('Ridge Regression\\n',size=24);\n"
   ]
  },
  {
   "attachments": {},
   "cell_type": "markdown",
   "metadata": {},
   "source": [
    "<img src='./plots/ridge-model-performance-plot.png'>"
   ]
  },
  {
   "attachments": {},
   "cell_type": "markdown",
   "metadata": {},
   "source": [
    "## Poisson Regression"
   ]
  },
  {
   "cell_type": "code",
   "execution_count": 15,
   "metadata": {},
   "outputs": [
    {
     "name": "stdout",
     "output_type": "stream",
     "text": [
      "Mean poisson deviance :  193.43627484439133\n",
      "Mean squared error :  527.8672054124788\n"
     ]
    }
   ],
   "source": [
    "poisson_result = evaluate(PoissonRegressor(max_iter=300), preprocess)"
   ]
  },
  {
   "cell_type": "code",
   "execution_count": 265,
   "metadata": {},
   "outputs": [],
   "source": [
    "plt.figure(figsize=(15,4))\n",
    "plt.subplot(121)\n",
    "sns.swarmplot(x=poisson_result['test_mean_poisson_deviance'] , color=\".25\" )\n",
    "sns.boxplot(poisson_result['test_mean_poisson_deviance'], orient='h', color='lightblue');\n",
    "plt.title('mean_poisson_deviance')\n",
    "plt.subplot(122)\n",
    "sns.swarmplot(x=poisson_result['test_root_mean_squared_error'] , color=\".25\" )\n",
    "sns.boxplot(poisson_result['test_root_mean_squared_error'], orient='h', color='lightblue');\n",
    "plt.title('root_mean_squared_error')\n",
    "\n",
    "plt.suptitle('Poisson Regression\\n', size=24);"
   ]
  },
  {
   "attachments": {},
   "cell_type": "markdown",
   "metadata": {},
   "source": [
    "<img src='./plots/poisson-model-performance-plot.png'>"
   ]
  },
  {
   "attachments": {},
   "cell_type": "markdown",
   "metadata": {},
   "source": [
    "## Comparsion Ridge vs Poisson"
   ]
  },
  {
   "cell_type": "code",
   "execution_count": 266,
   "metadata": {},
   "outputs": [],
   "source": [
    "temp_a = pd.DataFrame(data={\n",
    "    'model' : 'Ridge',\n",
    "    'mean_poisson_deviance' : ridge_result['test_mean_poisson_deviance'],\n",
    "    'root_mean_squared_error' : ridge_result['test_root_mean_squared_error']\n",
    "})\n",
    "\n",
    "temp_b = pd.DataFrame(data={\n",
    "    'model' : 'Poisson',\n",
    "    'mean_poisson_deviance' : poisson_result['test_mean_poisson_deviance'],\n",
    "    'root_mean_squared_error' : poisson_result['test_root_mean_squared_error']\n",
    "})\n",
    "\n",
    "temp_df = pd.concat([temp_a, temp_b])\n",
    "\n",
    "plt.figure(figsize=(15,4))\n",
    "plt.subplot(121)\n",
    "sns.boxplot(data=temp_df, x='mean_poisson_deviance', y='model');\n",
    "sns.swarmplot(data=temp_df, x='mean_poisson_deviance', y='model', color='black');\n",
    "\n",
    "plt.subplot(122)\n",
    "sns.boxplot(data=temp_df, x='root_mean_squared_error', y='model');\n",
    "sns.swarmplot(data=temp_df, x='root_mean_squared_error', y='model', color='black');\n",
    "\n",
    "plt.suptitle('Comparing linear model performance on count data\\n We can see that the Possion regression is better for count data\\n');"
   ]
  },
  {
   "attachments": {},
   "cell_type": "markdown",
   "metadata": {},
   "source": [
    "<img src='./plots/comparing-linear-models-on-count-data.png'>"
   ]
  },
  {
   "cell_type": "code",
   "execution_count": 16,
   "metadata": {},
   "outputs": [],
   "source": [
    "# utility for building comparison plots --\n",
    "\n",
    "def compare_model_performance_on_count_data(results, n_rows=1, n_cols=2, figsize=(15,4)):\n",
    "    # create a dataframe\n",
    "    temp_df = pd.concat([\n",
    "\n",
    "        pd.DataFrame(data={\n",
    "        'model' : k,\n",
    "        'mean_poisson_deviance' : v['test_mean_poisson_deviance'],\n",
    "        'root_mean_squared_error' : v['test_root_mean_squared_error']\n",
    "        })\n",
    "\n",
    "        for k,v in results.items()\n",
    "    ])\n",
    "\n",
    "    # plots\n",
    "    fig, ax = plt.subplots(ncols=n_cols, nrows=n_rows, figsize=figsize)\n",
    "    fields = ['mean_poisson_deviance', 'root_mean_squared_error']\n",
    "    for i, frame in enumerate(ax.ravel()):\n",
    "        sns.boxplot(data=temp_df, x=fields[i], y='model', ax=frame);\n",
    "        sns.swarmplot(data=temp_df, x=fields[i], y='model', color='black', ax=frame);\n",
    "        frame.set(title=fields[i])\n",
    "\n",
    "    plt.suptitle('Model performance : '+' vs '.join([k for k in results.keys()]))\n",
    "    plt.tight_layout()\n",
    "    "
   ]
  },
  {
   "cell_type": "code",
   "execution_count": 315,
   "metadata": {},
   "outputs": [],
   "source": [
    "# compare_model_performance_on_count_data({'ridge':ridge_result, 'poisson':poisson_result})"
   ]
  },
  {
   "attachments": {},
   "cell_type": "markdown",
   "metadata": {},
   "source": [
    "### Let's look at the distribution of predicted counts"
   ]
  },
  {
   "cell_type": "code",
   "execution_count": 27,
   "metadata": {},
   "outputs": [],
   "source": [
    "\n",
    "\n",
    "fig, ax = plt.subplots(nrows=1, ncols=3, constrained_layout=True, figsize=(14,4), sharey=True)\n",
    "\n",
    "\n",
    "sns.histplot(y_test, ax=ax[0]);\n",
    "ax[0].set(title='True counts')\n",
    "\n",
    "\n",
    "sns.histplot(ridge_result['test_prediction'], ax=ax[1]);\n",
    "ax[1].set(title='Predicted counts (Ridge)')\n",
    "\n",
    "\n",
    "sns.histplot(poisson_result['test_prediction'], ax=ax[2]);\n",
    "ax[2].set(title='Predicted counts (Poisson)')\n",
    "\n",
    "\n",
    "\n",
    "fig.suptitle('The poisson model made the best prediction\\n', size=20)\n",
    "plt.tight_layout()\n"
   ]
  },
  {
   "attachments": {},
   "cell_type": "markdown",
   "metadata": {},
   "source": [
    "<img src='./plots/Linear-models-prediction-distribution-plot.png'>"
   ]
  },
  {
   "cell_type": "code",
   "execution_count": 28,
   "metadata": {},
   "outputs": [],
   "source": [
    "def plot_predictions(results, nrows=1, ncols=3, figsize=(15,4)):\n",
    "\n",
    "    fig, ax = plt.subplots(nrows=nrows, ncols=ncols, figsize=figsize, constrained_layout=True, sharey=True)\n",
    "    ax = ax.ravel() \n",
    "\n",
    "    sns.histplot(y_test, ax=ax[0]);\n",
    "    ax[0].set(title='True counts')\n",
    "\n",
    "    for i, (k, v) in enumerate(results.items()):\n",
    "        sns.histplot(v['test_prediction'], ax=ax[i+1]);\n",
    "        ax[i+1].set(title=f'Predicted counts ({k})')\n",
    "            \n",
    "\n",
    "    fig.suptitle('Distribution plot : y_true vs model_prediction\\n', size=20)\n",
    "    plt.tight_layout()"
   ]
  },
  {
   "cell_type": "code",
   "execution_count": 335,
   "metadata": {},
   "outputs": [],
   "source": [
    "# plot_predictions(results={'ridge':ridge_result, 'poisson':poisson_result})"
   ]
  },
  {
   "attachments": {},
   "cell_type": "markdown",
   "metadata": {},
   "source": [
    "## Calibration for Regression"
   ]
  },
  {
   "cell_type": "code",
   "execution_count": 13,
   "metadata": {},
   "outputs": [],
   "source": [
    "def calibration_plot(y_true, y_pred, title, ax, n_bins=10):\n",
    "    # step 1 : get sort id using y_pred\n",
    "    id_sort = np.argsort(y_pred)\n",
    "    y_true = np.asarray(y_true)\n",
    "\n",
    "    # step 2 : sort the y_pred and y_true using the sort-id from step-1 \n",
    "    y_pred_sorted = y_pred[id_sort]\n",
    "    y_true_sorted = y_true[id_sort]\n",
    "\n",
    "    # step 3 : create placeholder arrays for storing summary\n",
    "    y_pred_bin = np.empty(n_bins)\n",
    "    y_true_bin = np.empty(n_bins)\n",
    "\n",
    "    # step 4 : Generator to create n_packs evenly spaced slices going up to n\n",
    "    for i, chunk in enumerate(gen_even_slices(n=len(y_pred), n_packs=n_bins)):\n",
    "        # store the summary\n",
    "        y_pred_bin[i] = np.mean(y_pred_sorted[chunk])\n",
    "        y_true_bin[i] = np.mean(y_true_sorted[chunk])\n",
    "    \n",
    "\n",
    "    # step 5 : calculate the difference\n",
    "    diff = y_pred_bin - y_true_bin\n",
    "\n",
    "    # step 6 : plotting\n",
    "    x = np.arange(n_bins)\n",
    "    ax.plot(x, diff, marker='o')\n",
    "    ax.axhline(y=0, c='k', linestyle='--')\n",
    "    ax.set(title=title, xlabel='bins', ylabel='E(y_hat) - E(y_true)')\n",
    "    "
   ]
  },
  {
   "cell_type": "code",
   "execution_count": 33,
   "metadata": {},
   "outputs": [],
   "source": [
    "\n",
    "fig, ax = plt.subplots(1, 2, constrained_layout=True, figsize=(15, 6), dpi=300, sharey=True)\n",
    "\n",
    "calibration_plot(y_test, ridge_result['test_prediction'], title='Ridge regression', ax=ax[0])\n",
    "\n",
    "calibration_plot(y_test, poisson_result['test_prediction'], title='Poisson regression', ax=ax[1])\n",
    "\n",
    "plt.suptitle('Calibration for Regression\\n', size=20)\n",
    "plt.tight_layout()\n"
   ]
  },
  {
   "attachments": {},
   "cell_type": "markdown",
   "metadata": {},
   "source": [
    "<img src='./plots/Calibration-plot-Possion-vs-Ridge.png'>"
   ]
  },
  {
   "attachments": {},
   "cell_type": "markdown",
   "metadata": {},
   "source": [
    "## Random Forest and Count data\n",
    "\n",
    "* For count data use `(criterion='poisson')`"
   ]
  },
  {
   "cell_type": "code",
   "execution_count": 14,
   "metadata": {},
   "outputs": [
    {
     "name": "stdout",
     "output_type": "stream",
     "text": [
      "Mean poisson deviance :  61.589812191419995\n",
      "Mean squared error :  285.3950476646621\n"
     ]
    }
   ],
   "source": [
    "randomforest_result = evaluate(RandomForestRegressor(criterion='poisson'), preprocess)"
   ]
  },
  {
   "cell_type": "code",
   "execution_count": 321,
   "metadata": {},
   "outputs": [],
   "source": [
    "compare_model_performance_on_count_data(results={'Poisson': poisson_result, 'RandomForest':randomforest_result})"
   ]
  },
  {
   "attachments": {},
   "cell_type": "markdown",
   "metadata": {},
   "source": [
    "<img src='./plots/comparing-poisson-vs-randomforest-on-count-data.png'>\n"
   ]
  },
  {
   "attachments": {},
   "cell_type": "markdown",
   "metadata": {},
   "source": [
    "### Random forest has much more capacity so it can learn more about the data "
   ]
  },
  {
   "cell_type": "code",
   "execution_count": 323,
   "metadata": {},
   "outputs": [],
   "source": [
    "compare_model_performance_on_count_data(results={'Poisson': poisson_result, 'RandomForest':randomforest_result, 'Ridge':ridge_result})"
   ]
  },
  {
   "attachments": {},
   "cell_type": "markdown",
   "metadata": {},
   "source": [
    "<img src='./plots/comparing-poisson-vs-randomforest-vs-ridge-on-count-data.png'>"
   ]
  },
  {
   "attachments": {},
   "cell_type": "markdown",
   "metadata": {},
   "source": [
    "## Calibration for Regression : Poisson vs Random Forest"
   ]
  },
  {
   "cell_type": "code",
   "execution_count": 36,
   "metadata": {},
   "outputs": [],
   "source": [
    "fig, ax = plt.subplots(1, 2, constrained_layout=True, figsize=(15, 6), dpi=300, sharey=True)\n",
    "\n",
    "calibration_plot(y_test, randomforest_result['test_prediction'], title='Random Forest regression criterion = poisson', ax=ax[0])\n",
    "\n",
    "calibration_plot(y_test, poisson_result['test_prediction'], title='Poisson regression', ax=ax[1])\n",
    "\n",
    "plt.suptitle('Calibration for Regression : Poisson vs Random Forest\\n', size=20)\n",
    "plt.tight_layout()"
   ]
  },
  {
   "attachments": {},
   "cell_type": "markdown",
   "metadata": {},
   "source": [
    "<img src='./plots/Calibration-plot-for-Regression-Poisson-vs-Random Forest.png'>"
   ]
  },
  {
   "cell_type": "code",
   "execution_count": 343,
   "metadata": {},
   "outputs": [],
   "source": [
    "plot_predictions(results={'Random Forest':randomforest_result, 'poisson':poisson_result})"
   ]
  },
  {
   "attachments": {},
   "cell_type": "markdown",
   "metadata": {},
   "source": [
    "<img src='./plots/distribution-plot-poisson-vs-randomforest.png'>"
   ]
  },
  {
   "attachments": {},
   "cell_type": "markdown",
   "metadata": {},
   "source": [
    "## Random Forest criterion \n",
    "`RandomForestRegressor(criterion='poisson')` **vs** `RandomForestRegressor(criterion='squared_error')`"
   ]
  },
  {
   "cell_type": "code",
   "execution_count": 37,
   "metadata": {},
   "outputs": [
    {
     "name": "stdout",
     "output_type": "stream",
     "text": [
      "Mean poisson deviance :  62.05426978471689\n",
      "Mean squared error :  286.7635774474529\n"
     ]
    }
   ],
   "source": [
    "randomforest_result_squared_error = evaluate(RandomForestRegressor(), preprocess)"
   ]
  },
  {
   "cell_type": "code",
   "execution_count": 15,
   "metadata": {},
   "outputs": [],
   "source": [
    "fig, ax = plt.subplots(1, 2, constrained_layout=True, figsize=(15, 6), dpi=300, sharey=True)\n",
    "\n",
    "calibration_plot(y_test, randomforest_result['test_prediction'], title='Random Forest regression criterion = poisson', ax=ax[0])\n",
    "\n",
    "calibration_plot(y_test, randomforest_result_squared_error['test_prediction'], title='Random Forest regression criterion = squared_error', ax=ax[1])\n",
    "\n",
    "plt.suptitle('Calibration for Random Forest Regression  criterion: poisson vs squared-error\\n Both underpredicts the larger counts', size=20)\n",
    "plt.tight_layout()"
   ]
  },
  {
   "attachments": {},
   "cell_type": "markdown",
   "metadata": {},
   "source": [
    "<img src='./plots/Calibration-for-RandomForest-different-criterion.png'>"
   ]
  },
  {
   "attachments": {},
   "cell_type": "markdown",
   "metadata": {},
   "source": [
    "### We can see that both model underpredicts for larger counts"
   ]
  },
  {
   "cell_type": "code",
   "execution_count": 348,
   "metadata": {},
   "outputs": [],
   "source": [
    "plot_predictions(results={'Random Forest Poisson':randomforest_result, 'Random Forest Squared error':randomforest_result_squared_error})"
   ]
  },
  {
   "attachments": {},
   "cell_type": "markdown",
   "metadata": {},
   "source": [
    "<img src='./plots/distribution-plot-randomforest-criterion.png'>"
   ]
  },
  {
   "attachments": {},
   "cell_type": "markdown",
   "metadata": {},
   "source": [
    "## HistGradientBoostingRegressor\n",
    "* for count data use ` (loss='poisson')  `"
   ]
  },
  {
   "cell_type": "code",
   "execution_count": 16,
   "metadata": {},
   "outputs": [
    {
     "name": "stdout",
     "output_type": "stream",
     "text": [
      "Mean poisson deviance :  59.57934988161449\n",
      "Mean squared error :  277.6426028293337\n"
     ]
    }
   ],
   "source": [
    "from sklearn.ensemble import HistGradientBoostingRegressor\n",
    "\n",
    "gbr_results = evaluate(HistGradientBoostingRegressor(loss='poisson', random_state=0, max_depth=4), preprocess)"
   ]
  },
  {
   "cell_type": "code",
   "execution_count": 368,
   "metadata": {},
   "outputs": [],
   "source": [
    "compare_model_performance_on_count_data(\n",
    "    results={\n",
    "    'Poisson': poisson_result,\n",
    "    'RandomForest':randomforest_result, \n",
    "    'HistGradientBoostingRegressor':gbr_results})"
   ]
  },
  {
   "attachments": {},
   "cell_type": "markdown",
   "metadata": {},
   "source": [
    "<img src='./plots/comparing-poisson-vs-RandomForest-vs-GBR-on-count-data.png'>"
   ]
  },
  {
   "cell_type": "code",
   "execution_count": 366,
   "metadata": {},
   "outputs": [],
   "source": [
    "\n",
    "plot_predictions(results={'Random Forest Poisson':randomforest_result,  'HistGradientBoostingRegressor':gbr_results})"
   ]
  },
  {
   "attachments": {},
   "cell_type": "markdown",
   "metadata": {},
   "source": [
    "<img src='./plots/distribution-plot-RandomForest-vs-GBR.png'>"
   ]
  },
  {
   "cell_type": "code",
   "execution_count": 18,
   "metadata": {},
   "outputs": [],
   "source": [
    "fig, ax = plt.subplots(1, 2, constrained_layout=True, figsize=(15, 6), dpi=300, sharey=True)\n",
    "\n",
    "calibration_plot(y_test, randomforest_result['test_prediction'], title='Random Forest regression criterion = poisson', ax=ax[0])\n",
    "\n",
    "calibration_plot(y_test, gbr_results['test_prediction'], title='HistGradientBoostingRegressor', ax=ax[1])\n",
    "\n",
    "plt.suptitle('Calibration plot: Random Forest Regression vs HistGradientBoostingRegressor\\n Both underpredicts the larger counts', size=20)\n",
    "plt.tight_layout()"
   ]
  },
  {
   "attachments": {},
   "cell_type": "markdown",
   "metadata": {},
   "source": [
    "<img src='./plots/Calibration-plot-for-RandomForest-vs-GBR-model.png'>"
   ]
  },
  {
   "attachments": {},
   "cell_type": "markdown",
   "metadata": {},
   "source": [
    "### Why are these models under-predicting for larger counts ?"
   ]
  },
  {
   "cell_type": "code",
   "execution_count": 394,
   "metadata": {},
   "outputs": [],
   "source": [
    "# lets obtain a test split\n",
    "splits = list((tscv.split(X, y)))\n",
    "\n",
    "train_id, test_id = splits[-1]\n",
    "\n",
    "\n",
    "train_x = X.iloc[train_id]\n",
    "train_y = y.iloc[train_id]\n",
    "test_x = X.iloc[test_id]\n",
    "test_y = y.iloc[test_id]"
   ]
  },
  {
   "cell_type": "code",
   "execution_count": 397,
   "metadata": {},
   "outputs": [],
   "source": [
    "# lets train the models\n",
    "poisson = PoissonRegressor(max_iter=300)\n",
    "rf = RandomForestRegressor(criterion='poisson')\n",
    "gbr = HistGradientBoostingRegressor(loss='poisson')\n",
    "\n",
    "poisson.fit(train_x, train_y)\n",
    "rf.fit(train_x, train_y)\n",
    "gbr.fit(train_x, train_y)\n",
    "\n",
    "# make prediction\n",
    "poisson_y_pred = poisson.predict(test_x)\n",
    "rf_y_pred = rf.predict(test_x)\n",
    "gbr_y_pred = gbr.predict(test_x)"
   ]
  },
  {
   "cell_type": "code",
   "execution_count": 399,
   "metadata": {},
   "outputs": [],
   "source": [
    "temp_df = pd.DataFrame(data={\n",
    "    'True_counts':test_y, \n",
    "    'Poisson':poisson_y_pred,\n",
    "    'RandomForest':rf_y_pred,\n",
    "    'GradientBoosting':gbr_y_pred\n",
    "    })"
   ]
  },
  {
   "cell_type": "code",
   "execution_count": 418,
   "metadata": {},
   "outputs": [],
   "source": [
    "def visualize_prediction(model, color='r', alpha=0.7):\n",
    "    ax = temp_df.plot(y=['True_counts'], c='k', alpha=0.5)\n",
    "    temp_df.plot(y=[model], ax=ax, c=color, alpha=alpha)\n",
    "    ax.axes.xaxis.set_ticklabels([]);"
   ]
  },
  {
   "attachments": {},
   "cell_type": "markdown",
   "metadata": {},
   "source": [
    "## Under-prediction for larger counts \n",
    "* We can clearly see from to visuals that our models are under-predicting for larger count!\n",
    "* May be we are missing some crucial features\n"
   ]
  },
  {
   "cell_type": "code",
   "execution_count": 423,
   "metadata": {},
   "outputs": [],
   "source": [
    "visualize_prediction(model='Poisson')"
   ]
  },
  {
   "attachments": {},
   "cell_type": "markdown",
   "metadata": {},
   "source": [
    "<img src='./plots/model-under-pred-poisson.png'>"
   ]
  },
  {
   "cell_type": "code",
   "execution_count": 426,
   "metadata": {},
   "outputs": [],
   "source": [
    "visualize_prediction(model='RandomForest', color='g', alpha=0.5)\n"
   ]
  },
  {
   "attachments": {},
   "cell_type": "markdown",
   "metadata": {},
   "source": [
    "<img src='./plots/model-under-pred-randomforest.png'>"
   ]
  },
  {
   "cell_type": "code",
   "execution_count": 427,
   "metadata": {},
   "outputs": [],
   "source": [
    "visualize_prediction(model='GradientBoosting', color='b', alpha=0.5)"
   ]
  },
  {
   "attachments": {},
   "cell_type": "markdown",
   "metadata": {},
   "source": [
    "<img src='./plots/model-under-pred-GBR.png'>"
   ]
  },
  {
   "cell_type": "code",
   "execution_count": null,
   "metadata": {},
   "outputs": [],
   "source": []
  }
 ],
 "metadata": {
  "kernelspec": {
   "display_name": "datascience_env",
   "language": "python",
   "name": "python3"
  },
  "language_info": {
   "codemirror_mode": {
    "name": "ipython",
    "version": 3
   },
   "file_extension": ".py",
   "mimetype": "text/x-python",
   "name": "python",
   "nbconvert_exporter": "python",
   "pygments_lexer": "ipython3",
   "version": "3.10.8"
  },
  "orig_nbformat": 4,
  "vscode": {
   "interpreter": {
    "hash": "9dd57416d08487125cddc31714a1d5a29ab9aaf930e8420812b05ce6347e3520"
   }
  }
 },
 "nbformat": 4,
 "nbformat_minor": 2
}
