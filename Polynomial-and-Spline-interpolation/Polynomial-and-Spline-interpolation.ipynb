{
 "cells": [
  {
   "attachments": {},
   "cell_type": "markdown",
   "metadata": {},
   "source": [
    "## How to approximate a function with polynomials\n",
    "\n",
    "* `PolynomialFeatures` generates all monomials up to degree. \n",
    "    * This gives us the so called Vandermonde matrix with `n_samples` rows and `degree + 1` columns\n",
    "* `SplineTransformer` generates B-spline basis functions. \n",
    "    * A basis function of a B-spline is a piece-wise polynomial function of degree `d` that is non-zero only between `degree+1` consecutive knots. \n",
    "    * Given `n_knots` number of knots, this results in matrix of `n_samples` rows and `n_knots + degree - 1` columns:\n",
    "\n",
    "These two transformers are well suited to model non-linear effects with a linear model, using a pipeline to add non-linear features. \n",
    "\n",
    "Kernel methods extend this idea and can induce very high (even infinite) dimensional feature spaces."
   ]
  },
  {
   "cell_type": "code",
   "execution_count": 1,
   "metadata": {},
   "outputs": [],
   "source": [
    "import numpy as np\n",
    "import matplotlib.pyplot as plt\n",
    "\n",
    "from sklearn.linear_model import Ridge\n",
    "from sklearn.preprocessing import PolynomialFeatures, SplineTransformer\n",
    "from sklearn.pipeline import make_pipeline"
   ]
  },
  {
   "attachments": {},
   "cell_type": "markdown",
   "metadata": {},
   "source": [
    "### Defining a function that we intend to approximate."
   ]
  },
  {
   "cell_type": "code",
   "execution_count": 2,
   "metadata": {},
   "outputs": [],
   "source": [
    "def f(x):\n",
    "    return x * np.sin(x)"
   ]
  },
  {
   "attachments": {},
   "cell_type": "markdown",
   "metadata": {},
   "source": [
    "#### Data"
   ]
  },
  {
   "cell_type": "code",
   "execution_count": 7,
   "metadata": {},
   "outputs": [],
   "source": [
    "data = np.linspace(start=-1, stop=11, num=100)\n",
    "# we are only taking a subset to train on\n",
    "train_data = np.linspace(start=0, stop=10, num=100)\n"
   ]
  },
  {
   "attachments": {},
   "cell_type": "markdown",
   "metadata": {},
   "source": [
    "####  Create 2D-array versions of these arrays to feed to transformers and target values"
   ]
  },
  {
   "cell_type": "code",
   "execution_count": 8,
   "metadata": {},
   "outputs": [],
   "source": [
    "x_data =data[:, np.newaxis]\n",
    "x_train_data = train_data[:, np.newaxis]\n",
    "\n",
    "\n",
    "y_data = f(data)\n",
    "y_train = f(train_data)"
   ]
  },
  {
   "attachments": {},
   "cell_type": "markdown",
   "metadata": {},
   "source": [
    "## Approximate using Polynomial Features\n",
    "\n",
    "\n",
    "* Higher degree polynomials can fit the data better.\n",
    "\n",
    "* But too high powers can show unwanted oscillatory behaviour and are particularly dangerous for extrapolation beyond the range of fitted data. \n",
    "\n",
    "\n"
   ]
  },
  {
   "cell_type": "code",
   "execution_count": 60,
   "metadata": {},
   "outputs": [
    {
     "name": "stdout",
     "output_type": "stream",
     "text": [
      "Shape of transformed data :  (100, 4)\n"
     ]
    }
   ],
   "source": [
    "poly_feat = PolynomialFeatures(degree=3)\n",
    "x_transformed = poly_feat.fit_transform(x_train_data)\n",
    "print('Shape of transformed data : ',x_transformed.shape)\n",
    "\n",
    "\n",
    "for i, x in enumerate(x_transformed.T):\n",
    "    plt.plot(x, label=f'x^{i}')\n",
    "plt.legend();"
   ]
  },
  {
   "attachments": {},
   "cell_type": "markdown",
   "metadata": {},
   "source": [
    "<img src='./plots/polynomial-features.png'>"
   ]
  },
  {
   "cell_type": "code",
   "execution_count": 52,
   "metadata": {},
   "outputs": [],
   "source": [
    "def polynomial_approx(degree):\n",
    "    poly_feat = PolynomialFeatures(degree=degree)\n",
    "    ridge = Ridge()\n",
    "\n",
    "    model = make_pipeline(poly_feat, ridge)\n",
    "\n",
    "    # train using a subset of data\n",
    "    model.fit(x_train_data, y_train)\n",
    "\n",
    "    # predict for entire data\n",
    "    return model.predict(x_data)"
   ]
  },
  {
   "cell_type": "code",
   "execution_count": 40,
   "metadata": {},
   "outputs": [],
   "source": [
    "for deg in [3,4,5]:\n",
    "    plt.plot(polynomial_approx(deg), label=f'polynomial-degree-{deg}')\n",
    "\n",
    "\n",
    "plt.plot(y_data, label='y-true')\n",
    "plt.legend()\n",
    "plt.title('PolynomialFeatures is used to approximate the funtion')"
   ]
  },
  {
   "attachments": {},
   "cell_type": "markdown",
   "metadata": {},
   "source": [
    "<img src='./plots/polynomial-features-curve-fitting.png'>"
   ]
  },
  {
   "cell_type": "code",
   "execution_count": 41,
   "metadata": {},
   "outputs": [],
   "source": [
    "fig, ax = plt.subplots(nrows=2, ncols=3)\n",
    "ax = ax.ravel()\n",
    "\n",
    "ax[0].plot(y_data, c='seagreen')\n",
    "ax[0].set(title=\"True function\")\n",
    "for deg, frame in zip([3,4,5,6,7], ax[1:]):\n",
    "    frame.plot(polynomial_approx(deg), c='salmon')\n",
    "    frame.set(title=f'polynomial-degree-{deg}')\n",
    "    frame.plot(y_data, label='y-true', c='seagreen')\n",
    "\n",
    "\n",
    "\n",
    "\n",
    "fig.suptitle('PolynomialFeatures is used to approximate the funtion')\n",
    "plt.tight_layout()"
   ]
  },
  {
   "attachments": {},
   "cell_type": "markdown",
   "metadata": {},
   "source": [
    "<img src='./plots/polynomial-features-curve-fitting-subplots.png'>"
   ]
  },
  {
   "attachments": {},
   "cell_type": "markdown",
   "metadata": {},
   "source": [
    "## B-splines : SplineTransform\n",
    "\n",
    "* The advantage of B-splines is that they usually fit the data as well as polynomials \n",
    "* They show very nice and smooth behaviour. \n",
    "* They have also good options to control the extrapolation, which defaults to `continue` with a constant. \n",
    "* Note that most often, you would rather increase the number of `knots` but keep `degree=3`."
   ]
  },
  {
   "cell_type": "code",
   "execution_count": 67,
   "metadata": {},
   "outputs": [
    {
     "name": "stdout",
     "output_type": "stream",
     "text": [
      "Shape of transformed data :  (100, 6)\n"
     ]
    }
   ],
   "source": [
    "spline = SplineTransformer(degree=3, n_knots=4)\n",
    "x_transformed = spline.fit_transform(x_train_data)\n",
    "print('Shape of transformed data : ',x_transformed.shape)\n",
    "\n",
    "for i, x in enumerate(x_transformed.T):\n",
    "    plt.plot(x, label=f'spline-{i}')\n",
    "\n",
    "\n",
    "plt.legend(bbox_to_anchor=(1.05, 1), loc='upper left', borderaxespad=0);"
   ]
  },
  {
   "attachments": {},
   "cell_type": "markdown",
   "metadata": {},
   "source": [
    "<img src='./plots/bsplines.png'>"
   ]
  },
  {
   "cell_type": "code",
   "execution_count": 45,
   "metadata": {},
   "outputs": [],
   "source": [
    "spline = SplineTransformer(degree=3, n_knots=4)\n",
    "model = make_pipeline(spline, Ridge(alpha=1e-4))\n",
    "\n",
    "# train only on subset of data\n",
    "model.fit(x_train_data, y_train)\n",
    "\n",
    "# predict for entire data\n",
    "y_pred_spline = model.predict(x_data)\n"
   ]
  },
  {
   "cell_type": "code",
   "execution_count": 51,
   "metadata": {},
   "outputs": [],
   "source": [
    "plt.plot(y_data, c='seagreen', label='True function')\n",
    "plt.plot(y_pred_spline, color='salmon', label='Spline approx')\n",
    "plt.legend();"
   ]
  },
  {
   "attachments": {},
   "cell_type": "markdown",
   "metadata": {},
   "source": [
    "<img src='./plots/bspline-features-curve-fitting.png'>"
   ]
  },
  {
   "attachments": {},
   "cell_type": "markdown",
   "metadata": {},
   "source": [
    "## Periodic Splines\n",
    "\n",
    "* Seasonal effects can be modelled using periodic splines, which have equal function value and equal derivatives at the first and last knot.\n",
    "\n",
    "* The splines period is the distance between the first and last knot (which we specify manually, if known)\n",
    "\n",
    "* Periodic splines provide a better fit both within and outside of the range of training data given the additional information of periodicity. \n",
    "\n",
    "* Periodic splines can also be useful for naturally periodic features (such as day of the year), as the smoothness at the boundary knots prevents a jump in the transformed values (e.g. from Dec 31st to Jan 1st). \n",
    "\n",
    "* For naturally periodic features or more generally features where the period is known, it is advised to explicitly pass this information to the SplineTransformer by setting the knots manually.\n"
   ]
  },
  {
   "attachments": {},
   "cell_type": "markdown",
   "metadata": {},
   "source": [
    "#### Function to be approximated by periodic spline interpolation."
   ]
  },
  {
   "cell_type": "code",
   "execution_count": 69,
   "metadata": {},
   "outputs": [],
   "source": [
    "def g(x):\n",
    "    return np.sin(x) - 0.7 * np.cos(3*x)"
   ]
  },
  {
   "attachments": {},
   "cell_type": "markdown",
   "metadata": {},
   "source": [
    "#### Data, Features and target"
   ]
  },
  {
   "cell_type": "code",
   "execution_count": 71,
   "metadata": {},
   "outputs": [],
   "source": [
    "# DATA\n",
    "data = np.linspace(-1, 21, 200)\n",
    "y_data = g(data)\n",
    "# train data\n",
    "data_train = np.linspace(0,10,100)\n",
    "y_train = g(data_train)\n",
    "\n",
    "# features for training\n",
    "x_data = data[:, np.newaxis]\n",
    "x_train_data = data_train[:, np.newaxis]"
   ]
  },
  {
   "attachments": {},
   "cell_type": "markdown",
   "metadata": {},
   "source": [
    "#### Periodic spline"
   ]
  },
  {
   "cell_type": "code",
   "execution_count": 116,
   "metadata": {},
   "outputs": [],
   "source": [
    "n_knots = 10\n",
    "knots = np.linspace(0, 2*np.pi, 10)[:,np.newaxis]\n",
    "\n",
    "spline = SplineTransformer(n_knots=n_knots, knots=knots, extrapolation='periodic')\n",
    "\n",
    "model = make_pipeline(spline, Ridge(alpha=1e-3))\n",
    "# train on train-data\n",
    "model.fit(x_train_data, y_train)\n",
    "# predict on all data\n",
    "y_preds = model.predict(x_data)"
   ]
  },
  {
   "cell_type": "code",
   "execution_count": 110,
   "metadata": {},
   "outputs": [],
   "source": [
    "plt.plot(x_data, y_data, c='r', label='Data')\n",
    "plt.scatter(x_train_data, y_train, c='k', s=6, label='Train-Data')\n",
    "plt.plot(x_data, y_preds, c='b', linewidth=5, alpha=0.4, label='prediction')\n",
    "\n",
    "plt.legend();"
   ]
  },
  {
   "attachments": {},
   "cell_type": "markdown",
   "metadata": {},
   "source": [
    "<img src='./plots/periodic-splines-interpolation-and-extrapolation.png'>"
   ]
  },
  {
   "cell_type": "code",
   "execution_count": null,
   "metadata": {},
   "outputs": [],
   "source": []
  }
 ],
 "metadata": {
  "kernelspec": {
   "display_name": "datascience_env",
   "language": "python",
   "name": "python3"
  },
  "language_info": {
   "codemirror_mode": {
    "name": "ipython",
    "version": 3
   },
   "file_extension": ".py",
   "mimetype": "text/x-python",
   "name": "python",
   "nbconvert_exporter": "python",
   "pygments_lexer": "ipython3",
   "version": "3.10.8"
  },
  "orig_nbformat": 4,
  "vscode": {
   "interpreter": {
    "hash": "9dd57416d08487125cddc31714a1d5a29ab9aaf930e8420812b05ce6347e3520"
   }
  }
 },
 "nbformat": 4,
 "nbformat_minor": 2
}
