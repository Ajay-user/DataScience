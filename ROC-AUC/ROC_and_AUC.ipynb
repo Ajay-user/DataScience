{
  "nbformat": 4,
  "nbformat_minor": 0,
  "metadata": {
    "colab": {
      "name": "ROC and AUC.ipynb",
      "provenance": [],
      "toc_visible": true,
      "authorship_tag": "ABX9TyPsbUrT/k/kGgWGZkG3k6zL",
      "include_colab_link": true
    },
    "kernelspec": {
      "name": "python3",
      "display_name": "Python 3"
    },
    "language_info": {
      "name": "python"
    }
  },
  "cells": [
    {
      "cell_type": "markdown",
      "metadata": {
        "id": "view-in-github",
        "colab_type": "text"
      },
      "source": [
        "<a href=\"https://colab.research.google.com/github/Ajay-user/DataScience/blob/master/ROC-AUC/ROC_and_AUC.ipynb\" target=\"_parent\"><img src=\"https://colab.research.google.com/assets/colab-badge.svg\" alt=\"Open In Colab\"/></a>"
      ]
    },
    {
      "cell_type": "code",
      "metadata": {
        "id": "1l8OgqI1zTfX"
      },
      "source": [
        "import pandas as pd\n",
        "import numpy as np\n",
        "import matplotlib.pyplot as plt\n",
        "\n",
        "from sklearn.model_selection import train_test_split\n",
        "from sklearn.preprocessing import StandardScaler\n",
        "from sklearn.model_selection import cross_val_score\n",
        "\n",
        "from sklearn.ensemble import RandomForestClassifier\n",
        "from sklearn.linear_model import LogisticRegression\n",
        "\n",
        "\n",
        "from sklearn.metrics import roc_curve\n",
        "from sklearn.metrics import roc_auc_score\n",
        "from sklearn.metrics import confusion_matrix\n",
        "from sklearn.metrics import classification_report\n",
        "from sklearn.metrics import plot_roc_curve"
      ],
      "execution_count": 72,
      "outputs": []
    },
    {
      "cell_type": "markdown",
      "metadata": {
        "id": "TDJMka1N0VK5"
      },
      "source": [
        "## Import the data"
      ]
    },
    {
      "cell_type": "code",
      "metadata": {
        "colab": {
          "base_uri": "https://localhost:8080/",
          "height": 204
        },
        "id": "uw2K4hCUzV4T",
        "outputId": "9c76cddf-a5ed-4700-8c1a-dc28eb49d066"
      },
      "source": [
        "URL = 'https://raw.githubusercontent.com/Ajay-user/DataScience/master/ROC-AUC/heart-disease.csv'\n",
        "df = pd.read_csv(URL)\n",
        "df.head()"
      ],
      "execution_count": 3,
      "outputs": [
        {
          "output_type": "execute_result",
          "data": {
            "text/html": [
              "<div>\n",
              "<style scoped>\n",
              "    .dataframe tbody tr th:only-of-type {\n",
              "        vertical-align: middle;\n",
              "    }\n",
              "\n",
              "    .dataframe tbody tr th {\n",
              "        vertical-align: top;\n",
              "    }\n",
              "\n",
              "    .dataframe thead th {\n",
              "        text-align: right;\n",
              "    }\n",
              "</style>\n",
              "<table border=\"1\" class=\"dataframe\">\n",
              "  <thead>\n",
              "    <tr style=\"text-align: right;\">\n",
              "      <th></th>\n",
              "      <th>age</th>\n",
              "      <th>sex</th>\n",
              "      <th>cp</th>\n",
              "      <th>trestbps</th>\n",
              "      <th>chol</th>\n",
              "      <th>fbs</th>\n",
              "      <th>restecg</th>\n",
              "      <th>thalach</th>\n",
              "      <th>exang</th>\n",
              "      <th>oldpeak</th>\n",
              "      <th>slope</th>\n",
              "      <th>ca</th>\n",
              "      <th>thal</th>\n",
              "      <th>target</th>\n",
              "    </tr>\n",
              "  </thead>\n",
              "  <tbody>\n",
              "    <tr>\n",
              "      <th>0</th>\n",
              "      <td>63</td>\n",
              "      <td>1</td>\n",
              "      <td>3</td>\n",
              "      <td>145</td>\n",
              "      <td>233</td>\n",
              "      <td>1</td>\n",
              "      <td>0</td>\n",
              "      <td>150</td>\n",
              "      <td>0</td>\n",
              "      <td>2.3</td>\n",
              "      <td>0</td>\n",
              "      <td>0</td>\n",
              "      <td>1</td>\n",
              "      <td>1</td>\n",
              "    </tr>\n",
              "    <tr>\n",
              "      <th>1</th>\n",
              "      <td>37</td>\n",
              "      <td>1</td>\n",
              "      <td>2</td>\n",
              "      <td>130</td>\n",
              "      <td>250</td>\n",
              "      <td>0</td>\n",
              "      <td>1</td>\n",
              "      <td>187</td>\n",
              "      <td>0</td>\n",
              "      <td>3.5</td>\n",
              "      <td>0</td>\n",
              "      <td>0</td>\n",
              "      <td>2</td>\n",
              "      <td>1</td>\n",
              "    </tr>\n",
              "    <tr>\n",
              "      <th>2</th>\n",
              "      <td>41</td>\n",
              "      <td>0</td>\n",
              "      <td>1</td>\n",
              "      <td>130</td>\n",
              "      <td>204</td>\n",
              "      <td>0</td>\n",
              "      <td>0</td>\n",
              "      <td>172</td>\n",
              "      <td>0</td>\n",
              "      <td>1.4</td>\n",
              "      <td>2</td>\n",
              "      <td>0</td>\n",
              "      <td>2</td>\n",
              "      <td>1</td>\n",
              "    </tr>\n",
              "    <tr>\n",
              "      <th>3</th>\n",
              "      <td>56</td>\n",
              "      <td>1</td>\n",
              "      <td>1</td>\n",
              "      <td>120</td>\n",
              "      <td>236</td>\n",
              "      <td>0</td>\n",
              "      <td>1</td>\n",
              "      <td>178</td>\n",
              "      <td>0</td>\n",
              "      <td>0.8</td>\n",
              "      <td>2</td>\n",
              "      <td>0</td>\n",
              "      <td>2</td>\n",
              "      <td>1</td>\n",
              "    </tr>\n",
              "    <tr>\n",
              "      <th>4</th>\n",
              "      <td>57</td>\n",
              "      <td>0</td>\n",
              "      <td>0</td>\n",
              "      <td>120</td>\n",
              "      <td>354</td>\n",
              "      <td>0</td>\n",
              "      <td>1</td>\n",
              "      <td>163</td>\n",
              "      <td>1</td>\n",
              "      <td>0.6</td>\n",
              "      <td>2</td>\n",
              "      <td>0</td>\n",
              "      <td>2</td>\n",
              "      <td>1</td>\n",
              "    </tr>\n",
              "  </tbody>\n",
              "</table>\n",
              "</div>"
            ],
            "text/plain": [
              "   age  sex  cp  trestbps  chol  fbs  ...  exang  oldpeak  slope  ca  thal  target\n",
              "0   63    1   3       145   233    1  ...      0      2.3      0   0     1       1\n",
              "1   37    1   2       130   250    0  ...      0      3.5      0   0     2       1\n",
              "2   41    0   1       130   204    0  ...      0      1.4      2   0     2       1\n",
              "3   56    1   1       120   236    0  ...      0      0.8      2   0     2       1\n",
              "4   57    0   0       120   354    0  ...      1      0.6      2   0     2       1\n",
              "\n",
              "[5 rows x 14 columns]"
            ]
          },
          "metadata": {
            "tags": []
          },
          "execution_count": 3
        }
      ]
    },
    {
      "cell_type": "code",
      "metadata": {
        "colab": {
          "base_uri": "https://localhost:8080/"
        },
        "id": "3siy4kGg0Knf",
        "outputId": "646ff973-2358-4df3-f6ca-93357f13b3a4"
      },
      "source": [
        "# check for null values\n",
        "df.isna().sum()"
      ],
      "execution_count": 4,
      "outputs": [
        {
          "output_type": "execute_result",
          "data": {
            "text/plain": [
              "age         0\n",
              "sex         0\n",
              "cp          0\n",
              "trestbps    0\n",
              "chol        0\n",
              "fbs         0\n",
              "restecg     0\n",
              "thalach     0\n",
              "exang       0\n",
              "oldpeak     0\n",
              "slope       0\n",
              "ca          0\n",
              "thal        0\n",
              "target      0\n",
              "dtype: int64"
            ]
          },
          "metadata": {
            "tags": []
          },
          "execution_count": 4
        }
      ]
    },
    {
      "cell_type": "code",
      "metadata": {
        "colab": {
          "base_uri": "https://localhost:8080/"
        },
        "id": "RZPh8xMz0PCG",
        "outputId": "37784600-9cca-45e3-fabf-e04ece4855e1"
      },
      "source": [
        "# checking dtype of dataset columns\n",
        "df.info()"
      ],
      "execution_count": 5,
      "outputs": [
        {
          "output_type": "stream",
          "text": [
            "<class 'pandas.core.frame.DataFrame'>\n",
            "RangeIndex: 303 entries, 0 to 302\n",
            "Data columns (total 14 columns):\n",
            " #   Column    Non-Null Count  Dtype  \n",
            "---  ------    --------------  -----  \n",
            " 0   age       303 non-null    int64  \n",
            " 1   sex       303 non-null    int64  \n",
            " 2   cp        303 non-null    int64  \n",
            " 3   trestbps  303 non-null    int64  \n",
            " 4   chol      303 non-null    int64  \n",
            " 5   fbs       303 non-null    int64  \n",
            " 6   restecg   303 non-null    int64  \n",
            " 7   thalach   303 non-null    int64  \n",
            " 8   exang     303 non-null    int64  \n",
            " 9   oldpeak   303 non-null    float64\n",
            " 10  slope     303 non-null    int64  \n",
            " 11  ca        303 non-null    int64  \n",
            " 12  thal      303 non-null    int64  \n",
            " 13  target    303 non-null    int64  \n",
            "dtypes: float64(1), int64(13)\n",
            "memory usage: 33.3 KB\n"
          ],
          "name": "stdout"
        }
      ]
    },
    {
      "cell_type": "markdown",
      "metadata": {
        "id": "qtylv41302hM"
      },
      "source": [
        "## Feature & Target"
      ]
    },
    {
      "cell_type": "code",
      "metadata": {
        "colab": {
          "base_uri": "https://localhost:8080/"
        },
        "id": "4q2JXX2u0v30",
        "outputId": "9694c355-0223-45cd-8c30-27d57328e5c2"
      },
      "source": [
        "X = df.drop(columns='target')\n",
        "y = df.target\n",
        "\n",
        "print('Shape of dataset', df.shape)\n",
        "print('Shape of Feature', X.shape)\n",
        "print('Shape of Target', y.shape)"
      ],
      "execution_count": 6,
      "outputs": [
        {
          "output_type": "stream",
          "text": [
            "Shape of dataset (303, 14)\n",
            "Shape of Feature (303, 13)\n",
            "Shape of Target (303,)\n"
          ],
          "name": "stdout"
        }
      ]
    },
    {
      "cell_type": "markdown",
      "metadata": {
        "id": "xwKJDVAj1lrx"
      },
      "source": [
        "## Train and Test split"
      ]
    },
    {
      "cell_type": "code",
      "metadata": {
        "colab": {
          "base_uri": "https://localhost:8080/"
        },
        "id": "lYzxdcmf1iL7",
        "outputId": "971a1989-89df-41dd-a4ab-5606ea4f295f"
      },
      "source": [
        "X_train, X_test, y_train, y_test = train_test_split(X, y, test_size=0.2, random_state=42)\n",
        "print('Shape oF X_train',X_train.shape) \n",
        "print('Shape oF y_train',y_train.shape)\n",
        "print('Shape oF X_test',X_test.shape) \n",
        "print('Shape oF y_test',y_test.shape)  "
      ],
      "execution_count": 7,
      "outputs": [
        {
          "output_type": "stream",
          "text": [
            "Shape oF X_train (242, 13)\n",
            "Shape oF y_train (242,)\n",
            "Shape oF X_test (61, 13)\n",
            "Shape oF y_test (61,)\n"
          ],
          "name": "stdout"
        }
      ]
    },
    {
      "cell_type": "markdown",
      "metadata": {
        "id": "kl74j1aj2S8n"
      },
      "source": [
        "##  Feature Scaling\n",
        "\n",
        "We need to perform Feature Scaling when we are dealing with Gradient Descent Based algorithms (Linear and Logistic Regression, Neural Network) and Distance-based algorithms (KNN, K-means, SVM) as these are very sensitive to the range of the data points.\n",
        "\n",
        "For instance many elements used in the objective function of a learning algorithm (such as the RBF kernel of Support Vector Machines or the L1 and L2 regularizers of linear models) assume that all features are centered around 0 and have variance in the same order. If a feature has a variance that is orders of magnitude larger that others, it might dominate the objective function and make the estimator unable to learn from other features correctly as expected.\n",
        "\n"
      ]
    },
    {
      "cell_type": "code",
      "metadata": {
        "id": "2a_-kYqD3nx9"
      },
      "source": [
        "scaler = StandardScaler()\n",
        "scaled_X_train = scaler.fit_transform(X_train)\n",
        "scaled_X_test = scaler.transform(X_test)"
      ],
      "execution_count": 11,
      "outputs": []
    },
    {
      "cell_type": "markdown",
      "metadata": {
        "id": "yJ-s6SX63hfh"
      },
      "source": [
        "## Random Forest"
      ]
    },
    {
      "cell_type": "code",
      "metadata": {
        "colab": {
          "base_uri": "https://localhost:8080/"
        },
        "id": "8_N5wM5p2k9E",
        "outputId": "79dd201e-fe72-4bfd-bd6b-2a3e4a3eefdb"
      },
      "source": [
        "#  Random Forest \n",
        "forest = RandomForestClassifier()\n",
        "forest.fit(X_train, y_train)\n",
        "forest.score(X_test, y_test)"
      ],
      "execution_count": 14,
      "outputs": [
        {
          "output_type": "execute_result",
          "data": {
            "text/plain": [
              "0.8524590163934426"
            ]
          },
          "metadata": {
            "tags": []
          },
          "execution_count": 14
        }
      ]
    },
    {
      "cell_type": "code",
      "metadata": {
        "colab": {
          "base_uri": "https://localhost:8080/"
        },
        "id": "kZVGg2Sg4nqB",
        "outputId": "b5bb0106-3bc0-47ee-efd8-5b961d72be9c"
      },
      "source": [
        "# cross validation\n",
        "forest_cv = cross_val_score(forest, X, y)\n",
        "print('cross validation scores',list(forest_cv))\n",
        "print('cross validation average scores',forest_cv.mean())"
      ],
      "execution_count": 25,
      "outputs": [
        {
          "output_type": "stream",
          "text": [
            "cross validation scores [0.8360655737704918, 0.8688524590163934, 0.8032786885245902, 0.8166666666666667, 0.7833333333333333]\n",
            "cross validation average scores 0.821639344262295\n"
          ],
          "name": "stdout"
        }
      ]
    },
    {
      "cell_type": "markdown",
      "metadata": {
        "id": "bl89bHIp3-Mh"
      },
      "source": [
        "## Logistic Regression"
      ]
    },
    {
      "cell_type": "code",
      "metadata": {
        "colab": {
          "base_uri": "https://localhost:8080/"
        },
        "id": "MWXomm9R3XHX",
        "outputId": "a1a4ba45-a286-4af6-b07b-aa6e5f3748e6"
      },
      "source": [
        "# raw data (NOT SCALED)\n",
        "log_reg = LogisticRegression(max_iter=3000)\n",
        "log_reg.fit(X_train, y_train)\n",
        "log_reg.score(X_test, y_test)"
      ],
      "execution_count": 28,
      "outputs": [
        {
          "output_type": "execute_result",
          "data": {
            "text/plain": [
              "0.8852459016393442"
            ]
          },
          "metadata": {
            "tags": []
          },
          "execution_count": 28
        }
      ]
    },
    {
      "cell_type": "code",
      "metadata": {
        "colab": {
          "base_uri": "https://localhost:8080/"
        },
        "id": "geWiuR0B4FOy",
        "outputId": "a48c1fa8-6f0b-4798-ac0b-03763d8be67a"
      },
      "source": [
        "# cross validation using raw data (NOT SCALED)\n",
        "log_reg_cv = cross_val_score(log_reg, X, y)\n",
        "print('cross validation scores',list(log_reg_cv))\n",
        "print('cross validation average scores',log_reg_cv.mean())"
      ],
      "execution_count": 30,
      "outputs": [
        {
          "output_type": "stream",
          "text": [
            "cross validation scores [0.8032786885245902, 0.8688524590163934, 0.8524590163934426, 0.8666666666666667, 0.75]\n",
            "cross validation average scores 0.8282513661202187\n"
          ],
          "name": "stdout"
        }
      ]
    },
    {
      "cell_type": "code",
      "metadata": {
        "colab": {
          "base_uri": "https://localhost:8080/"
        },
        "id": "sLMcDugZ57Q8",
        "outputId": "9fc7886f-c6f1-4a98-94db-186d129a273c"
      },
      "source": [
        "# scaled data (SCALED USING STANDARD SCALER)\n",
        "log_reg_scaled = LogisticRegression(max_iter=3000)\n",
        "log_reg_scaled.fit(scaled_X_train, y_train)\n",
        "log_reg_scaled.score(scaled_X_test, y_test)"
      ],
      "execution_count": 35,
      "outputs": [
        {
          "output_type": "execute_result",
          "data": {
            "text/plain": [
              "0.8524590163934426"
            ]
          },
          "metadata": {
            "tags": []
          },
          "execution_count": 35
        }
      ]
    },
    {
      "cell_type": "code",
      "metadata": {
        "colab": {
          "base_uri": "https://localhost:8080/"
        },
        "id": "LgZgJnXs6w9s",
        "outputId": "69cd58b0-49c9-41dc-8d23-94543c60315b"
      },
      "source": [
        "# cross validation using scaled data (SCALED USING STANDARD SCALER)\n",
        "log_reg_scaled_cv = cross_val_score(log_reg_scaled, X, y)\n",
        "print('cross validation scores',list(log_reg_scaled_cv))\n",
        "print('cross validation average scores',log_reg_scaled_cv.mean())"
      ],
      "execution_count": 36,
      "outputs": [
        {
          "output_type": "stream",
          "text": [
            "cross validation scores [0.8032786885245902, 0.8688524590163934, 0.8524590163934426, 0.8666666666666667, 0.75]\n",
            "cross validation average scores 0.8282513661202187\n"
          ],
          "name": "stdout"
        }
      ]
    },
    {
      "cell_type": "markdown",
      "metadata": {
        "id": "YWLZr7wB7Ptn"
      },
      "source": [
        "## Cross validation results"
      ]
    },
    {
      "cell_type": "code",
      "metadata": {
        "colab": {
          "base_uri": "https://localhost:8080/",
          "height": 80
        },
        "id": "9e9HZvIA7Dvi",
        "outputId": "221071bb-1c45-49b6-88db-c6c21048300f"
      },
      "source": [
        "cv_results = pd.DataFrame(data={'Random Forest':forest_cv.mean(),\n",
        "                                'Logistic Regression':log_reg_cv.mean()}, index=['score'])\n",
        "cv_results.head()"
      ],
      "execution_count": 40,
      "outputs": [
        {
          "output_type": "execute_result",
          "data": {
            "text/html": [
              "<div>\n",
              "<style scoped>\n",
              "    .dataframe tbody tr th:only-of-type {\n",
              "        vertical-align: middle;\n",
              "    }\n",
              "\n",
              "    .dataframe tbody tr th {\n",
              "        vertical-align: top;\n",
              "    }\n",
              "\n",
              "    .dataframe thead th {\n",
              "        text-align: right;\n",
              "    }\n",
              "</style>\n",
              "<table border=\"1\" class=\"dataframe\">\n",
              "  <thead>\n",
              "    <tr style=\"text-align: right;\">\n",
              "      <th></th>\n",
              "      <th>Random Forest</th>\n",
              "      <th>Logistic Regression</th>\n",
              "    </tr>\n",
              "  </thead>\n",
              "  <tbody>\n",
              "    <tr>\n",
              "      <th>score</th>\n",
              "      <td>0.821639</td>\n",
              "      <td>0.828251</td>\n",
              "    </tr>\n",
              "  </tbody>\n",
              "</table>\n",
              "</div>"
            ],
            "text/plain": [
              "       Random Forest  Logistic Regression\n",
              "score       0.821639             0.828251"
            ]
          },
          "metadata": {
            "tags": []
          },
          "execution_count": 40
        }
      ]
    },
    {
      "cell_type": "markdown",
      "metadata": {
        "id": "vNeg5yEA8fQT"
      },
      "source": [
        "## Which model to choose\n",
        "\n",
        "**Confusion matrix**<br>\n",
        "We can plot the confusion matrix and based on it make a choice for the model\n",
        "but confusion matrix can get complex if there are more classes (in this case there is only 2 classes which are  positive and negative)\n",
        "\n",
        "Size of confusion matrix is determined by the number of things we want to predict. There are other sophisticated methods we can use like\n",
        "* **Sensitivity**\n",
        "* **Specificity**\n",
        "* **ROC**\n",
        "* **AUC**"
      ]
    },
    {
      "cell_type": "markdown",
      "metadata": {
        "id": "6WvdWveb-IcL"
      },
      "source": [
        "### Confusion matrix \n"
      ]
    },
    {
      "cell_type": "code",
      "metadata": {
        "colab": {
          "base_uri": "https://localhost:8080/"
        },
        "id": "eb4RQlNG7soV",
        "outputId": "d48581e3-b0e5-4041-9d45-36244fa67adc"
      },
      "source": [
        "forest_preds = forest.predict(X_test)\n",
        "\n",
        "print('Confusion matrix for RandomForest')\n",
        "print(confusion_matrix(y_test, forest_preds))"
      ],
      "execution_count": 52,
      "outputs": [
        {
          "output_type": "stream",
          "text": [
            "Confusion matrix for RandomForest\n",
            "[[25  4]\n",
            " [ 5 27]]\n"
          ],
          "name": "stdout"
        }
      ]
    },
    {
      "cell_type": "code",
      "metadata": {
        "colab": {
          "base_uri": "https://localhost:8080/"
        },
        "id": "UItziH0p-Y0u",
        "outputId": "b371b685-c0ce-4a87-a404-b08dba092b35"
      },
      "source": [
        "log_reg_preds = log_reg.predict(X_test)\n",
        "\n",
        "print('Confusion matrix for Logistic Regression')\n",
        "print(confusion_matrix(y_test, log_reg_preds))"
      ],
      "execution_count": 51,
      "outputs": [
        {
          "output_type": "stream",
          "text": [
            "Confusion matrix for Logistic Regression\n",
            "[[25  4]\n",
            " [ 3 29]]\n"
          ],
          "name": "stdout"
        }
      ]
    },
    {
      "cell_type": "markdown",
      "metadata": {
        "id": "ELkjko39DeER"
      },
      "source": [
        "### Sensitivity and Specificity\n",
        "**Note that in binary classification, recall of the positive class is also known as “sensitivity”**; \n",
        "\n",
        "**recall of the negative class is “specificity”**."
      ]
    },
    {
      "cell_type": "code",
      "metadata": {
        "colab": {
          "base_uri": "https://localhost:8080/"
        },
        "id": "DMOKKQxK_4VN",
        "outputId": "833405aa-3a6f-4aab-bf24-bb2d671ab619"
      },
      "source": [
        "print('RandomForestClassifier')\n",
        "print(classification_report(y_test, forest_preds))\n",
        "\n",
        "print('LogisticRegression')\n",
        "print(classification_report(y_test, log_reg_preds))"
      ],
      "execution_count": 54,
      "outputs": [
        {
          "output_type": "stream",
          "text": [
            "RandomForestClassifier\n",
            "              precision    recall  f1-score   support\n",
            "\n",
            "           0       0.83      0.86      0.85        29\n",
            "           1       0.87      0.84      0.86        32\n",
            "\n",
            "    accuracy                           0.85        61\n",
            "   macro avg       0.85      0.85      0.85        61\n",
            "weighted avg       0.85      0.85      0.85        61\n",
            "\n",
            "LogisticRegression\n",
            "              precision    recall  f1-score   support\n",
            "\n",
            "           0       0.89      0.86      0.88        29\n",
            "           1       0.88      0.91      0.89        32\n",
            "\n",
            "    accuracy                           0.89        61\n",
            "   macro avg       0.89      0.88      0.88        61\n",
            "weighted avg       0.89      0.89      0.89        61\n",
            "\n"
          ],
          "name": "stdout"
        }
      ]
    },
    {
      "cell_type": "code",
      "metadata": {
        "colab": {
          "base_uri": "https://localhost:8080/"
        },
        "id": "DX-DigUpD1jq",
        "outputId": "4c2c0fb6-efe8-449f-883e-93424db9baa8"
      },
      "source": [
        "[[tn, fp], [fn, tp] ] = confusion_matrix(y_test, forest_preds)\n",
        "print('Random Forest')\n",
        "print('Sensitivity : ',tp/(tp+fn))\n",
        "print('Sensitivity : ',tn/(tn+fp))"
      ],
      "execution_count": 70,
      "outputs": [
        {
          "output_type": "stream",
          "text": [
            "Random Forest\n",
            "Sensitivity :  0.84375\n",
            "Sensitivity :  0.8620689655172413\n"
          ],
          "name": "stdout"
        }
      ]
    },
    {
      "cell_type": "code",
      "metadata": {
        "colab": {
          "base_uri": "https://localhost:8080/"
        },
        "id": "hPzfDntrEifi",
        "outputId": "96cc3dc4-8cc7-4224-e6a4-80440e5f7299"
      },
      "source": [
        "[[tn, fp], [fn, tp] ] = confusion_matrix(y_test, log_reg_preds)\n",
        "print('Logistic Regression')\n",
        "print('Sensitivity : ',tp/(tp+fn))\n",
        "print('Sensitivity : ',tn/(tn+fp))"
      ],
      "execution_count": 69,
      "outputs": [
        {
          "output_type": "stream",
          "text": [
            "Logistic Regression\n",
            "Sensitivity :  0.90625\n",
            "Sensitivity :  0.8620689655172413\n"
          ],
          "name": "stdout"
        }
      ]
    },
    {
      "cell_type": "markdown",
      "metadata": {
        "id": "G_g4ct5yJX8_"
      },
      "source": [
        "### ROC curve"
      ]
    },
    {
      "cell_type": "code",
      "metadata": {
        "colab": {
          "base_uri": "https://localhost:8080/",
          "height": 295
        },
        "id": "tz_cBAsqGsby",
        "outputId": "0c215cc5-8fce-4e0e-f675-e88f691f1b4b"
      },
      "source": [
        "# Random forest model\n",
        "\n",
        "# we are using complete data\n",
        "fig, ax = plt.subplots(1,2, figsize=(12,4))\n",
        "plot_roc_curve(forest, X, y, ax=ax[0]);\n",
        "ax[0].set(title='ROC using complete data')\n",
        "# we are using test-data\n",
        "plot_roc_curve(forest, X_test, y_test, ax=ax[1]);\n",
        "ax[1].set(title='ROC using test data')\n",
        "plt.show()"
      ],
      "execution_count": 120,
      "outputs": [
        {
          "output_type": "display_data",
          "data": {
            "image/png": "[encoded data removed]",
            "text/plain": [
              "<Figure size 864x288 with 2 Axes>"
            ]
          },
          "metadata": {
            "tags": [],
            "needs_background": "light"
          }
        }
      ]
    },
    {
      "cell_type": "code",
      "metadata": {
        "colab": {
          "base_uri": "https://localhost:8080/",
          "height": 204
        },
        "id": "eR1KJUQLKpNx",
        "outputId": "22c35680-7361-4d46-9711-1bc90cf1705f"
      },
      "source": [
        "# probability estimates of the positive class\n",
        "forest_probs = forest.predict_proba(X_test)\n",
        "forest_probs_positive = forest_probs[:,1]\n",
        "\n",
        "fpr, tpr , threshold = roc_curve(y_test, forest_probs_positive)\n",
        "forest_roc_params = pd.DataFrame(data={'False positive rate':fpr,\n",
        "                                'True positive rate':tpr,\n",
        "                                'Threshold':threshold})\n",
        "forest_roc_params.head()"
      ],
      "execution_count": 88,
      "outputs": [
        {
          "output_type": "execute_result",
          "data": {
            "text/html": [
              "<div>\n",
              "<style scoped>\n",
              "    .dataframe tbody tr th:only-of-type {\n",
              "        vertical-align: middle;\n",
              "    }\n",
              "\n",
              "    .dataframe tbody tr th {\n",
              "        vertical-align: top;\n",
              "    }\n",
              "\n",
              "    .dataframe thead th {\n",
              "        text-align: right;\n",
              "    }\n",
              "</style>\n",
              "<table border=\"1\" class=\"dataframe\">\n",
              "  <thead>\n",
              "    <tr style=\"text-align: right;\">\n",
              "      <th></th>\n",
              "      <th>False positive rate</th>\n",
              "      <th>True positive rate</th>\n",
              "      <th>Threshold</th>\n",
              "    </tr>\n",
              "  </thead>\n",
              "  <tbody>\n",
              "    <tr>\n",
              "      <th>0</th>\n",
              "      <td>0.0</td>\n",
              "      <td>0.00000</td>\n",
              "      <td>2.00</td>\n",
              "    </tr>\n",
              "    <tr>\n",
              "      <th>1</th>\n",
              "      <td>0.0</td>\n",
              "      <td>0.03125</td>\n",
              "      <td>1.00</td>\n",
              "    </tr>\n",
              "    <tr>\n",
              "      <th>2</th>\n",
              "      <td>0.0</td>\n",
              "      <td>0.09375</td>\n",
              "      <td>0.99</td>\n",
              "    </tr>\n",
              "    <tr>\n",
              "      <th>3</th>\n",
              "      <td>0.0</td>\n",
              "      <td>0.34375</td>\n",
              "      <td>0.82</td>\n",
              "    </tr>\n",
              "    <tr>\n",
              "      <th>4</th>\n",
              "      <td>0.0</td>\n",
              "      <td>0.40625</td>\n",
              "      <td>0.81</td>\n",
              "    </tr>\n",
              "  </tbody>\n",
              "</table>\n",
              "</div>"
            ],
            "text/plain": [
              "   False positive rate  True positive rate  Threshold\n",
              "0                  0.0             0.00000       2.00\n",
              "1                  0.0             0.03125       1.00\n",
              "2                  0.0             0.09375       0.99\n",
              "3                  0.0             0.34375       0.82\n",
              "4                  0.0             0.40625       0.81"
            ]
          },
          "metadata": {
            "tags": []
          },
          "execution_count": 88
        }
      ]
    },
    {
      "cell_type": "code",
      "metadata": {
        "colab": {
          "base_uri": "https://localhost:8080/",
          "height": 308
        },
        "id": "lAmf1rZ9N30U",
        "outputId": "11121008-4c76-45ae-c1d1-beb7993fe5ec"
      },
      "source": [
        "plt.plot(forest_roc_params['False positive rate'],forest_roc_params['True positive rate'])\n",
        "plt.xlabel('False positive rate')\n",
        "plt.ylabel('True positive rate')\n",
        "plt.suptitle('Random Forest')\n",
        "plt.show()"
      ],
      "execution_count": 97,
      "outputs": [
        {
          "output_type": "display_data",
          "data": {
            "image/png": "[encoded data removed]",
            "text/plain": [
              "<Figure size 432x288 with 1 Axes>"
            ]
          },
          "metadata": {
            "tags": [],
            "needs_background": "light"
          }
        }
      ]
    },
    {
      "cell_type": "code",
      "metadata": {
        "colab": {
          "base_uri": "https://localhost:8080/",
          "height": 295
        },
        "id": "v7FfketUGwnh",
        "outputId": "49646310-892f-44c3-c0d1-c543830bca23"
      },
      "source": [
        "# Logistic regression \n",
        "# we are using complete data\n",
        "fig, ax = plt.subplots(1,2, figsize=(12,4))\n",
        "plot_roc_curve(log_reg, X, y, ax=ax[0]);\n",
        "ax[0].set(title='ROC using complete data')\n",
        "# we are using test-data\n",
        "plot_roc_curve(log_reg, X_test, y_test, ax=ax[1]);\n",
        "ax[1].set(title='ROC using test data')\n",
        "plt.show()"
      ],
      "execution_count": 121,
      "outputs": [
        {
          "output_type": "display_data",
          "data": {
            "image/png": "[encoded data removed]",
            "text/plain": [
              "<Figure size 864x288 with 2 Axes>"
            ]
          },
          "metadata": {
            "tags": [],
            "needs_background": "light"
          }
        }
      ]
    },
    {
      "cell_type": "code",
      "metadata": {
        "colab": {
          "base_uri": "https://localhost:8080/",
          "height": 204
        },
        "id": "lT-4L6iIMm3Q",
        "outputId": "fd6282bc-57c0-462b-ef9b-6f70daef730c"
      },
      "source": [
        "# probability estimates of the positive class\n",
        "log_reg_probs = log_reg.predict_proba(X_test)\n",
        "log_reg_probs_positive = log_reg_probs[:,1]\n",
        "\n",
        "fpr, tpr , threshold = roc_curve(y_test, log_reg_probs_positive)\n",
        "log_reg_roc_params = pd.DataFrame(data={'False positive rate':fpr,\n",
        "                                'True positive rate':tpr,\n",
        "                                'Threshold':threshold})\n",
        "log_reg_roc_params.head()"
      ],
      "execution_count": 89,
      "outputs": [
        {
          "output_type": "execute_result",
          "data": {
            "text/html": [
              "<div>\n",
              "<style scoped>\n",
              "    .dataframe tbody tr th:only-of-type {\n",
              "        vertical-align: middle;\n",
              "    }\n",
              "\n",
              "    .dataframe tbody tr th {\n",
              "        vertical-align: top;\n",
              "    }\n",
              "\n",
              "    .dataframe thead th {\n",
              "        text-align: right;\n",
              "    }\n",
              "</style>\n",
              "<table border=\"1\" class=\"dataframe\">\n",
              "  <thead>\n",
              "    <tr style=\"text-align: right;\">\n",
              "      <th></th>\n",
              "      <th>False positive rate</th>\n",
              "      <th>True positive rate</th>\n",
              "      <th>Threshold</th>\n",
              "    </tr>\n",
              "  </thead>\n",
              "  <tbody>\n",
              "    <tr>\n",
              "      <th>0</th>\n",
              "      <td>0.000000</td>\n",
              "      <td>0.00000</td>\n",
              "      <td>1.988069</td>\n",
              "    </tr>\n",
              "    <tr>\n",
              "      <th>1</th>\n",
              "      <td>0.000000</td>\n",
              "      <td>0.03125</td>\n",
              "      <td>0.988069</td>\n",
              "    </tr>\n",
              "    <tr>\n",
              "      <th>2</th>\n",
              "      <td>0.000000</td>\n",
              "      <td>0.37500</td>\n",
              "      <td>0.891468</td>\n",
              "    </tr>\n",
              "    <tr>\n",
              "      <th>3</th>\n",
              "      <td>0.034483</td>\n",
              "      <td>0.37500</td>\n",
              "      <td>0.887010</td>\n",
              "    </tr>\n",
              "    <tr>\n",
              "      <th>4</th>\n",
              "      <td>0.034483</td>\n",
              "      <td>0.56250</td>\n",
              "      <td>0.806892</td>\n",
              "    </tr>\n",
              "  </tbody>\n",
              "</table>\n",
              "</div>"
            ],
            "text/plain": [
              "   False positive rate  True positive rate  Threshold\n",
              "0             0.000000             0.00000   1.988069\n",
              "1             0.000000             0.03125   0.988069\n",
              "2             0.000000             0.37500   0.891468\n",
              "3             0.034483             0.37500   0.887010\n",
              "4             0.034483             0.56250   0.806892"
            ]
          },
          "metadata": {
            "tags": []
          },
          "execution_count": 89
        }
      ]
    },
    {
      "cell_type": "code",
      "metadata": {
        "colab": {
          "base_uri": "https://localhost:8080/",
          "height": 308
        },
        "id": "ECJPzZQ2M9oQ",
        "outputId": "6c5d3c92-eb35-4e62-c6bc-9d951c40bba2"
      },
      "source": [
        "plt.plot(log_reg_roc_params['False positive rate'],log_reg_roc_params['True positive rate'])\n",
        "plt.xlabel('False positive rate')\n",
        "plt.ylabel('True positive rate')\n",
        "plt.suptitle('Logistic Regression')\n",
        "plt.show()"
      ],
      "execution_count": 95,
      "outputs": [
        {
          "output_type": "display_data",
          "data": {
            "image/png": "[encoded data removed]",
            "text/plain": [
              "<Figure size 432x288 with 1 Axes>"
            ]
          },
          "metadata": {
            "tags": [],
            "needs_background": "light"
          }
        }
      ]
    },
    {
      "cell_type": "markdown",
      "metadata": {
        "id": "QWXaym5cOTXm"
      },
      "source": [
        "Comparing ROC curve of Random Forest and Logistic Regression model"
      ]
    },
    {
      "cell_type": "code",
      "metadata": {
        "colab": {
          "base_uri": "https://localhost:8080/",
          "height": 308
        },
        "id": "-bNXLBeJOa-U",
        "outputId": "906f7fe5-a0a2-47ec-df6e-319be85f379b"
      },
      "source": [
        "plt.plot(log_reg_roc_params['False positive rate'],log_reg_roc_params['True positive rate'], color='salmon')\n",
        "plt.plot(forest_roc_params['False positive rate'],forest_roc_params['True positive rate'], color='skyblue')\n",
        "plt.xlabel('False positive rate')\n",
        "plt.ylabel('True positive rate')\n",
        "plt.legend(['Logistic Regression','Random Forest'])\n",
        "plt.suptitle('Logistic Regression vs Random Forest')\n",
        "plt.show()"
      ],
      "execution_count": 99,
      "outputs": [
        {
          "output_type": "display_data",
          "data": {
            "image/png": "[encoded data removed]",
            "text/plain": [
              "<Figure size 432x288 with 1 Axes>"
            ]
          },
          "metadata": {
            "tags": [],
            "needs_background": "light"
          }
        }
      ]
    },
    {
      "cell_type": "markdown",
      "metadata": {
        "id": "lKWULqD_KJ-G"
      },
      "source": [
        "### AUC"
      ]
    },
    {
      "cell_type": "code",
      "metadata": {
        "colab": {
          "base_uri": "https://localhost:8080/"
        },
        "id": "YGx2ZYSpJ4Ku",
        "outputId": "05e57e6c-2947-42fa-f6af-c8bcdac3101f"
      },
      "source": [
        "print('AUC score Random Forest',roc_auc_score(y_test, forest_preds))\n",
        "print('AUC score Logistic Regression',roc_auc_score(y_test, log_reg_preds))"
      ],
      "execution_count": 79,
      "outputs": [
        {
          "output_type": "stream",
          "text": [
            "AUC score Random Forest 0.8529094827586207\n",
            "AUC score Logistic Regression 0.8841594827586207\n"
          ],
          "name": "stdout"
        }
      ]
    },
    {
      "cell_type": "code",
      "metadata": {
        "id": "zDndgJbDKeQv"
      },
      "source": [
        ""
      ],
      "execution_count": null,
      "outputs": []
    }
  ]
}