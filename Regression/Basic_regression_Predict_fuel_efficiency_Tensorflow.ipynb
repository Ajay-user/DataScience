{
  "nbformat": 4,
  "nbformat_minor": 0,
  "metadata": {
    "colab": {
      "name": "Basic regression: Predict fuel efficiency Tensorflow.ipynb",
      "provenance": [],
      "toc_visible": true,
      "authorship_tag": "ABX9TyMSFt9qIyaa70taNTDAKvc2",
      "include_colab_link": true
    },
    "kernelspec": {
      "name": "python3",
      "display_name": "Python 3"
    },
    "language_info": {
      "name": "python"
    }
  },
  "cells": [
    {
      "cell_type": "markdown",
      "metadata": {
        "id": "view-in-github",
        "colab_type": "text"
      },
      "source": [
        "<a href=\"https://colab.research.google.com/github/Ajay-user/DataScience/blob/master/Regression/Basic_regression_Predict_fuel_efficiency_Tensorflow.ipynb\" target=\"_parent\"><img src=\"https://colab.research.google.com/assets/colab-badge.svg\" alt=\"Open In Colab\"/></a>"
      ]
    },
    {
      "cell_type": "markdown",
      "metadata": {
        "id": "LFoI82YQdyZO"
      },
      "source": [
        "This notebook uses the classic Auto MPG Dataset and builds a model to predict the fuel efficiency of late-1970s and early 1980s automobiles. To do this, provide the model with a description of many automobiles from that time period. This description includes attributes like: cylinders, displacement, horsepower, and weight."
      ]
    },
    {
      "cell_type": "code",
      "metadata": {
        "id": "gqrS-ueHdn5t"
      },
      "source": [
        "import matplotlib.pyplot as plt\n",
        "import numpy as np\n",
        "import pandas as pd\n",
        "import tensorflow as tf\n",
        "import seaborn as sns"
      ],
      "execution_count": 1,
      "outputs": []
    },
    {
      "cell_type": "markdown",
      "metadata": {
        "id": "l3HQopAgeSkv"
      },
      "source": [
        "## Dataset"
      ]
    },
    {
      "cell_type": "code",
      "metadata": {
        "colab": {
          "base_uri": "https://localhost:8080/",
          "height": 204
        },
        "id": "4u4UA8lpeK_C",
        "outputId": "6a0b4e92-1b26-4d8f-b188-54c2926fc055"
      },
      "source": [
        "url = 'http://archive.ics.uci.edu/ml/machine-learning-databases/auto-mpg/auto-mpg.data'\n",
        "column_names = ['MPG', 'Cylinders', 'Displacement', 'Horsepower', 'Weight',\n",
        "                'Acceleration', 'Model Year', 'Origin']\n",
        "\n",
        "df = pd.read_csv(url, names=column_names, sep=' ', na_values='?', comment='\\t', skipinitialspace=True)\n",
        "df.head()"
      ],
      "execution_count": 2,
      "outputs": [
        {
          "output_type": "execute_result",
          "data": {
            "text/html": [
              "<div>\n",
              "<style scoped>\n",
              "    .dataframe tbody tr th:only-of-type {\n",
              "        vertical-align: middle;\n",
              "    }\n",
              "\n",
              "    .dataframe tbody tr th {\n",
              "        vertical-align: top;\n",
              "    }\n",
              "\n",
              "    .dataframe thead th {\n",
              "        text-align: right;\n",
              "    }\n",
              "</style>\n",
              "<table border=\"1\" class=\"dataframe\">\n",
              "  <thead>\n",
              "    <tr style=\"text-align: right;\">\n",
              "      <th></th>\n",
              "      <th>MPG</th>\n",
              "      <th>Cylinders</th>\n",
              "      <th>Displacement</th>\n",
              "      <th>Horsepower</th>\n",
              "      <th>Weight</th>\n",
              "      <th>Acceleration</th>\n",
              "      <th>Model Year</th>\n",
              "      <th>Origin</th>\n",
              "    </tr>\n",
              "  </thead>\n",
              "  <tbody>\n",
              "    <tr>\n",
              "      <th>0</th>\n",
              "      <td>18.0</td>\n",
              "      <td>8</td>\n",
              "      <td>307.0</td>\n",
              "      <td>130.0</td>\n",
              "      <td>3504.0</td>\n",
              "      <td>12.0</td>\n",
              "      <td>70</td>\n",
              "      <td>1</td>\n",
              "    </tr>\n",
              "    <tr>\n",
              "      <th>1</th>\n",
              "      <td>15.0</td>\n",
              "      <td>8</td>\n",
              "      <td>350.0</td>\n",
              "      <td>165.0</td>\n",
              "      <td>3693.0</td>\n",
              "      <td>11.5</td>\n",
              "      <td>70</td>\n",
              "      <td>1</td>\n",
              "    </tr>\n",
              "    <tr>\n",
              "      <th>2</th>\n",
              "      <td>18.0</td>\n",
              "      <td>8</td>\n",
              "      <td>318.0</td>\n",
              "      <td>150.0</td>\n",
              "      <td>3436.0</td>\n",
              "      <td>11.0</td>\n",
              "      <td>70</td>\n",
              "      <td>1</td>\n",
              "    </tr>\n",
              "    <tr>\n",
              "      <th>3</th>\n",
              "      <td>16.0</td>\n",
              "      <td>8</td>\n",
              "      <td>304.0</td>\n",
              "      <td>150.0</td>\n",
              "      <td>3433.0</td>\n",
              "      <td>12.0</td>\n",
              "      <td>70</td>\n",
              "      <td>1</td>\n",
              "    </tr>\n",
              "    <tr>\n",
              "      <th>4</th>\n",
              "      <td>17.0</td>\n",
              "      <td>8</td>\n",
              "      <td>302.0</td>\n",
              "      <td>140.0</td>\n",
              "      <td>3449.0</td>\n",
              "      <td>10.5</td>\n",
              "      <td>70</td>\n",
              "      <td>1</td>\n",
              "    </tr>\n",
              "  </tbody>\n",
              "</table>\n",
              "</div>"
            ],
            "text/plain": [
              "    MPG  Cylinders  Displacement  ...  Acceleration  Model Year  Origin\n",
              "0  18.0          8         307.0  ...          12.0          70       1\n",
              "1  15.0          8         350.0  ...          11.5          70       1\n",
              "2  18.0          8         318.0  ...          11.0          70       1\n",
              "3  16.0          8         304.0  ...          12.0          70       1\n",
              "4  17.0          8         302.0  ...          10.5          70       1\n",
              "\n",
              "[5 rows x 8 columns]"
            ]
          },
          "metadata": {
            "tags": []
          },
          "execution_count": 2
        }
      ]
    },
    {
      "cell_type": "markdown",
      "metadata": {
        "id": "hCLtLlQKg5aB"
      },
      "source": [
        "## Data preprocessing"
      ]
    },
    {
      "cell_type": "markdown",
      "metadata": {
        "id": "cV-sBJWKgbp4"
      },
      "source": [
        "### Check for null values"
      ]
    },
    {
      "cell_type": "code",
      "metadata": {
        "colab": {
          "base_uri": "https://localhost:8080/"
        },
        "id": "IChIl8uNeb3s",
        "outputId": "2eaf9ccd-2957-4029-c23a-135c8f3ca495"
      },
      "source": [
        "df.isna().sum()"
      ],
      "execution_count": 3,
      "outputs": [
        {
          "output_type": "execute_result",
          "data": {
            "text/plain": [
              "MPG             0\n",
              "Cylinders       0\n",
              "Displacement    0\n",
              "Horsepower      6\n",
              "Weight          0\n",
              "Acceleration    0\n",
              "Model Year      0\n",
              "Origin          0\n",
              "dtype: int64"
            ]
          },
          "metadata": {
            "tags": []
          },
          "execution_count": 3
        }
      ]
    },
    {
      "cell_type": "code",
      "metadata": {
        "id": "LOCgDTLqgfZX"
      },
      "source": [
        "# drop the rows that has null values\n",
        "df.dropna(inplace=True)"
      ],
      "execution_count": 4,
      "outputs": []
    },
    {
      "cell_type": "markdown",
      "metadata": {
        "id": "7nctRkaAg2H8"
      },
      "source": [
        "### One Hot Encode the Categories\n",
        "\n",
        "The \"Origin\" column is really categorical, not numeric. So convert that to a one-hot with pd.get_dummies:"
      ]
    },
    {
      "cell_type": "code",
      "metadata": {
        "id": "PnpOxsGSgs4l"
      },
      "source": [
        "df['Origin'] = df['Origin'].map({1: 'USA', 2: 'Europe', 3: 'Japan'})"
      ],
      "execution_count": 5,
      "outputs": []
    },
    {
      "cell_type": "code",
      "metadata": {
        "colab": {
          "base_uri": "https://localhost:8080/",
          "height": 204
        },
        "id": "KK8iML3ChHsW",
        "outputId": "8bafddf4-65e1-4cdf-ed73-942c6b1acb98"
      },
      "source": [
        "df = pd.get_dummies(df, columns=['Origin'], prefix='', prefix_sep='')\n",
        "df.head()"
      ],
      "execution_count": 6,
      "outputs": [
        {
          "output_type": "execute_result",
          "data": {
            "text/html": [
              "<div>\n",
              "<style scoped>\n",
              "    .dataframe tbody tr th:only-of-type {\n",
              "        vertical-align: middle;\n",
              "    }\n",
              "\n",
              "    .dataframe tbody tr th {\n",
              "        vertical-align: top;\n",
              "    }\n",
              "\n",
              "    .dataframe thead th {\n",
              "        text-align: right;\n",
              "    }\n",
              "</style>\n",
              "<table border=\"1\" class=\"dataframe\">\n",
              "  <thead>\n",
              "    <tr style=\"text-align: right;\">\n",
              "      <th></th>\n",
              "      <th>MPG</th>\n",
              "      <th>Cylinders</th>\n",
              "      <th>Displacement</th>\n",
              "      <th>Horsepower</th>\n",
              "      <th>Weight</th>\n",
              "      <th>Acceleration</th>\n",
              "      <th>Model Year</th>\n",
              "      <th>Europe</th>\n",
              "      <th>Japan</th>\n",
              "      <th>USA</th>\n",
              "    </tr>\n",
              "  </thead>\n",
              "  <tbody>\n",
              "    <tr>\n",
              "      <th>0</th>\n",
              "      <td>18.0</td>\n",
              "      <td>8</td>\n",
              "      <td>307.0</td>\n",
              "      <td>130.0</td>\n",
              "      <td>3504.0</td>\n",
              "      <td>12.0</td>\n",
              "      <td>70</td>\n",
              "      <td>0</td>\n",
              "      <td>0</td>\n",
              "      <td>1</td>\n",
              "    </tr>\n",
              "    <tr>\n",
              "      <th>1</th>\n",
              "      <td>15.0</td>\n",
              "      <td>8</td>\n",
              "      <td>350.0</td>\n",
              "      <td>165.0</td>\n",
              "      <td>3693.0</td>\n",
              "      <td>11.5</td>\n",
              "      <td>70</td>\n",
              "      <td>0</td>\n",
              "      <td>0</td>\n",
              "      <td>1</td>\n",
              "    </tr>\n",
              "    <tr>\n",
              "      <th>2</th>\n",
              "      <td>18.0</td>\n",
              "      <td>8</td>\n",
              "      <td>318.0</td>\n",
              "      <td>150.0</td>\n",
              "      <td>3436.0</td>\n",
              "      <td>11.0</td>\n",
              "      <td>70</td>\n",
              "      <td>0</td>\n",
              "      <td>0</td>\n",
              "      <td>1</td>\n",
              "    </tr>\n",
              "    <tr>\n",
              "      <th>3</th>\n",
              "      <td>16.0</td>\n",
              "      <td>8</td>\n",
              "      <td>304.0</td>\n",
              "      <td>150.0</td>\n",
              "      <td>3433.0</td>\n",
              "      <td>12.0</td>\n",
              "      <td>70</td>\n",
              "      <td>0</td>\n",
              "      <td>0</td>\n",
              "      <td>1</td>\n",
              "    </tr>\n",
              "    <tr>\n",
              "      <th>4</th>\n",
              "      <td>17.0</td>\n",
              "      <td>8</td>\n",
              "      <td>302.0</td>\n",
              "      <td>140.0</td>\n",
              "      <td>3449.0</td>\n",
              "      <td>10.5</td>\n",
              "      <td>70</td>\n",
              "      <td>0</td>\n",
              "      <td>0</td>\n",
              "      <td>1</td>\n",
              "    </tr>\n",
              "  </tbody>\n",
              "</table>\n",
              "</div>"
            ],
            "text/plain": [
              "    MPG  Cylinders  Displacement  Horsepower  ...  Model Year  Europe  Japan  USA\n",
              "0  18.0          8         307.0       130.0  ...          70       0      0    1\n",
              "1  15.0          8         350.0       165.0  ...          70       0      0    1\n",
              "2  18.0          8         318.0       150.0  ...          70       0      0    1\n",
              "3  16.0          8         304.0       150.0  ...          70       0      0    1\n",
              "4  17.0          8         302.0       140.0  ...          70       0      0    1\n",
              "\n",
              "[5 rows x 10 columns]"
            ]
          },
          "metadata": {
            "tags": []
          },
          "execution_count": 6
        }
      ]
    },
    {
      "cell_type": "markdown",
      "metadata": {
        "id": "0t64fxEZiUBo"
      },
      "source": [
        "## Train - Test split"
      ]
    },
    {
      "cell_type": "code",
      "metadata": {
        "id": "cARhBdt7h3z5"
      },
      "source": [
        "train_df = df.sample(frac=0.8, random_state=42)\n",
        "test_df = df.drop(train_df.index, axis=0)"
      ],
      "execution_count": 7,
      "outputs": []
    },
    {
      "cell_type": "markdown",
      "metadata": {
        "id": "q7vrm3C6j2hP"
      },
      "source": [
        "## Explore the data\n",
        "\n",
        "Looking at the joint distribution of a few pairs of columns from the training set.\n",
        "\n",
        " * Looking at the top row it should be clear that the fuel efficiency (MPG) is a function of all the other parameters. \n",
        " * Looking at the other rows it should be clear that they are functions of each other."
      ]
    },
    {
      "cell_type": "code",
      "metadata": {
        "colab": {
          "base_uri": "https://localhost:8080/",
          "height": 743
        },
        "id": "Du9KGbPHi91C",
        "outputId": "20117d08-e642-4de6-8ce5-da4ed6a0a8c8"
      },
      "source": [
        "sns.pairplot(train_df[['MPG', 'Cylinders', 'Displacement', 'Weight']], diag_kind='kde')"
      ],
      "execution_count": 8,
      "outputs": [
        {
          "output_type": "execute_result",
          "data": {
            "text/plain": [
              "<seaborn.axisgrid.PairGrid at 0x7f19ebc9a310>"
            ]
          },
          "metadata": {
            "tags": []
          },
          "execution_count": 8
        },
        {
          "output_type": "display_data",
          "data": {
            "image/png": "[encoded data removed]",
            "text/plain": [
              "<Figure size 720x720 with 20 Axes>"
            ]
          },
          "metadata": {
            "tags": [],
            "needs_background": "light"
          }
        }
      ]
    },
    {
      "cell_type": "markdown",
      "metadata": {
        "id": "pQTQZArylqWM"
      },
      "source": [
        "## Split Features and labels"
      ]
    },
    {
      "cell_type": "code",
      "metadata": {
        "id": "4I9_sFkbi_CU"
      },
      "source": [
        "# training \n",
        "X_train = train_df.drop(columns=['MPG']).copy()\n",
        "y_train = train_df['MPG'].copy()\n",
        "# testing\n",
        "X_test = test_df.drop(columns=['MPG']).copy()\n",
        "y_test = test_df['MPG'].copy()"
      ],
      "execution_count": 9,
      "outputs": []
    },
    {
      "cell_type": "code",
      "metadata": {
        "colab": {
          "base_uri": "https://localhost:8080/"
        },
        "id": "dZ5gCMn5man0",
        "outputId": "b67d74af-4657-4cc0-bbb0-a0154984664f"
      },
      "source": [
        "print('Shape of Training Features',X_train.shape)\n",
        "print('Shape of Training labels',y_train.shape)\n",
        "print('Shape of Training Features',X_test.shape)\n",
        "print('Shape of Training labels',y_test.shape)"
      ],
      "execution_count": 10,
      "outputs": [
        {
          "output_type": "stream",
          "text": [
            "Shape of Training Features (314, 9)\n",
            "Shape of Training labels (314,)\n",
            "Shape of Training Features (78, 9)\n",
            "Shape of Training labels (78,)\n"
          ],
          "name": "stdout"
        }
      ]
    },
    {
      "cell_type": "markdown",
      "metadata": {
        "id": "UmyKht60m6RM"
      },
      "source": [
        "## Normalization\n",
        "In the table of statistics it's easy to see how different the ranges of each feature are.\n",
        "\n",
        "It is good practice to normalize features that use different scales and ranges.\n",
        "\n",
        "One reason this is important is because the features are multiplied by the model weights. So the scale of the outputs and the scale of the gradients are affected by the scale of the inputs.\n",
        "\n",
        "Although a model might converge without feature normalization, normalization makes training much more stable.\n",
        "\n",
        "**Note: There is no advantage to normalizing the one-hot features**"
      ]
    },
    {
      "cell_type": "code",
      "metadata": {
        "colab": {
          "base_uri": "https://localhost:8080/",
          "height": 359
        },
        "id": "r6mg_AFnmz9C",
        "outputId": "5a70afe6-0cd7-4481-caea-513693b1635d"
      },
      "source": [
        "train_df.describe().T[['mean', 'std']]"
      ],
      "execution_count": 11,
      "outputs": [
        {
          "output_type": "execute_result",
          "data": {
            "text/html": [
              "<div>\n",
              "<style scoped>\n",
              "    .dataframe tbody tr th:only-of-type {\n",
              "        vertical-align: middle;\n",
              "    }\n",
              "\n",
              "    .dataframe tbody tr th {\n",
              "        vertical-align: top;\n",
              "    }\n",
              "\n",
              "    .dataframe thead th {\n",
              "        text-align: right;\n",
              "    }\n",
              "</style>\n",
              "<table border=\"1\" class=\"dataframe\">\n",
              "  <thead>\n",
              "    <tr style=\"text-align: right;\">\n",
              "      <th></th>\n",
              "      <th>mean</th>\n",
              "      <th>std</th>\n",
              "    </tr>\n",
              "  </thead>\n",
              "  <tbody>\n",
              "    <tr>\n",
              "      <th>MPG</th>\n",
              "      <td>23.153822</td>\n",
              "      <td>7.861854</td>\n",
              "    </tr>\n",
              "    <tr>\n",
              "      <th>Cylinders</th>\n",
              "      <td>5.531847</td>\n",
              "      <td>1.729449</td>\n",
              "    </tr>\n",
              "    <tr>\n",
              "      <th>Displacement</th>\n",
              "      <td>197.855096</td>\n",
              "      <td>106.501896</td>\n",
              "    </tr>\n",
              "    <tr>\n",
              "      <th>Horsepower</th>\n",
              "      <td>105.971338</td>\n",
              "      <td>39.636557</td>\n",
              "    </tr>\n",
              "    <tr>\n",
              "      <th>Weight</th>\n",
              "      <td>3005.745223</td>\n",
              "      <td>859.060925</td>\n",
              "    </tr>\n",
              "    <tr>\n",
              "      <th>Acceleration</th>\n",
              "      <td>15.510828</td>\n",
              "      <td>2.803560</td>\n",
              "    </tr>\n",
              "    <tr>\n",
              "      <th>Model Year</th>\n",
              "      <td>75.910828</td>\n",
              "      <td>3.688989</td>\n",
              "    </tr>\n",
              "    <tr>\n",
              "      <th>Europe</th>\n",
              "      <td>0.171975</td>\n",
              "      <td>0.377961</td>\n",
              "    </tr>\n",
              "    <tr>\n",
              "      <th>Japan</th>\n",
              "      <td>0.203822</td>\n",
              "      <td>0.403481</td>\n",
              "    </tr>\n",
              "    <tr>\n",
              "      <th>USA</th>\n",
              "      <td>0.624204</td>\n",
              "      <td>0.485101</td>\n",
              "    </tr>\n",
              "  </tbody>\n",
              "</table>\n",
              "</div>"
            ],
            "text/plain": [
              "                     mean         std\n",
              "MPG             23.153822    7.861854\n",
              "Cylinders        5.531847    1.729449\n",
              "Displacement   197.855096  106.501896\n",
              "Horsepower     105.971338   39.636557\n",
              "Weight        3005.745223  859.060925\n",
              "Acceleration    15.510828    2.803560\n",
              "Model Year      75.910828    3.688989\n",
              "Europe           0.171975    0.377961\n",
              "Japan            0.203822    0.403481\n",
              "USA              0.624204    0.485101"
            ]
          },
          "metadata": {
            "tags": []
          },
          "execution_count": 11
        }
      ]
    },
    {
      "cell_type": "markdown",
      "metadata": {
        "id": "aklPHnbjpR_j"
      },
      "source": [
        "`tf.keras.layers.experimental.preprocessing.Normalization`\n",
        "This layer will coerce its inputs into a distribution centered around\n",
        "0 with standard deviation 1. It accomplishes this by precomputing the mean and\n",
        "variance of the data, and calling (input-mean)/sqrt(var) at runtime.\n",
        "\n",
        "What happens in adapt: Compute mean and variance of the data and store them\n",
        "  as the layer's weights. adapt should be called before fit, evaluate,\n",
        "or predict."
      ]
    },
    {
      "cell_type": "code",
      "metadata": {
        "id": "BRqCUD2JnByb"
      },
      "source": [
        "normalizer = tf.keras.layers.experimental.preprocessing.Normalization()"
      ],
      "execution_count": 12,
      "outputs": []
    },
    {
      "cell_type": "code",
      "metadata": {
        "id": "91V03Qvape8K"
      },
      "source": [
        "normalizer.adapt(X_train)"
      ],
      "execution_count": 13,
      "outputs": []
    },
    {
      "cell_type": "code",
      "metadata": {
        "colab": {
          "base_uri": "https://localhost:8080/"
        },
        "id": "YHSreCZspjbS",
        "outputId": "27a71e2a-e662-418d-877a-0547ec311e5a"
      },
      "source": [
        "print('Mean computed from training data',normalizer.mean.numpy())"
      ],
      "execution_count": 14,
      "outputs": [
        {
          "output_type": "stream",
          "text": [
            "Mean computed from training data [5.53184700e+00 1.97855103e+02 1.05971344e+02 3.00574561e+03\n",
            " 1.55108280e+01 7.59108276e+01 1.71974540e-01 2.03821689e-01\n",
            " 6.24203801e-01]\n"
          ],
          "name": "stdout"
        }
      ]
    },
    {
      "cell_type": "code",
      "metadata": {
        "colab": {
          "base_uri": "https://localhost:8080/"
        },
        "id": "sYy2Pdtqporb",
        "outputId": "0ba6f153-c822-4367-8edf-5f867e60bd66"
      },
      "source": [
        "# eg normalization\n",
        "first_row = X_train[:1]\n",
        "print('ROW before normalization \\n', first_row.values)\n",
        "print('ROW after normalization \\n', normalizer(first_row).numpy())"
      ],
      "execution_count": 15,
      "outputs": [
        {
          "output_type": "stream",
          "text": [
            "ROW before normalization \n",
            " [[4.000e+00 9.600e+01 6.900e+01 2.189e+03 1.800e+01 7.200e+01 1.000e+00\n",
            "  0.000e+00 0.000e+00]]\n",
            "ROW after normalization \n",
            " [[-0.8871564  -0.95789564 -0.9342477  -0.9522599   0.8892784  -1.0618277\n",
            "   2.1942682  -0.5059645  -1.2888044 ]]\n"
          ],
          "name": "stdout"
        }
      ]
    },
    {
      "cell_type": "markdown",
      "metadata": {
        "id": "F232CGeqszl-"
      },
      "source": [
        "## Linear Regression"
      ]
    },
    {
      "cell_type": "markdown",
      "metadata": {
        "id": "AVcxLsl1s_yS"
      },
      "source": [
        "Before building a DNN model, start with a linear regression.\n",
        "\n",
        "### Single Variable\n",
        "Start with a single-variable linear regression, to predict MPG from Horsepower.\n",
        "\n",
        "Training a model with `tf.keras` typically starts by defining the model architecture.\n",
        "\n",
        "In this case use a ` keras.Sequential model`. This model represents a sequence of steps. In this case there are two steps:\n",
        "\n",
        "* Normalize the input horsepower.\n",
        "* Apply a linear transformation () to produce 1 output using `layers.Dense`.\n",
        "\n"
      ]
    },
    {
      "cell_type": "code",
      "metadata": {
        "id": "mxnIYWORszRf"
      },
      "source": [
        "horse_power = np.array(X_train['Horsepower'])"
      ],
      "execution_count": 16,
      "outputs": []
    },
    {
      "cell_type": "code",
      "metadata": {
        "id": "WVXIp5MMqKxT"
      },
      "source": [
        "horse_power_normalizer = tf.keras.layers.experimental.preprocessing.Normalization()\n",
        "horse_power_normalizer.adapt(horse_power)"
      ],
      "execution_count": 17,
      "outputs": []
    },
    {
      "cell_type": "markdown",
      "metadata": {
        "id": "rQPylXIByCLs"
      },
      "source": [
        "#### Model"
      ]
    },
    {
      "cell_type": "code",
      "metadata": {
        "id": "WxgRe7Hjtp0N"
      },
      "source": [
        "horse_power_model = tf.keras.Sequential([\n",
        "                                         horse_power_normalizer,\n",
        "                                         tf.keras.layers.Dense(1)\n",
        "])"
      ],
      "execution_count": 18,
      "outputs": []
    },
    {
      "cell_type": "code",
      "metadata": {
        "colab": {
          "base_uri": "https://localhost:8080/"
        },
        "id": "WMvNTMMjuIfF",
        "outputId": "3db2a18e-4ad1-4032-a601-c713f58f9b27"
      },
      "source": [
        "horse_power_model.summary()"
      ],
      "execution_count": 19,
      "outputs": [
        {
          "output_type": "stream",
          "text": [
            "Model: \"sequential\"\n",
            "_________________________________________________________________\n",
            "Layer (type)                 Output Shape              Param #   \n",
            "=================================================================\n",
            "normalization_1 (Normalizati (None, 1)                 3         \n",
            "_________________________________________________________________\n",
            "dense (Dense)                (None, 1)                 2         \n",
            "=================================================================\n",
            "Total params: 5\n",
            "Trainable params: 2\n",
            "Non-trainable params: 3\n",
            "_________________________________________________________________\n"
          ],
          "name": "stdout"
        }
      ]
    },
    {
      "cell_type": "markdown",
      "metadata": {
        "id": "TJvwygp6x_Ij"
      },
      "source": [
        "#### Compile the model"
      ]
    },
    {
      "cell_type": "code",
      "metadata": {
        "id": "bDTtWKVpulR1"
      },
      "source": [
        "horse_power_model.compile(optimizer=tf.keras.optimizers.Adam(learning_rate=0.1),\n",
        "                          loss = 'mae',\n",
        "                          metrics=['mae'])"
      ],
      "execution_count": 20,
      "outputs": []
    },
    {
      "cell_type": "markdown",
      "metadata": {
        "id": "3XJnlTbOx7ZG"
      },
      "source": [
        "#### Early stopping callback"
      ]
    },
    {
      "cell_type": "code",
      "metadata": {
        "id": "8GOawS-yvN5w"
      },
      "source": [
        "early_stopping = tf.keras.callbacks.EarlyStopping(monitor='val_loss', patience=3, restore_best_weights=True)"
      ],
      "execution_count": 21,
      "outputs": []
    },
    {
      "cell_type": "markdown",
      "metadata": {
        "id": "5kyGuud9x5T5"
      },
      "source": [
        "#### Training"
      ]
    },
    {
      "cell_type": "code",
      "metadata": {
        "colab": {
          "base_uri": "https://localhost:8080/"
        },
        "id": "LTZbSXCFvjRD",
        "outputId": "a6947db9-bddd-4db0-ca17-aea35dddc872"
      },
      "source": [
        "horse_power_history = horse_power_model.fit(X_train['Horsepower'], y_train, validation_split=0.2, epochs=100, callbacks=[early_stopping])"
      ],
      "execution_count": 22,
      "outputs": [
        {
          "output_type": "stream",
          "text": [
            "Epoch 1/100\n",
            "8/8 [==============================] - 1s 30ms/step - loss: 23.0929 - mae: 23.0929 - val_loss: 21.3014 - val_mae: 21.3014\n",
            "Epoch 2/100\n",
            "8/8 [==============================] - 0s 6ms/step - loss: 22.2714 - mae: 22.2714 - val_loss: 20.5272 - val_mae: 20.5272\n",
            "Epoch 3/100\n",
            "8/8 [==============================] - 0s 4ms/step - loss: 21.4669 - mae: 21.4669 - val_loss: 19.7459 - val_mae: 19.7459\n",
            "Epoch 4/100\n",
            "8/8 [==============================] - 0s 5ms/step - loss: 20.6588 - mae: 20.6588 - val_loss: 18.9708 - val_mae: 18.9708\n",
            "Epoch 5/100\n",
            "8/8 [==============================] - 0s 5ms/step - loss: 19.8571 - mae: 19.8571 - val_loss: 18.2028 - val_mae: 18.2028\n",
            "Epoch 6/100\n",
            "8/8 [==============================] - 0s 7ms/step - loss: 19.0463 - mae: 19.0463 - val_loss: 17.4269 - val_mae: 17.4269\n",
            "Epoch 7/100\n",
            "8/8 [==============================] - 0s 4ms/step - loss: 18.2406 - mae: 18.2406 - val_loss: 16.6558 - val_mae: 16.6558\n",
            "Epoch 8/100\n",
            "8/8 [==============================] - 0s 6ms/step - loss: 17.4359 - mae: 17.4359 - val_loss: 15.8886 - val_mae: 15.8886\n",
            "Epoch 9/100\n",
            "8/8 [==============================] - 0s 6ms/step - loss: 16.6290 - mae: 16.6290 - val_loss: 15.1094 - val_mae: 15.1094\n",
            "Epoch 10/100\n",
            "8/8 [==============================] - 0s 7ms/step - loss: 15.8238 - mae: 15.8238 - val_loss: 14.3337 - val_mae: 14.3337\n",
            "Epoch 11/100\n",
            "8/8 [==============================] - 0s 8ms/step - loss: 15.0160 - mae: 15.0160 - val_loss: 13.5565 - val_mae: 13.5565\n",
            "Epoch 12/100\n",
            "8/8 [==============================] - 0s 5ms/step - loss: 14.2105 - mae: 14.2105 - val_loss: 12.7796 - val_mae: 12.7796\n",
            "Epoch 13/100\n",
            "8/8 [==============================] - 0s 5ms/step - loss: 13.4037 - mae: 13.4037 - val_loss: 12.0027 - val_mae: 12.0027\n",
            "Epoch 14/100\n",
            "8/8 [==============================] - 0s 7ms/step - loss: 12.5974 - mae: 12.5974 - val_loss: 11.2207 - val_mae: 11.2207\n",
            "Epoch 15/100\n",
            "8/8 [==============================] - 0s 6ms/step - loss: 11.7936 - mae: 11.7936 - val_loss: 10.4469 - val_mae: 10.4469\n",
            "Epoch 16/100\n",
            "8/8 [==============================] - 0s 6ms/step - loss: 10.9894 - mae: 10.9894 - val_loss: 9.6751 - val_mae: 9.6751\n",
            "Epoch 17/100\n",
            "8/8 [==============================] - 0s 6ms/step - loss: 10.1863 - mae: 10.1863 - val_loss: 8.8954 - val_mae: 8.8954\n",
            "Epoch 18/100\n",
            "8/8 [==============================] - 0s 6ms/step - loss: 9.4043 - mae: 9.4043 - val_loss: 8.1218 - val_mae: 8.1218\n",
            "Epoch 19/100\n",
            "8/8 [==============================] - 0s 5ms/step - loss: 8.6250 - mae: 8.6250 - val_loss: 7.3542 - val_mae: 7.3542\n",
            "Epoch 20/100\n",
            "8/8 [==============================] - 0s 5ms/step - loss: 7.8729 - mae: 7.8729 - val_loss: 6.6176 - val_mae: 6.6176\n",
            "Epoch 21/100\n",
            "8/8 [==============================] - 0s 5ms/step - loss: 7.1656 - mae: 7.1656 - val_loss: 5.9691 - val_mae: 5.9691\n",
            "Epoch 22/100\n",
            "8/8 [==============================] - 0s 5ms/step - loss: 6.5226 - mae: 6.5226 - val_loss: 5.4076 - val_mae: 5.4076\n",
            "Epoch 23/100\n",
            "8/8 [==============================] - 0s 5ms/step - loss: 5.9237 - mae: 5.9237 - val_loss: 4.9762 - val_mae: 4.9762\n",
            "Epoch 24/100\n",
            "8/8 [==============================] - 0s 6ms/step - loss: 5.3971 - mae: 5.3971 - val_loss: 4.6429 - val_mae: 4.6429\n",
            "Epoch 25/100\n",
            "8/8 [==============================] - 0s 5ms/step - loss: 5.0093 - mae: 5.0093 - val_loss: 4.3622 - val_mae: 4.3622\n",
            "Epoch 26/100\n",
            "8/8 [==============================] - 0s 6ms/step - loss: 4.7369 - mae: 4.7369 - val_loss: 4.1135 - val_mae: 4.1135\n",
            "Epoch 27/100\n",
            "8/8 [==============================] - 0s 7ms/step - loss: 4.5104 - mae: 4.5104 - val_loss: 3.9296 - val_mae: 3.9296\n",
            "Epoch 28/100\n",
            "8/8 [==============================] - 0s 5ms/step - loss: 4.3510 - mae: 4.3510 - val_loss: 3.7831 - val_mae: 3.7831\n",
            "Epoch 29/100\n",
            "8/8 [==============================] - 0s 8ms/step - loss: 4.2218 - mae: 4.2218 - val_loss: 3.6716 - val_mae: 3.6716\n",
            "Epoch 30/100\n",
            "8/8 [==============================] - 0s 6ms/step - loss: 4.1411 - mae: 4.1411 - val_loss: 3.5692 - val_mae: 3.5692\n",
            "Epoch 31/100\n",
            "8/8 [==============================] - 0s 7ms/step - loss: 4.0713 - mae: 4.0713 - val_loss: 3.4893 - val_mae: 3.4893\n",
            "Epoch 32/100\n",
            "8/8 [==============================] - 0s 4ms/step - loss: 4.0195 - mae: 4.0195 - val_loss: 3.4519 - val_mae: 3.4519\n",
            "Epoch 33/100\n",
            "8/8 [==============================] - 0s 4ms/step - loss: 3.9917 - mae: 3.9917 - val_loss: 3.4167 - val_mae: 3.4167\n",
            "Epoch 34/100\n",
            "8/8 [==============================] - 0s 5ms/step - loss: 3.9725 - mae: 3.9725 - val_loss: 3.3897 - val_mae: 3.3897\n",
            "Epoch 35/100\n",
            "8/8 [==============================] - 0s 5ms/step - loss: 3.9574 - mae: 3.9574 - val_loss: 3.3887 - val_mae: 3.3887\n",
            "Epoch 36/100\n",
            "8/8 [==============================] - 0s 5ms/step - loss: 3.9424 - mae: 3.9424 - val_loss: 3.3687 - val_mae: 3.3687\n",
            "Epoch 37/100\n",
            "8/8 [==============================] - 0s 5ms/step - loss: 3.9335 - mae: 3.9335 - val_loss: 3.3738 - val_mae: 3.3738\n",
            "Epoch 38/100\n",
            "8/8 [==============================] - 0s 8ms/step - loss: 3.9268 - mae: 3.9268 - val_loss: 3.3670 - val_mae: 3.3670\n",
            "Epoch 39/100\n",
            "8/8 [==============================] - 0s 6ms/step - loss: 3.9250 - mae: 3.9250 - val_loss: 3.3704 - val_mae: 3.3704\n",
            "Epoch 40/100\n",
            "8/8 [==============================] - 0s 5ms/step - loss: 3.9295 - mae: 3.9295 - val_loss: 3.3271 - val_mae: 3.3271\n",
            "Epoch 41/100\n",
            "8/8 [==============================] - 0s 6ms/step - loss: 3.9139 - mae: 3.9139 - val_loss: 3.3375 - val_mae: 3.3375\n",
            "Epoch 42/100\n",
            "8/8 [==============================] - 0s 5ms/step - loss: 3.9180 - mae: 3.9180 - val_loss: 3.3590 - val_mae: 3.3590\n",
            "Epoch 43/100\n",
            "8/8 [==============================] - 0s 6ms/step - loss: 3.9133 - mae: 3.9133 - val_loss: 3.3231 - val_mae: 3.3231\n",
            "Epoch 44/100\n",
            "8/8 [==============================] - 0s 5ms/step - loss: 3.9103 - mae: 3.9103 - val_loss: 3.3300 - val_mae: 3.3300\n",
            "Epoch 45/100\n",
            "8/8 [==============================] - 0s 5ms/step - loss: 3.9070 - mae: 3.9070 - val_loss: 3.3247 - val_mae: 3.3247\n",
            "Epoch 46/100\n",
            "8/8 [==============================] - 0s 5ms/step - loss: 3.9106 - mae: 3.9106 - val_loss: 3.3140 - val_mae: 3.3140\n",
            "Epoch 47/100\n",
            "8/8 [==============================] - 0s 7ms/step - loss: 3.9062 - mae: 3.9062 - val_loss: 3.3156 - val_mae: 3.3156\n",
            "Epoch 48/100\n",
            "8/8 [==============================] - 0s 6ms/step - loss: 3.9058 - mae: 3.9058 - val_loss: 3.3289 - val_mae: 3.3289\n",
            "Epoch 49/100\n",
            "8/8 [==============================] - 0s 7ms/step - loss: 3.9060 - mae: 3.9060 - val_loss: 3.3250 - val_mae: 3.3250\n"
          ],
          "name": "stdout"
        }
      ]
    },
    {
      "cell_type": "code",
      "metadata": {
        "colab": {
          "base_uri": "https://localhost:8080/",
          "height": 265
        },
        "id": "BS8W_SbQwSrV",
        "outputId": "01e92dff-7ba7-4df7-d382-c0108dc2863b"
      },
      "source": [
        "plt.plot(horse_power_history.epoch, horse_power_history.history['loss'], label='Loss')\n",
        "plt.plot(horse_power_history.epoch, horse_power_history.history['val_loss'], label='Validation Loss')\n",
        "plt.legend()\n",
        "plt.show()"
      ],
      "execution_count": 23,
      "outputs": [
        {
          "output_type": "display_data",
          "data": {
            "image/png": "[encoded data removed]",
            "text/plain": [
              "<Figure size 432x288 with 1 Axes>"
            ]
          },
          "metadata": {
            "tags": [],
            "needs_background": "light"
          }
        }
      ]
    },
    {
      "cell_type": "markdown",
      "metadata": {
        "id": "VTh8Adegx0ZK"
      },
      "source": [
        "#### Evaluation"
      ]
    },
    {
      "cell_type": "code",
      "metadata": {
        "colab": {
          "base_uri": "https://localhost:8080/"
        },
        "id": "IuOQtvHpwg7O",
        "outputId": "9a43bf35-5960-42e5-dae8-6405e19746e5"
      },
      "source": [
        "# evalaution\n",
        "loss, mae = horse_power_model.evaluate(X_test['Horsepower'], y_test)\n",
        "print('Loss',loss)\n",
        "print('MAE',mae)"
      ],
      "execution_count": 24,
      "outputs": [
        {
          "output_type": "stream",
          "text": [
            "3/3 [==============================] - 0s 5ms/step - loss: 3.9574 - mae: 3.9574\n",
            "Loss 3.9573755264282227\n",
            "MAE 3.9573755264282227\n"
          ],
          "name": "stdout"
        }
      ]
    },
    {
      "cell_type": "markdown",
      "metadata": {
        "id": "SzGLcb89zgZo"
      },
      "source": [
        "#### Plots"
      ]
    },
    {
      "cell_type": "code",
      "metadata": {
        "colab": {
          "base_uri": "https://localhost:8080/",
          "height": 295
        },
        "id": "Zq2xk4pHxt9D",
        "outputId": "5e282781-fb4c-4038-80d8-a80ee5713368"
      },
      "source": [
        "plt.scatter(X_train['Horsepower'], y_train);\n",
        "plt.plot(X_train['Horsepower'], horse_power_model.predict(X_train['Horsepower']), color='red');\n",
        "plt.xlabel('Horserpower')\n",
        "plt.ylabel('MPG')\n",
        "plt.title('Linear Regression - Single Variable')\n",
        "plt.show()"
      ],
      "execution_count": 25,
      "outputs": [
        {
          "output_type": "display_data",
          "data": {
            "image/png": "[encoded data removed]",
            "text/plain": [
              "<Figure size 432x288 with 1 Axes>"
            ]
          },
          "metadata": {
            "tags": [],
            "needs_background": "light"
          }
        }
      ]
    },
    {
      "cell_type": "markdown",
      "metadata": {
        "id": "eifZ0nNF0OUx"
      },
      "source": [
        "### Multiple Variable\n",
        "You can use an almost identical setup to make predictions based on multiple inputs. "
      ]
    },
    {
      "cell_type": "markdown",
      "metadata": {
        "id": "juaGMA2T3sKM"
      },
      "source": [
        "#### Model building and training"
      ]
    },
    {
      "cell_type": "code",
      "metadata": {
        "colab": {
          "base_uri": "https://localhost:8080/"
        },
        "id": "vweHYbV9yvND",
        "outputId": "c20f81c1-df75-4983-cf2c-1df55c7f46fd"
      },
      "source": [
        "multi_var_reg_model = tf.keras.Sequential([\n",
        "                                           normalizer,\n",
        "                                           tf.keras.layers.Dense(1)\n",
        "])\n",
        "\n",
        "# compile the model\n",
        "multi_var_reg_model.compile(optimizer=tf.keras.optimizers.Adam(0.1),\n",
        "                            loss='mae',\n",
        "                            metrics=['mae'])\n",
        "\n",
        "# training\n",
        "multi_var_history = multi_var_reg_model.fit(X_train, y_train, epochs=100, validation_split=0.2, callbacks=[early_stopping])"
      ],
      "execution_count": 26,
      "outputs": [
        {
          "output_type": "stream",
          "text": [
            "Epoch 1/100\n",
            "8/8 [==============================] - 1s 26ms/step - loss: 23.0933 - mae: 23.0933 - val_loss: 21.7328 - val_mae: 21.7328\n",
            "Epoch 2/100\n",
            "8/8 [==============================] - 0s 5ms/step - loss: 22.1623 - mae: 22.1623 - val_loss: 21.0585 - val_mae: 21.0585\n",
            "Epoch 3/100\n",
            "8/8 [==============================] - 0s 5ms/step - loss: 21.3270 - mae: 21.3270 - val_loss: 20.4859 - val_mae: 20.4859\n",
            "Epoch 4/100\n",
            "8/8 [==============================] - 0s 6ms/step - loss: 20.4625 - mae: 20.4625 - val_loss: 19.9101 - val_mae: 19.9101\n",
            "Epoch 5/100\n",
            "8/8 [==============================] - 0s 5ms/step - loss: 19.6055 - mae: 19.6055 - val_loss: 19.3352 - val_mae: 19.3352\n",
            "Epoch 6/100\n",
            "8/8 [==============================] - 0s 5ms/step - loss: 18.7461 - mae: 18.7461 - val_loss: 18.7774 - val_mae: 18.7774\n",
            "Epoch 7/100\n",
            "8/8 [==============================] - 0s 6ms/step - loss: 17.9050 - mae: 17.9050 - val_loss: 18.2584 - val_mae: 18.2584\n",
            "Epoch 8/100\n",
            "8/8 [==============================] - 0s 7ms/step - loss: 17.0268 - mae: 17.0268 - val_loss: 17.6907 - val_mae: 17.6907\n",
            "Epoch 9/100\n",
            "8/8 [==============================] - 0s 5ms/step - loss: 16.1564 - mae: 16.1564 - val_loss: 17.0872 - val_mae: 17.0872\n",
            "Epoch 10/100\n",
            "8/8 [==============================] - 0s 5ms/step - loss: 15.3190 - mae: 15.3190 - val_loss: 16.5886 - val_mae: 16.5886\n",
            "Epoch 11/100\n",
            "8/8 [==============================] - 0s 5ms/step - loss: 14.4861 - mae: 14.4861 - val_loss: 16.1027 - val_mae: 16.1027\n",
            "Epoch 12/100\n",
            "8/8 [==============================] - 0s 6ms/step - loss: 13.7138 - mae: 13.7138 - val_loss: 15.4509 - val_mae: 15.4509\n",
            "Epoch 13/100\n",
            "8/8 [==============================] - 0s 5ms/step - loss: 12.9537 - mae: 12.9537 - val_loss: 14.6989 - val_mae: 14.6989\n",
            "Epoch 14/100\n",
            "8/8 [==============================] - 0s 6ms/step - loss: 12.2259 - mae: 12.2259 - val_loss: 14.0281 - val_mae: 14.0281\n",
            "Epoch 15/100\n",
            "8/8 [==============================] - 0s 6ms/step - loss: 11.4602 - mae: 11.4602 - val_loss: 13.1066 - val_mae: 13.1066\n",
            "Epoch 16/100\n",
            "8/8 [==============================] - 0s 5ms/step - loss: 10.7540 - mae: 10.7540 - val_loss: 12.1057 - val_mae: 12.1057\n",
            "Epoch 17/100\n",
            "8/8 [==============================] - 0s 9ms/step - loss: 10.0208 - mae: 10.0208 - val_loss: 11.2232 - val_mae: 11.2232\n",
            "Epoch 18/100\n",
            "8/8 [==============================] - 0s 7ms/step - loss: 9.2734 - mae: 9.2734 - val_loss: 10.3902 - val_mae: 10.3902\n",
            "Epoch 19/100\n",
            "8/8 [==============================] - 0s 6ms/step - loss: 8.5441 - mae: 8.5441 - val_loss: 9.5804 - val_mae: 9.5804\n",
            "Epoch 20/100\n",
            "8/8 [==============================] - 0s 6ms/step - loss: 7.8182 - mae: 7.8182 - val_loss: 8.6258 - val_mae: 8.6258\n",
            "Epoch 21/100\n",
            "8/8 [==============================] - 0s 5ms/step - loss: 7.1716 - mae: 7.1716 - val_loss: 7.5979 - val_mae: 7.5979\n",
            "Epoch 22/100\n",
            "8/8 [==============================] - 0s 8ms/step - loss: 6.5056 - mae: 6.5056 - val_loss: 6.6857 - val_mae: 6.6857\n",
            "Epoch 23/100\n",
            "8/8 [==============================] - 0s 5ms/step - loss: 5.8022 - mae: 5.8022 - val_loss: 5.9903 - val_mae: 5.9903\n",
            "Epoch 24/100\n",
            "8/8 [==============================] - 0s 6ms/step - loss: 5.1790 - mae: 5.1790 - val_loss: 5.2891 - val_mae: 5.2891\n",
            "Epoch 25/100\n",
            "8/8 [==============================] - 0s 5ms/step - loss: 4.5931 - mae: 4.5931 - val_loss: 4.5577 - val_mae: 4.5577\n",
            "Epoch 26/100\n",
            "8/8 [==============================] - 0s 5ms/step - loss: 4.0171 - mae: 4.0171 - val_loss: 3.7930 - val_mae: 3.7930\n",
            "Epoch 27/100\n",
            "8/8 [==============================] - 0s 6ms/step - loss: 3.5898 - mae: 3.5898 - val_loss: 3.1943 - val_mae: 3.1943\n",
            "Epoch 28/100\n",
            "8/8 [==============================] - 0s 6ms/step - loss: 3.1841 - mae: 3.1841 - val_loss: 2.8856 - val_mae: 2.8856\n",
            "Epoch 29/100\n",
            "8/8 [==============================] - 0s 8ms/step - loss: 2.9230 - mae: 2.9230 - val_loss: 2.7680 - val_mae: 2.7680\n",
            "Epoch 30/100\n",
            "8/8 [==============================] - 0s 7ms/step - loss: 2.7249 - mae: 2.7249 - val_loss: 2.5352 - val_mae: 2.5352\n",
            "Epoch 31/100\n",
            "8/8 [==============================] - 0s 5ms/step - loss: 2.6208 - mae: 2.6208 - val_loss: 2.4596 - val_mae: 2.4596\n",
            "Epoch 32/100\n",
            "8/8 [==============================] - 0s 7ms/step - loss: 2.5382 - mae: 2.5382 - val_loss: 2.4024 - val_mae: 2.4024\n",
            "Epoch 33/100\n",
            "8/8 [==============================] - 0s 5ms/step - loss: 2.5086 - mae: 2.5086 - val_loss: 2.3928 - val_mae: 2.3928\n",
            "Epoch 34/100\n",
            "8/8 [==============================] - 0s 5ms/step - loss: 2.5000 - mae: 2.5000 - val_loss: 2.3803 - val_mae: 2.3803\n",
            "Epoch 35/100\n",
            "8/8 [==============================] - 0s 6ms/step - loss: 2.4991 - mae: 2.4991 - val_loss: 2.3790 - val_mae: 2.3790\n",
            "Epoch 36/100\n",
            "8/8 [==============================] - 0s 5ms/step - loss: 2.4899 - mae: 2.4899 - val_loss: 2.3586 - val_mae: 2.3586\n",
            "Epoch 37/100\n",
            "8/8 [==============================] - 0s 5ms/step - loss: 2.4943 - mae: 2.4943 - val_loss: 2.3561 - val_mae: 2.3561\n",
            "Epoch 38/100\n",
            "8/8 [==============================] - 0s 5ms/step - loss: 2.5067 - mae: 2.5067 - val_loss: 2.3593 - val_mae: 2.3593\n",
            "Epoch 39/100\n",
            "8/8 [==============================] - 0s 5ms/step - loss: 2.4944 - mae: 2.4944 - val_loss: 2.4018 - val_mae: 2.4018\n",
            "Epoch 40/100\n",
            "8/8 [==============================] - 0s 6ms/step - loss: 2.4787 - mae: 2.4787 - val_loss: 2.3582 - val_mae: 2.3582\n"
          ],
          "name": "stdout"
        }
      ]
    },
    {
      "cell_type": "markdown",
      "metadata": {
        "id": "d1sDmIZ75E0c"
      },
      "source": [
        "#### Model Evaluation"
      ]
    },
    {
      "cell_type": "code",
      "metadata": {
        "colab": {
          "base_uri": "https://localhost:8080/"
        },
        "id": "IFnB8M1038B5",
        "outputId": "94088451-66a7-42b1-8e83-f991813dd455"
      },
      "source": [
        "loss, mae = multi_var_reg_model.evaluate(X_test, y_test)\n",
        "print('Loss',loss)\n",
        "print('MAE',mae)"
      ],
      "execution_count": 27,
      "outputs": [
        {
          "output_type": "stream",
          "text": [
            "3/3 [==============================] - 0s 4ms/step - loss: 2.5969 - mae: 2.5969\n",
            "Loss 2.5968878269195557\n",
            "MAE 2.5968878269195557\n"
          ],
          "name": "stdout"
        }
      ]
    },
    {
      "cell_type": "markdown",
      "metadata": {
        "id": "zdzksb0d5cnL"
      },
      "source": [
        "#### Plots"
      ]
    },
    {
      "cell_type": "code",
      "metadata": {
        "colab": {
          "base_uri": "https://localhost:8080/",
          "height": 265
        },
        "id": "9Rz6pS7t4FXa",
        "outputId": "5e834360-ba6d-4fc2-db66-1cd2417b5c8b"
      },
      "source": [
        "plt.plot(multi_var_history.epoch, multi_var_history.history['loss'], label='Loss')\n",
        "plt.plot(multi_var_history.epoch, multi_var_history.history['val_loss'], label='Validation Loss')\n",
        "plt.legend()\n",
        "plt.show()"
      ],
      "execution_count": 28,
      "outputs": [
        {
          "output_type": "display_data",
          "data": {
            "image/png": "[encoded data removed]",
            "text/plain": [
              "<Figure size 432x288 with 1 Axes>"
            ]
          },
          "metadata": {
            "tags": [],
            "needs_background": "light"
          }
        }
      ]
    },
    {
      "cell_type": "markdown",
      "metadata": {
        "id": "MlWVytHI8y5C"
      },
      "source": [
        "\n",
        "## A DNN regression\n",
        "The previous section implemented linear models for single and multiple inputs.\n",
        "\n",
        "This section implements single-input and multiple-input DNN models. The code is basically the same except the model is expanded to include some \"hidden\" non-linear layers. The name \"hidden\" here just means not directly connected to the inputs or outputs.\n",
        "\n",
        "These models will contain a few more layers than the linear model:\n",
        "\n",
        "* The normalization layer.\n",
        "* Two hidden, nonlinear, Dense layers using the relu nonlinearity.\n",
        "* A linear single-output layer.\n",
        "\n",
        "Both will use the same training procedure so the compile method is included in the build_and_compile_model function below.\n"
      ]
    },
    {
      "cell_type": "markdown",
      "metadata": {
        "id": "jqcTG3ie9JCG"
      },
      "source": [
        "### Single Variable\n",
        "\n",
        "Model architecture:\n",
        "\n",
        "* The normalization layer.\n",
        "* Two hidden, nonlinear, Dense layers using the relu nonlinearity.\n",
        "* A linear single-output layer."
      ]
    },
    {
      "cell_type": "markdown",
      "metadata": {
        "id": "PPlaVEcD-nB4"
      },
      "source": [
        "#### Model building and training"
      ]
    },
    {
      "cell_type": "code",
      "metadata": {
        "colab": {
          "base_uri": "https://localhost:8080/"
        },
        "id": "U3cZ2TqR6bPz",
        "outputId": "bc0e9638-6dcd-419f-f89b-a4691c7ccc48"
      },
      "source": [
        "dnn_horse_power_model = tf.keras.Sequential([\n",
        "                                             horse_power_normalizer,\n",
        "                                             tf.keras.layers.Dense(64, activation='relu'),\n",
        "                                             tf.keras.layers.Dense(64, activation='relu'),\n",
        "                                             tf.keras.layers.Dense(1)\n",
        "])\n",
        "\n",
        "# compile\n",
        "dnn_horse_power_model.compile(optimizer='adam', loss='mae', metrics=['mae'])\n",
        "\n",
        "# training\n",
        "dnn_horse_power_history = dnn_horse_power_model.fit(X_train['Horsepower'], y_train, epochs=100, validation_split=0.2, callbacks=[early_stopping])"
      ],
      "execution_count": 29,
      "outputs": [
        {
          "output_type": "stream",
          "text": [
            "Epoch 1/100\n",
            "8/8 [==============================] - 1s 33ms/step - loss: 23.2827 - mae: 23.2827 - val_loss: 21.8583 - val_mae: 21.8583\n",
            "Epoch 2/100\n",
            "8/8 [==============================] - 0s 7ms/step - loss: 23.0442 - mae: 23.0442 - val_loss: 21.6063 - val_mae: 21.6063\n",
            "Epoch 3/100\n",
            "8/8 [==============================] - 0s 7ms/step - loss: 22.7799 - mae: 22.7799 - val_loss: 21.3180 - val_mae: 21.3180\n",
            "Epoch 4/100\n",
            "8/8 [==============================] - 0s 7ms/step - loss: 22.4670 - mae: 22.4670 - val_loss: 20.9487 - val_mae: 20.9487\n",
            "Epoch 5/100\n",
            "8/8 [==============================] - 0s 7ms/step - loss: 22.0543 - mae: 22.0543 - val_loss: 20.4527 - val_mae: 20.4527\n",
            "Epoch 6/100\n",
            "8/8 [==============================] - 0s 6ms/step - loss: 21.5008 - mae: 21.5008 - val_loss: 19.7815 - val_mae: 19.7815\n",
            "Epoch 7/100\n",
            "8/8 [==============================] - 0s 6ms/step - loss: 20.7538 - mae: 20.7538 - val_loss: 18.9199 - val_mae: 18.9199\n",
            "Epoch 8/100\n",
            "8/8 [==============================] - 0s 6ms/step - loss: 19.8250 - mae: 19.8250 - val_loss: 17.8306 - val_mae: 17.8306\n",
            "Epoch 9/100\n",
            "8/8 [==============================] - 0s 5ms/step - loss: 18.6740 - mae: 18.6740 - val_loss: 16.6392 - val_mae: 16.6392\n",
            "Epoch 10/100\n",
            "8/8 [==============================] - 0s 6ms/step - loss: 17.3899 - mae: 17.3899 - val_loss: 15.3631 - val_mae: 15.3631\n",
            "Epoch 11/100\n",
            "8/8 [==============================] - 0s 6ms/step - loss: 16.0068 - mae: 16.0068 - val_loss: 13.9576 - val_mae: 13.9576\n",
            "Epoch 12/100\n",
            "8/8 [==============================] - 0s 7ms/step - loss: 14.4325 - mae: 14.4325 - val_loss: 12.4828 - val_mae: 12.4828\n",
            "Epoch 13/100\n",
            "8/8 [==============================] - 0s 5ms/step - loss: 12.6951 - mae: 12.6951 - val_loss: 10.7699 - val_mae: 10.7699\n",
            "Epoch 14/100\n",
            "8/8 [==============================] - 0s 6ms/step - loss: 10.7462 - mae: 10.7462 - val_loss: 8.9004 - val_mae: 8.9004\n",
            "Epoch 15/100\n",
            "8/8 [==============================] - 0s 6ms/step - loss: 8.5680 - mae: 8.5680 - val_loss: 6.7498 - val_mae: 6.7498\n",
            "Epoch 16/100\n",
            "8/8 [==============================] - 0s 7ms/step - loss: 6.2616 - mae: 6.2616 - val_loss: 4.8719 - val_mae: 4.8719\n",
            "Epoch 17/100\n",
            "8/8 [==============================] - 0s 6ms/step - loss: 4.7089 - mae: 4.7089 - val_loss: 3.8312 - val_mae: 3.8312\n",
            "Epoch 18/100\n",
            "8/8 [==============================] - 0s 9ms/step - loss: 4.2779 - mae: 4.2779 - val_loss: 3.5910 - val_mae: 3.5910\n",
            "Epoch 19/100\n",
            "8/8 [==============================] - 0s 6ms/step - loss: 4.3062 - mae: 4.3062 - val_loss: 3.4677 - val_mae: 3.4677\n",
            "Epoch 20/100\n",
            "8/8 [==============================] - 0s 6ms/step - loss: 4.1404 - mae: 4.1404 - val_loss: 3.3831 - val_mae: 3.3831\n",
            "Epoch 21/100\n",
            "8/8 [==============================] - 0s 6ms/step - loss: 4.0466 - mae: 4.0466 - val_loss: 3.4520 - val_mae: 3.4520\n",
            "Epoch 22/100\n",
            "8/8 [==============================] - 0s 8ms/step - loss: 4.0034 - mae: 4.0034 - val_loss: 3.4572 - val_mae: 3.4572\n",
            "Epoch 23/100\n",
            "8/8 [==============================] - 0s 7ms/step - loss: 3.9634 - mae: 3.9634 - val_loss: 3.3630 - val_mae: 3.3630\n",
            "Epoch 24/100\n",
            "8/8 [==============================] - 0s 7ms/step - loss: 3.8902 - mae: 3.8902 - val_loss: 3.3482 - val_mae: 3.3482\n",
            "Epoch 25/100\n",
            "8/8 [==============================] - 0s 7ms/step - loss: 3.8473 - mae: 3.8473 - val_loss: 3.3229 - val_mae: 3.3229\n",
            "Epoch 26/100\n",
            "8/8 [==============================] - 0s 6ms/step - loss: 3.8108 - mae: 3.8108 - val_loss: 3.2962 - val_mae: 3.2962\n",
            "Epoch 27/100\n",
            "8/8 [==============================] - 0s 6ms/step - loss: 3.7699 - mae: 3.7699 - val_loss: 3.2803 - val_mae: 3.2803\n",
            "Epoch 28/100\n",
            "8/8 [==============================] - 0s 7ms/step - loss: 3.7313 - mae: 3.7313 - val_loss: 3.2594 - val_mae: 3.2594\n",
            "Epoch 29/100\n",
            "8/8 [==============================] - 0s 6ms/step - loss: 3.7034 - mae: 3.7034 - val_loss: 3.2387 - val_mae: 3.2387\n",
            "Epoch 30/100\n",
            "8/8 [==============================] - 0s 7ms/step - loss: 3.6768 - mae: 3.6768 - val_loss: 3.2133 - val_mae: 3.2133\n",
            "Epoch 31/100\n",
            "8/8 [==============================] - 0s 7ms/step - loss: 3.6516 - mae: 3.6516 - val_loss: 3.2059 - val_mae: 3.2059\n",
            "Epoch 32/100\n",
            "8/8 [==============================] - 0s 7ms/step - loss: 3.6292 - mae: 3.6292 - val_loss: 3.1952 - val_mae: 3.1952\n",
            "Epoch 33/100\n",
            "8/8 [==============================] - 0s 7ms/step - loss: 3.6106 - mae: 3.6106 - val_loss: 3.1600 - val_mae: 3.1600\n",
            "Epoch 34/100\n",
            "8/8 [==============================] - 0s 7ms/step - loss: 3.5916 - mae: 3.5916 - val_loss: 3.1602 - val_mae: 3.1602\n",
            "Epoch 35/100\n",
            "8/8 [==============================] - 0s 10ms/step - loss: 3.5724 - mae: 3.5724 - val_loss: 3.1769 - val_mae: 3.1769\n",
            "Epoch 36/100\n",
            "8/8 [==============================] - 0s 6ms/step - loss: 3.5596 - mae: 3.5596 - val_loss: 3.1522 - val_mae: 3.1522\n",
            "Epoch 37/100\n",
            "8/8 [==============================] - 0s 7ms/step - loss: 3.5511 - mae: 3.5511 - val_loss: 3.1326 - val_mae: 3.1326\n",
            "Epoch 38/100\n",
            "8/8 [==============================] - 0s 10ms/step - loss: 3.5275 - mae: 3.5275 - val_loss: 3.1016 - val_mae: 3.1016\n",
            "Epoch 39/100\n",
            "8/8 [==============================] - 0s 8ms/step - loss: 3.5161 - mae: 3.5161 - val_loss: 3.0739 - val_mae: 3.0739\n",
            "Epoch 40/100\n",
            "8/8 [==============================] - 0s 6ms/step - loss: 3.5042 - mae: 3.5042 - val_loss: 3.1016 - val_mae: 3.1016\n",
            "Epoch 41/100\n",
            "8/8 [==============================] - 0s 6ms/step - loss: 3.4911 - mae: 3.4911 - val_loss: 3.0880 - val_mae: 3.0880\n",
            "Epoch 42/100\n",
            "8/8 [==============================] - 0s 6ms/step - loss: 3.4826 - mae: 3.4826 - val_loss: 3.0309 - val_mae: 3.0309\n",
            "Epoch 43/100\n",
            "8/8 [==============================] - 0s 6ms/step - loss: 3.4663 - mae: 3.4663 - val_loss: 3.0275 - val_mae: 3.0275\n",
            "Epoch 44/100\n",
            "8/8 [==============================] - 0s 6ms/step - loss: 3.4520 - mae: 3.4520 - val_loss: 3.0443 - val_mae: 3.0443\n",
            "Epoch 45/100\n",
            "8/8 [==============================] - 0s 6ms/step - loss: 3.4437 - mae: 3.4437 - val_loss: 3.0378 - val_mae: 3.0378\n",
            "Epoch 46/100\n",
            "8/8 [==============================] - 0s 5ms/step - loss: 3.4218 - mae: 3.4218 - val_loss: 3.0064 - val_mae: 3.0064\n",
            "Epoch 47/100\n",
            "8/8 [==============================] - 0s 7ms/step - loss: 3.4211 - mae: 3.4211 - val_loss: 2.9580 - val_mae: 2.9580\n",
            "Epoch 48/100\n",
            "8/8 [==============================] - 0s 5ms/step - loss: 3.4091 - mae: 3.4091 - val_loss: 2.9505 - val_mae: 2.9505\n",
            "Epoch 49/100\n",
            "8/8 [==============================] - 0s 6ms/step - loss: 3.3966 - mae: 3.3966 - val_loss: 2.9622 - val_mae: 2.9622\n",
            "Epoch 50/100\n",
            "8/8 [==============================] - 0s 10ms/step - loss: 3.3921 - mae: 3.3921 - val_loss: 2.9609 - val_mae: 2.9609\n",
            "Epoch 51/100\n",
            "8/8 [==============================] - 0s 6ms/step - loss: 3.3926 - mae: 3.3926 - val_loss: 2.9544 - val_mae: 2.9544\n"
          ],
          "name": "stdout"
        }
      ]
    },
    {
      "cell_type": "markdown",
      "metadata": {
        "id": "E1YiOd1s-0KM"
      },
      "source": [
        "#### Model Evaluation"
      ]
    },
    {
      "cell_type": "code",
      "metadata": {
        "colab": {
          "base_uri": "https://localhost:8080/"
        },
        "id": "9SpiotOo-jjR",
        "outputId": "8581c698-fea1-4998-b506-a232d067d464"
      },
      "source": [
        "loss, mae = dnn_horse_power_model.evaluate(X_test['Horsepower'], y_test)\n",
        "print('Loss',loss)\n",
        "print('MAE',mae)"
      ],
      "execution_count": 30,
      "outputs": [
        {
          "output_type": "stream",
          "text": [
            "3/3 [==============================] - 0s 3ms/step - loss: 3.5341 - mae: 3.5341\n",
            "Loss 3.5340569019317627\n",
            "MAE 3.5340569019317627\n"
          ],
          "name": "stdout"
        }
      ]
    },
    {
      "cell_type": "markdown",
      "metadata": {
        "id": "UFZFBg6-_AyT"
      },
      "source": [
        "#### Plots"
      ]
    },
    {
      "cell_type": "code",
      "metadata": {
        "colab": {
          "base_uri": "https://localhost:8080/",
          "height": 265
        },
        "id": "eo4848BI-8A5",
        "outputId": "69c88974-b2f3-4c66-cb67-12ec10f3de92"
      },
      "source": [
        "plt.plot(dnn_horse_power_history.epoch, dnn_horse_power_history.history['loss'], label='Loss')\n",
        "plt.plot(dnn_horse_power_history.epoch, dnn_horse_power_history.history['val_loss'], label='Validation Loss')\n",
        "plt.legend()\n",
        "plt.show()"
      ],
      "execution_count": 31,
      "outputs": [
        {
          "output_type": "display_data",
          "data": {
            "image/png": "[encoded data removed]",
            "text/plain": [
              "<Figure size 432x288 with 1 Axes>"
            ]
          },
          "metadata": {
            "tags": [],
            "needs_background": "light"
          }
        }
      ]
    },
    {
      "cell_type": "code",
      "metadata": {
        "colab": {
          "base_uri": "https://localhost:8080/",
          "height": 295
        },
        "id": "rLd-YmVG_LL5",
        "outputId": "9020c44f-6de9-4f92-a45a-283cfe594106"
      },
      "source": [
        "x = np.linspace(0,250,251)\n",
        "y = dnn_horse_power_model.predict(x)\n",
        "\n",
        "plt.scatter(X_train['Horsepower'], y_train, label='data');\n",
        "plt.plot(x, y, color='green', label='regression-line')\n",
        "plt.scatter(X_train['Horsepower'], dnn_horse_power_model.predict(X_train['Horsepower']), color='red', label='prediction')\n",
        "plt.xlabel('Horserpower')\n",
        "plt.ylabel('MPG')\n",
        "plt.title('Linear Regression - Single Variable - DNN')\n",
        "plt.legend()\n",
        "plt.show()"
      ],
      "execution_count": 42,
      "outputs": [
        {
          "output_type": "display_data",
          "data": {
            "image/png": "[encoded data removed]",
            "text/plain": [
              "<Figure size 432x288 with 1 Axes>"
            ]
          },
          "metadata": {
            "tags": [],
            "needs_background": "light"
          }
        }
      ]
    },
    {
      "cell_type": "markdown",
      "metadata": {
        "id": "YYPUnM0L68IX"
      },
      "source": [
        "### Multi Variable\n"
      ]
    },
    {
      "cell_type": "markdown",
      "metadata": {
        "id": "SMtUDxTK7J5J"
      },
      "source": [
        "#### Model building and Training"
      ]
    },
    {
      "cell_type": "code",
      "metadata": {
        "id": "vmxrbNij_vhQ",
        "colab": {
          "base_uri": "https://localhost:8080/"
        },
        "outputId": "0e11895a-3edf-47d0-8340-22a98e5ef9a9"
      },
      "source": [
        "# model\n",
        "dnn_model = tf.keras.Sequential([\n",
        "                                 normalizer,\n",
        "                                 tf.keras.layers.Dense(64, activation='relu'),\n",
        "                                 tf.keras.layers.Dense(64, activation='relu'),\n",
        "                                 tf.keras.layers.Dense(1),\n",
        "])\n",
        "\n",
        "# compile and train\n",
        "dnn_model.compile(optimizer='adam', loss='mae', metrics=['mae'])\n",
        "\n",
        "# train\n",
        "dnn_history = dnn_model.fit(X_train, y_train, epochs=100, validation_split=0.2, callbacks=[early_stopping])"
      ],
      "execution_count": 50,
      "outputs": [
        {
          "output_type": "stream",
          "text": [
            "Epoch 1/100\n",
            "8/8 [==============================] - 1s 42ms/step - loss: 22.5823 - mae: 22.5823 - val_loss: 21.0051 - val_mae: 21.0051\n",
            "Epoch 2/100\n",
            "8/8 [==============================] - 0s 7ms/step - loss: 21.7877 - mae: 21.7877 - val_loss: 20.1606 - val_mae: 20.1606\n",
            "Epoch 3/100\n",
            "8/8 [==============================] - 0s 8ms/step - loss: 20.8502 - mae: 20.8502 - val_loss: 19.1434 - val_mae: 19.1434\n",
            "Epoch 4/100\n",
            "8/8 [==============================] - 0s 9ms/step - loss: 19.6730 - mae: 19.6730 - val_loss: 17.8158 - val_mae: 17.8158\n",
            "Epoch 5/100\n",
            "8/8 [==============================] - 0s 7ms/step - loss: 18.1218 - mae: 18.1218 - val_loss: 16.0555 - val_mae: 16.0555\n",
            "Epoch 6/100\n",
            "8/8 [==============================] - 0s 7ms/step - loss: 16.0281 - mae: 16.0281 - val_loss: 13.8310 - val_mae: 13.8310\n",
            "Epoch 7/100\n",
            "8/8 [==============================] - 0s 7ms/step - loss: 13.5849 - mae: 13.5849 - val_loss: 11.5776 - val_mae: 11.5776\n",
            "Epoch 8/100\n",
            "8/8 [==============================] - 0s 8ms/step - loss: 10.9907 - mae: 10.9907 - val_loss: 9.4834 - val_mae: 9.4834\n",
            "Epoch 9/100\n",
            "8/8 [==============================] - 0s 9ms/step - loss: 8.1949 - mae: 8.1949 - val_loss: 7.5173 - val_mae: 7.5173\n",
            "Epoch 10/100\n",
            "8/8 [==============================] - 0s 7ms/step - loss: 6.3001 - mae: 6.3001 - val_loss: 6.3196 - val_mae: 6.3196\n",
            "Epoch 11/100\n",
            "8/8 [==============================] - 0s 8ms/step - loss: 5.8029 - mae: 5.8029 - val_loss: 5.6205 - val_mae: 5.6205\n",
            "Epoch 12/100\n",
            "8/8 [==============================] - 0s 7ms/step - loss: 5.0339 - mae: 5.0339 - val_loss: 4.8688 - val_mae: 4.8688\n",
            "Epoch 13/100\n",
            "8/8 [==============================] - 0s 9ms/step - loss: 4.2867 - mae: 4.2867 - val_loss: 4.3870 - val_mae: 4.3870\n",
            "Epoch 14/100\n",
            "8/8 [==============================] - 0s 7ms/step - loss: 3.8072 - mae: 3.8072 - val_loss: 3.6458 - val_mae: 3.6458\n",
            "Epoch 15/100\n",
            "8/8 [==============================] - 0s 7ms/step - loss: 3.3688 - mae: 3.3688 - val_loss: 3.2067 - val_mae: 3.2067\n",
            "Epoch 16/100\n",
            "8/8 [==============================] - 0s 7ms/step - loss: 3.1430 - mae: 3.1430 - val_loss: 2.9462 - val_mae: 2.9462\n",
            "Epoch 17/100\n",
            "8/8 [==============================] - 0s 7ms/step - loss: 2.9678 - mae: 2.9678 - val_loss: 2.7960 - val_mae: 2.7960\n",
            "Epoch 18/100\n",
            "8/8 [==============================] - 0s 7ms/step - loss: 2.8275 - mae: 2.8275 - val_loss: 2.6280 - val_mae: 2.6280\n",
            "Epoch 19/100\n",
            "8/8 [==============================] - 0s 8ms/step - loss: 2.7155 - mae: 2.7155 - val_loss: 2.5028 - val_mae: 2.5028\n",
            "Epoch 20/100\n",
            "8/8 [==============================] - 0s 7ms/step - loss: 2.6278 - mae: 2.6278 - val_loss: 2.4782 - val_mae: 2.4782\n",
            "Epoch 21/100\n",
            "8/8 [==============================] - 0s 8ms/step - loss: 2.5174 - mae: 2.5174 - val_loss: 2.4236 - val_mae: 2.4236\n",
            "Epoch 22/100\n",
            "8/8 [==============================] - 0s 7ms/step - loss: 2.4467 - mae: 2.4467 - val_loss: 2.3697 - val_mae: 2.3697\n",
            "Epoch 23/100\n",
            "8/8 [==============================] - 0s 7ms/step - loss: 2.3907 - mae: 2.3907 - val_loss: 2.3746 - val_mae: 2.3746\n",
            "Epoch 24/100\n",
            "8/8 [==============================] - 0s 7ms/step - loss: 2.3425 - mae: 2.3425 - val_loss: 2.2824 - val_mae: 2.2824\n",
            "Epoch 25/100\n",
            "8/8 [==============================] - 0s 7ms/step - loss: 2.2954 - mae: 2.2954 - val_loss: 2.2569 - val_mae: 2.2569\n",
            "Epoch 26/100\n",
            "8/8 [==============================] - 0s 7ms/step - loss: 2.2472 - mae: 2.2472 - val_loss: 2.1985 - val_mae: 2.1985\n",
            "Epoch 27/100\n",
            "8/8 [==============================] - 0s 7ms/step - loss: 2.1976 - mae: 2.1976 - val_loss: 2.1562 - val_mae: 2.1562\n",
            "Epoch 28/100\n",
            "8/8 [==============================] - 0s 8ms/step - loss: 2.1487 - mae: 2.1487 - val_loss: 2.1424 - val_mae: 2.1424\n",
            "Epoch 29/100\n",
            "8/8 [==============================] - 0s 8ms/step - loss: 2.1238 - mae: 2.1238 - val_loss: 2.1175 - val_mae: 2.1175\n",
            "Epoch 30/100\n",
            "8/8 [==============================] - 0s 8ms/step - loss: 2.0776 - mae: 2.0776 - val_loss: 2.0652 - val_mae: 2.0652\n",
            "Epoch 31/100\n",
            "8/8 [==============================] - 0s 10ms/step - loss: 2.0739 - mae: 2.0739 - val_loss: 2.0685 - val_mae: 2.0685\n",
            "Epoch 32/100\n",
            "8/8 [==============================] - 0s 7ms/step - loss: 2.0490 - mae: 2.0490 - val_loss: 2.0876 - val_mae: 2.0876\n",
            "Epoch 33/100\n",
            "8/8 [==============================] - 0s 9ms/step - loss: 2.0141 - mae: 2.0141 - val_loss: 2.0890 - val_mae: 2.0890\n"
          ],
          "name": "stdout"
        }
      ]
    },
    {
      "cell_type": "markdown",
      "metadata": {
        "id": "FlLlxx9j95XW"
      },
      "source": [
        "#### Model Evaluation"
      ]
    },
    {
      "cell_type": "code",
      "metadata": {
        "colab": {
          "base_uri": "https://localhost:8080/"
        },
        "id": "UtXMaRf69LIc",
        "outputId": "3290a2d5-4ec3-4a56-cecc-eb9a21a295c7"
      },
      "source": [
        "loss, mae = dnn_model.evaluate(X_test, y_test)\n",
        "print('Loss',loss)\n",
        "print('MAE',mae)"
      ],
      "execution_count": 52,
      "outputs": [
        {
          "output_type": "stream",
          "text": [
            "3/3 [==============================] - 0s 5ms/step - loss: 2.1120 - mae: 2.1120\n",
            "Loss 2.111959934234619\n",
            "MAE 2.111959934234619\n"
          ],
          "name": "stdout"
        }
      ]
    },
    {
      "cell_type": "markdown",
      "metadata": {
        "id": "5z5oi5IE-HY5"
      },
      "source": [
        "#### Plots"
      ]
    },
    {
      "cell_type": "code",
      "metadata": {
        "colab": {
          "base_uri": "https://localhost:8080/",
          "height": 265
        },
        "id": "IKlqDIqV-BnE",
        "outputId": "6b2e5fcb-6cbd-47a6-f020-d51cf0b584ff"
      },
      "source": [
        "plt.plot(dnn_history.epoch, dnn_history.history['loss'], label='Loss')\n",
        "plt.plot(dnn_history.epoch, dnn_history.history['val_loss'], label='Validation Loss')\n",
        "plt.legend()\n",
        "plt.show()"
      ],
      "execution_count": 53,
      "outputs": [
        {
          "output_type": "display_data",
          "data": {
            "image/png": "[encoded data removed]",
            "text/plain": [
              "<Figure size 432x288 with 1 Axes>"
            ]
          },
          "metadata": {
            "tags": [],
            "needs_background": "light"
          }
        }
      ]
    }
  ]
}