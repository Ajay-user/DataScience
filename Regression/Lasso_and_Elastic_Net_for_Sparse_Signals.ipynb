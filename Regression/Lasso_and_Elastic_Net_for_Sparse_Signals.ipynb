{
  "nbformat": 4,
  "nbformat_minor": 0,
  "metadata": {
    "colab": {
      "name": "Lasso and Elastic Net for Sparse Signals.ipynb",
      "provenance": [],
      "authorship_tag": "ABX9TyMmNU0ytgq3hx3P/pFg/TM8",
      "include_colab_link": true
    },
    "kernelspec": {
      "name": "python3",
      "display_name": "Python 3"
    },
    "language_info": {
      "name": "python"
    }
  },
  "cells": [
    {
      "cell_type": "markdown",
      "metadata": {
        "id": "view-in-github",
        "colab_type": "text"
      },
      "source": [
        "<a href=\"https://colab.research.google.com/github/Ajay-user/ML-DL-RL-repo/blob/master/Regression/Lasso_and_Elastic_Net_for_Sparse_Signals.ipynb\" target=\"_parent\"><img src=\"https://colab.research.google.com/assets/colab-badge.svg\" alt=\"Open In Colab\"/></a>"
      ]
    },
    {
      "cell_type": "code",
      "execution_count": 1,
      "metadata": {
        "id": "sIvqSKOtN_P2"
      },
      "outputs": [],
      "source": [
        "import numpy as np\n",
        "import matplotlib.pyplot as plt\n",
        "\n",
        "from sklearn.metrics import r2_score"
      ]
    },
    {
      "cell_type": "markdown",
      "source": [
        "Estimates Lasso and Elastic-Net regression models on a manually generated sparse signal corrupted with an additive noise. Estimated coefficients are compared with the ground-truth."
      ],
      "metadata": {
        "id": "p7UzSu2_OLMl"
      }
    },
    {
      "cell_type": "code",
      "source": [
        "# features\n",
        "np.random.seed(42)\n",
        "\n",
        "n_samples, n_features = 50, 100\n",
        "# Return a sample (or samples) from the “standard normal” distribution.\n",
        "X = np.random.randn(n_samples,n_features)"
      ],
      "metadata": {
        "id": "2smGqpaHOD_G"
      },
      "execution_count": 2,
      "outputs": []
    },
    {
      "cell_type": "code",
      "source": [
        "# coef\n",
        "idx = np.arange(n_features)\n",
        "\n",
        "plt.plot(idx * np.exp(-idx / 10));"
      ],
      "metadata": {
        "colab": {
          "base_uri": "https://localhost:8080/",
          "height": 265
        },
        "id": "LjzZM3akOm4T",
        "outputId": "9222e06e-c125-486a-d4d4-5ad85a3abcc3"
      },
      "execution_count": 3,
      "outputs": [
        {
          "output_type": "display_data",
          "data": {
            "text/plain": [
              "<Figure size 432x288 with 1 Axes>"
            ],
            "image/png": "[encoded data removed]"
          },
          "metadata": {
            "needs_background": "light"
          }
        }
      ]
    },
    {
      "cell_type": "code",
      "source": [
        "coef = (-1) ** idx * np.exp(-idx / 10)"
      ],
      "metadata": {
        "id": "SEfskE8dS7sS"
      },
      "execution_count": 4,
      "outputs": []
    },
    {
      "cell_type": "code",
      "source": [
        "# Decreasing coef w.  \n",
        "# alternated signs for visualization\n",
        "coef>0"
      ],
      "metadata": {
        "colab": {
          "base_uri": "https://localhost:8080/"
        },
        "id": "KnVuQh5SOw9z",
        "outputId": "c4616b81-d44b-4fa7-86b4-4ca4b7812fec"
      },
      "execution_count": 5,
      "outputs": [
        {
          "output_type": "execute_result",
          "data": {
            "text/plain": [
              "array([ True, False,  True, False,  True, False,  True, False,  True,\n",
              "       False,  True, False,  True, False,  True, False,  True, False,\n",
              "        True, False,  True, False,  True, False,  True, False,  True,\n",
              "       False,  True, False,  True, False,  True, False,  True, False,\n",
              "        True, False,  True, False,  True, False,  True, False,  True,\n",
              "       False,  True, False,  True, False,  True, False,  True, False,\n",
              "        True, False,  True, False,  True, False,  True, False,  True,\n",
              "       False,  True, False,  True, False,  True, False,  True, False,\n",
              "        True, False,  True, False,  True, False,  True, False,  True,\n",
              "       False,  True, False,  True, False,  True, False,  True, False,\n",
              "        True, False,  True, False,  True, False,  True, False,  True,\n",
              "       False])"
            ]
          },
          "metadata": {},
          "execution_count": 5
        }
      ]
    },
    {
      "cell_type": "code",
      "source": [
        "## Sparsity\n",
        "coef[10:] = 0\n",
        "\n",
        "## Target  [n_samples, n_features] dot [n_features] = [n_samples]\n",
        "y = np.dot(X, coef)\n",
        "\n",
        "## Adding noise\n",
        "y = y+0.01*np.random.random(n_samples)"
      ],
      "metadata": {
        "id": "hMm-5TEYOyBq"
      },
      "execution_count": 6,
      "outputs": []
    },
    {
      "cell_type": "code",
      "source": [
        "## Split data in train set and test set\n",
        "\n",
        "X_train, y_train = X[:n_samples//2], y[:n_samples//2]\n",
        "X_test, y_test = X[n_samples//2:], y[n_samples//2:]"
      ],
      "metadata": {
        "id": "mGvtM0SHQnC0"
      },
      "execution_count": 7,
      "outputs": []
    },
    {
      "cell_type": "code",
      "source": [
        "#  Model  LASSO\n",
        "\n",
        "from sklearn.linear_model import Lasso\n",
        "\n",
        "lasso = Lasso(alpha = 0.1)\n",
        "lasso.fit(X_train, y_train)\n",
        "y_preds_lasso = lasso.predict(X_test)\n",
        "\n",
        "lasso_r2 = r2_score(y_test, y_preds_lasso)"
      ],
      "metadata": {
        "id": "2CqZB6BmQ9PK"
      },
      "execution_count": 8,
      "outputs": []
    },
    {
      "cell_type": "code",
      "source": [
        "#  Model Elastic Net\n",
        "\n",
        "from sklearn.linear_model import ElasticNet\n",
        "\n",
        "elastic_net = ElasticNet(alpha = 0.1, l1_ratio=0.7)\n",
        "elastic_net.fit(X_train,y_train)\n",
        "y_preds_elastic_net = elastic_net.predict(X_test)\n",
        "\n",
        "elastic_net_r2 = r2_score(y_test, y_preds_elastic_net)"
      ],
      "metadata": {
        "id": "qp-F2Z_QRuGp"
      },
      "execution_count": 9,
      "outputs": []
    },
    {
      "cell_type": "code",
      "source": [
        "print(f'Lasso r2 score on test data :{lasso_r2}\\nElasticNet r2 score on test data :{elastic_net_r2}')"
      ],
      "metadata": {
        "colab": {
          "base_uri": "https://localhost:8080/"
        },
        "id": "w15h-ks4UbIo",
        "outputId": "7bef4f84-c55b-4bf0-ed60-8ee09406a7d4"
      },
      "execution_count": 10,
      "outputs": [
        {
          "output_type": "stream",
          "name": "stdout",
          "text": [
            "Lasso r2 score on test data :0.6544465007898361\n",
            "ElasticNet r2 score on test data :0.6397027724060502\n"
          ]
        }
      ]
    },
    {
      "cell_type": "markdown",
      "source": [
        "## Plot"
      ],
      "metadata": {
        "id": "UX1Wzv98U05T"
      }
    },
    {
      "cell_type": "code",
      "source": [
        "plt.figure(figsize=(14,6))\n",
        "plt.stem(np.where(lasso.coef_)[0], lasso.coef_[lasso.coef_!=0], markerfmt='^', label=\"Lasso coefficients\", use_line_collection=True, )\n",
        "plt.stem(np.where(elastic_net.coef_)[0], elastic_net.coef_[elastic_net.coef_!=0], markerfmt='x', label=\"Elastic-net coefficients\", use_line_collection=True,)\n",
        "plt.stem(np.where(coef)[0], coef[coef!=0], markerfmt='o', label=\"True coefficients\", use_line_collection=True, )\n",
        "plt.legend()"
      ],
      "metadata": {
        "colab": {
          "base_uri": "https://localhost:8080/",
          "height": 391
        },
        "id": "NF0h8DYWUzQG",
        "outputId": "e78052cc-615f-4f75-cbdb-76acbfa8a6b5"
      },
      "execution_count": 15,
      "outputs": [
        {
          "output_type": "execute_result",
          "data": {
            "text/plain": [
              "<matplotlib.legend.Legend at 0x7ff2352a7e10>"
            ]
          },
          "metadata": {},
          "execution_count": 15
        },
        {
          "output_type": "display_data",
          "data": {
            "text/plain": [
              "<Figure size 1008x432 with 1 Axes>"
            ],
            "image/png": "[encoded data removed]"
          },
          "metadata": {
            "needs_background": "light"
          }
        }
      ]
    }
  ]
}