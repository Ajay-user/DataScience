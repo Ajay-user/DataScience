{
  "nbformat": 4,
  "nbformat_minor": 0,
  "metadata": {
    "colab": {
      "name": "Linear Regression from scratch.ipynb",
      "provenance": [],
      "collapsed_sections": [],
      "authorship_tag": "ABX9TyP5/s97hpO3i35zAj7wWLNk",
      "include_colab_link": true
    },
    "kernelspec": {
      "name": "python3",
      "display_name": "Python 3"
    },
    "language_info": {
      "name": "python"
    }
  },
  "cells": [
    {
      "cell_type": "markdown",
      "metadata": {
        "id": "view-in-github",
        "colab_type": "text"
      },
      "source": [
        "<a href=\"https://colab.research.google.com/github/Ajay-user/ML-DL-RL-repo/blob/master/Regression/Linear_Regression_from_scratch.ipynb\" target=\"_parent\"><img src=\"https://colab.research.google.com/assets/colab-badge.svg\" alt=\"Open In Colab\"/></a>"
      ]
    },
    {
      "cell_type": "code",
      "metadata": {
        "id": "pAP5m3xZSDmk"
      },
      "source": [
        "import pandas as pd\n",
        "import numpy as np\n",
        "import matplotlib.pyplot as plt\n",
        "import seaborn as sns"
      ],
      "execution_count": 1,
      "outputs": []
    },
    {
      "cell_type": "markdown",
      "metadata": {
        "id": "N7QJQ4TQPiYW"
      },
      "source": [
        "## Linear Regression \n",
        "\n",
        "y = W.X+ b\n",
        "\n",
        "W = Weights <br>\n",
        "X = Features <br>\n",
        "b = bais <br>"
      ]
    },
    {
      "cell_type": "markdown",
      "metadata": {
        "id": "S3sBczfBSJ5X"
      },
      "source": [
        "## Generate the data"
      ]
    },
    {
      "cell_type": "code",
      "metadata": {
        "id": "eZrlJHndO29l"
      },
      "source": [
        "from sklearn.datasets import make_regression\n",
        "\n",
        "X, y, coef = make_regression(n_samples=1000, n_features=1, n_informative=1, noise=20.0, bias=1.0, coef=True,random_state=42)"
      ],
      "execution_count": 2,
      "outputs": []
    },
    {
      "cell_type": "code",
      "metadata": {
        "colab": {
          "base_uri": "https://localhost:8080/",
          "height": 265
        },
        "id": "2ppVOKwuSCUN",
        "outputId": "1a940384-012d-4238-dd9f-7ed1ac7efeff"
      },
      "source": [
        "# plot the data\n",
        "plt.scatter(X, y, marker='+', c='seagreen');"
      ],
      "execution_count": 3,
      "outputs": [
        {
          "output_type": "display_data",
          "data": {
            "image/png": "[encoded data removed]",
            "text/plain": [
              "<Figure size 432x288 with 1 Axes>"
            ]
          },
          "metadata": {
            "needs_background": "light"
          }
        }
      ]
    },
    {
      "cell_type": "code",
      "metadata": {
        "colab": {
          "base_uri": "https://localhost:8080/",
          "height": 204
        },
        "id": "GdQVaf0YSnIX",
        "outputId": "ab5820cc-e393-4fa4-d0f3-fce5c0adb2b9"
      },
      "source": [
        "df = pd.DataFrame(data={'feature':X.reshape(-1), 'target':y, 'weight':coef, 'bias':1.0, 'y=Wx+b':(X.reshape(-1)*coef)+1.0 })\n",
        "df.head()  "
      ],
      "execution_count": 4,
      "outputs": [
        {
          "output_type": "execute_result",
          "data": {
            "text/html": [
              "<div>\n",
              "<style scoped>\n",
              "    .dataframe tbody tr th:only-of-type {\n",
              "        vertical-align: middle;\n",
              "    }\n",
              "\n",
              "    .dataframe tbody tr th {\n",
              "        vertical-align: top;\n",
              "    }\n",
              "\n",
              "    .dataframe thead th {\n",
              "        text-align: right;\n",
              "    }\n",
              "</style>\n",
              "<table border=\"1\" class=\"dataframe\">\n",
              "  <thead>\n",
              "    <tr style=\"text-align: right;\">\n",
              "      <th></th>\n",
              "      <th>feature</th>\n",
              "      <th>target</th>\n",
              "      <th>weight</th>\n",
              "      <th>bias</th>\n",
              "      <th>y=Wx+b</th>\n",
              "    </tr>\n",
              "  </thead>\n",
              "  <tbody>\n",
              "    <tr>\n",
              "      <th>0</th>\n",
              "      <td>-1.758739</td>\n",
              "      <td>-35.084949</td>\n",
              "      <td>16.748258</td>\n",
              "      <td>1.0</td>\n",
              "      <td>-28.455823</td>\n",
              "    </tr>\n",
              "    <tr>\n",
              "      <th>1</th>\n",
              "      <td>1.031845</td>\n",
              "      <td>-9.272417</td>\n",
              "      <td>16.748258</td>\n",
              "      <td>1.0</td>\n",
              "      <td>18.281599</td>\n",
              "    </tr>\n",
              "    <tr>\n",
              "      <th>2</th>\n",
              "      <td>-0.487606</td>\n",
              "      <td>-26.694060</td>\n",
              "      <td>16.748258</td>\n",
              "      <td>1.0</td>\n",
              "      <td>-7.166555</td>\n",
              "    </tr>\n",
              "    <tr>\n",
              "      <th>3</th>\n",
              "      <td>0.186454</td>\n",
              "      <td>-10.103187</td>\n",
              "      <td>16.748258</td>\n",
              "      <td>1.0</td>\n",
              "      <td>4.122785</td>\n",
              "    </tr>\n",
              "    <tr>\n",
              "      <th>4</th>\n",
              "      <td>0.725767</td>\n",
              "      <td>15.055202</td>\n",
              "      <td>16.748258</td>\n",
              "      <td>1.0</td>\n",
              "      <td>13.155327</td>\n",
              "    </tr>\n",
              "  </tbody>\n",
              "</table>\n",
              "</div>"
            ],
            "text/plain": [
              "    feature     target     weight  bias     y=Wx+b\n",
              "0 -1.758739 -35.084949  16.748258   1.0 -28.455823\n",
              "1  1.031845  -9.272417  16.748258   1.0  18.281599\n",
              "2 -0.487606 -26.694060  16.748258   1.0  -7.166555\n",
              "3  0.186454 -10.103187  16.748258   1.0   4.122785\n",
              "4  0.725767  15.055202  16.748258   1.0  13.155327"
            ]
          },
          "metadata": {},
          "execution_count": 4
        }
      ]
    },
    {
      "cell_type": "code",
      "metadata": {
        "colab": {
          "base_uri": "https://localhost:8080/"
        },
        "id": "DVukk0J3UWXo",
        "outputId": "fb227dec-7cd7-4e57-826a-47b5d1528ea7"
      },
      "source": [
        "## split the data \n",
        "from sklearn.model_selection import train_test_split\n",
        "\n",
        "X_train, X_test, y_train, y_test = train_test_split(X.reshape(-1), y, test_size=0.2, random_state=42)\n",
        "\n",
        "print('Shape of training feature',X_train.shape)\n",
        "print('Shape of training target',y_train.shape)\n",
        "print('Shape of testing feature',X_test.shape)\n",
        "print('Shape of testing target',y_test.shape)"
      ],
      "execution_count": 5,
      "outputs": [
        {
          "output_type": "stream",
          "name": "stdout",
          "text": [
            "Shape of training feature (800,)\n",
            "Shape of training target (800,)\n",
            "Shape of testing feature (200,)\n",
            "Shape of testing target (200,)\n"
          ]
        }
      ]
    },
    {
      "cell_type": "markdown",
      "metadata": {
        "id": "NHevl5HJiefY"
      },
      "source": [
        "## Weigth matrix  and Bias"
      ]
    },
    {
      "cell_type": "code",
      "metadata": {
        "id": "I_DDOfjwVzej"
      },
      "source": [
        "def get_weight_and_bias():\n",
        "  Weights = np.random.rand()\n",
        "  Bias = 0.01*np.random.rand()\n",
        "  return Weights,Bias"
      ],
      "execution_count": 6,
      "outputs": []
    },
    {
      "cell_type": "code",
      "metadata": {
        "colab": {
          "base_uri": "https://localhost:8080/"
        },
        "id": "ATPnx-8Thoih",
        "outputId": "1914618f-5510-4879-f5ac-d11bed6208f3"
      },
      "source": [
        "Weights,Bias=get_weight_and_bias()\n",
        "\n",
        "# output shape after linear operation y = Wx+b\n",
        "(X_train*Weights+Bias).shape"
      ],
      "execution_count": 7,
      "outputs": [
        {
          "output_type": "execute_result",
          "data": {
            "text/plain": [
              "(800,)"
            ]
          },
          "metadata": {},
          "execution_count": 7
        }
      ]
    },
    {
      "cell_type": "markdown",
      "metadata": {
        "id": "gQYH76saonOF"
      },
      "source": [
        "## Create a linear model\n",
        "Linear Model from scratch using python\n",
        "\n",
        "y = Wx+B\n",
        "\n",
        "\n",
        "`W = weight`, `x = feature`, `B = bias`"
      ]
    },
    {
      "cell_type": "code",
      "metadata": {
        "id": "Dof_rWufkNrl"
      },
      "source": [
        "def linear_regression(features, weights, bias):\n",
        "  y_hat = (features*weights)+bias\n",
        "  return y_hat"
      ],
      "execution_count": 8,
      "outputs": []
    },
    {
      "cell_type": "markdown",
      "metadata": {
        "id": "XV6xbrrZp5Z8"
      },
      "source": [
        "## Loss function\n",
        "Mean squared error = mean of (y_true - y_preds)**2"
      ]
    },
    {
      "cell_type": "code",
      "metadata": {
        "id": "3AQz1hF1ptE1"
      },
      "source": [
        "def loss_fn(ground_truth, predictions):\n",
        "  return np.mean(np.square((ground_truth-predictions)))\n",
        "  # return (1/len(ground_truth))*np.sum((ground_truth - predictions)**2)"
      ],
      "execution_count": 9,
      "outputs": []
    },
    {
      "cell_type": "markdown",
      "metadata": {
        "id": "gmi5s3VotKLP"
      },
      "source": [
        "## Gradient Descent \n",
        "Gradient descent is a first-order iterative optimization algorithm for finding a local minimum of a differentiable function.\n",
        "\n",
        "We use mean squared error as the Loss function <br>\n",
        "1/N * (y_true - y_pred)**2\n",
        "\n",
        "Where y_pred = Wx+b (linear regression)\n",
        "\n",
        "**error = y_true - Wx+b**\n",
        "\n",
        "derivative with respect to Weights <br>\n",
        " -2/N * (error) * x\n",
        "\n",
        "derivative with respect to bias <br>\n",
        " -2/N * (error) * 1\n",
        "\n",
        "We want to move in the negative direction of the gradient\n",
        "\n",
        "### Updating weights and bias\n",
        "\n",
        "W<sup>k+1</sup> = W<sup>k</sup> + (Learning_rate * -Gradient)\n",
        "\n",
        "B<sup>k+1</sup> = B<sup>k</sup> + (Learning_rate * -Gradient)\n",
        "\n",
        "\n",
        "\n"
      ]
    },
    {
      "cell_type": "code",
      "metadata": {
        "id": "4c1R2EISqmry"
      },
      "source": [
        "def gradient_descent(features, ground_truth, predictions):\n",
        "  # difference btw true-values and predicted-values is the error\n",
        "  error = ground_truth-predictions\n",
        "  # derivative of loss wrt weights\n",
        "  dW = -2*np.mean((error*features))\n",
        "  # derivative of loss wrt bias\n",
        "  db = -2*np.mean(error)\n",
        "  \n",
        "  return dW,db\n",
        "  "
      ],
      "execution_count": 10,
      "outputs": []
    },
    {
      "cell_type": "markdown",
      "metadata": {
        "id": "qZVNs2yJ1-Tl"
      },
      "source": [
        "## Training a Linear model\n"
      ]
    },
    {
      "cell_type": "code",
      "metadata": {
        "id": "DtmCWLx7zUMF"
      },
      "source": [
        "def model_training(epochs,W,b,learning_rate=1e-3):\n",
        "\n",
        "  for i in range(epochs):\n",
        "    # get predictions\n",
        "    y_hat = linear_regression(X_train, weights=W, bias=b)\n",
        "    # compute loss\n",
        "    loss = loss_fn(y_train, y_hat)\n",
        "\n",
        "    # optimize the model parameters \n",
        "    dW, db = gradient_descent(X_train, y_train, y_hat)\n",
        "    # update the weights\n",
        "    W = W + (learning_rate*-dW)\n",
        "    b = b + (learning_rate*-db)\n",
        "    \n",
        "    # print the loss\n",
        "\n",
        "    print('epoch:',i,' loss:',loss)\n"
      ],
      "execution_count": 11,
      "outputs": []
    },
    {
      "cell_type": "code",
      "metadata": {
        "colab": {
          "base_uri": "https://localhost:8080/"
        },
        "id": "6_iAB0kAbqz8",
        "outputId": "6e76531e-eb0c-4857-e8cc-2bacf4065084"
      },
      "source": [
        "# Training\n",
        "w,b = get_weight_and_bias()\n",
        "model_training(10,w,b)"
      ],
      "execution_count": 12,
      "outputs": [
        {
          "output_type": "stream",
          "name": "stdout",
          "text": [
            "epoch: 0  loss: 638.1495617866481\n",
            "epoch: 1  loss: 637.1882645400142\n",
            "epoch: 2  loss: 636.2305808885753\n",
            "epoch: 3  loss: 635.2764972425156\n",
            "epoch: 4  loss: 634.3260000631515\n",
            "epoch: 5  loss: 633.3790758627382\n",
            "epoch: 6  loss: 632.4357112042791\n",
            "epoch: 7  loss: 631.4958927013337\n",
            "epoch: 8  loss: 630.559607017828\n",
            "epoch: 9  loss: 629.6268408678645\n"
          ]
        }
      ]
    },
    {
      "cell_type": "markdown",
      "metadata": {
        "id": "OXObJZcEMObX"
      },
      "source": [
        "## Complete Linear model from scratch"
      ]
    },
    {
      "cell_type": "code",
      "metadata": {
        "id": "hoxmdnvu4a7y"
      },
      "source": [
        "class Linear_reg:\n",
        "  def __init__(self, learning_rate=1e-3, weight= np.random.rand(), bias=0.001*np.random.rand()):\n",
        "    self.learning_rate = learning_rate\n",
        "    self.weight = weight \n",
        "    self.bias = bias\n",
        "  \n",
        "  def linear_regression(self, features):\n",
        "    return (features*self.weight)+self.bias\n",
        "\n",
        "  def loss_fn(self, ground_truth, predictions):\n",
        "    return np.mean(np.square((ground_truth-predictions)))\n",
        "\n",
        "  def gradient_descent(self, features, ground_truth, predictions):\n",
        "    error = ground_truth - predictions\n",
        "    dW = -2*np.mean((error*features))\n",
        "    db = -2*np.mean(error)\n",
        "    return dW,db\n",
        "  \n",
        "  def optimize_model_parametes(self, features, ground_truth, predictions):\n",
        "    dW, db = self.gradient_descent(features, ground_truth, predictions)\n",
        "    self.weight += self.learning_rate * -dW\n",
        "    self.bias += self.learning_rate * -db\n",
        "\n",
        "  def fit(self, X, y_true, epochs=10, to_print=False):    \n",
        "    history={'epoch':[],'loss':[]}\n",
        "    for epoch in range(epochs):\n",
        "      y_hat = self.linear_regression(X)\n",
        "      loss = self.loss_fn(y_true, y_hat)\n",
        "      self.optimize_model_parametes(X, y_true, y_hat)\n",
        "      if to_print:\n",
        "        print('epoch:',epoch,'loss:',loss)\n",
        "      history['epoch'].append(epoch)\n",
        "      history['loss'].append(loss)\n",
        "    return history\n",
        "    \n",
        "  def predict(self ,test_features):\n",
        "    y_hat = self.linear_regression(test_features)\n",
        "    return y_hat\n",
        "      \n",
        "  def get_model_coef(self):\n",
        "    return self.weight, self.bias\n",
        "\n",
        "  def evaluate(self,test_features,y_test):\n",
        "    y_hat = self.predict(test_features)\n",
        "    loss = self.loss_fn(y_test,y_hat)\n",
        "    return loss\n",
        "\n",
        "    \n",
        "    \n",
        "    "
      ],
      "execution_count": 13,
      "outputs": []
    },
    {
      "cell_type": "code",
      "metadata": {
        "id": "OX9OVdYZNklt"
      },
      "source": [
        "model1 = Linear_reg()\n",
        "\n",
        "history1 = model1.fit(X_train, y_train, epochs=1000)"
      ],
      "execution_count": 14,
      "outputs": []
    },
    {
      "cell_type": "markdown",
      "metadata": {
        "id": "jsSXT2UvRYOl"
      },
      "source": [
        "### Learning curve"
      ]
    },
    {
      "cell_type": "code",
      "metadata": {
        "id": "rUG_IUEoQW7N",
        "colab": {
          "base_uri": "https://localhost:8080/",
          "height": 295
        },
        "outputId": "bb35dc57-aa6d-4cb5-efa1-cfe1f90ada6f"
      },
      "source": [
        "def plot_learning_curve(model,history):\n",
        "  model_coef = model.get_model_coef()\n",
        "  plt.plot(history['loss']);\n",
        "  plt.title(f'Learning curve # Learned Weight:{model_coef[0] :.2f} and bias:{model_coef[1] :.2f}')\n",
        "  plt.xlabel('Epochs')\n",
        "  plt.ylabel('Mean squared error')\n",
        "  plt.show()\n",
        "\n",
        "plot_learning_curve(model1,history1)"
      ],
      "execution_count": 15,
      "outputs": [
        {
          "output_type": "display_data",
          "data": {
            "image/png": "[encoded data removed]",
            "text/plain": [
              "<Figure size 432x288 with 1 Axes>"
            ]
          },
          "metadata": {
            "needs_background": "light"
          }
        }
      ]
    },
    {
      "cell_type": "code",
      "metadata": {
        "id": "JrktNGrRRnyN"
      },
      "source": [
        "# best parameters learned by the model\n",
        "model1_coef = model1.get_model_coef()"
      ],
      "execution_count": 16,
      "outputs": []
    },
    {
      "cell_type": "code",
      "metadata": {
        "id": "IdybbU9qVK_M",
        "colab": {
          "base_uri": "https://localhost:8080/"
        },
        "outputId": "8f5a904e-e2fb-48a5-b7ea-be425341fbd7"
      },
      "source": [
        "def print_model_coef(model_coef):\n",
        "  print(f'Actual Weight:{coef :.2f} and bias:{df[\"bias\"][0]}')\n",
        "  print(f'Learned Weight:{model_coef[0] :.2f} and bias:{model_coef[1] :.2f}')\n",
        "\n",
        "print_model_coef(model1_coef)"
      ],
      "execution_count": 17,
      "outputs": [
        {
          "output_type": "stream",
          "name": "stdout",
          "text": [
            "Actual Weight:16.75 and bias:1.0\n",
            "Learned Weight:14.27 and bias:0.78\n"
          ]
        }
      ]
    },
    {
      "cell_type": "code",
      "metadata": {
        "id": "HR_xvW52YB6s",
        "colab": {
          "base_uri": "https://localhost:8080/",
          "height": 281
        },
        "outputId": "535b1d82-a4c6-4d21-fa36-442d471d13cf"
      },
      "source": [
        "def plot_model_predictions(model, X_test=X_test, y_test=y_test):\n",
        "  model_predictions = model.predict(X_test)\n",
        "\n",
        "  plt.scatter(X_test, y_test, marker='*', color='seagreen')\n",
        "  plt.scatter(X_test,model_predictions, marker='+', color='salmon')\n",
        "  plt.plot(X_test,model_predictions)\n",
        "  plt.title('Model predictions on test set')\n",
        "  plt.show()\n",
        "  \n",
        "\n",
        "plot_model_predictions(model1)"
      ],
      "execution_count": 18,
      "outputs": [
        {
          "output_type": "display_data",
          "data": {
            "image/png": "[encoded data removed]",
            "text/plain": [
              "<Figure size 432x288 with 1 Axes>"
            ]
          },
          "metadata": {
            "needs_background": "light"
          }
        }
      ]
    },
    {
      "cell_type": "markdown",
      "metadata": {
        "id": "H0__6YIZCJh4"
      },
      "source": [
        "## Improve model predictions \n",
        "\n",
        "**Standardize the data**<br>\n",
        "Its a good practice to normalize the features that have different scales and range.<br>\n",
        "This is important because the features are multiplied by model weights so the scale of the output and the scale of the gradient are affected by the scale of the inputs<br>\n",
        "We can use Standard Scaler to scale the Features to zero mean, unit variance or we can do it ourselves just compute the mean and std of the data then for each datapoint substract off the mean and divide by std\n",
        "\n",
        "**Hyperparameter tuning**<br>\n",
        "In machine learning and statistics, the learning rate is a tuning parameter in an optimization algorithm that determines the step size at each iteration while moving toward a minimum of a loss function.<br>\n",
        "We can change the learning rate of a model to see if it improves the learning.<br>\n",
        "In setting a learning rate, there is a trade-off between the rate of convergence and overshooting."
      ]
    },
    {
      "cell_type": "code",
      "metadata": {
        "id": "oNXCNvFkVn8Z",
        "colab": {
          "base_uri": "https://localhost:8080/"
        },
        "outputId": "aadc41fe-664a-4387-b55d-db5ddca98923"
      },
      "source": [
        "# standardize the data\n",
        "feature_mean, feature_std = X_train.mean(), X_train.std()\n",
        "label_mean, label_std = y_train.mean(), y_train.std()\n",
        "\n",
        "scaled_X_train = (X_train-feature_mean)/feature_std\n",
        "scaled_y_train = (y_train-label_mean)/label_std\n",
        "\n",
        "\n",
        "scaled_X_test = (X_test-feature_mean)/feature_std\n",
        "scaled_y_test = (y_test-label_mean)/label_std\n",
        "\n",
        "print('Training data  Mean',scaled_X_train.mean(),'Standard deviation',scaled_X_train.std())\n",
        "print('Testing data  Mean',scaled_X_test.mean(),'Standard deviation',scaled_X_test.std())"
      ],
      "execution_count": 19,
      "outputs": [
        {
          "output_type": "stream",
          "name": "stdout",
          "text": [
            "Training data  Mean -1.3322676295501878e-17 Standard deviation 0.9999999999999999\n",
            "Testing data  Mean 0.018728526972451583 Standard deviation 1.051711590618491\n"
          ]
        }
      ]
    },
    {
      "cell_type": "code",
      "metadata": {
        "id": "vj8pRF70YA20"
      },
      "source": [
        "model2 = Linear_reg()\n",
        "\n",
        "history2 = model2.fit(scaled_X_train, scaled_y_train, epochs=700)"
      ],
      "execution_count": 20,
      "outputs": []
    },
    {
      "cell_type": "code",
      "metadata": {
        "id": "r2xTafLGavkn",
        "colab": {
          "base_uri": "https://localhost:8080/",
          "height": 295
        },
        "outputId": "8a17f149-c198-416b-f880-d9fe56f9f052"
      },
      "source": [
        "# Learning curve\n",
        "plot_learning_curve(model2,history2)"
      ],
      "execution_count": 21,
      "outputs": [
        {
          "output_type": "display_data",
          "data": {
            "image/png": "[encoded data removed]",
            "text/plain": [
              "<Figure size 432x288 with 1 Axes>"
            ]
          },
          "metadata": {
            "needs_background": "light"
          }
        }
      ]
    },
    {
      "cell_type": "code",
      "metadata": {
        "id": "GJpdfVeMDSaP"
      },
      "source": [
        "# learning rate updated from 0.001 (default) to 0.01\n",
        "model3 = Linear_reg(learning_rate=0.01 )\n",
        "# number of epochs = 500\n",
        "history3 = model2.fit(scaled_X_train, scaled_y_train, epochs=500)"
      ],
      "execution_count": 22,
      "outputs": []
    },
    {
      "cell_type": "code",
      "metadata": {
        "colab": {
          "base_uri": "https://localhost:8080/",
          "height": 295
        },
        "id": "emesIK45Iu6K",
        "outputId": "a2e6424f-f5df-4481-a264-38cb844c6be7"
      },
      "source": [
        "# learning curve\n",
        "plot_learning_curve(model3, history3)"
      ],
      "execution_count": 23,
      "outputs": [
        {
          "output_type": "display_data",
          "data": {
            "image/png": "[encoded data removed]",
            "text/plain": [
              "<Figure size 432x288 with 1 Axes>"
            ]
          },
          "metadata": {
            "needs_background": "light"
          }
        }
      ]
    },
    {
      "cell_type": "code",
      "metadata": {
        "id": "y9mEtR_0P-LK"
      },
      "source": [
        ""
      ],
      "execution_count": 23,
      "outputs": []
    }
  ]
}