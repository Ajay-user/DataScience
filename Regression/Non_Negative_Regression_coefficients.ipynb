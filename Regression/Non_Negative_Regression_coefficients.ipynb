{
  "nbformat": 4,
  "nbformat_minor": 0,
  "metadata": {
    "colab": {
      "name": "Non Negative Regression coefficients.ipynb",
      "provenance": [],
      "authorship_tag": "ABX9TyNiS4R8YL1c1xv3ZwwxCx8F",
      "include_colab_link": true
    },
    "kernelspec": {
      "name": "python3",
      "display_name": "Python 3"
    },
    "language_info": {
      "name": "python"
    }
  },
  "cells": [
    {
      "cell_type": "markdown",
      "metadata": {
        "id": "view-in-github",
        "colab_type": "text"
      },
      "source": [
        "<a href=\"https://colab.research.google.com/github/Ajay-user/ML-DL-RL-repo/blob/master/Regression/Non_Negative_Regression_coefficients.ipynb\" target=\"_parent\"><img src=\"https://colab.research.google.com/assets/colab-badge.svg\" alt=\"Open In Colab\"/></a>"
      ]
    },
    {
      "cell_type": "markdown",
      "source": [
        "It is possible to constrain all the coefficients to be non-negative, which may be useful when they represent some physical or naturally non-negative quantities \n",
        "(e.g., frequency counts or prices of goods).\n",
        "\n",
        " LinearRegression accepts a boolean positive parameter: when set to True Non-Negative Least Squares are then applied."
      ],
      "metadata": {
        "id": "s0lSAI2Der2t"
      }
    },
    {
      "cell_type": "code",
      "execution_count": 34,
      "metadata": {
        "id": "Ilwu2V50b985"
      },
      "outputs": [],
      "source": [
        "import numpy as np\n",
        "import matplotlib.pyplot as plt\n",
        "\n",
        "from sklearn.linear_model import LinearRegression\n",
        "from sklearn.model_selection import train_test_split\n",
        "\n",
        "from sklearn.metrics import r2_score, mean_squared_error"
      ]
    },
    {
      "cell_type": "markdown",
      "source": [
        "## Create dummy data"
      ],
      "metadata": {
        "id": "-2ar8GvYcGVt"
      }
    },
    {
      "cell_type": "code",
      "source": [
        "n_samples, n_features = 200, 50\n",
        "\n",
        "# dummy data\n",
        "X = np.random.randn(n_samples, n_features)\n",
        "# coef\n",
        "true_coef = np.random.randn(n_features)\n",
        "# Threshold coefficients to render them non-negative\n",
        "true_coef[true_coef < 0] = 0\n",
        "# linear combination\n",
        "y = np.dot(X,true_coef)\n",
        "# Add some noise\n",
        "y += 1.1* np.random.normal(size=(n_samples,))"
      ],
      "metadata": {
        "id": "ys5c0YSqcCFB"
      },
      "execution_count": 55,
      "outputs": []
    },
    {
      "cell_type": "code",
      "source": [
        "# Split the data in train set and test set\n",
        "X_train, X_test, y_train, y_test = train_test_split(X, y, test_size=0.5)"
      ],
      "metadata": {
        "id": "lli8yOzQcIbi"
      },
      "execution_count": 56,
      "outputs": []
    },
    {
      "cell_type": "code",
      "source": [
        "# Training/Fit the Non-Negative least squares.\n",
        "nnls = LinearRegression(positive=True)\n",
        "nnls.fit(X_train,y_train)\n",
        "nnls_preds = nnls.predict(X_test)\n",
        "# Training/Fit the Ordinary least squares.\n",
        "ols = LinearRegression()\n",
        "ols.fit(X_train,y_train)\n",
        "ols_preds = ols.predict(X_test)"
      ],
      "metadata": {
        "id": "WyFVT51JcKg_"
      },
      "execution_count": 57,
      "outputs": []
    },
    {
      "cell_type": "code",
      "source": [
        "print(\"Ordinary Least Squares R2 score\", r2_score(y_test, ols_preds))\n",
        "print(\"Non Negative Least Squares R2 score\", r2_score(y_test, nnls_preds))"
      ],
      "metadata": {
        "colab": {
          "base_uri": "https://localhost:8080/"
        },
        "id": "ezoYT7nvcMd9",
        "outputId": "ff589fc9-404e-4a49-cec7-66b9351d3f2f"
      },
      "execution_count": 58,
      "outputs": [
        {
          "output_type": "stream",
          "name": "stdout",
          "text": [
            "Ordinary Least Squares R2 score 0.8786269571100175\n",
            "Non Negative Least Squares R2 score 0.8912404474892385\n"
          ]
        }
      ]
    },
    {
      "cell_type": "code",
      "source": [
        ""
      ],
      "metadata": {
        "id": "ervmjYiYc6IA"
      },
      "execution_count": 54,
      "outputs": []
    }
  ]
}