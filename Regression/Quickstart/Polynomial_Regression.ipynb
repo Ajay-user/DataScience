{
  "nbformat": 4,
  "nbformat_minor": 0,
  "metadata": {
    "colab": {
      "name": "Polynomial Regression.ipynb",
      "provenance": [],
      "authorship_tag": "ABX9TyMCq5QUD1lnVAdKfif6CWc2",
      "include_colab_link": true
    },
    "kernelspec": {
      "name": "python3",
      "display_name": "Python 3"
    },
    "language_info": {
      "name": "python"
    }
  },
  "cells": [
    {
      "cell_type": "markdown",
      "metadata": {
        "id": "view-in-github",
        "colab_type": "text"
      },
      "source": [
        "<a href=\"https://colab.research.google.com/github/Ajay-user/DataScience/blob/master/Regression/Polynomial_Regression.ipynb\" target=\"_parent\"><img src=\"https://colab.research.google.com/assets/colab-badge.svg\" alt=\"Open In Colab\"/></a>"
      ]
    },
    {
      "cell_type": "code",
      "metadata": {
        "id": "QnY_GTNxoRw8"
      },
      "source": [
        "import pandas as pd\n",
        "import numpy as np\n",
        "import matplotlib.pyplot as plt\n",
        "\n",
        "from sklearn.linear_model import LinearRegression\n",
        "from sklearn.preprocessing import PolynomialFeatures"
      ],
      "execution_count": 6,
      "outputs": []
    },
    {
      "cell_type": "code",
      "metadata": {
        "colab": {
          "base_uri": "https://localhost:8080/",
          "height": 204
        },
        "id": "z5fjx88dobHV",
        "outputId": "fcc40882-f898-4454-d0be-20ec3b465cd2"
      },
      "source": [
        "url = 'https://raw.githubusercontent.com/Ajay-user/DataScience/master/Regression/Datasets/Position_Salaries.csv'\n",
        "df = pd.read_csv(url)\n",
        "df.head()"
      ],
      "execution_count": 2,
      "outputs": [
        {
          "output_type": "execute_result",
          "data": {
            "text/html": [
              "<div>\n",
              "<style scoped>\n",
              "    .dataframe tbody tr th:only-of-type {\n",
              "        vertical-align: middle;\n",
              "    }\n",
              "\n",
              "    .dataframe tbody tr th {\n",
              "        vertical-align: top;\n",
              "    }\n",
              "\n",
              "    .dataframe thead th {\n",
              "        text-align: right;\n",
              "    }\n",
              "</style>\n",
              "<table border=\"1\" class=\"dataframe\">\n",
              "  <thead>\n",
              "    <tr style=\"text-align: right;\">\n",
              "      <th></th>\n",
              "      <th>Position</th>\n",
              "      <th>Level</th>\n",
              "      <th>Salary</th>\n",
              "    </tr>\n",
              "  </thead>\n",
              "  <tbody>\n",
              "    <tr>\n",
              "      <th>0</th>\n",
              "      <td>Business Analyst</td>\n",
              "      <td>1</td>\n",
              "      <td>45000</td>\n",
              "    </tr>\n",
              "    <tr>\n",
              "      <th>1</th>\n",
              "      <td>Junior Consultant</td>\n",
              "      <td>2</td>\n",
              "      <td>50000</td>\n",
              "    </tr>\n",
              "    <tr>\n",
              "      <th>2</th>\n",
              "      <td>Senior Consultant</td>\n",
              "      <td>3</td>\n",
              "      <td>60000</td>\n",
              "    </tr>\n",
              "    <tr>\n",
              "      <th>3</th>\n",
              "      <td>Manager</td>\n",
              "      <td>4</td>\n",
              "      <td>80000</td>\n",
              "    </tr>\n",
              "    <tr>\n",
              "      <th>4</th>\n",
              "      <td>Country Manager</td>\n",
              "      <td>5</td>\n",
              "      <td>110000</td>\n",
              "    </tr>\n",
              "  </tbody>\n",
              "</table>\n",
              "</div>"
            ],
            "text/plain": [
              "            Position  Level  Salary\n",
              "0   Business Analyst      1   45000\n",
              "1  Junior Consultant      2   50000\n",
              "2  Senior Consultant      3   60000\n",
              "3            Manager      4   80000\n",
              "4    Country Manager      5  110000"
            ]
          },
          "metadata": {
            "tags": []
          },
          "execution_count": 2
        }
      ]
    },
    {
      "cell_type": "code",
      "metadata": {
        "id": "9FqEUBbDoiVV"
      },
      "source": [
        "# Features and target\n",
        "X = df.iloc[:,1:-1].values\n",
        "y = df.iloc[:,-1].values"
      ],
      "execution_count": 3,
      "outputs": []
    },
    {
      "cell_type": "code",
      "metadata": {
        "colab": {
          "base_uri": "https://localhost:8080/"
        },
        "id": "jQkCBgCZoy1X",
        "outputId": "2f412236-531f-4313-8f09-d9026c8d3619"
      },
      "source": [
        "# linear regression\n",
        "regressor = LinearRegression()\n",
        "regressor.fit(X, y)"
      ],
      "execution_count": 8,
      "outputs": [
        {
          "output_type": "execute_result",
          "data": {
            "text/plain": [
              "LinearRegression(copy_X=True, fit_intercept=True, n_jobs=None, normalize=False)"
            ]
          },
          "metadata": {
            "tags": []
          },
          "execution_count": 8
        }
      ]
    },
    {
      "cell_type": "code",
      "metadata": {
        "id": "ykywzCjKozhG"
      },
      "source": [
        "# polynomial feature matrix\n",
        "\n",
        "deg2 = PolynomialFeatures(degree=2)\n",
        "deg3 = PolynomialFeatures(degree=3)\n",
        "deg4 = PolynomialFeatures(degree=4)\n",
        "\n",
        "feat2 = deg2.fit_transform(X)\n",
        "feat3 = deg3.fit_transform(X)\n",
        "feat4 = deg4.fit_transform(X)"
      ],
      "execution_count": 15,
      "outputs": []
    },
    {
      "cell_type": "code",
      "metadata": {
        "colab": {
          "base_uri": "https://localhost:8080/"
        },
        "id": "us0aqP4Hp5Ic",
        "outputId": "9c8fc1f0-62d9-4671-9daf-8f890154548d"
      },
      "source": [
        "# polynomial regression degree = 2\n",
        "poly2 = LinearRegression()\n",
        "poly2.fit(feat2, y)\n",
        "\n",
        "# polynomial regression degree = 3\n",
        "poly3 = LinearRegression()\n",
        "poly3.fit(feat3, y)\n",
        "\n",
        "# polynomial regression degree = 4\n",
        "poly4 = LinearRegression()\n",
        "poly4.fit(feat4, y)"
      ],
      "execution_count": 18,
      "outputs": [
        {
          "output_type": "execute_result",
          "data": {
            "text/plain": [
              "LinearRegression(copy_X=True, fit_intercept=True, n_jobs=None, normalize=False)"
            ]
          },
          "metadata": {
            "tags": []
          },
          "execution_count": 18
        }
      ]
    },
    {
      "cell_type": "code",
      "metadata": {
        "colab": {
          "base_uri": "https://localhost:8080/",
          "height": 281
        },
        "id": "FhZNROz9qSPQ",
        "outputId": "f3ae92cb-3508-46f3-8e7a-69ba1d9b13bd"
      },
      "source": [
        "# visualzing results\n",
        "plt.figure(figsize=(20,4))\n",
        "\n",
        "plt.subplot(1,4,1)\n",
        "plt.scatter(X, y, color='red')\n",
        "# linear regressor\n",
        "plt.plot(X, regressor.predict(X), color='blue')\n",
        "plt.title('Linear Regression')\n",
        "\n",
        "plt.subplot(1,4,2)\n",
        "plt.scatter(X, y, color='red')\n",
        "# polynomial regression\n",
        "plt.plot(X, poly2.predict(feat2), color='blue')\n",
        "plt.title('Polynomial Regression degree 2')\n",
        "\n",
        "plt.subplot(1,4,3)\n",
        "plt.scatter(X, y, color='red')\n",
        "# polynomial regression\n",
        "plt.plot(X, poly3.predict(feat3), color='blue')\n",
        "plt.title('Polynomial Regression degree 3')\n",
        "\n",
        "plt.subplot(1,4,4)\n",
        "plt.scatter(X, y, color='red')\n",
        "# polynomial regression\n",
        "plt.plot(X, poly4.predict(feat4), color='blue')\n",
        "plt.title('Polynomial Regression degree 4')\n",
        "\n",
        "plt.show()"
      ],
      "execution_count": 39,
      "outputs": [
        {
          "output_type": "display_data",
          "data": {
            "image/png": "[encoded data removed]",
            "text/plain": [
              "<Figure size 1440x288 with 4 Axes>"
            ]
          },
          "metadata": {
            "tags": [],
            "needs_background": "light"
          }
        }
      ]
    },
    {
      "cell_type": "code",
      "metadata": {
        "id": "KYwxRfPssjSj"
      },
      "source": [
        ""
      ],
      "execution_count": null,
      "outputs": []
    }
  ]
}
