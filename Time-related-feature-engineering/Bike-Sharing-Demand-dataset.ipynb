{
 "cells": [
  {
   "cell_type": "code",
   "execution_count": 207,
   "metadata": {},
   "outputs": [],
   "source": [
    "import pandas as pd\n",
    "import numpy as np\n",
    "import matplotlib.pyplot as plt\n",
    "import seaborn as sns\n",
    "\n",
    "from sklearn.preprocessing import OneHotEncoder, OrdinalEncoder, MinMaxScaler\n",
    "from sklearn.preprocessing import FunctionTransformer, SplineTransformer, PolynomialFeatures\n",
    "\n",
    "from sklearn.compose import ColumnTransformer\n",
    "from sklearn.model_selection import TimeSeriesSplit, cross_validate, cross_val_score\n",
    "from sklearn.pipeline import make_pipeline, FeatureUnion\n",
    "\n",
    "from sklearn.metrics import mean_absolute_error, mean_squared_error, mean_poisson_deviance\n",
    "\n",
    "from sklearn.kernel_approximation import Nystroem\n",
    "\n",
    "from sklearn.linear_model import Ridge, PoissonRegressor, RidgeCV\n",
    "from sklearn.ensemble import RandomForestRegressor, HistGradientBoostingRegressor\n",
    "\n",
    "\n",
    "from feature_engine.creation import CyclicalFeatures\n",
    "\n"
   ]
  },
  {
   "attachments": {},
   "cell_type": "markdown",
   "metadata": {},
   "source": [
    "## Bike Sharing Demand dataset"
   ]
  },
  {
   "cell_type": "code",
   "execution_count": 2,
   "metadata": {},
   "outputs": [],
   "source": [
    "from sklearn.datasets import fetch_openml\n",
    "\n",
    "bike_sharing = fetch_openml(\n",
    "    \"Bike_Sharing_Demand\", version=2, as_frame=True, parser=\"pandas\"\n",
    ")\n",
    "df = bike_sharing.frame"
   ]
  },
  {
   "cell_type": "code",
   "execution_count": 3,
   "metadata": {},
   "outputs": [
    {
     "data": {
      "text/html": [
       "<div>\n",
       "<style scoped>\n",
       "    .dataframe tbody tr th:only-of-type {\n",
       "        vertical-align: middle;\n",
       "    }\n",
       "\n",
       "    .dataframe tbody tr th {\n",
       "        vertical-align: top;\n",
       "    }\n",
       "\n",
       "    .dataframe thead th {\n",
       "        text-align: right;\n",
       "    }\n",
       "</style>\n",
       "<table border=\"1\" class=\"dataframe\">\n",
       "  <thead>\n",
       "    <tr style=\"text-align: right;\">\n",
       "      <th></th>\n",
       "      <th>season</th>\n",
       "      <th>year</th>\n",
       "      <th>month</th>\n",
       "      <th>hour</th>\n",
       "      <th>holiday</th>\n",
       "      <th>weekday</th>\n",
       "      <th>workingday</th>\n",
       "      <th>weather</th>\n",
       "      <th>temp</th>\n",
       "      <th>feel_temp</th>\n",
       "      <th>humidity</th>\n",
       "      <th>windspeed</th>\n",
       "      <th>count</th>\n",
       "    </tr>\n",
       "  </thead>\n",
       "  <tbody>\n",
       "    <tr>\n",
       "      <th>0</th>\n",
       "      <td>spring</td>\n",
       "      <td>0</td>\n",
       "      <td>1</td>\n",
       "      <td>0</td>\n",
       "      <td>False</td>\n",
       "      <td>6</td>\n",
       "      <td>False</td>\n",
       "      <td>clear</td>\n",
       "      <td>9.84</td>\n",
       "      <td>14.395</td>\n",
       "      <td>0.81</td>\n",
       "      <td>0.0</td>\n",
       "      <td>16</td>\n",
       "    </tr>\n",
       "    <tr>\n",
       "      <th>1</th>\n",
       "      <td>spring</td>\n",
       "      <td>0</td>\n",
       "      <td>1</td>\n",
       "      <td>1</td>\n",
       "      <td>False</td>\n",
       "      <td>6</td>\n",
       "      <td>False</td>\n",
       "      <td>clear</td>\n",
       "      <td>9.02</td>\n",
       "      <td>13.635</td>\n",
       "      <td>0.80</td>\n",
       "      <td>0.0</td>\n",
       "      <td>40</td>\n",
       "    </tr>\n",
       "    <tr>\n",
       "      <th>2</th>\n",
       "      <td>spring</td>\n",
       "      <td>0</td>\n",
       "      <td>1</td>\n",
       "      <td>2</td>\n",
       "      <td>False</td>\n",
       "      <td>6</td>\n",
       "      <td>False</td>\n",
       "      <td>clear</td>\n",
       "      <td>9.02</td>\n",
       "      <td>13.635</td>\n",
       "      <td>0.80</td>\n",
       "      <td>0.0</td>\n",
       "      <td>32</td>\n",
       "    </tr>\n",
       "    <tr>\n",
       "      <th>3</th>\n",
       "      <td>spring</td>\n",
       "      <td>0</td>\n",
       "      <td>1</td>\n",
       "      <td>3</td>\n",
       "      <td>False</td>\n",
       "      <td>6</td>\n",
       "      <td>False</td>\n",
       "      <td>clear</td>\n",
       "      <td>9.84</td>\n",
       "      <td>14.395</td>\n",
       "      <td>0.75</td>\n",
       "      <td>0.0</td>\n",
       "      <td>13</td>\n",
       "    </tr>\n",
       "    <tr>\n",
       "      <th>4</th>\n",
       "      <td>spring</td>\n",
       "      <td>0</td>\n",
       "      <td>1</td>\n",
       "      <td>4</td>\n",
       "      <td>False</td>\n",
       "      <td>6</td>\n",
       "      <td>False</td>\n",
       "      <td>clear</td>\n",
       "      <td>9.84</td>\n",
       "      <td>14.395</td>\n",
       "      <td>0.75</td>\n",
       "      <td>0.0</td>\n",
       "      <td>1</td>\n",
       "    </tr>\n",
       "  </tbody>\n",
       "</table>\n",
       "</div>"
      ],
      "text/plain": [
       "   season  year  month  hour holiday  weekday workingday weather  temp  \\\n",
       "0  spring     0      1     0   False        6      False   clear  9.84   \n",
       "1  spring     0      1     1   False        6      False   clear  9.02   \n",
       "2  spring     0      1     2   False        6      False   clear  9.02   \n",
       "3  spring     0      1     3   False        6      False   clear  9.84   \n",
       "4  spring     0      1     4   False        6      False   clear  9.84   \n",
       "\n",
       "   feel_temp  humidity  windspeed  count  \n",
       "0     14.395      0.81        0.0     16  \n",
       "1     13.635      0.80        0.0     40  \n",
       "2     13.635      0.80        0.0     32  \n",
       "3     14.395      0.75        0.0     13  \n",
       "4     14.395      0.75        0.0      1  "
      ]
     },
     "execution_count": 3,
     "metadata": {},
     "output_type": "execute_result"
    }
   ],
   "source": [
    "df.head()"
   ]
  },
  {
   "attachments": {},
   "cell_type": "markdown",
   "metadata": {},
   "source": [
    "**The target of the prediction problem is the absolute count of bike rentals on a hourly basis:**"
   ]
  },
  {
   "cell_type": "code",
   "execution_count": 55,
   "metadata": {},
   "outputs": [],
   "source": [
    "sns.histplot(df['count']);\n",
    "plt.title('Count data distribution');"
   ]
  },
  {
   "attachments": {},
   "cell_type": "markdown",
   "metadata": {},
   "source": [
    "<img src='./plots/Count-data-distribution.png'>\n"
   ]
  },
  {
   "attachments": {},
   "cell_type": "markdown",
   "metadata": {},
   "source": [
    "### Yearly pattern"
   ]
  },
  {
   "cell_type": "code",
   "execution_count": 41,
   "metadata": {},
   "outputs": [],
   "source": [
    "temp_df = df.groupby(['year','month'])['count'].agg(['mean'])\n",
    "sns.lineplot(data=temp_df, y='mean', x='month', hue='year');"
   ]
  },
  {
   "attachments": {},
   "cell_type": "markdown",
   "metadata": {},
   "source": [
    "<img src='./plots/avg-monthly-count.png'>"
   ]
  },
  {
   "cell_type": "code",
   "execution_count": 14,
   "metadata": {},
   "outputs": [],
   "source": [
    "yearly_pattern = df.groupby(['month'])['count'].agg(['mean'])\n",
    "\n",
    "temp_df = df.copy()\n",
    "temp_df['yearly-pattern'] = temp_df['month'].apply(lambda m: yearly_pattern.loc[m]['mean'])"
   ]
  },
  {
   "cell_type": "code",
   "execution_count": 19,
   "metadata": {},
   "outputs": [],
   "source": [
    "temp_df.plot(y=['yearly-pattern'])\n",
    "plt.xticks([]);"
   ]
  },
  {
   "attachments": {},
   "cell_type": "markdown",
   "metadata": {},
   "source": [
    "<img src='./plots/yearly-pattern.png'>"
   ]
  },
  {
   "attachments": {},
   "cell_type": "markdown",
   "metadata": {},
   "source": [
    "## Weekly pattern"
   ]
  },
  {
   "cell_type": "code",
   "execution_count": 26,
   "metadata": {},
   "outputs": [],
   "source": [
    "ax = df.groupby(['weekday','hour'])['count'].agg(['mean']).plot(y=['mean'])\n",
    "ax.set(\n",
    "    title=\"Average hourly bike demand during the week\",\n",
    "    xticks=[i * 24 for i in range(7)],\n",
    "    xticklabels=[\"Sun\", \"Mon\", \"Tue\", \"Wed\", \"Thu\", \"Fri\", \"Sat\"],\n",
    "    xlabel=\"Time of the week\",\n",
    "    ylabel=\"Number of bike rentals\",\n",
    ");"
   ]
  },
  {
   "attachments": {},
   "cell_type": "markdown",
   "metadata": {},
   "source": [
    "<img src='./plots/weekly-pattern.png'>"
   ]
  },
  {
   "attachments": {},
   "cell_type": "markdown",
   "metadata": {},
   "source": [
    "#### The target of the prediction problem is the absolute count of bike rentals on a hourly basis:\n",
    "\n",
    "#### Let us rescale the target variable (number of hourly bike rentals) to predict a relative demand so that the mean absolute error is more easily interpreted as a fraction of the maximum demand."
   ]
  },
  {
   "cell_type": "code",
   "execution_count": 27,
   "metadata": {},
   "outputs": [
    {
     "data": {
      "text/plain": [
       "977"
      ]
     },
     "execution_count": 27,
     "metadata": {},
     "output_type": "execute_result"
    }
   ],
   "source": [
    "df[\"count\"].max()"
   ]
  },
  {
   "cell_type": "code",
   "execution_count": 4,
   "metadata": {},
   "outputs": [],
   "source": [
    "y = df['count']/df['count'].max()"
   ]
  },
  {
   "cell_type": "code",
   "execution_count": 50,
   "metadata": {},
   "outputs": [],
   "source": [
    "plt.figure(figsize=(15,4))\n",
    "plt.subplot(121)\n",
    "sns.histplot(df['count'])\n",
    "plt.title('Count')\n",
    "plt.subplot(122)\n",
    "sns.histplot(y)\n",
    "plt.title('Relative demand : count/max(count)');"
   ]
  },
  {
   "attachments": {},
   "cell_type": "markdown",
   "metadata": {},
   "source": [
    "<img src='./plots/relative-demand.png'>"
   ]
  },
  {
   "attachments": {},
   "cell_type": "markdown",
   "metadata": {},
   "source": [
    "## Feature and label"
   ]
  },
  {
   "cell_type": "code",
   "execution_count": 4,
   "metadata": {},
   "outputs": [
    {
     "data": {
      "text/html": [
       "<div>\n",
       "<style scoped>\n",
       "    .dataframe tbody tr th:only-of-type {\n",
       "        vertical-align: middle;\n",
       "    }\n",
       "\n",
       "    .dataframe tbody tr th {\n",
       "        vertical-align: top;\n",
       "    }\n",
       "\n",
       "    .dataframe thead th {\n",
       "        text-align: right;\n",
       "    }\n",
       "</style>\n",
       "<table border=\"1\" class=\"dataframe\">\n",
       "  <thead>\n",
       "    <tr style=\"text-align: right;\">\n",
       "      <th></th>\n",
       "      <th>season</th>\n",
       "      <th>year</th>\n",
       "      <th>month</th>\n",
       "      <th>hour</th>\n",
       "      <th>holiday</th>\n",
       "      <th>weekday</th>\n",
       "      <th>workingday</th>\n",
       "      <th>weather</th>\n",
       "      <th>temp</th>\n",
       "      <th>feel_temp</th>\n",
       "      <th>humidity</th>\n",
       "      <th>windspeed</th>\n",
       "    </tr>\n",
       "  </thead>\n",
       "  <tbody>\n",
       "    <tr>\n",
       "      <th>0</th>\n",
       "      <td>spring</td>\n",
       "      <td>0</td>\n",
       "      <td>1</td>\n",
       "      <td>0</td>\n",
       "      <td>False</td>\n",
       "      <td>6</td>\n",
       "      <td>False</td>\n",
       "      <td>clear</td>\n",
       "      <td>9.84</td>\n",
       "      <td>14.395</td>\n",
       "      <td>0.81</td>\n",
       "      <td>0.0</td>\n",
       "    </tr>\n",
       "    <tr>\n",
       "      <th>1</th>\n",
       "      <td>spring</td>\n",
       "      <td>0</td>\n",
       "      <td>1</td>\n",
       "      <td>1</td>\n",
       "      <td>False</td>\n",
       "      <td>6</td>\n",
       "      <td>False</td>\n",
       "      <td>clear</td>\n",
       "      <td>9.02</td>\n",
       "      <td>13.635</td>\n",
       "      <td>0.80</td>\n",
       "      <td>0.0</td>\n",
       "    </tr>\n",
       "    <tr>\n",
       "      <th>2</th>\n",
       "      <td>spring</td>\n",
       "      <td>0</td>\n",
       "      <td>1</td>\n",
       "      <td>2</td>\n",
       "      <td>False</td>\n",
       "      <td>6</td>\n",
       "      <td>False</td>\n",
       "      <td>clear</td>\n",
       "      <td>9.02</td>\n",
       "      <td>13.635</td>\n",
       "      <td>0.80</td>\n",
       "      <td>0.0</td>\n",
       "    </tr>\n",
       "    <tr>\n",
       "      <th>3</th>\n",
       "      <td>spring</td>\n",
       "      <td>0</td>\n",
       "      <td>1</td>\n",
       "      <td>3</td>\n",
       "      <td>False</td>\n",
       "      <td>6</td>\n",
       "      <td>False</td>\n",
       "      <td>clear</td>\n",
       "      <td>9.84</td>\n",
       "      <td>14.395</td>\n",
       "      <td>0.75</td>\n",
       "      <td>0.0</td>\n",
       "    </tr>\n",
       "    <tr>\n",
       "      <th>4</th>\n",
       "      <td>spring</td>\n",
       "      <td>0</td>\n",
       "      <td>1</td>\n",
       "      <td>4</td>\n",
       "      <td>False</td>\n",
       "      <td>6</td>\n",
       "      <td>False</td>\n",
       "      <td>clear</td>\n",
       "      <td>9.84</td>\n",
       "      <td>14.395</td>\n",
       "      <td>0.75</td>\n",
       "      <td>0.0</td>\n",
       "    </tr>\n",
       "  </tbody>\n",
       "</table>\n",
       "</div>"
      ],
      "text/plain": [
       "   season  year  month  hour holiday  weekday workingday weather  temp  \\\n",
       "0  spring     0      1     0   False        6      False   clear  9.84   \n",
       "1  spring     0      1     1   False        6      False   clear  9.02   \n",
       "2  spring     0      1     2   False        6      False   clear  9.02   \n",
       "3  spring     0      1     3   False        6      False   clear  9.84   \n",
       "4  spring     0      1     4   False        6      False   clear  9.84   \n",
       "\n",
       "   feel_temp  humidity  windspeed  \n",
       "0     14.395      0.81        0.0  \n",
       "1     13.635      0.80        0.0  \n",
       "2     13.635      0.80        0.0  \n",
       "3     14.395      0.75        0.0  \n",
       "4     14.395      0.75        0.0  "
      ]
     },
     "execution_count": 4,
     "metadata": {},
     "output_type": "execute_result"
    }
   ],
   "source": [
    "y = df['count']/df['count'].max()\n",
    "\n",
    "y_count = df.pop('count')\n",
    "\n",
    "X = df\n",
    "\n",
    "X.head()"
   ]
  },
  {
   "cell_type": "code",
   "execution_count": 52,
   "metadata": {},
   "outputs": [
    {
     "name": "stdout",
     "output_type": "stream",
     "text": [
      "<class 'pandas.core.frame.DataFrame'>\n",
      "RangeIndex: 17379 entries, 0 to 17378\n",
      "Data columns (total 12 columns):\n",
      " #   Column      Non-Null Count  Dtype   \n",
      "---  ------      --------------  -----   \n",
      " 0   season      17379 non-null  category\n",
      " 1   year        17379 non-null  int64   \n",
      " 2   month       17379 non-null  int64   \n",
      " 3   hour        17379 non-null  int64   \n",
      " 4   holiday     17379 non-null  category\n",
      " 5   weekday     17379 non-null  int64   \n",
      " 6   workingday  17379 non-null  category\n",
      " 7   weather     17379 non-null  category\n",
      " 8   temp        17379 non-null  float64 \n",
      " 9   feel_temp   17379 non-null  float64 \n",
      " 10  humidity    17379 non-null  float64 \n",
      " 11  windspeed   17379 non-null  float64 \n",
      "dtypes: category(4), float64(4), int64(4)\n",
      "memory usage: 1.1 MB\n"
     ]
    }
   ],
   "source": [
    "X.info()"
   ]
  },
  {
   "cell_type": "code",
   "execution_count": 80,
   "metadata": {},
   "outputs": [
    {
     "name": "stdout",
     "output_type": "stream",
     "text": [
      "4 category in season\n",
      "'fall'     4496\n",
      "'summer'   4409\n",
      "'spring'   4242\n",
      "'winter'   4232\n",
      "2 category in holiday\n",
      "'False'    16879\n",
      "'True'     500\n",
      "2 category in workingday\n",
      "'True'     11865\n",
      "'False'    5514\n",
      "4 category in weather\n",
      "'clear'    11413\n",
      "'misty'    4544\n",
      "'rain'     1419\n",
      "'heavy_rain' 3\n"
     ]
    }
   ],
   "source": [
    "for col in X.select_dtypes(include='category'):\n",
    "    print(X[col].nunique(),  X[col].dtype, 'in', col)\n",
    "    [print(f'{k !r:10s}', v) for k,v in X[col].value_counts().items()]\n"
   ]
  },
  {
   "attachments": {},
   "cell_type": "markdown",
   "metadata": {},
   "source": [
    "#### Since there are only `3` \"heavy_rain\" events, we cannot use this category to train machine learning models with cross validation. Instead, we simplify the representation by collapsing those into the \"rain\" category."
   ]
  },
  {
   "cell_type": "code",
   "execution_count": 81,
   "metadata": {},
   "outputs": [
    {
     "data": {
      "text/plain": [
       "clear    11413\n",
       "misty     4544\n",
       "rain      1422\n",
       "Name: weather, dtype: int64"
      ]
     },
     "execution_count": 81,
     "metadata": {},
     "output_type": "execute_result"
    }
   ],
   "source": [
    "X['weather'] = X['weather'].replace(to_replace='heavy_rain', value='rain')\n",
    "X['weather'].value_counts()"
   ]
  },
  {
   "attachments": {},
   "cell_type": "markdown",
   "metadata": {},
   "source": [
    "## Time-based cross-validation\n",
    "\n",
    "Since the dataset is a time-ordered event log (hourly demand), we will use a time-sensitive cross-validation splitter to evaluate our demand forecasting model as realistically as possible. \n",
    "\n",
    "* We use a gap of 2 days between the train and test side of the splits. \n",
    "* We also limit the training set size to make the performance of the CV folds more stable."
   ]
  },
  {
   "cell_type": "code",
   "execution_count": 5,
   "metadata": {},
   "outputs": [],
   "source": [
    "\n",
    "\n",
    "tscv = TimeSeriesSplit(\n",
    "    n_splits=5,\n",
    "    gap=48, #2day gap\n",
    "    max_train_size=10000,\n",
    "    test_size=1000\n",
    ")"
   ]
  },
  {
   "cell_type": "code",
   "execution_count": 74,
   "metadata": {},
   "outputs": [],
   "source": [
    "all_splits = list(tscv.split(X,y))"
   ]
  },
  {
   "attachments": {},
   "cell_type": "markdown",
   "metadata": {},
   "source": [
    "## Gradient Boosting\n",
    "Gradient Boosting Regression with decision trees is often flexible enough to efficiently handle heteorogenous tabular data with a mix of categorical and numerical features as long as the number of samples is large enough.\n",
    "\n",
    "#### Data preprocessing\n",
    "* Categorical variables are encoded using ordinal encoding and then let the model know that it should treat those as categorical variables by using a dedicated tree splitting rule. \n",
    "\n",
    "* Since we use an ordinal encoder, we pass the list of categorical values explicitly to use a logical order when encoding the categories as integers instead of the lexicographical order. This also has the added benefit of preventing any issue with unknown categories when using cross-validation.\n",
    "\n",
    "* The numerical variables need no preprocessing "
   ]
  },
  {
   "cell_type": "code",
   "execution_count": 7,
   "metadata": {},
   "outputs": [
    {
     "data": {
      "text/plain": [
       "['season', 'holiday', 'workingday', 'weather']"
      ]
     },
     "execution_count": 7,
     "metadata": {},
     "output_type": "execute_result"
    }
   ],
   "source": [
    "categorical_columns = [col for col in X.select_dtypes(include='category')]\n",
    "categorical_columns"
   ]
  },
  {
   "cell_type": "code",
   "execution_count": 8,
   "metadata": {},
   "outputs": [
    {
     "data": {
      "text/plain": [
       "[['fall', 'summer', 'spring', 'winter'],\n",
       " ['False', 'True'],\n",
       " ['True', 'False'],\n",
       " ['clear', 'misty', 'rain', 'heavy_rain']]"
      ]
     },
     "execution_count": 8,
     "metadata": {},
     "output_type": "execute_result"
    }
   ],
   "source": [
    "categories = [list(X[col].value_counts().index) for col in categorical_columns]\n",
    "categories"
   ]
  },
  {
   "cell_type": "code",
   "execution_count": 9,
   "metadata": {},
   "outputs": [],
   "source": [
    "categories_encoder = OrdinalEncoder(categories=categories)\n",
    "\n",
    "categories_transformer = ColumnTransformer(transformers=[\n",
    "    ('categories', categories_encoder, categorical_columns)\n",
    "], verbose_feature_names_out=False, remainder='passthrough')"
   ]
  },
  {
   "attachments": {},
   "cell_type": "markdown",
   "metadata": {},
   "source": [
    "### Model Pipeline"
   ]
  },
  {
   "cell_type": "code",
   "execution_count": 13,
   "metadata": {},
   "outputs": [],
   "source": [
    "gbrt_model = HistGradientBoostingRegressor(loss='poisson', categorical_features=categorical_columns)\n",
    "gbrt_pipe = make_pipeline(categories_transformer, gbrt_model).set_output(transform=\"pandas\")"
   ]
  },
  {
   "attachments": {},
   "cell_type": "markdown",
   "metadata": {},
   "source": [
    "### Model Evaluation"
   ]
  },
  {
   "cell_type": "code",
   "execution_count": 162,
   "metadata": {},
   "outputs": [],
   "source": [
    "def evaluate_pipeline(pipe, X, y, cv, is_ridge=False):\n",
    "\n",
    "    scoring=[\"neg_mean_absolute_error\", \n",
    "             \"neg_root_mean_squared_error\",\n",
    "            ]\n",
    "\n",
    "    scoring = scoring if is_ridge else scoring + [\"neg_mean_poisson_deviance\"]\n",
    "    score = cross_validate(pipe, X, y, cv=cv, scoring=scoring)\n",
    "    \n",
    "    mae = -1 * np.mean(score['test_neg_mean_absolute_error'])\n",
    "    mse = -1 * np.mean(score['test_neg_root_mean_squared_error'])\n",
    "\n",
    "    if not is_ridge:\n",
    "        mpd = -1 * np.mean(score['test_neg_mean_poisson_deviance'])\n",
    "    result = f'Mean absolute error : {mae}\\nMean squared error : {mse}'\n",
    "    result = result if is_ridge else result+f'\\nMean poisson deviance : {mpd}'\n",
    "    print(result)\n",
    "    return score  "
   ]
  },
  {
   "cell_type": "code",
   "execution_count": 54,
   "metadata": {},
   "outputs": [
    {
     "name": "stdout",
     "output_type": "stream",
     "text": [
      "Mean absolute error : 0.043542656365207086\n",
      "Mean squared error : 0.06805682902151214\n",
      "Mean poisson deviance : 0.015468297214049223\n"
     ]
    }
   ],
   "source": [
    "score = evaluate_pipeline(gbrt_pipe, X , y, tscv)"
   ]
  },
  {
   "attachments": {},
   "cell_type": "markdown",
   "metadata": {},
   "source": [
    "* This model has an average error around 4 to 5% of the maximum demand. \n",
    "* This is quite good for a first trial without any hyper-parameter tuning! We just had to make the categorical variables explicit. \n",
    "\n",
    "* Note that the time related features are passed as is, i.e. without processing them. But this is not much of a problem for tree-based models as they can learn a non-monotonic relationship between ordinal input features and the target. This is not the case for linear regression models"
   ]
  },
  {
   "attachments": {},
   "cell_type": "markdown",
   "metadata": {},
   "source": [
    "## Ridge Regression : Linear Model\n",
    "\n",
    "* For linear models, categorical variables need to be one-hot encoded. \n",
    "* For consistency, we scale the numerical features to the same 0-1 range \n",
    "    * using :  `sklearn.preprocessing.MinMaxScaler`"
   ]
  },
  {
   "cell_type": "code",
   "execution_count": 11,
   "metadata": {},
   "outputs": [],
   "source": [
    "preprocessing = {}\n",
    "\n",
    "preprocessing['one-hot-cat-feats'] = ColumnTransformer(transformers=[\n",
    "    ('categories', OneHotEncoder(handle_unknown='ignore', sparse_output=False), categorical_columns)\n",
    "], remainder=MinMaxScaler() )\n",
    "\n",
    "ridge = RidgeCV(alphas=np.logspace(-6,6,25))\n",
    "\n",
    "ridge_pipe = make_pipeline(preprocessing['one-hot-cat-feats'], ridge)"
   ]
  },
  {
   "cell_type": "code",
   "execution_count": 12,
   "metadata": {},
   "outputs": [
    {
     "name": "stdout",
     "output_type": "stream",
     "text": [
      "Mean absolute error : 0.14208882769310194\n",
      "Mean squared error : 0.18377516494744364\n"
     ]
    }
   ],
   "source": [
    "score = evaluate_pipeline(ridge_pipe, X, y, tscv, is_ridge=True)"
   ]
  },
  {
   "attachments": {},
   "cell_type": "markdown",
   "metadata": {},
   "source": [
    "* The performance is not good: the average error is around 14% of the maximum demand. \n",
    "* This is more than three times higher than the average error of the gradient boosting model. \n",
    "* We can suspect that the naive original encoding (merely min-max scaled) of the periodic time-related features might prevent the linear regression model to properly leverage the time information: \n",
    "* linear regression does not automatically model non-monotonic relationships between the input features and the target. \n",
    "* Non-linear terms have to be engineered in the input."
   ]
  },
  {
   "attachments": {},
   "cell_type": "markdown",
   "metadata": {},
   "source": [
    "## Feature Engineering : Time-steps as categories\n",
    "* Non-linear terms have to be engineered in the input.\n",
    "* Since the time features are encoded in a discrete manner using integers \n",
    "* 24 unique values in the “hours” feature\n",
    "* We could decide to treat those as categorical variables using a one-hot encoding \n",
    "* When we do onehot encoding we are ignoring any assumption implied by the ordering of the hour values.\n",
    "* Using one-hot encoding for the time features gives the linear model a lot more flexibility as we introduce one additional feature per discrete time level."
   ]
  },
  {
   "cell_type": "code",
   "execution_count": 13,
   "metadata": {},
   "outputs": [],
   "source": [
    "time_one_hot_transformer = OneHotEncoder(handle_unknown='ignore')\n",
    "time_columns = ['hour', 'month', 'year', 'weekday']\n",
    "\n",
    "preprocessing['time-step-as-cat'] = ColumnTransformer(transformers=[\n",
    "    ('categories', categories_transformer, categorical_columns),\n",
    "    ('time', time_one_hot_transformer, time_columns)\n",
    "], remainder=MinMaxScaler())"
   ]
  },
  {
   "attachments": {},
   "cell_type": "markdown",
   "metadata": {},
   "source": [
    "### Ridge : Linear model"
   ]
  },
  {
   "cell_type": "code",
   "execution_count": 14,
   "metadata": {},
   "outputs": [
    {
     "name": "stdout",
     "output_type": "stream",
     "text": [
      "Mean absolute error : 0.09900738311949747\n",
      "Mean squared error : 0.1317585290395531\n"
     ]
    }
   ],
   "source": [
    "ridge = RidgeCV(alphas=np.logspace(-6,6,25))\n",
    "ridge_pipe = make_pipeline(preprocessing['time-step-as-cat'], ridge)\n",
    "\n",
    "score = evaluate_pipeline(ridge_pipe, X, y, cv=tscv, is_ridge=True)"
   ]
  },
  {
   "attachments": {},
   "cell_type": "markdown",
   "metadata": {},
   "source": [
    "#### The average error rate of this model is 10% which is much better than using the original (ordinal) encoding of the time feature, confirming our intuition that the linear regression model benefits from the added flexibility to not treat time progression in a monotonic manner.\n",
    "\n",
    "#### However, this introduces a very large number of new features. \n",
    "#### This could cause some significant overfitting. \n",
    "\n",
    "#### To avoid this we could use `sklearn.preprocessing.KBinsDiscretizer` instead to re-bin the number of levels of fine-grained ordinal or numerical variables while still benefitting from the non-monotonic expressivity advantages of one-hot encoding.\n",
    "\n",
    "#### The one-hot encoding completely ignores the ordering of the hour levels while this could be an interesting inductive bias to preserve to some level. \n",
    "\n",
    "#### Lets try to explore smooth, non-monotonic encoding that locally preserves the relative ordering of time features."
   ]
  },
  {
   "attachments": {},
   "cell_type": "markdown",
   "metadata": {},
   "source": [
    "## Trigonometric features\n",
    "* #### Encode each of those periodic features using a sine and cosine transformation with the matching period."
   ]
  },
  {
   "attachments": {},
   "cell_type": "markdown",
   "metadata": {},
   "source": [
    "### Cyclic Feature creation  Using Feature Engine "
   ]
  },
  {
   "cell_type": "code",
   "execution_count": 16,
   "metadata": {},
   "outputs": [],
   "source": [
    "# Using Feature Engine \n",
    "cyclic_feat_transformer = CyclicalFeatures(variables=['hour', 'month', 'weekday'], drop_original=True)"
   ]
  },
  {
   "cell_type": "code",
   "execution_count": 17,
   "metadata": {},
   "outputs": [],
   "source": [
    "preprocessing['feature-engine-cyclic-feat'] = ColumnTransformer(transformers=[\n",
    "    ('categories', categories_transformer, categorical_columns),\n",
    "    ('time', cyclic_feat_transformer, ['hour', 'month', 'weekday'])\n",
    "], remainder=MinMaxScaler())"
   ]
  },
  {
   "attachments": {},
   "cell_type": "markdown",
   "metadata": {},
   "source": [
    "### Ridge Linear model"
   ]
  },
  {
   "cell_type": "code",
   "execution_count": 18,
   "metadata": {},
   "outputs": [
    {
     "name": "stdout",
     "output_type": "stream",
     "text": [
      "Mean absolute error : 0.12489963757582949\n",
      "Mean squared error : 0.16896780602464204\n"
     ]
    }
   ],
   "source": [
    "ridge = RidgeCV(alphas=np.logspace(-6,6,25))\n",
    "ridge_pipe = make_pipeline(preprocessing['feature-engine-cyclic-feat'], ridge)\n",
    "\n",
    "score = evaluate_pipeline(ridge_pipe, X, y, cv=tscv, is_ridge=True)"
   ]
  },
  {
   "attachments": {},
   "cell_type": "markdown",
   "metadata": {},
   "source": [
    "### Using python and function transformer : to encode time related features"
   ]
  },
  {
   "cell_type": "code",
   "execution_count": 19,
   "metadata": {},
   "outputs": [],
   "source": [
    "# using python and function transformer\n",
    "\n",
    "def sine_transformer(period):\n",
    "    return FunctionTransformer(lambda x: np.sin(x / (2*np.pi*period)) )\n",
    "\n",
    "def cosine_transformer(period):\n",
    "    return FunctionTransformer(lambda x: np.cos(x / (2*np.pi*period)) )"
   ]
  },
  {
   "cell_type": "code",
   "execution_count": 20,
   "metadata": {},
   "outputs": [],
   "source": [
    "preprocessing['function-transformer-cyclic-feat'] = ColumnTransformer(transformers=[\n",
    "    ('categories', categories_transformer, categorical_columns),\n",
    "    ('hour_sine', sine_transformer(period=24), ['hour']),\n",
    "    ('hour_cosine', cosine_transformer(period=24), ['hour']),\n",
    "    ('weekday_sine', sine_transformer(period=7), ['weekday']),\n",
    "    ('weekday_cosine', cosine_transformer(period=7), ['weekday']),\n",
    "    ('month_sine', sine_transformer(period=12), ['month']),\n",
    "    ('month_cosine', cosine_transformer(period=12), ['month']),\n",
    "], remainder=MinMaxScaler())\n"
   ]
  },
  {
   "attachments": {},
   "cell_type": "markdown",
   "metadata": {},
   "source": [
    "### Ridge : Linear model"
   ]
  },
  {
   "cell_type": "code",
   "execution_count": 21,
   "metadata": {},
   "outputs": [
    {
     "name": "stdout",
     "output_type": "stream",
     "text": [
      "Mean absolute error : 0.13267727130310028\n",
      "Mean squared error : 0.16870052123758555\n"
     ]
    }
   ],
   "source": [
    "ridge = RidgeCV(alphas=np.logspace(-6,6,25))\n",
    "ridge_pipe = make_pipeline(preprocessing['function-transformer-cyclic-feat'], ridge)\n",
    "\n",
    "score = evaluate_pipeline(ridge_pipe, X, y, cv=tscv, is_ridge=True)"
   ]
  },
  {
   "attachments": {},
   "cell_type": "markdown",
   "metadata": {},
   "source": [
    "#### The performance of our linear regression model with this simple feature engineering is a bit better than using the original ordinal time features but worse than using the one-hot encoded time features."
   ]
  },
  {
   "attachments": {},
   "cell_type": "markdown",
   "metadata": {},
   "source": [
    "## Periodic spline features"
   ]
  },
  {
   "cell_type": "code",
   "execution_count": 22,
   "metadata": {},
   "outputs": [],
   "source": [
    "def bsplines(period, n_knots=None, degree=3):\n",
    "    if n_knots is None:\n",
    "        n_knots = period\n",
    "\n",
    "    # periodic and include_bias is True   \n",
    "    n_knots =  n_knots+1\n",
    "\n",
    "    knots = np.linspace(0, period, n_knots)[:, np.newaxis]\n",
    "    return SplineTransformer(n_knots=n_knots, degree=degree, knots=knots, extrapolation='periodic')\n",
    "\n",
    "\n",
    "\n",
    "preprocessing['splines'] = ColumnTransformer(transformers=[\n",
    "    ('categories', OneHotEncoder(handle_unknown='ignore', sparse_output=False), categorical_columns),\n",
    "    ('spline_hour', bsplines(period=24, n_knots=12), ['hour']),\n",
    "    ('spline_week', bsplines(period=7, n_knots=3), ['weekday']),\n",
    "    ('spline_month', bsplines(period=12, n_knots=6), ['month'])\n",
    "], remainder=MinMaxScaler())"
   ]
  },
  {
   "attachments": {},
   "cell_type": "markdown",
   "metadata": {},
   "source": [
    "### Ridge : Linear model"
   ]
  },
  {
   "cell_type": "code",
   "execution_count": 23,
   "metadata": {},
   "outputs": [
    {
     "name": "stdout",
     "output_type": "stream",
     "text": [
      "Mean absolute error : 0.09758859484448687\n",
      "Mean squared error : 0.13232174908350575\n"
     ]
    }
   ],
   "source": [
    "ridge = RidgeCV(alphas=np.logspace(-6,6,25))\n",
    "ridge_pipe = make_pipeline(preprocessing['splines'], ridge)\n",
    "\n",
    "score = evaluate_pipeline(ridge_pipe, X, y, cv=tscv, is_ridge=True)"
   ]
  },
  {
   "attachments": {},
   "cell_type": "markdown",
   "metadata": {},
   "source": [
    "## Visualize prediction"
   ]
  },
  {
   "cell_type": "code",
   "execution_count": 189,
   "metadata": {},
   "outputs": [],
   "source": [
    "def visualize_prediction(model, prep, split=-1, title='Model performance'):\n",
    "    train_id, test_id = all_splits[split]\n",
    "    model = make_pipeline(preprocessing[prep], model)\n",
    "    model.fit(X.iloc[train_id], y.iloc[train_id])\n",
    "    y_preds = model.predict(X.iloc[test_id])\n",
    "    y_true = y.iloc[test_id]\n",
    "\n",
    "    plt.figure(figsize=(15,4))\n",
    "    plt.plot(y_preds, c='b', alpha=0.6, linewidth=2, label='y-pred')\n",
    "    plt.plot(y_true.reset_index(drop=True), c='k', linewidth=3, alpha=0.6, label='y-true')  \n",
    "    mae = mean_absolute_error(y_true , y_preds)\n",
    "    plt.title(f'Prediction on Test split : {split}\\nMean absolute error : {mae :0.2f}\\n{title}')\n",
    "    plt.legend()\n",
    "\n"
   ]
  },
  {
   "cell_type": "code",
   "execution_count": 77,
   "metadata": {},
   "outputs": [
    {
     "data": {
      "text/plain": [
       "dict_keys(['one-hot-cat-feats', 'time-step-as-cat', 'feature-engine-cyclic-feat', 'function-transformer-cyclic-feat', 'splines'])"
      ]
     },
     "execution_count": 77,
     "metadata": {},
     "output_type": "execute_result"
    }
   ],
   "source": [
    "preprocessing.keys()"
   ]
  },
  {
   "attachments": {},
   "cell_type": "markdown",
   "metadata": {},
   "source": [
    "#### The raw ordinal time-related features are problematic because they do not capture the natural periodicity\n",
    "\n",
    "* we observe a big jump in the predictions at the end of each day when the hour features goes from 23 back to 0. \n",
    "* We can expect similar artifacts at the end of each week or each year."
   ]
  },
  {
   "cell_type": "code",
   "execution_count": 174,
   "metadata": {},
   "outputs": [],
   "source": [
    "visualize_prediction(model=ridge_pipe, prep='one-hot-cat-feats', split=4, title='Using raw ordianl time-related features') "
   ]
  },
  {
   "attachments": {},
   "cell_type": "markdown",
   "metadata": {},
   "source": [
    "<img src='./plots/prediction-on-test-split-4-using-raw-time-feats.png'>"
   ]
  },
  {
   "attachments": {},
   "cell_type": "markdown",
   "metadata": {},
   "source": [
    "#### The trigonometric features (sine and cosine) do not have these discontinuities at midnight, but the linear regression model fails to leverage those features to properly model intra-day variations. \n",
    "\n",
    "* Using trigonometric features for higher harmonics or additional trigonometric features for the natural period with different phases could potentially fix this problem.\n"
   ]
  },
  {
   "cell_type": "code",
   "execution_count": 176,
   "metadata": {},
   "outputs": [],
   "source": [
    "visualize_prediction(model=ridge_pipe, prep='feature-engine-cyclic-feat', split=4, title='Using Trigonometric features') "
   ]
  },
  {
   "attachments": {},
   "cell_type": "markdown",
   "metadata": {},
   "source": [
    "<img src='./plots/prediction-on-test-split-4-using-trigonometric-fn.png'>"
   ]
  },
  {
   "attachments": {},
   "cell_type": "markdown",
   "metadata": {},
   "source": [
    "#### The one-hot encoded features behave similarly to the periodic spline-based features but are more spiky: \n",
    "* for instance they can better model the morning peak during the week days since this peak lasts shorter than an hour. "
   ]
  },
  {
   "cell_type": "code",
   "execution_count": 178,
   "metadata": {},
   "outputs": [],
   "source": [
    "visualize_prediction(model=ridge_pipe, prep='time-step-as-cat', split=4, title='One hot encode the time related features') "
   ]
  },
  {
   "attachments": {},
   "cell_type": "markdown",
   "metadata": {},
   "source": [
    "<img src='./plots/prediction-on-test-split-4-using-onhot-time-feats.png'>"
   ]
  },
  {
   "attachments": {},
   "cell_type": "markdown",
   "metadata": {},
   "source": [
    "#### The periodic spline-based features fix those two problems at once: \n",
    "* they give more expressivity to the linear model by making it possible to focus on specific hours thanks to the use of 12 splines.\n",
    "* Furthermore the extrapolation=\"periodic\" option enforces a smooth representation between hour=23 and hour=0."
   ]
  },
  {
   "cell_type": "code",
   "execution_count": 180,
   "metadata": {},
   "outputs": [],
   "source": [
    "visualize_prediction(model=ridge_pipe, prep='splines', split=4, title='Using Bspline') "
   ]
  },
  {
   "attachments": {},
   "cell_type": "markdown",
   "metadata": {},
   "source": [
    "<img src='./plots/prediction-on-test-split-4-using-bsplines.png'>"
   ]
  },
  {
   "attachments": {},
   "cell_type": "markdown",
   "metadata": {},
   "source": [
    "## Poisson : Linear model\n",
    "\n",
    "for count data poisson regression model perform better"
   ]
  },
  {
   "cell_type": "code",
   "execution_count": 104,
   "metadata": {},
   "outputs": [
    {
     "name": "stdout",
     "output_type": "stream",
     "text": [
      "Mean absolute error : 0.08485637886975902\n",
      "Mean squared error : 0.12176804729934257\n",
      "Mean poisson deviance : 0.04677918910686696\n"
     ]
    }
   ],
   "source": [
    "poisson = PoissonRegressor(alpha=0.0001)\n",
    "poisson_pipe = make_pipeline(preprocessing['splines'], poisson)\n",
    "\n",
    "score = evaluate_pipeline(poisson_pipe, X, y, cv=tscv)"
   ]
  },
  {
   "cell_type": "code",
   "execution_count": 191,
   "metadata": {},
   "outputs": [],
   "source": [
    "\n",
    "visualize_prediction(model=PoissonRegressor(alpha=0.0001), prep='splines', split=4, title='Using spline Feature and Possion regression model') "
   ]
  },
  {
   "attachments": {},
   "cell_type": "markdown",
   "metadata": {},
   "source": [
    "<img src='./plots/poisson-prediction-test-split-4.png'>"
   ]
  },
  {
   "attachments": {},
   "cell_type": "markdown",
   "metadata": {},
   "source": [
    "## Gradient Boosted Trees\n",
    "\n",
    "Tree models has Better capacity to model the data"
   ]
  },
  {
   "cell_type": "code",
   "execution_count": 195,
   "metadata": {},
   "outputs": [
    {
     "name": "stdout",
     "output_type": "stream",
     "text": [
      "Mean absolute error : 0.044157374703357066\n",
      "Mean squared error : 0.06831652920376208\n",
      "Mean poisson deviance : 0.01591682812154367\n"
     ]
    }
   ],
   "source": [
    "gbrt = HistGradientBoostingRegressor(loss='poisson')\n",
    "gbrt_pipe = make_pipeline(preprocessing['splines'], gbrt)\n",
    "\n",
    "score = evaluate_pipeline(gbrt_pipe, X, y, cv=tscv)"
   ]
  },
  {
   "cell_type": "code",
   "execution_count": 198,
   "metadata": {},
   "outputs": [],
   "source": [
    "visualize_prediction(model=HistGradientBoostingRegressor(loss='poisson'), prep='splines', split=4, title='Using spline Feature and HistGradientBoostingRegressor model') "
   ]
  },
  {
   "attachments": {},
   "cell_type": "markdown",
   "metadata": {},
   "source": [
    "<img src='./plots/GBRT-prediction-on-test-split-4-plot.png'>"
   ]
  },
  {
   "attachments": {},
   "cell_type": "markdown",
   "metadata": {},
   "source": [
    "#### This confirms that the one-hot encoding and the spline encoding strategies create a lot more features for the time representation than the alternatives, which in turn gives the downstream linear model more flexibility (degrees of freedom) to avoid underfitting.\n",
    "\n",
    "#### Finally, we observe that **none of the linear models** can approximate the true bike rentals demand, especially for the peaks that can be very sharp at rush hours during the working days but much flatter during the week-ends: \n",
    "\n",
    "#### Even the most accurate linear models based on splines or one-hot encoding tend to under-estimate the commuting-related events during the working days.\n",
    "\n",
    "#### These systematic prediction errors reveal a form of under-fitting and can be explained by the lack of interactions terms between features, e.g. “`workingday`” and features derived from “`hours`”. "
   ]
  },
  {
   "attachments": {},
   "cell_type": "markdown",
   "metadata": {},
   "source": [
    "## Modeling pairwise interactions with splines and polynomial features\n",
    "Linear models do not automatically capture interaction effects between input features. \n",
    "\n",
    "Features constructed by SplineTransformer or one-hot encoding or binning are  marginally non-linear\n",
    "\n",
    "However, it is possible to use the PolynomialFeatures class on `coarse grained spline encoded hours` to model the “`workingday`”/”`hours`” interaction explicitly without introducing too many new variables:"
   ]
  },
  {
   "cell_type": "code",
   "execution_count": 148,
   "metadata": {},
   "outputs": [],
   "source": [
    "# Hour -- feature\n",
    "n_knots = 8\n",
    "period = 24\n",
    "knots = np.linspace(0, period, n_knots)[:, np.newaxis]\n",
    "\n",
    "spline_transform = SplineTransformer(n_knots=n_knots, knots=knots, extrapolation='periodic')"
   ]
  },
  {
   "cell_type": "code",
   "execution_count": 149,
   "metadata": {},
   "outputs": [
    {
     "data": {
      "text/plain": [
       "True     11865\n",
       "False     5514\n",
       "Name: workingday, dtype: int64"
      ]
     },
     "execution_count": 149,
     "metadata": {},
     "output_type": "execute_result"
    }
   ],
   "source": [
    "# working day -- feature\n",
    "X['workingday'].value_counts()"
   ]
  },
  {
   "cell_type": "code",
   "execution_count": 150,
   "metadata": {},
   "outputs": [],
   "source": [
    "def working_day_transform():\n",
    "    return FunctionTransformer(func=lambda x: x=='True')"
   ]
  },
  {
   "cell_type": "code",
   "execution_count": 151,
   "metadata": {},
   "outputs": [],
   "source": [
    "# features\n",
    "preprocessing['splines-coarse-grained'] = ColumnTransformer(\n",
    "    transformers=[\n",
    "        ('cyclic_hour', spline_transform, ['hour']),\n",
    "        ('workingDay', working_day_transform(), ['workingday'])\n",
    "    ]\n",
    ")"
   ]
  },
  {
   "cell_type": "code",
   "execution_count": 152,
   "metadata": {},
   "outputs": [],
   "source": [
    "# feature interaction\n",
    "hour_workday_interaction = make_pipeline(\n",
    "    preprocessing['splines-coarse-grained'], \n",
    "    PolynomialFeatures(degree=2, interaction_only=True, include_bias=False)\n",
    ")"
   ]
  },
  {
   "cell_type": "code",
   "execution_count": 134,
   "metadata": {},
   "outputs": [
    {
     "data": {
      "text/plain": [
       "(17379, 8)"
      ]
     },
     "execution_count": 134,
     "metadata": {},
     "output_type": "execute_result"
    }
   ],
   "source": [
    "# example -- output shape after feature processing\n",
    "preprocessing['splines-coarse-grained'].fit_transform(X[['hour', 'workingday']]).shape"
   ]
  },
  {
   "cell_type": "code",
   "execution_count": 137,
   "metadata": {},
   "outputs": [
    {
     "data": {
      "text/plain": [
       "(17379, 36)"
      ]
     },
     "execution_count": 137,
     "metadata": {},
     "output_type": "execute_result"
    }
   ],
   "source": [
    "# example interaction modeling\n",
    "hour_workday_interaction.fit_transform(X[['hour', 'workingday']]).shape"
   ]
  },
  {
   "attachments": {},
   "cell_type": "markdown",
   "metadata": {},
   "source": [
    "Those features are then combined with the ones already computed in the previous spline-base pipeline. We can observe a nice performance improvemnt by modeling this pairwise interaction explicitly:"
   ]
  },
  {
   "cell_type": "code",
   "execution_count": 163,
   "metadata": {},
   "outputs": [],
   "source": [
    "preprocessing['splines_interaction'] = FeatureUnion(transformer_list=[\n",
    "    ('marginal', preprocessing['splines']),\n",
    "    ('interaction', hour_workday_interaction)\n",
    "])"
   ]
  },
  {
   "cell_type": "code",
   "execution_count": 171,
   "metadata": {},
   "outputs": [
    {
     "name": "stdout",
     "output_type": "stream",
     "text": [
      "Mean absolute error : 0.07715996024731678\n",
      "Mean squared error : 0.10335407739035869\n"
     ]
    }
   ],
   "source": [
    "ridge = RidgeCV(alphas=np.logspace(-6,6,25))\n",
    "ridge_pipe = make_pipeline( preprocessing['splines_interaction'], ridge)\n",
    "score = evaluate_pipeline(ridge_pipe, X , y, tscv, is_ridge=True)"
   ]
  },
  {
   "attachments": {},
   "cell_type": "markdown",
   "metadata": {},
   "source": [
    "## Linear model : Ridge"
   ]
  },
  {
   "cell_type": "code",
   "execution_count": 165,
   "metadata": {},
   "outputs": [
    {
     "data": {
      "text/html": [
       "<style>#sk-container-id-3 {color: black;background-color: white;}#sk-container-id-3 pre{padding: 0;}#sk-container-id-3 div.sk-toggleable {background-color: white;}#sk-container-id-3 label.sk-toggleable__label {cursor: pointer;display: block;width: 100%;margin-bottom: 0;padding: 0.3em;box-sizing: border-box;text-align: center;}#sk-container-id-3 label.sk-toggleable__label-arrow:before {content: \"▸\";float: left;margin-right: 0.25em;color: #696969;}#sk-container-id-3 label.sk-toggleable__label-arrow:hover:before {color: black;}#sk-container-id-3 div.sk-estimator:hover label.sk-toggleable__label-arrow:before {color: black;}#sk-container-id-3 div.sk-toggleable__content {max-height: 0;max-width: 0;overflow: hidden;text-align: left;background-color: #f0f8ff;}#sk-container-id-3 div.sk-toggleable__content pre {margin: 0.2em;color: black;border-radius: 0.25em;background-color: #f0f8ff;}#sk-container-id-3 input.sk-toggleable__control:checked~div.sk-toggleable__content {max-height: 200px;max-width: 100%;overflow: auto;}#sk-container-id-3 input.sk-toggleable__control:checked~label.sk-toggleable__label-arrow:before {content: \"▾\";}#sk-container-id-3 div.sk-estimator input.sk-toggleable__control:checked~label.sk-toggleable__label {background-color: #d4ebff;}#sk-container-id-3 div.sk-label input.sk-toggleable__control:checked~label.sk-toggleable__label {background-color: #d4ebff;}#sk-container-id-3 input.sk-hidden--visually {border: 0;clip: rect(1px 1px 1px 1px);clip: rect(1px, 1px, 1px, 1px);height: 1px;margin: -1px;overflow: hidden;padding: 0;position: absolute;width: 1px;}#sk-container-id-3 div.sk-estimator {font-family: monospace;background-color: #f0f8ff;border: 1px dotted black;border-radius: 0.25em;box-sizing: border-box;margin-bottom: 0.5em;}#sk-container-id-3 div.sk-estimator:hover {background-color: #d4ebff;}#sk-container-id-3 div.sk-parallel-item::after {content: \"\";width: 100%;border-bottom: 1px solid gray;flex-grow: 1;}#sk-container-id-3 div.sk-label:hover label.sk-toggleable__label {background-color: #d4ebff;}#sk-container-id-3 div.sk-serial::before {content: \"\";position: absolute;border-left: 1px solid gray;box-sizing: border-box;top: 0;bottom: 0;left: 50%;z-index: 0;}#sk-container-id-3 div.sk-serial {display: flex;flex-direction: column;align-items: center;background-color: white;padding-right: 0.2em;padding-left: 0.2em;position: relative;}#sk-container-id-3 div.sk-item {position: relative;z-index: 1;}#sk-container-id-3 div.sk-parallel {display: flex;align-items: stretch;justify-content: center;background-color: white;position: relative;}#sk-container-id-3 div.sk-item::before, #sk-container-id-3 div.sk-parallel-item::before {content: \"\";position: absolute;border-left: 1px solid gray;box-sizing: border-box;top: 0;bottom: 0;left: 50%;z-index: -1;}#sk-container-id-3 div.sk-parallel-item {display: flex;flex-direction: column;z-index: 1;position: relative;background-color: white;}#sk-container-id-3 div.sk-parallel-item:first-child::after {align-self: flex-end;width: 50%;}#sk-container-id-3 div.sk-parallel-item:last-child::after {align-self: flex-start;width: 50%;}#sk-container-id-3 div.sk-parallel-item:only-child::after {width: 0;}#sk-container-id-3 div.sk-dashed-wrapped {border: 1px dashed gray;margin: 0 0.4em 0.5em 0.4em;box-sizing: border-box;padding-bottom: 0.4em;background-color: white;}#sk-container-id-3 div.sk-label label {font-family: monospace;font-weight: bold;display: inline-block;line-height: 1.2em;}#sk-container-id-3 div.sk-label-container {text-align: center;}#sk-container-id-3 div.sk-container {/* jupyter's `normalize.less` sets `[hidden] { display: none; }` but bootstrap.min.css set `[hidden] { display: none !important; }` so we also need the `!important` here to be able to override the default hidden behavior on the sphinx rendered scikit-learn.org. See: https://github.com/scikit-learn/scikit-learn/issues/21755 */display: inline-block !important;position: relative;}#sk-container-id-3 div.sk-text-repr-fallback {display: none;}</style><div id=\"sk-container-id-3\" class=\"sk-top-container\"><div class=\"sk-text-repr-fallback\"><pre>Pipeline(steps=[(&#x27;featureunion&#x27;,\n",
       "                 FeatureUnion(transformer_list=[(&#x27;marginal&#x27;,\n",
       "                                                 ColumnTransformer(remainder=MinMaxScaler(),\n",
       "                                                                   transformers=[(&#x27;categories&#x27;,\n",
       "                                                                                  OneHotEncoder(handle_unknown=&#x27;ignore&#x27;,\n",
       "                                                                                                sparse_output=False),\n",
       "                                                                                  [&#x27;season&#x27;,\n",
       "                                                                                   &#x27;holiday&#x27;,\n",
       "                                                                                   &#x27;workingday&#x27;,\n",
       "                                                                                   &#x27;weather&#x27;]),\n",
       "                                                                                 (&#x27;spline_hour&#x27;,\n",
       "                                                                                  SplineTransformer(extrapolation=&#x27;periodic&#x27;,\n",
       "                                                                                                    knots=array([[ 0.],\n",
       "       [ 2.],\n",
       "       [ 4.],\n",
       "       [ 6.],\n",
       "       [ 8.],\n",
       "       [10....\n",
       "                 RidgeCV(alphas=array([1.00000000e-06, 3.16227766e-06, 1.00000000e-05, 3.16227766e-05,\n",
       "       1.00000000e-04, 3.16227766e-04, 1.00000000e-03, 3.16227766e-03,\n",
       "       1.00000000e-02, 3.16227766e-02, 1.00000000e-01, 3.16227766e-01,\n",
       "       1.00000000e+00, 3.16227766e+00, 1.00000000e+01, 3.16227766e+01,\n",
       "       1.00000000e+02, 3.16227766e+02, 1.00000000e+03, 3.16227766e+03,\n",
       "       1.00000000e+04, 3.16227766e+04, 1.00000000e+05, 3.16227766e+05,\n",
       "       1.00000000e+06])))])</pre><b>In a Jupyter environment, please rerun this cell to show the HTML representation or trust the notebook. <br />On GitHub, the HTML representation is unable to render, please try loading this page with nbviewer.org.</b></div><div class=\"sk-container\" hidden><div class=\"sk-item sk-dashed-wrapped\"><div class=\"sk-label-container\"><div class=\"sk-label sk-toggleable\"><input class=\"sk-toggleable__control sk-hidden--visually\" id=\"sk-estimator-id-39\" type=\"checkbox\" ><label for=\"sk-estimator-id-39\" class=\"sk-toggleable__label sk-toggleable__label-arrow\">Pipeline</label><div class=\"sk-toggleable__content\"><pre>Pipeline(steps=[(&#x27;featureunion&#x27;,\n",
       "                 FeatureUnion(transformer_list=[(&#x27;marginal&#x27;,\n",
       "                                                 ColumnTransformer(remainder=MinMaxScaler(),\n",
       "                                                                   transformers=[(&#x27;categories&#x27;,\n",
       "                                                                                  OneHotEncoder(handle_unknown=&#x27;ignore&#x27;,\n",
       "                                                                                                sparse_output=False),\n",
       "                                                                                  [&#x27;season&#x27;,\n",
       "                                                                                   &#x27;holiday&#x27;,\n",
       "                                                                                   &#x27;workingday&#x27;,\n",
       "                                                                                   &#x27;weather&#x27;]),\n",
       "                                                                                 (&#x27;spline_hour&#x27;,\n",
       "                                                                                  SplineTransformer(extrapolation=&#x27;periodic&#x27;,\n",
       "                                                                                                    knots=array([[ 0.],\n",
       "       [ 2.],\n",
       "       [ 4.],\n",
       "       [ 6.],\n",
       "       [ 8.],\n",
       "       [10....\n",
       "                 RidgeCV(alphas=array([1.00000000e-06, 3.16227766e-06, 1.00000000e-05, 3.16227766e-05,\n",
       "       1.00000000e-04, 3.16227766e-04, 1.00000000e-03, 3.16227766e-03,\n",
       "       1.00000000e-02, 3.16227766e-02, 1.00000000e-01, 3.16227766e-01,\n",
       "       1.00000000e+00, 3.16227766e+00, 1.00000000e+01, 3.16227766e+01,\n",
       "       1.00000000e+02, 3.16227766e+02, 1.00000000e+03, 3.16227766e+03,\n",
       "       1.00000000e+04, 3.16227766e+04, 1.00000000e+05, 3.16227766e+05,\n",
       "       1.00000000e+06])))])</pre></div></div></div><div class=\"sk-serial\"><div class=\"sk-item sk-dashed-wrapped\"><div class=\"sk-label-container\"><div class=\"sk-label sk-toggleable\"><input class=\"sk-toggleable__control sk-hidden--visually\" id=\"sk-estimator-id-40\" type=\"checkbox\" ><label for=\"sk-estimator-id-40\" class=\"sk-toggleable__label sk-toggleable__label-arrow\">featureunion: FeatureUnion</label><div class=\"sk-toggleable__content\"><pre>FeatureUnion(transformer_list=[(&#x27;marginal&#x27;,\n",
       "                                ColumnTransformer(remainder=MinMaxScaler(),\n",
       "                                                  transformers=[(&#x27;categories&#x27;,\n",
       "                                                                 OneHotEncoder(handle_unknown=&#x27;ignore&#x27;,\n",
       "                                                                               sparse_output=False),\n",
       "                                                                 [&#x27;season&#x27;,\n",
       "                                                                  &#x27;holiday&#x27;,\n",
       "                                                                  &#x27;workingday&#x27;,\n",
       "                                                                  &#x27;weather&#x27;]),\n",
       "                                                                (&#x27;spline_hour&#x27;,\n",
       "                                                                 SplineTransformer(extrapolation=&#x27;periodic&#x27;,\n",
       "                                                                                   knots=array([[ 0.],\n",
       "       [ 2.],\n",
       "       [ 4.],\n",
       "       [ 6.],\n",
       "       [ 8.],\n",
       "       [10.],\n",
       "       [12.],\n",
       "       [14.],\n",
       "       [16.],\n",
       "       [18.],\n",
       "       [20.],...\n",
       "                                                                                  SplineTransformer(extrapolation=&#x27;periodic&#x27;,\n",
       "                                                                                                    knots=array([[ 0.        ],\n",
       "       [ 3.42857143],\n",
       "       [ 6.85714286],\n",
       "       [10.28571429],\n",
       "       [13.71428571],\n",
       "       [17.14285714],\n",
       "       [20.57142857],\n",
       "       [24.        ]]),\n",
       "                                                                                                    n_knots=8),\n",
       "                                                                                  [&#x27;hour&#x27;]),\n",
       "                                                                                 (&#x27;workingDay&#x27;,\n",
       "                                                                                  FunctionTransformer(func=&lt;function working_day_transform.&lt;locals&gt;.&lt;lambda&gt; at 0x0000012FC8030700&gt;),\n",
       "                                                                                  [&#x27;workingday&#x27;])])),\n",
       "                                                (&#x27;polynomialfeatures&#x27;,\n",
       "                                                 PolynomialFeatures(include_bias=False,\n",
       "                                                                    interaction_only=True))]))])</pre></div></div></div><div class=\"sk-parallel\"><div class=\"sk-parallel-item\"><div class=\"sk-item\"><div class=\"sk-label-container\"><div class=\"sk-label sk-toggleable\"><label>marginal</label></div></div><div class=\"sk-serial\"><div class=\"sk-item sk-dashed-wrapped\"><div class=\"sk-parallel\"><div class=\"sk-parallel-item\"><div class=\"sk-item\"><div class=\"sk-label-container\"><div class=\"sk-label sk-toggleable\"><input class=\"sk-toggleable__control sk-hidden--visually\" id=\"sk-estimator-id-41\" type=\"checkbox\" ><label for=\"sk-estimator-id-41\" class=\"sk-toggleable__label sk-toggleable__label-arrow\">categories</label><div class=\"sk-toggleable__content\"><pre>[&#x27;season&#x27;, &#x27;holiday&#x27;, &#x27;workingday&#x27;, &#x27;weather&#x27;]</pre></div></div></div><div class=\"sk-serial\"><div class=\"sk-item\"><div class=\"sk-estimator sk-toggleable\"><input class=\"sk-toggleable__control sk-hidden--visually\" id=\"sk-estimator-id-42\" type=\"checkbox\" ><label for=\"sk-estimator-id-42\" class=\"sk-toggleable__label sk-toggleable__label-arrow\">OneHotEncoder</label><div class=\"sk-toggleable__content\"><pre>OneHotEncoder(handle_unknown=&#x27;ignore&#x27;, sparse_output=False)</pre></div></div></div></div></div></div><div class=\"sk-parallel-item\"><div class=\"sk-item\"><div class=\"sk-label-container\"><div class=\"sk-label sk-toggleable\"><input class=\"sk-toggleable__control sk-hidden--visually\" id=\"sk-estimator-id-43\" type=\"checkbox\" ><label for=\"sk-estimator-id-43\" class=\"sk-toggleable__label sk-toggleable__label-arrow\">spline_hour</label><div class=\"sk-toggleable__content\"><pre>[&#x27;hour&#x27;]</pre></div></div></div><div class=\"sk-serial\"><div class=\"sk-item\"><div class=\"sk-estimator sk-toggleable\"><input class=\"sk-toggleable__control sk-hidden--visually\" id=\"sk-estimator-id-44\" type=\"checkbox\" ><label for=\"sk-estimator-id-44\" class=\"sk-toggleable__label sk-toggleable__label-arrow\">SplineTransformer</label><div class=\"sk-toggleable__content\"><pre>SplineTransformer(extrapolation=&#x27;periodic&#x27;,\n",
       "                  knots=array([[ 0.],\n",
       "       [ 2.],\n",
       "       [ 4.],\n",
       "       [ 6.],\n",
       "       [ 8.],\n",
       "       [10.],\n",
       "       [12.],\n",
       "       [14.],\n",
       "       [16.],\n",
       "       [18.],\n",
       "       [20.],\n",
       "       [22.],\n",
       "       [24.]]),\n",
       "                  n_knots=13)</pre></div></div></div></div></div></div><div class=\"sk-parallel-item\"><div class=\"sk-item\"><div class=\"sk-label-container\"><div class=\"sk-label sk-toggleable\"><input class=\"sk-toggleable__control sk-hidden--visually\" id=\"sk-estimator-id-45\" type=\"checkbox\" ><label for=\"sk-estimator-id-45\" class=\"sk-toggleable__label sk-toggleable__label-arrow\">spline_week</label><div class=\"sk-toggleable__content\"><pre>[&#x27;weekday&#x27;]</pre></div></div></div><div class=\"sk-serial\"><div class=\"sk-item\"><div class=\"sk-estimator sk-toggleable\"><input class=\"sk-toggleable__control sk-hidden--visually\" id=\"sk-estimator-id-46\" type=\"checkbox\" ><label for=\"sk-estimator-id-46\" class=\"sk-toggleable__label sk-toggleable__label-arrow\">SplineTransformer</label><div class=\"sk-toggleable__content\"><pre>SplineTransformer(extrapolation=&#x27;periodic&#x27;,\n",
       "                  knots=array([[0.        ],\n",
       "       [2.33333333],\n",
       "       [4.66666667],\n",
       "       [7.        ]]),\n",
       "                  n_knots=4)</pre></div></div></div></div></div></div><div class=\"sk-parallel-item\"><div class=\"sk-item\"><div class=\"sk-label-container\"><div class=\"sk-label sk-toggleable\"><input class=\"sk-toggleable__control sk-hidden--visually\" id=\"sk-estimator-id-47\" type=\"checkbox\" ><label for=\"sk-estimator-id-47\" class=\"sk-toggleable__label sk-toggleable__label-arrow\">spline_month</label><div class=\"sk-toggleable__content\"><pre>[&#x27;month&#x27;]</pre></div></div></div><div class=\"sk-serial\"><div class=\"sk-item\"><div class=\"sk-estimator sk-toggleable\"><input class=\"sk-toggleable__control sk-hidden--visually\" id=\"sk-estimator-id-48\" type=\"checkbox\" ><label for=\"sk-estimator-id-48\" class=\"sk-toggleable__label sk-toggleable__label-arrow\">SplineTransformer</label><div class=\"sk-toggleable__content\"><pre>SplineTransformer(extrapolation=&#x27;periodic&#x27;,\n",
       "                  knots=array([[ 0.],\n",
       "       [ 2.],\n",
       "       [ 4.],\n",
       "       [ 6.],\n",
       "       [ 8.],\n",
       "       [10.],\n",
       "       [12.]]),\n",
       "                  n_knots=7)</pre></div></div></div></div></div></div><div class=\"sk-parallel-item\"><div class=\"sk-item\"><div class=\"sk-label-container\"><div class=\"sk-label sk-toggleable\"><input class=\"sk-toggleable__control sk-hidden--visually\" id=\"sk-estimator-id-49\" type=\"checkbox\" ><label for=\"sk-estimator-id-49\" class=\"sk-toggleable__label sk-toggleable__label-arrow\">remainder</label><div class=\"sk-toggleable__content\"><pre>[&#x27;year&#x27;, &#x27;temp&#x27;, &#x27;feel_temp&#x27;, &#x27;humidity&#x27;, &#x27;windspeed&#x27;]</pre></div></div></div><div class=\"sk-serial\"><div class=\"sk-item\"><div class=\"sk-estimator sk-toggleable\"><input class=\"sk-toggleable__control sk-hidden--visually\" id=\"sk-estimator-id-50\" type=\"checkbox\" ><label for=\"sk-estimator-id-50\" class=\"sk-toggleable__label sk-toggleable__label-arrow\">MinMaxScaler</label><div class=\"sk-toggleable__content\"><pre>MinMaxScaler()</pre></div></div></div></div></div></div></div></div></div></div></div><div class=\"sk-parallel-item\"><div class=\"sk-item\"><div class=\"sk-label-container\"><div class=\"sk-label sk-toggleable\"><label>interaction</label></div></div><div class=\"sk-serial\"><div class=\"sk-item\"><div class=\"sk-serial\"><div class=\"sk-item sk-dashed-wrapped\"><div class=\"sk-label-container\"><div class=\"sk-label sk-toggleable\"><input class=\"sk-toggleable__control sk-hidden--visually\" id=\"sk-estimator-id-51\" type=\"checkbox\" ><label for=\"sk-estimator-id-51\" class=\"sk-toggleable__label sk-toggleable__label-arrow\">columntransformer: ColumnTransformer</label><div class=\"sk-toggleable__content\"><pre>ColumnTransformer(transformers=[(&#x27;cyclic_hour&#x27;,\n",
       "                                 SplineTransformer(extrapolation=&#x27;periodic&#x27;,\n",
       "                                                   knots=array([[ 0.        ],\n",
       "       [ 3.42857143],\n",
       "       [ 6.85714286],\n",
       "       [10.28571429],\n",
       "       [13.71428571],\n",
       "       [17.14285714],\n",
       "       [20.57142857],\n",
       "       [24.        ]]),\n",
       "                                                   n_knots=8),\n",
       "                                 [&#x27;hour&#x27;]),\n",
       "                                (&#x27;workingDay&#x27;,\n",
       "                                 FunctionTransformer(func=&lt;function working_day_transform.&lt;locals&gt;.&lt;lambda&gt; at 0x0000012FC8030700&gt;),\n",
       "                                 [&#x27;workingday&#x27;])])</pre></div></div></div><div class=\"sk-parallel\"><div class=\"sk-parallel-item\"><div class=\"sk-item\"><div class=\"sk-label-container\"><div class=\"sk-label sk-toggleable\"><input class=\"sk-toggleable__control sk-hidden--visually\" id=\"sk-estimator-id-52\" type=\"checkbox\" ><label for=\"sk-estimator-id-52\" class=\"sk-toggleable__label sk-toggleable__label-arrow\">cyclic_hour</label><div class=\"sk-toggleable__content\"><pre>[&#x27;hour&#x27;]</pre></div></div></div><div class=\"sk-serial\"><div class=\"sk-item\"><div class=\"sk-estimator sk-toggleable\"><input class=\"sk-toggleable__control sk-hidden--visually\" id=\"sk-estimator-id-53\" type=\"checkbox\" ><label for=\"sk-estimator-id-53\" class=\"sk-toggleable__label sk-toggleable__label-arrow\">SplineTransformer</label><div class=\"sk-toggleable__content\"><pre>SplineTransformer(extrapolation=&#x27;periodic&#x27;,\n",
       "                  knots=array([[ 0.        ],\n",
       "       [ 3.42857143],\n",
       "       [ 6.85714286],\n",
       "       [10.28571429],\n",
       "       [13.71428571],\n",
       "       [17.14285714],\n",
       "       [20.57142857],\n",
       "       [24.        ]]),\n",
       "                  n_knots=8)</pre></div></div></div></div></div></div><div class=\"sk-parallel-item\"><div class=\"sk-item\"><div class=\"sk-label-container\"><div class=\"sk-label sk-toggleable\"><input class=\"sk-toggleable__control sk-hidden--visually\" id=\"sk-estimator-id-54\" type=\"checkbox\" ><label for=\"sk-estimator-id-54\" class=\"sk-toggleable__label sk-toggleable__label-arrow\">workingDay</label><div class=\"sk-toggleable__content\"><pre>[&#x27;workingday&#x27;]</pre></div></div></div><div class=\"sk-serial\"><div class=\"sk-item\"><div class=\"sk-estimator sk-toggleable\"><input class=\"sk-toggleable__control sk-hidden--visually\" id=\"sk-estimator-id-55\" type=\"checkbox\" ><label for=\"sk-estimator-id-55\" class=\"sk-toggleable__label sk-toggleable__label-arrow\">FunctionTransformer</label><div class=\"sk-toggleable__content\"><pre>FunctionTransformer(func=&lt;function working_day_transform.&lt;locals&gt;.&lt;lambda&gt; at 0x0000012FC8030700&gt;)</pre></div></div></div></div></div></div></div></div><div class=\"sk-item\"><div class=\"sk-estimator sk-toggleable\"><input class=\"sk-toggleable__control sk-hidden--visually\" id=\"sk-estimator-id-56\" type=\"checkbox\" ><label for=\"sk-estimator-id-56\" class=\"sk-toggleable__label sk-toggleable__label-arrow\">PolynomialFeatures</label><div class=\"sk-toggleable__content\"><pre>PolynomialFeatures(include_bias=False, interaction_only=True)</pre></div></div></div></div></div></div></div></div></div></div><div class=\"sk-item\"><div class=\"sk-estimator sk-toggleable\"><input class=\"sk-toggleable__control sk-hidden--visually\" id=\"sk-estimator-id-57\" type=\"checkbox\" ><label for=\"sk-estimator-id-57\" class=\"sk-toggleable__label sk-toggleable__label-arrow\">RidgeCV</label><div class=\"sk-toggleable__content\"><pre>RidgeCV(alphas=array([1.00000000e-06, 3.16227766e-06, 1.00000000e-05, 3.16227766e-05,\n",
       "       1.00000000e-04, 3.16227766e-04, 1.00000000e-03, 3.16227766e-03,\n",
       "       1.00000000e-02, 3.16227766e-02, 1.00000000e-01, 3.16227766e-01,\n",
       "       1.00000000e+00, 3.16227766e+00, 1.00000000e+01, 3.16227766e+01,\n",
       "       1.00000000e+02, 3.16227766e+02, 1.00000000e+03, 3.16227766e+03,\n",
       "       1.00000000e+04, 3.16227766e+04, 1.00000000e+05, 3.16227766e+05,\n",
       "       1.00000000e+06]))</pre></div></div></div></div></div></div></div>"
      ],
      "text/plain": [
       "Pipeline(steps=[('featureunion',\n",
       "                 FeatureUnion(transformer_list=[('marginal',\n",
       "                                                 ColumnTransformer(remainder=MinMaxScaler(),\n",
       "                                                                   transformers=[('categories',\n",
       "                                                                                  OneHotEncoder(handle_unknown='ignore',\n",
       "                                                                                                sparse_output=False),\n",
       "                                                                                  ['season',\n",
       "                                                                                   'holiday',\n",
       "                                                                                   'workingday',\n",
       "                                                                                   'weather']),\n",
       "                                                                                 ('spline_hour',\n",
       "                                                                                  SplineTransformer(extrapolation='periodic',\n",
       "                                                                                                    knots=array([[ 0.],\n",
       "       [ 2.],\n",
       "       [ 4.],\n",
       "       [ 6.],\n",
       "       [ 8.],\n",
       "       [10....\n",
       "                 RidgeCV(alphas=array([1.00000000e-06, 3.16227766e-06, 1.00000000e-05, 3.16227766e-05,\n",
       "       1.00000000e-04, 3.16227766e-04, 1.00000000e-03, 3.16227766e-03,\n",
       "       1.00000000e-02, 3.16227766e-02, 1.00000000e-01, 3.16227766e-01,\n",
       "       1.00000000e+00, 3.16227766e+00, 1.00000000e+01, 3.16227766e+01,\n",
       "       1.00000000e+02, 3.16227766e+02, 1.00000000e+03, 3.16227766e+03,\n",
       "       1.00000000e+04, 3.16227766e+04, 1.00000000e+05, 3.16227766e+05,\n",
       "       1.00000000e+06])))])"
      ]
     },
     "execution_count": 165,
     "metadata": {},
     "output_type": "execute_result"
    }
   ],
   "source": [
    "ridge = RidgeCV(alphas=np.logspace(-6,6,25))\n",
    "ridge_pipe = make_pipeline( preprocessing['splines_interaction'], ridge)\n",
    "\n",
    "ridge_pipe.fit(X.iloc[train_id], y.iloc[train_id])"
   ]
  },
  {
   "cell_type": "code",
   "execution_count": 205,
   "metadata": {},
   "outputs": [],
   "source": [
    "visualize_prediction(model=ridge, prep='splines_interaction', split=4, title='Linear Model: Modeling pairwise interactions with splines and polynomial features')"
   ]
  },
  {
   "attachments": {},
   "cell_type": "markdown",
   "metadata": {},
   "source": [
    "<img src='./plots/Ridge-model-improvement-with-interaction-feats.png'>"
   ]
  },
  {
   "attachments": {},
   "cell_type": "markdown",
   "metadata": {},
   "source": [
    "## Linear Model : Poisson"
   ]
  },
  {
   "cell_type": "code",
   "execution_count": 231,
   "metadata": {},
   "outputs": [
    {
     "name": "stdout",
     "output_type": "stream",
     "text": [
      "Mean absolute error : 0.056289739397765104\n",
      "Mean squared error : 0.08544269007334207\n",
      "Mean poisson deviance : 0.02236178176984247\n"
     ]
    }
   ],
   "source": [
    "poisson = PoissonRegressor(alpha=0.0001)\n",
    "poisson_pipe = make_pipeline(preprocessing['splines_interaction'], poisson)\n",
    "score = evaluate_pipeline(poisson_pipe, X, y, tscv, is_ridge=False)"
   ]
  },
  {
   "cell_type": "code",
   "execution_count": 206,
   "metadata": {},
   "outputs": [],
   "source": [
    "poisson = PoissonRegressor(alpha=0.0001)\n",
    "visualize_prediction(model=poisson, prep='splines_interaction', split=4, title='Linear Model: Modeling pairwise interactions with splines and polynomial features')"
   ]
  },
  {
   "attachments": {},
   "cell_type": "markdown",
   "metadata": {},
   "source": [
    "<img src='./plots/Poisson-model-improvement-with-interaction-feats.png'>"
   ]
  },
  {
   "attachments": {},
   "cell_type": "markdown",
   "metadata": {},
   "source": [
    "## Modeling non-linear feature interactions with kernels\n",
    "\n",
    "The previous analysis highlighted the need to model the interactions between \"`workingday`\" and \"`hours`\".\n",
    "\n",
    "Another example of a such a non-linear interaction that we would like to model could be the impact of the rain that might not be the same during the working days and the week-ends and holidays for instance.\n",
    "\n",
    "To model all such interactions, we could either use a polynomial expansion on all marginal features at once, after their spline-based expansion. However, this would create a `quadratic number of features` which can cause overfitting and computational tractability issues.\n",
    "\n",
    "Alternatively, we can use the Nyström method to compute an approximate polynomial kernel expansion."
   ]
  },
  {
   "cell_type": "code",
   "execution_count": 250,
   "metadata": {},
   "outputs": [],
   "source": [
    "# To model all such interactions, we  we can use the Nyström method \n",
    "# to compute an approximate polynomial kernel expansion on all marginal features at once\n",
    "bsplines_and_interaction_pipe = make_pipeline(preprocessing['splines'],\n",
    "                                Nystroem(kernel='poly', degree=3, n_components=300), \n",
    "                                RidgeCV(alphas=np.logspace(-6,6,25)))"
   ]
  },
  {
   "cell_type": "code",
   "execution_count": 245,
   "metadata": {},
   "outputs": [
    {
     "data": {
      "text/html": [
       "<style>#sk-container-id-9 {color: black;background-color: white;}#sk-container-id-9 pre{padding: 0;}#sk-container-id-9 div.sk-toggleable {background-color: white;}#sk-container-id-9 label.sk-toggleable__label {cursor: pointer;display: block;width: 100%;margin-bottom: 0;padding: 0.3em;box-sizing: border-box;text-align: center;}#sk-container-id-9 label.sk-toggleable__label-arrow:before {content: \"▸\";float: left;margin-right: 0.25em;color: #696969;}#sk-container-id-9 label.sk-toggleable__label-arrow:hover:before {color: black;}#sk-container-id-9 div.sk-estimator:hover label.sk-toggleable__label-arrow:before {color: black;}#sk-container-id-9 div.sk-toggleable__content {max-height: 0;max-width: 0;overflow: hidden;text-align: left;background-color: #f0f8ff;}#sk-container-id-9 div.sk-toggleable__content pre {margin: 0.2em;color: black;border-radius: 0.25em;background-color: #f0f8ff;}#sk-container-id-9 input.sk-toggleable__control:checked~div.sk-toggleable__content {max-height: 200px;max-width: 100%;overflow: auto;}#sk-container-id-9 input.sk-toggleable__control:checked~label.sk-toggleable__label-arrow:before {content: \"▾\";}#sk-container-id-9 div.sk-estimator input.sk-toggleable__control:checked~label.sk-toggleable__label {background-color: #d4ebff;}#sk-container-id-9 div.sk-label input.sk-toggleable__control:checked~label.sk-toggleable__label {background-color: #d4ebff;}#sk-container-id-9 input.sk-hidden--visually {border: 0;clip: rect(1px 1px 1px 1px);clip: rect(1px, 1px, 1px, 1px);height: 1px;margin: -1px;overflow: hidden;padding: 0;position: absolute;width: 1px;}#sk-container-id-9 div.sk-estimator {font-family: monospace;background-color: #f0f8ff;border: 1px dotted black;border-radius: 0.25em;box-sizing: border-box;margin-bottom: 0.5em;}#sk-container-id-9 div.sk-estimator:hover {background-color: #d4ebff;}#sk-container-id-9 div.sk-parallel-item::after {content: \"\";width: 100%;border-bottom: 1px solid gray;flex-grow: 1;}#sk-container-id-9 div.sk-label:hover label.sk-toggleable__label {background-color: #d4ebff;}#sk-container-id-9 div.sk-serial::before {content: \"\";position: absolute;border-left: 1px solid gray;box-sizing: border-box;top: 0;bottom: 0;left: 50%;z-index: 0;}#sk-container-id-9 div.sk-serial {display: flex;flex-direction: column;align-items: center;background-color: white;padding-right: 0.2em;padding-left: 0.2em;position: relative;}#sk-container-id-9 div.sk-item {position: relative;z-index: 1;}#sk-container-id-9 div.sk-parallel {display: flex;align-items: stretch;justify-content: center;background-color: white;position: relative;}#sk-container-id-9 div.sk-item::before, #sk-container-id-9 div.sk-parallel-item::before {content: \"\";position: absolute;border-left: 1px solid gray;box-sizing: border-box;top: 0;bottom: 0;left: 50%;z-index: -1;}#sk-container-id-9 div.sk-parallel-item {display: flex;flex-direction: column;z-index: 1;position: relative;background-color: white;}#sk-container-id-9 div.sk-parallel-item:first-child::after {align-self: flex-end;width: 50%;}#sk-container-id-9 div.sk-parallel-item:last-child::after {align-self: flex-start;width: 50%;}#sk-container-id-9 div.sk-parallel-item:only-child::after {width: 0;}#sk-container-id-9 div.sk-dashed-wrapped {border: 1px dashed gray;margin: 0 0.4em 0.5em 0.4em;box-sizing: border-box;padding-bottom: 0.4em;background-color: white;}#sk-container-id-9 div.sk-label label {font-family: monospace;font-weight: bold;display: inline-block;line-height: 1.2em;}#sk-container-id-9 div.sk-label-container {text-align: center;}#sk-container-id-9 div.sk-container {/* jupyter's `normalize.less` sets `[hidden] { display: none; }` but bootstrap.min.css set `[hidden] { display: none !important; }` so we also need the `!important` here to be able to override the default hidden behavior on the sphinx rendered scikit-learn.org. See: https://github.com/scikit-learn/scikit-learn/issues/21755 */display: inline-block !important;position: relative;}#sk-container-id-9 div.sk-text-repr-fallback {display: none;}</style><div id=\"sk-container-id-9\" class=\"sk-top-container\"><div class=\"sk-text-repr-fallback\"><pre>Pipeline(steps=[(&#x27;columntransformer&#x27;,\n",
       "                 ColumnTransformer(remainder=MinMaxScaler(),\n",
       "                                   transformers=[(&#x27;categories&#x27;,\n",
       "                                                  OneHotEncoder(handle_unknown=&#x27;ignore&#x27;,\n",
       "                                                                sparse_output=False),\n",
       "                                                  [&#x27;season&#x27;, &#x27;holiday&#x27;,\n",
       "                                                   &#x27;workingday&#x27;, &#x27;weather&#x27;]),\n",
       "                                                 (&#x27;spline_hour&#x27;,\n",
       "                                                  SplineTransformer(extrapolation=&#x27;periodic&#x27;,\n",
       "                                                                    knots=array([[ 0.],\n",
       "       [ 2.],\n",
       "       [ 4.],\n",
       "       [ 6.],\n",
       "       [ 8.],\n",
       "       [10.],\n",
       "       [12.],\n",
       "       [14.],\n",
       "       [16.],\n",
       "       [18.],\n",
       "       [20.],\n",
       "       [22.],...\n",
       "                 RidgeCV(alphas=array([1.00000000e-06, 3.16227766e-06, 1.00000000e-05, 3.16227766e-05,\n",
       "       1.00000000e-04, 3.16227766e-04, 1.00000000e-03, 3.16227766e-03,\n",
       "       1.00000000e-02, 3.16227766e-02, 1.00000000e-01, 3.16227766e-01,\n",
       "       1.00000000e+00, 3.16227766e+00, 1.00000000e+01, 3.16227766e+01,\n",
       "       1.00000000e+02, 3.16227766e+02, 1.00000000e+03, 3.16227766e+03,\n",
       "       1.00000000e+04, 3.16227766e+04, 1.00000000e+05, 3.16227766e+05,\n",
       "       1.00000000e+06])))])</pre><b>In a Jupyter environment, please rerun this cell to show the HTML representation or trust the notebook. <br />On GitHub, the HTML representation is unable to render, please try loading this page with nbviewer.org.</b></div><div class=\"sk-container\" hidden><div class=\"sk-item sk-dashed-wrapped\"><div class=\"sk-label-container\"><div class=\"sk-label sk-toggleable\"><input class=\"sk-toggleable__control sk-hidden--visually\" id=\"sk-estimator-id-126\" type=\"checkbox\" ><label for=\"sk-estimator-id-126\" class=\"sk-toggleable__label sk-toggleable__label-arrow\">Pipeline</label><div class=\"sk-toggleable__content\"><pre>Pipeline(steps=[(&#x27;columntransformer&#x27;,\n",
       "                 ColumnTransformer(remainder=MinMaxScaler(),\n",
       "                                   transformers=[(&#x27;categories&#x27;,\n",
       "                                                  OneHotEncoder(handle_unknown=&#x27;ignore&#x27;,\n",
       "                                                                sparse_output=False),\n",
       "                                                  [&#x27;season&#x27;, &#x27;holiday&#x27;,\n",
       "                                                   &#x27;workingday&#x27;, &#x27;weather&#x27;]),\n",
       "                                                 (&#x27;spline_hour&#x27;,\n",
       "                                                  SplineTransformer(extrapolation=&#x27;periodic&#x27;,\n",
       "                                                                    knots=array([[ 0.],\n",
       "       [ 2.],\n",
       "       [ 4.],\n",
       "       [ 6.],\n",
       "       [ 8.],\n",
       "       [10.],\n",
       "       [12.],\n",
       "       [14.],\n",
       "       [16.],\n",
       "       [18.],\n",
       "       [20.],\n",
       "       [22.],...\n",
       "                 RidgeCV(alphas=array([1.00000000e-06, 3.16227766e-06, 1.00000000e-05, 3.16227766e-05,\n",
       "       1.00000000e-04, 3.16227766e-04, 1.00000000e-03, 3.16227766e-03,\n",
       "       1.00000000e-02, 3.16227766e-02, 1.00000000e-01, 3.16227766e-01,\n",
       "       1.00000000e+00, 3.16227766e+00, 1.00000000e+01, 3.16227766e+01,\n",
       "       1.00000000e+02, 3.16227766e+02, 1.00000000e+03, 3.16227766e+03,\n",
       "       1.00000000e+04, 3.16227766e+04, 1.00000000e+05, 3.16227766e+05,\n",
       "       1.00000000e+06])))])</pre></div></div></div><div class=\"sk-serial\"><div class=\"sk-item sk-dashed-wrapped\"><div class=\"sk-label-container\"><div class=\"sk-label sk-toggleable\"><input class=\"sk-toggleable__control sk-hidden--visually\" id=\"sk-estimator-id-127\" type=\"checkbox\" ><label for=\"sk-estimator-id-127\" class=\"sk-toggleable__label sk-toggleable__label-arrow\">columntransformer: ColumnTransformer</label><div class=\"sk-toggleable__content\"><pre>ColumnTransformer(remainder=MinMaxScaler(),\n",
       "                  transformers=[(&#x27;categories&#x27;,\n",
       "                                 OneHotEncoder(handle_unknown=&#x27;ignore&#x27;,\n",
       "                                               sparse_output=False),\n",
       "                                 [&#x27;season&#x27;, &#x27;holiday&#x27;, &#x27;workingday&#x27;,\n",
       "                                  &#x27;weather&#x27;]),\n",
       "                                (&#x27;spline_hour&#x27;,\n",
       "                                 SplineTransformer(extrapolation=&#x27;periodic&#x27;,\n",
       "                                                   knots=array([[ 0.],\n",
       "       [ 2.],\n",
       "       [ 4.],\n",
       "       [ 6.],\n",
       "       [ 8.],\n",
       "       [10.],\n",
       "       [12.],\n",
       "       [14.],\n",
       "       [16.],\n",
       "       [18.],\n",
       "       [20.],\n",
       "       [22.],\n",
       "       [24.]]),\n",
       "                                                   n_knots=13),\n",
       "                                 [&#x27;hour&#x27;]),\n",
       "                                (&#x27;spline_week&#x27;,\n",
       "                                 SplineTransformer(extrapolation=&#x27;periodic&#x27;,\n",
       "                                                   knots=array([[0.        ],\n",
       "       [2.33333333],\n",
       "       [4.66666667],\n",
       "       [7.        ]]),\n",
       "                                                   n_knots=4),\n",
       "                                 [&#x27;weekday&#x27;]),\n",
       "                                (&#x27;spline_month&#x27;,\n",
       "                                 SplineTransformer(extrapolation=&#x27;periodic&#x27;,\n",
       "                                                   knots=array([[ 0.],\n",
       "       [ 2.],\n",
       "       [ 4.],\n",
       "       [ 6.],\n",
       "       [ 8.],\n",
       "       [10.],\n",
       "       [12.]]),\n",
       "                                                   n_knots=7),\n",
       "                                 [&#x27;month&#x27;])])</pre></div></div></div><div class=\"sk-parallel\"><div class=\"sk-parallel-item\"><div class=\"sk-item\"><div class=\"sk-label-container\"><div class=\"sk-label sk-toggleable\"><input class=\"sk-toggleable__control sk-hidden--visually\" id=\"sk-estimator-id-128\" type=\"checkbox\" ><label for=\"sk-estimator-id-128\" class=\"sk-toggleable__label sk-toggleable__label-arrow\">categories</label><div class=\"sk-toggleable__content\"><pre>[&#x27;season&#x27;, &#x27;holiday&#x27;, &#x27;workingday&#x27;, &#x27;weather&#x27;]</pre></div></div></div><div class=\"sk-serial\"><div class=\"sk-item\"><div class=\"sk-estimator sk-toggleable\"><input class=\"sk-toggleable__control sk-hidden--visually\" id=\"sk-estimator-id-129\" type=\"checkbox\" ><label for=\"sk-estimator-id-129\" class=\"sk-toggleable__label sk-toggleable__label-arrow\">OneHotEncoder</label><div class=\"sk-toggleable__content\"><pre>OneHotEncoder(handle_unknown=&#x27;ignore&#x27;, sparse_output=False)</pre></div></div></div></div></div></div><div class=\"sk-parallel-item\"><div class=\"sk-item\"><div class=\"sk-label-container\"><div class=\"sk-label sk-toggleable\"><input class=\"sk-toggleable__control sk-hidden--visually\" id=\"sk-estimator-id-130\" type=\"checkbox\" ><label for=\"sk-estimator-id-130\" class=\"sk-toggleable__label sk-toggleable__label-arrow\">spline_hour</label><div class=\"sk-toggleable__content\"><pre>[&#x27;hour&#x27;]</pre></div></div></div><div class=\"sk-serial\"><div class=\"sk-item\"><div class=\"sk-estimator sk-toggleable\"><input class=\"sk-toggleable__control sk-hidden--visually\" id=\"sk-estimator-id-131\" type=\"checkbox\" ><label for=\"sk-estimator-id-131\" class=\"sk-toggleable__label sk-toggleable__label-arrow\">SplineTransformer</label><div class=\"sk-toggleable__content\"><pre>SplineTransformer(extrapolation=&#x27;periodic&#x27;,\n",
       "                  knots=array([[ 0.],\n",
       "       [ 2.],\n",
       "       [ 4.],\n",
       "       [ 6.],\n",
       "       [ 8.],\n",
       "       [10.],\n",
       "       [12.],\n",
       "       [14.],\n",
       "       [16.],\n",
       "       [18.],\n",
       "       [20.],\n",
       "       [22.],\n",
       "       [24.]]),\n",
       "                  n_knots=13)</pre></div></div></div></div></div></div><div class=\"sk-parallel-item\"><div class=\"sk-item\"><div class=\"sk-label-container\"><div class=\"sk-label sk-toggleable\"><input class=\"sk-toggleable__control sk-hidden--visually\" id=\"sk-estimator-id-132\" type=\"checkbox\" ><label for=\"sk-estimator-id-132\" class=\"sk-toggleable__label sk-toggleable__label-arrow\">spline_week</label><div class=\"sk-toggleable__content\"><pre>[&#x27;weekday&#x27;]</pre></div></div></div><div class=\"sk-serial\"><div class=\"sk-item\"><div class=\"sk-estimator sk-toggleable\"><input class=\"sk-toggleable__control sk-hidden--visually\" id=\"sk-estimator-id-133\" type=\"checkbox\" ><label for=\"sk-estimator-id-133\" class=\"sk-toggleable__label sk-toggleable__label-arrow\">SplineTransformer</label><div class=\"sk-toggleable__content\"><pre>SplineTransformer(extrapolation=&#x27;periodic&#x27;,\n",
       "                  knots=array([[0.        ],\n",
       "       [2.33333333],\n",
       "       [4.66666667],\n",
       "       [7.        ]]),\n",
       "                  n_knots=4)</pre></div></div></div></div></div></div><div class=\"sk-parallel-item\"><div class=\"sk-item\"><div class=\"sk-label-container\"><div class=\"sk-label sk-toggleable\"><input class=\"sk-toggleable__control sk-hidden--visually\" id=\"sk-estimator-id-134\" type=\"checkbox\" ><label for=\"sk-estimator-id-134\" class=\"sk-toggleable__label sk-toggleable__label-arrow\">spline_month</label><div class=\"sk-toggleable__content\"><pre>[&#x27;month&#x27;]</pre></div></div></div><div class=\"sk-serial\"><div class=\"sk-item\"><div class=\"sk-estimator sk-toggleable\"><input class=\"sk-toggleable__control sk-hidden--visually\" id=\"sk-estimator-id-135\" type=\"checkbox\" ><label for=\"sk-estimator-id-135\" class=\"sk-toggleable__label sk-toggleable__label-arrow\">SplineTransformer</label><div class=\"sk-toggleable__content\"><pre>SplineTransformer(extrapolation=&#x27;periodic&#x27;,\n",
       "                  knots=array([[ 0.],\n",
       "       [ 2.],\n",
       "       [ 4.],\n",
       "       [ 6.],\n",
       "       [ 8.],\n",
       "       [10.],\n",
       "       [12.]]),\n",
       "                  n_knots=7)</pre></div></div></div></div></div></div><div class=\"sk-parallel-item\"><div class=\"sk-item\"><div class=\"sk-label-container\"><div class=\"sk-label sk-toggleable\"><input class=\"sk-toggleable__control sk-hidden--visually\" id=\"sk-estimator-id-136\" type=\"checkbox\" ><label for=\"sk-estimator-id-136\" class=\"sk-toggleable__label sk-toggleable__label-arrow\">remainder</label><div class=\"sk-toggleable__content\"><pre>[&#x27;year&#x27;, &#x27;temp&#x27;, &#x27;feel_temp&#x27;, &#x27;humidity&#x27;, &#x27;windspeed&#x27;]</pre></div></div></div><div class=\"sk-serial\"><div class=\"sk-item\"><div class=\"sk-estimator sk-toggleable\"><input class=\"sk-toggleable__control sk-hidden--visually\" id=\"sk-estimator-id-137\" type=\"checkbox\" ><label for=\"sk-estimator-id-137\" class=\"sk-toggleable__label sk-toggleable__label-arrow\">MinMaxScaler</label><div class=\"sk-toggleable__content\"><pre>MinMaxScaler()</pre></div></div></div></div></div></div></div></div><div class=\"sk-item\"><div class=\"sk-estimator sk-toggleable\"><input class=\"sk-toggleable__control sk-hidden--visually\" id=\"sk-estimator-id-138\" type=\"checkbox\" ><label for=\"sk-estimator-id-138\" class=\"sk-toggleable__label sk-toggleable__label-arrow\">Nystroem</label><div class=\"sk-toggleable__content\"><pre>Nystroem(degree=3, kernel=&#x27;poly&#x27;, n_components=300)</pre></div></div></div><div class=\"sk-item\"><div class=\"sk-estimator sk-toggleable\"><input class=\"sk-toggleable__control sk-hidden--visually\" id=\"sk-estimator-id-139\" type=\"checkbox\" ><label for=\"sk-estimator-id-139\" class=\"sk-toggleable__label sk-toggleable__label-arrow\">RidgeCV</label><div class=\"sk-toggleable__content\"><pre>RidgeCV(alphas=array([1.00000000e-06, 3.16227766e-06, 1.00000000e-05, 3.16227766e-05,\n",
       "       1.00000000e-04, 3.16227766e-04, 1.00000000e-03, 3.16227766e-03,\n",
       "       1.00000000e-02, 3.16227766e-02, 1.00000000e-01, 3.16227766e-01,\n",
       "       1.00000000e+00, 3.16227766e+00, 1.00000000e+01, 3.16227766e+01,\n",
       "       1.00000000e+02, 3.16227766e+02, 1.00000000e+03, 3.16227766e+03,\n",
       "       1.00000000e+04, 3.16227766e+04, 1.00000000e+05, 3.16227766e+05,\n",
       "       1.00000000e+06]))</pre></div></div></div></div></div></div></div>"
      ],
      "text/plain": [
       "Pipeline(steps=[('columntransformer',\n",
       "                 ColumnTransformer(remainder=MinMaxScaler(),\n",
       "                                   transformers=[('categories',\n",
       "                                                  OneHotEncoder(handle_unknown='ignore',\n",
       "                                                                sparse_output=False),\n",
       "                                                  ['season', 'holiday',\n",
       "                                                   'workingday', 'weather']),\n",
       "                                                 ('spline_hour',\n",
       "                                                  SplineTransformer(extrapolation='periodic',\n",
       "                                                                    knots=array([[ 0.],\n",
       "       [ 2.],\n",
       "       [ 4.],\n",
       "       [ 6.],\n",
       "       [ 8.],\n",
       "       [10.],\n",
       "       [12.],\n",
       "       [14.],\n",
       "       [16.],\n",
       "       [18.],\n",
       "       [20.],\n",
       "       [22.],...\n",
       "                 RidgeCV(alphas=array([1.00000000e-06, 3.16227766e-06, 1.00000000e-05, 3.16227766e-05,\n",
       "       1.00000000e-04, 3.16227766e-04, 1.00000000e-03, 3.16227766e-03,\n",
       "       1.00000000e-02, 3.16227766e-02, 1.00000000e-01, 3.16227766e-01,\n",
       "       1.00000000e+00, 3.16227766e+00, 1.00000000e+01, 3.16227766e+01,\n",
       "       1.00000000e+02, 3.16227766e+02, 1.00000000e+03, 3.16227766e+03,\n",
       "       1.00000000e+04, 3.16227766e+04, 1.00000000e+05, 3.16227766e+05,\n",
       "       1.00000000e+06])))])"
      ]
     },
     "execution_count": 245,
     "metadata": {},
     "output_type": "execute_result"
    }
   ],
   "source": [
    "bsplines_and_interaction_pipe.fit(X, y)"
   ]
  },
  {
   "cell_type": "code",
   "execution_count": 244,
   "metadata": {},
   "outputs": [
    {
     "name": "stdout",
     "output_type": "stream",
     "text": [
      "Mean absolute error : 0.05426023326939152\n",
      "Mean squared error : 0.07684658790572899\n"
     ]
    }
   ],
   "source": [
    "score = evaluate_pipeline(bsplines_and_interaction_pipe, X ,y, tscv, is_ridge=True)"
   ]
  },
  {
   "cell_type": "code",
   "execution_count": 269,
   "metadata": {},
   "outputs": [],
   "source": [
    "preprocessing['bsplines_and_polynomial_kernel'] = make_pipeline(preprocessing['splines'], Nystroem(kernel='poly', degree=3, n_components=300))\n",
    "visualize_prediction(model=RidgeCV(alphas=np.logspace(-6,6,25)), prep='bsplines_and_polynomial_kernel', split=-1, title='Ridge regression : Modeling Interaction and bsplines')"
   ]
  },
  {
   "attachments": {},
   "cell_type": "markdown",
   "metadata": {},
   "source": [
    "<img src='./plots/Ridge-model-improvement-with-interaction-and-splines-with-poly-kernel.png'>"
   ]
  },
  {
   "attachments": {},
   "cell_type": "markdown",
   "metadata": {},
   "source": [
    "## Linear Model : Poisson"
   ]
  },
  {
   "cell_type": "code",
   "execution_count": 268,
   "metadata": {},
   "outputs": [
    {
     "name": "stdout",
     "output_type": "stream",
     "text": [
      "Mean absolute error : 0.059064050981979456\n",
      "Mean squared error : 0.08698063771034835\n",
      "Mean poisson deviance : 0.02539011814901082\n"
     ]
    }
   ],
   "source": [
    "poisson = PoissonRegressor(alpha=0.00001)\n",
    "poisson_pipe = make_pipeline(preprocessing['bsplines_and_polynomial_kernel'], poisson)\n",
    "score = evaluate_pipeline(poisson_pipe, X, y, tscv)"
   ]
  },
  {
   "cell_type": "code",
   "execution_count": 270,
   "metadata": {},
   "outputs": [],
   "source": [
    "visualize_prediction(model=PoissonRegressor(alpha=0.00001), prep='bsplines_and_polynomial_kernel', split=4, title='Poisson regression : Modeling Interaction and bsplines')"
   ]
  },
  {
   "attachments": {},
   "cell_type": "markdown",
   "metadata": {},
   "source": [
    "<img src='./plots/Poisson-model-improvement-with-interaction-and-splines-with-poly-kernel.png'>"
   ]
  },
  {
   "cell_type": "code",
   "execution_count": null,
   "metadata": {},
   "outputs": [],
   "source": []
  }
 ],
 "metadata": {
  "kernelspec": {
   "display_name": "datascience_env",
   "language": "python",
   "name": "python3"
  },
  "language_info": {
   "codemirror_mode": {
    "name": "ipython",
    "version": 3
   },
   "file_extension": ".py",
   "mimetype": "text/x-python",
   "name": "python",
   "nbconvert_exporter": "python",
   "pygments_lexer": "ipython3",
   "version": "3.10.8"
  },
  "orig_nbformat": 4,
  "vscode": {
   "interpreter": {
    "hash": "9dd57416d08487125cddc31714a1d5a29ab9aaf930e8420812b05ce6347e3520"
   }
  }
 },
 "nbformat": 4,
 "nbformat_minor": 2
}
