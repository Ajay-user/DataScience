{
 "cells": [
  {
   "attachments": {},
   "cell_type": "markdown",
   "metadata": {},
   "source": [
    "## Improving Linear Models\n",
    "\n",
    "#### linear regression does not automatically model non-monotonic relationships between the input features and the target. \n",
    "#### Non-linear terms have to be engineered in the input."
   ]
  },
  {
   "cell_type": "code",
   "execution_count": 29,
   "metadata": {},
   "outputs": [],
   "source": [
    "import pandas as pd\n",
    "import numpy as np\n",
    "import matplotlib.pyplot as plt\n",
    "import seaborn as sns\n",
    "\n",
    "from sklearn.preprocessing import OneHotEncoder, OrdinalEncoder, MinMaxScaler, SplineTransformer\n",
    "\n",
    "from sklearn.compose import ColumnTransformer\n",
    "from sklearn.model_selection import TimeSeriesSplit, cross_validate, cross_val_score\n",
    "from sklearn.pipeline import make_pipeline\n",
    "\n",
    "from sklearn.metrics import mean_absolute_error, mean_squared_error, mean_poisson_deviance\n",
    "\n",
    "from sklearn.linear_model import Ridge, PoissonRegressor, RidgeCV\n",
    "from sklearn.ensemble import RandomForestRegressor, HistGradientBoostingRegressor\n",
    "\n",
    "from feature_engine.creation import CyclicalFeatures"
   ]
  },
  {
   "attachments": {},
   "cell_type": "markdown",
   "metadata": {},
   "source": [
    "## Bike Sharing Demand dataset"
   ]
  },
  {
   "cell_type": "code",
   "execution_count": 3,
   "metadata": {},
   "outputs": [],
   "source": [
    "from sklearn.datasets import fetch_openml\n",
    "\n",
    "bike_sharing = fetch_openml(\n",
    "    \"Bike_Sharing_Demand\", version=2, as_frame=True, parser=\"pandas\"\n",
    ")\n",
    "df = bike_sharing.frame"
   ]
  },
  {
   "attachments": {},
   "cell_type": "markdown",
   "metadata": {},
   "source": [
    "#### The target of the prediction problem is the absolute count of bike rentals on a hourly basis:\n",
    "\n",
    "#### Let us rescale the target variable (number of hourly bike rentals) to predict a relative demand so that the mean absolute error is more easily interpreted as a fraction of the maximum demand."
   ]
  },
  {
   "attachments": {},
   "cell_type": "markdown",
   "metadata": {},
   "source": [
    "## Feature and label"
   ]
  },
  {
   "cell_type": "code",
   "execution_count": 4,
   "metadata": {},
   "outputs": [
    {
     "data": {
      "text/html": [
       "<div>\n",
       "<style scoped>\n",
       "    .dataframe tbody tr th:only-of-type {\n",
       "        vertical-align: middle;\n",
       "    }\n",
       "\n",
       "    .dataframe tbody tr th {\n",
       "        vertical-align: top;\n",
       "    }\n",
       "\n",
       "    .dataframe thead th {\n",
       "        text-align: right;\n",
       "    }\n",
       "</style>\n",
       "<table border=\"1\" class=\"dataframe\">\n",
       "  <thead>\n",
       "    <tr style=\"text-align: right;\">\n",
       "      <th></th>\n",
       "      <th>season</th>\n",
       "      <th>year</th>\n",
       "      <th>month</th>\n",
       "      <th>hour</th>\n",
       "      <th>holiday</th>\n",
       "      <th>weekday</th>\n",
       "      <th>workingday</th>\n",
       "      <th>weather</th>\n",
       "      <th>temp</th>\n",
       "      <th>feel_temp</th>\n",
       "      <th>humidity</th>\n",
       "      <th>windspeed</th>\n",
       "    </tr>\n",
       "  </thead>\n",
       "  <tbody>\n",
       "    <tr>\n",
       "      <th>0</th>\n",
       "      <td>spring</td>\n",
       "      <td>0</td>\n",
       "      <td>1</td>\n",
       "      <td>0</td>\n",
       "      <td>False</td>\n",
       "      <td>6</td>\n",
       "      <td>False</td>\n",
       "      <td>clear</td>\n",
       "      <td>9.84</td>\n",
       "      <td>14.395</td>\n",
       "      <td>0.81</td>\n",
       "      <td>0.0</td>\n",
       "    </tr>\n",
       "    <tr>\n",
       "      <th>1</th>\n",
       "      <td>spring</td>\n",
       "      <td>0</td>\n",
       "      <td>1</td>\n",
       "      <td>1</td>\n",
       "      <td>False</td>\n",
       "      <td>6</td>\n",
       "      <td>False</td>\n",
       "      <td>clear</td>\n",
       "      <td>9.02</td>\n",
       "      <td>13.635</td>\n",
       "      <td>0.80</td>\n",
       "      <td>0.0</td>\n",
       "    </tr>\n",
       "    <tr>\n",
       "      <th>2</th>\n",
       "      <td>spring</td>\n",
       "      <td>0</td>\n",
       "      <td>1</td>\n",
       "      <td>2</td>\n",
       "      <td>False</td>\n",
       "      <td>6</td>\n",
       "      <td>False</td>\n",
       "      <td>clear</td>\n",
       "      <td>9.02</td>\n",
       "      <td>13.635</td>\n",
       "      <td>0.80</td>\n",
       "      <td>0.0</td>\n",
       "    </tr>\n",
       "    <tr>\n",
       "      <th>3</th>\n",
       "      <td>spring</td>\n",
       "      <td>0</td>\n",
       "      <td>1</td>\n",
       "      <td>3</td>\n",
       "      <td>False</td>\n",
       "      <td>6</td>\n",
       "      <td>False</td>\n",
       "      <td>clear</td>\n",
       "      <td>9.84</td>\n",
       "      <td>14.395</td>\n",
       "      <td>0.75</td>\n",
       "      <td>0.0</td>\n",
       "    </tr>\n",
       "    <tr>\n",
       "      <th>4</th>\n",
       "      <td>spring</td>\n",
       "      <td>0</td>\n",
       "      <td>1</td>\n",
       "      <td>4</td>\n",
       "      <td>False</td>\n",
       "      <td>6</td>\n",
       "      <td>False</td>\n",
       "      <td>clear</td>\n",
       "      <td>9.84</td>\n",
       "      <td>14.395</td>\n",
       "      <td>0.75</td>\n",
       "      <td>0.0</td>\n",
       "    </tr>\n",
       "  </tbody>\n",
       "</table>\n",
       "</div>"
      ],
      "text/plain": [
       "   season  year  month  hour holiday  weekday workingday weather  temp  \\\n",
       "0  spring     0      1     0   False        6      False   clear  9.84   \n",
       "1  spring     0      1     1   False        6      False   clear  9.02   \n",
       "2  spring     0      1     2   False        6      False   clear  9.02   \n",
       "3  spring     0      1     3   False        6      False   clear  9.84   \n",
       "4  spring     0      1     4   False        6      False   clear  9.84   \n",
       "\n",
       "   feel_temp  humidity  windspeed  \n",
       "0     14.395      0.81        0.0  \n",
       "1     13.635      0.80        0.0  \n",
       "2     13.635      0.80        0.0  \n",
       "3     14.395      0.75        0.0  \n",
       "4     14.395      0.75        0.0  "
      ]
     },
     "execution_count": 4,
     "metadata": {},
     "output_type": "execute_result"
    }
   ],
   "source": [
    "y = df['count']/df['count'].max()\n",
    "\n",
    "y_count = df.pop('count')\n",
    "\n",
    "X = df\n",
    "\n",
    "X.head()"
   ]
  },
  {
   "cell_type": "code",
   "execution_count": 5,
   "metadata": {},
   "outputs": [
    {
     "data": {
      "text/plain": [
       "clear         11413\n",
       "misty          4544\n",
       "rain           1419\n",
       "heavy_rain        3\n",
       "Name: weather, dtype: int64"
      ]
     },
     "execution_count": 5,
     "metadata": {},
     "output_type": "execute_result"
    }
   ],
   "source": [
    "X['weather'].value_counts()"
   ]
  },
  {
   "cell_type": "code",
   "execution_count": 6,
   "metadata": {},
   "outputs": [
    {
     "data": {
      "text/plain": [
       "clear    11413\n",
       "misty     4544\n",
       "rain      1422\n",
       "Name: weather, dtype: int64"
      ]
     },
     "execution_count": 6,
     "metadata": {},
     "output_type": "execute_result"
    }
   ],
   "source": [
    "# \"heavy_rain\" cateory is appearing only 3 times in our data, so lets add that to \"rain\" category\n",
    "X['weather'] = X['weather'].replace(to_replace='heavy_rain', value='rain')\n",
    "X['weather'].value_counts()"
   ]
  },
  {
   "attachments": {},
   "cell_type": "markdown",
   "metadata": {},
   "source": [
    "## Time-based cross-validation\n",
    "\n",
    "Since the dataset is a time-ordered event log (hourly demand), we will use a time-sensitive cross-validation splitter to evaluate our demand forecasting model as realistically as possible. \n",
    "\n",
    "* We use a gap of 2 days between the train and test side of the splits. \n",
    "* We also limit the training set size to make the performance of the CV folds more stable."
   ]
  },
  {
   "cell_type": "code",
   "execution_count": 7,
   "metadata": {},
   "outputs": [],
   "source": [
    "tscv = TimeSeriesSplit(\n",
    "    n_splits=5,\n",
    "    gap=48, #2day gap\n",
    "    max_train_size=10000,\n",
    "    test_size=1000\n",
    ")"
   ]
  },
  {
   "attachments": {},
   "cell_type": "markdown",
   "metadata": {},
   "source": [
    "### Model evaluation"
   ]
  },
  {
   "cell_type": "code",
   "execution_count": 8,
   "metadata": {},
   "outputs": [],
   "source": [
    "def custom_scoring(est, x, y):\n",
    "    y_pred = est.predict(x)\n",
    "    mask = y_pred>0\n",
    "    mae = mean_absolute_error(y[mask], y_pred[mask])\n",
    "    mse = mean_squared_error(y[mask], y_pred[mask])\n",
    "    mpd = mean_poisson_deviance(y[mask], y_pred[mask])\n",
    "    return {'mean_absolute_error': mae, 'mean_squared_error':mse, 'mean_poisson_deviance':mpd}\n",
    "    \n",
    "\n",
    "\n",
    "def evaluate_pipeline(pipe, X, y, cv, ):\n",
    "\n",
    "    score = cross_validate(pipe, X, y, cv=cv, scoring=custom_scoring)\n",
    "    \n",
    "    mae = np.mean(score['test_mean_absolute_error'])\n",
    "    mse = np.mean(score['test_mean_squared_error'])\n",
    "    mpd = np.mean(score['test_mean_poisson_deviance'])\n",
    "    \n",
    "    result = f'Mean absolute error : {mae}\\nMean squared error : {mse}\\nMean poisson deviance : {mpd}'\n",
    "\n",
    "    print(result)\n",
    "    return score  "
   ]
  },
  {
   "cell_type": "code",
   "execution_count": 9,
   "metadata": {},
   "outputs": [],
   "source": [
    "categorical_columns = [col for col in X.select_dtypes(include='category')]"
   ]
  },
  {
   "attachments": {},
   "cell_type": "markdown",
   "metadata": {},
   "source": [
    "# STAGE # 1"
   ]
  },
  {
   "attachments": {},
   "cell_type": "markdown",
   "metadata": {},
   "source": [
    "## Lets Enocode the categroies \n",
    "### Preprocessing :  Encode Categorical features"
   ]
  },
  {
   "cell_type": "code",
   "execution_count": 10,
   "metadata": {},
   "outputs": [],
   "source": [
    "preprocessing_one_hot = ColumnTransformer(transformers=[\n",
    "    ('categories', OneHotEncoder(handle_unknown='ignore', sparse_output=False), categorical_columns)\n",
    "], remainder=MinMaxScaler() )"
   ]
  },
  {
   "attachments": {},
   "cell_type": "markdown",
   "metadata": {},
   "source": [
    "### Ridge Model : Linear Model"
   ]
  },
  {
   "cell_type": "code",
   "execution_count": 11,
   "metadata": {},
   "outputs": [
    {
     "name": "stdout",
     "output_type": "stream",
     "text": [
      "Mean absolute error : 0.14213437681160074\n",
      "Mean squared error : 0.03418590523702835\n",
      "Mean poisson deviance : 0.1295898374336804\n"
     ]
    }
   ],
   "source": [
    "ridge = RidgeCV(alphas=np.logspace(-6,6,25))\n",
    "ridge_pipe = make_pipeline(preprocessing_one_hot, ridge)\n",
    "score = evaluate_pipeline(ridge_pipe, X, y, tscv)"
   ]
  },
  {
   "attachments": {},
   "cell_type": "markdown",
   "metadata": {},
   "source": [
    "# STAGE # 2\n",
    "\n",
    "## Trigonometric features\n",
    "\n",
    "### Preprocessing : Encode each of those periodic features using a sine and cosine transformation with the matching period."
   ]
  },
  {
   "cell_type": "code",
   "execution_count": 13,
   "metadata": {},
   "outputs": [],
   "source": [
    "time_columns = ['hour', 'month', 'year']"
   ]
  },
  {
   "cell_type": "code",
   "execution_count": 20,
   "metadata": {},
   "outputs": [],
   "source": [
    "# Using Feature Engine \n",
    "cyclic_feat_transformer = CyclicalFeatures(variables=['hour', 'month', 'year'], drop_original=True)\n",
    "\n",
    "preprocessing_cyclic_and_cat_feat = ColumnTransformer(transformers=[\n",
    "    ('categories', OneHotEncoder(handle_unknown='ignore', sparse_output=False), categorical_columns),\n",
    "    ('time', cyclic_feat_transformer, time_columns)\n",
    "], remainder=MinMaxScaler())"
   ]
  },
  {
   "cell_type": "code",
   "execution_count": 17,
   "metadata": {},
   "outputs": [
    {
     "name": "stdout",
     "output_type": "stream",
     "text": [
      "Mean absolute error : 0.1250363191935827\n",
      "Mean squared error : 0.0349838551472678\n",
      "Mean poisson deviance : 0.12370741326519172\n"
     ]
    }
   ],
   "source": [
    "ridge = RidgeCV(alphas=np.logspace(-6,6,25))\n",
    "ridge_pipe = make_pipeline(preprocessing_cyclic_and_cat_feat, ridge)\n",
    "score = evaluate_pipeline(ridge_pipe, X, y, tscv)"
   ]
  },
  {
   "attachments": {},
   "cell_type": "markdown",
   "metadata": {},
   "source": [
    "### Yes we improved the MAE score from 14% of the maximum demand to 12%"
   ]
  },
  {
   "attachments": {},
   "cell_type": "markdown",
   "metadata": {},
   "source": [
    "# STAGE # 3\n",
    "\n",
    "## One Hot Encoding\n",
    "\n",
    "### Preprocessing :  Time-steps as categories"
   ]
  },
  {
   "cell_type": "code",
   "execution_count": 19,
   "metadata": {},
   "outputs": [],
   "source": [
    "# one-hot-encode the time \n",
    "\n",
    "preprocessing_time_and_cat_feat = ColumnTransformer(transformers=[\n",
    "    ('categories', OneHotEncoder(handle_unknown='ignore', sparse_output=False), categorical_columns),\n",
    "    ('time', OneHotEncoder(handle_unknown='ignore', sparse_output=False), time_columns)\n",
    "], remainder=MinMaxScaler())"
   ]
  },
  {
   "attachments": {},
   "cell_type": "markdown",
   "metadata": {},
   "source": [
    "### Ridge : Linear model"
   ]
  },
  {
   "cell_type": "code",
   "execution_count": 21,
   "metadata": {},
   "outputs": [
    {
     "name": "stdout",
     "output_type": "stream",
     "text": [
      "Mean absolute error : 0.09917719145125886\n",
      "Mean squared error : 0.01738646504056925\n",
      "Mean poisson deviance : 0.06431691125049027\n"
     ]
    }
   ],
   "source": [
    "ridge = RidgeCV(alphas=np.logspace(-6,6,25))\n",
    "ridge_pipe = make_pipeline(preprocessing_time_and_cat_feat, ridge)\n",
    "score = evaluate_pipeline(ridge_pipe, X, y, tscv)"
   ]
  },
  {
   "attachments": {},
   "cell_type": "markdown",
   "metadata": {},
   "source": [
    "### Yes we improved the MAE score from 12% of the maximum demand to 10%\n",
    "* Using one-hot encoding for the time features gives the linear model a lot more flexibility as we introduce one additional feature per discrete time level.\n",
    "### However, by one-hot-encoding the time related features we are ignoring any assumption implied by the ordering of the time values.\n"
   ]
  },
  {
   "attachments": {},
   "cell_type": "markdown",
   "metadata": {},
   "source": [
    "# STAGE # 4\n",
    "\n",
    "## Periodic spline features"
   ]
  },
  {
   "cell_type": "code",
   "execution_count": 26,
   "metadata": {},
   "outputs": [],
   "source": [
    "def bsplines(period, n_knots=None, degree=3):\n",
    "    if n_knots is None:\n",
    "        n_knots = period\n",
    "\n",
    "    # periodic and include_bias is True   \n",
    "    n_knots =  n_knots+1\n",
    "\n",
    "    knots = np.linspace(0, period, n_knots)[:, np.newaxis]\n",
    "    return SplineTransformer(n_knots=n_knots, degree=degree, knots=knots, extrapolation='periodic')\n",
    "\n",
    "\n",
    "\n",
    "preprocessing_spline_and_cat_feat = ColumnTransformer(transformers=[\n",
    "    ('categories', OneHotEncoder(handle_unknown='ignore', sparse_output=False), categorical_columns),\n",
    "    ('spline_hour', bsplines(period=24, n_knots=12), ['hour']),\n",
    "    ('spline_week', bsplines(period=7, n_knots=3), ['weekday']),\n",
    "    ('spline_month', bsplines(period=12, n_knots=6), ['month'])\n",
    "], remainder=MinMaxScaler())"
   ]
  },
  {
   "cell_type": "code",
   "execution_count": 27,
   "metadata": {},
   "outputs": [
    {
     "name": "stdout",
     "output_type": "stream",
     "text": [
      "Mean absolute error : 0.09827456551318754\n",
      "Mean squared error : 0.017873827620043675\n",
      "Mean poisson deviance : 0.0640415861709067\n"
     ]
    }
   ],
   "source": [
    "ridge = RidgeCV(alphas=np.logspace(-6,6,25))\n",
    "ridge_pipe = make_pipeline(preprocessing_spline_and_cat_feat, ridge)\n",
    "score = evaluate_pipeline(ridge_pipe, X, y, tscv)"
   ]
  },
  {
   "attachments": {},
   "cell_type": "markdown",
   "metadata": {},
   "source": [
    "### Yes we improved the MAE score from 12% of the maximum demand to 10%\n",
    "Spline features make it possible for the linear model to successfully leverage the periodic time-related features and reduce the error from ~14% to ~10% of the maximum demand, which is similar to what we observed with the one-hot encoded features.\n",
    "\n",
    "the periodic spline-based features fix those two problems at once: they give more expressivity to the linear model by making it possible to focus on specific hours thanks to the use of 12 splines. Furthermore the extrapolation=\"periodic\" option enforces a smooth representation between hour=23 and hour=0."
   ]
  },
  {
   "attachments": {},
   "cell_type": "markdown",
   "metadata": {},
   "source": [
    "# Poisson Regression : Linear Model\n",
    "\n",
    "* When working with count data the poisson regression usually give better results"
   ]
  },
  {
   "cell_type": "code",
   "execution_count": 33,
   "metadata": {},
   "outputs": [
    {
     "name": "stdout",
     "output_type": "stream",
     "text": [
      "Mean absolute error : 0.0848698944486918\n",
      "Mean squared error : 0.014968817306937207\n",
      "Mean poisson deviance : 0.04675860573113477\n"
     ]
    }
   ],
   "source": [
    "poisson = PoissonRegressor(alpha=0.0001)\n",
    "poisson_pipe = make_pipeline(preprocessing_spline_and_cat_feat, poisson)\n",
    "score = evaluate_pipeline(poisson_pipe, X, y, tscv)"
   ]
  },
  {
   "attachments": {},
   "cell_type": "markdown",
   "metadata": {},
   "source": [
    "Improved the MAE score from ~14% of the maximum demand to ~8%"
   ]
  }
 ],
 "metadata": {
  "kernelspec": {
   "display_name": "datascience_env",
   "language": "python",
   "name": "python3"
  },
  "language_info": {
   "codemirror_mode": {
    "name": "ipython",
    "version": 3
   },
   "file_extension": ".py",
   "mimetype": "text/x-python",
   "name": "python",
   "nbconvert_exporter": "python",
   "pygments_lexer": "ipython3",
   "version": "3.10.8 (tags/v3.10.8:aaaf517, Oct 11 2022, 16:50:30) [MSC v.1933 64 bit (AMD64)]"
  },
  "orig_nbformat": 4,
  "vscode": {
   "interpreter": {
    "hash": "9dd57416d08487125cddc31714a1d5a29ab9aaf930e8420812b05ce6347e3520"
   }
  }
 },
 "nbformat": 4,
 "nbformat_minor": 2
}
