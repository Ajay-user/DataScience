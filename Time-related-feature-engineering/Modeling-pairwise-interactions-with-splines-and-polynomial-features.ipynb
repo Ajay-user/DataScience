{
 "cells": [
  {
   "attachments": {},
   "cell_type": "markdown",
   "metadata": {},
   "source": [
    "## Linear models do not automatically capture interaction effects between input features. \n",
    "\n",
    "\n",
    "#### Dataset : Bikeshare \n",
    "#### Goal : Approximate the true bike rentals demand\n",
    "\n",
    "\n",
    "We use regression analysis to understand the relationships, patterns, and causalities in data. Often we are interested in understanding the impacts that changes in the dependent variables have on our outcome of interest.\n",
    "\n",
    "### What is conditional dependence ?\n",
    "it describes the behavior of a specific variable by keeping the others fixed.<br>\n",
    "\n",
    "#### In linear models, the target value is modeled as a linear combination of the features.\n",
    "#### The coefficients in multiple linear models represent the relationship between the given feature, `X` and the target,`y` assuming that all the other features remain constant.\n",
    "\n",
    "### What is marginal dependence ?\n",
    "it describes the behavior of a specific variable without keeping the others fixed.<br>\n",
    "For an example : Features `Sex`, `Age`, `Education`. Target: `Wage` <br>\n",
    "when we plot `Age` vs `wage` what we see is a marginal dependence. \n",
    "\n",
    "Some features may not be a good predictor of the target variable all by itself, but in presence of other features it can help us model the target-variable.\n",
    "\n",
    "### We can use the `PolynomialFeatures` class to model the interaction explicitly.\n"
   ]
  },
  {
   "cell_type": "code",
   "execution_count": 85,
   "metadata": {},
   "outputs": [],
   "source": [
    "import pandas as pd\n",
    "import numpy as np\n",
    "import matplotlib.pyplot as plt\n",
    "import seaborn as sns\n",
    "\n",
    "from sklearn.preprocessing import OneHotEncoder, OrdinalEncoder, MinMaxScaler, SplineTransformer, PolynomialFeatures\n",
    "\n",
    "from sklearn.compose import ColumnTransformer\n",
    "from sklearn.model_selection import TimeSeriesSplit, cross_validate, cross_val_score\n",
    "from sklearn.pipeline import make_pipeline, FunctionTransformer, FeatureUnion\n",
    "\n",
    "from sklearn.metrics import mean_absolute_error, mean_squared_error, mean_poisson_deviance, mean_absolute_percentage_error, median_absolute_error\n",
    "\n",
    "from sklearn.linear_model import Ridge, PoissonRegressor, RidgeCV\n",
    "from sklearn.ensemble import RandomForestRegressor, HistGradientBoostingRegressor\n",
    "\n",
    "from feature_engine.creation import CyclicalFeatures"
   ]
  },
  {
   "attachments": {},
   "cell_type": "markdown",
   "metadata": {},
   "source": [
    "## Bike Sharing Demand dataset"
   ]
  },
  {
   "cell_type": "code",
   "execution_count": 4,
   "metadata": {},
   "outputs": [
    {
     "data": {
      "text/html": [
       "<div>\n",
       "<style scoped>\n",
       "    .dataframe tbody tr th:only-of-type {\n",
       "        vertical-align: middle;\n",
       "    }\n",
       "\n",
       "    .dataframe tbody tr th {\n",
       "        vertical-align: top;\n",
       "    }\n",
       "\n",
       "    .dataframe thead th {\n",
       "        text-align: right;\n",
       "    }\n",
       "</style>\n",
       "<table border=\"1\" class=\"dataframe\">\n",
       "  <thead>\n",
       "    <tr style=\"text-align: right;\">\n",
       "      <th></th>\n",
       "      <th>season</th>\n",
       "      <th>year</th>\n",
       "      <th>month</th>\n",
       "      <th>hour</th>\n",
       "      <th>holiday</th>\n",
       "      <th>weekday</th>\n",
       "      <th>workingday</th>\n",
       "      <th>weather</th>\n",
       "      <th>temp</th>\n",
       "      <th>feel_temp</th>\n",
       "      <th>humidity</th>\n",
       "      <th>windspeed</th>\n",
       "    </tr>\n",
       "  </thead>\n",
       "  <tbody>\n",
       "    <tr>\n",
       "      <th>0</th>\n",
       "      <td>spring</td>\n",
       "      <td>0</td>\n",
       "      <td>1</td>\n",
       "      <td>0</td>\n",
       "      <td>False</td>\n",
       "      <td>6</td>\n",
       "      <td>False</td>\n",
       "      <td>clear</td>\n",
       "      <td>9.84</td>\n",
       "      <td>14.395</td>\n",
       "      <td>0.81</td>\n",
       "      <td>0.0</td>\n",
       "    </tr>\n",
       "    <tr>\n",
       "      <th>1</th>\n",
       "      <td>spring</td>\n",
       "      <td>0</td>\n",
       "      <td>1</td>\n",
       "      <td>1</td>\n",
       "      <td>False</td>\n",
       "      <td>6</td>\n",
       "      <td>False</td>\n",
       "      <td>clear</td>\n",
       "      <td>9.02</td>\n",
       "      <td>13.635</td>\n",
       "      <td>0.80</td>\n",
       "      <td>0.0</td>\n",
       "    </tr>\n",
       "    <tr>\n",
       "      <th>2</th>\n",
       "      <td>spring</td>\n",
       "      <td>0</td>\n",
       "      <td>1</td>\n",
       "      <td>2</td>\n",
       "      <td>False</td>\n",
       "      <td>6</td>\n",
       "      <td>False</td>\n",
       "      <td>clear</td>\n",
       "      <td>9.02</td>\n",
       "      <td>13.635</td>\n",
       "      <td>0.80</td>\n",
       "      <td>0.0</td>\n",
       "    </tr>\n",
       "    <tr>\n",
       "      <th>3</th>\n",
       "      <td>spring</td>\n",
       "      <td>0</td>\n",
       "      <td>1</td>\n",
       "      <td>3</td>\n",
       "      <td>False</td>\n",
       "      <td>6</td>\n",
       "      <td>False</td>\n",
       "      <td>clear</td>\n",
       "      <td>9.84</td>\n",
       "      <td>14.395</td>\n",
       "      <td>0.75</td>\n",
       "      <td>0.0</td>\n",
       "    </tr>\n",
       "    <tr>\n",
       "      <th>4</th>\n",
       "      <td>spring</td>\n",
       "      <td>0</td>\n",
       "      <td>1</td>\n",
       "      <td>4</td>\n",
       "      <td>False</td>\n",
       "      <td>6</td>\n",
       "      <td>False</td>\n",
       "      <td>clear</td>\n",
       "      <td>9.84</td>\n",
       "      <td>14.395</td>\n",
       "      <td>0.75</td>\n",
       "      <td>0.0</td>\n",
       "    </tr>\n",
       "  </tbody>\n",
       "</table>\n",
       "</div>"
      ],
      "text/plain": [
       "   season  year  month  hour holiday  weekday workingday weather  temp  \\\n",
       "0  spring     0      1     0   False        6      False   clear  9.84   \n",
       "1  spring     0      1     1   False        6      False   clear  9.02   \n",
       "2  spring     0      1     2   False        6      False   clear  9.02   \n",
       "3  spring     0      1     3   False        6      False   clear  9.84   \n",
       "4  spring     0      1     4   False        6      False   clear  9.84   \n",
       "\n",
       "   feel_temp  humidity  windspeed  \n",
       "0     14.395      0.81        0.0  \n",
       "1     13.635      0.80        0.0  \n",
       "2     13.635      0.80        0.0  \n",
       "3     14.395      0.75        0.0  \n",
       "4     14.395      0.75        0.0  "
      ]
     },
     "execution_count": 4,
     "metadata": {},
     "output_type": "execute_result"
    }
   ],
   "source": [
    "from sklearn.datasets import fetch_openml\n",
    "\n",
    "bike_sharing = fetch_openml(\n",
    "    \"Bike_Sharing_Demand\", version=2, as_frame=True, parser=\"pandas\"\n",
    ")\n",
    "df = bike_sharing.frame\n",
    "\n",
    "# The target of the prediction problem is the absolute count of bike rentals on a hourly basis:\n",
    "\n",
    "# Let us rescale the target variable (number of hourly bike rentals) \n",
    "# to predict a relative demand so that the mean absolute error is more easily interpreted\n",
    "#  as a fraction of the maximum demand.\n",
    "\n",
    "## Feature and target\n",
    "y = df['count']/df['count'].max()\n",
    "\n",
    "y_count = df.pop('count')\n",
    "\n",
    "X = df\n",
    "\n",
    "X.head()"
   ]
  },
  {
   "cell_type": "code",
   "execution_count": 5,
   "metadata": {},
   "outputs": [
    {
     "data": {
      "text/plain": [
       "clear    11413\n",
       "misty     4544\n",
       "rain      1422\n",
       "Name: weather, dtype: int64"
      ]
     },
     "execution_count": 5,
     "metadata": {},
     "output_type": "execute_result"
    }
   ],
   "source": [
    "# \"heavy_rain\" cateory is appearing only 3 times in our data, so lets add that to \"rain\" category\n",
    "X['weather'] = X['weather'].replace(to_replace='heavy_rain', value='rain')\n",
    "X['weather'].value_counts()"
   ]
  },
  {
   "attachments": {},
   "cell_type": "markdown",
   "metadata": {},
   "source": [
    "## Feature Engineering and Modeling pipeline"
   ]
  },
  {
   "cell_type": "code",
   "execution_count": 32,
   "metadata": {},
   "outputs": [],
   "source": [
    "# cross validation split\n",
    "\n",
    "tscv = TimeSeriesSplit(\n",
    "    n_splits=5,\n",
    "    gap=48, #2day gap\n",
    "    max_train_size=10000,\n",
    "    test_size=1000\n",
    ")\n",
    "\n",
    "def custom_scoring(est, x, y):\n",
    "    y_pred = est.predict(x)\n",
    "    mask = y_pred>0\n",
    "    mae = mean_absolute_error(y[mask], y_pred[mask])\n",
    "    mse = mean_squared_error(y[mask], y_pred[mask])\n",
    "    mpd = mean_poisson_deviance(y[mask], y_pred[mask])\n",
    "    return {'mean_absolute_error': mae, 'mean_squared_error':mse, 'mean_poisson_deviance':mpd}\n",
    "    \n",
    "\n",
    "\n",
    "def evaluate_pipeline(pipe, X, y, cv, ):\n",
    "\n",
    "    score = cross_validate(pipe, X, y, cv=cv, scoring=custom_scoring)\n",
    "    \n",
    "    mae = np.mean(score['test_mean_absolute_error'])\n",
    "    mse = np.mean(score['test_mean_squared_error'])\n",
    "    mpd = np.mean(score['test_mean_poisson_deviance'])\n",
    "    \n",
    "    result = f'Mean absolute error : {mae}\\nMean squared error : {mse}\\nMean poisson deviance : {mpd}'\n",
    "\n",
    "    print(result)\n",
    "    return score  "
   ]
  },
  {
   "attachments": {},
   "cell_type": "markdown",
   "metadata": {},
   "source": [
    "## One hot encode the categorical features "
   ]
  },
  {
   "cell_type": "code",
   "execution_count": 7,
   "metadata": {},
   "outputs": [],
   "source": [
    "categorical_columns = [col for col in X.select_dtypes(include='category')]"
   ]
  },
  {
   "cell_type": "code",
   "execution_count": 21,
   "metadata": {},
   "outputs": [],
   "source": [
    "categories = [list(X[col].value_counts().index) for col in X.select_dtypes(include='category')]"
   ]
  },
  {
   "cell_type": "code",
   "execution_count": 24,
   "metadata": {},
   "outputs": [],
   "source": [
    "categorical_transformer = OneHotEncoder(categories=categories)"
   ]
  },
  {
   "attachments": {},
   "cell_type": "markdown",
   "metadata": {},
   "source": [
    "## Bsplines to capture the periodicity"
   ]
  },
  {
   "cell_type": "code",
   "execution_count": 48,
   "metadata": {},
   "outputs": [],
   "source": [
    "def bsplines(period, n_knots, degree=3):\n",
    "    knots = np.linspace(0, period, n_knots)[:, np.newaxis]\n",
    "    return SplineTransformer(n_knots=n_knots, degree=degree, knots=knots, extrapolation='periodic')"
   ]
  },
  {
   "cell_type": "code",
   "execution_count": 49,
   "metadata": {},
   "outputs": [],
   "source": [
    "hour_transformer = bsplines(period=24, n_knots=12, degree=3)\n",
    "month_transformer = bsplines(period=12, n_knots=6, degree=3)\n",
    "weekday_transformer = bsplines(period=7, n_knots=4, degree=3)"
   ]
  },
  {
   "attachments": {},
   "cell_type": "markdown",
   "metadata": {},
   "source": [
    "## Marginal Feature pipeline"
   ]
  },
  {
   "cell_type": "code",
   "execution_count": 50,
   "metadata": {},
   "outputs": [],
   "source": [
    "marginal_features = ColumnTransformer(transformers=[\n",
    "    ('category', categorical_transformer, categorical_columns),\n",
    "    ('hour', hour_transformer, ['hour']),\n",
    "    ('month', month_transformer, ['month']),\n",
    "    ('weekday', weekday_transformer, ['weekday']),\n",
    "], remainder=MinMaxScaler())"
   ]
  },
  {
   "attachments": {},
   "cell_type": "markdown",
   "metadata": {},
   "source": [
    "## Feature interaction\n",
    "\n",
    "#### Use the PolynomialFeatures class on coarse grained spline encoded `hours` to model the “`workingday`”`/`”`hours`” interaction explicitly without introducing too many new variables:"
   ]
  },
  {
   "cell_type": "code",
   "execution_count": 51,
   "metadata": {},
   "outputs": [],
   "source": [
    "hour_workday_transformer = ColumnTransformer(transformers=[\n",
    "    ('hour', bsplines(period=24, n_knots=12, degree=3), ['hour']),\n",
    "    ('workingday', FunctionTransformer(lambda x : x==\"True\"), ['workingday'])\n",
    "])\n",
    "\n",
    "\n",
    "hour_workday_interaction = make_pipeline(hour_workday_transformer, PolynomialFeatures(degree=2, interaction_only=True, include_bias=False))"
   ]
  },
  {
   "attachments": {},
   "cell_type": "markdown",
   "metadata": {},
   "source": [
    "## Use FeatureUnion to combine marginal and interaction features"
   ]
  },
  {
   "cell_type": "code",
   "execution_count": 52,
   "metadata": {},
   "outputs": [],
   "source": [
    "Feature_pipeline = make_pipeline(\n",
    "    FeatureUnion([\n",
    "        ('marginal', marginal_features),\n",
    "        ('interaction', hour_workday_interaction)\n",
    "    ])\n",
    ")"
   ]
  },
  {
   "attachments": {},
   "cell_type": "markdown",
   "metadata": {},
   "source": [
    "### Modeling pipeline"
   ]
  },
  {
   "cell_type": "code",
   "execution_count": 53,
   "metadata": {},
   "outputs": [],
   "source": [
    "def build_model_pipe(model):\n",
    "    return make_pipeline( Feature_pipeline, model)"
   ]
  },
  {
   "attachments": {},
   "cell_type": "markdown",
   "metadata": {},
   "source": [
    "## Linear Model : Ridge"
   ]
  },
  {
   "cell_type": "code",
   "execution_count": 54,
   "metadata": {},
   "outputs": [
    {
     "name": "stdout",
     "output_type": "stream",
     "text": [
      "Mean absolute error : 0.07420818793206316\n",
      "Mean squared error : 0.010042563852702264\n",
      "Mean poisson deviance : 0.039851909144203765\n"
     ]
    }
   ],
   "source": [
    "ridge = RidgeCV(alphas=np.logspace(-6,6,25))\n",
    "ridge_pipe = build_model_pipe(model=ridge)\n",
    "ridge_score = evaluate_pipeline(ridge_pipe, X, y, tscv)"
   ]
  },
  {
   "attachments": {},
   "cell_type": "markdown",
   "metadata": {},
   "source": [
    "## Linear Model : Poisson"
   ]
  },
  {
   "cell_type": "code",
   "execution_count": 57,
   "metadata": {},
   "outputs": [
    {
     "name": "stdout",
     "output_type": "stream",
     "text": [
      "Mean absolute error : 0.05229099306908539\n",
      "Mean squared error : 0.006598711377222193\n",
      "Mean poisson deviance : 0.020059090453453002\n"
     ]
    }
   ],
   "source": [
    "poisson = PoissonRegressor(alpha=0.0001)\n",
    "poisson_pipe = build_model_pipe(poisson)\n",
    "poisson_score = evaluate_pipeline(poisson_pipe, X, y, tscv)"
   ]
  },
  {
   "attachments": {},
   "cell_type": "markdown",
   "metadata": {},
   "source": [
    "## Model prediction "
   ]
  },
  {
   "cell_type": "code",
   "execution_count": 63,
   "metadata": {},
   "outputs": [],
   "source": [
    "all_data_split = list(tscv.split(X, y))"
   ]
  },
  {
   "cell_type": "code",
   "execution_count": 92,
   "metadata": {},
   "outputs": [],
   "source": [
    "def visualize_prediction(model, datasplit=4, is_poisson=False, title='Model Performance'):\n",
    "    train_id, test_id = all_data_split[datasplit]\n",
    "    pipe = build_model_pipe(model)\n",
    "    pipe.fit(X.iloc[train_id], y.iloc[train_id])\n",
    "\n",
    "    y_pred = pipe.predict(X.iloc[test_id])\n",
    "    y_true = y.iloc[test_id]\n",
    "    plt.figure(figsize=(15,4))\n",
    "    plt.plot(y_true.reset_index(drop=True), c='r', alpha=0.6, linewidth=2)\n",
    "    plt.plot(y_pred, c='g', alpha=0.6, linewidth=3)\n",
    "    plt.xticks([])\n",
    "\n",
    "    mape = mean_absolute_percentage_error(y_true, y_pred)\n",
    "    mad = median_absolute_error(y_true, y_pred)\n",
    "    mae = mean_absolute_error(y_true, y_pred)\n",
    "    \n",
    "    score = f'''{title} performance on test split : {datasplit}\n",
    "    \\nMean Absolute Percentage Error : {mape :0.2f}\n",
    "    \\nMedian Absolute Error : {mad :0.2f}\n",
    "    \\nMean Absoulte Error  : {mae :0.2f}'''\n",
    "\n",
    "    if is_poisson:\n",
    "        mpd = mean_poisson_deviance(y_true, y_pred)\n",
    "        score += f'\\nMean Poisson Deviance : {mpd :0.2f}'\n",
    "\n",
    "\n",
    "    plt.title(score)\n"
   ]
  },
  {
   "cell_type": "code",
   "execution_count": 95,
   "metadata": {},
   "outputs": [],
   "source": [
    "visualize_prediction(ridge, datasplit=4, title='Ridge Model')"
   ]
  },
  {
   "attachments": {},
   "cell_type": "markdown",
   "metadata": {},
   "source": [
    "<img src='./plots/Ridge-model-improvement-with-interaction-feats-testsplit-4.png'>"
   ]
  },
  {
   "cell_type": "code",
   "execution_count": 96,
   "metadata": {},
   "outputs": [],
   "source": [
    "visualize_prediction(poisson, datasplit=4, title='Ridge Model')"
   ]
  },
  {
   "attachments": {},
   "cell_type": "markdown",
   "metadata": {},
   "source": [
    "<img src='./plots/Poisson-model-improvement-with-interaction-feats-performance-on-testsplit-4.png'>"
   ]
  },
  {
   "cell_type": "code",
   "execution_count": null,
   "metadata": {},
   "outputs": [],
   "source": []
  }
 ],
 "metadata": {
  "kernelspec": {
   "display_name": "datascience_env",
   "language": "python",
   "name": "python3"
  },
  "language_info": {
   "codemirror_mode": {
    "name": "ipython",
    "version": 3
   },
   "file_extension": ".py",
   "mimetype": "text/x-python",
   "name": "python",
   "nbconvert_exporter": "python",
   "pygments_lexer": "ipython3",
   "version": "3.10.8"
  },
  "orig_nbformat": 4,
  "vscode": {
   "interpreter": {
    "hash": "9dd57416d08487125cddc31714a1d5a29ab9aaf930e8420812b05ce6347e3520"
   }
  }
 },
 "nbformat": 4,
 "nbformat_minor": 2
}
