{
 "cells": [
  {
   "cell_type": "code",
   "execution_count": 2,
   "id": "6fccb3cd",
   "metadata": {},
   "outputs": [],
   "source": [
    "import re\n",
    "import os\n",
    "import pathlib\n",
    "import numpy as np\n",
    "import tensorflow as tf"
   ]
  },
  {
   "cell_type": "code",
   "execution_count": 3,
   "id": "3caad59d",
   "metadata": {},
   "outputs": [],
   "source": [
    "dir_ = pathlib.Path('./data')"
   ]
  },
  {
   "cell_type": "code",
   "execution_count": 4,
   "id": "894b61c8",
   "metadata": {},
   "outputs": [
    {
     "data": {
      "text/plain": [
       "[WindowsPath('data/final'),\n",
       " WindowsPath('data/mal-eng'),\n",
       " WindowsPath('data/malayalam-visual-genome-dev.txt'),\n",
       " WindowsPath('data/malayalam-visual-genome-test.txt'),\n",
       " WindowsPath('data/malayalam-visual-genome-train.txt')]"
      ]
     },
     "execution_count": 4,
     "metadata": {},
     "output_type": "execute_result"
    }
   ],
   "source": [
    "[i for i in dir_.iterdir()]"
   ]
  },
  {
   "cell_type": "markdown",
   "id": "c90d02f5",
   "metadata": {},
   "source": [
    "### Dataset 1 "
   ]
  },
  {
   "cell_type": "code",
   "execution_count": 5,
   "id": "1d626251",
   "metadata": {},
   "outputs": [
    {
     "data": {
      "text/plain": [
       "['Really?\\tശരിക്കും?\\tCC-BY 2.0 (France) Attribution: tatoeba.org #373216 (kotobaboke) & #7896041 (lonewolfie)',\n",
       " 'Help me.\\tഎന്നെ സഹായിക്കൂ.\\tCC-BY 2.0 (France) Attribution: tatoeba.org #266065 (Zifre) & #780454 (jjrodz)',\n",
       " 'Welcome.\\tസ്വാഗതം.\\tCC-BY 2.0 (France) Attribution: tatoeba.org #138919 (CM) & #7896035 (lonewolfie)',\n",
       " 'I forgot.\\tഞാന്\\u200d മറന്നു.\\tCC-BY 2.0 (France) Attribution: tatoeba.org #436603 (lukaszpp) & #651940 (jjrodz)',\n",
       " 'I am sure.\\tഎനിക്ക് ഉറപ്പാണ്.\\tCC-BY 2.0 (France) Attribution: tatoeba.org #436433 (lukaszpp) & #800318 (jjrodz)']"
      ]
     },
     "execution_count": 5,
     "metadata": {},
     "output_type": "execute_result"
    }
   ],
   "source": [
    "data_dir = dir_/'mal-eng/mal.txt'\n",
    "dataset_1 = data_dir.read_text(encoding='utf-8')\n",
    "\n",
    "dataset_1 = dataset_1.splitlines()\n",
    "dataset_1[:5]"
   ]
  },
  {
   "cell_type": "code",
   "execution_count": 6,
   "id": "db2f9939",
   "metadata": {},
   "outputs": [
    {
     "data": {
      "text/plain": [
       "'Really?\\tശരിക്കും?'"
      ]
     },
     "execution_count": 6,
     "metadata": {},
     "output_type": "execute_result"
    }
   ],
   "source": [
    "# processing \n",
    "sample = 'Really?\\tശരിക്കും?\\tCC-BY 2.0 (France) Attribution: tatoeba.org #373216 (kotobaboke) & #7896041 (lonewolfie)'\n",
    "re.sub(r'\\tCC.*',\"\",sample)"
   ]
  },
  {
   "cell_type": "code",
   "execution_count": 7,
   "id": "6caf990b",
   "metadata": {},
   "outputs": [
    {
     "data": {
      "text/plain": [
       "['Really?\\tശരിക്കും?',\n",
       " 'Help me.\\tഎന്നെ സഹായിക്കൂ.',\n",
       " 'Welcome.\\tസ്വാഗതം.',\n",
       " 'I forgot.\\tഞാന്\\u200d മറന്നു.',\n",
       " 'I am sure.\\tഎനിക്ക് ഉറപ്പാണ്.']"
      ]
     },
     "execution_count": 7,
     "metadata": {},
     "output_type": "execute_result"
    }
   ],
   "source": [
    "dataset_1 = list(map(lambda txt:re.sub(r'\\tCC.*',\"\",txt), dataset_1))\n",
    "dataset_1[:5]"
   ]
  },
  {
   "cell_type": "code",
   "execution_count": 8,
   "id": "8cae3624",
   "metadata": {},
   "outputs": [
    {
     "data": {
      "text/plain": [
       "[['Really?', 'ശരിക്കും?'],\n",
       " ['Help me.', 'എന്നെ സഹായിക്കൂ.'],\n",
       " ['Welcome.', 'സ്വാഗതം.'],\n",
       " ['I forgot.', 'ഞാന്\\u200d മറന്നു.'],\n",
       " ['I am sure.', 'എനിക്ക് ഉറപ്പാണ്.']]"
      ]
     },
     "execution_count": 8,
     "metadata": {},
     "output_type": "execute_result"
    }
   ],
   "source": [
    "dataset_1 = [txt.split('\\t') for txt in dataset_1]\n",
    "dataset_1[:5]"
   ]
  },
  {
   "cell_type": "markdown",
   "id": "68e5f1f2",
   "metadata": {},
   "source": [
    "### Dataset_2"
   ]
  },
  {
   "cell_type": "code",
   "execution_count": 9,
   "id": "0e7132b0",
   "metadata": {},
   "outputs": [],
   "source": [
    "# data_dir = dir_/'data/malayalam-visual-genome-dev.txt/malayalam-visual-genome-dev.txt'\n",
    "\n",
    "import glob\n",
    "data_dir = glob.glob('./data/malayalam-visual-genome*/*.txt')"
   ]
  },
  {
   "cell_type": "code",
   "execution_count": 10,
   "id": "d475dd95",
   "metadata": {},
   "outputs": [
    {
     "data": {
      "text/plain": [
       "['./data\\\\malayalam-visual-genome-dev.txt\\\\malayalam-visual-genome-dev.txt',\n",
       " './data\\\\malayalam-visual-genome-test.txt\\\\malayalam-visual-genome-test.txt',\n",
       " './data\\\\malayalam-visual-genome-train.txt\\\\malayalam-visual-genome-train.txt']"
      ]
     },
     "execution_count": 10,
     "metadata": {},
     "output_type": "execute_result"
    }
   ],
   "source": [
    "data_dir"
   ]
  },
  {
   "cell_type": "code",
   "execution_count": 11,
   "id": "35dfb197",
   "metadata": {},
   "outputs": [
    {
     "data": {
      "text/plain": [
       "['144\\t36\\t33\\t73\\t57\\ta cloudy blue sky\\tതെളിഞ്ഞ നീലാകാശം',\n",
       " '202\\t486\\t266\\t41\\t50\\twindow of a building\\tഒരു കെട്ടിടത്തിന്റെ വിൻഡോ',\n",
       " '388\\t5\\t219\\t792\\t377\\tA dark grey computer desk with drawers.\\tഡ്രോയറുകളുള്ള ഇരുണ്ട ചാരനിറത്തിലുള്ള കമ്പ്യൂട്ടർ ഡെസ്ക്.',\n",
       " '724\\t364\\t320\\t152\\t171\\tfour legged steel chair on ground\\tനിലത്ത് നാല് കാലുകളുള്ള ഉരുക്ക് കസേര',\n",
       " '728\\t73\\t402\\t108\\t156\\tMan riding a bicycle down a street\\tതെരുവിൽ സൈക്കിൾ ചവിട്ടുന്ന മനുഷ്യൻ']"
      ]
     },
     "execution_count": 11,
     "metadata": {},
     "output_type": "execute_result"
    }
   ],
   "source": [
    "dataset_2 =  pathlib.Path(data_dir[0]).read_text('utf-8')\n",
    "dataset_2 = dataset_2.splitlines()\n",
    "dataset_2[:5]"
   ]
  },
  {
   "cell_type": "code",
   "execution_count": 12,
   "id": "a16cc470",
   "metadata": {},
   "outputs": [
    {
     "data": {
      "text/plain": [
       "'a cloudy blue sky\\tതെളിഞ്ഞ നീലാകാശം'"
      ]
     },
     "execution_count": 12,
     "metadata": {},
     "output_type": "execute_result"
    }
   ],
   "source": [
    "# preprocessing\n",
    "sample = '144\\t36\\t33\\t73\\t57\\ta cloudy blue sky\\tതെളിഞ്ഞ നീലാകാശം'\n",
    "re.sub(r'(\\d*\\t){5}','',sample)"
   ]
  },
  {
   "cell_type": "code",
   "execution_count": 13,
   "id": "2116e2eb",
   "metadata": {},
   "outputs": [
    {
     "name": "stdout",
     "output_type": "stream",
     "text": [
      "a cloudy blue sky\tതെളിഞ്ഞ നീലാകാശം\n",
      "window of a building\tഒരു കെട്ടിടത്തിന്റെ വിൻഡോ\n",
      "A dark grey computer desk with drawers.\tഡ്രോയറുകളുള്ള ഇരുണ്ട ചാരനിറത്തിലുള്ള കമ്പ്യൂട്ടർ ഡെസ്ക്.\n",
      "four legged steel chair on ground\tനിലത്ത് നാല് കാലുകളുള്ള ഉരുക്ക് കസേര\n",
      "Man riding a bicycle down a street\tതെരുവിൽ സൈക്കിൾ ചവിട്ടുന്ന മനുഷ്യൻ\n"
     ]
    }
   ],
   "source": [
    "# lets test some more sample \n",
    "for sample in dataset_2[:5]:\n",
    "    print(re.sub(r'(\\d*\\t){5}','',sample))"
   ]
  },
  {
   "cell_type": "code",
   "execution_count": 14,
   "id": "00a78698",
   "metadata": {},
   "outputs": [
    {
     "data": {
      "text/plain": [
       "['a cloudy blue sky\\tതെളിഞ്ഞ നീലാകാശം',\n",
       " 'window of a building\\tഒരു കെട്ടിടത്തിന്റെ വിൻഡോ',\n",
       " 'A dark grey computer desk with drawers.\\tഡ്രോയറുകളുള്ള ഇരുണ്ട ചാരനിറത്തിലുള്ള കമ്പ്യൂട്ടർ ഡെസ്ക്.',\n",
       " 'four legged steel chair on ground\\tനിലത്ത് നാല് കാലുകളുള്ള ഉരുക്ക് കസേര',\n",
       " 'Man riding a bicycle down a street\\tതെരുവിൽ സൈക്കിൾ ചവിട്ടുന്ന മനുഷ്യൻ',\n",
       " 'these cars are parked on the dirt\\tഈ കാറുകൾ അഴുക്കിൽ പാർക്ക് ചെയ്തിരിക്കുന്നു',\n",
       " 'white clouds in the sky\\tആകാശത്ത് വെളുത്ത മേഘങ്ങൾ',\n",
       " 'set of glass doors\\tഗ്ലാസ് വാതിലുകളുടെ ഗണം',\n",
       " 'the projector screen rolled up\\tപ്രൊജക്ടർ സ്ക്രീൻ ചുരുട്ടി വെച്ചിരിക്കുന്നു',\n",
       " 'man wearing a gray sweater\\tചാരനിറത്തിലുള്ള സ്വെറ്റർ ധരിച്ച മനുഷ്യൻ']"
      ]
     },
     "execution_count": 14,
     "metadata": {},
     "output_type": "execute_result"
    }
   ],
   "source": [
    "dataset_2 = list(map(lambda txt:re.sub(r'(\\d*\\t){5}','',txt), dataset_2))\n",
    "dataset_2[:10]"
   ]
  },
  {
   "cell_type": "code",
   "execution_count": 15,
   "id": "36de0a6e",
   "metadata": {},
   "outputs": [
    {
     "data": {
      "text/plain": [
       "[['a cloudy blue sky', 'തെളിഞ്ഞ നീലാകാശം'],\n",
       " ['window of a building', 'ഒരു കെട്ടിടത്തിന്റെ വിൻഡോ'],\n",
       " ['A dark grey computer desk with drawers.',\n",
       "  'ഡ്രോയറുകളുള്ള ഇരുണ്ട ചാരനിറത്തിലുള്ള കമ്പ്യൂട്ടർ ഡെസ്ക്.'],\n",
       " ['four legged steel chair on ground', 'നിലത്ത് നാല് കാലുകളുള്ള ഉരുക്ക് കസേര'],\n",
       " ['Man riding a bicycle down a street', 'തെരുവിൽ സൈക്കിൾ ചവിട്ടുന്ന മനുഷ്യൻ'],\n",
       " ['these cars are parked on the dirt',\n",
       "  'ഈ കാറുകൾ അഴുക്കിൽ പാർക്ക് ചെയ്തിരിക്കുന്നു'],\n",
       " ['white clouds in the sky', 'ആകാശത്ത് വെളുത്ത മേഘങ്ങൾ'],\n",
       " ['set of glass doors', 'ഗ്ലാസ് വാതിലുകളുടെ ഗണം'],\n",
       " ['the projector screen rolled up',\n",
       "  'പ്രൊജക്ടർ സ്ക്രീൻ ചുരുട്ടി വെച്ചിരിക്കുന്നു'],\n",
       " ['man wearing a gray sweater', 'ചാരനിറത്തിലുള്ള സ്വെറ്റർ ധരിച്ച മനുഷ്യൻ']]"
      ]
     },
     "execution_count": 15,
     "metadata": {},
     "output_type": "execute_result"
    }
   ],
   "source": [
    "dataset_2 = [txt.split('\\t') for txt in dataset_2]\n",
    "dataset_2[:10]"
   ]
  },
  {
   "cell_type": "markdown",
   "id": "4b6a8dfd",
   "metadata": {},
   "source": [
    "### Dataset_3"
   ]
  },
  {
   "cell_type": "code",
   "execution_count": 16,
   "id": "5503de2f",
   "metadata": {},
   "outputs": [
    {
     "data": {
      "text/plain": [
       "[['A rectangular picture on a yellow wall.',\n",
       "  'മഞ്ഞ ചുവരിൽ ചതുരാകൃതിയിലുള്ള ചിത്രം.'],\n",
       " ['silver car is parked', 'സിൽവർ കാർ പാർക്ക് ചെയ്തു'],\n",
       " ['coffee in a coffee pot', 'ഒരു കോഫി കലത്തിൽ കോഫി'],\n",
       " ['eye of the pumkin', 'മത്തങ്ങയുടെ കണ്ണ്'],\n",
       " ['woman wearing jean skirt', 'ജീൻസ് പാവാട ധരിച്ച സ്ത്രീ'],\n",
       " ['a clock', 'ഘടികാരം'],\n",
       " ['soap is in the dish', 'സോപ്പ് ഡിഷിലുണ്ട്'],\n",
       " ['Yellow taxi cab on the street.', 'തെരുവിൽ മഞ്ഞ ടാക്സി കാർ.'],\n",
       " ['the orange colored traffic cone', 'ഓറഞ്ച് നിറമുള്ള ട്രാഫിക് കോൺ'],\n",
       " ['the trash can is black', 'ചവറ്റുകുട്ട കറുത്തതാണ്']]"
      ]
     },
     "execution_count": 16,
     "metadata": {},
     "output_type": "execute_result"
    }
   ],
   "source": [
    "dataset_3 = pathlib.Path(data_dir[1]).read_text('utf-8')\n",
    "dataset_3 = dataset_3.splitlines()\n",
    "dataset_3 = list(map(lambda txt:re.sub(r'(\\d*\\t){5}','',txt), dataset_3))\n",
    "dataset_3 = [txt.split('\\t') for txt in dataset_3]\n",
    "dataset_3[:10]"
   ]
  },
  {
   "cell_type": "markdown",
   "id": "35b4c8a5",
   "metadata": {},
   "source": [
    "### Dataset_4"
   ]
  },
  {
   "cell_type": "code",
   "execution_count": 17,
   "id": "ed19a9af",
   "metadata": {},
   "outputs": [
    {
     "data": {
      "text/plain": [
       "[['it is an indoor scene', 'ഇത് ഒരു ഇൻഡോർ രംഗമാണ്'],\n",
       " ['Computer screens turned on', 'കമ്പ്യൂട്ടർ സ്ക്രീനുകൾ ഓണാക്കി'],\n",
       " ['man has short hair', 'മനുഷ്യന് ചെറിയ മുടിയുണ്ട്'],\n",
       " [\"photo album open on an adult's lap\",\n",
       "  'ഫോട്ടോ ആൽബം മുതിർന്നവരുടെ മടിയിൽ തുറക്കുന്നു'],\n",
       " ['there is a group of girls beside the black car',\n",
       "  'കറുത്ത കാറിനടുത്ത് ഒരു കൂട്ടം പെൺകുട്ടികളുണ്ട്'],\n",
       " ['Child in a stroller', 'ഒരു ഉന്തുവണ്ടിയിലെ കുട്ടി'],\n",
       " ['Tall metal lightpost', 'ഉയരമുള്ള മെറ്റൽ ലൈറ്റ്പോസ്റ്റ്'],\n",
       " ['wall is painted white', 'മതിൽ വെളുത്ത ചായം പൂശി'],\n",
       " ['there are several pictures on the wall',\n",
       "  'ചാരനിറത്തിലുള്ള റോഡിന്റെ വശങ്ങളിൽ പച്ച പുല്ലിന്റെ സ്ട്രിപ്പുകൾ'],\n",
       " ['woman facing the ocean', 'സമുദ്രം അഭിമുഖീകരിക്കുന്ന സ്ത്രീ']]"
      ]
     },
     "execution_count": 17,
     "metadata": {},
     "output_type": "execute_result"
    }
   ],
   "source": [
    "dataset_4 = pathlib.Path(data_dir[2]).read_text('utf-8')\n",
    "dataset_4 = dataset_4.splitlines()\n",
    "dataset_4 = list(map(lambda txt:re.sub(r'(\\d*\\t){5}','',txt), dataset_4))\n",
    "dataset_4 = [txt.split('\\t') for txt in dataset_4]\n",
    "dataset_4[:10]"
   ]
  },
  {
   "cell_type": "markdown",
   "id": "58723bc8",
   "metadata": {},
   "source": [
    "### Final dataset"
   ]
  },
  {
   "cell_type": "code",
   "execution_count": 47,
   "id": "4d0490d5",
   "metadata": {},
   "outputs": [],
   "source": [
    "example = tf.data.Dataset.from_tensor_slices(dataset_1)"
   ]
  },
  {
   "cell_type": "code",
   "execution_count": 48,
   "id": "0cfa8384",
   "metadata": {},
   "outputs": [
    {
     "name": "stdout",
     "output_type": "stream",
     "text": [
      "b'Really?'\n",
      "ശരിക്കും?\n"
     ]
    }
   ],
   "source": [
    "for e, m in example.take(1):\n",
    "    print(e.numpy())\n",
    "    print((m.numpy()).decode('utf-8'))"
   ]
  },
  {
   "cell_type": "code",
   "execution_count": 64,
   "id": "913ad042",
   "metadata": {},
   "outputs": [
    {
     "data": {
      "text/plain": [
       "32137"
      ]
     },
     "execution_count": 64,
     "metadata": {},
     "output_type": "execute_result"
    }
   ],
   "source": [
    "final_dataset = dataset_1+dataset_2+dataset_3+dataset_4\n",
    "len(final_dataset)"
   ]
  },
  {
   "cell_type": "code",
   "execution_count": 65,
   "id": "5360b678",
   "metadata": {},
   "outputs": [
    {
     "data": {
      "text/plain": [
       "<TensorSliceDataset element_spec=TensorSpec(shape=(2,), dtype=tf.string, name=None)>"
      ]
     },
     "execution_count": 65,
     "metadata": {},
     "output_type": "execute_result"
    }
   ],
   "source": [
    "final_dataset = tf.data.Dataset.from_tensor_slices(final_dataset)\n",
    "final_dataset"
   ]
  },
  {
   "cell_type": "code",
   "execution_count": 66,
   "id": "43e7aa66",
   "metadata": {},
   "outputs": [
    {
     "name": "stdout",
     "output_type": "stream",
     "text": [
      "b'Really?'\n",
      "ശരിക്കും?\n"
     ]
    }
   ],
   "source": [
    "for e,m in final_dataset.take(1):\n",
    "    print(e.numpy())\n",
    "    print((m.numpy()).decode('utf-8'))   "
   ]
  },
  {
   "cell_type": "markdown",
   "id": "b23ccc70",
   "metadata": {},
   "source": [
    "## tf.train.Example"
   ]
  },
  {
   "cell_type": "code",
   "execution_count": 67,
   "id": "9ef525fa",
   "metadata": {},
   "outputs": [],
   "source": [
    "def byte_feature(value):\n",
    "    if isinstance(value, type(tf.constant(0))):\n",
    "        value = value.numpy()\n",
    "    return tf.train.Feature(bytes_list=tf.train.BytesList(value=[value]))\n",
    "\n",
    "def serialize(eng,mal):\n",
    "    feature = {\n",
    "        'english':byte_feature(eng),\n",
    "        'malayalam':byte_feature(mal)\n",
    "    }\n",
    "    example = tf.train.Example(features=tf.train.Features(feature=feature))\n",
    "    return example.SerializeToString()\n"
   ]
  },
  {
   "cell_type": "code",
   "execution_count": 50,
   "id": "2cdcbbc5",
   "metadata": {},
   "outputs": [
    {
     "data": {
      "text/plain": [
       "<FlatMapDataset element_spec=TensorSpec(shape=(), dtype=tf.string, name=None)>"
      ]
     },
     "execution_count": 50,
     "metadata": {},
     "output_type": "execute_result"
    }
   ],
   "source": [
    "# lets try this out\n",
    "\n",
    "\n",
    "def gen():\n",
    "    for e,m in example:\n",
    "        yield serialize(e,m)\n",
    "\n",
    "example_dataset = tf.data.Dataset.from_generator(gen,output_types=tf.string,output_shapes=())\n",
    "\n",
    "example_dataset\n",
    "\n"
   ]
  },
  {
   "cell_type": "code",
   "execution_count": 68,
   "id": "31744042",
   "metadata": {},
   "outputs": [
    {
     "data": {
      "text/plain": [
       "<FlatMapDataset element_spec=TensorSpec(shape=(), dtype=tf.string, name=None)>"
      ]
     },
     "execution_count": 68,
     "metadata": {},
     "output_type": "execute_result"
    }
   ],
   "source": [
    "def generate():\n",
    "    for e,m in final_dataset:\n",
    "        yield serialize(e,m)\n",
    "\n",
    "ds = tf.data.Dataset.from_generator(generate,output_types=tf.string,output_shapes=())\n",
    "\n",
    "ds"
   ]
  },
  {
   "cell_type": "markdown",
   "id": "7777702c",
   "metadata": {},
   "source": [
    "## Write as TFRecord"
   ]
  },
  {
   "cell_type": "code",
   "execution_count": 59,
   "id": "f6d33000",
   "metadata": {},
   "outputs": [],
   "source": [
    "import os\n",
    "test_path = os.path.join('.','data','final','example.tfrecord')\n",
    "path = os.path.join('.','data','final','eng-mal.tfrecord')"
   ]
  },
  {
   "cell_type": "code",
   "execution_count": 60,
   "id": "670807b8",
   "metadata": {},
   "outputs": [],
   "source": [
    "# write example set\n",
    "writer = tf.data.experimental.TFRecordWriter(test_path)\n",
    "writer.write(example_dataset)"
   ]
  },
  {
   "cell_type": "code",
   "execution_count": 69,
   "id": "8221c6ed",
   "metadata": {},
   "outputs": [],
   "source": [
    "# write the final dataset\n",
    "writer = tf.data.experimental.TFRecordWriter(path)\n",
    "writer.write(ds)"
   ]
  },
  {
   "cell_type": "markdown",
   "id": "144f215e",
   "metadata": {},
   "source": [
    "## Reading a TFRecord"
   ]
  },
  {
   "cell_type": "code",
   "execution_count": 70,
   "id": "9bbe1363",
   "metadata": {},
   "outputs": [],
   "source": [
    "feature_desc = {\n",
    "    'english':tf.io.FixedLenFeature([],tf.string,''),\n",
    "    'malayalam':tf.io.FixedLenFeature([],tf.string,'')\n",
    "}\n",
    "\n",
    "def parser(protobuf):\n",
    "    return tf.io.parse_single_example(protobuf, feature_desc)"
   ]
  },
  {
   "cell_type": "code",
   "execution_count": 71,
   "id": "62423f55",
   "metadata": {},
   "outputs": [
    {
     "data": {
      "text/plain": [
       "<TFRecordDatasetV2 element_spec=TensorSpec(shape=(), dtype=tf.string, name=None)>"
      ]
     },
     "execution_count": 71,
     "metadata": {},
     "output_type": "execute_result"
    }
   ],
   "source": [
    "example_loaded = tf.data.TFRecordDataset(test_path)\n",
    "example_loaded"
   ]
  },
  {
   "cell_type": "code",
   "execution_count": 72,
   "id": "de00665c",
   "metadata": {},
   "outputs": [],
   "source": [
    "# parsing\n",
    "example_loaded = example_loaded.map(parser)"
   ]
  },
  {
   "cell_type": "code",
   "execution_count": 75,
   "id": "5056c993",
   "metadata": {},
   "outputs": [
    {
     "name": "stdout",
     "output_type": "stream",
     "text": [
      "{'english': <tf.Tensor: shape=(), dtype=string, numpy=b'Really?'>, 'malayalam': <tf.Tensor: shape=(), dtype=string, numpy=b'\\xe0\\xb4\\xb6\\xe0\\xb4\\xb0\\xe0\\xb4\\xbf\\xe0\\xb4\\x95\\xe0\\xb5\\x8d\\xe0\\xb4\\x95\\xe0\\xb5\\x81\\xe0\\xb4\\x82?'>}\n"
     ]
    }
   ],
   "source": [
    "for ex in example_loaded.take(1):\n",
    "    print(ex)\n"
   ]
  },
  {
   "cell_type": "code",
   "execution_count": 78,
   "id": "8cc38dad",
   "metadata": {},
   "outputs": [
    {
     "name": "stdout",
     "output_type": "stream",
     "text": [
      "b'Really?'\n",
      "ശരിക്കും?\n"
     ]
    }
   ],
   "source": [
    "for ex in example_loaded.take(1):\n",
    "    print(ex[\"english\"].numpy())\n",
    "    print((ex[\"malayalam\"].numpy()).decode())\n"
   ]
  },
  {
   "cell_type": "code",
   "execution_count": null,
   "id": "c3671efa",
   "metadata": {},
   "outputs": [],
   "source": []
  }
 ],
 "metadata": {
  "kernelspec": {
   "display_name": "Python 3 (ipykernel)",
   "language": "python",
   "name": "python3"
  },
  "language_info": {
   "codemirror_mode": {
    "name": "ipython",
    "version": 3
   },
   "file_extension": ".py",
   "mimetype": "text/x-python",
   "name": "python",
   "nbconvert_exporter": "python",
   "pygments_lexer": "ipython3",
   "version": "3.9.12"
  }
 },
 "nbformat": 4,
 "nbformat_minor": 5
}
