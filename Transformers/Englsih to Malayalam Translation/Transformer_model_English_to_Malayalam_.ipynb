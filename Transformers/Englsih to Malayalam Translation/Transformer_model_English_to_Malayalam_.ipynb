{
  "nbformat": 4,
  "nbformat_minor": 0,
  "metadata": {
    "colab": {
      "name": "Transformer model English to Malayalam .ipynb",
      "provenance": [],
      "collapsed_sections": [],
      "toc_visible": true,
      "authorship_tag": "ABX9TyPSDFA0qWe0Tni4diCLCEVj",
      "include_colab_link": true
    },
    "kernelspec": {
      "name": "python3",
      "display_name": "Python 3"
    },
    "language_info": {
      "name": "python"
    },
    "accelerator": "GPU",
    "gpuClass": "standard"
  },
  "cells": [
    {
      "cell_type": "markdown",
      "metadata": {
        "id": "view-in-github",
        "colab_type": "text"
      },
      "source": [
        "<a href=\"https://colab.research.google.com/github/Ajay-user/ML-DL-RL-repo/blob/master/Transformers/Englsih%20to%20Malayalam%20Translation/Transformer_model_English_to_Malayalam_.ipynb\" target=\"_parent\"><img src=\"https://colab.research.google.com/assets/colab-badge.svg\" alt=\"Open In Colab\"/></a>"
      ]
    },
    {
      "cell_type": "code",
      "source": [
        "! pip install -q -U \"tensorflow-text==2.8.*\""
      ],
      "metadata": {
        "id": "yCPCAm8L1slp"
      },
      "execution_count": 7,
      "outputs": []
    },
    {
      "cell_type": "code",
      "execution_count": 8,
      "metadata": {
        "id": "Io9EpeT04wFX"
      },
      "outputs": [],
      "source": [
        "import os\n",
        "import re\n",
        "import pathlib\n",
        "import numpy as np\n",
        "import matplotlib.pyplot as plt\n",
        "import seaborn as sns\n",
        "import tensorflow as tf\n",
        "import tensorflow_text as tf_text"
      ]
    },
    {
      "cell_type": "markdown",
      "source": [
        "##Import the data 🧲\n"
      ],
      "metadata": {
        "id": "phPjdwt01p6x"
      }
    },
    {
      "cell_type": "code",
      "source": [
        "raw = tf.data.TFRecordDataset('./eng-mal.tfrecord')\n",
        "raw"
      ],
      "metadata": {
        "id": "e5lm5J3rE4XW",
        "colab": {
          "base_uri": "https://localhost:8080/"
        },
        "outputId": "07a4fd14-c392-4c3e-9ee1-8bf1f1a8fd27"
      },
      "execution_count": 9,
      "outputs": [
        {
          "output_type": "execute_result",
          "data": {
            "text/plain": [
              "<TFRecordDatasetV2 element_spec=TensorSpec(shape=(), dtype=tf.string, name=None)>"
            ]
          },
          "metadata": {},
          "execution_count": 9
        }
      ]
    },
    {
      "cell_type": "code",
      "source": [
        "feature_desc = {\n",
        "    'english' : tf.io.FixedLenFeature(shape=[], dtype=tf.string, default_value=''),\n",
        "    'malayalam' : tf.io.FixedLenFeature(shape=[], dtype=tf.string, default_value='')\n",
        "}\n",
        "\n",
        "def parser(proto):\n",
        "  return tf.io.parse_single_example(proto, feature_desc)\n",
        "\n",
        "raw = raw.map(parser)"
      ],
      "metadata": {
        "id": "qcHpvbdZKejQ"
      },
      "execution_count": 10,
      "outputs": []
    },
    {
      "cell_type": "code",
      "source": [
        "# reading the data\n",
        "\n",
        "for item in raw.take(5):\n",
        "  print(item['english'].numpy())\n",
        "  print((item['malayalam'].numpy()).decode('utf-8'))"
      ],
      "metadata": {
        "colab": {
          "base_uri": "https://localhost:8080/"
        },
        "id": "fcgIsEyh0aZj",
        "outputId": "7c4e4957-5711-495f-c4d1-80373f72bde7"
      },
      "execution_count": 11,
      "outputs": [
        {
          "output_type": "stream",
          "name": "stdout",
          "text": [
            "b'Really?'\n",
            "ശരിക്കും?\n",
            "b'Help me.'\n",
            "എന്നെ സഹായിക്കൂ.\n",
            "b'Welcome.'\n",
            "സ്വാഗതം.\n",
            "b'I forgot.'\n",
            "ഞാന്‍ മറന്നു.\n",
            "b'I am sure.'\n",
            "എനിക്ക് ഉറപ്പാണ്.\n"
          ]
        }
      ]
    },
    {
      "cell_type": "code",
      "source": [
        "english_text = [item['english'].numpy().decode('utf-8') for item in raw]\n",
        "malayalam_text = [(item['malayalam'].numpy()).decode('utf-8') for item in raw]"
      ],
      "metadata": {
        "id": "_w9AEn8h5k4s"
      },
      "execution_count": 12,
      "outputs": []
    },
    {
      "cell_type": "code",
      "source": [
        "english_text[-1], malayalam_text[-1]"
      ],
      "metadata": {
        "colab": {
          "base_uri": "https://localhost:8080/"
        },
        "id": "4BpsWPvL50rb",
        "outputId": "3ad02916-fc56-4f43-f5e6-59ca1c07e5fc"
      },
      "execution_count": 13,
      "outputs": [
        {
          "output_type": "execute_result",
          "data": {
            "text/plain": [
              "(\"a train's left tail light\", 'ഒരു ട്രെയിനിന്റെ ഇടത് ടെയിൽ ലൈറ്റ്')"
            ]
          },
          "metadata": {},
          "execution_count": 13
        }
      ]
    },
    {
      "cell_type": "code",
      "source": [
        "# number of examples \n",
        "len(english_text)"
      ],
      "metadata": {
        "colab": {
          "base_uri": "https://localhost:8080/"
        },
        "id": "H4hkQb6v5PMh",
        "outputId": "f1f743c4-2bb3-47c3-b16a-ed8fe57d66b6"
      },
      "execution_count": 14,
      "outputs": [
        {
          "output_type": "execute_result",
          "data": {
            "text/plain": [
              "32137"
            ]
          },
          "metadata": {},
          "execution_count": 14
        }
      ]
    },
    {
      "cell_type": "markdown",
      "source": [
        "## Prepare the dataset 🖥"
      ],
      "metadata": {
        "id": "A9EeNvDS5bkQ"
      }
    },
    {
      "cell_type": "code",
      "source": [
        "ds = tf.data.Dataset.from_tensor_slices((english_text, malayalam_text))"
      ],
      "metadata": {
        "id": "bA8OMVkx3nWJ"
      },
      "execution_count": 15,
      "outputs": []
    },
    {
      "cell_type": "code",
      "source": [
        "BATCH_SIZE = 64"
      ],
      "metadata": {
        "id": "b3uU5w795JOQ"
      },
      "execution_count": 16,
      "outputs": []
    },
    {
      "cell_type": "code",
      "source": [
        "sample_english_batch, sample_malayalam_batch = next(iter(ds.batch(BATCH_SIZE).shuffle(len(english_text))))\n",
        "\n",
        "for eng, mal in zip(sample_english_batch[:5], sample_malayalam_batch[:5]):\n",
        "  print(eng.numpy())\n",
        "  print(mal.numpy().decode())"
      ],
      "metadata": {
        "colab": {
          "base_uri": "https://localhost:8080/"
        },
        "id": "D6sZ1kLK58QI",
        "outputId": "ac08000d-eca4-4898-e836-e6d1842cac92"
      },
      "execution_count": 17,
      "outputs": [
        {
          "output_type": "stream",
          "name": "stdout",
          "text": [
            "b'the carton is gold'\n",
            "സ്വർണ നിറമുള്ള കാർഡ്ബോർഡ് പെട്ടി\n",
            "b'glass window on building'\n",
            "വർണ്ണാഭമായ സ്കാർഫ് ധരിച്ച ഒരു സ്ത്രീ\n",
            "b'large tan clay pot'\n",
            "വലിയ ടാൻ കളിമൺ കലം\n",
            "b'the signs are neon'\n",
            "അടയാളങ്ങൾ നിയോൺ ആണ്\n",
            "b'green peas'\n",
            "ഗ്രീൻ പീസ്\n"
          ]
        }
      ]
    },
    {
      "cell_type": "markdown",
      "source": [
        "## Process the dataset ⚛"
      ],
      "metadata": {
        "id": "46UHyZwkR6ty"
      }
    },
    {
      "cell_type": "code",
      "source": [
        "# standardize the text -- pass this to text-vectorizer\n",
        "def normalize_lowercase_append(text):\n",
        "  normalize = tf_text.normalize_utf8(text, 'NFKD')\n",
        "  lowercase = tf_text.case_fold_utf8(normalize)\n",
        "  text = tf.strings.join(['[START]', lowercase, '[END]'], separator=\" \")\n",
        "  return text"
      ],
      "metadata": {
        "id": "WhM4m_2gJjpK"
      },
      "execution_count": 18,
      "outputs": []
    },
    {
      "cell_type": "code",
      "source": [
        "MAX_VOCAB_SIZE = 8000\n",
        "english_text_vectorizer = tf.keras.layers.TextVectorization(max_tokens=MAX_VOCAB_SIZE, standardize=normalize_lowercase_append)\n",
        "malayalam_text_vectorizer = tf.keras.layers.TextVectorization(max_tokens=MAX_VOCAB_SIZE, standardize=normalize_lowercase_append)"
      ],
      "metadata": {
        "id": "Aikt0pru29FU"
      },
      "execution_count": 19,
      "outputs": []
    },
    {
      "cell_type": "code",
      "source": [
        "english_text_vectorizer.adapt(english_text)\n",
        "malayalam_text_vectorizer.adapt(malayalam_text)"
      ],
      "metadata": {
        "id": "HLo3ZVRK3u3M"
      },
      "execution_count": 20,
      "outputs": []
    },
    {
      "cell_type": "code",
      "source": [
        "english_text_vectorizer.get_vocabulary()[:10]"
      ],
      "metadata": {
        "colab": {
          "base_uri": "https://localhost:8080/"
        },
        "id": "mWDe6ZXz3_7E",
        "outputId": "bc3a3301-bbdf-4ba4-9724-351e4858fa28"
      },
      "execution_count": 21,
      "outputs": [
        {
          "output_type": "execute_result",
          "data": {
            "text/plain": [
              "['', '[UNK]', '[START]', '[END]', 'a', 'the', 'on', 'is', 'of', 'in']"
            ]
          },
          "metadata": {},
          "execution_count": 21
        }
      ]
    },
    {
      "cell_type": "code",
      "source": [
        "malayalam_text_vectorizer.get_vocabulary()[:8]"
      ],
      "metadata": {
        "colab": {
          "base_uri": "https://localhost:8080/"
        },
        "id": "9A-AROEq4DME",
        "outputId": "97ce5ae4-50b9-47fb-9242-7b5e1a14f71a"
      },
      "execution_count": 22,
      "outputs": [
        {
          "output_type": "execute_result",
          "data": {
            "text/plain": [
              "['', '[UNK]', '[START]', '[END]', 'ഒരു', 'കറുത്ത', 'വെളുത്ത', 'സ്ത്രീ']"
            ]
          },
          "metadata": {},
          "execution_count": 22
        }
      ]
    },
    {
      "cell_type": "code",
      "source": [
        "english_text_vectorizer.vocabulary_size()"
      ],
      "metadata": {
        "colab": {
          "base_uri": "https://localhost:8080/"
        },
        "id": "_S3PWzjCNq9n",
        "outputId": "a85f6045-5c69-4ca3-fe1c-8c6580602fab"
      },
      "execution_count": 23,
      "outputs": [
        {
          "output_type": "execute_result",
          "data": {
            "text/plain": [
              "7507"
            ]
          },
          "metadata": {},
          "execution_count": 23
        }
      ]
    },
    {
      "cell_type": "code",
      "source": [
        "malayalam_text_vectorizer.vocabulary_size()"
      ],
      "metadata": {
        "colab": {
          "base_uri": "https://localhost:8080/"
        },
        "id": "3g_MRNCqNq7A",
        "outputId": "c3e2f719-aeeb-40ae-8bff-343e42443a58"
      },
      "execution_count": 24,
      "outputs": [
        {
          "output_type": "execute_result",
          "data": {
            "text/plain": [
              "8000"
            ]
          },
          "metadata": {},
          "execution_count": 24
        }
      ]
    },
    {
      "cell_type": "code",
      "source": [
        "sample_english_tokens = english_text_vectorizer(sample_english_batch)\n",
        "sample_malayalam_tokens = malayalam_text_vectorizer(sample_malayalam_batch)"
      ],
      "metadata": {
        "id": "1pvzC4OIUdQC"
      },
      "execution_count": 25,
      "outputs": []
    },
    {
      "cell_type": "code",
      "source": [
        "plt.subplot(121)\n",
        "plt.pcolormesh(sample_english_tokens)\n",
        "plt.subplot(122)\n",
        "plt.pcolormesh(sample_english_tokens!=0)\n",
        "plt.show()"
      ],
      "metadata": {
        "colab": {
          "base_uri": "https://localhost:8080/",
          "height": 265
        },
        "id": "l2HV5wnAUaZ8",
        "outputId": "5ffc34f9-a509-4f01-9a39-2bd5a5a4f300"
      },
      "execution_count": 26,
      "outputs": [
        {
          "output_type": "display_data",
          "data": {
            "text/plain": [
              "<Figure size 432x288 with 2 Axes>"
            ],
            "image/png": "[encoded data removed]"
          },
          "metadata": {
            "needs_background": "light"
          }
        }
      ]
    },
    {
      "cell_type": "code",
      "source": [
        "seq_len = []\n",
        "for (en, mal) in ds.batch(BATCH_SIZE):\n",
        "  en_tok = english_text_vectorizer(en)\n",
        "  seq_len.append(en_tok.shape[1])\n",
        "  mal_tok = malayalam_text_vectorizer(mal)\n",
        "  seq_len.append(mal_tok.shape[1])\n",
        "\n",
        "plt.subplot(121)\n",
        "plt.hist(seq_len);\n",
        "plt.subplot(122)\n",
        "sns.histplot(seq_len, kde=True);"
      ],
      "metadata": {
        "colab": {
          "base_uri": "https://localhost:8080/",
          "height": 265
        },
        "id": "VmxF6lbmfGtU",
        "outputId": "1e07b856-e9f2-42d5-bfff-3d9fd6da19c0"
      },
      "execution_count": 27,
      "outputs": [
        {
          "output_type": "display_data",
          "data": {
            "text/plain": [
              "<Figure size 432x288 with 2 Axes>"
            ],
            "image/png": "[encoded data removed]"
          },
          "metadata": {
            "needs_background": "light"
          }
        }
      ]
    },
    {
      "cell_type": "code",
      "source": [
        "from collections import Counter\n",
        "\n",
        "c = Counter(seq_len)\n",
        "# print(c)\n",
        "plt.bar(c.keys(), c.values());"
      ],
      "metadata": {
        "colab": {
          "base_uri": "https://localhost:8080/",
          "height": 265
        },
        "id": "43S4FwCLOmuq",
        "outputId": "a14fe726-a20f-4e72-dc2c-617e1f4e6d84"
      },
      "execution_count": 28,
      "outputs": [
        {
          "output_type": "display_data",
          "data": {
            "text/plain": [
              "<Figure size 432x288 with 1 Axes>"
            ],
            "image/png": "[encoded data removed]"
          },
          "metadata": {
            "needs_background": "light"
          }
        }
      ]
    },
    {
      "cell_type": "markdown",
      "source": [
        "### vocabulary analysis 🔈\n",
        "  We only have short sentences in our dataset.\n",
        "  Quality of model depends on the quality of the data\n",
        "\n",
        "  Since majority of sentences are short we are capping at 16"
      ],
      "metadata": {
        "id": "Ov7E7eGRPRs6"
      }
    },
    {
      "cell_type": "code",
      "source": [
        "# lets cap the maximum lenght at 16\n",
        "MAX_TOKENS = 16\n",
        "\n",
        "def filter_text(en, mal):\n",
        "  seq_len = tf.maximum(tf.shape(en)[1], tf.shape(mal)[1])\n",
        "  return seq_len < MAX_TOKENS\n",
        "\n",
        "def get_tokens(en, mal):\n",
        "  en_toks = english_text_vectorizer(en)\n",
        "  mal_toks = malayalam_text_vectorizer(mal)\n",
        "  return en_toks, mal_toks\n",
        "  \n",
        "BUFFER_SIZE = 20000\n",
        "BATCH_SIZE = 64\n",
        "\n",
        "def process_the_dataset(ds):\n",
        "  ds = ds.cache()\n",
        "  ds = ds.shuffle(BUFFER_SIZE)\n",
        "  ds = ds.batch(BATCH_SIZE)\n",
        "  ds = ds.map(get_tokens, num_parallel_calls=tf.data.AUTOTUNE)\n",
        "  ds = ds.filter(filter_text)\n",
        "  ds = ds.prefetch(tf.data.AUTOTUNE)\n",
        "  return ds\n"
      ],
      "metadata": {
        "id": "SVyFSvYXiC32"
      },
      "execution_count": 29,
      "outputs": []
    },
    {
      "cell_type": "markdown",
      "source": [
        "### Token generation 🧰"
      ],
      "metadata": {
        "id": "e7kK37h2xAKJ"
      }
    },
    {
      "cell_type": "code",
      "source": [
        "token_ds = process_the_dataset(ds)\n",
        "\n",
        "# lets check everything is inplace\n",
        "en_token_batch, mal_token_batch = next(iter(token_ds))\n",
        "print('English token batch shape',en_token_batch.shape)\n",
        "print('Malayalam token batch shape',mal_token_batch.shape)"
      ],
      "metadata": {
        "colab": {
          "base_uri": "https://localhost:8080/"
        },
        "id": "TN3jHxtewwgr",
        "outputId": "dc673898-4637-4ca5-b1a5-334e92ca540f"
      },
      "execution_count": 30,
      "outputs": [
        {
          "output_type": "stream",
          "name": "stdout",
          "text": [
            "English token batch shape (64, 10)\n",
            "Malayalam token batch shape (64, 9)\n"
          ]
        }
      ]
    },
    {
      "cell_type": "markdown",
      "source": [
        "## Positional Encoding 📶\n",
        "\n",
        "\n",
        "![image.png](data:image/png;base64,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)"
      ],
      "metadata": {
        "id": "ZyqOjDdYQklz"
      }
    },
    {
      "cell_type": "code",
      "source": [
        "def get_angle(p, i, d):\n",
        "  frac = 1/np.power(10000,(2*(i//2)/np.float32(d)))\n",
        "  return p*frac"
      ],
      "metadata": {
        "id": "3-HMv5Jd6RoF"
      },
      "execution_count": 31,
      "outputs": []
    },
    {
      "cell_type": "code",
      "source": [
        "def positional_encoding(positions, dims):\n",
        "  positions = np.arange(positions)[:,np.newaxis]\n",
        "  i = np.arange(dims)[np.newaxis,:]\n",
        "  theta = get_angle(positions, i, dims)\n",
        "\n",
        "  theta[:,0::2] = np.sin(theta[:,0::2])\n",
        "  theta[:,1::2] = np.cos(theta[:,1::2])\n",
        "\n",
        "  pe = tf.cast(theta, dtype=tf.float32)\n",
        "  return pe[tf.newaxis,:]"
      ],
      "metadata": {
        "id": "NL9Jz8xiSExw"
      },
      "execution_count": 32,
      "outputs": []
    },
    {
      "cell_type": "code",
      "source": [
        "# example  pe\n",
        "pe = positional_encoding(1024, 512)\n",
        "pe.shape"
      ],
      "metadata": {
        "colab": {
          "base_uri": "https://localhost:8080/"
        },
        "id": "k-2nSI0YTot6",
        "outputId": "40466e3a-a23a-4109-b5ab-4e260b70f35e"
      },
      "execution_count": 33,
      "outputs": [
        {
          "output_type": "execute_result",
          "data": {
            "text/plain": [
              "TensorShape([1, 1024, 512])"
            ]
          },
          "metadata": {},
          "execution_count": 33
        }
      ]
    },
    {
      "cell_type": "code",
      "source": [
        "plt.pcolormesh(tf.transpose(pe[0]),cmap='RdBu')\n",
        "plt.ylabel('Depth')\n",
        "plt.xlabel('Position')\n",
        "plt.colorbar()\n",
        "plt.show()"
      ],
      "metadata": {
        "colab": {
          "base_uri": "https://localhost:8080/",
          "height": 283
        },
        "id": "J0JVlYTgUBbp",
        "outputId": "660c1d5a-abd7-4ec4-9942-f90e55c200db"
      },
      "execution_count": 34,
      "outputs": [
        {
          "output_type": "display_data",
          "data": {
            "text/plain": [
              "<Figure size 432x288 with 2 Axes>"
            ],
            "image/png": "[encoded data removed]"
          },
          "metadata": {
            "needs_background": "light"
          }
        }
      ]
    },
    {
      "cell_type": "markdown",
      "source": [
        "## Mask 😷\n",
        "* padding mask\n",
        "* lookahead mask"
      ],
      "metadata": {
        "id": "3qVjyhFEX_cC"
      }
    },
    {
      "cell_type": "code",
      "source": [
        "def create_padding_mask(seq):\n",
        "  # seq -> [batch, seq]\n",
        "  mask = tf.math.equal(seq,0)\n",
        "  mask = tf.cast(mask,dtype=tf.float32)\n",
        "  # [batch, 1, 1, seq]\n",
        "  return mask[:,tf.newaxis,tf.newaxis,:] "
      ],
      "metadata": {
        "id": "x9lzVff7VBY5"
      },
      "execution_count": 35,
      "outputs": []
    },
    {
      "cell_type": "code",
      "source": [
        "# example creating mask\n",
        "print('Shape of english tokens', sample_english_tokens.shape)\n",
        "sample_english_mask = create_padding_mask(sample_english_tokens)\n",
        "print('Shape of english mask', sample_english_mask.shape)\n",
        "sample_malayalam_mask = create_padding_mask(sample_malayalam_tokens)\n",
        "print('Shape of malayalam mask', sample_malayalam_mask.shape)"
      ],
      "metadata": {
        "colab": {
          "base_uri": "https://localhost:8080/"
        },
        "id": "9TemYQuvYrba",
        "outputId": "456de5e5-4e0e-48b1-b16d-a7aae4ae9031"
      },
      "execution_count": 36,
      "outputs": [
        {
          "output_type": "stream",
          "name": "stdout",
          "text": [
            "Shape of english tokens (64, 11)\n",
            "Shape of english mask (64, 1, 1, 11)\n",
            "Shape of malayalam mask (64, 1, 1, 13)\n"
          ]
        }
      ]
    },
    {
      "cell_type": "code",
      "source": [
        "def create_lookahead_mask(size):\n",
        "  ones = tf.ones(shape=[size,size])\n",
        "  lt =  tf.linalg.band_part(ones, -1, 0)\n",
        "  return 1-lt\n",
        "  "
      ],
      "metadata": {
        "id": "mWFpHlI4ajEb"
      },
      "execution_count": 37,
      "outputs": []
    },
    {
      "cell_type": "code",
      "source": [
        "# let see an example of lookahead mask\n",
        "size = tf.shape(sample_malayalam_tokens)[1]\n",
        "sample_lookahead_mask = create_lookahead_mask(size)\n",
        "print('Shape of lower triangular mask', sample_lookahead_mask.shape)\n",
        "\n",
        "print('Shape of malayalam padding mask',sample_malayalam_mask.shape)\n",
        "padding_and_lookahead = tf.maximum(sample_malayalam_mask, sample_lookahead_mask)\n",
        "print('Shape of padding and lookahead mask ', padding_and_lookahead.shape)"
      ],
      "metadata": {
        "id": "IWarl3YjbojG",
        "colab": {
          "base_uri": "https://localhost:8080/"
        },
        "outputId": "7a582dea-db05-4d05-f2a9-81b638eeb96e"
      },
      "execution_count": 38,
      "outputs": [
        {
          "output_type": "stream",
          "name": "stdout",
          "text": [
            "Shape of lower triangular mask (13, 13)\n",
            "Shape of malayalam padding mask (64, 1, 1, 13)\n",
            "Shape of padding and lookahead mask  (64, 1, 13, 13)\n"
          ]
        }
      ]
    },
    {
      "cell_type": "markdown",
      "source": [
        "## Scaled dot product attention 🧮"
      ],
      "metadata": {
        "id": "5bd7g9IBGzfo"
      }
    },
    {
      "cell_type": "code",
      "source": [
        "def scaled_dot_product_attention(q, k, v, mask=None):\n",
        "  # dot product  -- query . key\n",
        "  # [batch, query, dim].[batch, key, dim]T --> [batch, query, key]\n",
        "  dot = tf.matmul(q, k, transpose_b=True)\n",
        "  # scale the dot product by sqrt of dim\n",
        "  dim = tf.shape(q)[-1]\n",
        "  dim = tf.cast(dim, dtype=tf.float32)\n",
        "  dot /= tf.math.sqrt(dim)\n",
        "  # apply mask\n",
        "  if mask is not None:\n",
        "    dot += (mask*-1e9)\n",
        "  # relative similarity score or weights --> [batch, q, k]\n",
        "  # As the softmax normalization is done along the dimension for keys, \n",
        "  # the attention values decide the amount of importance given to the keys for each query.\n",
        "  attention_weights = tf.nn.softmax(dot, axis=-1)\n",
        "  # attention vector [batch, q, k] . [batch, v, dims] --> [batch, q, dims]\n",
        "  attention_vector = tf.matmul(attention_weights,v) \n",
        "  return attention_vector, attention_weights\n"
      ],
      "metadata": {
        "id": "IDCHcuFAF0Am"
      },
      "execution_count": 39,
      "outputs": []
    },
    {
      "cell_type": "code",
      "source": [
        "# testing the attention\n",
        "\n",
        "sample_english_vocab_size = english_text_vectorizer.vocabulary_size()\n",
        "sample_malayalam_vocab_size = malayalam_text_vectorizer.vocabulary_size()\n",
        "\n",
        "sample_english_encoding = tf.keras.layers.Embedding(sample_english_vocab_size, 512)(sample_english_tokens)\n",
        "sample_malayalam_encoding = tf.keras.layers.Embedding(sample_malayalam_vocab_size, 512)(sample_malayalam_tokens)\n",
        "\n",
        "mask = sample_english_mask\n",
        "\n",
        "vector = sample_english_encoding\n",
        "q, k ,v = vector, vector, vector\n",
        "v, w = scaled_dot_product_attention(q,k,v,mask=None)\n",
        "\n",
        "print('Shape of English tokens',sample_english_tokens.shape)\n",
        "print('Shape of English encoding',sample_english_encoding.shape)\n",
        "print('Shape of attention vector',v.shape)\n",
        "print('Shape of attention weights',w.shape)"
      ],
      "metadata": {
        "colab": {
          "base_uri": "https://localhost:8080/"
        },
        "id": "CIIT6UxaNZ45",
        "outputId": "725d512c-48fe-43d2-f84a-8c36a98f289f"
      },
      "execution_count": 40,
      "outputs": [
        {
          "output_type": "stream",
          "name": "stdout",
          "text": [
            "Shape of English tokens (64, 11)\n",
            "Shape of English encoding (64, 11, 512)\n",
            "Shape of attention vector (64, 11, 512)\n",
            "Shape of attention weights (64, 11, 11)\n"
          ]
        }
      ]
    },
    {
      "cell_type": "markdown",
      "source": [
        "## Multi Head Attention 📡"
      ],
      "metadata": {
        "id": "OeTWk4yQKBjA"
      }
    },
    {
      "cell_type": "code",
      "source": [
        "\n",
        "class MultiHeadAttention(tf.keras.layers.Layer):\n",
        "  def __init__(self, dims, num_heads):\n",
        "    super(MultiHeadAttention, self).__init__()\n",
        "    self.dims = dims\n",
        "    self.heads = num_heads\n",
        "    self.depth = dims//num_heads\n",
        "\n",
        "    # TDD -- Test Driven Development\n",
        "    tf.assert_equal((dims%num_heads),0)\n",
        "\n",
        "    # linear layers\n",
        "    self.dq = tf.keras.layers.Dense(dims)\n",
        "    self.dk = tf.keras.layers.Dense(dims)\n",
        "    self.dv = tf.keras.layers.Dense(dims)\n",
        "\n",
        "    self.dense = tf.keras.layers.Dense(dims)\n",
        "\n",
        "  def split_head(self, vector):\n",
        "    # [batch, seq, dims] --> [batch, seq, head, depth]\n",
        "    vec = tf.reshape(vector, shape=[self.batch, -1, self.heads, self.depth])\n",
        "    # [batch, seq, head, depth] --> [batch, head, seq, depth]\n",
        "    vec = tf.transpose(vec, [0,2,1,3])\n",
        "    return vec\n",
        "    \n",
        "  def combine_heads(self, vector):\n",
        "    # [batch, head, seq, depth] --> [batch, seq, head, depth]\n",
        "    vec = tf.transpose(vector, [0,2,1,3])\n",
        "    # [batch, seq, head, depth] --> [batch, seq, dims]\n",
        "    vec = tf.reshape(vec, shape=[self.batch, -1, self.dims])\n",
        "    return vec\n",
        "\n",
        "  def call(self, q, k ,v, mask):\n",
        "\n",
        "    self.batch = tf.shape(q)[0]\n",
        "    # linear layer\n",
        "    dq = self.dq(q)\n",
        "    dk = self.dk(k)\n",
        "    dv = self.dv(v)\n",
        "    # split heads\n",
        "    q = self.split_head(dq)\n",
        "    k = self.split_head(dk)\n",
        "    v = self.split_head(dv)\n",
        "    # attention\n",
        "    attention_vector, attention_weights = scaled_dot_product_attention(q,k,v,mask)\n",
        "    # combine heads\n",
        "    attention_vector = self.combine_heads(attention_vector)\n",
        "    attention_vector = self.dense(attention_vector)\n",
        "\n",
        "    return attention_vector, attention_weights\n",
        "\n",
        "    "
      ],
      "metadata": {
        "id": "ZT4ASDkdJGlD"
      },
      "execution_count": 41,
      "outputs": []
    },
    {
      "cell_type": "code",
      "source": [
        "# test multi head attention\n",
        "mha = MultiHeadAttention(512, 8)\n",
        "v, w = mha(q, k, v, mask)\n",
        "print('Shape of attention vector',v.shape)\n",
        "print('Shape of attention weights',w.shape)"
      ],
      "metadata": {
        "colab": {
          "base_uri": "https://localhost:8080/"
        },
        "id": "t1mpUEOgMkXI",
        "outputId": "d6bf5b67-a409-47db-b16e-dad258aeb3ef"
      },
      "execution_count": 42,
      "outputs": [
        {
          "output_type": "stream",
          "name": "stdout",
          "text": [
            "Shape of attention vector (64, 11, 512)\n",
            "Shape of attention weights (64, 8, 11, 11)\n"
          ]
        }
      ]
    },
    {
      "cell_type": "markdown",
      "source": [
        "## FFNN ⛓"
      ],
      "metadata": {
        "id": "XFMELJQ49lYE"
      }
    },
    {
      "cell_type": "code",
      "source": [
        "def FFNN(dims, dense_units):\n",
        "  return tf.keras.Sequential([\n",
        "      tf.keras.layers.Dense(dense_units,'relu'),\n",
        "      tf.keras.layers.Dense(dims)\n",
        "  ])"
      ],
      "metadata": {
        "id": "iufNCfjeYPUz"
      },
      "execution_count": 43,
      "outputs": []
    },
    {
      "cell_type": "markdown",
      "source": [
        "## Encoder Layers 🚧"
      ],
      "metadata": {
        "id": "_zzi_IvGiVR1"
      }
    },
    {
      "cell_type": "code",
      "source": [
        "class Encoder_Layer(tf.keras.layers.Layer):\n",
        "  def __init__(self, dims, dense_units, num_heads, drop_out_rate=0.1):\n",
        "    super(Encoder_Layer, self).__init__()\n",
        "\n",
        "    self.ffnn = FFNN(dims, dense_units)\n",
        "\n",
        "    self.mha = MultiHeadAttention(dims, num_heads)\n",
        "\n",
        "    self.dropout_1 = tf.keras.layers.Dropout(drop_out_rate)\n",
        "    self.dropout_2 = tf.keras.layers.Dropout(drop_out_rate)\n",
        "\n",
        "    self.add_and_normalize_1 = tf.keras.layers.LayerNormalization()\n",
        "    self.add_and_normalize_2 = tf.keras.layers.LayerNormalization()\n",
        "\n",
        "  def call(self, x, mask, training):\n",
        "    # multi-head-attention\n",
        "    attention_vector, attention_weights = self.mha(x, x, x, mask)\n",
        "    # drop-out\n",
        "    d1 = self.dropout_1(attention_vector, training=training)\n",
        "    # add and normalize\n",
        "    out_1 = self.add_and_normalize_1(x + d1)\n",
        "    # feed forward neural nets\n",
        "    ffnn_out = self.ffnn(out_1)\n",
        "    # drop-out\n",
        "    d2 = self.dropout_2(ffnn_out, training=training)\n",
        "    # add and normalize\n",
        "    out_2 = self.add_and_normalize_2(out_1 + d2)\n",
        "\n",
        "    return out_2\n"
      ],
      "metadata": {
        "id": "DUTHruAtVzq6"
      },
      "execution_count": 44,
      "outputs": []
    },
    {
      "cell_type": "code",
      "source": [
        "# test encoder layer\n",
        "enc_layer = Encoder_Layer(512, 2048, 8, 0.1)\n",
        "pe = positional_encoding(16, 512)\n",
        "seq_len = sample_english_encoding.shape[1]\n",
        "x = pe[:,:seq_len,:] + sample_english_encoding\n",
        "enc_out = enc_layer(x, sample_english_mask, training=False)\n",
        "print('Intput shape of encoder layer', x.shape)\n",
        "print('Output shape of encoder layer', enc_out.shape)"
      ],
      "metadata": {
        "colab": {
          "base_uri": "https://localhost:8080/"
        },
        "id": "cKHt-HvgYK47",
        "outputId": "36539b26-ebd5-41b9-c218-84469407ae09"
      },
      "execution_count": 45,
      "outputs": [
        {
          "output_type": "stream",
          "name": "stdout",
          "text": [
            "Intput shape of encoder layer (64, 11, 512)\n",
            "Output shape of encoder layer (64, 11, 512)\n"
          ]
        }
      ]
    },
    {
      "cell_type": "markdown",
      "source": [
        "## Decoder Layer 🚧"
      ],
      "metadata": {
        "id": "DP4CnIGi0KgB"
      }
    },
    {
      "cell_type": "code",
      "source": [
        "class Decoder_Layer(tf.keras.layers.Layer):\n",
        "  def __init__(self, dims, dense_units, num_heads, drop_out_rate=0.1):\n",
        "    super(Decoder_Layer, self).__init__()\n",
        "    \n",
        "    # multi-head-attention\n",
        "    self.mha = MultiHeadAttention(dims, num_heads)\n",
        "    # masked-multi-head-attention\n",
        "    self.mmha = MultiHeadAttention(dims, num_heads)\n",
        "    # feed forward neural nets\n",
        "    self.ffnn = FFNN(dims, dense_units)\n",
        "\n",
        "    # drop-out-layer\n",
        "    self.dropout_1 = tf.keras.layers.Dropout(drop_out_rate)\n",
        "    self.dropout_2 = tf.keras.layers.Dropout(drop_out_rate)\n",
        "    self.dropout_3 = tf.keras.layers.Dropout(drop_out_rate)\n",
        "\n",
        "    # layer normalization\n",
        "    self.add_and_normalize_1 = tf.keras.layers.LayerNormalization()\n",
        "    self.add_and_normalize_2 = tf.keras.layers.LayerNormalization()\n",
        "    self.add_and_normalize_3 = tf.keras.layers.LayerNormalization()\n",
        "\n",
        "  def call(self, x, encoder_out, mask, training):\n",
        "    # masked multi head attention\n",
        "    attention_vector_1, attention_weights_1 = self.mmha(x, x, x, mask['lookahead'])\n",
        "    # drop-out\n",
        "    d1 = self.dropout_1(attention_vector_1, training=training)\n",
        "    # add and noramlize\n",
        "    out_1 = self.add_and_normalize_1(x + d1)\n",
        "\n",
        "    # multi head attention\n",
        "    attention_vector_2, attention_weights_2 = self.mha(out_1, encoder_out, encoder_out, mask['padding'])\n",
        "    # drop-out\n",
        "    d2 = self.dropout_2(attention_vector_2, training=training)\n",
        "    # add and noramlize\n",
        "    out_2 = self.add_and_normalize_2(out_1 + d2)\n",
        "\n",
        "    # feed forward neural nets\n",
        "    ffnn_out = self.ffnn(out_2)\n",
        "    # drop-out\n",
        "    d3 = self.dropout_3(ffnn_out, training=training)\n",
        "    # add and normalize\n",
        "    out_3 = self.add_and_normalize_3(out_2 + d3)\n",
        "\n",
        "    return out_3, attention_weights_1, attention_weights_2\n",
        "    "
      ],
      "metadata": {
        "id": "iZHYZvL1jBTV"
      },
      "execution_count": 46,
      "outputs": []
    },
    {
      "cell_type": "code",
      "source": [
        "# lets test the decoder layer\n",
        "decoder_layer = Decoder_Layer(512, 2048, 8)\n",
        "seq_len = sample_malayalam_encoding.shape[1]\n",
        "pe = positional_encoding(MAX_TOKENS, 512)\n",
        "x = pe[:,:seq_len,:]+sample_malayalam_encoding\n",
        "mask = {'padding':sample_english_mask, 'lookahead':padding_and_lookahead}\n",
        "decoder_out,attention_weights_1, attention_weights_2 = decoder_layer(x, enc_out, mask, training=False)\n",
        "\n",
        "print('Shape of input to decoder', x.shape)\n",
        "print('Shape of decoder output', decoder_out.shape)\n",
        "print('Shape of decoder attention_weights_1', attention_weights_1.shape)\n",
        "print('Shape of decoder attention_weights_2', attention_weights_2.shape)"
      ],
      "metadata": {
        "colab": {
          "base_uri": "https://localhost:8080/"
        },
        "id": "Og_j23C3q1uZ",
        "outputId": "fb4a9e81-36ae-40cd-a697-bf77a866504f"
      },
      "execution_count": 47,
      "outputs": [
        {
          "output_type": "stream",
          "name": "stdout",
          "text": [
            "Shape of input to decoder (64, 13, 512)\n",
            "Shape of decoder output (64, 13, 512)\n",
            "Shape of decoder attention_weights_1 (64, 8, 13, 13)\n",
            "Shape of decoder attention_weights_2 (64, 8, 13, 11)\n"
          ]
        }
      ]
    },
    {
      "cell_type": "markdown",
      "source": [
        "## Encoder 📘"
      ],
      "metadata": {
        "id": "eH19qjKQ2W-V"
      }
    },
    {
      "cell_type": "code",
      "source": [
        "class Encoder(tf.keras.layers.Layer):\n",
        "  def __init__(self, dims, dense_units, num_heads, num_layers, input_vocab_size, drop_out_rate=0.1, MAX_TOKENS=16):\n",
        "    super(Encoder, self).__init__()\n",
        "    self.dims = dims\n",
        "    self.Embedder = tf.keras.layers.Embedding(input_vocab_size, dims)\n",
        "    self.dropout = tf.keras.layers.Dropout(drop_out_rate)\n",
        "    self.pe = positional_encoding(MAX_TOKENS, dims)\n",
        "    self.encoder_layer = [Encoder_Layer(dims, dense_units, num_heads, drop_out_rate) for i in tf.range(num_layers)]\n",
        "\n",
        "  def call(self, x, mask, training):\n",
        "    # tokens to embeddings  --> [batch, seq, dims]\n",
        "    x = self.Embedder(x)\n",
        "    # scale the embedding - multiply it with sqrt of dims\n",
        "    x = x * tf.math.sqrt(tf.cast(self.dims, dtype=tf.float32))\n",
        "    # positional encoding\n",
        "    seq_len = tf.shape(x)[1]\n",
        "    x = x + self.pe[:,:seq_len,:]\n",
        "    x = self.dropout(x, training=training)\n",
        "    \n",
        "    for encoder in self.encoder_layer:\n",
        "      x = encoder(x, mask, training)\n",
        "    \n",
        "    return x\n"
      ],
      "metadata": {
        "id": "i3U7yVY8wLcd"
      },
      "execution_count": 48,
      "outputs": []
    },
    {
      "cell_type": "code",
      "source": [
        "# test encoder \n",
        "encoder = Encoder(512, 2048, 8, 2, sample_english_vocab_size, 0.1, 30)\n",
        "enc_out = encoder(sample_english_tokens, sample_english_mask, False)\n",
        "print('Encoder input shape',sample_english_tokens.shape)\n",
        "print('Encoder output shape', enc_out.shape)"
      ],
      "metadata": {
        "colab": {
          "base_uri": "https://localhost:8080/"
        },
        "id": "NVfXVVJU3pQV",
        "outputId": "5e05fced-3f34-4179-e720-b5251dbd78fa"
      },
      "execution_count": 49,
      "outputs": [
        {
          "output_type": "stream",
          "name": "stdout",
          "text": [
            "Encoder input shape (64, 11)\n",
            "Encoder output shape (64, 11, 512)\n"
          ]
        }
      ]
    },
    {
      "cell_type": "markdown",
      "source": [
        "## Decoder 📗"
      ],
      "metadata": {
        "id": "2p6Y4uJtCb_A"
      }
    },
    {
      "cell_type": "code",
      "source": [
        "class Decoder(tf.keras.layers.Layer):\n",
        "  def __init__(self, dims, dense_units, num_heads, num_layers, output_vocab_size, drop_out_rate=0.1, MAX_TOKENS=16):\n",
        "    super(Decoder, self).__init__()\n",
        "    self.dims = dims\n",
        "    self.num_layers = num_layers\n",
        "    self.embedder = tf.keras.layers.Embedding(output_vocab_size, dims)\n",
        "    self.pe = positional_encoding(MAX_TOKENS, dims)\n",
        "    self.drop_out_layer = tf.keras.layers.Dropout(drop_out_rate)\n",
        "    self.decoder_layers = [Decoder_Layer(dims, dense_units, num_heads, drop_out_rate) for i in tf.range(num_layers)]\n",
        "\n",
        "  def call(self, x, enc_out, mask, training):\n",
        "    # embeddings\n",
        "    embeddings = self.embedder(x)\n",
        "    # scale the embeddings by multiplying with sqrt(dims)\n",
        "    factor = tf.math.sqrt(tf.cast(self.dims, tf.float32))\n",
        "    embeddings *= factor\n",
        "    # positional encoding\n",
        "    seq_len = tf.shape(x)[1]\n",
        "    embeddings += self.pe[:,:seq_len,:]\n",
        "    # dropout\n",
        "    vector = self.drop_out_layer(embeddings, training=training)\n",
        "    # weights \n",
        "    attention_weights = {}\n",
        "    # loop\n",
        "    for i in range(self.num_layers):\n",
        "      vector, attention_weights_1, attention_weights_2 = self.decoder_layers[i](vector, enc_out, mask, training)\n",
        "      attention_weights[f'attention_weights_block_1-{i}'] = attention_weights_1\n",
        "      attention_weights[f'attention_weights_block_2-{i}'] = attention_weights_2\n",
        "\n",
        "    return vector, attention_weights"
      ],
      "metadata": {
        "id": "jZtD7srP9Bpx"
      },
      "execution_count": 50,
      "outputs": []
    },
    {
      "cell_type": "code",
      "source": [
        "decoder = Decoder(512, 1024, 8, 2, sample_malayalam_vocab_size, drop_out_rate=0.1, MAX_TOKENS=16)\n",
        "mask = {'lookahead':padding_and_lookahead, 'padding':sample_english_mask}\n",
        "dec_out, attention_weights = decoder(sample_malayalam_tokens, enc_out, mask, training=True)"
      ],
      "metadata": {
        "id": "0twJT3l4Dy2t"
      },
      "execution_count": 51,
      "outputs": []
    },
    {
      "cell_type": "code",
      "source": [
        "print('Shape of input :',sample_malayalam_tokens.shape)\n",
        "print('Shape of output :',dec_out.shape)"
      ],
      "metadata": {
        "colab": {
          "base_uri": "https://localhost:8080/"
        },
        "id": "oDbRt5IdEJ8d",
        "outputId": "a77711ce-40f3-4562-dec3-e83ddc69a9b8"
      },
      "execution_count": 52,
      "outputs": [
        {
          "output_type": "stream",
          "name": "stdout",
          "text": [
            "Shape of input : (64, 13)\n",
            "Shape of output : (64, 13, 512)\n"
          ]
        }
      ]
    },
    {
      "cell_type": "markdown",
      "source": [
        "## Transformer 🤖"
      ],
      "metadata": {
        "id": "ggKUOnv6Gzpx"
      }
    },
    {
      "cell_type": "code",
      "source": [
        "class Transformer(tf.keras.layers.Layer):\n",
        "  def __init__(self, dims, dense_units, num_heads, num_layers, input_vocab_size, output_vocab_size, drop_out_rate=0.1, MAX_TOKENS=16):\n",
        "    super(Transformer, self).__init__()\n",
        "    self.encoder = Encoder(dims, dense_units, num_heads, num_layers, input_vocab_size, drop_out_rate, MAX_TOKENS)\n",
        "    self.decoder = Decoder(dims, dense_units, num_heads, num_layers, output_vocab_size, drop_out_rate, MAX_TOKENS)\n",
        "    self.final_layer = tf.keras.layers.Dense(output_vocab_size)\n",
        "\n",
        "  def create_mask(self, inp, tar):\n",
        "    # use the input to create the padding mask\n",
        "    padding = create_padding_mask(inp)\n",
        "    # use the target to create the lookahead mask\n",
        "    size = tf.shape(tar)[1]\n",
        "    target_mask = create_padding_mask(tar)\n",
        "    lt = create_lookahead_mask(size)\n",
        "    lookahead = tf.maximum(target_mask, lt)\n",
        "\n",
        "    mask = {'padding':padding, 'lookahead':lookahead}\n",
        "    return mask\n",
        "  \n",
        "  def call(self, x, training):\n",
        "    inp, tar = x\n",
        "    mask = self.create_mask(inp, tar)\n",
        "\n",
        "    enc_out = self.encoder(inp, mask['padding'], training)\n",
        "    \n",
        "    dec_out, attention_weights = self.decoder(tar, enc_out, mask, training)\n",
        "\n",
        "    final = self.final_layer(dec_out)\n",
        "\n",
        "    return final, attention_weights\n",
        "    "
      ],
      "metadata": {
        "id": "SogzSw1MFWva"
      },
      "execution_count": 53,
      "outputs": []
    },
    {
      "cell_type": "code",
      "source": [
        "# lets test the transformer\n",
        "dims = 512\n",
        "dense_units = 2048\n",
        "num_heads = 8\n",
        "num_layers = 4\n",
        "input_vocab_size = sample_english_vocab_size\n",
        "output_vocab_size = sample_malayalam_vocab_size\n",
        "drop_out_rate=0.1 \n",
        "MAX_TOKENS=16\n",
        "transformer = Transformer(dims, dense_units, num_heads, num_layers, input_vocab_size, output_vocab_size, drop_out_rate, MAX_TOKENS)\n",
        "x = (sample_english_tokens, sample_malayalam_tokens)\n",
        "out, attention_weights = transformer(x, training=False)"
      ],
      "metadata": {
        "id": "cMklQ_2RIpcH"
      },
      "execution_count": 54,
      "outputs": []
    },
    {
      "cell_type": "code",
      "source": [
        "print('shape of output',out.shape)\n",
        "print('attention weights',[key for key in attention_weights.keys()])\n"
      ],
      "metadata": {
        "id": "VwNHIBrUKHsn",
        "colab": {
          "base_uri": "https://localhost:8080/"
        },
        "outputId": "23a49958-9700-4e02-deea-9e5522ee9124"
      },
      "execution_count": 55,
      "outputs": [
        {
          "output_type": "stream",
          "name": "stdout",
          "text": [
            "shape of output (64, 13, 8000)\n",
            "attention weights ['attention_weights_block_1-0', 'attention_weights_block_2-0', 'attention_weights_block_1-1', 'attention_weights_block_2-1', 'attention_weights_block_1-2', 'attention_weights_block_2-2', 'attention_weights_block_1-3', 'attention_weights_block_2-3']\n"
          ]
        }
      ]
    },
    {
      "cell_type": "markdown",
      "source": [
        "## Set hyperparameters ⚙\n",
        "To keep this example small and relatively fast, the values for num_layers, d_model, dff have been reduced.\n",
        "\n",
        "The base model described in the paper used: num_layers=6, d_model=512, dff=2048.\n"
      ],
      "metadata": {
        "id": "A_Nv3CpJb_3b"
      }
    },
    {
      "cell_type": "code",
      "source": [
        "num_layers = 4\n",
        "dims = 128\n",
        "dense_units = 512\n",
        "num_heads = 8\n",
        "dropout_rate = 0.1"
      ],
      "metadata": {
        "id": "twtA1bQLbbJ3"
      },
      "execution_count": 56,
      "outputs": []
    },
    {
      "cell_type": "markdown",
      "source": [
        "## Masked Loss 🤿"
      ],
      "metadata": {
        "id": "GphpfqtRdJ7y"
      }
    },
    {
      "cell_type": "code",
      "source": [
        "class MaskedLoss(tf.keras.losses.Loss):\n",
        "  def __init__(self,):\n",
        "    super(MaskedLoss, self).__init__()\n",
        "    self.lossfn = tf.keras.losses.SparseCategoricalCrossentropy(from_logits=True, reduction='none')\n",
        "\n",
        "  def call(self, y_true, y_preds):\n",
        "    loss = self.lossfn(y_true, y_preds)\n",
        "    mask = tf.not_equal(y_true,0)\n",
        "    mask = tf.cast(mask, dtype=loss.dtype)\n",
        "\n",
        "    loss *=mask\n",
        "    avg_loss = tf.reduce_sum(loss) / tf.reduce_sum(mask)\n",
        "    return avg_loss"
      ],
      "metadata": {
        "id": "iSasWNHddJli"
      },
      "execution_count": 57,
      "outputs": []
    },
    {
      "cell_type": "markdown",
      "source": [
        "## Custom Schedule for optimizer 🛃"
      ],
      "metadata": {
        "id": "m-dJ4enQfsyY"
      }
    },
    {
      "cell_type": "code",
      "source": [
        "class CustomSchedule(tf.keras.optimizers.schedules.LearningRateSchedule):\n",
        "  def __init__(self, dims, warmup_steps=4000):\n",
        "    super(CustomSchedule, self).__init__()\n",
        "\n",
        "    self.dims = dims\n",
        "    self.dims = tf.cast(self.dims, tf.float32)\n",
        "\n",
        "    self.warmup_steps = warmup_steps\n",
        "\n",
        "  def __call__(self, step):\n",
        "    arg1 = tf.math.rsqrt(step)\n",
        "    arg2 = step * (self.warmup_steps ** -1.5)\n",
        "\n",
        "    return tf.math.rsqrt(self.dims) * tf.math.minimum(arg1, arg2)"
      ],
      "metadata": {
        "id": "PxEwCMMQi0SW"
      },
      "execution_count": 58,
      "outputs": []
    },
    {
      "cell_type": "code",
      "source": [
        "# testing customSchedule\n",
        "temp_lr_schedule = CustomSchedule(dims)\n",
        "plt.figure(figsize=(10,4))\n",
        "plt.subplot(121)\n",
        "plt.plot(temp_lr_schedule(tf.range(4000, dtype=tf.float32)));\n",
        "plt.subplot(122)\n",
        "plt.plot(temp_lr_schedule(tf.range(40000, dtype=tf.float32)));"
      ],
      "metadata": {
        "colab": {
          "base_uri": "https://localhost:8080/",
          "height": 265
        },
        "id": "TDxTnbAGlpld",
        "outputId": "fdc02718-9449-4493-89e2-154b7a033eda"
      },
      "execution_count": 59,
      "outputs": [
        {
          "output_type": "display_data",
          "data": {
            "text/plain": [
              "<Figure size 720x288 with 2 Axes>"
            ],
            "image/png": "[encoded data removed]"
          },
          "metadata": {
            "needs_background": "light"
          }
        }
      ]
    },
    {
      "cell_type": "markdown",
      "source": [
        "## Train Translator 🚆"
      ],
      "metadata": {
        "id": "cxN-ofXkdGQ8"
      }
    },
    {
      "cell_type": "code",
      "source": [
        "class TrainTranslator(tf.keras.Model):\n",
        "  def __init__(self, dims, dense_units, num_heads, num_layers,\n",
        "               input_vectorizer, output_vectorizer,\n",
        "               drop_out_rate=0.1, MAX_TOKENS=16,\n",
        "               use_tf_function=False):\n",
        "    \n",
        "    super(TrainTranslator, self).__init__()\n",
        "    self.use_tf_function = use_tf_function\n",
        "    self.input_vectorizer = input_vectorizer\n",
        "    self.output_vectorizer = output_vectorizer\n",
        "\n",
        "    self.transformer = Transformer(dims,\n",
        "                                   dense_units,\n",
        "                                   num_heads,\n",
        "                                   num_layers,\n",
        "                                   input_vectorizer.vocabulary_size(),\n",
        "                                   output_vectorizer.vocabulary_size(),\n",
        "                                   drop_out_rate,\n",
        "                                   MAX_TOKENS)\n",
        "\n",
        "\n",
        "  def train_step(self, inputs):\n",
        "    if self.use_tf_function:\n",
        "      return self._tf_train_step(inputs)\n",
        "    else:\n",
        "      return self._train_step(inputs)\n",
        "\n"
      ],
      "metadata": {
        "id": "qhhUOAH6cJcD"
      },
      "execution_count": 60,
      "outputs": []
    },
    {
      "cell_type": "markdown",
      "source": [
        "### Accuracy Metrics 📐"
      ],
      "metadata": {
        "id": "YBqLH41gNby_"
      }
    },
    {
      "cell_type": "code",
      "source": [
        "def _accuracy_metric(self, y_true, y_pred):\n",
        "  # [batch, seq, vocab] --> [batch, seq]\n",
        "  y_pred = tf.argmax(y_pred, axis=-1)\n",
        "  mask = tf.not_equal(y_true, 0)\n",
        "  acc = tf.equal(y_true, y_pred)\n",
        "  acc = tf.logical_and(acc, mask)\n",
        "\n",
        "  acc = tf.cast(acc, dtype=y_true.dtype)\n",
        "  mask = tf.cast(mask, dtype=y_true.dtype)\n",
        "  \n",
        "  accuracy = tf.reduce_sum(acc) / tf.reduce_sum(mask)\n",
        "  return accuracy\n",
        "\n",
        "TrainTranslator._accuracy_metric = _accuracy_metric"
      ],
      "metadata": {
        "id": "_BZJdNlRNar8"
      },
      "execution_count": 61,
      "outputs": []
    },
    {
      "cell_type": "markdown",
      "source": [
        "### train_step 🖥"
      ],
      "metadata": {
        "id": "yaVOt10_cEI9"
      }
    },
    {
      "cell_type": "code",
      "source": [
        "\n",
        "def _train_step(self, inputs):\n",
        "  #  tokens shape -- [batch, tokens]\n",
        "  eng, mal = inputs\n",
        "  \n",
        "  # teacher forcing\n",
        "  mal_x = mal[:, :-1]\n",
        "  mal_y = mal[:, 1:]\n",
        "\n",
        "  with tf.GradientTape() as tape:\n",
        "    preds, _ = self.transformer((eng, mal_x), training=True)\n",
        "    loss = self.loss(mal_y, preds)\n",
        "  \n",
        "  gradients = tape.gradient(loss, self.trainable_variables)\n",
        "  self.optimizer.apply_gradients(zip(gradients, self.trainable_variables))\n",
        "\n",
        "  accuracy = self._accuracy_metric(mal_y, preds)\n",
        "  return {'batch_loss':loss, 'batch_accuracy':accuracy}\n",
        "\n",
        "TrainTranslator._train_step = _train_step"
      ],
      "metadata": {
        "id": "9Nsd4lgSDXTB"
      },
      "execution_count": 62,
      "outputs": []
    },
    {
      "cell_type": "markdown",
      "source": [
        "### Test the training step 🩺\n",
        "Build a TrainTranslator, and configure it for training using the Model.compile method:\n"
      ],
      "metadata": {
        "id": "gxw_fRRFGyvo"
      }
    },
    {
      "cell_type": "code",
      "source": [
        "translator =  TrainTranslator(dims, dense_units, num_heads, num_layers,\n",
        "               english_text_vectorizer, malayalam_text_vectorizer,\n",
        "               drop_out_rate=0.1, MAX_TOKENS=16,\n",
        "               use_tf_function=False)\n",
        "\n",
        "learning_rate = CustomSchedule(dims)\n",
        "\n",
        "translator.compile(loss=MaskedLoss(), \n",
        "                   optimizer=tf.keras.optimizers.Adam(learning_rate, beta_1=0.9, beta_2=0.98,epsilon=1e-9))"
      ],
      "metadata": {
        "id": "HGmr70jtGfl-"
      },
      "execution_count": 63,
      "outputs": []
    },
    {
      "cell_type": "code",
      "source": [
        "%%time\n",
        "\n",
        "for i in tf.range(10):\n",
        "  print(translator._train_step((sample_english_tokens, sample_malayalam_tokens)))"
      ],
      "metadata": {
        "colab": {
          "base_uri": "https://localhost:8080/"
        },
        "id": "VawdEqK0GwSu",
        "outputId": "07ed0fab-c743-4556-e355-b111fcfcdb1d"
      },
      "execution_count": 64,
      "outputs": [
        {
          "output_type": "stream",
          "name": "stdout",
          "text": [
            "{'batch_loss': <tf.Tensor: shape=(), dtype=float32, numpy=8.993919>, 'batch_accuracy': <tf.Tensor: shape=(), dtype=float64, numpy=0.0>}\n",
            "{'batch_loss': <tf.Tensor: shape=(), dtype=float32, numpy=9.000819>, 'batch_accuracy': <tf.Tensor: shape=(), dtype=float64, numpy=0.0>}\n",
            "{'batch_loss': <tf.Tensor: shape=(), dtype=float32, numpy=8.988542>, 'batch_accuracy': <tf.Tensor: shape=(), dtype=float64, numpy=0.0>}\n",
            "{'batch_loss': <tf.Tensor: shape=(), dtype=float32, numpy=8.983981>, 'batch_accuracy': <tf.Tensor: shape=(), dtype=float64, numpy=0.0>}\n",
            "{'batch_loss': <tf.Tensor: shape=(), dtype=float32, numpy=8.987099>, 'batch_accuracy': <tf.Tensor: shape=(), dtype=float64, numpy=0.0>}\n",
            "{'batch_loss': <tf.Tensor: shape=(), dtype=float32, numpy=8.984719>, 'batch_accuracy': <tf.Tensor: shape=(), dtype=float64, numpy=0.0>}\n",
            "{'batch_loss': <tf.Tensor: shape=(), dtype=float32, numpy=8.999385>, 'batch_accuracy': <tf.Tensor: shape=(), dtype=float64, numpy=0.0>}\n",
            "{'batch_loss': <tf.Tensor: shape=(), dtype=float32, numpy=8.982092>, 'batch_accuracy': <tf.Tensor: shape=(), dtype=float64, numpy=0.0>}\n",
            "{'batch_loss': <tf.Tensor: shape=(), dtype=float32, numpy=8.980284>, 'batch_accuracy': <tf.Tensor: shape=(), dtype=float64, numpy=0.0>}\n",
            "{'batch_loss': <tf.Tensor: shape=(), dtype=float32, numpy=8.97591>, 'batch_accuracy': <tf.Tensor: shape=(), dtype=float64, numpy=0.0>}\n",
            "CPU times: user 6.01 s, sys: 64 ms, total: 6.08 s\n",
            "Wall time: 8.6 s\n"
          ]
        }
      ]
    },
    {
      "cell_type": "markdown",
      "source": [
        "### tf_train_step 🖥"
      ],
      "metadata": {
        "id": "5AW5mLMVcXTk"
      }
    },
    {
      "cell_type": "code",
      "source": [
        "@tf.function(input_signature=[[tf.TensorSpec(shape=[None, None], dtype=tf.int64),\n",
        "                               tf.TensorSpec(shape=[None, None], dtype=tf.int64)]])\n",
        "def _tf_train_step(self, inputs):\n",
        "  return self._train_step(inputs)\n",
        "\n",
        "TrainTranslator._tf_train_step = _tf_train_step"
      ],
      "metadata": {
        "id": "l2qyWgl8LvrI"
      },
      "execution_count": 65,
      "outputs": []
    },
    {
      "cell_type": "code",
      "source": [
        "%%time\n",
        "\n",
        "translator =  TrainTranslator(dims, dense_units, num_heads, num_layers,\n",
        "               english_text_vectorizer, malayalam_text_vectorizer,\n",
        "               drop_out_rate=0.1, MAX_TOKENS=16,\n",
        "               use_tf_function=True)\n",
        "\n",
        "learning_rate = CustomSchedule(dims)\n",
        "\n",
        "translator.compile(loss=MaskedLoss(), \n",
        "                   optimizer=tf.keras.optimizers.Adam(learning_rate, beta_1=0.9, beta_2=0.98,epsilon=1e-9))\n",
        "\n",
        "translator.train_step((sample_english_tokens, sample_malayalam_tokens))"
      ],
      "metadata": {
        "colab": {
          "base_uri": "https://localhost:8080/"
        },
        "id": "PSUoQficeJkC",
        "outputId": "e5440a7f-a402-4eac-af5d-ccb603f486ca"
      },
      "execution_count": 66,
      "outputs": [
        {
          "output_type": "stream",
          "name": "stdout",
          "text": [
            "CPU times: user 19.1 s, sys: 364 ms, total: 19.5 s\n",
            "Wall time: 31 s\n"
          ]
        }
      ]
    },
    {
      "cell_type": "code",
      "source": [
        "%%time\n",
        "\n",
        "for i in tf.range(10):\n",
        "  print(translator.train_step((sample_english_tokens, sample_malayalam_tokens)))"
      ],
      "metadata": {
        "colab": {
          "base_uri": "https://localhost:8080/"
        },
        "id": "pS_VJRXNfFaK",
        "outputId": "f852da02-c2e8-4165-f743-abb2f4fc863d"
      },
      "execution_count": 67,
      "outputs": [
        {
          "output_type": "stream",
          "name": "stdout",
          "text": [
            "{'batch_loss': <tf.Tensor: shape=(), dtype=float32, numpy=8.980841>, 'batch_accuracy': <tf.Tensor: shape=(), dtype=float64, numpy=0.0>}\n",
            "{'batch_loss': <tf.Tensor: shape=(), dtype=float32, numpy=8.9774275>, 'batch_accuracy': <tf.Tensor: shape=(), dtype=float64, numpy=0.0>}\n",
            "{'batch_loss': <tf.Tensor: shape=(), dtype=float32, numpy=8.985352>, 'batch_accuracy': <tf.Tensor: shape=(), dtype=float64, numpy=0.0>}\n",
            "{'batch_loss': <tf.Tensor: shape=(), dtype=float32, numpy=8.979693>, 'batch_accuracy': <tf.Tensor: shape=(), dtype=float64, numpy=0.0>}\n",
            "{'batch_loss': <tf.Tensor: shape=(), dtype=float32, numpy=8.98733>, 'batch_accuracy': <tf.Tensor: shape=(), dtype=float64, numpy=0.0>}\n",
            "{'batch_loss': <tf.Tensor: shape=(), dtype=float32, numpy=8.985527>, 'batch_accuracy': <tf.Tensor: shape=(), dtype=float64, numpy=0.0>}\n",
            "{'batch_loss': <tf.Tensor: shape=(), dtype=float32, numpy=8.978388>, 'batch_accuracy': <tf.Tensor: shape=(), dtype=float64, numpy=0.0>}\n",
            "{'batch_loss': <tf.Tensor: shape=(), dtype=float32, numpy=8.982372>, 'batch_accuracy': <tf.Tensor: shape=(), dtype=float64, numpy=0.0>}\n",
            "{'batch_loss': <tf.Tensor: shape=(), dtype=float32, numpy=8.9694805>, 'batch_accuracy': <tf.Tensor: shape=(), dtype=float64, numpy=0.0>}\n",
            "{'batch_loss': <tf.Tensor: shape=(), dtype=float32, numpy=8.969897>, 'batch_accuracy': <tf.Tensor: shape=(), dtype=float64, numpy=0.0>}\n",
            "CPU times: user 622 ms, sys: 39.9 ms, total: 662 ms\n",
            "Wall time: 925 ms\n"
          ]
        }
      ]
    },
    {
      "cell_type": "markdown",
      "source": [
        "A good test of a new model is to see that it can overfit a single batch of input. Try it, the loss should quickly go to zero:"
      ],
      "metadata": {
        "id": "KupdIavzjHjF"
      }
    },
    {
      "cell_type": "code",
      "source": [
        "logs = {'loss':[], 'acc':[]}\n",
        "\n",
        "for i in tf.range(50):\n",
        " log = translator.train_step((sample_english_tokens, sample_malayalam_tokens))\n",
        " logs['loss'].append(log['batch_loss'].numpy())\n",
        " logs['acc'].append(log['batch_accuracy'].numpy())\n"
      ],
      "metadata": {
        "id": "qkUSa9gvjGrG"
      },
      "execution_count": 68,
      "outputs": []
    },
    {
      "cell_type": "code",
      "source": [
        "plt.figure(figsize=(10,6))\n",
        "plt.subplot(121)\n",
        "plt.plot(logs['loss'])\n",
        "plt.subplot(122)\n",
        "plt.plot(logs['acc'])"
      ],
      "metadata": {
        "colab": {
          "base_uri": "https://localhost:8080/",
          "height": 391
        },
        "id": "ithNAcT23TgE",
        "outputId": "b5c0d13e-7c3b-4f98-efb1-0f5bd81c728c"
      },
      "execution_count": 69,
      "outputs": [
        {
          "output_type": "execute_result",
          "data": {
            "text/plain": [
              "[<matplotlib.lines.Line2D at 0x7f8d281f8090>]"
            ]
          },
          "metadata": {},
          "execution_count": 69
        },
        {
          "output_type": "display_data",
          "data": {
            "text/plain": [
              "<Figure size 720x432 with 2 Axes>"
            ],
            "image/png": "[encoded data removed]"
          },
          "metadata": {
            "needs_background": "light"
          }
        }
      ]
    },
    {
      "cell_type": "markdown",
      "source": [
        "Now that you're confident that the training step is working, build a fresh copy of the model to train from scratch:"
      ],
      "metadata": {
        "id": "YyXLnhFKkWhb"
      }
    },
    {
      "cell_type": "markdown",
      "source": [
        "## Logging batch loss 🔊"
      ],
      "metadata": {
        "id": "1HbV_QTIkrfN"
      }
    },
    {
      "cell_type": "code",
      "source": [
        "\n",
        "class Batch_loss(tf.keras.callbacks.Callback):\n",
        "  def __init__(self, key_1, key_2):\n",
        "    self.key_1 = key_1\n",
        "    self.key_2 = key_2\n",
        "    self.loss=[]\n",
        "    self.acc=[]\n",
        "  def on_train_batch_end(self, n, logs):\n",
        "    self.loss.append(logs[self.key_1])\n",
        "    self.acc.append(logs[self.key_2])\n",
        "\n",
        "batch_logs =Batch_loss('batch_loss', 'batch_accuracy')"
      ],
      "metadata": {
        "id": "JQxvIidKkqZF"
      },
      "execution_count": 70,
      "outputs": []
    },
    {
      "cell_type": "markdown",
      "source": [
        "## Model Training 🎆"
      ],
      "metadata": {
        "id": "3RCpI88Vkcxd"
      }
    },
    {
      "cell_type": "code",
      "source": [
        "translator =  TrainTranslator(dims, dense_units, num_heads, num_layers,\n",
        "               english_text_vectorizer, malayalam_text_vectorizer,\n",
        "               drop_out_rate=0.1, MAX_TOKENS=16,\n",
        "               use_tf_function=True)\n",
        "\n",
        "learning_rate = CustomSchedule(dims)\n",
        "\n",
        "translator.compile(loss=MaskedLoss(), \n",
        "                   optimizer=tf.keras.optimizers.Adam(learning_rate, beta_1=0.9, beta_2=0.98,epsilon=1e-9),\n",
        "                   metrics=['accuracy'])\n",
        "\n",
        "translator.fit(token_ds, epochs=20, callbacks=[batch_logs])"
      ],
      "metadata": {
        "colab": {
          "base_uri": "https://localhost:8080/"
        },
        "id": "IexqdVTNjY8N",
        "outputId": "f08d9c4b-15db-4409-b9fa-86fb9c71ce8b"
      },
      "execution_count": 72,
      "outputs": [
        {
          "output_type": "stream",
          "name": "stdout",
          "text": [
            "Epoch 1/20\n",
            "489/489 [==============================] - 57s 43ms/step - batch_loss: 7.3345 - batch_accuracy: 0.2016\n",
            "Epoch 2/20\n",
            "489/489 [==============================] - 21s 43ms/step - batch_loss: 5.0368 - batch_accuracy: 0.3249\n",
            "Epoch 3/20\n",
            "489/489 [==============================] - 24s 49ms/step - batch_loss: 4.0882 - batch_accuracy: 0.4268\n",
            "Epoch 4/20\n",
            "489/489 [==============================] - 20s 41ms/step - batch_loss: 3.4625 - batch_accuracy: 0.4812\n",
            "Epoch 5/20\n",
            "489/489 [==============================] - 21s 42ms/step - batch_loss: 2.9558 - batch_accuracy: 0.5354\n",
            "Epoch 6/20\n",
            "489/489 [==============================] - 20s 41ms/step - batch_loss: 2.5170 - batch_accuracy: 0.5940\n",
            "Epoch 7/20\n",
            "489/489 [==============================] - 21s 42ms/step - batch_loss: 2.2021 - batch_accuracy: 0.6341\n",
            "Epoch 8/20\n",
            "489/489 [==============================] - 21s 43ms/step - batch_loss: 2.0012 - batch_accuracy: 0.6574\n",
            "Epoch 9/20\n",
            "489/489 [==============================] - 21s 43ms/step - batch_loss: 1.8336 - batch_accuracy: 0.6765\n",
            "Epoch 10/20\n",
            "489/489 [==============================] - 20s 41ms/step - batch_loss: 1.6450 - batch_accuracy: 0.6986\n",
            "Epoch 11/20\n",
            "489/489 [==============================] - 21s 43ms/step - batch_loss: 1.4808 - batch_accuracy: 0.7199\n",
            "Epoch 12/20\n",
            "489/489 [==============================] - 21s 43ms/step - batch_loss: 1.3634 - batch_accuracy: 0.7346\n",
            "Epoch 13/20\n",
            "489/489 [==============================] - 21s 43ms/step - batch_loss: 1.2554 - batch_accuracy: 0.7498\n",
            "Epoch 14/20\n",
            "489/489 [==============================] - 20s 41ms/step - batch_loss: 1.1588 - batch_accuracy: 0.7650\n",
            "Epoch 15/20\n",
            "489/489 [==============================] - 21s 42ms/step - batch_loss: 1.0826 - batch_accuracy: 0.7780\n",
            "Epoch 16/20\n",
            "489/489 [==============================] - 21s 43ms/step - batch_loss: 1.0182 - batch_accuracy: 0.7868\n",
            "Epoch 17/20\n",
            "489/489 [==============================] - 20s 42ms/step - batch_loss: 0.9521 - batch_accuracy: 0.7986\n",
            "Epoch 18/20\n",
            "489/489 [==============================] - 21s 43ms/step - batch_loss: 0.8948 - batch_accuracy: 0.8089\n",
            "Epoch 19/20\n",
            "489/489 [==============================] - 22s 44ms/step - batch_loss: 0.8456 - batch_accuracy: 0.8160\n",
            "Epoch 20/20\n",
            "489/489 [==============================] - 22s 44ms/step - batch_loss: 0.7954 - batch_accuracy: 0.8257\n"
          ]
        },
        {
          "output_type": "execute_result",
          "data": {
            "text/plain": [
              "<keras.callbacks.History at 0x7f8d28e2f250>"
            ]
          },
          "metadata": {},
          "execution_count": 72
        }
      ]
    },
    {
      "cell_type": "markdown",
      "source": [
        "## Inference 💭"
      ],
      "metadata": {
        "id": "oyGCr73ISdpY"
      }
    },
    {
      "cell_type": "code",
      "source": [
        "class Translation(tf.Module):\n",
        "\n",
        "  def __init__(self, transformer, input_vectorizer, output_vectorizer):\n",
        "    super(Translation, self).__init__()\n",
        "    self.transformer = transformer\n",
        "    self.input_vectorizer = input_vectorizer\n",
        "    self.output_vectorizer = output_vectorizer\n",
        "\n",
        "    self.tokens_to_strings = tf.keras.layers.StringLookup( mask_token=\"\",\n",
        "                                                          vocabulary=output_vectorizer.get_vocabulary(),\n",
        "                                                          invert=True)\n",
        "    \n",
        "    strings_to_tokens = tf.keras.layers.StringLookup( mask_token=\"\",\n",
        "                                                          vocabulary=output_vectorizer.get_vocabulary())\n",
        "    \n",
        "    self.mask_tokens = tf.constant(['', '[UNK]', '[START]','[END]'])\n",
        "\n",
        "    self.start = strings_to_tokens(tf.constant('[START]'))\n",
        "    self.end = strings_to_tokens(tf.constant('[END]'))\n",
        "\n",
        "  # clean-up utility output text from tokens\n",
        "  def clean_text(self, tokens):\n",
        "    word_tokens = self.tokens_to_strings(tokens)\n",
        "    texts = tf.TensorArray(dtype=tf.string, size=0, dynamic_size=True)\n",
        "    batch_size = tf.shape(word_tokens)[0]\n",
        "    for i in tf.range(batch_size):\n",
        "      words = word_tokens[i]\n",
        "      clean = tf.constant([w.numpy() for w in words if w not in self.mask_tokens])\n",
        "      clean = tf.strings.reduce_join(clean, separator=' ')\n",
        "      texts = texts.write(i, clean)\n",
        "    return texts.stack()\n",
        "\n",
        "\n",
        "  def __call__(self, input_text , MAX_TOKENS=30):\n",
        "\n",
        "    # get tokens -- [batch, tokens]\n",
        "    input_tokens = self.input_vectorizer(input_text)\n",
        "\n",
        "    batch_size = tf.shape(input_tokens)[0]\n",
        "    \n",
        "    # initialize output with start tokens\n",
        "    output_tokens = tf.fill([batch_size, 1], self.start)\n",
        "\n",
        "    # check for end of translation\n",
        "    done = tf.zeros([batch_size,1], dtype=tf.bool)\n",
        "\n",
        "    # tensor array to keep track of new predictions\n",
        "    result_tokens = tf.TensorArray(dtype=tf.int64, size=1, dynamic_size=True)\n",
        "    result_tokens = result_tokens.write(0, output_tokens)\n",
        "\n",
        "    for i in tf.range(MAX_TOKENS):\n",
        "      # [batch, seq, vocab]\n",
        "      logits, _ = self.transformer((input_tokens, output_tokens), training=False)\n",
        "      \n",
        "      # take the last prediction [batch, seq, vocab] --> [batch, 1, vocab]\n",
        "      logits = logits[:,-1:, :]\n",
        "\n",
        "      # [batch, 1, vocab] --> [batch, 1]\n",
        "      predictions = tf.argmax(logits, axis=-1) \n",
        "\n",
        "      done = done|(predictions == self.end)\n",
        "      predictions = tf.where( done, tf.constant(0, dtype=tf.int64), predictions)\n",
        "\n",
        "      # write the results\n",
        "      result_tokens = result_tokens.write(i+1, predictions)\n",
        "\n",
        "      #  concat the newly predicted to the right output-sequence\n",
        "      temp = result_tokens.stack() # [i, batch, 1]\n",
        "      #  [i, batch, 1] --> [i, batch]\n",
        "      temp = tf.squeeze(temp, axis=-1)\n",
        "      #  [i, batch] --> [batch, i]\n",
        "      output_tokens = tf.transpose(temp)\n",
        "\n",
        "      if tf.reduce_all(done):\n",
        "        break\n",
        "\n",
        "    # Prepare the results \n",
        "    result = result_tokens.stack() # [i, batch, 1]\n",
        "    #  [i, batch, 1] --> [i, batch]\n",
        "    result = tf.squeeze(result, axis=-1)\n",
        "    #  [i, batch] --> [batch, i]\n",
        "    result = tf.transpose(result)\n",
        "\n",
        "    # Attention weights \n",
        "    _, attention_weights = self.transformer((input_tokens, result[:,:-1]), training=False)\n",
        "\n",
        "    # ouput malayalam text -- after removing [UNK], [START] etc...\n",
        "    texts = self.clean_text(result)\n",
        "\n",
        "    output_dict = {\n",
        "        'input_texts' : input_text,\n",
        "        'input_tokens' : input_tokens,\n",
        "        'output_tokens' : result,\n",
        "        'attention_weights' : attention_weights,\n",
        "        'output_texts' : texts\n",
        "    }\n",
        "\n",
        "    return output_dict\n"
      ],
      "metadata": {
        "id": "_xacMtjaScnI"
      },
      "execution_count": 73,
      "outputs": []
    },
    {
      "cell_type": "markdown",
      "source": [
        "## Testing inference 🧪"
      ],
      "metadata": {
        "id": "NC8LDQD9KezN"
      }
    },
    {
      "cell_type": "code",
      "source": [
        "translation = Translation(transformer = translator.transformer,\n",
        "                          input_vectorizer = english_text_vectorizer,\n",
        "                          output_vectorizer = malayalam_text_vectorizer)"
      ],
      "metadata": {
        "id": "HKHjv_OOYJ9B"
      },
      "execution_count": 74,
      "outputs": []
    },
    {
      "cell_type": "code",
      "source": [
        "# our training set consist of primarily short sentences so model perform good in short sentences\n",
        "# The quality of the model depends on the quality of the data\n",
        "# input query\n",
        "sample = tf.constant([\n",
        "    'Some red flowers',\n",
        "    'The flowers are yellow',\n",
        "    \"Some people are walking\",\n",
        "    'Some cars are red',\n",
        "    'Big building',\n",
        "    'This is my car',\n",
        "    'Name of the woman',\n",
        "    'The elephant in the room',\n",
        "    'my computer is here',\n",
        "    'People are in the bus',\n",
        "    'this is really good',\n",
        "    'here is my the building',\n",
        "    'this is cat',\n",
        "    'he is young',\n",
        "    'birds fly high',\n",
        "    'i am working'])\n",
        "\n",
        "result = translation(sample)\n",
        "\n",
        "# pred\n",
        "preds = result['output_texts']\n",
        "\n",
        "for txt in preds:\n",
        "  print((txt.numpy()).decode())"
      ],
      "metadata": {
        "colab": {
          "base_uri": "https://localhost:8080/"
        },
        "id": "Ro1GFtJENVUC",
        "outputId": "4daf3852-ca49-4fc3-963b-3cdfcee828f1"
      },
      "execution_count": 155,
      "outputs": [
        {
          "output_type": "stream",
          "name": "stdout",
          "text": [
            "ചില ചുവന്ന പൂക്കൾ\n",
            "പൂക്കൾ മഞ്ഞയാണ്\n",
            "ചില ആളുകൾ നടക്കുന്നു\n",
            "ചില കാറുകൾ ചുവപ്പാണ്\n",
            "വലിയ കെട്ടിടം\n",
            "ഇത് എന്റെ കാറാണ്\n",
            "സ്ത്രീയുടെ പേര്\n",
            "മുറിയിൽ ആന\n",
            "എന്റെ കമ്പ്യൂട്ടർ ഇവിടെയുണ്ട്\n",
            "ആളുകൾ ബസ്സിൽ\n",
            "ഇത് നല്ല നല്ല നല്ല\n",
            "ഇവിടെ എന്റെ കെട്ടിടമാണ്\n",
            "ഇതാണ് പൂച്ച\n",
            "അവൻ ചെറുപ്പമാണ്\n",
            "പക്ഷികൾ ഉയരത്തിൽ പറക്കുന്നു\n",
            "ഞാൻ ജോലി ചെയ്യുന്നു.\n"
          ]
        }
      ]
    },
    {
      "cell_type": "code",
      "source": [
        "weights = result['attention_weights']\n",
        "weights.keys()"
      ],
      "metadata": {
        "colab": {
          "base_uri": "https://localhost:8080/"
        },
        "id": "kuo4tuEZqRlj",
        "outputId": "cf4e59c2-bcab-452b-ec30-2928e5732744"
      },
      "execution_count": 156,
      "outputs": [
        {
          "output_type": "execute_result",
          "data": {
            "text/plain": [
              "dict_keys(['attention_weights_block_1-0', 'attention_weights_block_2-0', 'attention_weights_block_1-1', 'attention_weights_block_2-1', 'attention_weights_block_1-2', 'attention_weights_block_2-2', 'attention_weights_block_1-3', 'attention_weights_block_2-3'])"
            ]
          },
          "metadata": {},
          "execution_count": 156
        }
      ]
    },
    {
      "cell_type": "code",
      "source": [
        "cross_attention = weights['attention_weights_block_2-3']\n",
        "# we have tested 16 translation\n",
        "cross_attention.shape\n",
        "# shape -- [batch, head, query, key]\n",
        "# here query = english\n",
        "# and key = malayalam\n",
        "# lets make some plots"
      ],
      "metadata": {
        "colab": {
          "base_uri": "https://localhost:8080/"
        },
        "id": "9p99AdzG8R01",
        "outputId": "e6b609dc-f1d1-4683-8bde-8f7a05a013e2"
      },
      "execution_count": 157,
      "outputs": [
        {
          "output_type": "execute_result",
          "data": {
            "text/plain": [
              "TensorShape([16, 8, 6, 7])"
            ]
          },
          "metadata": {},
          "execution_count": 157
        }
      ]
    },
    {
      "cell_type": "code",
      "source": [
        "id = 0\n",
        "w = cross_attention[id]\n",
        "w.shape"
      ],
      "metadata": {
        "colab": {
          "base_uri": "https://localhost:8080/"
        },
        "id": "dQ0VaAz_8Rx9",
        "outputId": "8fcb778c-0424-4ad3-aa06-053d72fdc27d"
      },
      "execution_count": 158,
      "outputs": [
        {
          "output_type": "execute_result",
          "data": {
            "text/plain": [
              "TensorShape([8, 6, 7])"
            ]
          },
          "metadata": {},
          "execution_count": 158
        }
      ]
    },
    {
      "cell_type": "code",
      "source": [
        "# query\n",
        "print([word.decode() for word in (sample.numpy()[id]).split()])\n",
        "# keys\n",
        "print([word for word in (preds.numpy()[id]).decode().split()])"
      ],
      "metadata": {
        "colab": {
          "base_uri": "https://localhost:8080/"
        },
        "id": "c8SSzigXFjbN",
        "outputId": "adf17330-c12a-4347-c17a-7aca408d61a5"
      },
      "execution_count": 160,
      "outputs": [
        {
          "output_type": "stream",
          "name": "stdout",
          "text": [
            "['Some', 'red', 'flowers']\n",
            "['ചില', 'ചുവന്ന', 'പൂക്കൾ']\n"
          ]
        }
      ]
    },
    {
      "cell_type": "code",
      "source": [
        "# there is some issue with malayalam fonts and matplotlib \n",
        "# so i am limiting this plot to just one attention head\n",
        "# matplotlib/backends/backend_agg.py:183: RuntimeWarning: Glyph 3381 missing from current font.\n",
        "# plt.xticks(ticks, keys)  -- this cause problems\n",
        "\n",
        "for head in w:\n",
        "  plt.matshow(head)\n",
        "  q = [word.decode() for word in (sample.numpy()[id]).split()]\n",
        "  plt.yticks(ticks=range(len(q)), labels=q)\n",
        "  break\n",
        "\n",
        "print([str(word )for word in preds.numpy()[id].decode().split()])"
      ],
      "metadata": {
        "colab": {
          "base_uri": "https://localhost:8080/",
          "height": 292
        },
        "id": "F6o5nxZ-82Zu",
        "outputId": "f69533ff-b9ad-4630-ea5f-07963073e765"
      },
      "execution_count": 161,
      "outputs": [
        {
          "output_type": "stream",
          "name": "stdout",
          "text": [
            "['ചില', 'ചുവന്ന', 'പൂക്കൾ']\n"
          ]
        },
        {
          "output_type": "display_data",
          "data": {
            "text/plain": [
              "<Figure size 336x288 with 1 Axes>"
            ],
            "image/png": "[encoded data removed]"
          },
          "metadata": {
            "needs_background": "light"
          }
        }
      ]
    },
    {
      "cell_type": "markdown",
      "source": [
        "### Performance on data that is used in training 🏃"
      ],
      "metadata": {
        "id": "IfCxH50uQh0Y"
      }
    },
    {
      "cell_type": "code",
      "source": [
        "result = translation(sample_english_batch)"
      ],
      "metadata": {
        "id": "X6U_sOiZYuNa"
      },
      "execution_count": 149,
      "outputs": []
    },
    {
      "cell_type": "code",
      "source": [
        "# query\n",
        "eng = result['input_texts']\n",
        "# true\n",
        "mal = sample_malayalam_batch\n",
        "# pred\n",
        "preds = result['output_texts']"
      ],
      "metadata": {
        "id": "tMgAhkLn7xWt"
      },
      "execution_count": 150,
      "outputs": []
    },
    {
      "cell_type": "code",
      "source": [
        "# By reviewing you can find that data quality is not great\n",
        "# First of all -- we have only short sentences \n",
        "# We have mistake in translation\n",
        "\n",
        "# for example\n",
        "# English :\n",
        "# a dog on a couch\n",
        "# Prediction :\n",
        "# കട്ടിലിൽ ഒരു നായ\n",
        "# True labels used to train the model :\n",
        "# ഒരു ബാഗ് കോട്ടൺ മിഠായി\n",
        "\n",
        "# We can see that our model was able to generate correct prediction \n",
        "# even though the translation provided was wrong\n",
        "# there are many such examples\n",
        "# But give this data -- our model is performing good\n",
        "\n",
        "# here is one more\n",
        "# English :\n",
        "# this is a cow\n",
        "# Prediction :\n",
        "# ഇതൊരു പശുവാണ്\n",
        "# True labels used to train the model :\n",
        "# ചാരനിറത്തിലുള്ള റോഡിന്റെ വശങ്ങളിൽ പച്ച പുല്ലിന്റെ സ്ട്രിപ്പുകൾ\n",
        "\n",
        "for en, y_pred, y_true in zip(eng, preds, mal):\n",
        "  print('English :')\n",
        "  print((en.numpy()).decode())\n",
        "  print('Prediction :')\n",
        "  print((y_pred.numpy()).decode())  \n",
        "  print('True labels used to train the model :')\n",
        "  print((y_true.numpy()).decode())\n",
        "  print('-'*70)"
      ],
      "metadata": {
        "colab": {
          "base_uri": "https://localhost:8080/"
        },
        "id": "Cd2FX06zLT7E",
        "outputId": "15d94074-fc24-4482-af6f-7d034b8067b3"
      },
      "execution_count": 151,
      "outputs": [
        {
          "output_type": "stream",
          "name": "stdout",
          "text": [
            "English :\n",
            "the carton is gold\n",
            "Prediction :\n",
            "കാർട്ടൂൺ സ്വർണ്ണമാണ്\n",
            "True labels used to train the model :\n",
            "സ്വർണ നിറമുള്ള കാർഡ്ബോർഡ് പെട്ടി\n",
            "----------------------------------------------------------------------\n",
            "English :\n",
            "glass window on building\n",
            "Prediction :\n",
            "വർണ്ണാഭമായ സ്കാർഫ് ധരിച്ച ഒരു സ്ത്രീ\n",
            "True labels used to train the model :\n",
            "വർണ്ണാഭമായ സ്കാർഫ് ധരിച്ച ഒരു സ്ത്രീ\n",
            "----------------------------------------------------------------------\n",
            "English :\n",
            "large tan clay pot\n",
            "Prediction :\n",
            "വലിയ ടാൻ കളിമൺ കലം\n",
            "True labels used to train the model :\n",
            "വലിയ ടാൻ കളിമൺ കലം\n",
            "----------------------------------------------------------------------\n",
            "English :\n",
            "the signs are neon\n",
            "Prediction :\n",
            "അടയാളങ്ങൾ നിയോൺ ആണ്\n",
            "True labels used to train the model :\n",
            "അടയാളങ്ങൾ നിയോൺ ആണ്\n",
            "----------------------------------------------------------------------\n",
            "English :\n",
            "green peas\n",
            "Prediction :\n",
            "ഗ്രീൻ പീസ്\n",
            "True labels used to train the model :\n",
            "ഗ്രീൻ പീസ്\n",
            "----------------------------------------------------------------------\n",
            "English :\n",
            "man wearing a striped sweater\n",
            "Prediction :\n",
            "വരയുള്ള സ്വെറ്റർ ധരിച്ച മനുഷ്യൻ\n",
            "True labels used to train the model :\n",
            "വരയുള്ള സ്വെറ്റർ ധരിച്ച മനുഷ്യൻ\n",
            "----------------------------------------------------------------------\n",
            "English :\n",
            "a woman travels in the back of a carriage\n",
            "Prediction :\n",
            "ഒരു സ്ത്രീ വണ്ടിയുടെ പുറകിൽ സഞ്ചരിക്കുന്നു\n",
            "True labels used to train the model :\n",
            "ഒരു സ്ത്രീ വണ്ടിയുടെ പുറകിൽ സഞ്ചരിക്കുന്നു\n",
            "----------------------------------------------------------------------\n",
            "English :\n",
            "round globe clear light\n",
            "Prediction :\n",
            "റൗണ്ട് ഗ്ലോബ് വ്യക്തമായ വെളിച്ചം\n",
            "True labels used to train the model :\n",
            "റൗണ്ട് ഗ്ലോബ് വ്യക്തമായ വെളിച്ചം\n",
            "----------------------------------------------------------------------\n",
            "English :\n",
            "the painted spider on the boy's face\n",
            "Prediction :\n",
            "ആൺകുട്ടിയുടെ മുഖത്ത് ചായം പൂശിയ പൂച്ചയുടെ\n",
            "True labels used to train the model :\n",
            "ആൺകുട്ടിയുടെ മുഖത്ത് ചായം പൂശിയ ചിലന്തി\n",
            "----------------------------------------------------------------------\n",
            "English :\n",
            "a pizza on plate\n",
            "Prediction :\n",
            "പ്ലേറ്റിൽ ഒരു പിസ്സ\n",
            "True labels used to train the model :\n",
            "പ്ലേറ്റിൽ ഒരു പിസ്സ\n",
            "----------------------------------------------------------------------\n",
            "English :\n",
            "CARROT ON THE GROUND\n",
            "Prediction :\n",
            "നിലത്ത് കാരറ്റ്\n",
            "True labels used to train the model :\n",
            "നിലത്ത് ക്യാരറ്റ്\n",
            "----------------------------------------------------------------------\n",
            "English :\n",
            "The pole is yellow in color.\n",
            "Prediction :\n",
            "ധ്രുവം മഞ്ഞയാണ്\n",
            "True labels used to train the model :\n",
            "ധ്രുവത്തിന് മഞ്ഞ നിറമുണ്ട്.\n",
            "----------------------------------------------------------------------\n",
            "English :\n",
            "white bull with black spots\n",
            "Prediction :\n",
            "കറുത്ത പാടുകളുള്ള വെളുത്ത കാള\n",
            "True labels used to train the model :\n",
            "കറുത്ത പാടുകളുള്ള വെളുത്ത കാള\n",
            "----------------------------------------------------------------------\n",
            "English :\n",
            "the collar is blue\n",
            "Prediction :\n",
            "കോളർ നീലയാണ്\n",
            "True labels used to train the model :\n",
            "കോളർ നീലയാണ്\n",
            "----------------------------------------------------------------------\n",
            "English :\n",
            "a person holding a knife\n",
            "Prediction :\n",
            "കത്തി കൈവശമുള്ള ഒരാൾ\n",
            "True labels used to train the model :\n",
            "കത്തി പിടിക്കുന്ന ഒരാൾ\n",
            "----------------------------------------------------------------------\n",
            "English :\n",
            "batter ready to swing bat at ball\n",
            "Prediction :\n",
            "സ്വിംഗ് ചെയ്യാൻ സ്വിംഗ് ചെയ്യാൻ തയ്യാറായ ബാറ്റർ\n",
            "True labels used to train the model :\n",
            "പന്തിൽ ബാറ്റ് സ്വിംഗ് ചെയ്യാൻ തയ്യാറാണ്\n",
            "----------------------------------------------------------------------\n",
            "English :\n",
            "a big white airplane\n",
            "Prediction :\n",
            "ഒരു വലിയ വെളുത്ത വിമാനം\n",
            "True labels used to train the model :\n",
            "ഒരു വലിയ വെളുത്ത വിമാനം\n",
            "----------------------------------------------------------------------\n",
            "English :\n",
            "White Dole sticker on a banana.\n",
            "Prediction :\n",
            "ഒരു വാഴപ്പഴത്തിൽ വെള്ള നിറത്തിലുള്ള സ്റ്റിക്കർ\n",
            "True labels used to train the model :\n",
            "ഒരു വാഴപ്പഴത്തിൽ വെള്ള നിറത്തിലുള്ള ഡോൾ സ്റ്റിക്കർ.\n",
            "----------------------------------------------------------------------\n",
            "English :\n",
            "bananas on the ground\n",
            "Prediction :\n",
            "നിലത്ത് വാഴപ്പഴങ്ങൾ\n",
            "True labels used to train the model :\n",
            "നിലത്ത് വാഴപ്പഴങ്ങൾ\n",
            "----------------------------------------------------------------------\n",
            "English :\n",
            "green leaf on curtain\n",
            "Prediction :\n",
            "തിരശ്ശീലയിൽ പച്ച ഇല\n",
            "True labels used to train the model :\n",
            "തിരശ്ശീലയിൽ പച്ച ഇല\n",
            "----------------------------------------------------------------------\n",
            "English :\n",
            "white letter on sign\n",
            "Prediction :\n",
            "ഒരു കെട്ടിടത്തിലെ വലിയ വിൻഡോ\n",
            "True labels used to train the model :\n",
            "ചിഹ്നത്തിൽ വെളുത്ത അക്ഷരം\n",
            "----------------------------------------------------------------------\n",
            "English :\n",
            "a brown stool\n",
            "Prediction :\n",
            "ഒരു തവിട്ടുനിറത്തിലുള്ള ഇരിപ്പിടം\n",
            "True labels used to train the model :\n",
            "തവിട്ടുനിറത്തിലുള്ള പീഠം\n",
            "----------------------------------------------------------------------\n",
            "English :\n",
            "Herd of zebras standing in brown grass\n",
            "Prediction :\n",
            "തവിട്ടുനിറത്തിലുള്ള പുല്ലിൽ നിൽക്കുന്ന സീബ്രകളുടെ കൂട്ടം\n",
            "True labels used to train the model :\n",
            "തവിട്ടുനിറത്തിലുള്ള പുല്ലിൽ നിൽക്കുന്ന സീബ്രകളുടെ കൂട്ടം\n",
            "----------------------------------------------------------------------\n",
            "English :\n",
            "white and black teddy bear\n",
            "Prediction :\n",
            "വെള്ള, കറുപ്പ് ടെഡി ബിയർ\n",
            "True labels used to train the model :\n",
            "വെള്ള, കറുപ്പ് ടെഡി ബിയർ\n",
            "----------------------------------------------------------------------\n",
            "English :\n",
            "two people riding horses\n",
            "Prediction :\n",
            "കുതിര സവാരി ചെയ്യുന്ന രണ്ടുപേർ\n",
            "True labels used to train the model :\n",
            "കുതിരപ്പുറത്തു കയറുന്ന രണ്ടുപേർ\n",
            "----------------------------------------------------------------------\n",
            "English :\n",
            "clock in front of tall building\n",
            "Prediction :\n",
            "ഉയരമുള്ള കെട്ടിടത്തിന്റെ മുൻവശത്തെ ഘടികാരം\n",
            "True labels used to train the model :\n",
            "ഉയരമുള്ള കെട്ടിടത്തിന് മുന്നിൽ ക്ലോക്ക്\n",
            "----------------------------------------------------------------------\n",
            "English :\n",
            "a snowboarder looking at the camera\n",
            "Prediction :\n",
            "ഒരു സ്നോബോർഡർ ക്യാമറയിലേക്ക് നോക്കുന്നു\n",
            "True labels used to train the model :\n",
            "ഒരു സ്നോബോർഡർ ക്യാമറയിലേക്ക് നോക്കുന്നു\n",
            "----------------------------------------------------------------------\n",
            "English :\n",
            "A red and white fire hydrant.\n",
            "Prediction :\n",
            "ചുവപ്പും വെള്ളയും അഗ്നി ജലാംശം.\n",
            "True labels used to train the model :\n",
            "ചുവപ്പും വെള്ളയും അഗ്നി ജലാംശം.\n",
            "----------------------------------------------------------------------\n",
            "English :\n",
            "metal bar on fence\n",
            "Prediction :\n",
            "വേലിയിൽ മെറ്റൽ ബാർ\n",
            "True labels used to train the model :\n",
            "വേലിയിൽ മെറ്റൽ ബാർ\n",
            "----------------------------------------------------------------------\n",
            "English :\n",
            "red block style number\n",
            "Prediction :\n",
            "ചുവന്ന ബ്ലോക്ക് നമ്പർ നമ്പർ\n",
            "True labels used to train the model :\n",
            "റെഡ് ബ്ലോക്ക് ശൈലി നമ്പർ\n",
            "----------------------------------------------------------------------\n",
            "English :\n",
            "round gourmet style pizza cut in 6 slices\n",
            "Prediction :\n",
            "റൗണ്ട് ണ്ട് സ്റ്റൈൽ പിസ്സ 6 കഷണങ്ങളായി മുറിച്ചു\n",
            "True labels used to train the model :\n",
            "റ s ണ്ട് ഗ our ർമെറ്റ് സ്റ്റൈൽ പിസ്സ 6 കഷണങ്ങളായി മുറിച്ചു\n",
            "----------------------------------------------------------------------\n",
            "English :\n",
            "Gourmet pizza with several toppings\n",
            "Prediction :\n",
            "നിരവധി ടോപ്പിംഗുകളുള്ള പിസ്സ\n",
            "True labels used to train the model :\n",
            "നിരവധി ടോപ്പിംഗുകളുള്ള ഗൗർമെറ്റ് പിസ്സ\n",
            "----------------------------------------------------------------------\n",
            "English :\n",
            "sandwiches on the plate\n",
            "Prediction :\n",
            "പ്ലേറ്റിൽ സാൻഡ്വിച്ചുകൾ\n",
            "True labels used to train the model :\n",
            "പാത്രത്തിൽ സാൻഡ്‌വിച്ചുകൾ\n",
            "----------------------------------------------------------------------\n",
            "English :\n",
            "red caution light between trains\n",
            "Prediction :\n",
            "ചുവന്ന ജാഗ്രത വെളിച്ചം\n",
            "True labels used to train the model :\n",
            "ട്രെയിനുകൾക്കിടയിൽ ചുവന്ന ജാഗ്രത വെളിച്ചം\n",
            "----------------------------------------------------------------------\n",
            "English :\n",
            "boy wearing black shirt\n",
            "Prediction :\n",
            "കറുത്ത ഷർട്ട് ധരിച്ച പയ്യൻ\n",
            "True labels used to train the model :\n",
            "കറുത്ത ഷർട്ട് ധരിച്ച പയ്യൻ\n",
            "----------------------------------------------------------------------\n",
            "English :\n",
            "this is a fire hydrant\n",
            "Prediction :\n",
            "ഇതൊരു അഗ്നി ജലാംശം ആണ്\n",
            "True labels used to train the model :\n",
            "ഇതൊരു അഗ്നി ജലാംശം ആണ്\n",
            "----------------------------------------------------------------------\n",
            "English :\n",
            "a piece of fruit cut in half\n",
            "Prediction :\n",
            "ഒരു പഴത്തിന്റെ ഫ്രൂട്ട് കട്ട് ചെയ്ത കാരറ്റ്\n",
            "True labels used to train the model :\n",
            "പഴത്തിന്റെ ഒരു ഭാഗം പകുതിയായി മുറിച്ചു\n",
            "----------------------------------------------------------------------\n",
            "English :\n",
            "a set of train tracks\n",
            "Prediction :\n",
            "ട്രെയിൻ ട്രാക്കുകളുടെ ഒരു കൂട്ടം\n",
            "True labels used to train the model :\n",
            "ട്രെയിൻ ടാക്സിൻ്റെ ഒരു കൂട്ടം\n",
            "----------------------------------------------------------------------\n",
            "English :\n",
            "white colored print letter\n",
            "Prediction :\n",
            "വെളുത്ത നിറമുള്ള പ്രിന്റ് കത്ത്\n",
            "True labels used to train the model :\n",
            "വെളുത്ത നിറമുള്ള അച്ചടി കത്ത്\n",
            "----------------------------------------------------------------------\n",
            "English :\n",
            "window on a bus\n",
            "Prediction :\n",
            "ഒരു ബസ്സിലെ വിൻഡോ\n",
            "True labels used to train the model :\n",
            "ഒരു ബസ്സിലെ വിൻഡോ\n",
            "----------------------------------------------------------------------\n",
            "English :\n",
            "reflection of lights on water's surface\n",
            "Prediction :\n",
            "ജലത്തിന്റെ ലൈറ്റുകളുടെ പ്രതിഫലനം\n",
            "True labels used to train the model :\n",
            "ജലത്തിന്റെ ഉപരിതലത്തിലെ ലൈറ്റുകളുടെ പ്രതിഫലനം\n",
            "----------------------------------------------------------------------\n",
            "English :\n",
            "this is a cow\n",
            "Prediction :\n",
            "ഇതൊരു പശുവാണ്\n",
            "True labels used to train the model :\n",
            "ചാരനിറത്തിലുള്ള റോഡിന്റെ വശങ്ങളിൽ പച്ച പുല്ലിന്റെ സ്ട്രിപ്പുകൾ\n",
            "----------------------------------------------------------------------\n",
            "English :\n",
            "small room with bed\n",
            "Prediction :\n",
            "ചെറിയ മുറി\n",
            "True labels used to train the model :\n",
            "കിടക്കയുള്ള ചെറിയ മുറി\n",
            "----------------------------------------------------------------------\n",
            "English :\n",
            "a dog on a couch\n",
            "Prediction :\n",
            "കട്ടിലിൽ ഒരു നായ\n",
            "True labels used to train the model :\n",
            "ഒരു ബാഗ് കോട്ടൺ മിഠായി\n",
            "----------------------------------------------------------------------\n",
            "English :\n",
            "white strip on shirt\n",
            "Prediction :\n",
            "ഷർട്ടിൽ വെളുത്ത സ്ട്രിപ്പ്\n",
            "True labels used to train the model :\n",
            "ഷർട്ടിൽ വെളുത്ത സ്ട്രിപ്പ്\n",
            "----------------------------------------------------------------------\n",
            "English :\n",
            "man riding on top of horse\n",
            "Prediction :\n",
            "മനുഷ്യൻ കുതിരപ്പുറത്ത് മുകളിൽ സവാരി ചെയ്യുന്നു\n",
            "True labels used to train the model :\n",
            "മനുഷ്യൻ കുതിരപ്പുറത്ത് കയറുന്നു\n",
            "----------------------------------------------------------------------\n",
            "English :\n",
            "Part of a wall\n",
            "Prediction :\n",
            "കുഞ്ഞ് ആന\n",
            "True labels used to train the model :\n",
            "ഒരു മതിലിന്റെ ഭാഗം\n",
            "----------------------------------------------------------------------\n",
            "English :\n",
            "a yellow toy plane\n",
            "Prediction :\n",
            "ഒരു മഞ്ഞ കളിപ്പാട്ട വിമാനം\n",
            "True labels used to train the model :\n",
            "ഒരു മഞ്ഞ കളിപ്പാട്ട തലം\n",
            "----------------------------------------------------------------------\n",
            "English :\n",
            "A stack of pillows on a bed.\n",
            "Prediction :\n",
            "കട്ടിലിൽ ഒരു ശേഖരം\n",
            "True labels used to train the model :\n",
            "ഒരു കട്ടിലിൽ തലയിണകളുടെ ഒരു ശേഖരം.\n",
            "----------------------------------------------------------------------\n",
            "English :\n",
            "a silver train car\n",
            "Prediction :\n",
            "ഒരു വെള്ളി ട്രെയിൻ കാർ\n",
            "True labels used to train the model :\n",
            "ഒരു സിൽവർ ട്രെയിൻ കാർ\n",
            "----------------------------------------------------------------------\n",
            "English :\n",
            "A large silver pot.\n",
            "Prediction :\n",
            "ഒരു വലിയ വെള്ളി കലം.\n",
            "True labels used to train the model :\n",
            "ഒരു വലിയ വെള്ളി കലം.\n",
            "----------------------------------------------------------------------\n",
            "English :\n",
            "a giraffe looking at camera\n",
            "Prediction :\n",
            "ഒരു ജിറാഫ് ക്യാമറയിലേക്ക് നോക്കുന്നു\n",
            "True labels used to train the model :\n",
            "ഒരു ജിറാഫ് ക്യാമറയിലേക്ക് നോക്കുന്നു\n",
            "----------------------------------------------------------------------\n",
            "English :\n",
            "frisbee has white and blue swirls\n",
            "Prediction :\n",
            "വെള്ളയും നീലയും നിറത്തിലുള്ള\n",
            "True labels used to train the model :\n",
            "ഫ്രിസ്‌ബീയിൽ വെള്ളയും നീലയും ഉള്ള ചുഴലിക്കാറ്റുകളുണ്ട്\n",
            "----------------------------------------------------------------------\n",
            "English :\n",
            "fork with decorative handle\n",
            "Prediction :\n",
            "അലങ്കാര ഹാൻഡിൽ ഫോർക്ക്\n",
            "True labels used to train the model :\n",
            "അലങ്കാര പിടിയുള്ള ഫോർക്ക്\n",
            "----------------------------------------------------------------------\n",
            "English :\n",
            "neon red and blue open sign\n",
            "Prediction :\n",
            "നിയോൺ ചുവപ്പും നീലയും തുറന്ന കൈ ചിഹ്നം\n",
            "True labels used to train the model :\n",
            "നിയോൺ ചുവപ്പും നീലയും തുറന്ന ചിഹ്നം\n",
            "----------------------------------------------------------------------\n",
            "English :\n",
            "Snow covering the ground\n",
            "Prediction :\n",
            "നിലം മൂടുന്ന നിലം\n",
            "True labels used to train the model :\n",
            "ചുവപ്പ് വെള്ള, നീല തലം എഞ്ചിൻ\n",
            "----------------------------------------------------------------------\n",
            "English :\n",
            "a man wearing a pink tie\n",
            "Prediction :\n",
            "പിങ്ക് നിറത്തിലുള്ള ഒരു മനുഷ്യൻ പിങ്ക് ടൈ ധരിക്കുന്നു\n",
            "True labels used to train the model :\n",
            "ഒരു പിങ്ക് ടൈ ധരിച്ച ഒരു മനുഷ്യൻ\n",
            "----------------------------------------------------------------------\n",
            "English :\n",
            "black surfing safety harness\n",
            "Prediction :\n",
            "കറുത്ത സർഫിംഗ് സുരക്ഷാ സുരക്ഷാ സുരക്ഷാ\n",
            "True labels used to train the model :\n",
            "ബ്ലാക്ക് സർഫിംഗ് സുരക്ഷാ ഹാർനെസ്\n",
            "----------------------------------------------------------------------\n",
            "English :\n",
            "blender full of green smoothie\n",
            "Prediction :\n",
            "പച്ച മുൾപടർപ്പിന്റെ ബ്ലെൻഡർ\n",
            "True labels used to train the model :\n",
            "പച്ച സ്മൂത്തി നിറഞ്ഞ ബ്ലെൻഡർ\n",
            "----------------------------------------------------------------------\n",
            "English :\n",
            "mobile phone is girl's hand\n",
            "Prediction :\n",
            "മൊബൈൽ ഫോൺ പെൺകുട്ടിയുടെ കൈയിലാണ്\n",
            "True labels used to train the model :\n",
            "മൊബൈൽ ഫോൺ പെൺകുട്ടിയുടെ കൈയിലാണ്\n",
            "----------------------------------------------------------------------\n",
            "English :\n",
            "Wheel of a bus\n",
            "Prediction :\n",
            "ഒരു ബസിന്റെ ചക്രം\n",
            "True labels used to train the model :\n",
            "ഒരു ബസിന്റെ ചക്രം\n",
            "----------------------------------------------------------------------\n",
            "English :\n",
            "long tail on giraffe\n",
            "Prediction :\n",
            "ജിറാഫിൽ നീളമുള്ള വാൽ\n",
            "True labels used to train the model :\n",
            "ജിറാഫിൽ നീളമുള്ള വാൽ\n",
            "----------------------------------------------------------------------\n",
            "English :\n",
            "this is a blender\n",
            "Prediction :\n",
            "ഇതൊരു ബ്ലെൻഡർ\n",
            "True labels used to train the model :\n",
            "ചാരനിറത്തിലുള്ള റോഡിന്റെ വശങ്ങളിൽ പച്ച പുല്ലിന്റെ സ്ട്രിപ്പുകൾ\n",
            "----------------------------------------------------------------------\n",
            "English :\n",
            "black strip on zebra\n",
            "Prediction :\n",
            "സീബ്രയിൽ കറുത്ത സ്ട്രിപ്പ്\n",
            "True labels used to train the model :\n",
            "സീബ്രയിൽ കറുത്ത സ്ട്രിപ്പ്\n",
            "----------------------------------------------------------------------\n"
          ]
        }
      ]
    }
  ]
}