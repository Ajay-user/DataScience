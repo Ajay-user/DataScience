{
  "nbformat": 4,
  "nbformat_minor": 0,
  "metadata": {
    "colab": {
      "name": "Understanding Stateful LSTM Recurrent Neural Networks in Python with Keras.ipynb",
      "provenance": [],
      "toc_visible": true,
      "authorship_tag": "ABX9TyMo9hcnYg4BcxekOVrDkbOA",
      "include_colab_link": true
    },
    "kernelspec": {
      "name": "python3",
      "display_name": "Python 3"
    },
    "language_info": {
      "name": "python"
    }
  },
  "cells": [
    {
      "cell_type": "markdown",
      "metadata": {
        "id": "view-in-github",
        "colab_type": "text"
      },
      "source": [
        "<a href=\"https://colab.research.google.com/github/Ajay-user/DataScience/blob/master/Understanding_Stateful_LSTM_Recurrent_Neural_Networks_in_Python_with_Keras.ipynb\" target=\"_parent\"><img src=\"https://colab.research.google.com/assets/colab-badge.svg\" alt=\"Open In Colab\"/></a>"
      ]
    },
    {
      "cell_type": "code",
      "metadata": {
        "id": "Ef97bMMw-h5q"
      },
      "source": [
        "import numpy as np\n",
        "import matplotlib.pyplot as plt\n",
        "import tensorflow as tf"
      ],
      "execution_count": 1,
      "outputs": []
    },
    {
      "cell_type": "markdown",
      "metadata": {
        "id": "bXPSYbXPEqSA"
      },
      "source": [
        "## Utility for plotting"
      ]
    },
    {
      "cell_type": "code",
      "metadata": {
        "id": "XRdmwLv1En-L"
      },
      "source": [
        "def plot_graph(history, metric):\n",
        "  plt.plot(history[metric],label=metric)\n",
        "  plt.xlabel('Epochs')\n",
        "  plt.ylabel(metric)\n",
        "  plt.legend()"
      ],
      "execution_count": 2,
      "outputs": []
    },
    {
      "cell_type": "markdown",
      "metadata": {
        "id": "C0h8wYU43wlI"
      },
      "source": [
        "https://machinelearningmastery.com/understanding-stateful-lstm-recurrent-neural-networks-python-keras/\n",
        "\n",
        "A powerful and popular recurrent neural network is the long short-term model network or LSTM.\n",
        "\n",
        "It is widely used because the architecture overcomes the vanishing and exploding gradient problem that plagues all recurrent neural networks, allowing very large and very deep networks to be created.\n",
        "\n",
        "Like other recurrent neural networks, LSTM networks maintain state\n",
        "\n",
        "## Problem Description: Learn the Alphabet\n",
        "\n",
        "Given a letter of the alphabet, predict the next letter of the alphabet.\n",
        "\n",
        "This is a simple sequence prediction problem that once understood can be generalized to other sequence prediction problems like time series prediction and sequence classification.\n",
        "\n",
        "We can now define our dataset, the alphabet. We define the alphabet in uppercase characters for readability.\n",
        "\n",
        "Neural networks model numbers, so we need to map the letters of the alphabet to integer values. We can do this easily by creating a dictionary (map) of the letter index to the character. We can also create a reverse lookup for converting predictions back into characters to be used later.\n",
        "\n",
        "# define the raw dataset\n",
        "alphabet = \"ABCDEFGHIJKLMNOPQRSTUVWXYZ\"\n",
        "\n",
        "\n"
      ]
    },
    {
      "cell_type": "code",
      "metadata": {
        "id": "FP9wYYyY3med"
      },
      "source": [
        "# define the raw dataset\n",
        "alphabet = \"ABCDEFGHIJKLMNOPQRSTUVWXYZ\"\n",
        "\n",
        "# create mapping of characters to integers (0-25) and the reverse\n",
        "char_to_int = {key:val for val, key in enumerate(alphabet)}\n",
        "int_to_char = {key:val for key, val in enumerate(alphabet)}"
      ],
      "execution_count": 3,
      "outputs": []
    },
    {
      "cell_type": "markdown",
      "metadata": {
        "id": "ZO39qrhz6GWK"
      },
      "source": [
        "### Prepare the dataset\n",
        "Now we need to create our input and output pairs on which to train our neural network. We can do this by defining an input sequence length, then reading sequences from the input alphabet sequence.\n",
        "\n",
        "For example we use an input length of 1. Starting at the beginning of the raw input data, we can read off the first letter “A” and the next letter as the prediction “B”. We move along one character and repeat until we reach a prediction of “Z”.\n",
        "\n",
        "\n",
        "\n",
        "\n"
      ]
    },
    {
      "cell_type": "code",
      "metadata": {
        "colab": {
          "base_uri": "https://localhost:8080/"
        },
        "id": "ySA64unZ5cvh",
        "outputId": "c10c39a6-f107-4c40-90ef-b7f69fd5437c"
      },
      "source": [
        "# prepare the dataset of input to output pairs encoded as integers\n",
        "seq_length = 1\n",
        "dataX=[]\n",
        "dataY=[]\n",
        "for i in range(0, len(alphabet)-seq_length):\n",
        "  seq_in = alphabet[i:i+seq_length]\n",
        "  seq_out = alphabet[i+seq_length]\n",
        "  dataX.append([char_to_int[char] for char in seq_in])\n",
        "  dataY.append(char_to_int[seq_out])\n",
        "  print(seq_in,'--->',seq_out)"
      ],
      "execution_count": 4,
      "outputs": [
        {
          "output_type": "stream",
          "text": [
            "A ---> B\n",
            "B ---> C\n",
            "C ---> D\n",
            "D ---> E\n",
            "E ---> F\n",
            "F ---> G\n",
            "G ---> H\n",
            "H ---> I\n",
            "I ---> J\n",
            "J ---> K\n",
            "K ---> L\n",
            "L ---> M\n",
            "M ---> N\n",
            "N ---> O\n",
            "O ---> P\n",
            "P ---> Q\n",
            "Q ---> R\n",
            "R ---> S\n",
            "S ---> T\n",
            "T ---> U\n",
            "U ---> V\n",
            "V ---> W\n",
            "W ---> X\n",
            "X ---> Y\n",
            "Y ---> Z\n"
          ],
          "name": "stdout"
        }
      ]
    },
    {
      "cell_type": "markdown",
      "metadata": {
        "id": "NbN2-sAJ91Yp"
      },
      "source": [
        "### Reshape the data\n",
        "We need to reshape the NumPy array into a format expected by the LSTM networks, that is [`samples`, `time steps`, `features`]."
      ]
    },
    {
      "cell_type": "code",
      "metadata": {
        "colab": {
          "base_uri": "https://localhost:8080/"
        },
        "id": "oo0e-TAY5dqx",
        "outputId": "ff498365-1a0b-409b-9a1b-f38fde365165"
      },
      "source": [
        "X = np.reshape(dataX, (len(dataX), seq_length, 1))\n",
        "\n",
        "print('Shape of input',X.shape)"
      ],
      "execution_count": 5,
      "outputs": [
        {
          "output_type": "stream",
          "text": [
            "Shape of input (25, 1, 1)\n"
          ],
          "name": "stdout"
        }
      ]
    },
    {
      "cell_type": "markdown",
      "metadata": {
        "id": "wTWPMUmL_AjV"
      },
      "source": [
        "### Normalize the data\n",
        "Once reshaped, we can then normalize the input integers to the range 0-to-1, the range of the sigmoid activation functions used by the LSTM network."
      ]
    },
    {
      "cell_type": "code",
      "metadata": {
        "id": "L5oLteFc5qmN"
      },
      "source": [
        "# normalize\n",
        "X = X/float(len(alphabet))"
      ],
      "execution_count": 6,
      "outputs": []
    },
    {
      "cell_type": "markdown",
      "metadata": {
        "id": "7YLYMwk-_g2U"
      },
      "source": [
        "### One-hot-encode the output-var\n",
        "Finally, we can think of this problem as a sequence classification task, where each of the 26 letters represents a different class. As such, we can convert the output (y) to a one hot encoding, using the Keras built-in function to_categorical()."
      ]
    },
    {
      "cell_type": "code",
      "metadata": {
        "id": "bEB5gzvU_H_v"
      },
      "source": [
        "y = tf.keras.utils.to_categorical(dataY)"
      ],
      "execution_count": 7,
      "outputs": []
    },
    {
      "cell_type": "markdown",
      "metadata": {
        "id": "ytdIUjsFAPFF"
      },
      "source": [
        "## Naive LSTM for Learning One-Char to One-Char Mapping\n",
        "\n",
        "**Let’s start off by designing a simple LSTM to learn how to predict the next character in the alphabet given the context of just one character**.\n",
        "\n",
        "We will frame the problem as a random collection of one-letter input to one-letter output pairs. As we will see this is a difficult framing of the problem for the LSTM to learn.\n",
        "\n",
        "Let’s define an LSTM network with 32 units and an output layer with a softmax activation function for making predictions. Because this is a multi-class classification problem, we can use the log loss function (called “categorical_crossentropy” in Keras), and optimize the network using the ADAM optimization function.\n",
        "\n",
        "The model is fit over 500 epochs with a batch size of 1."
      ]
    },
    {
      "cell_type": "markdown",
      "metadata": {
        "id": "tmmroMa_NgFr"
      },
      "source": [
        "### Model"
      ]
    },
    {
      "cell_type": "code",
      "metadata": {
        "id": "fZjz94Mz_VUH"
      },
      "source": [
        "one_char_to_one_char_model = tf.keras.Sequential([\n",
        "                                                  tf.keras.layers.LSTM(units=32, input_shape=(X.shape[1],X.shape[2])),\n",
        "                                                  tf.keras.layers.Dense(units=y.shape[1], activation='softmax')                                           \n",
        "])"
      ],
      "execution_count": 8,
      "outputs": []
    },
    {
      "cell_type": "code",
      "metadata": {
        "id": "1TMnOPz0AFTb"
      },
      "source": [
        "one_char_to_one_char_model.compile(optimizer='adam', loss='categorical_crossentropy', metrics=['accuracy'])"
      ],
      "execution_count": 9,
      "outputs": []
    },
    {
      "cell_type": "code",
      "metadata": {
        "id": "SYH5jfCqCD5v"
      },
      "source": [
        "history = one_char_to_one_char_model.fit(X, y, batch_size=1, epochs=500, verbose=0)"
      ],
      "execution_count": 10,
      "outputs": []
    },
    {
      "cell_type": "markdown",
      "metadata": {
        "id": "XcOne9FuCoE-"
      },
      "source": [
        "### Evaluation\n",
        "After we fit the model we can evaluate and summarize the performance on the entire training dataset."
      ]
    },
    {
      "cell_type": "code",
      "metadata": {
        "colab": {
          "base_uri": "https://localhost:8080/"
        },
        "id": "JuWzQdJACUkh",
        "outputId": "cd8dba75-3738-4f4d-e907-ff842ee18d14"
      },
      "source": [
        "loss, accuracy = one_char_to_one_char_model.evaluate(X, y, verbose=0)\n",
        "\n",
        "print('Loss',loss)\n",
        "print('Model accuracy',accuracy)"
      ],
      "execution_count": 11,
      "outputs": [
        {
          "output_type": "stream",
          "text": [
            "Loss 1.701980710029602\n",
            "Model accuracy 0.800000011920929\n"
          ],
          "name": "stdout"
        }
      ]
    },
    {
      "cell_type": "markdown",
      "metadata": {
        "id": "VOOtjm2iFHBw"
      },
      "source": [
        "### Visualize the performance"
      ]
    },
    {
      "cell_type": "code",
      "metadata": {
        "colab": {
          "base_uri": "https://localhost:8080/",
          "height": 334
        },
        "id": "1Eva-boPDnCa",
        "outputId": "e69f05ed-4089-46c8-c9f3-2f1f787a98a0"
      },
      "source": [
        "plt.figure(figsize=(16,5))\n",
        "plt.subplot(1,2,1)\n",
        "plot_graph(history.history, 'loss')\n",
        "plt.subplot(1,2,2)\n",
        "plot_graph(history.history, 'accuracy')"
      ],
      "execution_count": 12,
      "outputs": [
        {
          "output_type": "display_data",
          "data": {
            "image/png": "[encoded data removed]",
            "text/plain": [
              "<Figure size 1152x360 with 2 Axes>"
            ]
          },
          "metadata": {
            "tags": [],
            "needs_background": "light"
          }
        }
      ]
    },
    {
      "cell_type": "markdown",
      "metadata": {
        "id": "ik4wVK2DI2so"
      },
      "source": [
        "### Demonstrate some model prediction"
      ]
    },
    {
      "cell_type": "code",
      "metadata": {
        "colab": {
          "base_uri": "https://localhost:8080/"
        },
        "id": "f4zkjpEgDqms",
        "outputId": "44a77cca-7f3e-4c2d-e65c-126c750a5680"
      },
      "source": [
        "# demonstrate some model prediction\n",
        "for pattern in dataX:\n",
        "  # reshape \n",
        "  x = np.reshape(pattern, (1, len(pattern) ,1))\n",
        "  # normalize\n",
        "  x = x / float(len(alphabet))\n",
        "  prediction = one_char_to_one_char_model.predict(x, verbose=0)\n",
        "  index = np.argmax(prediction)\n",
        "  result = int_to_char[index]\n",
        "  seq_in = [int_to_char[val] for val in pattern]\n",
        "  print(seq_in,'-->',result)\n",
        "\n"
      ],
      "execution_count": 13,
      "outputs": [
        {
          "output_type": "stream",
          "text": [
            "['A'] --> B\n",
            "['B'] --> B\n",
            "['C'] --> D\n",
            "['D'] --> E\n",
            "['E'] --> F\n",
            "['F'] --> G\n",
            "['G'] --> H\n",
            "['H'] --> I\n",
            "['I'] --> J\n",
            "['J'] --> K\n",
            "['K'] --> L\n",
            "['L'] --> M\n",
            "['M'] --> N\n",
            "['N'] --> O\n",
            "['O'] --> P\n",
            "['P'] --> Q\n",
            "['Q'] --> R\n",
            "['R'] --> S\n",
            "['S'] --> T\n",
            "['T'] --> U\n",
            "['U'] --> W\n",
            "['V'] --> X\n",
            "['W'] --> Z\n",
            "['X'] --> Z\n",
            "['Y'] --> Z\n"
          ],
          "name": "stdout"
        }
      ]
    },
    {
      "cell_type": "markdown",
      "metadata": {
        "id": "Lb19PK3DH7uK"
      },
      "source": [
        "We can see that this problem is indeed difficult for the network to learn.\n",
        "\n",
        "**The reason is, the poor LSTM units do not have any context to work with. Each input-output pattern is shown to the network in a random order and the state of the network is reset after each pattern (each batch where each batch contains one pattern)**.\n",
        "\n",
        "This is abuse of the LSTM network architecture, treating it like a standard multilayer Perceptron.\n",
        "\n",
        "Next, let’s try a different framing of the problem in order to provide more sequence to the network from which to learn.\n",
        "\n",
        "## Naive LSTM for a Three-Char Feature Window to One-Char Mapping\n",
        "\n",
        "A popular approach to adding more context to data for multilayer Perceptrons is to use the window method.\n",
        "\n",
        "This is where previous steps in the sequence are provided as additional input features to the network. We can try the same trick to provide more context to the LSTM network.\n",
        "\n",
        "Here, we increase the sequence length from 1 to 3, for example:\n",
        "\n",
        "Again, this creates input-output pairs that look like:\n",
        "\n",
        "<br>\n",
        "ABC -> D<br>\n",
        "BCD -> E<br>\n",
        "CDE -> F<br>\n",
        "DEF -> G<br>\n",
        "<br>\n",
        "\n",
        "Each element in the sequence is then provided as a new input feature to the network. This requires a modification of how the input sequences reshaped"
      ]
    },
    {
      "cell_type": "markdown",
      "metadata": {
        "id": "LSWdXonMMI7u"
      },
      "source": [
        "### Prepare the dataset"
      ]
    },
    {
      "cell_type": "code",
      "metadata": {
        "colab": {
          "base_uri": "https://localhost:8080/"
        },
        "id": "OKZRMd04HXZL",
        "outputId": "80e85511-64a8-42b3-c7c3-8718a53c5cf6"
      },
      "source": [
        "dataX=[]\n",
        "dataY=[]\n",
        "seq_length = 3\n",
        "for i in range(len(alphabet)-seq_length):\n",
        "  seq_in = alphabet[i:i+seq_length]\n",
        "  seq_out = alphabet[i+seq_length]\n",
        "  dataX.append([char_to_int[pattern] for pattern in seq_in])\n",
        "  dataY.append(char_to_int[seq_out])\n",
        "  print(seq_in,'-->',seq_out)"
      ],
      "execution_count": 14,
      "outputs": [
        {
          "output_type": "stream",
          "text": [
            "ABC --> D\n",
            "BCD --> E\n",
            "CDE --> F\n",
            "DEF --> G\n",
            "EFG --> H\n",
            "FGH --> I\n",
            "GHI --> J\n",
            "HIJ --> K\n",
            "IJK --> L\n",
            "JKL --> M\n",
            "KLM --> N\n",
            "LMN --> O\n",
            "MNO --> P\n",
            "NOP --> Q\n",
            "OPQ --> R\n",
            "PQR --> S\n",
            "QRS --> T\n",
            "RST --> U\n",
            "STU --> V\n",
            "TUV --> W\n",
            "UVW --> X\n",
            "VWX --> Y\n",
            "WXY --> Z\n"
          ],
          "name": "stdout"
        }
      ]
    },
    {
      "cell_type": "markdown",
      "metadata": {
        "id": "WRf9nFQ2L9t_"
      },
      "source": [
        "### Reshape the data"
      ]
    },
    {
      "cell_type": "code",
      "metadata": {
        "colab": {
          "base_uri": "https://localhost:8080/"
        },
        "id": "ZZTUMEOUL7Tk",
        "outputId": "8302ebe4-cc2a-4eba-9d84-3acaa6c31b67"
      },
      "source": [
        "X = np.reshape(dataX, (len(dataX), 1, seq_length))\n",
        "\n",
        "print('Shape of input',X.shape)"
      ],
      "execution_count": 15,
      "outputs": [
        {
          "output_type": "stream",
          "text": [
            "Shape of input (23, 1, 3)\n"
          ],
          "name": "stdout"
        }
      ]
    },
    {
      "cell_type": "markdown",
      "metadata": {
        "id": "NznSKmHaMrmr"
      },
      "source": [
        "### Normalize the data"
      ]
    },
    {
      "cell_type": "code",
      "metadata": {
        "id": "YO7SaUDkK6u_"
      },
      "source": [
        "X = X / float(len(alphabet))"
      ],
      "execution_count": 16,
      "outputs": []
    },
    {
      "cell_type": "markdown",
      "metadata": {
        "id": "-UYJv_oCM4XM"
      },
      "source": [
        "### One-hot-encode the output"
      ]
    },
    {
      "cell_type": "code",
      "metadata": {
        "id": "nwcbiUk9M1hz"
      },
      "source": [
        "y = tf.keras.utils.to_categorical(dataY)"
      ],
      "execution_count": 17,
      "outputs": []
    },
    {
      "cell_type": "markdown",
      "metadata": {
        "id": "NCDF3a4pNJZk"
      },
      "source": [
        "### Model"
      ]
    },
    {
      "cell_type": "code",
      "metadata": {
        "id": "HjcvQpqSM2Pg"
      },
      "source": [
        "three_char_feature_to_one_char_model = tf.keras.Sequential([\n",
        "                                                    tf.keras.layers.LSTM(units=32, input_shape=(X.shape[1], X.shape[2])),\n",
        "                                                    tf.keras.layers.Dense(units=y.shape[1], activation='softmax')\n",
        "])"
      ],
      "execution_count": 18,
      "outputs": []
    },
    {
      "cell_type": "code",
      "metadata": {
        "id": "pr5zFor_NAhv"
      },
      "source": [
        "three_char_feature_to_one_char_model.compile(optimizer='adam', loss='categorical_crossentropy', metrics=['accuracy'])"
      ],
      "execution_count": 19,
      "outputs": []
    },
    {
      "cell_type": "code",
      "metadata": {
        "id": "b-WwHrzwOS4x"
      },
      "source": [
        "history = three_char_feature_to_one_char_model.fit(X, y, epochs=500, batch_size=1, verbose=0)"
      ],
      "execution_count": 20,
      "outputs": []
    },
    {
      "cell_type": "markdown",
      "metadata": {
        "id": "WfOJsCTvPHvb"
      },
      "source": [
        "### Evaluation"
      ]
    },
    {
      "cell_type": "code",
      "metadata": {
        "colab": {
          "base_uri": "https://localhost:8080/"
        },
        "id": "oCokVnD5PHK0",
        "outputId": "05897c51-fac0-4ef1-d273-96cf208e0a50"
      },
      "source": [
        "loss, accuracy = three_char_feature_to_one_char_model.evaluate(X, y, verbose=0)\n",
        "\n",
        "print('Loss',loss)\n",
        "print('Model accuracy',accuracy)"
      ],
      "execution_count": 21,
      "outputs": [
        {
          "output_type": "stream",
          "text": [
            "Loss 1.5642001628875732\n",
            "Model accuracy 0.8695651888847351\n"
          ],
          "name": "stdout"
        }
      ]
    },
    {
      "cell_type": "markdown",
      "metadata": {
        "id": "ZTdtDkO-Oqe9"
      },
      "source": [
        "### Visualize the performance"
      ]
    },
    {
      "cell_type": "code",
      "metadata": {
        "colab": {
          "base_uri": "https://localhost:8080/",
          "height": 332
        },
        "id": "jH55hJw8Oezo",
        "outputId": "544ca2a0-ffae-4179-a163-ac56d5fe6bb1"
      },
      "source": [
        "plt.figure(figsize=(16,5))\n",
        "plt.subplot(1,2,1)\n",
        "plot_graph(history.history, 'loss')\n",
        "plt.subplot(1,2,2)\n",
        "plot_graph(history.history, 'accuracy')"
      ],
      "execution_count": 22,
      "outputs": [
        {
          "output_type": "display_data",
          "data": {
            "image/png": "[encoded data removed]",
            "text/plain": [
              "<Figure size 1152x360 with 2 Axes>"
            ]
          },
          "metadata": {
            "tags": [],
            "needs_background": "light"
          }
        }
      ]
    },
    {
      "cell_type": "markdown",
      "metadata": {
        "id": "Xb5NnDDhPNse"
      },
      "source": [
        "### Demonstrate some model prediction"
      ]
    },
    {
      "cell_type": "code",
      "metadata": {
        "colab": {
          "base_uri": "https://localhost:8080/"
        },
        "id": "Z3NFzAVwO94m",
        "outputId": "8b53ae61-e2b6-40a3-de81-c06e4c58ca30"
      },
      "source": [
        "for pattern in dataX:\n",
        "  # reshape\n",
        "  x = np.reshape(pattern, (1, 1, len(pattern)))\n",
        "  # normalize\n",
        "  x = x/float(len(alphabet))\n",
        "  prediction = three_char_feature_to_one_char_model.predict(x, verbose=0)\n",
        "  index = np.argmax(prediction)\n",
        "  result = int_to_char[index]\n",
        "  seq_in = [int_to_char[val] for val in pattern]\n",
        "  print(seq_in,'-->',result)"
      ],
      "execution_count": 23,
      "outputs": [
        {
          "output_type": "stream",
          "text": [
            "['A', 'B', 'C'] --> D\n",
            "['B', 'C', 'D'] --> E\n",
            "['C', 'D', 'E'] --> F\n",
            "['D', 'E', 'F'] --> G\n",
            "['E', 'F', 'G'] --> H\n",
            "['F', 'G', 'H'] --> I\n",
            "['G', 'H', 'I'] --> J\n",
            "['H', 'I', 'J'] --> K\n",
            "['I', 'J', 'K'] --> L\n",
            "['J', 'K', 'L'] --> M\n",
            "['K', 'L', 'M'] --> N\n",
            "['L', 'M', 'N'] --> O\n",
            "['M', 'N', 'O'] --> P\n",
            "['N', 'O', 'P'] --> Q\n",
            "['O', 'P', 'Q'] --> R\n",
            "['P', 'Q', 'R'] --> S\n",
            "['Q', 'R', 'S'] --> T\n",
            "['R', 'S', 'T'] --> U\n",
            "['S', 'T', 'U'] --> V\n",
            "['T', 'U', 'V'] --> X\n",
            "['U', 'V', 'W'] --> Z\n",
            "['V', 'W', 'X'] --> Z\n",
            "['W', 'X', 'Y'] --> Z\n"
          ],
          "name": "stdout"
        }
      ]
    },
    {
      "cell_type": "markdown",
      "metadata": {
        "id": "9HoUlIxeRv_C"
      },
      "source": [
        "We can see a small lift in performance that may or may not be real. This is a simple problem that we were still not able to learn with LSTMs even with the window method.\n",
        "\n",
        "Again, this is a misuse of the LSTM network by a poor framing of the problem. **Indeed, the sequences of letters are time steps of one feature rather than one time step of separate features. We have given more context to the network, but not more sequence as it expected**.\n",
        "\n",
        "In the next section, we will give more context to the network in the form of time steps.\n",
        "\n",
        "## Naive LSTM for a Three-Char Time Step Window to One-Char Mapping\n",
        "\n",
        "In Keras, the intended use of LSTMs is to provide context in the form of time steps, rather than windowed features like with other network types.\n",
        "\n",
        "We can take our first example and simply change the sequence length from 1 to 3.\n",
        "\n",
        "seq_length = 3\n",
        "\n",
        "Again, this creates input-output pairs that look like:\n",
        "\n",
        "<br>\n",
        "ABC -> D<br>\n",
        "BCD -> E<br>\n",
        "CDE -> F<br>\n",
        "DEF -> G<br>\n",
        "<br>\n",
        "\n",
        "The difference is that the reshaping of the input data takes the sequence as a time step sequence of one feature, rather than a single time step of multiple features."
      ]
    },
    {
      "cell_type": "markdown",
      "metadata": {
        "id": "SIqBMPtMYBzW"
      },
      "source": [
        "### Prepare the dataset"
      ]
    },
    {
      "cell_type": "code",
      "metadata": {
        "colab": {
          "base_uri": "https://localhost:8080/"
        },
        "id": "RpgFC342QUfz",
        "outputId": "35d52745-68e6-4846-ea60-24f866d5e567"
      },
      "source": [
        "dataX=[]\n",
        "dataY=[]\n",
        "seq_length = 3\n",
        "for i in range(len(alphabet)-seq_length):\n",
        "  seq_in = alphabet[i:i+seq_length]\n",
        "  seq_out = alphabet[i+seq_length]\n",
        "  dataX.append([char_to_int[pattern] for pattern in seq_in])\n",
        "  dataY.append(char_to_int[seq_out])\n",
        "  print(seq_in,'-->',seq_out)"
      ],
      "execution_count": 24,
      "outputs": [
        {
          "output_type": "stream",
          "text": [
            "ABC --> D\n",
            "BCD --> E\n",
            "CDE --> F\n",
            "DEF --> G\n",
            "EFG --> H\n",
            "FGH --> I\n",
            "GHI --> J\n",
            "HIJ --> K\n",
            "IJK --> L\n",
            "JKL --> M\n",
            "KLM --> N\n",
            "LMN --> O\n",
            "MNO --> P\n",
            "NOP --> Q\n",
            "OPQ --> R\n",
            "PQR --> S\n",
            "QRS --> T\n",
            "RST --> U\n",
            "STU --> V\n",
            "TUV --> W\n",
            "UVW --> X\n",
            "VWX --> Y\n",
            "WXY --> Z\n"
          ],
          "name": "stdout"
        }
      ]
    },
    {
      "cell_type": "markdown",
      "metadata": {
        "id": "JJMcsZFSYGJv"
      },
      "source": [
        "### Reshape the data"
      ]
    },
    {
      "cell_type": "code",
      "metadata": {
        "colab": {
          "base_uri": "https://localhost:8080/"
        },
        "id": "6Z_PbeCeX3CZ",
        "outputId": "921b8c33-d66a-4e78-c119-222f557012dd"
      },
      "source": [
        "X = np.reshape(dataX, (len(dataX), seq_length, 1))\n",
        "\n",
        "print('Shape of input',X.shape)"
      ],
      "execution_count": 25,
      "outputs": [
        {
          "output_type": "stream",
          "text": [
            "Shape of input (23, 3, 1)\n"
          ],
          "name": "stdout"
        }
      ]
    },
    {
      "cell_type": "markdown",
      "metadata": {
        "id": "tV2lcqIxYn1r"
      },
      "source": [
        "### Normalize the dataset"
      ]
    },
    {
      "cell_type": "code",
      "metadata": {
        "id": "k_TbjRrBYiuR"
      },
      "source": [
        "X = X / float(len(alphabet))"
      ],
      "execution_count": 26,
      "outputs": []
    },
    {
      "cell_type": "markdown",
      "metadata": {
        "id": "d2gy13u6Y34D"
      },
      "source": [
        "### One-hot-encode the output"
      ]
    },
    {
      "cell_type": "code",
      "metadata": {
        "id": "A3Ike1vQYrQb"
      },
      "source": [
        "y = tf.keras.utils.to_categorical(dataY)"
      ],
      "execution_count": 27,
      "outputs": []
    },
    {
      "cell_type": "markdown",
      "metadata": {
        "id": "5dHOFCI4ZS4I"
      },
      "source": [
        "### Model"
      ]
    },
    {
      "cell_type": "code",
      "metadata": {
        "id": "3Sf8OjMDYrsJ"
      },
      "source": [
        "three_char_Timestep_to_one_char_model = tf.keras.Sequential([\n",
        "                                                             tf.keras.layers.LSTM(units=32, input_shape=(X.shape[1], X.shape[2])),\n",
        "                                                             tf.keras.layers.Dense(units=y.shape[1], activation='softmax')\n",
        "])"
      ],
      "execution_count": 28,
      "outputs": []
    },
    {
      "cell_type": "code",
      "metadata": {
        "id": "N-CWOuU4ZQzi"
      },
      "source": [
        "three_char_Timestep_to_one_char_model.compile(optimizer='adam',\n",
        "                                              loss='categorical_crossentropy',\n",
        "                                              metrics=['accuracy'])"
      ],
      "execution_count": 29,
      "outputs": []
    },
    {
      "cell_type": "code",
      "metadata": {
        "id": "glsMr9Yca_00"
      },
      "source": [
        "history = three_char_Timestep_to_one_char_model.fit(X, y, epochs=500, batch_size=1, verbose=0)"
      ],
      "execution_count": 30,
      "outputs": []
    },
    {
      "cell_type": "markdown",
      "metadata": {
        "id": "sfPQWyODbPse"
      },
      "source": [
        "### Evaluation"
      ]
    },
    {
      "cell_type": "code",
      "metadata": {
        "colab": {
          "base_uri": "https://localhost:8080/"
        },
        "id": "1J7Dvi_3bRfV",
        "outputId": "e149b2c2-bb61-4db4-aa14-cf9c7146ad25"
      },
      "source": [
        "loss, accuracy = three_char_Timestep_to_one_char_model.evaluate(X, y, verbose=0)\n",
        "\n",
        "print('Loss',loss)\n",
        "print('Model accuracy',accuracy)"
      ],
      "execution_count": 31,
      "outputs": [
        {
          "output_type": "stream",
          "text": [
            "Loss 0.2275867462158203\n",
            "Model accuracy 1.0\n"
          ],
          "name": "stdout"
        }
      ]
    },
    {
      "cell_type": "markdown",
      "metadata": {
        "id": "7TDuqjc2bh5e"
      },
      "source": [
        "### Visualize the performance"
      ]
    },
    {
      "cell_type": "code",
      "metadata": {
        "colab": {
          "base_uri": "https://localhost:8080/",
          "height": 334
        },
        "id": "Jyi7Yk7XbboB",
        "outputId": "574151df-cbab-4b29-9f80-6811611ec59d"
      },
      "source": [
        "plt.figure(figsize=(16,5))\n",
        "plt.subplot(1,2,1)\n",
        "plot_graph(history.history, 'loss')\n",
        "plt.subplot(1,2,2)\n",
        "plot_graph(history.history, 'accuracy')"
      ],
      "execution_count": 32,
      "outputs": [
        {
          "output_type": "display_data",
          "data": {
            "image/png": "[encoded data removed]",
            "text/plain": [
              "<Figure size 1152x360 with 2 Axes>"
            ]
          },
          "metadata": {
            "tags": [],
            "needs_background": "light"
          }
        }
      ]
    },
    {
      "cell_type": "markdown",
      "metadata": {
        "id": "JS3AjCK8b0Xa"
      },
      "source": [
        "### Demonstrate some model performance"
      ]
    },
    {
      "cell_type": "code",
      "metadata": {
        "colab": {
          "base_uri": "https://localhost:8080/"
        },
        "id": "6SsbKZcJblQf",
        "outputId": "9ef3db18-6562-4940-c724-3568379c14c9"
      },
      "source": [
        "for pattern in dataX:\n",
        "  # reshape\n",
        "  x = np.reshape(pattern, (1, len(pattern), 1))\n",
        "  # normalize\n",
        "  x = x / float(len(alphabet))\n",
        "  prediction = three_char_Timestep_to_one_char_model.predict(x, verbose=0)\n",
        "  index = np.argmax(prediction)\n",
        "  result = int_to_char[index]\n",
        "  seq_in = [int_to_char[val] for val in pattern]\n",
        "  print(seq_in,'-->',result)"
      ],
      "execution_count": 33,
      "outputs": [
        {
          "output_type": "stream",
          "text": [
            "['A', 'B', 'C'] --> D\n",
            "['B', 'C', 'D'] --> E\n",
            "['C', 'D', 'E'] --> F\n",
            "['D', 'E', 'F'] --> G\n",
            "['E', 'F', 'G'] --> H\n",
            "['F', 'G', 'H'] --> I\n",
            "['G', 'H', 'I'] --> J\n",
            "['H', 'I', 'J'] --> K\n",
            "['I', 'J', 'K'] --> L\n",
            "['J', 'K', 'L'] --> M\n",
            "['K', 'L', 'M'] --> N\n",
            "['L', 'M', 'N'] --> O\n",
            "['M', 'N', 'O'] --> P\n",
            "['N', 'O', 'P'] --> Q\n",
            "['O', 'P', 'Q'] --> R\n",
            "['P', 'Q', 'R'] --> S\n",
            "['Q', 'R', 'S'] --> T\n",
            "['R', 'S', 'T'] --> U\n",
            "['S', 'T', 'U'] --> V\n",
            "['T', 'U', 'V'] --> W\n",
            "['U', 'V', 'W'] --> X\n",
            "['V', 'W', 'X'] --> Y\n",
            "['W', 'X', 'Y'] --> Z\n"
          ],
          "name": "stdout"
        }
      ]
    },
    {
      "cell_type": "markdown",
      "metadata": {
        "id": "uANWU-rHkbmT"
      },
      "source": [
        "We can see that the model learns the problem perfectly as evidenced by the model evaluation and the example predictions.\n",
        "\n",
        "But it has learned a simpler problem. Specifically, it has learned to predict the next letter from a sequence of three letters in the alphabet. It can be shown any random sequence of three letters from the alphabet and predict the next letter.\n",
        "\n",
        "It can not actually enumerate the alphabet. I expect that a larger enough multilayer perception network might be able to learn the same mapping using the window method.\n",
        "\n",
        "The LSTM networks are stateful. They should be able to learn the whole alphabet sequence, but by default the Keras implementation resets the network state after each training batch.\n",
        "\n",
        "## LSTM State Within A Batch\n",
        "The Keras implementation of LSTMs resets the state of the network after each batch.\n",
        "\n",
        "This suggests that if we had a batch size large enough to hold all input patterns and if all the input patterns were ordered sequentially, that the LSTM could use the context of the sequence within the batch to better learn the sequence.\n",
        "\n",
        "We can demonstrate this easily by modifying the first example for learning a one-to-one mapping and increasing the batch size from 1 to the size of the training dataset.\n",
        "\n",
        "Additionally, Keras shuffles the training dataset before each training epoch. To ensure the training data patterns remain sequential, we can disable this shuffling.\n",
        "\n",
        "The network will learn the mapping of characters using the the within-batch sequence, but this context will not be available to the network when making predictions. We can evaluate both the ability of the network to make predictions randomly and in sequence."
      ]
    },
    {
      "cell_type": "markdown",
      "metadata": {
        "id": "DHk1iw0qnBAt"
      },
      "source": [
        "### Prepare the dataset"
      ]
    },
    {
      "cell_type": "code",
      "metadata": {
        "colab": {
          "base_uri": "https://localhost:8080/"
        },
        "id": "LZPVgk8Ce_E-",
        "outputId": "947159e7-c788-4a61-9d8d-dbe0a18c5c2b"
      },
      "source": [
        "dataX=[]\n",
        "dataY=[]\n",
        "seq_length = 1\n",
        "for i in range(len(alphabet)-seq_length):\n",
        "  seq_in = alphabet[i:i+seq_length]\n",
        "  seq_out = alphabet[i+seq_length]\n",
        "  dataX.append([char_to_int[pattern] for pattern in seq_in])\n",
        "  dataY.append(char_to_int[seq_out])\n",
        "  print(seq_in,'-->',seq_out)"
      ],
      "execution_count": 43,
      "outputs": [
        {
          "output_type": "stream",
          "text": [
            "A --> B\n",
            "B --> C\n",
            "C --> D\n",
            "D --> E\n",
            "E --> F\n",
            "F --> G\n",
            "G --> H\n",
            "H --> I\n",
            "I --> J\n",
            "J --> K\n",
            "K --> L\n",
            "L --> M\n",
            "M --> N\n",
            "N --> O\n",
            "O --> P\n",
            "P --> Q\n",
            "Q --> R\n",
            "R --> S\n",
            "S --> T\n",
            "T --> U\n",
            "U --> V\n",
            "V --> W\n",
            "W --> X\n",
            "X --> Y\n",
            "Y --> Z\n"
          ],
          "name": "stdout"
        }
      ]
    },
    {
      "cell_type": "code",
      "metadata": {
        "id": "E1NLtM86nhuH"
      },
      "source": [
        "# convert list of lists to array and pad sequences if needed\n",
        "X = tf.keras.preprocessing.sequence.pad_sequences(dataX, maxlen=seq_length, dtype='float32')"
      ],
      "execution_count": 53,
      "outputs": []
    },
    {
      "cell_type": "markdown",
      "metadata": {
        "id": "f_o24zgPnGln"
      },
      "source": [
        "### Reshape the dataset"
      ]
    },
    {
      "cell_type": "code",
      "metadata": {
        "id": "CyAhvWsGmlje",
        "colab": {
          "base_uri": "https://localhost:8080/"
        },
        "outputId": "bc2f637f-0e67-4e2b-cce0-d425491df98f"
      },
      "source": [
        "X = np.reshape(X, (len(dataX), seq_length, 1))\n",
        "\n",
        "print('Shape of input',X.shape)"
      ],
      "execution_count": 54,
      "outputs": [
        {
          "output_type": "stream",
          "text": [
            "Shape of input (25, 1, 1)\n"
          ],
          "name": "stdout"
        }
      ]
    },
    {
      "cell_type": "markdown",
      "metadata": {
        "id": "pMPqlBTOlYQv"
      },
      "source": [
        "### Normalize the dataset"
      ]
    },
    {
      "cell_type": "code",
      "metadata": {
        "id": "fpbSoe-xlK-r"
      },
      "source": [
        "X = X / float(len(alphabet))"
      ],
      "execution_count": 55,
      "outputs": []
    },
    {
      "cell_type": "markdown",
      "metadata": {
        "id": "xSH6p76RllRi"
      },
      "source": [
        "### One-hot-encode the output-var"
      ]
    },
    {
      "cell_type": "code",
      "metadata": {
        "id": "XWFJd7lclL7S"
      },
      "source": [
        "y = tf.keras.utils.to_categorical(dataY)"
      ],
      "execution_count": 57,
      "outputs": []
    },
    {
      "cell_type": "markdown",
      "metadata": {
        "id": "t7wyEXIYlxjQ"
      },
      "source": [
        "### Model"
      ]
    },
    {
      "cell_type": "code",
      "metadata": {
        "id": "LmUehoV7leng"
      },
      "source": [
        "lstm_state_within_batch_model = tf.keras.Sequential([\n",
        "                                                     tf.keras.layers.LSTM(units=16, input_shape=(X.shape[1],X.shape[2])),\n",
        "                                                     tf.keras.layers.Dense(units=y.shape[1], activation='softmax')\n",
        "])"
      ],
      "execution_count": 64,
      "outputs": []
    },
    {
      "cell_type": "code",
      "metadata": {
        "id": "4tGCnMJ9lvjr"
      },
      "source": [
        "lstm_state_within_batch_model.compile(optimizer='adam', loss='categorical_crossentropy', metrics=['accuracy'])"
      ],
      "execution_count": 65,
      "outputs": []
    },
    {
      "cell_type": "code",
      "metadata": {
        "id": "2XQoMt-hnAXs"
      },
      "source": [
        "history = lstm_state_within_batch_model.fit(X, y, epochs=5000, batch_size=len(dataX), verbose=0, shuffle=False)"
      ],
      "execution_count": 66,
      "outputs": []
    },
    {
      "cell_type": "markdown",
      "metadata": {
        "id": "7PDRXetpndI5"
      },
      "source": [
        "### Evaluation"
      ]
    },
    {
      "cell_type": "code",
      "metadata": {
        "colab": {
          "base_uri": "https://localhost:8080/"
        },
        "id": "WxTdeTW4nTsi",
        "outputId": "b1b6399b-a93c-4cc9-c689-042029e4de03"
      },
      "source": [
        "loss, accuracy = lstm_state_within_batch_model.evaluate(X, y, verbose=0)\n",
        "\n",
        "print('Loss',loss)\n",
        "print('Model Accuracy', accuracy)"
      ],
      "execution_count": 68,
      "outputs": [
        {
          "output_type": "stream",
          "text": [
            "Loss 0.9226238131523132\n",
            "Model Accuracy 1.0\n"
          ],
          "name": "stdout"
        }
      ]
    },
    {
      "cell_type": "markdown",
      "metadata": {
        "id": "ysAttKU5nzdr"
      },
      "source": [
        "### Visualize the performance"
      ]
    },
    {
      "cell_type": "code",
      "metadata": {
        "colab": {
          "base_uri": "https://localhost:8080/",
          "height": 334
        },
        "id": "uNVejxdWntR1",
        "outputId": "260caf24-8f03-4792-e4b7-3958531864ab"
      },
      "source": [
        "plt.figure(figsize=(16,5))\n",
        "plt.subplot(1,2,1)\n",
        "plot_graph(history.history, 'loss')\n",
        "plt.subplot(1,2,2)\n",
        "plot_graph(history.history, 'accuracy')"
      ],
      "execution_count": 69,
      "outputs": [
        {
          "output_type": "display_data",
          "data": {
            "image/png": "[encoded data removed]",
            "text/plain": [
              "<Figure size 1152x360 with 2 Axes>"
            ]
          },
          "metadata": {
            "tags": [],
            "needs_background": "light"
          }
        }
      ]
    },
    {
      "cell_type": "markdown",
      "metadata": {
        "id": "EaZI03IuoQ2W"
      },
      "source": [
        "### Demonstrate some model performance"
      ]
    },
    {
      "cell_type": "code",
      "metadata": {
        "colab": {
          "base_uri": "https://localhost:8080/"
        },
        "id": "ZVrS9rWJoU2o",
        "outputId": "5b5b10c6-48cd-4fd4-889f-b7b3f0d38843"
      },
      "source": [
        "for pattern in dataX:\n",
        "  # reshape\n",
        "  x = np.reshape(pattern, (1, len(pattern), 1))\n",
        "  # normalize\n",
        "  x = x / float(len(alphabet))\n",
        "  prediction = lstm_state_within_batch_model.predict(x, verbose=0)\n",
        "  index = np.argmax(prediction)\n",
        "  result = int_to_char[index]\n",
        "  seq_in = [int_to_char[val] for val in pattern]\n",
        "  print(seq_in,'-->',result)"
      ],
      "execution_count": 70,
      "outputs": [
        {
          "output_type": "stream",
          "text": [
            "['A'] --> B\n",
            "['B'] --> C\n",
            "['C'] --> D\n",
            "['D'] --> E\n",
            "['E'] --> F\n",
            "['F'] --> G\n",
            "['G'] --> H\n",
            "['H'] --> I\n",
            "['I'] --> J\n",
            "['J'] --> K\n",
            "['K'] --> L\n",
            "['L'] --> M\n",
            "['M'] --> N\n",
            "['N'] --> O\n",
            "['O'] --> P\n",
            "['P'] --> Q\n",
            "['Q'] --> R\n",
            "['R'] --> S\n",
            "['S'] --> T\n",
            "['T'] --> U\n",
            "['U'] --> V\n",
            "['V'] --> W\n",
            "['W'] --> X\n",
            "['X'] --> Y\n",
            "['Y'] --> Z\n"
          ],
          "name": "stdout"
        }
      ]
    },
    {
      "cell_type": "code",
      "metadata": {
        "colab": {
          "base_uri": "https://localhost:8080/"
        },
        "id": "j8ViBz1PqUUy",
        "outputId": "d0e08431-9c0c-4fbb-af2a-1a9d3048411e"
      },
      "source": [
        "# demonstrate predicting random patterns\n",
        "print(\"Test a Random Pattern:\")\n",
        "for i in range(0,20):\n",
        "  pattern_index = np.random.randint(len(dataX))\n",
        "  pattern = dataX[pattern_index]\n",
        "  # reshape\n",
        "  x = np.reshape(pattern, (1, len(pattern), 1))\n",
        "  # normalize\n",
        "  x = x / float(len(alphabet))\n",
        "  prediction = lstm_state_within_batch_model.predict(x, verbose=0)\n",
        "  index = np.argmax(prediction)\n",
        "  result = int_to_char[index]\n",
        "  seq_in = [int_to_char[val] for val in pattern]\n",
        "  print(seq_in,'-->',result)"
      ],
      "execution_count": 72,
      "outputs": [
        {
          "output_type": "stream",
          "text": [
            "Test a Random Pattern:\n",
            "['X'] --> Y\n",
            "['V'] --> W\n",
            "['K'] --> L\n",
            "['Y'] --> Z\n",
            "['W'] --> X\n",
            "['F'] --> G\n",
            "['F'] --> G\n",
            "['D'] --> E\n",
            "['J'] --> K\n",
            "['N'] --> O\n",
            "['Q'] --> R\n",
            "['P'] --> Q\n",
            "['I'] --> J\n",
            "['A'] --> B\n",
            "['D'] --> E\n",
            "['S'] --> T\n",
            "['W'] --> X\n",
            "['A'] --> B\n",
            "['G'] --> H\n",
            "['O'] --> P\n"
          ],
          "name": "stdout"
        }
      ]
    },
    {
      "cell_type": "markdown",
      "metadata": {
        "id": "O4PsrZM4rQmz"
      },
      "source": [
        "As we expected, the network is able to use the within-sequence context to learn the alphabet, achieving 100% accuracy on the training data.\n",
        "\n",
        "Importantly, the network can make accurate predictions for the next letter in the alphabet for randomly selected characters. Very impressive.\n",
        "\n",
        "## Stateful LSTM for a One-Char to One-Char Mapping\n",
        "We have seen that we can break-up our raw data into fixed size sequences and that this representation can be learned by the LSTM, but only to learn random mappings of 3 characters to 1 character.\n",
        "\n",
        "We have also seen that we can pervert batch size to offer more sequence to the network, but only during training.\n",
        "\n",
        "Ideally, we want to expose the network to the entire sequence and let it learn the inter-dependencies, rather than us define those dependencies explicitly in the framing of the problem.\n",
        "\n",
        "We can do this in Keras by making the LSTM layers stateful and manually resetting the state of the network at the end of the epoch, which is also the end of the training sequence.\n",
        "\n",
        "This is truly how the LSTM networks are intended to be used.\n",
        "\n",
        "We first need to define our LSTM layer as stateful. In so doing, we must explicitly specify the batch size as a dimension on the input shape. This also means that when we evaluate the network or make predictions, we must also specify and adhere to this same batch size. This is not a problem now as we are using a batch size of 1. This could introduce difficulties when making predictions where the batch size is not one as predictions will need to be made in batch and in sequence.\n",
        "\n",
        "\n",
        "`batch_size` = 1\n",
        "\n",
        "`model`.`add`(`LSTM`(50, `batch_input_shape`=(`batch_size`, `X.shape[1]`, `X.shape[2]`), `stateful`=True))`\n",
        "\n",
        "An important difference in training the stateful LSTM is that we train it manually one epoch at a time and reset the state after each epoch. We can do this in a `for loop`. Again, we do not shuffle the input, preserving the sequence in which the input training data was created\n",
        "\n",
        "\n",
        "`for` i `in` range(300):<br>\n",
        "\t`model`.`fit`(X, y, `epochs=1`, `batch_size=batch_size`, `verbose=2`, `shuffle=False`)<br>\n",
        "\t`model`.`reset_states()`<br>\n",
        "  <br>\n",
        "\n",
        "As mentioned, we specify the batch size when evaluating the performance of the network on the entire training dataset.\n",
        "\n",
        "\n",
        "**summarize performance of the model**\n",
        "\n",
        "`scores` = `model`.`evaluate`(X, y, `batch_size=batch_size`, `verbose`=0)<br>\n",
        "`model`.`reset_states()`<br>\n",
        "`print`(\"Model Accuracy: %.2f%%\" % (scores[1]*100))\n",
        "\n",
        "Finally, we can demonstrate that the network has indeed learned the entire alphabet. We can seed it with the first letter “A”, request a prediction, feed the prediction back in as an input, and repeat the process all the way to “Z”."
      ]
    },
    {
      "cell_type": "markdown",
      "metadata": {
        "id": "Tvoiu28Lvmkz"
      },
      "source": [
        "### Prepare the dataset"
      ]
    },
    {
      "cell_type": "code",
      "metadata": {
        "colab": {
          "base_uri": "https://localhost:8080/"
        },
        "id": "2YMl_rHIrBfI",
        "outputId": "110bca1c-fc1f-4642-e977-5115d7950c3b"
      },
      "source": [
        "dataX=[]\n",
        "dataY=[]\n",
        "seq_length = 1\n",
        "for i in range(len(alphabet)-seq_length):\n",
        "  seq_in = alphabet[i:i+seq_length]\n",
        "  seq_out = alphabet[i+seq_length]\n",
        "  dataX.append([char_to_int[pattern] for pattern in seq_in])\n",
        "  dataY.append(char_to_int[seq_out])\n",
        "  print(seq_in,'-->',seq_out)"
      ],
      "execution_count": 73,
      "outputs": [
        {
          "output_type": "stream",
          "text": [
            "A --> B\n",
            "B --> C\n",
            "C --> D\n",
            "D --> E\n",
            "E --> F\n",
            "F --> G\n",
            "G --> H\n",
            "H --> I\n",
            "I --> J\n",
            "J --> K\n",
            "K --> L\n",
            "L --> M\n",
            "M --> N\n",
            "N --> O\n",
            "O --> P\n",
            "P --> Q\n",
            "Q --> R\n",
            "R --> S\n",
            "S --> T\n",
            "T --> U\n",
            "U --> V\n",
            "V --> W\n",
            "W --> X\n",
            "X --> Y\n",
            "Y --> Z\n"
          ],
          "name": "stdout"
        }
      ]
    },
    {
      "cell_type": "markdown",
      "metadata": {
        "id": "a32pVjkfwTgI"
      },
      "source": [
        "### Reshape the dataset"
      ]
    },
    {
      "cell_type": "code",
      "metadata": {
        "colab": {
          "base_uri": "https://localhost:8080/"
        },
        "id": "oKdK-pLIwQzi",
        "outputId": "12b821d2-1237-4024-ce51-c0359d290dbf"
      },
      "source": [
        "X = np.reshape(dataX, (len(dataX), seq_length, 1))\n",
        "\n",
        "print('Shape of input',X.shape)"
      ],
      "execution_count": 75,
      "outputs": [
        {
          "output_type": "stream",
          "text": [
            "Shape of input (25, 1, 1)\n"
          ],
          "name": "stdout"
        }
      ]
    },
    {
      "cell_type": "markdown",
      "metadata": {
        "id": "RkjBZyznwy6j"
      },
      "source": [
        "### Normalize the dataset"
      ]
    },
    {
      "cell_type": "code",
      "metadata": {
        "id": "HAeU_a7rwsDM"
      },
      "source": [
        "X = X / float(len(alphabet))"
      ],
      "execution_count": 76,
      "outputs": []
    },
    {
      "cell_type": "markdown",
      "metadata": {
        "id": "AqQjbBU_w99y"
      },
      "source": [
        "### One-hot-encode the output-var"
      ]
    },
    {
      "cell_type": "code",
      "metadata": {
        "id": "ei03fg_xw6it"
      },
      "source": [
        "y = tf.keras.utils.to_categorical(dataY)"
      ],
      "execution_count": 77,
      "outputs": []
    },
    {
      "cell_type": "markdown",
      "metadata": {
        "id": "-dC5T9kBxLWu"
      },
      "source": [
        "### Model"
      ]
    },
    {
      "cell_type": "code",
      "metadata": {
        "id": "Jaqxat3txGss"
      },
      "source": [
        "batch_size = 1\n",
        "\n",
        "stateful_lstm_model = tf.keras.Sequential([\n",
        "                                           tf.keras.layers.LSTM(units=50,\n",
        "                                                                batch_input_shape=(batch_size, X.shape[1], X.shape[2]),\n",
        "                                                                stateful=True),\n",
        "                                           tf.keras.layers.Dense(units=y.shape[1], activation='softmax')\n",
        "])"
      ],
      "execution_count": 92,
      "outputs": []
    },
    {
      "cell_type": "code",
      "metadata": {
        "id": "bkt4v7kMxH5s"
      },
      "source": [
        "stateful_lstm_model.compile(optimizer='adam', loss='categorical_crossentropy', metrics=['accuracy'])"
      ],
      "execution_count": 93,
      "outputs": []
    },
    {
      "cell_type": "code",
      "metadata": {
        "id": "Rvj_cvdyyPSS"
      },
      "source": [
        "loss_ = []\n",
        "accuracy_ = []\n",
        "for i in range(300):\n",
        "  history = stateful_lstm_model.fit(X, y, epochs=1, batch_size=batch_size, verbose=0, shuffle=False)\n",
        "  loss_.append(history.history['loss'])\n",
        "  accuracy_.append(history.history['accuracy'])\n",
        "  stateful_lstm_model.reset_states()"
      ],
      "execution_count": 94,
      "outputs": []
    },
    {
      "cell_type": "markdown",
      "metadata": {
        "id": "EeNiPTkfz3Xc"
      },
      "source": [
        "### Evaluation"
      ]
    },
    {
      "cell_type": "code",
      "metadata": {
        "colab": {
          "base_uri": "https://localhost:8080/"
        },
        "id": "5MCk6XEczd4M",
        "outputId": "11aa7186-a7d8-49b9-c01a-1d32131fb5ea"
      },
      "source": [
        "loss, accuracy = stateful_lstm_model.evaluate(X, y, batch_size=batch_size, verbose=0)\n",
        "stateful_lstm_model.reset_states()\n",
        "print('Loss',loss)\n",
        "print('Model Accuracy', accuracy)"
      ],
      "execution_count": 95,
      "outputs": [
        {
          "output_type": "stream",
          "text": [
            "Loss 0.009655393660068512\n",
            "Model Accuracy 1.0\n"
          ],
          "name": "stdout"
        }
      ]
    },
    {
      "cell_type": "markdown",
      "metadata": {
        "id": "llAgGjB9z9Fe"
      },
      "source": [
        "### Visualize the performance"
      ]
    },
    {
      "cell_type": "code",
      "metadata": {
        "colab": {
          "base_uri": "https://localhost:8080/",
          "height": 334
        },
        "id": "V1vS0EFR0BsI",
        "outputId": "cc562221-36e3-42d6-e668-df56711ff254"
      },
      "source": [
        "plt.figure(figsize=(16,5))\n",
        "\n",
        "plt.subplot(1,2,1)\n",
        "plt.plot(range(300), loss_, label='loss')\n",
        "plt.xlabel('Epochs')\n",
        "plt.ylabel('Loss')\n",
        "plt.legend()\n",
        "\n",
        "\n",
        "plt.subplot(1,2,2)\n",
        "plt.plot(range(300), accuracy_, label='accuracy')\n",
        "plt.xlabel('Epochs')\n",
        "plt.ylabel('Accuracy')\n",
        "plt.legend()\n",
        "\n",
        "plt.show()"
      ],
      "execution_count": 101,
      "outputs": [
        {
          "output_type": "display_data",
          "data": {
            "image/png": "[encoded data removed]",
            "text/plain": [
              "<Figure size 1152x360 with 2 Axes>"
            ]
          },
          "metadata": {
            "tags": [],
            "needs_background": "light"
          }
        }
      ]
    },
    {
      "cell_type": "markdown",
      "metadata": {
        "id": "Z5xLb6fG2JAp"
      },
      "source": [
        "### Demonstrate some model predictions"
      ]
    },
    {
      "cell_type": "code",
      "metadata": {
        "colab": {
          "base_uri": "https://localhost:8080/"
        },
        "id": "Iq-5ZCuE0W6Q",
        "outputId": "e860f0af-2708-4167-df17-87787697ab14"
      },
      "source": [
        "# demonstrate some model predictions\n",
        "seed = [char_to_int[alphabet[0]]]\n",
        "for i in range(len(alphabet)-1):\n",
        "  # reshape\n",
        "  x = np.reshape(seed, (1, len(seed), 1))\n",
        "  # normalize\n",
        "  x = x / float(len(alphabet))\n",
        "  prediction = stateful_lstm_model.predict(x, verbose=0)\n",
        "  index = np.argmax(prediction)\n",
        "  result = int_to_char[index]\n",
        "  seq_in = int_to_char[seed[0]]\n",
        "  seed = [index]\n",
        "  print(seq_in,'-->',result)\n",
        "\n",
        "stateful_lstm_model.reset_states()"
      ],
      "execution_count": 107,
      "outputs": [
        {
          "output_type": "stream",
          "text": [
            "A --> B\n",
            "B --> C\n",
            "C --> D\n",
            "D --> E\n",
            "E --> F\n",
            "F --> G\n",
            "G --> H\n",
            "H --> I\n",
            "I --> J\n",
            "J --> K\n",
            "K --> L\n",
            "L --> M\n",
            "M --> N\n",
            "N --> O\n",
            "O --> P\n",
            "P --> Q\n",
            "Q --> R\n",
            "R --> S\n",
            "S --> T\n",
            "T --> U\n",
            "U --> V\n",
            "V --> W\n",
            "W --> X\n",
            "X --> Y\n",
            "Y --> Z\n"
          ],
          "name": "stdout"
        }
      ]
    },
    {
      "cell_type": "code",
      "metadata": {
        "colab": {
          "base_uri": "https://localhost:8080/"
        },
        "id": "VjT1nyUX44BD",
        "outputId": "4d652c68-8046-4506-a770-41a244487475"
      },
      "source": [
        "# demonstrate a random starting point\n",
        "seed = [char_to_int[\"K\"]]\n",
        "for i in range(5):\n",
        "  # reshape\n",
        "  x = np.reshape(seed, (1, len(seed), 1))\n",
        "  # normalize\n",
        "  x = x / float(len(alphabet))\n",
        "  prediction = stateful_lstm_model.predict(x, verbose=0)\n",
        "  index = np.argmax(prediction)\n",
        "  result = int_to_char[index]\n",
        "  seq_in = int_to_char[seed[0]]\n",
        "  seed = [index]\n",
        "  print(seq_in,'-->',result)\n",
        "\n",
        "stateful_lstm_model.reset_states()"
      ],
      "execution_count": 110,
      "outputs": [
        {
          "output_type": "stream",
          "text": [
            "K --> B\n",
            "B --> C\n",
            "C --> D\n",
            "D --> E\n",
            "E --> F\n"
          ],
          "name": "stdout"
        }
      ]
    },
    {
      "cell_type": "markdown",
      "metadata": {
        "id": "AhFmXSzI-KWp"
      },
      "source": [
        "We can see that the network has memorized the entire alphabet perfectly. It used the context of the samples themselves and learned whatever dependency it needed to predict the next character in the sequence.\n",
        "\n",
        "We can also see that if we seed the network with the first letter, that it can correctly rattle off the rest of the alphabet.\n",
        "\n",
        "We can also see that it has only learned the full alphabet sequence and that from a cold start. When asked to predict the next letter from “K” that it predicts “B” and falls back into regurgitating the entire alphabet.\n",
        "\n",
        "To truly predict “K” the state of the network would need to be warmed up iteratively fed the letters from “A” to “J”. This tells us that we could achieve the same effect with a “stateless” LSTM by preparing training data like:\n",
        "\n",
        "<br>\n",
        "---a -> b<br>\n",
        "--ab -> c<br>\n",
        "-abc -> d<br>\n",
        "abcd -> e<br>\n",
        "<br>\n",
        "\n",
        "Where the input sequence is fixed at 25 (a-to-y to predict z) and patterns are prefixed with zero-padding.\n",
        "\n",
        "Finally, this raises the question of training an LSTM network using variable length input sequences to predict the next character.\n",
        "\n",
        "## LSTM with Variable-Length Input to One-Char Output\n",
        "In the previous section, we discovered that the Keras “stateful” LSTM was really only a shortcut to replaying the first n-sequences, but didn’t really help us learn a generic model of the alphabet.\n",
        "\n",
        "In this section we explore a variation of the “stateless” LSTM that learns random subsequences of the alphabet and an effort to build a model that can be given arbitrary letters or subsequences of letters and predict the next letter in the alphabet.\n",
        "\n",
        "Firstly, we are changing the framing of the problem. To simplify we will define a maximum input sequence length and set it to a small value like 5 to speed up training. This defines the maximum length of subsequences of the alphabet which will be drawn for training. In extensions, this could just as set to the full alphabet (26) or longer if we allow looping back to the start of the sequence.\n",
        "\n",
        "We also need to define the number of random sequences to create, in this case 1000. This too could be more or less. I expect less patterns are actually required."
      ]
    },
    {
      "cell_type": "markdown",
      "metadata": {
        "id": "9pvVNJaYDj0Q"
      },
      "source": [
        "### Prepare the dataset"
      ]
    },
    {
      "cell_type": "code",
      "metadata": {
        "id": "nC0G-b7E5F_k"
      },
      "source": [
        "# prepare the dataset of input to output pairs encoded as integers\n",
        "num_inputs = 1000\n",
        "max_len = 5\n",
        "dataX=[]\n",
        "dataY=[]\n",
        "for i in range(num_inputs):\n",
        "  start = np.random.randint(len(alphabet)-2)\n",
        "  end = np.random.randint(start, min(start+max_len, len(alphabet)-1))\n",
        "  seq_in = alphabet[start:end+1]\n",
        "  seq_out = alphabet[end+1]\n",
        "  dataX.append([char_to_int[pattern] for pattern in seq_in])\n",
        "  dataY.append(char_to_int[seq_out])\n"
      ],
      "execution_count": 119,
      "outputs": []
    },
    {
      "cell_type": "code",
      "metadata": {
        "colab": {
          "base_uri": "https://localhost:8080/"
        },
        "id": "d6JmvPH5HLEP",
        "outputId": "521a6952-a7c4-47f5-91f7-2b327971dd78"
      },
      "source": [
        "# Running this code in the broader context will create input patterns that look like the following:\n",
        "for i in range(5):\n",
        "  print([int_to_char[val] for val in dataX[i]],'-->',int_to_char[dataY[i]])"
      ],
      "execution_count": 125,
      "outputs": [
        {
          "output_type": "stream",
          "text": [
            "['T', 'U'] --> V\n",
            "['L', 'M', 'N', 'O'] --> P\n",
            "['J', 'K', 'L', 'M'] --> N\n",
            "['N'] --> O\n",
            "['I', 'J', 'K'] --> L\n"
          ],
          "name": "stdout"
        }
      ]
    },
    {
      "cell_type": "markdown",
      "metadata": {
        "id": "vRNHE12oJ9Kl"
      },
      "source": [
        "The input sequences vary in length between 1 and max_len and therefore require zero padding. Here, we use left-hand-side (prefix) padding with the Keras built in pad_sequences() function."
      ]
    },
    {
      "cell_type": "code",
      "metadata": {
        "id": "5MRuWmTcHz9Z"
      },
      "source": [
        "X = tf.keras.preprocessing.sequence.pad_sequences(dataX, max_len, dtype='float32')"
      ],
      "execution_count": 126,
      "outputs": []
    },
    {
      "cell_type": "markdown",
      "metadata": {
        "id": "Sd7UICrGKdWF"
      },
      "source": [
        "### Reshape the dataset"
      ]
    },
    {
      "cell_type": "code",
      "metadata": {
        "colab": {
          "base_uri": "https://localhost:8080/"
        },
        "id": "PV_sbLk8KcT0",
        "outputId": "ff51c4e9-4db5-491f-c48d-2c3e905f4380"
      },
      "source": [
        "X = np.reshape(X, (X.shape[0], max_len, 1))\n",
        "\n",
        "print('Shape of input', X.shape)"
      ],
      "execution_count": 127,
      "outputs": [
        {
          "output_type": "stream",
          "text": [
            "Shape of input (1000, 5, 1)\n"
          ],
          "name": "stdout"
        }
      ]
    },
    {
      "cell_type": "markdown",
      "metadata": {
        "id": "P6sOQ8z_KwzV"
      },
      "source": [
        "### Normalize the dataset"
      ]
    },
    {
      "cell_type": "code",
      "metadata": {
        "id": "vSlZ0Xz1KsUY"
      },
      "source": [
        "X = X / float(len(alphabet))"
      ],
      "execution_count": 128,
      "outputs": []
    },
    {
      "cell_type": "markdown",
      "metadata": {
        "id": "GGLju__zK8ax"
      },
      "source": [
        "### One-hot-encode the output-var"
      ]
    },
    {
      "cell_type": "code",
      "metadata": {
        "id": "ewLyge-XK3ey"
      },
      "source": [
        "y = tf.keras.utils.to_categorical(dataY)"
      ],
      "execution_count": 129,
      "outputs": []
    },
    {
      "cell_type": "markdown",
      "metadata": {
        "id": "wODDdxvPLHfS"
      },
      "source": [
        "### Model"
      ]
    },
    {
      "cell_type": "code",
      "metadata": {
        "id": "p-fe6BfHK_-J"
      },
      "source": [
        "LSTM_with_Variable_Length_Input_to_One_Char_Output_model = tf.keras.Sequential([\n",
        "                                                                                \n",
        "                      tf.keras.layers.LSTM(units=32, input_shape=(X.shape[1], X.shape[2])),\n",
        "                      tf.keras.layers.Dense(y.shape[1], activation='softmax')\n",
        "])"
      ],
      "execution_count": 130,
      "outputs": []
    },
    {
      "cell_type": "code",
      "metadata": {
        "id": "4G32vw_XL6Ie"
      },
      "source": [
        "LSTM_with_Variable_Length_Input_to_One_Char_Output_model.compile(optimizer='adam',\n",
        "                                                                 loss='categorical_crossentropy',\n",
        "                                                                 metrics=['accuracy'])"
      ],
      "execution_count": 131,
      "outputs": []
    },
    {
      "cell_type": "code",
      "metadata": {
        "id": "2y2DRZDqMPXY"
      },
      "source": [
        "history = LSTM_with_Variable_Length_Input_to_One_Char_Output_model.fit(X, y, epochs=500, batch_size=1, verbose=0)"
      ],
      "execution_count": 132,
      "outputs": []
    },
    {
      "cell_type": "markdown",
      "metadata": {
        "id": "IYJO_xhjRAGs"
      },
      "source": [
        "### Evaluation"
      ]
    },
    {
      "cell_type": "code",
      "metadata": {
        "colab": {
          "base_uri": "https://localhost:8080/"
        },
        "id": "mKj3d4LTMYiW",
        "outputId": "496beb28-6458-4ca1-8c87-dc3cdc0b74cc"
      },
      "source": [
        "loss, accuracy = LSTM_with_Variable_Length_Input_to_One_Char_Output_model.evaluate(X, y, verbose=0)\n",
        "\n",
        "print('Loss',loss)\n",
        "print('Model Accuracy', accuracy)"
      ],
      "execution_count": 133,
      "outputs": [
        {
          "output_type": "stream",
          "text": [
            "Loss 0.10381659865379333\n",
            "Model Accuracy 0.9879999756813049\n"
          ],
          "name": "stdout"
        }
      ]
    },
    {
      "cell_type": "markdown",
      "metadata": {
        "id": "omRNr7YdRHeR"
      },
      "source": [
        "### Visualize the performance"
      ]
    },
    {
      "cell_type": "code",
      "metadata": {
        "colab": {
          "base_uri": "https://localhost:8080/",
          "height": 334
        },
        "id": "2CitKw3FMlQv",
        "outputId": "7501704e-77ff-4eef-d686-45faa0720e51"
      },
      "source": [
        "plt.figure(figsize=(16,5))\n",
        "plt.subplot(1,2,1)\n",
        "plot_graph(history.history, 'loss')\n",
        "plt.subplot(1,2,2)\n",
        "plot_graph(history.history, 'accuracy')"
      ],
      "execution_count": 134,
      "outputs": [
        {
          "output_type": "display_data",
          "data": {
            "image/png": "[encoded data removed]",
            "text/plain": [
              "<Figure size 1152x360 with 2 Axes>"
            ]
          },
          "metadata": {
            "tags": [],
            "needs_background": "light"
          }
        }
      ]
    },
    {
      "cell_type": "markdown",
      "metadata": {
        "id": "iGDwPeliRPvF"
      },
      "source": [
        "### Demonstrate some model prediction"
      ]
    },
    {
      "cell_type": "code",
      "metadata": {
        "colab": {
          "base_uri": "https://localhost:8080/"
        },
        "id": "RIu1VFfDM525",
        "outputId": "ba9d5b86-f8f2-46f0-e099-2737c69674b5"
      },
      "source": [
        "# demonstrate some model prediction\n",
        "for i in range(20):\n",
        "  pattern_index = np.random.randint(len(dataX))\n",
        "  pattern = dataX[pattern_index]\n",
        "  # zero-padding\n",
        "  x = tf.keras.preprocessing.sequence.pad_sequences([pattern], max_len, dtype='float32')\n",
        "  # reshape\n",
        "  x = np.reshape(x,(1, max_len, 1))\n",
        "  # normalize\n",
        "  x = x / float(len(alphabet))\n",
        "  prediction =  LSTM_with_Variable_Length_Input_to_One_Char_Output_model.predict(x, verbose=0)\n",
        "  index = np.argmax(prediction)\n",
        "  result = int_to_char[index]\n",
        "  seq_in = [int_to_char[val] for val in pattern]\n",
        "  print(seq_in,'-->', result)"
      ],
      "execution_count": 138,
      "outputs": [
        {
          "output_type": "stream",
          "text": [
            "['C', 'D', 'E', 'F', 'G'] --> H\n",
            "['L', 'M', 'N', 'O', 'P'] --> Q\n",
            "['I'] --> J\n",
            "['S', 'T', 'U'] --> V\n",
            "['E', 'F', 'G', 'H', 'I'] --> J\n",
            "['I', 'J'] --> K\n",
            "['D', 'E', 'F', 'G'] --> H\n",
            "['V', 'W', 'X'] --> Y\n",
            "['C', 'D'] --> E\n",
            "['U', 'V'] --> W\n",
            "['P'] --> Q\n",
            "['X'] --> Y\n",
            "['P', 'Q'] --> R\n",
            "['G', 'H', 'I', 'J'] --> K\n",
            "['B', 'C'] --> D\n",
            "['D', 'E', 'F', 'G', 'H'] --> I\n",
            "['Q', 'R', 'S'] --> T\n",
            "['L', 'M', 'N'] --> O\n",
            "['K'] --> L\n",
            "['J', 'K', 'L', 'M'] --> N\n"
          ],
          "name": "stdout"
        }
      ]
    },
    {
      "cell_type": "code",
      "metadata": {
        "id": "Pemv8pBtQVZK"
      },
      "source": [
        ""
      ],
      "execution_count": null,
      "outputs": []
    }
  ]
}