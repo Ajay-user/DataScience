{
 "cells": [
  {
   "attachments": {},
   "cell_type": "markdown",
   "metadata": {},
   "source": [
    "## Zero Inflated Models\n",
    "\n",
    "There are regression datasets that contain an unusually high amount of zeroes as the targets. This can be the case if you want to predict a count of rare events, such as \n",
    "* Defects in manufacturing\n",
    "* The amount of some natural disasters \n",
    "* The amount of crimes in some neighborhood. \n",
    "\n",
    "Usually nothing happens, meaning the target count is zero, but sometimes we actually have to do some modelling work.\n",
    "\n",
    "**The classical machine learning algorithms can have a hard time dealing with such datasets.** \n",
    "\n",
    "Take linear regression, for example: the chance of outputting an actual zero is diminishing. Sure, you can get regions where you are close to zero, but modelling an output of exacly zero is infeasible in general. The same goes for neural networks.\n",
    "\n",
    "What we can do circumvent these problems is the following: \n",
    "* Train a classifier to tell us whether the target is zero, or not.\n",
    "* Train a regressor on all samples with a non-zero target."
   ]
  },
  {
   "cell_type": "code",
   "execution_count": 124,
   "metadata": {},
   "outputs": [],
   "source": [
    "import pandas as pd\n",
    "import numpy as np\n",
    "import seaborn as sns\n",
    "import matplotlib.pyplot as plt\n",
    "\n",
    "from sklearn.preprocessing import SplineTransformer, OneHotEncoder, MinMaxScaler\n",
    "from sklearn.model_selection import TimeSeriesSplit\n",
    "\n",
    "from sklearn.model_selection import cross_val_score, cross_validate\n",
    "\n",
    "from sklearn.metrics import mean_squared_error, mean_poisson_deviance, accuracy_score\n",
    "\n",
    "from sklearn.compose import ColumnTransformer\n",
    "from sklearn.pipeline import make_pipeline\n",
    "\n",
    "from sklearn.linear_model import PoissonRegressor\n",
    "from sklearn.ensemble import RandomForestRegressor, HistGradientBoostingRegressor, HistGradientBoostingClassifier\n",
    "\n",
    "import sklego\n",
    "from sklego.meta import ZeroInflatedRegressor"
   ]
  },
  {
   "cell_type": "code",
   "execution_count": 2,
   "metadata": {},
   "outputs": [
    {
     "name": "stdout",
     "output_type": "stream",
     "text": [
      "scikit-lego VERSION 0.6.14\n"
     ]
    }
   ],
   "source": [
    "print('scikit-lego VERSION',sklego.__version__)"
   ]
  },
  {
   "attachments": {},
   "cell_type": "markdown",
   "metadata": {},
   "source": [
    "## Data\n",
    "\n",
    "#### This dataset is not zero inflated. To demonstrate the ZIP models we will artificialy inflate zeros \n",
    "\n",
    "link : https://www.kaggle.com/datasets/hmavrodiev/london-bike-sharing-dataset\n",
    "\n",
    "or you can use :\n",
    "\n",
    "<pre>\n",
    "from sklearn.datasets import fetch_openml\n",
    "\n",
    "bike_sharing = fetch_openml(\n",
    "    \"Bike_Sharing_Demand\", version=2, as_frame=True, parser=\"pandas\"\n",
    ")\n",
    "df = bike_sharing.frame\n",
    "</pre>\n",
    "\n",
    "* \"`cnt`\" - the count of a new bike shares\n",
    "* \"`t1`\" - real temperature in C\n",
    "* \"`t2`\" - temperature in C \"feels like\"\n",
    "* \"`hum`\" - humidity in percentage\n",
    "* \"`windspeed`\" - wind speed in km/h\n",
    "* \"`weathercode`\" - category of the weather\n",
    "* \"`isholiday`\" - boolean field - 1 holiday / 0 non holiday\n",
    "* \"`isweekend`\" - boolean field - 1 if the day is weekend\n",
    "* \"`season`\" - category field meteorological seasons: 0-spring ; 1-summer; 2-fall; 3-winter.\n",
    "\n",
    "\n",
    "#### **objective** : predict the future bike shares."
   ]
  },
  {
   "cell_type": "code",
   "execution_count": 3,
   "metadata": {},
   "outputs": [
    {
     "data": {
      "text/html": [
       "<div>\n",
       "<style scoped>\n",
       "    .dataframe tbody tr th:only-of-type {\n",
       "        vertical-align: middle;\n",
       "    }\n",
       "\n",
       "    .dataframe tbody tr th {\n",
       "        vertical-align: top;\n",
       "    }\n",
       "\n",
       "    .dataframe thead th {\n",
       "        text-align: right;\n",
       "    }\n",
       "</style>\n",
       "<table border=\"1\" class=\"dataframe\">\n",
       "  <thead>\n",
       "    <tr style=\"text-align: right;\">\n",
       "      <th></th>\n",
       "      <th>cnt</th>\n",
       "      <th>t1</th>\n",
       "      <th>hum</th>\n",
       "      <th>wind_speed</th>\n",
       "      <th>weather_code</th>\n",
       "      <th>is_holiday</th>\n",
       "      <th>is_weekend</th>\n",
       "      <th>season</th>\n",
       "      <th>hour</th>\n",
       "    </tr>\n",
       "  </thead>\n",
       "  <tbody>\n",
       "    <tr>\n",
       "      <th>0</th>\n",
       "      <td>182</td>\n",
       "      <td>3.0</td>\n",
       "      <td>93.0</td>\n",
       "      <td>6.0</td>\n",
       "      <td>3</td>\n",
       "      <td>0</td>\n",
       "      <td>1</td>\n",
       "      <td>3</td>\n",
       "      <td>0</td>\n",
       "    </tr>\n",
       "    <tr>\n",
       "      <th>1</th>\n",
       "      <td>138</td>\n",
       "      <td>3.0</td>\n",
       "      <td>93.0</td>\n",
       "      <td>5.0</td>\n",
       "      <td>1</td>\n",
       "      <td>0</td>\n",
       "      <td>1</td>\n",
       "      <td>3</td>\n",
       "      <td>1</td>\n",
       "    </tr>\n",
       "    <tr>\n",
       "      <th>2</th>\n",
       "      <td>134</td>\n",
       "      <td>2.5</td>\n",
       "      <td>96.5</td>\n",
       "      <td>0.0</td>\n",
       "      <td>1</td>\n",
       "      <td>0</td>\n",
       "      <td>1</td>\n",
       "      <td>3</td>\n",
       "      <td>2</td>\n",
       "    </tr>\n",
       "    <tr>\n",
       "      <th>3</th>\n",
       "      <td>72</td>\n",
       "      <td>2.0</td>\n",
       "      <td>100.0</td>\n",
       "      <td>0.0</td>\n",
       "      <td>1</td>\n",
       "      <td>0</td>\n",
       "      <td>1</td>\n",
       "      <td>3</td>\n",
       "      <td>3</td>\n",
       "    </tr>\n",
       "    <tr>\n",
       "      <th>4</th>\n",
       "      <td>47</td>\n",
       "      <td>2.0</td>\n",
       "      <td>93.0</td>\n",
       "      <td>6.5</td>\n",
       "      <td>1</td>\n",
       "      <td>0</td>\n",
       "      <td>1</td>\n",
       "      <td>3</td>\n",
       "      <td>4</td>\n",
       "    </tr>\n",
       "  </tbody>\n",
       "</table>\n",
       "</div>"
      ],
      "text/plain": [
       "   cnt   t1    hum  wind_speed  weather_code  is_holiday  is_weekend  season  \\\n",
       "0  182  3.0   93.0         6.0             3           0           1       3   \n",
       "1  138  3.0   93.0         5.0             1           0           1       3   \n",
       "2  134  2.5   96.5         0.0             1           0           1       3   \n",
       "3   72  2.0  100.0         0.0             1           0           1       3   \n",
       "4   47  2.0   93.0         6.5             1           0           1       3   \n",
       "\n",
       "   hour  \n",
       "0     0  \n",
       "1     1  \n",
       "2     2  \n",
       "3     3  \n",
       "4     4  "
      ]
     },
     "execution_count": 3,
     "metadata": {},
     "output_type": "execute_result"
    }
   ],
   "source": [
    "df = pd.read_csv('./data/london_bikes.csv')\n",
    "df.head()"
   ]
  },
  {
   "attachments": {},
   "cell_type": "markdown",
   "metadata": {},
   "source": [
    "## Features and labels"
   ]
  },
  {
   "cell_type": "code",
   "execution_count": 4,
   "metadata": {},
   "outputs": [],
   "source": [
    "y = df.pop('cnt')\n",
    "X = df"
   ]
  },
  {
   "attachments": {},
   "cell_type": "markdown",
   "metadata": {},
   "source": [
    "## Lets artificially inflate zeros "
   ]
  },
  {
   "cell_type": "code",
   "execution_count": 5,
   "metadata": {},
   "outputs": [],
   "source": [
    "y_zero_inflated = y.copy()\n",
    "y_zero_inflated[y<500] = 0"
   ]
  },
  {
   "attachments": {},
   "cell_type": "markdown",
   "metadata": {},
   "source": [
    "## Distribution of Count data"
   ]
  },
  {
   "cell_type": "code",
   "execution_count": 23,
   "metadata": {},
   "outputs": [],
   "source": [
    "fig,ax = plt.subplots(nrows=1, ncols=2, figsize=(15,4), sharey=True, constrained_layout=True)\n",
    "sns.histplot(y, bins=20, ax=ax[0]);\n",
    "sns.histplot(y_zero_inflated, bins=20, ax=ax[1], color='seagreen');\n",
    "ax[0].set(title='Count data')\n",
    "ax[1].set(title='Artificially zero inflated data')\n",
    "ax[1].patches[0].set_facecolor('salmon')\n",
    "plt.tight_layout()"
   ]
  },
  {
   "attachments": {},
   "cell_type": "markdown",
   "metadata": {},
   "source": [
    "<img src='./plots/count-data-distribution.png'>"
   ]
  },
  {
   "attachments": {},
   "cell_type": "markdown",
   "metadata": {},
   "source": [
    "## Data Preprocessing "
   ]
  },
  {
   "cell_type": "code",
   "execution_count": 61,
   "metadata": {},
   "outputs": [],
   "source": [
    "# one-hot-encode the cat feats\n",
    "cat_features = ['weather_code',\t'is_holiday','is_weekend', 'season']"
   ]
  },
  {
   "attachments": {},
   "cell_type": "markdown",
   "metadata": {},
   "source": [
    "## Periodic spline : Modeling seasonal effects\n",
    "\n",
    "* Seasonal effects can be modelled using periodic splines, which have equal function value and equal derivatives at the first and last knot.\n",
    "\n",
    "* The splines period is the distance between the first and last knot (which we specify manually, if known)\n",
    "\n",
    "* Periodic splines provide a better fit both within and outside of the range of training data given the additional information of periodicity. \n",
    "\n",
    "* Periodic splines can also be useful for naturally periodic features (such as day of the year), as the smoothness at the boundary knots prevents a jump in the transformed values (e.g. from Dec 31st to Jan 1st). \n",
    "\n",
    "* For naturally periodic features or more generally features where the period is known, it is advised to explicitly pass this information to the SplineTransformer by setting the knots manually.\n",
    "\n"
   ]
  },
  {
   "cell_type": "code",
   "execution_count": 78,
   "metadata": {},
   "outputs": [],
   "source": [
    "n_knots = 13\n",
    "period = 24\n",
    "knots = np.linspace(0, period, n_knots)[:,None]\n",
    "spline = SplineTransformer(n_knots=n_knots, knots=knots, degree=3, extrapolation='periodic')"
   ]
  },
  {
   "cell_type": "code",
   "execution_count": 90,
   "metadata": {},
   "outputs": [
    {
     "data": {
      "text/html": [
       "<div>\n",
       "<style scoped>\n",
       "    .dataframe tbody tr th:only-of-type {\n",
       "        vertical-align: middle;\n",
       "    }\n",
       "\n",
       "    .dataframe tbody tr th {\n",
       "        vertical-align: top;\n",
       "    }\n",
       "\n",
       "    .dataframe thead th {\n",
       "        text-align: right;\n",
       "    }\n",
       "</style>\n",
       "<table border=\"1\" class=\"dataframe\">\n",
       "  <thead>\n",
       "    <tr style=\"text-align: right;\">\n",
       "      <th></th>\n",
       "      <th>spline-0</th>\n",
       "      <th>spline-1</th>\n",
       "      <th>spline-2</th>\n",
       "      <th>spline-3</th>\n",
       "      <th>spline-4</th>\n",
       "      <th>spline-5</th>\n",
       "      <th>spline-6</th>\n",
       "      <th>spline-7</th>\n",
       "      <th>spline-8</th>\n",
       "      <th>spline-9</th>\n",
       "      <th>spline-10</th>\n",
       "      <th>spline-11</th>\n",
       "    </tr>\n",
       "  </thead>\n",
       "  <tbody>\n",
       "    <tr>\n",
       "      <th>0</th>\n",
       "      <td>0.166667</td>\n",
       "      <td>0.666667</td>\n",
       "      <td>0.166667</td>\n",
       "      <td>0.000000</td>\n",
       "      <td>0.000000</td>\n",
       "      <td>0.0</td>\n",
       "      <td>0.0</td>\n",
       "      <td>0.0</td>\n",
       "      <td>0.0</td>\n",
       "      <td>0.0</td>\n",
       "      <td>0.0</td>\n",
       "      <td>0.0</td>\n",
       "    </tr>\n",
       "    <tr>\n",
       "      <th>1</th>\n",
       "      <td>0.020833</td>\n",
       "      <td>0.479167</td>\n",
       "      <td>0.479167</td>\n",
       "      <td>0.020833</td>\n",
       "      <td>0.000000</td>\n",
       "      <td>0.0</td>\n",
       "      <td>0.0</td>\n",
       "      <td>0.0</td>\n",
       "      <td>0.0</td>\n",
       "      <td>0.0</td>\n",
       "      <td>0.0</td>\n",
       "      <td>0.0</td>\n",
       "    </tr>\n",
       "    <tr>\n",
       "      <th>2</th>\n",
       "      <td>0.000000</td>\n",
       "      <td>0.166667</td>\n",
       "      <td>0.666667</td>\n",
       "      <td>0.166667</td>\n",
       "      <td>0.000000</td>\n",
       "      <td>0.0</td>\n",
       "      <td>0.0</td>\n",
       "      <td>0.0</td>\n",
       "      <td>0.0</td>\n",
       "      <td>0.0</td>\n",
       "      <td>0.0</td>\n",
       "      <td>0.0</td>\n",
       "    </tr>\n",
       "    <tr>\n",
       "      <th>3</th>\n",
       "      <td>0.000000</td>\n",
       "      <td>0.020833</td>\n",
       "      <td>0.479167</td>\n",
       "      <td>0.479167</td>\n",
       "      <td>0.020833</td>\n",
       "      <td>0.0</td>\n",
       "      <td>0.0</td>\n",
       "      <td>0.0</td>\n",
       "      <td>0.0</td>\n",
       "      <td>0.0</td>\n",
       "      <td>0.0</td>\n",
       "      <td>0.0</td>\n",
       "    </tr>\n",
       "    <tr>\n",
       "      <th>4</th>\n",
       "      <td>0.000000</td>\n",
       "      <td>0.000000</td>\n",
       "      <td>0.166667</td>\n",
       "      <td>0.666667</td>\n",
       "      <td>0.166667</td>\n",
       "      <td>0.0</td>\n",
       "      <td>0.0</td>\n",
       "      <td>0.0</td>\n",
       "      <td>0.0</td>\n",
       "      <td>0.0</td>\n",
       "      <td>0.0</td>\n",
       "      <td>0.0</td>\n",
       "    </tr>\n",
       "  </tbody>\n",
       "</table>\n",
       "</div>"
      ],
      "text/plain": [
       "   spline-0  spline-1  spline-2  spline-3  spline-4  spline-5  spline-6  \\\n",
       "0  0.166667  0.666667  0.166667  0.000000  0.000000       0.0       0.0   \n",
       "1  0.020833  0.479167  0.479167  0.020833  0.000000       0.0       0.0   \n",
       "2  0.000000  0.166667  0.666667  0.166667  0.000000       0.0       0.0   \n",
       "3  0.000000  0.020833  0.479167  0.479167  0.020833       0.0       0.0   \n",
       "4  0.000000  0.000000  0.166667  0.666667  0.166667       0.0       0.0   \n",
       "\n",
       "   spline-7  spline-8  spline-9  spline-10  spline-11  \n",
       "0       0.0       0.0       0.0        0.0        0.0  \n",
       "1       0.0       0.0       0.0        0.0        0.0  \n",
       "2       0.0       0.0       0.0        0.0        0.0  \n",
       "3       0.0       0.0       0.0        0.0        0.0  \n",
       "4       0.0       0.0       0.0        0.0        0.0  "
      ]
     },
     "execution_count": 90,
     "metadata": {},
     "output_type": "execute_result"
    }
   ],
   "source": [
    "spline_features = pd.DataFrame(data=spline.fit_transform(df[['hour']]), columns=[f'spline-{i}' for i in range(12)])\n",
    "spline_features.head()"
   ]
  },
  {
   "cell_type": "code",
   "execution_count": 110,
   "metadata": {},
   "outputs": [],
   "source": [
    "for col in spline_features.columns:\n",
    "    plt.plot(df['hour'][:24], spline_features[col][:24])"
   ]
  },
  {
   "attachments": {},
   "cell_type": "markdown",
   "metadata": {},
   "source": [
    "<img src='./plots/spline-features-plot.png'>"
   ]
  },
  {
   "attachments": {},
   "cell_type": "markdown",
   "metadata": {},
   "source": [
    "## Feature Pipeline"
   ]
  },
  {
   "cell_type": "code",
   "execution_count": 98,
   "metadata": {},
   "outputs": [],
   "source": [
    "preprocess = ColumnTransformer(transformers=[\n",
    "    ('onehot', OneHotEncoder(handle_unknown='ignore'), cat_features),\n",
    "    ('cyclic', SplineTransformer(n_knots=n_knots, knots=knots, degree=3, extrapolation='periodic'), ['hour'])\n",
    "], remainder=MinMaxScaler())"
   ]
  },
  {
   "attachments": {},
   "cell_type": "markdown",
   "metadata": {},
   "source": [
    "## Model pipeline"
   ]
  },
  {
   "cell_type": "code",
   "execution_count": 99,
   "metadata": {},
   "outputs": [],
   "source": [
    "def build_pipeline(model):\n",
    "    pipe = make_pipeline(preprocess, model)\n",
    "    return pipe"
   ]
  },
  {
   "attachments": {},
   "cell_type": "markdown",
   "metadata": {},
   "source": [
    "## Cross validation split"
   ]
  },
  {
   "cell_type": "code",
   "execution_count": 100,
   "metadata": {},
   "outputs": [],
   "source": [
    "tscv = TimeSeriesSplit(n_splits=50, max_train_size=10000, test_size=336)"
   ]
  },
  {
   "attachments": {},
   "cell_type": "markdown",
   "metadata": {},
   "source": [
    "## Poisson Regression : Linear Model"
   ]
  },
  {
   "cell_type": "code",
   "execution_count": 105,
   "metadata": {},
   "outputs": [
    {
     "name": "stdout",
     "output_type": "stream",
     "text": [
      "Mean score : 193.5139292883774\n"
     ]
    }
   ],
   "source": [
    "model = make_pipeline(preprocess, PoissonRegressor(max_iter=600))\n",
    "\n",
    "score = cross_val_score(estimator=model, X=X, y=y, scoring='neg_mean_poisson_deviance', cv=tscv)\n",
    "\n",
    "print('Mean score :',-1* score.mean())\n"
   ]
  },
  {
   "attachments": {},
   "cell_type": "markdown",
   "metadata": {},
   "source": [
    "## Random Forest : Tree based Regressor"
   ]
  },
  {
   "cell_type": "code",
   "execution_count": 106,
   "metadata": {},
   "outputs": [
    {
     "name": "stdout",
     "output_type": "stream",
     "text": [
      "Mean score : 57.96441961149053\n"
     ]
    }
   ],
   "source": [
    "model = make_pipeline(preprocess, RandomForestRegressor(criterion='poisson'))\n",
    "\n",
    "score = cross_val_score(estimator=model, X=X, y=y, scoring='neg_mean_poisson_deviance', cv=tscv)\n",
    "\n",
    "print('Mean score :',-1* score.mean())\n"
   ]
  },
  {
   "attachments": {},
   "cell_type": "markdown",
   "metadata": {},
   "source": [
    "## HistGradientBoostingRegressor : BoostingRegressor"
   ]
  },
  {
   "cell_type": "code",
   "execution_count": 107,
   "metadata": {},
   "outputs": [
    {
     "name": "stdout",
     "output_type": "stream",
     "text": [
      "Mean score : 53.24384758900737\n"
     ]
    }
   ],
   "source": [
    "model = make_pipeline(preprocess, HistGradientBoostingRegressor(loss='poisson'))\n",
    "\n",
    "score = cross_val_score(estimator=model, X=X, y=y, scoring='neg_mean_poisson_deviance', cv=tscv)\n",
    "\n",
    "print('Mean score :',-1* score.mean())"
   ]
  },
  {
   "attachments": {},
   "cell_type": "markdown",
   "metadata": {},
   "source": [
    "### How will the `HistGradientBoostingRegressor` perform in a Zero Inflated dataset"
   ]
  },
  {
   "cell_type": "code",
   "execution_count": 111,
   "metadata": {},
   "outputs": [
    {
     "name": "stdout",
     "output_type": "stream",
     "text": [
      "Mean score : 120.89981599294003\n"
     ]
    }
   ],
   "source": [
    "model = make_pipeline(preprocess, HistGradientBoostingRegressor(loss='poisson'))\n",
    "\n",
    "score = cross_val_score(estimator=model, X=X, y=y_zero_inflated, scoring='neg_mean_poisson_deviance', cv=tscv)\n",
    "\n",
    "print('Mean score :',-1* score.mean())"
   ]
  },
  {
   "attachments": {},
   "cell_type": "markdown",
   "metadata": {},
   "source": [
    "### Why did the Model perform worse ?\n",
    "\n",
    "* Datasets that contain an unusually high amount of zeroes as the targets. \n",
    "* We need a model that can handle zero-inflation"
   ]
  },
  {
   "attachments": {},
   "cell_type": "markdown",
   "metadata": {},
   "source": [
    "## Zero Inflated Model\n",
    "\n",
    "#### 1. Train a classifier to tell us whether the target is zero, or not. \n",
    "\n",
    "#### 2. Train a regressor on all samples with a non-zero target.\n",
    "\n",
    "#### We are going to use scikit-lego for this task\n",
    "*   `pip install scikit-lego`\n",
    "*   `from sklego.meta import ZeroInflatedRegressor`"
   ]
  },
  {
   "cell_type": "code",
   "execution_count": 123,
   "metadata": {},
   "outputs": [],
   "source": [
    "model = ZeroInflatedRegressor(\n",
    "    classifier=HistGradientBoostingClassifier(),\n",
    "    regressor=HistGradientBoostingRegressor(loss='poisson')\n",
    ")"
   ]
  },
  {
   "cell_type": "code",
   "execution_count": 125,
   "metadata": {},
   "outputs": [],
   "source": [
    "def custom_metric(est, x, y):\n",
    "    y_pred = est.predict(x)\n",
    "    mask = y_pred>0\n",
    "    return {\n",
    "        'mean_poisson_deviance' : mean_poisson_deviance(y[mask], y_pred[mask]),\n",
    "        'accuracy_score':accuracy_score(y[~mask], y_pred[~mask])\n",
    "    }\n",
    "    "
   ]
  },
  {
   "cell_type": "code",
   "execution_count": 126,
   "metadata": {},
   "outputs": [],
   "source": [
    "score_obj = cross_validate(estimator=model, X=X, y=y_zero_inflated, scoring=custom_metric, cv=tscv)"
   ]
  },
  {
   "cell_type": "code",
   "execution_count": 128,
   "metadata": {},
   "outputs": [
    {
     "data": {
      "text/plain": [
       "dict_keys(['fit_time', 'score_time', 'test_mean_poisson_deviance', 'test_accuracy_score'])"
      ]
     },
     "execution_count": 128,
     "metadata": {},
     "output_type": "execute_result"
    }
   ],
   "source": [
    "score_obj.keys()"
   ]
  },
  {
   "cell_type": "code",
   "execution_count": 162,
   "metadata": {},
   "outputs": [],
   "source": [
    "sns.boxplot(score_obj['test_mean_poisson_deviance'], orient='h', color='seagreen')\n",
    "sns.swarmplot(score_obj['test_mean_poisson_deviance'], orient='h', color='k');\n",
    "plt.title('Mean Poisson Deviance');"
   ]
  },
  {
   "attachments": {},
   "cell_type": "markdown",
   "metadata": {},
   "source": [
    "<img src='./plots/mean-poisson-deviance.png'>"
   ]
  },
  {
   "cell_type": "code",
   "execution_count": 159,
   "metadata": {},
   "outputs": [],
   "source": [
    "sns.histplot(score_obj['test_accuracy_score'], bins=10)\n",
    "plt.title(\"Accuracy score : predicting zero's\");"
   ]
  },
  {
   "attachments": {},
   "cell_type": "markdown",
   "metadata": {},
   "source": [
    "<img src='./plots/accuracy-zero-prediction.png'>"
   ]
  },
  {
   "cell_type": "code",
   "execution_count": null,
   "metadata": {},
   "outputs": [],
   "source": []
  }
 ],
 "metadata": {
  "kernelspec": {
   "display_name": "datascience_env",
   "language": "python",
   "name": "python3"
  },
  "language_info": {
   "codemirror_mode": {
    "name": "ipython",
    "version": 3
   },
   "file_extension": ".py",
   "mimetype": "text/x-python",
   "name": "python",
   "nbconvert_exporter": "python",
   "pygments_lexer": "ipython3",
   "version": "3.10.8 (tags/v3.10.8:aaaf517, Oct 11 2022, 16:50:30) [MSC v.1933 64 bit (AMD64)]"
  },
  "orig_nbformat": 4,
  "vscode": {
   "interpreter": {
    "hash": "9dd57416d08487125cddc31714a1d5a29ab9aaf930e8420812b05ce6347e3520"
   }
  }
 },
 "nbformat": 4,
 "nbformat_minor": 2
}
