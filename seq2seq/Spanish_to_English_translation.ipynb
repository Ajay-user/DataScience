{
  "nbformat": 4,
  "nbformat_minor": 0,
  "metadata": {
    "colab": {
      "name": "Spanish to English translation.ipynb",
      "provenance": [],
      "collapsed_sections": [],
      "authorship_tag": "ABX9TyOs7ti3rcih5AmycT+xyDW0",
      "include_colab_link": true
    },
    "kernelspec": {
      "name": "python3",
      "display_name": "Python 3"
    },
    "language_info": {
      "name": "python"
    },
    "accelerator": "GPU"
  },
  "cells": [
    {
      "cell_type": "markdown",
      "metadata": {
        "id": "view-in-github",
        "colab_type": "text"
      },
      "source": [
        "<a href=\"https://colab.research.google.com/github/Ajay-user/ML-DL-RL-repo/blob/master/seq2seq/Spanish_to_English_translation.ipynb\" target=\"_parent\"><img src=\"https://colab.research.google.com/assets/colab-badge.svg\" alt=\"Open In Colab\"/></a>"
      ]
    },
    {
      "cell_type": "code",
      "source": [
        "pip install \"tensorflow-text==2.8.*\""
      ],
      "metadata": {
        "id": "hGKLdAzYvACj",
        "colab": {
          "base_uri": "https://localhost:8080/"
        },
        "outputId": "d845cf41-b67f-4374-9578-ba3e88400fb1"
      },
      "execution_count": null,
      "outputs": [
        {
          "output_type": "stream",
          "name": "stdout",
          "text": [
            "Looking in indexes: https://pypi.org/simple, https://us-python.pkg.dev/colab-wheels/public/simple/\n",
            "Collecting tensorflow-text==2.8.*\n",
            "  Downloading tensorflow_text-2.8.2-cp37-cp37m-manylinux_2_12_x86_64.manylinux2010_x86_64.whl (4.9 MB)\n",
            "\u001b[K     |████████████████████████████████| 4.9 MB 8.1 MB/s \n",
            "\u001b[?25hRequirement already satisfied: tensorflow<2.9,>=2.8.0 in /usr/local/lib/python3.7/dist-packages (from tensorflow-text==2.8.*) (2.8.0+zzzcolab20220506162203)\n",
            "Requirement already satisfied: tensorflow-hub>=0.8.0 in /usr/local/lib/python3.7/dist-packages (from tensorflow-text==2.8.*) (0.12.0)\n",
            "Requirement already satisfied: opt-einsum>=2.3.2 in /usr/local/lib/python3.7/dist-packages (from tensorflow<2.9,>=2.8.0->tensorflow-text==2.8.*) (3.3.0)\n",
            "Requirement already satisfied: keras-preprocessing>=1.1.1 in /usr/local/lib/python3.7/dist-packages (from tensorflow<2.9,>=2.8.0->tensorflow-text==2.8.*) (1.1.2)\n",
            "Requirement already satisfied: wrapt>=1.11.0 in /usr/local/lib/python3.7/dist-packages (from tensorflow<2.9,>=2.8.0->tensorflow-text==2.8.*) (1.14.1)\n",
            "Requirement already satisfied: flatbuffers>=1.12 in /usr/local/lib/python3.7/dist-packages (from tensorflow<2.9,>=2.8.0->tensorflow-text==2.8.*) (2.0)\n",
            "Requirement already satisfied: google-pasta>=0.1.1 in /usr/local/lib/python3.7/dist-packages (from tensorflow<2.9,>=2.8.0->tensorflow-text==2.8.*) (0.2.0)\n",
            "Requirement already satisfied: protobuf>=3.9.2 in /usr/local/lib/python3.7/dist-packages (from tensorflow<2.9,>=2.8.0->tensorflow-text==2.8.*) (3.17.3)\n",
            "Requirement already satisfied: grpcio<2.0,>=1.24.3 in /usr/local/lib/python3.7/dist-packages (from tensorflow<2.9,>=2.8.0->tensorflow-text==2.8.*) (1.46.1)\n",
            "Requirement already satisfied: six>=1.12.0 in /usr/local/lib/python3.7/dist-packages (from tensorflow<2.9,>=2.8.0->tensorflow-text==2.8.*) (1.15.0)\n",
            "Collecting tf-estimator-nightly==2.8.0.dev2021122109\n",
            "  Downloading tf_estimator_nightly-2.8.0.dev2021122109-py2.py3-none-any.whl (462 kB)\n",
            "\u001b[K     |████████████████████████████████| 462 kB 61.3 MB/s \n",
            "\u001b[?25hRequirement already satisfied: tensorboard<2.9,>=2.8 in /usr/local/lib/python3.7/dist-packages (from tensorflow<2.9,>=2.8.0->tensorflow-text==2.8.*) (2.8.0)\n",
            "Requirement already satisfied: libclang>=9.0.1 in /usr/local/lib/python3.7/dist-packages (from tensorflow<2.9,>=2.8.0->tensorflow-text==2.8.*) (14.0.1)\n",
            "Requirement already satisfied: tensorflow-io-gcs-filesystem>=0.23.1 in /usr/local/lib/python3.7/dist-packages (from tensorflow<2.9,>=2.8.0->tensorflow-text==2.8.*) (0.26.0)\n",
            "Requirement already satisfied: numpy>=1.20 in /usr/local/lib/python3.7/dist-packages (from tensorflow<2.9,>=2.8.0->tensorflow-text==2.8.*) (1.21.6)\n",
            "Requirement already satisfied: gast>=0.2.1 in /usr/local/lib/python3.7/dist-packages (from tensorflow<2.9,>=2.8.0->tensorflow-text==2.8.*) (0.5.3)\n",
            "Requirement already satisfied: setuptools in /usr/local/lib/python3.7/dist-packages (from tensorflow<2.9,>=2.8.0->tensorflow-text==2.8.*) (57.4.0)\n",
            "Requirement already satisfied: astunparse>=1.6.0 in /usr/local/lib/python3.7/dist-packages (from tensorflow<2.9,>=2.8.0->tensorflow-text==2.8.*) (1.6.3)\n",
            "Requirement already satisfied: absl-py>=0.4.0 in /usr/local/lib/python3.7/dist-packages (from tensorflow<2.9,>=2.8.0->tensorflow-text==2.8.*) (1.0.0)\n",
            "Requirement already satisfied: termcolor>=1.1.0 in /usr/local/lib/python3.7/dist-packages (from tensorflow<2.9,>=2.8.0->tensorflow-text==2.8.*) (1.1.0)\n",
            "Requirement already satisfied: typing-extensions>=3.6.6 in /usr/local/lib/python3.7/dist-packages (from tensorflow<2.9,>=2.8.0->tensorflow-text==2.8.*) (4.2.0)\n",
            "Requirement already satisfied: keras<2.9,>=2.8.0rc0 in /usr/local/lib/python3.7/dist-packages (from tensorflow<2.9,>=2.8.0->tensorflow-text==2.8.*) (2.8.0)\n",
            "Requirement already satisfied: h5py>=2.9.0 in /usr/local/lib/python3.7/dist-packages (from tensorflow<2.9,>=2.8.0->tensorflow-text==2.8.*) (3.1.0)\n",
            "Requirement already satisfied: wheel<1.0,>=0.23.0 in /usr/local/lib/python3.7/dist-packages (from astunparse>=1.6.0->tensorflow<2.9,>=2.8.0->tensorflow-text==2.8.*) (0.37.1)\n",
            "Requirement already satisfied: cached-property in /usr/local/lib/python3.7/dist-packages (from h5py>=2.9.0->tensorflow<2.9,>=2.8.0->tensorflow-text==2.8.*) (1.5.2)\n",
            "Requirement already satisfied: google-auth<3,>=1.6.3 in /usr/local/lib/python3.7/dist-packages (from tensorboard<2.9,>=2.8->tensorflow<2.9,>=2.8.0->tensorflow-text==2.8.*) (1.35.0)\n",
            "Requirement already satisfied: tensorboard-plugin-wit>=1.6.0 in /usr/local/lib/python3.7/dist-packages (from tensorboard<2.9,>=2.8->tensorflow<2.9,>=2.8.0->tensorflow-text==2.8.*) (1.8.1)\n",
            "Requirement already satisfied: werkzeug>=0.11.15 in /usr/local/lib/python3.7/dist-packages (from tensorboard<2.9,>=2.8->tensorflow<2.9,>=2.8.0->tensorflow-text==2.8.*) (1.0.1)\n",
            "Requirement already satisfied: markdown>=2.6.8 in /usr/local/lib/python3.7/dist-packages (from tensorboard<2.9,>=2.8->tensorflow<2.9,>=2.8.0->tensorflow-text==2.8.*) (3.3.7)\n",
            "Requirement already satisfied: tensorboard-data-server<0.7.0,>=0.6.0 in /usr/local/lib/python3.7/dist-packages (from tensorboard<2.9,>=2.8->tensorflow<2.9,>=2.8.0->tensorflow-text==2.8.*) (0.6.1)\n",
            "Requirement already satisfied: google-auth-oauthlib<0.5,>=0.4.1 in /usr/local/lib/python3.7/dist-packages (from tensorboard<2.9,>=2.8->tensorflow<2.9,>=2.8.0->tensorflow-text==2.8.*) (0.4.6)\n",
            "Requirement already satisfied: requests<3,>=2.21.0 in /usr/local/lib/python3.7/dist-packages (from tensorboard<2.9,>=2.8->tensorflow<2.9,>=2.8.0->tensorflow-text==2.8.*) (2.23.0)\n",
            "Requirement already satisfied: cachetools<5.0,>=2.0.0 in /usr/local/lib/python3.7/dist-packages (from google-auth<3,>=1.6.3->tensorboard<2.9,>=2.8->tensorflow<2.9,>=2.8.0->tensorflow-text==2.8.*) (4.2.4)\n",
            "Requirement already satisfied: rsa<5,>=3.1.4 in /usr/local/lib/python3.7/dist-packages (from google-auth<3,>=1.6.3->tensorboard<2.9,>=2.8->tensorflow<2.9,>=2.8.0->tensorflow-text==2.8.*) (4.8)\n",
            "Requirement already satisfied: pyasn1-modules>=0.2.1 in /usr/local/lib/python3.7/dist-packages (from google-auth<3,>=1.6.3->tensorboard<2.9,>=2.8->tensorflow<2.9,>=2.8.0->tensorflow-text==2.8.*) (0.2.8)\n",
            "Requirement already satisfied: requests-oauthlib>=0.7.0 in /usr/local/lib/python3.7/dist-packages (from google-auth-oauthlib<0.5,>=0.4.1->tensorboard<2.9,>=2.8->tensorflow<2.9,>=2.8.0->tensorflow-text==2.8.*) (1.3.1)\n",
            "Requirement already satisfied: importlib-metadata>=4.4 in /usr/local/lib/python3.7/dist-packages (from markdown>=2.6.8->tensorboard<2.9,>=2.8->tensorflow<2.9,>=2.8.0->tensorflow-text==2.8.*) (4.11.3)\n",
            "Requirement already satisfied: zipp>=0.5 in /usr/local/lib/python3.7/dist-packages (from importlib-metadata>=4.4->markdown>=2.6.8->tensorboard<2.9,>=2.8->tensorflow<2.9,>=2.8.0->tensorflow-text==2.8.*) (3.8.0)\n",
            "Requirement already satisfied: pyasn1<0.5.0,>=0.4.6 in /usr/local/lib/python3.7/dist-packages (from pyasn1-modules>=0.2.1->google-auth<3,>=1.6.3->tensorboard<2.9,>=2.8->tensorflow<2.9,>=2.8.0->tensorflow-text==2.8.*) (0.4.8)\n",
            "Requirement already satisfied: chardet<4,>=3.0.2 in /usr/local/lib/python3.7/dist-packages (from requests<3,>=2.21.0->tensorboard<2.9,>=2.8->tensorflow<2.9,>=2.8.0->tensorflow-text==2.8.*) (3.0.4)\n",
            "Requirement already satisfied: urllib3!=1.25.0,!=1.25.1,<1.26,>=1.21.1 in /usr/local/lib/python3.7/dist-packages (from requests<3,>=2.21.0->tensorboard<2.9,>=2.8->tensorflow<2.9,>=2.8.0->tensorflow-text==2.8.*) (1.24.3)\n",
            "Requirement already satisfied: idna<3,>=2.5 in /usr/local/lib/python3.7/dist-packages (from requests<3,>=2.21.0->tensorboard<2.9,>=2.8->tensorflow<2.9,>=2.8.0->tensorflow-text==2.8.*) (2.10)\n",
            "Requirement already satisfied: certifi>=2017.4.17 in /usr/local/lib/python3.7/dist-packages (from requests<3,>=2.21.0->tensorboard<2.9,>=2.8->tensorflow<2.9,>=2.8.0->tensorflow-text==2.8.*) (2022.5.18.1)\n",
            "Requirement already satisfied: oauthlib>=3.0.0 in /usr/local/lib/python3.7/dist-packages (from requests-oauthlib>=0.7.0->google-auth-oauthlib<0.5,>=0.4.1->tensorboard<2.9,>=2.8->tensorflow<2.9,>=2.8.0->tensorflow-text==2.8.*) (3.2.0)\n",
            "Installing collected packages: tf-estimator-nightly, tensorflow-text\n",
            "Successfully installed tensorflow-text-2.8.2 tf-estimator-nightly-2.8.0.dev2021122109\n"
          ]
        }
      ]
    },
    {
      "cell_type": "code",
      "execution_count": 247,
      "metadata": {
        "id": "ldVuPO-2t1lN"
      },
      "outputs": [],
      "source": [
        "import os\n",
        "import pathlib\n",
        "import numpy as np\n",
        "import tensorflow as tf\n",
        "import tensorflow_text as tf_text\n",
        "import matplotlib.pyplot as plt\n",
        "import seaborn as sns"
      ]
    },
    {
      "cell_type": "markdown",
      "source": [
        "## Download and prepare the dataset"
      ],
      "metadata": {
        "id": "iUhfSijyvjRA"
      }
    },
    {
      "cell_type": "code",
      "source": [
        "url='http://storage.googleapis.com/download.tensorflow.org/data/spa-eng.zip'\n",
        "directory = tf.keras.utils.get_file(origin=url, extract=True)"
      ],
      "metadata": {
        "id": "mknCU8Hlu3gg",
        "colab": {
          "base_uri": "https://localhost:8080/"
        },
        "outputId": "87baecc8-73a1-4ddf-fa0e-6bdeaa822835"
      },
      "execution_count": null,
      "outputs": [
        {
          "output_type": "stream",
          "name": "stdout",
          "text": [
            "Downloading data from http://storage.googleapis.com/download.tensorflow.org/data/spa-eng.zip\n",
            "2646016/2638744 [==============================] - 0s 0us/step\n",
            "2654208/2638744 [==============================] - 0s 0us/step\n"
          ]
        }
      ]
    },
    {
      "cell_type": "code",
      "source": [
        "data_dir = pathlib.Path(directory).parent"
      ],
      "metadata": {
        "id": "TICpOzAAwOqc"
      },
      "execution_count": null,
      "outputs": []
    },
    {
      "cell_type": "code",
      "source": [
        "[item for item in data_dir.iterdir()]"
      ],
      "metadata": {
        "colab": {
          "base_uri": "https://localhost:8080/"
        },
        "id": "3fFHNs0MxnV7",
        "outputId": "87f13bfa-5974-4826-9658-d06e44682267"
      },
      "execution_count": null,
      "outputs": [
        {
          "output_type": "execute_result",
          "data": {
            "text/plain": [
              "[PosixPath('/root/.keras/datasets/spa-eng'),\n",
              " PosixPath('/root/.keras/datasets/spa-eng.zip')]"
            ]
          },
          "metadata": {},
          "execution_count": 5
        }
      ]
    },
    {
      "cell_type": "code",
      "source": [
        "[item for item in (data_dir/'spa-eng').iterdir()]"
      ],
      "metadata": {
        "colab": {
          "base_uri": "https://localhost:8080/"
        },
        "id": "7vmiTaSswRep",
        "outputId": "a2f00194-13ff-4cad-9968-a89d59c7ff42"
      },
      "execution_count": null,
      "outputs": [
        {
          "output_type": "execute_result",
          "data": {
            "text/plain": [
              "[PosixPath('/root/.keras/datasets/spa-eng/spa.txt'),\n",
              " PosixPath('/root/.keras/datasets/spa-eng/_about.txt')]"
            ]
          },
          "metadata": {},
          "execution_count": 6
        }
      ]
    },
    {
      "cell_type": "code",
      "source": [
        "file_path = data_dir/'spa-eng/spa.txt'\n",
        "\n",
        "text = file_path.read_text(encoding='utf-8')"
      ],
      "metadata": {
        "id": "Z-AogZa_whHO"
      },
      "execution_count": null,
      "outputs": []
    },
    {
      "cell_type": "code",
      "source": [
        "text[:50]"
      ],
      "metadata": {
        "colab": {
          "base_uri": "https://localhost:8080/",
          "height": 35
        },
        "id": "mAnDqPYQyx0n",
        "outputId": "44dea385-17b7-4d8d-8666-624128cd008e"
      },
      "execution_count": null,
      "outputs": [
        {
          "output_type": "execute_result",
          "data": {
            "text/plain": [
              "'Go.\\tVe.\\nGo.\\tVete.\\nGo.\\tVaya.\\nGo.\\tVáyase.\\nHi.\\tHola.\\n'"
            ],
            "application/vnd.google.colaboratory.intrinsic+json": {
              "type": "string"
            }
          },
          "metadata": {},
          "execution_count": 8
        }
      ]
    },
    {
      "cell_type": "code",
      "source": [
        "text.splitlines()[:5]"
      ],
      "metadata": {
        "colab": {
          "base_uri": "https://localhost:8080/"
        },
        "id": "8vdeZoXzyP-t",
        "outputId": "e9ea8baa-5d2e-441a-c3cc-5dfe9f4a0a4b"
      },
      "execution_count": null,
      "outputs": [
        {
          "output_type": "execute_result",
          "data": {
            "text/plain": [
              "['Go.\\tVe.', 'Go.\\tVete.', 'Go.\\tVaya.', 'Go.\\tVáyase.', 'Hi.\\tHola.']"
            ]
          },
          "metadata": {},
          "execution_count": 9
        }
      ]
    },
    {
      "cell_type": "code",
      "source": [
        "lines = text.splitlines()\n",
        "pairs = [line.split('\\t') for line in lines]\n",
        "pairs[:10]"
      ],
      "metadata": {
        "colab": {
          "base_uri": "https://localhost:8080/"
        },
        "id": "5MTvKJ9cyan3",
        "outputId": "fd840d51-eb76-41dc-c853-f66ec7c344be"
      },
      "execution_count": null,
      "outputs": [
        {
          "output_type": "execute_result",
          "data": {
            "text/plain": [
              "[['Go.', 'Ve.'],\n",
              " ['Go.', 'Vete.'],\n",
              " ['Go.', 'Vaya.'],\n",
              " ['Go.', 'Váyase.'],\n",
              " ['Hi.', 'Hola.'],\n",
              " ['Run!', '¡Corre!'],\n",
              " ['Run.', 'Corred.'],\n",
              " ['Who?', '¿Quién?'],\n",
              " ['Fire!', '¡Fuego!'],\n",
              " ['Fire!', '¡Incendio!']]"
            ]
          },
          "metadata": {},
          "execution_count": 10
        }
      ]
    },
    {
      "cell_type": "code",
      "source": [
        "# spansih words \n",
        "inp = [inp for targ, inp in pairs]\n",
        "\n",
        "inp[:10]"
      ],
      "metadata": {
        "colab": {
          "base_uri": "https://localhost:8080/"
        },
        "id": "xay3srqmzi2h",
        "outputId": "ed15a0d4-7cd4-4d13-f241-69e0b0123d46"
      },
      "execution_count": null,
      "outputs": [
        {
          "output_type": "execute_result",
          "data": {
            "text/plain": [
              "['Ve.',\n",
              " 'Vete.',\n",
              " 'Vaya.',\n",
              " 'Váyase.',\n",
              " 'Hola.',\n",
              " '¡Corre!',\n",
              " 'Corred.',\n",
              " '¿Quién?',\n",
              " '¡Fuego!',\n",
              " '¡Incendio!']"
            ]
          },
          "metadata": {},
          "execution_count": 11
        }
      ]
    },
    {
      "cell_type": "code",
      "source": [
        "# english words\n",
        "targ = [targ for targ, inp in pairs]\n",
        "targ[:10]"
      ],
      "metadata": {
        "colab": {
          "base_uri": "https://localhost:8080/"
        },
        "id": "x9AXn95rz1ju",
        "outputId": "a3602dda-f09b-4b11-edc3-3f02079ff74b"
      },
      "execution_count": null,
      "outputs": [
        {
          "output_type": "execute_result",
          "data": {
            "text/plain": [
              "['Go.', 'Go.', 'Go.', 'Go.', 'Hi.', 'Run!', 'Run.', 'Who?', 'Fire!', 'Fire!']"
            ]
          },
          "metadata": {},
          "execution_count": 12
        }
      ]
    },
    {
      "cell_type": "code",
      "source": [
        "assert len(inp) == len(targ)\n",
        "\n",
        "len(inp)"
      ],
      "metadata": {
        "colab": {
          "base_uri": "https://localhost:8080/"
        },
        "id": "Mu0QCaic0EHv",
        "outputId": "492ccad5-eb63-45b0-c245-501f8d8d9d30"
      },
      "execution_count": null,
      "outputs": [
        {
          "output_type": "execute_result",
          "data": {
            "text/plain": [
              "118964"
            ]
          },
          "metadata": {},
          "execution_count": 13
        }
      ]
    },
    {
      "cell_type": "code",
      "source": [
        "inp[-1]"
      ],
      "metadata": {
        "colab": {
          "base_uri": "https://localhost:8080/",
          "height": 70
        },
        "id": "Mr6CUo3l0S1d",
        "outputId": "9f16fcaa-f30f-40c0-cbb6-4daef6677456"
      },
      "execution_count": null,
      "outputs": [
        {
          "output_type": "execute_result",
          "data": {
            "text/plain": [
              "'Si quieres sonar como un hablante nativo, debes estar dispuesto a practicar diciendo la misma frase una y otra vez de la misma manera en que un músico de banjo practica el mismo fraseo una y otra vez hasta que lo puedan tocar correctamente y en el tiempo esperado.'"
            ],
            "application/vnd.google.colaboratory.intrinsic+json": {
              "type": "string"
            }
          },
          "metadata": {},
          "execution_count": 14
        }
      ]
    },
    {
      "cell_type": "code",
      "source": [
        "targ[-1]"
      ],
      "metadata": {
        "colab": {
          "base_uri": "https://localhost:8080/",
          "height": 70
        },
        "id": "8c7dvDmL0v_M",
        "outputId": "6a899ac6-aee5-4b25-830c-8590f4e29cd8"
      },
      "execution_count": null,
      "outputs": [
        {
          "output_type": "execute_result",
          "data": {
            "text/plain": [
              "'If you want to sound like a native speaker, you must be willing to practice saying the same sentence over and over in the same way that banjo players practice the same phrase over and over until they can play it correctly and at the desired tempo.'"
            ],
            "application/vnd.google.colaboratory.intrinsic+json": {
              "type": "string"
            }
          },
          "metadata": {},
          "execution_count": 15
        }
      ]
    },
    {
      "cell_type": "markdown",
      "source": [
        "### Create dataset"
      ],
      "metadata": {
        "id": "Lr32NP2g07NR"
      }
    },
    {
      "cell_type": "code",
      "source": [
        "BUFFER_SIZE = len(inp)\n",
        "BATCH_SIZE = 64\n",
        "\n",
        "\n",
        "dataset = tf.data.Dataset.from_tensor_slices((inp,targ)).shuffle(BUFFER_SIZE).batch(BATCH_SIZE)"
      ],
      "metadata": {
        "id": "rgqkXHik0xYc"
      },
      "execution_count": null,
      "outputs": []
    },
    {
      "cell_type": "code",
      "source": [
        "sample_spanish_batch, sample_english_batch = next(iter(dataset))\n",
        "\n",
        "for spa, eng in zip(sample_spanish_batch[:5],sample_english_batch[:5]):\n",
        "  print('Spanish : ',spa.numpy().decode())\n",
        "  print('English : ',eng.numpy().decode())\n",
        "  print('..'*50)\n"
      ],
      "metadata": {
        "colab": {
          "base_uri": "https://localhost:8080/"
        },
        "id": "vVXczSbB1K88",
        "outputId": "73d10bd3-0603-4871-cd6a-44225b5964f2"
      },
      "execution_count": null,
      "outputs": [
        {
          "output_type": "stream",
          "name": "stdout",
          "text": [
            "Spanish :  Puedes confiar que él mantendrá su palabra.\n",
            "English :  You can trust him to keep his word.\n",
            "....................................................................................................\n",
            "Spanish :  Siguieron comiendo como si nada hubiera pasado.\n",
            "English :  They continued eating as if nothing had happened.\n",
            "....................................................................................................\n",
            "Spanish :  Ella no debería haber hecho semejante cosa.\n",
            "English :  She should not have done such a thing.\n",
            "....................................................................................................\n",
            "Spanish :  Acabo de estar en la casa de mi tío.\n",
            "English :  I've just been to my uncle's house.\n",
            "....................................................................................................\n",
            "Spanish :  Hazlo de esta manera.\n",
            "English :  Do it this way.\n",
            "....................................................................................................\n"
          ]
        }
      ]
    },
    {
      "cell_type": "markdown",
      "source": [
        "### Preprocessing the data\n",
        "\n",
        "The model is dealing with multilingual text with a limited vocabulary. So it will be important to standardize the input text.\n",
        "\n",
        "The first step is Unicode normalization to split accented characters and replace compatibility characters with their ASCII equivalents.\n",
        "\n",
        "The tensorflow_text package contains a unicode normalize operation:"
      ],
      "metadata": {
        "id": "W82YCaTx3F7D"
      }
    },
    {
      "cell_type": "code",
      "source": [
        "# Unicode normalization example\n",
        "example_text = tf.constant('¿Todavía está en casa?')\n",
        "print(example_text.numpy())\n",
        "\n",
        "# Split accecented characters.\n",
        "tf_text.normalize_utf8(example_text, normalization_form='NFKD').numpy()"
      ],
      "metadata": {
        "colab": {
          "base_uri": "https://localhost:8080/"
        },
        "id": "b7ek_iAO1ZHL",
        "outputId": "77cef235-71c1-4db9-f366-8a29a2918ae4"
      },
      "execution_count": null,
      "outputs": [
        {
          "output_type": "stream",
          "name": "stdout",
          "text": [
            "b'\\xc2\\xbfTodav\\xc3\\xada est\\xc3\\xa1 en casa?'\n"
          ]
        },
        {
          "output_type": "execute_result",
          "data": {
            "text/plain": [
              "b'\\xc2\\xbfTodavi\\xcc\\x81a esta\\xcc\\x81 en casa?'"
            ]
          },
          "metadata": {},
          "execution_count": 18
        }
      ]
    },
    {
      "cell_type": "code",
      "source": [
        "# Lowercase example\n",
        "example_text = tf.constant('¿Todavía está en casa?')\n",
        "print(example_text.numpy().decode())\n",
        "\n",
        "tf.strings.lower(example_text).numpy().decode()\n"
      ],
      "metadata": {
        "colab": {
          "base_uri": "https://localhost:8080/",
          "height": 53
        },
        "id": "Tr-fu6w63RpV",
        "outputId": "10009c68-800b-49c9-d3df-0e63eb25353f"
      },
      "execution_count": null,
      "outputs": [
        {
          "output_type": "stream",
          "name": "stdout",
          "text": [
            "¿Todavía está en casa?\n"
          ]
        },
        {
          "output_type": "execute_result",
          "data": {
            "text/plain": [
              "'¿todavía está en casa?'"
            ],
            "application/vnd.google.colaboratory.intrinsic+json": {
              "type": "string"
            }
          },
          "metadata": {},
          "execution_count": 19
        }
      ]
    },
    {
      "cell_type": "code",
      "source": [
        "# removing punctuations except [a-z ?!.¿,]\n",
        "\n",
        "import string\n",
        "\n",
        "string.punctuation+'removing punctuations except [a-z ?!.¿,]'"
      ],
      "metadata": {
        "colab": {
          "base_uri": "https://localhost:8080/",
          "height": 35
        },
        "id": "gPVudxmQ6M9r",
        "outputId": "7b218e84-98ab-4876-d335-6018eb012929"
      },
      "execution_count": null,
      "outputs": [
        {
          "output_type": "execute_result",
          "data": {
            "text/plain": [
              "'!\"#$%&\\'()*+,-./:;<=>?@[\\\\]^_`{|}~removing punctuations except [a-z ?!.¿,]'"
            ],
            "application/vnd.google.colaboratory.intrinsic+json": {
              "type": "string"
            }
          },
          "metadata": {},
          "execution_count": 20
        }
      ]
    },
    {
      "cell_type": "code",
      "source": [
        "example_text = tf.constant(string.punctuation+'removing punctuations except [a-z ?!.¿,]')\n",
        "print(example_text.numpy().decode())\n",
        "\n",
        "tf.strings.regex_replace(example_text, '[^a-z?!.¿,]', \" \").numpy().decode()"
      ],
      "metadata": {
        "colab": {
          "base_uri": "https://localhost:8080/",
          "height": 53
        },
        "id": "LtVfXNm67DOz",
        "outputId": "30ff9972-e862-4198-e84d-2b5cb25e324d"
      },
      "execution_count": null,
      "outputs": [
        {
          "output_type": "stream",
          "name": "stdout",
          "text": [
            "!\"#$%&'()*+,-./:;<=>?@[\\]^_`{|}~removing punctuations except [a-z ?!.¿,]\n"
          ]
        },
        {
          "output_type": "execute_result",
          "data": {
            "text/plain": [
              "'!          , .      ?           removing punctuations except  a z ?!.¿, '"
            ],
            "application/vnd.google.colaboratory.intrinsic+json": {
              "type": "string"
            }
          },
          "metadata": {},
          "execution_count": 21
        }
      ]
    },
    {
      "cell_type": "code",
      "source": [
        "  # Add spaces around selected punctuation.\n",
        "example_text = tf.constant('¿Todavía está en casa?')\n",
        "print(example_text.numpy().decode())\n",
        "tf.strings.regex_replace(example_text, '[?!.¿,]', r' \\0 ').numpy().decode()"
      ],
      "metadata": {
        "colab": {
          "base_uri": "https://localhost:8080/",
          "height": 53
        },
        "id": "TiJhDJ4D7t5S",
        "outputId": "acb4d837-615a-4a09-e841-7673af7976dc"
      },
      "execution_count": null,
      "outputs": [
        {
          "output_type": "stream",
          "name": "stdout",
          "text": [
            "¿Todavía está en casa?\n"
          ]
        },
        {
          "output_type": "execute_result",
          "data": {
            "text/plain": [
              "' ¿ Todavía está en casa ? '"
            ],
            "application/vnd.google.colaboratory.intrinsic+json": {
              "type": "string"
            }
          },
          "metadata": {},
          "execution_count": 22
        }
      ]
    },
    {
      "cell_type": "code",
      "source": [
        "# Strip whitespace and join START & END token\n",
        "example_text = tf.constant('¿Todavía está en casa?')\n",
        "print(example_text.numpy().decode())\n",
        "\n",
        "add_space = tf.strings.regex_replace(example_text, '[?!.¿,]', r' \\0 ')\n",
        "stripped=tf.strings.strip(add_space)\n",
        "tf.strings.reduce_join(['[START]' ,stripped, '[END]'], separator=\" \").numpy().decode()"
      ],
      "metadata": {
        "colab": {
          "base_uri": "https://localhost:8080/",
          "height": 53
        },
        "id": "x6kYkDmo8yQO",
        "outputId": "8bbb9c7c-50ed-4198-fa54-39a99c83d0c0"
      },
      "execution_count": null,
      "outputs": [
        {
          "output_type": "stream",
          "name": "stdout",
          "text": [
            "¿Todavía está en casa?\n"
          ]
        },
        {
          "output_type": "execute_result",
          "data": {
            "text/plain": [
              "'[START] ¿ Todavía está en casa ? [END]'"
            ],
            "application/vnd.google.colaboratory.intrinsic+json": {
              "type": "string"
            }
          },
          "metadata": {},
          "execution_count": 23
        }
      ]
    },
    {
      "cell_type": "code",
      "source": [
        "def tf_lower_and_split_punct(text):\n",
        "  normal = tf_text.normalize_utf8(text,'NFKD')\n",
        "  lower = tf.strings.lower(normal)\n",
        "  remove_punct = tf.strings.regex_replace(lower, '[^ a-z.?!,¿]', '')\n",
        "  add_space = tf.strings.regex_replace(remove_punct,  '[.?!,¿]', r' \\0 ')\n",
        "  stripped = tf.strings.strip(add_space)\n",
        "  return tf.strings.join(['[START]', text, '[END]'], separator=' ')"
      ],
      "metadata": {
        "id": "TPY30_rq-OSn"
      },
      "execution_count": null,
      "outputs": []
    },
    {
      "cell_type": "code",
      "source": [
        "max_vocab_size = 5000\n",
        "\n",
        "spanish_vectorizer = tf.keras.layers.TextVectorization(max_tokens=max_vocab_size, standardize=tf_lower_and_split_punct)\n",
        "english_vectorizer = tf.keras.layers.TextVectorization(max_tokens=max_vocab_size, standardize=tf_lower_and_split_punct)"
      ],
      "metadata": {
        "id": "Dk7HxvbzAebc"
      },
      "execution_count": null,
      "outputs": []
    },
    {
      "cell_type": "code",
      "source": [
        "spanish_vectorizer.adapt(inp)\n",
        "english_vectorizer.adapt(targ)"
      ],
      "metadata": {
        "id": "bJCihxohCIVl"
      },
      "execution_count": null,
      "outputs": []
    },
    {
      "cell_type": "code",
      "source": [
        "spanish_vocab = np.array(spanish_vectorizer.get_vocabulary())\n",
        "spanish_vocab[:20]"
      ],
      "metadata": {
        "colab": {
          "base_uri": "https://localhost:8080/"
        },
        "id": "NlMCSPiDCysF",
        "outputId": "2cfbfdd3-2575-4330-b52d-9cae227d62b3"
      },
      "execution_count": null,
      "outputs": [
        {
          "output_type": "execute_result",
          "data": {
            "text/plain": [
              "array(['', '[UNK]', '[START]', '[END]', 'de', 'que', 'a', 'Tom', 'la',\n",
              "       'en', 'el', 'no', 'es', 'un', 'No', 'se', 'una', 'lo', 'Él', 'por'],\n",
              "      dtype='<U19')"
            ]
          },
          "metadata": {},
          "execution_count": 27
        }
      ]
    },
    {
      "cell_type": "code",
      "source": [
        "english_vocab = np.array(english_vectorizer.get_vocabulary())\n",
        "english_vocab[:20]"
      ],
      "metadata": {
        "colab": {
          "base_uri": "https://localhost:8080/"
        },
        "id": "cU7ZdbRhC9P9",
        "outputId": "e978da26-0a31-4d14-801e-cb967d6efa0a"
      },
      "execution_count": null,
      "outputs": [
        {
          "output_type": "execute_result",
          "data": {
            "text/plain": [
              "array(['', '[UNK]', '[START]', '[END]', 'I', 'to', 'the', 'Tom', 'a',\n",
              "       'you', 'is', 'in', 'of', 'was', 'He', 'The', 'have', 'for', 'that',\n",
              "       'my'], dtype='<U17')"
            ]
          },
          "metadata": {},
          "execution_count": 28
        }
      ]
    },
    {
      "cell_type": "code",
      "source": [
        "for spa, eng in zip(sample_spanish_batch[:2],sample_english_batch[:2]):\n",
        "  print('Spanish : ',spa.numpy().decode())\n",
        "  print('Tokens : ', spanish_vectorizer(spa).numpy())\n",
        "  print('Inverse transform : ', spanish_vocab[spanish_vectorizer(spa).numpy()] )\n",
        "  print('English : ',eng.numpy().decode())\n",
        "  print('Tokens : ', english_vectorizer(eng).numpy())\n",
        "  print('Inverse transform : ', english_vocab[english_vectorizer(eng).numpy()] )\n",
        "  print('..'*50)\n"
      ],
      "metadata": {
        "colab": {
          "base_uri": "https://localhost:8080/"
        },
        "id": "a5kqZZkrDAcs",
        "outputId": "327cf9c9-d4b3-4884-93f7-21c744d487c3"
      },
      "execution_count": null,
      "outputs": [
        {
          "output_type": "stream",
          "name": "stdout",
          "text": [
            "Spanish :  Puedes confiar que él mantendrá su palabra.\n",
            "Tokens :  [   2  431 1168    5   54    1   23 1000    3]\n",
            "Inverse transform :  ['[START]' 'Puedes' 'confiar' 'que' 'él' '[UNK]' 'su' 'palabra.' '[END]']\n",
            "English :  You can trust him to keep his word.\n",
            "Tokens :  [  2  31  57 638  60   5 301  20 959   3]\n",
            "Inverse transform :  ['[START]' 'You' 'can' 'trust' 'him' 'to' 'keep' 'his' 'word.' '[END]']\n",
            "....................................................................................................\n",
            "Spanish :  Siguieron comiendo como si nada hubiera pasado.\n",
            "Tokens :  [   2    1 1293   47   63   93  482  354    3]\n",
            "Inverse transform :  ['[START]' '[UNK]' 'comiendo' 'como' 'si' 'nada' 'hubiera' 'pasado.'\n",
            " '[END]']\n",
            "English :  They continued eating as if nothing had happened.\n",
            "Tokens :  [   2   62 1836  485   54  105  231   52  506    3]\n",
            "Inverse transform :  ['[START]' 'They' 'continued' 'eating' 'as' 'if' 'nothing' 'had'\n",
            " 'happened.' '[END]']\n",
            "....................................................................................................\n"
          ]
        }
      ]
    },
    {
      "cell_type": "code",
      "source": [
        "sample_spanish_tokens = spanish_vectorizer(sample_spanish_batch)\n",
        "\n",
        "plt.subplot(121)\n",
        "plt.pcolormesh(sample_spanish_tokens)\n",
        "# The returned token IDs are zero-padded. This can easily be turned into a mask:\n",
        "plt.subplot(122)\n",
        "plt.pcolormesh(sample_spanish_tokens!=0);"
      ],
      "metadata": {
        "colab": {
          "base_uri": "https://localhost:8080/",
          "height": 265
        },
        "id": "CkQyuVslDasM",
        "outputId": "dfebc621-76b2-4954-9903-90c958b4fa5a"
      },
      "execution_count": null,
      "outputs": [
        {
          "output_type": "display_data",
          "data": {
            "text/plain": [
              "<Figure size 432x288 with 2 Axes>"
            ],
            "image/png": "[encoded data removed]"
          },
          "metadata": {
            "needs_background": "light"
          }
        }
      ]
    },
    {
      "cell_type": "markdown",
      "source": [
        "## The encoder/decoder model"
      ],
      "metadata": {
        "id": "R-G3h2jXGG8R"
      }
    },
    {
      "cell_type": "code",
      "source": [
        "embedding_dim = 256\n",
        "units = 1024"
      ],
      "metadata": {
        "id": "iVNBK5aqH6SP"
      },
      "execution_count": null,
      "outputs": []
    },
    {
      "cell_type": "markdown",
      "source": [
        "### The Encoder"
      ],
      "metadata": {
        "id": "c7PONbC2H7kP"
      }
    },
    {
      "cell_type": "code",
      "source": [
        "class Encoder(tf.keras.layers.Layer):\n",
        "  def __init__(self, input_vocab_size, embedding_dim, enc_units):\n",
        "    super(Encoder, self).__init__()\n",
        "\n",
        "    self.embedding = tf.keras.layers.Embedding(input_vocab_size, embedding_dim)\n",
        "    self.gru = tf.keras.layers.GRU(enc_units, return_sequences=True, return_state=True)\n",
        "\n",
        "  def call(self, inputs):\n",
        "    word_vectors = self.embedding(inputs)\n",
        "    sequences, state = self.gru(word_vectors)\n",
        "\n",
        "    return sequences, state"
      ],
      "metadata": {
        "id": "96pEsZaIF742"
      },
      "execution_count": null,
      "outputs": []
    },
    {
      "cell_type": "code",
      "source": [
        "# lets test the encoder\n",
        "spanish_vocab_size = spanish_vectorizer.vocabulary_size()\n",
        "\n",
        "encoder = Encoder(spanish_vocab_size, embedding_dim, units)"
      ],
      "metadata": {
        "id": "ktJ1DkpeHw_4"
      },
      "execution_count": null,
      "outputs": []
    },
    {
      "cell_type": "code",
      "source": [
        "enc_rnn_output, enc_rnn_state = encoder(sample_spanish_tokens)\n",
        "\n",
        "print('Shape of input spanish tokens', sample_spanish_tokens.shape)\n",
        "print('Shape of encoder GRU output sequences', enc_rnn_output.shape)\n",
        "print('Shape of encoder GRU state', enc_rnn_state.shape)"
      ],
      "metadata": {
        "colab": {
          "base_uri": "https://localhost:8080/"
        },
        "id": "GnZDpb-rIHdm",
        "outputId": "edd583ec-c6c7-4600-e27e-91b8c3615124"
      },
      "execution_count": null,
      "outputs": [
        {
          "output_type": "stream",
          "name": "stdout",
          "text": [
            "Shape of input spanish tokens (64, 35)\n",
            "Shape of encoder GRU output sequences (64, 35, 1024)\n",
            "Shape of encoder GRU state (64, 1024)\n"
          ]
        }
      ]
    },
    {
      "cell_type": "markdown",
      "source": [
        "### The Attention"
      ],
      "metadata": {
        "id": "XBm4nPqXxwJz"
      }
    },
    {
      "cell_type": "code",
      "source": [
        "class AttentionLayer(tf.keras.layers.Layer):\n",
        "  def __init__(self, units):\n",
        "    super(AttentionLayer, self).__init__()\n",
        "    self.w1 = tf.keras.layers.Dense(units, use_bias=False)\n",
        "    self.w2 = tf.keras.layers.Dense(units, use_bias=False)\n",
        "    self.attention = tf.keras.layers.AdditiveAttention()\n",
        "\n",
        "  def call(self, query, value, value_mask):\n",
        "    self.query = self.w1(query)\n",
        "    self.key = self.w2(value)\n",
        "    self.query_mask = tf.ones(shape=tf.shape(query)[:-1], dtype=tf.bool)\n",
        "    self.value_mask = value_mask\n",
        "    context_vector, attention_weights = self.attention(inputs=[self.query,value,self.key],\n",
        "                                                       mask=[self.query_mask, self.value_mask],\n",
        "                                                       return_attention_scores=True)\n",
        "    return context_vector, attention_weights   \n",
        "\n"
      ],
      "metadata": {
        "id": "koFwtHxSI901"
      },
      "execution_count": null,
      "outputs": []
    },
    {
      "cell_type": "code",
      "source": [
        "# lets test the attention\n",
        "# attention needs query, value and value_mask\n",
        "\n",
        "# The query: This will be generated by the decoder, later.\n",
        "# The value: This Will be the output of the encoder.\n",
        "# The mask: To exclude the padding, sample_spanish_tokens != 0\n",
        "\n",
        "\n",
        "# Later, the decoder will generate this attention query\n",
        "query_example = tf.random.normal(shape=[64,2,18])\n",
        "\n",
        "attention = AttentionLayer(units)\n",
        "\n",
        "context_vector, attention_score = attention(query_example, enc_rnn_output, sample_spanish_tokens!=0)\n",
        "\n",
        "\n",
        "print('Shape of input spanish tokens, [the mask]', sample_spanish_tokens.shape)\n",
        "print('Shape of encoder GRU output sequences, [the value]', enc_rnn_output.shape)\n",
        "print('Shape of decoder output, [the query]', query_example.shape)\n",
        "print('Shape of context vector', context_vector.shape)\n",
        "print('Shape of attention score', attention_score.shape)\n"
      ],
      "metadata": {
        "colab": {
          "base_uri": "https://localhost:8080/"
        },
        "id": "wwBw3S61ozw_",
        "outputId": "2574525c-c9bf-4bf2-c83c-15da6e31916a"
      },
      "execution_count": null,
      "outputs": [
        {
          "output_type": "stream",
          "name": "stdout",
          "text": [
            "Shape of input spanish tokens, [the mask] (64, 35)\n",
            "Shape of encoder GRU output sequences, [the value] (64, 35, 1024)\n",
            "Shape of decoder output, [the query] (64, 2, 18)\n",
            "Shape of context vector (64, 2, 1024)\n",
            "Shape of attention score (64, 2, 35)\n"
          ]
        }
      ]
    },
    {
      "cell_type": "code",
      "source": [
        "plt.figure(figsize=(12,6))\n",
        "\n",
        "plt.subplot(131)\n",
        "plt.pcolormesh(sample_spanish_tokens)\n",
        "plt.title('Spanish Tokens')\n",
        "\n",
        "plt.subplot(132)\n",
        "plt.pcolormesh(sample_spanish_tokens!=0)\n",
        "plt.title('Spanish Tokens Mask')\n",
        "\n",
        "\n",
        "plt.subplot(133)\n",
        "plt.pcolormesh(attention_score[:,0,:])\n",
        "plt.title('Attention Weights')\n",
        "\n",
        "plt.show()"
      ],
      "metadata": {
        "colab": {
          "base_uri": "https://localhost:8080/",
          "height": 390
        },
        "id": "eD3M-5IEs-dj",
        "outputId": "9b84b6df-4605-43c1-ceb4-3ff4aaf8123c"
      },
      "execution_count": null,
      "outputs": [
        {
          "output_type": "display_data",
          "data": {
            "text/plain": [
              "<Figure size 864x432 with 3 Axes>"
            ],
            "image/png": "[encoded data removed]"
          },
          "metadata": {
            "needs_background": "light"
          }
        }
      ]
    },
    {
      "cell_type": "markdown",
      "source": [
        "Because of the small-random initialization the attention weights are all close to 1/(sequence_length). If you zoom in on the weights for a single sequence, you can see that there is some small variation that the model can learn to expand, and exploit."
      ],
      "metadata": {
        "id": "6NY0Lpi0x6dR"
      }
    },
    {
      "cell_type": "code",
      "source": [
        "attention_score[1, 0].numpy()"
      ],
      "metadata": {
        "colab": {
          "base_uri": "https://localhost:8080/"
        },
        "id": "MCe4dUWHyMek",
        "outputId": "00cc1d25-f864-4835-e7f9-863e25420fe1"
      },
      "execution_count": null,
      "outputs": [
        {
          "output_type": "execute_result",
          "data": {
            "text/plain": [
              "array([0.11142167, 0.11096146, 0.11147399, 0.11246412, 0.11132331,\n",
              "       0.11090195, 0.10955202, 0.1105798 , 0.11132171, 0.        ,\n",
              "       0.        , 0.        , 0.        , 0.        , 0.        ,\n",
              "       0.        , 0.        , 0.        , 0.        , 0.        ,\n",
              "       0.        , 0.        , 0.        , 0.        , 0.        ,\n",
              "       0.        , 0.        , 0.        , 0.        , 0.        ,\n",
              "       0.        , 0.        , 0.        , 0.        , 0.        ],\n",
              "      dtype=float32)"
            ]
          },
          "metadata": {},
          "execution_count": 38
        }
      ]
    },
    {
      "cell_type": "code",
      "source": [
        "attention_slice = attention_score[1, 0].numpy()\n",
        "attention_slice = attention_slice[attention_slice != 0]\n",
        "plt.figure(figsize=(12,6))\n",
        "ax1=plt.subplot(121)\n",
        "plt.bar(np.arange(len(attention_slice)), attention_slice)\n",
        "plt.title('Attention weights')\n",
        "\n",
        "ax2=plt.subplot(122)\n",
        "plt.bar(np.arange(len(attention_slice)), attention_slice)\n",
        "top = max(ax1.get_ylim())\n",
        "plt.ylim([top*0.9, top])\n",
        "plt.title('Attention weights, zoomed')\n",
        "\n",
        "plt.suptitle('Attention weights for one sequence')\n",
        "plt.show()"
      ],
      "metadata": {
        "colab": {
          "base_uri": "https://localhost:8080/",
          "height": 417
        },
        "id": "vISA__e2t6XH",
        "outputId": "c0469748-0053-431c-8af6-b675dda50d8a"
      },
      "execution_count": null,
      "outputs": [
        {
          "output_type": "display_data",
          "data": {
            "text/plain": [
              "<Figure size 864x432 with 2 Axes>"
            ],
            "image/png": "[encoded data removed]"
          },
          "metadata": {
            "needs_background": "light"
          }
        }
      ]
    },
    {
      "cell_type": "markdown",
      "source": [
        "### The Decoder\n",
        "The decoder's job is to generate predictions for the next output token.\n",
        "\n",
        "* The decoder receives the complete encoder output.\n",
        "* It uses an RNN to keep track of what it has generated so far.\n",
        "* It uses its RNN output as the query to the attention over the encoder's output, producing the context vector.\n",
        "* It combines the RNN output and the context vector to generate the \"attention vector\".\n",
        "* It generates logit predictions for the next token based on the \"attention vector\"."
      ],
      "metadata": {
        "id": "mEmiERMT1jaQ"
      }
    },
    {
      "cell_type": "code",
      "source": [
        "\n",
        "class Decoder(tf.keras.layers.Layer):\n",
        "  def __init__(self,output_vocab_size, embedding_dim, dec_units):\n",
        "    super(Decoder, self).__init__()\n",
        "\n",
        "    self.embedding = tf.keras.layers.Embedding(output_vocab_size, embedding_dim)\n",
        "    self.gru = tf.keras.layers.GRU(dec_units, return_sequences=True, return_state=True)\n",
        "    self.attention = AttentionLayer(dec_units)\n",
        "    self.ffnn = tf.keras.layers.Dense(dec_units, activation=tf.math.tanh)\n",
        "    self.output_layers = tf.keras.layers.Dense(output_vocab_size)\n",
        "\n",
        "  def call(self, inputs_tokens, encoder_output, mask, previous_state=None):\n",
        "    word_vectors = self.embedding(inputs_tokens)\n",
        "    query_sequence, rnn_state_vector = self.gru(word_vectors, initial_state=previous_state)\n",
        "    context_vector, attention_weights = self.attention(query_sequence, encoder_output, mask)\n",
        "    context_and_meaning = tf.keras.layers.concatenate([context_vector, query_sequence])\n",
        "    attention_vector = self.ffnn(context_and_meaning)\n",
        "    logits = self.output_layers(attention_vector)\n",
        "    return logits, attention_weights, rnn_state_vector\n"
      ],
      "metadata": {
        "id": "ZMuZTnFEyOOy"
      },
      "execution_count": null,
      "outputs": []
    },
    {
      "cell_type": "code",
      "source": [
        "# lets try the decoder\n",
        "english_vocab_size = english_vectorizer.vocabulary_size()\n",
        "\n",
        "decoder = Decoder(english_vocab_size, embedding_dim, units)"
      ],
      "metadata": {
        "id": "EodjDYQD386b"
      },
      "execution_count": null,
      "outputs": []
    },
    {
      "cell_type": "markdown",
      "source": [
        "**The decoder takes 4 inputs.**\n",
        "\n",
        "new_tokens - The last token generated. Initialize the decoder with the \"[START]\" token.\n",
        "\n",
        "enc_rnn_output - Generated by the Encoder.\n",
        "\n",
        "mask - A boolean tensor indicating where tokens != 0\n",
        "\n",
        "**The state parameter in the call method of the decoder**<br>\n",
        "state - The previous state output from the decoder (the internal state of the decoder's RNN). Pass None to zero-initialize it. The original paper initializes it from the encoder's final RNN state."
      ],
      "metadata": {
        "id": "YvrdGeJqSHQ-"
      }
    },
    {
      "cell_type": "code",
      "source": [
        "sample_english_tokens = english_vectorizer(sample_english_batch)\n",
        "start_index = english_vectorizer.get_vocabulary().index('[START]')\n",
        "initial_english_token = tf.constant([[start_index]]*BATCH_SIZE)\n",
        "\n",
        "logits, dec_attention_weights, dec_rnn_state = decoder(initial_english_token,\n",
        "                                                       enc_rnn_output,\n",
        "                                                       sample_spanish_tokens!=0,\n",
        "                                                       enc_rnn_state)"
      ],
      "metadata": {
        "id": "UGRi8jtoL7li"
      },
      "execution_count": null,
      "outputs": []
    },
    {
      "cell_type": "code",
      "source": [
        "print('Shape of initial english token : ',initial_english_token.shape)\n",
        "print('Shape of spanish tokens, [mask] : ',sample_spanish_tokens.shape)\n",
        "print('Shape of encoder output, [key, value] : ',enc_rnn_output.shape)\n",
        "print('Shape of logits output by decoder : ',logits.shape)\n",
        "print('Shape of rnn state output by decoder : ',dec_rnn_state.shape)\n",
        "print('Shape of attention weights output by decoder : ',dec_attention_weights.shape)\n"
      ],
      "metadata": {
        "id": "2srHFJeuO2s6",
        "colab": {
          "base_uri": "https://localhost:8080/"
        },
        "outputId": "7cd7b7db-adc7-4fa8-84cb-c2ae76edaf6f"
      },
      "execution_count": null,
      "outputs": [
        {
          "output_type": "stream",
          "name": "stdout",
          "text": [
            "Shape of initial english token :  (64, 1)\n",
            "Shape of spanish tokens, [mask] :  (64, 35)\n",
            "Shape of encoder output, [key, value] :  (64, 35, 1024)\n",
            "Shape of logits output by decoder :  (64, 1, 5000)\n",
            "Shape of rnn state output by decoder :  (64, 1024)\n",
            "Shape of attention weights output by decoder :  (64, 1, 35)\n"
          ]
        }
      ]
    },
    {
      "cell_type": "code",
      "source": [
        "# Sample a token according to the logits\n",
        "sampled_tokens = tf.random.categorical(logits[:,0,:], num_samples=1)"
      ],
      "metadata": {
        "id": "pTbOfj_4WnMQ"
      },
      "execution_count": null,
      "outputs": []
    },
    {
      "cell_type": "code",
      "source": [
        "print('Shape of sampled tokens : ',sampled_tokens.shape)\n",
        "english_vocab[sampled_tokens][:10]"
      ],
      "metadata": {
        "colab": {
          "base_uri": "https://localhost:8080/"
        },
        "id": "dux4VvyWXIWS",
        "outputId": "cd9063d8-4b14-434e-c6eb-a6e97d9af498"
      },
      "execution_count": null,
      "outputs": [
        {
          "output_type": "stream",
          "name": "stdout",
          "text": [
            "Shape of sampled tokens :  (64, 1)\n"
          ]
        },
        {
          "output_type": "execute_result",
          "data": {
            "text/plain": [
              "array([['sisters.'],\n",
              "       ['green'],\n",
              "       ['yen'],\n",
              "       ['smelled'],\n",
              "       ['pale.'],\n",
              "       ['survive.'],\n",
              "       ['documents.'],\n",
              "       ['moving'],\n",
              "       ['much.'],\n",
              "       ['instead']], dtype='<U17')"
            ]
          },
          "metadata": {},
          "execution_count": 45
        }
      ]
    },
    {
      "cell_type": "markdown",
      "source": [
        "Now use the decoder to generate a second set of logits.\n",
        "\n",
        "* Pass the same enc_output and mask, these haven't changed.\n",
        "* Pass the sampled token as new_tokens.\n",
        "* Pass the decoder_state the decoder returned last time, so the RNN continues with a memory of where it left off last time."
      ],
      "metadata": {
        "id": "3HMCuurnXr-n"
      }
    },
    {
      "cell_type": "code",
      "source": [
        "logits, dec_attention_weights, dec_rnn_state = decoder(sampled_tokens,\n",
        "                                                       enc_rnn_output,\n",
        "                                                       sample_spanish_tokens!=0,\n",
        "                                                       dec_rnn_state)"
      ],
      "metadata": {
        "id": "2oP85izDXNFa"
      },
      "execution_count": null,
      "outputs": []
    },
    {
      "cell_type": "code",
      "source": [
        "# Sample a token according to the logits\n",
        "sampled_tokens = tf.random.categorical(logits[:,0,:], num_samples=1)\n",
        "print('Shape of sampled tokens : ',sampled_tokens.shape)\n",
        "\n",
        "english_vocab[sampled_tokens][:10]"
      ],
      "metadata": {
        "colab": {
          "base_uri": "https://localhost:8080/"
        },
        "id": "J617PA0OYYIX",
        "outputId": "58552e30-1352-45e8-a0c8-4cb79feb4d88"
      },
      "execution_count": null,
      "outputs": [
        {
          "output_type": "stream",
          "name": "stdout",
          "text": [
            "Shape of sampled tokens :  (64, 1)\n"
          ]
        },
        {
          "output_type": "execute_result",
          "data": {
            "text/plain": [
              "array([['fired'],\n",
              "       ['flight'],\n",
              "       ['else'],\n",
              "       ['wallet'],\n",
              "       ['sister'],\n",
              "       ['attacked'],\n",
              "       ['shelf.'],\n",
              "       ['loan'],\n",
              "       ['sight'],\n",
              "       ['caught.']], dtype='<U17')"
            ]
          },
          "metadata": {},
          "execution_count": 47
        }
      ]
    },
    {
      "cell_type": "markdown",
      "source": [
        "## Training the model\n",
        "Now that you have all the model components, it's time to start training the model. You'll need:\n",
        "\n",
        "* A loss function and optimizer to perform the optimization.\n",
        "* A training step function defining how to update the model for each input/target batch.\n",
        "* A training loop to drive the training and save checkpoints."
      ],
      "metadata": {
        "id": "rBHIkghMY6eb"
      }
    },
    {
      "cell_type": "markdown",
      "source": [
        "### Loss function"
      ],
      "metadata": {
        "id": "mSwhw5hUajyt"
      }
    },
    {
      "cell_type": "code",
      "source": [
        "class MaskedLoss(tf.keras.losses.Loss):\n",
        "  def __init__(self,):\n",
        "    super(MaskedLoss, self).__init__()\n",
        "    self.name='Masked loss'\n",
        "    self.loss_fn = tf.keras.losses.SparseCategoricalCrossentropy(from_logits=True, reduction='none')\n",
        "\n",
        "  def call(self, y_true, y_preds):\n",
        "    loss = self.loss_fn(y_true, y_preds)\n",
        "    mask = tf.cast(y_true!=0, dtype=tf.float32)\n",
        "    loss = loss*mask\n",
        "    return tf.reduce_sum(loss)\n"
      ],
      "metadata": {
        "id": "boZ7zpa0YngW"
      },
      "execution_count": null,
      "outputs": []
    },
    {
      "cell_type": "markdown",
      "source": [
        "### Implement the training step\n",
        "\n",
        "Here the `train_step` method is a wrapper around the `_train_step` implementation which will come later. \n",
        "\n",
        "This wrapper includes a switch to turn on and off `tf.function` compilation, to make debugging easier."
      ],
      "metadata": {
        "id": "z2xENilfey_B"
      }
    },
    {
      "cell_type": "code",
      "source": [
        "class TrainTranslator(tf.keras.Model):\n",
        "  def __init__(self, spanish_vectorizer, english_vectorizer, embedding_dim, units, use_tf_function=True):\n",
        "    super(TrainTranslator, self).__init__()\n",
        "    self.spanish_vectorizer=spanish_vectorizer\n",
        "    self.english_vectorizer=english_vectorizer\n",
        "    self.embedding_dim = embedding_dim\n",
        "    self.units = units\n",
        "    self.use_tf_function = use_tf_function\n",
        "\n",
        "    self.encoder = Encoder(spanish_vectorizer.vocabulary_size(), embedding_dim, units)\n",
        "    self.decoder = Decoder(english_vectorizer.vocabulary_size(), embedding_dim, units)\n",
        "\n",
        "\n",
        "  def train_step(self, inputs):\n",
        "    if self.use_tf_function:\n",
        "      return self._tf_train_step(inputs)\n",
        "    else:\n",
        "      return self._train_step(inputs)\n",
        "  "
      ],
      "metadata": {
        "id": "vfUjo5jTcTUc"
      },
      "execution_count": null,
      "outputs": []
    },
    {
      "cell_type": "markdown",
      "source": [
        "**Overall the implementation for the Model.train_step method is as follows:**\n",
        "\n",
        "* Receive a batch of `input_text`, `target_text` from the `tf.data.Dataset`.\n",
        "* Convert those raw text inputs to token-embeddings and masks.\n",
        "* Run the encoder on the input_tokens to get the encoder_output and encoder_state.\n",
        "* Initialize the decoder state and loss.\n",
        "* Loop over the target_tokens:\n",
        "* Run the decoder one step at a time.\n",
        "* Calculate the loss for each step.\n",
        "* Accumulate the average loss.\n",
        "* Calculate the gradient of the loss and use the optimizer to apply updates to the model's `trainable_variables`."
      ],
      "metadata": {
        "id": "UqJ-8HsLkj-D"
      }
    },
    {
      "cell_type": "markdown",
      "source": [
        "#### _train_step"
      ],
      "metadata": {
        "id": "I5QVmvkf_CJM"
      }
    },
    {
      "cell_type": "code",
      "source": [
        "def _train_step(self, inputs):\n",
        "  spanish, english = inputs\n",
        "\n",
        "  spanish_tokens = self.spanish_vectorizer(spanish)\n",
        "  spanish_mask = spanish_tokens!=0\n",
        "  english_tokens = self.english_vectorizer(english)\n",
        "  english_mask = english_tokens!=0\n",
        "\n",
        "  max_english_length = tf.shape(english_tokens)[1]\n",
        "\n",
        "  # Gradient tape\n",
        "  with tf.GradientTape() as tape:\n",
        "    # encode the spanish words\n",
        "    enc_rnn_output, enc_rnn_state = self.encoder(spanish_tokens)\n",
        "    # initialize the decoder state\n",
        "    dec_rnn_state = enc_rnn_state\n",
        "    # initialize the loss-fn\n",
        "    loss = tf.constant(0.0)\n",
        "\n",
        "    for t in tf.range(max_english_length-1):\n",
        "      # Pass in two tokens from the target sequence (ENGLISH): \n",
        "      # 1. The current input to the decoder.\n",
        "      # 2. The target for the decoder's next prediction.\n",
        "      new_tokens = english_tokens[:,t:t+2]\n",
        "      step_loss, dec_rnn_state = self._loop_step(new_tokens, enc_rnn_output, spanish_mask, dec_rnn_state)\n",
        "\n",
        "      loss = loss + step_loss\n",
        "    \n",
        "    # Average the loss over all non padding tokens.\n",
        "    average_loss = loss/tf.reduce_sum( tf.cast(english_mask, dtype=tf.float32))\n",
        "    # trainable variables\n",
        "    variables = self.trainable_variables\n",
        "    # gradients\n",
        "    gradients = tape.gradient(average_loss, variables)\n",
        "    # Apply an optimization step\n",
        "    self.optimizer.apply_gradients(zip(gradients, variables))\n",
        "    \n",
        "    # Return a dict mapping metric names to current value\n",
        "    return {'batch_loss':average_loss}\n",
        "\n",
        "\n",
        "\n",
        "TrainTranslator._train_step = _train_step"
      ],
      "metadata": {
        "id": "2Kg3GPzfiMgC"
      },
      "execution_count": null,
      "outputs": []
    },
    {
      "cell_type": "markdown",
      "source": [
        "#### _loop_step"
      ],
      "metadata": {
        "id": "RBjwzhSu--gc"
      }
    },
    {
      "cell_type": "code",
      "source": [
        "def _loop_step(self, new_tokens, enc_rnn_output, spanish_mask, dec_rnn_state):\n",
        "  inp_token, target_token = new_tokens[:,0:1], new_tokens[:,1:2]\n",
        "  # decoder\n",
        "  logits, attention_weights, dec_rnn_state = self.decoder(inp_token,\n",
        "                                                          enc_rnn_output,\n",
        "                                                          spanish_mask,\n",
        "                                                          dec_rnn_state )\n",
        "  # loss calulation\n",
        "  step_loss = self.loss(target_token, logits)\n",
        "  \n",
        "  return step_loss, dec_rnn_state\n",
        "\n",
        "\n",
        "\n",
        "TrainTranslator._loop_step = _loop_step\n"
      ],
      "metadata": {
        "id": "93DuYLgAl1uZ"
      },
      "execution_count": null,
      "outputs": []
    },
    {
      "cell_type": "markdown",
      "source": [
        "###  Test the training step"
      ],
      "metadata": {
        "id": "XjpvL8ohAwnX"
      }
    },
    {
      "cell_type": "code",
      "source": [
        "translator = TrainTranslator(spanish_vectorizer,\n",
        "                             english_vectorizer,\n",
        "                             embedding_dim,\n",
        "                             units,\n",
        "                             use_tf_function=False)\n",
        "\n",
        "# compile the model\n",
        "translator.compile(optimizer='Adam', loss=MaskedLoss())"
      ],
      "metadata": {
        "id": "W0hsS7XY_68M"
      },
      "execution_count": null,
      "outputs": []
    },
    {
      "cell_type": "code",
      "source": [
        "# lets see the result \n",
        "# -- For a text model like this the loss should start near:np.log(output_text_processor.vocabulary_size())\n",
        "\n",
        "np.log(english_vectorizer.vocabulary_size())"
      ],
      "metadata": {
        "colab": {
          "base_uri": "https://localhost:8080/"
        },
        "id": "KRLxx8m8BDLB",
        "outputId": "747f1e40-5179-4f2b-8f5c-590e0d01d752"
      },
      "execution_count": null,
      "outputs": [
        {
          "output_type": "execute_result",
          "data": {
            "text/plain": [
              "8.517193191416238"
            ]
          },
          "metadata": {},
          "execution_count": 53
        }
      ]
    },
    {
      "cell_type": "code",
      "source": [
        "%%time\n",
        "for i in range(10):\n",
        "  print(translator.train_step([sample_spanish_batch, sample_english_batch]))"
      ],
      "metadata": {
        "colab": {
          "base_uri": "https://localhost:8080/"
        },
        "id": "RJ2Vx3m6OyW8",
        "outputId": "e4ae1a46-9ea6-4d3b-e936-85948064fa03"
      },
      "execution_count": null,
      "outputs": [
        {
          "output_type": "stream",
          "name": "stdout",
          "text": [
            "{'batch_loss': <tf.Tensor: shape=(), dtype=float32, numpy=7.5075827>}\n",
            "{'batch_loss': <tf.Tensor: shape=(), dtype=float32, numpy=7.479778>}\n",
            "{'batch_loss': <tf.Tensor: shape=(), dtype=float32, numpy=7.4254994>}\n",
            "{'batch_loss': <tf.Tensor: shape=(), dtype=float32, numpy=7.2594533>}\n",
            "{'batch_loss': <tf.Tensor: shape=(), dtype=float32, numpy=6.574415>}\n",
            "{'batch_loss': <tf.Tensor: shape=(), dtype=float32, numpy=5.8808026>}\n",
            "{'batch_loss': <tf.Tensor: shape=(), dtype=float32, numpy=4.70702>}\n",
            "{'batch_loss': <tf.Tensor: shape=(), dtype=float32, numpy=4.6517954>}\n",
            "{'batch_loss': <tf.Tensor: shape=(), dtype=float32, numpy=4.475112>}\n",
            "{'batch_loss': <tf.Tensor: shape=(), dtype=float32, numpy=4.3173156>}\n",
            "CPU times: user 9.35 s, sys: 181 ms, total: 9.53 s\n",
            "Wall time: 9.72 s\n"
          ]
        }
      ]
    },
    {
      "cell_type": "markdown",
      "source": [
        "### tf.function wrapper\n",
        "\n",
        "While it's easier to debug without a `tf.function` it does give a performance boost.\n",
        "\n",
        " So now that the `_train_step` method is working, try the `tf.function` wrapped `_tf_train_step`, to maximize performance while training:"
      ],
      "metadata": {
        "id": "6AbYfdUuH7oR"
      }
    },
    {
      "cell_type": "code",
      "source": [
        "@tf.function(input_signature=[[tf.TensorSpec(dtype=tf.string, shape=[None]),\n",
        "                               tf.TensorSpec(dtype=tf.string, shape=[None])]])\n",
        "def _tf_train_step(self, inputs):\n",
        "  return self._train_step(inputs)\n",
        "\n",
        "\n",
        "TrainTranslator._tf_train_step= _tf_train_step"
      ],
      "metadata": {
        "id": "T_2ywvRgH0xT"
      },
      "execution_count": null,
      "outputs": []
    },
    {
      "cell_type": "code",
      "source": [
        "%%time\n",
        "translator.use_tf_function=True\n",
        "\n",
        "translator.train_step([sample_spanish_batch, sample_english_batch])"
      ],
      "metadata": {
        "colab": {
          "base_uri": "https://localhost:8080/"
        },
        "id": "ocQ7LhyhJEXY",
        "outputId": "cccb5c63-2685-40ca-a55d-2b9deb9c9568"
      },
      "execution_count": null,
      "outputs": [
        {
          "output_type": "stream",
          "name": "stdout",
          "text": [
            "CPU times: user 4.44 s, sys: 189 ms, total: 4.63 s\n",
            "Wall time: 4.3 s\n"
          ]
        }
      ]
    },
    {
      "cell_type": "code",
      "source": [
        "%%time\n",
        "for i in range(10):\n",
        "  print(translator.train_step([sample_spanish_batch, sample_english_batch]))"
      ],
      "metadata": {
        "colab": {
          "base_uri": "https://localhost:8080/"
        },
        "id": "wm33rikiJ8Vm",
        "outputId": "3a5d7d0b-ef72-43da-e7c4-7923e177bbb0"
      },
      "execution_count": null,
      "outputs": [
        {
          "output_type": "stream",
          "name": "stdout",
          "text": [
            "{'batch_loss': <tf.Tensor: shape=(), dtype=float32, numpy=4.2445135>}\n",
            "{'batch_loss': <tf.Tensor: shape=(), dtype=float32, numpy=4.2208033>}\n",
            "{'batch_loss': <tf.Tensor: shape=(), dtype=float32, numpy=4.1478405>}\n",
            "{'batch_loss': <tf.Tensor: shape=(), dtype=float32, numpy=4.045743>}\n",
            "{'batch_loss': <tf.Tensor: shape=(), dtype=float32, numpy=3.9668994>}\n",
            "{'batch_loss': <tf.Tensor: shape=(), dtype=float32, numpy=3.9288094>}\n",
            "{'batch_loss': <tf.Tensor: shape=(), dtype=float32, numpy=3.8986807>}\n",
            "{'batch_loss': <tf.Tensor: shape=(), dtype=float32, numpy=3.8613176>}\n",
            "{'batch_loss': <tf.Tensor: shape=(), dtype=float32, numpy=3.8185515>}\n",
            "{'batch_loss': <tf.Tensor: shape=(), dtype=float32, numpy=3.7805922>}\n",
            "CPU times: user 7.89 s, sys: 741 ms, total: 8.63 s\n",
            "Wall time: 5.24 s\n"
          ]
        }
      ]
    },
    {
      "cell_type": "markdown",
      "source": [
        "### history callback"
      ],
      "metadata": {
        "id": "RLgH3shclCJM"
      }
    },
    {
      "cell_type": "code",
      "source": [
        "class BatchLoss(tf.keras.callbacks.Callback):\n",
        "  def __init__(self, key):\n",
        "    super(BatchLoss, self).__init__()\n",
        "    self.key = key\n",
        "    self.logs = []\n",
        "  \n",
        "  def on_train_batch_end(self, n , logs):\n",
        "    self.logs.append(logs[self.key])\n",
        "\n",
        "\n",
        "\n",
        "batch_loss = BatchLoss('batch_loss')"
      ],
      "metadata": {
        "id": "gPqmVSFIToBg"
      },
      "execution_count": null,
      "outputs": []
    },
    {
      "cell_type": "markdown",
      "source": [
        "### Training\n",
        "\n",
        "build a fresh copy of the model to train from scratch:"
      ],
      "metadata": {
        "id": "jcZ7BNp2mDS9"
      }
    },
    {
      "cell_type": "code",
      "source": [
        "train_translator = TrainTranslator(spanish_vectorizer,\n",
        "                             english_vectorizer,\n",
        "                             embedding_dim,\n",
        "                             units,\n",
        "                             use_tf_function=True)\n",
        "\n",
        "# compile the model\n",
        "train_translator.compile(optimizer='Adam', loss=MaskedLoss())"
      ],
      "metadata": {
        "id": "yUGW88PslmPQ"
      },
      "execution_count": null,
      "outputs": []
    },
    {
      "cell_type": "code",
      "source": [
        "%%time\n",
        "history = train_translator.fit(dataset, epochs=3, callbacks=[batch_loss])"
      ],
      "metadata": {
        "colab": {
          "base_uri": "https://localhost:8080/"
        },
        "id": "Y8Bavup_mS90",
        "outputId": "f3493d52-2b67-4990-b472-92adedd0a7db"
      },
      "execution_count": null,
      "outputs": [
        {
          "output_type": "stream",
          "name": "stdout",
          "text": [
            "Epoch 1/3\n",
            "1859/1859 [==============================] - 481s 255ms/step - batch_loss: 2.3553\n",
            "Epoch 2/3\n",
            "1859/1859 [==============================] - 461s 248ms/step - batch_loss: 1.2813\n",
            "Epoch 3/3\n",
            "1859/1859 [==============================] - 457s 246ms/step - batch_loss: 1.0290\n",
            "CPU times: user 35min 15s, sys: 3min 43s, total: 38min 59s\n",
            "Wall time: 24min 27s\n"
          ]
        }
      ]
    },
    {
      "cell_type": "code",
      "source": [
        "plt.plot(batch_loss.logs)\n",
        "plt.ylim([0, 3])\n",
        "plt.xlabel('Batch #')\n",
        "plt.ylabel('CE/token')"
      ],
      "metadata": {
        "colab": {
          "base_uri": "https://localhost:8080/",
          "height": 300
        },
        "id": "IQw55rLMy3AK",
        "outputId": "a958edb8-dc31-4ccc-b52d-f5bb83e7663a"
      },
      "execution_count": null,
      "outputs": [
        {
          "output_type": "execute_result",
          "data": {
            "text/plain": [
              "Text(0, 0.5, 'CE/token')"
            ]
          },
          "metadata": {},
          "execution_count": 61
        },
        {
          "output_type": "display_data",
          "data": {
            "text/plain": [
              "<Figure size 432x288 with 1 Axes>"
            ],
            "image/png": "[encoded data removed]"
          },
          "metadata": {
            "needs_background": "light"
          }
        }
      ]
    },
    {
      "cell_type": "markdown",
      "source": [
        "## Translate\n",
        "Now that the model is trained, implement a function to execute the full text => text translation.\n",
        "\n",
        "\n",
        "Overall this is similar to the training loop, except that the input to the decoder at each time step is a sample from the decoder's last prediction."
      ],
      "metadata": {
        "id": "vsE_zl61yEio"
      }
    },
    {
      "cell_type": "code",
      "source": [
        "class Translate(tf.Module):\n",
        "  def __init__(self, spanish_vectorizer, english_vectorizer, encoder, decoder):\n",
        "    self.encoder = encoder\n",
        "    self.decoder = decoder\n",
        "    self.spanish_vectorizer = spanish_vectorizer\n",
        "    self.english_vectorizer = english_vectorizer\n",
        "    \n",
        "    self.id_to_string = tf.keras.layers.StringLookup(vocabulary=english_vectorizer.get_vocabulary(),\n",
        "                                                     mask_token='', \n",
        "                                                     invert=True)\n",
        "    \n",
        "    self.string_to_id = tf.keras.layers.StringLookup(vocabulary=english_vectorizer.get_vocabulary(),\n",
        "                                                     mask_token='')\n",
        "    \n",
        "    to_mask = self.string_to_id(['', '[UNK]', '[START]'])\n",
        "    token_mask = np.zeros(shape=len(english_vectorizer.get_vocabulary()), dtype=bool)\n",
        "    token_mask[to_mask.numpy()]=True\n",
        "    self.token_mask = token_mask\n",
        "\n",
        "    self.start_token = self.string_to_id('[START]')\n",
        "    self.end_token = self.string_to_id('[END]')\n",
        "\n"
      ],
      "metadata": {
        "id": "oyswL30cy7ka"
      },
      "execution_count": 287,
      "outputs": []
    },
    {
      "cell_type": "code",
      "source": [
        "# instantization\n",
        "translator = Translate(spanish_vectorizer, english_vectorizer,\n",
        "                       train_translator.encoder, train_translator.decoder)"
      ],
      "metadata": {
        "id": "JbLK3M6N88pB"
      },
      "execution_count": 288,
      "outputs": []
    },
    {
      "cell_type": "markdown",
      "source": [
        "### Convert token IDs to text"
      ],
      "metadata": {
        "id": "XoIDCQ25Br2a"
      }
    },
    {
      "cell_type": "code",
      "source": [
        "# Convert token IDs to text\n",
        "def tokens_to_text(self, tokens):\n",
        "  text = self.id_to_string(tokens)\n",
        "  text = tf.strings.reduce_join(text, separator=' ', axis=-1)\n",
        "  return tf.strings.strip(text)\n",
        "\n",
        "Translate.tokens_to_text = tokens_to_text"
      ],
      "metadata": {
        "id": "-isxcQfY9QeP"
      },
      "execution_count": 289,
      "outputs": []
    },
    {
      "cell_type": "code",
      "source": [
        "# lets test this \n",
        "\n",
        "# shape of tokens = [batch, n]\n",
        "\n",
        "example_tokens = tf.random.uniform(shape=[5,2], maxval=english_vectorizer.vocabulary_size(), dtype=tf.int32)\n",
        "\n",
        "translator.tokens_to_text(example_tokens).numpy()"
      ],
      "metadata": {
        "id": "VW0eeyCm9QX3",
        "colab": {
          "base_uri": "https://localhost:8080/"
        },
        "outputId": "69915616-9fce-4591-f3a8-1589d5215928"
      },
      "execution_count": 290,
      "outputs": [
        {
          "output_type": "execute_result",
          "data": {
            "text/plain": [
              "array([b'classmates. covered', b'granted smiled.', b'painting. kids?',\n",
              "       b'drop 30', b'gun scream.'], dtype=object)"
            ]
          },
          "metadata": {},
          "execution_count": 290
        }
      ]
    },
    {
      "cell_type": "markdown",
      "source": [
        "### Sample from logits"
      ],
      "metadata": {
        "id": "_ng3Ki5jBtvV"
      }
    },
    {
      "cell_type": "code",
      "source": [
        "def sample(self, logits, temperature):\n",
        "  mask = self.token_mask[tf.newaxis, tf.newaxis, :]\n",
        "  logits = tf.where(mask, -np.inf, logits)\n",
        "\n",
        "  if temperature == 0.0:\n",
        "    return tf.argmax(logits, axis=-1)\n",
        "  else:\n",
        "    logits = logits/temperature\n",
        "    logits = tf.squeeze(logits, axis=1)\n",
        "    return tf.random.categorical(logits, num_samples=1)\n",
        "  \n",
        "Translate.sample = sample"
      ],
      "metadata": {
        "id": "Y_39o891AxFL"
      },
      "execution_count": 291,
      "outputs": []
    },
    {
      "cell_type": "code",
      "source": [
        "# lets test this \n",
        "# shape of logits [batch, query, vocab-size]\n",
        "example_logits = tf.random.normal(shape=[5, 1, 5000])\n",
        "print('tempearature=0',translator.sample(example_logits, temperature=0))\n",
        "print('tempearature=1',translator.sample(example_logits, temperature=1))\n",
        "print('tempearature=2',translator.sample(example_logits, temperature=2))"
      ],
      "metadata": {
        "colab": {
          "base_uri": "https://localhost:8080/"
        },
        "id": "BXlKiFjVAxBg",
        "outputId": "fefff74d-b6a6-4022-f7ca-14cebd63fa96"
      },
      "execution_count": 292,
      "outputs": [
        {
          "output_type": "stream",
          "name": "stdout",
          "text": [
            "tempearature=0 tf.Tensor(\n",
            "[[1034]\n",
            " [1027]\n",
            " [ 716]\n",
            " [3412]\n",
            " [2206]], shape=(5, 1), dtype=int64)\n",
            "tempearature=1 tf.Tensor(\n",
            "[[3762]\n",
            " [2718]\n",
            " [4019]\n",
            " [ 117]\n",
            " [1826]], shape=(5, 1), dtype=int64)\n",
            "tempearature=2 tf.Tensor(\n",
            "[[4775]\n",
            " [3739]\n",
            " [4709]\n",
            " [3737]\n",
            " [4926]], shape=(5, 1), dtype=int64)\n"
          ]
        }
      ]
    },
    {
      "cell_type": "markdown",
      "source": [
        "### Implement the translation loop\n",
        "\n",
        "This implementation statically unrolls the graph out to max_length iterations. This is okay with eager execution in python."
      ],
      "metadata": {
        "id": "K4oMaWP9Ex5w"
      }
    },
    {
      "cell_type": "code",
      "source": [
        "def translate_unrolled(self, input_text, max_length=50, temperature=1.0):\n",
        "\n",
        "  spanish_tokens = self.spanish_vectorizer(input_text)\n",
        "  spanish_mask = spanish_tokens!=0\n",
        "\n",
        "  enc_rnn_output, enc_state = self.encoder(spanish_tokens)\n",
        "\n",
        "  # initialize the decoder state\n",
        "  dec_state = enc_state\n",
        "\n",
        "  # initialize the new tokens with '[START]' token_id\n",
        "  batch_size = tf.shape(input_text)[0]\n",
        "  new_tokens = tf.fill([batch_size, 1], self.start_token)\n",
        "\n",
        "  done = tf.zeros([batch_size, 1], dtype=tf.bool)\n",
        "\n",
        "  result_tokens, attention_scores = [], []\n",
        "\n",
        "  # loop\n",
        "  for i in range(max_length):\n",
        "    # inputs_tokens, encoder_output, mask, previous_state\n",
        "    logits, attention_weights, dec_state = self.decoder(new_tokens,\n",
        "                                                        enc_rnn_output,\n",
        "                                                        spanish_mask,\n",
        "                                                        dec_state)\n",
        "    \n",
        "    new_tokens = self.sample(logits, temperature)\n",
        "\n",
        "    done = done | (new_tokens==self.end_token)\n",
        "    new_tokens = tf.where(done, tf.constant(0, dtype=tf.int64), new_tokens)\n",
        "\n",
        "    result_tokens.append(new_tokens)\n",
        "    attention_scores.append(attention_weights)\n",
        "\n",
        "    if tf.executing_eagerly() and tf.reduce_all(done):\n",
        "      break\n",
        "\n",
        "  \n",
        "  # now lets convert id to text\n",
        "  result_tokens = tf.concat(result_tokens, axis=-1)\n",
        "  text_translation = self.tokens_to_text(result_tokens)\n",
        "\n",
        "  # concat attention weights [ TensorShape([64, 1, 35]), TensorShape([64, 1, 35]) , ... ]\n",
        "  # ex : [ TensorShape([64, 1, 35]), .... ] ==> TensorShape([64, i, 35])\n",
        "  attention_scores = tf.concat(attention_scores, axis=1)\n",
        "\n",
        "  return text_translation, attention_scores\n",
        "\n",
        "\n",
        "Translate.translate_unrolled = translate_unrolled"
      ],
      "metadata": {
        "id": "bvO85cfkEz6E"
      },
      "execution_count": 293,
      "outputs": []
    },
    {
      "cell_type": "markdown",
      "source": [
        "### Running on a simple input:"
      ],
      "metadata": {
        "id": "8sdWaAbKN47N"
      }
    },
    {
      "cell_type": "code",
      "source": [
        "\n",
        "%%time\n",
        "input_text = tf.constant([\n",
        "    'hace mucho frio aqui.', # \"It's really cold here.\"\n",
        "    'Esta es mi vida.', # \"This is my life.\"\"\n",
        "])\n",
        "\n",
        "text_translation, attention_scores = translator.translate_unrolled(\n",
        "    input_text = input_text)\n"
      ],
      "metadata": {
        "colab": {
          "base_uri": "https://localhost:8080/"
        },
        "id": "NcFiq9dNEzyw",
        "outputId": "5f8065e6-42d0-4517-85cd-f62b6d0e4c98"
      },
      "execution_count": 294,
      "outputs": [
        {
          "output_type": "stream",
          "name": "stdout",
          "text": [
            "CPU times: user 301 ms, sys: 16.2 ms, total: 317 ms\n",
            "Wall time: 243 ms\n"
          ]
        }
      ]
    },
    {
      "cell_type": "code",
      "source": [
        "print(text_translation.numpy())"
      ],
      "metadata": {
        "colab": {
          "base_uri": "https://localhost:8080/"
        },
        "id": "d7QoJwFnEztW",
        "outputId": "7833ae3a-edb9-46f5-9ff8-b60595936013"
      },
      "execution_count": 295,
      "outputs": [
        {
          "output_type": "stream",
          "name": "stdout",
          "text": [
            "[b\"It's much Greek call.\" b'This is my life.']\n"
          ]
        }
      ]
    },
    {
      "cell_type": "code",
      "source": [
        "print('shape of attention scores',attention_scores.shape)"
      ],
      "metadata": {
        "colab": {
          "base_uri": "https://localhost:8080/"
        },
        "id": "7jdmgmUEAw7H",
        "outputId": "b201abc0-f371-43df-dafd-1549cd63f881"
      },
      "execution_count": 296,
      "outputs": [
        {
          "output_type": "stream",
          "name": "stdout",
          "text": [
            "shape of attention scores (2, 5, 6)\n"
          ]
        }
      ]
    },
    {
      "cell_type": "markdown",
      "source": [
        "### Wrap inside tf.function\n",
        "\n",
        "* The resulting graphs are very large and take a few seconds to build, save or load.\n",
        "* You can't break from a statically unrolled loop, so it will always run max_length iterations, even if all the outputs are done. But even then it's marginally faster than eager execution."
      ],
      "metadata": {
        "id": "Uf5Q7Jx2QozS"
      }
    },
    {
      "cell_type": "code",
      "source": [
        "@tf.function(input_signature=[tf.TensorSpec(dtype=tf.string, shape=[None])])\n",
        "def tf_translate(self, inputs):\n",
        "  return self.translate_unrolled(inputs)\n",
        "\n",
        "\n",
        "Translate.tf_translate = tf_translate"
      ],
      "metadata": {
        "id": "H8NYMawvAw33"
      },
      "execution_count": 297,
      "outputs": []
    },
    {
      "cell_type": "markdown",
      "source": [
        "Run the tf.function once to compile it:"
      ],
      "metadata": {
        "id": "IpRPhB83Rvuj"
      }
    },
    {
      "cell_type": "code",
      "source": [
        "%%time\n",
        "text_translation, attention_scores = translator.tf_translate(input_text)\n"
      ],
      "metadata": {
        "colab": {
          "base_uri": "https://localhost:8080/"
        },
        "id": "0OO2XE8wQJJE",
        "outputId": "51e1099c-3f5e-446d-a4bf-feab8f3dfc7c"
      },
      "execution_count": 298,
      "outputs": [
        {
          "output_type": "stream",
          "name": "stdout",
          "text": [
            "CPU times: user 21 s, sys: 401 ms, total: 21.4 s\n",
            "Wall time: 21.4 s\n"
          ]
        }
      ]
    },
    {
      "cell_type": "code",
      "source": [
        "%%time\n",
        "text_translation, attention_scores = translator.tf_translate(input_text)\n",
        "print(text_translation.numpy())\n",
        "print('shape of attention scores',attention_scores.shape)"
      ],
      "metadata": {
        "colab": {
          "base_uri": "https://localhost:8080/"
        },
        "id": "Tu5B5ExEQJB3",
        "outputId": "1c267eb5-da5b-42c4-934c-f52db5081eeb"
      },
      "execution_count": 299,
      "outputs": [
        {
          "output_type": "stream",
          "name": "stdout",
          "text": [
            "[b\"It's big bad luck to think about us.\" b'This is my life.']\n",
            "shape of attention scores (2, 50, 6)\n",
            "CPU times: user 149 ms, sys: 10.6 ms, total: 159 ms\n",
            "Wall time: 127 ms\n"
          ]
        }
      ]
    },
    {
      "cell_type": "markdown",
      "source": [
        "### Symbolic loop\n",
        "\n",
        "The initial implementation used python lists to collect the outputs.\n",
        "\n",
        "This uses `tf.range` as the loop iterator, allowing `tf.autograph` to convert the loop. The biggest change in this implementation is the use of `tf.TensorArray` instead of python list to accumulate tensors.\n",
        "\n",
        "`tf.TensorArray` is required to collect a variable number of tensors in graph mode.\n",
        "\n",
        "With eager execution this implementation performs on par with the original:"
      ],
      "metadata": {
        "id": "JcM5jVxlWNHp"
      }
    },
    {
      "cell_type": "code",
      "source": [
        "def translate_symbolic(self, input_text, max_length=50, temperature=1.0):\n",
        "  \n",
        "  spanish_tokens = self.spanish_vectorizer(input_text)\n",
        "  spanish_mask = spanish_tokens!=0\n",
        "  \n",
        "  enc_rnn_output, enc_state = self.encoder(spanish_tokens)\n",
        "  dec_state = enc_state\n",
        "\n",
        "  batch_size = tf.shape(input_text)[0]\n",
        "  new_tokens = tf.fill([batch_size,1], self.start_token)\n",
        "\n",
        "  done = tf.zeros([batch_size,1], dtype=tf.bool)\n",
        "\n",
        "  result_tokens = tf.TensorArray(dtype=tf.int64, size=1, dynamic_size=True)\n",
        "  attention_score = tf.TensorArray(dtype=tf.float32, size=1, dynamic_size=True)\n",
        "\n",
        "  for i in tf.range(max_length):\n",
        "\n",
        "     logits, attention_weights, dec_state = self.decoder(new_tokens,\n",
        "                                                        enc_rnn_output,\n",
        "                                                        spanish_mask,\n",
        "                                                        dec_state)\n",
        "     \n",
        "\n",
        "     new_tokens = self.sample(logits, temperature)\n",
        "     done = done|(new_tokens==self.end_token)\n",
        "     new_tokens = tf.where(done, tf.constant(0, dtype=tf.int64), new_tokens)\n",
        "     \n",
        "     result_tokens = result_tokens.write(i, new_tokens)\n",
        "     attention_score = attention_score.write(i, attention_weights)\n",
        "\n",
        "     if tf.reduce_all(done):\n",
        "       break\n",
        "\n",
        "    \n",
        "  \n",
        "  result_tokens = result_tokens.stack()\n",
        "  # shape ==> [i , batch, tq]  ; tq=1\n",
        "  result_tokens = tf.squeeze(result_tokens, axis=-1)\n",
        "  # shape ==> [i , batch, 1] to [i, batch]\n",
        "  result_tokens = tf.transpose(result_tokens, [1, 0])\n",
        "  # shape ==> [i , batch] to [batch, i]\n",
        "  text_translation = self.tokens_to_text(result_tokens)\n",
        "  # shape ==> [batch, i] to [batch]\n",
        "  \n",
        "\n",
        "  attention_score = attention_score.stack()\n",
        "  # shape ==> [i , batch, tq, tv]  ; tq=1\n",
        "  attention_score = tf.squeeze(attention_score,axis=2)\n",
        "  # shape ==> [i , batch, tq, tv] = [i , batch, tv]\n",
        "  attention_score = tf.transpose(attention_score, [1,0,2])\n",
        "  # shape ==> [i , batch, tq, tv] = [batch, i , tv]\n",
        "  # ex : TensorShape([i, 64, 1, 35]) ==> TensorShape([64, i, 35])\n",
        "\n",
        "\n",
        "  return text_translation, attention_score\n",
        "\n",
        "    \n",
        "\n",
        "Translate.translate_symbolic = translate_symbolic"
      ],
      "metadata": {
        "id": "o1-MOm4iUlK2"
      },
      "execution_count": 313,
      "outputs": []
    },
    {
      "cell_type": "code",
      "source": [
        "%%time\n",
        "# lets test this \n",
        "text_translation, attention_scores = translator.translate_symbolic(input_text)\n",
        "print(text_translation.numpy())\n",
        "print('shape of attention scores',attention_scores.shape)"
      ],
      "metadata": {
        "id": "Pc5Y6iI3Uk-U",
        "colab": {
          "base_uri": "https://localhost:8080/"
        },
        "outputId": "d5dc1d7f-56c1-4c75-bf85-d5434f17da8e"
      },
      "execution_count": 314,
      "outputs": [
        {
          "output_type": "stream",
          "name": "stdout",
          "text": [
            "[b'This is my life.' b'Are they still at home?'\n",
            " b'Stop pretending with it.']\n",
            "shape of attention scores (3, 6, 6)\n",
            "CPU times: user 90.8 ms, sys: 1.78 ms, total: 92.6 ms\n",
            "Wall time: 91 ms\n"
          ]
        }
      ]
    },
    {
      "cell_type": "markdown",
      "source": [
        "But when you wrap it in a tf.function you'll notice two differences.\n",
        "\n",
        "First: Graph creation is much faster (~10x), since it doesn't create max_iterations copies of the model.\n",
        "\n",
        "\n",
        "Second: The compiled function is much faster on small inputs (5x on this example), because it can break out of the loop.\n",
        "\n",
        "\n"
      ],
      "metadata": {
        "id": "pJ5KNeJGk3qO"
      }
    },
    {
      "cell_type": "code",
      "source": [
        "@tf.function(input_signature=[tf.TensorSpec(dtype=tf.string, shape=[None])])\n",
        "def tf_translate_symbolic(self, inputs):\n",
        "  return self.translate_symbolic(inputs)\n",
        "\n",
        "Translate.tf_translate_symbolic = tf_translate_symbolic"
      ],
      "metadata": {
        "id": "ADE38xAvQI4d"
      },
      "execution_count": 315,
      "outputs": []
    },
    {
      "cell_type": "code",
      "source": [
        "%%time\n",
        "# lets test this  --- compile time\n",
        "text_translation, attention_scores = translator.tf_translate_symbolic(input_text)\n",
        "print(text_translation.numpy())\n",
        "print('shape of attention scores',attention_scores.shape)"
      ],
      "metadata": {
        "colab": {
          "base_uri": "https://localhost:8080/"
        },
        "id": "ymdnHxowk3Hz",
        "outputId": "389d3e9c-c786-4654-9b56-226023b0b3a7"
      },
      "execution_count": 316,
      "outputs": [
        {
          "output_type": "stream",
          "name": "stdout",
          "text": [
            "[b'This is my life.' b'Are kept at home now?' b'We Think about energy.']\n",
            "shape of attention scores (3, 6, 6)\n",
            "CPU times: user 890 ms, sys: 21.5 ms, total: 911 ms\n",
            "Wall time: 896 ms\n"
          ]
        }
      ]
    },
    {
      "cell_type": "code",
      "source": [
        "%%time\n",
        "# lets test this  ---- after compile\n",
        "text_translation, attention_score = translator.tf_translate_symbolic(input_text)\n",
        "print(text_translation.numpy())\n",
        "print('shape of attention scores',attention_scores.shape)"
      ],
      "metadata": {
        "colab": {
          "base_uri": "https://localhost:8080/"
        },
        "id": "fTbTpHUvk2-M",
        "outputId": "a6e1073e-cac0-4ca2-d7d7-8c834c079cf7"
      },
      "execution_count": 317,
      "outputs": [
        {
          "output_type": "stream",
          "name": "stdout",
          "text": [
            "[b'This is my life.' b'Are you coming home?'\n",
            " b'You get tried out from behind.']\n",
            "shape of attention scores (3, 6, 6)\n",
            "CPU times: user 34.3 ms, sys: 3.44 ms, total: 37.8 ms\n",
            "Wall time: 29 ms\n"
          ]
        }
      ]
    },
    {
      "cell_type": "markdown",
      "source": [
        "## Visualize the process\n",
        "The attention weights returned by the translate method show where the model was \"looking\" when it generated each output token.\n",
        "\n",
        "So the sum of the attention over the input should return all ones:"
      ],
      "metadata": {
        "id": "Q89h2zZOm59v"
      }
    },
    {
      "cell_type": "code",
      "source": [
        "print('shape of attention scores',attention_scores.shape)"
      ],
      "metadata": {
        "id": "zlFzfgMQNIlf",
        "colab": {
          "base_uri": "https://localhost:8080/"
        },
        "outputId": "cdc42010-380a-4faa-8ec6-580350cd3761"
      },
      "execution_count": 318,
      "outputs": [
        {
          "output_type": "stream",
          "name": "stdout",
          "text": [
            "shape of attention scores (3, 6, 6)\n"
          ]
        }
      ]
    },
    {
      "cell_type": "code",
      "source": [
        "def get_attributes(input_text, text_translation, attention_scores, index):\n",
        "    y_true = tf_lower_and_split_punct(input_text[index]).numpy().decode().split()\n",
        "    y_pred = text_translation[index].numpy().decode().split()+['[END]']\n",
        "\n",
        "    score = attention_scores[index]\n",
        "    score = score[:len(y_pred),:len(y_true)]\n",
        "\n",
        "    return y_true, y_pred, score\n",
        "\n",
        "def matplot_imshow(y_true, y_pred, score):\n",
        "    plt.imshow(score)\n",
        "    plt.yticks(range(len(y_pred)),y_pred)\n",
        "    plt.xticks(range(len(y_true)),y_true);\n",
        "\n",
        "\n",
        "def seaborn_heatmap(y_true, y_pred, score):\n",
        "  sns.heatmap(score, annot=True)\n",
        "  plt.yticks(range(len(y_pred)),y_pred, rotation=360)\n",
        "  plt.xticks(range(len(y_true)),y_true);\n",
        "\n",
        "def visualize(input_text, text_translation, attention_scores,figsize=(12,6), index=0):\n",
        "\n",
        "  y_true, y_pred, score = get_attributes(input_text, text_translation, attention_scores, index)\n",
        "\n",
        "  plt.figure(figsize=figsize)\n",
        "\n",
        "  plt.subplot(121)\n",
        "  matplot_imshow(y_true, y_pred, score)\n",
        "\n",
        "  plt.subplot(122)\n",
        "  seaborn_heatmap(y_true, y_pred, score)\n",
        "\n",
        "  plt.show()"
      ],
      "metadata": {
        "id": "z0wnGQdHo7JQ"
      },
      "execution_count": 353,
      "outputs": []
    },
    {
      "cell_type": "code",
      "source": [
        "visualize(input_text, text_translation, attention_scores, figsize=(14,7), index=0)"
      ],
      "metadata": {
        "colab": {
          "base_uri": "https://localhost:8080/",
          "height": 433
        },
        "id": "k6yzK4O3pLzv",
        "outputId": "5bf0ed0f-902e-47c3-8b19-e1d965362499"
      },
      "execution_count": 320,
      "outputs": [
        {
          "output_type": "display_data",
          "data": {
            "text/plain": [
              "<Figure size 1008x504 with 3 Axes>"
            ],
            "image/png": "[encoded data removed]"
          },
          "metadata": {
            "needs_background": "light"
          }
        }
      ]
    },
    {
      "cell_type": "code",
      "source": [
        "visualize(input_text, text_translation, attention_scores, figsize=(14,7), index=1)"
      ],
      "metadata": {
        "colab": {
          "base_uri": "https://localhost:8080/",
          "height": 434
        },
        "id": "I_b7NXMQtvMs",
        "outputId": "f058d97f-0615-4340-d9a2-397c848e040e"
      },
      "execution_count": 321,
      "outputs": [
        {
          "output_type": "display_data",
          "data": {
            "text/plain": [
              "<Figure size 1008x504 with 3 Axes>"
            ],
            "image/png": "[encoded data removed]"
          },
          "metadata": {
            "needs_background": "light"
          }
        }
      ]
    },
    {
      "cell_type": "markdown",
      "source": [
        "### Example "
      ],
      "metadata": {
        "id": "9KFQxU7SutkL"
      }
    },
    {
      "cell_type": "code",
      "source": [
        "%%time\n",
        "input_text = tf.constant([\n",
        "    # This is my life.\n",
        "    'Esta es mi vida.',\n",
        "    # Are they still home?\n",
        "    '¿Todavía están en casa?',\n",
        "    # Try to find out.'\n",
        "    'Tratar de descubrir.',\n",
        "])\n",
        "\n",
        "\n",
        "text_translation, attention_scores = translator.tf_translate_symbolic(input_text)\n",
        "print(text_translation.numpy())\n",
        "print('shape of attention scores',attention_scores.shape)"
      ],
      "metadata": {
        "colab": {
          "base_uri": "https://localhost:8080/"
        },
        "id": "Ley_gxNptz6k",
        "outputId": "e7145bdc-4100-4f2f-fe4b-867bf0b351ab"
      },
      "execution_count": 373,
      "outputs": [
        {
          "output_type": "stream",
          "name": "stdout",
          "text": [
            "[b'This is my life life.' b'Are you still at home?'\n",
            " b'We tried to repeat it.']\n",
            "shape of attention scores (3, 6, 6)\n",
            "CPU times: user 32.2 ms, sys: 4.26 ms, total: 36.5 ms\n",
            "Wall time: 25.3 ms\n"
          ]
        }
      ]
    },
    {
      "cell_type": "code",
      "source": [
        "visualize(input_text, text_translation, attention_scores, figsize=(14,7), index=0)"
      ],
      "metadata": {
        "colab": {
          "base_uri": "https://localhost:8080/",
          "height": 433
        },
        "id": "8KfdFWEMu3gA",
        "outputId": "2204f866-6c63-473a-90ea-4b1c1d0f3e62"
      },
      "execution_count": 374,
      "outputs": [
        {
          "output_type": "display_data",
          "data": {
            "text/plain": [
              "<Figure size 1008x504 with 3 Axes>"
            ],
            "image/png": "[encoded data removed]"
          },
          "metadata": {
            "needs_background": "light"
          }
        }
      ]
    },
    {
      "cell_type": "code",
      "source": [
        "visualize(input_text, text_translation, attention_scores, figsize=(14,7), index=1)"
      ],
      "metadata": {
        "colab": {
          "base_uri": "https://localhost:8080/",
          "height": 434
        },
        "id": "ZOn1agS3u_7w",
        "outputId": "280e8912-fc9e-448a-cf82-c33d75c30cc7"
      },
      "execution_count": 375,
      "outputs": [
        {
          "output_type": "display_data",
          "data": {
            "text/plain": [
              "<Figure size 1008x504 with 3 Axes>"
            ],
            "image/png": "[encoded data removed]"
          },
          "metadata": {
            "needs_background": "light"
          }
        }
      ]
    },
    {
      "cell_type": "code",
      "source": [
        "visualize(input_text, text_translation, attention_scores, figsize=(14,7), index=2)"
      ],
      "metadata": {
        "colab": {
          "base_uri": "https://localhost:8080/",
          "height": 433
        },
        "id": "w54VnlkLvE2I",
        "outputId": "d1452673-ec1d-4495-8f5c-1ae2c13aa440"
      },
      "execution_count": 376,
      "outputs": [
        {
          "output_type": "display_data",
          "data": {
            "text/plain": [
              "<Figure size 1008x504 with 3 Axes>"
            ],
            "image/png": "[encoded data removed]"
          },
          "metadata": {
            "needs_background": "light"
          }
        }
      ]
    },
    {
      "cell_type": "markdown",
      "source": [
        "## Limitations"
      ],
      "metadata": {
        "id": "hzYII0DuxfUV"
      }
    },
    {
      "cell_type": "markdown",
      "source": [
        "The short sentences often work well, but if the input is too long the model literally loses focus and stops providing reasonable predictions. There are two main reasons for this:\n",
        "\n",
        "* The model was trained with teacher-forcing feeding the correct token at each step, regardless of the model's predictions. The model could be made more robust if it were sometimes fed its own predictions.\n",
        "\n",
        "* The model only has access to its previous output through the RNN state. If the RNN state gets corrupted, there's no way for the model to recover. Transformers solve this by using self-attention in the encoder and decoder."
      ],
      "metadata": {
        "id": "AvMy0YMoxdAx"
      }
    },
    {
      "cell_type": "code",
      "source": [
        "# long sentence -- spanish\n",
        "inp[-1]"
      ],
      "metadata": {
        "colab": {
          "base_uri": "https://localhost:8080/",
          "height": 53
        },
        "id": "rJV1_w4QvLi4",
        "outputId": "f2135547-0839-4c43-ca89-7930997532a5"
      },
      "execution_count": 358,
      "outputs": [
        {
          "output_type": "execute_result",
          "data": {
            "text/plain": [
              "'Si quieres sonar como un hablante nativo, debes estar dispuesto a practicar diciendo la misma frase una y otra vez de la misma manera en que un músico de banjo practica el mismo fraseo una y otra vez hasta que lo puedan tocar correctamente y en el tiempo esperado.'"
            ],
            "application/vnd.google.colaboratory.intrinsic+json": {
              "type": "string"
            }
          },
          "metadata": {},
          "execution_count": 358
        }
      ]
    },
    {
      "cell_type": "code",
      "source": [
        "# target english \n",
        "targ[-1]"
      ],
      "metadata": {
        "colab": {
          "base_uri": "https://localhost:8080/",
          "height": 53
        },
        "id": "_eeQxJXyyQrs",
        "outputId": "ea3c3b78-5c46-444c-8a47-3d1d65a0d53d"
      },
      "execution_count": 359,
      "outputs": [
        {
          "output_type": "execute_result",
          "data": {
            "text/plain": [
              "'If you want to sound like a native speaker, you must be willing to practice saying the same sentence over and over in the same way that banjo players practice the same phrase over and over until they can play it correctly and at the desired tempo.'"
            ],
            "application/vnd.google.colaboratory.intrinsic+json": {
              "type": "string"
            }
          },
          "metadata": {},
          "execution_count": 359
        }
      ]
    },
    {
      "cell_type": "code",
      "source": [
        "input_text = tf.constant([inp[-1]])\n",
        "text_translation, attention_scores = translator.tf_translate_symbolic(input_text)\n",
        "print(text_translation.numpy())\n",
        "print('shape of attention scores',attention_scores.shape)"
      ],
      "metadata": {
        "colab": {
          "base_uri": "https://localhost:8080/"
        },
        "id": "330xSTiqxyz6",
        "outputId": "82c7fef4-7f12-4c2d-c34f-2e616674c87a"
      },
      "execution_count": 360,
      "outputs": [
        {
          "output_type": "stream",
          "name": "stdout",
          "text": [
            "[b'If you want to sound like a native understanding what you can be willing to tell me the same way to and it moved over and over and another over and over over the same and over it said over it boys and here go to go and him in']\n",
            "shape of attention scores (1, 50, 51)\n"
          ]
        }
      ]
    },
    {
      "cell_type": "code",
      "source": [
        "# visulize\n",
        "y_true, y_pred, score = get_attributes(input_text, text_translation, attention_scores, index=0)\n",
        "\n",
        "plt.figure(figsize=(22,11))\n",
        "matplot_imshow(y_true, y_pred, score)\n",
        "plt.xticks(rotation=90)\n",
        "plt.show()"
      ],
      "metadata": {
        "colab": {
          "base_uri": "https://localhost:8080/",
          "height": 709
        },
        "id": "3NnGFgVPyeIB",
        "outputId": "e58f5e8e-64fc-4b8c-9bb2-6180e2b67595"
      },
      "execution_count": 367,
      "outputs": [
        {
          "output_type": "display_data",
          "data": {
            "text/plain": [
              "<Figure size 1584x792 with 1 Axes>"
            ],
            "image/png": "[encoded data removed]"
          },
          "metadata": {
            "needs_background": "light"
          }
        }
      ]
    },
    {
      "cell_type": "code",
      "source": [
        ""
      ],
      "metadata": {
        "id": "7hJgmWVn1j0a"
      },
      "execution_count": null,
      "outputs": []
    }
  ]
}