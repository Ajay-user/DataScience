{
  "nbformat": 4,
  "nbformat_minor": 0,
  "metadata": {
    "colab": {
      "name": " Transformer model Portuguese to English.ipynb",
      "provenance": [],
      "collapsed_sections": [],
      "authorship_tag": "ABX9TyPQ8uEQtDFVPRXG3egXckRQ",
      "include_colab_link": true
    },
    "kernelspec": {
      "name": "python3",
      "display_name": "Python 3"
    },
    "language_info": {
      "name": "python"
    },
    "widgets": {
      "application/vnd.jupyter.widget-state+json": {
        "84c9feebdb5342ca8f3db54b27e1bbe7": {
          "model_module": "@jupyter-widgets/controls",
          "model_name": "HBoxModel",
          "model_module_version": "1.5.0",
          "state": {
            "_dom_classes": [],
            "_model_module": "@jupyter-widgets/controls",
            "_model_module_version": "1.5.0",
            "_model_name": "HBoxModel",
            "_view_count": null,
            "_view_module": "@jupyter-widgets/controls",
            "_view_module_version": "1.5.0",
            "_view_name": "HBoxView",
            "box_style": "",
            "children": [
              "IPY_MODEL_a36cf864e0e24818abf266471b4b183f",
              "IPY_MODEL_4045df7ed6b046d2b92beb004b669aab",
              "IPY_MODEL_6adf9e1d96e6477fa15ec585eeb62054"
            ],
            "layout": "IPY_MODEL_d3b676841f3148dba929bd8bcbce0682"
          }
        },
        "a36cf864e0e24818abf266471b4b183f": {
          "model_module": "@jupyter-widgets/controls",
          "model_name": "HTMLModel",
          "model_module_version": "1.5.0",
          "state": {
            "_dom_classes": [],
            "_model_module": "@jupyter-widgets/controls",
            "_model_module_version": "1.5.0",
            "_model_name": "HTMLModel",
            "_view_count": null,
            "_view_module": "@jupyter-widgets/controls",
            "_view_module_version": "1.5.0",
            "_view_name": "HTMLView",
            "description": "",
            "description_tooltip": null,
            "layout": "IPY_MODEL_d1627142c3984b1bbf75af149cc51b9b",
            "placeholder": "​",
            "style": "IPY_MODEL_5b38b579ff754e68835983bf17527959",
            "value": "Dl Completed...: 100%"
          }
        },
        "4045df7ed6b046d2b92beb004b669aab": {
          "model_module": "@jupyter-widgets/controls",
          "model_name": "FloatProgressModel",
          "model_module_version": "1.5.0",
          "state": {
            "_dom_classes": [],
            "_model_module": "@jupyter-widgets/controls",
            "_model_module_version": "1.5.0",
            "_model_name": "FloatProgressModel",
            "_view_count": null,
            "_view_module": "@jupyter-widgets/controls",
            "_view_module_version": "1.5.0",
            "_view_name": "ProgressView",
            "bar_style": "success",
            "description": "",
            "description_tooltip": null,
            "layout": "IPY_MODEL_7d0eaf95a5484d52a84c3ff754bcea68",
            "max": 1,
            "min": 0,
            "orientation": "horizontal",
            "style": "IPY_MODEL_4fb63c53f4d045198319d63271a21479",
            "value": 1
          }
        },
        "6adf9e1d96e6477fa15ec585eeb62054": {
          "model_module": "@jupyter-widgets/controls",
          "model_name": "HTMLModel",
          "model_module_version": "1.5.0",
          "state": {
            "_dom_classes": [],
            "_model_module": "@jupyter-widgets/controls",
            "_model_module_version": "1.5.0",
            "_model_name": "HTMLModel",
            "_view_count": null,
            "_view_module": "@jupyter-widgets/controls",
            "_view_module_version": "1.5.0",
            "_view_name": "HTMLView",
            "description": "",
            "description_tooltip": null,
            "layout": "IPY_MODEL_4f4963eff4584e38a7af3499a7f70e0b",
            "placeholder": "​",
            "style": "IPY_MODEL_81acc71a5cc54dff96990f273e8430f1",
            "value": " 1/1 [00:21&lt;00:00, 12.69s/ url]"
          }
        },
        "d3b676841f3148dba929bd8bcbce0682": {
          "model_module": "@jupyter-widgets/base",
          "model_name": "LayoutModel",
          "model_module_version": "1.2.0",
          "state": {
            "_model_module": "@jupyter-widgets/base",
            "_model_module_version": "1.2.0",
            "_model_name": "LayoutModel",
            "_view_count": null,
            "_view_module": "@jupyter-widgets/base",
            "_view_module_version": "1.2.0",
            "_view_name": "LayoutView",
            "align_content": null,
            "align_items": null,
            "align_self": null,
            "border": null,
            "bottom": null,
            "display": null,
            "flex": null,
            "flex_flow": null,
            "grid_area": null,
            "grid_auto_columns": null,
            "grid_auto_flow": null,
            "grid_auto_rows": null,
            "grid_column": null,
            "grid_gap": null,
            "grid_row": null,
            "grid_template_areas": null,
            "grid_template_columns": null,
            "grid_template_rows": null,
            "height": null,
            "justify_content": null,
            "justify_items": null,
            "left": null,
            "margin": null,
            "max_height": null,
            "max_width": null,
            "min_height": null,
            "min_width": null,
            "object_fit": null,
            "object_position": null,
            "order": null,
            "overflow": null,
            "overflow_x": null,
            "overflow_y": null,
            "padding": null,
            "right": null,
            "top": null,
            "visibility": null,
            "width": null
          }
        },
        "d1627142c3984b1bbf75af149cc51b9b": {
          "model_module": "@jupyter-widgets/base",
          "model_name": "LayoutModel",
          "model_module_version": "1.2.0",
          "state": {
            "_model_module": "@jupyter-widgets/base",
            "_model_module_version": "1.2.0",
            "_model_name": "LayoutModel",
            "_view_count": null,
            "_view_module": "@jupyter-widgets/base",
            "_view_module_version": "1.2.0",
            "_view_name": "LayoutView",
            "align_content": null,
            "align_items": null,
            "align_self": null,
            "border": null,
            "bottom": null,
            "display": null,
            "flex": null,
            "flex_flow": null,
            "grid_area": null,
            "grid_auto_columns": null,
            "grid_auto_flow": null,
            "grid_auto_rows": null,
            "grid_column": null,
            "grid_gap": null,
            "grid_row": null,
            "grid_template_areas": null,
            "grid_template_columns": null,
            "grid_template_rows": null,
            "height": null,
            "justify_content": null,
            "justify_items": null,
            "left": null,
            "margin": null,
            "max_height": null,
            "max_width": null,
            "min_height": null,
            "min_width": null,
            "object_fit": null,
            "object_position": null,
            "order": null,
            "overflow": null,
            "overflow_x": null,
            "overflow_y": null,
            "padding": null,
            "right": null,
            "top": null,
            "visibility": null,
            "width": null
          }
        },
        "5b38b579ff754e68835983bf17527959": {
          "model_module": "@jupyter-widgets/controls",
          "model_name": "DescriptionStyleModel",
          "model_module_version": "1.5.0",
          "state": {
            "_model_module": "@jupyter-widgets/controls",
            "_model_module_version": "1.5.0",
            "_model_name": "DescriptionStyleModel",
            "_view_count": null,
            "_view_module": "@jupyter-widgets/base",
            "_view_module_version": "1.2.0",
            "_view_name": "StyleView",
            "description_width": ""
          }
        },
        "7d0eaf95a5484d52a84c3ff754bcea68": {
          "model_module": "@jupyter-widgets/base",
          "model_name": "LayoutModel",
          "model_module_version": "1.2.0",
          "state": {
            "_model_module": "@jupyter-widgets/base",
            "_model_module_version": "1.2.0",
            "_model_name": "LayoutModel",
            "_view_count": null,
            "_view_module": "@jupyter-widgets/base",
            "_view_module_version": "1.2.0",
            "_view_name": "LayoutView",
            "align_content": null,
            "align_items": null,
            "align_self": null,
            "border": null,
            "bottom": null,
            "display": null,
            "flex": null,
            "flex_flow": null,
            "grid_area": null,
            "grid_auto_columns": null,
            "grid_auto_flow": null,
            "grid_auto_rows": null,
            "grid_column": null,
            "grid_gap": null,
            "grid_row": null,
            "grid_template_areas": null,
            "grid_template_columns": null,
            "grid_template_rows": null,
            "height": null,
            "justify_content": null,
            "justify_items": null,
            "left": null,
            "margin": null,
            "max_height": null,
            "max_width": null,
            "min_height": null,
            "min_width": null,
            "object_fit": null,
            "object_position": null,
            "order": null,
            "overflow": null,
            "overflow_x": null,
            "overflow_y": null,
            "padding": null,
            "right": null,
            "top": null,
            "visibility": null,
            "width": "20px"
          }
        },
        "4fb63c53f4d045198319d63271a21479": {
          "model_module": "@jupyter-widgets/controls",
          "model_name": "ProgressStyleModel",
          "model_module_version": "1.5.0",
          "state": {
            "_model_module": "@jupyter-widgets/controls",
            "_model_module_version": "1.5.0",
            "_model_name": "ProgressStyleModel",
            "_view_count": null,
            "_view_module": "@jupyter-widgets/base",
            "_view_module_version": "1.2.0",
            "_view_name": "StyleView",
            "bar_color": null,
            "description_width": ""
          }
        },
        "4f4963eff4584e38a7af3499a7f70e0b": {
          "model_module": "@jupyter-widgets/base",
          "model_name": "LayoutModel",
          "model_module_version": "1.2.0",
          "state": {
            "_model_module": "@jupyter-widgets/base",
            "_model_module_version": "1.2.0",
            "_model_name": "LayoutModel",
            "_view_count": null,
            "_view_module": "@jupyter-widgets/base",
            "_view_module_version": "1.2.0",
            "_view_name": "LayoutView",
            "align_content": null,
            "align_items": null,
            "align_self": null,
            "border": null,
            "bottom": null,
            "display": null,
            "flex": null,
            "flex_flow": null,
            "grid_area": null,
            "grid_auto_columns": null,
            "grid_auto_flow": null,
            "grid_auto_rows": null,
            "grid_column": null,
            "grid_gap": null,
            "grid_row": null,
            "grid_template_areas": null,
            "grid_template_columns": null,
            "grid_template_rows": null,
            "height": null,
            "justify_content": null,
            "justify_items": null,
            "left": null,
            "margin": null,
            "max_height": null,
            "max_width": null,
            "min_height": null,
            "min_width": null,
            "object_fit": null,
            "object_position": null,
            "order": null,
            "overflow": null,
            "overflow_x": null,
            "overflow_y": null,
            "padding": null,
            "right": null,
            "top": null,
            "visibility": null,
            "width": null
          }
        },
        "81acc71a5cc54dff96990f273e8430f1": {
          "model_module": "@jupyter-widgets/controls",
          "model_name": "DescriptionStyleModel",
          "model_module_version": "1.5.0",
          "state": {
            "_model_module": "@jupyter-widgets/controls",
            "_model_module_version": "1.5.0",
            "_model_name": "DescriptionStyleModel",
            "_view_count": null,
            "_view_module": "@jupyter-widgets/base",
            "_view_module_version": "1.2.0",
            "_view_name": "StyleView",
            "description_width": ""
          }
        },
        "bf7c1fa9ed944b348bc08437a5e00a23": {
          "model_module": "@jupyter-widgets/controls",
          "model_name": "HBoxModel",
          "model_module_version": "1.5.0",
          "state": {
            "_dom_classes": [],
            "_model_module": "@jupyter-widgets/controls",
            "_model_module_version": "1.5.0",
            "_model_name": "HBoxModel",
            "_view_count": null,
            "_view_module": "@jupyter-widgets/controls",
            "_view_module_version": "1.5.0",
            "_view_name": "HBoxView",
            "box_style": "",
            "children": [
              "IPY_MODEL_ed96c1b6fe9446ca926d38a8b78ead17",
              "IPY_MODEL_cdbfd0d162f9446ba2bba9f830875db4",
              "IPY_MODEL_3e5da86f1b4245d1bc78df9264c84e7d"
            ],
            "layout": "IPY_MODEL_94c37cfe83e742408d45fe4f24725837"
          }
        },
        "ed96c1b6fe9446ca926d38a8b78ead17": {
          "model_module": "@jupyter-widgets/controls",
          "model_name": "HTMLModel",
          "model_module_version": "1.5.0",
          "state": {
            "_dom_classes": [],
            "_model_module": "@jupyter-widgets/controls",
            "_model_module_version": "1.5.0",
            "_model_name": "HTMLModel",
            "_view_count": null,
            "_view_module": "@jupyter-widgets/controls",
            "_view_module_version": "1.5.0",
            "_view_name": "HTMLView",
            "description": "",
            "description_tooltip": null,
            "layout": "IPY_MODEL_c3b196d136d14137a6224e1f3c456368",
            "placeholder": "​",
            "style": "IPY_MODEL_05c3e21e92354c098b851947322d9bd9",
            "value": "Dl Size...: 100%"
          }
        },
        "cdbfd0d162f9446ba2bba9f830875db4": {
          "model_module": "@jupyter-widgets/controls",
          "model_name": "FloatProgressModel",
          "model_module_version": "1.5.0",
          "state": {
            "_dom_classes": [],
            "_model_module": "@jupyter-widgets/controls",
            "_model_module_version": "1.5.0",
            "_model_name": "FloatProgressModel",
            "_view_count": null,
            "_view_module": "@jupyter-widgets/controls",
            "_view_module_version": "1.5.0",
            "_view_name": "ProgressView",
            "bar_style": "success",
            "description": "",
            "description_tooltip": null,
            "layout": "IPY_MODEL_39e1f575ed5f4deea02f9971445ab482",
            "max": 1,
            "min": 0,
            "orientation": "horizontal",
            "style": "IPY_MODEL_392d3eb8aa85438fa737d67b19a23230",
            "value": 1
          }
        },
        "3e5da86f1b4245d1bc78df9264c84e7d": {
          "model_module": "@jupyter-widgets/controls",
          "model_name": "HTMLModel",
          "model_module_version": "1.5.0",
          "state": {
            "_dom_classes": [],
            "_model_module": "@jupyter-widgets/controls",
            "_model_module_version": "1.5.0",
            "_model_name": "HTMLModel",
            "_view_count": null,
            "_view_module": "@jupyter-widgets/controls",
            "_view_module_version": "1.5.0",
            "_view_name": "HTMLView",
            "description": "",
            "description_tooltip": null,
            "layout": "IPY_MODEL_27c202443fa3416f92bf1404e9db8e1c",
            "placeholder": "​",
            "style": "IPY_MODEL_9c2790a901a84f35a2712778acb8aeab",
            "value": " 124/124 [00:21&lt;00:00,  5.46 MiB/s]"
          }
        },
        "94c37cfe83e742408d45fe4f24725837": {
          "model_module": "@jupyter-widgets/base",
          "model_name": "LayoutModel",
          "model_module_version": "1.2.0",
          "state": {
            "_model_module": "@jupyter-widgets/base",
            "_model_module_version": "1.2.0",
            "_model_name": "LayoutModel",
            "_view_count": null,
            "_view_module": "@jupyter-widgets/base",
            "_view_module_version": "1.2.0",
            "_view_name": "LayoutView",
            "align_content": null,
            "align_items": null,
            "align_self": null,
            "border": null,
            "bottom": null,
            "display": null,
            "flex": null,
            "flex_flow": null,
            "grid_area": null,
            "grid_auto_columns": null,
            "grid_auto_flow": null,
            "grid_auto_rows": null,
            "grid_column": null,
            "grid_gap": null,
            "grid_row": null,
            "grid_template_areas": null,
            "grid_template_columns": null,
            "grid_template_rows": null,
            "height": null,
            "justify_content": null,
            "justify_items": null,
            "left": null,
            "margin": null,
            "max_height": null,
            "max_width": null,
            "min_height": null,
            "min_width": null,
            "object_fit": null,
            "object_position": null,
            "order": null,
            "overflow": null,
            "overflow_x": null,
            "overflow_y": null,
            "padding": null,
            "right": null,
            "top": null,
            "visibility": null,
            "width": null
          }
        },
        "c3b196d136d14137a6224e1f3c456368": {
          "model_module": "@jupyter-widgets/base",
          "model_name": "LayoutModel",
          "model_module_version": "1.2.0",
          "state": {
            "_model_module": "@jupyter-widgets/base",
            "_model_module_version": "1.2.0",
            "_model_name": "LayoutModel",
            "_view_count": null,
            "_view_module": "@jupyter-widgets/base",
            "_view_module_version": "1.2.0",
            "_view_name": "LayoutView",
            "align_content": null,
            "align_items": null,
            "align_self": null,
            "border": null,
            "bottom": null,
            "display": null,
            "flex": null,
            "flex_flow": null,
            "grid_area": null,
            "grid_auto_columns": null,
            "grid_auto_flow": null,
            "grid_auto_rows": null,
            "grid_column": null,
            "grid_gap": null,
            "grid_row": null,
            "grid_template_areas": null,
            "grid_template_columns": null,
            "grid_template_rows": null,
            "height": null,
            "justify_content": null,
            "justify_items": null,
            "left": null,
            "margin": null,
            "max_height": null,
            "max_width": null,
            "min_height": null,
            "min_width": null,
            "object_fit": null,
            "object_position": null,
            "order": null,
            "overflow": null,
            "overflow_x": null,
            "overflow_y": null,
            "padding": null,
            "right": null,
            "top": null,
            "visibility": null,
            "width": null
          }
        },
        "05c3e21e92354c098b851947322d9bd9": {
          "model_module": "@jupyter-widgets/controls",
          "model_name": "DescriptionStyleModel",
          "model_module_version": "1.5.0",
          "state": {
            "_model_module": "@jupyter-widgets/controls",
            "_model_module_version": "1.5.0",
            "_model_name": "DescriptionStyleModel",
            "_view_count": null,
            "_view_module": "@jupyter-widgets/base",
            "_view_module_version": "1.2.0",
            "_view_name": "StyleView",
            "description_width": ""
          }
        },
        "39e1f575ed5f4deea02f9971445ab482": {
          "model_module": "@jupyter-widgets/base",
          "model_name": "LayoutModel",
          "model_module_version": "1.2.0",
          "state": {
            "_model_module": "@jupyter-widgets/base",
            "_model_module_version": "1.2.0",
            "_model_name": "LayoutModel",
            "_view_count": null,
            "_view_module": "@jupyter-widgets/base",
            "_view_module_version": "1.2.0",
            "_view_name": "LayoutView",
            "align_content": null,
            "align_items": null,
            "align_self": null,
            "border": null,
            "bottom": null,
            "display": null,
            "flex": null,
            "flex_flow": null,
            "grid_area": null,
            "grid_auto_columns": null,
            "grid_auto_flow": null,
            "grid_auto_rows": null,
            "grid_column": null,
            "grid_gap": null,
            "grid_row": null,
            "grid_template_areas": null,
            "grid_template_columns": null,
            "grid_template_rows": null,
            "height": null,
            "justify_content": null,
            "justify_items": null,
            "left": null,
            "margin": null,
            "max_height": null,
            "max_width": null,
            "min_height": null,
            "min_width": null,
            "object_fit": null,
            "object_position": null,
            "order": null,
            "overflow": null,
            "overflow_x": null,
            "overflow_y": null,
            "padding": null,
            "right": null,
            "top": null,
            "visibility": null,
            "width": "20px"
          }
        },
        "392d3eb8aa85438fa737d67b19a23230": {
          "model_module": "@jupyter-widgets/controls",
          "model_name": "ProgressStyleModel",
          "model_module_version": "1.5.0",
          "state": {
            "_model_module": "@jupyter-widgets/controls",
            "_model_module_version": "1.5.0",
            "_model_name": "ProgressStyleModel",
            "_view_count": null,
            "_view_module": "@jupyter-widgets/base",
            "_view_module_version": "1.2.0",
            "_view_name": "StyleView",
            "bar_color": null,
            "description_width": ""
          }
        },
        "27c202443fa3416f92bf1404e9db8e1c": {
          "model_module": "@jupyter-widgets/base",
          "model_name": "LayoutModel",
          "model_module_version": "1.2.0",
          "state": {
            "_model_module": "@jupyter-widgets/base",
            "_model_module_version": "1.2.0",
            "_model_name": "LayoutModel",
            "_view_count": null,
            "_view_module": "@jupyter-widgets/base",
            "_view_module_version": "1.2.0",
            "_view_name": "LayoutView",
            "align_content": null,
            "align_items": null,
            "align_self": null,
            "border": null,
            "bottom": null,
            "display": null,
            "flex": null,
            "flex_flow": null,
            "grid_area": null,
            "grid_auto_columns": null,
            "grid_auto_flow": null,
            "grid_auto_rows": null,
            "grid_column": null,
            "grid_gap": null,
            "grid_row": null,
            "grid_template_areas": null,
            "grid_template_columns": null,
            "grid_template_rows": null,
            "height": null,
            "justify_content": null,
            "justify_items": null,
            "left": null,
            "margin": null,
            "max_height": null,
            "max_width": null,
            "min_height": null,
            "min_width": null,
            "object_fit": null,
            "object_position": null,
            "order": null,
            "overflow": null,
            "overflow_x": null,
            "overflow_y": null,
            "padding": null,
            "right": null,
            "top": null,
            "visibility": null,
            "width": null
          }
        },
        "9c2790a901a84f35a2712778acb8aeab": {
          "model_module": "@jupyter-widgets/controls",
          "model_name": "DescriptionStyleModel",
          "model_module_version": "1.5.0",
          "state": {
            "_model_module": "@jupyter-widgets/controls",
            "_model_module_version": "1.5.0",
            "_model_name": "DescriptionStyleModel",
            "_view_count": null,
            "_view_module": "@jupyter-widgets/base",
            "_view_module_version": "1.2.0",
            "_view_name": "StyleView",
            "description_width": ""
          }
        },
        "7a761b6c7c994a15acf908d6238af6ba": {
          "model_module": "@jupyter-widgets/controls",
          "model_name": "HBoxModel",
          "model_module_version": "1.5.0",
          "state": {
            "_dom_classes": [],
            "_model_module": "@jupyter-widgets/controls",
            "_model_module_version": "1.5.0",
            "_model_name": "HBoxModel",
            "_view_count": null,
            "_view_module": "@jupyter-widgets/controls",
            "_view_module_version": "1.5.0",
            "_view_name": "HBoxView",
            "box_style": "",
            "children": [
              "IPY_MODEL_ec1389ec3a2e4ad88eb5d197c5ee709f",
              "IPY_MODEL_5ee40258e0bb4f3caab2f40e1a489691",
              "IPY_MODEL_d5a09e2260714b309c63fdebc1859f9f"
            ],
            "layout": "IPY_MODEL_f40cc6ad85714743aa3c3dc2ddae5d07"
          }
        },
        "ec1389ec3a2e4ad88eb5d197c5ee709f": {
          "model_module": "@jupyter-widgets/controls",
          "model_name": "HTMLModel",
          "model_module_version": "1.5.0",
          "state": {
            "_dom_classes": [],
            "_model_module": "@jupyter-widgets/controls",
            "_model_module_version": "1.5.0",
            "_model_name": "HTMLModel",
            "_view_count": null,
            "_view_module": "@jupyter-widgets/controls",
            "_view_module_version": "1.5.0",
            "_view_name": "HTMLView",
            "description": "",
            "description_tooltip": null,
            "layout": "IPY_MODEL_7e25cd76205d4b23a6e6689828b66b8c",
            "placeholder": "​",
            "style": "IPY_MODEL_688d9635a5f64f52aef4b7c865528905",
            "value": "Extraction completed...: 100%"
          }
        },
        "5ee40258e0bb4f3caab2f40e1a489691": {
          "model_module": "@jupyter-widgets/controls",
          "model_name": "FloatProgressModel",
          "model_module_version": "1.5.0",
          "state": {
            "_dom_classes": [],
            "_model_module": "@jupyter-widgets/controls",
            "_model_module_version": "1.5.0",
            "_model_name": "FloatProgressModel",
            "_view_count": null,
            "_view_module": "@jupyter-widgets/controls",
            "_view_module_version": "1.5.0",
            "_view_name": "ProgressView",
            "bar_style": "success",
            "description": "",
            "description_tooltip": null,
            "layout": "IPY_MODEL_af5173a852954e089d5a2f00b35e461e",
            "max": 1,
            "min": 0,
            "orientation": "horizontal",
            "style": "IPY_MODEL_222623815ee8473da6d5d2b7031b1a0c",
            "value": 1
          }
        },
        "d5a09e2260714b309c63fdebc1859f9f": {
          "model_module": "@jupyter-widgets/controls",
          "model_name": "HTMLModel",
          "model_module_version": "1.5.0",
          "state": {
            "_dom_classes": [],
            "_model_module": "@jupyter-widgets/controls",
            "_model_module_version": "1.5.0",
            "_model_name": "HTMLModel",
            "_view_count": null,
            "_view_module": "@jupyter-widgets/controls",
            "_view_module_version": "1.5.0",
            "_view_name": "HTMLView",
            "description": "",
            "description_tooltip": null,
            "layout": "IPY_MODEL_cecef64ee0564c5fbf6735d1815b916c",
            "placeholder": "​",
            "style": "IPY_MODEL_82c319a6bc6a4c0498638249a8926f8a",
            "value": " 1/1 [00:21&lt;00:00, 21.27s/ file]"
          }
        },
        "f40cc6ad85714743aa3c3dc2ddae5d07": {
          "model_module": "@jupyter-widgets/base",
          "model_name": "LayoutModel",
          "model_module_version": "1.2.0",
          "state": {
            "_model_module": "@jupyter-widgets/base",
            "_model_module_version": "1.2.0",
            "_model_name": "LayoutModel",
            "_view_count": null,
            "_view_module": "@jupyter-widgets/base",
            "_view_module_version": "1.2.0",
            "_view_name": "LayoutView",
            "align_content": null,
            "align_items": null,
            "align_self": null,
            "border": null,
            "bottom": null,
            "display": null,
            "flex": null,
            "flex_flow": null,
            "grid_area": null,
            "grid_auto_columns": null,
            "grid_auto_flow": null,
            "grid_auto_rows": null,
            "grid_column": null,
            "grid_gap": null,
            "grid_row": null,
            "grid_template_areas": null,
            "grid_template_columns": null,
            "grid_template_rows": null,
            "height": null,
            "justify_content": null,
            "justify_items": null,
            "left": null,
            "margin": null,
            "max_height": null,
            "max_width": null,
            "min_height": null,
            "min_width": null,
            "object_fit": null,
            "object_position": null,
            "order": null,
            "overflow": null,
            "overflow_x": null,
            "overflow_y": null,
            "padding": null,
            "right": null,
            "top": null,
            "visibility": null,
            "width": null
          }
        },
        "7e25cd76205d4b23a6e6689828b66b8c": {
          "model_module": "@jupyter-widgets/base",
          "model_name": "LayoutModel",
          "model_module_version": "1.2.0",
          "state": {
            "_model_module": "@jupyter-widgets/base",
            "_model_module_version": "1.2.0",
            "_model_name": "LayoutModel",
            "_view_count": null,
            "_view_module": "@jupyter-widgets/base",
            "_view_module_version": "1.2.0",
            "_view_name": "LayoutView",
            "align_content": null,
            "align_items": null,
            "align_self": null,
            "border": null,
            "bottom": null,
            "display": null,
            "flex": null,
            "flex_flow": null,
            "grid_area": null,
            "grid_auto_columns": null,
            "grid_auto_flow": null,
            "grid_auto_rows": null,
            "grid_column": null,
            "grid_gap": null,
            "grid_row": null,
            "grid_template_areas": null,
            "grid_template_columns": null,
            "grid_template_rows": null,
            "height": null,
            "justify_content": null,
            "justify_items": null,
            "left": null,
            "margin": null,
            "max_height": null,
            "max_width": null,
            "min_height": null,
            "min_width": null,
            "object_fit": null,
            "object_position": null,
            "order": null,
            "overflow": null,
            "overflow_x": null,
            "overflow_y": null,
            "padding": null,
            "right": null,
            "top": null,
            "visibility": null,
            "width": null
          }
        },
        "688d9635a5f64f52aef4b7c865528905": {
          "model_module": "@jupyter-widgets/controls",
          "model_name": "DescriptionStyleModel",
          "model_module_version": "1.5.0",
          "state": {
            "_model_module": "@jupyter-widgets/controls",
            "_model_module_version": "1.5.0",
            "_model_name": "DescriptionStyleModel",
            "_view_count": null,
            "_view_module": "@jupyter-widgets/base",
            "_view_module_version": "1.2.0",
            "_view_name": "StyleView",
            "description_width": ""
          }
        },
        "af5173a852954e089d5a2f00b35e461e": {
          "model_module": "@jupyter-widgets/base",
          "model_name": "LayoutModel",
          "model_module_version": "1.2.0",
          "state": {
            "_model_module": "@jupyter-widgets/base",
            "_model_module_version": "1.2.0",
            "_model_name": "LayoutModel",
            "_view_count": null,
            "_view_module": "@jupyter-widgets/base",
            "_view_module_version": "1.2.0",
            "_view_name": "LayoutView",
            "align_content": null,
            "align_items": null,
            "align_self": null,
            "border": null,
            "bottom": null,
            "display": null,
            "flex": null,
            "flex_flow": null,
            "grid_area": null,
            "grid_auto_columns": null,
            "grid_auto_flow": null,
            "grid_auto_rows": null,
            "grid_column": null,
            "grid_gap": null,
            "grid_row": null,
            "grid_template_areas": null,
            "grid_template_columns": null,
            "grid_template_rows": null,
            "height": null,
            "justify_content": null,
            "justify_items": null,
            "left": null,
            "margin": null,
            "max_height": null,
            "max_width": null,
            "min_height": null,
            "min_width": null,
            "object_fit": null,
            "object_position": null,
            "order": null,
            "overflow": null,
            "overflow_x": null,
            "overflow_y": null,
            "padding": null,
            "right": null,
            "top": null,
            "visibility": null,
            "width": "20px"
          }
        },
        "222623815ee8473da6d5d2b7031b1a0c": {
          "model_module": "@jupyter-widgets/controls",
          "model_name": "ProgressStyleModel",
          "model_module_version": "1.5.0",
          "state": {
            "_model_module": "@jupyter-widgets/controls",
            "_model_module_version": "1.5.0",
            "_model_name": "ProgressStyleModel",
            "_view_count": null,
            "_view_module": "@jupyter-widgets/base",
            "_view_module_version": "1.2.0",
            "_view_name": "StyleView",
            "bar_color": null,
            "description_width": ""
          }
        },
        "cecef64ee0564c5fbf6735d1815b916c": {
          "model_module": "@jupyter-widgets/base",
          "model_name": "LayoutModel",
          "model_module_version": "1.2.0",
          "state": {
            "_model_module": "@jupyter-widgets/base",
            "_model_module_version": "1.2.0",
            "_model_name": "LayoutModel",
            "_view_count": null,
            "_view_module": "@jupyter-widgets/base",
            "_view_module_version": "1.2.0",
            "_view_name": "LayoutView",
            "align_content": null,
            "align_items": null,
            "align_self": null,
            "border": null,
            "bottom": null,
            "display": null,
            "flex": null,
            "flex_flow": null,
            "grid_area": null,
            "grid_auto_columns": null,
            "grid_auto_flow": null,
            "grid_auto_rows": null,
            "grid_column": null,
            "grid_gap": null,
            "grid_row": null,
            "grid_template_areas": null,
            "grid_template_columns": null,
            "grid_template_rows": null,
            "height": null,
            "justify_content": null,
            "justify_items": null,
            "left": null,
            "margin": null,
            "max_height": null,
            "max_width": null,
            "min_height": null,
            "min_width": null,
            "object_fit": null,
            "object_position": null,
            "order": null,
            "overflow": null,
            "overflow_x": null,
            "overflow_y": null,
            "padding": null,
            "right": null,
            "top": null,
            "visibility": null,
            "width": null
          }
        },
        "82c319a6bc6a4c0498638249a8926f8a": {
          "model_module": "@jupyter-widgets/controls",
          "model_name": "DescriptionStyleModel",
          "model_module_version": "1.5.0",
          "state": {
            "_model_module": "@jupyter-widgets/controls",
            "_model_module_version": "1.5.0",
            "_model_name": "DescriptionStyleModel",
            "_view_count": null,
            "_view_module": "@jupyter-widgets/base",
            "_view_module_version": "1.2.0",
            "_view_name": "StyleView",
            "description_width": ""
          }
        },
        "8a425da341f0435c8c05bed89fe5ce2d": {
          "model_module": "@jupyter-widgets/controls",
          "model_name": "HBoxModel",
          "model_module_version": "1.5.0",
          "state": {
            "_dom_classes": [],
            "_model_module": "@jupyter-widgets/controls",
            "_model_module_version": "1.5.0",
            "_model_name": "HBoxModel",
            "_view_count": null,
            "_view_module": "@jupyter-widgets/controls",
            "_view_module_version": "1.5.0",
            "_view_name": "HBoxView",
            "box_style": "",
            "children": [
              "IPY_MODEL_35f56937eb04458085c517e289dd486a",
              "IPY_MODEL_6622acfb71ec4c6b96ec83a2537320b3",
              "IPY_MODEL_73c77f77db3c4aa6a2d8c07c3f8667c6"
            ],
            "layout": "IPY_MODEL_6de40907adf8430982084e1f13a93277"
          }
        },
        "35f56937eb04458085c517e289dd486a": {
          "model_module": "@jupyter-widgets/controls",
          "model_name": "HTMLModel",
          "model_module_version": "1.5.0",
          "state": {
            "_dom_classes": [],
            "_model_module": "@jupyter-widgets/controls",
            "_model_module_version": "1.5.0",
            "_model_name": "HTMLModel",
            "_view_count": null,
            "_view_module": "@jupyter-widgets/controls",
            "_view_module_version": "1.5.0",
            "_view_name": "HTMLView",
            "description": "",
            "description_tooltip": null,
            "layout": "IPY_MODEL_89c417da9faa46bbb74dd4836302c9b4",
            "placeholder": "​",
            "style": "IPY_MODEL_eb30b3df7d6f4162b91066be481cbc82",
            "value": ""
          }
        },
        "6622acfb71ec4c6b96ec83a2537320b3": {
          "model_module": "@jupyter-widgets/controls",
          "model_name": "FloatProgressModel",
          "model_module_version": "1.5.0",
          "state": {
            "_dom_classes": [],
            "_model_module": "@jupyter-widgets/controls",
            "_model_module_version": "1.5.0",
            "_model_name": "FloatProgressModel",
            "_view_count": null,
            "_view_module": "@jupyter-widgets/controls",
            "_view_module_version": "1.5.0",
            "_view_name": "ProgressView",
            "bar_style": "info",
            "description": "",
            "description_tooltip": null,
            "layout": "IPY_MODEL_7315578583b64dc3974c1480c3944b8e",
            "max": 1,
            "min": 0,
            "orientation": "horizontal",
            "style": "IPY_MODEL_01666cbd6366437783f1e7f1911f669d",
            "value": 1
          }
        },
        "73c77f77db3c4aa6a2d8c07c3f8667c6": {
          "model_module": "@jupyter-widgets/controls",
          "model_name": "HTMLModel",
          "model_module_version": "1.5.0",
          "state": {
            "_dom_classes": [],
            "_model_module": "@jupyter-widgets/controls",
            "_model_module_version": "1.5.0",
            "_model_name": "HTMLModel",
            "_view_count": null,
            "_view_module": "@jupyter-widgets/controls",
            "_view_module_version": "1.5.0",
            "_view_name": "HTMLView",
            "description": "",
            "description_tooltip": null,
            "layout": "IPY_MODEL_bad87b4750ba4b2fb7820749758ccd70",
            "placeholder": "​",
            "style": "IPY_MODEL_ea60e7625a4a45f7aa972d5fe8bb770b",
            "value": " 51501/0 [00:14&lt;00:00, 7296.13 examples/s]"
          }
        },
        "6de40907adf8430982084e1f13a93277": {
          "model_module": "@jupyter-widgets/base",
          "model_name": "LayoutModel",
          "model_module_version": "1.2.0",
          "state": {
            "_model_module": "@jupyter-widgets/base",
            "_model_module_version": "1.2.0",
            "_model_name": "LayoutModel",
            "_view_count": null,
            "_view_module": "@jupyter-widgets/base",
            "_view_module_version": "1.2.0",
            "_view_name": "LayoutView",
            "align_content": null,
            "align_items": null,
            "align_self": null,
            "border": null,
            "bottom": null,
            "display": null,
            "flex": null,
            "flex_flow": null,
            "grid_area": null,
            "grid_auto_columns": null,
            "grid_auto_flow": null,
            "grid_auto_rows": null,
            "grid_column": null,
            "grid_gap": null,
            "grid_row": null,
            "grid_template_areas": null,
            "grid_template_columns": null,
            "grid_template_rows": null,
            "height": null,
            "justify_content": null,
            "justify_items": null,
            "left": null,
            "margin": null,
            "max_height": null,
            "max_width": null,
            "min_height": null,
            "min_width": null,
            "object_fit": null,
            "object_position": null,
            "order": null,
            "overflow": null,
            "overflow_x": null,
            "overflow_y": null,
            "padding": null,
            "right": null,
            "top": null,
            "visibility": null,
            "width": null
          }
        },
        "89c417da9faa46bbb74dd4836302c9b4": {
          "model_module": "@jupyter-widgets/base",
          "model_name": "LayoutModel",
          "model_module_version": "1.2.0",
          "state": {
            "_model_module": "@jupyter-widgets/base",
            "_model_module_version": "1.2.0",
            "_model_name": "LayoutModel",
            "_view_count": null,
            "_view_module": "@jupyter-widgets/base",
            "_view_module_version": "1.2.0",
            "_view_name": "LayoutView",
            "align_content": null,
            "align_items": null,
            "align_self": null,
            "border": null,
            "bottom": null,
            "display": null,
            "flex": null,
            "flex_flow": null,
            "grid_area": null,
            "grid_auto_columns": null,
            "grid_auto_flow": null,
            "grid_auto_rows": null,
            "grid_column": null,
            "grid_gap": null,
            "grid_row": null,
            "grid_template_areas": null,
            "grid_template_columns": null,
            "grid_template_rows": null,
            "height": null,
            "justify_content": null,
            "justify_items": null,
            "left": null,
            "margin": null,
            "max_height": null,
            "max_width": null,
            "min_height": null,
            "min_width": null,
            "object_fit": null,
            "object_position": null,
            "order": null,
            "overflow": null,
            "overflow_x": null,
            "overflow_y": null,
            "padding": null,
            "right": null,
            "top": null,
            "visibility": null,
            "width": null
          }
        },
        "eb30b3df7d6f4162b91066be481cbc82": {
          "model_module": "@jupyter-widgets/controls",
          "model_name": "DescriptionStyleModel",
          "model_module_version": "1.5.0",
          "state": {
            "_model_module": "@jupyter-widgets/controls",
            "_model_module_version": "1.5.0",
            "_model_name": "DescriptionStyleModel",
            "_view_count": null,
            "_view_module": "@jupyter-widgets/base",
            "_view_module_version": "1.2.0",
            "_view_name": "StyleView",
            "description_width": ""
          }
        },
        "7315578583b64dc3974c1480c3944b8e": {
          "model_module": "@jupyter-widgets/base",
          "model_name": "LayoutModel",
          "model_module_version": "1.2.0",
          "state": {
            "_model_module": "@jupyter-widgets/base",
            "_model_module_version": "1.2.0",
            "_model_name": "LayoutModel",
            "_view_count": null,
            "_view_module": "@jupyter-widgets/base",
            "_view_module_version": "1.2.0",
            "_view_name": "LayoutView",
            "align_content": null,
            "align_items": null,
            "align_self": null,
            "border": null,
            "bottom": null,
            "display": null,
            "flex": null,
            "flex_flow": null,
            "grid_area": null,
            "grid_auto_columns": null,
            "grid_auto_flow": null,
            "grid_auto_rows": null,
            "grid_column": null,
            "grid_gap": null,
            "grid_row": null,
            "grid_template_areas": null,
            "grid_template_columns": null,
            "grid_template_rows": null,
            "height": null,
            "justify_content": null,
            "justify_items": null,
            "left": null,
            "margin": null,
            "max_height": null,
            "max_width": null,
            "min_height": null,
            "min_width": null,
            "object_fit": null,
            "object_position": null,
            "order": null,
            "overflow": null,
            "overflow_x": null,
            "overflow_y": null,
            "padding": null,
            "right": null,
            "top": null,
            "visibility": null,
            "width": "20px"
          }
        },
        "01666cbd6366437783f1e7f1911f669d": {
          "model_module": "@jupyter-widgets/controls",
          "model_name": "ProgressStyleModel",
          "model_module_version": "1.5.0",
          "state": {
            "_model_module": "@jupyter-widgets/controls",
            "_model_module_version": "1.5.0",
            "_model_name": "ProgressStyleModel",
            "_view_count": null,
            "_view_module": "@jupyter-widgets/base",
            "_view_module_version": "1.2.0",
            "_view_name": "StyleView",
            "bar_color": null,
            "description_width": ""
          }
        },
        "bad87b4750ba4b2fb7820749758ccd70": {
          "model_module": "@jupyter-widgets/base",
          "model_name": "LayoutModel",
          "model_module_version": "1.2.0",
          "state": {
            "_model_module": "@jupyter-widgets/base",
            "_model_module_version": "1.2.0",
            "_model_name": "LayoutModel",
            "_view_count": null,
            "_view_module": "@jupyter-widgets/base",
            "_view_module_version": "1.2.0",
            "_view_name": "LayoutView",
            "align_content": null,
            "align_items": null,
            "align_self": null,
            "border": null,
            "bottom": null,
            "display": null,
            "flex": null,
            "flex_flow": null,
            "grid_area": null,
            "grid_auto_columns": null,
            "grid_auto_flow": null,
            "grid_auto_rows": null,
            "grid_column": null,
            "grid_gap": null,
            "grid_row": null,
            "grid_template_areas": null,
            "grid_template_columns": null,
            "grid_template_rows": null,
            "height": null,
            "justify_content": null,
            "justify_items": null,
            "left": null,
            "margin": null,
            "max_height": null,
            "max_width": null,
            "min_height": null,
            "min_width": null,
            "object_fit": null,
            "object_position": null,
            "order": null,
            "overflow": null,
            "overflow_x": null,
            "overflow_y": null,
            "padding": null,
            "right": null,
            "top": null,
            "visibility": null,
            "width": null
          }
        },
        "ea60e7625a4a45f7aa972d5fe8bb770b": {
          "model_module": "@jupyter-widgets/controls",
          "model_name": "DescriptionStyleModel",
          "model_module_version": "1.5.0",
          "state": {
            "_model_module": "@jupyter-widgets/controls",
            "_model_module_version": "1.5.0",
            "_model_name": "DescriptionStyleModel",
            "_view_count": null,
            "_view_module": "@jupyter-widgets/base",
            "_view_module_version": "1.2.0",
            "_view_name": "StyleView",
            "description_width": ""
          }
        },
        "7d07b3612b024e22a82e4bb572ba866d": {
          "model_module": "@jupyter-widgets/controls",
          "model_name": "HBoxModel",
          "model_module_version": "1.5.0",
          "state": {
            "_dom_classes": [],
            "_model_module": "@jupyter-widgets/controls",
            "_model_module_version": "1.5.0",
            "_model_name": "HBoxModel",
            "_view_count": null,
            "_view_module": "@jupyter-widgets/controls",
            "_view_module_version": "1.5.0",
            "_view_name": "HBoxView",
            "box_style": "",
            "children": [
              "IPY_MODEL_ea564db1fb064821a65d9f0a52cc7354",
              "IPY_MODEL_2b351fa82ab24cc48e32bc7a35fdb051",
              "IPY_MODEL_b64abafb537c4ec9892f5c0df8d87f1e"
            ],
            "layout": "IPY_MODEL_4015db9bc80a4acbbc8c8cb0f49b8425"
          }
        },
        "ea564db1fb064821a65d9f0a52cc7354": {
          "model_module": "@jupyter-widgets/controls",
          "model_name": "HTMLModel",
          "model_module_version": "1.5.0",
          "state": {
            "_dom_classes": [],
            "_model_module": "@jupyter-widgets/controls",
            "_model_module_version": "1.5.0",
            "_model_name": "HTMLModel",
            "_view_count": null,
            "_view_module": "@jupyter-widgets/controls",
            "_view_module_version": "1.5.0",
            "_view_name": "HTMLView",
            "description": "",
            "description_tooltip": null,
            "layout": "IPY_MODEL_be4095f735394c0ca6f2bad110fb97aa",
            "placeholder": "​",
            "style": "IPY_MODEL_3545d10639c244beb0080a400f28e40d",
            "value": "100%"
          }
        },
        "2b351fa82ab24cc48e32bc7a35fdb051": {
          "model_module": "@jupyter-widgets/controls",
          "model_name": "FloatProgressModel",
          "model_module_version": "1.5.0",
          "state": {
            "_dom_classes": [],
            "_model_module": "@jupyter-widgets/controls",
            "_model_module_version": "1.5.0",
            "_model_name": "FloatProgressModel",
            "_view_count": null,
            "_view_module": "@jupyter-widgets/controls",
            "_view_module_version": "1.5.0",
            "_view_name": "ProgressView",
            "bar_style": "danger",
            "description": "",
            "description_tooltip": null,
            "layout": "IPY_MODEL_aee5be42a59e4460b50869c65ca06148",
            "max": 51785,
            "min": 0,
            "orientation": "horizontal",
            "style": "IPY_MODEL_6ab752b578ae4e7baeef7bf6da0048d2",
            "value": 51784
          }
        },
        "b64abafb537c4ec9892f5c0df8d87f1e": {
          "model_module": "@jupyter-widgets/controls",
          "model_name": "HTMLModel",
          "model_module_version": "1.5.0",
          "state": {
            "_dom_classes": [],
            "_model_module": "@jupyter-widgets/controls",
            "_model_module_version": "1.5.0",
            "_model_name": "HTMLModel",
            "_view_count": null,
            "_view_module": "@jupyter-widgets/controls",
            "_view_module_version": "1.5.0",
            "_view_name": "HTMLView",
            "description": "",
            "description_tooltip": null,
            "layout": "IPY_MODEL_98d6ada104764466bf53ab0d30d01e53",
            "placeholder": "​",
            "style": "IPY_MODEL_e233d9fd46eb4d9fba8326f1c01b73b4",
            "value": " 51784/51785 [00:00&lt;00:00, 289438.17 examples/s]"
          }
        },
        "4015db9bc80a4acbbc8c8cb0f49b8425": {
          "model_module": "@jupyter-widgets/base",
          "model_name": "LayoutModel",
          "model_module_version": "1.2.0",
          "state": {
            "_model_module": "@jupyter-widgets/base",
            "_model_module_version": "1.2.0",
            "_model_name": "LayoutModel",
            "_view_count": null,
            "_view_module": "@jupyter-widgets/base",
            "_view_module_version": "1.2.0",
            "_view_name": "LayoutView",
            "align_content": null,
            "align_items": null,
            "align_self": null,
            "border": null,
            "bottom": null,
            "display": null,
            "flex": null,
            "flex_flow": null,
            "grid_area": null,
            "grid_auto_columns": null,
            "grid_auto_flow": null,
            "grid_auto_rows": null,
            "grid_column": null,
            "grid_gap": null,
            "grid_row": null,
            "grid_template_areas": null,
            "grid_template_columns": null,
            "grid_template_rows": null,
            "height": null,
            "justify_content": null,
            "justify_items": null,
            "left": null,
            "margin": null,
            "max_height": null,
            "max_width": null,
            "min_height": null,
            "min_width": null,
            "object_fit": null,
            "object_position": null,
            "order": null,
            "overflow": null,
            "overflow_x": null,
            "overflow_y": null,
            "padding": null,
            "right": null,
            "top": null,
            "visibility": null,
            "width": null
          }
        },
        "be4095f735394c0ca6f2bad110fb97aa": {
          "model_module": "@jupyter-widgets/base",
          "model_name": "LayoutModel",
          "model_module_version": "1.2.0",
          "state": {
            "_model_module": "@jupyter-widgets/base",
            "_model_module_version": "1.2.0",
            "_model_name": "LayoutModel",
            "_view_count": null,
            "_view_module": "@jupyter-widgets/base",
            "_view_module_version": "1.2.0",
            "_view_name": "LayoutView",
            "align_content": null,
            "align_items": null,
            "align_self": null,
            "border": null,
            "bottom": null,
            "display": null,
            "flex": null,
            "flex_flow": null,
            "grid_area": null,
            "grid_auto_columns": null,
            "grid_auto_flow": null,
            "grid_auto_rows": null,
            "grid_column": null,
            "grid_gap": null,
            "grid_row": null,
            "grid_template_areas": null,
            "grid_template_columns": null,
            "grid_template_rows": null,
            "height": null,
            "justify_content": null,
            "justify_items": null,
            "left": null,
            "margin": null,
            "max_height": null,
            "max_width": null,
            "min_height": null,
            "min_width": null,
            "object_fit": null,
            "object_position": null,
            "order": null,
            "overflow": null,
            "overflow_x": null,
            "overflow_y": null,
            "padding": null,
            "right": null,
            "top": null,
            "visibility": null,
            "width": null
          }
        },
        "3545d10639c244beb0080a400f28e40d": {
          "model_module": "@jupyter-widgets/controls",
          "model_name": "DescriptionStyleModel",
          "model_module_version": "1.5.0",
          "state": {
            "_model_module": "@jupyter-widgets/controls",
            "_model_module_version": "1.5.0",
            "_model_name": "DescriptionStyleModel",
            "_view_count": null,
            "_view_module": "@jupyter-widgets/base",
            "_view_module_version": "1.2.0",
            "_view_name": "StyleView",
            "description_width": ""
          }
        },
        "aee5be42a59e4460b50869c65ca06148": {
          "model_module": "@jupyter-widgets/base",
          "model_name": "LayoutModel",
          "model_module_version": "1.2.0",
          "state": {
            "_model_module": "@jupyter-widgets/base",
            "_model_module_version": "1.2.0",
            "_model_name": "LayoutModel",
            "_view_count": null,
            "_view_module": "@jupyter-widgets/base",
            "_view_module_version": "1.2.0",
            "_view_name": "LayoutView",
            "align_content": null,
            "align_items": null,
            "align_self": null,
            "border": null,
            "bottom": null,
            "display": null,
            "flex": null,
            "flex_flow": null,
            "grid_area": null,
            "grid_auto_columns": null,
            "grid_auto_flow": null,
            "grid_auto_rows": null,
            "grid_column": null,
            "grid_gap": null,
            "grid_row": null,
            "grid_template_areas": null,
            "grid_template_columns": null,
            "grid_template_rows": null,
            "height": null,
            "justify_content": null,
            "justify_items": null,
            "left": null,
            "margin": null,
            "max_height": null,
            "max_width": null,
            "min_height": null,
            "min_width": null,
            "object_fit": null,
            "object_position": null,
            "order": null,
            "overflow": null,
            "overflow_x": null,
            "overflow_y": null,
            "padding": null,
            "right": null,
            "top": null,
            "visibility": null,
            "width": null
          }
        },
        "6ab752b578ae4e7baeef7bf6da0048d2": {
          "model_module": "@jupyter-widgets/controls",
          "model_name": "ProgressStyleModel",
          "model_module_version": "1.5.0",
          "state": {
            "_model_module": "@jupyter-widgets/controls",
            "_model_module_version": "1.5.0",
            "_model_name": "ProgressStyleModel",
            "_view_count": null,
            "_view_module": "@jupyter-widgets/base",
            "_view_module_version": "1.2.0",
            "_view_name": "StyleView",
            "bar_color": null,
            "description_width": ""
          }
        },
        "98d6ada104764466bf53ab0d30d01e53": {
          "model_module": "@jupyter-widgets/base",
          "model_name": "LayoutModel",
          "model_module_version": "1.2.0",
          "state": {
            "_model_module": "@jupyter-widgets/base",
            "_model_module_version": "1.2.0",
            "_model_name": "LayoutModel",
            "_view_count": null,
            "_view_module": "@jupyter-widgets/base",
            "_view_module_version": "1.2.0",
            "_view_name": "LayoutView",
            "align_content": null,
            "align_items": null,
            "align_self": null,
            "border": null,
            "bottom": null,
            "display": null,
            "flex": null,
            "flex_flow": null,
            "grid_area": null,
            "grid_auto_columns": null,
            "grid_auto_flow": null,
            "grid_auto_rows": null,
            "grid_column": null,
            "grid_gap": null,
            "grid_row": null,
            "grid_template_areas": null,
            "grid_template_columns": null,
            "grid_template_rows": null,
            "height": null,
            "justify_content": null,
            "justify_items": null,
            "left": null,
            "margin": null,
            "max_height": null,
            "max_width": null,
            "min_height": null,
            "min_width": null,
            "object_fit": null,
            "object_position": null,
            "order": null,
            "overflow": null,
            "overflow_x": null,
            "overflow_y": null,
            "padding": null,
            "right": null,
            "top": null,
            "visibility": null,
            "width": null
          }
        },
        "e233d9fd46eb4d9fba8326f1c01b73b4": {
          "model_module": "@jupyter-widgets/controls",
          "model_name": "DescriptionStyleModel",
          "model_module_version": "1.5.0",
          "state": {
            "_model_module": "@jupyter-widgets/controls",
            "_model_module_version": "1.5.0",
            "_model_name": "DescriptionStyleModel",
            "_view_count": null,
            "_view_module": "@jupyter-widgets/base",
            "_view_module_version": "1.2.0",
            "_view_name": "StyleView",
            "description_width": ""
          }
        },
        "61b5cfee38274cdfb0a5877b6980c2f9": {
          "model_module": "@jupyter-widgets/controls",
          "model_name": "HBoxModel",
          "model_module_version": "1.5.0",
          "state": {
            "_dom_classes": [],
            "_model_module": "@jupyter-widgets/controls",
            "_model_module_version": "1.5.0",
            "_model_name": "HBoxModel",
            "_view_count": null,
            "_view_module": "@jupyter-widgets/controls",
            "_view_module_version": "1.5.0",
            "_view_name": "HBoxView",
            "box_style": "",
            "children": [
              "IPY_MODEL_b9b508e64cbf4349a3e08b52c4a2a526",
              "IPY_MODEL_df58f0dd46724960836eff527f334cce",
              "IPY_MODEL_fe1242af414e4838a5d8595511d76660"
            ],
            "layout": "IPY_MODEL_974a61c2ed964eafb6b900bee4d08951"
          }
        },
        "b9b508e64cbf4349a3e08b52c4a2a526": {
          "model_module": "@jupyter-widgets/controls",
          "model_name": "HTMLModel",
          "model_module_version": "1.5.0",
          "state": {
            "_dom_classes": [],
            "_model_module": "@jupyter-widgets/controls",
            "_model_module_version": "1.5.0",
            "_model_name": "HTMLModel",
            "_view_count": null,
            "_view_module": "@jupyter-widgets/controls",
            "_view_module_version": "1.5.0",
            "_view_name": "HTMLView",
            "description": "",
            "description_tooltip": null,
            "layout": "IPY_MODEL_e08e1a83b5a84f0593a72a99ef3cf278",
            "placeholder": "​",
            "style": "IPY_MODEL_30b75e3782f14a93840c7dd198403f27",
            "value": ""
          }
        },
        "df58f0dd46724960836eff527f334cce": {
          "model_module": "@jupyter-widgets/controls",
          "model_name": "FloatProgressModel",
          "model_module_version": "1.5.0",
          "state": {
            "_dom_classes": [],
            "_model_module": "@jupyter-widgets/controls",
            "_model_module_version": "1.5.0",
            "_model_name": "FloatProgressModel",
            "_view_count": null,
            "_view_module": "@jupyter-widgets/controls",
            "_view_module_version": "1.5.0",
            "_view_name": "ProgressView",
            "bar_style": "info",
            "description": "",
            "description_tooltip": null,
            "layout": "IPY_MODEL_a6aaf89abfdb44f282417503bb309b82",
            "max": 1,
            "min": 0,
            "orientation": "horizontal",
            "style": "IPY_MODEL_6ec9750dec67481a8bd6e4b89648c396",
            "value": 1
          }
        },
        "fe1242af414e4838a5d8595511d76660": {
          "model_module": "@jupyter-widgets/controls",
          "model_name": "HTMLModel",
          "model_module_version": "1.5.0",
          "state": {
            "_dom_classes": [],
            "_model_module": "@jupyter-widgets/controls",
            "_model_module_version": "1.5.0",
            "_model_name": "HTMLModel",
            "_view_count": null,
            "_view_module": "@jupyter-widgets/controls",
            "_view_module_version": "1.5.0",
            "_view_name": "HTMLView",
            "description": "",
            "description_tooltip": null,
            "layout": "IPY_MODEL_a4040554b4e0471cb252bba97103ab98",
            "placeholder": "​",
            "style": "IPY_MODEL_76c185680ae84fc99f8389fb890e0fab",
            "value": " 966/0 [00:00&lt;00:00, 5194.58 examples/s]"
          }
        },
        "974a61c2ed964eafb6b900bee4d08951": {
          "model_module": "@jupyter-widgets/base",
          "model_name": "LayoutModel",
          "model_module_version": "1.2.0",
          "state": {
            "_model_module": "@jupyter-widgets/base",
            "_model_module_version": "1.2.0",
            "_model_name": "LayoutModel",
            "_view_count": null,
            "_view_module": "@jupyter-widgets/base",
            "_view_module_version": "1.2.0",
            "_view_name": "LayoutView",
            "align_content": null,
            "align_items": null,
            "align_self": null,
            "border": null,
            "bottom": null,
            "display": null,
            "flex": null,
            "flex_flow": null,
            "grid_area": null,
            "grid_auto_columns": null,
            "grid_auto_flow": null,
            "grid_auto_rows": null,
            "grid_column": null,
            "grid_gap": null,
            "grid_row": null,
            "grid_template_areas": null,
            "grid_template_columns": null,
            "grid_template_rows": null,
            "height": null,
            "justify_content": null,
            "justify_items": null,
            "left": null,
            "margin": null,
            "max_height": null,
            "max_width": null,
            "min_height": null,
            "min_width": null,
            "object_fit": null,
            "object_position": null,
            "order": null,
            "overflow": null,
            "overflow_x": null,
            "overflow_y": null,
            "padding": null,
            "right": null,
            "top": null,
            "visibility": null,
            "width": null
          }
        },
        "e08e1a83b5a84f0593a72a99ef3cf278": {
          "model_module": "@jupyter-widgets/base",
          "model_name": "LayoutModel",
          "model_module_version": "1.2.0",
          "state": {
            "_model_module": "@jupyter-widgets/base",
            "_model_module_version": "1.2.0",
            "_model_name": "LayoutModel",
            "_view_count": null,
            "_view_module": "@jupyter-widgets/base",
            "_view_module_version": "1.2.0",
            "_view_name": "LayoutView",
            "align_content": null,
            "align_items": null,
            "align_self": null,
            "border": null,
            "bottom": null,
            "display": null,
            "flex": null,
            "flex_flow": null,
            "grid_area": null,
            "grid_auto_columns": null,
            "grid_auto_flow": null,
            "grid_auto_rows": null,
            "grid_column": null,
            "grid_gap": null,
            "grid_row": null,
            "grid_template_areas": null,
            "grid_template_columns": null,
            "grid_template_rows": null,
            "height": null,
            "justify_content": null,
            "justify_items": null,
            "left": null,
            "margin": null,
            "max_height": null,
            "max_width": null,
            "min_height": null,
            "min_width": null,
            "object_fit": null,
            "object_position": null,
            "order": null,
            "overflow": null,
            "overflow_x": null,
            "overflow_y": null,
            "padding": null,
            "right": null,
            "top": null,
            "visibility": null,
            "width": null
          }
        },
        "30b75e3782f14a93840c7dd198403f27": {
          "model_module": "@jupyter-widgets/controls",
          "model_name": "DescriptionStyleModel",
          "model_module_version": "1.5.0",
          "state": {
            "_model_module": "@jupyter-widgets/controls",
            "_model_module_version": "1.5.0",
            "_model_name": "DescriptionStyleModel",
            "_view_count": null,
            "_view_module": "@jupyter-widgets/base",
            "_view_module_version": "1.2.0",
            "_view_name": "StyleView",
            "description_width": ""
          }
        },
        "a6aaf89abfdb44f282417503bb309b82": {
          "model_module": "@jupyter-widgets/base",
          "model_name": "LayoutModel",
          "model_module_version": "1.2.0",
          "state": {
            "_model_module": "@jupyter-widgets/base",
            "_model_module_version": "1.2.0",
            "_model_name": "LayoutModel",
            "_view_count": null,
            "_view_module": "@jupyter-widgets/base",
            "_view_module_version": "1.2.0",
            "_view_name": "LayoutView",
            "align_content": null,
            "align_items": null,
            "align_self": null,
            "border": null,
            "bottom": null,
            "display": null,
            "flex": null,
            "flex_flow": null,
            "grid_area": null,
            "grid_auto_columns": null,
            "grid_auto_flow": null,
            "grid_auto_rows": null,
            "grid_column": null,
            "grid_gap": null,
            "grid_row": null,
            "grid_template_areas": null,
            "grid_template_columns": null,
            "grid_template_rows": null,
            "height": null,
            "justify_content": null,
            "justify_items": null,
            "left": null,
            "margin": null,
            "max_height": null,
            "max_width": null,
            "min_height": null,
            "min_width": null,
            "object_fit": null,
            "object_position": null,
            "order": null,
            "overflow": null,
            "overflow_x": null,
            "overflow_y": null,
            "padding": null,
            "right": null,
            "top": null,
            "visibility": null,
            "width": "20px"
          }
        },
        "6ec9750dec67481a8bd6e4b89648c396": {
          "model_module": "@jupyter-widgets/controls",
          "model_name": "ProgressStyleModel",
          "model_module_version": "1.5.0",
          "state": {
            "_model_module": "@jupyter-widgets/controls",
            "_model_module_version": "1.5.0",
            "_model_name": "ProgressStyleModel",
            "_view_count": null,
            "_view_module": "@jupyter-widgets/base",
            "_view_module_version": "1.2.0",
            "_view_name": "StyleView",
            "bar_color": null,
            "description_width": ""
          }
        },
        "a4040554b4e0471cb252bba97103ab98": {
          "model_module": "@jupyter-widgets/base",
          "model_name": "LayoutModel",
          "model_module_version": "1.2.0",
          "state": {
            "_model_module": "@jupyter-widgets/base",
            "_model_module_version": "1.2.0",
            "_model_name": "LayoutModel",
            "_view_count": null,
            "_view_module": "@jupyter-widgets/base",
            "_view_module_version": "1.2.0",
            "_view_name": "LayoutView",
            "align_content": null,
            "align_items": null,
            "align_self": null,
            "border": null,
            "bottom": null,
            "display": null,
            "flex": null,
            "flex_flow": null,
            "grid_area": null,
            "grid_auto_columns": null,
            "grid_auto_flow": null,
            "grid_auto_rows": null,
            "grid_column": null,
            "grid_gap": null,
            "grid_row": null,
            "grid_template_areas": null,
            "grid_template_columns": null,
            "grid_template_rows": null,
            "height": null,
            "justify_content": null,
            "justify_items": null,
            "left": null,
            "margin": null,
            "max_height": null,
            "max_width": null,
            "min_height": null,
            "min_width": null,
            "object_fit": null,
            "object_position": null,
            "order": null,
            "overflow": null,
            "overflow_x": null,
            "overflow_y": null,
            "padding": null,
            "right": null,
            "top": null,
            "visibility": null,
            "width": null
          }
        },
        "76c185680ae84fc99f8389fb890e0fab": {
          "model_module": "@jupyter-widgets/controls",
          "model_name": "DescriptionStyleModel",
          "model_module_version": "1.5.0",
          "state": {
            "_model_module": "@jupyter-widgets/controls",
            "_model_module_version": "1.5.0",
            "_model_name": "DescriptionStyleModel",
            "_view_count": null,
            "_view_module": "@jupyter-widgets/base",
            "_view_module_version": "1.2.0",
            "_view_name": "StyleView",
            "description_width": ""
          }
        },
        "afba32abfe34485cb71fa06803ed0bde": {
          "model_module": "@jupyter-widgets/controls",
          "model_name": "HBoxModel",
          "model_module_version": "1.5.0",
          "state": {
            "_dom_classes": [],
            "_model_module": "@jupyter-widgets/controls",
            "_model_module_version": "1.5.0",
            "_model_name": "HBoxModel",
            "_view_count": null,
            "_view_module": "@jupyter-widgets/controls",
            "_view_module_version": "1.5.0",
            "_view_name": "HBoxView",
            "box_style": "",
            "children": [
              "IPY_MODEL_4e2c00b0cef147cd800b5529c30973bf",
              "IPY_MODEL_0c2beae99e0a4e97bac7c81b87e7c755",
              "IPY_MODEL_2b6418b77b9c42d5a17f4c8761afd95d"
            ],
            "layout": "IPY_MODEL_51fae4b29d3b45f896343c7022433849"
          }
        },
        "4e2c00b0cef147cd800b5529c30973bf": {
          "model_module": "@jupyter-widgets/controls",
          "model_name": "HTMLModel",
          "model_module_version": "1.5.0",
          "state": {
            "_dom_classes": [],
            "_model_module": "@jupyter-widgets/controls",
            "_model_module_version": "1.5.0",
            "_model_name": "HTMLModel",
            "_view_count": null,
            "_view_module": "@jupyter-widgets/controls",
            "_view_module_version": "1.5.0",
            "_view_name": "HTMLView",
            "description": "",
            "description_tooltip": null,
            "layout": "IPY_MODEL_c5df685c91064646af14e805ba0eab81",
            "placeholder": "​",
            "style": "IPY_MODEL_0b3e24e643034e64be2a487f0ee1e226",
            "value": "100%"
          }
        },
        "0c2beae99e0a4e97bac7c81b87e7c755": {
          "model_module": "@jupyter-widgets/controls",
          "model_name": "FloatProgressModel",
          "model_module_version": "1.5.0",
          "state": {
            "_dom_classes": [],
            "_model_module": "@jupyter-widgets/controls",
            "_model_module_version": "1.5.0",
            "_model_name": "FloatProgressModel",
            "_view_count": null,
            "_view_module": "@jupyter-widgets/controls",
            "_view_module_version": "1.5.0",
            "_view_name": "ProgressView",
            "bar_style": "danger",
            "description": "",
            "description_tooltip": null,
            "layout": "IPY_MODEL_22dd610b541546d8b74c1021b1a7516d",
            "max": 1193,
            "min": 0,
            "orientation": "horizontal",
            "style": "IPY_MODEL_7e85d60762ce40288758da56374986da",
            "value": 1192
          }
        },
        "2b6418b77b9c42d5a17f4c8761afd95d": {
          "model_module": "@jupyter-widgets/controls",
          "model_name": "HTMLModel",
          "model_module_version": "1.5.0",
          "state": {
            "_dom_classes": [],
            "_model_module": "@jupyter-widgets/controls",
            "_model_module_version": "1.5.0",
            "_model_name": "HTMLModel",
            "_view_count": null,
            "_view_module": "@jupyter-widgets/controls",
            "_view_module_version": "1.5.0",
            "_view_name": "HTMLView",
            "description": "",
            "description_tooltip": null,
            "layout": "IPY_MODEL_14991b8ae44e4c5eaa706a7619843c3a",
            "placeholder": "​",
            "style": "IPY_MODEL_12cb2c8023d04ad8a1a24720796dda94",
            "value": " 1192/1193 [00:00&lt;00:00, 32840.97 examples/s]"
          }
        },
        "51fae4b29d3b45f896343c7022433849": {
          "model_module": "@jupyter-widgets/base",
          "model_name": "LayoutModel",
          "model_module_version": "1.2.0",
          "state": {
            "_model_module": "@jupyter-widgets/base",
            "_model_module_version": "1.2.0",
            "_model_name": "LayoutModel",
            "_view_count": null,
            "_view_module": "@jupyter-widgets/base",
            "_view_module_version": "1.2.0",
            "_view_name": "LayoutView",
            "align_content": null,
            "align_items": null,
            "align_self": null,
            "border": null,
            "bottom": null,
            "display": null,
            "flex": null,
            "flex_flow": null,
            "grid_area": null,
            "grid_auto_columns": null,
            "grid_auto_flow": null,
            "grid_auto_rows": null,
            "grid_column": null,
            "grid_gap": null,
            "grid_row": null,
            "grid_template_areas": null,
            "grid_template_columns": null,
            "grid_template_rows": null,
            "height": null,
            "justify_content": null,
            "justify_items": null,
            "left": null,
            "margin": null,
            "max_height": null,
            "max_width": null,
            "min_height": null,
            "min_width": null,
            "object_fit": null,
            "object_position": null,
            "order": null,
            "overflow": null,
            "overflow_x": null,
            "overflow_y": null,
            "padding": null,
            "right": null,
            "top": null,
            "visibility": null,
            "width": null
          }
        },
        "c5df685c91064646af14e805ba0eab81": {
          "model_module": "@jupyter-widgets/base",
          "model_name": "LayoutModel",
          "model_module_version": "1.2.0",
          "state": {
            "_model_module": "@jupyter-widgets/base",
            "_model_module_version": "1.2.0",
            "_model_name": "LayoutModel",
            "_view_count": null,
            "_view_module": "@jupyter-widgets/base",
            "_view_module_version": "1.2.0",
            "_view_name": "LayoutView",
            "align_content": null,
            "align_items": null,
            "align_self": null,
            "border": null,
            "bottom": null,
            "display": null,
            "flex": null,
            "flex_flow": null,
            "grid_area": null,
            "grid_auto_columns": null,
            "grid_auto_flow": null,
            "grid_auto_rows": null,
            "grid_column": null,
            "grid_gap": null,
            "grid_row": null,
            "grid_template_areas": null,
            "grid_template_columns": null,
            "grid_template_rows": null,
            "height": null,
            "justify_content": null,
            "justify_items": null,
            "left": null,
            "margin": null,
            "max_height": null,
            "max_width": null,
            "min_height": null,
            "min_width": null,
            "object_fit": null,
            "object_position": null,
            "order": null,
            "overflow": null,
            "overflow_x": null,
            "overflow_y": null,
            "padding": null,
            "right": null,
            "top": null,
            "visibility": null,
            "width": null
          }
        },
        "0b3e24e643034e64be2a487f0ee1e226": {
          "model_module": "@jupyter-widgets/controls",
          "model_name": "DescriptionStyleModel",
          "model_module_version": "1.5.0",
          "state": {
            "_model_module": "@jupyter-widgets/controls",
            "_model_module_version": "1.5.0",
            "_model_name": "DescriptionStyleModel",
            "_view_count": null,
            "_view_module": "@jupyter-widgets/base",
            "_view_module_version": "1.2.0",
            "_view_name": "StyleView",
            "description_width": ""
          }
        },
        "22dd610b541546d8b74c1021b1a7516d": {
          "model_module": "@jupyter-widgets/base",
          "model_name": "LayoutModel",
          "model_module_version": "1.2.0",
          "state": {
            "_model_module": "@jupyter-widgets/base",
            "_model_module_version": "1.2.0",
            "_model_name": "LayoutModel",
            "_view_count": null,
            "_view_module": "@jupyter-widgets/base",
            "_view_module_version": "1.2.0",
            "_view_name": "LayoutView",
            "align_content": null,
            "align_items": null,
            "align_self": null,
            "border": null,
            "bottom": null,
            "display": null,
            "flex": null,
            "flex_flow": null,
            "grid_area": null,
            "grid_auto_columns": null,
            "grid_auto_flow": null,
            "grid_auto_rows": null,
            "grid_column": null,
            "grid_gap": null,
            "grid_row": null,
            "grid_template_areas": null,
            "grid_template_columns": null,
            "grid_template_rows": null,
            "height": null,
            "justify_content": null,
            "justify_items": null,
            "left": null,
            "margin": null,
            "max_height": null,
            "max_width": null,
            "min_height": null,
            "min_width": null,
            "object_fit": null,
            "object_position": null,
            "order": null,
            "overflow": null,
            "overflow_x": null,
            "overflow_y": null,
            "padding": null,
            "right": null,
            "top": null,
            "visibility": null,
            "width": null
          }
        },
        "7e85d60762ce40288758da56374986da": {
          "model_module": "@jupyter-widgets/controls",
          "model_name": "ProgressStyleModel",
          "model_module_version": "1.5.0",
          "state": {
            "_model_module": "@jupyter-widgets/controls",
            "_model_module_version": "1.5.0",
            "_model_name": "ProgressStyleModel",
            "_view_count": null,
            "_view_module": "@jupyter-widgets/base",
            "_view_module_version": "1.2.0",
            "_view_name": "StyleView",
            "bar_color": null,
            "description_width": ""
          }
        },
        "14991b8ae44e4c5eaa706a7619843c3a": {
          "model_module": "@jupyter-widgets/base",
          "model_name": "LayoutModel",
          "model_module_version": "1.2.0",
          "state": {
            "_model_module": "@jupyter-widgets/base",
            "_model_module_version": "1.2.0",
            "_model_name": "LayoutModel",
            "_view_count": null,
            "_view_module": "@jupyter-widgets/base",
            "_view_module_version": "1.2.0",
            "_view_name": "LayoutView",
            "align_content": null,
            "align_items": null,
            "align_self": null,
            "border": null,
            "bottom": null,
            "display": null,
            "flex": null,
            "flex_flow": null,
            "grid_area": null,
            "grid_auto_columns": null,
            "grid_auto_flow": null,
            "grid_auto_rows": null,
            "grid_column": null,
            "grid_gap": null,
            "grid_row": null,
            "grid_template_areas": null,
            "grid_template_columns": null,
            "grid_template_rows": null,
            "height": null,
            "justify_content": null,
            "justify_items": null,
            "left": null,
            "margin": null,
            "max_height": null,
            "max_width": null,
            "min_height": null,
            "min_width": null,
            "object_fit": null,
            "object_position": null,
            "order": null,
            "overflow": null,
            "overflow_x": null,
            "overflow_y": null,
            "padding": null,
            "right": null,
            "top": null,
            "visibility": null,
            "width": null
          }
        },
        "12cb2c8023d04ad8a1a24720796dda94": {
          "model_module": "@jupyter-widgets/controls",
          "model_name": "DescriptionStyleModel",
          "model_module_version": "1.5.0",
          "state": {
            "_model_module": "@jupyter-widgets/controls",
            "_model_module_version": "1.5.0",
            "_model_name": "DescriptionStyleModel",
            "_view_count": null,
            "_view_module": "@jupyter-widgets/base",
            "_view_module_version": "1.2.0",
            "_view_name": "StyleView",
            "description_width": ""
          }
        },
        "671bd27019ca48009508aacee994dc18": {
          "model_module": "@jupyter-widgets/controls",
          "model_name": "HBoxModel",
          "model_module_version": "1.5.0",
          "state": {
            "_dom_classes": [],
            "_model_module": "@jupyter-widgets/controls",
            "_model_module_version": "1.5.0",
            "_model_name": "HBoxModel",
            "_view_count": null,
            "_view_module": "@jupyter-widgets/controls",
            "_view_module_version": "1.5.0",
            "_view_name": "HBoxView",
            "box_style": "",
            "children": [
              "IPY_MODEL_a876c9378c6749c28e5f1af7ed173d70",
              "IPY_MODEL_b959db3f540c4cb9807e668d6f205feb",
              "IPY_MODEL_771a0fba99cb4e5ea8df0a542a8d7713"
            ],
            "layout": "IPY_MODEL_fbf0cd804ce34f62bc795fb9262a4d5a"
          }
        },
        "a876c9378c6749c28e5f1af7ed173d70": {
          "model_module": "@jupyter-widgets/controls",
          "model_name": "HTMLModel",
          "model_module_version": "1.5.0",
          "state": {
            "_dom_classes": [],
            "_model_module": "@jupyter-widgets/controls",
            "_model_module_version": "1.5.0",
            "_model_name": "HTMLModel",
            "_view_count": null,
            "_view_module": "@jupyter-widgets/controls",
            "_view_module_version": "1.5.0",
            "_view_name": "HTMLView",
            "description": "",
            "description_tooltip": null,
            "layout": "IPY_MODEL_5caa70c635da42e79f9ae2d9b4fb5828",
            "placeholder": "​",
            "style": "IPY_MODEL_efd0fb91530f4c9da13f744d17cf0c68",
            "value": ""
          }
        },
        "b959db3f540c4cb9807e668d6f205feb": {
          "model_module": "@jupyter-widgets/controls",
          "model_name": "FloatProgressModel",
          "model_module_version": "1.5.0",
          "state": {
            "_dom_classes": [],
            "_model_module": "@jupyter-widgets/controls",
            "_model_module_version": "1.5.0",
            "_model_name": "FloatProgressModel",
            "_view_count": null,
            "_view_module": "@jupyter-widgets/controls",
            "_view_module_version": "1.5.0",
            "_view_name": "ProgressView",
            "bar_style": "info",
            "description": "",
            "description_tooltip": null,
            "layout": "IPY_MODEL_52b6b150879c4c0ab9866a7d1e6b35db",
            "max": 1,
            "min": 0,
            "orientation": "horizontal",
            "style": "IPY_MODEL_95ad8e1a3c964aa69f8a62eb1527cc54",
            "value": 1
          }
        },
        "771a0fba99cb4e5ea8df0a542a8d7713": {
          "model_module": "@jupyter-widgets/controls",
          "model_name": "HTMLModel",
          "model_module_version": "1.5.0",
          "state": {
            "_dom_classes": [],
            "_model_module": "@jupyter-widgets/controls",
            "_model_module_version": "1.5.0",
            "_model_name": "HTMLModel",
            "_view_count": null,
            "_view_module": "@jupyter-widgets/controls",
            "_view_module_version": "1.5.0",
            "_view_name": "HTMLView",
            "description": "",
            "description_tooltip": null,
            "layout": "IPY_MODEL_88873a4fc5b440e79d880d5f43d0c584",
            "placeholder": "​",
            "style": "IPY_MODEL_8ddf11d0985f4d728368f73ca4cddac4",
            "value": " 1538/0 [00:00&lt;00:00, 5696.37 examples/s]"
          }
        },
        "fbf0cd804ce34f62bc795fb9262a4d5a": {
          "model_module": "@jupyter-widgets/base",
          "model_name": "LayoutModel",
          "model_module_version": "1.2.0",
          "state": {
            "_model_module": "@jupyter-widgets/base",
            "_model_module_version": "1.2.0",
            "_model_name": "LayoutModel",
            "_view_count": null,
            "_view_module": "@jupyter-widgets/base",
            "_view_module_version": "1.2.0",
            "_view_name": "LayoutView",
            "align_content": null,
            "align_items": null,
            "align_self": null,
            "border": null,
            "bottom": null,
            "display": null,
            "flex": null,
            "flex_flow": null,
            "grid_area": null,
            "grid_auto_columns": null,
            "grid_auto_flow": null,
            "grid_auto_rows": null,
            "grid_column": null,
            "grid_gap": null,
            "grid_row": null,
            "grid_template_areas": null,
            "grid_template_columns": null,
            "grid_template_rows": null,
            "height": null,
            "justify_content": null,
            "justify_items": null,
            "left": null,
            "margin": null,
            "max_height": null,
            "max_width": null,
            "min_height": null,
            "min_width": null,
            "object_fit": null,
            "object_position": null,
            "order": null,
            "overflow": null,
            "overflow_x": null,
            "overflow_y": null,
            "padding": null,
            "right": null,
            "top": null,
            "visibility": null,
            "width": null
          }
        },
        "5caa70c635da42e79f9ae2d9b4fb5828": {
          "model_module": "@jupyter-widgets/base",
          "model_name": "LayoutModel",
          "model_module_version": "1.2.0",
          "state": {
            "_model_module": "@jupyter-widgets/base",
            "_model_module_version": "1.2.0",
            "_model_name": "LayoutModel",
            "_view_count": null,
            "_view_module": "@jupyter-widgets/base",
            "_view_module_version": "1.2.0",
            "_view_name": "LayoutView",
            "align_content": null,
            "align_items": null,
            "align_self": null,
            "border": null,
            "bottom": null,
            "display": null,
            "flex": null,
            "flex_flow": null,
            "grid_area": null,
            "grid_auto_columns": null,
            "grid_auto_flow": null,
            "grid_auto_rows": null,
            "grid_column": null,
            "grid_gap": null,
            "grid_row": null,
            "grid_template_areas": null,
            "grid_template_columns": null,
            "grid_template_rows": null,
            "height": null,
            "justify_content": null,
            "justify_items": null,
            "left": null,
            "margin": null,
            "max_height": null,
            "max_width": null,
            "min_height": null,
            "min_width": null,
            "object_fit": null,
            "object_position": null,
            "order": null,
            "overflow": null,
            "overflow_x": null,
            "overflow_y": null,
            "padding": null,
            "right": null,
            "top": null,
            "visibility": null,
            "width": null
          }
        },
        "efd0fb91530f4c9da13f744d17cf0c68": {
          "model_module": "@jupyter-widgets/controls",
          "model_name": "DescriptionStyleModel",
          "model_module_version": "1.5.0",
          "state": {
            "_model_module": "@jupyter-widgets/controls",
            "_model_module_version": "1.5.0",
            "_model_name": "DescriptionStyleModel",
            "_view_count": null,
            "_view_module": "@jupyter-widgets/base",
            "_view_module_version": "1.2.0",
            "_view_name": "StyleView",
            "description_width": ""
          }
        },
        "52b6b150879c4c0ab9866a7d1e6b35db": {
          "model_module": "@jupyter-widgets/base",
          "model_name": "LayoutModel",
          "model_module_version": "1.2.0",
          "state": {
            "_model_module": "@jupyter-widgets/base",
            "_model_module_version": "1.2.0",
            "_model_name": "LayoutModel",
            "_view_count": null,
            "_view_module": "@jupyter-widgets/base",
            "_view_module_version": "1.2.0",
            "_view_name": "LayoutView",
            "align_content": null,
            "align_items": null,
            "align_self": null,
            "border": null,
            "bottom": null,
            "display": null,
            "flex": null,
            "flex_flow": null,
            "grid_area": null,
            "grid_auto_columns": null,
            "grid_auto_flow": null,
            "grid_auto_rows": null,
            "grid_column": null,
            "grid_gap": null,
            "grid_row": null,
            "grid_template_areas": null,
            "grid_template_columns": null,
            "grid_template_rows": null,
            "height": null,
            "justify_content": null,
            "justify_items": null,
            "left": null,
            "margin": null,
            "max_height": null,
            "max_width": null,
            "min_height": null,
            "min_width": null,
            "object_fit": null,
            "object_position": null,
            "order": null,
            "overflow": null,
            "overflow_x": null,
            "overflow_y": null,
            "padding": null,
            "right": null,
            "top": null,
            "visibility": null,
            "width": "20px"
          }
        },
        "95ad8e1a3c964aa69f8a62eb1527cc54": {
          "model_module": "@jupyter-widgets/controls",
          "model_name": "ProgressStyleModel",
          "model_module_version": "1.5.0",
          "state": {
            "_model_module": "@jupyter-widgets/controls",
            "_model_module_version": "1.5.0",
            "_model_name": "ProgressStyleModel",
            "_view_count": null,
            "_view_module": "@jupyter-widgets/base",
            "_view_module_version": "1.2.0",
            "_view_name": "StyleView",
            "bar_color": null,
            "description_width": ""
          }
        },
        "88873a4fc5b440e79d880d5f43d0c584": {
          "model_module": "@jupyter-widgets/base",
          "model_name": "LayoutModel",
          "model_module_version": "1.2.0",
          "state": {
            "_model_module": "@jupyter-widgets/base",
            "_model_module_version": "1.2.0",
            "_model_name": "LayoutModel",
            "_view_count": null,
            "_view_module": "@jupyter-widgets/base",
            "_view_module_version": "1.2.0",
            "_view_name": "LayoutView",
            "align_content": null,
            "align_items": null,
            "align_self": null,
            "border": null,
            "bottom": null,
            "display": null,
            "flex": null,
            "flex_flow": null,
            "grid_area": null,
            "grid_auto_columns": null,
            "grid_auto_flow": null,
            "grid_auto_rows": null,
            "grid_column": null,
            "grid_gap": null,
            "grid_row": null,
            "grid_template_areas": null,
            "grid_template_columns": null,
            "grid_template_rows": null,
            "height": null,
            "justify_content": null,
            "justify_items": null,
            "left": null,
            "margin": null,
            "max_height": null,
            "max_width": null,
            "min_height": null,
            "min_width": null,
            "object_fit": null,
            "object_position": null,
            "order": null,
            "overflow": null,
            "overflow_x": null,
            "overflow_y": null,
            "padding": null,
            "right": null,
            "top": null,
            "visibility": null,
            "width": null
          }
        },
        "8ddf11d0985f4d728368f73ca4cddac4": {
          "model_module": "@jupyter-widgets/controls",
          "model_name": "DescriptionStyleModel",
          "model_module_version": "1.5.0",
          "state": {
            "_model_module": "@jupyter-widgets/controls",
            "_model_module_version": "1.5.0",
            "_model_name": "DescriptionStyleModel",
            "_view_count": null,
            "_view_module": "@jupyter-widgets/base",
            "_view_module_version": "1.2.0",
            "_view_name": "StyleView",
            "description_width": ""
          }
        },
        "62c05ffd4d964a22bb5cc22d2b1a4d46": {
          "model_module": "@jupyter-widgets/controls",
          "model_name": "HBoxModel",
          "model_module_version": "1.5.0",
          "state": {
            "_dom_classes": [],
            "_model_module": "@jupyter-widgets/controls",
            "_model_module_version": "1.5.0",
            "_model_name": "HBoxModel",
            "_view_count": null,
            "_view_module": "@jupyter-widgets/controls",
            "_view_module_version": "1.5.0",
            "_view_name": "HBoxView",
            "box_style": "",
            "children": [
              "IPY_MODEL_48f6a42a291a4460a098d30fedd24e15",
              "IPY_MODEL_3682d22cffc6465aa346c38c3f7542d7",
              "IPY_MODEL_2db26fe9fd444f7aa27a456835a7c306"
            ],
            "layout": "IPY_MODEL_e5c00b23079a4fd7873e8688ca7b7f0a"
          }
        },
        "48f6a42a291a4460a098d30fedd24e15": {
          "model_module": "@jupyter-widgets/controls",
          "model_name": "HTMLModel",
          "model_module_version": "1.5.0",
          "state": {
            "_dom_classes": [],
            "_model_module": "@jupyter-widgets/controls",
            "_model_module_version": "1.5.0",
            "_model_name": "HTMLModel",
            "_view_count": null,
            "_view_module": "@jupyter-widgets/controls",
            "_view_module_version": "1.5.0",
            "_view_name": "HTMLView",
            "description": "",
            "description_tooltip": null,
            "layout": "IPY_MODEL_cc35c467df2c4746bbfdb0d1872db3c8",
            "placeholder": "​",
            "style": "IPY_MODEL_8bb625f1e0b6457893b3f8663fe0ecba",
            "value": "100%"
          }
        },
        "3682d22cffc6465aa346c38c3f7542d7": {
          "model_module": "@jupyter-widgets/controls",
          "model_name": "FloatProgressModel",
          "model_module_version": "1.5.0",
          "state": {
            "_dom_classes": [],
            "_model_module": "@jupyter-widgets/controls",
            "_model_module_version": "1.5.0",
            "_model_name": "FloatProgressModel",
            "_view_count": null,
            "_view_module": "@jupyter-widgets/controls",
            "_view_module_version": "1.5.0",
            "_view_name": "ProgressView",
            "bar_style": "danger",
            "description": "",
            "description_tooltip": null,
            "layout": "IPY_MODEL_3c0936f4baa6476788ab126f152f78c0",
            "max": 1803,
            "min": 0,
            "orientation": "horizontal",
            "style": "IPY_MODEL_a67f57a33f524cf38e0b66a3465df11f",
            "value": 1802
          }
        },
        "2db26fe9fd444f7aa27a456835a7c306": {
          "model_module": "@jupyter-widgets/controls",
          "model_name": "HTMLModel",
          "model_module_version": "1.5.0",
          "state": {
            "_dom_classes": [],
            "_model_module": "@jupyter-widgets/controls",
            "_model_module_version": "1.5.0",
            "_model_name": "HTMLModel",
            "_view_count": null,
            "_view_module": "@jupyter-widgets/controls",
            "_view_module_version": "1.5.0",
            "_view_name": "HTMLView",
            "description": "",
            "description_tooltip": null,
            "layout": "IPY_MODEL_2c2ed52933694db2896559bcf89f1368",
            "placeholder": "​",
            "style": "IPY_MODEL_394fa8ff4b3946d4a1040a1ef0be19ba",
            "value": " 1802/1803 [00:00&lt;00:00, 36461.48 examples/s]"
          }
        },
        "e5c00b23079a4fd7873e8688ca7b7f0a": {
          "model_module": "@jupyter-widgets/base",
          "model_name": "LayoutModel",
          "model_module_version": "1.2.0",
          "state": {
            "_model_module": "@jupyter-widgets/base",
            "_model_module_version": "1.2.0",
            "_model_name": "LayoutModel",
            "_view_count": null,
            "_view_module": "@jupyter-widgets/base",
            "_view_module_version": "1.2.0",
            "_view_name": "LayoutView",
            "align_content": null,
            "align_items": null,
            "align_self": null,
            "border": null,
            "bottom": null,
            "display": null,
            "flex": null,
            "flex_flow": null,
            "grid_area": null,
            "grid_auto_columns": null,
            "grid_auto_flow": null,
            "grid_auto_rows": null,
            "grid_column": null,
            "grid_gap": null,
            "grid_row": null,
            "grid_template_areas": null,
            "grid_template_columns": null,
            "grid_template_rows": null,
            "height": null,
            "justify_content": null,
            "justify_items": null,
            "left": null,
            "margin": null,
            "max_height": null,
            "max_width": null,
            "min_height": null,
            "min_width": null,
            "object_fit": null,
            "object_position": null,
            "order": null,
            "overflow": null,
            "overflow_x": null,
            "overflow_y": null,
            "padding": null,
            "right": null,
            "top": null,
            "visibility": null,
            "width": null
          }
        },
        "cc35c467df2c4746bbfdb0d1872db3c8": {
          "model_module": "@jupyter-widgets/base",
          "model_name": "LayoutModel",
          "model_module_version": "1.2.0",
          "state": {
            "_model_module": "@jupyter-widgets/base",
            "_model_module_version": "1.2.0",
            "_model_name": "LayoutModel",
            "_view_count": null,
            "_view_module": "@jupyter-widgets/base",
            "_view_module_version": "1.2.0",
            "_view_name": "LayoutView",
            "align_content": null,
            "align_items": null,
            "align_self": null,
            "border": null,
            "bottom": null,
            "display": null,
            "flex": null,
            "flex_flow": null,
            "grid_area": null,
            "grid_auto_columns": null,
            "grid_auto_flow": null,
            "grid_auto_rows": null,
            "grid_column": null,
            "grid_gap": null,
            "grid_row": null,
            "grid_template_areas": null,
            "grid_template_columns": null,
            "grid_template_rows": null,
            "height": null,
            "justify_content": null,
            "justify_items": null,
            "left": null,
            "margin": null,
            "max_height": null,
            "max_width": null,
            "min_height": null,
            "min_width": null,
            "object_fit": null,
            "object_position": null,
            "order": null,
            "overflow": null,
            "overflow_x": null,
            "overflow_y": null,
            "padding": null,
            "right": null,
            "top": null,
            "visibility": null,
            "width": null
          }
        },
        "8bb625f1e0b6457893b3f8663fe0ecba": {
          "model_module": "@jupyter-widgets/controls",
          "model_name": "DescriptionStyleModel",
          "model_module_version": "1.5.0",
          "state": {
            "_model_module": "@jupyter-widgets/controls",
            "_model_module_version": "1.5.0",
            "_model_name": "DescriptionStyleModel",
            "_view_count": null,
            "_view_module": "@jupyter-widgets/base",
            "_view_module_version": "1.2.0",
            "_view_name": "StyleView",
            "description_width": ""
          }
        },
        "3c0936f4baa6476788ab126f152f78c0": {
          "model_module": "@jupyter-widgets/base",
          "model_name": "LayoutModel",
          "model_module_version": "1.2.0",
          "state": {
            "_model_module": "@jupyter-widgets/base",
            "_model_module_version": "1.2.0",
            "_model_name": "LayoutModel",
            "_view_count": null,
            "_view_module": "@jupyter-widgets/base",
            "_view_module_version": "1.2.0",
            "_view_name": "LayoutView",
            "align_content": null,
            "align_items": null,
            "align_self": null,
            "border": null,
            "bottom": null,
            "display": null,
            "flex": null,
            "flex_flow": null,
            "grid_area": null,
            "grid_auto_columns": null,
            "grid_auto_flow": null,
            "grid_auto_rows": null,
            "grid_column": null,
            "grid_gap": null,
            "grid_row": null,
            "grid_template_areas": null,
            "grid_template_columns": null,
            "grid_template_rows": null,
            "height": null,
            "justify_content": null,
            "justify_items": null,
            "left": null,
            "margin": null,
            "max_height": null,
            "max_width": null,
            "min_height": null,
            "min_width": null,
            "object_fit": null,
            "object_position": null,
            "order": null,
            "overflow": null,
            "overflow_x": null,
            "overflow_y": null,
            "padding": null,
            "right": null,
            "top": null,
            "visibility": null,
            "width": null
          }
        },
        "a67f57a33f524cf38e0b66a3465df11f": {
          "model_module": "@jupyter-widgets/controls",
          "model_name": "ProgressStyleModel",
          "model_module_version": "1.5.0",
          "state": {
            "_model_module": "@jupyter-widgets/controls",
            "_model_module_version": "1.5.0",
            "_model_name": "ProgressStyleModel",
            "_view_count": null,
            "_view_module": "@jupyter-widgets/base",
            "_view_module_version": "1.2.0",
            "_view_name": "StyleView",
            "bar_color": null,
            "description_width": ""
          }
        },
        "2c2ed52933694db2896559bcf89f1368": {
          "model_module": "@jupyter-widgets/base",
          "model_name": "LayoutModel",
          "model_module_version": "1.2.0",
          "state": {
            "_model_module": "@jupyter-widgets/base",
            "_model_module_version": "1.2.0",
            "_model_name": "LayoutModel",
            "_view_count": null,
            "_view_module": "@jupyter-widgets/base",
            "_view_module_version": "1.2.0",
            "_view_name": "LayoutView",
            "align_content": null,
            "align_items": null,
            "align_self": null,
            "border": null,
            "bottom": null,
            "display": null,
            "flex": null,
            "flex_flow": null,
            "grid_area": null,
            "grid_auto_columns": null,
            "grid_auto_flow": null,
            "grid_auto_rows": null,
            "grid_column": null,
            "grid_gap": null,
            "grid_row": null,
            "grid_template_areas": null,
            "grid_template_columns": null,
            "grid_template_rows": null,
            "height": null,
            "justify_content": null,
            "justify_items": null,
            "left": null,
            "margin": null,
            "max_height": null,
            "max_width": null,
            "min_height": null,
            "min_width": null,
            "object_fit": null,
            "object_position": null,
            "order": null,
            "overflow": null,
            "overflow_x": null,
            "overflow_y": null,
            "padding": null,
            "right": null,
            "top": null,
            "visibility": null,
            "width": null
          }
        },
        "394fa8ff4b3946d4a1040a1ef0be19ba": {
          "model_module": "@jupyter-widgets/controls",
          "model_name": "DescriptionStyleModel",
          "model_module_version": "1.5.0",
          "state": {
            "_model_module": "@jupyter-widgets/controls",
            "_model_module_version": "1.5.0",
            "_model_name": "DescriptionStyleModel",
            "_view_count": null,
            "_view_module": "@jupyter-widgets/base",
            "_view_module_version": "1.2.0",
            "_view_name": "StyleView",
            "description_width": ""
          }
        }
      }
    },
    "accelerator": "GPU",
    "gpuClass": "standard"
  },
  "cells": [
    {
      "cell_type": "markdown",
      "metadata": {
        "id": "view-in-github",
        "colab_type": "text"
      },
      "source": [
        "<a href=\"https://colab.research.google.com/github/Ajay-user/ML-DL-RL-repo/blob/master/seq2seq/Transformer_model_Portuguese_to_English.ipynb\" target=\"_parent\"><img src=\"https://colab.research.google.com/assets/colab-badge.svg\" alt=\"Open In Colab\"/></a>"
      ]
    },
    {
      "cell_type": "code",
      "execution_count": 1,
      "metadata": {
        "id": "_mSR3UyeCKfO",
        "colab": {
          "base_uri": "https://localhost:8080/"
        },
        "outputId": "b5d7baef-ff8d-4f9f-c982-83de6e81ba13"
      },
      "outputs": [
        {
          "output_type": "stream",
          "name": "stdout",
          "text": [
            "Looking in indexes: https://pypi.org/simple, https://us-python.pkg.dev/colab-wheels/public/simple/\n",
            "Requirement already satisfied: tensorflow_datasets in /usr/local/lib/python3.7/dist-packages (4.0.1)\n",
            "Requirement already satisfied: dm-tree in /usr/local/lib/python3.7/dist-packages (from tensorflow_datasets) (0.1.7)\n",
            "Requirement already satisfied: dill in /usr/local/lib/python3.7/dist-packages (from tensorflow_datasets) (0.3.5.1)\n",
            "Requirement already satisfied: tensorflow-metadata in /usr/local/lib/python3.7/dist-packages (from tensorflow_datasets) (1.8.0)\n",
            "Requirement already satisfied: attrs>=18.1.0 in /usr/local/lib/python3.7/dist-packages (from tensorflow_datasets) (21.4.0)\n",
            "Requirement already satisfied: promise in /usr/local/lib/python3.7/dist-packages (from tensorflow_datasets) (2.3)\n",
            "Requirement already satisfied: importlib-resources in /usr/local/lib/python3.7/dist-packages (from tensorflow_datasets) (5.7.1)\n",
            "Requirement already satisfied: absl-py in /usr/local/lib/python3.7/dist-packages (from tensorflow_datasets) (1.1.0)\n",
            "Requirement already satisfied: requests>=2.19.0 in /usr/local/lib/python3.7/dist-packages (from tensorflow_datasets) (2.23.0)\n",
            "Requirement already satisfied: numpy in /usr/local/lib/python3.7/dist-packages (from tensorflow_datasets) (1.21.6)\n",
            "Requirement already satisfied: tqdm in /usr/local/lib/python3.7/dist-packages (from tensorflow_datasets) (4.64.0)\n",
            "Requirement already satisfied: six in /usr/local/lib/python3.7/dist-packages (from tensorflow_datasets) (1.15.0)\n",
            "Requirement already satisfied: future in /usr/local/lib/python3.7/dist-packages (from tensorflow_datasets) (0.16.0)\n",
            "Requirement already satisfied: protobuf>=3.6.1 in /usr/local/lib/python3.7/dist-packages (from tensorflow_datasets) (3.17.3)\n",
            "Requirement already satisfied: termcolor in /usr/local/lib/python3.7/dist-packages (from tensorflow_datasets) (1.1.0)\n",
            "Requirement already satisfied: chardet<4,>=3.0.2 in /usr/local/lib/python3.7/dist-packages (from requests>=2.19.0->tensorflow_datasets) (3.0.4)\n",
            "Requirement already satisfied: certifi>=2017.4.17 in /usr/local/lib/python3.7/dist-packages (from requests>=2.19.0->tensorflow_datasets) (2022.6.15)\n",
            "Requirement already satisfied: urllib3!=1.25.0,!=1.25.1,<1.26,>=1.21.1 in /usr/local/lib/python3.7/dist-packages (from requests>=2.19.0->tensorflow_datasets) (1.24.3)\n",
            "Requirement already satisfied: idna<3,>=2.5 in /usr/local/lib/python3.7/dist-packages (from requests>=2.19.0->tensorflow_datasets) (2.10)\n",
            "Requirement already satisfied: zipp>=3.1.0 in /usr/local/lib/python3.7/dist-packages (from importlib-resources->tensorflow_datasets) (3.8.0)\n",
            "Requirement already satisfied: googleapis-common-protos<2,>=1.52.0 in /usr/local/lib/python3.7/dist-packages (from tensorflow-metadata->tensorflow_datasets) (1.56.2)\n",
            "Looking in indexes: https://pypi.org/simple, https://us-python.pkg.dev/colab-wheels/public/simple/\n",
            "Collecting tensorflow-text==2.8.*\n",
            "  Downloading tensorflow_text-2.8.2-cp37-cp37m-manylinux_2_12_x86_64.manylinux2010_x86_64.whl (4.9 MB)\n",
            "\u001b[K     |████████████████████████████████| 4.9 MB 30.3 MB/s \n",
            "\u001b[?25hRequirement already satisfied: tensorflow-hub>=0.8.0 in /usr/local/lib/python3.7/dist-packages (from tensorflow-text==2.8.*) (0.12.0)\n",
            "Requirement already satisfied: tensorflow<2.9,>=2.8.0 in /usr/local/lib/python3.7/dist-packages (from tensorflow-text==2.8.*) (2.8.2+zzzcolab20220527125636)\n",
            "Requirement already satisfied: google-pasta>=0.1.1 in /usr/local/lib/python3.7/dist-packages (from tensorflow<2.9,>=2.8.0->tensorflow-text==2.8.*) (0.2.0)\n",
            "Requirement already satisfied: termcolor>=1.1.0 in /usr/local/lib/python3.7/dist-packages (from tensorflow<2.9,>=2.8.0->tensorflow-text==2.8.*) (1.1.0)\n",
            "Requirement already satisfied: numpy>=1.20 in /usr/local/lib/python3.7/dist-packages (from tensorflow<2.9,>=2.8.0->tensorflow-text==2.8.*) (1.21.6)\n",
            "Requirement already satisfied: tensorflow-io-gcs-filesystem>=0.23.1 in /usr/local/lib/python3.7/dist-packages (from tensorflow<2.9,>=2.8.0->tensorflow-text==2.8.*) (0.26.0)\n",
            "Requirement already satisfied: protobuf<3.20,>=3.9.2 in /usr/local/lib/python3.7/dist-packages (from tensorflow<2.9,>=2.8.0->tensorflow-text==2.8.*) (3.17.3)\n",
            "Requirement already satisfied: astunparse>=1.6.0 in /usr/local/lib/python3.7/dist-packages (from tensorflow<2.9,>=2.8.0->tensorflow-text==2.8.*) (1.6.3)\n",
            "Requirement already satisfied: gast>=0.2.1 in /usr/local/lib/python3.7/dist-packages (from tensorflow<2.9,>=2.8.0->tensorflow-text==2.8.*) (0.5.3)\n",
            "Requirement already satisfied: keras<2.9,>=2.8.0rc0 in /usr/local/lib/python3.7/dist-packages (from tensorflow<2.9,>=2.8.0->tensorflow-text==2.8.*) (2.8.0)\n",
            "Requirement already satisfied: opt-einsum>=2.3.2 in /usr/local/lib/python3.7/dist-packages (from tensorflow<2.9,>=2.8.0->tensorflow-text==2.8.*) (3.3.0)\n",
            "Requirement already satisfied: absl-py>=0.4.0 in /usr/local/lib/python3.7/dist-packages (from tensorflow<2.9,>=2.8.0->tensorflow-text==2.8.*) (1.1.0)\n",
            "Requirement already satisfied: tensorboard<2.9,>=2.8 in /usr/local/lib/python3.7/dist-packages (from tensorflow<2.9,>=2.8.0->tensorflow-text==2.8.*) (2.8.0)\n",
            "Requirement already satisfied: grpcio<2.0,>=1.24.3 in /usr/local/lib/python3.7/dist-packages (from tensorflow<2.9,>=2.8.0->tensorflow-text==2.8.*) (1.46.3)\n",
            "Requirement already satisfied: libclang>=9.0.1 in /usr/local/lib/python3.7/dist-packages (from tensorflow<2.9,>=2.8.0->tensorflow-text==2.8.*) (14.0.1)\n",
            "Requirement already satisfied: tensorflow-estimator<2.9,>=2.8 in /usr/local/lib/python3.7/dist-packages (from tensorflow<2.9,>=2.8.0->tensorflow-text==2.8.*) (2.8.0)\n",
            "Requirement already satisfied: setuptools in /usr/local/lib/python3.7/dist-packages (from tensorflow<2.9,>=2.8.0->tensorflow-text==2.8.*) (57.4.0)\n",
            "Requirement already satisfied: typing-extensions>=3.6.6 in /usr/local/lib/python3.7/dist-packages (from tensorflow<2.9,>=2.8.0->tensorflow-text==2.8.*) (4.1.1)\n",
            "Requirement already satisfied: flatbuffers>=1.12 in /usr/local/lib/python3.7/dist-packages (from tensorflow<2.9,>=2.8.0->tensorflow-text==2.8.*) (2.0)\n",
            "Requirement already satisfied: wrapt>=1.11.0 in /usr/local/lib/python3.7/dist-packages (from tensorflow<2.9,>=2.8.0->tensorflow-text==2.8.*) (1.14.1)\n",
            "Requirement already satisfied: six>=1.12.0 in /usr/local/lib/python3.7/dist-packages (from tensorflow<2.9,>=2.8.0->tensorflow-text==2.8.*) (1.15.0)\n",
            "Requirement already satisfied: keras-preprocessing>=1.1.1 in /usr/local/lib/python3.7/dist-packages (from tensorflow<2.9,>=2.8.0->tensorflow-text==2.8.*) (1.1.2)\n",
            "Requirement already satisfied: h5py>=2.9.0 in /usr/local/lib/python3.7/dist-packages (from tensorflow<2.9,>=2.8.0->tensorflow-text==2.8.*) (3.1.0)\n",
            "Requirement already satisfied: wheel<1.0,>=0.23.0 in /usr/local/lib/python3.7/dist-packages (from astunparse>=1.6.0->tensorflow<2.9,>=2.8.0->tensorflow-text==2.8.*) (0.37.1)\n",
            "Requirement already satisfied: cached-property in /usr/local/lib/python3.7/dist-packages (from h5py>=2.9.0->tensorflow<2.9,>=2.8.0->tensorflow-text==2.8.*) (1.5.2)\n",
            "Requirement already satisfied: tensorboard-data-server<0.7.0,>=0.6.0 in /usr/local/lib/python3.7/dist-packages (from tensorboard<2.9,>=2.8->tensorflow<2.9,>=2.8.0->tensorflow-text==2.8.*) (0.6.1)\n",
            "Requirement already satisfied: tensorboard-plugin-wit>=1.6.0 in /usr/local/lib/python3.7/dist-packages (from tensorboard<2.9,>=2.8->tensorflow<2.9,>=2.8.0->tensorflow-text==2.8.*) (1.8.1)\n",
            "Requirement already satisfied: google-auth-oauthlib<0.5,>=0.4.1 in /usr/local/lib/python3.7/dist-packages (from tensorboard<2.9,>=2.8->tensorflow<2.9,>=2.8.0->tensorflow-text==2.8.*) (0.4.6)\n",
            "Requirement already satisfied: requests<3,>=2.21.0 in /usr/local/lib/python3.7/dist-packages (from tensorboard<2.9,>=2.8->tensorflow<2.9,>=2.8.0->tensorflow-text==2.8.*) (2.23.0)\n",
            "Requirement already satisfied: google-auth<3,>=1.6.3 in /usr/local/lib/python3.7/dist-packages (from tensorboard<2.9,>=2.8->tensorflow<2.9,>=2.8.0->tensorflow-text==2.8.*) (1.35.0)\n",
            "Requirement already satisfied: werkzeug>=0.11.15 in /usr/local/lib/python3.7/dist-packages (from tensorboard<2.9,>=2.8->tensorflow<2.9,>=2.8.0->tensorflow-text==2.8.*) (1.0.1)\n",
            "Requirement already satisfied: markdown>=2.6.8 in /usr/local/lib/python3.7/dist-packages (from tensorboard<2.9,>=2.8->tensorflow<2.9,>=2.8.0->tensorflow-text==2.8.*) (3.3.7)\n",
            "Requirement already satisfied: cachetools<5.0,>=2.0.0 in /usr/local/lib/python3.7/dist-packages (from google-auth<3,>=1.6.3->tensorboard<2.9,>=2.8->tensorflow<2.9,>=2.8.0->tensorflow-text==2.8.*) (4.2.4)\n",
            "Requirement already satisfied: rsa<5,>=3.1.4 in /usr/local/lib/python3.7/dist-packages (from google-auth<3,>=1.6.3->tensorboard<2.9,>=2.8->tensorflow<2.9,>=2.8.0->tensorflow-text==2.8.*) (4.8)\n",
            "Requirement already satisfied: pyasn1-modules>=0.2.1 in /usr/local/lib/python3.7/dist-packages (from google-auth<3,>=1.6.3->tensorboard<2.9,>=2.8->tensorflow<2.9,>=2.8.0->tensorflow-text==2.8.*) (0.2.8)\n",
            "Requirement already satisfied: requests-oauthlib>=0.7.0 in /usr/local/lib/python3.7/dist-packages (from google-auth-oauthlib<0.5,>=0.4.1->tensorboard<2.9,>=2.8->tensorflow<2.9,>=2.8.0->tensorflow-text==2.8.*) (1.3.1)\n",
            "Requirement already satisfied: importlib-metadata>=4.4 in /usr/local/lib/python3.7/dist-packages (from markdown>=2.6.8->tensorboard<2.9,>=2.8->tensorflow<2.9,>=2.8.0->tensorflow-text==2.8.*) (4.11.4)\n",
            "Requirement already satisfied: zipp>=0.5 in /usr/local/lib/python3.7/dist-packages (from importlib-metadata>=4.4->markdown>=2.6.8->tensorboard<2.9,>=2.8->tensorflow<2.9,>=2.8.0->tensorflow-text==2.8.*) (3.8.0)\n",
            "Requirement already satisfied: pyasn1<0.5.0,>=0.4.6 in /usr/local/lib/python3.7/dist-packages (from pyasn1-modules>=0.2.1->google-auth<3,>=1.6.3->tensorboard<2.9,>=2.8->tensorflow<2.9,>=2.8.0->tensorflow-text==2.8.*) (0.4.8)\n",
            "Requirement already satisfied: certifi>=2017.4.17 in /usr/local/lib/python3.7/dist-packages (from requests<3,>=2.21.0->tensorboard<2.9,>=2.8->tensorflow<2.9,>=2.8.0->tensorflow-text==2.8.*) (2022.6.15)\n",
            "Requirement already satisfied: idna<3,>=2.5 in /usr/local/lib/python3.7/dist-packages (from requests<3,>=2.21.0->tensorboard<2.9,>=2.8->tensorflow<2.9,>=2.8.0->tensorflow-text==2.8.*) (2.10)\n",
            "Requirement already satisfied: urllib3!=1.25.0,!=1.25.1,<1.26,>=1.21.1 in /usr/local/lib/python3.7/dist-packages (from requests<3,>=2.21.0->tensorboard<2.9,>=2.8->tensorflow<2.9,>=2.8.0->tensorflow-text==2.8.*) (1.24.3)\n",
            "Requirement already satisfied: chardet<4,>=3.0.2 in /usr/local/lib/python3.7/dist-packages (from requests<3,>=2.21.0->tensorboard<2.9,>=2.8->tensorflow<2.9,>=2.8.0->tensorflow-text==2.8.*) (3.0.4)\n",
            "Requirement already satisfied: oauthlib>=3.0.0 in /usr/local/lib/python3.7/dist-packages (from requests-oauthlib>=0.7.0->google-auth-oauthlib<0.5,>=0.4.1->tensorboard<2.9,>=2.8->tensorflow<2.9,>=2.8.0->tensorflow-text==2.8.*) (3.2.0)\n",
            "Installing collected packages: tensorflow-text\n",
            "Successfully installed tensorflow-text-2.8.2\n"
          ]
        }
      ],
      "source": [
        "!pip install tensorflow_datasets\n",
        "!pip install -U 'tensorflow-text==2.8.*'"
      ]
    },
    {
      "cell_type": "code",
      "source": [
        "import numpy as np\n",
        "import matplotlib.pyplot as plt\n",
        "import seaborn as sns\n",
        "\n",
        "import tensorflow_datasets as tfds\n",
        "import tensorflow as tf\n",
        "\n",
        "# Import tf_text to load the ops used by the tokenizer saved model\n",
        "import tensorflow_text as tf_text"
      ],
      "metadata": {
        "id": "PqGRZv2RYWZh"
      },
      "execution_count": 2,
      "outputs": []
    },
    {
      "cell_type": "markdown",
      "source": [
        "\n",
        "## Download the Dataset"
      ],
      "metadata": {
        "id": "2RqN6TBgYzLg"
      }
    },
    {
      "cell_type": "code",
      "source": [
        "examples, metadata = tfds.load('ted_hrlr_translate/pt_to_en', with_info=True,\n",
        "                               as_supervised=True)\n",
        "train_examples, val_examples = examples['train'], examples['validation']"
      ],
      "metadata": {
        "colab": {
          "base_uri": "https://localhost:8080/",
          "height": 368,
          "referenced_widgets": [
            "84c9feebdb5342ca8f3db54b27e1bbe7",
            "a36cf864e0e24818abf266471b4b183f",
            "4045df7ed6b046d2b92beb004b669aab",
            "6adf9e1d96e6477fa15ec585eeb62054",
            "d3b676841f3148dba929bd8bcbce0682",
            "d1627142c3984b1bbf75af149cc51b9b",
            "5b38b579ff754e68835983bf17527959",
            "7d0eaf95a5484d52a84c3ff754bcea68",
            "4fb63c53f4d045198319d63271a21479",
            "4f4963eff4584e38a7af3499a7f70e0b",
            "81acc71a5cc54dff96990f273e8430f1",
            "bf7c1fa9ed944b348bc08437a5e00a23",
            "ed96c1b6fe9446ca926d38a8b78ead17",
            "cdbfd0d162f9446ba2bba9f830875db4",
            "3e5da86f1b4245d1bc78df9264c84e7d",
            "94c37cfe83e742408d45fe4f24725837",
            "c3b196d136d14137a6224e1f3c456368",
            "05c3e21e92354c098b851947322d9bd9",
            "39e1f575ed5f4deea02f9971445ab482",
            "392d3eb8aa85438fa737d67b19a23230",
            "27c202443fa3416f92bf1404e9db8e1c",
            "9c2790a901a84f35a2712778acb8aeab",
            "7a761b6c7c994a15acf908d6238af6ba",
            "ec1389ec3a2e4ad88eb5d197c5ee709f",
            "5ee40258e0bb4f3caab2f40e1a489691",
            "d5a09e2260714b309c63fdebc1859f9f",
            "f40cc6ad85714743aa3c3dc2ddae5d07",
            "7e25cd76205d4b23a6e6689828b66b8c",
            "688d9635a5f64f52aef4b7c865528905",
            "af5173a852954e089d5a2f00b35e461e",
            "222623815ee8473da6d5d2b7031b1a0c",
            "cecef64ee0564c5fbf6735d1815b916c",
            "82c319a6bc6a4c0498638249a8926f8a",
            "8a425da341f0435c8c05bed89fe5ce2d",
            "35f56937eb04458085c517e289dd486a",
            "6622acfb71ec4c6b96ec83a2537320b3",
            "73c77f77db3c4aa6a2d8c07c3f8667c6",
            "6de40907adf8430982084e1f13a93277",
            "89c417da9faa46bbb74dd4836302c9b4",
            "eb30b3df7d6f4162b91066be481cbc82",
            "7315578583b64dc3974c1480c3944b8e",
            "01666cbd6366437783f1e7f1911f669d",
            "bad87b4750ba4b2fb7820749758ccd70",
            "ea60e7625a4a45f7aa972d5fe8bb770b",
            "7d07b3612b024e22a82e4bb572ba866d",
            "ea564db1fb064821a65d9f0a52cc7354",
            "2b351fa82ab24cc48e32bc7a35fdb051",
            "b64abafb537c4ec9892f5c0df8d87f1e",
            "4015db9bc80a4acbbc8c8cb0f49b8425",
            "be4095f735394c0ca6f2bad110fb97aa",
            "3545d10639c244beb0080a400f28e40d",
            "aee5be42a59e4460b50869c65ca06148",
            "6ab752b578ae4e7baeef7bf6da0048d2",
            "98d6ada104764466bf53ab0d30d01e53",
            "e233d9fd46eb4d9fba8326f1c01b73b4",
            "61b5cfee38274cdfb0a5877b6980c2f9",
            "b9b508e64cbf4349a3e08b52c4a2a526",
            "df58f0dd46724960836eff527f334cce",
            "fe1242af414e4838a5d8595511d76660",
            "974a61c2ed964eafb6b900bee4d08951",
            "e08e1a83b5a84f0593a72a99ef3cf278",
            "30b75e3782f14a93840c7dd198403f27",
            "a6aaf89abfdb44f282417503bb309b82",
            "6ec9750dec67481a8bd6e4b89648c396",
            "a4040554b4e0471cb252bba97103ab98",
            "76c185680ae84fc99f8389fb890e0fab",
            "afba32abfe34485cb71fa06803ed0bde",
            "4e2c00b0cef147cd800b5529c30973bf",
            "0c2beae99e0a4e97bac7c81b87e7c755",
            "2b6418b77b9c42d5a17f4c8761afd95d",
            "51fae4b29d3b45f896343c7022433849",
            "c5df685c91064646af14e805ba0eab81",
            "0b3e24e643034e64be2a487f0ee1e226",
            "22dd610b541546d8b74c1021b1a7516d",
            "7e85d60762ce40288758da56374986da",
            "14991b8ae44e4c5eaa706a7619843c3a",
            "12cb2c8023d04ad8a1a24720796dda94",
            "671bd27019ca48009508aacee994dc18",
            "a876c9378c6749c28e5f1af7ed173d70",
            "b959db3f540c4cb9807e668d6f205feb",
            "771a0fba99cb4e5ea8df0a542a8d7713",
            "fbf0cd804ce34f62bc795fb9262a4d5a",
            "5caa70c635da42e79f9ae2d9b4fb5828",
            "efd0fb91530f4c9da13f744d17cf0c68",
            "52b6b150879c4c0ab9866a7d1e6b35db",
            "95ad8e1a3c964aa69f8a62eb1527cc54",
            "88873a4fc5b440e79d880d5f43d0c584",
            "8ddf11d0985f4d728368f73ca4cddac4",
            "62c05ffd4d964a22bb5cc22d2b1a4d46",
            "48f6a42a291a4460a098d30fedd24e15",
            "3682d22cffc6465aa346c38c3f7542d7",
            "2db26fe9fd444f7aa27a456835a7c306",
            "e5c00b23079a4fd7873e8688ca7b7f0a",
            "cc35c467df2c4746bbfdb0d1872db3c8",
            "8bb625f1e0b6457893b3f8663fe0ecba",
            "3c0936f4baa6476788ab126f152f78c0",
            "a67f57a33f524cf38e0b66a3465df11f",
            "2c2ed52933694db2896559bcf89f1368",
            "394fa8ff4b3946d4a1040a1ef0be19ba"
          ]
        },
        "id": "WE-1f_tXYtk3",
        "outputId": "d07d0178-353e-4236-e36d-82319a39524c"
      },
      "execution_count": 3,
      "outputs": [
        {
          "output_type": "stream",
          "name": "stdout",
          "text": [
            "\u001b[1mDownloading and preparing dataset ted_hrlr_translate/pt_to_en/1.0.0 (download: 124.94 MiB, generated: Unknown size, total: 124.94 MiB) to /root/tensorflow_datasets/ted_hrlr_translate/pt_to_en/1.0.0...\u001b[0m\n"
          ]
        },
        {
          "output_type": "display_data",
          "data": {
            "text/plain": [
              "Dl Completed...: 0 url [00:00, ? url/s]"
            ],
            "application/vnd.jupyter.widget-view+json": {
              "version_major": 2,
              "version_minor": 0,
              "model_id": "84c9feebdb5342ca8f3db54b27e1bbe7"
            }
          },
          "metadata": {}
        },
        {
          "output_type": "display_data",
          "data": {
            "text/plain": [
              "Dl Size...: 0 MiB [00:00, ? MiB/s]"
            ],
            "application/vnd.jupyter.widget-view+json": {
              "version_major": 2,
              "version_minor": 0,
              "model_id": "bf7c1fa9ed944b348bc08437a5e00a23"
            }
          },
          "metadata": {}
        },
        {
          "output_type": "display_data",
          "data": {
            "text/plain": [
              "Extraction completed...: 0 file [00:00, ? file/s]"
            ],
            "application/vnd.jupyter.widget-view+json": {
              "version_major": 2,
              "version_minor": 0,
              "model_id": "7a761b6c7c994a15acf908d6238af6ba"
            }
          },
          "metadata": {}
        },
        {
          "output_type": "stream",
          "name": "stdout",
          "text": [
            "\n",
            "\n",
            "\n"
          ]
        },
        {
          "output_type": "display_data",
          "data": {
            "text/plain": [
              "0 examples [00:00, ? examples/s]"
            ],
            "application/vnd.jupyter.widget-view+json": {
              "version_major": 2,
              "version_minor": 0,
              "model_id": "8a425da341f0435c8c05bed89fe5ce2d"
            }
          },
          "metadata": {}
        },
        {
          "output_type": "stream",
          "name": "stdout",
          "text": [
            "Shuffling and writing examples to /root/tensorflow_datasets/ted_hrlr_translate/pt_to_en/1.0.0.incompleteNAY32E/ted_hrlr_translate-train.tfrecord\n"
          ]
        },
        {
          "output_type": "display_data",
          "data": {
            "text/plain": [
              "  0%|          | 0/51785 [00:00<?, ? examples/s]"
            ],
            "application/vnd.jupyter.widget-view+json": {
              "version_major": 2,
              "version_minor": 0,
              "model_id": "7d07b3612b024e22a82e4bb572ba866d"
            }
          },
          "metadata": {}
        },
        {
          "output_type": "display_data",
          "data": {
            "text/plain": [
              "0 examples [00:00, ? examples/s]"
            ],
            "application/vnd.jupyter.widget-view+json": {
              "version_major": 2,
              "version_minor": 0,
              "model_id": "61b5cfee38274cdfb0a5877b6980c2f9"
            }
          },
          "metadata": {}
        },
        {
          "output_type": "stream",
          "name": "stdout",
          "text": [
            "Shuffling and writing examples to /root/tensorflow_datasets/ted_hrlr_translate/pt_to_en/1.0.0.incompleteNAY32E/ted_hrlr_translate-validation.tfrecord\n"
          ]
        },
        {
          "output_type": "display_data",
          "data": {
            "text/plain": [
              "  0%|          | 0/1193 [00:00<?, ? examples/s]"
            ],
            "application/vnd.jupyter.widget-view+json": {
              "version_major": 2,
              "version_minor": 0,
              "model_id": "afba32abfe34485cb71fa06803ed0bde"
            }
          },
          "metadata": {}
        },
        {
          "output_type": "display_data",
          "data": {
            "text/plain": [
              "0 examples [00:00, ? examples/s]"
            ],
            "application/vnd.jupyter.widget-view+json": {
              "version_major": 2,
              "version_minor": 0,
              "model_id": "671bd27019ca48009508aacee994dc18"
            }
          },
          "metadata": {}
        },
        {
          "output_type": "stream",
          "name": "stdout",
          "text": [
            "Shuffling and writing examples to /root/tensorflow_datasets/ted_hrlr_translate/pt_to_en/1.0.0.incompleteNAY32E/ted_hrlr_translate-test.tfrecord\n"
          ]
        },
        {
          "output_type": "display_data",
          "data": {
            "text/plain": [
              "  0%|          | 0/1803 [00:00<?, ? examples/s]"
            ],
            "application/vnd.jupyter.widget-view+json": {
              "version_major": 2,
              "version_minor": 0,
              "model_id": "62c05ffd4d964a22bb5cc22d2b1a4d46"
            }
          },
          "metadata": {}
        },
        {
          "output_type": "stream",
          "name": "stdout",
          "text": [
            "\u001b[1mDataset ted_hrlr_translate downloaded and prepared to /root/tensorflow_datasets/ted_hrlr_translate/pt_to_en/1.0.0. Subsequent calls will reuse this data.\u001b[0m\n"
          ]
        }
      ]
    },
    {
      "cell_type": "code",
      "source": [
        "for pt, en in train_examples.batch(1).take(1):\n",
        "  print('Portuguese : ', pt.numpy())\n",
        "  print('Englist : ', en.numpy())"
      ],
      "metadata": {
        "colab": {
          "base_uri": "https://localhost:8080/"
        },
        "id": "UCfBIWxGY44H",
        "outputId": "650c3c3f-6271-4b55-89e9-0a819cdb2000"
      },
      "execution_count": 4,
      "outputs": [
        {
          "output_type": "stream",
          "name": "stdout",
          "text": [
            "Portuguese :  [b'e quando melhoramos a procura , tiramos a \\xc3\\xbanica vantagem da impress\\xc3\\xa3o , que \\xc3\\xa9 a serendipidade .']\n",
            "Englist :  [b'and when you improve searchability , you actually take away the one advantage of print , which is serendipity .']\n"
          ]
        }
      ]
    },
    {
      "cell_type": "markdown",
      "source": [
        "### Text tokenization & detokenization"
      ],
      "metadata": {
        "id": "ULAe7zfsZpMK"
      }
    },
    {
      "cell_type": "code",
      "source": [
        "model_name = 'ted_hrlr_translate_pt_en_converter'\n",
        "tf.keras.utils.get_file(\n",
        "    f'{model_name}.zip',\n",
        "    f'https://storage.googleapis.com/download.tensorflow.org/models/{model_name}.zip',\n",
        "    cache_dir='.', cache_subdir='', extract=True\n",
        ")"
      ],
      "metadata": {
        "colab": {
          "base_uri": "https://localhost:8080/",
          "height": 87
        },
        "id": "c5m2SWdgZGux",
        "outputId": "23f0356f-a4ea-4959-e2b6-1385e6182943"
      },
      "execution_count": 5,
      "outputs": [
        {
          "output_type": "stream",
          "name": "stdout",
          "text": [
            "Downloading data from https://storage.googleapis.com/download.tensorflow.org/models/ted_hrlr_translate_pt_en_converter.zip\n",
            "188416/184801 [==============================] - 0s 0us/step\n",
            "196608/184801 [===============================] - 0s 0us/step\n"
          ]
        },
        {
          "output_type": "execute_result",
          "data": {
            "text/plain": [
              "'./ted_hrlr_translate_pt_en_converter.zip'"
            ],
            "application/vnd.google.colaboratory.intrinsic+json": {
              "type": "string"
            }
          },
          "metadata": {},
          "execution_count": 5
        }
      ]
    },
    {
      "cell_type": "code",
      "source": [
        "tokenizer = tf.saved_model.load(model_name)"
      ],
      "metadata": {
        "id": "pO-_hQM9ZykI"
      },
      "execution_count": 6,
      "outputs": []
    },
    {
      "cell_type": "code",
      "source": [
        "# tokenizer\n",
        "print('output of tokenizer is a Ragged tensor \\n',tokenizer.pt.tokenize(pt))\n",
        "print('look up of tokens \\n',tokenizer.pt.lookup( tokenizer.pt.tokenize(pt) ))\n",
        "print('output of detokenize method is a tensor\\n', tokenizer.pt.detokenize( tokenizer.pt.tokenize(pt) ))"
      ],
      "metadata": {
        "colab": {
          "base_uri": "https://localhost:8080/"
        },
        "id": "C9TsTSMQZ4eg",
        "outputId": "95e87015-29fc-4f08-ddb2-502d92640091"
      },
      "execution_count": 7,
      "outputs": [
        {
          "output_type": "stream",
          "name": "stdout",
          "text": [
            "output of tokenizer is a Ragged tensor \n",
            " <tf.RaggedTensor [[2, 44, 115, 6402, 148, 40, 887, 14, 3936, 40, 463, 2715, 94, 2047, 14,\n",
            "  84, 44, 40, 117, 1328, 2721, 818, 539, 16, 3]]>\n",
            "look up of tokens \n",
            " <tf.RaggedTensor [[b'[START]', b'e', b'quando', b'melhora', b'##mos', b'a', b'procura',\n",
            "  b',', b'tiramos', b'a', b'unica', b'vantagem', b'da', b'impressao',\n",
            "  b',', b'que', b'e', b'a', b'ser', b'##en', b'##di', b'##p', b'##idade',\n",
            "  b'.', b'[END]']]>\n",
            "output of detokenize method is a tensor\n",
            " tf.Tensor([b'e quando melhoramos a procura , tiramos a unica vantagem da impressao , que e a serendipidade .'], shape=(1,), dtype=string)\n"
          ]
        }
      ]
    },
    {
      "cell_type": "markdown",
      "source": [
        "### investigate the distribution of tokens per example in the dataset"
      ],
      "metadata": {
        "id": "4MFtWVUbcJ8x"
      }
    },
    {
      "cell_type": "code",
      "source": [
        "length = []\n",
        "for pt, en in train_examples.batch(1024):\n",
        "  pt_toks = tokenizer.pt.tokenize(pt)\n",
        "  length.append(pt_toks.row_lengths())\n",
        "  en_toks = tokenizer.en.tokenize(en)\n",
        "  length.append(en_toks.row_lengths())\n"
      ],
      "metadata": {
        "id": "PTnMgUpRZ_tw"
      },
      "execution_count": 8,
      "outputs": []
    },
    {
      "cell_type": "code",
      "source": [
        "plt.figure(figsize=(20,5))\n",
        "plt.subplot(121)\n",
        "plt.hist(np.concatenate(length));\n",
        "plt.subplot(122)\n",
        "sns.histplot(np.concatenate(length), kde=True, color='red');\n",
        "plt.subplots_adjust(hspace=0.8)"
      ],
      "metadata": {
        "colab": {
          "base_uri": "https://localhost:8080/",
          "height": 320
        },
        "id": "n4nSCERMc5GG",
        "outputId": "a9abccdf-8559-4265-cf5c-79d1d6fa8da2"
      },
      "execution_count": 9,
      "outputs": [
        {
          "output_type": "display_data",
          "data": {
            "text/plain": [
              "<Figure size 1440x360 with 2 Axes>"
            ],
            "image/png": "[encoded data removed]"
          },
          "metadata": {
            "needs_background": "light"
          }
        }
      ]
    },
    {
      "cell_type": "code",
      "source": [
        "MAX_TOKENS = 128\n",
        "BUFFER_SIZE = 20000\n",
        "BATCH_SIZE = 64"
      ],
      "metadata": {
        "id": "bo8DdFmzd00i"
      },
      "execution_count": 10,
      "outputs": []
    },
    {
      "cell_type": "markdown",
      "source": [
        "## Setup input pipeline\n",
        "\n",
        "\n",
        "* Define a function to drop the examples longer than MAX_TOKENS:\n",
        "* Define a function that tokenizes the batches of raw text:\n",
        "* processes, shuffles and batches the data"
      ],
      "metadata": {
        "id": "8GGyKsvQfquv"
      }
    },
    {
      "cell_type": "code",
      "source": [
        "def max_token_filter(pt,en):\n",
        "  maxi = tf.maximum(tf.shape(pt)[1], tf.shape(en)[1])\n",
        "  return maxi<MAX_TOKENS"
      ],
      "metadata": {
        "id": "LjNbV_Lvff2i"
      },
      "execution_count": 11,
      "outputs": []
    },
    {
      "cell_type": "code",
      "source": [
        "def tokenzie_pair(pt,en):\n",
        "  pt = tokenizer.pt.tokenize(pt)\n",
        "  pt = pt.to_tensor()# Convert from ragged to dense, padding with zeros.\n",
        "  en = tokenizer.en.tokenize(en)\n",
        "  en = en.to_tensor()# Convert from ragged to dense, padding with zeros.\n",
        "  return pt,en"
      ],
      "metadata": {
        "id": "4kAxCJHQgnfU"
      },
      "execution_count": 12,
      "outputs": []
    },
    {
      "cell_type": "code",
      "source": [
        "def prepare_ds(ds):\n",
        "  ds = ds.cache()\n",
        "  ds = ds.shuffle(BATCH_SIZE)\n",
        "  ds = ds.batch(BATCH_SIZE)\n",
        "  ds = ds.map(tokenzie_pair, num_parallel_calls=tf.data.AUTOTUNE)\n",
        "  ds = ds.filter(max_token_filter)\n",
        "  ds = ds.prefetch(tf.data.AUTOTUNE)\n",
        "  return ds"
      ],
      "metadata": {
        "id": "w-cKWJhThBDz"
      },
      "execution_count": 13,
      "outputs": []
    },
    {
      "cell_type": "code",
      "source": [
        "train_batches = prepare_ds(train_examples)\n",
        "val_batches = prepare_ds(val_examples)"
      ],
      "metadata": {
        "id": "uVfqioCNh9HS"
      },
      "execution_count": 14,
      "outputs": []
    },
    {
      "cell_type": "markdown",
      "source": [
        "## Positional encoding\n",
        "In languages the order of the words and their position in a sentence really matters. The meaning of the entire sentence can change if the words are re-ordered. When implementing NLP solutions, the recurrent neural networks have an inbuilt mechanism that deals with the order of sequences. The transformer model, however, does not use recurrence or convolution and treats each data point as independent of the other. Hence, positional information is added to the model explicitly to retain the information regarding the order of words in a sentence. Positional encoding is the scheme through which the knowledge of order of objects in a sequence is maintained.\n",
        "\n",
        "Embedding layer will create word vectors such that words that have similar meaning will be together and words that are different will be far apart in the n-dimensional space.\n",
        "\n",
        "Attension mechanism will add contextual information to the word vectors \n",
        "\n",
        "Now we have both meaning and context but lacks positional information\n",
        "\n",
        "Attention layers see their input as a set of vectors, with no sequential order. This model also doesn't contain any recurrent or convolutional layers. Because of this a \"positional encoding\" is added to give the model some information about the relative position of the tokens in the sentence.\n",
        "\n",
        "![image.png](data:image/png;base64,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)"
      ],
      "metadata": {
        "id": "DZm5o7BeicCb"
      }
    },
    {
      "cell_type": "code",
      "source": [
        "def get_angles(pos, i, d):\n",
        "  frac = 1 / np.power(10000, (2* (i//2))/d)\n",
        "  return pos*frac"
      ],
      "metadata": {
        "id": "Dwzk7QkeiI5i"
      },
      "execution_count": 15,
      "outputs": []
    },
    {
      "cell_type": "code",
      "source": [
        "def positional_embedding(positions, dim):\n",
        "  '''\n",
        "  positions --> number of words in a batch # MAXTOKENS\n",
        "  dim --> dimesionality of the word vector\n",
        "  '''\n",
        "  pos = np.arange(positions)[:,np.newaxis]\n",
        "  i = np.arange(dim)[np.newaxis,:]\n",
        "  angles = get_angles(pos,i,dim)\n",
        "\n",
        "  angles[:,0::2] = np.sin(angles[:,0::2])\n",
        "  angles[:,1::2] = np.cos(angles[:,1::2])\n",
        "\n",
        "  # pe is added to embeddings which has a shape [batch, seq, dim ]\n",
        "  return tf.cast(angles[np.newaxis, :], dtype=tf.float32)"
      ],
      "metadata": {
        "id": "uSzZA-FGlcgF"
      },
      "execution_count": 16,
      "outputs": []
    },
    {
      "cell_type": "code",
      "source": [
        "# lets check the positional embeddings\n",
        "pe = positional_embedding(128, 512)\n",
        "pe.shape"
      ],
      "metadata": {
        "colab": {
          "base_uri": "https://localhost:8080/"
        },
        "id": "Cv3gljJonrQU",
        "outputId": "e12559cb-601a-45c1-ddc8-de348c99579c"
      },
      "execution_count": 17,
      "outputs": [
        {
          "output_type": "execute_result",
          "data": {
            "text/plain": [
              "TensorShape([1, 128, 512])"
            ]
          },
          "metadata": {},
          "execution_count": 17
        }
      ]
    },
    {
      "cell_type": "code",
      "source": [
        "# Juggle the dimensions for the plot\n",
        "pe_ = tf.transpose(pe[0])\n",
        "plt.pcolormesh(pe_, cmap='RdBu')\n",
        "plt.ylabel('Depth')\n",
        "plt.xlabel('Position')\n",
        "plt.colorbar()\n",
        "plt.show()"
      ],
      "metadata": {
        "colab": {
          "base_uri": "https://localhost:8080/",
          "height": 283
        },
        "id": "apMZVpqpn3MU",
        "outputId": "1396b095-283f-4285-a09d-3404d4d7fb15"
      },
      "execution_count": 18,
      "outputs": [
        {
          "output_type": "display_data",
          "data": {
            "text/plain": [
              "<Figure size 432x288 with 2 Axes>"
            ],
            "image/png": "[encoded data removed]"
          },
          "metadata": {
            "needs_background": "light"
          }
        }
      ]
    },
    {
      "cell_type": "markdown",
      "source": [
        "## Masking\n",
        "**Padding mask**<br>\n",
        "Mask all the pad tokens in the batch of sequence. It ensures that the model does not treat padding as the input. The mask indicates where pad value 0 is present: it outputs a 1 at those locations, and a 0 otherwise.\n",
        "\n",
        "**Look-ahead mask**<br>\n",
        "The look-ahead mask is used to mask the future tokens in a sequence. In other words, the mask indicates which entries should not be used.\n",
        "\n",
        "This means that to predict the third token, only the first and second token will be used. Similarly to predict the fourth token, only the first, second and the third tokens will be used and so on.\n",
        "\n",
        "\n",
        "\n",
        "The mask is multiplied with -1e9 (close to negative infinity). This is done because the mask is summed with the scaled matrix multiplication of Q and K and is applied immediately before a softmax. The goal is to zero out these cells, and large negative inputs to softmax are near zero in the output."
      ],
      "metadata": {
        "id": "LtKwfWcHpdrn"
      }
    },
    {
      "cell_type": "code",
      "source": [
        "def padding_mask(seq):\n",
        "  '''input spanish tokens ==> output spanish mask\n",
        "  '''\n",
        "  mask = tf.cast(tf.equal(seq,0), dtype=tf.float32)\n",
        "  # to broadcast over the attentions output  we've to reshape this mask\n",
        "  # attention output = [batch, head, query, key]\n",
        "  mask = mask[:, tf.newaxis, tf.newaxis, :]\n",
        "  return mask\n",
        "\n",
        "def lookahead_mask(size):\n",
        "  input = tf.ones([size,size])\n",
        "  lt = tf.linalg.band_part(input, -1, 0)\n",
        "  return 1-lt\n"
      ],
      "metadata": {
        "id": "Fcx6ZWuooYRF"
      },
      "execution_count": 19,
      "outputs": []
    },
    {
      "cell_type": "code",
      "source": [
        "(sample_pt_batch, sample_en_batch) = next(iter(train_batches))"
      ],
      "metadata": {
        "id": "UQ1egxtGuagI"
      },
      "execution_count": 20,
      "outputs": []
    },
    {
      "cell_type": "code",
      "source": [
        "# lets see some tokens\n",
        "for en in sample_en_batch[:5]:\n",
        "  print(en)"
      ],
      "metadata": {
        "colab": {
          "base_uri": "https://localhost:8080/"
        },
        "id": "khEWGv4KdHX9",
        "outputId": "8b718e15-f930-446b-e634-c4c925193786"
      },
      "execution_count": 21,
      "outputs": [
        {
          "output_type": "stream",
          "name": "stdout",
          "text": [
            "tf.Tensor(\n",
            "[   2   72   71 2124   83    9  105   77   94  300   15    3    0    0\n",
            "    0    0    0    0    0    0    0    0    0    0    0    0    0    0\n",
            "    0    0    0    0    0    0    0    0    0    0    0    0    0    0\n",
            "    0    0    0    0], shape=(46,), dtype=int64)\n",
            "tf.Tensor(\n",
            "[   2  285   76    9   55  139   78  141   37 1252 3896   75  196   50\n",
            "    9   56  112 1708   90    9   55 1557 6111   13   71 4259   77  183\n",
            "   13   87  150 5646   90   78  190  634   13   71  167   75   86 5731\n",
            "   15    3    0    0], shape=(46,), dtype=int64)\n",
            "tf.Tensor(\n",
            "[   2   87   83  149   50    9   56  664   85 2512   15    3    0    0\n",
            "    0    0    0    0    0    0    0    0    0    0    0    0    0    0\n",
            "    0    0    0    0    0    0    0    0    0    0    0    0    0    0\n",
            "    0    0    0    0], shape=(46,), dtype=int64)\n",
            "tf.Tensor(\n",
            "[   2   72   71  740  258   71 1581   13   77  180  395   13   71  241\n",
            "   76   80   15    3    0    0    0    0    0    0    0    0    0    0\n",
            "    0    0    0    0    0    0    0    0    0    0    0    0    0    0\n",
            "    0    0    0    0], shape=(46,), dtype=int64)\n",
            "tf.Tensor(\n",
            "[   2   76   84  106   45  126  147  389   74   55 1670 2204 6475    9\n",
            "   55  105 4304  564  230   15    3    0    0    0    0    0    0    0\n",
            "    0    0    0    0    0    0    0    0    0    0    0    0    0    0\n",
            "    0    0    0    0], shape=(46,), dtype=int64)\n"
          ]
        }
      ]
    },
    {
      "cell_type": "code",
      "source": [
        "print('Shape of pt tokens',sample_pt_batch.shape)\n",
        "print('Shape of en tokens',sample_en_batch.shape)"
      ],
      "metadata": {
        "colab": {
          "base_uri": "https://localhost:8080/"
        },
        "id": "j_KDdxahwkWK",
        "outputId": "201d7b76-711f-42bf-ed2d-7e9c66ab3768"
      },
      "execution_count": 22,
      "outputs": [
        {
          "output_type": "stream",
          "name": "stdout",
          "text": [
            "Shape of pt tokens (64, 55)\n",
            "Shape of en tokens (64, 46)\n"
          ]
        }
      ]
    },
    {
      "cell_type": "code",
      "source": [
        "sample_pt_mask = padding_mask(sample_pt_batch)\n",
        "print('Shape of pt tokens',sample_pt_batch.shape,' Shape of pt mask',sample_pt_mask.shape)"
      ],
      "metadata": {
        "colab": {
          "base_uri": "https://localhost:8080/"
        },
        "id": "F9uBj3mNu4Bm",
        "outputId": "8e8ea2ac-542e-4f84-d60a-e858a86358c0"
      },
      "execution_count": 23,
      "outputs": [
        {
          "output_type": "stream",
          "name": "stdout",
          "text": [
            "Shape of pt tokens (64, 55)  Shape of pt mask (64, 1, 1, 55)\n"
          ]
        }
      ]
    },
    {
      "cell_type": "code",
      "source": [
        "sample_en_mask = padding_mask(sample_en_batch)\n",
        "print('Shape of en tokens',sample_en_batch.shape,' Shape of en mask',sample_en_mask.shape)"
      ],
      "metadata": {
        "colab": {
          "base_uri": "https://localhost:8080/"
        },
        "id": "IbWAvUrCxiLr",
        "outputId": "ddb0448d-4957-4f73-e138-8094d066162a"
      },
      "execution_count": 24,
      "outputs": [
        {
          "output_type": "stream",
          "name": "stdout",
          "text": [
            "Shape of en tokens (64, 46)  Shape of en mask (64, 1, 1, 46)\n"
          ]
        }
      ]
    },
    {
      "cell_type": "code",
      "source": [
        "lookahead = lookahead_mask(sample_en_batch.shape[1])\n",
        "lookahead"
      ],
      "metadata": {
        "colab": {
          "base_uri": "https://localhost:8080/"
        },
        "id": "GLFtJmNNvZvH",
        "outputId": "d49e41ce-cc0a-4b6c-df55-3c6777b5ed98"
      },
      "execution_count": 25,
      "outputs": [
        {
          "output_type": "execute_result",
          "data": {
            "text/plain": [
              "<tf.Tensor: shape=(46, 46), dtype=float32, numpy=\n",
              "array([[0., 1., 1., ..., 1., 1., 1.],\n",
              "       [0., 0., 1., ..., 1., 1., 1.],\n",
              "       [0., 0., 0., ..., 1., 1., 1.],\n",
              "       ...,\n",
              "       [0., 0., 0., ..., 0., 1., 1.],\n",
              "       [0., 0., 0., ..., 0., 0., 1.],\n",
              "       [0., 0., 0., ..., 0., 0., 0.]], dtype=float32)>"
            ]
          },
          "metadata": {},
          "execution_count": 25
        }
      ]
    },
    {
      "cell_type": "code",
      "source": [
        "# we apply this lookahead+padding mask in decoder\n",
        "# the attention output shape is [batch, head, query, key]\n",
        "lookahead_and_padding = tf.maximum(sample_en_mask, lookahead)\n",
        "print('Shape of lookahead + padding mask', lookahead_and_padding.shape)"
      ],
      "metadata": {
        "colab": {
          "base_uri": "https://localhost:8080/"
        },
        "id": "pOyGyarSwbzx",
        "outputId": "a6b44af6-9184-46bf-9af1-410bacd6c25b"
      },
      "execution_count": 26,
      "outputs": [
        {
          "output_type": "stream",
          "name": "stdout",
          "text": [
            "Shape of lookahead + padding mask (64, 1, 46, 46)\n"
          ]
        }
      ]
    },
    {
      "cell_type": "markdown",
      "source": [
        "## Scaled dot product attention\n",
        "\n",
        "formula : softmax( Q.k<sup>t</sup> / sqrt(d) ) . V\n",
        "\n",
        "\n",
        "The dot-product attention is scaled by a factor of square root of the depth. This is done because for large values of depth, the dot product grows large in magnitude pushing the softmax function where it has small gradients resulting in a very hard softmax.\n",
        "\n",
        "For example, consider that Q and K have a mean of 0 and variance of 1. Their matrix multiplication will have a mean of 0 and variance of dk. So the square root of dk is used for scaling, so you get a consistent variance regardless of the value of dk. "
      ],
      "metadata": {
        "id": "FTruPa9R1Nkq"
      }
    },
    {
      "cell_type": "code",
      "source": [
        "def scaled_dot_product_attention(q,k,v,mask=None):\n",
        "  # dot product [b, q, d] . [b, k, d]T => [b, q, k]\n",
        "  dot_prod = tf.matmul(q,k,transpose_b=True)\n",
        "\n",
        "  # scale by sqrt(dim)\n",
        "  dk = tf.cast(tf.shape(k)[-1], dtype=tf.float32)\n",
        "  dot_prod /= tf.math.sqrt(dk)\n",
        "\n",
        "\n",
        "  # apply mask\n",
        "  if mask is not None:\n",
        "    dot_prod+=(mask * -1e9)\n",
        "\n",
        "\n",
        "  # relative similarity score -- softmax\n",
        "  weights = tf.nn.softmax(dot_prod, axis=-1)\n",
        "\n",
        "  # attention [b, q, k] . [b, v, d] => [b, q, d]\n",
        "  attention = tf.matmul(weights, v)\n",
        "  return attention, weights"
      ],
      "metadata": {
        "id": "oZWyoQaww_rp"
      },
      "execution_count": 27,
      "outputs": []
    },
    {
      "cell_type": "code",
      "source": [
        "# lets check this\n",
        "pt_vocab_size = tokenizer.pt.get_vocab_size().numpy()\n",
        "en_vocab_size = tokenizer.en.get_vocab_size().numpy()\n",
        "\n",
        "pt_embed = tf.keras.layers.Embedding(pt_vocab_size, 512)\n",
        "en_embed = tf.keras.layers.Embedding(en_vocab_size, 512)\n",
        "\n",
        "pt_embeddings = pt_embed(sample_pt_batch)\n",
        "en_embeddings = en_embed(sample_en_batch)\n",
        "\n",
        "print('shape of pt embeddings',pt_embeddings.shape)\n",
        "print('shape of en embeddings',en_embeddings.shape)\n",
        "\n",
        "print('sample pt mask', sample_pt_mask.shape)\n",
        "print('attention')\n",
        "\n",
        "attention_output,_ = scaled_dot_product_attention(pt_embeddings,pt_embeddings,pt_embeddings,None)\n",
        "print(attention_output.shape)"
      ],
      "metadata": {
        "colab": {
          "base_uri": "https://localhost:8080/"
        },
        "id": "jdJznJoeecLb",
        "outputId": "91e535d5-2de0-4124-e5c5-8f9d5b288014"
      },
      "execution_count": 28,
      "outputs": [
        {
          "output_type": "stream",
          "name": "stdout",
          "text": [
            "shape of pt embeddings (64, 55, 512)\n",
            "shape of en embeddings (64, 46, 512)\n",
            "sample pt mask (64, 1, 1, 55)\n",
            "attention\n",
            "(64, 55, 512)\n"
          ]
        }
      ]
    },
    {
      "cell_type": "code",
      "source": [
        "# example 2\n",
        "\n",
        "temp_k = tf.constant([[10, 0, 0],\n",
        "                      [0, 10, 0],\n",
        "                      [0, 0, 10],\n",
        "                      [0, 0, 10]], dtype=tf.float32)  # (4, 3)\n",
        "\n",
        "temp_v = tf.constant([[1, 0],\n",
        "                      [10, 0],\n",
        "                      [100, 5],\n",
        "                      [1000, 6]], dtype=tf.float32)  # (4, 2)\n",
        "\n",
        "temp_q = tf.constant([[0, 0, 10],\n",
        "                      [0, 10, 0],\n",
        "                      [10, 10, 0]], dtype=tf.float32)  # (3, 3)\n",
        "\n",
        "attention_output, weights = scaled_dot_product_attention(temp_q,temp_k,temp_v,None)\n",
        "attention_output, weights "
      ],
      "metadata": {
        "colab": {
          "base_uri": "https://localhost:8080/"
        },
        "id": "RJmOr5JrfbkD",
        "outputId": "9dec2e15-6687-4829-da90-d70deffe48c3"
      },
      "execution_count": 29,
      "outputs": [
        {
          "output_type": "execute_result",
          "data": {
            "text/plain": [
              "(<tf.Tensor: shape=(3, 2), dtype=float32, numpy=\n",
              " array([[5.500000e+02, 5.500000e+00],\n",
              "        [1.000000e+01, 9.276602e-25],\n",
              "        [5.500000e+00, 4.638301e-25]], dtype=float32)>,\n",
              " <tf.Tensor: shape=(3, 4), dtype=float32, numpy=\n",
              " array([[4.216637e-26, 4.216637e-26, 5.000000e-01, 5.000000e-01],\n",
              "        [8.433274e-26, 1.000000e+00, 8.433274e-26, 8.433274e-26],\n",
              "        [5.000000e-01, 5.000000e-01, 4.216637e-26, 4.216637e-26]],\n",
              "       dtype=float32)>)"
            ]
          },
          "metadata": {},
          "execution_count": 29
        }
      ]
    },
    {
      "cell_type": "markdown",
      "source": [
        "## Multi head Attention\n",
        "\n",
        "Multi-head attention consists of four parts:\n",
        "\n",
        "Linear layers.\n",
        "Scaled dot-product attention.\n",
        "Final linear layer.\n",
        "\n",
        "Instead of one single attention head, Q, K, and V are split into multiple heads because it allows the model to jointly attend to information from different representation subspaces at different positions. After the split each head has a reduced dimensionality, so the total computation cost is the same as a single head attention with full dimensionality.\n",
        "\n",
        "![image.png](data:image/png;base64,iVBORw0KGgoAAAANSUhEUgAAAYAAAAHsCAYAAADb8XqeAAAgAElEQVR4nOzdd3Qc12Hv8e/M9r6LsuiVAAF2gr1JIlWsXijbchyXxIrtFPckL86JnbjETt5L4rzYz7HsxJFsS7KoQooiJZEUe68AG0gQhQDRe9ldYOuU9wcoiCAhEqQoFuF+zuEhgJmdvTM7e38zd+7ckXRd1xEEQRAmHPlmF0AQBEG4OUQACIIgTFAiAARBECYoEQCCIAgTlAgAQRCECUoEgCAIwgQlAkAQBGGCEgEgCIIwQYkAEARBmKBEAAiCIExQIgAEQRAmKBEAgiAIE5QIAEEQhAlKBIAgCMIEJQJAEARhghIBIAiCMEGJABAEQZigRAAIgiBMUCIABEEQJigRAIIgCBOUCABBEIQJSgSAIAjCBCUCQBAEYYISASAIgjBBGW92AT76VFAbOfDmYc71h4noABKyPYXUwtncOz8b87gW08KJHeXUtPYTUnUAJLMLZ8ZMnlxRjCxJV1kujUS4j666oxw6cITDFY14H/wajy6dwpSUcRwXKL20ndrFa796nb2mu/nK336SuWkOHON4qR5s4uyZUxw+3UFUv2iiZCG1eDZTp5VS6FWJBts5vWM7p/o1FG3UjEi2JJILynh0Yc5VrPf1oythBrsaOHloL/v2H6I5+7N84fG5zMx1XfORlR48yo6DIWRPHgsX5GG9riW+1SgEW05waPWv+e8DFlZ89W/5eFkqqXZxXHqjiAD40MkgJ5M9KY/w0Y28sX4ne0+0ETJnUjB/Jdair3GXV8Jwhfo7fHQNv3tmNdsqOxiSvGROW8TdTz3JA7nJSFxt5a8T7WnibPk7bNy+kw3r91LTa2XptM9x14KLa+T3WUKki86aPaxbu5mjxiBln36IYp8dh/XKZZGsbrypqaSaTrNr/Wu8WtGLhox3xuM89sgKpvqT8NqGKwGjxU16fh6d3W/y4ou7ONUWIGzOYPKC5Tz45FTmZniuct2vEz1IT+Mxdq5ey7qNG9lX3Yfj0Xt54j6F8W3BsWh0H9rIW7+rYXDqo9hLcpnvudrP9jaihxnoqGbvurVsOWElUPYZlhd5SbFbrnqPFq6NiNoPnQSSE3/hFGYsnkuhTyLeXkfN6SNUHNjMml3tJLTLVRka6H2Ub9zEwYpjnKqtoa4rAcmTWbJgOiXZHq764B8w2j2kTprF3EXzydda6Q8EGYqrXFIUXUUPd9DZnyCuXLBWlmRSJy3m0ace5/FPPsz8TDtO4zgLYnLhSS9mxqwZzCuy0nW2jrqznRhyZzJ15iwmZyXhNgPIGExOUgqnM2fZIvLMA/S31FEfNGHPmsaysskUpDmufuWvCwv2pDyKZ8xmnj9GR1c/wUgC9bKf5RUoTRzZdYDyfVvYc+gI+0/2oF35VYAOepjurn6iscQlAaSrCuGONvoTKolrL90HoKNrYbo6+4nFLwhIyYLbX8yCR57i8cc/wSPz0/E5jKLyv4FEANwQBsx2D6n5peRnZ5Lls+GwJgh2nGHn69upCavE36/eUONoHXvYuD8CZgMupwHJmUxK9iSm5ybjtl7LSZyE0e7DP2k2cxcuZma6jNkw5psTH+rg1LoX2FoTov/C9hpzMv7SFTz153/OV/9sJYsy7TjGWxTJgMnmITUzl5LSHDwSSJKLrKJicrPT8NnNvJslkmzE7EwirWgmRRlOXBYJozedjLxJlGR4cVrGLPiHT7Lg8OVSUjaXRZOTMF6Hb1KsYTd7jjdyrquT5lPHOLzvBM3jqLH1RITQ6fWs2VpNW190dACoQ4S7TrD+hc3UBCOXNrndAFosRODUel7dUktnIHZB+Sy406ew9FN/zle/8iU+uSCDZMdN+jwnKBEAN5Jkwmh0kJaTRX5RFuZQN0171/LW6SCh2FjHejpqfJCWXasp12cxKSeNLI8MBgOy0YjpA5dHAowYjWM1IukoQ920VrzFs794kd3nQgRHpZQBsz2ZjJJZzClOwWGUr35nkiUkkwmTBJJkwmiSkcdciASYMRklZBlkgwGDwXBLHClKSMiyAT5QaYaP4Ot3bKPZnIozJQ1r5xlOH9nHvqboZZuUdCXMUPtRNj73DC/tqqctEH9vfj1OuKeOiree5xcv7qc+GH3/A40PiZ4YJNRSzobnfslLexrpCo1ONNnswJ1ZwpyyYtIcBsZ7EilcH+IawA1nIqVoGjOtdmyNr3C84wBrXj/BowUL8Vhtoz8QPUYseI4tq8sxLfxHSpuO0nT27OjF6SrKYA9dgRgJVQfJgt3jxuO2Y1SihAe66Q2fDxfJjNPnxeW0Yb7sF00jMdRDy/FtvPnsMzx7oIsVK5tpbdGxJjx43C7cNiO6miAeDtDXF8aQkonPZsR0Uw8pdJTwAAMDAQJDcRTdgMXhwpOUgtcqX9RUpqHGIwwN9NMbjKJoGhjM2Fw+vB4nDstYAaMQDQUIBoKEIglU2YoxOoRyyXxXW2wFfaiKrTvbSF7yMB9zO6nYuIVT1eVs3dnAo4VTcI7xeemJMMHWExx++3/412f30X7HI7S0NdPkSOByWjAm2qna/gbP/udL7OtYwePNLbRIERKeJNxOB/bzRxC6phAP9dDTP8hQVEUyWbF7fHjdThxmeVQ5Y4MBBgIRdKsLp9uGKR6kt2eAUETF4EjC7/fhsBgxSKDFhwg0H2X/+uf4t+cO0LniSVpam0k2xXB73bhdNky6ihIbItjfz5AxBb/XhmXUTqSjKXHCA70MDIYJRxUwWrA63Lg9Ltx28+gDD10lNhQkGAijmGw4vC5sSoje7n6CEQXZ5iM51YvLZhZhgwiAm0LylVBQVEBR1QaO7e3j2JqXOfTpEtKTrKRcsFdq0T4C9VtYfayA5V+ZRvom5yVH2ZoSY6h+D5t2VFHfNkBYymHm3cu5+56ZpA72cO7AG2yq7Ka3d5Ao2cx74iHuWFBCzmW7HsUYOHeQ7at+yU9eOUlAc9F4aB3r+71kFS9g8bxpzMo2EehupfHkIbbtaCDz83/NQ6U+/Lab9K3SFSLBXtrPHOZIxTGO1rTTOyTjzp7M7Lsf5b5ZWSQ7jBhlCVBJhPvoqD/FsQOHOdowQFSJkcCMu3AhS5fMZ25JOp5RlV+CcH8TZ44c4fjJKuo6g0Qt6WSlJZEViKN9gEu/uhIhXLmG7Z1TuW/WvcwuHIKWcg4drqF861ZOf6qU+Y5Lz9ISgUaqd67i3//1ZSoGVBxNh9n6ZoD6rMlMLcvCM1TB2mf+i1dO9qM5Gzi0/jX6fclMXvAxFs6ZyuQkHTURZbCnlcZjO9lRXkNtc4CE2UvuzKUsWrKI+UUpuMwSuhIh1N9C9eE97NnbhDR1IXMXFeI9d4B3tuynvLoXc9HdPPHpR1g6JZMUm4FEfz2ntq3iP/7jNY4FVZyNB3hnXTenMyYzc+k8yqZnYgt009V4kv07dlOX+Xm+9HAJeSnW4XXVVZRokN72ek7u28+pxnaaOwIoFheerKnMKCtjYVkhaS47ZlkHJUqov5W6YwfYv7eecMY05txXRnbrQTZu2s3hM93IuUt54OMPc9fsAjLE9QbRBHRTSE6yC6dy7yOLSdGjqGdfZ832Vlp7LjyW1In2dlH99iZOz/kUK4q8pI1RucomG55Zj/Dg9Chnt6zi2Wde5u2DdXRpElZvOqUrHuOJOWGOv/oc//Pzl3jnWCOdV2pX1uJIznRSiu/kriIjEkbcmUUUlUylJD8N68Apdj7393z9049w98e/zj/8aiNHO6JE1Ou6la6CBolmdv3i7/nJ7w9z1jabex6+l2X5EU7+9h/40z/4I37wVgPtofMXIJUeqjf/mp/8r7/ju+8YuOur3+UH//w9vljaycFffJvv/PtLrD0ZvKApRYVIHZv/7Rt85+fbqHLewae+9ld88+OTcZ99ie//rpZIYnyXa8cqeyIS4PDL6wnOWc7U7BzmLV7A7DkzyI00035iC6sPh1EvWbyOIjmwJxfzwPJJGCUJgzuTvEklTCnNJ8vtJiUtm+I7FzLJKIPRS+akEkqmlpCf7sZlBrQhemt38uqPvs13t2ikLXqMjz86F3/PLn7/g6/zze/8X56v6EdTwqhnN/Crb3+ez33ha3z7X1exbsNa1vz+F/z4X15gW1UjLSc28PJPv8lXfvAyW050EEMjITlxpxbzsTsmYQCMnkzyi0qZUpJPpqWfczue5Z+/9mkeuOcTfOl7/8Xrx7oYiL63E+mRDhr2vsi//+VX+as3YuQ+8hX++u++yh/OlWhZ97/5mz/7Bn/1HxupDGigqajntvL8D/+Up7/wF3zrx7/ltTfX8/bqX/K9H/6ad6paaT65hdef+Vu+9cPnWbu/meg1fmIfJeIM4KaQMKUVkut9lMeL3uHZ2l72vf4mlUvTKEjLwS0Bajfdbcd4c4fK/X/zMbK8DkJjHq4Mt4+nzppKrs+Fa/jQ6fwkI0Z7MnkLF1GS+gIVvYzvOFV24csqYcaCmVS8LIFkxT9lGUuX51KcbMYgFVFakokvK4XE137C+n6dcS75/elh2o5vY6upgbOui1dUH+4JdS5AMH7JC9ESg5z+9d/y88opPPr5J3l4STFJJp1YXhL++Dkq/vdhXv6XX7Ko9K95eEYm7trd7N+ykTU1KtkrS5jlt2KUdQrvu4uZrxzhtYpyKo4u4ZE5i0mWFBJDLez65z/nn7ZlcN/XP88f3D+XyR4Tsn8FD3xeJlT7Jb6zKXZt660EiHTv4eVtySz65ylkZjgx2MqYNmMOS0p28WJbHe+s3srXlzxCulnmvUukEjZfJoUzFjF09GVkJMyppcxbspxlpSmYDDJS1Eq0aT8vSwYkSwaly5azPD+FFLMJk0mj7/Retr78PC9EHuT//vAPmGQ3Y2YWk21BYuHf8D8HNvPKb4pYMOtp5k56gC//k51439/wm+1N1J4NMm3pSv76v/6OHPMg8cZX+OZn/4Wd+zex78xCZs7IZGpyDpNmLGB++atIkgGzfxoLli1nXmEyZgPoJSVkeDPITHyLv9kQuuhj7aV692p+89MXeSt2J9/57y+xIsuBy5iK77Fv8C2TDdevX2DVCz8jnLDyzA8eJDPvHj73XRvx4D/wP2+c5FxTH1OklXzzv/6SfLuK2vIq3/nyT9hYsYNDJxexcHE+cx0T+xxAnAHcLEYfqdlzePLx2biNGqHjb7HtaCNne1VAJ97ZSNOxcg667+Wphd7hNuz3XZiEwWrBJI9xIVYyYLTZsBgvbgO/HBmD0YzFasYkS8PLN9uw2uzYrGbMFhs2r5/U9GwyvdfjCzR8EbTt5D72bt3Ihg0bLvq3kQ0bd3C8OUDo4quY2hCJ/l28uuog/QYXxCP0tZzjXEMjrcEoqj+LDC1MsGYH+8/00x3Ske1evP5cJk+axKxp+TgMEhIyJp8Pp9UI/T309fTRr4EeGyBcvZZnX6skkL2IspJCJvmsmI0GjBYXSf48ykrTz2+nq1/vRKCb1l2bOJBxP8uKk0mzG5CMPiZNn8nCRVNwBttp2bmWN88lGLrozE2SjZgsVqzG4X1DMpixWG3YbFYsZjNmsxmrxYiMNFwB22zY7DasZiOGRCNnK/eweXsDcmoaemcLLefqaTjXQp/Jic3lxhFoovnMEfbXq0gmO57UbPw+K1azi8yS2cxdspBpuWmkZWSROW0Js3KtWGPNtHUE6BvUkQxGTBYLFtN75bNa7dhtFsxmCxablxR/OnmZnkv2W6X5KCf2bmNTvY63bAV357pxWwwYDCYsjlSKl93JkiUzyOo9xfHNr7L6lEJcsuFKzsTvc2C3OvAXTGPunUuZkZtOmj+dzCmLmZHnwqm20dnVS3fgWs/aPjrEGcBNY8SWnMP0Rx5nye9PsK2zmt3bDrNiViFTklx0NdZxvKKdtHufZrbPhMVwhfaVy9Y/0pVnuWoGZIMJ83XZg4bvlcidfz8PLiumyHNxdaCD1sWWjgqaOvqJXDglNkTszG521QYJuuqpPKQSqjl/nKxFCA/YKL3zTlJx4zXISKqGnDqDRU9+hdRlGq7CXAxagqH2SioOH6KqrZ/BqIN4LEZU00kM9tO0dxP7WyP4H59Cms+LVX6v3AaDCafTeg034zF8I1RPPXu2NJB9/zcpSnYy3AvSgCt/OlMWLGbuuhPsajnAa29V8bEvTMXpNV+Xozatp5GW6lNUNPZjKzrJ9g21701U+gjY8pi91I2pIAVDVAEMgAGDLCHLJhweH75kD8P36xmQLCkkuQwY5SjRaIL4OLsbyZIB0yU7kUbfuRpqTlXRrqazKDefZOOFR6syltQSCidPZZp/A7Wtlew42MLTk3OxmQzIhuEy2lweklJ92A0AEliS8TqNmA0hYtEEsWs8afsoEQFwE8lWL74pH+OTd/6Go2820rx/K4fvmUtZppfeujqO9udw/wNT8Bil2+hUTSfSVEHFwX1sq+q/qGHITPbCR1g6dyolFw83IVnxl8xn/rI5lKWOEQBqI20vO3Fc1PdVi8cYrKuhMaLiTc4nb1IJpakX9iUvY84SQJLxFfnx2yUkWxo501JJy+uhs76ct4/0ohiNyLoRg9GIrGtomoaGTiwcou5YJT2KTKHPi9VsGqOqv7Zo1QY76Kzaw7r95+gxvMavB6w43+2epQ/RWVtNn6KSCLdRvuZNjj+cS7IrCfcH7iqvE+/tpre9nW7ZzqzsUkpLRw86UTp9CSBhdiaTljWeNzRikCUkSUfXQR9vi6A01tZT6e/qprOjm5iUidE0xsVag4+k5AxyMy0kTgQ4V9eGpmZz+b7RBgwGCUni6sr4ESYC4GaSrFicxdzzibspOfAK/c3lHDhUTpHRjvVcB4MFD3BPsZVral24aXTiveeoPbyFdVuaGXXeItmZZZ9NYckUSlKuz3vpqkI0ECCiqvhSpjB36d3cVWy/fJWsRRhoq+XUkSMcrmwl6s4ir6SM+dMSVKS6sY8cDGskElE6O/tQNVA19QP19hlNIdRWT13FcVqzlzDP1kN/J/RfOIvRR8HsKTTvrKb76BtsOvYE0/wu3N4PfAcISjRKdChM3OTFmb+QBx/OvsJBxo2sLXXiiQTxRIKEkmAwGEJl+Azgvc/VgNVmw+O2AzqJxKV3QAtXJgLgpnhvV5UtdjJWPMU9pTs5211P1YEtrG1xMS0vjWmfWEy+8Xo33XzYJKyZ05jzwOf4i9Lg6C+lZMI/dTKFvut1PiOBJCGbTBgklY66ajoH5hDV7YzuMKWDHqG3O4bVZUcOVXN04/P87vVTtOb/IT/+ymcp88oYY21YxzjYlWQZ9Bh9XT1EojE0TB/8jCzeS2t9DUdqjCz4+r/zs5XpWC4aEEqPNlG7+wW+U/UDXm89wda3Klg5I5NcTxKWD7hTSAYDBqNMYjBA85nT9KnZJBkuuiioK8RjEQYCCj6/9wZWFjJ2hx2Hw4rSNEhPczMBfS7Jo84WJCRJQpJkjEYLKekpyGPfRShchgiAG0pF01VUVUd799BYMiF5l/HoQ9PZUtdBa/VW9neXYZt8P59enHLRF/JyxzjDXwh0DU3TLxjTRwc1gaK++7erOU569xunXfF0+b3JEpa0UmamlTJznO8yzuHnxiyDbLLgys4m2QS1Fbs4WruEsil+ip3vNhvo6FqcSPcJtu8IM2V+CXLlBt5ctYbtgfl84qtPMv/dQNJ0NF0fKY+OjMlsJyMrFbPcTMup47T1zCZS6Lxg1FMd/d2CjXvT6sS7q6g7fYbjoWl8YXna+fsTRpOsGaQWLuPx5em8/VIzDdvWc+hTZZQU+Mi7YNA9afg6Pbo+xkVN6d0mjwu3n4TF48WTnIQ1dIbGvZvZ3XEn96Vbzl8QB9BQIt201Ndy4KSRhz61GPd4V290AUauj+i6hn7xRhpzmxlIzcgkJzcTS/kA/TWVVA4+zlKndMENjAqRcITAoIrNk0nZ7AKM12M8jglGbLEbSY8Rjw0RHooTG7lIJgEWpjz2GPPyM/Gj4igspXTxHcwbNc6ZjqIOV+5oOrqmjR4oTDZhMMjIaphIOMJQVEc/30Si9rfRGVSIK+fbtkfVpMNfyUu/h/LwODwmkPQo0aiGpgEXVpAjlYp+bS0E+nD5NEBHQ9cuqR5GyggKqqoPz6MNrweAbLVjK1vCnCQL1q7NvPrKNrYfaWNIG66YdS1BItzEzv/4Kce0ZFRrgrb6OmrPdhI/v+b6+UpcHRokEk8M31Gt6+jI2BxeZi6eR4pZYvDQm2yvbKB2QD1fTh1VU4lEosNroKnvhcFlxWitPEFFZTOxsru4O0V+n2Y+E56UHO58/B6yTTJS21Y27aqjuvm94SEkScJkNiGjE4tGUbThXmS6DrosIxtNmNAhEiF6fp/RdR1Deg7pxZMpMfTQW7WaH/9sP439URLvbjc1ROuxPexe/TZ16dPxyleqLM7vCxetvixLmMxGJHSi0Siqpp3f3iOvQj9/tPLe/iThKp1J6Zw5TDf0MVC/lw0nYsSVCxau9tHT00JDt4Ok4vv45B0OzFe8tXfsg4iJTJwB3EB6qJWu7g5qGsx4mtpQFuSPfACGzPu57461lDcZUWfN5Y6luaM/HLWd7p4hBsMauh5iaKCfbg1GrqWaS5g8KYmUinIqtq1nVYYXw2IP0frDvLOtgk49jmZoo+rAPvZPySd9QTG5bgVNCxEM6ehajFhUQRn5khmwmB2k+b1IWi+Ve3ZzbpFC+EQLEVcaGdNTUBKDBEMqaIMEB1UUVedqGqzUWIyhzq7h7pYE6O4eJBJR4JInJOigdNLdFyMSg0QoSDAYIKBDqtGFxX8/X/j07zj63+Wc2fwz/qXjMHuWLWRuoRt5oJEzBw9Sl/tFvj0vh8JUibDdgcOu09dwkm2/+wVrfXfibDjE4fK97K3tIhSL0dFwnL37Chh0OCm752n+aP5u/vPQSV79t/+D0vU5PrtyKVNcAzTsWMUzGxqJKgqxw6+zerWMrt9D2eQsUt/nbmu1Yz8H9+5kVy3k31mM8zJbTXa6cc5ayALvi7R3Bzn65noOzM9nen4ZmSaQzWZs6WmkGHQ6Tu3jSMNi0uKnGQzbkFL9pDhSSfMpaN0V7N3TzCLtHJVtCo6UVApm38nKB7ZyZHUjJ3/1NH9U8zD3Liwhxxmnr/YY1d1W3Is+y98scp7/GIYIR1USioqqqqiqBsjDI8aqfQRCKoqSIJ5QUM6f4coWC/Y0PymSQvfJ3Rw6txBv6BgDES+WzKkUKQmCoUE0NIaCgyjqcLjKzmnMX/4YX/jDGv5x1WnW/Ox5Vv7ss8xOtWGTFfpP7eTQ/pM0p67gj7/1WeZZGR7aQQsTjSZIxFUkVUUd2Z910AYIhRQSiRgJJUFCEWlg+P73v//9m12IjzRdhVgtO199mRd//Rte21rOifo2ulrP0TYYR3HlU5BkRjbY8Jk6adMnUTRzGY8uzcdlUFEi3Zze9HteefE3vPT2ISrbBonEhggHu2nuCjOkuphRkIQkOUm2R+lpbaTm1EmOH9nPvoMnqYllc9cnV2A4tpM2kvFmFVJUWECGQ2Hw9CbWvPx7XtpQSUtYYXAoRnQogdnjISnNi0tOYNY62bvtKC1NlZQfrqTdnEOqT0Y5s5n1a9bx1r4G+hIxQhEJg27Em+odHuPlMjmghxqpPfIOL7/wEr9fs53j7WFUXSHQ3UV/dydhkxtHUipJVoVosJlj617kpd/+jle2VtLQHyUeDjI40Elzb4yInMy0vHRSiqaSZQ3S19JIw9k6aqtOcOxoJVVtEikLn+LpP36Q+QVJuCxmXKYYQ/3tVJ+sor6+ioqDx6iLF7DwwbvJjdXT0VTD6aZ+AjEHeXOWMGdSLkXTC7APttBUd4aT5fvYueltNmw/SW3AwfT0Xg422SmaMZPZ8+YxsySPrCT7GOMtqbSXr+PVZ/+b376+h2MtQQaHosQVC2ml2TgN0gU3eunEehup3buWl17byJZ91XTGVWKhDrp6+hhQXfhSM8hKMqFboHvfNiqbG6msOMKJViPugqnMnZGHV1LQOw+x7eg5GisPc+RUL8acaUybXkJBdgYZudmkaW1UnaqhuameqhNHOHL8HP3WYuZ87Ak+9dgCij0SdB9j06rfsuqNg5zu6CcYV4kqFmx2C6nx02z47X/zu7eOcW4gTDCioBqcJKX6yfPbUI0K3fu3c7K5kcryw5zssOLze/DEq9i+fjWvvX2A2r4EsVAYyQgGTyoej5ek5HSyCiZR7I/RdGATOw6doa6hjpP7N7N5Vw29nrk89PnPsnJ+Lj6zjt57ku1rfs+qtXs41tRDIJ4gEjditrvIM9Sx6flf88L6w5zpChKMKiSw4k5NpzDV9qF89W8Hkj6+c1bhmmmgDNBU3UBzSzOdA0OEEwYsTi/+nDxy8osoSDIhSaAF66luVTE4UinM9WJER1PC9J6roamtjZbOIIMxBQ0Zk9WFJy2H7Jw8puclIUmgBpuoOXGMY5V1tAQ0TMl5FJVOoWx2Cs1bt9Ohu3GkZpKVnUWax4wcbKWhqYmGxl4iOhgdqfjTc8gvzCbD78aqDBHurGLnOzup7JZxp+dROH0WxWk2LJE2GpvbaG4LEEPG4sshLzeP/Pw0klzWy/bG0+MB+rvaaGhooaOji/6oho6EbHGT7E8ju6CQrPQUfBYdJRaiu6F2eP27B4nEVZCMmJ0efBm55GTnUprlBj1O/7mTnK6qo+5cK13BOLo9lczcQopKpzKtKHVkxFIt3ElL9QkOHznN2Z4E1ox8CiZNZdb0DPSzezlUXkNj1Ev21NnMnTud4iQTJPpprDxOVW0D9S29DOk2PJkF5GWkks1Z9rc7yMrKIicnm6y0JNx2E5deT9YZ7KjlbE0t5zoGGNQs2Dxp5OTkUzwlG7dhdHdfNRJgoKOeuuZ2Wlv6iGg6GjIWt5+M/MkU52eR7oJEpJPaXe+w82QXUWcaGYXTmTGtiElZHoyRPjqr9vDOzkq6JD/puUVMmz2dopwUvGadxFAfnXXHqTh9jpaWdkir6sMAACAASURBVAZUO66ULHInTaZkciEFmR4sqGjhLhpqq6mp72QgnEByJJOcWUBhbhpZthCN1VWcaehlUNEwOFJIyy2iuDCbbK+B+GA71bs2s7Oym4Qnk8xJ05lZ5CfJHKa9qZmWpnb6EyCZfWTl5ZFbkEdGkgu7EbT4IMGOOk6cPEvnUAJNsuNyWzGZHHj8WeQX5uC3G4ab7CLdNJ2toaa+nZ5QDMnmxZueT2F+NgWe8PkydhOMKkj2JFKyCykuzCM/RQSA8FGhxYkODTEU05BtbrwOIxIKkbCKyWLGYLjcHcVj0DXUaIC+QQm724nNbLy1u6XqCrGhEEMRBc3sxOOyjT1CqZYgHgkTHFIwe5Nwmc9fqlTChEJREpiwuZ3YLu6Zo0QZCg0Rw4TV6cJu0FAjYWKW4XlvzrbRQY0S6BtEt7ux28yYRwqio2sK0UAvg5IHt9OC2XjxPqCDlmCwv48hzYrd6cBuNV3xKXVXV74IA71D4PTgsJqu4c5pHTUaZCCYwGB34bBbbvLIsx8NIgAEQRAmKJGhgiAIE5QIAEEQhAlKBIAgCMIEJQJAEARhghIBIAiCMEGJABAEQZigRAAIgiBMUCIAhI8MXddpa2ujv7//yjMLgiACQPjoGBwcZOvWrZw+ffpmF0UQbgsiAISPjBMnTvDaa69x9OhR4vH4zS6OINzyRAAIHwm6rrNq1SoOHTpEdXU1LS0tN7tIgnDLEwEg3PZ0XScQCFBeXk5PTw87d+5k27Zt43w4iyBMXCIAhNueoiisW7eO9vZ2FEWhvr6eqqoqwuHwzS6aINzSRAAItzVdH37U4CuvvEJPTw8A4XCYqqoqKioqbnLpBOHWJgJAuK0lEgkaGho4duzYyBG/ruucOnWKzZs3o6rqTS6hINy6RAAIt7VgMMibb77JwMDAyIPiAdrb2ykvL6ejo+Mmlk4Qbm0iAITblqZpdHV1sWrVKhKJBJI0/JQpWZZRVZXm5mZ27tx5k0spCLcuEQDCbSscDnPu3Dl6e3spLCzEYrEAYLfbyc7OBuDtt98W9wQIwvsQASDcttra2igvL+fb3/42v/rVr8jPzwegoKCAb3zjG/zoRz/CZrPR1dU1qnlIEIRhxptdAEG4Vrm5uXz5y1/G6XTS39+P2WwGhpuAPB4P999/P3feeSdGo3GkeUgQhPeIABBuWxaLhZSUFGRZJhgMjpomSRIWiwWz2Yyu6yIABGEMoglIuG1JkoTBYLjiPLIsdnNBGIv4ZgiCIExQIgAEQRAmKBEAgiAIE5QIAEEQhAlKBIAgCMIEJQJAEARhghIBIAiCMEGJABAEQZigRAAIgiBMUGIoCOG6URSFjo4OOjs7GRwcRFEUgFHDMFw4LMPFQzS837R3n+178e8Xvq6trW1kOIiBgQEqKyvZtm3b+77+assw1vteTJZlnE4nmZmZpKSkjIxOKgi3KkkXT84WPiBd12lsbOT06dMcPXqUmpoaent7SSQSI/N8kMp3PAHQ29vLmTNnCIfDWK1WcnNzKSgoeN/XX27Zl5vvcgwGA0lJSUyZMoXp06czdepUCgsLrzhchSDcLCIAhA8kkUjQ0tLC888/z3PPPUdTUxOapl0y+NqVKt+rraTHY7yV/OXKcPG0K3l32fn5+axcuZI/+ZM/oaSkRISAcEsSASBcM03TaGlp4bvf/S6rV68mHA5jMBgwmUyYLWbMJvPIvDrwfuNxjnfa5eZ7P+N9/bVOu5CiKMTicRLxOKqqYrVaWbZsGb/97W9JT08XI5IKtxwRAMI1a21t5Te/+Q0/+MEPUBQFSZKYMXMm9953L/MWzCc5OXlk3nd3MuminwF0Hd6tGy8730W/X8nlXj9WGZAunXY17xkMhqgoL2fTho2cqqwkFovh8/l49NFH+eUvf4nVah1nyQXhxhABIFwTRVHYs2cPTz/9NA0NDciyzCeeeopPPPUJpkybisPhwGh4r4+BruvnK1gJ/Xy1OvLzSOU7xrTzPwOX/H4ll3v9VZXhgmmXo2oq4XCY2uoaVr20ijfWvE48Hic7O5vVq1czffp0cWFYuKWIXkDCNQmFQpw9e5bm5mYkSWLqtGk8vvJx5sybi9PpvGT+a7nweqVp43G9LjqP931tNhv22bMJBoN0tnewfds2ent7WbNmDbm5uaSmpl5V+QXhwyTuAxCuSW9vL7W1tSNNP0uWLaOkpASn49LKf6Kx2qxMnzGDeQvmAxCPx9m2bRtDQ0M3uWSCMJoIAOGaBINB2traRn4vLi7C7nRc/VXajyhfko/0jAwAVFWlpaVl5L4IQbhViAAQrkkikSASiQDnn79rtYpHL15guDfUey2sqqqOuyupINwo4hsrCIIwQYkAEG6oeDxOPBZDU7XLzqdp2vC88fgNKpkgTDyiF5Bww2iaxuaN7zAUHmLu3HlMKp70vvO2tbZx8sQJZIPM/Q88cANLKQgThwgA4Yaqra0lEAhQWPj+lT9AKBjkbN1ZDEaxiwrCh0V8u4QbRtd14rEY0WgURb18j5i09HSW3XmHuLAsCB8iEQDCLcnhdJCblzfmDViqqjIwMEBfbx8mk5G09HSsVusl8+q6Tiwao7u7m3B4CK/Xhy/Jh9lsvmSZiqLQ3d3N0OAQJpMJn8+H2+MetcyOjo7hG73sdhKJBIOhECDhT/Nf9/UXhBtBBIBwSxroH6C2thZZllm8ZDHBQJAD+/eTlJxMKBiivv4soWAIXdew2x0svWMZxZOLR8bbCYfD1J+tp/zwEQKBAIqiYDQYyc7NoWxOGbl5uciyTCKRoK21ld279hAIBEjEY2iajsvtprS0lPkL5mOxDg/fsGfXbjIyM5GA5qZmwuEwhZMKRQAIty0RAMItqae7m8MHD2E0Glm8ZDF9fX289OJLZGZm4vF6UZQENpuVUGiQI4eO0NrSwp98+Yvk5Oai6zo11TW8s3ET5xrOkZ2bg91mo6uri/qz9QQDQZbfvZzcvFx6e3pYu2Yt1WdqyMzKwOlwEIlEqD9bT8PZelxuF7NmzwLgyOEjeDxeQGdocJCU1FTRRCXc1kQACLckneEmHE0f7i6q6zrBQABJkrhrxXKW3bEMu8POYGiQvXv28I/f/yHL716BPy2NUCjE/n37OFt3li988WnmL5iPLMtEIhE2vPk2B/YfwGgystK/ksZzjbz15lv8w/e/R9mc2dgdDhRFYe+evWx8awPbt24bCQCAypMnmTN3Dg9/+g+YOm0qRnGRWriNicMX4bYRj8dZuHghc+bNweF0IEkSDqeDBYsW4nI66erqIhwOc+Z0FV2dXcyZN5eyOWVomjbcBGQ0cs/H7sXlcVFTXU1nRyeDg0PMWzCf2WXDlT8M39mcmuonOSWFlubmUWVwu93Mmz+P6TOmi8pfuO2JPVi4bfiSfOTk5ODxeEb+JssyVqsVm8MOOuiaTnNzM709vWRmZVJRXj5qOGgdSMTixGJxAgMD3HHXHSxeuhir1Yqu64RCg/T29HCsooJTJ0/ivuC9AKbPmE52To5o+hE+EkQACLcNg2xANhjGfNykfP5vqqYyODhIbU01zc1N7Nuz95IHwgwNDjK5ZDK6rhONRjmw7wD79u5jMBTEarXhS0oCwOvzoWmj71i22x1j9iIShNuRCADh9iFdebBRSZIwGgzkFxSyZOkSpk6f9t7Txi548pjL5cJgMLB181a2bt7CAw89SGpqCnaHA6vVSldn10gPoQvJsiQe7Sh8ZIgAED5SZEkmKTkZX5IPl9vNnLlzRj3YRdM09u7eS1dnFy6XmyOHD5OdncWChfPxJSWNtOvHYjGUROJmroogfOhEQ6bw0SJBQUEBNpuN8iNHaG9rHzX5XH0Du3bupOp0FbFYjP6+fjweLy63G5PJhCRJDIYGaThbT0N9PbquiWGchY8scQYg3HBdnZ0cOniIwMAAMPLI3RG+pCRCodA1L7+gsJBJRZPYsW0769a+MXIz19DgEAcPHCQSjjC7bDbZOdlkZGZSXl5O6dRSkpOTSSgK7W1t1NbUoOs6fX19nD51milTp3ywlRaEW5AIAOGGkSSJtPQ0Tp86zZ5duzh04CDvXZqF4RjQKZ0yhaLiYvx+P7LBAIDFYiEvLw+3231JG7wsyxRMKsSX5MNoNOLxeli6bBmRcISdO3bS1NSE0+mgv3+AocFBVtxzN0uWLcVsMnPX8jv55X9Wsua11aT6U1ESKrFYjJLSEh58+CE2btjIwQMHmFwymczMLJKSk8VFYOEjQwSAcMNIksQTT67knvvuQ1XVd+t7dPThrprnf7dYLcNj+5w/L5Ck4fF2vvKNr+F0OjGcD4V3mc1m/uZvv43d4cBmsyFJEnn5efzh5z7DHXfdyckTJxjoH2DmrFlMnzGDzKxMzGYzuq6zeOkSCidN4mjFUXp6uvH70yidUkp2Tja6rnPHXXcgSRImk4nP/tFnMZlM2Gy2G7/xBOFDIAJAuGEkScLj9V7St17X9TG7dl7Y9m4ymUhNTR2ZdvG8fr//vS4+51mtNoqKiygqLho174WvN5lMZGVnkZGZMfL3C/9PS08f+TnpfPdQQfioEAEg3DQXVsQX9tS5sAK++ALs+3bBHOPvw3+Sxlz2xcuUZXnUfBdOExeBhY8q0QtIEARhghIBIAiCMEGJABCuicFgGOkNo+s6kUjkig96n0gURSFx/kYySZIwGo3iDmLhliMCQLgmLpeL9PMXSAFqa2oYHBwU7eXn9fX10dbaBgx3U83Ly8NkMt3kUgnCaCIAhGvi9/uZNm0aRqMRXdfZs2s3NdXVIgSASCTCyeMnOXzwEDB8D8O9996L0+m8ySUThNFELyDhmrjdboqKisjJyaGhoYGa6mpWv7oai8XC9BkzsNlto4ZMvrAHzrsBMVbvHF0ffU+AzvtMG4/LvX6saeMo3+VomkYsGuP06dO8tf5N9u/bjyzLeDweVq5cicvlGmfBBeHGkPSJfrgmXLPOzk5WrVrFX/7lX6JpGrIsU1Jayt333sP8BQtITk4e13LGW8F+mC5XhvGWLxQKcWD/AbZseofa2hoSiQRer5cHHniA5557buR5xYJwqxABIFwzVVVpamriu9/9LuvWrWNoaAij0YjNZsNitWK48KEpkjQ8HvO7P8Po38eadr4f/+hp+ujRIy7ncq8fa9p4yncZmj58BhCJREgkErhcLlasWMHPf/5zsrKybnrICcLFRAAIH0g8Hufs2bOsWbOGF154gfr6euLx+CXzXXhD1VhNLWP9fKVp43Ety75c+cbDaDRSWlrKypUr+fjHP86MGTPEE8SEW5IIAOED03WdpqYmjh49SlVVFQ0NDbS2ttLf339Dy9HV1UVnZydJSUmkpaXd8Gf2er1ecnJyKCgooLS0lBkzZlBQUCAqf+GWJQJAuG5UVaW3t5f29na6uroIBoMj067mDGC80y62bt06tm7dyuLFi3n44Ydxu92XLOvd36+1DJfjdrtJS0sjIyMDr9crun0KtzzRC0i4bgwGA36/f3hgthtMURS2bNmCoii43W7mzp3LjBkzbng5BOF2Is5Nhdueruu0t7dz5MgRenp6OHLkCAcPHhwecloQhPclAkC47SmKwsaNG+nq6kJVVaqqqigvLx/VBCUIwqVEAAi3vVgsxgsvvEB3dzcAiUSCuro6jh49epNLJgi3NhEAwm3t3W6oZ86cIRqNjvz9+PHjvPHGGxN+WApBuBwRAMJtra+vj9/97neEQqFRlX1/fz+1tbW0tbXdxNIJwq1NBIBw21JVlc7OTt54441Lbj5TVZWzZ8+ydu3am1Q6Qbj1iQAQbluBQIDTp08jyzJPPPHEyDN7U1NTWbp0KaWlpezYsYNIJCKaggRhDOI+AOG2FY/HMRgMfPnLX2bOnDlUVlbS19eH3+/nwQcfZObMmRw/fpyhoSExEJsgjEEEgHDb8ng83HHHHaSlpdHZ2YnFYgGGx+JJT0/noYce4p577hl1cVgQhPeIABBuWzabDZvN9r7NO7Isj8wjCMKlxDUAQRCECUoEgCAIwgQlAkAQBGGCEgEgCIIwQYkAEARBmKBEAAiCIExQIgAEQRAmKBEAgiAIE5QIAEEQhAlKBIAgCMIEJQJAEARhghIBIAiCMEGJABAEQZigRAAIgiBMUGI4aGHcFEUhFouhKMpVP2FL13UkSbrqaeOhaRqdnZ0oigIMPygmFAoxMDBwS5TvwtcbDAYsFgtGoxFZFsdfws0lAkC4LF3XicVidHd3093dTVdXF6FQaKSyvRVomkZNTQ39/f0A9PT0UF5ejt/vv8klG02WZaxWKykpKaSlpZGSkoLH4/lA4SIIH4Ski4elCu9D13XC4TCVlZX8+Mc/Zvfu3QQCgVHTx0uSpJH5363wLvx9rJ+vNO1a3nc8y75c+cb7npdbP7PZzKxZs/jjP/5jPvOZz+ByuUQICDeFCADhfXV2drJmzRq+973vEQqFiMfjaJp2SQU3HiIARi/baDTi8/lYvnw5P/3pT0lLSxMhINxwIgCEMfX29vL222/z93//9zQ1NQHg87mZUppPcXEuPp9bVFhXKRqN0tDQTuWps7S3d6NpOklJSaxYsYJnn30Wh8MhtqlwQ4lrAMIlNE2jvLycZ555hqamJnRdZ8H86XzqqRXMnlVESooHi8V8VZXVhRdCxzrSHv80iXG/rQ46Y7/+Wssw3nUd6/WKohAMhjlzppl1b+5ly9ZD9Pf3s3v3bt566y0eeughXC7XuN9HED4oEQDCJQKBACdPnqSiogKDQSYz08+Xv/go998/nzS/F1kertg+rAC4cLmXm3Yt7zueZX9YAfDuz5Mn5+DzuVBVhTff2kt/fz/PPvssS5YsEQEg3FCiH5pwiZaWFurq6ojH49isFu67ZwEPPrCA9DQfBoPYZT4or8fOsmXTePCBRSQleYjH4+zZs4fe3l5UVb3ZxRMmEPFtFi7R3NxMXV0dADa7hQceWITLbRs58hc+OJ/XyeTiLPLyMkZ6WwUCARKJxM0umjCBiAAQLtHb20tHRwcw3FslLy8Do8Fwk0v10WOzmfGnvNfk824vK0G4UUQACFckeqZ8OCRJEmdVwk0lAkAQBGGCEr2AhA+NrkM0GqfqTBPlFXXU1zeTSCTIyvJTNnsyM2dOwue13+xiCsKEJQJA+FAkEir1DR2sWbub48frmFycS2rq8Lg3wWCEV17byfq39vPYI0u4Y9m027KZSVFU2tp72brtKE8+cScul1U06Qi3FREAwnWnaTo1tS2sW7+f6ppmlt81i+nTCkhJcWOQZfoHhjhzppnDR87w3G/eJiXFw+TiLEym2+tCs6pptLf3sfaNvXzs3gU4nRZABIBw+xABIFx3Pb1B9u47xdFjtTz2yBI++Ym7MJkMI0fHuq5TWppLUrKLX/5yHa++tou/+taTmEy3V3OQrkMkGqeltQdFURGDqgi3GxEAwnV3prqZylMNZGensvKJZVgsxksGU3M5rcwtK+bxx5axd98JFOW9G6AikTgdHX00NXcSDA4iGwwk+dzk5aaRkuLBbDaiqhqB4BA93QEyMlM4d66Djo4eYrE4druNzMwUcrJTsdstI8vVdZ2Ojn5aWrvp7Q2gqioOh52M9CQKCtIxmYxIkoSqavT0BGlq7qSvL0g8nsBqtZCenkR+Xjoul41gMExTcxc1Nc1EwhFOnDxLT28fxUXZuFy2G7atBeGDEAEgXFeqqlFV1UgwGOaJx5bhcFjed97UVC+PP7aESZPSsFot5y8aJzh1qpEt2yrYu+8EbW1dmEwmCvKzufOOmdx9dxkF+WkoisbJk+dYt34fDz+8lE3vHKK8/BQDgRAul5MF86fy+KNLWLigFINBQtehrb2PjZsOs3v3SeobWonH46T6k5k2JY/PfPpeJk/OwmIx0d7ex/Ydx9m8tZzGc20MhodwudyUTs7hDz51D/PmFtPc3M3bGw6yd98Jenr7eenlzfj9Hv70S49RWpJ7A7e4IFw7EQDCdRWJxOnsHH4wS3Fx1mXnNRpl/H4PK1LLRi4Cn65q5le/Xk8gMMRX/+LjLFk8FU3TeHvDEf7zmTV09wT4w0/fjd/vpb2jj7c3HqK5tZ/HH13CN7++ErvdyvYdx/j977fwy1+tY0ppPj6fnXg8wS+eWU/lqXo+dt98fvTDp/H6nFRWNvKvP3mJH/7T8/zzj75Ibo6fNWv3cuBgFXcvL+Pj//5VHA4z5xq7+ccf/5ZXV+/EZjOTn+dnTlkx0ViMU6cbuWPpTNLTfSQluT/0bSwI14u4D0C4riLRGEPhCGazkeRkz1W9VlU1Xl29HYPBwJ/96WOsWD4Th8OC223jyZWL+cqfP0F1TTMHDpxGSagkEgk0NcHH7i3j0Yfnkeb34nZZue+eMlasmM3gUJSammYURWX/gWr27DvBU59cwec+cy9ZWUk4HRbKygr5wfef5tixaurq2qg7205zcyclk7P41FN34vPZMZuNFE1K59Ofuo+hoQht7T34/T4WL57G0iUz8Xjc3HfvAh64fyGpqd4PacsKwvUnzgCE60rXdfTzwxlc7TNvG5u6aWvrZdrUfObMLsJsNo6MpGmxmFh+1yw2bzlMw7kOuntCGI1G0tKSufOOmTgc73XBtNksJPmc2O0mBoeiKKrK9h0VzJxZxNQpubhcw+Ma6bqOxWyieFIGv/h//4sppTnY7BY++5n7sVpNOBzWkYe5GAwyg0NR+geCxGIxZFnCaDRgNBqQJAmTyYjJZES+hofWCMLNIgJAuK4sFjNWqwWlN0QwOIQ/9fLDG0ciMaprmigqyqGpqQuA1BTPmBdSU1LcpPp9JBSNYDCMLMvY7FaSkkY/nEaWJYwmGaPBgKZqJBIqVWfOMXdOKT6fc1RffUkCi8XEkiVTMJuMyLKELKXQ3NLDG+v209LaSTisIMkSTU1dDPSHRAUvfGSIJiDhurJZzSQludE0nabmrsvOG48rnK3v4P/8y+/p7Q0RiUSRJQmjyTDmjWEGg4TZZAQdFFU9P5aOjMFw6UNiJEkCCXRA13TC4ShmkwHDGIPaSRI47GbMZgMDgSE2bynnrbcP0N0TwJ+aRHFRFlNKc5lclI3DYf0gm0cQbiniDEC4rkwmA4UFGVSdaebIkWqWLZmK2Tz2bjYwMMSBg2c4dqIBgORkD4qqMjgYIZFQsVhGvy4aTRAIDOH1ubBZzeMqjySBwSCTlpbEQGCIaDR+yTyJhMLGjUeYXJJNbV0bh46cweO2M2/uZPLz0nE4zJhMRnbuOsXufUevcosIwq1LnAEI15UkSUydmkderp/jx2s5fqIeVb10iONYLEFNXQu79xznwQcW4/Payc9Px2630NraS2tb76imFl3Xqa5upbcviMdtw+dzjLdEmExGFs6fytn6Nlpae4jHlZGpqqrR2TXA//vP16mubqXiaM3/Z++9w+M6zwPf32lzzlQAg16IRrA3kSpUl2k1N9myLduxfZ3ELXaS3eTmucm9a2efrDdbvPvsTe6mrLNO7MR2ZFuWZUuyRElUIUWRlCiKvTf0OgAGwPSZM2fOuX8czBAgABIAQZEgz0/PiIM55Stz5nu/7/3eApbFHbevZNPGpZSW+lBVBcuCjs5+EvHU1CIsC9NRCzksQhwB4LDgNNRXcufmVbg9Gv/609c5fryD0OAY0WiSWCzF8HCUo8c72PHmEUKhMF/64sO43RrlZX5uWb+MwcExXn/jIH39I8RiSdvpqmuI51/YjdvtYtXKBoqKZisAQJYltmzZSDQa5913T3H6TDejozGi0STd3UO8ufMYGT3LkroySor8JBJpQqFRRkZixGJJwuEoJ091sX//GcLhCPF4imQygwCIgohpWXR1DtDbN0Q6M3WF4eBwveKogBwWHEWRuOvO1SiKzN9/7zn+7Z/8HY997B6WL6tBlkTa2kPs3nOMaDTJN77+OBvWNxYshh5//B6GwmM89/wuurtD3H7bckzT4o0dhzl+oo2v/O5HuPPO1UiSiCSJaKqCME38HVkSUV0KkiQiigJLm6v4wucf4WdPvUZbez/337sOr0fl2PEOXtq2lz/85qdpbKzEyJkcPHyWZ5/fTUY3qKkO0t8/xsvb3uX221Zx7nwXx451cup0NxvWN+P3a3g8Kn/z979kWUsNX/3KR1nWUvd+d7mDw7xwBIDDVUHTXNy5eSVLl/4+u3Yf5529p3jzzf2k02nq62t4+KHbuPeedSxtrpy04VtVWcwf/v4nuP22lbz8yrv83fd+hUtxsWnjKr77X37PNuP0aejZHKtX1fP539qCpslcHIRtxYoGJFGiqbESsC2DPvmJO1naXMlrrx/kud/sIpVK07K0nr/8zle45641eL0qG29p5g9//3G2vbafV7btJZVKs7S5nm98/TE2bWrhtltb6OsfwjQNZFlk5Yp6/v5//jF73z2OIFpo6uz2JhwcrgccAeBwVRAEUBSZyooSPvzo7dx371r0TBbTMnEpCl6vG59PQ1EmxwkSBIGSYh/337eOWzY0k05nEAURj0fD7/egqgqCIOBSJJqbq6itKUVV5SlWQE2NVdTWlOFyKYXPXC6FdWubaGys4ovJD2KaJprqIhDw4na7EATbtn/tGnsPI/kF+xyXS6G4yIemubj77tVkdQNVte+raQqrVy+hsbEcC/D7nDhADosHRwA4XFUkSSQQ8OD3uwsz/fyAP1MOAEkS8Xk1fF6t4AiWvy7/XhAEVJeCOmGAn4jLpeByKVNs9jXNhaa5gKIp986jqsq4oCmaUq7Xo8GEoKV5J7W8QLj4Xg4O1zPOJrCDg4PDTYojABwcHBxuUhwB4DAFSZKQ5XHtoGVNitXvsHBYpkUu56iLHK4djgBwmILf76e42I5qmcuZhAbC0zpzOcwfy7JIpbOMRZKFzxRFmXMAPQeHK8F52hym0NTUxMqVKwE7WNtrr79HLJbENJ3Z6kJgWRbJpE5X1yDnVwAYNQAAIABJREFUznfbVk0uF4FA4MLKy8HhfcARAA5TqKmpobm5GUEQiCdS/OKXr3H4SDuJRPpaV+2GwDQt3tt/hud+s5vR0QiyLLNmzRqCwaAjABzeV5ynzWEKRUVFrFq1ivXr13P48GFGRyN8699/ny998UM8/NCt1NaWIstTo2peCstiiq3+hWPWjCahWFzw8Zr4ftYFz+76S9XhUnWfVRUmXD86GmfnziM8/cx2du85gmXZKrdvf/vblJWVzb8QB4d5IFiO0bLDNIRCIX7961/zrW99i0gkgqq6qKutoL6himCwyE6gPof7TRwE8w9cYVyeaI9/8bEZ3s+63Evca3IdLlW/uQmAma63LIvR0SjdPYP09g4SjSYIBoM8/vjjfPe73yUYDE4brtrB4WrhCACHaTFNk+7ubn72s5/xwx/+kK6uLrLZ7HjmK2ezcn5YZDJZDMNAEATq6ur42Mc+xpe//GU2bdrk9KnD+44jABxmJJfLMTw8zK9+9Sv279/PkSNH6O7uJplM2qkf5/DoTOfNO50n7myPzbXMudz7UuddSVsB3G43NTU1rFixgs2bN/Pggw+ycePGmVVgDg5XEUcAOFwW0zQ5f/48e/bs4dSpU4yNjV2XAsA0TYaGhtA0jaKiokteb1kW2WyWbDaL1+u9bP2y2SyWZSHL8mUH60u1we/309LSwu23387q1avx+XyX7TsHh6uFIwAc5kR+8LweH5tIJMJLL71EU1MTmzdvvuRAnU6nGRwcJBKJsG7dukve19bdj2KaJoFAAJdr/hE/RVF0ZvsO1w2OFZDDnBAE4bodwFpbW3n22Wd56KGH2Lx58yU3VGOxGCdPnmRoaIgNGzZcsk25XI7BwUEsy8Lj8eB2OxE/HW4MnF0nhxsCy7J4/vnnOXDgAO3t7QwOzpyQ3rIszp07x6uvvkprayuZTOaSKxrDMOjq6qKtrY14PH5drn4cHOaDIwAcFj2WZRGJRNi9ezf9/f3s2LGD7du3zzhQJ5NJwuEwkUiEaDTK3r17yeWmj3dkGAbDw8OkUinS6TSRSIR02nGIc7gxcASAw6Inl8uxa9cuent7yWaznD17lqNHj5JKTZPAHWhra+P8+fOYpkk8HmfPnj3o+vS5fDOZDF1dXeRyOSzLYnBwkFgsdjWb4+DwvuEIAIdFTyaT4cknn2RoaAjLsojH45w8eZJDhw5NOdc0Tdrb2+no6ABs657e3l5CoRDZbHbKuclksnBfgJGREaLRKIZhXP2GOThcZRwB4LCo0XWdjo4O3n777cLM3DRNTp48yY4dOzDNyVFMh4eH6evrIxqNArb6KJ1Oc/DgQZLJ5KRzM5kMIyMjpNPpggDIZDKMjo4Sj8ffh9Y5OFxdHAHgsKiJx+O89tprjI2NTRrs+/r6OHDgAOFweNL5Z86coa+vb9L+QC6XY//+/UQikUn3SCaT9Pf3TylzZGSEkZERZzPYYdHjCACHRUve8esXv/gFmUym8LkgCOi6TmdnJ++8807h82w2y8mTJ+nr65tk9mlZFr29vfT39xfuYxgGsVhsigAB24Q0EolMURk5OCw2HAHgsGhJp9N0dHRw5swZSktLURQ7MbuqqpSUlBCJRHj66acLFj6hUIhoNIqiKKiqCtiOWW63G5/Px5EjRwoDfjKZZGxsDFEUJzl+KYqCJEkkk0kikcj73GIHh4XFEQAOi5aenh527drF17/+dX784x/T3NwMQHNzM3/2Z3/Gd77zncIs3jRN9u7dSzAY5IknnuDee+8FwOfz8dBDD/G5z32Onp6ewrl5Pf+qVatYvXp1wamsqamJtWvX4nK5pqiSHBwWG44nsMOipba2lq9+9av4/X4SiURhpi7LMmVlZTz++ONs2bKlMNu/9957C+eMjY0Bdv7j4uJibr31VlavXo2qquRyOSorKykrK0MUxUlqIFVVqaqqoq6uzhn8HRY9jgBwWLS43W7q6uqQZZlsNlvQ6wuCgCiK+P1+fD4fpmkiCAJlZWUF9c3E0MuiKKJpGl6vtzCo5zNz5XK5SeEvBEFAlmU0TSv87eCwWHEEgMOiRRRFRFEs2OvnLXgMwyjY6QuCUFDf5Af1TCZT8ObNX5uP3HnxgG6aJrquFwSDruuFeP4ODosdRwDME2f5f/1gmiaxWKyw2WsYRiF883QkEonCoJ/L5YjFYpimOe35uVyu4AdgWRaZTOaS93a48bmRhL8jAObAxFDI+QEg//5qJSu52FzxaiYrme+xKyl3Lu2bqVzTNCc5a+VyuUmrgIuvz2QyhVm9aZpkMhkMw0AUxSnlGoaBruvkcrnCaiCfR2Cubb2SY7PhavbxbMqcb/surt+VtPVKjl2uvItVgddzZNzZ4giAWZAf5E3TnPSaLi7+1frhXO1B4kqOLUS5V5IQxjTNKbNywzAKNv0XX59X45imWRAW+YigF5ebFxaGYZDL5chms+i6PsnvYK5tnc+x2XA1+3g2ZV5p26/X53jiYJ9/iaKIJEmLXhA4AuAy5Af+XC5XGCzys8G8znniamAuXPyjnOn6+R670jrMtn5zLWe+x2Y6L5fLkclkCt9HXiAkk8lpr0+n02Sz2cIqQdd1UqnUtPF98vsF+ftnMhlSqVTBsmgh23499/Fsy53vM/R+tX2+7Zv4kiQJSZKQZRlJkgrCYDHiCIBLkB/8Jw4W2Wy2IAwu1hsv1A9ntrO3i4/NtsxL3Xs2P975zk6vtH0ztTU/ME8UxNlsllQqNaMAyKt18rP6dDo9aeM4f5+8ANB1vaBqupwAuBH7eC7lzqd91+I5nm25+bLyg78oisiyjKIoKIpSMC5YjELAEQAzkB/884N+NBotRIJMp9NTgoxNvG42zHZpOnFpebljcy13IeowlzLn277LDYqWZdHZ2VkI6azrOqFQiLNnz057fSgUKngF67pOX18fZ8+eRZblKeXmBUZxcXHhmchHD71ce6+kffMVAJcqZ651mGuZV1qH+ZZ7Nft44uCvqmrBtFjTtCmTQEEQJpkXLwYcATADlmUVVAvd3d0MDQ2RTCbJZrOTBv+r/cPJH3u/Zk7zqcNsy53r7HS2g9PFZqD5FUE+YufF1ycSiYI1jyRJhXPzM7jpysnP8vKrgMu19Urbt5AC4FJ1uNyxuZS5UHWYb7lXs48FQSCRSBCNRnG73QSDwcKkIH984mux4AiAacjP9FKpFF1dXfT19RUGmNkuLWfDYl06X20BMNc+nrgpnycvwKe7/uL9m/zfE2d7F9dv4o96ptXfxDovRPvm893O9vtznuOpxy5Hfg8wrxI2TZPS0tLCHoAkSZimuahUQY4AmAbLstB1nXA4TG9vL4lEAsuy0DQ3Pq8fVdXGl3oCkH94Jr6fLZe6fqZj+YFovuXOtpy5HJtruZdqw1zqYGOaFmZOxOWy9fIet4eKiiqW1DVOe73HHWAkHGFsLIrbrdFQ30xdbSOyLE04b6b6zbatC9G+q/Xdzr2PZ1/u+/kcz3T9wvaxZdlCP5VOEI/HMIws8XgcQRAKewH5/SRJkqaopa5nHAEwDZZlkUgk6O/vLzgMeTxeykorCQbLcLu9iKLI4viKb3xM00ISXaiqHZ7B6/VRXVlLQ/3Sac8v8pcyOjLGyOgIHo+HpqYWGuqbC2oeB4eJ2AIgRzwRY3h4kJHRITKZNIlEgrGxMfx+Py6Xa0ZnwusZ54m/iLzqIB6PMzw8jGVZiKJEZUU1lRW1aJobnKH/usI0TWTZdUGFI4pIsoIsu6Y9X1Zc9kuWkWUFRXEhyy5HADhcElV143F7MU2D8MgwuZxBKpUikUjg9Xon+QY5K4BFimXZVh95CxFBEPF6PJSVVuJyaeMSfnFJ+Rufi74TK++tPYOu3rLsV+FP+9wZz3e4IZk6SF9+0Ha7PZSWVpJKpYjGxgr+JvmZv7MCWGTkv7C89M5v/iYSiXGdHvj9RQiCiGnmrnFtHaYjb6574UdIwXlvOoycQc7MYZkmlmlimrnChrHDzcVkyx0LAQEu+RwIBPwBNE0jGrvghLjYBv48N60AmGj9kd/Ayb/i8TjJZJJ0Oo0kyYVQAaa5OL/kGx3LMslk0lh5M1ArRzarz2iumXfsMgyDrJEtOHs5KqCbh/wYLwgigiggiSKCICJJIgLiuECYXhAIgoQgLC57/5m4KZ/4iTFg8rFdJnr7RiIRotEoiUQCSZJJJpPEE3EUZXqdssO1xbJMEol4wTwzl7Nt9eOJ+LTnJxIxUqkkejaLlNFJJZMkknEk6ab8OdyUCIzP/kUBSbRNOCVZLoR3kEQJMT/IX7QiuJEWijfdE59XF+i6XnDrTyaTpFKpwqwwEokQDofHc8JKBPzFqKrHEQDXKZZlMTY2ipGzQznkzfRGR0emPT8SGSORiJPVM4iCQDweZXR0dFHZbzvMjwuDt+21K0sykiwhS7Y5p0t14VJcWLId4sEWAhY3quHHTSUA8oN/JpMhEonQ399PZ2cno6OjJJPJQqC3ZDLJ8PAwkUgESZKIxxOEwyOOALhOsSyLwcEQmXGVTyKRpLunkxMnjk17fiaTJhIZQ5YVBEEgPBrm1KnjN8yy3mFmCgJAEJAlGbfbTcAfIFBUhFvzYOQMTNVEVS37XEm+sBK4AblpBEBe55/JZApxYs6cOUNnZyexWKwQ7AvsWDKxWKyQOjCT0UkmkiiKco1b4TAdlmUxMhImMx4LKJNJEQoN0NZ2bvrzAcs0x9M6CvaeT6L1/auwwzVHEARESUJT3RQFAgRLyygvr6SoqAjTsrD3gsXx1+IK7zAXbioBkM1mGRoa4tChQ+zbt4/e3l5M07SdugRx3AIABITCl28fW3wxPm5GhIvez/R9CQCOuuemxrLAyGaJ6TrxeJSh4SESiQT19Q0ggCiIiKKEKOXHgBtTDXTTCIB8wLCjR4/y9ttv09/fjyiKuDUPXp8fTXUXvHv1rE48niCVTCJIIuVllZSVliErMpMfgokPxXwekEtdP9t7X+mDuRB1mGs5C1sHyzQxcyCNW/HIsoLfX0xpadUV3/vyx2bDfOsw13IXon03x3Nsh3nPkM6kyOoZMpk07e3nEaXxUM+ygjL+rymZ4xPCK6jedcpNIQDy6p/29naOHTvGwMAAgiDg9fpYv/Y2Nm64g+LiUtubFDubVDqdIp1JgyWgqhouRQNBsFcJ+fvm7YYvej/rel3i+pmOWeMOT/Mt91LXz7cO82nrldZhIqZp0tnTynO/eY5QaIDi4iAb1m/mww99dtH28XzLvXC+NT7Uza19N8tznMsZxBJRevraOX/+OJHoiP0cdbYT8Afwer2oqoqRM1BMBUlyVgCLlrz65+TJk/T29mJZFiXFpdy68S5uv/U+FJeCKEoICFgX/QdM+v9Fd57h/axrdonrZzqWfxCtaY7NtsyZrp9tHeZb7kyfzbcOl7v3xV7bc733fPv4Ute/n308n2fo/XqOL/5sIfv48kiSTMBfTEvzaor8Jbx3cCfxeISsrjMcHqa4JIjX68PM5SaEd7jxhMANLwDyX97Y2Bj9/f3E47Y9f1VVLWvW3IJrPLOTZU0Y8POhBEwQBAvTMslZFrZB2IQQAoAwQTwIc3wIL3f9xPpM1mdbkx77uZZ7qeutmepwifrNrsTprh//96L2zbWPTSzbCcy60CrLsr+32fcx4z/waeo3Q7mXYzZ9PNv6zba8hXiG5lLmxddfsg7THmOG+s2+bPv6id+fALMYrEVBRFU0SoMVNDet4viJ98jlDKKRMZLJxIXYPvMWTtc/N5wAKAze42ofy7IwDIOhoSEikQi6rhMIFBMsKcPj9mEYWS7MiGyMbBYjaxTsygUhi4h4Dc0EL/UwX+msZLbXX81yruzeljUeCiI/0JgUUj1eD/W78usXgqvZvuukDoJt5ml78k405hCwhBnuLoDLpVFZXsdp+RA5M0cqnUIfD+9g5at2g3JDCYCLk7dPzOM7PDxMIpGw0wZaIIrStKECLCBn2Dli82aFOSOHYTixYq5XLNMklU5hjYfqMC0TXc+QTCWucc0c3k/sn6c96Ev5JC2ihCiNe/UKwrRuvKIg4nF7kWUFXc9g5nLkCqGdramaxBuIG0IA5Gf7+bAO+dgumUwGXdfRdZ2hoSHi8TjpdJp0Ok0imWAsMjp+vX0fQbDf5wyDjJ4u5JhVZNV2AsuHGx7fK8i/B6b8fdk6X+L66Y8J41rbiefZR+e7ebYQdZhbuZdvw2zrNxHTNInFooXgb3lnvvz3e237eH7tm38fT71+ogJmavsW/3Oc/8Qe/IVC0nZZVnAprkLidkmSERDtlcLEsgQQRRFRkCisE8a1CDc6i14A5Ad/XddJJpOFvJ3RaLQw4Ou6Tnd3N6Ojo8RiMRRFJRweZmCgz74HE43E7HwAuq6T1bMggCwp4/HmmXDm1CvnvoS91PUzHbvUeXMtc751uJrlzqUO45+aFsPhEEbOVvkY2SzR6BihUP887+308dxYiPZdabn2/EyWFBRZQVYUXC47SZCmudFUDZfL3vwVxbwQcFj0AiA/+CcSCYaGhujr66O3t5eBgQHC4XAhvs/g4CBdXV1Eo1HSaR1F1shk7Bn+RHsIgNx4yIickUPAQhRlJFGasHycsNk07fvZMtP1lytnpmOzLfNS97YuOnc2dZhtuVfavunbalkWY5HRgkovlU7S1d2B1/veHNrwfvbxpY5dn308t3Ln8wxdSR/bo7kgCLg1Dz6vH78vgN8fwOv1o2d1cjkDsHC5NATBXglYjkp3cQuA/AZvKpUiHA6ze/duXnrpJfbu3UsoFLrkEu7gwf2F91czYfmlWKzJtK+3pPAXMzw8xPYdr7B9xyuLto/nW+6Vtm+xP8eSJFFX28AtG25j7ZpbqK5egi+rY+ZM+5q8V7+cVwLd3EJg0QqAfOpGXdcZGRnhH/7hH9i6dSs9PT1ks9mbQn/n4OAwmVwuR09vF6HBPk6dPsbdd36AWzfdhYBgbwpLMpIo22lDRemG9O6dC4taABiGQTwe5/vf/z4vvPAC3d3dGIaBoigEg2WUlVUgiYu2iQ4ODrPFAsPM0tfbTSJp7/11dLZhmhaCKHLHbfegKAqqy4VrfFMYUcRZASxSLMsimUyyb98+XnzxRXp6ejAMg+am5dx5xwOsXbMJv69oVqabthPJLI5do72zWddvrmVefP086zCrYm+mPr7U9XNp31zbO9v23aB9bFkmo6PD7D+0h/f276Z/oJfung72vbebhoYmVFUlo3vQDAOXmcOyZGcFcK0rMB8mevc+99xzdHV1oes6S5tX8MhDn+D+ex+ltrp+1hmeJnohTqejnO795Y7Np9zZ3PtS9ZttmVfavovvMZ+2Xmkd5lvuYunj+ZZ7pe1b7H1sGFmWLGnCrXnZuesVBkJ99PZ1cfLUUcrLqwo5P8xJnuM3L4s200EulyMcDrNz5050XUdRFDbffj/33fMIS2qbnPR+Dg43IbKssGzpGrY88GHWrtmEIIik02lOnz6Onk7bCV/M8fg+c7Z2mkomk6Gjo4MdO3YQCoUwDGMBWvH+sWgFQDabZWRkhL6+PkzTxO8vYtXKDVRX1l3rqjk4OFxjWppXsXLFejRNxTCyhAb7yOiZC/F9Fmjyn0wmOXLkCH/913/NM888w+nTp0kmk4vGCGXRTpOzWTvva14dFAgU4/P67c0dBweHmxpN8xAsKSMQKGJwMEQ0GiVrZAvhQhaSZDLJgQMHOHbsGOfPn+cb3/gG69evH884d32zKFcAEwO+5SWtKNgxQG72XX0HBwd7b0CSJGTZzuNtWdbc/dvmUJYgCOi6zo9+9CN+8IMfcObMmatT2AKzKAWAg4ODw/WAqqpUVlayZMkSBMHONPbMM8/w3nvvLYr9AEcAXEekUgm6uts4eeoIHV3nSSRji0aX6OBwM6JpGhs3buS73/0u9fX1yLJMJBKhp6eHkZGRa129y+IozK8xlmWRSiXYuXsbrW2nSaUS5NVYkixRUVbNg1s+SkV5zVW1bHpn3w5yOYPlLWupKK9eoLtaRCKjPPfCT9m06W5amlfh1jxTz7JMTp05yps7tzE6Fp50TJYVamrqqKttZNXKDZQFK5BlZd41isYi5HLGeIAw92XPz+hp2jvO8psXn5o2v4CiKFRUVLN61QbWrNqEx+2dd93mgmVZtLad5vCxfdy68S4a65ddtXJ0PcPQcD8V5TUoimvOZqI3MqIoEggEaG5uZuPGjQwPDxOPxwmFQgwPD1NRUXGtq3hJnBXANcTCIplK8PJrv+LM2aMUFwdZs3oTG2+5k3VrNlFZUUNXbxtPPfND+ge6x5PXXB06u87T0XWORCK6YPe0LEinU7x3cA+hUA9GVp/hPIvQYC+nzhxGlmUa6pfSUN9C/ZJmqqtqEQQ4ceoQzz7/rxw+to94IjbvOp09d5zDR99lINQ7q/NzhsFwOMT+g3vw+wPUL2mmob5l/LWUqspa0pkUr7z2LHv37SASHZ133ebKcDjE0WP7GRkdumplmGaO8Mggz/7mSaKxUSzLvGplLVYEQUCWZXRdL6zY7XDU1//8+vqv4Q1MLpdjODzAa288zyMPfZK7N2+hvKwKUZQwzRxjkREOHn6Hnz/9TyxrWc093gDFRcGrVpdcLoe5wConC4tsVidn5i65B2eaJm6Ph7vv3MKmjXcjYAf3ymZ1ItERzrWe4r0Du9jzzutIosi6NbfNayXQN9BFeCREcXHp7NtgWbhcKlse+AhNDcsQRalwTM+m6e3rYtvrz7Jz1zaqKuvw+4rskMNXGdM0MYys7dR0FcuIxaO8u38nn/jY5ykpLrtqZS1WdF2nvb2d06dPo+s6oihSXl5OMHh1fqsLiSMAriHZrM7gUB9jkVE2rt9MRXlNYeAQRYnSYAV33bGF02eP0tffTSIZKwgA0zTJZNJEoqOkUgkUxYXfX4TX45syMOZyBpHoGPF4tKD+CASK8bh9l6yfaZpk9DSRyAjpdApV1Qj4i3G7PZMGQbAHyUQiRjQ2RtbIoqlu/P6iOe1hiKKIqmp43N5JHp7FxUHqlyyloryKXz//E44ce4/amgYqymsK16bTKSLRUdLpFJIk4fP68Xr9hb4wTTtJTDqdIpPJkEzGSSbjqKp7VjM1QRDQNDcej3dS2z148fuKcblU/sf/9+cMDvXT3LSCbFYnm9UpLgqSyaQZi4yiaW78vgCyrJDOpIhGx0gm40iyTJG/GK/XbyctuUjFksvliMUjxGIRLMvC6/Xh9fqn1DGTSY8nQ1EmCSA7blYWw8jicmkTjllks1misQix2BgIwngo5SJcLhXTzJFKJUkmY5i5HPFEnHg8htc79Rm7WTFNk1AoxJ49ewqBKMvLy6mrq6OoqOhaV++yOALgGmKaJulMGpdLHZ99m4gXaeU0zc3DD36CwcH+gv48lzOIREbo6DpPW/tZhoYH8PkC1NbUs7RpJVWVtWiaB8uyyOhpenrbaW0/Q09PJ5lMmuLiIEubVtDSvIpgsHzauhlGlpHRYdo6ztDReZ7R0RECgQAN9S00Ny6nvKzKzpKGPbgODvZzvv0UnV1tpNNJSkrKaGpcNis9+2wQBIE1qzZx+Og+hob7ae88R0V5DaaZIxaPcr7tFO0d5xgdGcalqtRU19HYsIzamkbcmodUKsmJ04fp7GolFougutyoLjdNjcsonaEPZosoilSUV6Oq2ngmuQytbafpD3Vz28a76ehqo739DI0NLaxYvh7TzNHZ3Upr22mGhwdRVY0lSxpZ2rSC6solaJqnIATSmRQDAz2cbT1BT08nANVVtTQ2LCN+kbqus7sV1aVSXl6N13NBuJumycjIML39XSxtXklgXDAnkgn6+jo513qK7p52RFGkuqqWpqYVLKltwjRN2jvOcvrsUVLpFCdOHSIcHmLlivWUl1VeUZ/dKMRiMY4ePcrTTz9NNptFFEXuvPNOWlpaUJTrX0g6AuAaoigKZcEKopExDh3di8/nJ1hSjiiKdrhawZ7NrWhZx8pl6wF7NjccHuSt3a+wc/c2ltQ10dSwgmQqzgtbn6KmpoFHHnqc9WtuwzB02jvO8r++/1+oqqxjSV0zbncpXd2tHDz8DuvWbOKLn/vmNLM5i8Ghfrbv3Mr2N7dy66a7KS2pZHhkgP2H9rBy+Xo+/PCnqF+yFNM0icRG+dGTf8tQOERj/TJKSyvo7+/m+IkDFBcFF0xFIYoizY3LGRzqp7+/B8uyiMYi7Ni1la0vPU3L0tXU1jSi62nefOsVTPMlHn/sC9y26T4isRFeff05Tpw6hJHN0tXdzuDQAI99+LNXLAAsyySZjJPVM0iShCAK9PS2s//gbtLpBNvffJmN6zejqhrJZJwdb73EocN7KS4uY2nzCnRd56VXnsHlUvncE19lzcqNuFwq2axOa9tp/vXn3yOTSbN+7e2oqsaxEwc5enw/Zi6HaeYK9dix8wWKi0u5586HJgkAw8hy+uxxXtr2S77yO39MwF9EOpPi0JF32Pry0xhGjo233IkoiOw/9Da73n6dLfd/mCV1Tex55w0OH9lHNBrh1deeJxgsx+8POAIA2xn11KlT/PKXvyxY/ASDQZ544gnWr19/jWs3OxwBcA1RZBdLapv51Cf/D55/8efsfvs1Vixbx/Jla1javJLqqjpU1+QZtK5n2LtvB8dPHuTTn/gSm2/fgqIoWJbFvXd9kF8++2P2H9hNw5Jm0ukUO3a9xIrl6/jsp75CcZGt906mEuzc9TJ739vJ8EiIqorJ4TPS6RRHjr3H0eMH+De//+esXnGLbeNsmZw9f5w333qZ7Tu38vnP/h5ZXWfrK08TjY/xpd/6A5a1rEZRXBhGlvbOs/zq+Z8wEOrBzOVYCILBcjvq41iYeCLCqdOHeO43P+Nrv/t/snbVrXjGB77+UDc7d73CU7/8IU1Ny6gsr+X/+uO/5KVtvyQ8MsSGdbezYe0duFzqFdXHsizSmRTvpBc3AAAgAElEQVQ7d7+Cy6VSWlKB5nJjWib9oR7K+ir51p/+d8pKq1AUhWd/8690dbfx4JaPcd89j+BSVCwsHvvIZ/mnH/01b+3ehqa6WbViA719Hex++1U8Hi9/8m++Q1EgiCiKZPQM+w/u4sWXnyYWm9+m/fGTB9i7700aG5bxuU9/taBSSiTjPP3rf+bM2WNUVdby5S/9Ea33nua///W/40//5C+prW7E7Z5qyXUzcurUKbZt20ZPjz0ZkWWZb3zjG9x7772LQv0DjgC4pgiCgMfj42Mf+hwrl63n3PkTdPW0s/WVZ0ink/h9RTQ3Lee+ux9i6dLVaKqbnr52Bof6qKmu59ZN9+LxXNCXN9QvY/MdD2AYOhk9jSCKlBSVsmrFeoqLS1FdWiFrUlGgBCwYGhqcIgB6+7sYDg/QsnQFq1ZsQNPc49EWYXnLWs63nmZgoJu+vk5cLpVde17nk499kcbGFjweH4IgoCguGpa08IH7PsTed3cumBOmJNmJu00zRzg8yNETB1izeiNrVm2iqChY0G/XVjewYd0d9PR28PY72/nIo5/FrXlwuVRcLgVVdaNp7lmGC7f3N17f/gKHSvch5vcngHQ6SXdPK51dbXzk0U/TUL8UURQxTZOiQAnr195GVWUdsqwQi49x7MQBmptWcPume/F5A4XnwKWofPRDn+HpZ35IZ+d5GpYspbevm86uNh5/7IuUlVYWzIAVxcWa1Zvo6m5n157X5tyH6UyS1rbTZLNZHtzyMYqKSgr7GrKscPfmLfT0dSBK0nhOXQ+iKOLWPLjdHifQInDu3Dl27drF6dOnMU0TVVX5+Mc/zhNPPEFNTc2iMZV1vslrjCiKBEvKWLfmVuqXNBOJjDI6NsLI6BDD4QE6u9v455/8LQ8/+Ak23/4Avb1dZHSdpU0rCPgnzzJcLpVNG+4ilzPw+QIICNx/z6P4A0UkkwmGhgZIJuMMDQ9w8Mi7xOJRstOYZg4O9tPd04EgihcGmAlx3Ts7W4knInR1t1FZWUsiEaOpaQVej7/w4AuCgNvtpa62ieKiIKKwMFYx9qayLU4i0VE6O1vZ8oGP4PMGJm18KoqLivJq6pc0c+rMUR596NNMp5K1rVwiHDj0zgUzWwuqq+toWbpq0nnxeHSKHbwoiCxtXsVdmx9kzapbbMEq2N9rcXEpS5tXFQbMru42TMukqrKOkpKySWkQRVFkaeMKVFVjLDrCyNgQ8UQEQYClzSsRpQsbz4IgUFwUpKZ6Cb5pNoMvR3hkiEh0jKJACXU1jeMhVC7ce2nTSqqrlhT2eBwmYjE4OMTevXs5evQo6XQaj8fDpk2b+OY3v0lTU9Oi0P3ncQTANcJOaWmQTCVwuVRU1U1VpZeqyjoMwxi3Ehmls6uVt/e+wRtvvkhtTT2jkTCWZeL3FyMI4hQrm5IJ5o2ZTJqMnuLdN3YiiAKyJOP2eJFECU1zz6j+SCYTRKMRFMVFV3fbeIXHD44n364or0GWFZLJBKZp4nF7Jw1SYA9qmuourAoWglgsgiAIeL0+dF0nFo9SWV4zxSoJwO32UFZWwfGTB2e0X7csE11P09Pbga5nCm11uVw0NrQgiRIIoKlu1q+7jdqahknCTJJk/IEigiVlqC7NjkmfyyIIIpqq4Z8gpEfHwrgUFY/HO+0sWhtPaG5ZJvFEjFQ6hSBK9irvohhXsiTj1jxo2mw32S8IzkQihmFk8bi9uFxTA5Z5PL6CKm26CcLNTCwW54UXnmPXrp2Mjo6iqirLly/nK1/5SiEA3GKZ/YMjAK4pkegYb7+7ncb6pSxrWVOwmJFlGa/kw+f1U1FeTUlJKf/xv/4Jg0P9hcQXuZwxrYnlWGQEXc+gqRqjkRHe2PEiALU1DQQCJZQUlxIIFJNOp+jt65y2XpIk4fX6qCirZu2aW+0P82UJAtmsjqZqlJVVEImMYlmWvRk5pT4WpmVO2qi8EizLpLevc1wAVSNJtrONPUhN7QvTzJHN6vYgPkOQQEEQcbu9rFqxgVy+npZFWWkFLkUllzMQEFBcLpqbVrC0acW0wmaGmxfURWCvSkzTnHFT3LJMsoaBhf0diIKIZc18vmlZ0x6b8i1YFtlspvC5JMmI43FrpnuG0ukU0dgYkigRCBTPpqU3Bbqu89rrr/Ds88/Q2nYeURSpra3l4Ycf5gMf+ACKoiyqwR8cAXBNSSRivPveTnp626itaSjMICciihLl5VWIgoiRMwiWlNLb18nQ8AC5nDFpJmlZJmfOHiOeiFK/pJnQYD/vHdjDv/vT/8aS2iYUxVVwrjotH70w470Iv7+I0mA5JcFS7rj1XkRRLAgeyzJp7zhHJDqK1+vHNE1ciovR0WEqK2on1ccwDKLRUaKxMcwr9CC1vYX7aG07jcfjo37JUnI5g9JgOW3tZ1izauMka6a8hVB3TycVFbUX2cVDfpgURRGfN8Btm+6eNltVMhm/onpPpLKihqyRZSwyQjqTmhIWY3QsTCQ6Sv2SZooCJXh9PizLYmR0CI978ioqnUkRiY6QmFA/UZRsp7vc5CBkOTPH4FBf4fOiohJU1U00NkYsPlYwDsgzMNhLa9spigIlbFh3x3ifXLVgmtc9Fha6rnP4yCH+5Uc/4PTpUxiGQWVlJXfccQcPPPAAbvfs9pMuhWmahcii7xdOKIhrRH4DeMWyNRw7fpDevi5SqUQhWxHYP9x4IsrJU4fweLwUBUpoaliOW/XQ0XGO/oHuwo/aNG3LmKPH36Ozu5VcLkcyGSdn5giWlCFJEha22ik8MkhfXxfxeGzalURFeTVer4+z544zONRfmGWapslYZJS3393Orj3bSKcS+H1FVFXVcezEAcLhwfH62OWMjA5x8syRQt6Gy2FZFkbOKDhR6Vl7Mzsej9I/0M2bu18hEh2jqXEZdbWNFBeVsrR5pR1qYqgPXc+Mhwg3SSRidHW30dPbwaYNm5HGnb1EQcAwDDKZNIZhXLFgmgs11fX4vUX09nbQ1d1aUK/kLYkOHd2LJElUlldTUlRKcVEpqkvl0JG9pNLJ8braTl19/V20t58lnU4V7u/zBRgZDRONjZEbt7oyxn1Gzp4/XtjjKC4qpayskkQizsnTh8no6UJo9XQmxanThznfdopMJg2CgCDYk4t0OoWe1a+q5/H1SDar09HZxv/63t9w/PhR0ukUgUCATZs2cd999xEIBK64DF3XOXbsGOl0+n0NAOkIgGtIUaCYe+58kHQ6xYsvP8XR4+8xHA4Rj0eJJ6IMDfdz+Oi7/OSn32Pd2k3U1TRQU13PsmWrSWWSvPDyLxgI9RBPxBgdHWbXnlcZGh6gutIOnub3F2EYBu8d2EV4ZMgeSEM97Nv/FqfOHsHr9TE6NlwYiPKzj5rqJTQ2LGNoeJDnX/wp4ZFBEokYY5ER3t77Bj297dTWNlBT00DAX8xHP/QZdu15nQOH3iY02Es8HmVwuJ/Dx/axa/erNDcvQ76s5YiAkc0yONhHZ1crHV2tdHSc4+y5E7yzbwf/8pO/Yedbr3Dbrfew+fYH0FQ3wZJyNm64i3giyiuv/ZrO7vPE4hHGIiMcObaPt/e+gcfj5/Zb7yuUr2luotFR2tvP0j/QTSqVnNV3NddNbEHI56u9MJtzKSoP3PcI4ZEhtr+5lZ7eduLxCGPREU6ePsRvtj5Fc+NyWlpW43Jp1Nc1sXrVLWx9+RmOnzrI2FiYeDxKT18He/e9ybnWk9TU1BX2B5qbVtDd08GZs8cZCg8QT8QIDfZy4PDbpPVUvpuRJZm1qzdRVlbBy9t+xbnzJ+xnLh7h1OnDHDz8DprmYcWKdQgItncyAufOn6Sz8zzJVGJOfbGYMU2T/v4+fvSTf+GN7a+RSMRRVZVNm27l/vvvp6am5vI3uQyWZTE8PMzHP/5xurq63lcB4KiAriGyrFC/ZCnf/r//By9s/Tk/evLvyRkGiqLaen7Tnt3ffdeDfPjhTxXiBN228R5Ul8bLr/6Kv/hP/xZN82IYOh6Plw89/Enu2rwFr8fP0qaVPPSBj/KTn/0Dzzz7E2RZQZJE1q+9jUcfepxzrafY+vIz1NY0oCgKqqgiSRKSJLPplrsQRZFfP/8T/vw730SRVXJmFrfbw/33PMID930YWVKQRJnNtz9AIhlj+5tbeWnbM+PlSNRUL+Hxx77I4SPv2pvEMw6iAppLI5XO8NQv/xlR/LE9bo5vxjY3LWNZy2o++8RXqa1pKKhOFEWhqWEZf/TNf89Pn/o+f/U3fzGuN7dwqSprVt3Cxz/6+YJnrWVZrF61ka7uNrbvfInjJw/z2U99mQ3rb5/xOxIEAZdLpaS4FElSmG3CIVV14/MGpiznb914D6Io8caOF/hP/+1P0VRtfF8lwwP3PcqWBz5aSGtaGqzk/nseJZvN8o8//H9RZBeyJCMpEmtXbeSRBz/BQKi3YK2zYe1mzp47yVu7t7HttefwuL14vF7qahv4/Gd/jxe2Pj2+HwKN9S088uDjbN/5In/1t/8Bj+YBBDJ6invvfogP3PchgsXlCIJAWWkFDz/4cX6z9SlEUeIrv/3H3HHbfbPqh8XOYCjEtldf4ckn/4Vs1o7z8/DDH+KDH/wANTULFTX32iFYizDgvGmajI2NsX37dr7whS9gGAZNjS380R/8BbduvHvOerS8fjv/Hpj093TvL3ds9uXaHoVjkRGisTFGx8IkkwkEQcTr9VFSHKQoEKQoUIwkyYWleiaTZmR0iKHhASKRUTS3h/LSSsrLq/B6/IiivWcQi40RGuwjPDyIIIoUFwcpL6vC4/GSyaRJJhOUlVaSyaSwAI/Hi0tRMU2TVCrB8Mggw8Mh4okYbs1NMFhOeWklPl/RuE3+BTv58MggQ+EQuq7j9/kpK6sk4C8hlUqgaR484zGEpuvjZCrB2FjYDrksYAeDwx5uNU1DVd143N4pZpj5PY1wOMTgcIhYPIKiKBQXlVIarKC4qKSwN5C3vIrFIsQTMSRJpqS4FLfbM+MzYJom6XSSsciovTE8C8cxy7KIJ6KFWECCIE66t32/EQaHBhiLjOBSXJSXVRIMVhDwF02qr2nmiMUiDIVDDA+HEBAoLglSVlqJ6tLIGlk8bg+a5rG9siMjhIb6GBkNAxYlJaWUB6vQ3G5GRoYoL6tCGxeghpElEhtlaDjE8FAIQRQIlpRRUV5DUaB4UqiPSHSMRCKGBZSWlOPxeCe1d66/kUv9zmbDbH6nr+/4Df/4z39FX183qqrx5//uuzQ3LaOsrBy/rwhN0wq/qUQixmvbf008EUVRZFatXkdZaRnvvLOHH/7zP9LX14sgCGz5wEN87WvfIFhaRCw2hqIoBINBli1bhsfjQVVVFGVyLKbZtKW/v5+77rqLV199lWXLlr0vwQTBWQFcB9hOU2WllQSD5dRWN5A1sgiArCi4XCoCkwWabWPvoVpbQllpJXo2gyzJuFxaYVAGe6lfUlyG31/MktomwLZEsa0VRLwePyXFZYVAZxN/RKIo4vH4WOL2UlleY1vTyDKqS51iBSMIAj5fAI/HS0VFDaZpIssyrvGVjNfju+wP3OvxTXve5YRsfoZeVbWEYGlFIR6LS3FNa2opywolJWWUlJTNatARRdtKyOO5dOC8i5k4+794juV2e9E0N8FgBXomjShJaKrbDgFyUX0kSaa4uBS/v5ia6nrAViXJ8tSgcYIgUFJShs9fxJLx/RCXS8WluDDNHO6ayUH8FMVFaUkFRYEgS2oaQRBQXSqyPNmaRRQlSopLJ5kY3+gk4nFOnz7Fc8/9ioGBfiRJoqVlOb/z219hw4ZbCIdDdgC9BSaXy9HZ2cnx48fp6+vD7XbT0tLCHXfccVXCSzsC4DpCEiUkzY2Ge9rZ0sWIgjjuQ3Dp5NOyJCOPOwzNdcEniiKa5kZVtcvXR5SmTfjyfiAIAqpLQ73Irv16XeAKgog6Pjhfrl9h3DR3lkJIkRUUWZn0DAmCiChOLUcQbP8QxRcoHFtspowLTUbPsP/APo4cOcy5c2dss+OKSr721W9yxx134vV6GBruH1+hmYVQ6vlXfvY+XT9erm9ffPFFysvLCQQC1NTUEAqFeOmll9i/fz9/8Ad/sOBCwBEADg4ODuNYlkl3dzcnThyno6OdbDaLoih43B5yuRxvvbWDXC5H30A3o6PhcZ8ZL0eOHMHlslfX9j6aVNh3skOjKKxfv56WlhZcrqke1rZaN8PZs2dZsmQJt9xyC+Xl5fT29jIyMsIvfvELvvCFLxAMBhdUPeQIAAcHBwdse/9wOMyJE8dpb28nnU7h9fqoqamlorySvXvftvfWDIPh4RCxeLQwuLvdbtt5TxRtR06vd9JA73a78fv9NDQ0TCsAwN4L3LhxIx/84AeprLSjrfr9flKpFFu3bqWvr49AIDDj9fPBEQAODg43PZZlkUomOX7iOF1dnaRSSXw+H+vX3cIjj3yUYEkpkiQiIJDOpOnsamU4HEKSJNxuN+Xl5YU0kF6vl+rq6kn+AbIszzj7z+NyubjvvvsoK7uQdc3eX/OxevVqhoeHC/4dC4UjABwcHG5q8omTTp0+xdkzp4nH48iyzPr1G/ny736NRx/5sG38IImAQDwepaPzHMPhQVRVpby8nGXLluF2u3G5XAX1z1ywjRlcqKo65VpN06itrb0qezOOI5iDg8NNi4VFOp3i+Ikj7N69k3g8jiAILF+2ko986KPcufnuyYH4LIuxsXDBGU6SJDweD7Isz2vgv9Y4AsDBweGmJZNOcfL0Ef73P/4V0VgU0zIpLi7mgQ9s4Y4770JRJsbasuMyDYVDpNOpcfNpjdLS0oLt//sdy+dKcVRADlcF0zQZCPXw7ntvUVpawebb7p/WXNV2zspNmT3lHd7yCWzej/pe/OMNDfZx+uxRVixbS2VFzaS4+Q6Lj5xlkDMNjFwOI2eQSic5c/YET/7sn2htOzseXFGioaGJyspKzJzBWGSEjJ5BliSSyTijkTCJeMwOge7xEAwG8fv9i3YF4AgAh6tCMhXn7PkTbHv9OYqLSli1Yh2lSuUUE7axyAi/fPZfePyxL1BaUlFwVAoN9tHafhpV1bht4z1Xta6GYbD/4C5ypsmqFespKbY34UbHhjl89F0qyquoKK9mkf22HS4iZxgYWR0jmyGTSdLV3cHL257jvf3voOt2mIeysjK8Xg+x2BjdPR1EogE8bg+yImNks+hZ28FO0zTKy8uprq5GVdXC4L/YBIAzpXG4KgwO9dPecYaioiIGBnvp6DpPJpO66CyLZDLGGzt+QzQ6OikyZyQywplzx2jrOHPV62qaOc6eP8GZs0eJxy/k2PX7imhZugq/L8BsYwA5XK/YYTVyZg4jl6Wzq40333qV3Xt2EI/HEEWRoqIiysvLEQSIxaKMjoYZGxuxw3RHRkmPP78+n4+amhrq6uooLi5GluVpvbjngqqq3HPPPXg8nmk3gRsbGykpKVnwEBHOCsBhwTGMLL19nQwODfDIg59g7763OHz0XeqXLMXt9l7+BrMgm9VJpRNkMjqaphXiH02HHWsoTjKZtJ16PF4U+fK21BXlVdxz14O4VU/BizZ/P13PkEwlyOUMPG4vbrf3kgOAYWTt5DlYeDw+NM29YGkyHWaHKIqIokgkMsred3exa/d2QqF+VFWlrq6B4uIAbreGqqqoqorH4ym8VFVF0zTcbjelpaVUVFTg8/kWZOZvZ7jz8vWvf52SkpIpx/1+P3feeSclJSWOJ7DD9U80OsbgYD+CIHLL+s1IssKzv3mSe+98mLKgrQZKp1OMjA5xrvUUuq7T2n6GZDJFbU09up6hveMcQ0MDJOIxTp0+SllZpR1YTRQYGw3TP9jD0FA/iXicQFEx1VV11FTX43H7EEWRRCJGLB5BlhUSiRh9A9222Z5LpaKimrqaRoqLgqTTKVrbzzA4NICRMzjfdhpBkCgNlmHksgyEeqmqqMXl0hAE0PUMwyOD9Pd3MxwOkc3qdgC1ilqqK2sLgiCb1YknoiSTCVRVY3Con87OVnJWjtJgGXW1TVSWV0+bktHhamA7bJlmjuMnDrN7zw46O9tQFBcNDc186vHP0tVznmg0gizLlJWVUVNTQ0lJCX6/v+DIFQwGUVV10ox/IdQ+mqaxZcuWaY/l4wFdDRwB4LDgdHa3Mjo2zPKW1RQXlbF+za389Of/m86eVmpq6gn4i+np6+CFl57ije1bicUj/M3f/2ckUeZrX/5jevu6eGnbr0mnU4iCwPY3X+G3PvMVHn7wE2SzOttef5YDh/agKC4C/hJGx4bIZrN87omvcsv6zfh9RZw8fZhdb2+jNFhOR0crGT2DpnkIh0OkMynuueshPvzop+nsOs9f/tc/JZWKY1nw1q7XuP+eh/n4xz6PYeg898KTPP7YF1iz6jYEQaCru5Wtr/ySM+dOEPAXo2luRkYGsSyLz33mq2xYdwc+b4DwyCB73nmdg0f2snb1JvYdeIuSonKy2Qy9/V0sb1nNJz/+JVYsW3etv66bBlmW6ehsZdurL3L23CkEQaCudgmfeOwzfPyxz/DTp74PWMiyTGVlJY2NjZSVlVFUVITb7Z42AN9ixxEADguKYWRp7zhLIhljywMfQZIkAv4SVq+6hXPnT9DStJKAv5jmxhX84Te+zcc/8lt86z/8Hn/x7f9Jfd1SPG4vpmVy910f5N33duLz+vnkY7+NoihYwJNPfY+hwX4+/fjvcMdt9yOJErqe4c1dL/Hiy0+jujRu3Xg3lmUxNDRAX383T3zyd9mw9nYkSSFr6Dz3wk8513qKY8cP8MC9j/KTH2zlV8/9mKyRZcv9H6GxfhmyrHDi1MFJbRsZG+Lnz/wAr9vL73/9/2H5srWIgkAiGeelV5/mZ7/4R1yyysZb7gIglU7S199NY8NS/uOf/x0etx3t9ODht3n9zRd5fceLtDSvvipRHh0mYyddGeSll5+nvf08pmlSXlbBffd+kM98+otQCD5uIwgCoigWwjtcqY7/esVRQjosKKHBXobDIXzeALU1jYAdJfTuO7fQ0XGevv5ucqYxHrJZLejCNU2zrS1kxf5cdaPILhTFhdvtQVFcdPe0MTIyxPLla9m44S5UVUNRXHg8Pu6751HKSivo7etkOBwCQNM8NDUuZ8PaO9A0O5eAx+1j+bK1lBQH6entGI9g6h0Pk+1C0zy4XOq0+wn79r+FLMlsvOUulresQXWp46uQYj788BPU1NRzru0EA6FuwA7t63F7+diHP4ffV1QoY9XKDVSW1zA01E86c/Nk11pocjmDvv4u3tm3fUoe5IvJZnWefuZJOjvb0LM6gUARD37wQ/zWZ38Hr9c3wez4wuCfH/Tfr9j81wJn6uGwYFiWxakzRzFyBsuXrSmEZhZFgeUta1FVjZ7eDsLhQSrKay6kTRxPAMMEnar9N+M5ae3P2zvOomd1dF2np6d9it+AJMoMDPYyMjoM2Dlym5tWFDae85EZfd4AmuqZlAoTxoubrl2AhcnxE4eorqqjsaFlkk+DKIoUF5WyasV6unvaGBoOUV1Vh6a5qaqqo6KsZlIcfp+3CLfbi2EYCx7b5WZB19McObaPl199lt6+Tk6cPMwjD36C6qolhYQ6E8mndrQsE1lWuO/eD/LRj3yS2tp6LCCRjNtJkSwTSfr/2Xvz4Ejy677zk1n3XUAV7rMbfUwfM33MoeFwyJmhORodvCTTkijSkiXt2hYVoXCEvXZsxK5iY8O7sd5dOWJj144Nh0MbslemKUqURHptktNzc65uTvd0N/pGA40bBRSOuqvy3D8yf4mswtEAGj3T6K7vBKaByvvVL997v/d77/s8BAIB/H6/E/Z5GL1/aBqAJnYR5UqR6zcucWn4I6amx/n44jlnm6HrjI3dwjANDh48Rnvb9nupLi7Os7S4QLVSYX5+bs32paUsnf5uTMPiu/f5fMSiiTX7eWRPXWeyrUDXNRayGYb2H173nJIk0de7j9Gx61SqVp9hr9dLJBxZ05hGlmWnNaPJg9mv4MGGyfjkbd559wzvf/gmlUqJpaUF7oyPcHDoCK0tbXi8XoavnqdULDhH6bqGz+fjc8+/xC/94lc5fOgYPq+XcqXE6J2b1GpWjn8sFiMWixEIBPZsgddW0TQATewaxiduky/kaG/rorurv/6lMeGpJz/L+MQI4xMjHD96mlAwtK3zG6ZBKBSms6OX/r79a7bvGzxIOtVOW1snxVIe2MBz2+nLbJprurPVnRbq1Lm179rwwcOqTD5J+P0BWlpStLakmSwVmMvMkJmf48q1j4nHkng8HnK5ZYolywCIrnenTz/NL/3i1zh+7CThcJhypcSd8RGuXr2ArmtIkkRXVxfpdJpgMIjf739o4//QNABN7BIMQ+fSlZ8Ri8X5wgu/zMknnqnbLvr+/sm/+z+Yy0yTmZ9msH97qW0tyTStrW2cPPEMn3nmpTUhoLE7N2163t2pNXDDI3tJp9rJF1YoFHKkWtvrtpumyfTMOF6Pj2Bge4atie1Coq93P1948ZcJBkN88OGb3Jm4zcrKEvPzsywszK3peibLMgcOHOL5z75Id1c3lUqRyakCC9k5rt+4zMzsFKZp0tLSwtDQEB0dHQSDQafI62FF0wA0sSsoFPPcvDnMoQPH2Dd40Gk8LmCaJoFgiEMHj3Hz1hVujVxloG/I3iqhamp9SEYCTBNNU52PBvqHuHDxfaan75AvLJOItzrnLpby/Oef/AWdHd185pn186k3gyRJaLpWV43svhVJkjl65ARXr3/M+ORtOjt7HUVvGAYruUWu3bhEV1cfra1t275+E9uDLMkM9B2gLd3JsSMnef2t/8zNW1coFPLUalUM06BarVAs5p02jYcOHqJaLXL95mV8Pi+lUpHsYoZCwWrsEg6HOXbsGAcPHiSVStVRPDysaBqAJu4Zpmlyc2SYcrlIV1ffGu9YQJZkjj52glu2AfjcZ6z+gogAACAASURBVF9GkmRCwRDTM+PEoy2kUx34/QE8Hi8msJCdI7s4TyQcZaB/iESiles3L5NOdXD61HN4PF40TeXS8DkmJ0d54vhTpFIdTM9MbP0BJAgGQszOTZFdnCfV0r7GgAE8dfp5Ll35iMtXPiLV2k5/3xCyJFGplPnpB68yPTvJ5z77Cl2dvSzbC9FN3F9EwjFOPP4Mx46cZjm3yMTEKHOZSau94shV3n3/NZaXFzEMg9GxWywuzROJRJz4vkj1DIVCHD16lBdeeIGenh6H2/9hDv9A0wA0sQvQDZ133n2Vrq4+ujp7183CEOjv209raxsTU6OM3blFZ0cPp08/x7/5t3+Mqqr84R/8EZ//7Mu0tqRJtbbzo598n3feOcOvf/13+eIXvsKXf+k3+Jsf/hnf+Yt/y+tv/X+0trSzklvk9uh1/s6v/jbHjpzadgjGI3s5cuQEb/30J/zP/+Kf8uwzL/LlX/61Nft1dvTytS9/kx/88D/wr/7v/4nu7gHCoQhzmSkWsnP81jf/gCeOP7WmMX0T9xsSHo+XdKqDdGsHpvlzgMRrb/6Q8x+/x/Lyxkf6fD46Ozt59tlneeaZZ4jH43XG4WFW/gCSuZ1UiAcEpmmysrLC66+/zje+8Q00TWPf4AH+8Nt/xJOnntt22pZIDxS/A3V/r/f73bbt5LpbOfdm97fVa97r8zWewzAMJqfGCAQCJJOpdRWwON40DeYXMlSrZVKpNkLBCMu5RRYXM6iqSk/XAMlkK4ZpUCzmmV+YoVar0d7WRUsyjSTB0kqW6elxZmYmyBdyJBJJBvoP0NczSCQaxyN7KBRy5As5otEYiXhL3T1UKmVW8ktgQmdHD5IEtVqNzPwMxVKBaCRmzWIkWFzM0NraRiQcQ5IkiwpicZ7J6VFmZyepKTXa2zrp791PZ2cvoeAqFUS+sEKtVq1bEBf3sJCdo1Qq0tMzgM82mJvJf6vf7b2OoYdpHJ954wf8mz/5Y2ZmJvH5fPzar/0afX19tLa2kkgkaG1tpbOzk66uLpLJpFPtK4q/HgXs2RnAw5ybu9cgyzLd3f3IknzXF0eSZNKpdkzTQJatF601mSYRb7FysGVrSHpkD/FYknA4imkYeDyrHlm6tYN4NMFA/wFUVcHv8xOJxPD5/M6YiERiGxK0BYMh2vydYK4qEL8/QE/3AIahgyThkT1IEgS6BpBlqW6/jo5ukokWhvYdwTB0gsEQ4XDUPkbCNE18Pj8tLekNU01bW9poSabWpIg2cX8gyzKHDh3iyJEj9PT0kEqliMfjhMNhgsFgHanbo6RX9uzoe9S+qAcdvk3CPo2wjEQ9mdZ6XrAkSXg9XiRvvdcoyzLBYHjdOL37GrIsr6uAxXkbt3k8HjweT5136fWuPYdH9hAORwmHo5s+p5Prv849WE1utleL0MTOIUmSQ+aWTqdt3v/IQ1/odTfsWQMA9fnU1ntk0sjp0UQTTTyaME2rBwAIY+6tC/GIn0cZe/LpxZcZCAQcI1CrVVEUBcNYm8bXRBNNPFrQNJVyuUSlUrZmmD6fQ+/g8/ke+vTOrWJPGgCwVu9bWlqIRqNIkkQut8zc/LRT+ddEE008usguzTM1c4dCIY/H46G1tZV4PO6kdzYNgIU9bQDa29s5duwYXq+XUrnIuY/e4eatYRSl1oytNtHEIwjTNKlUy5z/+H0uXjqHrusEAgEOHTpEOp0mGo0+EgVeW8WeXQOQJImWlha+8Y1vcPnyZVRV5f0P3kKWZEwMTj7+cwQ+1ZJ8k7rCVgmaaxP3G/UyF59ZaMr+fkI4XKsL6J/OfVRrFd7+6Y/4mx9+h2vXLyFJEslkkldeecVp49icAaxiT9YBCOi6TiaT4dvf/jZvvPEGhUKBYCBEuq2Dgf799PYMEgxsXpRjOv+XbDIvewAj3WXb6u80bNuI41FyKaH1j9/uPVjbpG0ot82Ov/vzrb2H7V333p7v7tfdXO4bPd92xsDWn3WnY+hBl3HjNVf/DzgG2K1btzvGt/6sq8ebpoGi1Lg9epOJyVGWlxdRlBptbW38wi/8An/4h39IV1cX8Xjc4fhpGoA9bgAANE3j7Nmz/PEf/zFvvfUWS0tLeDwe/P4AwWAYz1ZW+d00jmJMmBtsMzc5rkGSjbve9bpbOfdm+20F23mG+3XdXZRxI9bIfKcy3uj+toLder779d3eo4zXu66j+De7p/ssY0PXKZVLqKqVDNLZ2ckXv/hF/u7f/bscO3aMaDRKKBR6pAq97oY9bwAAqtUqZ8+e5Uc/+hFvvPEGN27cIJ/Pb7nZhijeEb9DfaXher/fbdtOrruVc292f1u95r0+X+M5dvKs93oPO73uXpHxTq97r8+312Xs9XpJJpMcPXqUz3/+87z44ouO8hex/6byX8VDYQDAmgncvn2bixcvcu3aNWZmZhwjcLdHvFtJ/N3KzsU2K+/YoFqtUigUUBSFaDRqtT+0uwsZhoGiKA4J1czMDIuLiwAkk0kSiYQzQEW8UhQ05fN5KpUKmmY1tohEIs72reY038vzbbRtK9iK7LZzD40wTRNd15mbm0OSLGZHj8eDz+fD5/MhyzK5XM5JBVxYWGBqagqwGrf09fXh9XpRFIVwOEw4HHaup6oq2WwWwzCQZbmuetRdQfqwy3g9GIZBrVZjcnKSVCrlyMTn8+H1etF1nWKxSCwWw+PxcOvWLQqFApIkEY/HSaVSyLKMoii0trY68jQMg1KpRD6fB6zvKB6PO+d3j3chf4/HQywWo6enhyNHjnD06FF6e3ubqZ+b4KExAAKaplEsFllcXCSXy23ZAGy0z3a2GYaBqqqMj49z6dIlisUip06dwu/3E4/HicVigKVQPB4PqqryzjvvcPnyZUzT5NChQxw8eJBYLIbP5yOdTjuKDGB0dJS5uTmq1SqRSITu7m4SiQR+v3/HC1tb9bx24hlu9fitbttoP9M0UVWVYrHID37wA7xeL4cOHXI6O8ViMUKhEEtLS4TDYfx+Pz/72c84c+aMYyy++MUvEovFME2LEz6RSDhVwYVCgYsXL6KqqkMeJuiChXLZzPje6/NtFbs1jrcKofxnZ2f50z/9U55//nlSqZQj82jUqpQuFAokk0kAvvvd7zIxYTG17tu3j5MnrcYsuq47ylqWZVRVZWpqitHRUWRZJhQKMTg4SDAYdOTu9uZFbZCo9nWHegSFSFP5r8WezQLaCGIKmEgkPvFUUE3TqFQqZLNZJiYmUBSF9vZ2YrEYbW1tzsshCtjm5+eZmJhgdnYWwzDo7e3l8OHD9Pb2kkgkiEajBINBZwYQCoWIRqOUy2USiQSDg4POYBcMho/aIBezrlqtxsjICJlMBlmWOX78uEP81dbW5hhKSZLQNI1cLseFCxeQJIloNMpjjz1GW1sbLS0tDl2wx+OxuP5XVigWiyiKgt/vZ2BggM7OToLBoNM1ShjpRwWmaTpyLBaLXLlyxeHSFx21UqkU0WgUn8+i+VBVlXfffZdy2WqZ2dvby7Fjx0in0ySTScLhsGNMa7UaiYTVelOWZaLRKEeOHCEUChEKhe7arKWp8LeGh84ACHzSA0AYm3K5zPXr13nnnXeIRqOMj48zMDBAJBIhFothGIYzXXUPYHG/IjTUWLYujnN7NO7Qj/vzRwnCAOi6zoULF7h16xbVapWenh5HSYsKcbeM3LMl8bf4ccte1/V1Zd1IJ/CoxZUNw8A0TZaXlzl79ixTU1O8/fbb9PX1EY/HiUQiKIqCaZp1vEzu8d4oz/VoGhrH+6Mu991GU3q7BKGI7ty5w5UrV5ibmyObzXLu3Dny+TzFYpFyuYyiKFsKSzWxdei6TqVS4c0332RmZobJyUlu3LhBNpulWCxSKpWo1WpomoZpmk3Z7wJE2G1qaoozZ85gmiaXL19mamqKlZUVSqUSlUqlSc/ygKNpAHYJYnH3/PnzXLp0yVnEunDhArlcjlKpRLlcplqtoqpq86XYBQijqygKt27d4tKlS+RyOWq1GlNTU4yMjFAulx1l1JT77kAsuOdyOUfuAIqiMDw8zMzMjDPeheFtyv3BRNMA7ALEC7GwsMDly5cZHx8HrJjnzMwMo6Oj5PP5NYqo6YneO3Rdp1qt8tprr5HJZBwvf25ujmvXrlEulymXy443KmZfTdnvHCL+PzExwYcffujE9A3D4OrVq8zOzjoydzs8TZk/eGgagF2AMACXLl3ixo0bFItFAGcWcPHiRXK5HNVqlWq12gwD7RJEGGJxcZG33nqLXC7nbMvn80xMTJDJZNbIvemN3hvci+5nz56tG8fz8/NMTk6ytLRUZwCahvfBRNMA7AJM06RWq3Hu3DnGxsbqFIymady4cYPl5WVqtRqqqqKqquOpNrEziPBPuVxmeHiY69evU61Wne2qqrKwsMDIyAiapjkybxree4OQ+/z8PFevXuXOnTt122u1GmNjY8zNzTlyb84AHlw0DcAuwDRNpqenuXTpEvPz82u2Ca+oWq06OdfunyZ2BtM0yeVyvP766+RyuTrDa5pW3+jr1687FeFCeTXlvnMIGYrYf6VSWbPP+Pi4k9rsPqaJBw9NA7BLOHv2LHNzc0SjUeLxOGC1/RP8Izdu3KBSqTgVko9auub9gKqqzM3N8c4775BKpYhEIk7KoMjlF1kpj1qz7/sFSZKoVqtcu3aNO3fu0NbWRjAYdLa1tLRQqVSYm5ujXC43mTcfcDTfhnuEO/7f3d3Nyy+/zJEjRwAIBoMcPnyYZ555hlwuh6IoBAKBR7Zoa7dRLpeZmJhAkiS+/vWvMzQ05BRwDQ4O8uyzz5JIJBgZGXGKtkTtRVP2O8fS0hLZbJbe3l5+8Rd/kfb2dsAq2Hr66ac5fvw4iqKQzWadyuumEXgw8dAWgn1SEKGGl156iW9/+9uMj4/zr//1vwasGUB3dzff+ta3mJ+fp62tDUmS6uhomy/FziBJErqu09rayne+8x2SySS3bt1idHQUVVXp6uria1/7GtFolMnJyToysCZ2DkmSKBaLfPnLX+b3fu/3GBsb48MPP3S2C4enVCrR2tpKOByuq6rejfHefGd2D00DcI+QZZl0Os3LL7+MJEnMzs7WKRlRwfjEE0/Q2dlJOp12iKma4Yh7Qzqd5oUXXgCgVCqtIWQLBAJ0d3fz+OOPE4lEHLm7SdCa2D4ee+wxp/p6cnJyjdxDoRBDQ0N0dHQQCAQceofmusuDh6YBuEeI8vZgMLiph+MmbBPHrZcZIRYoDcNwtrsXLhsXMN37bsXDulemysbfPy0IuQcCAYfmYb378ng8hMPhOkKwzeTu/nF/B42yX29fgd1kA23EpyV7t7x8Pp+TgtvoxAgZi1Cn+5k2Wnx3y3Cj8d5Iuuje1y2TRrnulHG1Uc4Pwpi/H2gagG3ibkqgUbmIz0QKoqZpaJqGLMtOhaT7ePc+uq47L5lYa3D/iHOLv+HuA/VeaYLF7+6frVz3XrGZEhYy2MgwCvmI1Fu3/MTzi+0ibVHwzojPG2Xe+H25FeFWZbzets2+i0a5fxIyd8tS/C4+F3Jxo1He4l9Bwuce7437aJoG4Lwb7rRdcZx7/DeOv3uRsRubjfWHzRA0DcA24Pa01/MQBS2B2xsUFNGqqqIoitMLQHCguwe5UEBiv1qtBqwOWnEed067+wXbSnz7Xr1T94vwSRDRNRrXRpnDamHSenIXsnTLXRhWsb+u6yiKUre/eD73NkHj7Vb64rtZb4a0mzMAcT+Ncr8fSmmjWWijERAycStQIRv3GBbP4x6zQN14r9VqjmzFuyHGuTAIjeNdGAEhn53KeCMD8EmP9U8DTQOwBaznsTR6g24D0Jh3rqoqtVqNarVKpVJxwhfuKsnG/USmkAhvmKZVbOZWRm6vSbw493NginM3sji6mU13UyEJ+bllvp7cTdOkWq3Wzb7EdyHkWa1WHbnruu5w1AjFpCjKGrkLheQu4HMrI6H83IpoI7mtF2bYKtZTRCKtdbezmtwzm7vJXMjN/WyaplGr1Ry5+/1+x3AIhS/ej8bxLp5LkiTnuxOGu3G8N4b97lXG68Et80a22IeFibRpAO4C9wshBqwYmOLFcBuAQqGAqqrOsaJRSaFQcPKlq9Wq06FKEGaZpkmlUnH2BZzOX2KgVSoV55qCA6dYLG7LK7nXEJB4Sd0/Pp8PwzCcRVb3/vcqd+EhCioHoXwbvVHB1y/uV1VVyuUyhUKBUCjkxKWFASiVSo6nX6vVKBQKDm+9pmlOYxLDMCgWi2vkXiqVNvTCdzMEJH530yW75W6a5q4qJGFw3Z65kHtjCE40X3KHgWq1GqVSiUKhQCAQwDRNfD6fY2grlYozsxWd88TCfK1Wc55FVVXHWRJGVoz/9cb7boaAxDah+EXtTuNYB/a8EWgagE3gVv5iYOfz+brWjI2hiPn5eYccSyj1bDYLWEqpUCg4ymVlZYWlpSXK5TKmaaWTikrifD5PKBRaYwDEywSwuLjoGIutDsStvhzrbROKKBQKOW0RA4EAuq7j9/ud47zeextW7tlUpVKhUCg4FMPuEJs7Ri2YVsVntVqNxcVF/H6/05ZQLEoK4j739zQ/P0+tVqNYLNbJXRhx0dLT4/E4Sm+j9Y97kfF6BkCWrZaikUjEaf4jFJHYfzfSioXyr9VqjvEUJIbC82709jOZjOPwgNX9K5vN4vV6qdVqRKNR594Eg6iQ+8rKisPVJL4fsa+g+RDGW5KsBkobzTJ3IuP1/nZ/7vP5CAQCjtzFWBJj/WFYF2gagE3g9kKz2SyTk5MsLy87ir9x8Jim6fQCFn8rikKpVHIGt67rdT1qRY8A9wwgEAg4L2Jj1yORTST2dyu9rWA3lJNQSIlEgvb2dscINoYpdvpiiPBCoVBgamqK6enpOpmut79g+3THp4Un6vP5nBdXKBcxYwArU0j0qRXGvrFZTyAQcK4n4tv3U8brbZNlmVgsRjqdJh6POwZgt2QuZrnZbJbp6WmWlpY25azSdZ1CoVAX8hTKPJ/PO+Ey4RAIL17MAMrlstPzV8y6GgskQ6GQ87twdoQ8xDW3K8etGAABMeNNJBJ0dnbWGV33eN+rRqBpADaAW5HMzMwwNjZGqVRqklqxSn63uLhIpVKhr6+PaDRaty6wU89IKKKlpSXGxsZYWFioM7iPKoRc8vm8Y4DS6XRdfPpePFLh/U9PTzM5OUmhUGiOdVaTCQSZY09PT11IrjEbaa+haQA2gaZpLC8vMzY2RrFYxDRNi98nFnN6mCK+dxMM00D2ePjZz34GgNfro7Ozi4OHDtOWTtPS2kIsGrU8UVm2aKNlmZbWFKZh0tffR29vj3NuUUEpy/LqdT5FaKpGqVSyZi52WKBUKjEzM0NfX58TL3Wvi2z3xTBNk3w+z8zMDNls1lH+kUiEpN2v1+v11sndNAwq1SrpdBqv14um6bS0tHLo8GG6urpobW2t68VsGAaS7EHXTZCsyuwTJ08RjUYcufu8XqQHQO6GYVCrVMnlcuRyOWcNYmlpCY/HQ1tbm7Mu4vV6dyxzwzDIZrPMzMw4Xr3X6yUSjdLS0mKFYmTXeU3QdQ1N04nHE8AUAL19/Rw6/BidnR1Of2WfzwtYs6u5zDx9/RlME7q6Ojl06BDRaIRQOIzfXkOSJOlTl7umapTKJfK5PMVCwRnrmUymbh1GyHyvomkANoDwcicnJykWixiGQSgUorOri/b2NkLh8JpYt7UIXCRuN7P2eDwkkkk6Ojpoa28jlbIUkVgDKJfKFEsldN3ENAx6e3vo6uoikUwQCgbxB/x4Pd76F+9ThGmYKKpCsVAkk8mQmZtzFr5zuRx+v98pzNrJSyG83MXFRRYWFpy0y5bWVvr6+ohEI/h9/jXyME2TSrlCJBJ1FEgkEqGjo5MOu/o6HovhD1hyNw2TUqnM0tIykiThDwbs84etGLs/gMf74FRqi3BgJpNhdmaGSsXKJsvn807T9caEhO0YATHTnZ6edpR/OBymvaOdjo6Odce6uK/Zubm6ME1raysdnR10dnY5Do/Pby2YGrrB4L59hCNRTNOko6Odvr4+whFL7n6fD9nzYIRTDMNAU61F7szcHDMzM07ISyR0iAynnTo7DwKaBmAdCEVUKpXIZrNOyllHZye9vb3E4rF1v2zDMAgGA87LIkkSXq/XjtsHnJ+ArYh0XScUChEKhTBNg2AoRDAUJBgIEAgG1o2J7ja2e+4QISJhywvXVJX5+XlncS+ZTK5bDLcdlEolVlZWKJfLyLJMNBplcN8gqVRqwzoH4cG6wyAej6de7sEAQXsGYJomwVCQUDiEJMn4A34CoSCBoP3zAMo9as8cNdVaeK3ZKcXFYpFoNHpPchdGXKxv+Xw+0m1peu0G7xvdq9fjxe938StJEl6fz5J3wHIG/AG/s2gqnCjLYJiWsQ0GCQatqmG/3/eJxNO3c/5wJIzP73NCnmJtKhaLEYlEHLnvVY6ppgFogLDmiqJQKBScRdZQKERbWxuRaMTZb71jDcMExDbT+s80Mc31y9sNVybLutsNk/vpiK7nudztBfH6vCRbklQqHY6BFIvZjbniW33ZxP6FQoFSqYSu6wSDQVpTraRSqU25ZJxrYtqSt/5tlLtTU2EYzudWDMnO5DJNe9v9l7sbW5VRNBqls7OTYrFIza4hERlkjcVxW4HYX9M0lpaWnO8vFo/TmkoRi8Wc/dYebIU8TdNwRrslyvUpNSRJwjTcVdzWD5j27waGaSCZn5wXvRW5e71ekskk3b09LC8v1411t7ybM4A9jPUGrMhRFlW6kUgEr8/rzA7AUvOS6xyGYaBrmm0E7M8bi2o0Dc3jQZYNNG31c9MUVa4megO9g2FsvMjkvoedQ0KcvnEhcaPr+v1+YjGLYVOkxDaW+m+GjRSF6Jus6zqyRyYWjzsyX+9ZhbJWVc1R4tbnhi1HA13XLLnbi9TW+QR3EuiGgemqMtYa5H6vMt7oeEu2Qt4gvoeNZC5JEvFEnFAw5KxlNFbi3vVe1pF5rVYjl8s5RVqhUIhgIFhXWb3eecT4xRT7WQbUcFXsatpqgaL7PXDeF311rMuajCmbdeNvy8/Fxt9R47b6Mb65zMEK5ba2tDiMpu6Ofts1ug8aHmkD4H4JGisfy+UypVLJKdIyTVBUlUq1isSqj79qACxPtGpXmIrz67qO4iqq8fl8GKZVkVpfZCMqXjW7wlLGNGmodqy/buM9bOmZ1ztGkpClBooBWUbexAhI9nQ/EAw6BTtuuoBN78Gs53Rxc/aIfP5arUZQDSFSCze6dyH3Wq2GrulC/2PoBqqLjqBa9dtevaXQa7bcQUL2SGiajqpqyLKCYZpocv1i5E5lvGacuP6WJCFvIXsPsmt9Yz25ez1evD6vY8jW4+jZCO5x7v5d1FqIamrLCGp1LTbXPKNtAJSagm64W6BaqaRKzZK71+dFN3Rkl8ESylPTVDTdKjqzDMRqde/d9P9WZbxmzIjUTUlClj14PPXFfBuNdY/Xi9fnW1P7s9fxyBoAoYSE5+rmHtE0zSn4Etk/xWKRYqGIoW+s4AzTpOTKLxehpGq1Srlcwe8vYWJ5z7JkdVYql8rUqlUM06RWU6hWa3i9PlRNw3sP6ZRbgdvLt14ED16vxxrsXi9eO73Qve9G59iq1y/SDd3Vpm5CsFwuR6FQoFgs4vV6KRaKeDybD1PTNKnYIRFYDWtYci87Ofxi8R2gXCpTrdac+6/VrN81TcPj8SLL91fu7rUKr8eDx2tXnHq8dQuhW7mHrcrdzSXlHuui6EskO5RKJYrFEvomYx1wDLaurVYCK0qNcqVCqVTC61Qq+yznxbSKGWvVKiYmNcWqqsf+vizHQ0K6TylA7rx9jy1zMc5FkZ/Yb91j78tdfbp4JA2A45nbyln8CM4XUeIulJFpmuQLefK5PKqqbXJeKwtIFLqYpomqqE4hmDWF1PHZmSw1m1KgahuAaq1CpVJxFIPlmcCu58S5vFoxDfZ4rJfCWsTz4/f78Pusf92L2juF2+DWajWniM3Ns6PrOisrK846gOzxkM8XQNo8GC9mCYqqOuE3VdMolcqUSkV8Pi+maZXvS7YBEHKXJclKI61UMAzdWkgWHuF9kLs4o1sReb0+S952kZ/P511TiLZTuGlMNhrrlUqFXC7nVDjn7QpgRVE3Pbeu6xRdVcJgGdJyqUwxbH1/Ip1UuOOVsl28iEm1UqVaqaCp2iqVhcR9lrtsjXWvF5/X2yB3n+u9exjV/Vo8cgZAeIeKolAul1lcXOT27dvMzMw4cVARUlhcXGRpaQnTNMlmF5mbyxAKhzY+uQGTkxNkMhnAon6YnZ3l2pUrxBMJopEIgWAQj9eLLEnohk4xX6RULmGYJhN3NBbmF6wcdCswyf3Q/6vCwOHUTySTtLa2OL10A4EARshATKLv1QgID7RSqbCyssLU1BTj4+Nks1lnod0wDJaWllhaWqJarRKPxynkC8STic0fwwRVUVjMLqDr1jrEYjbLtatXyMy1Eo3F6rqwAdaMzq5ClT0yly5eRPZ4rLDXFkIQ9wIJCb/fT9TOsY8nEgQCAYLBAMFgkFDI4oxy037sBG5Hp1KpsLCwwNjYGNPT005BmfheZmdnHWdncWmZmZlZ5z7WP7n1nd65M0ahkHc+Hr8zTiAQoKUlSSQSwR8I2tlZ1vbFhUVqiuUgqYpCLpdDdodf7vNYDwaDxBMJkskk0WjEaRVqrV2BYDR5VIzAI2cA3JV9169f58KFC2QymTU8M6qq1oWAJEnGxCQY2sQAmDA7O0uxUHSuVSgUyGQylMtluz9qANn1Qui67oSVVhSVfC6/Nu//Pr4UYrYRCASIxqJ0dVq58/F4AtO0Lm29DJbntJMiI8DxNEdGRrh8+TJjY2OsrKzUsXiKLCBBqGfNnILEXQpmvWfABFVT6yq1y+USmcw8tZpCtFiw0hVlGSF44RkLGcwqs5bnBuYBUAAAIABJREFU6biK2xfnViFhef8+n49wOExLayv9A/0kE0lnYdqKU8tIXgnk7RleIXPh+efzeYaHh7l06RJzc3MODYabpXN5ednJKJJlq8I1eBcDYBqmLePVGe/KyjKZuQzVSpVw2OZU8ngceWrOYj0oNcV5V+673NcZ6x3tHXR1dxFPJOxsPMkKQW2yHvCw4ZEyAML7X1xc5NKlS3zwwQdMTEzUsUiKL10wf4ptilKzY8abhCNMe3FRdy8CW7ONmqLYVYNsWOxi6Aboaz7+RCCI7krFEpVqlb7ePiQJZNlaABMLlDtJdxP8OteuXePs2bPcunXLqWqFej4WN+W1xbxapVbdRBGBpUxUBV03XMrPsCkTatRq3jUL6o3H68qnI3hBuFaplBnaP4Rp1tM7yB4ZD9vPMRfe/8rKCufPn+eDDz5genq6bmHXbSiE3MGK49dc6yPrX8BKA23sf6GqmiN3j0e2U2896yp2Qzecd+WThMURladYKFKpVhgYGATAI+TuyhZ72I3AI2UAxALXrVu3+OCDD7h9+zamaRIOh+no7CAWi+H1+ZCwY8jFEqVSCdM0SaVSpNJpa0Fxg9QD0zQJRULcvn0bsNLHki0t9A8MkEgmicWiBIMhK4vDybtcPd75e720hvX2a9y2FTRcxzAMKuWKE4pZWlpC1zRkSSZgF7VZ7JNeJ2Niy5dyef8zMzN8+OGHXL16lVKphN/vp62tjXRbm02TbeXuC5mrqkooFKKrq4tILLr+s9ufmSbUlBrvvftTR8nH4jH6B/pJpVJO6qRT3ftJynidc5um6aRe5lZylEolJicmkCUrNm3FpX0ODfFOiozEWB8ZGeGnP/0pExMTGIZBJBKhrb2dRCKB1+e1jJ+hk8/lqdihuHQqTSrVij8Y2PgCppU+6w/462bF7R3tDAwO0NraSjRqpQl7vF5rGecTlLGzzbU+bhgG5VKZpeVlKuWyU/gmyx6CQYth1ZK7F4/Ha8/EtnFPexCPjAEQMebZ2VkuX77M6OgoAPF4nKPHj3Hs+HE6Oq0m1hISmq5RLlUolUsARCJhItEIPldJfOOYMw2Tq1evMTw8DFgx3M6ubp44dZJ0W5rWliTRWJSAP+Ba8Fp7rjXnNjceiJtt2wo0TSe3kuP2yG3GRscspWRz8SSTSUKhsL1A63fCNNvxigSt84ULF7h58ybFYpFwOEz/wADHH3+coQNDRKNRhAEolyuUy2VUTcPv8xGPxwjaimgjHWEYVnbJf/rBD/DeuIGu67S1t/PEyZN0dnWQsrmAfAG/FcYSsuOTkbH7eBMwdSurbGZ62lp/mp5F0zQmp6ZIuGLTgcAqvcN2Q0CCmvzChQuMj48DkEgmeezIYxw9doyu7i6nP4Wu6xQLRap2ynM0EiESjeD1bmx4TKyxk0jE+eEPfuB8vn9oiBOnT9HR0U5LMmmdx++zHJ5PUMbrvUuaZrC8tMTY2B3Gx+6wvLxMsVhkcnKCdDpFMBhEDQbRNB2v18DjkZ204ocVj4wBACusc/v2bW7fvo2u60SiUZ44eZIvfeVLxGKxOu9W03TKkTKRcgQkiVAoQCgUsha0kJyKU5GxYGK9dPF4jIDgC7cXWGOxGPFYnHgiYW0PBPF47AwP1/HiL1HP6t5Wvx/r3sNWsN6529ra6OvvIxgMcmX4CisrK+QLlhFo7+ioa8Ky3fxnQRNx/vx5isUiHo+HwX37eOGlFzn++OOOHATK5TLlSsV+CT3WorQtz8Z7tz6zjEwgEMBn0z1LkmQXqsWICbkn4gQCftf3t1YO68l/t2Tc+HsqnaKru4u2zg7eev1N5jPzKLUa85mMNWuJx50FbcMwkaStGQFhpAW3z5UrVzABr8fD6dOnefELL9HW3lY31i3un4hlAAyDcChEKBzcNP3WxETTdWLxWF2CQCgcJhaPEU/ESSQTRGNRfHbaMy6pbCaj3ZKxe1/xd7otRU9fD9FohIsfX2RleYVyqczM9DSpVBpVFS1at2949yIeDLarTwCCA352draOSfGVX3iFSCTixKFXOVXclAbWS2jYpewGqxQDBuLvtU3LBUzxY7rO4TrX6vFG3bnc2xqvs95+jT+N/22GQCDA6adO093TZRWpVWusLC+7Op+Zjje0VRsg6iDu3LnjTLdj8RgnTp7g2LFjzpqCMCyri8H18l/v2Vc/E3QEqxlLQuimaVNCiGMNi3pjIxmbO5DxunK3w1J3k7nf76e7u4vTTz3pKOTllWWKxQKarqMbgipke0bXWoxdYWZmhnw+j0eWaU2leOGlF0m3pQHWyNxwydxgVU4b/tjydFdfi2vXydowwRAy2Viu25dx4/FsaZwDRMIRDj92mP379yHLEqqqkcksWGPdWFX+jwIe2hmAu8pXLP4uLS2Ry+VQFMXiVenqIhaP1bUYFMfquo6qqU63I6/Hi+rdvOze0C16B8HvI5SQZVRWy+NVRbEzgbbmXWzuiawfGFnNZMBJKb0bqWgkGiGVThOJTFmZOHbmjmG4FcTd71UU9YhCoampKSe9trunl1Q6jWEaGOpqFevq4ruGptr9dg0T1a/eVU5WmGm1BsCSiq0cDB1N1VAV1VrQNo115bW5B7rFALVEXUqjadrppJJ1jvXOHwgE6e/vJxAMUClXqFWtxVhD1y1eIhd/zkYQY0xk/QAsLS05PE0+v5+Dhw453dsaoes6qqKiKtb49qpeuy/yJte1v2dN0+pUrpgJa06RpSV359k3+C537G2L8Y2Qvb3QL20us0QiSSrdht8fcJINFKVmc0HZNu0RsAEPnQForDZ1/2SzWadjl2EYeL1eSsVS3estpvxWibzFuAjYClyzF+TWX3kyDIuWWHcKYywPVbxg1UoVWZKd5uLWkdtdhbzL6plYV3AXGnk8yJ76svf1FJ4kWdz4/oAfCkKZq/WX3UTuoshLkiQnoySXyznNNFRVxWMbhkKhuOYJTKBqy1zTNScEofiUhj3rYdj9AHRX9yrTNNE1W+7VKh6Px1ZGsutqO5TxOhAFe7JHrsviERXWlvVdK0RZlggGA4RDYWrVmu0kuJyITQTvrvAVchB9jEVhl6IoTp8GkebZuEaq67pVkV6rOQpc1/RNF59N1ztS5zzZx1rjvYIE1HwK8n1aBXacG4+MR15t3F7fr3nt0V6vB79/tYe1mJFvpaL9YcJDYwDEFyeKvES1o0hvUxSFhYUF8vm8Uw1ZKpVYXFxaM/RMwNB1KrUaVdsABAL+utj9RveQz+dW86Kx6w7sojMwnXTQ+1VavurtS1apu8eLz13Va2c4WIvQ6ymkhlRJ0/nfWpirsyXh7Xu9XsrlMoL8K5/Ps7y87LQCLJfL5HJ5QuGl9Q2A/d3ouo7H66Faq9YtvK97G3ZWjaIqjoKzCOJUypUKkiyjqOpqgd19gEPtIGTu81ly9/vw+fx4vR5k2bOuMhJUHOJZ7HjG+s9qCd3x+EWvasBprq7rOtls1hnrSBLlstX/IBisrFHDjQyXAZuO3HOXjC/dsPjxNRcVhHVPCqVyCROTarWGx+vZVnx/y5BAkmR7rHvx2nQafr8fv8+H1+ezMr9sr8h9D+vl+jdEsx4JPBQGwO0JVWwekmKxSLFYpFwuO4ZgdnbW4Zr3er2srKwwl5lf74wYukHNJhID8Pm9q8VEm9zH0tIKiqLUMSCWy2VMyVJuPtH0YlsLXlv3jRy+E5vfxO/z4g9YFabhUMjOLjHx+gT3+pZvo+6OREzXsCtNRVqjkJdQUIVCgcXFRafQLpfLsbCQRZI9decTJkCpKdSUGrpuZWEEggG8d+MCwlL2qqI6CsEwdCqVMt6CF0VR8Hm925b7luBSLIJfRiihYDDg8N8HAwG8PixF36CMtgXT4pwSncFE+0zBCipmv+6xrusGy8vLzM8v4A+sTe202G8rKKoKJg49wt1Sfg3DYHl5BcPQHY/boqguIckSlUrVprS4O63Gdv1/xIzLHus+r9d5R0PBoCXzUJBAwG+NdeeYJtx4aAyA4EZfXFxkfHycmzdvOu3tBPHY8vIy4+PjDsWDaoci1j2nK45pYr24a5uENIYSTJaXrBctGAwhSzKzMzO8/957ljciCaZNacPj18fWtwmOmVAoRCqdtjuMJQmHQyiRKNGohmlGCEqSNRu4C8/ORmg0uouLi0xPTzt0zoIaulqtMjExwczMDJqmIcke8oUi8Xh8vbOiaTqanf0iy/Jqa8a7yEHXDWdxX5L8ZBcW+PD9920qAtmqqt10EWSn8l+NQfv9flpaWujo7CSVThONRolEalb1a9QgBEiSb8ecN2KWq+tWqE1Uqt++fZvFxUXXgr3BysoKk5OTzM/PWwbpIz8LCwt4vb51z6uoKoa9PiAM2d1mS6YJiwsL1Ko1gjZF9c0bN8nnC/j9dsqt5HYydi7jtXtbXr2gd0in03T1dBOPJ4hEIkSjCjFdA9PK4vPa9CsbPdFDnuyzIfa8ATBd3tDk5CQff/wxH3zwAefPn2dqasqJewLOIqyuWx7L+PgEFz76CIeqsPHc1gXs4yWHSligMZ2wPn5qeUM3b9xwCsNWF8I2Pt612WUatrZNQHTS6u7p4dDhwxw8dIj+gX5rIdY0HCMhy7Zi3NbgN+vCbaVymTt37nD9+nWmp6fJZDIUi8U6SmxnsdA0yWQyDF++VB9fdslfZEthmtAwRV/vWV235Sw0A9y5c4epqSnreFNcpv74evO7PRmvB7/fT2dnJ/sPHODQ4cPs27eP9o4OR7FKNs221yfhkbZ2zkaIBe+lpSVGRkYcHqu5ubm6qlz3OpgkSczOzlq9qNePQVnH2TJ3ZHC3gWGCoDEXs4VzH35oz7Sss7jEvysydm5Z/CvLhENhevp6OXT4MIcOHaa3vw9Na8U0DATthiyvDfk08RAYAFFolMlkOHPmDN/73vf4+OOPnVDEZl+4oiiUSsU6KoJGbHXbZvtthK0ev5Nt85kMY6OjfHTuHKefeoov/vzPM3RgyOFD8fosXnmPLGNuNyRlWg1VKtUKU5OTnDlzhuHhYYfUbSM6XWEMrPWQ7T/fgybjRpimycz0NJcvXeLAwYN87oUXeOrppwHT4ZP32qEoeQfKSDg7uVyO4eFh3n77baemBdi0a5rmWiDf7Pl2W8a7If+7wTRNxsfvcO7DD/m5Zz/D5196kcOPHXbWZHz22pcsecDTNABu7GkDIF6ISqXCj3/8Y/7kT/6E69evA5Y35g8E8Pt8j1zszzBMVDsuX6lUePeddygWivzK179uycRmngwEA3h9XiTkbYlIhCEymQyvv/EG586dA3CItnx+/+paySMke1Wx+Is0TeP6tWtWRznD4KUvfAG/328nElh0z+Y22SadkJumMjw8zFtvvcWtW7eQJAmfz0cgGMDntdlDHyGZm/Ziv0j2eOftt6hUK2BCMGA1bg8GrMw2j9eLbDZnAW7saQMAlmczMjLCn/3ZnzEyMoJpmqTTaT77uef5+q/9HQ4eOnRXLhXXzHdtctoG29ZLYnP/fTdsdvxW70H83XjNfD7PhY8u8Dd/9df89J23MQyDK8OX6evvI5GIE41EqNXCqIpKIBCwPK9tKqNCocDIyG0uX77sfH7i5Em+/NWv8vTPPU1rKmU1tLHTXTdNANyDMl5zLRNGb9/mL7/3Pd568y3mMxlmZ2Z448wZhoYOEA6FqEZqKIpKIGjgsSnyt/MspmmSXVzk8vAwExMTAMTicT7z3HP8nd/4dYaGhgiFgnU1Jtt9vvsq402us80h6BxfLhW5dPEy/+Hf/7+cO3cOTVX5+Px50uk2Ojo7iEStCuewouH3G5iyB/PRspGbYk8bABH++cu//EvGx8dRVZXunh5+9W//Kt/41jfp6Oxw+E42w2ZFKJtvc71U2xzA2zl+q/cg0NHRQXdPNwcPHaCjs4O/+PM/R9M0Lpw/z8FDh+jr70dRrGYghq6DaNixpXu2PNFMZp7r1244MeYnn36Gv/e7f4+Tp06SSqcIhoJ4Pd5VA7ALz/fpyXhrRUrpdIr9Q/vZt28ff/Hn3+P27dtks1l++vbb9A/0r7b/1PXVVM8ta1prtnvj+g0yc3MYhkFbWxsv/a2/xW//3u/Q3dVFNBZbzW1vWGR+MGS8M/lvBsMw6Orq4vjxY/zL//1f8uYbb1AsFLh54zr7h/bT29tnjXU7saCJeuxZAyAWIsvlMm+//bbVWEKWee6zz/HLX/kyA4MDW2ZRdA8+d7xyvW31ecMbb9vJdbdy7s3uT8Dj8ZD0Jzn++OP8+m/+Bmc//JDpqSkW5uetzKh8jtbWFrva1FJEW12AM02L3mF5ZYXsYhZZloknEnzx5Zc5eOggiUQCn62ErO5aVgrgwybj9RAKh+jt6+WXvvTLzMzMMD4xQblU4srwZSrlMpqqOfw+2413m0C1WmNmZpZCvoDP52P/0BAvfeELdHd1EQqFrHaeNoW0WPze7vM96DJ2nxesse5LJAiFw/z93/8HjNy6yc0bN5mdmWFifJxKtWLJ3G5E704waGKPcwEJeofZ2VkURSEej3Pk6FGGDgztiEL3YUMoHOLw4cOcOHkSv99v5eEvL1MslhySsa2r/lXUajVKRSuv3+v1sm/ffvYN7ScUCj3yc2tJkhjYN8iRo0dJtbai2Zz8xUIBTdccagfBUrRl2M5OsVhE1TRi8TgDg4P09PU2Y9pYHeueOHGCAwcPEolEqFar5HI5yqUShm7UGd2dLTXXw11Itpflv6cNgK7r1gthl8JHolGSLUlLETWBJEkEAgH6+vsdxkZFVVFVBVHhux1PVOyp2ItumNaL19ndZdFo2zQLjemujxr8fj8trS0kkkkwrWK5SlVQJuwk+dNCtVa1u5iZRCIRki2t+ESSwyMqazcCAT9d9mxI1AaJ/sMCjxLNw1awpw0ArLIamqZpcbDIWydZeyQgUVfAZskKduQH2YcYholus6Zqmmb1N7A9ISff+hHWSE6qrYvCoj7sszMlZBirLJuCbwhwcd40VzcDwYAjF9Mw7Xar9670TdMiRBRw19LsZX2z5w1AE58ODMOgWqtSLBateKqt9Dyyxy4u27svxYOMmlJDsakyJMkqhKojPuPRNr726veuQqx7iX7Gq0R/nnrjuwfxSBoAQR5WKBTuOiU0TZNCPu9wrTQBYDr0D7VqFQkXu6LXs9pYu0EZKYpC2W73uBkMw7CI40rlTfd75GCaLMzP2+PWosqwsn68zoK7CAcJuRuGQa1apVAo3DULRrSRdPfIbsKqMF/MLjoFd4FAwGp12cA6uhfxSBqA5aVl/uovvs8f/IPfJ5/f3AgUi0V+97d/h/fffZ9KufIJ3uWDC0M3mJuZ5srwZUephMNhAoGgVXG5wQvx4//yI/75//jPee3V1zY9//LyMn/+H/+c//V/+Rd3NRaPEqqVCjeuXyebzQJWy9FoJLKa/SPJa4zu0uIi3/3Od/n9//ofsjC/sOn5FxYW+B/++z/i1R//xKHzftQhGG3HRsccPRGLxYhEIk6/5r2q/GEPp4HeCwzToFqxsgTu5ulISASDYeSHJKvINE1MO36v6+JfHbDS8KyGNSpKzaLQVlQVRVEdXvliocCV4WEufvwxK8vLBINBZFmmtbWFYCBghYBE4/WG96JWq1EsFFGU2qb3KGFVt/pFkdpDAKuj3KrMDV1Hl23mUt1AVS0ac13TUVQFVbXkX1N86JrOSi7Hu+++y8zMNJqqIsseQuEQsXjMYpjdwBM1DINKpUJuJXfX9FMJyaI8vwv99l6Bid2VTF+lzzYMK3Rm2mNdURSUmuL06VDt8e71VCmXSiwvLzE3O0e1WkFQZafTaeLxuM10une9f3hEDYDIezc363hkIxgK8o/+8T9icHCQQHAtle5eg2HztZfLFcolixZbVXWHj35+PsOdO2PMzc4SjycIBPzkcyvEYzGCwSCGaTI2OsrS0pJDqheNRezer75NY9FWCvZqa8mNEI1Gef5zz3Pq9Km6hdS9CtM0UWo1KpUqpVIZn8+HrptWjwBJolQuMzMzw9TkBKqqEgj4MXWDZEuSSCSCz+ulavcLrtmN230+r0V5bBtgRxE16CKx3r8VQxpPxPnNb32TdDq9LmvoXoOhG9RqVcrlCsViCVn2oKmaUyexsLDA2Ogo+XzeUuxtKbLz88QTcUIhi91UUKqI2H9vby+pVKouBLSXsfffrk8Afn/A+aJLpRK1Wg2Px4OhG9y8eZP5uQyhcJjBfYN093QTDofrjtdUjbGxMSYnJqhWq7SmUgwODtLe0V7nPWiqxeM+NjbG8tISwWCQ/oF+9g8NOUyOtVqNqckpNE1jYHCAmekZRm/f5vCRI3R2duC3G6hvBMGfpGk6qu3tezwedN16vnK5QqGQJ5ezPMbFbJZwKIRSqznKplwuO2yfVqpp0Kb/3aVFMcku8PH5nXvOzM0RiUYxDIOpySmmp6YwDIPOri4OHDzg9HUWUFWVbDbL6O1RFrNZotEo+4f209nVVVcdLsjVbt64yWI2iyxJtHd00D84QDqdRpIspsyZ6WmKhSJdPd2US2UmJyfx+Xwcf/z4XWUurqNrdktQVcOrqBZbpSyh1BSKxSK5XB5VVVhaWiSbXUDTVCrlMn6/36HeFopclmV8Pq/jhYrxeS8LwJIkOd+jJEG5XKZULBGOhFFVlWtXr7G0uEg4HKZ/oJ/unp41KddKTWFyYoLJyUkq5QotqVb2799Pe0f7mv0ymQx37txhZXkZn9/H4OA+BgYHHOVbKpVYmF+gXK5w6NBBxsbGmJqcZOjAAbq6u+7qHFjd+FZZUVVVQ5ZVuyeDRLlcIZfPkc/l8PsDLGazeGQZRakRCoXw+XxOtk84HKarq4ve3l6i0aizba+jaQDuAkVR+Ku//D5f+5WvcfDwIcbvjDM2OoqiWP0HlhaXKJdLqIrKubNneebZn+Opp54ikUxgGAaFQoE3XnuDsdExJ/QhSRLDrZc5cfIEp596Co9Hplar8d5P3+PWzZvk83mLMsAwuPjxRYYODPHFl18mnohTrVS5fOky01NTHD12lEsXL6GqKh2dnbTZDb83x2rxiuxKZRMKRJYsimjxmddrdbcS//p8PsLhcJ3S83jkXc2IqFaqXBm+wsz0DH3938A0Tf7T3/wnBvYNksutsDC/YBniahWA3r4+vvzVr5BsSSLLMsVikeHLw3x07iMrS8k0kGUPFz46z+mnn+LEiRO0plqp1WqM3xnntVfPUK1WrfUG00Q3dPr6+3n2M5/hwMED6LrOrZu3GL8zTjyRIJ/Pk1tZYf/QEEeOHtnSMzUWDsmytCovOxQkPhMppELefr8fr9dLLBZzlJ4kWUZAtnsd7AbKpTKvn3mNk6dOkUgmmJyY5Gdnz9HZ3c3UxAT5fJ5KpUytqhAMhzhx8gTPP/88obBlBFZWVnjz9TcZv3OHqp0cIMkyF352nudf+ByPHXkMv99PIV/g/EcfMTx8xeodYRu28+c+4tSTp3nqmWdoa2ujkC9wdfgKY3fuMDU1yfVr19E0lZbWVjo6OragvST7HhrGvGSFKGXZ/Q5IdXK3yPushj7RaJRkMklXVxfhcNgxug8DmgbgLtA0jbfffJPnnv8s+4f2Mzk5yRuvv0GxWKKvt5fDRx6jpSXJfGaeM6++SrFYJBGP89QzT1Mpl7nw0Xn++vt/xdABS1lEo1Fmpme4eeMm01PTlrc50M/IrRF+8uMf4/f5Ofb4MVpTrRTyliL7d//Pn3Lw0CEeO/IYqqoyPTXFB++9Tz6Xw+Pxcuzx46TSqS2FSyzP0eewpQaCFjOo6JUbCgUJhcOEw2FisRjpdJrOzk6SyaS90Gs10Y7FYs45JaS6l+xeoSgKY6OjXL92nV//zV8H4NUf/4Su3h5akkn6+vsY3LePSrnMpUuX+O5//C77h4Z48uknCQaDXL96jddePcN8Zp4nn36Snp4e8vkCZz/4kJ/86MfIksyzzz1rfWc/OcP5jz7ixS+8RHtHO7qmc+XyZc59eJZatcbgvkFM02Qxu8jH5y8gez20t3cwuG+QwX2DWwxRSY5iCdhMrMFg0KnP0HWdUDhEOGx52i0tLXR0dJBOp4nFYoRCIfx+P5lMxmV4hUKzPX9p53TKAtValY9+9hFt7W2cOHWSmelpfvxffkxndxeRcJjjTxwnFosxOzvHB++9z3wmQ3d3N8eOH0PXdd776Xu89uoZ2trbOHrsKLFYjJmZGS59fImZ2Rn+4bd/n86uTq5dvcpbb75FtVrl1OnTtLQkKZfLvP/ue/zwb35IMtlCa0uLNdudnubs+x8wOz1NayrFwUMHSafTeLx3X5OTZavpkd/vkrto6ypLhIKWzDVNIxgM0tbWRmdnJ62trUQiEcLhMNFolEQi4cT893LK53poGoAdYHlpmVAwyDe+9Zvs27/PevkMqzrztVfPcPXKVU49eZqFhSw//JsfsH//fn7v7/9XdHZ2Om3zzn5wlr/83l/w2qtn+K3f+W3O/+wj4vEEL7/y8zz51GnnhX72uWd57dVXGR25TX9/P2BNzfP5PF3d3fzGN7+xrcpni7LZTzgcIhwJE41GCIaCeOwWjfF4nGQiQaVcJpVK0d/fz8GDB0mlUkSjUfx+P+VyuT7MJfGJvBjzmQxf/epX+Mzzz1nrEYbBidMnGbl5i3Nnz3L4scMYusH7731APpfnm7/1LZ56+imHJ//Z557lj//F/8aF8+fZf2A/mbkMV4aH+eZvfYvnP/e8o1xPP3mKP/v3f8ali5eoVipOG8Xbt2/z+Rdf4Ff+9q8ydGBoy16gJEHA7yccChIOh4hEIkQiYZuj3vI+E/E4yWQSRVHo7u7mwIEDdHR0kEwmnZDIyMhIg8GR1pC+7Taq1Qr5XI5/8k//Cal0ygoXajqxWIx33nqbj89f4OixoxSLJb77nf/I0888w5e+8iUGBgeckOWp06f57/7Zf8vFixeJx+Nj5oDpAAAgAElEQVRc/PgioVCIL33ly5w6fcoJs504dZJ/9o//GyYnJnjixBMAlEslZufmeOUXf4Gv/srXCEfCWzZ2suwhEAgSDoVtZR4hGAw6mTvxeIxEMuF00BscHGRgYIC2tjbH8LqLKB8mxS/wcMxjPmG0tbdx/IknGNw3uDooJBg6MEQg4GdlZYVqtcrc3BzDl4f55a98iXAo7PQrVhSF3r4eTp46yZtvvImmaaTb2vj8iy8wMDhgZYXYmTeGbpBIJlnIZqnWrJCHpqp0dXXx87/wypbYTt2w7nd1Oiy8yPqFxNUBL8JA4me9bJNPqvjo2c88y9DBA84zy7JMPBbn8JHHmJu1OmJN2aR37R1tHH7ssBXHLpUol8vEojGeOHmScqnMzes3iSfiPPnUk5x+0jK4iqJQq9aQZKu5erFYoOZKhwyGgvzcZ55l3/592w4BWGK3ZkqiWloUzFkzqNXwmTsMJFIN14TX7K/pfsu9paWF5z//Odo72p0KW4/XQ3dPlzXznZ9HVVXGx+4wNzPDiVMnSKVSjtxVVaWtvY3Pv/QSH77/IcvLy/T29fLU00+zf/9+dNFTulrD5/VZXebsd0Q8aCKR4Ku/+iuO8t8y7DVxd6izMRQnsb7MN5T7Q4bmDGAHiMcTaxZwAQLBIF6flT1RrVaZm51jdnaGv/7+9x0vTkBRFKYmp+31BIWXX3kZ0zTJreS4fu06CwsLzM/Pc+H8eW6PjFj8PTaisRhd3V20plrv63O6Xwzx76f5InT3dBOJROo+k2SJcDhM0e7tPDE+ztzsLKOjt/lX/+f/ZTNiWvuaJtwZu0OlWmXf/n289LdeYt/+faiqytjoGJlMhuz8Ajdu3OCdt96mpbWl7lpDQ0O0trbuemaSaCXqXuB12FTt7+DTojIOhkL09vWt+dzv8+MPWDMmpaYwfPkyiqry19//K955++06nn9VVRgdGaVSrVKpVHj5lZ938uuvXb3GfCZDdiHLxY8vcnvkdl3tRyQaYf/QfiKR8Jp72G0IZ2evF3dtB00DsANs5BG4P9E1HaVWQ5ZlIpEowYYU0mAwyKHHIhx//Bgej4fR26P89ff/isXsIq2pFF3dXXR3d/Pzr7zCleGr+FxpebIsW92N7sNCVKVaRbHbaYqpsc/nc5TRp/lSSPbiXd1n1E/NBflXKBQiHAqt4ao/eOgAsViMAwcPMDc3x2uvvsZ7P32Xnt4eUqkUvb29PPfZz1IulZmanKi7ls/n33WZr9JrL2MYxur6jJ2N82kbXezF5g03YtXVFEul/7+9O4+O6rrzBP59VfVq33eptAFaQUJsAq8hArs7sdtpG3DspL308STtnGROzkwmc/JXJvacTJJ/xt3TOUk3Zxo7nnPa6XTHdgy2Y4PBmB2xWIAESAIB2peqUpWqSrW+evNH6V1USICQSmip3+cPH6MqSa+u3ru/++773d+FUqlk7T6RKKpRu7oWJpMZZrMJF1tasX/fZ+jp7YXL5YLD4UBxcTGe/MZTuHDhQqbA3TiZTAYlf/csq3slCJksOCmwSs/GlsLirntBAWCOKHgFdOMPkB7/i8dhtVmzLiQhnUYsGkUkMgYxLeKtf3kTLpcTX3/yCZZKqtPpEI1GoVarJ52Qc9EZh0NhDA0MIhQKsUqiVqsVSqWSLTaa3wBw9ykPnV4Pi9UKj8eDp7c9PSkAjI2NIZ1OQ6FQ4HTTaRw7chTbn92OQo9n/LmIDqIInD1zBr093ZMOINefPxaL4VrnNYyNl+jW6XTQ6/VQq9WszecTx/5ze3KZHBaLBXqDAY1btqC8YgV7LbP2I1NiIp1OY2wsio8/+hgcx+Gvn/5ruMerd2q1WgjpNLTa7GmeWwN8rgRGAhgeGkIsFmMDHYPBAJVKlVdBgALAHFGpVLDarFCp1IjF4uxEl3iHveho60Dn1U54PB58efYsXv3+99CwcQN0ej2AzCrOcDiMocFBpITUnB5vLBbD2TNn0HXjBhKJBLRaLRwOB8xmM7so7rTp+EJRWFgInueRiMdhHX9wLV3I6XQa+/ftRzAQgFanQ9eNG5DLZXjw4Yeg0WhYZ9vT04vRYJCtdZgriUQCfb19OHniBPtdTqcTdrudpdouhDuvu+GVPMoryhEaDUGhkMPldrPnNKIoIhwK4fjR41CpVTCbLejv68eatWuwYWMDSyZIp9PovHoNkXB4zs/1sbExXLp4ER3tHRAEASqVCh6PB0ajMSvwLuQ2z5W8DQCiKCKVSmFkZASpVPLmSGvCZqWZBVLCjIrJ8jwPl8uF6poafPD+n2A0GVFeUQ6VSoVIJILz587jwGf7WWZPOp0ez7OOQTOemjbQP4AvPj+IZCKB6FgUyUQSMtXsRoTJZGZxUWg0lFlgJAhIJpPounEDp5qaMDw8DI7jYLPZUFlZyS4KKQDMdi46JaQQDocx4h9hI8uJu0FJmSMzDTOFnkI4XU5cab+CI4cO49HNX4Fer4eQEtB5tRMH9u+H0+lC7epaCIKAsUhmkxW1Wg1BEDDiH8H55nPo7LyG1Pjr+vGAPFOZneuiCIfCGA2OghMzmWTDw0O4dPESOtrakU6nodFosGLFCrjHO9BclRoQkTnXA4EAVKoJU5Ec2Pkuk8sgpGZWOlmhUKC0rAyuAhcOf3EYJpMZNStrwCv5zJqM8xewZ/cebNuxnWXBRSIRdnebSqUwODiII4cPY3R0FLFYnK2+nY1UMoWxsQhCoRCUqsy5HovF0N3VhXPNzejv64NMJoPZbMaqVatgNBrZYCcfOn8gTwNApl67AtFoFPs+3Qu1SnVzGf2EAGA2m7Fu/XpoNJrxfVY5KOTyzMIcfnLTcTIZVCoVlOMlERxOB5586kn8v9+9jb2ffIrOq53Q6jQIjgTQ3t4BuUKOv/jaX8JkNqN+7Rq0XGgBBw4FhQVIpVLwer241nkN6zasR19fL3q6u1Ho8bA54pnw+33oaG9DKpmE0ZQ54SPhMDqvXkUwGIQgCLBYLKiqqkJ1dfWkkehs8AoFEvEELpw/DzGdnhAAbk7TaDQaeDxF4BUKqManvkRRhHo8JW/SMwCOAz++aCeT2mdEw8aN8Pv8+GzvZ4hExmC1WpBMJNHaehGpVAorV63E6vrVGA2O4tjRY9j9/m6UlJZAJuPg9fow4vPDaDQgFArh7JmzaNzaCIVCAZVKNaMpGUEQcKWjA2lBQG+PFVqNBvFEAgP9/ejt6UEymYRCocCKFStQXV0Np9OZsykgGZdZ4BSLxXBg/34YDcYJjQe2baRWp0VtXd14B5iZg8+kDKun3F1PJpex81Amk8FkMuLpZ57BZ3v3Ye+nn6K7qwsarQaBQABtly7Dbrdj46aNkCsUcLlc6Lx6FR9/+BHcBW6kkikMDQ7B5/WiuKQEQ4ODuHH9Omw2+3hNqJmd68FgAO2X25CIx2E0GqFRqxEMBnHjxnWM+EcgiiLMZjM716U053yZ/gHyNAAolUoUegpRXlGBUyebpnwPx2WmE+pW16NhYwNstkwOtN1ux/IVyzMrEW+h1WpRWVUJs8UCjuOg1+vxlc2bkUymcGD/frS2tCCdTkMul2P5ihXYvmMHyivLAQDf/pu/wQd/+hM+P/A5gEzRqeLiYnztia8hlRLw4e7dGBoaYgvHbHbbjDqHgf5+nD1zBjeuX4dGo8ka8fA8D6vVitWrV6OhoWFSRzTbi8Jd4EZpWSm6u7px6ItDU77HbDZhc+NXUVRUBLn85sKbNevWwOVyT3ogyCuVKFtWBovFArUmEzA2NGwAz/P49M+f4MPdewBkFgXp9QY89fQ3sHHjRhhNRmxo2ID+vn58cfDgeGllJSwWM7Y8thWr19aj6cRJXL58GY88+ghcbhfiicSM7gZSqRTONX+J3p5u6PV6qFQq9mA9kySgQ0FBATZv3oyysrJJHdFsRsJKpQpFxUWoqq5E89nmKd8jk8tgsVhQs3IlVq5aBZfLBblcBpvNhpqVNbBaLJO+x2Q0YfmK5SwjSi6X46m/fgoyuQzHDh/FxdaL4MY3I3IXFOAHP/zPrHzDX3z9L7Hvk0+x79O9kMllUKnUcNjt+NbffBuVVZX48sxZ9Pf3w+5wwFNUNOMA4PN6ceb0KVy/1jnpXFcoFLBYLKiursbDDz8Mu92ed9M/AMCJC31S9zakDeHPnTuHbdu2YWhoCMUlJfhv//3H2PHcs/e0J/D92LB8bGwMXq8X8VgMBoMBVpstq56IlA3i9XoxFolAp9PB7nBAqVRmHdO9bqY9OjqK3/zjb/C7XbsQDAbhcDhQVFQEh8PBiolJmSd2ux0bNmzAmjVr4Ha7WQmCiRdEKpXCyZMn8dvf/hbvvPMOjEYjXnjpJfyXH/9XGI3G2x7HfGwKH4/HMTIygmAgCLVaBYfDAfWEuX6pLlIgEIDP64NarYbNbmPPA6Zq7+kQRRF7PtiNf/jff4+Lra3geR6VlZVwOp0sAGTuFJWZGkXLl2Pr1q3wjNfWkfLQJ37uVCqFjz76CD/96U/R0tKClbWr8Mp3/hNeeOnFKdvqTm0315vCj0XG4Pf7EYvFoNPr4HA4wPN81vuiY1GMjIwgMhaBVqOFw+kcvx6mdwy3+wz/63/+HO/+x3+gr7cPVqsVpaWl7JmKWq1mCQ0OhwP19fXYsGFD1rmeb3uJ5+UdwHzQarUoniKfeiKlUoXCwkJ2MmdlQ+RoRKLRaOB0OlFcXAyj0Qij0QiHw4Hy8nKUl5fDarVmPfRdzKMhlVIFp9OZdbd262dRKBSw2WywWq2szSeOiXJRYkF6plJUVASLxQKj0Qir1Yri4mJUVFSguLiYzflPXHy0WGl1Wmh12sx5PF4m5FZqjRoFmoKsr7E1bjn67Gq1mp3rJpMJBoMBTqcTK1aswPLly+EYH2BNbPd8s+gDwGK6UG491ls7Fm485y4Xnc7tOJ1ONDQ0sJGPVOJh4i3ynVY/LvSMlCzjaaO3jnwnvW3CA+i5wPM8Vq9ejU2bNrERqdFozLoDu1O2z8SVq4vBxPa8634bd/nbzIbVamXnekFBAaxW6z2d6/lgUQeAfP7DzRTP89Dr9bBYLLDZbOz2+F5qnlC73xuO46DT6WA2m2G1WlmRt4kPeafT5uTe8DyfmW4db3ObzZYX9X3uxaINAFIntNhvl++3iSWeJ658nH5hs8ltLgjpmWQP5oGbjaJQKNj880ym1ya1+zQ3eck3ophmGw7dWs584kbuJGNRt4SUuSEFg2Qis43efNVNWYikPQmkNuF5Puth2L2mvEkrhKVFbYIgwOfzsg2zyc1N7WOxmyU1dDode/A7k3l+jsvUPJIeUsZimd3FKAjcJIoiQqMhVkuI53nodLoZn+v5YFEHALlcDrPZDL1ezzYC6e/vh9/vn+9DWxAEQUAwEERHWxuSyeR4vraJlRieScobx3Ewm83j2wYqkEwm0dHeDp/PN+crZxeL0dFR9PdlzkPZ+NoQp9PJOqOZdkRSFpFcLkdgZAQ9XV0IBoNz8AkWH1EU4fP50NXVhbFIBHK5nO1ncetzFnLTog8ANpsN1dXV0Gg0mYU7p8/g7OkziEQi83148yozMvfj5ImTONfczMo7FBcXs52NZtoZWa1WlJSUwGq1IplM4kpHB44eOYLhoeG8vxOIRqO4cO48zp45m9nqkOdRWFiI4uLirFoz915OmkNhYSFKSkqg1+sRCARw4fwFNJ1sQjQanaNPszjc3HnvADraOxCNRmEwGODxeOB2u9m5TlM/ky3aZwDAzemIv/qrv0JraysikQhOHD8OjUYNnU6H2tV1UCmV4O7yh8/KO5ZuqW+XIy0VGZ/qtXvpSMc3pp/y++/42u2PT3pdSKcRDATRdOIkfvOPv0YoFAIALF++HNXV1SwAzHRlq8FgQE1NDdauXYt9+/ZhbGwMv/31b8DzSjz8yMOwWC2TAkvO2njCa9Nx27/RbNr4Nr8nkUigo70Df/j9H3DsyBF2t/TII4+wB7/SZuIzGYmazWY88MADOH/+PFpbW9Fy4QL+Zef/hUGvR3VNNRQ8D7kss9/tnT5fph2n/nw5aWPp+3Pcxrf8UogYr5cVCuP8+Qv4x7//PxgcGADHcSgvL0ddXR1sNtus77yWskUdAIDMPN+zzz6LvXv3wuv1IhQKYd/efWhpacWDDz+EVatWQW/QL+4/vIhpX5CpVArDQ8M433wOJ0+cQDAYhChmyiM/8cQTWLt2LdvecTZ7m9bW1uK5557DyZMnEQgE0HXjBl7/6f/A+o0NWLN2DVwuV1ZZ31x9voVIBMY3mbmMw4cOo7enh20zWFFRgR07dmR1RDNtc7lcjqeffhrnzp3D9evXEQ6HcezIEbRfvoyvbtmCquoqGIyGqX/+Qm/jGRxfKpmCz+fD+XPncfiLLxCJRCCKIgwGAx588EE8/PDDMJlMkzJ/yE2LdiXwRIIgoLm5Gb/61a+wb98+jI6OQi6XZ+b+lErIZBzudHZlVh+O///418S7vDbpfbf8+27u9P3TPQbp31m/c3x1azyRQDwWgyhmykq88sor2LFjByorK2EwGNi86EwvCkEQ0NXVhX/7t3/DL3/5S4TDYXZHplSpoBivnTTx896urRZdG08iQkyLSCSTiEWjrMJkQ0MDvve97+Ghhx6a9NxlppLJJJqamvDP//zPeP/99xEZn++W9g3mxs/1mX6+OW3jO/yeicc33d8rQszsu5FIIBaLIZ1OQ6/X49vf/jZ27NiBlStXZhUzpAAw2ZIIAEBm7rW5uRnvvfcePvzwQ1y5ciVTyXMaH+92JRameu12q0RnsnhrJj/7Tsd368/WaDSoqKjAtm3b8Nhjj6GsrAxGozGrxMNsJBIJ9Pb2Yt++fXj77bdx4cIFhMPh2x7PUmvjqX6XTCZDSUkJGhsb8eSTT2Lt2rWwWq05re8fDodx4cIF7N69G3/605/Q0ZEpa5yLz7fQ23jiz5W+n+Mydayqqqqwbds2bNmyBeXl5excn81AZ6lbMgEAGN9c49o1nDt3Dq2trbh+/Tp8Pl9Wadm7dU4zfW3i/0ciEYyMZKoNSuUfRFFEPB6H1+tFOJzZvlDacCUWi7GfwfM8qxUzca3DdI9PJpNBq9XCbrdj2bJlqKmpQV1dHVwu15xkQwiCAL/fj7Nnz+L8+fO4cuUKBgcHEYlEsgJwrtt4Kn19fayaqVS0Tar14/V6IYoiFAoFDAYDFAoFEokEy4K6dZ54YvtMp3NSKpUwm80oKSlBVVUVVq1aheXLl7MFX7nOP49Go+jq6kJzczNaWlrQ2dmJQCCAeDzOUn6nW9JiNgFAGC+xDGTKnUglw2OxGAKBAMtSkgoNJpNJpNNptgOXlJI8k/U80l2+1WrF8uXL2bnudrsn7WRHprakAgCQOeljsRi8Xi/6+vrYRZGLADDd0c25c+dw4MABqNVqfPe732X7CnR3d+Ps2bPo6ekBz/NwOp2oqqrC8PAwW6Rit9vhcDig0+mmtTPRVAFArVbDYrHA7XbDarWynz1Xm4uIosjS8Pr7++H1ehEdnwqRXst1G98qnU7jrbfeQiAQQGNjI9atW8eyQ06fPo1Lly5BEATY7XZ4xktqR6NR1glJVTin6qyn0ylKq07dbjcrtCf9nLlarDhxUNHT04PR0dGsACC9526fYTYBwOfz4cyZM+B5Hg899BBUKhWbHjx37hxu3LgBuVwOt9uN0tJSdoeoVCphtVpZls5MduGSj5dmN5vNKCwsvC/n+lKz6B8C30qa+iguLkZRUdGUo6G5JF2QgUAADocD69atg8fjQSKRwNGjRzE4OAhRFGE0GlFeXo6ysjL4fD4olUrodDosW7YMHo8HWq121iNH6QKY6wtB+vkOhwN2u511+sD9aXcp+OzatQt+vx9utxuNjY1QKpXo7+9HV1cXRkdHIQgCqqurUVhYCI7jIAgCtFotnE7npHrwM+20J7b1/Wh3tVoNj8cDj8fD2v1+neuiKKKlpQWff/45NBoNGhsbYTabkUqlcOzYMQwODrKH4fX19TCbzYjFYpDL5TCZTCguLkZpaSkbrUulpWfT7tTp35slFwAm4jjuvpd3HRoawtWrV9HW1oZwOIwTJ05g+/btEEUR/f39bL9djUYDk8mEYDDIlqtL9UqkFM1c7Qh1P83HBSgIAtra2tDZ2YmrV6+itbUVfX19KC0tRSgUQl9fH0RRhFwuZyWrk8kk1OpMurDH42ErdRfjtMHEgHM/JRIJDAwM4MCBA1CpVPjRj34Es9k8vgbFxxbCSdM/oVCIlcSwWq3sTklqd8rTv/+oxXPsxo0b6OzsRDweh8/nw549exCNRhEMBjE0NISxsTF2UfA8j3g8zkpaTCwSthTKAt8vyWQSe/fuhd/vRzKZxNmzZ/Hll19ibGwMfX19LD1Qo9FAFEWk02lwHAelUgmTyQS73Z5VFpjafHpGRkbQ0dGBwcFB9Pb24tixYwgGg/D7/fB6vWzDdWm7TVEU2QbsFosFJpNpTp6PkOmjVs8hURRx4MABHDqU2e0qHA7j2LFjuHr1Kq5du4ZAIIBUKsUyE6LRKOt0HA4HTCbTrKcg8o0oZjYG+vd//3dWAuTixYs4c+YMBgYG0NnZyaZFLBYLEuP1ouRyObRaLdsMhDqheyOKIlpbW/H+++9DHE89/sMf/oCBgQH09vayh+48z8NoNGJkZITdkdtsNlgsFmr3BWBJTwHdb8PDw+js7ITX6wVwM0Nmz549sNls7AGYlOkjCALbV9XlcmUtzqLOf3rGxsZw+vTprFpE4XAYLS0tOHToELq6uth7Jz6UlR6UW61WuuOagWQyic7OTpw+fRpA5iH8iRMncPnyZUQiEfh8PgBgd7sAWNC12WwwGAxUnXMBoACQQx9//DGam5uziqLFYjF88MEHaGhoYHVy5HI56+gVCgWcTieMRiMrE0Ad0fT5/X7s2rULY2Nj7GvpdBqXLl2CSpXZBlK6A5DaXXoW4HA4qM1nqKOjA19++WVWza1IJIJPPvkEer0eoVCIPYyWAqxcLofT6cya+qE2n18UenMkFovh6NGj6OzszPq6IAhob2/H1atX2Vy0lL6mUCig0WhQUFDAlqtTRzR98Xgc3d3dOHjwICsBLBkaGsKlS5cQCAQAgO2zK62atVgsMJvNNAc9A6Io4vTp0zh06FBWxlE6ncbBgwdx5coVJJNJNuUjBV69Xg+73Q6dTkcBYIGgsz5HWltb0d7eDlEUodPpAICVpE0mk+ju7kYkEmG3xEqlEiqVCna7fdLDMLoopsfr9eLQoUMYGRlhZZIBsEVdIyMjGBoagiAIWamG0s5cE3P1qc2nLxAIoLW1FVeuXJn0Wnd3NwYHBxGNRsFxHMtmk+50TSYT3XUtIBQAckAURTQ1NaGqqgrPPPMMamtrAWQ2pa6srERFRQXi8ThGR0dZFoS0WYXL5Vq0KZ/zKZ1Ow+fz4caNG3j++efx0EMPscBbVFSEmpoa6PV6+Hw+xGIxll0lzf2bzWbK+pmhCxcu4Pr16zCZTHC73ezrDocDPM+zFFCO46DX66FQKNh6C7rTXVgoAOSAKIpQq9X4/ve/j5/85CfYtGkTgEyphxUrVmDDhg1wuVxIpVKs45/4EJIyf+6d1OabNm3CG2+8gSeeeILl+LtcLtTW1qK8vBw8zyORSMBgMECpVLI2p45oZgRBQGdnJywWC77xjW+goaEBQGYNQmVlJUpLS9kKbJlMxkpgS6N/yvxZWOghcA5wHIe//du/Bcdx6O7uZid3MpmE1+tly+ClkahWq4XBYGCjf+r8751MJkNFRQUqKiqQSqWyFvyNjIwgHA7DbrdDr9ezxUZqtRpOpzNr7p/a/N6kUils3LgRW7ZsQTwex65du/Dhhx8CyNRDWrlyJYaGhiCXy1lNK61Wi6KioqyCeNTuCwOF4Ry43erXVCqF4eHMLlnRaBRarRY6nQ5arZbNQ0/cJJxM352W/YfDYYyOjiKVSiGVSrGpCbvdDovFQqP/WZA6+ZKSkklt5/f7kU6nYTQaWaBVq9VwOByTstzIwkB/iTkkiiLrhOLxOAwGA3Q6HcxmM839z6F0Oo1EIoF4PA6O42C1WqFSqeB2u7NWWlOb37s7tZkgCIjH40gmk6zUiV6vR2FhITvXqd0XFgoAORYKhdgWjECmM4pEIuA4DgaDgY38aRn83JECQDKZhE6ng06nYyNSGv3PnXQ6zbJ/tFotK7Mh1eWnzn/hoZ4nx6LRKKuPLt0BxGIxaDQa6PV62Gw2tkEITf3khiiKCAaDbKGddMfFcRzr9AsKCiZV+ySzE4vFsgY7yWQSiUSCnesmkwlOp5Od6xQAFh66CnIslUqxjmjiFJDZbIbZbGZ5/9QR5Y4oiohGo6z0tyAIrMyGFHAp6OZeKpVCNBrN+rcgCDAYDKzej3Su05aMCxNdCXPg1tWRHMfBYrHA5XLBYrFk1fonuTGxzaUNaLRaLRwOBwoKCli5ZxqF5o5UWVUiCAJkMhmMRiNcLhfsdjvbq5jafWGiAJBjt3ZEANiKX7fbTSOiOXJru/M8D5PJBIfDAYfDkTX6p3afO1qtFlarFU6nExaLhT38pTZfmCgA5NBUOzJJ89Aej4dt9kIjotyaqs2lUs9ut5uN/mn6J7em2n3MYrGgsLCQzvVFgq6GOSaTyeDxeFBSUgKTycRGonRBzB2O42A0GlFaWgqXy0XTEHPgdntrFxQUoLi4mKXe0rm+sFEAyKFbFyZJe7bW19fD7XZnZaHQRZE7t7Y7z/PweDyoqqqCyWTKSv0kuTHVQjylUomamhoUFxdDr9fTQ/dFgEpBzAHpopAqIK5Zs4Y9EKMLYm5M7IjsdjsqKipQWlqatb8yBd3cm9imRUVFqKiogNPpZIkOdK4vbBQAckyr1UKj0QDIPPxdtmwZ23ScVqDODWmRnZRV5XK5UFZWBrPZzGrRU5vnnkqlgl6vB5D5G5SXl8PtdsNoNBF7NYkAAAspSURBVFLe/yJBASDHpFo/QOYOQNoAQ6VSUQbKHNJqtWy0aTAYWN7/nWoGkdnheZ4NdjiOg91uZ9U/qd0XBwoAOSbt8QtkNoSRNiqhnP+5w3Fc1lSDXq+H0WikNp9jt7a7zWZjay3I4kATdHNILpdDp9PRPOh9ZjQa2d4A5P7gOA4Oh4MNfsjiQD0TIYTkKQoAhBCSpygAEEJInqIAQAgheYoCACGE5CkKAIQQkqcoABBCSJ6iAEAIIXmKAgAhhOQpCgCEEJKnKAAQQkieogBACCF5igIAIYTkKQoAhBCSpygAEEJInqIAQAgheYoCACGE5CkKAIQQkqcoABBCSJ6iAEAIIXmKAgAhhOQpCgCEEJKnKAAQQkieogBACCF5igIAIYTkKQoAhBCSpygAEEJInqIAQAgheYoCACGE5CkKAIQQkqcoABBCSJ6iAEAIIXmKAgAhhOQpCgCEEJKnKAAQQkieogBACCF5igIAIYTkKQoAhBCSpygAEEJInqIAQAgheYoCACGE5CkKAIQQkqcoABBCSJ6iAEAIIXmKAgAhhOQpxXwfwFKj1Wqxfv16vPjii7BYLFi5ciVkMoqzc0kmk6Gqqgrbt2+H3+9HQ0MD9Hr9fB/WkmcwGLB27Vq88MILkMlkWL58OZRK5XwfFrkHnCiK4nwfxFKSSCQwMDCAwcFBKJVKuFwuuFwucBw334e2ZImiiOHhYfT39yORSLA2V6lU831oS1osFoPX60V/fz84jkNZWRnMZjMUChpXLhYUAAghJE/R3AQhhOQpCgCEEJKnKAAQQkieogBACCF5igIAIYTkKcrXIoTMiCAISKVSEAQBAKBQKMDzPKU8LyIUAGZIEAT09fVh//79eOqpp2A2myGXy+/4PaOjo2hqaoJWq0VDQwN4nr9PR7u0jI2N4dKlS/D7/di6desdF9qFQiGcOHECAwMDaGxshNvtpjz1WfL7/WhubkZLSwsCgQASiQQAQK1Ww+12o6GhARUVFdBqtfN8pORu6EqYIVEUMTAwgJ07d8LhcGDz5s13XX3a2tqKd999F5WVlVi/fv19OtKlJxQK4dChQ2hra0NjY+NtA4Df78fhw4fxzjvvYNmyZdi4cSNo2cvMiaKIlpYWHD9+HGfPnsXw8DBUKhUb+KRSKTQ3N6O9vR0PPPAANmzYgJKSknk+anInFABmSKFQwGKxoKCgAO+99x7q6+vvGABEUcQXX3yBcDgMj8dDS+ZnIZ1OIxQKYWRkZMrXRVGE3+/HF198gXfeeQcKhQI/+MEPUFhYeNe7NDI1URTR09ODN998Ey0tLVi9ejW++c1vYt26dTAajRBFEV6vF59//jl2796Nt956CwMDA/jWt74Fi8Uy34dPboMeAs+C0+nECy+8gH379mF4eJjNhU4lGo3i1KlTKC0txaZNm2iedI6IoohgMIhPP/0Uv/vd76DX67Fz504UFRVR5z9DoigimUzizTffxKlTp/Dyyy/j9ddfR2NjI8xmM2QyGeRyOVwuF5577jm88cYbqKmpwe7du/H555/TXdcCRgFgFvR6PTZs2IB4PI5r164hEonc9r1XrlxBKBRCUVERCgsL7+NR5pdYLIadO3fin/7pn7BmzRrs3LkTJpOJAu4sCIKAgYEBvP3223j55Zfxta99DXq9fso25TgObrcbzz77LAoLC7Fr1y5Eo9F5OGoyHRQAZkEmk8FoNOKBBx7Axx9/jBs3bkz5PlEU8fvf/x4ejweVlZX0EHKOhMNh/PznP8fBgwexbds2/PCHP6SpthyIRCL44x//iIKCAtTV1U1rSqeurg4NDQ0IBoNoamq6D0dJZoICwCxpNBq8/PLLaG1tRW9v76RpIFEUEY1GceLECaxevRqVlZU0Gs0xURQRCATw2muvoa2tDU8//TS++c1vwmazUVvnQDgcxp49e7B58+ZpP0dRq9WorKxESUkJPv74Y5oGWqAoAMwSz/N45JFHwHEcrl27Br/fn/V6KpVCS0sLotEoVqxYAYfDMU9HujSlUil0dXXh9ddfx3vvvYeKigp89atfRWFhIXX+OSCKIuLxONrb21FXVweDwTDt7y0oKEBpaSlaW1vn8AjJbFAAmCWZTAa73Y76+nq0tbXh2rVrWa/H43Hs3r0bq1atQklJCU1J5FAoFMLx48fx61//Gl6vF4WFhfD5fBgaGkI6nZ7vw1sypKwri8VyT2tXdDodDAYDfD7fHB4dmQ0KADkgk8nw9a9/HV1dXWhra0MymQSQuXCCwSA++eQTfOUrX0FRURGNSnNEEARcvXoV//qv/4pr167hhRdewKuvvore3l7s2bMHbW1tNO2QI6IoQhTFGZ27HMdRMF7AKADkyKOPPgqO43D9+nU2DRSLxdDe3g6fz4fa2lqYzeZ5PsqlQxAEDA8PY2hoCD/+8Y+xZcsWPP/889i6dStaWlrw7rvvYmhoaL4Pc0mQy+XQarUIhUJIpVLT/r6xsTGMjo7Seb+AUQDIEbPZjKqqKgwMDODixYsAgJGREezbtw/r16+Hw+Gg7J8c4jgOtbW1+NnPfoYHHngAPM+D53n83d/9HRoaGnD06FF8+OGHlII4SxzHged5FBcX49KlSwiHw9P+3u7ubly6dAnl5eVzeIRkNigA5AjHcXj88ccxOjqKU6dOIZ1OY3h4GJ988gm++93vwmazzfchLik8z6OgoAD19fVZUxN6vR4vvfQSVq1ahTfffBPHjx+fx6NcGnQ6HR5//HHs3bsXQ0NDt51aEwSBvZZOp9HT04OhoSE8+eSTNPW5QFEAyKG1a9fCaDSit7cXXV1d6OnpQTgcRn19PdRq9XwfXt4oKSnBM888g+rqavziF79Af38/zUPPgl6vx/PPP4/+/n6cOnUKXq930nsSiQReeuklfPDBB/D7/Th//jxOnjwJo9GIBx98cB6OmkyH/LXXXnttvg9iqeB5Hh0dHeju7sbg4CCuXLkCu92OZ555hrJ/cigcDrNiZNu3b59UDE4ul8NqtUKn0+HLL7/EZ599hq1bt0Kj0dBIdAakBY89PT04fPgw7HY7ysrKsjKCOI6DwWDAe++9h5MnT+Kjjz6C1+vFc889R6VPFjAKADkkk8mQTqdx+fJl/PnPf0YoFMIrr7yCysrKO5YsJvfmbgEAAJRKJSwWC9RqNf74xz8iGo2iqqrqtiUMyO1xHAeFQgGPx4P29nY0NTWhq6sLPM/DaDSC53mIogi5XI6DBw/iyJEjuHz5Murq6vCd73yHHgIvYPRUMsdqampQVlaGvXv3QqVSoaGhgTr/HJPJZNDpdDCZTHd8n81mw2OPPYauri589tlnWLNmDTZv3kwd0gxID91ffPFFHDx4EB0dHejs7ITVamV3t2NjY/D5fFi7di0SiQSUSiWamppgNpvvaQEZuX8oAOSY2WzGo48+inQ6DY/HA4vFQiPOHNNqtVi/fj2Ki4vvGFw5joPT6cSrr74KhUIBpVJ5x4qt5M44jsMjjzyCyspKHDlyBCdPnoTX62XrXlQqFdatW4fHHnsMcrkcTU1NaGtrQ21tLaqqqub56MlUOJFWyxBCZkAQBCQSCRZUpVRcKSj7fD50d3dDLpejrq5uPg+V3AYFAEIIyVM0OU0IIXmKAgAhhOQpCgCEEJKnKAAQQkieogBACCF5igIAIYTkKQoAhBCSpygAEEJInqIAQAgheYoCACGE5CkKAIQQkqcoABBCSJ6iAEAIIXmKAgAhhOQpCgCEEJKnKAAQQkieogBACCF5igIAIYTkKQoAhBCSpygAEEJInqIAQAgheYoCACGE5CkKAIQQkqf+P3IT/kDtHmxwAAAAAElFTkSuQmCC)"
      ],
      "metadata": {
        "id": "kxkn2mVclYL-"
      }
    },
    {
      "cell_type": "code",
      "source": [
        "class Multi_Head_Attention(tf.keras.layers.Layer):\n",
        "  def __init__(self, num_heads, dims):\n",
        "    super(Multi_Head_Attention, self).__init__()\n",
        "\n",
        "    self.dims=dims\n",
        "    self.num_heads = num_heads\n",
        "    self.depth = dims//num_heads\n",
        "\n",
        "    tf.assert_equal(dims%num_heads,0)\n",
        "\n",
        "    self.dq = tf.keras.layers.Dense(dims)\n",
        "    self.dk = tf.keras.layers.Dense(dims)\n",
        "    self.dv = tf.keras.layers.Dense(dims)\n",
        "\n",
        "    self.dense =  tf.keras.layers.Dense(dims)\n",
        "\n",
        "  def split_heads(self, vector):\n",
        "    # [b s dim] ==> [b s head dept]\n",
        "    vector = tf.reshape(vector, shape=[self.batch_size, -1, self.num_heads, self.depth])\n",
        "    # traspose [b s head dept] ==> [b, head, s, depth]\n",
        "    vector = tf.transpose(vector, [0,2,1,3])\n",
        "    return vector\n",
        "\n",
        "  def concat_heads(self, vector):\n",
        "    # [b, head, s, depth] ==> [b, s, head, depth]\n",
        "    vector = tf.transpose(vector,[0,2,1,3])\n",
        "    vector = tf.reshape(vector, shape=[self.batch_size, -1, self.dims])\n",
        "    return vector\n",
        "  \n",
        "  def call(self, q, k, v, mask):\n",
        "\n",
        "    # calculate the batch size\n",
        "    self.batch_size = tf.shape(q)[0]\n",
        "\n",
        "    # [b, s, emb_dim] ==> [b, s, dims]\n",
        "    q = self.dq(q)\n",
        "    k = self.dk(k)\n",
        "    v = self.dv(v)\n",
        "    # split for multi heads [b, s, dims] = [b, head, s, depth]\n",
        "    q = self.split_heads(q)\n",
        "    k = self.split_heads(k)\n",
        "    v = self.split_heads(v)\n",
        "\n",
        "    # attention\n",
        "    attention, weights = scaled_dot_product_attention(q, k, v, mask)\n",
        "\n",
        "    # concat the heads\n",
        "    attention = self.concat_heads(attention)\n",
        "\n",
        "    # dense layer\n",
        "    dense_out = self.dense(attention)\n",
        "\n",
        "    return dense_out, weights\n",
        "\n",
        "\n"
      ],
      "metadata": {
        "id": "BM1KcrLGklff"
      },
      "execution_count": 30,
      "outputs": []
    },
    {
      "cell_type": "code",
      "source": [
        "# example\n",
        "mha = Multi_Head_Attention(num_heads=8, dims=512)\n",
        "# (batch_size, encoder_sequence, emd_dims)\n",
        "y = pt_embeddings\n",
        "out,weights = mha(y,y,y,None)\n",
        "print('Input shape of q,k,v', y.shape)\n",
        "print('output of mha shape',out.shape)\n",
        "print('shape of attention weights',weights.shape)"
      ],
      "metadata": {
        "colab": {
          "base_uri": "https://localhost:8080/"
        },
        "id": "x32LU8OInpeK",
        "outputId": "3d01b60f-4188-4319-d2fc-48a377f2749e"
      },
      "execution_count": 31,
      "outputs": [
        {
          "output_type": "stream",
          "name": "stdout",
          "text": [
            "Input shape of q,k,v (64, 55, 512)\n",
            "output of mha shape (64, 55, 512)\n",
            "shape of attention weights (64, 8, 55, 55)\n"
          ]
        }
      ]
    },
    {
      "cell_type": "markdown",
      "source": [
        "## Point wise feed forward network\n",
        "Point wise feed forward network consists of two fully-connected layers with a ReLU activation in between"
      ],
      "metadata": {
        "id": "e-BCr9KGQMTn"
      }
    },
    {
      "cell_type": "code",
      "source": [
        "def FFNN(units, dim):\n",
        "  return tf.keras.Sequential([\n",
        "            tf.keras.layers.Dense(units,'relu'),\n",
        "            tf.keras.layers.Dense(dim)\n",
        "  ])"
      ],
      "metadata": {
        "id": "K3JOsU17ugp7"
      },
      "execution_count": 32,
      "outputs": []
    },
    {
      "cell_type": "code",
      "source": [
        "# example\n",
        "ffnn = FFNN(2048,512)\n",
        "out = ffnn(out)\n",
        "print(out.shape)"
      ],
      "metadata": {
        "colab": {
          "base_uri": "https://localhost:8080/"
        },
        "id": "BufMrtDgRvG7",
        "outputId": "994fb19b-e0a3-4036-87d2-5fdc82a781c6"
      },
      "execution_count": 33,
      "outputs": [
        {
          "output_type": "stream",
          "name": "stdout",
          "text": [
            "(64, 55, 512)\n"
          ]
        }
      ]
    },
    {
      "cell_type": "markdown",
      "source": [
        "\n",
        "\n",
        "The input sentence is passed through N encoder layers that generates an output for each token in the sequence.\n",
        "The decoder attends to the encoder's output and its own input (self-attention) to predict the next word.\n",
        "\n",
        "## Encoder Layer\n"
      ],
      "metadata": {
        "id": "Xp6lz4yWScGC"
      }
    },
    {
      "cell_type": "code",
      "source": [
        "class EncoderLayer(tf.keras.layers.Layer):\n",
        "  def __init__(self, dims, dense_units, num_heads, dropout_rate=0.1):\n",
        "    super(EncoderLayer, self).__init__()\n",
        "\n",
        "    self.add_and_norm_1 = tf.keras.layers.LayerNormalization()\n",
        "    self.add_and_norm_2 = tf.keras.layers.LayerNormalization()\n",
        "\n",
        "    self.dropout_1 = tf.keras.layers.Dropout(dropout_rate)\n",
        "    self.dropout_2 = tf.keras.layers.Dropout(dropout_rate)\n",
        "\n",
        "    self.ffnn = FFNN(dense_units, dims)\n",
        "    self.mha = Multi_Head_Attention(num_heads, dims)\n",
        "  \n",
        "  def call(self, x, mask, training):\n",
        "\n",
        "    # multi-head attention\n",
        "    attention_vector, weights = self.mha(x,x,x,mask)\n",
        "    # dropout\n",
        "    vector = self.dropout_1(attention_vector, training=training)\n",
        "    # add and normalize\n",
        "    out1 = self.add_and_norm_1(vector+x)\n",
        "\n",
        "    # FFNN\n",
        "    ffnn_out = self.ffnn(out1)\n",
        "    # dropout\n",
        "    vector = self.dropout_2(ffnn_out, training=training)\n",
        "    # add and normalize\n",
        "    out2 = self.add_and_norm_2(vector + out1)\n",
        "\n",
        "    return out2\n"
      ],
      "metadata": {
        "id": "gfogznXySEPV"
      },
      "execution_count": 34,
      "outputs": []
    },
    {
      "cell_type": "code",
      "source": [
        "# example check\n",
        "enc_layer = EncoderLayer(dims=512, dense_units=2048, num_heads=8)\n",
        "\n",
        "seq_len = tf.shape(pt_embeddings)[1]\n",
        "inp = pt_embeddings + pe[:,:seq_len,:]\n",
        "\n",
        "enc_out = enc_layer(inp, mask=sample_pt_mask, training=True)\n",
        "\n",
        "print('shape of mask :',sample_pt_mask.shape)\n",
        "print('shape of input :',inp.shape)\n",
        "print('shape of output :',enc_out.shape)"
      ],
      "metadata": {
        "id": "Q2nJqZrGUwLf",
        "colab": {
          "base_uri": "https://localhost:8080/"
        },
        "outputId": "3f06473f-7f3c-41c1-f8c7-4f96baa5dd97"
      },
      "execution_count": 35,
      "outputs": [
        {
          "output_type": "stream",
          "name": "stdout",
          "text": [
            "shape of mask : (64, 1, 1, 55)\n",
            "shape of input : (64, 55, 512)\n",
            "shape of output : (64, 55, 512)\n"
          ]
        }
      ]
    },
    {
      "cell_type": "code",
      "source": [
        "# this encoder layer is repeatead many times { n = 6 }\n",
        "x = pt_embeddings + pe[:, :seq_len, :]\n",
        "for i in range(6):\n",
        "  x = enc_layer(x, mask=sample_pt_mask, training=True)\n",
        "\n",
        "print('shape of mask :',sample_pt_mask.shape)\n",
        "print('shape of input [portuguese embedding + pe]:',inp.shape)\n",
        "print('shape of output :',enc_out.shape)"
      ],
      "metadata": {
        "colab": {
          "base_uri": "https://localhost:8080/"
        },
        "id": "249JSWKiZCwG",
        "outputId": "7b1bfb62-e485-416d-9260-85ebf2fee5e2"
      },
      "execution_count": 36,
      "outputs": [
        {
          "output_type": "stream",
          "name": "stdout",
          "text": [
            "shape of mask : (64, 1, 1, 55)\n",
            "shape of input [portuguese embedding + pe]: (64, 55, 512)\n",
            "shape of output : (64, 55, 512)\n"
          ]
        }
      ]
    },
    {
      "cell_type": "markdown",
      "source": [
        "## Decoder Layer\n",
        "\n",
        "As Q receives the output from decoder's first attention block, and K receives the encoder output, the attention weights represent the importance given to the decoder's input based on the encoder's output. In other words, the decoder predicts the next token by looking at the encoder output and self-attending to its own output"
      ],
      "metadata": {
        "id": "UlRKJ00PbCYk"
      }
    },
    {
      "cell_type": "code",
      "source": [
        "class DecoderLayer(tf.keras.layers.Layer):\n",
        "  def __init__(self, dims, dense_units, num_heads, dropout_rate=0.1):\n",
        "    super(DecoderLayer, self).__init__()\n",
        "\n",
        "    self.add_and_norm_1 = tf.keras.layers.LayerNormalization()\n",
        "    self.add_and_norm_2 = tf.keras.layers.LayerNormalization()\n",
        "    self.add_and_norm_3 = tf.keras.layers.LayerNormalization()\n",
        "\n",
        "    self.drop_out_1 = tf.keras.layers.Dense(dims)\n",
        "    self.drop_out_2 = tf.keras.layers.Dense(dims)\n",
        "    self.drop_out_3 = tf.keras.layers.Dense(dims)\n",
        "\n",
        "    self.mha = Multi_Head_Attention(num_heads, dims)\n",
        "    self.ffnn = FFNN(dense_units, dims)\n",
        "\n",
        "  def call(self, inputs, encoder_inputs, mask, training):\n",
        "\n",
        "    # masked multi head attention\n",
        "    attention_vector, attention_weights = self.mha(inputs, inputs, inputs, mask['lookahead'])\n",
        "    # dropout\n",
        "    d1 = self.drop_out_1(attention_vector, training=training)\n",
        "    # add and normalize\n",
        "    n1 =  self.add_and_norm_1( d1 + inputs )\n",
        "\n",
        "    # cross attention\n",
        "    cross_attention_vector, cross_attention_weights = self.mha(q=n1, k=encoder_inputs, v=encoder_inputs, mask=mask['padding'])\n",
        "    # dropout\n",
        "    d2 = self.drop_out_2(cross_attention_vector, training=training)\n",
        "    # add and normalize\n",
        "    n2 = self.add_and_norm_2( d2 + n1)\n",
        "\n",
        "    # FFNN\n",
        "    ffnn_out = self.ffnn(n2)\n",
        "    # dropout\n",
        "    d3 = self.drop_out_3(ffnn_out, training=training)\n",
        "    # add and normalize\n",
        "    n3 = self.add_and_norm_3( d3 + n2 )\n",
        "\n",
        "    return n3, attention_weights, cross_attention_weights\n"
      ],
      "metadata": {
        "id": "CCLI91caahzb"
      },
      "execution_count": 37,
      "outputs": []
    },
    {
      "cell_type": "code",
      "source": [
        "# example decoder layer\n",
        "seq_len = tf.shape(en_embeddings)[1]\n",
        "inp = en_embeddings + pe[:, seq_len, :]\n",
        "decoder_layer = DecoderLayer(dims=512, dense_units=2048, num_heads=8)\n",
        "mask = {'padding':sample_pt_mask, 'lookahead':lookahead_and_padding}\n",
        "\n",
        "dec_out, attention_weights, cross_attention_weights = decoder_layer(inputs=inp, encoder_inputs=enc_out, mask=mask, training=True)\n",
        "\n",
        "print('shape of input [english embedding + pe]',inp.shape)\n",
        "print('shape of encoder output',enc_out.shape)\n",
        "print('shape of lookahead mask', mask['padding'].shape)\n",
        "print('shape of padding mask', mask['lookahead'].shape)\n",
        "print('shape of decoder output :',dec_out.shape)\n",
        "print('shape of attention_weights :',attention_weights.shape)\n",
        "print('shape of cross_attention_weights :',cross_attention_weights.shape)"
      ],
      "metadata": {
        "colab": {
          "base_uri": "https://localhost:8080/"
        },
        "id": "ncQ8xrpe-AS5",
        "outputId": "4f3eeb54-e606-42c2-d9b4-809c9f800b72"
      },
      "execution_count": 38,
      "outputs": [
        {
          "output_type": "stream",
          "name": "stdout",
          "text": [
            "shape of input [english embedding + pe] (64, 46, 512)\n",
            "shape of encoder output (64, 55, 512)\n",
            "shape of lookahead mask (64, 1, 1, 55)\n",
            "shape of padding mask (64, 1, 46, 46)\n",
            "shape of decoder output : (64, 46, 512)\n",
            "shape of attention_weights : (64, 8, 46, 46)\n",
            "shape of cross_attention_weights : (64, 8, 46, 55)\n"
          ]
        }
      ]
    },
    {
      "cell_type": "code",
      "source": [
        "# this decoder layer is repeated many times { n = 6 }\n",
        "x = en_embeddings + pe[:, seq_len, :]\n",
        "for i in range(6):\n",
        "  x,_,_ = decoder_layer(inputs=x, encoder_inputs=enc_out, mask=mask, training=True)\n",
        "\n",
        "print('shape of input [english embedding + pe]',inp.shape)\n",
        "print('shape of decoder output :',dec_out.shape)"
      ],
      "metadata": {
        "colab": {
          "base_uri": "https://localhost:8080/"
        },
        "id": "nl5I50O_FUeI",
        "outputId": "4c2bddad-2748-45c9-fb31-73512b0cf594"
      },
      "execution_count": 39,
      "outputs": [
        {
          "output_type": "stream",
          "name": "stdout",
          "text": [
            "shape of input [english embedding + pe] (64, 46, 512)\n",
            "shape of decoder output : (64, 46, 512)\n"
          ]
        }
      ]
    },
    {
      "cell_type": "markdown",
      "source": [
        "## Encoder\n",
        "\n",
        "The (sinusoidal, non-learned) positional embeddings are initialized with a range of -1.0 to +1.0, but the word-embeddings are initialized with a mean of 0.0 and s.d. of embedding_dim ** -0.5 (0.044 for 512, 0.03125 for 1024).\n",
        "\n",
        "The positional embeddings would overwhelm any signal coming from the word embeddings.\n",
        "\n",
        "The word embeddings are scaled by math.sqrt(embed_dim) (22.6 for 512, 32 for 1024)"
      ],
      "metadata": {
        "id": "z3vQGB5oVpq4"
      }
    },
    {
      "cell_type": "code",
      "source": [
        "class Encoder(tf.keras.layers.Layer):\n",
        "  def __init__(self, num_layers, input_vocab_size, dims, num_heads, dense_units, dropout_rate=0.1, positions=MAX_TOKENS):\n",
        "      super(Encoder, self).__init__()\n",
        "      self.dims = dims\n",
        "      self.embedding = tf.keras.layers.Embedding(input_vocab_size, dims)\n",
        "      self.pe = positional_embedding(positions, dims)\n",
        "      self.encoder_layers = [EncoderLayer(dims, dense_units, num_heads, dropout_rate) for i in tf.range(num_layers)]\n",
        "      self.dropout_layer = tf.keras.layers.Dropout(dropout_rate)\n",
        "\n",
        "  def call(self, inputs, mask, training):\n",
        "      # get the sequence length of the batch\n",
        "      seq_len = tf.shape(inputs)[1]\n",
        "      # potuguese words tokens to embeddings  --> [ batch, seq, dims ]\n",
        "      pt_embeddings = self.embedding(inputs)\n",
        "      # adding positional information\n",
        "      factor = tf.cast(self.dims, dtype=tf.float32)\n",
        "      scaled_pt_embeddings = pt_embeddings * tf.math.sqrt(factor) \n",
        "      meaning_and_position = scaled_pt_embeddings + self.pe[:, :seq_len, :]\n",
        "      # dropout\n",
        "      # [batch, seq, dims]\n",
        "      vector = self.dropout_layer(meaning_and_position, training=training)\n",
        "      # encoder layers\n",
        "      for encoder in self.encoder_layers:\n",
        "        vector = encoder(vector, mask, training)\n",
        "\n",
        "      return vector # [batch, seq, dims]\n",
        "\n"
      ],
      "metadata": {
        "id": "9V1uKWqWGvZK"
      },
      "execution_count": 40,
      "outputs": []
    },
    {
      "cell_type": "markdown",
      "source": [
        "## Decoder"
      ],
      "metadata": {
        "id": "5Gcs-qV0t92r"
      }
    },
    {
      "cell_type": "code",
      "source": [
        "class Decoder(tf.keras.layers.Layer):\n",
        "  def __init__(self, num_layers , output_vocab_size, dims, num_heads,  dense_units, dropout_rate=0.1, positions=MAX_TOKENS):\n",
        "    super(Decoder, self).__init__()\n",
        "    self.dims = dims\n",
        "    self.num_layers=num_layers\n",
        "    self.embedding = tf.keras.layers.Embedding(output_vocab_size, dims)\n",
        "    self.pe = positional_embedding(positions, dims)\n",
        "    self.dropout_layer = tf.keras.layers.Dropout(dropout_rate)\n",
        "    self.decoder_layers = [DecoderLayer(dims, dense_units, num_heads, dropout_rate) for i in range(num_layers)]\n",
        "\n",
        "  def call(self, inputs, encoder_outputs, mask, training):\n",
        "    # english word tokens to embedding --> [batch, seq, dims]\n",
        "    en_embeddings = self.embedding(inputs)\n",
        "    # get the sequence length \n",
        "    seq_len = tf.shape(inputs)[1]\n",
        "    # positional embeddings\n",
        "    factor = tf.cast(self.dims, dtype=tf.float32)\n",
        "    scaled_en_embeddings = en_embeddings * tf.math.sqrt(factor) \n",
        "    meaning_and_position = scaled_en_embeddings + self.pe[:,:seq_len,:]\n",
        "    # dropout\n",
        "    vector = self.dropout_layer(meaning_and_position, training=training)\n",
        "    # decoder layers\n",
        "    decoder_weights = {}\n",
        "    for i in range(self.num_layers):\n",
        "      vector, attention_weights, cross_attention_weights = self.decoder_layers[i](vector, encoder_outputs, mask, training)\n",
        "      decoder_weights[f'attention_weights layer{i}']=attention_weights\n",
        "      decoder_weights[f'cross_attention_weights layer{i}']=cross_attention_weights\n",
        "    # [batch, seq, dims]\n",
        "    return vector , decoder_weights\n"
      ],
      "metadata": {
        "id": "qSo3zL6Oe8v6"
      },
      "execution_count": 41,
      "outputs": []
    },
    {
      "cell_type": "code",
      "source": [
        "# lets check this encoder and decoder\n",
        "\n",
        "encoder = Encoder(num_layers=2, input_vocab_size=pt_vocab_size, dims=512, num_heads=8, dense_units=2048)\n",
        "decoder = Decoder(num_layers=2, output_vocab_size=en_vocab_size, dims=512, num_heads=8, dense_units=2048)\n",
        "\n",
        "enc_output = encoder(sample_pt_batch, sample_pt_mask, training=False)\n",
        "print('shape of encoder input', sample_pt_batch.shape)\n",
        "print('shape of encoder output', enc_output.shape)\n",
        "\n",
        "dec_mask = {'padding':sample_pt_mask, 'lookahead':lookahead_and_padding}\n",
        "dec_output, decoder_weights = decoder(sample_en_batch, enc_output, dec_mask, training=False)\n",
        "print('shape of decoder input', sample_en_batch.shape)\n",
        "print('shape of decoder output', dec_output.shape)"
      ],
      "metadata": {
        "colab": {
          "base_uri": "https://localhost:8080/"
        },
        "id": "U1EtSbhFiAVV",
        "outputId": "d20ca443-7ba5-4adb-84c3-1306a30ee30b"
      },
      "execution_count": 42,
      "outputs": [
        {
          "output_type": "stream",
          "name": "stdout",
          "text": [
            "shape of encoder input (64, 55)\n",
            "shape of encoder output (64, 55, 512)\n",
            "shape of decoder input (64, 46)\n",
            "shape of decoder output (64, 46, 512)\n"
          ]
        }
      ]
    },
    {
      "cell_type": "code",
      "source": [
        "decoder_weights.keys()"
      ],
      "metadata": {
        "colab": {
          "base_uri": "https://localhost:8080/"
        },
        "id": "FlU8lLd7ohgi",
        "outputId": "746e76af-b021-4ef0-dc67-39916e0a0e7b"
      },
      "execution_count": 43,
      "outputs": [
        {
          "output_type": "execute_result",
          "data": {
            "text/plain": [
              "dict_keys(['attention_weights layer0', 'cross_attention_weights layer0', 'attention_weights layer1', 'cross_attention_weights layer1'])"
            ]
          },
          "metadata": {},
          "execution_count": 43
        }
      ]
    },
    {
      "cell_type": "markdown",
      "source": [
        "## Create the transformer model\n",
        "A transformer consists of the encoder, decoder, and a final linear layer. The output of the decoder is the input to the linear layer and its output is returned."
      ],
      "metadata": {
        "id": "6bE5dQPiwptm"
      }
    },
    {
      "cell_type": "code",
      "source": [
        "class Transformer(tf.keras.Model):\n",
        "  def __init__(self, input_vocab_size, output_vocab_size, dims, dense_units, num_heads, num_layers, dropout_rate=0.1, positions=MAX_TOKENS):\n",
        "    super(Transformer, self).__init__()\n",
        "    self.encoder = Encoder(num_layers, input_vocab_size, dims, num_heads, dense_units, dropout_rate, positions)\n",
        "    self.decoder = Decoder(num_layers, output_vocab_size, dims, num_heads, dense_units, dropout_rate, positions)\n",
        "    self.output_layer = tf.keras.layers.Dense(output_vocab_size)\n",
        "    \n",
        "  def create_masks(self, portuguese, english):\n",
        "    mask = {}\n",
        "\n",
        "    input_mask = padding_mask(portuguese)\n",
        "    mask['padding'] = input_mask # [batch, 1, 1, seq]\n",
        "\n",
        "    target_mask = padding_mask(english)\n",
        "    size = tf.shape(english)[1]\n",
        "    lookahead = lookahead_mask(size) # [seq, seq]\n",
        "    mask['lookahead'] = tf.maximum(target_mask, lookahead) # [batch, 1, seq, seq]\n",
        "\n",
        "    return mask\n",
        "  \n",
        "  def call(self, inputs, training):\n",
        "\n",
        "    portuguese, english = inputs\n",
        "\n",
        "    mask = self.create_masks(portuguese, english)\n",
        "\n",
        "    encoder_output = self.encoder(portuguese, mask['padding'], training) # [batch, seq, dims]\n",
        "\n",
        "    decoder_output, attention_weights = self.decoder(english, encoder_output, mask, training) # [batch, seq, dims]\n",
        "\n",
        "    outputs = self.output_layer(decoder_output) # [batch, seq, output_vocab_size]\n",
        "\n",
        "    return outputs, attention_weights\n",
        "  \n",
        "\n"
      ],
      "metadata": {
        "id": "O1ZJfc_iwdsN"
      },
      "execution_count": 44,
      "outputs": []
    },
    {
      "cell_type": "code",
      "source": [
        "# let check this transformer\n",
        "\n",
        "transformer = Transformer(pt_vocab_size, en_vocab_size, dims=512, dense_units=2048, num_heads=8, num_layers=2)\n",
        "final_output, attention_weights = transformer([sample_pt_batch, sample_en_batch], training=True)"
      ],
      "metadata": {
        "id": "jaFgMLhqrdQ5"
      },
      "execution_count": 45,
      "outputs": []
    },
    {
      "cell_type": "code",
      "source": [
        "print('shape of final output :', final_output.shape) "
      ],
      "metadata": {
        "colab": {
          "base_uri": "https://localhost:8080/"
        },
        "id": "FuGCdoClxH4X",
        "outputId": "b341ba86-f418-41da-a1a6-3b0ee0d63711"
      },
      "execution_count": 46,
      "outputs": [
        {
          "output_type": "stream",
          "name": "stdout",
          "text": [
            "shape of final output : (64, 46, 7010)\n"
          ]
        }
      ]
    },
    {
      "cell_type": "markdown",
      "source": [
        "## Set hyperparameters"
      ],
      "metadata": {
        "id": "xso-udBX06BK"
      }
    },
    {
      "cell_type": "code",
      "source": [
        "num_layers = 4\n",
        "dims = 128\n",
        "dense_units = 512\n",
        "num_heads = 8\n",
        "dropout_rate = 0.1"
      ],
      "metadata": {
        "id": "VAwaXvPw00rp"
      },
      "execution_count": 47,
      "outputs": []
    },
    {
      "cell_type": "markdown",
      "source": [
        "## Optimizer\n",
        "Use the Adam optimizer with a custom learning rate scheduler"
      ],
      "metadata": {
        "id": "vyRGXkpJ226W"
      }
    },
    {
      "cell_type": "code",
      "source": [
        "class CustomSchedule(tf.keras.optimizers.schedules.LearningRateSchedule):\n",
        "  def __init__(self, dims, warmup_steps=4000):\n",
        "    super(CustomSchedule, self).__init__()\n",
        "    self.dims=tf.cast(dims, dtype=tf.float32)\n",
        "    self.warmup_steps = warmup_steps\n",
        "\n",
        "  def __call__(self, step):\n",
        "    arg1 = tf.math.rsqrt(step)\n",
        "    arg2 = step * (self.warmup_steps**-1.5)\n",
        "\n",
        "    lr = tf.math.rsqrt(self.dims) * tf.math.minimum(arg1, arg2)\n",
        "    return lr    \n"
      ],
      "metadata": {
        "id": "7C4DY2pG0_TY"
      },
      "execution_count": 48,
      "outputs": []
    },
    {
      "cell_type": "code",
      "source": [
        "learning_rate = CustomSchedule(dims)\n",
        "\n",
        "optimizer = tf.keras.optimizers.Adam(learning_rate, beta_1=0.9, beta_2=0.98, epsilon=1e-9)"
      ],
      "metadata": {
        "id": "Nl8LCyro5gbb"
      },
      "execution_count": 49,
      "outputs": []
    },
    {
      "cell_type": "code",
      "source": [
        "temp_learning_rate_schedule = CustomSchedule(dims)\n",
        "\n",
        "plt.plot(temp_learning_rate_schedule(tf.range(40000, dtype=tf.float32)))\n",
        "plt.ylabel('Learning Rate')\n",
        "plt.xlabel('Train Step');"
      ],
      "metadata": {
        "colab": {
          "base_uri": "https://localhost:8080/",
          "height": 279
        },
        "id": "SaaOjN7Rmd__",
        "outputId": "1e930450-66d0-4ce9-ea7b-8a4d752c9365"
      },
      "execution_count": 50,
      "outputs": [
        {
          "output_type": "display_data",
          "data": {
            "text/plain": [
              "<Figure size 432x288 with 1 Axes>"
            ],
            "image/png": "[encoded data removed]"
          },
          "metadata": {
            "needs_background": "light"
          }
        }
      ]
    },
    {
      "cell_type": "markdown",
      "source": [
        "## Loss and metrics\n",
        "Since the target sequences are padded, it is important to apply a padding mask when calculating the loss."
      ],
      "metadata": {
        "id": "z58jcuM-qo9B"
      }
    },
    {
      "cell_type": "code",
      "source": [
        "loss_obj = tf.keras.losses.SparseCategoricalCrossentropy(from_logits=True, reduction='none')"
      ],
      "metadata": {
        "id": "7Yjorlq9moxp"
      },
      "execution_count": 51,
      "outputs": []
    },
    {
      "cell_type": "code",
      "source": [
        "def loss_function(real, preds):\n",
        "  mask = tf.math.not_equal(real, 0)\n",
        "  loss = loss_obj(real, preds)\n",
        "  mask = tf.cast(mask, dtype=loss.dtype)\n",
        "  loss *= mask\n",
        "  return tf.reduce_sum(loss)/tf.reduce_sum(mask)  "
      ],
      "metadata": {
        "id": "ER1YiQztoOtl"
      },
      "execution_count": 52,
      "outputs": []
    },
    {
      "cell_type": "code",
      "source": [
        "def accuracy_function(real, preds):\n",
        "  mask = tf.math.not_equal(real, 0)\n",
        "  acc = tf.math.equal(real, tf.argmax(preds, axis=-1))\n",
        "  acc = tf.math.logical_and(acc, mask)\n",
        "  acc = tf.cast(acc, dtype=tf.float32)\n",
        "  mask = tf.cast(mask, dtype=tf.float32)\n",
        "  return tf.reduce_sum(acc)/tf.reduce_sum(mask)"
      ],
      "metadata": {
        "id": "67rtIkAgsfKO"
      },
      "execution_count": 53,
      "outputs": []
    },
    {
      "cell_type": "code",
      "source": [
        "train_loss = tf.keras.metrics.Mean(name='training loss')\n",
        "train_accuracy = tf.keras.metrics.Mean(name='training accuracy')"
      ],
      "metadata": {
        "id": "Iv2QmFnQuGS8"
      },
      "execution_count": 54,
      "outputs": []
    },
    {
      "cell_type": "markdown",
      "source": [
        "## Training and checkpointing"
      ],
      "metadata": {
        "id": "g_C6Ipwtx7ke"
      }
    },
    {
      "cell_type": "code",
      "source": [
        "transformer = Transformer(input_vocab_size=pt_vocab_size,\n",
        "                          output_vocab_size=en_vocab_size,\n",
        "                          dims=dims,\n",
        "                          dense_units=dense_units,\n",
        "                          num_heads=num_heads,\n",
        "                          num_layers=num_layers,\n",
        "                          dropout_rate=0.1,\n",
        "                          positions=MAX_TOKENS)"
      ],
      "metadata": {
        "id": "lZBARv8xue-L"
      },
      "execution_count": 55,
      "outputs": []
    },
    {
      "cell_type": "markdown",
      "source": [
        "Create the checkpoint path and the checkpoint manager. This will be used to save checkpoints every n epochs."
      ],
      "metadata": {
        "id": "xZovFQ-YynIL"
      }
    },
    {
      "cell_type": "code",
      "source": [
        "checkpoint_path = './checkpoint/train'\n",
        "\n",
        "ckpt = tf.train.Checkpoint(transformer=transformer, optimizer=optimizer)\n",
        "\n",
        "ckpt_manager = tf.train.CheckpointManager(ckpt, checkpoint_path, max_to_keep=5)\n",
        "\n",
        "# if a checkpoint exist, restore the latest checkpoint\n",
        "if ckpt_manager.latest_checkpoint:\n",
        "  ckpt.restore(ckpt_manager.latest_checkpoint)\n",
        "  print('Latest checkpoint restored')"
      ],
      "metadata": {
        "id": "Ow3qwLoWybrG"
      },
      "execution_count": 56,
      "outputs": []
    },
    {
      "cell_type": "code",
      "source": [
        "EPOCHS = 20"
      ],
      "metadata": {
        "id": "3gc3sRhOyuTx"
      },
      "execution_count": 57,
      "outputs": []
    },
    {
      "cell_type": "code",
      "source": [
        "sig=[tf.TensorSpec(shape=(None, None), dtype=tf.int64), tf.TensorSpec(shape=(None, None), dtype=tf.int64) ]\n",
        "\n",
        "@tf.function(input_signature=sig)\n",
        "def train_step(inputs, targets):\n",
        "  targets_in = targets[:, :-1]\n",
        "  targets_out = targets[:, 1:]\n",
        "  \n",
        "  with tf.GradientTape() as tape:\n",
        "    preds, _ = transformer([inputs, targets_in], training=True)\n",
        "    loss = loss_function(targets_out, preds)\n",
        "\n",
        "\n",
        "  gradients = tape.gradient(loss, transformer.trainable_variables)\n",
        "  optimizer.apply_gradients(zip(gradients, transformer.trainable_variables ))\n",
        "\n",
        "  accuracy = accuracy_function(targets_out, preds)\n",
        "  train_accuracy(accuracy)\n",
        "  train_loss(loss)"
      ],
      "metadata": {
        "id": "zVZqr3pzlihJ"
      },
      "execution_count": 58,
      "outputs": []
    },
    {
      "cell_type": "code",
      "source": [
        "import time"
      ],
      "metadata": {
        "id": "Qa55aYKhroRr"
      },
      "execution_count": 59,
      "outputs": []
    },
    {
      "cell_type": "code",
      "source": [
        "for epoch in range(EPOCHS):\n",
        "  start_time = time.time()\n",
        "\n",
        "  train_loss.reset_states()\n",
        "  train_accuracy.reset_states()\n",
        "\n",
        "  for (batch, (inp, targ)) in enumerate(train_batches):\n",
        "    train_step(inp, targ)\n",
        "    if batch%50==0:\n",
        "      print(f'Epoch:{epoch} loss:{train_loss.result()} accuracy:{train_accuracy.result()}')\n",
        "    \n",
        "    \n",
        "\n",
        "  if (epoch+1) % 5 ==0:\n",
        "    ckpt_path = ckpt_manager.save()\n",
        "    print(f\"Checkpoint saved for {epoch} at {ckpt_path}\")\n",
        "  \n",
        "  print(f'Epoch:{epoch} loss:{train_loss.result()} accuracy:{train_accuracy.result()}')\n",
        "  print(f'Time taken {time.time()-start_time} sec')\n",
        "\n"
      ],
      "metadata": {
        "colab": {
          "base_uri": "https://localhost:8080/"
        },
        "id": "05pmeRwZo4um",
        "outputId": "d1a2c4be-cbd7-4aa0-9314-6a1f6501174f"
      },
      "execution_count": 60,
      "outputs": [
        {
          "output_type": "stream",
          "name": "stdout",
          "text": [
            "Epoch:0 loss:8.878545761108398 accuracy:0.0008976660901680589\n",
            "Epoch:0 loss:8.80595874786377 accuracy:0.0011531728086993098\n",
            "Epoch:0 loss:8.696603775024414 accuracy:0.021979661658406258\n",
            "Epoch:0 loss:8.577534675598145 accuracy:0.03288805112242699\n",
            "Epoch:0 loss:8.432387351989746 accuracy:0.0428052581846714\n",
            "Epoch:0 loss:8.258000373840332 accuracy:0.05324840545654297\n",
            "Epoch:0 loss:8.065187454223633 accuracy:0.0627763420343399\n",
            "Epoch:0 loss:7.866444110870361 accuracy:0.0711921751499176\n",
            "Epoch:0 loss:7.677919387817383 accuracy:0.07851135730743408\n",
            "Epoch:0 loss:7.507797718048096 accuracy:0.08572711050510406\n",
            "Epoch:0 loss:7.3571319580078125 accuracy:0.09290416538715363\n",
            "Epoch:0 loss:7.218499660491943 accuracy:0.10067281872034073\n",
            "Epoch:0 loss:7.088996410369873 accuracy:0.1079525426030159\n",
            "Epoch:0 loss:6.968545913696289 accuracy:0.11430076509714127\n",
            "Epoch:0 loss:6.856551170349121 accuracy:0.12038902938365936\n",
            "Epoch:0 loss:6.85271692276001 accuracy:0.12066695094108582\n",
            "Time taken 86.28168177604675 sec\n",
            "Epoch:1 loss:5.419963836669922 accuracy:0.20408163964748383\n",
            "Epoch:1 loss:5.301886558532715 accuracy:0.20838236808776855\n",
            "Epoch:1 loss:5.259875774383545 accuracy:0.21202793717384338\n",
            "Epoch:1 loss:5.23865270614624 accuracy:0.2139262557029724\n",
            "Epoch:1 loss:5.209304332733154 accuracy:0.2167567014694214\n",
            "Epoch:1 loss:5.175612926483154 accuracy:0.2202978879213333\n",
            "Epoch:1 loss:5.148532390594482 accuracy:0.22299255430698395\n",
            "Epoch:1 loss:5.117319107055664 accuracy:0.22632507979869843\n",
            "Epoch:1 loss:5.093299388885498 accuracy:0.2283998727798462\n",
            "Epoch:1 loss:5.069065093994141 accuracy:0.23077253997325897\n",
            "Epoch:1 loss:5.044482707977295 accuracy:0.23316065967082977\n",
            "Epoch:1 loss:5.021249771118164 accuracy:0.2355991154909134\n",
            "Epoch:1 loss:4.999362468719482 accuracy:0.23768705129623413\n",
            "Epoch:1 loss:4.97885274887085 accuracy:0.23943962156772614\n",
            "Epoch:1 loss:4.958515167236328 accuracy:0.24142657220363617\n",
            "Time taken 76.00546073913574 sec\n",
            "Epoch:2 loss:4.345729351043701 accuracy:0.31273409724235535\n",
            "Epoch:2 loss:4.660959243774414 accuracy:0.2699553668498993\n",
            "Epoch:2 loss:4.629301071166992 accuracy:0.27225908637046814\n",
            "Epoch:2 loss:4.626205921173096 accuracy:0.2723154127597809\n",
            "Epoch:2 loss:4.6234869956970215 accuracy:0.2722932994365692\n",
            "Epoch:2 loss:4.60576057434082 accuracy:0.27396172285079956\n",
            "Epoch:2 loss:4.59106969833374 accuracy:0.27521952986717224\n",
            "Epoch:2 loss:4.575994968414307 accuracy:0.2765257954597473\n",
            "Epoch:2 loss:4.563802242279053 accuracy:0.27749934792518616\n",
            "Epoch:2 loss:4.551565647125244 accuracy:0.2785496413707733\n",
            "Epoch:2 loss:4.536561489105225 accuracy:0.2800368070602417\n",
            "Epoch:2 loss:4.523656845092773 accuracy:0.2811291515827179\n",
            "Epoch:2 loss:4.5104475021362305 accuracy:0.2824207544326782\n",
            "Epoch:2 loss:4.497270107269287 accuracy:0.2836053669452667\n",
            "Epoch:2 loss:4.486440181732178 accuracy:0.28447484970092773\n",
            "Time taken 74.81924653053284 sec\n",
            "Epoch:3 loss:4.383819103240967 accuracy:0.30305755138397217\n",
            "Epoch:3 loss:4.297274589538574 accuracy:0.3009940981864929\n",
            "Epoch:3 loss:4.281152248382568 accuracy:0.30246999859809875\n",
            "Epoch:3 loss:4.286895751953125 accuracy:0.30138570070266724\n",
            "Epoch:3 loss:4.2851643562316895 accuracy:0.30122286081314087\n",
            "Epoch:3 loss:4.2704620361328125 accuracy:0.3027435541152954\n",
            "Epoch:3 loss:4.2596259117126465 accuracy:0.30357056856155396\n",
            "Epoch:3 loss:4.246421813964844 accuracy:0.30482399463653564\n",
            "Epoch:3 loss:4.235102653503418 accuracy:0.3056197762489319\n",
            "Epoch:3 loss:4.2232160568237305 accuracy:0.30697348713874817\n",
            "Epoch:3 loss:4.208993911743164 accuracy:0.3084787130355835\n",
            "Epoch:3 loss:4.195000171661377 accuracy:0.30986860394477844\n",
            "Epoch:3 loss:4.181025505065918 accuracy:0.3116087317466736\n",
            "Epoch:3 loss:4.166738510131836 accuracy:0.3130188584327698\n",
            "Epoch:3 loss:4.152098178863525 accuracy:0.3146500885486603\n",
            "Epoch:3 loss:4.150912284851074 accuracy:0.31473416090011597\n",
            "Time taken 75.14778137207031 sec\n",
            "Epoch:4 loss:3.7218875885009766 accuracy:0.3915950357913971\n",
            "Epoch:4 loss:3.918259620666504 accuracy:0.3387552797794342\n",
            "Epoch:4 loss:3.887899160385132 accuracy:0.34233108162879944\n",
            "Epoch:4 loss:3.882221221923828 accuracy:0.3443150222301483\n",
            "Epoch:4 loss:3.8718509674072266 accuracy:0.3455567955970764\n",
            "Epoch:4 loss:3.8538739681243896 accuracy:0.34809619188308716\n",
            "Epoch:4 loss:3.8362157344818115 accuracy:0.3500542640686035\n",
            "Epoch:4 loss:3.8161137104034424 accuracy:0.35231563448905945\n",
            "Epoch:4 loss:3.8012518882751465 accuracy:0.35388970375061035\n",
            "Epoch:4 loss:3.785053014755249 accuracy:0.3559054136276245\n",
            "Epoch:4 loss:3.768705129623413 accuracy:0.35771557688713074\n",
            "Epoch:4 loss:3.7528367042541504 accuracy:0.3596811294555664\n",
            "Epoch:4 loss:3.736940622329712 accuracy:0.3617662191390991\n",
            "Epoch:4 loss:3.7203292846679688 accuracy:0.36401596665382385\n",
            "Epoch:4 loss:3.70454740524292 accuracy:0.3660634458065033\n",
            "Checkpoint saved for 4 at ./checkpoint/train/ckpt-1\n",
            "Epoch:4 loss:3.70454740524292 accuracy:0.3660634458065033\n",
            "Time taken 75.19917845726013 sec\n",
            "Epoch:5 loss:3.7321767807006836 accuracy:0.361596018075943\n",
            "Epoch:5 loss:3.4469921588897705 accuracy:0.4010401666164398\n",
            "Epoch:5 loss:3.4211854934692383 accuracy:0.4031412601470947\n",
            "Epoch:5 loss:3.433637857437134 accuracy:0.40166398882865906\n",
            "Epoch:5 loss:3.425442695617676 accuracy:0.40298742055892944\n",
            "Epoch:5 loss:3.411201000213623 accuracy:0.4046359956264496\n",
            "Epoch:5 loss:3.396519184112549 accuracy:0.4064004123210907\n",
            "Epoch:5 loss:3.3795387744903564 accuracy:0.4084474742412567\n",
            "Epoch:5 loss:3.3683276176452637 accuracy:0.40972238779067993\n",
            "Epoch:5 loss:3.3558132648468018 accuracy:0.4114699959754944\n",
            "Epoch:5 loss:3.3401405811309814 accuracy:0.4134751856327057\n",
            "Epoch:5 loss:3.325759172439575 accuracy:0.4151704013347626\n",
            "Epoch:5 loss:3.313544511795044 accuracy:0.41686803102493286\n",
            "Epoch:5 loss:3.3003838062286377 accuracy:0.4185449779033661\n",
            "Epoch:5 loss:3.287365436553955 accuracy:0.42031556367874146\n",
            "Epoch:5 loss:3.286280632019043 accuracy:0.4204450845718384\n",
            "Time taken 75.75856351852417 sec\n",
            "Epoch:6 loss:3.2959518432617188 accuracy:0.4235962927341461\n",
            "Epoch:6 loss:3.092768430709839 accuracy:0.4440658688545227\n",
            "Epoch:6 loss:3.0586471557617188 accuracy:0.4487411677837372\n",
            "Epoch:6 loss:3.055152177810669 accuracy:0.44962042570114136\n",
            "Epoch:6 loss:3.0477845668792725 accuracy:0.45126914978027344\n",
            "Epoch:6 loss:3.0340499877929688 accuracy:0.45312049984931946\n",
            "Epoch:6 loss:3.021327018737793 accuracy:0.45461925864219666\n",
            "Epoch:6 loss:3.0067925453186035 accuracy:0.45639216899871826\n",
            "Epoch:6 loss:2.992899179458618 accuracy:0.4579124450683594\n",
            "Epoch:6 loss:2.9818689823150635 accuracy:0.4594300389289856\n",
            "Epoch:6 loss:2.9653549194335938 accuracy:0.46148040890693665\n",
            "Epoch:6 loss:2.9531259536743164 accuracy:0.46296384930610657\n",
            "Epoch:6 loss:2.9417593479156494 accuracy:0.46435078978538513\n",
            "Epoch:6 loss:2.9301416873931885 accuracy:0.46589723229408264\n",
            "Epoch:6 loss:2.9181206226348877 accuracy:0.467546671628952\n",
            "Epoch:6 loss:2.9171030521392822 accuracy:0.4676981270313263\n",
            "Time taken 75.43066549301147 sec\n",
            "Epoch:7 loss:2.934451103210449 accuracy:0.4764285683631897\n",
            "Epoch:7 loss:2.733009099960327 accuracy:0.4905279576778412\n",
            "Epoch:7 loss:2.707042694091797 accuracy:0.49442756175994873\n",
            "Epoch:7 loss:2.7165911197662354 accuracy:0.4937319755554199\n",
            "Epoch:7 loss:2.7131943702697754 accuracy:0.4948379695415497\n",
            "Epoch:7 loss:2.704258918762207 accuracy:0.4958944618701935\n",
            "Epoch:7 loss:2.6957614421844482 accuracy:0.49650782346725464\n",
            "Epoch:7 loss:2.684415578842163 accuracy:0.4978734254837036\n",
            "Epoch:7 loss:2.67446231842041 accuracy:0.4990730285644531\n",
            "Epoch:7 loss:2.665750026702881 accuracy:0.5004358887672424\n",
            "Epoch:7 loss:2.6541666984558105 accuracy:0.5018919706344604\n",
            "Epoch:7 loss:2.644785165786743 accuracy:0.5029725432395935\n",
            "Epoch:7 loss:2.636141538619995 accuracy:0.5042256116867065\n",
            "Epoch:7 loss:2.6287081241607666 accuracy:0.5052086114883423\n",
            "Epoch:7 loss:2.6217308044433594 accuracy:0.5061411261558533\n",
            "Time taken 74.93199563026428 sec\n",
            "Epoch:8 loss:2.6955654621124268 accuracy:0.49023860692977905\n",
            "Epoch:8 loss:2.4808433055877686 accuracy:0.523867130279541\n",
            "Epoch:8 loss:2.463207721710205 accuracy:0.5266348719596863\n",
            "Epoch:8 loss:2.4706192016601562 accuracy:0.5263718962669373\n",
            "Epoch:8 loss:2.475003480911255 accuracy:0.5265170335769653\n",
            "Epoch:8 loss:2.4681787490844727 accuracy:0.5276089310646057\n",
            "Epoch:8 loss:2.459536075592041 accuracy:0.5286439657211304\n",
            "Epoch:8 loss:2.4477062225341797 accuracy:0.5301540493965149\n",
            "Epoch:8 loss:2.440305233001709 accuracy:0.5310150384902954\n",
            "Epoch:8 loss:2.4384188652038574 accuracy:0.5314991474151611\n",
            "Epoch:8 loss:2.4291834831237793 accuracy:0.5327872633934021\n",
            "Epoch:8 loss:2.4222495555877686 accuracy:0.5335532426834106\n",
            "Epoch:8 loss:2.4178569316864014 accuracy:0.5343788862228394\n",
            "Epoch:8 loss:2.4124562740325928 accuracy:0.5351341366767883\n",
            "Epoch:8 loss:2.4057507514953613 accuracy:0.5360679626464844\n",
            "Time taken 74.3632390499115 sec\n",
            "Epoch:9 loss:2.384437084197998 accuracy:0.5257879495620728\n",
            "Epoch:9 loss:2.3227577209472656 accuracy:0.5469624996185303\n",
            "Epoch:9 loss:2.2866387367248535 accuracy:0.5504722595214844\n",
            "Epoch:9 loss:2.292071580886841 accuracy:0.5500586628913879\n",
            "Epoch:9 loss:2.295593738555908 accuracy:0.5501507520675659\n",
            "Epoch:9 loss:2.2868552207946777 accuracy:0.551314651966095\n",
            "Epoch:9 loss:2.2803285121917725 accuracy:0.5519976019859314\n",
            "Epoch:9 loss:2.2744598388671875 accuracy:0.5529864430427551\n",
            "Epoch:9 loss:2.2699098587036133 accuracy:0.5535619258880615\n",
            "Epoch:9 loss:2.2678139209747314 accuracy:0.5538784265518188\n",
            "Epoch:9 loss:2.2583119869232178 accuracy:0.5553845763206482\n",
            "Epoch:9 loss:2.2525744438171387 accuracy:0.5560899376869202\n",
            "Epoch:9 loss:2.2504940032958984 accuracy:0.5568850636482239\n",
            "Epoch:9 loss:2.248486042022705 accuracy:0.5571268200874329\n",
            "Epoch:9 loss:2.242011785507202 accuracy:0.5582119822502136\n",
            "Checkpoint saved for 9 at ./checkpoint/train/ckpt-2\n",
            "Epoch:9 loss:2.242189407348633 accuracy:0.5581036806106567\n",
            "Time taken 75.66499328613281 sec\n",
            "Epoch:10 loss:2.2044944763183594 accuracy:0.541050910949707\n",
            "Epoch:10 loss:2.1560463905334473 accuracy:0.5699381828308105\n",
            "Epoch:10 loss:2.1284403800964355 accuracy:0.573366105556488\n",
            "Epoch:10 loss:2.1388461589813232 accuracy:0.571789562702179\n",
            "Epoch:10 loss:2.1440391540527344 accuracy:0.571360170841217\n",
            "Epoch:10 loss:2.1411819458007812 accuracy:0.5718438029289246\n",
            "Epoch:10 loss:2.133845329284668 accuracy:0.5732612013816833\n",
            "Epoch:10 loss:2.1276495456695557 accuracy:0.5743700265884399\n",
            "Epoch:10 loss:2.125763416290283 accuracy:0.5743138194084167\n",
            "Epoch:10 loss:2.125004768371582 accuracy:0.5746192932128906\n",
            "Epoch:10 loss:2.1178059577941895 accuracy:0.5756248831748962\n",
            "Epoch:10 loss:2.114117383956909 accuracy:0.5761542320251465\n",
            "Epoch:10 loss:2.1140060424804688 accuracy:0.5763908624649048\n",
            "Epoch:10 loss:2.1120266914367676 accuracy:0.5767083764076233\n",
            "Epoch:10 loss:2.108431100845337 accuracy:0.5773427486419678\n",
            "Epoch:10 loss:2.108431100845337 accuracy:0.5773427486419678\n",
            "Time taken 75.22854518890381 sec\n",
            "Epoch:11 loss:2.0764760971069336 accuracy:0.5809273719787598\n",
            "Epoch:11 loss:2.0414373874664307 accuracy:0.5876613855361938\n",
            "Epoch:11 loss:2.0146093368530273 accuracy:0.5905338525772095\n",
            "Epoch:11 loss:2.024571180343628 accuracy:0.5898590683937073\n",
            "Epoch:11 loss:2.0341267585754395 accuracy:0.5890940427780151\n",
            "Epoch:11 loss:2.031345844268799 accuracy:0.5893970727920532\n",
            "Epoch:11 loss:2.020176887512207 accuracy:0.5908028483390808\n",
            "Epoch:11 loss:2.016566276550293 accuracy:0.5916268825531006\n",
            "Epoch:11 loss:2.013278007507324 accuracy:0.5918494462966919\n",
            "Epoch:11 loss:2.012357234954834 accuracy:0.5921335220336914\n",
            "Epoch:11 loss:2.00490403175354 accuracy:0.5930620431900024\n",
            "Epoch:11 loss:2.001633644104004 accuracy:0.5935019254684448\n",
            "Epoch:11 loss:2.0028560161590576 accuracy:0.5934239625930786\n",
            "Epoch:11 loss:2.001624345779419 accuracy:0.5936503410339355\n",
            "Epoch:11 loss:1.9978322982788086 accuracy:0.5944311618804932\n",
            "Epoch:11 loss:1.9972418546676636 accuracy:0.5944594740867615\n",
            "Time taken 74.40402030944824 sec\n",
            "Epoch:12 loss:2.1745355129241943 accuracy:0.5689530968666077\n",
            "Epoch:12 loss:1.9526257514953613 accuracy:0.5998722314834595\n",
            "Epoch:12 loss:1.9257276058197021 accuracy:0.6034884452819824\n",
            "Epoch:12 loss:1.9345011711120605 accuracy:0.6029366850852966\n",
            "Epoch:12 loss:1.9398106336593628 accuracy:0.6026906371116638\n",
            "Epoch:12 loss:1.9329485893249512 accuracy:0.6032034158706665\n",
            "Epoch:12 loss:1.9255987405776978 accuracy:0.6042008996009827\n",
            "Epoch:12 loss:1.925950050354004 accuracy:0.6040282249450684\n",
            "Epoch:12 loss:1.920360803604126 accuracy:0.6046813726425171\n",
            "Epoch:12 loss:1.9235259294509888 accuracy:0.604486882686615\n",
            "Epoch:12 loss:1.915356993675232 accuracy:0.6057903170585632\n",
            "Epoch:12 loss:1.912672996520996 accuracy:0.6061478853225708\n",
            "Epoch:12 loss:1.9154115915298462 accuracy:0.60603266954422\n",
            "Epoch:12 loss:1.9135490655899048 accuracy:0.606427013874054\n",
            "Epoch:12 loss:1.9108936786651611 accuracy:0.6069006323814392\n",
            "Epoch:12 loss:1.9110766649246216 accuracy:0.6068772077560425\n",
            "Time taken 75.50613975524902 sec\n",
            "Epoch:13 loss:1.792296290397644 accuracy:0.6364359855651855\n",
            "Epoch:13 loss:1.8795764446258545 accuracy:0.6118814945220947\n",
            "Epoch:13 loss:1.842552900314331 accuracy:0.6154495477676392\n",
            "Epoch:13 loss:1.8535624742507935 accuracy:0.6142013072967529\n",
            "Epoch:13 loss:1.858033537864685 accuracy:0.6137464642524719\n",
            "Epoch:13 loss:1.8503538370132446 accuracy:0.6150938868522644\n",
            "Epoch:13 loss:1.8439319133758545 accuracy:0.6162276268005371\n",
            "Epoch:13 loss:1.840876817703247 accuracy:0.6168224811553955\n",
            "Epoch:13 loss:1.8378688097000122 accuracy:0.6172473430633545\n",
            "Epoch:13 loss:1.8419914245605469 accuracy:0.6166966557502747\n",
            "Epoch:13 loss:1.8335373401641846 accuracy:0.6178984045982361\n",
            "Epoch:13 loss:1.83100163936615 accuracy:0.6181347370147705\n",
            "Epoch:13 loss:1.8323487043380737 accuracy:0.6180813908576965\n",
            "Epoch:13 loss:1.8314110040664673 accuracy:0.618311882019043\n",
            "Epoch:13 loss:1.8287760019302368 accuracy:0.6188495755195618\n",
            "Time taken 75.09271025657654 sec\n",
            "Epoch:14 loss:1.9333174228668213 accuracy:0.6111951470375061\n",
            "Epoch:14 loss:1.7993944883346558 accuracy:0.6230921149253845\n",
            "Epoch:14 loss:1.769344687461853 accuracy:0.6272054314613342\n",
            "Epoch:14 loss:1.7794392108917236 accuracy:0.626068115234375\n",
            "Epoch:14 loss:1.7866592407226562 accuracy:0.6248756051063538\n",
            "Epoch:14 loss:1.7784838676452637 accuracy:0.6260048151016235\n",
            "Epoch:14 loss:1.771069049835205 accuracy:0.6272100806236267\n",
            "Epoch:14 loss:1.7678495645523071 accuracy:0.6275768876075745\n",
            "Epoch:14 loss:1.765342354774475 accuracy:0.6277213096618652\n",
            "Epoch:14 loss:1.7676582336425781 accuracy:0.6275249719619751\n",
            "Epoch:14 loss:1.7598069906234741 accuracy:0.6288266777992249\n",
            "Epoch:14 loss:1.7570350170135498 accuracy:0.629201352596283\n",
            "Epoch:14 loss:1.7586225271224976 accuracy:0.6292110085487366\n",
            "Epoch:14 loss:1.7592852115631104 accuracy:0.6291728019714355\n",
            "Epoch:14 loss:1.7576721906661987 accuracy:0.6296446919441223\n",
            "Checkpoint saved for 14 at ./checkpoint/train/ckpt-3\n",
            "Epoch:14 loss:1.7573466300964355 accuracy:0.6296476721763611\n",
            "Time taken 75.44756174087524 sec\n",
            "Epoch:15 loss:1.9912960529327393 accuracy:0.6022099256515503\n",
            "Epoch:15 loss:1.737615704536438 accuracy:0.6324971318244934\n",
            "Epoch:15 loss:1.6976243257522583 accuracy:0.6384953260421753\n",
            "Epoch:15 loss:1.704485535621643 accuracy:0.6376758813858032\n",
            "Epoch:15 loss:1.711577296257019 accuracy:0.636523962020874\n",
            "Epoch:15 loss:1.7066617012023926 accuracy:0.6374125480651855\n",
            "Epoch:15 loss:1.7009793519973755 accuracy:0.6385001540184021\n",
            "Epoch:15 loss:1.6980547904968262 accuracy:0.6391671299934387\n",
            "Epoch:15 loss:1.6927101612091064 accuracy:0.639744758605957\n",
            "Epoch:15 loss:1.6962289810180664 accuracy:0.639375627040863\n",
            "Epoch:15 loss:1.6910412311553955 accuracy:0.6398739218711853\n",
            "Epoch:15 loss:1.6900564432144165 accuracy:0.640067994594574\n",
            "Epoch:15 loss:1.6945929527282715 accuracy:0.6394338607788086\n",
            "Epoch:15 loss:1.6927947998046875 accuracy:0.6398200392723083\n",
            "Epoch:15 loss:1.6893948316574097 accuracy:0.6405116319656372\n",
            "Time taken 73.82255411148071 sec\n",
            "Epoch:16 loss:1.7083932161331177 accuracy:0.648531973361969\n",
            "Epoch:16 loss:1.6853443384170532 accuracy:0.639607846736908\n",
            "Epoch:16 loss:1.6407973766326904 accuracy:0.6469107866287231\n",
            "Epoch:16 loss:1.6500011682510376 accuracy:0.6455458998680115\n",
            "Epoch:16 loss:1.6578611135482788 accuracy:0.6445386409759521\n",
            "Epoch:16 loss:1.6494780778884888 accuracy:0.6461560130119324\n",
            "Epoch:16 loss:1.643435001373291 accuracy:0.6470220685005188\n",
            "Epoch:16 loss:1.64119291305542 accuracy:0.6477776765823364\n",
            "Epoch:16 loss:1.6361490488052368 accuracy:0.6484880447387695\n",
            "Epoch:16 loss:1.639119029045105 accuracy:0.6483466029167175\n",
            "Epoch:16 loss:1.6322134733200073 accuracy:0.6491007208824158\n",
            "Epoch:16 loss:1.6310631036758423 accuracy:0.6491442322731018\n",
            "Epoch:16 loss:1.6360734701156616 accuracy:0.6485643982887268\n",
            "Epoch:16 loss:1.6376556158065796 accuracy:0.6483164429664612\n",
            "Epoch:16 loss:1.6361567974090576 accuracy:0.6487483978271484\n",
            "Epoch:16 loss:1.6361539363861084 accuracy:0.6487211585044861\n",
            "Time taken 74.68750262260437 sec\n",
            "Epoch:17 loss:1.883624792098999 accuracy:0.6126760840415955\n",
            "Epoch:17 loss:1.6243743896484375 accuracy:0.6491317749023438\n",
            "Epoch:17 loss:1.5831711292266846 accuracy:0.6557380557060242\n",
            "Epoch:17 loss:1.5943050384521484 accuracy:0.6543583869934082\n",
            "Epoch:17 loss:1.602049469947815 accuracy:0.6538894176483154\n",
            "Epoch:17 loss:1.5947734117507935 accuracy:0.655194878578186\n",
            "Epoch:17 loss:1.5890967845916748 accuracy:0.6560004353523254\n",
            "Epoch:17 loss:1.5845715999603271 accuracy:0.6570218801498413\n",
            "Epoch:17 loss:1.5785566568374634 accuracy:0.6580910086631775\n",
            "Epoch:17 loss:1.5858254432678223 accuracy:0.6570693850517273\n",
            "Epoch:17 loss:1.580892562866211 accuracy:0.6575877666473389\n",
            "Epoch:17 loss:1.5805994272232056 accuracy:0.6575760245323181\n",
            "Epoch:17 loss:1.5870567560195923 accuracy:0.6565006375312805\n",
            "Epoch:17 loss:1.588244080543518 accuracy:0.6563087701797485\n",
            "Epoch:17 loss:1.58895742893219 accuracy:0.6563622951507568\n",
            "Epoch:17 loss:1.588484764099121 accuracy:0.6564812660217285\n",
            "Time taken 74.27503228187561 sec\n",
            "Epoch:18 loss:1.769721269607544 accuracy:0.6353229880332947\n",
            "Epoch:18 loss:1.5851024389266968 accuracy:0.655447244644165\n",
            "Epoch:18 loss:1.5333623886108398 accuracy:0.6638994216918945\n",
            "Epoch:18 loss:1.5422552824020386 accuracy:0.6627826690673828\n",
            "Epoch:18 loss:1.5499062538146973 accuracy:0.6619741916656494\n",
            "Epoch:18 loss:1.5446341037750244 accuracy:0.663084864616394\n",
            "Epoch:18 loss:1.54619562625885 accuracy:0.6626682877540588\n",
            "Epoch:18 loss:1.5436525344848633 accuracy:0.663342297077179\n",
            "Epoch:18 loss:1.5383533239364624 accuracy:0.6641675233840942\n",
            "Epoch:18 loss:1.5444847345352173 accuracy:0.6633111834526062\n",
            "Epoch:18 loss:1.5391789674758911 accuracy:0.6639264225959778\n",
            "Epoch:18 loss:1.5388233661651611 accuracy:0.6638850569725037\n",
            "Epoch:18 loss:1.542596697807312 accuracy:0.6634668111801147\n",
            "Epoch:18 loss:1.5429846048355103 accuracy:0.6634395122528076\n",
            "Epoch:18 loss:1.5429739952087402 accuracy:0.6635485291481018\n",
            "Time taken 73.8959813117981 sec\n",
            "Epoch:19 loss:1.4630383253097534 accuracy:0.6781150102615356\n",
            "Epoch:19 loss:1.5370348691940308 accuracy:0.662699818611145\n",
            "Epoch:19 loss:1.5023905038833618 accuracy:0.6681893467903137\n",
            "Epoch:19 loss:1.5034494400024414 accuracy:0.6683477163314819\n",
            "Epoch:19 loss:1.5119081735610962 accuracy:0.6675150394439697\n",
            "Epoch:19 loss:1.5063177347183228 accuracy:0.668459951877594\n",
            "Epoch:19 loss:1.5026202201843262 accuracy:0.6691464185714722\n",
            "Epoch:19 loss:1.4970263242721558 accuracy:0.6706312298774719\n",
            "Epoch:19 loss:1.4916514158248901 accuracy:0.6714314818382263\n",
            "Epoch:19 loss:1.4997217655181885 accuracy:0.6704427003860474\n",
            "Epoch:19 loss:1.4935262203216553 accuracy:0.6712814569473267\n",
            "Epoch:19 loss:1.4930031299591064 accuracy:0.6710852384567261\n",
            "Epoch:19 loss:1.4973264932632446 accuracy:0.6705700755119324\n",
            "Epoch:19 loss:1.4974558353424072 accuracy:0.6706122756004333\n",
            "Checkpoint saved for 19 at ./checkpoint/train/ckpt-4\n",
            "Epoch:19 loss:1.4962965250015259 accuracy:0.6709904074668884\n",
            "Time taken 74.64180207252502 sec\n"
          ]
        }
      ]
    },
    {
      "cell_type": "markdown",
      "source": [
        "## Making prediction"
      ],
      "metadata": {
        "id": "WcG-2Bxkb-xq"
      }
    },
    {
      "cell_type": "code",
      "source": [
        "sentence = 'este é um problema que temos que resolver.'\n",
        "ground_truth = 'this is a problem we have to solve .'"
      ],
      "metadata": {
        "id": "SzmKEYxwb-kC"
      },
      "execution_count": 61,
      "outputs": []
    },
    {
      "cell_type": "markdown",
      "source": [
        "## START & END token"
      ],
      "metadata": {
        "id": "ECWthmnAYZ0W"
      }
    },
    {
      "cell_type": "code",
      "source": [
        "# we need to extract START and END tokens\n",
        "print(tokenizer.pt.lookup(tokenizer.pt.tokenize([''])))\n",
        "start_end = tokenizer.pt.tokenize([''])[0]\n",
        "print('extract START and END tokens ',start_end)\n",
        "\n",
        "start = start_end[0][tf.newaxis]\n",
        "end = start_end[1][tf.newaxis]\n",
        "\n",
        "print('Start',start)\n",
        "print('End',end)"
      ],
      "metadata": {
        "colab": {
          "base_uri": "https://localhost:8080/"
        },
        "id": "xEJF1QXW5Pa5",
        "outputId": "f5bfac11-0b24-475f-c1b7-674018bfc8b8"
      },
      "execution_count": 62,
      "outputs": [
        {
          "output_type": "stream",
          "name": "stdout",
          "text": [
            "<tf.RaggedTensor [[b'[START]', b'[END]']]>\n",
            "extract START and END tokens  tf.Tensor([2 3], shape=(2,), dtype=int64)\n",
            "Start tf.Tensor([2], shape=(1,), dtype=int64)\n",
            "End tf.Tensor([3], shape=(1,), dtype=int64)\n"
          ]
        }
      ]
    },
    {
      "cell_type": "markdown",
      "source": [
        "## Prediction example"
      ],
      "metadata": {
        "id": "o1vf8-2NYgyu"
      }
    },
    {
      "cell_type": "code",
      "source": [
        " # `tf.TensorArray` is required here (instead of a python list) so that the\n",
        " # dynamic-loop can be traced by `tf.function`\n",
        "\n",
        "output_array = tf.TensorArray(dtype=tf.int64, size=0, dynamic_size=True)\n",
        "output_array = output_array.write(0,start)\n",
        "output_array.stack()"
      ],
      "metadata": {
        "colab": {
          "base_uri": "https://localhost:8080/"
        },
        "id": "1bNSCsLdWtv_",
        "outputId": "ab9184d8-3761-41be-e1dc-c2a80a2abd7d"
      },
      "execution_count": 63,
      "outputs": [
        {
          "output_type": "execute_result",
          "data": {
            "text/plain": [
              "<tf.Tensor: shape=(1, 1), dtype=int64, numpy=array([[2]])>"
            ]
          },
          "metadata": {},
          "execution_count": 63
        }
      ]
    },
    {
      "cell_type": "code",
      "source": [
        "test_input = tf.constant(sentence)[tf.newaxis]\n",
        "test_tokens = tokenizer.pt.tokenize(test_input)\n",
        "print('input : ',test_tokens)\n",
        "test_tokens = test_tokens.to_tensor() # convert ragged to tensor\n",
        "print(test_tokens)"
      ],
      "metadata": {
        "colab": {
          "base_uri": "https://localhost:8080/"
        },
        "id": "fPf4a6ZUe8Aq",
        "outputId": "ac894314-eb04-449e-db2d-68ca6e4a2d60"
      },
      "execution_count": 64,
      "outputs": [
        {
          "output_type": "stream",
          "name": "stdout",
          "text": [
            "input :  <tf.RaggedTensor [[2, 125, 44, 85, 231, 84, 130, 84, 742, 16, 3]]>\n",
            "tf.Tensor([[  2 125  44  85 231  84 130  84 742  16   3]], shape=(1, 11), dtype=int64)\n"
          ]
        }
      ]
    },
    {
      "cell_type": "code",
      "source": [
        "# prediction example\n",
        "\n",
        "for i in tf.range(MAX_TOKENS):\n",
        "  # we need to transpose because output_array.stack() gives a tensor of shape [ i , 1] \n",
        "  # we need to convert [i, 1] to [1, i] a row with all the predicted tokens  [see next cell below]\n",
        "  vector = tf.transpose(output_array.stack())\n",
        "  predictions, _ = transformer([test_tokens, vector], training=False)\n",
        "  # take the last sequence \n",
        "  prob = predictions[:,-1,:] # (batch_size, 1, vocab_size)\n",
        "  # write it to the output\n",
        "  next_tok = tf.argmax(prob, axis=-1)\n",
        "  output_array = output_array.write(i+1, next_tok)\n",
        "\n",
        "  if next_tok == end:\n",
        "    break \n",
        "\n",
        "# work around for getting attention weights\n",
        "vector = tf.transpose(output_array.stack())\n",
        "_, attention_weights = transformer([test_tokens, vector[:,:-1]], training=False)\n"
      ],
      "metadata": {
        "id": "97AxBLdOfJOX"
      },
      "execution_count": 65,
      "outputs": []
    },
    {
      "cell_type": "code",
      "source": [
        "output_array.stack()"
      ],
      "metadata": {
        "colab": {
          "base_uri": "https://localhost:8080/"
        },
        "id": "ZtYCkRc2hdMW",
        "outputId": "299cba13-3784-470b-fe90-295c661cf685"
      },
      "execution_count": 66,
      "outputs": [
        {
          "output_type": "execute_result",
          "data": {
            "text/plain": [
              "<tf.Tensor: shape=(12, 1), dtype=int64, numpy=\n",
              "array([[  2],\n",
              "       [ 81],\n",
              "       [ 80],\n",
              "       [ 37],\n",
              "       [249],\n",
              "       [ 75],\n",
              "       [ 78],\n",
              "       [ 89],\n",
              "       [ 73],\n",
              "       [855],\n",
              "       [ 15],\n",
              "       [  3]])>"
            ]
          },
          "metadata": {},
          "execution_count": 66
        }
      ]
    },
    {
      "cell_type": "code",
      "source": [
        "tf.transpose(output_array.stack())"
      ],
      "metadata": {
        "colab": {
          "base_uri": "https://localhost:8080/"
        },
        "id": "a8zwu2DGhiR1",
        "outputId": "0d320d5d-ca6c-4015-bd9a-55738fc1e5ab"
      },
      "execution_count": 67,
      "outputs": [
        {
          "output_type": "execute_result",
          "data": {
            "text/plain": [
              "<tf.Tensor: shape=(1, 12), dtype=int64, numpy=array([[  2,  81,  80,  37, 249,  75,  78,  89,  73, 855,  15,   3]])>"
            ]
          },
          "metadata": {},
          "execution_count": 67
        }
      ]
    },
    {
      "cell_type": "code",
      "source": [
        "final_predictions = tf.transpose(output_array.stack())\n",
        "tokenizer.en.lookup(final_predictions)"
      ],
      "metadata": {
        "colab": {
          "base_uri": "https://localhost:8080/"
        },
        "id": "TCgtObXuhpJ1",
        "outputId": "7df0667a-3db1-4a0a-8de6-a4cdef5678fb"
      },
      "execution_count": 68,
      "outputs": [
        {
          "output_type": "execute_result",
          "data": {
            "text/plain": [
              "<tf.Tensor: shape=(1, 12), dtype=string, numpy=\n",
              "array([[b'[START]', b'this', b'is', b'a', b'problem', b'that', b'we',\n",
              "        b'have', b'to', b'solve', b'.', b'[END]']], dtype=object)>"
            ]
          },
          "metadata": {},
          "execution_count": 68
        }
      ]
    },
    {
      "cell_type": "code",
      "source": [
        "attention_weights.keys()"
      ],
      "metadata": {
        "colab": {
          "base_uri": "https://localhost:8080/"
        },
        "id": "k8VVVh-qkjti",
        "outputId": "7c74a714-7023-442f-b328-5efab81b0fb6"
      },
      "execution_count": 69,
      "outputs": [
        {
          "output_type": "execute_result",
          "data": {
            "text/plain": [
              "dict_keys(['attention_weights layer0', 'cross_attention_weights layer0', 'attention_weights layer1', 'cross_attention_weights layer1', 'attention_weights layer2', 'cross_attention_weights layer2', 'attention_weights layer3', 'cross_attention_weights layer3'])"
            ]
          },
          "metadata": {},
          "execution_count": 69
        }
      ]
    },
    {
      "cell_type": "code",
      "source": [
        "print('shape of input tokens',test_tokens.shape)\n",
        "print('shape of output prediction tokens',final_predictions.shape)\n",
        "\n",
        "# shape: (batch=1, num_heads, seq_len_q, seq_len_k)\n",
        "print('shape of attention weights',attention_weights['cross_attention_weights layer3'].shape)"
      ],
      "metadata": {
        "colab": {
          "base_uri": "https://localhost:8080/"
        },
        "id": "D8Uu-qeJ1vCe",
        "outputId": "ba939210-8094-49c2-bc00-f4680673a95e"
      },
      "execution_count": 70,
      "outputs": [
        {
          "output_type": "stream",
          "name": "stdout",
          "text": [
            "shape of input tokens (1, 11)\n",
            "shape of output prediction tokens (1, 12)\n",
            "shape of attention weights (1, 8, 11, 11)\n"
          ]
        }
      ]
    },
    {
      "cell_type": "code",
      "source": [
        "k = [word.decode('utf-8') for word in tokenizer.en.lookup(final_predictions)[0].numpy()]\n",
        "q = [word.decode('utf-8') for word in tokenizer.pt.lookup(test_tokens)[0].numpy()]"
      ],
      "metadata": {
        "id": "pzQQdnwf91cE"
      },
      "execution_count": 71,
      "outputs": []
    },
    {
      "cell_type": "code",
      "source": [
        "# lets create a plot to understand this better\n",
        "attention_heads = attention_weights['cross_attention_weights layer3'][0]\n",
        "fig,axs=plt.subplots(nrows=2, ncols=4, figsize=(16, 8), sharey=True, sharex=True)\n",
        "axs = axs.ravel()\n",
        "for i, head in enumerate(attention_heads):\n",
        "  axs[i].matshow(head)\n",
        "  axs[i].set_xticks(range(head.shape[0]))\n",
        "  axs[i].set_xticklabels(q, rotation=90)\n",
        "  axs[i].set_yticks(range(head.shape[1]))\n",
        "  axs[i].set_yticklabels(k,)\n",
        "\n",
        "\n",
        "plt.subplots_adjust(hspace=0.3)\n",
        "plt.show()  "
      ],
      "metadata": {
        "colab": {
          "base_uri": "https://localhost:8080/",
          "height": 473
        },
        "id": "3YArlqyP11lL",
        "outputId": "de5b9809-0e1f-413e-9e30-ba33cc8ec966"
      },
      "execution_count": 72,
      "outputs": [
        {
          "output_type": "display_data",
          "data": {
            "text/plain": [
              "<Figure size 1152x576 with 8 Axes>"
            ],
            "image/png": "[encoded data removed]"
          },
          "metadata": {
            "needs_background": "light"
          }
        }
      ]
    },
    {
      "cell_type": "markdown",
      "source": [
        "## Translate method"
      ],
      "metadata": {
        "id": "xFrZUcl3B8Ia"
      }
    },
    {
      "cell_type": "code",
      "source": [
        "class Translate(tf.Module):\n",
        "  def __init__(self, transformer, tokenizer):\n",
        "    super(Translate, self).__init__()\n",
        "\n",
        "    self.tokenizer = tokenizer\n",
        "    self.transformer = transformer\n",
        "\n",
        "    # we need start and end tokens\n",
        "    start_end = tokenizer.pt.tokenize([''])[0]\n",
        "    self.start = start_end[0][tf.newaxis]\n",
        "    self.end = start_end[1][tf.newaxis]\n",
        "\n",
        "     # `tf.TensorArray` is required here (instead of a python list) so that the\n",
        "     # dynamic-loop can be traced by `tf.function`\n",
        "\n",
        "    output_array = tf.TensorArray(dtype=tf.int64, size=0, dynamic_size=True)\n",
        "    self.output_array = output_array.write(0, start)\n",
        "\n",
        "\n",
        "  def __call__(self, portuguese, length=MAX_TOKENS):\n",
        "    portuguese = tf.constant(portuguese)[tf.newaxis]\n",
        "    portuguese_tokens = self.tokenizer.pt.tokenize(portuguese).to_tensor()\n",
        "\n",
        "    for i in tf.range(length):\n",
        "      predicted_english = tf.transpose(self.output_array.stack())\n",
        "      predictions, _ = self.transformer([portuguese_tokens, predicted_english], training=False)\n",
        "\n",
        "      # select the last token from the seq_len dimension\n",
        "      prediction_for_last_token = predictions[:, -1, :] # (batch_size, 1, vocab_size)\n",
        "      \n",
        "      predicted_token = tf.argmax(prediction_for_last_token, axis=-1)\n",
        "\n",
        "      self.output_array = self.output_array.write(i+1, predicted_token)\n",
        "\n",
        "      if predicted_token == self.end:\n",
        "        break\n",
        "      \n",
        "    \n",
        "    english_tokens = tf.transpose(self.output_array.stack())\n",
        "\n",
        "    english = self.tokenizer.en.detokenize(english_tokens)\n",
        "\n",
        "    _, attention_weights = self.transformer([portuguese_tokens, english_tokens[:, :-1]], training=False)\n",
        "\n",
        "    output_dict = {\n",
        "        'portuguese_input':portuguese,\n",
        "        'portuguese_tokens':portuguese_tokens,\n",
        "        'portuguese_lookup':self.tokenizer.pt.lookup(portuguese_tokens),\n",
        "\n",
        "        'english_output':english,\n",
        "        'english_tokens':english_tokens,\n",
        "        'english_lookup':self.tokenizer.en.lookup(english_tokens),\n",
        "\n",
        "        'attention_weights':attention_weights \n",
        "    }\n",
        "    return output_dict\n"
      ],
      "metadata": {
        "id": "C74LT8b81Q40"
      },
      "execution_count": 111,
      "outputs": []
    },
    {
      "cell_type": "markdown",
      "source": [
        "## Test translation"
      ],
      "metadata": {
        "id": "maVxHgwGtOO7"
      }
    },
    {
      "cell_type": "code",
      "source": [
        "def translation_util(sentence, to_print=True, to_return=False):\n",
        "  translate = Translate(transformer, tokenizer)\n",
        "  output = translate(sentence)\n",
        "  if to_print:\n",
        "    print('input portuguese : ',sentence)\n",
        "    print('output english : ',output['english_output'].numpy()[0])\n",
        "  if to_return:\n",
        "    return output"
      ],
      "metadata": {
        "id": "XxyoXTTUtROE"
      },
      "execution_count": 100,
      "outputs": []
    },
    {
      "cell_type": "markdown",
      "source": [
        "### example 1"
      ],
      "metadata": {
        "id": "d1K73siSw4t4"
      }
    },
    {
      "cell_type": "code",
      "source": [
        "sentence = 'este é um problema que temos que resolver.'\n",
        "ground_truth = 'this is a problem we have to solve .'\n",
        "\n",
        "translation_util(sentence)"
      ],
      "metadata": {
        "colab": {
          "base_uri": "https://localhost:8080/"
        },
        "id": "mJRX7lWws_Ml",
        "outputId": "aa146f13-5623-4a0e-a055-46f44aae265f"
      },
      "execution_count": 101,
      "outputs": [
        {
          "output_type": "stream",
          "name": "stdout",
          "text": [
            "input portuguese :  este é um problema que temos que resolver.\n",
            "output english :  b'this is a problem that we have to solve .'\n"
          ]
        }
      ]
    },
    {
      "cell_type": "markdown",
      "source": [
        "### example 2"
      ],
      "metadata": {
        "id": "F5iP-VKLw6jh"
      }
    },
    {
      "cell_type": "code",
      "source": [
        "sentence = 'os meus vizinhos ouviram sobre esta ideia.'\n",
        "ground_truth = 'and my neighboring homes heard about this idea .'\n",
        "translation_util(sentence)"
      ],
      "metadata": {
        "colab": {
          "base_uri": "https://localhost:8080/"
        },
        "id": "8-1vPPsttmuk",
        "outputId": "6f2c8890-a52b-4b7d-881e-46691c4e822e"
      },
      "execution_count": 103,
      "outputs": [
        {
          "output_type": "stream",
          "name": "stdout",
          "text": [
            "input portuguese :  os meus vizinhos ouviram sobre esta ideia.\n",
            "output english :  b'my neighbors heard about this idea .'\n"
          ]
        }
      ]
    },
    {
      "cell_type": "markdown",
      "source": [
        "### example 3"
      ],
      "metadata": {
        "id": "ZVL7lqhTxRwJ"
      }
    },
    {
      "cell_type": "code",
      "source": [
        "sentence = 'vou então muito rapidamente partilhar convosco algumas histórias de algumas coisas mágicas que aconteceram.'\n",
        "ground_truth = \"so i'll just share with you some stories very quickly of some magical things that have happened.\"\n",
        "translation_util(sentence)"
      ],
      "metadata": {
        "colab": {
          "base_uri": "https://localhost:8080/"
        },
        "id": "5kXYUojGw9J1",
        "outputId": "b532ecf6-ba60-462a-d670-405d61a3f10e"
      },
      "execution_count": 104,
      "outputs": [
        {
          "output_type": "stream",
          "name": "stdout",
          "text": [
            "input portuguese :  vou então muito rapidamente partilhar convosco algumas histórias de algumas coisas mágicas que aconteceram.\n",
            "output english :  b\"so i ' ll really share with you a few stories that happened to happen .\"\n"
          ]
        }
      ]
    },
    {
      "cell_type": "markdown",
      "source": [
        "### example 4"
      ],
      "metadata": {
        "id": "hyF5F7i-xWwY"
      }
    },
    {
      "cell_type": "code",
      "source": [
        "sentence = 'este é o primeiro livro que eu fiz.'\n",
        "ground_truth = \"this is the first book i've ever done.\"\n",
        "translation_util(sentence)"
      ],
      "metadata": {
        "colab": {
          "base_uri": "https://localhost:8080/"
        },
        "id": "k1KZ--TBxMfA",
        "outputId": "1df7b81b-2a46-4dce-931c-65b9bd2f348f"
      },
      "execution_count": 112,
      "outputs": [
        {
          "output_type": "stream",
          "name": "stdout",
          "text": [
            "input portuguese :  este é o primeiro livro que eu fiz.\n",
            "output english :  b'this is the first book i did .'\n"
          ]
        }
      ]
    },
    {
      "cell_type": "markdown",
      "source": [
        "## Attention plots"
      ],
      "metadata": {
        "id": "LZ2Ilvczx9H4"
      }
    },
    {
      "cell_type": "code",
      "source": [
        "def plot_attention_head(ax, head, k, q):\n",
        "    ax.matshow(head)\n",
        "    ax.set_xticks(range(head.shape[0]))\n",
        "    ax.set_xticklabels(q, rotation=90)\n",
        "    ax.set_yticks(range(head.shape[1]))\n",
        "    ax.set_yticklabels(k,)\n",
        "    return ax\n",
        "\n",
        "\n",
        "def get_params(output):\n",
        "  heads = output['attention_weights']['cross_attention_weights layer3'][0]\n",
        "  k = [word.decode('utf-8') for word in output['english_lookup'].numpy()[0]]\n",
        "  q = [word.decode('utf-8') for word in output['portuguese_lookup'].numpy()[0]]\n",
        "  return heads, k, q\n",
        "\n",
        "def plot_util(output, figsize=(16, 8), sharey=True, sharex=True,**kwargs):\n",
        "\n",
        "  attention_heads, k, q = get_params(output)\n",
        "\n",
        "  # The plot is of the attention when a token was generated.\n",
        "  # The model didn't generate `<START>` in the output. Skip it.\n",
        "  k = k[1:]\n",
        "\n",
        "  fig,axs=plt.subplots(nrows=2, ncols=4, figsize=figsize, sharey=sharey, sharex=sharex)\n",
        "  axs = axs.ravel()\n",
        "  for i, head in enumerate(attention_heads):\n",
        "    axs[i]=plot_attention_head(axs[i], head, k ,q)\n",
        "\n",
        "\n",
        "  plt.subplots_adjust(**kwargs)\n",
        "  plt.show()  "
      ],
      "metadata": {
        "id": "Fz_K2zIYzlXP"
      },
      "execution_count": 151,
      "outputs": []
    },
    {
      "cell_type": "markdown",
      "source": [
        "### plot 1"
      ],
      "metadata": {
        "id": "aZfgS3Zk7JSI"
      }
    },
    {
      "cell_type": "code",
      "source": [
        "sentence = 'este é um problema que temos que resolver.'\n",
        "ground_truth = 'this is a problem we have to solve .'\n",
        "output = translation_util(sentence, to_return=True)"
      ],
      "metadata": {
        "colab": {
          "base_uri": "https://localhost:8080/"
        },
        "id": "2-YLfxJw7Nkn",
        "outputId": "f7fca745-dd71-418d-ba8b-dcb3966ef294"
      },
      "execution_count": 160,
      "outputs": [
        {
          "output_type": "stream",
          "name": "stdout",
          "text": [
            "input portuguese :  este é um problema que temos que resolver.\n",
            "output english :  b'this is a problem that we have to solve .'\n"
          ]
        }
      ]
    },
    {
      "cell_type": "code",
      "source": [
        "plot_util(output, figsize=(20,10), sharex=False, hspace=0.4)"
      ],
      "metadata": {
        "colab": {
          "base_uri": "https://localhost:8080/",
          "height": 632
        },
        "id": "ZUTRRZkm7NJA",
        "outputId": "23c82479-fc7d-4aa9-abb2-3572424ff0a3"
      },
      "execution_count": 161,
      "outputs": [
        {
          "output_type": "display_data",
          "data": {
            "text/plain": [
              "<Figure size 1440x720 with 8 Axes>"
            ],
            "image/png": "[encoded data removed]"
          },
          "metadata": {
            "needs_background": "light"
          }
        }
      ]
    },
    {
      "cell_type": "markdown",
      "source": [
        "### plot 2"
      ],
      "metadata": {
        "id": "7ROQ6iD961i6"
      }
    },
    {
      "cell_type": "code",
      "source": [
        "sentence = 'os meus vizinhos ouviram sobre esta ideia.'\n",
        "ground_truth = 'and my neighboring homes heard about this idea .'\n",
        "output = translation_util(sentence, to_return=True)"
      ],
      "metadata": {
        "colab": {
          "base_uri": "https://localhost:8080/"
        },
        "id": "Ej4uY93n61Pi",
        "outputId": "d9e1ec53-fd80-4168-dbc2-a0de1f41551b"
      },
      "execution_count": 157,
      "outputs": [
        {
          "output_type": "stream",
          "name": "stdout",
          "text": [
            "input portuguese :  os meus vizinhos ouviram sobre esta ideia.\n",
            "output english :  b'my neighbors heard about this idea .'\n"
          ]
        }
      ]
    },
    {
      "cell_type": "code",
      "source": [
        "plot_util(output, figsize=(20,10), sharex=False, hspace=0.4)"
      ],
      "metadata": {
        "colab": {
          "base_uri": "https://localhost:8080/",
          "height": 610
        },
        "id": "vwl-Crbc6_Sa",
        "outputId": "892b3835-f044-4968-a288-40acb9998eb0"
      },
      "execution_count": 159,
      "outputs": [
        {
          "output_type": "display_data",
          "data": {
            "text/plain": [
              "<Figure size 1440x720 with 8 Axes>"
            ],
            "image/png": "[encoded data removed]"
          },
          "metadata": {
            "needs_background": "light"
          }
        }
      ]
    },
    {
      "cell_type": "markdown",
      "source": [
        "### plot 3\n"
      ],
      "metadata": {
        "id": "LMcojoPO6Nmg"
      }
    },
    {
      "cell_type": "code",
      "source": [
        "sentence = 'vou então muito rapidamente partilhar convosco algumas histórias de algumas coisas mágicas que aconteceram.'\n",
        "ground_truth = \"so i'll just share with you some stories very quickly of some magical things that have happened.\"\n",
        "output = translation_util(sentence, to_return=True)"
      ],
      "metadata": {
        "colab": {
          "base_uri": "https://localhost:8080/"
        },
        "id": "NSSzRhMo6NSI",
        "outputId": "8d4e0ce9-cf11-40c9-d5b0-c1ab3f8ce192"
      },
      "execution_count": 153,
      "outputs": [
        {
          "output_type": "stream",
          "name": "stdout",
          "text": [
            "input portuguese :  vou então muito rapidamente partilhar convosco algumas histórias de algumas coisas mágicas que aconteceram.\n",
            "output english :  b\"so i ' ll really share with you a few stories that happened to happen .\"\n"
          ]
        }
      ]
    },
    {
      "cell_type": "code",
      "source": [
        "plot_util(output, figsize=(16,8), sharex=False, hspace=0.4)"
      ],
      "metadata": {
        "colab": {
          "base_uri": "https://localhost:8080/",
          "height": 532
        },
        "id": "oFPZherH6ZCj",
        "outputId": "79b8ba26-6de2-4d8d-9b29-ce7eb462816f"
      },
      "execution_count": 156,
      "outputs": [
        {
          "output_type": "display_data",
          "data": {
            "text/plain": [
              "<Figure size 1152x576 with 8 Axes>"
            ],
            "image/png": "[encoded data removed]"
          },
          "metadata": {
            "needs_background": "light"
          }
        }
      ]
    },
    {
      "cell_type": "markdown",
      "source": [
        "### plot 4"
      ],
      "metadata": {
        "id": "OHdeXWBO6GG5"
      }
    },
    {
      "cell_type": "code",
      "source": [
        "sentence = 'este é o primeiro livro que eu fiz.'\n",
        "ground_truth = \"this is the first book i've ever done.\"\n",
        "output = translation_util(sentence, to_return=True)"
      ],
      "metadata": {
        "colab": {
          "base_uri": "https://localhost:8080/"
        },
        "id": "Figun8Qnxa23",
        "outputId": "04de0163-a040-497b-e35c-ac1e3a016e8b"
      },
      "execution_count": 137,
      "outputs": [
        {
          "output_type": "stream",
          "name": "stdout",
          "text": [
            "input portuguese :  este é o primeiro livro que eu fiz.\n",
            "output english :  b'this is the first book i did .'\n"
          ]
        }
      ]
    },
    {
      "cell_type": "code",
      "source": [
        "plot_util(output, figsize=(20,10), sharex=False)"
      ],
      "metadata": {
        "colab": {
          "base_uri": "https://localhost:8080/",
          "height": 595
        },
        "id": "6LH49ln21wxc",
        "outputId": "7ffbaa4b-7cc4-487e-9baf-547150576a48"
      },
      "execution_count": 152,
      "outputs": [
        {
          "output_type": "display_data",
          "data": {
            "text/plain": [
              "<Figure size 1440x720 with 8 Axes>"
            ],
            "image/png": "[encoded data removed]"
          },
          "metadata": {
            "needs_background": "light"
          }
        }
      ]
    },
    {
      "cell_type": "markdown",
      "source": [
        "### heat map "
      ],
      "metadata": {
        "id": "DUOifdx17kF8"
      }
    },
    {
      "cell_type": "code",
      "source": [
        "head, k, q = get_params(output)\n",
        "\n",
        "plt.figure(figsize=(20,10))\n",
        "sns.heatmap(head[0], annot=True);\n",
        "plt.xticks(range(len(q)), q, rotation=30, ha=\"center\")\n",
        "plt.yticks(range(len(k)), k[1:], va=\"center\")\n",
        "plt.show()"
      ],
      "metadata": {
        "colab": {
          "base_uri": "https://localhost:8080/",
          "height": 623
        },
        "id": "O6vD7abf3HM7",
        "outputId": "7605dbc9-281d-4ba4-f6f0-1ec5e3da8115"
      },
      "execution_count": 178,
      "outputs": [
        {
          "output_type": "display_data",
          "data": {
            "text/plain": [
              "<Figure size 1440x720 with 2 Axes>"
            ],
            "image/png": "[encoded data removed]"
          },
          "metadata": {
            "needs_background": "light"
          }
        }
      ]
    },
    {
      "cell_type": "code",
      "source": [
        ""
      ],
      "metadata": {
        "id": "JsH_IX6n7yKm"
      },
      "execution_count": null,
      "outputs": []
    }
  ]
}